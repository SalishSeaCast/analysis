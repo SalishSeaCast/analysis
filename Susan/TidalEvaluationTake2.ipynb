{
 "cells": [
  {
   "cell_type": "markdown",
   "metadata": {},
   "source": [
    "This notebook will load data, perform a tidal analyis, compare with observations, plot the results, and save the analysis in a spreadsheet.  Eight Tidal Constituents: M2, K1, O1, S2, P1, N2, Q1 and K2 are considered.\n",
    "- Links consistuents that cannot be separated over 40 days\n",
    "- Corrects nodal calculations"
   ]
  },
  {
   "cell_type": "code",
   "execution_count": 34,
   "metadata": {
    "collapsed": false
   },
   "outputs": [],
   "source": [
    "# imports\n",
    "%matplotlib inline\n",
    "import matplotlib.pyplot as plt\n",
    "import numpy as np\n",
    "import netCDF4 as NC\n",
    "from scipy.optimize import curve_fit\n",
    "from salishsea_tools import tidetools\n",
    "from salishsea_tools import viz_tools\n",
    "from salishsea_tools import bathy_tools\n",
    "from salishsea_tools import nc_tools\n",
    "import collections\n",
    "import pandas as pd\n",
    "import csv\n",
    "import math\n",
    "\n",
    "from __future__ import division"
   ]
  },
  {
   "cell_type": "markdown",
   "metadata": {},
   "source": [
    "# Run Details"
   ]
  },
  {
   "cell_type": "markdown",
   "metadata": {},
   "source": [
    "First, let's define the run that we will be analyzing. We can analyze a different run by changing runname in the cell below. A spreadsheet called tide_runs.ods contains a list of runs that we can look at."
   ]
  },
  {
   "cell_type": "code",
   "execution_count": 35,
   "metadata": {
    "collapsed": false
   },
   "outputs": [
    {
     "name": "stdout",
     "output_type": "stream",
     "text": [
      "../../myResults/NEMO36_Tides/downto2/\n"
     ]
    }
   ],
   "source": [
    "# pathname for data - all of the tide runs are stored in this directory\n",
    "#path = '/data/nsoontie/MEOPAR/SalishSea/results/tides/'\n",
    "path = '../../myResults/NEMO36_Tides/'\n",
    "\n",
    "#the run we want to analyze\n",
    "#runname = 'corr15'\n",
    "nemo = '3.6'\n",
    "runname = 'downto2'\n",
    "\n",
    "#joining the two string together\n",
    "name = path +runname +'/'\n",
    "\n",
    "print name\n",
    "if nemo == '3.4':\n",
    "    timeinc = 0\n",
    "elif nemo == '3.6':\n",
    "    timeinc = 3259872000."
   ]
  },
  {
   "cell_type": "markdown",
   "metadata": {},
   "source": [
    "We'll also load the bathymetry data in case we want to look at that. The package **tidetools** has a function get_SS_bathy_data() that returns bathymetry and grid data."
   ]
  },
  {
   "cell_type": "code",
   "execution_count": 36,
   "metadata": {
    "collapsed": true
   },
   "outputs": [],
   "source": [
    "# grid\n",
    "grid = NC.Dataset('../../nemo-forcing/grid/bathy_meter_SalishSea2.nc')\n",
    "bathy, X, Y = tidetools.get_bathy_data(grid)"
   ]
  },
  {
   "cell_type": "markdown",
   "metadata": {},
   "source": [
    "# Observations"
   ]
  },
  {
   "cell_type": "markdown",
   "metadata": {},
   "source": [
    "\n",
    "\n",
    "Next, we can load some observations from a text file: /data/nsoontie/MEOPAR/analysis/compare_tides/obs_tidal_wlev_const_all.csv Note: This file contains a mix of M2/K1 measurements from Foreman et al (1995), US tidal harmonics, Foreman et al (2004) and Foreman et al (2012) (for Northern tides).\n"
   ]
  },
  {
   "cell_type": "code",
   "execution_count": 37,
   "metadata": {
    "collapsed": false
   },
   "outputs": [
    {
     "name": "stdout",
     "output_type": "stream",
     "text": [
      "                  site       lat       lon  M2_amp  M2_pha  K1_amp  K1_pha\n",
      "0                Sooke  48.36700  123.7330    43.8   282.7    56.9   266.4\n",
      "1         Port Angeles  48.12500  123.4400    51.8   307.4    66.9   261.4\n",
      "2           Pedder Bay  48.33100  123.5490    34.2   308.0    62.7   269.0\n",
      "3            Esquimalt  48.43300  123.4330    36.7   317.1    64.3   268.1\n",
      "4         Clover Point  48.40500  123.3470    40.3   320.3    64.2   269.8\n",
      "5             Victoria  48.41700  123.3670    37.3   316.1    62.7   269.2\n",
      "6        Finnerty Cove  48.47300  123.2950    44.7   357.7    70.8   277.5\n",
      "7        Port Townsend  48.14500  122.7550    65.2   350.0    75.0   270.8\n",
      "8               Sidney  48.65000  123.4000    55.4     5.9    76.7   277.6\n",
      "9         Patricia Bay  48.65000  123.4500    60.3    14.4    76.0   281.3\n",
      "10           Maple Bay  48.81700  123.6170    68.5    17.0    79.3   281.2\n",
      "11     Fulford Harbour  48.76700  123.4500    58.2    12.7    75.3   280.0\n",
      "12           Ladysmith  48.98300  123.8000    70.8    16.3    79.8   281.8\n",
      "13        Patos Island  48.78300  122.9670    68.0    25.0    79.0   285.6\n",
      "14       Tumbo Channel  48.79200  123.1080    72.6    31.0    81.1   286.9\n",
      "15          Whaler Bay  48.88500  123.3250    83.4    32.9    84.7   287.5\n",
      "16           Silva Bay  49.15300  123.7000    92.2    32.0    86.5   286.7\n",
      "17            Ferndale  48.83300  122.7170    72.3    23.8    80.1   283.6\n",
      "18              Blaine  48.99000  122.7600    77.4    25.1    82.3   284.3\n",
      "19          Tsawwassen  48.99000  123.1330    81.1    27.8    83.4   284.8\n",
      "20           Sandheads  49.10000  123.3000    86.9    30.9    83.7   286.5\n",
      "21          Point Grey  49.25000  123.2670    94.5    33.9    90.6   287.0\n",
      "22      Point Atkinson  49.33300  123.2500    91.8    31.2    86.2   286.1\n",
      "23            Squamish  49.70000  123.1500    94.2    31.2    87.4   286.8\n",
      "24     Gibsons Landing  49.40000  123.5000    94.7    30.1    87.2   285.2\n",
      "25        Halfmoon Bay  49.51700  123.9170    96.4    31.5    88.0   285.8\n",
      "26     Irvines Landing  49.63300  124.0500    98.8    31.9    88.0   286.7\n",
      "27          Winchelsea  49.30000  124.0830    95.2    32.6    87.5   286.7\n",
      "28       Northwest Bay  49.30000  124.2000    95.6    32.7    87.2   286.7\n",
      "29        Cherry Point  48.86300  122.7570    73.2    21.8    81.5   281.9\n",
      "..                 ...       ...       ...     ...     ...     ...     ...\n",
      "47      Sneeoosh Point  48.40000  122.5467   102.6    18.3    78.4   282.0\n",
      "48          Turner Bay  48.44500  122.5550    94.4    16.7    75.4   281.4\n",
      "49     Armitage Island  48.53500  122.7967    57.3     0.5    75.6   276.4\n",
      "50      Friday Harbour  48.54670  123.0100    56.5     9.7    75.8   278.8\n",
      "51          Richardson  48.44670  122.9000    52.2   340.1    71.3   270.9\n",
      "52        Cherry Point  48.86330  122.7567    73.4    22.8    81.7   282.8\n",
      "53              Blaine  48.99167  122.7650    76.3    24.8    78.4   286.3\n",
      "54        Port Renfrew  48.55000  124.4300    70.8   241.1    45.3   254.1\n",
      "55        Little River  49.74000  124.9200    99.4    32.9    90.2   287.0\n",
      "56         Twin Islets  50.03000  124.9300   101.3    35.4    90.4   287.5\n",
      "57      Campbell River  50.04000  125.2400    82.5    18.4    84.6   284.0\n",
      "58     Seymour Narrows  50.13000  125.3400    94.6   320.1    69.2   272.1\n",
      "59            Owen Bay  50.31000  125.2200    85.0   319.9    67.8   272.7\n",
      "60             Big Bay  50.36000  125.1300    75.5    14.9    83.3   283.5\n",
      "61       Chatham Point  50.33000  125.4400    90.3   305.1    65.4   270.5\n",
      "62        Yorke Island  50.44000  125.9700   117.1   271.8    55.8   260.0\n",
      "63        Powell River  49.86000  124.5500   100.7    34.3    90.4   286.6\n",
      "64                Lund  49.98000  124.7600   102.2    35.4    88.9   287.9\n",
      "65         Nymphe Cove  50.13000  125.3600    61.5   350.4    77.0   279.9\n",
      "66           Brown Bay  50.16000  125.3700    93.5   315.9    67.9   270.1\n",
      "67      Maude Island E  50.13000  125.3300    55.6     7.4    81.1   283.9\n",
      "68     Welsford Island  50.22000  125.1300    99.4    35.1    91.1   286.9\n",
      "69         Redonda Bay  50.26000  124.9900    97.5    36.7    87.1   287.4\n",
      "70     Channel Islands  50.31000  124.7500   102.6    35.9    89.9   288.0\n",
      "71      Turnback Point  50.42000  125.1200   102.0    37.0    91.7   287.6\n",
      "72          Orford Bay  50.59000  124.8600   101.5    37.2    90.3   288.1\n",
      "73  Waddington Harbour  50.87000  124.8700   103.4    38.0    89.2   288.2\n",
      "74           Shoal Bay  50.46000  125.3600    89.9   307.5    66.6   269.6\n",
      "75          Kelsey Bay  50.39000  125.9600   117.0   276.3    57.7   261.4\n",
      "76              Tacoma  47.26670  122.4133   113.9    11.8    83.8   277.9\n",
      "\n",
      "[77 rows x 7 columns]\n"
     ]
    }
   ],
   "source": [
    "filename = '/data/nsoontie/MEOPAR/analysis/compare_tides/obs_tidal_wlev_const_all.csv'\n",
    "filename = '../compare_tides/obs_tidal_wlev_const_all.csv'\n",
    "\n",
    "harm_obs = pd.read_csv(filename,sep=';',header=0)\n",
    "harm_obs = harm_obs.rename(columns={'Site': 'site', 'Lat': 'lat', 'Lon': 'lon', \n",
    "                                    'M2 amp': 'M2_amp', 'M2 phase (deg UT)': 'M2_pha',\n",
    "                                   'K1 amp': 'K1_amp', 'K1 phase (deg UT)': 'K1_pha'})\n",
    "print harm_obs"
   ]
  },
  {
   "cell_type": "markdown",
   "metadata": {},
   "source": [
    "This is a list of observations that we can compare with our model output. Now we have a struc object called harm_obs that contains the data printed above."
   ]
  },
  {
   "cell_type": "code",
   "execution_count": 38,
   "metadata": {
    "collapsed": false
   },
   "outputs": [
    {
     "name": "stdout",
     "output_type": "stream",
     "text": [
      "                  site     lat      lon  O1_amp  O1_pha  P1_amp  P1_pha  \\\n",
      "0             Neah Bay  48.385 -124.616   30.90  231.50   15.50  244.60   \n",
      "1         Port Renfrew  48.537 -124.476   28.30  234.80   14.07  250.60   \n",
      "2         Port Angeles  48.129 -123.400   39.10  241.60   20.70  259.40   \n",
      "3             Victoria  48.413 -123.399   37.00  247.80   19.70  264.60   \n",
      "4        Port Townsend  48.112 -122.758   45.00  249.90   23.90  268.40   \n",
      "5               Bangor  47.748 -122.727   46.60  251.90   26.00  273.90   \n",
      "6              Seattle  47.605 -122.338   45.80  255.40   25.20  274.50   \n",
      "7               Tacoma  47.267 -122.413   45.90  255.10   25.50  277.20   \n",
      "8         Cherry Point  48.863 -122.758   45.60  260.00   25.60  281.40   \n",
      "9        Friday Harbor  48.540 -123.010   42.30  256.40   23.60  274.90   \n",
      "10       Hanbury Point  48.580 -123.172   43.60  253.60   23.40  271.40   \n",
      "11              Sidney  48.658 -123.383   44.40  255.80   24.20  275.20   \n",
      "12     Fulford Harbour  48.765 -123.453   43.00  257.80   23.40  277.80   \n",
      "13        Patos Island  48.783 -122.967   45.50  262.10   24.50  284.60   \n",
      "14          Tsawwassen  48.991 -123.137   47.20  261.80   25.90  282.60   \n",
      "15      Point Atkinson  49.334 -123.250   48.30  263.20   26.80  283.10   \n",
      "16  Winchelsea Islands  49.300 -124.083   47.70  263.50   27.40  286.20   \n",
      "17        Little River  49.744 -124.918   49.26  263.94   28.62  285.67   \n",
      "18         Twin Islets  50.029 -124.936   49.29  264.24   28.62  286.97   \n",
      "19      Campbell River  50.042 -125.247   48.46  263.74   24.60  280.57   \n",
      "20     Seymour Narrows  50.135 -125.347   41.27  254.54   21.28  271.47   \n",
      "21            Owen Bay  50.311 -125.223   38.19  251.34   20.97  267.47   \n",
      "22             Big Bay  50.394 -125.136   46.63  262.44   25.33  282.07   \n",
      "23       Chatham Point  50.332 -125.441   37.46  249.04   20.39  265.97   \n",
      "24        Yorke Island  50.444 -125.975   32.16  241.04   17.10  257.67   \n",
      "25           Alert Bay  50.588 -126.937   30.60  239.84   16.00  251.77   \n",
      "26          Port Hardy  50.720 -127.476   29.70  233.50   15.40  245.50   \n",
      "27       Montagu Point  50.639 -126.213   31.10  237.60   16.60  251.30   \n",
      "28          Siwash Bay  50.680 -125.763   31.30  239.40   17.10  253.20   \n",
      "29      Winter Harbour  50.490 -128.044   27.26  231.20   13.39  242.90   \n",
      "30         Bella Bella  52.177 -128.111   27.80  236.20   14.20  247.20   \n",
      "31              Tofino  49.144 -125.937   24.50  227.20   12.30  237.90   \n",
      "\n",
      "    Q1_amp  Q1_pha  S2_amp  S2_pha  N2_amp  N2_pha  K2_amp  K2_pha  \n",
      "0     5.50  222.10   22.80   272.6   16.60  222.80    6.00  266.40  \n",
      "1     5.04  225.90   21.04   268.7   15.15  217.30    4.92  263.10  \n",
      "2     6.60  232.80   14.60   326.4   11.60  280.10    2.70  332.70  \n",
      "3     6.10  236.00   10.20   332.8    9.10  292.00    2.00  341.90  \n",
      "4     7.40  243.60   16.80    13.0   14.20  321.80    5.00   18.30  \n",
      "5     8.00  247.20   25.70    29.5   20.80  333.50    7.30   28.50  \n",
      "6     7.50  250.60   25.80    37.9   21.20  340.20    7.20   36.50  \n",
      "7     7.60  250.60   28.20    37.8   22.50  341.20    8.20   39.60  \n",
      "8     7.60  253.20   17.90    50.3   15.40  354.50    5.00   50.50  \n",
      "9     6.80  244.00   13.30    34.9   12.20  341.30    3.50   40.60  \n",
      "10    7.50  247.00   12.70    18.0   11.30  324.90    3.80   37.90  \n",
      "11    7.50  247.00   13.20    26.8   12.00  334.60    3.80   37.90  \n",
      "12    7.00  251.60   13.90    37.2   11.90  342.60    3.90   40.00  \n",
      "13    7.80  253.20   16.70    54.8   14.30  354.20    4.90   58.50  \n",
      "14    6.90  258.50   20.00    55.0   17.20    0.20    5.60   59.40  \n",
      "15    7.70  258.80   22.90    59.9   18.40    2.90    6.20   59.90  \n",
      "16    8.00  257.40   23.60    62.0   20.60    5.60    6.40   64.60  \n",
      "17    8.38  257.20   25.02    61.6   21.64    5.42    6.80   62.56  \n",
      "18    7.89  258.59   25.82    64.8   21.82    9.12    6.92   63.66  \n",
      "19    8.08  252.39   20.27    43.6   19.20    2.82    5.42   49.76  \n",
      "20    7.25  244.99   30.27   339.6   20.48  290.52    8.29  333.06  \n",
      "21    6.37  244.89   27.52   339.6   17.89  290.92    6.89  335.26  \n",
      "22    8.20  224.79   19.29    35.3   15.94  346.02    4.72   35.56  \n",
      "23    5.82  243.69   29.44   326.8   19.57  276.22    8.05  322.36  \n",
      "24    5.33  234.89   38.56   301.2   25.73  248.12   10.70  293.76  \n",
      "25    5.18  231.09   40.63   290.0   26.97  237.72   11.19  279.96  \n",
      "26    5.00  224.30   42.00   281.4   27.30  227.80   10.90  276.20  \n",
      "27    5.20  230.40   49.60   292.7   31.60  238.70   12.50  285.50  \n",
      "28    5.20  232.50   50.60   296.7   32.70  242.50   14.00  290.00  \n",
      "29    4.89  224.50   29.55   273.1   20.74  219.00    7.87  265.80  \n",
      "30    4.90  225.60   40.10   280.0   27.10  227.50   10.90  271.10  \n",
      "31    4.40  219.60   27.90   269.5   20.30  215.60    7.60  261.60  \n"
     ]
    }
   ],
   "source": [
    "filename = '../Idalia/other_constituents.csv'\n",
    "\n",
    "harm_other = pd.read_csv(filename,sep=',',header=0)\n",
    "harm_other = harm_other.rename(columns={'Site': 'site', 'Lat': 'lat', 'Lon': 'lon', \n",
    "                                    'O1 amp': 'O1_amp', 'O1 phase (deg UT)': 'O1_pha',\n",
    "                                    'P1 amp': 'P1_amp', 'P1 phase (deg UT)': 'P1_pha',\n",
    "                                    'Q1 amp': 'Q1_amp', 'Q1 phase (deg UT)': 'Q1_pha',\n",
    "                                    'S2 amp': 'S2_amp', 'S2 phase (deg UT)': 'S2_pha',\n",
    "                                    'N2 amp': 'N2_amp', 'N2 phase (deg UT)': 'N2_pha',\n",
    "                                    'K2 amp': 'K2_amp', 'K2 phase (deg UT)': 'K2_pha'})\n",
    "print harm_other"
   ]
  },
  {
   "cell_type": "markdown",
   "metadata": {},
   "source": [
    "# Model"
   ]
  },
  {
   "cell_type": "markdown",
   "metadata": {},
   "source": [
    "We don't have model output at all of the above locations. The model outputs are listed below. There is a location.nc file in the run directory for each of the stations listed below."
   ]
  },
  {
   "cell_type": "code",
   "execution_count": 39,
   "metadata": {
    "collapsed": false
   },
   "outputs": [
    {
     "ename": "RuntimeError",
     "evalue": "No such file or directory",
     "output_type": "error",
     "traceback": [
      "\u001b[1;31m---------------------------------------------------------------------------\u001b[0m",
      "\u001b[1;31mRuntimeError\u001b[0m                              Traceback (most recent call last)",
      "\u001b[1;32m<ipython-input-39-c7c7b96e6d3d>\u001b[0m in \u001b[0;36m<module>\u001b[1;34m()\u001b[0m\n\u001b[0;32m      1\u001b[0m \u001b[1;31m# Testing to Find the Time Shift\u001b[0m\u001b[1;33m\u001b[0m\u001b[1;33m\u001b[0m\u001b[0m\n\u001b[0;32m      2\u001b[0m \u001b[1;33m\u001b[0m\u001b[0m\n\u001b[1;32m----> 3\u001b[1;33m \u001b[0mfPA\u001b[0m \u001b[1;33m=\u001b[0m \u001b[0mNC\u001b[0m\u001b[1;33m.\u001b[0m\u001b[0mDataset\u001b[0m\u001b[1;33m(\u001b[0m\u001b[0mpath\u001b[0m\u001b[1;33m+\u001b[0m\u001b[0mrunname\u001b[0m\u001b[1;33m+\u001b[0m\u001b[1;34m'/F1/PointAtkinson_0000.nc'\u001b[0m\u001b[1;33m)\u001b[0m\u001b[1;33m\u001b[0m\u001b[0m\n\u001b[0m\u001b[0;32m      4\u001b[0m \u001b[1;31m#nc_tools.show_dataset_attrs(fPA)\u001b[0m\u001b[1;33m\u001b[0m\u001b[1;33m\u001b[0m\u001b[0m\n\u001b[0;32m      5\u001b[0m \u001b[0mnc_tools\u001b[0m\u001b[1;33m.\u001b[0m\u001b[0mshow_variables\u001b[0m\u001b[1;33m(\u001b[0m\u001b[0mfPA\u001b[0m\u001b[1;33m)\u001b[0m\u001b[1;33m\u001b[0m\u001b[0m\n",
      "\u001b[1;32mnetCDF4.pyx\u001b[0m in \u001b[0;36mnetCDF4.Dataset.__init__ (netCDF4.c:19736)\u001b[1;34m()\u001b[0m\n",
      "\u001b[1;31mRuntimeError\u001b[0m: No such file or directory"
     ]
    }
   ],
   "source": [
    "# Testing to Find the Time Shift\n",
    "\n",
    "fPA = NC.Dataset(path+runname+'/F1/PointAtkinson_0000.nc')\n",
    "#nc_tools.show_dataset_attrs(fPA)\n",
    "nc_tools.show_variables(fPA)\n",
    "nc_tools.show_variable_attrs(fPA,'time_counter')\n",
    "print fPA.variables['time_counter'][0]-900.\n",
    "print fPA.variables['time_centered'][0]\n",
    "\n",
    "fPO = NC.Dataset('/ocean/sallen/allen/research/MEOPAR/myResults/oldtopog/PointAtkinson.nc')\n",
    "nc_tools.show_variable_attrs(fPO,'time_counter')\n",
    "print fPO.variables['time_counter'][0]"
   ]
  },
  {
   "cell_type": "code",
   "execution_count": 41,
   "metadata": {
    "collapsed": false
   },
   "outputs": [],
   "source": [
    "  stations =  ['PortRenfrew','SheringhamPoint','PedderBay', 'Esquimalt',\n",
    "             'Victoria','CloverPoint','FinnertyCove', 'FulfordHarbour',\n",
    "            'TumboChannel','PatosIsland','WhalerBay', 'Tsawwassen',\n",
    "              'Sandheads', 'PointGrey','PointAtkinson','GibsonsLanding', #'WinchelseaIs',\n",
    "             'HalfmoonBay','IrvinesLanding','PowellRiver', #'LittleRiver', \n",
    "               'Lund',\n",
    "              'TwinIslets','CampbellRiver','MaudeIslandE', 'NympheCove',\n",
    "              'SeymourNarrows','BrownBay','ChathamPoint','KelseyBay','YorkeIsland']\n",
    "numsta=len(stations)\n",
    "#again with spaces because the text file likes that\n",
    "stations_obs =  ['Port Renfrew','Sheringham Point','Pedder Bay', 'Esquimalt',\n",
    "                   'Victoria','Clover Point','Finnerty Cove', 'Fulford Harbour',\n",
    "                    'Tumbo Channel','Patos Island','Whaler Bay', 'Tsawwassen',\n",
    "                   'Sandheads', 'Point Grey','Point Atkinson','Gibsons Landing', #'Winchelsea',\n",
    "                    'Halfmoon Bay','Irvines Landing','Powell River', #'Little River', \n",
    "                     'Lund',\n",
    "                    'Twin Islets','Campbell River','Maude Island E', 'Nymphe Cove',\n",
    "                    'Seymour Narrows','Brown Bay','Chatham Point','Kelsey Bay','Yorke Island']"
   ]
  },
  {
   "cell_type": "markdown",
   "metadata": {},
   "source": [
    "Next, we can plot these locations on a map of our domain."
   ]
  },
  {
   "cell_type": "code",
   "execution_count": 42,
   "metadata": {
    "collapsed": false
   },
   "outputs": [
    {
     "name": "stdout",
     "output_type": "stream",
     "text": [
      "0 Port Renfrew\n",
      "1 Sheringham Point\n",
      "2 Pedder Bay\n",
      "3 Esquimalt\n",
      "4 Victoria\n",
      "5 Clover Point\n",
      "6 Finnerty Cove\n",
      "7 Fulford Harbour\n",
      "8 Tumbo Channel\n",
      "9 Patos Island\n",
      "10 Whaler Bay\n",
      "11 Tsawwassen\n",
      "12 Sandheads\n",
      "13 Point Grey\n",
      "14 Point Atkinson\n",
      "15 Gibsons Landing\n",
      "16 Halfmoon Bay\n",
      "17 Irvines Landing\n",
      "18 Powell River\n",
      "19 Lund\n",
      "20 Twin Islets\n",
      "21 Campbell River\n",
      "22 Maude Island E\n",
      "23 Nymphe Cove\n",
      "24 Seymour Narrows\n",
      "25 Brown Bay\n",
      "26 Chatham Point\n",
      "27 Kelsey Bay\n",
      "28 Yorke Island\n",
      "8 21\n"
     ]
    },
    {
     "data": {
      "image/png": "[encoded data removed]",
      "text/plain": [
       "<matplotlib.figure.Figure at 0x7f7a447fa850>"
      ]
     },
     "metadata": {},
     "output_type": "display_data"
    }
   ],
   "source": [
    "fig,ax=plt.subplots(1, 1, figsize=(8, 10))\n",
    "ax.pcolormesh(X,Y,bathy,cmap='winter_r')\n",
    "\n",
    "for stn in range(numsta):\n",
    "    location = stations_obs[stn]\n",
    "    lon=-harm_obs.lon[harm_obs.site==location]\n",
    "    lat=harm_obs.lat[harm_obs.site==location]\n",
    "    ax.plot(lon,lat,'.k',label=location)\n",
    "    ax.annotate(stn, xy = (lon,lat), xytext = (5,5),ha = 'right', va = 'bottom',\n",
    "        textcoords = 'offset points')\n",
    "    print stn, location\n",
    "    \n",
    "ax.axis([-126.1,-122,47,51])\n",
    "split1=8; split2=21\n",
    "print split1, split2"
   ]
  },
  {
   "cell_type": "markdown",
   "metadata": {},
   "source": [
    "Note: Some day it would be worthwhile to place the numbers more carefully so that they don't overlap."
   ]
  },
  {
   "cell_type": "markdown",
   "metadata": {},
   "source": [
    "# Tidal Harmonics"
   ]
  },
  {
   "cell_type": "code",
   "execution_count": 43,
   "metadata": {
    "collapsed": false
   },
   "outputs": [
    {
     "name": "stdout",
     "output_type": "stream",
     "text": [
      "../../myResults/NEMO36_Tides/downto2/\n",
      "PortRenfrew\n",
      "(1920,)\n",
      "nan\n",
      "../../myResults/NEMO36_Tides/downto2/\n",
      "Victoria\n",
      "(1920,)\n",
      "nan\n",
      "../../myResults/NEMO36_Tides/downto2/\n",
      "PointAtkinson\n",
      "(1920,)\n",
      "nan\n",
      "../../myResults/NEMO36_Tides/downto2/\n",
      "NympheCove\n",
      "(1920,)\n",
      "nan\n",
      "0.25 3259872900.0 3259872000.0\n"
     ]
    },
    {
     "data": {
      "image/png": "[encoded data removed]",
      "text/plain": [
       "<matplotlib.figure.Figure at 0x7f7a44a88d90>"
      ]
     },
     "metadata": {},
     "output_type": "display_data"
    }
   ],
   "source": [
    "fig, ax = plt.subplots(1,1,figsize=(12,5))\n",
    "for stn in (0,4,14,23):\n",
    "    print name\n",
    "    print stations[stn]\n",
    "    fT1 = NC.Dataset(name+stations[stn]+'.nc','r')\n",
    "    time = (fT1.variables[\"time_counter\"][:]-timeinc)/3600.  # want hours not seconds\n",
    "    ssh = fT1.variables[\"sossheig\"][:,0,0]\n",
    "    print ssh.shape\n",
    "    print ssh[719]\n",
    "    ax.plot(time,ssh)\n",
    "print time[0], fT1.variables['time_counter'][0], timeinc"
   ]
  },
  {
   "cell_type": "markdown",
   "metadata": {},
   "source": [
    "We need a way of determing the amplitude and phase of M2/K1/O1/S2 from our model output. We will do this by fitting our model water levels to cosine curves with the known frequency of M2/K1/O1/S2."
   ]
  },
  {
   "cell_type": "code",
   "execution_count": 44,
   "metadata": {
    "collapsed": false
   },
   "outputs": [],
   "source": [
    "#constants and fitting\n",
    "# M2\n",
    "M2freq = 28.984106 # degrees per hour\n",
    "M2freq = M2freq*np.pi/180. # radians per hour\n",
    "#K1\n",
    "K1freq = 15.041069*np.pi/180.\n",
    "#O1\n",
    "O1freq = 13.943036*np.pi/180.\n",
    "#S2\n",
    "S2freq = 30.000002*np.pi/180.\n",
    "#P1\n",
    "P1freq = 14.958932*np.pi/180.\n",
    "#N2\n",
    "N2freq = 28.439730*np.pi/180.\n",
    "#Q1\n",
    "Q1freq = 13.398661*np.pi/180.\n",
    "#K2\n",
    "K2freq = 30.082138*np.pi/180.\n",
    "\n",
    "# initial phase calculation\n",
    "# our start is currently Oct 26, 2002\n",
    "# data for phase output from bdytides.F90; found in ocean.output\n",
    "K1ft = 1.050578\n",
    "K1uvt = 296.314842\n",
    "M2ft = 0.987843\n",
    "M2uvt = 245.888564\n",
    "O1ft = 1.081364\n",
    "O1uvt = 312.950020\n",
    "S2ft = 1.0\n",
    "S2uvt = 0.0\n",
    "P1ft = 1.0\n",
    "P1uvt = 55.79460\n",
    "N2ft = 0.98784\n",
    "N2uvt = 353.570277\n",
    "Q1ft = 1.081364\n",
    "Q1uvt = 60.631733\n",
    "K2ft = 1.114095\n",
    "K2uvt = 52.129248\n",
    "\n",
    "# for start of Apr 21, 2003\n",
    "new = 'true'\n",
    "if new == 'true':\n",
    "\n",
    "    K1ft = 1.065505\n",
    "    K1uvt = 111.481741\n",
    "    M2ft = 0.982328\n",
    "    M2uvt = 250.506179\n",
    "    O1ft = 1.105495\n",
    "    O1uvt = 142.040782\n",
    "    S2ft = 1.000000  \n",
    "    S2uvt = 0.000000\n",
    "    P1ft = 1.000000\n",
    "    P1uvt = 241.335269\n",
    "    N2ft = 0.982328\n",
    "    N2uvt = 205.684028\n",
    "    Q1ft = 1.105495 \n",
    "    Q1uvt = 97.218631\n",
    "    K2ft = 1.159036 \n",
    "    K2uvt = 42.361669\n",
    "    "
   ]
  },
  {
   "cell_type": "markdown",
   "metadata": {},
   "source": [
    "However, with our typical 40-day output, we cannot separate K1 from P1 and K2 from S2.  So we want to work ratios with these."
   ]
  },
  {
   "cell_type": "code",
   "execution_count": 45,
   "metadata": {
    "collapsed": true
   },
   "outputs": [],
   "source": [
    "K1_amp_obs=np.zeros(numsta); K1_pha_obs=np.zeros(numsta)\n",
    "K2_amp_obs=np.zeros(numsta); K2_pha_obs=np.zeros(numsta)\n",
    "S2_amp_obs=np.zeros(numsta); S2_pha_obs=np.zeros(numsta)\n",
    "P1_amp_obs=np.zeros(numsta); P1_pha_obs=np.zeros(numsta)\n",
    "\n",
    "P1K1_amp = np.zeros(numsta); P1K1_pha = np.zeros(numsta)\n",
    "K2S2_amp = np.zeros(numsta); K2S2_pha = np.zeros(numsta)\n",
    "\n",
    "for stn in range(numsta):\n",
    "    location=stations_obs[stn]\n",
    "    K1_amp_obs[stn]=harm_obs.K1_amp[harm_obs.site==location]/100\n",
    "    K1_pha_obs[stn]=harm_obs.K1_pha[harm_obs.site==location]\n",
    "    if (harm_other.site==location).any():\n",
    "        K2_amp_obs[stn]=harm_other.K2_amp[harm_other.site==location]/100\n",
    "        K2_pha_obs[stn]=harm_other.K2_pha[harm_other.site==location]\n",
    "        S2_amp_obs[stn]=harm_other.S2_amp[harm_other.site==location]/100\n",
    "        S2_pha_obs[stn]=harm_other.S2_pha[harm_other.site==location]\n",
    "        P1_amp_obs[stn]=harm_other.P1_amp[harm_other.site==location]/100\n",
    "        P1_pha_obs[stn]=harm_other.P1_pha[harm_other.site==location]\n",
    "    \n",
    "    P1K1_amp[stn] = P1_amp_obs[stn] / K1_amp_obs[stn]\n",
    "    P1K1_pha[stn] = P1_pha_obs[stn] - K1_pha_obs[stn]\n",
    "    K2S2_amp[stn] = K2_amp_obs[stn] / S2_amp_obs[stn]\n",
    "    K2S2_pha[stn] = K2_pha_obs[stn] - S2_pha_obs[stn]\n",
    "    "
   ]
  },
  {
   "cell_type": "code",
   "execution_count": 46,
   "metadata": {
    "collapsed": false
   },
   "outputs": [],
   "source": [
    "def interpolate_ratios(amp_ratio, pha_diff):\n",
    "    for stn in range(numsta):\n",
    "        if (amp_ratio[stn] == 0) or (np.isnan(amp_ratio[stn])):\n",
    "            if (amp_ratio[stn-1] != 0) and not(np.isnan(amp_ratio[stn-1])):\n",
    "                if amp_ratio[stn+1] != 0 and not(np.isnan(amp_ratio[stn+1])):\n",
    "                    amp_ratio[stn] = 0.5*(amp_ratio[stn-1] + amp_ratio[stn+1])\n",
    "                    pha_diff[stn] = 0.5*(pha_diff[stn-1] + pha_diff[stn+1])\n",
    "                else:\n",
    "                    amp_ratio[stn] = amp_ratio[stn-1]\n",
    "                    pha_diff[stn] = pha_diff[stn-1]\n",
    "            elif (amp_ratio[stn+1] != 0) and not(np.isnan(amp_ratio[stn+1])):\n",
    "                amp_ratio[stn] = amp_ratio[stn+1]\n",
    "                pha_diff[stn] = pha_diff[stn+1]\n",
    "            print stations[stn], amp_ratio[stn]"
   ]
  },
  {
   "cell_type": "code",
   "execution_count": 47,
   "metadata": {
    "collapsed": false
   },
   "outputs": [
    {
     "name": "stdout",
     "output_type": "stream",
     "text": [
      "SheringhamPoint 0.31059602649\n",
      "PedderBay 0.31059602649\n",
      "Esquimalt 0.312395301921\n",
      "CloverPoint 0.314194577352\n",
      "FinnertyCove 0.312475774732\n",
      "TumboChannel 0.310441777195\n",
      "WhalerBay 0.310339070516\n",
      "Sandheads 0.310551558753\n",
      "PointGrey 0.310728215571\n",
      "GibsonsLanding 0.31090487239\n",
      "HalfmoonBay 0.31090487239\n",
      "IrvinesLanding 0.31090487239\n",
      "PowellRiver 0.31090487239\n",
      "Lund 0.313748896372\n",
      "MaudeIslandE 0.290780141844\n",
      "NympheCove 0.299147296356\n",
      "BrownBay 0.309644075586\n",
      "KelseyBay 0.309112656605\n"
     ]
    }
   ],
   "source": [
    "interpolate_ratios(P1K1_amp, P1K1_pha)"
   ]
  },
  {
   "cell_type": "code",
   "execution_count": 48,
   "metadata": {
    "collapsed": false
   },
   "outputs": [
    {
     "name": "stdout",
     "output_type": "stream",
     "text": [
      "SheringhamPoint 0.233840304183\n",
      "PedderBay 0.233840304183\n",
      "Esquimalt 0.214959367778\n",
      "CloverPoint 0.196078431373\n",
      "FinnertyCove 0.23832698547\n",
      "TumboChannel 0.286994356611\n",
      "WhalerBay 0.286706586826\n",
      "Sandheads 0.28\n",
      "PointGrey 0.275371179039\n",
      "GibsonsLanding 0.270742358079\n",
      "HalfmoonBay 0.270742358079\n",
      "IrvinesLanding 0.270742358079\n",
      "PowellRiver 0.270742358079\n",
      "Lund 0.269375826599\n",
      "MaudeIslandE 0.26739023187\n",
      "NympheCove 0.270629374276\n",
      "BrownBay 0.273653008342\n",
      "KelseyBay 0.275463563278\n"
     ]
    }
   ],
   "source": [
    "interpolate_ratios(K2S2_amp, K2S2_pha)"
   ]
  },
  {
   "cell_type": "code",
   "execution_count": 49,
   "metadata": {
    "collapsed": false
   },
   "outputs": [
    {
     "data": {
      "text/plain": [
       "[<matplotlib.lines.Line2D at 0x7f7a409acd90>]"
      ]
     },
     "execution_count": 49,
     "metadata": {},
     "output_type": "execute_result"
    },
    {
     "data": {
      "image/png": "[encoded data removed]",
      "text/plain": [
       "<matplotlib.figure.Figure at 0x7f7a4498b690>"
      ]
     },
     "metadata": {},
     "output_type": "display_data"
    }
   ],
   "source": [
    "fig,ax = plt.subplots(2, 2, figsize=(10,10))\n",
    "ax[0,0].plot(P1K1_amp, '*')\n",
    "ax[0,1].plot(P1K1_pha, 'o')\n",
    "ax[1,0].plot(K2S2_amp, '*')\n",
    "ax[1,1].plot(K2S2_pha, 'o')"
   ]
  },
  {
   "cell_type": "code",
   "execution_count": 50,
   "metadata": {
    "collapsed": false
   },
   "outputs": [],
   "source": [
    "# function for fitting 6 frequencies and inferring 2 with constant\n",
    "def sixplustwo(xplus, M2amp, M2pha, K1amp, K1pha, O1amp, O1pha, S2amp, S2pha,\n",
    "                 N2amp, N2pha, Q1amp, Q1pha, Constant):\n",
    "    x = xplus[0]\n",
    "\n",
    "    P1K1amp = xplus[1]\n",
    "    P1K1pha = xplus[2]\n",
    "    K2S2amp = xplus[3]\n",
    "    K2S2pha = xplus[4]\n",
    "    \n",
    "    return (M2amp * M2ft * np.cos(M2freq*x - (M2pha - M2uvt) *np.pi/180.) +\n",
    "             K1amp * K1ft * np.cos(K1freq*x - (K1pha - K1uvt) *np.pi/180.) +\n",
    "             O1amp * O1ft * np.cos(O1freq*x - (O1pha - O1uvt) *np.pi/180.) +\n",
    "             S2amp * S2ft * np.cos(S2freq*x - (S2pha - S2uvt) *np.pi/180.) +\n",
    "             P1K1amp * K1amp *P1ft * np.cos(P1freq*x - (K1pha + P1K1pha - P1uvt) *np.pi/180.) +\n",
    "             N2amp * N2ft * np.cos(N2freq*x - (N2pha - N2uvt) *np.pi/180.) +\n",
    "             Q1amp * Q1ft * np.cos(Q1freq*x - (Q1pha - Q1uvt) *np.pi/180.) +\n",
    "             K2S2amp * S2amp *K2ft * np.cos(K2freq*x - (S2pha + K2S2pha - K2uvt) *np.pi/180.) + Constant )"
   ]
  },
  {
   "cell_type": "markdown",
   "metadata": {},
   "source": [
    "Now we can apply this fit to our model output."
   ]
  },
  {
   "cell_type": "markdown",
   "metadata": {},
   "source": [
    "### Use Full Time Series for Best Estimate of Amplitudes/Phases"
   ]
  },
  {
   "cell_type": "code",
   "execution_count": 51,
   "metadata": {
    "collapsed": false
   },
   "outputs": [
    {
     "name": "stdout",
     "output_type": "stream",
     "text": [
      "../../myResults/NEMO36_Tides/downto2/PortRenfrew\n"
     ]
    },
    {
     "ename": "ValueError",
     "evalue": "array must not contain infs or NaNs",
     "output_type": "error",
     "traceback": [
      "\u001b[1;31m---------------------------------------------------------------------------\u001b[0m",
      "\u001b[1;31mValueError\u001b[0m                                Traceback (most recent call last)",
      "\u001b[1;32m<ipython-input-51-779ad62b03b7>\u001b[0m in \u001b[0;36m<module>\u001b[1;34m()\u001b[0m\n\u001b[0;32m     23\u001b[0m     \u001b[0mtimeplus\u001b[0m\u001b[1;33m[\u001b[0m\u001b[1;36m3\u001b[0m\u001b[1;33m]\u001b[0m \u001b[1;33m=\u001b[0m \u001b[0mK2S2_amp\u001b[0m\u001b[1;33m[\u001b[0m\u001b[0mstn\u001b[0m\u001b[1;33m]\u001b[0m\u001b[1;33m*\u001b[0m\u001b[0mnp\u001b[0m\u001b[1;33m.\u001b[0m\u001b[0mones_like\u001b[0m\u001b[1;33m(\u001b[0m\u001b[0mtime\u001b[0m\u001b[1;33m)\u001b[0m\u001b[1;33m;\u001b[0m \u001b[0mtimeplus\u001b[0m\u001b[1;33m[\u001b[0m\u001b[1;36m4\u001b[0m\u001b[1;33m]\u001b[0m \u001b[1;33m=\u001b[0m \u001b[0mK2S2_pha\u001b[0m\u001b[1;33m[\u001b[0m\u001b[0mstn\u001b[0m\u001b[1;33m]\u001b[0m\u001b[1;33m*\u001b[0m\u001b[0mnp\u001b[0m\u001b[1;33m.\u001b[0m\u001b[0mones_like\u001b[0m\u001b[1;33m(\u001b[0m\u001b[0mtime\u001b[0m\u001b[1;33m)\u001b[0m\u001b[1;33m\u001b[0m\u001b[0m\n\u001b[0;32m     24\u001b[0m \u001b[1;33m\u001b[0m\u001b[0m\n\u001b[1;32m---> 25\u001b[1;33m     \u001b[0mfitted\u001b[0m\u001b[1;33m,\u001b[0m \u001b[0mcov\u001b[0m \u001b[1;33m=\u001b[0m \u001b[0mcurve_fit\u001b[0m\u001b[1;33m(\u001b[0m\u001b[0msixplustwo\u001b[0m\u001b[1;33m,\u001b[0m\u001b[0mtimeplus\u001b[0m\u001b[1;33m,\u001b[0m\u001b[0mssh\u001b[0m\u001b[1;33m[\u001b[0m\u001b[0mts\u001b[0m\u001b[1;33m:\u001b[0m\u001b[0mte\u001b[0m\u001b[1;33m]\u001b[0m\u001b[1;33m)\u001b[0m\u001b[1;33m\u001b[0m\u001b[0m\n\u001b[0m\u001b[0;32m     26\u001b[0m     \u001b[1;32mif\u001b[0m \u001b[0mfitted\u001b[0m\u001b[1;33m[\u001b[0m\u001b[1;36m0\u001b[0m\u001b[1;33m]\u001b[0m \u001b[1;33m<\u001b[0m \u001b[1;36m0\u001b[0m\u001b[1;33m:\u001b[0m\u001b[1;33m\u001b[0m\u001b[0m\n\u001b[0;32m     27\u001b[0m         \u001b[0mfitted\u001b[0m\u001b[1;33m[\u001b[0m\u001b[1;36m0\u001b[0m\u001b[1;33m]\u001b[0m \u001b[1;33m=\u001b[0m \u001b[1;33m-\u001b[0m\u001b[0mfitted\u001b[0m\u001b[1;33m[\u001b[0m\u001b[1;36m0\u001b[0m\u001b[1;33m]\u001b[0m\u001b[1;33m\u001b[0m\u001b[0m\n",
      "\u001b[1;32m/home/sallen/anaconda/lib/python2.7/site-packages/scipy/optimize/minpack.pyc\u001b[0m in \u001b[0;36mcurve_fit\u001b[1;34m(f, xdata, ydata, p0, sigma, absolute_sigma, check_finite, **kw)\u001b[0m\n\u001b[0;32m    559\u001b[0m     \u001b[1;31m# NaNs can not be handled\u001b[0m\u001b[1;33m\u001b[0m\u001b[1;33m\u001b[0m\u001b[0m\n\u001b[0;32m    560\u001b[0m     \u001b[1;32mif\u001b[0m \u001b[0mcheck_finite\u001b[0m\u001b[1;33m:\u001b[0m\u001b[1;33m\u001b[0m\u001b[0m\n\u001b[1;32m--> 561\u001b[1;33m         \u001b[0mydata\u001b[0m \u001b[1;33m=\u001b[0m \u001b[0mnp\u001b[0m\u001b[1;33m.\u001b[0m\u001b[0masarray_chkfinite\u001b[0m\u001b[1;33m(\u001b[0m\u001b[0mydata\u001b[0m\u001b[1;33m)\u001b[0m\u001b[1;33m\u001b[0m\u001b[0m\n\u001b[0m\u001b[0;32m    562\u001b[0m     \u001b[1;32melse\u001b[0m\u001b[1;33m:\u001b[0m\u001b[1;33m\u001b[0m\u001b[0m\n\u001b[0;32m    563\u001b[0m         \u001b[0mydata\u001b[0m \u001b[1;33m=\u001b[0m \u001b[0mnp\u001b[0m\u001b[1;33m.\u001b[0m\u001b[0masarray\u001b[0m\u001b[1;33m(\u001b[0m\u001b[0mydata\u001b[0m\u001b[1;33m)\u001b[0m\u001b[1;33m\u001b[0m\u001b[0m\n",
      "\u001b[1;32m/home/sallen/anaconda/lib/python2.7/site-packages/numpy/lib/function_base.pyc\u001b[0m in \u001b[0;36masarray_chkfinite\u001b[1;34m(a, dtype, order)\u001b[0m\n\u001b[0;32m    611\u001b[0m     \u001b[1;32mif\u001b[0m \u001b[0ma\u001b[0m\u001b[1;33m.\u001b[0m\u001b[0mdtype\u001b[0m\u001b[1;33m.\u001b[0m\u001b[0mchar\u001b[0m \u001b[1;32min\u001b[0m \u001b[0mtypecodes\u001b[0m\u001b[1;33m[\u001b[0m\u001b[1;34m'AllFloat'\u001b[0m\u001b[1;33m]\u001b[0m \u001b[1;32mand\u001b[0m \u001b[1;32mnot\u001b[0m \u001b[0mnp\u001b[0m\u001b[1;33m.\u001b[0m\u001b[0misfinite\u001b[0m\u001b[1;33m(\u001b[0m\u001b[0ma\u001b[0m\u001b[1;33m)\u001b[0m\u001b[1;33m.\u001b[0m\u001b[0mall\u001b[0m\u001b[1;33m(\u001b[0m\u001b[1;33m)\u001b[0m\u001b[1;33m:\u001b[0m\u001b[1;33m\u001b[0m\u001b[0m\n\u001b[0;32m    612\u001b[0m         raise ValueError(\n\u001b[1;32m--> 613\u001b[1;33m             \"array must not contain infs or NaNs\")\n\u001b[0m\u001b[0;32m    614\u001b[0m     \u001b[1;32mreturn\u001b[0m \u001b[0ma\u001b[0m\u001b[1;33m\u001b[0m\u001b[0m\n\u001b[0;32m    615\u001b[0m \u001b[1;33m\u001b[0m\u001b[0m\n",
      "\u001b[1;31mValueError\u001b[0m: array must not contain infs or NaNs"
     ]
    }
   ],
   "source": [
    "#allocate space for our arrays\n",
    "M2_amp=[]; M2_pha=[]; K1_amp=[]; K1_pha=[]\n",
    "O1_amp=[]; O1_pha=[]; S2_amp=[]; S2_pha=[]\n",
    "N2_amp=[]; N2_pha=[]\n",
    "Q1_amp=[]; Q1_pha=[]\n",
    "\n",
    "M2_amp_obs=np.zeros(numsta); M2_pha_obs=np.zeros(numsta)\n",
    "N2_amp_obs=np.zeros(numsta); N2_pha_obs=np.zeros(numsta)\n",
    "Q1_amp_obs=np.zeros(numsta); Q1_pha_obs=np.zeros(numsta)\n",
    "O1_amp_obs=np.zeros(numsta); O1_pha_obs=np.zeros(numsta)\n",
    "\n",
    "ts = 240\n",
    "te = ssh.shape[0]\n",
    "timeplus = np.zeros([5,te-ts])\n",
    "\n",
    "for stn in range(numsta):\n",
    "    print name+stations[stn]\n",
    "    fT1 = NC.Dataset(name+stations[stn]+'.nc','r')\n",
    "    time = (fT1.variables[\"time_counter\"][ts:te]-timeinc)/3600.  # want hours not seconds\n",
    "    ssh = fT1.variables[\"sossheig\"][:,0,0]\n",
    "    timeplus[0] = time\n",
    "    timeplus[1] = P1K1_amp[stn]*np.ones_like(time); timeplus[2] = P1K1_pha[stn]*np.ones_like(time)\n",
    "    timeplus[3] = K2S2_amp[stn]*np.ones_like(time); timeplus[4] = K2S2_pha[stn]*np.ones_like(time)\n",
    "\n",
    "    fitted, cov = curve_fit(sixplustwo,timeplus,ssh[ts:te]) \n",
    "    if fitted[0] < 0:\n",
    "        fitted[0] = -fitted[0]\n",
    "        fitted[1] = fitted[1]+180\n",
    "\n",
    "    M2_amp.append(fitted[0])\n",
    "    pha = fitted[1]\n",
    "    if  pha > 360:\n",
    "        pha=pha-360\n",
    "    elif pha < 0:\n",
    "        pha = pha+360\n",
    "    if stn == 6:\n",
    "        print pha\n",
    "    M2_pha.append(pha)\n",
    "\n",
    "    if fitted[2] < 0:\n",
    "        fitted[2] = - fitted[2]\n",
    "        fitted[3] = fitted[3] + 180\n",
    "    K1_amp.append(fitted[2])\n",
    "    pha = fitted[3]\n",
    "    if  pha > 360:\n",
    "        pha = pha-360\n",
    "    elif pha < 0:\n",
    "        pha = pha + 360\n",
    "    K1_pha.append(pha)  \n",
    "    \n",
    "    if fitted[4] < 0:\n",
    "        fitted[4] = -fitted[4]\n",
    "        fitted[5] = fitted[5]+180\n",
    "    O1_amp.append(fitted[4])\n",
    "    pha= fitted[5]\n",
    "    if  pha > 360:\n",
    "        pha=pha-360\n",
    "    elif pha < 0:\n",
    "        pha = pha + 360\n",
    "    O1_pha.append(pha) \n",
    "    \n",
    "    if fitted[6] < 0:\n",
    "        fitted[6] = -fitted[6]\n",
    "        fitted[7] = fitted[7]+180\n",
    "    S2_amp.append(fitted[6])\n",
    "    pha= fitted[7]\n",
    "    if  pha > 360:\n",
    "        pha=pha-360\n",
    "    elif pha < 0:\n",
    "        pha = pha + 360\n",
    "    S2_pha.append(pha) \n",
    "    \n",
    "    if fitted[8] < 0:\n",
    "            fitted[8] = -fitted[8]\n",
    "            fitted[9] = fitted[9]+180\n",
    "    N2_amp.append(fitted[8])\n",
    "    pha= fitted[9]\n",
    "    if  pha > 360:\n",
    "        pha=pha-360\n",
    "    elif pha < 0:\n",
    "        pha = pha + 360\n",
    "    N2_pha.append(pha) \n",
    "    \n",
    "    if fitted[10] < 0:\n",
    "            fitted[10] = -fitted[10]\n",
    "            fitted[11] = fitted[11]+180\n",
    "    Q1_amp.append(fitted[10])\n",
    "    pha= fitted[11]\n",
    "    if  pha > 360:\n",
    "        pha=pha-360\n",
    "    Q1_pha.append(pha) \n",
    "\n",
    "    #now the observations\n",
    "    location=stations_obs[stn]\n",
    "    M2_amp_obs[stn]=harm_obs.M2_amp[harm_obs.site==location]/100\n",
    "    M2_pha_obs[stn]=harm_obs.M2_pha[harm_obs.site==location]\n",
    "    K1_amp_obs[stn]=harm_obs.K1_amp[harm_obs.site==location]/100\n",
    "    K1_pha_obs[stn]=harm_obs.K1_pha[harm_obs.site==location]\n",
    "    \n",
    "    #O1/S2/P1/N2/Q1/K2 are in the other file\n",
    "    if (harm_other.site==location).any():\n",
    "        O1_amp_obs[stn]=harm_other.O1_amp[harm_other.site==location]/100\n",
    "        O1_pha_obs[stn]=harm_other.O1_pha[harm_other.site==location]\n",
    "        S2_amp_obs[stn]=harm_other.S2_amp[harm_other.site==location]/100\n",
    "        S2_pha_obs[stn]=harm_other.S2_pha[harm_other.site==location]\n",
    "        N2_amp_obs[stn]=harm_other.N2_amp[harm_other.site==location]/100\n",
    "        N2_pha_obs[stn]=harm_other.N2_pha[harm_other.site==location]\n",
    "        Q1_amp_obs[stn]=harm_other.Q1_amp[harm_other.site==location]/100\n",
    "        Q1_pha_obs[stn]=harm_other.Q1_pha[harm_other.site==location]\n",
    "    #Mask the arrays so that we can do statistics without the 0's throwing things off.\n",
    "    O1_amp_obs =np.ma.masked_values(O1_amp_obs, 0)\n",
    "    O1_pha_obs =np.ma.masked_values(O1_pha_obs, 0)\n",
    "    S2_amp_obs =np.ma.masked_values(S2_amp_obs, 0)\n",
    "    S2_pha_obs =np.ma.masked_values(S2_pha_obs, 0)\n",
    "    N2_amp_obs =np.ma.masked_values(N2_amp_obs, 0)\n",
    "    N2_pha_obs =np.ma.masked_values(N2_pha_obs, 0)\n",
    "    Q1_amp_obs =np.ma.masked_values(Q1_amp_obs, 0)\n",
    "    Q1_pha_obs =np.ma.masked_values(Q1_pha_obs, 0)"
   ]
  },
  {
   "cell_type": "markdown",
   "metadata": {},
   "source": [
    "The model data is saved in lists M2_amp, M2_pha, K1_amp, K1_pha. We have also saved the observations in M2_amp_obs, etc.\n",
    "\n",
    "We can compare model and observations by plotting."
   ]
  },
  {
   "cell_type": "code",
   "execution_count": null,
   "metadata": {
    "collapsed": false
   },
   "outputs": [],
   "source": [
    "print M2_pha[4], M2_pha[14], M2_pha[14]-M2_pha[4]+360"
   ]
  },
  {
   "cell_type": "code",
   "execution_count": null,
   "metadata": {
    "collapsed": false
   },
   "outputs": [],
   "source": [
    "print M2_pha_obs[4], M2_pha_obs[14], M2_pha_obs[14]+360-M2_pha_obs[4]"
   ]
  },
  {
   "cell_type": "code",
   "execution_count": null,
   "metadata": {
    "collapsed": false
   },
   "outputs": [],
   "source": [
    "print M2_amp_obs"
   ]
  },
  {
   "cell_type": "code",
   "execution_count": null,
   "metadata": {
    "collapsed": false
   },
   "outputs": [],
   "source": [
    "#Plotting M2\n",
    "labels=['JdF/Islands','SoG','North']\n",
    "fig=tidetools.plot_scatter_pha_amp(M2_amp,M2_amp_obs,M2_pha,M2_pha_obs,'M2',figsize=(14,6),\n",
    "                                   split1=split1,split2=split2, labels=labels)\n",
    "\n",
    "ax_amp,ax_pha = fig.axes\n",
    "min_value, max_value = ax_amp.set_xlim(0, 1.2)\n",
    "ax_amp.plot([min_value, max_value], [min_value, max_value], color='red',lw=2)\n",
    "\n",
    "min_value, max_value = ax_pha.set_xlim(0, 360)\n",
    "ax_pha.plot([min_value, max_value], [min_value, max_value], color='red',lw=2)\n",
    "\n",
    "print np.mean(M2_amp_obs[split1:split2]/M2_amp[split1:split2])\n",
    "print np.mean(M2_pha_obs[split1:split2]-M2_pha[split1:split2])\n",
    "\n",
    "print np.mean(M2_amp_obs[-2:]/M2_amp[-2:])\n",
    "print np.mean(M2_pha_obs[-2:]-M2_pha[-2:])"
   ]
  },
  {
   "cell_type": "code",
   "execution_count": null,
   "metadata": {
    "collapsed": false
   },
   "outputs": [],
   "source": [
    "#Plotting - K1\n",
    "\n",
    "fig=tidetools.plot_scatter_pha_amp(K1_amp,K1_amp_obs,K1_pha,K1_pha_obs,'K1',figsize=(14,6),\n",
    "                                   split1=split1, split2=split2, labels=labels)\n",
    "\n",
    "ax_amp,ax_pha = fig.axes\n",
    "min_value, max_value = ax_amp.set_xlim(0, 1.2)\n",
    "ax_amp.plot([min_value, max_value], [min_value, max_value], color='red',lw=2)\n",
    "\n",
    "min_value, max_value = ax_pha.set_xlim(0, 360)\n",
    "ax_pha.plot([min_value, max_value], [min_value, max_value], color='red',lw=2)\n",
    "\n",
    "print np.mean(K1_amp_obs[split1:split2]/K1_amp[split1:split2])\n",
    "print np.mean(K1_pha_obs[split1:split2]-K1_pha[split1:split2])\n",
    "print np.mean(K1_amp_obs[-2:]/K1_amp[-2:])\n",
    "print np.mean(K1_pha_obs[-2:]-K1_pha[-2:])"
   ]
  },
  {
   "cell_type": "code",
   "execution_count": null,
   "metadata": {
    "collapsed": false
   },
   "outputs": [],
   "source": [
    "#Plotting - O1\n",
    "\n",
    "fig=tidetools.plot_scatter_pha_amp(O1_amp,O1_amp_obs,O1_pha,O1_pha_obs,'O1',figsize=(14,6),\n",
    "                                   split1=split1, split2=split2, labels=labels)\n",
    "\n",
    "ax_amp,ax_pha = fig.axes\n",
    "min_value, max_value = ax_amp.set_xlim(0, 1.2)\n",
    "ax_amp.plot([min_value, max_value], [min_value, max_value], color='red',lw=2)\n",
    "\n",
    "min_value, max_value = ax_pha.set_xlim(0, 360)\n",
    "ax_pha.plot([min_value, max_value], [min_value, max_value], color='red',lw=2)\n",
    "print np.mean(O1_amp_obs[split1:split2]/O1_amp[split1:split2])\n",
    "print np.mean(O1_pha_obs[split1:split2]-O1_pha[split1:split2])\n",
    "print np.mean(O1_amp_obs[-2:]/O1_amp[-2:])\n",
    "print np.mean(O1_pha_obs[-2:]-O1_pha[-2:])"
   ]
  },
  {
   "cell_type": "code",
   "execution_count": null,
   "metadata": {
    "collapsed": false
   },
   "outputs": [],
   "source": [
    "#Plotting - S2\n",
    "\n",
    "fig=tidetools.plot_scatter_pha_amp(S2_amp,S2_amp_obs,S2_pha,S2_pha_obs,'S2',figsize=(14,6),\n",
    "                                   split1=split1, split2=split2, labels=labels)\n",
    "\n",
    "ax_amp,ax_pha = fig.axes\n",
    "min_value, max_value = ax_amp.set_xlim(0, 1.2)\n",
    "ax_amp.plot([min_value, max_value], [min_value, max_value], color='red',lw=2)\n",
    "\n",
    "min_value, max_value = ax_pha.set_xlim(0, 360)\n",
    "ax_pha.plot([min_value, max_value], [min_value, max_value], color='red',lw=2)\n",
    "print np.mean(S2_amp_obs[split1:split2]/S2_amp[split1:split2])\n",
    "print np.mean(S2_pha_obs[split1:split2]-S2_pha[split1:split2])\n",
    "print np.mean(S2_amp_obs[-2:]/S2_amp[-2:])\n",
    "print np.mean(S2_pha_obs[-2:]-S2_pha[-2:])"
   ]
  },
  {
   "cell_type": "code",
   "execution_count": null,
   "metadata": {
    "collapsed": false
   },
   "outputs": [],
   "source": [
    "#Plotting - N2\n",
    "\n",
    "fig=tidetools.plot_scatter_pha_amp(N2_amp,N2_amp_obs,N2_pha,N2_pha_obs,'N2',figsize=(14,6),\n",
    "                                   split1=split1, split2=split2, labels=labels)\n",
    "\n",
    "ax_amp,ax_pha = fig.axes\n",
    "min_value, max_value = ax_amp.set_xlim(0, 1.2)\n",
    "ax_amp.plot([min_value, max_value], [min_value, max_value], color='red',lw=2)\n",
    "\n",
    "min_value, max_value = ax_pha.set_xlim(0, 360)\n",
    "ax_pha.plot([min_value, max_value], [min_value, max_value], color='red',lw=2)\n",
    "print np.mean(N2_amp_obs[split1:split2]/N2_amp[split1:split2])\n",
    "print np.mean(N2_pha_obs[split1:split2]-N2_pha[split1:split2])+360/4.\n",
    "print np.mean(N2_amp_obs[-2:]/N2_amp[-2:])\n",
    "print np.mean(N2_pha_obs[-2:]-N2_pha[-2:])"
   ]
  },
  {
   "cell_type": "code",
   "execution_count": null,
   "metadata": {
    "collapsed": false
   },
   "outputs": [],
   "source": [
    "#Plotting - Q1\n",
    "\n",
    "fig=tidetools.plot_scatter_pha_amp(Q1_amp,Q1_amp_obs,Q1_pha,Q1_pha_obs,'Q1',figsize=(14,6),\n",
    "                                   split1=split1, split2=split2, labels=labels)\n",
    "\n",
    "ax_amp,ax_pha = fig.axes\n",
    "min_value, max_value = ax_amp.set_xlim(0, 1.2)\n",
    "ax_amp.plot([min_value, max_value], [min_value, max_value], color='red',lw=2)\n",
    "\n",
    "min_value, max_value = ax_pha.set_xlim(0, 360)\n",
    "ax_pha.plot([min_value, max_value], [min_value, max_value], color='red',lw=2)\n",
    "print np.mean(Q1_amp_obs[split1:split2]/Q1_amp[split1:split2])\n",
    "print Q1_pha_obs[split1:split2]-Q1_pha[split1:split2]\n",
    "print np.mean(Q1_pha_obs[split1:split2]-Q1_pha[split1:split2])\n",
    "print np.mean(Q1_amp_obs[-2:]/Q1_amp[-2:])\n",
    "print Q1_pha_obs[-2:]-Q1_pha[-2:]\n",
    "print np.mean(Q1_pha_obs[-2:]-Q1_pha[-2:])"
   ]
  },
  {
   "cell_type": "markdown",
   "metadata": {},
   "source": [
    "The model performs well when the dots are close to the red line."
   ]
  },
  {
   "cell_type": "markdown",
   "metadata": {},
   "source": [
    "# Statistics"
   ]
  },
  {
   "cell_type": "markdown",
   "metadata": {},
   "source": [
    "We would like to save some statistics so that we can determine which runs give us the best match with observations. So, we will define some functions that will help us calculate statistics."
   ]
  },
  {
   "cell_type": "markdown",
   "metadata": {},
   "source": [
    "### Mean Error (absolute value)"
   ]
  },
  {
   "cell_type": "code",
   "execution_count": null,
   "metadata": {
    "collapsed": false
   },
   "outputs": [],
   "source": [
    "def mean(diff):\n",
    "    return np.mean(abs(diff))"
   ]
  },
  {
   "cell_type": "markdown",
   "metadata": {},
   "source": [
    "### RMS Error"
   ]
  },
  {
   "cell_type": "code",
   "execution_count": null,
   "metadata": {
    "collapsed": false
   },
   "outputs": [],
   "source": [
    "def rms(diff):\n",
    "    return np.sqrt(np.mean(diff**2))"
   ]
  },
  {
   "cell_type": "markdown",
   "metadata": {},
   "source": [
    "### Complex differences"
   ]
  },
  {
   "cell_type": "markdown",
   "metadata": {},
   "source": [
    "This is a way of measuring distances in the complex plane. We can think of our tidal amplitude and phase as a point on the complex plane. So we would like to measure the distance between a point given by the model and a point given by the observations. The function below does this."
   ]
  },
  {
   "cell_type": "code",
   "execution_count": null,
   "metadata": {
    "collapsed": false
   },
   "outputs": [],
   "source": [
    "def complex_diff(Ao,go,Am,gm):\n",
    "    #calculates complex differences between observations and model\n",
    "    #Ao, go - amplitude and phase from observations\n",
    "    #Am, gm - amplitude and phase from model\n",
    "    D = np.sqrt((Ao*np.cos(np.pi*go/180)-Am*np.cos(np.pi*gm/180))**2 + \n",
    "                (Ao*np.sin(np.pi*go/180)-Am*np.sin(np.pi*gm/180))**2)\n",
    "    \n",
    "    return D"
   ]
  },
  {
   "cell_type": "markdown",
   "metadata": {},
   "source": [
    "Some other things we will look at are\n",
    "\n",
    "$R = \\frac{A_m}{A_o}$, the ratio of modelled to observed amplitude and \n",
    "\n",
    "$\\Delta \\phi = \\phi_m - \\phi_o$, the difference betwen modelled and observed phase."
   ]
  },
  {
   "cell_type": "code",
   "execution_count": null,
   "metadata": {
    "collapsed": false
   },
   "outputs": [],
   "source": [
    "#R\n",
    "R_M2 = M2_amp/M2_amp_obs\n",
    "R_K1 = K1_amp/K1_amp_obs\n",
    "#delta phi (adjust so between -180, 180)\n",
    "Dphi_M2 = M2_pha-M2_pha_obs; \n",
    "Dphi_M2 = Dphi_M2 -360*(Dphi_M2>180) + 360*(Dphi_M2<-180)\n",
    "Dphi_K1 = K1_pha-K1_pha_obs\n",
    "Dphi_K1 = Dphi_K1 -360*(Dphi_K1>180) + 360*(Dphi_K1<-180)\n",
    "#Complex differences\n",
    "D_M2= complex_diff(np.array(M2_amp_obs),np.array(M2_pha_obs), np.array(M2_amp),np.array(M2_pha))\n",
    "D_K1= complex_diff(np.array(K1_amp_obs),np.array(K1_pha_obs), np.array(K1_amp),np.array(K1_pha))\n",
    "D_O1= complex_diff(np.ma.array(O1_amp_obs),np.ma.array(O1_pha_obs), np.ma.array(O1_amp),np.ma.array(O1_pha))\n",
    "D_S2= complex_diff(np.ma.array(S2_amp_obs),np.ma.array(S2_pha_obs), np.ma.array(S2_amp),np.ma.array(S2_pha))\n",
    "D_N2= complex_diff(np.ma.array(N2_amp_obs),np.ma.array(N2_pha_obs), np.ma.array(N2_amp),np.ma.array(N2_pha))\n",
    "D_Q1= complex_diff(np.ma.array(Q1_amp_obs),np.ma.array(Q1_pha_obs), np.ma.array(Q1_amp),np.ma.array(Q1_pha))"
   ]
  },
  {
   "cell_type": "markdown",
   "metadata": {},
   "source": [
    "# Saving the results"
   ]
  },
  {
   "cell_type": "markdown",
   "metadata": {},
   "source": [
    "We will now save these statistics in a spreadsheet"
   ]
  },
  {
   "cell_type": "code",
   "execution_count": null,
   "metadata": {
    "collapsed": false
   },
   "outputs": [],
   "source": [
    "outfile = runname+'.csv'\n",
    "\n",
    "with open(outfile, 'wb') as csvfile:\n",
    "    writer = csv.writer(csvfile, delimiter=',')\n",
    "    writer.writerow([\n",
    "            'Station Name', \n",
    "            'R (M2)', 'Delta phi (M2)', 'D (M2)',\n",
    "            'R (K1)', 'Delta phi (K1)', 'D (K1)'\n",
    "        ])\n",
    "    for stn in range(numsta):\n",
    "        location = stations_obs[stn]\n",
    "        writer.writerow([stations_obs[stn],\n",
    "                        R_M2[stn], Dphi_M2[stn], D_M2[stn],\n",
    "                        R_K1[stn], Dphi_K1[stn], D_K1[stn]])\n",
    "\n",
    "    #write averages and rms\n",
    "    writer.writerow(['Mean Difference',\n",
    "                    mean(M2_amp-M2_amp_obs),mean(Dphi_M2),mean(D_M2), \n",
    "                    mean(K1_amp-K1_amp_obs),mean(Dphi_K1),mean(D_K1)])\n",
    "    writer.writerow(['RMS Difference',\n",
    "                    rms(M2_amp-M2_amp_obs),rms(Dphi_M2),rms(D_M2), \n",
    "                    rms(K1_amp-K1_amp_obs),rms(Dphi_K1),rms(D_K1)])\n",
    "    #without the north\n",
    "    writer.writerow(['Mean Difference no North no PR',\n",
    "                    mean(M2_amp[1:split2]-M2_amp_obs[1:split2]),mean(Dphi_M2[1:split2]),mean(D_M2[1:split2]), \n",
    "                    mean(K1_amp[1:split2]-K1_amp_obs[1:split2]),mean(Dphi_K1[1:split2]),mean(D_K1[1:split2])])\n",
    "    writer.writerow(['RMS Difference no North no PR',\n",
    "                    rms(M2_amp[1:split2]-M2_amp_obs[1:split2]),rms(Dphi_M2[1:split2]),rms(D_M2[1:split2]), \n",
    "                    rms(K1_amp[1:split2]-K1_amp_obs[1:split2]),rms(Dphi_K1[1:split2]),rms(D_K1[1:split2])])"
   ]
  },
  {
   "cell_type": "markdown",
   "metadata": {},
   "source": [
    "Now there is a csv file in this directory with data about this run. It should be called runname.csv (where runname is the string we  defined at the beginning of the notebook).\n",
    "\n",
    "Things to try:\n",
    "1. Add the complex differences information printed in the .csv file to tide_runs.ods. Also, if you notice any discrepancies, you can correct them. (Check M2 amplitude at Yorke Island)\n",
    "2. Work through the notebook with a different run. There is a list of runs in tide_runs.ods\n",
    "3. Commit and push any changes you've made to this notebook and tide_runs.odt.  \n",
    "Try this:\n",
    "    * hg status (see what changes have been made)\n",
    "    * hg in\n",
    "    * hg commit mynotebook.ipynb (write a commit message and then save and exit)\n",
    "    * hg commit tide_runs.odt\n",
    "    * hg pull --rebase\n",
    "    * pg push\n",
    "    \n",
    "4. Add any new csv files to the repository.\n",
    "Try this:\n",
    "    * hg add filename.csv\n",
    "    * hg commit filename.csv\n",
    "    * hg pull --rebase\n",
    "    * hg push\n",
    "    \n",
    "5. Repeat with all the runs listed in tide_runs.odt"
   ]
  },
  {
   "cell_type": "markdown",
   "metadata": {},
   "source": [
    "# Plots comparing measured and model amplitudes and phases"
   ]
  },
  {
   "cell_type": "code",
   "execution_count": null,
   "metadata": {
    "collapsed": false
   },
   "outputs": [],
   "source": [
    "plt.figure(figsize=(20,12))\n",
    "\n",
    "plt.subplot(3,2,1)\n",
    "plt.plot(np.array(M2_amp), '-bo', label = 'model')\n",
    "plt.plot(M2_amp_obs, 'r-o', label = 'observation')\n",
    "plt.ylim((0.3,1.3))\n",
    "plt.title('M2 Amplitude')\n",
    "plt.legend( loc='upper left' )\n",
    "\n",
    "plt.subplot(3,2,2)\n",
    "plt.plot(np.array(K1_amp), '-bo', label = 'model')\n",
    "plt.plot(K1_amp_obs, 'r-o', label = 'observation')\n",
    "plt.title('K1 Amplitude')\n",
    "\n",
    "plt.subplot(3,2,3)\n",
    "# use the un-wrap function to plot the M2 phase more smoothly\n",
    "pha_uwm = 180./np.pi * np.unwrap((np.array(M2_pha))*np.pi/180.)\n",
    "plt.plot(pha_uwm, '-bo', label = 'model')\n",
    "pha_uw = 180./np.pi * np.unwrap(np.array(M2_pha_obs)*np.pi/180.)\n",
    "plt.plot(pha_uw, 'r-o', label = 'observation')\n",
    "plt.title('M2 Phase')\n",
    "\n",
    "plt.subplot(3,2,4)\n",
    "pha_uw = 180./np.pi * np.unwrap((np.array(K1_pha))*np.pi/180.)\n",
    "plt.plot(pha_uw, '-bo', label = 'model')\n",
    "plt.plot(K1_pha_obs, 'r-o', label = 'observation')\n",
    "plt.ylim((245,290))\n",
    "plt.title('K1 Phase')\n",
    "\n",
    "plt.subplot(3,2,5)\n",
    "plt.plot(D_M2, '-bo', label = 'M2')\n",
    "plt.plot(D_K1, '-go', label = 'K1')\n",
    "plt.plot((0,30),(0.05,0.05),'k')\n",
    "plt.plot((0,30),(0.10,0.10),'r')\n",
    "plt.ylim((0,0.5))\n",
    "plt.title('D error')\n",
    "plt.legend( loc='upper left' )\n"
   ]
  },
  {
   "cell_type": "code",
   "execution_count": null,
   "metadata": {
    "collapsed": false
   },
   "outputs": [],
   "source": [
    "plt.figure(figsize=(12,5))\n",
    "plt.plot(M2_amp_obs, 'r-s', label = 'observation')\n",
    "plt.plot(M2_amp, '-mo', label='results')\n",
    "print np.mean(M2_amp[2:6])\n",
    "print np.mean(M2_amp_obs[2:6])"
   ]
  },
  {
   "cell_type": "code",
   "execution_count": null,
   "metadata": {
    "collapsed": false
   },
   "outputs": [],
   "source": [
    "plt.figure(figsize=(12,5))\n",
    "pha_uw = 180./np.pi * np.unwrap(np.array(M2_pha_obs)*np.pi/180.)\n",
    "plt.plot(pha_uw, 'r-s', label = 'observation')\n",
    "pha_uw_mod = 180./np.pi * np.unwrap(np.array(M2_pha)*np.pi/180.)\n",
    "plt.plot(pha_uw_mod, 'b*-', label='results')"
   ]
  },
  {
   "cell_type": "code",
   "execution_count": null,
   "metadata": {
    "collapsed": false
   },
   "outputs": [],
   "source": [
    "diffy_obs = pha_uw[1:]-pha_uw[0:-1]\n",
    "diffy_new = pha_uw_mod[1:]-pha_uw_mod[:-1]\n",
    "\n",
    "plt.plot(diffy_obs,'r',label='obs')\n",
    "plt.plot(diffy_new,'g*-', label='new')\n",
    "\n",
    "plt.xlim((0,15))\n",
    "plt.ylim((0,50))\n",
    "plt.legend()"
   ]
  },
  {
   "cell_type": "code",
   "execution_count": null,
   "metadata": {
    "collapsed": false
   },
   "outputs": [],
   "source": [
    "je=15\n",
    "plt.figure(figsize=(14,7))\n",
    "plt.subplot(1,2,1)\n",
    "plt.plot(pha_uw[:je], M2_amp_obs[:je],'ro-')\n",
    "plt.plot(pha_uw_mod[:je],np.array(M2_amp[:je])*1.02,'ms-')\n",
    "\n",
    "plt.arrow(365-20, 0.55+0.2, 20, -0.2)\n",
    "plt.text(365-100, 0.55+0.2, \"too much amplitude drop in Boundary Pass\")\n",
    "plt.subplot(1,2,2)\n",
    "plt.plot(pha_uw[:je], M2_amp_obs[:je],'ro-')\n",
    "\n",
    "plt.plot(pha_uw_mod[:je]+12.,np.array(M2_amp[:je])*0.96,'ms-')\n",
    "plt.arrow(265+20, 0.55+0.2, -20, -0.2)\n",
    "plt.text(265+20, 0.55+0.2, \"too little phase shift in JdF\")"
   ]
  },
  {
   "cell_type": "code",
   "execution_count": null,
   "metadata": {
    "collapsed": false
   },
   "outputs": [],
   "source": [
    "cmap = plt.get_cmap('PuBu')\n",
    "cmap.set_bad('burlywood')\n",
    "\n",
    "fig,axs=plt.subplots(3, 2, figsize=(8,20))\n",
    "\n",
    "constituent = ('M2', 'K1', 'O1', 'S2', 'N2', 'Q1')\n",
    "error_D = (D_M2, D_K1, D_O1, D_S2, D_N2, D_Q1)\n",
    "\n",
    "\n",
    "for row in range(3):\n",
    "\n",
    "    for ax, error_D1, const in zip(axs[row], error_D[row*2:row*2+2], constituent[row*2:row*2+2]):\n",
    "        ax.pcolormesh(X,Y,bathy,cmap='PuBu')\n",
    "\n",
    "        for stn in range(numsta):\n",
    "            location = stations_obs[stn]\n",
    "            lon=-harm_obs.lon[harm_obs.site==location]\n",
    "            lat=harm_obs.lat[harm_obs.site==location]\n",
    "            if error_D1 [stn] <= 0.05:\n",
    "                ax.plot(lon,lat,'og',label=location,markersize=10,markeredgecolor='g')\n",
    "            if error_D1 [stn] > 0.1:\n",
    "                ax.plot(lon,lat,'or',label=location,markersize=10,markeredgecolor='r')\n",
    "            if 0.1 >= error_D1[stn] > 0.05:\n",
    "                ax.plot(lon,lat,'oy',label=location,markersize=10,markeredgecolor='y')\n",
    "        \n",
    "            ax.annotate(stn, xy = (lon,lat), xytext = (5,5),ha = 'right', va = 'bottom',\n",
    "                textcoords = 'offset points')\n",
    "            ax.set_title(const)\n",
    "        ax.axis([-126.1,-122,47,51])\n",
    "   \n",
    "\n"
   ]
  },
  {
   "cell_type": "markdown",
   "metadata": {},
   "source": [
    "##### First Plot: M2 D error. Second Plot: K1 D error. Markers increase in size as D error increases."
   ]
  },
  {
   "cell_type": "markdown",
   "metadata": {},
   "source": [
    "Green: D error <= 0.05, Yellow: 0.05 < D error <= 0.1, Red: D error > 0.1"
   ]
  },
  {
   "cell_type": "code",
   "execution_count": null,
   "metadata": {
    "collapsed": false
   },
   "outputs": [],
   "source": [
    "fig, axs = plt.subplots(4,2,figsize=(10,15))\n",
    "axs[0,0].plot(np.array(O1_amp)/np.array(K1_amp), '-bo', label = 'model')\n",
    "axs[0,0].plot((0,28),(0.560,0.560), 'r-', label = 'observation')\n",
    "axs[0,0].set_title('O1/K1 Amplitude')\n",
    "pha_uw = 180./np.pi * np.unwrap((np.array(O1_pha)-np.array(K1_pha))*np.pi/180.)\n",
    "axs[0,1].plot(pha_uw, '-bo', label = 'model')\n",
    "axs[0,1].plot((0,28),(-22.9,-22.9), 'r-', label = 'observation')\n",
    "axs[0,1].set_title('O1-K1 Phase')\n",
    "\n",
    "axs[1,0].plot(np.array(S2_amp)/np.array(M2_amp), '-bo', label = 'model')\n",
    "axs[1,0].plot((0,28),(0.249,0.249), 'r-', label = 'observation')\n",
    "axs[1,0].set_title('S2/M2 Amplitude')\n",
    "pha_uw = 180./np.pi * np.unwrap((np.array(S2_pha)-np.array(M2_pha))*np.pi/180.)\n",
    "axs[1,1].plot(pha_uw, '-bo', label = 'model')\n",
    "axs[1,1].plot((0,28),( 28.7, 28.7), 'r-', label = 'observation')\n",
    "axs[1,1].set_title('S2-M2 Phase')\n",
    "\n",
    "axs[2,0].plot(np.array(N2_amp)/np.array(M2_amp), '-bo', label = 'model')\n",
    "axs[2,0].plot((0,28),(0.200,0.200), 'r-', label = 'observation')\n",
    "axs[2,0].set_title('N2/M2 Amplitude')\n",
    "\n",
    "pha_uw = 180./np.pi * np.unwrap((np.array(N2_pha)-np.array(M2_pha))*np.pi/180.)\n",
    "axs[2,1].plot(pha_uw, '-bo', label = 'model')\n",
    "axs[2,1].plot((0,28),(-28.3, -28.3), 'r-', label = 'observation')\n",
    "axs[2,1].set_title('N2-M2 Phase')\n",
    "\n",
    "axs[3,0].plot(np.array(Q1_amp)/np.array(K1_amp), '-bo', label = 'model')\n",
    "axs[3,0].plot((0,28),(0.089,0.089), 'r-', label = 'observation')\n",
    "axs[3,0].set_title('Q1/K1 Amplitude')\n",
    "\n",
    "pha_uw = 180./np.pi * np.unwrap((np.array(Q1_pha)-np.array(K1_pha))*np.pi/180.)\n",
    "axs[3,1].plot(pha_uw+360., '-bo', label = 'model')\n",
    "axs[3,1].plot((0,28),(-27.3+360,-27.3+360), 'r-', label = 'observation')\n",
    "axs[3,1].set_title('Q1-K1 Phase')\n"
   ]
  },
  {
   "cell_type": "code",
   "execution_count": null,
   "metadata": {
    "collapsed": false
   },
   "outputs": [],
   "source": [
    "sample = 17\n",
    "start = np.zeros(sample)\n",
    "tend = np.zeros(sample)\n",
    "for i in range(sample):\n",
    "    start[i] = 196+(480-196)*np.random.rand()\n",
    "    tend[i] = te-(480-196)*np.random.rand()\n",
    "print start\n",
    "print tend\n",
    "timelength = (tend-start)/96.\n",
    "print np.mean(timelength),2*np.std(timelength)\n",
    "print time[start[1]:tend[1]]\n"
   ]
  },
  {
   "cell_type": "code",
   "execution_count": null,
   "metadata": {
    "collapsed": false
   },
   "outputs": [],
   "source": [
    "#allocate space for our arrays\n",
    "M2_amp=np.zeros((numsta,sample)); M2_pha=np.zeros((numsta,sample))\n",
    "K1_amp=np.zeros((numsta,sample)); K1_pha=np.zeros((numsta,sample))\n",
    "O1_amp=np.zeros((numsta,sample)); O1_pha=np.zeros((numsta,sample))\n",
    "S2_amp=np.zeros((numsta,sample)); S2_pha=np.zeros((numsta,sample))\n",
    "N2_amp=np.zeros((numsta,sample)); N2_pha=np.zeros((numsta,sample))\n",
    "Q1_amp=np.zeros((numsta,sample)); Q1_pha=np.zeros((numsta,sample))\n",
    "\n",
    "\n",
    "\n",
    "\n",
    "for it,tst,tet in zip(range(sample),start.astype(int),tend.astype(int)):\n",
    "    \n",
    "    timeplus = np.zeros([5,tet-tst])\n",
    "  \n",
    "    for stn in range(numsta):\n",
    "        fT1 = NC.Dataset(name+stations[stn]+'.nc','r')\n",
    "        time = (fT1.variables[\"time_counter\"][tst:tet]-timeinc)/3600.  # want hours not seconds\n",
    "        ssh = fT1.variables[\"sossheig\"][:,0,0]\n",
    "        timeplus[0] = time\n",
    "        timeplus[1] = P1K1_amp[stn]*np.ones_like(time); timeplus[2] = P1K1_pha[stn]*np.ones_like(time)\n",
    "        timeplus[3] = K2S2_amp[stn]*np.ones_like(time); timeplus[4] = K2S2_pha[stn]*np.ones_like(time)        \n",
    "        \n",
    "        fitted, cov = curve_fit(sixplustwo,timeplus,ssh[tst:tet]) \n",
    "        if fitted[0] < 0:\n",
    "            fitted[0] = -fitted[0]\n",
    "            fitted[1] = fitted[1]+180\n",
    "\n",
    "        M2_amp[stn,it] = fitted[0]\n",
    "        pha = fitted[1]\n",
    "        if  pha > 360:\n",
    "            pha=pha-360\n",
    "        elif pha < 0:\n",
    "            pha = pha + 360\n",
    "        M2_pha[stn,it] = pha\n",
    "        \n",
    "        if fitted[2] < 0:\n",
    "            fitted[2] = -fitted[2]\n",
    "            fitted[3] = fitted[3]+180\n",
    "\n",
    "        K1_amp[stn,it] = fitted[2]\n",
    "        pha= fitted[3]\n",
    "        if  pha > 360:\n",
    "            pha=pha-360\n",
    "        K1_pha[stn,it]= pha   \n",
    "                \n",
    "        if fitted[4] < 0:\n",
    "            fitted[4] = -fitted[4]\n",
    "            fitted[5] = fitted[5]+180\n",
    "        O1_amp[stn,it] =fitted[4]\n",
    "        pha= fitted[5]\n",
    "        if  pha > 360:\n",
    "            pha=pha-360\n",
    "        O1_pha[stn,it]= pha \n",
    "        \n",
    "        if fitted[6] < 0:\n",
    "            fitted[6] = -fitted[6]\n",
    "            fitted[7] = fitted[7]+180\n",
    "        S2_amp[stn,it] =fitted[6]\n",
    "        pha= fitted[7]\n",
    "        if  pha > 360:\n",
    "            pha=pha-360\n",
    "        S2_pha[stn,it]= pha \n",
    "    \n",
    "        if fitted[8] < 0:\n",
    "            fitted[8] = -fitted[8]\n",
    "            fitted[9] = fitted[9]+180\n",
    "        N2_amp[stn,it] = fitted[8]\n",
    "        pha= fitted[9]\n",
    "        if  pha > 360:\n",
    "            pha=pha-360\n",
    "        N2_pha[stn,it] = pha\n",
    "        \n",
    "        if fitted[10] < 0:\n",
    "            fitted[10] = -fitted[10]\n",
    "            fitted[11] = fitted[11]+180\n",
    "        Q1_amp[stn,it] = fitted[10]\n",
    "        pha= fitted[11]\n",
    "        if  pha > 360:\n",
    "            pha=pha-360\n",
    "        Q1_pha[stn,it] = pha\n",
    "        "
   ]
  },
  {
   "cell_type": "code",
   "execution_count": null,
   "metadata": {
    "collapsed": false
   },
   "outputs": [],
   "source": [
    "jdef = range(3)\n",
    "south = range(14,18)\n",
    "north = range(27,29)\n",
    "print 'M2'\n",
    "print '     JdeFuca'\n",
    "print np.mean(M2_amp[jdef]),2*np.std(np.mean(M2_amp[jdef],axis=0))\n",
    "print np.mean(M2_amp_obs[jdef]), np.mean(M2_amp_obs[jdef])-np.mean(M2_amp[jdef])\n",
    "print np.mean(M2_amp_obs[jdef])/np.mean(M2_amp[jdef])\n",
    "print np.mean(M2_pha[jdef]),2*np.std(np.mean(M2_pha[jdef],axis=0))\n",
    "print np.mean(M2_pha_obs[jdef]), np.mean(M2_pha_obs[jdef])-np.mean(M2_pha[jdef])\n",
    "print '     South'\n",
    "print np.mean(M2_amp[south]),2*np.std(np.mean(M2_amp[south],axis=0))\n",
    "print np.mean(M2_amp_obs[south]), np.mean(M2_amp_obs[south])-np.mean(M2_amp[south])\n",
    "print np.mean(M2_amp_obs[south])/np.mean(M2_amp[south])\n",
    "print np.mean(M2_pha[south]),2*np.std(np.mean(M2_pha[south],axis=0))\n",
    "print np.mean(M2_pha_obs[south]), np.mean(M2_pha_obs[south])-np.mean(M2_pha[south])\n",
    "print '     North'\n",
    "print np.mean(M2_amp[north]),2*np.std(np.mean(M2_amp[north],axis=0))\n",
    "print np.mean(M2_amp_obs[north]), np.mean(M2_amp_obs[north])-np.mean(M2_amp[north])\n",
    "print np.mean(M2_amp_obs[north])/np.mean(M2_amp[north])\n",
    "print np.mean(M2_pha[north]),2*np.std(np.mean(M2_pha[north],axis=0))\n",
    "print np.mean(M2_pha_obs[north]), np.mean(M2_pha_obs[north])-np.mean(M2_pha[north])\n",
    "print '==============================================='\n",
    "print 'K1'\n",
    "print '     JdeFuca'\n",
    "print np.mean(K1_amp[jdef]),2*np.std(np.mean(K1_amp[jdef],axis=0))\n",
    "print np.mean(K1_amp_obs[jdef]), np.mean(K1_amp_obs[jdef])-np.mean(K1_amp[jdef])\n",
    "print np.mean(K1_amp_obs[jdef])/np.mean(K1_amp[jdef])\n",
    "print np.mean(K1_pha[jdef]),2*np.std(np.mean(K1_pha[jdef],axis=0))\n",
    "print np.mean(K1_pha_obs[jdef]), np.mean(K1_pha_obs[jdef])-np.mean(K1_pha[jdef])\n",
    "print '     South'\n",
    "print np.mean(K1_amp[south]),2*np.std(np.mean(K1_amp[south],axis=0))\n",
    "print np.mean(K1_amp_obs[south]), np.mean(K1_amp_obs[south])-np.mean(K1_amp[south])\n",
    "print np.mean(K1_amp_obs[south])/np.mean(K1_amp[south])\n",
    "print np.mean(K1_pha[south]),2*np.std(np.mean(K1_pha[south],axis=0))\n",
    "print np.mean(K1_pha_obs[south]), np.mean(K1_pha_obs[south])-np.mean(K1_pha[south])\n",
    "print '     North'\n",
    "print np.mean(K1_amp[north]),2*np.std(np.mean(K1_amp[north],axis=0))\n",
    "print np.mean(K1_amp_obs[north]), np.mean(K1_amp_obs[north])-np.mean(K1_amp[north])\n",
    "print np.mean(K1_amp_obs[north])/np.mean(K1_amp[north])\n",
    "print np.mean(K1_pha[north]),2*np.std(np.mean(K1_pha[north],axis=0))\n",
    "print np.mean(K1_pha_obs[north]), np.mean(K1_pha_obs[north])-np.mean(K1_pha[north])\n",
    "print '==============================================='"
   ]
  },
  {
   "cell_type": "code",
   "execution_count": null,
   "metadata": {
    "collapsed": false
   },
   "outputs": [],
   "source": [
    "print 'O1'\n",
    "print '     South'\n",
    "print np.mean(O1_amp[south]/K1_amp[south]),2*np.std(np.mean(O1_amp[south]/K1_amp[south],axis=0))\n",
    "print np.mean(O1_amp_obs[south]/K1_amp_obs[south]), (np.mean(O1_amp_obs[south]/K1_amp_obs[south])\n",
    "                                                    -np.mean(O1_amp[south]/K1_amp[south]))\n",
    "print np.mean(O1_amp_obs[south]/K1_amp_obs[south])/np.mean(O1_amp[south]/K1_amp[south])\n",
    "print np.mean(O1_pha[south]-K1_pha[south]),2*np.std(np.mean(O1_pha[south]-K1_pha[south],axis=0))\n",
    "print np.mean(O1_pha_obs[south]-K1_pha_obs[south]), (np.mean(O1_pha_obs[south]-K1_pha_obs[south])\n",
    "                                                     -np.mean(O1_pha[south]-K1_pha[south]))\n",
    "print '     North'\n",
    "print np.mean(O1_amp[north]/K1_amp[north]),2*np.std(np.mean(O1_amp[north]/K1_amp[north],axis=0))\n",
    "print np.mean(O1_amp_obs[north]/K1_amp_obs[north]), (np.mean(O1_amp_obs[north]/K1_amp_obs[north])\n",
    "                                                    -np.mean(O1_amp[north]/K1_amp[north]))\n",
    "print np.mean(O1_amp_obs[north]/K1_amp_obs[north])/np.mean(O1_amp[north]/K1_amp[north])\n",
    "print np.mean(O1_pha[north]-K1_pha[north]),2*np.std(np.mean(O1_pha[north]-K1_pha[north],axis=0))\n",
    "print np.mean(O1_pha_obs[north]-K1_pha_obs[north]), (np.mean(O1_pha_obs[north]-K1_pha_obs[north])\n",
    "                                                     -np.mean(O1_pha[north]-K1_pha[north]))\n",
    "print '==============================================='\n",
    "print 'S2'\n",
    "code = ('south','north')\n",
    "for dir,dire in zip(code,(south,north)):\n",
    "    print dir\n",
    "    print np.mean(S2_amp[dire]/M2_amp[dire]),2*np.std(np.mean(S2_amp[dire]/M2_amp[dire],axis=0))\n",
    "    print np.mean(S2_amp_obs[dire]/M2_amp_obs[dire]), (np.mean(S2_amp_obs[dire]/M2_amp_obs[dire])\n",
    "                                                    -np.mean(S2_amp[dire]/M2_amp[dire]))\n",
    "    print np.mean(S2_amp_obs[dire]/M2_amp_obs[dire])/np.mean(S2_amp[dire]/M2_amp[dire])\n",
    "    unwrap = np.unwrap(np.array(S2_pha)*np.pi/180.)*180./np.pi\n",
    "    M2_un = np.unwrap(np.array(M2_pha)*np.pi/180.)*180./np.pi\n",
    "    plt.plot (unwrap[dire],'r',M2_un[dire],'b')\n",
    "    print np.mean(unwrap[dire]-M2_un[dire])+360.,2*np.std(np.mean(unwrap[dire]-M2_un[dire],axis=0))\n",
    "    print np.mean(S2_pha_obs[dire]-M2_pha_obs[dire]), (np.mean(S2_pha_obs[dire]-M2_pha_obs[dire])\n",
    "                                                     -np.mean(unwrap[dire]-M2_un[dire]))-360."
   ]
  },
  {
   "cell_type": "code",
   "execution_count": null,
   "metadata": {
    "collapsed": false
   },
   "outputs": [],
   "source": [
    "const = ('Q1', 'N2')\n",
    "model_amp = (Q1_amp, N2_amp)\n",
    "model_pha = ()\n",
    "for const, model_amp, model_pha, obs_amp, obs_pha in zip(('Q1','N2'),\n",
    "                                                    (Q1_amp, N2_amp),(Q1_pha, N2_pha), \n",
    "                                                  (Q1_amp_obs, N2_amp_obs), (Q1_pha_obs, N2_pha_obs)):\n",
    "    print const\n",
    "    for dir,dire in zip(code,(south,north)):\n",
    "        print dir\n",
    "        print np.mean(model_amp[dire]/K1_amp[dire]),2*np.std(np.mean(model_amp[dire]/K1_amp[dire],axis=0))\n",
    "        print np.mean(obs_amp[dire]/K1_amp_obs[dire]), (np.mean(obs_amp[dire]/K1_amp_obs[dire])\n",
    "                                                    -np.mean(model_amp[dire]/K1_amp[dire]))\n",
    "        print np.mean(obs_amp[dire]/K1_amp_obs[dire])/np.mean(model_amp[dire]/K1_amp[dire])\n",
    "        unwrap = np.unwrap(np.array(model_pha)*np.pi/180.)*180./np.pi\n",
    "        K1_un = np.unwrap(np.array(K1_pha)*np.pi/180.)*180./np.pi\n",
    "        print np.mean(unwrap[dire]-K1_un[dire]),2*np.std(np.mean(unwrap[dire]-K1_un[dire],axis=0))\n",
    "        print np.mean(obs_pha[dire]-K1_pha_obs[dire]), (np.mean(obs_pha[dire]-K1_pha_obs[dire])\n",
    "                                                     -np.mean(unwrap[dire]-K1_un[dire]))"
   ]
  },
  {
   "cell_type": "code",
   "execution_count": null,
   "metadata": {
    "collapsed": false
   },
   "outputs": [],
   "source": [
    "fig,axs = plt.subplots(6,2,figsize=(15,25))\n",
    "for i in range(sample):\n",
    "    pha_uw = 180./np.pi * np.unwrap(np.array(M2_pha[:,i])*np.pi/180.)\n",
    "    axs[0,1].plot(pha_uw ,'-ob', label = 'model')\n",
    "pha_uw = 180./np.pi * np.unwrap(np.array(M2_pha_obs)*np.pi/180.)\n",
    "axs[0,1].plot(pha_uw, 'r-*', label = 'observation')\n",
    "axs[0,1].set_title('M2 Phase')\n",
    "for i in range(sample):\n",
    "    axs[0,0].plot(M2_amp[:,i], '-bo', label = 'model')\n",
    "axs[0,0].plot(M2_amp_obs, 'r-*', label = 'observation')\n",
    "axs[0,0].set_title('M2 Amp')\n",
    "\n",
    "for i in range(sample):\n",
    "    if K1_pha[0,i] < -360:\n",
    "        K1_pha[0,i] = K1_pha[0,i] +720.\n",
    "    elif K1_pha[0,i] < 0:\n",
    "        K1_pha[0,i] = K1_pha[0,i] + 360.\n",
    "    pha_uw = 180./np.pi * np.unwrap(np.array(K1_pha[:,i])*np.pi/180.)\n",
    "    axs[1,1].plot(pha_uw, '-bo', label = 'model')\n",
    "axs[1,1].plot(K1_pha_obs, 'r-*', label = 'observation')\n",
    "axs[1,1].set_title('K1 Phase')\n",
    "for i in range(sample):\n",
    "    axs[1,0].plot(K1_amp[:,i], '-bo', label = 'model')\n",
    "axs[1,0].plot(K1_amp_obs, 'r-*', label = 'observation')\n",
    "axs[1,0].set_title('K1 Amp')\n",
    "\n",
    "for i in range(sample):\n",
    "    if O1_pha[0,i] < 0:\n",
    "        O1_pha[0,i] = O1_pha[0,i] + 360\n",
    "    pha_uw = 180./np.pi * np.unwrap(np.array(O1_pha[:,i])*np.pi/180.)\n",
    "    axs[2,1].plot(pha_uw, '-bo', label = 'model')\n",
    "axs[2,1].plot(O1_pha_obs, 'r-*', label = 'observation', markersize = 15)\n",
    "axs[2,1].set_title('O1 Phase')\n",
    "for i in range(sample):\n",
    "    axs[2,0].plot(O1_amp[:,i], '-bo', label = 'model')\n",
    "axs[2,0].plot(O1_amp_obs, 'r-*', label = 'observation', markersize = 15)\n",
    "axs[2,0].set_title('O1 Amp')\n",
    "\n",
    "for i in range(sample):\n",
    "    if S2_pha[0,i] < 0:\n",
    "        S2_pha[0,i] = S2_pha[0,i] + 360\n",
    "    pha_uw = 180./np.pi * np.unwrap(np.array(S2_pha[:,i])*np.pi/180.)\n",
    "    axs[3,1].plot(pha_uw, '-bo', label = 'model')\n",
    "pha_uw = 180./np.pi * np.unwrap(np.array(S2_pha_obs)*np.pi/180.)\n",
    "vsmall = 1e-6\n",
    "pha_uwm = np.ma.masked_array(pha_uw, mask=(abs(pha_uw-360)<vsmall))\n",
    "axs[3,1].plot(pha_uwm, 'r-*', label = 'observation', markersize = 15)\n",
    "axs[3,1].set_title('S2 Phase')\n",
    "for i in range(sample):\n",
    "    axs[3,0].plot(S2_amp[:,i], '-bo', label = 'model')\n",
    "axs[3,0].plot(S2_amp_obs, 'r-*', label = 'observation', markersize = 15)\n",
    "axs[3,0].set_title('S2 Amp')\n",
    "\n",
    "\n",
    "for i in range(sample):\n",
    "    axs[4,0].plot(N2_amp[:,i], '-bo', label = 'model')\n",
    "axs[4,0].plot(N2_amp_obs, 'r-*', label = 'observation', markersize = 15)\n",
    "axs[4,0].set_title('N2 Amp')\n",
    "for i in range(sample):\n",
    "    pha_uw = 180./np.pi * np.unwrap(np.array(N2_pha[:,i])*np.pi/180.)\n",
    "    axs[4,1].plot(pha_uw, '-bo', label = 'model')\n",
    "pha_uw = 180./np.pi * np.unwrap(np.array(N2_pha_obs)*np.pi/180.)\n",
    "pha_uwm = np.ma.masked_array(pha_uw, mask=(abs(pha_uw-360)<vsmall))\n",
    "axs[4,1].plot(pha_uwm, 'r-*', label = 'observation', markersize = 15)  \n",
    "axs[4,1].set_title('N2 Phase')\n",
    "\n",
    "for i in range(sample):\n",
    "    axs[5,0].plot(Q1_amp[:,i], '-bo', label = 'model')\n",
    "axs[5,0].plot(Q1_amp_obs, 'r-*', label = 'observation', markersize = 15)\n",
    "axs[5,0].set_title('Q1 Amp')\n",
    "for i in range(sample):\n",
    "    pha_uw = 180./np.pi * np.unwrap(np.array(Q1_pha[:,i])*np.pi/180.)\n",
    "    for j in range(numsta):\n",
    "        if pha_uw[j] < 0:\n",
    "            pha_uw[j] += 360\n",
    "    axs[5,1].plot(pha_uw, '-bo', label = 'model')\n",
    "axs[5,1].plot(Q1_pha_obs, 'r-*', label = 'observation', markersize = 15)\n",
    "axs[5,1].set_title('Q1 Phase')\n"
   ]
  },
  {
   "cell_type": "code",
   "execution_count": null,
   "metadata": {
    "collapsed": false
   },
   "outputs": [],
   "source": []
  }
 ],
 "metadata": {
  "kernelspec": {
   "display_name": "Python 2",
   "language": "python",
   "name": "python2"
  },
  "language_info": {
   "codemirror_mode": {
    "name": "ipython",
    "version": 2
   },
   "file_extension": ".py",
   "mimetype": "text/x-python",
   "name": "python",
   "nbconvert_exporter": "python",
   "pygments_lexer": "ipython2",
   "version": "2.7.10"
  }
 },
 "nbformat": 4,
 "nbformat_minor": 0
}
