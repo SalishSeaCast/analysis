{
 "metadata": {
  "name": "",
  "signature": "sha256:59105c67ef8a09118c8a953b0790ef4ce3e8ceaa033ebb5b0e1232bec4fb44a1"
 },
 "nbformat": 3,
 "nbformat_minor": 0,
 "worksheets": [
  {
   "cells": [
    {
     "cell_type": "markdown",
     "metadata": {},
     "source": [
      "Notebook to look at one day of Data from Kao-Shen...   \n",
      "* check wind"
     ]
    },
    {
     "cell_type": "code",
     "collapsed": false,
     "input": [
      "%matplotlib inline\n",
      "import matplotlib.pyplot as plt\n",
      "import netCDF4 as NC\n",
      "import numpy as np\n",
      "from salishsea_tools import tidetools"
     ],
     "language": "python",
     "metadata": {},
     "outputs": [],
     "prompt_number": 12
    },
    {
     "cell_type": "code",
     "collapsed": false,
     "input": [
      "date = 'Sep 10, 2014'\n",
      "time = 0\n",
      "resultsloc = '/data/dlatorne/MEOPAR/SalishSea/results/gem-res-10sep14/'\n",
      "name = 'SalishSea_1h_20140910_20140910_grid_'"
     ],
     "language": "python",
     "metadata": {},
     "outputs": [],
     "prompt_number": 13
    },
    {
     "cell_type": "code",
     "collapsed": false,
     "input": [
      "filename = resultsloc+name+'V.nc'\n",
      "fU = NC.Dataset(resultsloc+name+'U.nc')\n",
      "fV = NC.Dataset(filename,'r')\n",
      "print fV.variables['v_wind_stress']\n",
      "windU = fU.variables['u_wind_stress'][:]\n",
      "windV = fV.variables['v_wind_stress'][:]"
     ],
     "language": "python",
     "metadata": {},
     "outputs": [
      {
       "output_type": "stream",
       "stream": "stdout",
       "text": [
        "<type 'netCDF4.Variable'>\n",
        "float32 v_wind_stress(time_counter, y, x)\n",
        "    units: N/m2\n",
        "    standard_name: Wind Stress along j-axis\n",
        "    _FillValue: 9.96921e+36\n",
        "    long_name: Wind Stress along j-axis\n",
        "    online_operation: ave(X)\n",
        "    interval_operation: 10.0\n",
        "    interval_write: 3600.0\n",
        "    coordinates: time_counter nav_lat nav_lon\n",
        "unlimited dimensions: time_counter\n",
        "current shape = (24, 898, 398)\n",
        "filling on\n"
       ]
      }
     ],
     "prompt_number": 14
    },
    {
     "cell_type": "code",
     "collapsed": false,
     "input": [
      "#grid\n",
      "bathy, X, Y = tidetools.get_SS_bathy_data()\n",
      "#Latitude: 49.1059. Longitude: -123.3033.\n",
      "i,j = tidetools.find_closest_model_point(-123.3033,49.1059,X,Y,bathy)\n",
      "print X[i,j],Y[i,j]\n",
      "print tidetools.find_closest_model_point(-123-18/60.,49+29./60,X,Y,bathy)\n"
     ],
     "language": "python",
     "metadata": {},
     "outputs": [
      {
       "output_type": "stream",
       "stream": "stdout",
       "text": [
        "-123.307228088 49.1056976318\n",
        "(501, 340)\n"
       ]
      }
     ],
     "prompt_number": 15
    },
    {
     "cell_type": "code",
     "collapsed": false,
     "input": [
      "print i,j"
     ],
     "language": "python",
     "metadata": {},
     "outputs": [
      {
       "output_type": "stream",
       "stream": "stdout",
       "text": [
        "428 292\n"
       ]
      }
     ],
     "prompt_number": 16
    },
    {
     "cell_type": "code",
     "collapsed": false,
     "input": [
      "fig, ax = plt.subplots(1,1,figsize=(5,5))\n",
      "ax.plot(windU[:,i,j],windV[:,i,j])\n",
      "ax.set_xlim((-0.3,0.05))\n",
      "ax.set_ylim((-0.2,0.15))\n",
      "k=14\n",
      "ax.plot(windU[k,i,j],windV[k,i,j],'o')\n",
      "print windU[k,i,j],windV[k,i,j]\n",
      "raw = np.arctan2(windV[k,i,j],windU[k,i,j])*180./(np.pi)\n",
      "print raw,360-raw+90-29\n",
      "print np.sqrt(np.sqrt(windU[:,i,j]**2+windV[:,i,j]**2)/2.)*3.6"
     ],
     "language": "python",
     "metadata": {},
     "outputs": [
      {
       "output_type": "stream",
       "stream": "stdout",
       "text": [
        "-0.250865 0.0972174\n",
        "158.817225147 262.182774853\n",
        "[ 0.23229708  0.27938715  0.29106802  0.28930068  0.28722027  0.27554178\n",
        "  0.19501147  0.22295611  0.28819403  0.3458221   0.39657277  0.48651183\n",
        "  0.78410727  1.18766797  1.32038009  1.34503174  1.21021926  1.08382142\n",
        "  0.96192819  0.80306321  0.67555678  0.53652459  0.42451215  0.3287825 ]\n"
       ]
      },
      {
       "metadata": {},
       "output_type": "display_data",
       "png": "[encoded data removed]",
       "text": [
        "<matplotlib.figure.Figure at 0x3c66b50>"
       ]
      }
     ],
     "prompt_number": 17
    },
    {
     "cell_type": "code",
     "collapsed": false,
     "input": [
      "# 1400 UTC = 0600 PST = 0700 PDT\n",
      "# during this time Sandheads winds are direction 27 which is from the West\n",
      "print 0.002*1.2*(10/3.6)**2\n",
      "#dir=np.array([17,16,18,15,12,12,9,9,11,9,13,10,23,7,26,27,29,28,30,28])\n",
      "#mag = np.array([13,15,15,12,13,11,10,15,13,9,8,10,7,5,6,4,6,9,11,10])/3.6\n",
      "dir=np.array([36,34,36,33,35,31,35,33,4,5])\n",
      "mag = np.array([14,11,13,2,11,6,9,10,43,44])/3.6\n",
      "stress = 0.002*1.2*mag**2\n",
      "vs = stress*np.cos((dir*10+29)/180.*np.pi)\n",
      "us = stress*np.sin((dir*10+29)/180.*np.pi)\n",
      "fig, ax = plt.subplots(1,1,figsize=(5,5))\n",
      "ax.plot(-us,-vs)\n",
      "ax.plot(0.,0.,'o')\n",
      "ax.plot(windU[:,i,j],windV[:,i,j])\n",
      "ax.set_xlim((-0.5,0.05))\n",
      "ax.set_ylim((-0.4,0.15))\n",
      "print dir*10-29"
     ],
     "language": "python",
     "metadata": {},
     "outputs": [
      {
       "output_type": "stream",
       "stream": "stdout",
       "text": [
        "0.0185185185185\n",
        "[331 311 331 301 321 281 321 301  11  21]"
       ]
      },
      {
       "output_type": "stream",
       "stream": "stdout",
       "text": [
        "\n"
       ]
      },
      {
       "metadata": {},
       "output_type": "display_data",
       "png": "[encoded data removed]",
       "text": [
        "<matplotlib.figure.Figure at 0x3c51750>"
       ]
      }
     ],
     "prompt_number": 23
    },
    {
     "cell_type": "code",
     "collapsed": false,
     "input": [
      "w=11\n",
      "print w*w*1.2*0.002"
     ],
     "language": "python",
     "metadata": {},
     "outputs": [
      {
       "output_type": "stream",
       "stream": "stdout",
       "text": [
        "0.2904\n"
       ]
      }
     ],
     "prompt_number": 19
    },
    {
     "cell_type": "code",
     "collapsed": false,
     "input": [],
     "language": "python",
     "metadata": {},
     "outputs": [],
     "prompt_number": 19
    }
   ],
   "metadata": {}
  }
 ]
}