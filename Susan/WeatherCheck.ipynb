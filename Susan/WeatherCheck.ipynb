{
 "metadata": {
  "name": "",
  "signature": "sha256:bcd26cb59094b464744278255b0e176e07659aeb0fbb21ff8aa6982fb5074e58"
 },
 "nbformat": 3,
 "nbformat_minor": 0,
 "worksheets": [
  {
   "cells": [
    {
     "cell_type": "markdown",
     "metadata": {},
     "source": [
      "Notebook to look at one day of Data from Kao-Shen...   \n",
      "* check wind"
     ]
    },
    {
     "cell_type": "code",
     "collapsed": false,
     "input": [
      "%matplotlib inline\n",
      "import matplotlib.pyplot as plt\n",
      "import netCDF4 as NC\n",
      "import numpy as np"
     ],
     "language": "python",
     "metadata": {},
     "outputs": [],
     "prompt_number": 2
    },
    {
     "cell_type": "code",
     "collapsed": false,
     "input": [
      "date = 'Sep 10, 2014'\n",
      "time = 0\n",
      "resultsloc = '/data/dlatorne/MEOPAR/SalishSea/results/gem-res-10sep14/'\n",
      "name = 'SalishSea_1h_20140910_20140910_grid_'"
     ],
     "language": "python",
     "metadata": {},
     "outputs": [],
     "prompt_number": 3
    },
    {
     "cell_type": "code",
     "collapsed": false,
     "input": [
      "filename = resultsloc+name+'V.nc'\n",
      "fV = NC.Dataset(filename,'r')\n",
      "\n",
      "windV = fV.variables['v_wind_stress'][time,:]"
     ],
     "language": "python",
     "metadata": {},
     "outputs": [],
     "prompt_number": 14
    },
    {
     "cell_type": "code",
     "collapsed": false,
     "input": [
      "#Latitude: 49.1059. Longitude: -123.3033."
     ],
     "language": "python",
     "metadata": {},
     "outputs": []
    }
   ],
   "metadata": {}
  }
 ]
}