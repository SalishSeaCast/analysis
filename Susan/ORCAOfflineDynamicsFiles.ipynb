{
 "metadata": {
  "name": "",
  "signature": "sha256:809583a63962d8e891fc8912c1961eae4271ebebee49dae487ff7f2110b61d58"
 },
 "nbformat": 3,
 "nbformat_minor": 0,
 "worksheets": [
  {
   "cells": [
    {
     "cell_type": "markdown",
     "metadata": {},
     "source": [
      "Look at offline file requirements"
     ]
    },
    {
     "cell_type": "code",
     "collapsed": false,
     "input": [
      "from __future__ import division\n",
      "\n",
      "import netCDF4 as NC\n",
      "from salishsea_tools import nc_tools"
     ],
     "language": "python",
     "metadata": {},
     "outputs": [],
     "prompt_number": 7
    },
    {
     "cell_type": "code",
     "collapsed": false,
     "input": [
      "# imports\n",
      "%matplotlib inline\n",
      "\n",
      "import numpy as np\n",
      "import matplotlib.pylab as plt\n",
      "from scipy.optimize import curve_fit\n",
      "from salishsea_tools import tidetools\n",
      "from salishsea_tools import viz_tools\n",
      "from salishsea_tools import bathy_tools\n",
      "import collections\n",
      "import pandas as pd\n",
      "import csv\n",
      "import math\n",
      "\n"
     ],
     "language": "python",
     "metadata": {},
     "outputs": []
    },
    {
     "cell_type": "code",
     "collapsed": false,
     "input": [
      "filename = '/ocean/sallen/allen/research/MEOPAR/NEMO-code/NEMOGCM/CONFIG/Cindy/EXP00/dyna_grid_T.nc'\n",
      "data = NC.Dataset(filename, 'r')"
     ],
     "language": "python",
     "metadata": {},
     "outputs": [],
     "prompt_number": 2
    },
    {
     "cell_type": "code",
     "collapsed": false,
     "input": [
      "nc_tools.show_dimensions(data)"
     ],
     "language": "python",
     "metadata": {},
     "outputs": [
      {
       "output_type": "stream",
       "stream": "stdout",
       "text": [
        "<type 'netCDF4.Dimension'>: name = 'x', size = 182\n",
        "\n",
        "<type 'netCDF4.Dimension'>: name = 'y', size = 149\n",
        "\n",
        "<type 'netCDF4.Dimension'>: name = 'deptht', size = 31\n",
        "\n",
        "<type 'netCDF4.Dimension'> (unlimited): name = 'time_counter', size = 73\n",
        "\n"
       ]
      }
     ],
     "prompt_number": 8
    },
    {
     "cell_type": "code",
     "collapsed": false,
     "input": [
      "nc_tools.show_variables(data)"
     ],
     "language": "python",
     "metadata": {},
     "outputs": [
      {
       "output_type": "stream",
       "stream": "stdout",
       "text": [
        "[u'nav_lon', u'nav_lat', u'deptht', u'time_counter', u'votemper', u'vosaline', u'sosstsst', u'sosaline', u'sossheig', u'iowaflup', u'sowaflep', u'sowaflup', u'sorunoff', u'sowaflcd', u'sosalflx', u'sohefldo', u'soshfldo', u'somxl010', u'somixhgt', u'soicecov', u'sowindsp', u'sohefldp', u'sowafldp', u'sosafldp', u'sobowlin']\n"
       ]
      }
     ],
     "prompt_number": 10
    },
    {
     "cell_type": "code",
     "collapsed": false,
     "input": [
      "nc_tools.show_variable_attrs(data, 'sosstsst')"
     ],
     "language": "python",
     "metadata": {},
     "outputs": [
      {
       "output_type": "stream",
       "stream": "stdout",
       "text": [
        "<type 'netCDF4.Variable'>\n",
        "float32 sosstsst(time_counter, y, x)\n",
        "    units: C\n",
        "    missing_value: 1e+20\n",
        "    valid_min: 1e+20\n",
        "    valid_max: -1e+20\n",
        "    long_name: Sea Surface temperature\n",
        "    short_name: sosstsst\n",
        "    online_operation: ave(x)\n",
        "    axis: TYX\n",
        "    interval_operation: 5760.0\n",
        "    interval_write: 432000.0\n",
        "    associate: time_counter nav_lat nav_lon\n",
        "unlimited dimensions: time_counter\n",
        "current shape = (73, 149, 182)\n",
        "filling off\n",
        "\n"
       ]
      }
     ],
     "prompt_number": 11
    },
    {
     "cell_type": "code",
     "collapsed": false,
     "input": [
      "nc_tools.show_variable_attrs(data, 'iowaflup')"
     ],
     "language": "python",
     "metadata": {},
     "outputs": [
      {
       "output_type": "stream",
       "stream": "stdout",
       "text": [
        "<type 'netCDF4.Variable'>\n",
        "float32 iowaflup(time_counter, y, x)\n",
        "    units: kg/m2/s\n",
        "    missing_value: 1e+20\n",
        "    valid_min: 1e+20\n",
        "    valid_max: -1e+20\n",
        "    long_name: Ice=>ocean net freshwater\n",
        "    short_name: iowaflup\n",
        "    online_operation: ave(x)\n",
        "    axis: TYX\n",
        "    interval_operation: 5760.0\n",
        "    interval_write: 432000.0\n",
        "    associate: time_counter nav_lat nav_lon\n",
        "unlimited dimensions: time_counter\n",
        "current shape = (73, 149, 182)\n",
        "filling off\n",
        "\n"
       ]
      }
     ],
     "prompt_number": 12
    },
    {
     "cell_type": "code",
     "collapsed": false,
     "input": [
      "nc_tools.show_variable_attrs(data, 'sowaflep')"
     ],
     "language": "python",
     "metadata": {},
     "outputs": [
      {
       "output_type": "stream",
       "stream": "stdout",
       "text": [
        "<type 'netCDF4.Variable'>\n",
        "float32 sowaflep(time_counter, y, x)\n",
        "    units: kg/m2/s\n",
        "    missing_value: 1e+20\n",
        "    valid_min: 1e+20\n",
        "    valid_max: -1e+20\n",
        "    long_name: atmos=>ocean net freshwater\n",
        "    short_name: sowaflep\n",
        "    online_operation: ave(x)\n",
        "    axis: TYX\n",
        "    interval_operation: 5760.0\n",
        "    interval_write: 432000.0\n",
        "    associate: time_counter nav_lat nav_lon\n",
        "unlimited dimensions: time_counter\n",
        "current shape = (73, 149, 182)\n",
        "filling off\n",
        "\n"
       ]
      }
     ],
     "prompt_number": 13
    },
    {
     "cell_type": "code",
     "collapsed": false,
     "input": [
      "nc_tools.show_variable_attrs(data, 'sowaflup')"
     ],
     "language": "python",
     "metadata": {},
     "outputs": [
      {
       "output_type": "stream",
       "stream": "stdout",
       "text": [
        "<type 'netCDF4.Variable'>\n",
        "float32 sowaflup(time_counter, y, x)\n",
        "    units: Kg/m2/s\n",
        "    missing_value: 1e+20\n",
        "    valid_min: 1e+20\n",
        "    valid_max: -1e+20\n",
        "    long_name: Net Upward Water Flux\n",
        "    short_name: sowaflup\n",
        "    online_operation: ave(x)\n",
        "    axis: TYX\n",
        "    interval_operation: 5760.0\n",
        "    interval_write: 432000.0\n",
        "    associate: time_counter nav_lat nav_lon\n",
        "unlimited dimensions: time_counter\n",
        "current shape = (73, 149, 182)\n",
        "filling off\n",
        "\n"
       ]
      }
     ],
     "prompt_number": 14
    },
    {
     "cell_type": "code",
     "collapsed": false,
     "input": [
      "nc_tools.show_variable_attrs(data, 'sowaflcd')"
     ],
     "language": "python",
     "metadata": {},
     "outputs": [
      {
       "output_type": "stream",
       "stream": "stdout",
       "text": [
        "<type 'netCDF4.Variable'>\n",
        "float32 sowaflcd(time_counter, y, x)\n",
        "    units: kg/m2/s\n",
        "    missing_value: 1e+20\n",
        "    valid_min: 1e+20\n",
        "    valid_max: -1e+20\n",
        "    long_name: concentration/dilution water flux\n",
        "    short_name: sowaflcd\n",
        "    online_operation: ave(x)\n",
        "    axis: TYX\n",
        "    interval_operation: 5760.0\n",
        "    interval_write: 432000.0\n",
        "    associate: time_counter nav_lat nav_lon\n",
        "unlimited dimensions: time_counter\n",
        "current shape = (73, 149, 182)\n",
        "filling off\n",
        "\n"
       ]
      }
     ],
     "prompt_number": 15
    },
    {
     "cell_type": "code",
     "collapsed": false,
     "input": [
      "nc_tools.show_variable_attrs(data, 'sosalflx')"
     ],
     "language": "python",
     "metadata": {},
     "outputs": [
      {
       "output_type": "stream",
       "stream": "stdout",
       "text": [
        "<type 'netCDF4.Variable'>\n",
        "float32 sosalflx(time_counter, y, x)\n",
        "    units: Kg/m2/s\n",
        "    missing_value: 1e+20\n",
        "    valid_min: 1e+20\n",
        "    valid_max: -1e+20\n",
        "    long_name: Surface Salt Flux\n",
        "    short_name: sosalflx\n",
        "    online_operation: ave(x)\n",
        "    axis: TYX\n",
        "    interval_operation: 5760.0\n",
        "    interval_write: 432000.0\n",
        "    associate: time_counter nav_lat nav_lon\n",
        "unlimited dimensions: time_counter\n",
        "current shape = (73, 149, 182)\n",
        "filling off\n",
        "\n"
       ]
      }
     ],
     "prompt_number": 16
    },
    {
     "cell_type": "code",
     "collapsed": false,
     "input": [
      "nc_tools.show_variable_attrs(data, 'sohefldo')"
     ],
     "language": "python",
     "metadata": {},
     "outputs": [
      {
       "output_type": "stream",
       "stream": "stdout",
       "text": [
        "<type 'netCDF4.Variable'>\n",
        "float32 sohefldo(time_counter, y, x)\n",
        "    units: W/m2\n",
        "    missing_value: 1e+20\n",
        "    valid_min: 1e+20\n",
        "    valid_max: -1e+20\n",
        "    long_name: Net Downward Heat Flux\n",
        "    short_name: sohefldo\n",
        "    online_operation: ave(x)\n",
        "    axis: TYX\n",
        "    interval_operation: 5760.0\n",
        "    interval_write: 432000.0\n",
        "    associate: time_counter nav_lat nav_lon\n",
        "unlimited dimensions: time_counter\n",
        "current shape = (73, 149, 182)\n",
        "filling off\n",
        "\n"
       ]
      }
     ],
     "prompt_number": 17
    },
    {
     "cell_type": "code",
     "collapsed": false,
     "input": [
      "nc_tools.show_variable_attrs(data, 'soshfldo')"
     ],
     "language": "python",
     "metadata": {},
     "outputs": [
      {
       "output_type": "stream",
       "stream": "stdout",
       "text": [
        "<type 'netCDF4.Variable'>\n",
        "float32 soshfldo(time_counter, y, x)\n",
        "    units: W/m2\n",
        "    missing_value: 1e+20\n",
        "    valid_min: 1e+20\n",
        "    valid_max: -1e+20\n",
        "    long_name: Shortwave Radiation\n",
        "    short_name: soshfldo\n",
        "    online_operation: ave(x)\n",
        "    axis: TYX\n",
        "    interval_operation: 5760.0\n",
        "    interval_write: 432000.0\n",
        "    associate: time_counter nav_lat nav_lon\n",
        "unlimited dimensions: time_counter\n",
        "current shape = (73, 149, 182)\n",
        "filling off\n",
        "\n"
       ]
      }
     ],
     "prompt_number": 18
    },
    {
     "cell_type": "code",
     "collapsed": false,
     "input": [
      "nc_tools.show_variable_attrs(data, 'somxl010')"
     ],
     "language": "python",
     "metadata": {},
     "outputs": [
      {
       "output_type": "stream",
       "stream": "stdout",
       "text": [
        "<type 'netCDF4.Variable'>\n",
        "float32 somxl010(time_counter, y, x)\n",
        "    units: m\n",
        "    missing_value: 1e+20\n",
        "    valid_min: 1e+20\n",
        "    valid_max: -1e+20\n",
        "    long_name: Mixed Layer Depth 0.01\n",
        "    short_name: somxl010\n",
        "    online_operation: ave(x)\n",
        "    axis: TYX\n",
        "    interval_operation: 5760.0\n",
        "    interval_write: 432000.0\n",
        "    associate: time_counter nav_lat nav_lon\n",
        "unlimited dimensions: time_counter\n",
        "current shape = (73, 149, 182)\n",
        "filling off\n",
        "\n"
       ]
      }
     ],
     "prompt_number": 19
    },
    {
     "cell_type": "code",
     "collapsed": false,
     "input": [
      "nc_tools.show_variable_attrs(data, 'somixhgt')\n",
      "# only used by PISCES, call hmld -- will need re-writing code not to use"
     ],
     "language": "python",
     "metadata": {},
     "outputs": [
      {
       "output_type": "stream",
       "stream": "stdout",
       "text": [
        "<type 'netCDF4.Variable'>\n",
        "float32 somixhgt(time_counter, y, x)\n",
        "    units: m\n",
        "    missing_value: 1e+20\n",
        "    valid_min: 1e+20\n",
        "    valid_max: -1e+20\n",
        "    long_name: Turbocline Depth\n",
        "    short_name: somixhgt\n",
        "    online_operation: ave(x)\n",
        "    axis: TYX\n",
        "    interval_operation: 5760.0\n",
        "    interval_write: 432000.0\n",
        "    associate: time_counter nav_lat nav_lon\n",
        "unlimited dimensions: time_counter\n",
        "current shape = (73, 149, 182)\n",
        "filling off\n",
        "\n"
       ]
      }
     ],
     "prompt_number": 21
    },
    {
     "cell_type": "code",
     "collapsed": false,
     "input": [
      "nc_tools.show_variable_attrs(data, 'sohefldp')"
     ],
     "language": "python",
     "metadata": {},
     "outputs": [
      {
       "output_type": "stream",
       "stream": "stdout",
       "text": [
        "<type 'netCDF4.Variable'>\n",
        "float32 sohefldp(time_counter, y, x)\n",
        "    units: W/m2\n",
        "    missing_value: 1e+20\n",
        "    valid_min: 1e+20\n",
        "    valid_max: -1e+20\n",
        "    long_name: Surface Heat Flux: Damping\n",
        "    short_name: sohefldp\n",
        "    online_operation: ave(x)\n",
        "    axis: TYX\n",
        "    interval_operation: 5760.0\n",
        "    interval_write: 432000.0\n",
        "    associate: time_counter nav_lat nav_lon\n",
        "unlimited dimensions: time_counter\n",
        "current shape = (73, 149, 182)\n",
        "filling off\n",
        "\n"
       ]
      }
     ],
     "prompt_number": 22
    },
    {
     "cell_type": "code",
     "collapsed": false,
     "input": [
      "nc_tools.show_variable_attrs(data, 'sowafldp')"
     ],
     "language": "python",
     "metadata": {},
     "outputs": [
      {
       "output_type": "stream",
       "stream": "stdout",
       "text": [
        "<type 'netCDF4.Variable'>\n",
        "float32 sowafldp(time_counter, y, x)\n",
        "    units: Kg/m2/s\n",
        "    missing_value: 1e+20\n",
        "    valid_min: 1e+20\n",
        "    valid_max: -1e+20\n",
        "    long_name: Surface Water Flux: Damping\n",
        "    short_name: sowafldp\n",
        "    online_operation: ave(x)\n",
        "    axis: TYX\n",
        "    interval_operation: 5760.0\n",
        "    interval_write: 432000.0\n",
        "    associate: time_counter nav_lat nav_lon\n",
        "unlimited dimensions: time_counter\n",
        "current shape = (73, 149, 182)\n",
        "filling off\n",
        "\n"
       ]
      }
     ],
     "prompt_number": 23
    },
    {
     "cell_type": "code",
     "collapsed": false,
     "input": [
      "nc_tools.show_variable_attrs(data, 'sobowlin')"
     ],
     "language": "python",
     "metadata": {},
     "outputs": [
      {
       "output_type": "stream",
       "stream": "stdout",
       "text": [
        "<type 'netCDF4.Variable'>\n",
        "float32 sobowlin(y, x)\n",
        "    units: W-point\n",
        "    missing_value: 1e+20\n",
        "    valid_min: 1e+20\n",
        "    valid_max: -1e+20\n",
        "    long_name: Bowl Index\n",
        "    short_name: sobowlin\n",
        "    online_operation: l_max(only(x))\n",
        "    axis: YX\n",
        "    associate: nav_lat nav_lon\n",
        "unlimited dimensions: \n",
        "current shape = (149, 182)\n",
        "filling off\n",
        "\n"
       ]
      }
     ],
     "prompt_number": 24
    },
    {
     "cell_type": "markdown",
     "metadata": {},
     "source": [
      "List of included variables:\n",
      "* temperature (read in namdta_dyn namelist)\n",
      "* sea surface temperature\n",
      "* salinity (read in namdta_dyn namelist)\n",
      "* sea surface salinity\n",
      "* sea surface height\n",
      "* ice to ocean net freshwater\n",
      "* atmos to ocean net freshwater\n",
      "* net upward water flux\n",
      "* river runoff\n",
      "* concentration/dilution water flux (also a surface flux) ???\n",
      "* surface salt flux\n",
      "* net downward heat flux\n",
      "* shortwave radiation\n",
      "* mixed layer depth\n",
      "* turbocline depth (mixing layer?)\n",
      "* ice cover\n",
      "* wind speed\n",
      "* surface heat flux damping\n",
      "* surface water flux damping\n",
      "* surface salinity damping\n",
      "* bowl index ????"
     ]
    },
    {
     "cell_type": "code",
     "collapsed": false,
     "input": [
      "filename = '/ocean/sallen/allen/research/MEOPAR/NEMO-code/NEMOGCM/CONFIG/Cindy/EXP00/dyna_grid_U.nc'\n",
      "udata = NC.Dataset(filename, 'r')"
     ],
     "language": "python",
     "metadata": {},
     "outputs": [],
     "prompt_number": 25
    },
    {
     "cell_type": "code",
     "collapsed": false,
     "input": [
      "nc_tools.show_dimensions(udata)"
     ],
     "language": "python",
     "metadata": {},
     "outputs": [
      {
       "output_type": "stream",
       "stream": "stdout",
       "text": [
        "<type 'netCDF4.Dimension'>: name = 'x', size = 182\n",
        "\n",
        "<type 'netCDF4.Dimension'>: name = 'y', size = 149\n",
        "\n",
        "<type 'netCDF4.Dimension'>: name = 'depthu', size = 31\n",
        "\n",
        "<type 'netCDF4.Dimension'> (unlimited): name = 'time_counter', size = 73\n",
        "\n"
       ]
      }
     ],
     "prompt_number": 26
    },
    {
     "cell_type": "code",
     "collapsed": false,
     "input": [
      "nc_tools.show_variables(udata)"
     ],
     "language": "python",
     "metadata": {},
     "outputs": [
      {
       "output_type": "stream",
       "stream": "stdout",
       "text": [
        "[u'nav_lon', u'nav_lat', u'depthu', u'time_counter', u'vozocrtx', u'sobblcox', u'vozoeivu', u'sozotaux']\n"
       ]
      }
     ],
     "prompt_number": 27
    },
    {
     "cell_type": "code",
     "collapsed": false,
     "input": [
      "nc_tools.show_variable_attrs(udata, 'sobblcox')"
     ],
     "language": "python",
     "metadata": {},
     "outputs": [
      {
       "output_type": "stream",
       "stream": "stdout",
       "text": [
        "<type 'netCDF4.Variable'>\n",
        "float32 sobblcox(time_counter, y, x)\n",
        "    units: m2/s\n",
        "    missing_value: 1e+20\n",
        "    valid_min: 1e+20\n",
        "    valid_max: -1e+20\n",
        "    long_name: Bottom Layer\n",
        "    short_name: sobblcox\n",
        "    online_operation: ave(x)\n",
        "    axis: TYX\n",
        "    interval_operation: 5760.0\n",
        "    interval_write: 432000.0\n",
        "    associate: time_counter nav_lat nav_lon\n",
        "unlimited dimensions: time_counter\n",
        "current shape = (73, 149, 182)\n",
        "filling off\n",
        "\n"
       ]
      }
     ],
     "prompt_number": 28
    },
    {
     "cell_type": "code",
     "collapsed": false,
     "input": [
      "nc_tools.show_variable_attrs(udata, 'vozoeivu')"
     ],
     "language": "python",
     "metadata": {},
     "outputs": [
      {
       "output_type": "stream",
       "stream": "stdout",
       "text": [
        "<type 'netCDF4.Variable'>\n",
        "float32 vozoeivu(time_counter, depthu, y, x)\n",
        "    units: m/s\n",
        "    missing_value: 1e+20\n",
        "    valid_min: 1e+20\n",
        "    valid_max: -1e+20\n",
        "    long_name: Zonal EIV Current\n",
        "    short_name: vozoeivu\n",
        "    online_operation: ave(x)\n",
        "    axis: TZYX\n",
        "    interval_operation: 5760.0\n",
        "    interval_write: 432000.0\n",
        "    associate: time_counter depthu nav_lat nav_lon\n",
        "unlimited dimensions: time_counter\n",
        "current shape = (73, 31, 149, 182)\n",
        "filling off\n",
        "\n"
       ]
      }
     ],
     "prompt_number": 29
    },
    {
     "cell_type": "code",
     "collapsed": false,
     "input": [
      "nc_tools.show_variable_attrs(udata, 'sozotaux')"
     ],
     "language": "python",
     "metadata": {},
     "outputs": [
      {
       "output_type": "stream",
       "stream": "stdout",
       "text": [
        "<type 'netCDF4.Variable'>\n",
        "float32 sozotaux(time_counter, y, x)\n",
        "    units: N/m2\n",
        "    missing_value: 1e+20\n",
        "    valid_min: 1e+20\n",
        "    valid_max: -1e+20\n",
        "    long_name: Wind Stress along i-axis\n",
        "    short_name: sozotaux\n",
        "    online_operation: ave(x)\n",
        "    axis: TYX\n",
        "    interval_operation: 5760.0\n",
        "    interval_write: 432000.0\n",
        "    associate: time_counter nav_lat nav_lon\n",
        "unlimited dimensions: time_counter\n",
        "current shape = (73, 149, 182)\n",
        "filling off\n",
        "\n"
       ]
      }
     ],
     "prompt_number": 30
    },
    {
     "cell_type": "markdown",
     "metadata": {},
     "source": [
      "List of Included Variables:\n",
      "* u-direction velocity\n",
      "* bottom layer in m2/s\n",
      "* zonal eiv current ??? m/s\n",
      "* wind stress"
     ]
    },
    {
     "cell_type": "code",
     "collapsed": false,
     "input": [
      "filename = '/ocean/sallen/allen/research/MEOPAR/NEMO-code/NEMOGCM/CONFIG/Cindy/EXP00/dyna_grid_W.nc'\n",
      "wdata = NC.Dataset(filename, 'r')"
     ],
     "language": "python",
     "metadata": {},
     "outputs": [],
     "prompt_number": 32
    },
    {
     "cell_type": "code",
     "collapsed": false,
     "input": [
      "nc_tools.show_dimensions(wdata)"
     ],
     "language": "python",
     "metadata": {},
     "outputs": [
      {
       "output_type": "stream",
       "stream": "stdout",
       "text": [
        "<type 'netCDF4.Dimension'>: name = 'x', size = 182\n",
        "\n",
        "<type 'netCDF4.Dimension'>: name = 'y', size = 149\n",
        "\n",
        "<type 'netCDF4.Dimension'>: name = 'depthw', size = 31\n",
        "\n",
        "<type 'netCDF4.Dimension'> (unlimited): name = 'time_counter', size = 73\n",
        "\n"
       ]
      }
     ],
     "prompt_number": 33
    },
    {
     "cell_type": "code",
     "collapsed": false,
     "input": [
      "nc_tools.show_variables(wdata)"
     ],
     "language": "python",
     "metadata": {},
     "outputs": [
      {
       "output_type": "stream",
       "stream": "stdout",
       "text": [
        "[u'nav_lon', u'nav_lat', u'depthw', u'time_counter', u'vovecrtz', u'voveeivw', u'votkeavt', u'votkeevd', u'votkeavm', u'votkeevm', u'voddmavs', u'soleahtw', u'soleaeiw']\n"
       ]
      }
     ],
     "prompt_number": 34
    },
    {
     "cell_type": "code",
     "collapsed": false,
     "input": [
      "nc_tools.show_variable_attrs(wdata, 'votkeavt')"
     ],
     "language": "python",
     "metadata": {},
     "outputs": [
      {
       "output_type": "stream",
       "stream": "stdout",
       "text": [
        "<type 'netCDF4.Variable'>\n",
        "float32 votkeavt(time_counter, depthw, y, x)\n",
        "    units: m2/s\n",
        "    missing_value: 1e+20\n",
        "    valid_min: 1e+20\n",
        "    valid_max: -1e+20\n",
        "    long_name: Vertical Eddy Diffusivity\n",
        "    short_name: votkeavt\n",
        "    online_operation: ave(x)\n",
        "    axis: TZYX\n",
        "    interval_operation: 5760.0\n",
        "    interval_write: 432000.0\n",
        "    associate: time_counter depthw nav_lat nav_lon\n",
        "unlimited dimensions: time_counter\n",
        "current shape = (73, 31, 149, 182)\n",
        "filling off\n",
        "\n"
       ]
      }
     ],
     "prompt_number": 37
    },
    {
     "cell_type": "code",
     "collapsed": false,
     "input": [
      "nc_tools.show_variable_attrs(wdata, 'votkeevd')"
     ],
     "language": "python",
     "metadata": {},
     "outputs": [
      {
       "output_type": "stream",
       "stream": "stdout",
       "text": [
        "<type 'netCDF4.Variable'>\n",
        "float32 votkeevd(time_counter, depthw, y, x)\n",
        "    units: m2/s\n",
        "    missing_value: 1e+20\n",
        "    valid_min: 1e+20\n",
        "    valid_max: -1e+20\n",
        "    long_name: Enhanced Vertical Diffusivity\n",
        "    short_name: votkeevd\n",
        "    online_operation: ave(x)\n",
        "    axis: TZYX\n",
        "    interval_operation: 5760.0\n",
        "    interval_write: 432000.0\n",
        "    associate: time_counter depthw nav_lat nav_lon\n",
        "unlimited dimensions: time_counter\n",
        "current shape = (73, 31, 149, 182)\n",
        "filling off\n",
        "\n"
       ]
      }
     ],
     "prompt_number": 38
    },
    {
     "cell_type": "code",
     "collapsed": false,
     "input": [
      "nc_tools.show_variable_attrs(wdata, 'votkeavm')"
     ],
     "language": "python",
     "metadata": {},
     "outputs": [
      {
       "output_type": "stream",
       "stream": "stdout",
       "text": [
        "<type 'netCDF4.Variable'>\n",
        "float32 votkeavm(time_counter, depthw, y, x)\n",
        "    units: m2/s\n",
        "    missing_value: 1e+20\n",
        "    valid_min: 1e+20\n",
        "    valid_max: -1e+20\n",
        "    long_name: Vertical Eddy Viscosity\n",
        "    short_name: votkeavm\n",
        "    online_operation: ave(x)\n",
        "    axis: TZYX\n",
        "    interval_operation: 5760.0\n",
        "    interval_write: 432000.0\n",
        "    associate: time_counter depthw nav_lat nav_lon\n",
        "unlimited dimensions: time_counter\n",
        "current shape = (73, 31, 149, 182)\n",
        "filling off\n",
        "\n"
       ]
      }
     ],
     "prompt_number": 40
    },
    {
     "cell_type": "code",
     "collapsed": false,
     "input": [
      "nc_tools.show_variable_attrs(wdata, 'voddmavs')"
     ],
     "language": "python",
     "metadata": {},
     "outputs": [
      {
       "output_type": "stream",
       "stream": "stdout",
       "text": [
        "<type 'netCDF4.Variable'>\n",
        "float32 voddmavs(time_counter, depthw, y, x)\n",
        "    units: m2/s\n",
        "    missing_value: 1e+20\n",
        "    valid_min: 1e+20\n",
        "    valid_max: -1e+20\n",
        "    long_name: Salt Vertical Eddy Diffusivity\n",
        "    short_name: voddmavs\n",
        "    online_operation: ave(x)\n",
        "    axis: TZYX\n",
        "    interval_operation: 5760.0\n",
        "    interval_write: 432000.0\n",
        "    associate: time_counter depthw nav_lat nav_lon\n",
        "unlimited dimensions: time_counter\n",
        "current shape = (73, 31, 149, 182)\n",
        "filling off\n",
        "\n"
       ]
      }
     ],
     "prompt_number": 41
    },
    {
     "cell_type": "code",
     "collapsed": false,
     "input": [
      "nc_tools.show_variable_attrs(wdata, 'soleahtw')"
     ],
     "language": "python",
     "metadata": {},
     "outputs": [
      {
       "output_type": "stream",
       "stream": "stdout",
       "text": [
        "<type 'netCDF4.Variable'>\n",
        "float32 soleahtw(time_counter, y, x)\n",
        "    units: m2/s\n",
        "    missing_value: 1e+20\n",
        "    valid_min: 1e+20\n",
        "    valid_max: -1e+20\n",
        "    long_name: lateral eddy diffusivity\n",
        "    short_name: soleahtw\n",
        "    online_operation: ave(x)\n",
        "    axis: TYX\n",
        "    interval_operation: 5760.0\n",
        "    interval_write: 432000.0\n",
        "    associate: time_counter nav_lat nav_lon\n",
        "unlimited dimensions: time_counter\n",
        "current shape = (73, 149, 182)\n",
        "filling off\n",
        "\n"
       ]
      }
     ],
     "prompt_number": 42
    },
    {
     "cell_type": "code",
     "collapsed": false,
     "input": [
      "nc_tools.show_variable_attrs(wdata, 'soleaeiw')"
     ],
     "language": "python",
     "metadata": {},
     "outputs": [
      {
       "output_type": "stream",
       "stream": "stdout",
       "text": [
        "<type 'netCDF4.Variable'>\n",
        "float32 soleaeiw(time_counter, y, x)\n",
        "    units: m2/s\n",
        "    missing_value: 1e+20\n",
        "    valid_min: 1e+20\n",
        "    valid_max: -1e+20\n",
        "    long_name: eddy induced vel. coeff. at w-point\n",
        "    short_name: soleaeiw\n",
        "    online_operation: ave(x)\n",
        "    axis: TYX\n",
        "    interval_operation: 5760.0\n",
        "    interval_write: 432000.0\n",
        "    associate: time_counter nav_lat nav_lon\n",
        "unlimited dimensions: time_counter\n",
        "current shape = (73, 149, 182)\n",
        "filling off\n",
        "\n"
       ]
      }
     ],
     "prompt_number": 43
    },
    {
     "cell_type": "markdown",
     "metadata": {},
     "source": [
      "List of Included Variables:\n",
      "* vertical velocity\n",
      "* eiv vertical velocity ???\n",
      "* vertical eddy diffusivity\n",
      "* enhanced vertical diffusivity\n",
      "* vertical eddy viscosity\n",
      "* enhanced vertical eddy viscosity\n",
      "* salt vertical eddy diffusivity\n",
      "* lateral eddy diffusivity (surface or independent of depth??)\n",
      "* eddy induced vel. coeff. at w-point\n",
      "\n",
      "\n"
     ]
    },
    {
     "cell_type": "markdown",
     "metadata": {},
     "source": [
      "What is used by offline NEMO and what is needed by PISCES?"
     ]
    },
    {
     "cell_type": "code",
     "collapsed": false,
     "input": [],
     "language": "python",
     "metadata": {},
     "outputs": []
    }
   ],
   "metadata": {}
  }
 ]
}