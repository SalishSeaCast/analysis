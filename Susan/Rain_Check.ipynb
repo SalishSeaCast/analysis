{
 "metadata": {
  "name": "",
  "signature": "sha256:b40156d72a9bb37c737f47a96b44d99ce1087a0b848fda6069021fddc290218a"
 },
 "nbformat": 3,
 "nbformat_minor": 0,
 "worksheets": [
  {
   "cells": [
    {
     "cell_type": "code",
     "collapsed": false,
     "input": [
      "%matplotlib inline\n",
      "import matplotlib.pyplot as plt\n",
      "import netCDF4 as NC\n",
      "import numpy as np"
     ],
     "language": "python",
     "metadata": {},
     "outputs": [],
     "prompt_number": 164
    },
    {
     "cell_type": "code",
     "collapsed": false,
     "input": [
      "data = NC.Dataset('../../Operational/ops_y2012m12d13.nc')"
     ],
     "language": "python",
     "metadata": {},
     "outputs": [],
     "prompt_number": 165
    },
    {
     "cell_type": "code",
     "collapsed": false,
     "input": [
      "precip = data.variables['precip'][:]\n",
      "lat = data.variables['nav_lat'][:]\n",
      "lon = data.variables['nav_lon'][:]\n",
      "print precip.shape"
     ],
     "language": "python",
     "metadata": {},
     "outputs": [
      {
       "output_type": "stream",
       "stream": "stdout",
       "text": [
        "(24, 266, 256)\n"
       ]
      }
     ],
     "prompt_number": 166
    },
    {
     "cell_type": "code",
     "collapsed": false,
     "input": [
      "# wanted 49.11'42'' and 123 10 55\n",
      "latwant = 49+(11+42/60.)/60.\n",
      "lonwant = 123+(10+55/60.)/60.\n",
      "print latwant, lonwant"
     ],
     "language": "python",
     "metadata": {},
     "outputs": [
      {
       "output_type": "stream",
       "stream": "stdout",
       "text": [
        "49.195 123.181944444\n"
       ]
      }
     ],
     "prompt_number": 167
    },
    {
     "cell_type": "code",
     "collapsed": false,
     "input": [
      "x,y = np.zeros((100)), np.zeros((100))\n",
      "print x.shape\n",
      "x[0]=100; y[0]=100\n",
      "x[1]=150; y[1]=100\n",
      "x[2]=150; y[2]=200\n",
      "x[3]=150; y[3]=150\n",
      "x[4]=120; y[4]=150\n",
      "x[5]=140; y[5]=150\n",
      "x[6]=140; y[6]=160\n",
      "x[7]=140; y[7]=155\n",
      "x[8]=139; y[8]=155\n",
      "x[9]=139; y[9]=156\n",
      "for i in range(10):\n",
      "    print x[i],y[i],lat[x[i],y[i]],lon[x[i],y[i]]-360."
     ],
     "language": "python",
     "metadata": {},
     "outputs": [
      {
       "output_type": "stream",
       "stream": "stdout",
       "text": [
        "(100,)\n",
        "100.0 100.0 48.161 -124.687088013\n",
        "150.0 100.0 49.1933 -125.015151978\n",
        "150.0 200.0 49.5766 -121.812637329\n",
        "150.0 150.0 49.3994 -123.422134399\n",
        "120.0 150.0 48.7751 -123.248291016\n",
        "140.0 150.0 49.1911 -123.363540649\n",
        "140.0 160.0 49.2286 -123.044616699\n",
        "140.0 155.0 49.21 -123.204147339\n",
        "139.0 155.0 49.1891 -123.198410034\n",
        "139.0 156.0 49.1929 -123.166534424\n"
       ]
      }
     ],
     "prompt_number": 168
    },
    {
     "cell_type": "code",
     "collapsed": false,
     "input": [
      "plt.plot(precip[:,x[9],y[9]])"
     ],
     "language": "python",
     "metadata": {},
     "outputs": [
      {
       "metadata": {},
       "output_type": "pyout",
       "prompt_number": 169,
       "text": [
        "[<matplotlib.lines.Line2D at 0x7f223f80cc10>]"
       ]
      },
      {
       "metadata": {},
       "output_type": "display_data",
       "png": "[encoded data removed]",
       "text": [
        "<matplotlib.figure.Figure at 0x7f2244ba5c90>"
       ]
      }
     ],
     "prompt_number": 169
    },
    {
     "cell_type": "code",
     "collapsed": false,
     "input": [
      "p = np.zeros(31)\n",
      "p[13]= precip[:,x[9],y[9]].sum()"
     ],
     "language": "python",
     "metadata": {},
     "outputs": [],
     "prompt_number": 170
    },
    {
     "cell_type": "code",
     "collapsed": false,
     "input": [
      "data14 = NC.Dataset('../../Operational/ops_y2012m12d14.nc')\n",
      "precip14 = data14.variables['precip'][:]\n",
      "p[14]= precip14[:,x[9],y[9]].sum()\n",
      "data14.close()"
     ],
     "language": "python",
     "metadata": {},
     "outputs": [],
     "prompt_number": 171
    },
    {
     "cell_type": "code",
     "collapsed": false,
     "input": [
      "data15 = NC.Dataset('../../Operational/ops_y2012m12d15.nc')\n",
      "precip15 = data15.variables['precip'][:]\n",
      "p[15]= precip15[:,x[9],y[9]].sum()\n",
      "data15.close()"
     ],
     "language": "python",
     "metadata": {},
     "outputs": [],
     "prompt_number": 172
    },
    {
     "cell_type": "code",
     "collapsed": false,
     "input": [
      "data16 = NC.Dataset('../../Operational/ops_y2012m12d16.nc')\n",
      "precip16 = data16.variables['precip'][:]\n",
      "p[16] =precip16[:,x[9],y[9]].sum()\n",
      "data16.close()"
     ],
     "language": "python",
     "metadata": {},
     "outputs": [],
     "prompt_number": 173
    },
    {
     "cell_type": "code",
     "collapsed": false,
     "input": [
      "data17 = NC.Dataset('../../Operational/ops_y2012m12d17.nc')\n",
      "precip17 = data17.variables['precip'][:]\n",
      "p[17] =precip17[:,x[9],y[9]].sum()\n",
      "data17.close()"
     ],
     "language": "python",
     "metadata": {},
     "outputs": [],
     "prompt_number": 174
    },
    {
     "cell_type": "code",
     "collapsed": false,
     "input": [
      "o=np.zeros(31)  \n",
      "o[13]=17.6; o[14]=4.4; o[15]=12.6; o[16]=13.0; o[17]=11.8  # YVR rain\n",
      "o = o/86400. #mm per second\n",
      "o = o/1000. #m per second\n",
      "o = o*1000. # kg/m2/s"
     ],
     "language": "python",
     "metadata": {},
     "outputs": [],
     "prompt_number": 175
    },
    {
     "cell_type": "code",
     "collapsed": false,
     "input": [
      "w=np.zeros(31)\n",
      "w[13]=20.8  # West Van AUT rain\n",
      "w = w/86400."
     ],
     "language": "python",
     "metadata": {},
     "outputs": [],
     "prompt_number": 176
    },
    {
     "cell_type": "code",
     "collapsed": false,
     "input": [
      "p=p/24.\n",
      "plt.plot(p,'o',o,'x',w,'+')"
     ],
     "language": "python",
     "metadata": {},
     "outputs": [
      {
       "metadata": {},
       "output_type": "pyout",
       "prompt_number": 177,
       "text": [
        "[<matplotlib.lines.Line2D at 0x7f223f704ad0>,\n",
        " <matplotlib.lines.Line2D at 0x7f223f704d10>,\n",
        " <matplotlib.lines.Line2D at 0x7f223f7113d0>]"
       ]
      },
      {
       "metadata": {},
       "output_type": "display_data",
       "png": "[encoded data removed]",
       "text": [
        "<matplotlib.figure.Figure at 0x7f223f7c3710>"
       ]
      }
     ],
     "prompt_number": 177
    },
    {
     "cell_type": "code",
     "collapsed": false,
     "input": [
      "plt.plot(precip14[:,x[9],y[9]])"
     ],
     "language": "python",
     "metadata": {},
     "outputs": [
      {
       "metadata": {},
       "output_type": "pyout",
       "prompt_number": 178,
       "text": [
        "[<matplotlib.lines.Line2D at 0x7f223f643a90>]"
       ]
      },
      {
       "metadata": {},
       "output_type": "display_data",
       "png": "[encoded data removed]",
       "text": [
        "<matplotlib.figure.Figure at 0x7f223f734c50>"
       ]
      }
     ],
     "prompt_number": 178
    },
    {
     "cell_type": "code",
     "collapsed": false,
     "input": [],
     "language": "python",
     "metadata": {},
     "outputs": [],
     "prompt_number": 178
    }
   ],
   "metadata": {}
  }
 ]
}