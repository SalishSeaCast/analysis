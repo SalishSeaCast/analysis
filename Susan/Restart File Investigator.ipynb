{
 "cells": [
  {
   "cell_type": "markdown",
   "metadata": {},
   "source": [
    "### Investigate a Restart File"
   ]
  },
  {
   "cell_type": "code",
   "execution_count": 4,
   "metadata": {
    "collapsed": true
   },
   "outputs": [],
   "source": [
    "%matplotlib inline\n",
    "import matplotlib.pyplot as plt\n",
    "import netCDF4 as NC\n",
    "import numpy as np\n",
    "from salishsea_tools import viz_tools\n",
    "from salishsea_tools import tidetools\n",
    "from salishsea_tools import nc_tools"
   ]
  },
  {
   "cell_type": "code",
   "execution_count": 2,
   "metadata": {
    "collapsed": true
   },
   "outputs": [],
   "source": [
    "filename = '/ocean/sallen/allen/research/MEOPAR/myResults/NEMO36_Tides/base_run/E5s/SalishSea_00055981_restart.nc'\n",
    "fT = NC.Dataset(filename,'r')"
   ]
  },
  {
   "cell_type": "code",
   "execution_count": 5,
   "metadata": {
    "collapsed": false
   },
   "outputs": [
    {
     "name": "stdout",
     "output_type": "stream",
     "text": [
      "<type 'netCDF4.Dimension'>: name = 'x', size = 398\n",
      "\n",
      "<type 'netCDF4.Dimension'>: name = 'y', size = 898\n",
      "\n",
      "<type 'netCDF4.Dimension'>: name = 'z', size = 40\n",
      "\n",
      "<type 'netCDF4.Dimension'> (unlimited): name = 't', size = 1\n",
      "\n"
     ]
    }
   ],
   "source": [
    "# Check Dimensions\n",
    "nc_tools.show_dimensions(fT)"
   ]
  },
  {
   "cell_type": "code",
   "execution_count": 6,
   "metadata": {
    "collapsed": false
   },
   "outputs": [
    {
     "name": "stdout",
     "output_type": "stream",
     "text": [
      "[u'nav_lon', u'nav_lat', u'nav_lev', u'time_counter', u'kt', u'ndastp', u'adatrj', u'rnf_b', u'rnf_hc_b', u'rnf_sc_b', u'utau_b', u'vtau_b', u'qns_b', u'emp_b', u'sfx_b', u'en', u'avt', u'avm', u'avmu', u'avmv', u'mxln', u'ub2_b', u'vb2_b', u'sbc_hc_b', u'sbc_sc_b', u'qsr_hc_b', u'fraqsr_1lev', u'fse3t_b', u'fse3t_n', u'rdt', u'rdttra1', u'ub', u'vb', u'tb', u'sb', u'rotb', u'hdivb', u'sshb', u'un', u'vn', u'tn', u'sn', u'rotn', u'hdivn', u'sshn', u'rhop']\n"
     ]
    }
   ],
   "source": [
    "# Check Variables\n",
    "nc_tools.show_variables(fT)"
   ]
  },
  {
   "cell_type": "code",
   "execution_count": 31,
   "metadata": {
    "collapsed": false
   },
   "outputs": [
    {
     "name": "stdout",
     "output_type": "stream",
     "text": [
      "(898, 398)\n"
     ]
    }
   ],
   "source": [
    "sshn = fT.variables['sshn'][0,:]\n",
    "print sshn.shape\n",
    "me = sshn == 0\n",
    "etan = np.ma.array(sshn,mask=me)"
   ]
  },
  {
   "cell_type": "code",
   "execution_count": 38,
   "metadata": {
    "collapsed": false
   },
   "outputs": [
    {
     "data": {
      "text/plain": [
       "<matplotlib.colorbar.Colorbar instance at 0x7fb539525d88>"
      ]
     },
     "execution_count": 38,
     "metadata": {},
     "output_type": "execute_result"
    },
    {
     "data": {
      "image/png": "[encoded data removed]",
      "text/plain": [
       "<matplotlib.figure.Figure at 0x7fb539473ed0>"
      ]
     },
     "metadata": {},
     "output_type": "display_data"
    }
   ],
   "source": [
    "imin = 700; imax = 898; jmin = 100; jmax=300\n",
    "imin = 750; imax = 800; jmin = 100; jmax=150\n",
    "fig, ax = plt.subplots(1,1,figsize=(10,10))\n",
    "mesh = ax.pcolormesh(etan[imin:imax,jmin:jmax])\n",
    "fig.colorbar(mesh)"
   ]
  },
  {
   "cell_type": "code",
   "execution_count": 29,
   "metadata": {
    "collapsed": false
   },
   "outputs": [
    {
     "name": "stdout",
     "output_type": "stream",
     "text": [
      "(40, 898, 398)\n"
     ]
    }
   ],
   "source": [
    "vvel =  fT.variables['vb'][0,:]\n",
    "print vvel.shape\n",
    "me = vvel == 0\n",
    "v = np.ma.array(vvel,mask=me)"
   ]
  },
  {
   "cell_type": "code",
   "execution_count": 40,
   "metadata": {
    "collapsed": false
   },
   "outputs": [
    {
     "name": "stdout",
     "output_type": "stream",
     "text": [
      "0 4.1103789126 -7.68411912978\n"
     ]
    },
    {
     "data": {
      "image/png": "[encoded data removed]",
      "text/plain": [
       "<matplotlib.figure.Figure at 0x7fb5394da510>"
      ]
     },
     "metadata": {},
     "output_type": "display_data"
    }
   ],
   "source": [
    "level = 0; imin = 00; imax = 898; jmin = 0; jmax=398\n",
    "imin = 750; imax = 800; jmin = 100; jmax=150\n",
    "\n",
    "fig, ax = plt.subplots(1,1,figsize=(10,10))\n",
    "mesh = ax.pcolormesh(v[level,imin:imax,jmin:jmax])\n",
    "fig.colorbar(mesh)\n",
    "print level, v[level].max(), v[level].min()"
   ]
  },
  {
   "cell_type": "code",
   "execution_count": 34,
   "metadata": {
    "collapsed": false
   },
   "outputs": [
    {
     "name": "stdout",
     "output_type": "stream",
     "text": [
      "(898, 398)\n"
     ]
    }
   ],
   "source": [
    "sshb = fT.variables['sshb'][0,:]\n",
    "print sshb.shape\n",
    "me = sshb == 0\n",
    "etab = np.ma.array(sshb,mask=me)\n",
    "eta = etan - etab"
   ]
  },
  {
   "cell_type": "code",
   "execution_count": 37,
   "metadata": {
    "collapsed": false
   },
   "outputs": [
    {
     "data": {
      "text/plain": [
       "<matplotlib.colorbar.Colorbar instance at 0x7fb5393cc6c8>"
      ]
     },
     "execution_count": 37,
     "metadata": {},
     "output_type": "execute_result"
    },
    {
     "data": {
      "image/png": "[encoded data removed]",
      "text/plain": [
       "<matplotlib.figure.Figure at 0x7fb53965fed0>"
      ]
     },
     "metadata": {},
     "output_type": "display_data"
    }
   ],
   "source": [
    "imin = 750; imax = 800; jmin = 100; jmax=150\n",
    "fig, ax = plt.subplots(1,1,figsize=(10,10))\n",
    "mesh = ax.pcolormesh(eta[imin:imax,jmin:jmax])\n",
    "fig.colorbar(mesh)"
   ]
  },
  {
   "cell_type": "code",
   "execution_count": null,
   "metadata": {
    "collapsed": true
   },
   "outputs": [],
   "source": []
  }
 ],
 "metadata": {
  "kernelspec": {
   "display_name": "Python 2",
   "language": "python",
   "name": "python2"
  },
  "language_info": {
   "codemirror_mode": {
    "name": "ipython",
    "version": 2
   },
   "file_extension": ".py",
   "mimetype": "text/x-python",
   "name": "python",
   "nbconvert_exporter": "python",
   "pygments_lexer": "ipython2",
   "version": "2.7.10"
  }
 },
 "nbformat": 4,
 "nbformat_minor": 0
}
