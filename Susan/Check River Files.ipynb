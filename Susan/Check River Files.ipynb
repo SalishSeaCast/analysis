{
 "cells": [
  {
   "cell_type": "markdown",
   "metadata": {},
   "source": [
    "# Check River Flows"
   ]
  },
  {
   "cell_type": "code",
   "execution_count": 2,
   "metadata": {
    "collapsed": true
   },
   "outputs": [],
   "source": [
    "from __future__ import division\n",
    "\n",
    "import matplotlib.pyplot as plt\n",
    "import netCDF4 as nc\n",
    "import numpy as np\n",
    "\n",
    "from salishsea_tools import nc_tools\n",
    "\n",
    "%matplotlib inline"
   ]
  },
  {
   "cell_type": "code",
   "execution_count": 20,
   "metadata": {
    "collapsed": false
   },
   "outputs": [],
   "source": [
    "def find_points(flow):\n",
    "    for i in range(390,435):\n",
    "        for j in range(280,398):\n",
    "            if flow1[0,i,j] > 0:\n",
    "                print i,j, lat[i,j], lon[i,j], flow[0,i,j]"
   ]
  },
  {
   "cell_type": "code",
   "execution_count": 36,
   "metadata": {
    "collapsed": true
   },
   "outputs": [],
   "source": [
    "grid = nc.Dataset('/ocean/sallen/allen/research/MEOPAR/NEMO-forcing/grid/bathy_meter_SalishSea2.nc')\n",
    "lat = grid.variables['nav_lat'][:,:]\n",
    "lon = grid.variables['nav_lon'][:,:]\n",
    "depth = grid.variables['Bathymetry'][:]"
   ]
  },
  {
   "cell_type": "code",
   "execution_count": 35,
   "metadata": {
    "collapsed": false
   },
   "outputs": [],
   "source": [
    "river1 = nc.Dataset('/ocean/sallen/allen/research/MEOPAR/Rivers/RFraserCElse_y2015m05d15.nc')\n",
    "river2 = nc.Dataset('/ocean/sallen/allen/research/MEOPAR/Rivers/RFraserCElse_y2015m07d01.nc')\n",
    "river3 = nc.Dataset('/ocean/sallen/allen/research/MEOPAR/Rivers/RFraserCElse_y2015m07d02.nc')\n",
    "river4 = nc.Dataset('/ocean/sallen/allen/research/MEOPAR/Rivers/RFraserCElse_y2015m07d03.nc')\n",
    "river5 = nc.Dataset('/ocean/sallen/allen/research/MEOPAR/Rivers/RFraserCElse_y2015m07d04.nc')\n",
    "river6 = nc.Dataset('/ocean/sallen/allen/research/MEOPAR/Rivers/RFraserCElse_y2015m07d05.nc')"
   ]
  },
  {
   "cell_type": "code",
   "execution_count": 33,
   "metadata": {
    "collapsed": false
   },
   "outputs": [
    {
     "name": "stdout",
     "output_type": "stream",
     "text": [
      "May 15\n",
      "411 324 49.0993995667 -123.083885193 0.72367\n",
      "412 324 49.1033248901 -123.087242126 0.72367\n",
      "414 334 49.1300430298 -123.041992188 7.24504\n",
      "415 334 49.1339645386 -123.045349121 7.24504\n",
      "416 334 49.1378898621 -123.048713684 7.24504\n",
      "434 318 49.1783180237 -123.192321777 0.726198\n",
      "Jul 1\n",
      "411 324 49.0993995667 -123.083885193 0.674936\n",
      "412 324 49.1033248901 -123.087242126 0.674936\n",
      "414 334 49.1300430298 -123.041992188 8.04579\n",
      "415 334 49.1339645386 -123.045349121 8.04579\n",
      "416 334 49.1378898621 -123.048713684 8.04579\n",
      "434 318 49.1783180237 -123.192321777 0.677294\n",
      "Jul 2\n",
      "411 324 49.0993995667 -123.083885193 0.674921\n",
      "412 324 49.1033248901 -123.087242126 0.674921\n",
      "414 334 49.1300430298 -123.041992188 7.98521\n",
      "415 334 49.1339645386 -123.045349121 7.98521\n",
      "416 334 49.1378898621 -123.048713684 7.98521\n",
      "434 318 49.1783180237 -123.192321777 0.677279\n",
      "Jul 3\n",
      "411 324 49.0993995667 -123.083885193 0.676803\n",
      "412 324 49.1033248901 -123.087242126 0.676803\n",
      "414 334 49.1300430298 -123.041992188 7.92463\n",
      "415 334 49.1339645386 -123.045349121 7.92463\n",
      "416 334 49.1378898621 -123.048713684 7.92463\n",
      "434 318 49.1783180237 -123.192321777 0.679167\n",
      "Jul 4\n",
      "411 324 49.0993995667 -123.083885193 0.681227\n",
      "412 324 49.1033248901 -123.087242126 0.681227\n",
      "414 334 49.1300430298 -123.041992188 7.86405\n",
      "415 334 49.1339645386 -123.045349121 7.86405\n",
      "416 334 49.1378898621 -123.048713684 7.86405\n",
      "434 318 49.1783180237 -123.192321777 0.683607\n",
      "Jul 5\n",
      "411 324 49.0993995667 -123.083885193 0.674281\n",
      "412 324 49.1033248901 -123.087242126 0.674281\n",
      "414 334 49.1300430298 -123.041992188 7.80347\n",
      "415 334 49.1339645386 -123.045349121 7.80347\n",
      "416 334 49.1378898621 -123.048713684 7.80347\n",
      "434 318 49.1783180237 -123.192321777 0.676636\n"
     ]
    }
   ],
   "source": [
    "print 'May 15'\n",
    "find_points(river1.variables['rorunoff'][:,:,:])\n",
    "print 'Jul 1'\n",
    "find_points(river2.variables['rorunoff'][:,:,:])\n",
    "print 'Jul 2'\n",
    "find_points(river3.variables['rorunoff'][:,:,:])\n",
    "print 'Jul 3'\n",
    "find_points(river4.variables['rorunoff'][:,:,:])\n",
    "print 'Jul 4'\n",
    "find_points(river5.variables['rorunoff'][:,:,:])\n",
    "print 'Jul 5'\n",
    "find_points(river6.variables['rorunoff'][:,:,:])"
   ]
  },
  {
   "cell_type": "code",
   "execution_count": 47,
   "metadata": {
    "collapsed": false
   },
   "outputs": [
    {
     "data": {
      "image/png": "[encoded data removed]",
      "text/plain": [
       "<matplotlib.figure.Figure at 0x7fdc698f3fd0>"
      ]
     },
     "metadata": {},
     "output_type": "display_data"
    }
   ],
   "source": [
    "ik = 425; jk = 302; d = 6\n",
    "fig, ax = plt.subplots(1,1,figsize=(15,7.5))\n",
    "imin = 390; imax = 435; jmin = 280; jmax = 398\n",
    "cmap = plt.get_cmap('winter_r')\n",
    "cmap.set_bad('burlywood')\n",
    "mesh = ax.pcolormesh(depth[imin:imax,jmin:jmax], vmax = 10., cmap=cmap)\n",
    "ax.set_xlim((0,110))\n",
    "ax.set_xlabel('Grid Points')\n",
    "ax.set_ylabel('Grid Points')\n",
    "ax.text(40, 28, \"Short Fraser River\", fontsize=14)\n",
    "cbar=fig.colorbar(mesh)\n",
    "cbar.set_label('Depth (m)')\n",
    "ax.plot(np.array((324,324,334,334,334,318))-jmin+0.5,np.array((411,412,414,415,416,434))-imin+0.5,'ko');"
   ]
  },
  {
   "cell_type": "code",
   "execution_count": null,
   "metadata": {
    "collapsed": true
   },
   "outputs": [],
   "source": []
  }
 ],
 "metadata": {
  "kernelspec": {
   "display_name": "Python 2",
   "language": "python",
   "name": "python2"
  },
  "language_info": {
   "codemirror_mode": {
    "name": "ipython",
    "version": 2
   },
   "file_extension": ".py",
   "mimetype": "text/x-python",
   "name": "python",
   "nbconvert_exporter": "python",
   "pygments_lexer": "ipython2",
   "version": "2.7.10"
  }
 },
 "nbformat": 4,
 "nbformat_minor": 0
}
