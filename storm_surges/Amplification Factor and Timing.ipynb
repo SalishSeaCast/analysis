{
 "metadata": {
  "name": "",
  "signature": "sha256:397e5d570e9e46420528cdfcdd80933f81359e4aaaba7636f66af22015141cb2"
 },
 "nbformat": 3,
 "nbformat_minor": 0,
 "worksheets": [
  {
   "cells": [
    {
     "cell_type": "markdown",
     "metadata": {},
     "source": [
      "Compare timing and amplitude of surge at Point Atkinson and Tofino."
     ]
    },
    {
     "cell_type": "code",
     "collapsed": false,
     "input": [
      "%matplotlib inline\n",
      "from matplotlib import pylab\n",
      "import matplotlib.pyplot as plt\n",
      "import netCDF4 as NC\n",
      "import numpy as np\n",
      "\n",
      "import arrow\n",
      "import datetime\n",
      "import pandas as pd\n",
      "import pytz\n",
      "from salishsea_tools import tidetools\n",
      "from salishsea_tools import stormtools\n",
      "from salishsea_tools import nc_tools\n",
      "from salishsea_tools import viz_tools"
     ],
     "language": "python",
     "metadata": {},
     "outputs": [],
     "prompt_number": 1
    },
    {
     "cell_type": "code",
     "collapsed": false,
     "input": [
      "ratios=[] #PA/Tofino\n",
      "time_delay=[] #PA-Tofino\n",
      "\n",
      "stations = {'PointAtkinson': 7795, 'Victoria': 7120, 'PatriciaBay': 7277, 'CampbellRiver': 8074}\n",
      "datums = {'PointAtkinson': 3.09, 'Victoria': 1.881, 'PatriciaBay': 2.256, 'CampbellRiver': 2.916, \n",
      "          'CrescentBeach': 2.44, 'WhiteRock': 2.85, 'BoundaryBay': 1 }\n",
      "thalwegs = ['Thalweg1','Thalweg2', 'Thalweg3', 'Thalweg4', 'Thalweg5', 'Thalweg6']\n",
      "allstations = {'PointAtkinson': 7795, 'Victoria': 7120, 'PatriciaBay': 7277, 'CampbellRiver': 8074,\n",
      "               'CrescentBeach': 2.44, 'WhiteRock': 2.85 , 'BoundaryBay': 1,\n",
      "               'Thalweg1': [], 'Thalweg2': [], 'Thalweg3': [], 'Thalweg4': [], 'Thalweg5': [], 'Thalweg6': [],\n",
      "               'Plume': 1} \n",
      "\n",
      "\n",
      "fUs={}; fVs={}; fTs={};\n",
      "us={}; vs={}; lats={}; lons={}; tmps={}; sals={}; sshs={}; ts={};\n",
      "wlev_meas={}; ttide={}; msl={}"
     ],
     "language": "python",
     "metadata": {},
     "outputs": [],
     "prompt_number": 2
    },
    {
     "cell_type": "code",
     "collapsed": false,
     "input": [
      "def load_everything(path,fname,year):\n",
      "    runs = {'all_forcing', 'tidesonly'}\n",
      "    \n",
      "    for key in runs:\n",
      "        fUs[key] = NC.Dataset(path+key +'/SalishSea_4h_{}_grid_U.nc'.format(fname),'r');\n",
      "        fVs[key] = NC.Dataset(path+key +'/SalishSea_4h_{}_grid_V.nc'.format(fname),'r');\n",
      "        fTs[key] = NC.Dataset(path+key +'/SalishSea_4h_{}_grid_T.nc'.format(fname),'r');\n",
      "        \n",
      "    run_stations={}\n",
      "\n",
      "    for run in runs:\n",
      "        for key in allstations:\n",
      "            string = path+ run + '/1h_' + key + '.nc'\n",
      "            run_stations[key] = NC.Dataset(string,'r');\n",
      "            tim = run_stations[key].variables['time_counter']\n",
      "            t_count=np.arange(0, tim.shape[0])\n",
      "            t=nc_tools.timestamp(run_stations[key],t_count)\n",
      "            tlist=[]\n",
      "            for a in t:\n",
      "               tlist.append(a.datetime) \n",
      "            ts[run]=tlist\n",
      "        [us[run], vs[run], lats[run], lons[run], tmps[run], sals[run], sshs[run]] = stormtools.combine_data(run_stations)\n",
      "        run_stations={};\n",
      "        \n",
      "    start='31-Dec-{}'.format(year-1); end='02-Jan-{}'.format(year+1)\n",
      "\n",
      "    for key in stations:\n",
      "        location=key\n",
      "        #filename for predictions\n",
      "        filename='/data/nsoontie/MEOPAR/analysis/storm_surges/data/'+location+'_t_tide_compare8_' +start+'_'+end+'.csv'\n",
      "        [ttide[key], msl[key]] = stormtools.load_tidal_predictions(filename)\n",
      "        wlev_meas[key] = stormtools.load_observations(start,end,location)"
     ],
     "language": "python",
     "metadata": {},
     "outputs": [],
     "prompt_number": 3
    },
    {
     "cell_type": "heading",
     "level": 1,
     "metadata": {},
     "source": [
      "Dec 2006"
     ]
    },
    {
     "cell_type": "code",
     "collapsed": false,
     "input": [
      "fB = NC.Dataset('/data/nsoontie/MEOPAR/NEMO-forcing/grid/bathy_meter_SalishSea2.nc','r')"
     ],
     "language": "python",
     "metadata": {},
     "outputs": [],
     "prompt_number": 4
    },
    {
     "cell_type": "code",
     "collapsed": false,
     "input": [
      "def compare_Tof(start,end,ax):\n",
      "   \n",
      "    #Loading Tofino surge from forcing files\n",
      "    ssh_Tofino = '/data/nsoontie/MEOPAR/NEMO-forcing/open_boundaries/west/ssh/ssh'\n",
      "    arr_start =arrow.Arrow.strptime(start,'%d-%b-%Y')\n",
      "    arr_end =arrow.Arrow.strptime(end,'%d-%b-%Y')\n",
      "    yr=arr_start.year\n",
      "    m=arr_start.month\n",
      "    if m<10:\n",
      "        m='0' + str(m)\n",
      "    string = '_y'+ str(yr) + 'm' + str(m) +'.nc'\n",
      "     #get the data\n",
      "    fT = NC.Dataset(ssh_Tofino + string);\n",
      "    Tof_anom=fT.variables['sossheig'];\n",
      "    tss= fT.variables['time_counter'][:];\n",
      "    l = tss.shape[0]; t=np.linspace(0,l-1,l) #time array\n",
      "    Tof_time=stormtools.convert_date_hours(t,start);\n",
      "    \n",
      "    #Plotting\n",
      "    ax.plot(Tof_time[:],Tof_anom[:,0,0],'r',label='Tofino')\n",
      "    ax.set_ylim([-1.5,1.5])\n",
      "    ax.set_xlim([datetime.datetime(arr_start.year,arr_start.month,arr_start.day), \n",
      "                  datetime.datetime(arr_end.year,arr_end.month,arr_end.day)])\n",
      "    ax.set_xlabel('Time')\n",
      "    ax.set_ylabel('SSH anomaly (m)')\n",
      "    ax.grid()\n",
      "\n",
      "    ax.set_title('SSH Anomaly for ' +start)\n",
      "    \n",
      "    \n",
      "    return Tof_time,Tof_anom"
     ],
     "language": "python",
     "metadata": {},
     "outputs": [],
     "prompt_number": 5
    },
    {
     "cell_type": "code",
     "collapsed": false,
     "input": [
      "path='/ocean/nsoontie/MEOPAR/SalishSea/results/storm-surges/final/dec2006/'\n",
      "\n",
      "load_everything(path,'20061211_20061217',2006)\n",
      "\n",
      "fig,ax=plt.subplots(1,1,figsize=(10,5))\n",
      "Tof_time,Tof_anom= compare_Tof('01-Dec-2006','31-Dec-2006',ax)\n",
      "\n",
      "location='PointAtkinson'\n",
      "anom=sshs['all_forcing'][location][:,0,0]-sshs['tidesonly'][location][:,0,0]\n",
      "ax.plot(ts['all_forcing'], anom,'--g',label='Model-PA')\n",
      "ax.legend(loc=0)\n",
      "\n",
      "ax.set_xlim([datetime.datetime(2006,12,11),datetime.datetime(2006,12,18)]); ax.set_ylim([-1,1])"
     ],
     "language": "python",
     "metadata": {},
     "outputs": [
      {
       "metadata": {},
       "output_type": "pyout",
       "prompt_number": 6,
       "text": [
        "(-1, 1)"
       ]
      },
      {
       "metadata": {},
       "output_type": "display_data",
       "png": "[encoded data removed]",
       "text": [
        "<matplotlib.figure.Figure at 0x7faf9961b7d0>"
       ]
      }
     ],
     "prompt_number": 6
    },
    {
     "cell_type": "markdown",
     "metadata": {},
     "source": [
      "3 surges. Next, find max and timing of max between Dec 12-13, Dec 13-14, Dec 14-16."
     ]
    },
    {
     "cell_type": "code",
     "collapsed": false,
     "input": [
      "def find_max_over_range(model,tmodel,tofino,t_tofino,sdt,edt):\n",
      "    #truncate model\n",
      "    ssh_trun, tm_trun = stormtools.truncate(np.array(model),np.array(tmodel),\n",
      "                               sdt.replace(minute=30),edt.replace(minute=30))\n",
      "    mmax,tm_max= stormtools._find_max(ssh_trun,tm_trun)\n",
      "\n",
      "    #truncate Tofino \n",
      "    Tof_trun, tt_trun = stormtools.truncate(np.array(tofino),np.array(t_tofino),\n",
      "                               sdt,edt)\n",
      "    Tmax, tT_max=stormtools._find_max(Tof_trun,tt_trun)\n",
      "\n",
      "    print 'model'\n",
      "    print mmax,tm_max\n",
      "\n",
      "    print 'tofino'\n",
      "    print Tmax, tT_max\n",
      "    \n",
      "    return mmax,tm_max,Tmax,tT_max"
     ],
     "language": "python",
     "metadata": {},
     "outputs": [],
     "prompt_number": 7
    },
    {
     "cell_type": "code",
     "collapsed": false,
     "input": [
      "ratios=[]; time_delay=[]"
     ],
     "language": "python",
     "metadata": {},
     "outputs": [],
     "prompt_number": 8
    },
    {
     "cell_type": "code",
     "collapsed": false,
     "input": [
      "s='11-Dec-2006'; e='13-Dec-2006';\n",
      "unaware=arrow.Arrow.strptime(s,\"%d-%b-%Y\")\n",
      "sdt = unaware.datetime\n",
      "unaware=arrow.Arrow.strptime(e,\"%d-%b-%Y\")\n",
      "edt = unaware.datetime\n",
      "\n",
      "mmax,tm_max,Tmax,tT_max =find_max_over_range(anom,ts['all_forcing'],Tof_anom[:,0,0],Tof_time,sdt,edt)\n",
      "\n",
      "ratios.append(mmax/Tmax)\n",
      "time_delay.append((tm_max-tT_max).seconds/3600.)"
     ],
     "language": "python",
     "metadata": {},
     "outputs": [
      {
       "output_type": "stream",
       "stream": "stdout",
       "text": [
        "model\n",
        "0.736369 2006-12-12 04:30:00+00:00\n",
        "tofino\n",
        "0.846027 2006-12-12 00:00:00+00:00\n"
       ]
      }
     ],
     "prompt_number": 9
    },
    {
     "cell_type": "code",
     "collapsed": false,
     "input": [
      "s='13-Dec-2006'; e='14-Dec-2006';\n",
      "unaware=arrow.Arrow.strptime(s,\"%d-%b-%Y\")\n",
      "sdt = unaware.datetime\n",
      "unaware=arrow.Arrow.strptime(e,\"%d-%b-%Y\")\n",
      "edt = unaware.datetime\n",
      "\n",
      "mmax,tm_max,Tmax,tT_max =find_max_over_range(anom,ts['all_forcing'],Tof_anom[:,0,0],Tof_time,sdt,edt)\n",
      "\n",
      "ratios.append(mmax/Tmax)\n",
      "time_delay.append((tm_max-tT_max).seconds/3600.)"
     ],
     "language": "python",
     "metadata": {},
     "outputs": [
      {
       "output_type": "stream",
       "stream": "stdout",
       "text": [
        "model\n",
        "0.567507 2006-12-13 18:30:00+00:00\n",
        "tofino\n",
        "0.54339 2006-12-13 08:00:00+00:00\n"
       ]
      }
     ],
     "prompt_number": 10
    },
    {
     "cell_type": "code",
     "collapsed": false,
     "input": [
      "s='14-Dec-2006'; e='16-Dec-2006';\n",
      "unaware=arrow.Arrow.strptime(s,\"%d-%b-%Y\")\n",
      "sdt = unaware.datetime\n",
      "unaware=arrow.Arrow.strptime(e,\"%d-%b-%Y\")\n",
      "edt = unaware.datetime\n",
      "\n",
      "mmax,tm_max,Tmax,tT_max =find_max_over_range(anom,ts['all_forcing'],Tof_anom[:,0,0],Tof_time,sdt,edt)\n",
      "\n",
      "ratios.append(mmax/Tmax)\n",
      "time_delay.append((tm_max-tT_max).seconds/3600.)"
     ],
     "language": "python",
     "metadata": {},
     "outputs": [
      {
       "output_type": "stream",
       "stream": "stdout",
       "text": [
        "model\n",
        "0.553944 2006-12-15 10:30:00+00:00\n",
        "tofino\n",
        "0.554225 2006-12-15 06:00:00+00:00\n"
       ]
      }
     ],
     "prompt_number": 11
    },
    {
     "cell_type": "heading",
     "level": 1,
     "metadata": {},
     "source": [
      "Feb 2006"
     ]
    },
    {
     "cell_type": "code",
     "collapsed": false,
     "input": [
      "fUs={}; fVs={}; fTs={};\n",
      "us={}; vs={}; lats={}; lons={}; tmps={}; sals={}; sshs={}; ts={};\n",
      "wlev_meas={}; ttide={}; msl={}\n",
      "\n",
      "path='/ocean/nsoontie/MEOPAR/SalishSea/results/storm-surges/final/feb2006/'\n",
      "\n",
      "load_everything(path,'20060201_20060207',2006)\n",
      "\n",
      "fig,ax=plt.subplots(1,1,figsize=(10,5))\n",
      "Tof_time,Tof_anom= compare_Tof('01-Feb-2006','28-Feb-2006',ax)\n",
      "\n",
      "location='PointAtkinson'\n",
      "anom=sshs['all_forcing'][location][:,0,0]-sshs['tidesonly'][location][:,0,0]\n",
      "ax.plot(ts['all_forcing'], anom,'--g',label='Model-PA')\n",
      "ax.legend(loc=0)\n",
      "\n",
      "ax.set_xlim([datetime.datetime(2006,2,1),datetime.datetime(2006,2,7)]); ax.set_ylim([-1,1])"
     ],
     "language": "python",
     "metadata": {},
     "outputs": [
      {
       "metadata": {},
       "output_type": "pyout",
       "prompt_number": 14,
       "text": [
        "(-1, 1)"
       ]
      },
      {
       "metadata": {},
       "output_type": "display_data",
       "png": "[encoded data removed]",
       "text": [
        "<matplotlib.figure.Figure at 0x7faf90db6a50>"
       ]
      }
     ],
     "prompt_number": 14
    },
    {
     "cell_type": "markdown",
     "metadata": {},
     "source": [
      "Break up into Feb 4-6 (Feb 1 is too close to sim start)"
     ]
    },
    {
     "cell_type": "code",
     "collapsed": false,
     "input": [
      "s='04-Feb-2006'; e='06-Feb-2006';\n",
      "unaware=arrow.Arrow.strptime(s,\"%d-%b-%Y\")\n",
      "sdt = unaware.datetime\n",
      "unaware=arrow.Arrow.strptime(e,\"%d-%b-%Y\")\n",
      "edt = unaware.datetime\n",
      "\n",
      "mmax,tm_max,Tmax,tT_max =find_max_over_range(anom,ts['all_forcing'],Tof_anom[:,0,0],Tof_time,sdt,edt)\n",
      "\n",
      "ratios.append(mmax/Tmax)\n",
      "time_delay.append((tm_max-tT_max).seconds/3600.)"
     ],
     "language": "python",
     "metadata": {},
     "outputs": [
      {
       "output_type": "stream",
       "stream": "stdout",
       "text": [
        "model\n",
        "0.821065 2006-02-04 20:30:00+00:00\n",
        "tofino\n",
        "0.882743 2006-02-04 14:00:00+00:00\n"
       ]
      }
     ],
     "prompt_number": 15
    },
    {
     "cell_type": "heading",
     "level": 1,
     "metadata": {},
     "source": [
      "Nov 2009"
     ]
    },
    {
     "cell_type": "code",
     "collapsed": false,
     "input": [
      "fUs={}; fVs={}; fTs={};\n",
      "us={}; vs={}; lats={}; lons={}; tmps={}; sals={}; sshs={}; ts={};\n",
      "wlev_meas={}; ttide={}; msl={}\n",
      "\n",
      "path='/ocean/nsoontie/MEOPAR/SalishSea/results/storm-surges/final/nov2009/'\n",
      "\n",
      "load_everything(path,'20091116_20091122',2009)\n",
      "\n",
      "fig,ax=plt.subplots(1,1,figsize=(10,5))\n",
      "Tof_time,Tof_anom= compare_Tof('01-Nov-2009','20-Nov-2009',ax)\n",
      "\n",
      "location='PointAtkinson'\n",
      "anom=sshs['all_forcing'][location][:,0,0]-sshs['tidesonly'][location][:,0,0]\n",
      "ax.plot(ts['all_forcing'], anom,'--g',label='Model-PA')\n",
      "ax.legend(loc=0)\n",
      "\n",
      "ax.set_xlim([datetime.datetime(2009,11,16),datetime.datetime(2009,11,23)]); ax.set_ylim([-1,1])"
     ],
     "language": "python",
     "metadata": {},
     "outputs": [
      {
       "metadata": {},
       "output_type": "pyout",
       "prompt_number": 18,
       "text": [
        "(-1, 1)"
       ]
      },
      {
       "metadata": {},
       "output_type": "display_data",
       "png": "[encoded data removed]",
       "text": [
        "<matplotlib.figure.Figure at 0x7faf905957d0>"
       ]
      }
     ],
     "prompt_number": 18
    },
    {
     "cell_type": "markdown",
     "metadata": {},
     "source": [
      "4 ranges: Nov 17-18, Nov 18-20, Nov 20-21, Nov 22-23"
     ]
    },
    {
     "cell_type": "code",
     "collapsed": false,
     "input": [
      "s='17-Nov-2009'; e='18-Nov-2009';\n",
      "unaware=arrow.Arrow.strptime(s,\"%d-%b-%Y\")\n",
      "sdt = unaware.datetime\n",
      "unaware=arrow.Arrow.strptime(e,\"%d-%b-%Y\")\n",
      "edt = unaware.datetime\n",
      "\n",
      "mmax,tm_max,Tmax,tT_max =find_max_over_range(anom,ts['all_forcing'],Tof_anom[:,0,0],Tof_time,sdt,edt)\n",
      "\n",
      "ratios.append(mmax/Tmax)\n",
      "time_delay.append((tm_max-tT_max).seconds/3600.)"
     ],
     "language": "python",
     "metadata": {},
     "outputs": [
      {
       "output_type": "stream",
       "stream": "stdout",
       "text": [
        "model\n",
        "0.504045 2009-11-17 15:30:00+00:00\n",
        "tofino\n",
        "0.609911 2009-11-17 11:00:00+00:00\n"
       ]
      }
     ],
     "prompt_number": 19
    },
    {
     "cell_type": "code",
     "collapsed": false,
     "input": [
      "s='18-Nov-2009'; e='20-Nov-2009';\n",
      "unaware=arrow.Arrow.strptime(s,\"%d-%b-%Y\")\n",
      "sdt = unaware.datetime\n",
      "unaware=arrow.Arrow.strptime(e,\"%d-%b-%Y\")\n",
      "edt = unaware.datetime\n",
      "\n",
      "mmax,tm_max,Tmax,tT_max =find_max_over_range(anom,ts['all_forcing'],Tof_anom[:,0,0],Tof_time,sdt,edt)\n",
      "\n",
      "ratios.append(mmax/Tmax)\n",
      "time_delay.append((tm_max-tT_max).seconds/3600.)"
     ],
     "language": "python",
     "metadata": {},
     "outputs": [
      {
       "output_type": "stream",
       "stream": "stdout",
       "text": [
        "model\n",
        "0.432122 2009-11-19 07:30:00+00:00\n",
        "tofino\n",
        "0.527664 2009-11-19 01:00:00+00:00\n"
       ]
      }
     ],
     "prompt_number": 20
    },
    {
     "cell_type": "code",
     "collapsed": false,
     "input": [
      "s='20-Nov-2009'; e='21-Nov-2009';\n",
      "unaware=arrow.Arrow.strptime(s,\"%d-%b-%Y\")\n",
      "sdt = unaware.datetime\n",
      "unaware=arrow.Arrow.strptime(e,\"%d-%b-%Y\")\n",
      "edt = unaware.datetime\n",
      "\n",
      "mmax,tm_max,Tmax,tT_max =find_max_over_range(anom,ts['all_forcing'],Tof_anom[:,0,0],Tof_time,sdt,edt)\n",
      "\n",
      "ratios.append(mmax/Tmax)\n",
      "time_delay.append((tm_max-tT_max).seconds/3600.)"
     ],
     "language": "python",
     "metadata": {},
     "outputs": [
      {
       "output_type": "stream",
       "stream": "stdout",
       "text": [
        "model\n",
        "0.505427 2009-11-20 15:30:00+00:00\n",
        "tofino\n",
        "0.554393 2009-11-20 02:00:00+00:00\n"
       ]
      }
     ],
     "prompt_number": 21
    },
    {
     "cell_type": "code",
     "collapsed": false,
     "input": [
      "s='22-Nov-2009'; e='22-Nov-2009 23:00';\n",
      "unaware=arrow.Arrow.strptime(s,\"%d-%b-%Y\")\n",
      "sdt = unaware.datetime\n",
      "unaware=arrow.Arrow.strptime(e,\"%d-%b-%Y %H:%M\")\n",
      "edt = unaware.datetime\n",
      "\n",
      "mmax,tm_max,Tmax,tT_max =find_max_over_range(anom,ts['all_forcing'],Tof_anom[:,0,0],Tof_time,sdt,edt)\n",
      "\n",
      "ratios.append(mmax/Tmax)\n",
      "time_delay.append((tm_max-tT_max).seconds/3600.)"
     ],
     "language": "python",
     "metadata": {},
     "outputs": [
      {
       "output_type": "stream",
       "stream": "stdout",
       "text": [
        "model\n",
        "0.495718 2009-11-22 16:30:00+00:00\n",
        "tofino\n",
        "0.477678 2009-11-22 12:00:00+00:00\n"
       ]
      }
     ],
     "prompt_number": 22
    },
    {
     "cell_type": "heading",
     "level": 1,
     "metadata": {},
     "source": [
      "Nov 2006"
     ]
    },
    {
     "cell_type": "code",
     "collapsed": false,
     "input": [
      "fUs={}; fVs={}; fTs={};\n",
      "us={}; vs={}; lats={}; lons={}; tmps={}; sals={}; sshs={}; ts={};\n",
      "wlev_meas={}; ttide={}; msl={}\n",
      "\n",
      "path='/ocean/nsoontie/MEOPAR/SalishSea/results/storm-surges/final/nov2006/'\n",
      "\n",
      "load_everything(path,'20061112_20061118',2006)\n",
      "\n",
      "fig,ax=plt.subplots(1,1,figsize=(10,5))\n",
      "Tof_time,Tof_anom= compare_Tof('01-Nov-2006','30-Nov-2006',ax)\n",
      "\n",
      "location='PointAtkinson'\n",
      "anom=sshs['all_forcing'][location][:,0,0]-sshs['tidesonly'][location][:,0,0]\n",
      "ax.plot(ts['all_forcing'], anom,'--g',label='Model-PA')\n",
      "ax.legend(loc=0)\n",
      "\n",
      "ax.set_xlim([datetime.datetime(2006,11,11),datetime.datetime(2006,11,19)]); ax.set_ylim([-1,1])"
     ],
     "language": "python",
     "metadata": {},
     "outputs": [
      {
       "metadata": {},
       "output_type": "pyout",
       "prompt_number": 25,
       "text": [
        "(-1, 1)"
       ]
      },
      {
       "metadata": {},
       "output_type": "display_data",
       "png": "[encoded data removed]",
       "text": [
        "<matplotlib.figure.Figure at 0x7faf90c2ee90>"
       ]
      }
     ],
     "prompt_number": 25
    },
    {
     "cell_type": "markdown",
     "metadata": {},
     "source": [
      "Nov 13-14, Nov 15-17"
     ]
    },
    {
     "cell_type": "code",
     "collapsed": false,
     "input": [
      "s='13-Nov-2006'; e='14-Nov-2006';\n",
      "unaware=arrow.Arrow.strptime(s,\"%d-%b-%Y\")\n",
      "sdt = unaware.datetime\n",
      "unaware=arrow.Arrow.strptime(e,\"%d-%b-%Y\")\n",
      "edt = unaware.datetime\n",
      "\n",
      "mmax,tm_max,Tmax,tT_max =find_max_over_range(anom,ts['all_forcing'],Tof_anom[:,0,0],Tof_time,sdt,edt)\n",
      "\n",
      "ratios.append(mmax/Tmax)\n",
      "time_delay.append((tm_max-tT_max).seconds/3600.)"
     ],
     "language": "python",
     "metadata": {},
     "outputs": [
      {
       "output_type": "stream",
       "stream": "stdout",
       "text": [
        "model\n",
        "0.42886 2006-11-13 13:30:00+00:00\n",
        "tofino\n",
        "0.450321 2006-11-13 06:00:00+00:00\n"
       ]
      }
     ],
     "prompt_number": 26
    },
    {
     "cell_type": "code",
     "collapsed": false,
     "input": [
      "s='15-Nov-2006'; e='17-Nov-2006';\n",
      "unaware=arrow.Arrow.strptime(s,\"%d-%b-%Y\")\n",
      "sdt = unaware.datetime\n",
      "unaware=arrow.Arrow.strptime(e,\"%d-%b-%Y\")\n",
      "edt = unaware.datetime\n",
      "\n",
      "mmax,tm_max,Tmax,tT_max =find_max_over_range(anom,ts['all_forcing'],Tof_anom[:,0,0],Tof_time,sdt,edt)\n",
      "\n",
      "ratios.append(mmax/Tmax)\n",
      "time_delay.append((tm_max-tT_max).seconds/3600.)"
     ],
     "language": "python",
     "metadata": {},
     "outputs": [
      {
       "output_type": "stream",
       "stream": "stdout",
       "text": [
        "model\n",
        "0.662452 2006-11-16 01:30:00+00:00\n",
        "tofino\n",
        "0.725153 2006-11-15 19:00:00+00:00\n"
       ]
      }
     ],
     "prompt_number": 29
    },
    {
     "cell_type": "code",
     "collapsed": false,
     "input": [
      "def load_everything_dec2012 (path,fname,year):  \n",
      "    runs = {'CGRF/all_forcing', 'tidesonly'}\n",
      "    \n",
      "    for key in runs:\n",
      "        print path+key +'/SalishSea_4h_{}_grid_U.nc'.format(fname)\n",
      "        fUs[key] = NC.Dataset(path+key +'/SalishSea_4h_{}_grid_U.nc'.format(fname),'r');\n",
      "        fVs[key] = NC.Dataset(path+key +'/SalishSea_4h_{}_grid_V.nc'.format(fname),'r');\n",
      "        fTs[key] = NC.Dataset(path+key +'/SalishSea_4h_{}_grid_T.nc'.format(fname),'r');\n",
      "        \n",
      "    run_stations={}\n",
      "\n",
      "    for run in runs:\n",
      "        for key in allstations:\n",
      "            string = path+ run + '/1h_' + key + '.nc'\n",
      "            run_stations[key] = NC.Dataset(string,'r');\n",
      "            tim = run_stations[key].variables['time_counter']\n",
      "            t_count=np.arange(0, tim.shape[0])\n",
      "            t=nc_tools.timestamp(run_stations[key],t_count)\n",
      "            tlist=[]\n",
      "            for a in t:\n",
      "               tlist.append(a.datetime) \n",
      "            ts[run]=tlist\n",
      "        [us[run], vs[run], lats[run], lons[run], tmps[run], sals[run], sshs[run]] = stormtools.combine_data(run_stations)\n",
      "        run_stations={};\n",
      "        \n",
      "    start='31-Dec-{}'.format(year-1); end='02-Jan-{}'.format(year+1)\n",
      "\n",
      "    for key in stations:\n",
      "        location=key\n",
      "        #filename for predictions\n",
      "        filename='/data/nsoontie/MEOPAR/analysis/storm_surges/data/'+location+'_t_tide_compare8_' +start+'_'+end+'.csv'\n",
      "        [ttide[key], msl[key]] = stormtools.load_tidal_predictions(filename)\n",
      "        wlev_meas[key] = stormtools.load_observations(start,end,location)\n",
      "        \n",
      "    sshs['all_forcing']=sshs['CGRF/all_forcing']\n",
      "    ts['all_forcing']=ts['CGRF/all_forcing']"
     ],
     "language": "python",
     "metadata": {},
     "outputs": [],
     "prompt_number": 32
    },
    {
     "cell_type": "code",
     "collapsed": false,
     "input": [
      "fUs={}; fVs={}; fTs={};\n",
      "us={}; vs={}; lats={}; lons={}; tmps={}; sals={}; sshs={}; ts={};\n",
      "wlev_meas={}; ttide={}; msl={}\n",
      "\n",
      "path='/ocean/nsoontie/MEOPAR/SalishSea/results/storm-surges/final/dec2012/'\n",
      "\n",
      "load_everything_dec2012(path,'20121214_20121218',2012)\n",
      "\n",
      "fig,ax=plt.subplots(1,1,figsize=(10,5))\n",
      "Tof_time,Tof_anom= compare_Tof('01-Dec-2012','31-Dec-2012',ax)\n",
      "\n",
      "location='PointAtkinson'\n",
      "anom=sshs['all_forcing'][location][:,0,0]-sshs['tidesonly'][location][:,0,0]\n",
      "ax.plot(ts['all_forcing'], anom,'--g',label='Model-PA')\n",
      "ax.legend(loc=0)\n",
      "\n",
      "ax.set_xlim([datetime.datetime(2012,12,14),datetime.datetime(2012,12,19)]); ax.set_ylim([-1,1])"
     ],
     "language": "python",
     "metadata": {},
     "outputs": [
      {
       "output_type": "stream",
       "stream": "stdout",
       "text": [
        "/ocean/nsoontie/MEOPAR/SalishSea/results/storm-surges/final/dec2012/tidesonly/SalishSea_4h_20121214_20121218_grid_U.nc\n",
        "/ocean/nsoontie/MEOPAR/SalishSea/results/storm-surges/final/dec2012/CGRF/all_forcing/SalishSea_4h_20121214_20121218_grid_U.nc\n"
       ]
      },
      {
       "metadata": {},
       "output_type": "pyout",
       "prompt_number": 33,
       "text": [
        "(-1, 1)"
       ]
      },
      {
       "metadata": {},
       "output_type": "display_data",
       "png": "[encoded data removed]",
       "text": [
        "<matplotlib.figure.Figure at 0x7faf90cc3c90>"
       ]
      }
     ],
     "prompt_number": 33
    },
    {
     "cell_type": "code",
     "collapsed": false,
     "input": [
      "s='17-Dec-2012'; e='18-Dec-2012';\n",
      "unaware=arrow.Arrow.strptime(s,\"%d-%b-%Y\")\n",
      "sdt = unaware.datetime\n",
      "unaware=arrow.Arrow.strptime(e,\"%d-%b-%Y\")\n",
      "edt = unaware.datetime\n",
      "\n",
      "mmax,tm_max,Tmax,tT_max =find_max_over_range(anom,ts['all_forcing'],Tof_anom[:,0,0],Tof_time,sdt,edt)\n",
      "\n",
      "ratios.append(mmax/Tmax)\n",
      "time_delay.append((tm_max-tT_max).seconds/3600.)"
     ],
     "language": "python",
     "metadata": {},
     "outputs": [
      {
       "output_type": "stream",
       "stream": "stdout",
       "text": [
        "model\n",
        "0.590947 2012-12-17 13:30:00+00:00\n",
        "tofino\n",
        "0.645021 2012-12-17 05:00:00+00:00\n"
       ]
      }
     ],
     "prompt_number": 34
    },
    {
     "cell_type": "code",
     "collapsed": false,
     "input": [
      "ratios=np.array(ratios)\n",
      "print 'Mean PA amp/Tofino amp:', np.mean(ratios)\n",
      "time_delay=np.array(time_delay)\n",
      "print 'Mean time PA -time Tofino:', np.mean(time_delay)\n",
      "\n",
      "print 'Number of surges analyzed:', ratios.shape[0]\n",
      "\n"
     ],
     "language": "python",
     "metadata": {},
     "outputs": [
      {
       "output_type": "stream",
       "stream": "stdout",
       "text": [
        "Mean PA amp/Tofino amp: 0.929203\n",
        "Mean time PA -time Tofino: 7.04545454545\n",
        "Number of surges analyzed: 11\n"
       ]
      }
     ],
     "prompt_number": 39
    },
    {
     "cell_type": "code",
     "collapsed": false,
     "input": [
      "reload(pytz)"
     ],
     "language": "python",
     "metadata": {},
     "outputs": [
      {
       "metadata": {},
       "output_type": "pyout",
       "prompt_number": 41,
       "text": [
        "<module 'pytz' from '/home/nsoontie/anaconda/lib/python2.7/site-packages/pytz/__init__.pyc'>"
       ]
      }
     ],
     "prompt_number": 41
    },
    {
     "cell_type": "code",
     "collapsed": false,
     "input": [
      "dt=datetime.datetime(2014,10,12,1,0)\n",
      "dt=dt.replace(tzinfo=pytz.timezone('Canada/Pacific'))\n",
      "\n",
      "print dt\n",
      "\n",
      "dt.astimezone(pytz.timezone('UTC'))"
     ],
     "language": "python",
     "metadata": {},
     "outputs": [
      {
       "output_type": "stream",
       "stream": "stdout",
       "text": [
        "2014-10-12 01:00:00-08:12\n"
       ]
      },
      {
       "metadata": {},
       "output_type": "pyout",
       "prompt_number": 69,
       "text": [
        "datetime.datetime(2014, 10, 12, 9, 12, tzinfo=<UTC>)"
       ]
      }
     ],
     "prompt_number": 69
    },
    {
     "cell_type": "code",
     "collapsed": false,
     "input": [
      "tzi=pytz.timezone('Canada/Pacific')\n",
      "\n",
      "dt=datetime.datetime(2014,10,12,1,0)\n",
      "dt=tzi.localize(dt)\n",
      "\n",
      "dt\n",
      "#dt.astimezone(pytz.timezone('UTC'))"
     ],
     "language": "python",
     "metadata": {},
     "outputs": [
      {
       "metadata": {},
       "output_type": "pyout",
       "prompt_number": 78,
       "text": [
        "datetime.datetime(2014, 10, 12, 1, 0, tzinfo=<DstTzInfo 'Canada/Pacific' PDT-1 day, 17:00:00 DST>)"
       ]
      }
     ],
     "prompt_number": 78
    },
    {
     "cell_type": "code",
     "collapsed": false,
     "input": [
      "dt=arrow.Arrow(2006,11,12,1,0,tzinfo=tzi)\n",
      "print dt\n",
      "\n"
     ],
     "language": "python",
     "metadata": {},
     "outputs": [
      {
       "output_type": "stream",
       "stream": "stdout",
       "text": [
        "2006-11-12T01:00:00-08:12\n"
       ]
      }
     ],
     "prompt_number": 80
    },
    {
     "cell_type": "code",
     "collapsed": false,
     "input": [
      "from dateutil import tz"
     ],
     "language": "python",
     "metadata": {},
     "outputs": [],
     "prompt_number": 71
    },
    {
     "cell_type": "code",
     "collapsed": false,
     "input": [
      "dt=arrow.Arrow(2014,10,12,1,0,tzinfo=tz.gettz('PST'))\n",
      "dt"
     ],
     "language": "python",
     "metadata": {},
     "outputs": [],
     "prompt_number": 87
    },
    {
     "cell_type": "code",
     "collapsed": false,
     "input": [
      "PST=tz.tzoffset(\"PST\",-28800)\n",
      "dt=datetime.datetime(2014,10,12,1,0,tzinfo=PST)\n",
      "dt.astimezone(tz.tzutc())"
     ],
     "language": "python",
     "metadata": {},
     "outputs": [
      {
       "metadata": {},
       "output_type": "pyout",
       "prompt_number": 110,
       "text": [
        "datetime.datetime(2014, 10, 12, 9, 0, tzinfo=tzutc())"
       ]
      }
     ],
     "prompt_number": 110
    },
    {
     "cell_type": "code",
     "collapsed": false,
     "input": [
      "PST"
     ],
     "language": "python",
     "metadata": {},
     "outputs": [
      {
       "metadata": {},
       "output_type": "pyout",
       "prompt_number": 108,
       "text": [
        "tzoffset('PST', -28000)"
       ]
      }
     ],
     "prompt_number": 108
    },
    {
     "cell_type": "code",
     "collapsed": false,
     "input": [
      "dt=arrow.Arrow(2014,11,12,1,0,tzinfo=PST)\n",
      "dt=dt.datetime\n",
      "dt.astimezone(tz.tzutc())"
     ],
     "language": "python",
     "metadata": {},
     "outputs": [
      {
       "metadata": {},
       "output_type": "pyout",
       "prompt_number": 113,
       "text": [
        "datetime.datetime(2014, 11, 12, 9, 0, tzinfo=tzutc())"
       ]
      }
     ],
     "prompt_number": 113
    },
    {
     "cell_type": "code",
     "collapsed": false,
     "input": [
      "dt=datetime.datetime(2014,10,12,1,0,tzinfo=PST)\n",
      "dt.astimezone(tz.tzutc())"
     ],
     "language": "python",
     "metadata": {},
     "outputs": []
    }
   ],
   "metadata": {}
  }
 ]
}