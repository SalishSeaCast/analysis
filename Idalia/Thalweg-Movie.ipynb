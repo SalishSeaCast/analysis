{
 "metadata": {
  "name": "",
  "signature": "sha256:880ba09d26573f553e7b960d95cc7ef577a2835a2d95b61110e0d83ab9bea2fe"
 },
 "nbformat": 3,
 "nbformat_minor": 0,
 "worksheets": [
  {
   "cells": [
    {
     "cell_type": "markdown",
     "metadata": {},
     "source": [
      "Notebook to make a movie of the salinity field evolving over one year of spin up. "
     ]
    },
    {
     "cell_type": "code",
     "collapsed": false,
     "input": [
      "%matplotlib inline\n",
      "from matplotlib import pylab\n",
      "import matplotlib.pyplot as plt\n",
      "import netCDF4 as NC\n",
      "import numpy as np\n",
      "from salishsea_tools import tidetools\n",
      "\n",
      "from salishsea_tools import (nc_tools,viz_tools)\n",
      "\n",
      "import os\n",
      "import glob\n",
      "from matplotlib import animation\n"
     ],
     "language": "python",
     "metadata": {},
     "outputs": [],
     "prompt_number": 1
    },
    {
     "cell_type": "heading",
     "level": 1,
     "metadata": {},
     "source": [
      "Locate Files"
     ]
    },
    {
     "cell_type": "markdown",
     "metadata": {},
     "source": [
      "First, locate the files and create a list sorted in chronological order"
     ]
    },
    {
     "cell_type": "code",
     "collapsed": false,
     "input": [
      "path = '/ocean/dlatorne/MEOPAR/SalishSea/results/spin-up/'\n",
      "\n",
      "files = glob.glob(path+'*/SalishSea_1d_*grid_T.nc')\n",
      "files.sort(key=os.path.basename)"
     ],
     "language": "python",
     "metadata": {},
     "outputs": [],
     "prompt_number": 2
    },
    {
     "cell_type": "code",
     "collapsed": false,
     "input": [
      "files"
     ],
     "language": "python",
     "metadata": {},
     "outputs": [
      {
       "metadata": {},
       "output_type": "pyout",
       "prompt_number": 3,
       "text": [
        "['/ocean/dlatorne/MEOPAR/SalishSea/results/spin-up/1jan5jan/SalishSea_1d_20030101_20030105_grid_T.nc',\n",
        " '/ocean/dlatorne/MEOPAR/SalishSea/results/spin-up/6jan10jan/SalishSea_1d_20030106_20030110_grid_T.nc',\n",
        " '/ocean/dlatorne/MEOPAR/SalishSea/results/spin-up/11jan20jan/SalishSea_1d_20030111_20030120_grid_T.nc',\n",
        " '/ocean/dlatorne/MEOPAR/SalishSea/results/spin-up/21jan30jan/SalishSea_1d_20030121_20030130_grid_T.nc',\n",
        " '/ocean/dlatorne/MEOPAR/SalishSea/results/spin-up/31jan9feb/SalishSea_1d_20030131_20030209_grid_T.nc',\n",
        " '/ocean/dlatorne/MEOPAR/SalishSea/results/spin-up/10feb19feb/SalishSea_1d_20030210_20030219_grid_T.nc',\n",
        " '/ocean/dlatorne/MEOPAR/SalishSea/results/spin-up/20feb1mar/SalishSea_1d_20030220_20030301_grid_T.nc',\n",
        " '/ocean/dlatorne/MEOPAR/SalishSea/results/spin-up/2mar11mar/SalishSea_1d_20030302_20030311_grid_T.nc',\n",
        " '/ocean/dlatorne/MEOPAR/SalishSea/results/spin-up/12mar21mar/SalishSea_1d_20030312_20030321_grid_T.nc',\n",
        " '/ocean/dlatorne/MEOPAR/SalishSea/results/spin-up/22mar31mar/SalishSea_1d_20030322_20030331_grid_T.nc',\n",
        " '/ocean/dlatorne/MEOPAR/SalishSea/results/spin-up/1apr10apr/SalishSea_1d_20030401_20030410_grid_T.nc',\n",
        " '/ocean/dlatorne/MEOPAR/SalishSea/results/spin-up/11apr20apr/SalishSea_1d_20030411_20030420_grid_T.nc',\n",
        " '/ocean/dlatorne/MEOPAR/SalishSea/results/spin-up/21apr30apr/SalishSea_1d_20030421_20030430_grid_T.nc',\n",
        " '/ocean/dlatorne/MEOPAR/SalishSea/results/spin-up/1may10may/SalishSea_1d_20030501_20030510_grid_T.nc',\n",
        " '/ocean/dlatorne/MEOPAR/SalishSea/results/spin-up/11may20may/SalishSea_1d_20030511_20030520_grid_T.nc',\n",
        " '/ocean/dlatorne/MEOPAR/SalishSea/results/spin-up/21may30may/SalishSea_1d_20030521_20030530_grid_T.nc',\n",
        " '/ocean/dlatorne/MEOPAR/SalishSea/results/spin-up/31may9jun/SalishSea_1d_20030531_20030609_grid_T.nc',\n",
        " '/ocean/dlatorne/MEOPAR/SalishSea/results/spin-up/10jun19jun/SalishSea_1d_20030610_20030619_grid_T.nc',\n",
        " '/ocean/dlatorne/MEOPAR/SalishSea/results/spin-up/20jun29jun/SalishSea_1d_20030620_20030629_grid_T.nc',\n",
        " '/ocean/dlatorne/MEOPAR/SalishSea/results/spin-up/30jun9jul/SalishSea_1d_20030630_20030709_grid_T.nc',\n",
        " '/ocean/dlatorne/MEOPAR/SalishSea/results/spin-up/10jul19jul/SalishSea_1d_20030710_20030719_grid_T.nc',\n",
        " '/ocean/dlatorne/MEOPAR/SalishSea/results/spin-up/20jul29jul/SalishSea_1d_20030720_20030729_grid_T.nc',\n",
        " '/ocean/dlatorne/MEOPAR/SalishSea/results/spin-up/30jul8aug/SalishSea_1d_20030730_20030808_grid_T.nc',\n",
        " '/ocean/dlatorne/MEOPAR/SalishSea/results/spin-up/9aug18aug/SalishSea_1d_20030809_20030818_grid_T.nc',\n",
        " '/ocean/dlatorne/MEOPAR/SalishSea/results/spin-up/19aug28aug/SalishSea_1d_20030819_20030828_grid_T.nc',\n",
        " '/ocean/dlatorne/MEOPAR/SalishSea/results/spin-up/29aug7sep/SalishSea_1d_20030829_20030907_grid_T.nc',\n",
        " '/ocean/dlatorne/MEOPAR/SalishSea/results/spin-up/8sep17sep/SalishSea_1d_20030908_20030917_grid_T.nc',\n",
        " '/ocean/dlatorne/MEOPAR/SalishSea/results/spin-up/18sep27sep/SalishSea_1d_20030918_20030927_grid_T.nc',\n",
        " '/ocean/dlatorne/MEOPAR/SalishSea/results/spin-up/28sep7oct/SalishSea_1d_20030928_20031007_grid_T.nc',\n",
        " '/ocean/dlatorne/MEOPAR/SalishSea/results/spin-up/8oct17oct/SalishSea_1d_20031008_20031017_grid_T.nc',\n",
        " '/ocean/dlatorne/MEOPAR/SalishSea/results/spin-up/18oct27oct/SalishSea_1d_20031018_20031027_grid_T.nc',\n",
        " '/ocean/dlatorne/MEOPAR/SalishSea/results/spin-up/28oct6nov/SalishSea_1d_20031028_20031106_grid_T.nc',\n",
        " '/ocean/dlatorne/MEOPAR/SalishSea/results/spin-up/7nov16nov/SalishSea_1d_20031107_20031116_grid_T.nc',\n",
        " '/ocean/dlatorne/MEOPAR/SalishSea/results/spin-up/17nov26nov/SalishSea_1d_20031117_20031126_grid_T.nc',\n",
        " '/ocean/dlatorne/MEOPAR/SalishSea/results/spin-up/27nov6dec/SalishSea_1d_20031127_20031206_grid_T.nc',\n",
        " '/ocean/dlatorne/MEOPAR/SalishSea/results/spin-up/7dec16dec/SalishSea_1d_20031207_20031216_grid_T.nc',\n",
        " '/ocean/dlatorne/MEOPAR/SalishSea/results/spin-up/17dec26dec/SalishSea_1d_20031217_20031226_grid_T.nc',\n",
        " '/ocean/dlatorne/MEOPAR/SalishSea/results/spin-up/27dec31dec/SalishSea_1d_20031227_20031231_grid_T.nc']"
       ]
      }
     ],
     "prompt_number": 3
    },
    {
     "cell_type": "markdown",
     "metadata": {},
     "source": [
      "files is now listed in chronological order. Loop through files to make an animation of salinity along thalweg through 2003. Use the first output of each file."
     ]
    },
    {
     "cell_type": "code",
     "collapsed": false,
     "input": [],
     "language": "python",
     "metadata": {},
     "outputs": [],
     "prompt_number": 3
    }
   ],
   "metadata": {}
  }
 ]
}