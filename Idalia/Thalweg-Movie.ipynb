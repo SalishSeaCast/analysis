{
 "metadata": {
  "name": "",
  "signature": "sha256:cfda9e6b23fe1ada161cf973e12c4b4d9dc10c4c561c7e1a8fcf5f3e0cf7635c"
 },
 "nbformat": 3,
 "nbformat_minor": 0,
 "worksheets": [
  {
   "cells": [
    {
     "cell_type": "heading",
     "level": 3,
     "metadata": {},
     "source": [
      "Notebook to make a movie of the salinity field evolving over one year of spin up. "
     ]
    },
    {
     "cell_type": "code",
     "collapsed": false,
     "input": [
      "%matplotlib inline\n",
      "from matplotlib import pylab\n",
      "import matplotlib.pyplot as plt\n",
      "import netCDF4 as NC\n",
      "from netCDF4 import MFDataset\n",
      "import numpy as np\n",
      "from salishsea_tools import tidetools\n",
      "\n",
      "from salishsea_tools import (nc_tools,viz_tools)\n",
      "\n",
      "import os\n",
      "import glob\n",
      "from matplotlib import animation\n"
     ],
     "language": "python",
     "metadata": {},
     "outputs": [],
     "prompt_number": 1
    },
    {
     "cell_type": "heading",
     "level": 1,
     "metadata": {},
     "source": [
      "Load Grid"
     ]
    },
    {
     "cell_type": "code",
     "collapsed": false,
     "input": [
      "grid = NC.Dataset('../../NEMO-forcing/grid/bathy_meter_SalishSea2.nc')"
     ],
     "language": "python",
     "metadata": {},
     "outputs": [],
     "prompt_number": 2
    },
    {
     "cell_type": "heading",
     "level": 1,
     "metadata": {},
     "source": [
      "Load Thalweg"
     ]
    },
    {
     "cell_type": "code",
     "collapsed": false,
     "input": [
      "!head thalweg.txt\n",
      "thalweg = np.loadtxt('thalweg.txt', dtype=int, unpack=True)\n",
      "thalweg[1].shape"
     ],
     "language": "python",
     "metadata": {},
     "outputs": [
      {
       "output_type": "stream",
       "stream": "stdout",
       "text": [
        "405 2\r\n",
        "404 3\r\n",
        "404 4\r\n",
        "404 5\r\n",
        "404 6\r\n",
        "404 7\r\n",
        "403 8\r\n",
        "403 9\r\n",
        "402 10\r\n",
        "401 11\r\n"
       ]
      },
      {
       "metadata": {},
       "output_type": "pyout",
       "prompt_number": 3,
       "text": [
        "(718,)"
       ]
      }
     ],
     "prompt_number": 3
    },
    {
     "cell_type": "heading",
     "level": 1,
     "metadata": {},
     "source": [
      "Locate Files"
     ]
    },
    {
     "cell_type": "markdown",
     "metadata": {},
     "source": [
      "First, locate the files and create a list sorted in chronological order"
     ]
    },
    {
     "cell_type": "code",
     "collapsed": false,
     "input": [
      "path = '/ocean/dlatorne/MEOPAR/SalishSea/results/spin-up/'\n",
      "\n",
      "files = glob.glob(path+'*/SalishSea_1d_*grid_T.nc')\n",
      "files.sort(key=os.path.basename)\n",
      "#38 files, 3 are size 5 and 35 are 10. estimate 350+15 = 365 days\n",
      "files"
     ],
     "language": "python",
     "metadata": {},
     "outputs": [
      {
       "metadata": {},
       "output_type": "pyout",
       "prompt_number": 4,
       "text": [
        "['/ocean/dlatorne/MEOPAR/SalishSea/results/spin-up/1jan5jan/SalishSea_1d_20030101_20030105_grid_T.nc',\n",
        " '/ocean/dlatorne/MEOPAR/SalishSea/results/spin-up/6jan10jan/SalishSea_1d_20030106_20030110_grid_T.nc',\n",
        " '/ocean/dlatorne/MEOPAR/SalishSea/results/spin-up/11jan20jan/SalishSea_1d_20030111_20030120_grid_T.nc',\n",
        " '/ocean/dlatorne/MEOPAR/SalishSea/results/spin-up/21jan30jan/SalishSea_1d_20030121_20030130_grid_T.nc',\n",
        " '/ocean/dlatorne/MEOPAR/SalishSea/results/spin-up/31jan9feb/SalishSea_1d_20030131_20030209_grid_T.nc',\n",
        " '/ocean/dlatorne/MEOPAR/SalishSea/results/spin-up/10feb19feb/SalishSea_1d_20030210_20030219_grid_T.nc',\n",
        " '/ocean/dlatorne/MEOPAR/SalishSea/results/spin-up/20feb1mar/SalishSea_1d_20030220_20030301_grid_T.nc',\n",
        " '/ocean/dlatorne/MEOPAR/SalishSea/results/spin-up/2mar11mar/SalishSea_1d_20030302_20030311_grid_T.nc',\n",
        " '/ocean/dlatorne/MEOPAR/SalishSea/results/spin-up/12mar21mar/SalishSea_1d_20030312_20030321_grid_T.nc',\n",
        " '/ocean/dlatorne/MEOPAR/SalishSea/results/spin-up/22mar31mar/SalishSea_1d_20030322_20030331_grid_T.nc',\n",
        " '/ocean/dlatorne/MEOPAR/SalishSea/results/spin-up/1apr10apr/SalishSea_1d_20030401_20030410_grid_T.nc',\n",
        " '/ocean/dlatorne/MEOPAR/SalishSea/results/spin-up/11apr20apr/SalishSea_1d_20030411_20030420_grid_T.nc',\n",
        " '/ocean/dlatorne/MEOPAR/SalishSea/results/spin-up/21apr30apr/SalishSea_1d_20030421_20030430_grid_T.nc',\n",
        " '/ocean/dlatorne/MEOPAR/SalishSea/results/spin-up/1may10may/SalishSea_1d_20030501_20030510_grid_T.nc',\n",
        " '/ocean/dlatorne/MEOPAR/SalishSea/results/spin-up/11may20may/SalishSea_1d_20030511_20030520_grid_T.nc',\n",
        " '/ocean/dlatorne/MEOPAR/SalishSea/results/spin-up/21may30may/SalishSea_1d_20030521_20030530_grid_T.nc',\n",
        " '/ocean/dlatorne/MEOPAR/SalishSea/results/spin-up/31may9jun/SalishSea_1d_20030531_20030609_grid_T.nc',\n",
        " '/ocean/dlatorne/MEOPAR/SalishSea/results/spin-up/10jun19jun/SalishSea_1d_20030610_20030619_grid_T.nc',\n",
        " '/ocean/dlatorne/MEOPAR/SalishSea/results/spin-up/20jun29jun/SalishSea_1d_20030620_20030629_grid_T.nc',\n",
        " '/ocean/dlatorne/MEOPAR/SalishSea/results/spin-up/30jun9jul/SalishSea_1d_20030630_20030709_grid_T.nc',\n",
        " '/ocean/dlatorne/MEOPAR/SalishSea/results/spin-up/10jul19jul/SalishSea_1d_20030710_20030719_grid_T.nc',\n",
        " '/ocean/dlatorne/MEOPAR/SalishSea/results/spin-up/20jul29jul/SalishSea_1d_20030720_20030729_grid_T.nc',\n",
        " '/ocean/dlatorne/MEOPAR/SalishSea/results/spin-up/30jul8aug/SalishSea_1d_20030730_20030808_grid_T.nc',\n",
        " '/ocean/dlatorne/MEOPAR/SalishSea/results/spin-up/9aug18aug/SalishSea_1d_20030809_20030818_grid_T.nc',\n",
        " '/ocean/dlatorne/MEOPAR/SalishSea/results/spin-up/19aug28aug/SalishSea_1d_20030819_20030828_grid_T.nc',\n",
        " '/ocean/dlatorne/MEOPAR/SalishSea/results/spin-up/29aug7sep/SalishSea_1d_20030829_20030907_grid_T.nc',\n",
        " '/ocean/dlatorne/MEOPAR/SalishSea/results/spin-up/8sep17sep/SalishSea_1d_20030908_20030917_grid_T.nc',\n",
        " '/ocean/dlatorne/MEOPAR/SalishSea/results/spin-up/18sep27sep/SalishSea_1d_20030918_20030927_grid_T.nc',\n",
        " '/ocean/dlatorne/MEOPAR/SalishSea/results/spin-up/28sep7oct/SalishSea_1d_20030928_20031007_grid_T.nc',\n",
        " '/ocean/dlatorne/MEOPAR/SalishSea/results/spin-up/8oct17oct/SalishSea_1d_20031008_20031017_grid_T.nc',\n",
        " '/ocean/dlatorne/MEOPAR/SalishSea/results/spin-up/18oct27oct/SalishSea_1d_20031018_20031027_grid_T.nc',\n",
        " '/ocean/dlatorne/MEOPAR/SalishSea/results/spin-up/28oct6nov/SalishSea_1d_20031028_20031106_grid_T.nc',\n",
        " '/ocean/dlatorne/MEOPAR/SalishSea/results/spin-up/7nov16nov/SalishSea_1d_20031107_20031116_grid_T.nc',\n",
        " '/ocean/dlatorne/MEOPAR/SalishSea/results/spin-up/17nov26nov/SalishSea_1d_20031117_20031126_grid_T.nc',\n",
        " '/ocean/dlatorne/MEOPAR/SalishSea/results/spin-up/27nov6dec/SalishSea_1d_20031127_20031206_grid_T.nc',\n",
        " '/ocean/dlatorne/MEOPAR/SalishSea/results/spin-up/7dec16dec/SalishSea_1d_20031207_20031216_grid_T.nc',\n",
        " '/ocean/dlatorne/MEOPAR/SalishSea/results/spin-up/17dec26dec/SalishSea_1d_20031217_20031226_grid_T.nc',\n",
        " '/ocean/dlatorne/MEOPAR/SalishSea/results/spin-up/27dec31dec/SalishSea_1d_20031227_20031231_grid_T.nc']"
       ]
      }
     ],
     "prompt_number": 4
    },
    {
     "cell_type": "markdown",
     "metadata": {},
     "source": [
      "files is now listed in chronological order. Loop through files to make an animation of salinity along thalweg through 2003. Use the first output of each file."
     ]
    },
    {
     "cell_type": "heading",
     "level": 1,
     "metadata": {},
     "source": [
      "Animate"
     ]
    },
    {
     "cell_type": "code",
     "collapsed": false,
     "input": [
      "#tracers = NC.MFDataset('/ocean/dlatorne/MEOPAR/SalishSea/results/spin-up/*/SalishSea*_grid_T.nc')\n",
      "tracers = NC.MFDataset(files)"
     ],
     "language": "python",
     "metadata": {},
     "outputs": [],
     "prompt_number": 30
    },
    {
     "cell_type": "code",
     "collapsed": false,
     "input": [
      "sal = tracers.variables['vosaline']\n",
      "zlevels = tracers.variables['deptht']\n",
      "framess = sal.shape[0]\n",
      "framess"
     ],
     "language": "python",
     "metadata": {},
     "outputs": [
      {
       "metadata": {},
       "output_type": "pyout",
       "prompt_number": 31,
       "text": [
        "365"
       ]
      }
     ],
     "prompt_number": 31
    },
    {
     "cell_type": "code",
     "collapsed": false,
     "input": [
      "#Setting up a blank figure\n",
      "fig, (axl, axcb) = plt.subplots(1, 2, figsize=(25, 10))\n",
      "land_colour = 'burlywood'\n",
      "axl.set_axis_bgcolor(land_colour)\n",
      "axl.set_position((0.125, 0.125, 0.6, 0.775))\n",
      "axcb.set_position((0.73, 0.125, 0.02, 0.775))\n",
      "\n",
      "smin, smax, dels = 26, 34, 0.5\n",
      "cmap = plt.get_cmap('hsv')\n",
      "cmap.set_bad(land_colour)\n",
      "\n",
      "axl.set_xlim(0, thalweg[0][-1])\n",
      "axl.invert_yaxis()\n",
      "\n",
      "#Making an initial image i.e. our first ssh reading\n",
      "def init():\n",
      "    return axl, axcb\n",
      "    \n",
      "#The full range of images that will make up the animation\n",
      "def animate(t):\n",
      "    axl.clear()\n",
      "    axcb.clear()\n",
      "    x, z = np.meshgrid(np.arange(thalweg.shape[1]), zlevels)\n",
      "    sal_tzyx = np.ma.masked_values(sal[t, :, thalweg[0], thalweg[1]], 0)\n",
      "    \n",
      "    cs = [26,27,28,29,30,30.2,30.4,30.6,30.8,31,32,33,34]\n",
      "    mesh=axl.contourf(x,z,sal_tzyx,cs,cmap=cmap)\n",
      "    \n",
      "    #mesh = axl.pcolormesh(x, z, sal_tzyx, cmap=cmap, vmin=smin, vmax=smax)\n",
      "    #clines = axl.contour(x, z, sal_tzyx, np.arange(smin, smax, dels*2), colors='black')\n",
      "    #axl.clabel(clines, fmt='%1.1f', inline=True)\n",
      "    cbar = plt.colorbar(mesh, cax=axcb)\n",
      "    cbar.set_ticks([26,27,28,29,30,30.2,30.4,30.6,30.8,31,32,33,34])\n",
      "    cbar.set_label('Practical Salinity')\n",
      "    timestamp = nc_tools.timestamp(tracers,t)\n",
      "    axl.set_title(timestamp.format('DD-MMM-YYYY'))\n",
      "    axl.set_xlabel('X Index')\n",
      "    axl.set_ylabel('Depth [m]')\n",
      "    #axl.grid()\n",
      "       \n",
      "  \n",
      "\n",
      "#The animation function    \n",
      "anim = animation.FuncAnimation(fig, animate, init_func=init, frames=framess, interval=300, blit=True, repeat=False)\n",
      "\n",
      "#A line that makes it all work\n",
      "mywriter = animation.FFMpegWriter()\n",
      "\n",
      "#Save in current folder\n",
      "anim.save('ThalwegSal_Animation.mp4',writer=mywriter,fps=1)\n",
      "\n",
      "#Show as a pop-up window\n",
      "#plt.show()"
     ],
     "language": "python",
     "metadata": {},
     "outputs": [
      {
       "metadata": {},
       "output_type": "display_data",
       "png": "[encoded data removed]",
       "text": [
        "<matplotlib.figure.Figure at 0x7f1f8b85c350>"
       ]
      }
     ],
     "prompt_number": 32
    },
    {
     "cell_type": "code",
     "collapsed": false,
     "input": [],
     "language": "python",
     "metadata": {},
     "outputs": []
    }
   ],
   "metadata": {}
  }
 ]
}