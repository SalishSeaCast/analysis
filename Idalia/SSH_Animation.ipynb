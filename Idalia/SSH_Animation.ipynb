{
 "metadata": {
  "name": "",
  "signature": "sha256:97359b010516c27d3b6d5603870a6420ad834efc521351b39d8a4f79dd80fdea"
 },
 "nbformat": 3,
 "nbformat_minor": 0,
 "worksheets": [
  {
   "cells": [
    {
     "cell_type": "heading",
     "level": 3,
     "metadata": {},
     "source": [
      "Animation showing the progression of sea surface heights using hourly records for a period of 2 days."
     ]
    },
    {
     "cell_type": "heading",
     "level": 1,
     "metadata": {},
     "source": [
      "Imports"
     ]
    },
    {
     "cell_type": "code",
     "collapsed": false,
     "input": [
      "import numpy as np\n",
      "from matplotlib import pyplot as plt\n",
      "from matplotlib import animation\n",
      "\n",
      "import netCDF4 as nc\n",
      "from salishsea_tools import (\n",
      "    nc_tools,\n",
      "    viz_tools,)"
     ],
     "language": "python",
     "metadata": {},
     "outputs": [],
     "prompt_number": 1
    },
    {
     "cell_type": "heading",
     "level": 1,
     "metadata": {},
     "source": [
      "Data"
     ]
    },
    {
     "cell_type": "code",
     "collapsed": false,
     "input": [
      "tracers1 = nc.Dataset('/data/nsoontie/MEOPAR/SalishSea/results/storm-surges/tide_fix/dec2006/all_forcing/1hour/SalishSea_1h_20061214_20061215_grid_T.nc')"
     ],
     "language": "python",
     "metadata": {},
     "outputs": [],
     "prompt_number": 2
    },
    {
     "cell_type": "heading",
     "level": 1,
     "metadata": {},
     "source": [
      "Defining Sea Surface Height"
     ]
    },
    {
     "cell_type": "code",
     "collapsed": false,
     "input": [
      "ssh1 = tracers1.variables['sossheig']"
     ],
     "language": "python",
     "metadata": {},
     "outputs": [],
     "prompt_number": 3
    },
    {
     "cell_type": "heading",
     "level": 1,
     "metadata": {},
     "source": [
      "Animation"
     ]
    },
    {
     "cell_type": "code",
     "collapsed": false,
     "input": [
      "#Setting up a blank figure\n",
      "fig, ax = plt.subplots(1, 1, figsize=(10, 8))\n",
      "viz_tools.set_aspect(ax)\n",
      "cmap = plt.get_cmap('CMRmap')\n",
      "cmap.set_bad('burlywood')\n",
      "\n",
      "#Making an initial image i.e. our first ssh reading\n",
      "def init():\n",
      "    ssh = np.ma.masked_values(ssh1[0], 0)\n",
      "    mesh = ax.pcolormesh(ssh,cmap=cmap)\n",
      "    cbar = fig.colorbar(mesh)\n",
      "    cbar.set_label('{label} [{units}]'.format(label=ssh1.long_name.title(), units=ssh1.units))\n",
      "\n",
      "    \n",
      "#The full range of images that will make up the animation\n",
      "def animate(time_counter):\n",
      "    ssh = np.ma.masked_values(ssh1[time_counter], 0)\n",
      "    mesh = ax.pcolormesh(ssh,cmap=cmap)\n",
      "    ax.set_xlabel('x Index')\n",
      "    ax.set_ylabel('y Index')\n",
      "\n",
      "#The animation function    \n",
      "anim = animation.FuncAnimation(fig, animate, init_func=init, frames=3, interval=500, blit=False)\n",
      "\n",
      "#A line that makes it all work\n",
      "mywriter = animation.FFMpegWriter()\n",
      "\n",
      "#Save in current folder\n",
      "anim.save('SSH1.mp4',writer=mywriter)\n",
      "\n",
      "#Show as a pop-up window\n",
      "plt.show()\n"
     ],
     "language": "python",
     "metadata": {},
     "outputs": [],
     "prompt_number": 4
    },
    {
     "cell_type": "markdown",
     "metadata": {},
     "source": [
      "To do list:\n",
      "1. Make sure those 3 frames make sense. Compare to results from Storm Surge notebook.\n",
      "2. Standardize a colourbar - make sure it makes sense with what's showing on map.\n",
      "3. Add title that shows the progression of hours.\n",
      "4. Play with intervals.\n",
      "5. How do you tell the animation in pop-up window to stop. Saved animation actually does stop - phew!\n",
      "6. Still need to show ssh2 and ss1-ssh2."
     ]
    }
   ],
   "metadata": {}
  }
 ]
}