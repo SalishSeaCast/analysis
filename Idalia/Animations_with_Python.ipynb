{
 "metadata": {
  "name": "",
  "signature": "sha256:b07e6d323e59381dad2441af2b5741fdcca25a61a0293859319f979b3f56c665"
 },
 "nbformat": 3,
 "nbformat_minor": 0,
 "worksheets": [
  {
   "cells": [
    {
     "cell_type": "heading",
     "level": 1,
     "metadata": {},
     "source": [
      "Animations with Python"
     ]
    },
    {
     "cell_type": "markdown",
     "metadata": {},
     "source": [
      "by Idalia Machuca and Nancy Soontiens"
     ]
    },
    {
     "cell_type": "heading",
     "level": 2,
     "metadata": {},
     "source": [
      "Learning Goals"
     ]
    },
    {
     "cell_type": "markdown",
     "metadata": {},
     "source": [
      "* generate and save simple animations using the IPython Notebook\n",
      "* animate data from a file\n",
      "* animate three-dimensional images"
     ]
    },
    {
     "cell_type": "heading",
     "level": 2,
     "metadata": {},
     "source": [
      "Set up"
     ]
    },
    {
     "cell_type": "markdown",
     "metadata": {},
     "source": [
      "In order to save these movies, we will need a library for writing videas. I've been using ffmpeg which can be downloaded here: http://www.ffmpeg.org/download.html. Download the package approriate for your system (windows, Mac, etc).\n",
      "\n",
      "You will have to add the ffmpeg executable to your path. \n",
      "1. Windows users can follow these instructions: http://www.wikihow.com/Install-FFmpeg-on-Windows\n",
      "2. MAC users can use the terminal:\n",
      "\n",
      "export PATH = 'path to where I extracted the FFMPEG download':$PATH\n",
      "\n",
      "Actually, Windows users can also the above line in their Git-Bash window too.\n",
      "\n",
      "You can test if you've done this correctly by typing ffmpeg in your terminal. If you get an error like \"ffmpeg executable not found\" then you haven't set things up correctly. Feel free to ask for help.\n",
      "\n",
      "For those of you working on \"Waterhole\" machines, ffmpeg has already been installed."
     ]
    },
    {
     "cell_type": "heading",
     "level": 2,
     "metadata": {},
     "source": [
      "Resources"
     ]
    },
    {
     "cell_type": "markdown",
     "metadata": {},
     "source": [
      "There are many examples of using Python to generate movies available on the internet with a quick Google search. We have found these pages helpful:\n",
      "* http://matplotlib.org/examples/animation/index.html\n",
      "* http://matplotlib.org/api/animation_api.html"
     ]
    },
    {
     "cell_type": "heading",
     "level": 2,
     "metadata": {},
     "source": [
      "A simple animation"
     ]
    },
    {
     "cell_type": "heading",
     "level": 3,
     "metadata": {},
     "source": [
      "Load tools and packages"
     ]
    },
    {
     "cell_type": "markdown",
     "metadata": {},
     "source": [
      "Like all of our notebooks, we will need a set of tools to help us generate awesome movies! Like usual, load in matplotlib.pyplot, numpy, but also matlplotlib.animation."
     ]
    },
    {
     "cell_type": "code",
     "collapsed": false,
     "input": [
      "import numpy as np\n",
      "import matplotlib.pyplot as plt\n",
      "import matplotlib.animation as animation"
     ],
     "language": "python",
     "metadata": {},
     "outputs": [],
     "prompt_number": 1
    },
    {
     "cell_type": "markdown",
     "metadata": {},
     "source": [
      "Notice that we didn't use the %matlplotlib inline feature. This means our movies will pop up in a new window with the plt.show() command. We have done this because plots don't animate inline."
     ]
    },
    {
     "cell_type": "heading",
     "level": 3,
     "metadata": {},
     "source": [
      "Make something to animate"
     ]
    },
    {
     "cell_type": "markdown",
     "metadata": {},
     "source": [
      "We will need some data in order to produce an animation! Later, we will talk about loading data from a file but for now we will generate a sine curve as a simple example."
     ]
    },
    {
     "cell_type": "code",
     "collapsed": false,
     "input": [
      "fig = plt.figure()\n",
      "x = np.arange(0, 2*np.pi, 0.01)\n",
      "plt.plot(x, np.sin(x),'b')\n",
      "plt.axis([0,2*np.pi,-1,1])\n",
      "plt.show()"
     ],
     "language": "python",
     "metadata": {},
     "outputs": [],
     "prompt_number": 2
    },
    {
     "cell_type": "heading",
     "level": 2,
     "metadata": {},
     "source": [
      "Animate"
     ]
    },
    {
     "cell_type": "markdown",
     "metadata": {},
     "source": [
      "To animate the sine curve, we will need to create a function that will help us loop through frames. It will take one simple argument that we can think of as time."
     ]
    },
    {
     "cell_type": "code",
     "collapsed": false,
     "input": [
      "def animate_sine(t):\n",
      "    plt.plot(x,np.sin(x+t/10.0),'b') \n",
      "    plt.axis([0,2*np.pi,-1,1])"
     ],
     "language": "python",
     "metadata": {},
     "outputs": [],
     "prompt_number": 3
    },
    {
     "cell_type": "markdown",
     "metadata": {},
     "source": [
      "Now, we can use methods from the animation package to generate the movie.\n",
      "\n",
      "Notes: we are passing the figure handle, our animate function and the number of frames we would like to be animated. The frame number is the argument that is passed to the animate_sine function."
     ]
    },
    {
     "cell_type": "code",
     "collapsed": false,
     "input": [
      "fig=plt.figure()\n",
      "ani = animation.FuncAnimation(fig,animate_sine, frames=200)\n",
      "plt.show()"
     ],
     "language": "python",
     "metadata": {},
     "outputs": [],
     "prompt_number": 4
    },
    {
     "cell_type": "markdown",
     "metadata": {},
     "source": [
      "But this isn't exactly what we were expecting! Each frame contains the plot from the previous frame. We can get around this by clearing the axis at the start of our animiate_sine function.\n"
     ]
    },
    {
     "cell_type": "code",
     "collapsed": false,
     "input": [
      "def animate_sine(t):\n",
      "    plt.cla()\n",
      "    plt.plot(x,np.sin(x+t/10.0),'b') \n",
      "    plt.axis([0,2*np.pi,-1,1])"
     ],
     "language": "python",
     "metadata": {},
     "outputs": [],
     "prompt_number": 5
    },
    {
     "cell_type": "code",
     "collapsed": false,
     "input": [
      "fig, ax = plt.subplots()\n",
      "ani = animation.FuncAnimation(fig,animate_sine, frames=200)\n",
      "plt.show()"
     ],
     "language": "python",
     "metadata": {},
     "outputs": [],
     "prompt_number": 6
    },
    {
     "cell_type": "heading",
     "level": 4,
     "metadata": {},
     "source": [
      "Aside: A more \"Pythonic\" approach"
     ]
    },
    {
     "cell_type": "markdown",
     "metadata": {},
     "source": [
      "We can also overcome the duplicate plots using the \"blit\" attribute of the FuncAnimation function. This isn't as intuitive as clearing the frame, but is perhaps more \"Pythonic\" and takes advantage of the way the animation function was written. An example is provided below. "
     ]
    },
    {
     "cell_type": "code",
     "collapsed": false,
     "input": [
      "fig,ax = plt.subplots()\n",
      "\n",
      "#An empty plot\n",
      "pl,=ax.plot([],[])\n",
      "ax.set_xlim([0,2*np.pi])\n",
      "ax.set_ylim([-1,1])\n",
      "\n",
      "#animate funcion\n",
      "def animate_sine(t):\n",
      "    pl.set_data(x,np.sin(x+t/10.0)) \n",
      "    return pl,\n",
      "\n",
      "#set a clear initial frame\n",
      "def init():\n",
      "    pl.set_data([],[])\n",
      "    return pl,\n",
      "\n",
      "#blit=True to remove instances from previous frames\n",
      "ani = animation.FuncAnimation(fig,animate_sine, frames=200, init_func=init, blit=True)\n",
      "plt.show()"
     ],
     "language": "python",
     "metadata": {},
     "outputs": [],
     "prompt_number": 8
    },
    {
     "cell_type": "heading",
     "level": 2,
     "metadata": {},
     "source": [
      "Saving"
     ]
    },
    {
     "cell_type": "markdown",
     "metadata": {},
     "source": [
      "Now we would like to save the movie. This is where we need to use ffmepg. We will define a movie writer that uses the ffmpeg libraries to save movies. \n",
      "\n",
      "The fps argument specifies the number of frames per second. "
     ]
    },
    {
     "cell_type": "code",
     "collapsed": false,
     "input": [
      "fig, ax = plt.subplots()\n",
      "ani = animation.FuncAnimation(fig,animate_sine, frames=200)\n",
      "\n",
      "mywriter = animation.FFMpegWriter(fps=50)\n",
      "\n",
      "ani.save('sine_wave.mp4', writer=mywriter)"
     ],
     "language": "python",
     "metadata": {},
     "outputs": [],
     "prompt_number": 9
    },
    {
     "cell_type": "markdown",
     "metadata": {},
     "source": [
      "There are many, many options to play experiment with. This is just a simple introduction. For example, additional arguments can be provided to the animate_sine() function during the call to FuncAnimation using the fargs argument.\n",
      "\n",
      "See the documentation for FuncAnimation\n",
      "http://matplotlib.org/api/animation_api.html"
     ]
    },
    {
     "cell_type": "heading",
     "level": 2,
     "metadata": {},
     "source": [
      "Animation with data"
     ]
    },
    {
     "cell_type": "markdown",
     "metadata": {},
     "source": [
      "Next, we will load data from a file and animate it. Like last time, we will use the pandas package to read a text file. The text file we are using can be found at www.eos.ubc.ca/~nsoontie/traj.txt . Place this file in your current working directory. \n",
      "\n",
      "We will also switch to plotting inline. "
     ]
    },
    {
     "cell_type": "code",
     "collapsed": false,
     "input": [
      "import pandas as pd\n",
      "\n",
      "%matplotlib inline"
     ],
     "language": "python",
     "metadata": {},
     "outputs": [],
     "prompt_number": 10
    },
    {
     "cell_type": "markdown",
     "metadata": {},
     "source": [
      "Next, we will take a closer look at the traj.txt. Remember that we can execuate shell commands in the notebook using the ! .\n"
     ]
    },
    {
     "cell_type": "code",
     "collapsed": false,
     "input": [
      "! cat traj.txt"
     ],
     "language": "python",
     "metadata": {},
     "outputs": [
      {
       "output_type": "stream",
       "stream": "stdout",
       "text": [
        "1 -123.25558 48.61595 -86.96747 .00000\r\n",
        "1 -123.23922 48.59781 -28.42194 .10000\r\n",
        "1 -123.18216 48.36028 -11.73121 .20000\r\n",
        "1 -123.39746 48.30912 -7.30910 .30000\r\n",
        "1 -123.69411 48.27558 -15.48464 .40000\r\n",
        "1 -123.96874 48.35421 -23.59864 .50000\r\n",
        "1 -124.17054 48.41030 -16.37882 .60000\r\n",
        "1 -124.33354 48.47167 -9.71394 .70000\r\n",
        "1 -124.39400 48.50298 -7.74570 .80000\r\n",
        "1 -124.46454 48.51483 -21.74961 .90000\r\n"
       ]
      }
     ],
     "prompt_number": 11
    },
    {
     "cell_type": "markdown",
     "metadata": {},
     "source": [
      "This file contains a particle trajectory from an ocean model output.\n",
      "\n",
      "Each column lists the particle number, longitude, latitude, depth, and age. Use pandas to read this in. Since this file doesn't have a header, we can name the columns in the pandas read_csv command using the names argument."
     ]
    },
    {
     "cell_type": "heading",
     "level": 3,
     "metadata": {},
     "source": [
      "Load the data"
     ]
    },
    {
     "cell_type": "code",
     "collapsed": false,
     "input": [
      "data=pd.read_csv('traj.txt',delimiter=' ',names=['num','lon','lat','depth','age'])\n"
     ],
     "language": "python",
     "metadata": {},
     "outputs": [],
     "prompt_number": 12
    },
    {
     "cell_type": "markdown",
     "metadata": {},
     "source": [
      "Look at the data now."
     ]
    },
    {
     "cell_type": "code",
     "collapsed": false,
     "input": [
      "print data"
     ],
     "language": "python",
     "metadata": {},
     "outputs": [
      {
       "output_type": "stream",
       "stream": "stdout",
       "text": [
        "   num        lon       lat     depth  age\n",
        "0    1 -123.25558  48.61595 -86.96747  0.0\n",
        "1    1 -123.23922  48.59781 -28.42194  0.1\n",
        "2    1 -123.18216  48.36028 -11.73121  0.2\n",
        "3    1 -123.39746  48.30912  -7.30910  0.3\n",
        "4    1 -123.69411  48.27558 -15.48464  0.4\n",
        "5    1 -123.96874  48.35421 -23.59864  0.5\n",
        "6    1 -124.17054  48.41030 -16.37882  0.6\n",
        "7    1 -124.33354  48.47167  -9.71394  0.7\n",
        "8    1 -124.39400  48.50298  -7.74570  0.8\n",
        "9    1 -124.46454  48.51483 -21.74961  0.9\n",
        "\n",
        "[10 rows x 5 columns]\n"
       ]
      }
     ],
     "prompt_number": 13
    },
    {
     "cell_type": "markdown",
     "metadata": {},
     "source": [
      "This data set contains the latitude,longitude and depth of a particle trajectory. There are 10 outputs for one single particle.\n",
      "\n",
      "Let's store the lat,lon and depth in variables so we can plot them."
     ]
    },
    {
     "cell_type": "code",
     "collapsed": false,
     "input": [
      "lon = data['lon']\n",
      "lat=data['lat']\n",
      "dep = data['depth']"
     ],
     "language": "python",
     "metadata": {},
     "outputs": [],
     "prompt_number": 14
    },
    {
     "cell_type": "heading",
     "level": 3,
     "metadata": {},
     "source": [
      "Plotting 2D"
     ]
    },
    {
     "cell_type": "markdown",
     "metadata": {},
     "source": [
      "We can plot the horizontal positions of this particle. We will colour the initial position red so we have a sense of direction. "
     ]
    },
    {
     "cell_type": "code",
     "collapsed": false,
     "input": [
      "fig =plt.figure()\n",
      "plt.scatter(lon,lat,color='blue')\n",
      "plt.scatter(lon[0],lat[0],color='red')\n",
      "\n",
      "plt.title('2D')\n",
      "plt.xlabel('Longitude')\n",
      "plt.ylabel('Latitude')\n",
      "\n",
      "plt.axis([-124.6,-123.0,48.25,48.65])        "
     ],
     "language": "python",
     "metadata": {},
     "outputs": [
      {
       "metadata": {},
       "output_type": "pyout",
       "prompt_number": 15,
       "text": [
        "[-124.6, -123.0, 48.25, 48.65]"
       ]
      },
      {
       "metadata": {},
       "output_type": "display_data",
       "png": "[encoded data removed]",
       "text": [
        "<matplotlib.figure.Figure at 0x7f5072946150>"
       ]
      }
     ],
     "prompt_number": 15
    },
    {
     "cell_type": "heading",
     "level": 4,
     "metadata": {},
     "source": [
      "Animate 2D"
     ]
    },
    {
     "cell_type": "markdown",
     "metadata": {},
     "source": [
      "Using the same strategy as earlier, we will plot this trajectory in an animation. This time our animate() function takes an argument \"p\", which correspsonds to each trajectory point. So, \"p\" will be passed as an index to the lon and lat variables. There are 10 outputs, so our animation will have 10 frames."
     ]
    },
    {
     "cell_type": "code",
     "collapsed": false,
     "input": [
      "#Empty map\n",
      "fig= plt.figure()\n",
      "\n",
      "plt.title('2D')\n",
      "plt.xlabel('Longitude')\n",
      "plt.ylabel('Latitude')\n",
      "\n",
      "plt.axis([-124.6,-123.0,48.25,48.65])  \n",
      "\n",
      "#Animated points\n",
      "def animate(p):\n",
      "    plt.scatter(lon[p],lat[p],color='blue')\n",
      "    \n",
      "\n",
      "#The animation function    \n",
      "anim = animation.FuncAnimation(fig, animate, frames=10)\n",
      "\n",
      "#A line that makes it all work\n",
      "mywriter = animation.FFMpegWriter()\n",
      "\n",
      "#Save in current folder\n",
      "anim.save('Software-Carpentry2D.mp4',writer=mywriter)\n"
     ],
     "language": "python",
     "metadata": {},
     "outputs": [
      {
       "metadata": {},
       "output_type": "display_data",
       "png": "[encoded data removed]",
       "text": [
        "<matplotlib.figure.Figure at 0x7f507281e410>"
       ]
      }
     ],
     "prompt_number": 16
    },
    {
     "cell_type": "markdown",
     "metadata": {},
     "source": [
      "Notice that we didn't clear the axis between each frame because it was useful to see where the particle came from."
     ]
    },
    {
     "cell_type": "heading",
     "level": 2,
     "metadata": {},
     "source": [
      "Plotting 3D"
     ]
    },
    {
     "cell_type": "markdown",
     "metadata": {},
     "source": [
      "We aren't using all of the information by just plotting in 2D. So, let's try a 3D plot so that we can see how the particle changes with depth. We need to import some more tools."
     ]
    },
    {
     "cell_type": "code",
     "collapsed": false,
     "input": [
      "from mpl_toolkits.mplot3d import Axes3D"
     ],
     "language": "python",
     "metadata": {},
     "outputs": [],
     "prompt_number": 17
    },
    {
     "cell_type": "code",
     "collapsed": false,
     "input": [
      "fig = plt.figure()\n",
      "ax=plt.gca(projection='3d')\n",
      "ax.scatter(lon,lat,dep,color='blue')\n",
      "\n",
      "ax.set_title('3D')\n",
      "ax.set_xlabel('Longitude')\n",
      "ax.set_ylabel('Latitude')\n",
      "ax.set_zlabel('Depth')\n",
      "\n",
      "ax.set_xlim([-124.6,-123.0])\n",
      "ax.set_ylim([48.25,48.65])\n",
      "ax.set_zlim([-100,0])"
     ],
     "language": "python",
     "metadata": {},
     "outputs": [
      {
       "metadata": {},
       "output_type": "pyout",
       "prompt_number": 18,
       "text": [
        "(-100, 0)"
       ]
      },
      {
       "metadata": {},
       "output_type": "display_data",
       "png": "[encoded data removed]",
       "text": [
        "<matplotlib.figure.Figure at 0x7f50728a42d0>"
       ]
      }
     ],
     "prompt_number": 18
    },
    {
     "cell_type": "heading",
     "level": 3,
     "metadata": {},
     "source": [
      "Adjust camera position"
     ]
    },
    {
     "cell_type": "markdown",
     "metadata": {},
     "source": [
      "Adjust the camera position to get a different perspective using ax.view_init(). "
     ]
    },
    {
     "cell_type": "code",
     "collapsed": false,
     "input": [
      "fig = plt.figure()\n",
      "ax=plt.gca(projection='3d')\n",
      "ax.scatter(lon,lat,dep,color='blue')\n",
      "\n",
      "ax.set_title('3D')\n",
      "ax.set_xlabel('Longitude')\n",
      "ax.set_ylabel('Latitude')\n",
      "ax.set_zlabel('Depth')\n",
      "\n",
      "ax.set_xlim([-124.6,-123.0])\n",
      "ax.set_ylim([48.25,48.65])\n",
      "ax.set_zlim([-100,0])\n",
      "\n",
      "ax.view_init(elev=0, azim=-90)"
     ],
     "language": "python",
     "metadata": {},
     "outputs": [
      {
       "metadata": {},
       "output_type": "display_data",
       "png": "[encoded data removed]",
       "text": [
        "<matplotlib.figure.Figure at 0x7f5072885710>"
       ]
      }
     ],
     "prompt_number": 19
    },
    {
     "cell_type": "heading",
     "level": 2,
     "metadata": {},
     "source": [
      "Animate"
     ]
    },
    {
     "cell_type": "markdown",
     "metadata": {},
     "source": [
      "Now, put it all together in an animation. This is very similat to the code for the 2D animation."
     ]
    },
    {
     "cell_type": "code",
     "collapsed": false,
     "input": [
      "#Empty map\n",
      "fig = plt.figure(figsize=(20,10))\n",
      "ax = fig.gca(projection='3d')\n",
      "\n",
      "ax.set_title('3D')\n",
      "ax.set_xlabel('Longitude')\n",
      "ax.set_ylabel('Latitude')\n",
      "ax.set_zlabel('Depth')\n",
      "\n",
      "ax.set_xlim([-124.6,-123.0])        \n",
      "ax.set_ylim([48.25,48.65])\n",
      "ax.set_zlim([-100,0])\n",
      "\n",
      "ax.view_init(elev=0, azim=-90)\n",
      "\n",
      "#Animated points\n",
      "def animate(p):\n",
      "    ax.scatter(lon[p],lat[p],dep[p],color='blue')\n",
      "\n",
      "#The animation function    \n",
      "anim = animation.FuncAnimation(fig, animate, frames=10)\n",
      "\n",
      "#A line that makes it all work\n",
      "mywriter = animation.FFMpegWriter()\n",
      "\n",
      "#Save in current folder\n",
      "anim.save('Software-Carpentry3D.mp4',writer=mywriter)\n"
     ],
     "language": "python",
     "metadata": {},
     "outputs": [
      {
       "metadata": {},
       "output_type": "display_data",
       "png": "[encoded data removed]",
       "text": [
        "<matplotlib.figure.Figure at 0x7f50726c1e10>"
       ]
      }
     ],
     "prompt_number": 20
    },
    {
     "cell_type": "heading",
     "level": 2,
     "metadata": {},
     "source": [
      "Key Points"
     ]
    },
    {
     "cell_type": "markdown",
     "metadata": {},
     "source": [
      "* The matplotlib.animation module contains some useful functions for generating animations\n",
      "* There are several ways to deal with clearing an axis between successive frames. For certain animations, this might not be desirable. \n",
      "* We can also use tools from mpl_toolkits.mplot3d to produce 3D plots."
     ]
    },
    {
     "cell_type": "code",
     "collapsed": false,
     "input": [],
     "language": "python",
     "metadata": {},
     "outputs": []
    }
   ],
   "metadata": {}
  }
 ]
}