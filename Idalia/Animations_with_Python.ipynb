{
 "metadata": {
  "name": "",
  "signature": "sha256:58816b5c9b25ccbbe9da88f821404d946ee33cc6fc8a92431837f8d40e58d55a"
 },
 "nbformat": 3,
 "nbformat_minor": 0,
 "worksheets": [
  {
   "cells": [
    {
     "cell_type": "markdown",
     "metadata": {},
     "source": [
      "We will learn how to generate and save simple animations with Python. \n",
      "\n",
      "First, in order to save these movies, we will need a library for writing videas. I've been using ffmpeg which can be downloaded here: http://www.ffmpeg.org/download.html\n",
      "\n",
      "In order to make this work, you will have to add the ffmpeg executable to your path. \n",
      "1. Windows users can follow these instructions: http://www.wikihow.com/Install-FFmpeg-on-Windows\n",
      "2. MAC users can use the terminal:\n",
      "\n",
      "export PATH = 'path to where I extracted the FFMPEG download':$PATH\n",
      "\n",
      "Actually, Windows users can also the above line in their Git-Bash window too.\n",
      "\n",
      "You can test if you've done this correctly by typing ffmpeg in your terminal. If you get an error like \"ffmpeg executable not found\" then you haven't set things up correctly. Feel free to ask for help.\n",
      "\n",
      "There are many examples of using Python to generate movies available on the internet with a quick Google search. We have found this page helpful:\n",
      "http://matplotlib.org/examples/animation/index.html\n",
      "\n",
      "We will also discuss loading and animating data from a txt file."
     ]
    },
    {
     "cell_type": "heading",
     "level": 1,
     "metadata": {},
     "source": [
      "A simple animation"
     ]
    },
    {
     "cell_type": "heading",
     "level": 2,
     "metadata": {},
     "source": [
      "Load tools and packages"
     ]
    },
    {
     "cell_type": "markdown",
     "metadata": {},
     "source": [
      "Like all of our notebooks, we will need a set of tools to help us generate awesome movies! Like usual, load in matplotlib.pyplot, numpy, but also matlplotlib.animation."
     ]
    },
    {
     "cell_type": "code",
     "collapsed": false,
     "input": [
      "import numpy as np\n",
      "import matplotlib.pyplot as plt\n",
      "import matplotlib.animation as animation"
     ],
     "language": "python",
     "metadata": {},
     "outputs": [],
     "prompt_number": 1
    },
    {
     "cell_type": "markdown",
     "metadata": {},
     "source": [
      "Notice that we didn't use the %matlplotlib inline feature. This means our movies will pop up in a new window with the plt.show() command."
     ]
    },
    {
     "cell_type": "heading",
     "level": 2,
     "metadata": {},
     "source": [
      "Make something to animate"
     ]
    },
    {
     "cell_type": "markdown",
     "metadata": {},
     "source": [
      "We will need some data in order to produce an animation! Later, we will talk about loading data from a file but for now we will generate a sine curve as a simple example."
     ]
    },
    {
     "cell_type": "code",
     "collapsed": false,
     "input": [
      "fig = plt.figure()\n",
      "x = np.arange(0, 2*np.pi, 0.01)\n",
      "plt.plot(x, np.sin(x),'b')\n",
      "plt.axis([0,2*np.pi,-1,1])\n",
      "plt.show()"
     ],
     "language": "python",
     "metadata": {},
     "outputs": [],
     "prompt_number": 2
    },
    {
     "cell_type": "heading",
     "level": 2,
     "metadata": {},
     "source": [
      "Animate"
     ]
    },
    {
     "cell_type": "markdown",
     "metadata": {},
     "source": [
      "To animate the sine curve, we will need to create a function that will help us loop through frames. It will take one simple argument that we can think of as time."
     ]
    },
    {
     "cell_type": "code",
     "collapsed": false,
     "input": [
      "def animate_sine(t):\n",
      "    plt.plot(x,np.sin(x+t/10.0),'b') \n",
      "    plt.axis([0,2*np.pi,-1,1])"
     ],
     "language": "python",
     "metadata": {},
     "outputs": [],
     "prompt_number": 3
    },
    {
     "cell_type": "markdown",
     "metadata": {},
     "source": [
      "Now, we can use methods from the animation package to generate the movie.\n",
      "\n",
      "Notes: we are passing the fig, our animate function and the number of frames we would like to be animated. The frame number is the argument that is passed to the animate_sine function"
     ]
    },
    {
     "cell_type": "code",
     "collapsed": false,
     "input": [
      "fig=plt.figure()\n",
      "ani = animation.FuncAnimation(fig,animate_sine, frames=200)\n",
      "plt.show()"
     ],
     "language": "python",
     "metadata": {},
     "outputs": [],
     "prompt_number": 4
    },
    {
     "cell_type": "markdown",
     "metadata": {},
     "source": [
      "But this isn't exactly what we were expecting! We can get around this by clearing the axis at the start of our animiate_sine function.\n",
      "\n",
      "See the FuncAnimation documentation or other matplotlib examples for other strategies for overcoming duplicate plots."
     ]
    },
    {
     "cell_type": "code",
     "collapsed": false,
     "input": [
      "def animate_sine(t):\n",
      "    plt.cla()\n",
      "    plt.plot(x,np.sin(x+t/10.0),'b') \n",
      "    plt.axis([0,2*np.pi,-1,1])"
     ],
     "language": "python",
     "metadata": {},
     "outputs": [],
     "prompt_number": 5
    },
    {
     "cell_type": "code",
     "collapsed": false,
     "input": [
      "fig, ax = plt.subplots()\n",
      "ani = animation.FuncAnimation(fig,animate_sine, frames=200)\n",
      "plt.show()"
     ],
     "language": "python",
     "metadata": {},
     "outputs": [],
     "prompt_number": 6
    },
    {
     "cell_type": "heading",
     "level": 2,
     "metadata": {},
     "source": [
      "Saving"
     ]
    },
    {
     "cell_type": "markdown",
     "metadata": {},
     "source": [
      "Now we would like to save the movie. This is where we need to use ffmepg. We will define a movie writer that uses the ffmpeg libraries to save movies. \n",
      "\n",
      "The fps argument specifies the number of frames per second. "
     ]
    },
    {
     "cell_type": "code",
     "collapsed": false,
     "input": [
      "fig, ax = plt.subplots()\n",
      "ani = animation.FuncAnimation(fig,animate_sine, frames=200)\n",
      "\n",
      "mywriter = animation.FFMpegWriter(fps=50)\n",
      "\n",
      "ani.save('sine_wave.mp4', writer=mywriter)"
     ],
     "language": "python",
     "metadata": {},
     "outputs": [],
     "prompt_number": 9
    },
    {
     "cell_type": "markdown",
     "metadata": {},
     "source": [
      "There are many, many options to play experiment with. This is just a simple introduction"
     ]
    },
    {
     "cell_type": "heading",
     "level": 1,
     "metadata": {},
     "source": [
      "Animation with data"
     ]
    },
    {
     "cell_type": "markdown",
     "metadata": {},
     "source": [
      "Next, we will load data from a file and animate it. Like last time, we will use the pandas package to read a text file. \n",
      "\n",
      "We will also switch to plotting inline. "
     ]
    },
    {
     "cell_type": "code",
     "collapsed": false,
     "input": [
      "import pandas as pd\n",
      "\n",
      "%matplotlib inline"
     ],
     "language": "python",
     "metadata": {},
     "outputs": [],
     "prompt_number": 10
    },
    {
     "cell_type": "markdown",
     "metadata": {},
     "source": [
      "Earlier, I sent a file called 'traj.txt'. Save this file into your swc directory so that we can easily access it in the notebooks.\n",
      "\n",
      "This file conatains the coordinates (latitude, longitude, and depth) of a particle trajectory from an ocean model. First, let's look at the data:"
     ]
    },
    {
     "cell_type": "code",
     "collapsed": false,
     "input": [
      "! cat traj.txt"
     ],
     "language": "python",
     "metadata": {},
     "outputs": [
      {
       "output_type": "stream",
       "stream": "stdout",
       "text": [
        "1 -123.25558 48.61595 -86.96747 .00000\r\n",
        "1 -123.23922 48.59781 -28.42194 .10000\r\n",
        "1 -123.18216 48.36028 -11.73121 .20000\r\n",
        "1 -123.39746 48.30912 -7.30910 .30000\r\n",
        "1 -123.69411 48.27558 -15.48464 .40000\r\n",
        "1 -123.96874 48.35421 -23.59864 .50000\r\n",
        "1 -124.17054 48.41030 -16.37882 .60000\r\n",
        "1 -124.33354 48.47167 -9.71394 .70000\r\n",
        "1 -124.39400 48.50298 -7.74570 .80000\r\n",
        "1 -124.46454 48.51483 -21.74961 .90000\r\n"
       ]
      }
     ],
     "prompt_number": 12
    },
    {
     "cell_type": "markdown",
     "metadata": {},
     "source": [
      "Each column lists the particle number, longiture, latitude, depth, and age. Use pandas to read this in. Since we don't have a header, we can name the columns in the pandas read_csv command."
     ]
    },
    {
     "cell_type": "heading",
     "level": 2,
     "metadata": {},
     "source": [
      "Load the data"
     ]
    },
    {
     "cell_type": "code",
     "collapsed": false,
     "input": [
      "data=pd.read_csv('traj.txt',delimiter=' ',names=['num','lon','lat','depth','age'])\n"
     ],
     "language": "python",
     "metadata": {},
     "outputs": [],
     "prompt_number": 13
    },
    {
     "cell_type": "markdown",
     "metadata": {},
     "source": [
      "Look at the data now."
     ]
    },
    {
     "cell_type": "code",
     "collapsed": false,
     "input": [
      "print data"
     ],
     "language": "python",
     "metadata": {},
     "outputs": [
      {
       "output_type": "stream",
       "stream": "stdout",
       "text": [
        "   num        lon       lat     depth  age\n",
        "0    1 -123.25558  48.61595 -86.96747  0.0\n",
        "1    1 -123.23922  48.59781 -28.42194  0.1\n",
        "2    1 -123.18216  48.36028 -11.73121  0.2\n",
        "3    1 -123.39746  48.30912  -7.30910  0.3\n",
        "4    1 -123.69411  48.27558 -15.48464  0.4\n",
        "5    1 -123.96874  48.35421 -23.59864  0.5\n",
        "6    1 -124.17054  48.41030 -16.37882  0.6\n",
        "7    1 -124.33354  48.47167  -9.71394  0.7\n",
        "8    1 -124.39400  48.50298  -7.74570  0.8\n",
        "9    1 -124.46454  48.51483 -21.74961  0.9\n"
       ]
      }
     ],
     "prompt_number": 14
    },
    {
     "cell_type": "markdown",
     "metadata": {},
     "source": [
      "This data set contains the latitude,longitude and dept of particle trajectories. Some other information includes initial/final positions and time. There are 10 outputs for one single particle.\n",
      "\n",
      "Let's store the lat,lon and depth so we can plot them"
     ]
    },
    {
     "cell_type": "code",
     "collapsed": false,
     "input": [
      "lon = data['lon']\n",
      "lat=data['lat']\n",
      "dep = data['depth']"
     ],
     "language": "python",
     "metadata": {},
     "outputs": [],
     "prompt_number": 15
    },
    {
     "cell_type": "heading",
     "level": 2,
     "metadata": {},
     "source": [
      "Plotting 2D"
     ]
    },
    {
     "cell_type": "markdown",
     "metadata": {},
     "source": [
      "We can plot the horizontal positions of this particle"
     ]
    },
    {
     "cell_type": "code",
     "collapsed": false,
     "input": [
      "fig =plt.figure()\n",
      "plt.scatter(lon,lat,color='blue')\n",
      "plt.scatter(lon[0],lat[0],color='red')\n",
      "\n",
      "plt.title('2D')\n",
      "plt.xlabel('Longitude')\n",
      "plt.ylabel('Latitude')\n",
      "\n",
      "plt.axis([-124.6,-123.0,48.25,48.65])        "
     ],
     "language": "python",
     "metadata": {},
     "outputs": [
      {
       "metadata": {},
       "output_type": "pyout",
       "prompt_number": 16,
       "text": [
        "[-124.6, -123.0, 48.25, 48.65]"
       ]
      },
      {
       "metadata": {},
       "output_type": "display_data",
       "png": "[encoded data removed]",
       "text": [
        "<matplotlib.figure.Figure at 0x7f4dcf7bd510>"
       ]
      }
     ],
     "prompt_number": 16
    },
    {
     "cell_type": "heading",
     "level": 2,
     "metadata": {},
     "source": [
      "Animate 2D"
     ]
    },
    {
     "cell_type": "code",
     "collapsed": false,
     "input": [
      "#Empty map\n",
      "fig= plt.figure()\n",
      "\n",
      "plt.title('2D')\n",
      "plt.xlabel('Longitude')\n",
      "plt.ylabel('Latitude')\n",
      "\n",
      "plt.axis([-124.6,-123.0,48.25,48.65])  \n",
      "\n",
      "#Animated points\n",
      "def animate(p):\n",
      "    plt.scatter(lon[p],lat[p],color='blue')\n",
      "    \n",
      "\n",
      "#The animation function    \n",
      "anim = animation.FuncAnimation(fig, animate, frames=10)\n",
      "\n",
      "#A line that makes it all work\n",
      "mywriter = animation.FFMpegWriter()\n",
      "\n",
      "#Save in current folder\n",
      "anim.save('Software-Carpentry2D.mp4',writer=mywriter)\n"
     ],
     "language": "python",
     "metadata": {},
     "outputs": [
      {
       "metadata": {},
       "output_type": "display_data",
       "png": "[encoded data removed]",
       "text": [
        "<matplotlib.figure.Figure at 0x7f4dc7267750>"
       ]
      }
     ],
     "prompt_number": 17
    },
    {
     "cell_type": "heading",
     "level": 2,
     "metadata": {},
     "source": [
      "Plotting 3D"
     ]
    },
    {
     "cell_type": "markdown",
     "metadata": {},
     "source": [
      "We aren't using all of the information by just plotting in 2D. So, let's try a 3D plot. We need to import some more tools."
     ]
    },
    {
     "cell_type": "code",
     "collapsed": false,
     "input": [
      "from mpl_toolkits.mplot3d import Axes3D"
     ],
     "language": "python",
     "metadata": {},
     "outputs": [],
     "prompt_number": 18
    },
    {
     "cell_type": "code",
     "collapsed": false,
     "input": [
      "fig = plt.figure()\n",
      "ax=plt.gca(projection='3d')\n",
      "ax.scatter(lon,lat,dep,color='blue')\n",
      "\n",
      "ax.set_title('3D')\n",
      "ax.set_xlabel('Longitude')\n",
      "ax.set_ylabel('Latitude')\n",
      "ax.set_zlabel('Depth')\n",
      "\n",
      "ax.set_xlim([-124.6,-123.0])\n",
      "ax.set_ylim([48.25,48.65])\n",
      "ax.set_zlim([-100,0])"
     ],
     "language": "python",
     "metadata": {},
     "outputs": [
      {
       "metadata": {},
       "output_type": "pyout",
       "prompt_number": 19,
       "text": [
        "(-100, 0)"
       ]
      },
      {
       "metadata": {},
       "output_type": "display_data",
       "png": "[encoded data removed]",
       "text": [
        "<matplotlib.figure.Figure at 0x7f4dc734ef10>"
       ]
      }
     ],
     "prompt_number": 19
    },
    {
     "cell_type": "heading",
     "level": 3,
     "metadata": {},
     "source": [
      "Adjust camera position"
     ]
    },
    {
     "cell_type": "markdown",
     "metadata": {},
     "source": [
      "Adjust the camera position to get a different perspective. "
     ]
    },
    {
     "cell_type": "code",
     "collapsed": false,
     "input": [
      "fig = plt.figure()\n",
      "ax=plt.gca(projection='3d')\n",
      "ax.scatter(lon,lat,dep,color='blue')\n",
      "\n",
      "ax.set_title('3D')\n",
      "ax.set_xlabel('Longitude')\n",
      "ax.set_ylabel('Latitude')\n",
      "ax.set_zlabel('Depth')\n",
      "\n",
      "ax.set_xlim([-124.6,-123.0])\n",
      "ax.set_ylim([48.25,48.65])\n",
      "ax.set_zlim([-100,0])\n",
      "\n",
      "ax.view_init(elev=0, azim=-90)"
     ],
     "language": "python",
     "metadata": {},
     "outputs": [
      {
       "metadata": {},
       "output_type": "display_data",
       "png": "[encoded data removed]",
       "text": [
        "<matplotlib.figure.Figure at 0x7f4dc72f2a90>"
       ]
      }
     ],
     "prompt_number": 20
    },
    {
     "cell_type": "heading",
     "level": 2,
     "metadata": {},
     "source": [
      "Animate"
     ]
    },
    {
     "cell_type": "markdown",
     "metadata": {},
     "source": [
      "Now, put it all together in an animation."
     ]
    },
    {
     "cell_type": "code",
     "collapsed": false,
     "input": [
      "#Empty map\n",
      "fig = plt.figure(figsize=(20,10))\n",
      "ax = fig.gca(projection='3d')\n",
      "\n",
      "ax.set_title('3D')\n",
      "ax.set_xlabel('Longitude')\n",
      "ax.set_ylabel('Latitude')\n",
      "ax.set_zlabel('Depth')\n",
      "\n",
      "ax.set_xlim([-124.6,-123.0])        \n",
      "ax.set_ylim([48.25,48.65])\n",
      "ax.set_zlim([-100,0])\n",
      "\n",
      "ax.view_init(elev=0, azim=-90)\n",
      "\n",
      "#Animated points\n",
      "def animate(p):\n",
      "    ax.scatter(lon[p],lat[p],dep[p],color='blue')\n",
      "\n",
      "#The animation function    \n",
      "anim = animation.FuncAnimation(fig, animate, frames=10)\n",
      "\n",
      "#A line that makes it all work\n",
      "mywriter = animation.FFMpegWriter()\n",
      "\n",
      "#Save in current folder\n",
      "anim.save('Software-Carpentry3D.mp4',writer=mywriter)\n"
     ],
     "language": "python",
     "metadata": {},
     "outputs": [
      {
       "metadata": {},
       "output_type": "display_data",
       "png": "[encoded data removed]",
       "text": [
        "<matplotlib.figure.Figure at 0x7f4dc710d210>"
       ]
      }
     ],
     "prompt_number": 21
    },
    {
     "cell_type": "code",
     "collapsed": false,
     "input": [],
     "language": "python",
     "metadata": {},
     "outputs": []
    }
   ],
   "metadata": {}
  }
 ]
}