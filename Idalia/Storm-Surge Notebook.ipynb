{
 "metadata": {
  "name": "",
  "signature": "sha256:c436894141090274cf2eed607a5116ff7b754d9a9390f884a8f2d67ef580f27e"
 },
 "nbformat": 3,
 "nbformat_minor": 0,
 "worksheets": [
  {
   "cells": [
    {
     "cell_type": "heading",
     "level": 3,
     "metadata": {},
     "source": [
      "Goal: To plot and compare the sea surface heights over time for the \"all-forcing\" and \"tidesonly\" runs."
     ]
    },
    {
     "cell_type": "heading",
     "level": 1,
     "metadata": {},
     "source": [
      "Imports"
     ]
    },
    {
     "cell_type": "code",
     "collapsed": false,
     "input": [
      "from __future__ import division, print_function\n",
      "\n",
      "import matplotlib.pyplot as plt\n",
      "import netCDF4 as nc\n",
      "import numpy as np\n",
      "\n",
      "from salishsea_tools import (\n",
      "    nc_tools,\n",
      "    viz_tools,)"
     ],
     "language": "python",
     "metadata": {},
     "outputs": [],
     "prompt_number": 93
    },
    {
     "cell_type": "code",
     "collapsed": false,
     "input": [
      "%matplotlib inline \n",
      "#for plot to appear below cell that created it"
     ],
     "language": "python",
     "metadata": {},
     "outputs": [],
     "prompt_number": 94
    },
    {
     "cell_type": "heading",
     "level": 1,
     "metadata": {},
     "source": [
      "Result File"
     ]
    },
    {
     "cell_type": "markdown",
     "metadata": {},
     "source": [
      "Hourly values of T-grid variables (i.e. sea surface height) for Dec 14 - Dec 15, 2006."
     ]
    },
    {
     "cell_type": "code",
     "collapsed": false,
     "input": [
      "tracers = nc.Dataset('/data/nsoontie/MEOPAR/SalishSea/results/storm-surges/tide_fix/dec2006/all_forcing/1hour/SalishSea_1h_20061214_20061215_grid_T.nc')"
     ],
     "language": "python",
     "metadata": {},
     "outputs": [],
     "prompt_number": 95
    },
    {
     "cell_type": "markdown",
     "metadata": {},
     "source": [
      "Dimensions of the dataset:\n",
      "2 lateral dimensions, depth size 40, time size 48 (hourly results for 2 days), time counter bounds size 2."
     ]
    },
    {
     "cell_type": "code",
     "collapsed": false,
     "input": [
      "nc_tools.show_dimensions(tracers)"
     ],
     "language": "python",
     "metadata": {},
     "outputs": [
      {
       "output_type": "stream",
       "stream": "stdout",
       "text": [
        "<type 'netCDF4.Dimension'>: name = 'x', size = 398\n",
        "\n",
        "<type 'netCDF4.Dimension'>: name = 'y', size = 898\n",
        "\n",
        "<type 'netCDF4.Dimension'>: name = 'deptht', size = 40\n",
        "\n",
        "<type 'netCDF4.Dimension'> (unlimited): name = 'time_counter', size = 48\n",
        "\n",
        "<type 'netCDF4.Dimension'>: name = 'tbnds', size = 2\n",
        "\n"
       ]
      }
     ],
     "prompt_number": 96
    },
    {
     "cell_type": "markdown",
     "metadata": {},
     "source": [
      "Variables: nav_lon=longitude, nav_lat=latitude, deptht=depths, time_counter=time values, time counter_bnds=start and end times of each interval in time_counter, and sossheig=sea surface height (contains 2 dimensions)"
     ]
    },
    {
     "cell_type": "code",
     "collapsed": false,
     "input": [
      "nc_tools.show_variables(tracers)"
     ],
     "language": "python",
     "metadata": {},
     "outputs": [
      {
       "output_type": "stream",
       "stream": "stdout",
       "text": [
        "[u'nav_lon', u'nav_lat', u'deptht', u'time_counter', u'time_counter_bnds', u'sossheig', u'votemper', u'vosaline', u'rain_rate', u'snow_rate']\n"
       ]
      }
     ],
     "prompt_number": 97
    },
    {
     "cell_type": "code",
     "collapsed": false,
     "input": [
      "timesteps = tracers.variables['time_counter']\n",
      "#timesteps will be used for plot"
     ],
     "language": "python",
     "metadata": {},
     "outputs": [],
     "prompt_number": 98
    },
    {
     "cell_type": "heading",
     "level": 1,
     "metadata": {},
     "source": [
      "Sea Surface Height: sossheig"
     ]
    },
    {
     "cell_type": "markdown",
     "metadata": {},
     "source": [
      "Sossheigh(time_counter=48 hrs, y=898, x=398). \n",
      "Interval write is output interval=3600 s.\n",
      "Interval operation is time step for calculation = 10 s.\n",
      "FillValue and filling off means ssh data does not automatically mask out land areas (land = 0)."
     ]
    },
    {
     "cell_type": "code",
     "collapsed": false,
     "input": [
      "nc_tools.show_variable_attrs(tracers, 'sossheig')\n",
      "ssh = tracers.variables['sossheig']\n",
      "#sossheig = ssh"
     ],
     "language": "python",
     "metadata": {},
     "outputs": [
      {
       "output_type": "stream",
       "stream": "stdout",
       "text": [
        "<type 'netCDF4.Variable'>\n",
        "float32 sossheig(time_counter, y, x)\n",
        "    units: m\n",
        "    standard_name: sea surface height\n",
        "    _FillValue: 9.96921e+36\n",
        "    long_name: sea surface height\n",
        "    online_operation: ave(X)\n",
        "    interval_operation: 10.0\n",
        "    interval_write: 3600.0\n",
        "    coordinates: time_counter nav_lat nav_lon\n",
        "unlimited dimensions: time_counter\n",
        "current shape = (48, 898, 398)\n",
        "filling off\n",
        "\n"
       ]
      }
     ],
     "prompt_number": 99
    },
    {
     "cell_type": "heading",
     "level": 1,
     "metadata": {},
     "source": [
      "Sea Surface Height Plot"
     ]
    },
    {
     "cell_type": "code",
     "collapsed": false,
     "input": [
      "#Without a land mask, the land is shaded with the colour representing 0 for that time.\n",
      "#The numpy masked array fills in the missing land data.\n",
      "ssh0 = np.ma.masked_values(ssh[0], 0)\n",
      "#the index for ssh belongs to the hour we're plotting. first hour = 0. last hour = 47."
     ],
     "language": "python",
     "metadata": {},
     "outputs": [],
     "prompt_number": 100
    },
    {
     "cell_type": "code",
     "collapsed": false,
     "input": [
      "fig, ax = plt.subplots(1, 1, figsize=(10, 8))\n",
      "viz_tools.set_aspect(ax)\n",
      "mesh = ax.pcolormesh(ssh0)\n",
      "fig.colorbar(mesh)"
     ],
     "language": "python",
     "metadata": {},
     "outputs": [
      {
       "metadata": {},
       "output_type": "pyout",
       "prompt_number": 101,
       "text": [
        "<matplotlib.colorbar.Colorbar instance at 0x7f3e830531b8>"
       ]
      },
      {
       "metadata": {},
       "output_type": "display_data",
       "png": "[encoded data removed]",
       "text": [
        "<matplotlib.figure.Figure at 0x7f3e83117b90>"
       ]
      }
     ],
     "prompt_number": 101
    },
    {
     "cell_type": "code",
     "collapsed": false,
     "input": [],
     "language": "python",
     "metadata": {},
     "outputs": [],
     "prompt_number": 101
    }
   ],
   "metadata": {}
  }
 ]
}