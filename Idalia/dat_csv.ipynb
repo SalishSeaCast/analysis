{
 "metadata": {
  "name": "",
  "signature": "sha256:4b0cdfbbc0cab7ff03a72700f901a8ac57f31362710d0ef5a84235dc3691d54b"
 },
 "nbformat": 3,
 "nbformat_minor": 0,
 "worksheets": [
  {
   "cells": [
    {
     "cell_type": "code",
     "collapsed": false,
     "input": [
      "import matplotlib.pyplot as plt\n",
      "import numpy as np\n",
      "%matplotlib inline\n",
      "\n",
      "from itertools import izip"
     ],
     "language": "python",
     "metadata": {},
     "outputs": [],
     "prompt_number": 1
    },
    {
     "cell_type": "code",
     "collapsed": false,
     "input": [
      "def radians(degrees):\n",
      "    rad = np.pi/180.*degrees\n",
      "    return rad"
     ],
     "language": "python",
     "metadata": {},
     "outputs": [],
     "prompt_number": 2
    },
    {
     "cell_type": "code",
     "collapsed": false,
     "input": [
      "l = range (98)\n",
      "lnew=l[0::3]\n",
      "\n",
      "nstn = 25\n",
      "# pathname for data - all of the tide runs are stored in this directory\n",
      "fp = open('/ocean/imachuca/MEOPAR/NEMO-forcing/fromMike/vigf7_pres_ele_harm_obs2.dat')"
     ],
     "language": "python",
     "metadata": {},
     "outputs": [],
     "prompt_number": 3
    },
    {
     "cell_type": "code",
     "collapsed": false,
     "input": [
      "name=['Neah Bay','Port Renfrew','Port Angeles', 'Victoria Harbour','Port Townsend', 'Bangor','Seattle',\n",
      "       'Tacoma', 'Cherry Point', 'Friday Harbor', 'Hanbury Point', 'Sidney', 'Fulford Harbour',\n",
      "       'Patos Island', 'Tsawwassen', 'Point Atkinson', 'Winchelsea Islands', 'Little River',\n",
      "       'Twin Islets', 'Campbell River', 'Seymour Narrows', 'Owen Bay', 'Big Bay', 'Chatham Point',\n",
      "       'Yorke Island', 'Alert Bay', 'Port Hardy', 'Montagu Point', 'Siwash Bay', 'Winter Harbour',\n",
      "       'Bella Bella', 'Tofino']\n",
      "lons=[]; lats=[]\n",
      "K1amp=[]; Q1amp=[]; O1amp=[]; P1amp=[]; M2amp=[]; N2amp=[]; S2amp=[]; K2amp=[]; \n",
      "K1pha=[]; Q1pha=[]; O1pha=[]; P1pha=[]; M2pha=[]; N2pha=[]; S2pha=[]; K2pha=[]; \n",
      "\n",
      "for i in range(32):\n",
      "      \n",
      "    #Details\n",
      "    line = fp.readline()\n",
      "    \n",
      "    lon = line[1:11]\n",
      "    lat = line[12:19]\n",
      "    \n",
      "    #Diurnals\n",
      "    line = fp.readline()\n",
      "    values = line.split(' ')\n",
      "    diurnals = [float(e) for e in values if (e != '' and e != '\\n')]\n",
      "\n",
      " "
     ],
     "language": "python",
     "metadata": {},
     "outputs": [
      {
       "ename": "ValueError",
       "evalue": "could not convert string to float: port",
       "output_type": "pyerr",
       "traceback": [
        "\u001b[1;31m---------------------------------------------------------------------------\u001b[0m\n\u001b[1;31mValueError\u001b[0m                                Traceback (most recent call last)",
        "\u001b[1;32m<ipython-input-4-8c9c43c37620>\u001b[0m in \u001b[0;36m<module>\u001b[1;34m()\u001b[0m\n\u001b[0;32m     20\u001b[0m     \u001b[0mline\u001b[0m \u001b[1;33m=\u001b[0m \u001b[0mfp\u001b[0m\u001b[1;33m.\u001b[0m\u001b[0mreadline\u001b[0m\u001b[1;33m(\u001b[0m\u001b[1;33m)\u001b[0m\u001b[1;33m\u001b[0m\u001b[0m\n\u001b[0;32m     21\u001b[0m     \u001b[0mvalues\u001b[0m \u001b[1;33m=\u001b[0m \u001b[0mline\u001b[0m\u001b[1;33m.\u001b[0m\u001b[0msplit\u001b[0m\u001b[1;33m(\u001b[0m\u001b[1;34m' '\u001b[0m\u001b[1;33m)\u001b[0m\u001b[1;33m\u001b[0m\u001b[0m\n\u001b[1;32m---> 22\u001b[1;33m     \u001b[0mdiurnals\u001b[0m \u001b[1;33m=\u001b[0m \u001b[1;33m[\u001b[0m\u001b[0mfloat\u001b[0m\u001b[1;33m(\u001b[0m\u001b[0me\u001b[0m\u001b[1;33m)\u001b[0m \u001b[1;32mfor\u001b[0m \u001b[0me\u001b[0m \u001b[1;32min\u001b[0m \u001b[0mvalues\u001b[0m \u001b[1;32mif\u001b[0m \u001b[1;33m(\u001b[0m\u001b[0me\u001b[0m \u001b[1;33m!=\u001b[0m \u001b[1;34m''\u001b[0m \u001b[1;32mand\u001b[0m \u001b[0me\u001b[0m \u001b[1;33m!=\u001b[0m \u001b[1;34m'\\n'\u001b[0m\u001b[1;33m)\u001b[0m\u001b[1;33m]\u001b[0m\u001b[1;33m\u001b[0m\u001b[0m\n\u001b[0m\u001b[0;32m     23\u001b[0m \u001b[1;33m\u001b[0m\u001b[0m\n\u001b[0;32m     24\u001b[0m \u001b[1;33m\u001b[0m\u001b[0m\n",
        "\u001b[1;31mValueError\u001b[0m: could not convert string to float: port"
       ]
      }
     ],
     "prompt_number": 4
    },
    {
     "cell_type": "code",
     "collapsed": false,
     "input": [
      "print names"
     ],
     "language": "python",
     "metadata": {},
     "outputs": []
    },
    {
     "cell_type": "code",
     "collapsed": false,
     "input": [
      "    K1amp[i] = diurnals[6]\n",
      "    Q1amp[i] = diurnals[0]\n",
      "    O1amp[i] = diurnals[2]\n",
      "    P1amp[i] = diurnals[4]\n",
      "    K1phase[i] = diurnals[7]\n",
      "    Q1phase[i] = diurnals[1]\n",
      "    O1phase[i] = diurnals[3]\n",
      "    P1phase[i] = diurnals[5]   \n",
      "    #Semi-diurnals\n",
      "    line = fp.readline()\n",
      "    values = line.split(' ')\n",
      "    semis = [float(e) for e in values if (e != '' and e != '\\n')]\n",
      "    M2amp[i] = semis[2]\n",
      "    N2amp[i] = semis[0]\n",
      "    S2amp[i] = semis[4]\n",
      "    K2amp[i] = semis[6]\n",
      "    M2phase[i] = semis[3]\n",
      "    N2phase[i] = semis[1]\n",
      "    S2phase[i] = semis[5]\n",
      "    K2phase[i] = semis[7]"
     ],
     "language": "python",
     "metadata": {},
     "outputs": []
    }
   ],
   "metadata": {}
  }
 ]
}