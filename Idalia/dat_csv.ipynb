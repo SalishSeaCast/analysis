{
 "metadata": {
  "name": "",
  "signature": "sha256:ce1bcd3206076a4557d4961893e996fe37fae9e0a583fb5e98432e4866617c12"
 },
 "nbformat": 3,
 "nbformat_minor": 0,
 "worksheets": [
  {
   "cells": [
    {
     "cell_type": "code",
     "collapsed": false,
     "input": [
      "import matplotlib.pyplot as plt\n",
      "import numpy as np\n",
      "%matplotlib inline\n",
      "\n",
      "from itertools import izip"
     ],
     "language": "python",
     "metadata": {},
     "outputs": [],
     "prompt_number": 1
    },
    {
     "cell_type": "code",
     "collapsed": false,
     "input": [
      "def radians(degrees):\n",
      "    rad = np.pi/180.*degrees\n",
      "    return rad"
     ],
     "language": "python",
     "metadata": {},
     "outputs": [],
     "prompt_number": 2
    },
    {
     "cell_type": "code",
     "collapsed": false,
     "input": [
      "l = range (98)\n",
      "lnew=l[0::3]"
     ],
     "language": "python",
     "metadata": {},
     "outputs": [],
     "prompt_number": 3
    },
    {
     "cell_type": "code",
     "collapsed": false,
     "input": [
      "nstn = 25\n",
      "K1amp = np.zeros(nstn); Q1amp = np.zeros(nstn); O1amp = np.zeros(nstn); P1amp = np.zeros(nstn)\n",
      "K1phase = np.zeros(nstn); Q1phase = np.zeros(nstn); O1phase = np.zeros(nstn); P1phase = np.zeros(nstn)\n",
      "M2amp = np.zeros(nstn); N2amp = np.zeros(nstn); S2amp = np.zeros(nstn); K2amp = np.zeros(nstn)\n",
      "M2phase = np.zeros(nstn); N2phase = np.zeros(nstn); S2phase = np.zeros(nstn); K2phase = np.zeros(nstn)\n",
      "\n",
      "# pathname for data - all of the tide runs are stored in this directory\n",
      "fp = open('/ocean/imachuca/MEOPAR/NEMO-forcing/fromMike/vigf7_pres_ele_harm_obs2.dat')"
     ],
     "language": "python",
     "metadata": {},
     "outputs": [],
     "prompt_number": 4
    },
    {
     "cell_type": "code",
     "collapsed": false,
     "input": [
      "names=[]\n",
      "for i in range(96):\n",
      "    line = fp.readline()\n",
      "    #load lon/lat data\n",
      "    \n",
      "    name = line[25:43]\n",
      "    names.append(name)\n",
      "    fp.readline()\n",
      "    #load diurnals\n",
      "    fp.readline()\n",
      "    #load semidiurnals\n",
      "    print i, name\n"
     ],
     "language": "python",
     "metadata": {},
     "outputs": [
      {
       "output_type": "stream",
       "stream": "stdout",
       "text": [
        "0 neah bay(35561)   \n",
        "1 port renfrew(35979\n",
        "2   Port Angeles (41\n",
        "3   Victoria Harbour\n",
        "4   Port Townsend fr\n",
        "5    Bangor  from NO\n",
        "6   Seattle CHS 362 \n",
        "7    Tacoma   from N\n",
        "8    Cherry Point WA\n",
        "9    Friday Harbor W\n",
        "10    Hanbury Point W\n",
        "11    7260 Sidney (51\n",
        "12    7330 Fulford Ha\n",
        "13     7505 Patos Isl\n",
        "14    7590 Tsawwassen\n",
        "15     Point Atkinson\n",
        "16      7935 Winchels\n",
        "17   little river 799\n",
        "18   twin islets 7892\n",
        "19   campbell river 8\n",
        "20   seymour narrows \n",
        "21   owen bay  8120\n",
        "\n",
        "22   big bay 8060\n",
        "\n",
        "23   chatham point 81\n",
        "24   yorke island 823\n",
        "25    alert bay(2490)\n",
        "26    port hardy\n",
        "\n",
        "27    montagu point, \n",
        "28    siwash bay, kni\n",
        "29 winter harbour\n",
        "\n",
        "30 bella bella\n",
        "\n",
        "31  tofino (30376)   \n",
        "32 \n",
        "33 \n",
        "34 \n",
        "35 \n",
        "36 \n",
        "37 \n",
        "38 \n",
        "39 \n",
        "40 \n",
        "41 \n",
        "42 \n",
        "43 \n",
        "44 \n",
        "45 \n",
        "46 \n",
        "47 \n",
        "48 \n",
        "49 \n",
        "50 \n",
        "51 \n",
        "52 \n",
        "53 \n",
        "54 \n",
        "55 \n",
        "56 \n",
        "57 \n",
        "58 \n",
        "59 \n",
        "60 \n",
        "61 \n",
        "62 \n",
        "63 \n",
        "64 \n",
        "65 \n",
        "66 \n",
        "67 \n",
        "68 \n",
        "69 \n",
        "70 \n",
        "71 \n",
        "72 \n",
        "73 \n",
        "74 \n",
        "75 \n",
        "76 \n",
        "77 \n",
        "78 \n",
        "79 \n",
        "80 \n",
        "81 \n",
        "82 \n",
        "83 \n",
        "84 \n",
        "85 \n",
        "86 \n",
        "87 \n",
        "88 \n",
        "89 \n",
        "90 \n",
        "91 \n",
        "92 \n",
        "93 \n",
        "94 \n",
        "95 \n"
       ]
      }
     ],
     "prompt_number": 5
    },
    {
     "cell_type": "code",
     "collapsed": false,
     "input": [
      "print names"
     ],
     "language": "python",
     "metadata": {},
     "outputs": [
      {
       "output_type": "stream",
       "stream": "stdout",
       "text": [
        "['neah bay(35561)   ', 'port renfrew(35979', '  Port Angeles (41', '  Victoria Harbour', '  Port Townsend fr', '   Bangor  from NO', '  Seattle CHS 362 ', '   Tacoma   from N', '   Cherry Point WA', '   Friday Harbor W', '   Hanbury Point W', '   7260 Sidney (51', '   7330 Fulford Ha', '    7505 Patos Isl', '   7590 Tsawwassen', '    Point Atkinson', '     7935 Winchels', '  little river 799', '  twin islets 7892', '  campbell river 8', '  seymour narrows ', '  owen bay  8120\\n', '  big bay 8060\\n', '  chatham point 81', '  yorke island 823', '   alert bay(2490)', '   port hardy\\n', '   montagu point, ', '   siwash bay, kni', 'winter harbour\\n', 'bella bella\\n', ' tofino (30376)   ', '', '', '', '', '', '', '', '', '', '', '', '', '', '', '', '', '', '', '', '', '', '', '', '', '', '', '', '', '', '', '', '', '', '', '', '', '', '', '', '', '', '', '', '', '', '', '', '', '', '', '', '', '', '', '', '', '', '', '', '', '', '', '', '']\n"
       ]
      }
     ],
     "prompt_number": 6
    },
    {
     "cell_type": "code",
     "collapsed": false,
     "input": [
      "lengthlnew=len(lnew)\n",
      "for i in range(lengthlnew):\n",
      "    index=lnew[i]\n",
      "    print index"
     ],
     "language": "python",
     "metadata": {},
     "outputs": [
      {
       "output_type": "stream",
       "stream": "stdout",
       "text": [
        "0\n",
        "3\n",
        "6\n",
        "9\n",
        "12\n",
        "15\n",
        "18\n",
        "21\n",
        "24\n",
        "27\n",
        "30\n",
        "33\n",
        "36\n",
        "39\n",
        "42\n",
        "45\n",
        "48\n",
        "51\n",
        "54\n",
        "57\n",
        "60\n",
        "63\n",
        "66\n",
        "69\n",
        "72\n",
        "75\n",
        "78\n",
        "81\n",
        "84\n",
        "87\n",
        "90\n",
        "93\n",
        "96\n"
       ]
      }
     ],
     "prompt_number": 9
    },
    {
     "cell_type": "code",
     "collapsed": false,
     "input": [
      "for i in range(lengthlnew):\n",
      "    name2=name(index)\n",
      "    print name2"
     ],
     "language": "python",
     "metadata": {},
     "outputs": [
      {
       "ename": "TypeError",
       "evalue": "'str' object is not callable",
       "output_type": "pyerr",
       "traceback": [
        "\u001b[1;31m---------------------------------------------------------------------------\u001b[0m\n\u001b[1;31mTypeError\u001b[0m                                 Traceback (most recent call last)",
        "\u001b[1;32m<ipython-input-11-2cd8cc25e89d>\u001b[0m in \u001b[0;36m<module>\u001b[1;34m()\u001b[0m\n\u001b[0;32m      1\u001b[0m \u001b[1;32mfor\u001b[0m \u001b[0mi\u001b[0m \u001b[1;32min\u001b[0m \u001b[0mrange\u001b[0m\u001b[1;33m(\u001b[0m\u001b[0mlengthlnew\u001b[0m\u001b[1;33m)\u001b[0m\u001b[1;33m:\u001b[0m\u001b[1;33m\u001b[0m\u001b[0m\n\u001b[1;32m----> 2\u001b[1;33m     \u001b[0mname2\u001b[0m\u001b[1;33m=\u001b[0m\u001b[0mname\u001b[0m\u001b[1;33m(\u001b[0m\u001b[0mindex\u001b[0m\u001b[1;33m)\u001b[0m\u001b[1;33m\u001b[0m\u001b[0m\n\u001b[0m\u001b[0;32m      3\u001b[0m     \u001b[1;32mprint\u001b[0m \u001b[0mname2\u001b[0m\u001b[1;33m\u001b[0m\u001b[0m\n",
        "\u001b[1;31mTypeError\u001b[0m: 'str' object is not callable"
       ]
      }
     ],
     "prompt_number": 11
    },
    {
     "cell_type": "code",
     "collapsed": false,
     "input": [],
     "language": "python",
     "metadata": {},
     "outputs": [],
     "prompt_number": 7
    }
   ],
   "metadata": {}
  }
 ]
}