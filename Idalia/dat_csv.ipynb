{
 "metadata": {
  "name": "",
  "signature": "sha256:08e27ce81c543684f1309e94f31b49b7b50e73cd1d774ba2825e328d94646436"
 },
 "nbformat": 3,
 "nbformat_minor": 0,
 "worksheets": [
  {
   "cells": [
    {
     "cell_type": "code",
     "collapsed": false,
     "input": [
      "import matplotlib.pyplot as plt\n",
      "import numpy as np\n",
      "%matplotlib inline\n",
      "\n",
      "from itertools import izip"
     ],
     "language": "python",
     "metadata": {},
     "outputs": [],
     "prompt_number": 1
    },
    {
     "cell_type": "code",
     "collapsed": false,
     "input": [
      "def radians(degrees):\n",
      "    rad = np.pi/180.*degrees\n",
      "    return rad"
     ],
     "language": "python",
     "metadata": {},
     "outputs": [],
     "prompt_number": 2
    },
    {
     "cell_type": "code",
     "collapsed": false,
     "input": [
      "l = range (98)\n",
      "lnew=l[0::3]"
     ],
     "language": "python",
     "metadata": {},
     "outputs": [],
     "prompt_number": 3
    },
    {
     "cell_type": "code",
     "collapsed": false,
     "input": [
      "nstn = 25\n",
      "K1amp = np.zeros(nstn); Q1amp = np.zeros(nstn); O1amp = np.zeros(nstn); P1amp = np.zeros(nstn)\n",
      "K1phase = np.zeros(nstn); Q1phase = np.zeros(nstn); O1phase = np.zeros(nstn); P1phase = np.zeros(nstn)\n",
      "M2amp = np.zeros(nstn); N2amp = np.zeros(nstn); S2amp = np.zeros(nstn); K2amp = np.zeros(nstn)\n",
      "M2phase = np.zeros(nstn); N2phase = np.zeros(nstn); S2phase = np.zeros(nstn); K2phase = np.zeros(nstn)\n",
      "\n",
      "# pathname for data - all of the tide runs are stored in this directory\n",
      "fp = open('/ocean/imachuca/MEOPAR/NEMO-forcing/fromMike/vigf7_pres_ele_harm_obs2.dat')"
     ],
     "language": "python",
     "metadata": {},
     "outputs": [],
     "prompt_number": 4
    },
    {
     "cell_type": "code",
     "collapsed": false,
     "input": [
      "for i in range(96):\n",
      "    line = fp.readline()\n",
      "    name = line[25:43]\n",
      "    print i, name\n"
     ],
     "language": "python",
     "metadata": {},
     "outputs": [
      {
       "output_type": "stream",
       "stream": "stdout",
       "text": [
        "0 neah bay(35561)   \n",
        "1   231.5  15.500   \n",
        "2   246.3  22.800   \n",
        "3 port renfrew(35979\n",
        "4   234.8  14.07    \n",
        "5   241.1  21.04    \n",
        "6   Port Angeles (41\n",
        "7   241.6  20.7     \n",
        "8   307.1  14.6     \n",
        "9   Victoria Harbour\n",
        "10   247.8  19.7     \n",
        "11   317.7  10.2     \n",
        "12   Port Townsend fr\n",
        "13 9 268.4 76.4 270.8\n",
        "14 8  13.0  5.0  18.3\n",
        "15    Bangor  from NO\n",
        "16 0 273.9 83.5 274.8\n",
        "17 7  29.5  7.3  28.5\n",
        "18   Seattle CHS 362 \n",
        "19   255.4  25.2     \n",
        "20    11.4  25.8     \n",
        "21    Tacoma   from N\n",
        "22 5 277.2 83.8 277.9\n",
        "23 2  37.8  8.2  39.6\n",
        "24    Cherry Point WA\n",
        "25 6 281.4 81.7 282.8\n",
        "26 9  50.3  5.0  50.5\n",
        "27    Friday Harbor W\n",
        "28 6 274.9 75.8 278.8\n",
        "29 3  34.9  3.5  40.6\n",
        "30    Hanbury Point W\n",
        "31 4 271.4 75.3 275.1\n",
        "32 7  18.0  3.8  37.9\n",
        "33    7260 Sidney (51\n",
        "34 2 275.2 76.6 277.6\n",
        "35 2  26.8  3.8  37.9\n",
        "36    7330 Fulford Ha\n",
        "37 4 277.8 75.3 280.0\n",
        "38 9  37.2  3.9  40.0\n",
        "39     7505 Patos Isl\n",
        "40 5 284.6 79.0 285.6\n",
        "41 7  54.8  4.9  58.5\n",
        "42    7590 Tsawwassen\n",
        "43 9 282.6 83.4 284.8\n",
        "44 0  55.0  5.6  59.4\n",
        "45     Point Atkinson\n",
        "46   263.2  26.8     \n",
        "47    31.0  22.9     \n",
        "48      7935 Winchels\n",
        "49 4 286.2 87.5 286.7\n",
        "50 6  62.0  6.4  64.6\n",
        "51   little river 799\n",
        "52   263.94 28.62    \n",
        "53    32.87 25.02    \n",
        "54   twin islets 7892\n",
        "55   264.24 28.62    \n",
        "56    35.37 25.82    \n",
        "57   campbell river 8\n",
        "58   263.74 24.60    \n",
        "59    18.37 20.27    \n",
        "60   seymour narrows \n",
        "61   254.54 21.28    \n",
        "62   320.07 30.27    \n",
        "63   owen bay  8120\n",
        "\n",
        "64   251.34 20.97    \n",
        "65   319.87 27.52    \n",
        "66   big bay 8060\n",
        "\n",
        "67   262.44 25.33    \n",
        "68    14.87 19.29    \n",
        "69   chatham point 81\n",
        "70   249.04 20.39    \n",
        "71   305.07 29.44    \n",
        "72   yorke island 823\n",
        "73   241.04 17.10    \n",
        "74   271.77 38.56    \n",
        "75    alert bay(2490)\n",
        "76   239.84 16.00    \n",
        "77   259.47 40.63    \n",
        "78    port hardy\n",
        "\n",
        "79 15.4  245.5 49.9  \n",
        "80 42.0  281.4 10.9  \n",
        "81    montagu point, \n",
        "82  16.6  251.3  52.5\n",
        "83  49.6  292.7  12.5\n",
        "84    siwash bay, kni\n",
        "85  17.1  253.2  52.6\n",
        "86  50.6  296.7  14.0\n",
        "87 winter harbour\n",
        "\n",
        "88   231.2  13.39    \n",
        "89   243.2  29.55    \n",
        "90 bella bella\n",
        "\n",
        "91 14.2  247.2 46.5  \n",
        "92 40.1  280.0 10.9  \n",
        "93  tofino (30376)   \n",
        "94   227.2  12.300   \n",
        "95   241.9  27.900   \n"
       ]
      }
     ],
     "prompt_number": 5
    },
    {
     "cell_type": "code",
     "collapsed": false,
     "input": [
      "lengthlnew=len(lnew)\n",
      "for i in range(lengthlnew):\n",
      "    index=lnew[i]\n",
      "    print index"
     ],
     "language": "python",
     "metadata": {},
     "outputs": [
      {
       "output_type": "stream",
       "stream": "stdout",
       "text": [
        "0\n",
        "3\n",
        "6\n",
        "9\n",
        "12\n",
        "15\n",
        "18\n",
        "21\n",
        "24\n",
        "27\n",
        "30\n",
        "33\n",
        "36\n",
        "39\n",
        "42\n",
        "45\n",
        "48\n",
        "51\n",
        "54\n",
        "57\n",
        "60\n",
        "63\n",
        "66\n",
        "69\n",
        "72\n",
        "75\n",
        "78\n",
        "81\n",
        "84\n",
        "87\n",
        "90\n",
        "93\n",
        "96\n"
       ]
      }
     ],
     "prompt_number": 9
    },
    {
     "cell_type": "code",
     "collapsed": false,
     "input": [
      "for i in range(lengthlnew):\n",
      "    name2=name(index)\n",
      "    print name2"
     ],
     "language": "python",
     "metadata": {},
     "outputs": [
      {
       "ename": "TypeError",
       "evalue": "'str' object is not callable",
       "output_type": "pyerr",
       "traceback": [
        "\u001b[1;31m---------------------------------------------------------------------------\u001b[0m\n\u001b[1;31mTypeError\u001b[0m                                 Traceback (most recent call last)",
        "\u001b[1;32m<ipython-input-11-2cd8cc25e89d>\u001b[0m in \u001b[0;36m<module>\u001b[1;34m()\u001b[0m\n\u001b[0;32m      1\u001b[0m \u001b[1;32mfor\u001b[0m \u001b[0mi\u001b[0m \u001b[1;32min\u001b[0m \u001b[0mrange\u001b[0m\u001b[1;33m(\u001b[0m\u001b[0mlengthlnew\u001b[0m\u001b[1;33m)\u001b[0m\u001b[1;33m:\u001b[0m\u001b[1;33m\u001b[0m\u001b[0m\n\u001b[1;32m----> 2\u001b[1;33m     \u001b[0mname2\u001b[0m\u001b[1;33m=\u001b[0m\u001b[0mname\u001b[0m\u001b[1;33m(\u001b[0m\u001b[0mindex\u001b[0m\u001b[1;33m)\u001b[0m\u001b[1;33m\u001b[0m\u001b[0m\n\u001b[0m\u001b[0;32m      3\u001b[0m     \u001b[1;32mprint\u001b[0m \u001b[0mname2\u001b[0m\u001b[1;33m\u001b[0m\u001b[0m\n",
        "\u001b[1;31mTypeError\u001b[0m: 'str' object is not callable"
       ]
      }
     ],
     "prompt_number": 11
    },
    {
     "cell_type": "code",
     "collapsed": false,
     "input": [],
     "language": "python",
     "metadata": {},
     "outputs": [],
     "prompt_number": 7
    }
   ],
   "metadata": {}
  }
 ]
}