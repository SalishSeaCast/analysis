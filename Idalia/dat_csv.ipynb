{
 "metadata": {
  "name": "",
  "signature": "sha256:32ae58faeacc12e170ab900e42be3acf207adf99d94c18e0517b76503909fadb"
 },
 "nbformat": 3,
 "nbformat_minor": 0,
 "worksheets": [
  {
   "cells": [
    {
     "cell_type": "raw",
     "metadata": {},
     "source": [
      "Conversion between .dat and .csv file."
     ]
    },
    {
     "cell_type": "code",
     "collapsed": false,
     "input": [
      "import matplotlib.pyplot as plt\n",
      "import numpy as np\n",
      "%matplotlib inline\n",
      "\n",
      "from itertools import izip\n",
      "import csv"
     ],
     "language": "python",
     "metadata": {},
     "outputs": [],
     "prompt_number": 1
    },
    {
     "cell_type": "code",
     "collapsed": false,
     "input": [
      "def radians(degrees):\n",
      "    rad = np.pi/180.*degrees\n",
      "    return rad"
     ],
     "language": "python",
     "metadata": {},
     "outputs": [],
     "prompt_number": 2
    },
    {
     "cell_type": "code",
     "collapsed": false,
     "input": [
      "l = range (98)\n",
      "lnew=l[0::3]\n",
      "\n",
      "nstn = 32\n",
      "# pathname for data - all of the tide runs are stored in this directory\n",
      "fp = open('/ocean/imachuca/MEOPAR/NEMO-forcing/fromMike/vigf7_pres_ele_harm_obs2.dat')"
     ],
     "language": "python",
     "metadata": {},
     "outputs": [],
     "prompt_number": 3
    },
    {
     "cell_type": "code",
     "collapsed": false,
     "input": [
      "name=['Neah Bay','Port Renfrew','Port Angeles', 'Victoria Harbour','Port Townsend', 'Bangor','Seattle',\n",
      "       'Tacoma', 'Cherry Point', 'Friday Harbor', 'Hanbury Point', 'Sidney', 'Fulford Harbour',\n",
      "       'Patos Island', 'Tsawwassen', 'Point Atkinson', 'Winchelsea Islands', 'Little River',\n",
      "       'Twin Islets', 'Campbell River', 'Seymour Narrows', 'Owen Bay', 'Big Bay', 'Chatham Point',\n",
      "       'Yorke Island', 'Alert Bay', 'Port Hardy', 'Montagu Point', 'Siwash Bay', 'Winter Harbour',\n",
      "       'Bella Bella', 'Tofino']\n",
      "lons=np.zeros(nstn); lats=np.zeros(nstn)\n",
      "K1amp = np.zeros(nstn); Q1amp = np.zeros(nstn); O1amp = np.zeros(nstn); P1amp = np.zeros(nstn)\n",
      "K1phase = np.zeros(nstn); Q1phase = np.zeros(nstn); O1phase = np.zeros(nstn); P1phase = np.zeros(nstn)\n",
      "M2amp = np.zeros(nstn); N2amp = np.zeros(nstn); S2amp = np.zeros(nstn); K2amp = np.zeros(nstn)\n",
      "M2phase = np.zeros(nstn); N2phase = np.zeros(nstn); S2phase = np.zeros(nstn); K2phase = np.zeros(nstn)\n",
      "for i in range(nstn):\n",
      "      \n",
      "    #Details\n",
      "    line = fp.readline()\n",
      "    \n",
      "    lons[i] = round(float(line[1:10])-360,3)\n",
      "    lats[i] = round(float(line[11:18]),3)\n",
      "    \n",
      "    #Diurnals\n",
      "    line = fp.readline()\n",
      "    values = line.split(' ')\n",
      "    diurnals = [round(float(e),2) for e in values if (e != '' and e != '\\n')]\n",
      " \n",
      "    K1amp[i] = diurnals[6]\n",
      "    Q1amp[i] = diurnals[0]\n",
      "    O1amp[i] = diurnals[2]\n",
      "    P1amp[i] = diurnals[4]\n",
      "    K1phase[i] = diurnals[7]\n",
      "    Q1phase[i] = diurnals[1]\n",
      "    O1phase[i] = diurnals[3]\n",
      "    P1phase[i] = diurnals[5]   \n",
      "    #Semi-diurnals\n",
      "    line = fp.readline()\n",
      "    values = line.split(' ')\n",
      "    semis = [float(e) for e in values if (e != '' and e != '\\n')]\n",
      "    M2amp[i] = semis[2]\n",
      "    N2amp[i] = semis[0]\n",
      "    S2amp[i] = semis[4]\n",
      "    K2amp[i] = semis[6]\n",
      "    M2phase[i] = semis[3]\n",
      "    N2phase[i] = semis[1]\n",
      "    S2phase[i] = semis[5]\n",
      "    K2phase[i] = semis[7]"
     ],
     "language": "python",
     "metadata": {},
     "outputs": [],
     "prompt_number": 4
    },
    {
     "cell_type": "code",
     "collapsed": false,
     "input": [
      "print K1amp"
     ],
     "language": "python",
     "metadata": {},
     "outputs": [
      {
       "output_type": "stream",
       "stream": "stdout",
       "text": [
        "[ 49.7   45.33  66.7   63.6   76.4   83.5   83.1   83.8   81.7   75.8   75.3\n",
        "  76.6   75.3   79.    83.4   86.2   87.5   90.19  90.37  84.58  69.19\n",
        "  67.76  83.27  65.41  55.75  51.63  49.9   52.5   52.6   43.1   46.5\n",
        "  38.81]\n"
       ]
      }
     ],
     "prompt_number": 5
    },
    {
     "cell_type": "code",
     "collapsed": false,
     "input": [
      "outfile ='other_constituents.csv'\n",
      "\n",
      "with open(outfile, 'wb') as csvfile:\n",
      "    writer = csv.writer(csvfile, delimiter=',')\n",
      "    writer.writerow([\n",
      "            'Site', 'Lat', 'Lon',\n",
      "            'O1 amp', 'O1 phase (deg UT)', 'P1 amp', 'P1 phase (deg UT)', 'Q1 amp', 'Q1 phase (deg UT)', \n",
      "            'S2 amp', 'S2 phase (deg UT)', 'N2 amp', 'N2 phase (deg UT)', 'K2 amp', 'K2 phase (deg UT)' \n",
      "        ])\n",
      "    for stn in range(nstn):\n",
      "        location = name[stn]\n",
      "        writer.writerow([location, lats[stn], lons[stn],\n",
      "                        O1amp[stn], O1phase[stn], P1amp[stn], P1phase[stn],Q1amp[stn], Q1phase[stn],\n",
      "                        S2amp[stn], S2phase[stn], N2amp[stn], N2phase[stn],K2amp[stn], K2phase[stn]])\n",
      "\n"
     ],
     "language": "python",
     "metadata": {},
     "outputs": [],
     "prompt_number": 6
    },
    {
     "cell_type": "code",
     "collapsed": false,
     "input": [],
     "language": "python",
     "metadata": {},
     "outputs": [],
     "prompt_number": 6
    }
   ],
   "metadata": {}
  }
 ]
}