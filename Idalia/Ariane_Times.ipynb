{
 "metadata": {
  "name": "",
  "signature": "sha256:a55de9ee94547ff391e6bbbfc382bf0afd15b157d21ecaa906937ba962cc55e7"
 },
 "nbformat": 3,
 "nbformat_minor": 0,
 "worksheets": [
  {
   "cells": [
    {
     "cell_type": "heading",
     "level": 2,
     "metadata": {},
     "source": [
      "Understanding time in Ariane"
     ]
    },
    {
     "cell_type": "heading",
     "level": 4,
     "metadata": {},
     "source": [
      "The river particle: December 2006"
     ]
    },
    {
     "cell_type": "code",
     "collapsed": false,
     "input": [
      "%matplotlib inline\n",
      "from matplotlib import pylab\n",
      "import matplotlib.pyplot as plt\n",
      "import netCDF4 as NC\n",
      "import numpy as np\n",
      "from mpl_toolkits.mplot3d import Axes3D\n",
      "from salishsea_tools import tidetools\n",
      "\n",
      "from salishsea_tools import (nc_tools,viz_tools)\n",
      "\n",
      "import matplotlib.cm as cm\n",
      "\n",
      "from matplotlib import animation\n",
      "\n",
      "from numpy import *\n",
      "from pylab import *"
     ],
     "language": "python",
     "metadata": {},
     "outputs": [],
     "prompt_number": 1
    },
    {
     "cell_type": "heading",
     "level": 4,
     "metadata": {},
     "source": [
      "Initial Positions: 0, nbout:47"
     ]
    },
    {
     "cell_type": "heading",
     "level": 4,
     "metadata": {},
     "source": []
    },
    {
     "cell_type": "code",
     "collapsed": false,
     "input": [
      "test1 = NC.Dataset('/ocean/imachuca/MEOPAR/Ariane/results/riverparticles/times/test1/ariane_trajectories_qualitative.nc','r')"
     ],
     "language": "python",
     "metadata": {},
     "outputs": []
    },
    {
     "cell_type": "heading",
     "level": 4,
     "metadata": {},
     "source": [
      "Initial Positions: 1, nbout:48"
     ]
    },
    {
     "cell_type": "heading",
     "level": 4,
     "metadata": {},
     "source": []
    },
    {
     "cell_type": "code",
     "collapsed": false,
     "input": [
      "test2 = NC.Dataset('/ocean/imachuca/MEOPAR/Ariane/results/riverparticles/times/test2/ariane_trajectories_qualitative.nc','r')"
     ],
     "language": "python",
     "metadata": {},
     "outputs": []
    },
    {
     "cell_type": "heading",
     "level": 4,
     "metadata": {},
     "source": [
      "Initial Positions: 24, nbout:47"
     ]
    },
    {
     "cell_type": "heading",
     "level": 4,
     "metadata": {},
     "source": []
    },
    {
     "cell_type": "code",
     "collapsed": false,
     "input": [
      "test3 = NC.Dataset('/ocean/imachuca/MEOPAR/Ariane/results/riverparticles/times/test3/ariane_trajectories_qualitative.nc','r')"
     ],
     "language": "python",
     "metadata": {},
     "outputs": []
    },
    {
     "cell_type": "heading",
     "level": 4,
     "metadata": {},
     "source": [
      "Initial Positions: 24, nbout:24"
     ]
    },
    {
     "cell_type": "heading",
     "level": 4,
     "metadata": {},
     "source": []
    },
    {
     "cell_type": "code",
     "collapsed": false,
     "input": [
      "test4 = NC.Dataset('/ocean/imachuca/MEOPAR/Ariane/results/riverparticles/times/test4/ariane_trajectories_qualitative.nc','r')"
     ],
     "language": "python",
     "metadata": {},
     "outputs": []
    },
    {
     "cell_type": "heading",
     "level": 4,
     "metadata": {},
     "source": [
      "Initial Positions: 24, nbout:24, lmt: 24"
     ]
    },
    {
     "cell_type": "heading",
     "level": 4,
     "metadata": {},
     "source": []
    },
    {
     "cell_type": "code",
     "collapsed": false,
     "input": [],
     "language": "python",
     "metadata": {},
     "outputs": []
    },
    {
     "cell_type": "heading",
     "level": 4,
     "metadata": {},
     "source": [
      "Initial Position: 48, nbout:1"
     ]
    },
    {
     "cell_type": "heading",
     "level": 4,
     "metadata": {},
     "source": []
    },
    {
     "cell_type": "code",
     "collapsed": false,
     "input": [],
     "language": "python",
     "metadata": {},
     "outputs": []
    },
    {
     "cell_type": "heading",
     "level": 4,
     "metadata": {},
     "source": [
      "Initial Position: 48, nbout:1, lmt:1"
     ]
    },
    {
     "cell_type": "heading",
     "level": 4,
     "metadata": {},
     "source": []
    },
    {
     "cell_type": "code",
     "collapsed": false,
     "input": [],
     "language": "python",
     "metadata": {},
     "outputs": []
    },
    {
     "cell_type": "heading",
     "level": 1,
     "metadata": {},
     "source": [
      "Variables"
     ]
    },
    {
     "cell_type": "code",
     "collapsed": false,
     "input": [
      "lon1=test1.variables['traj_lon']\n",
      "lat1=test1.variables['traj_lat']\n",
      "dep1=test1.variables['traj_depth']\n",
      "xs1=test1.variables['init_x']\n",
      "ys1=test1.variables['init_y']"
     ],
     "language": "python",
     "metadata": {},
     "outputs": []
    },
    {
     "cell_type": "code",
     "collapsed": false,
     "input": [
      "lon2=test2.variables['traj_lon']\n",
      "lat2=test2.variables['traj_lat']\n",
      "dep2=test2.variables['traj_depth']\n",
      "xs2=test2.variables['init_x']\n",
      "ys2=test2.variables['init_y']"
     ],
     "language": "python",
     "metadata": {},
     "outputs": []
    },
    {
     "cell_type": "code",
     "collapsed": false,
     "input": [
      "lon3=test3.variables['traj_lon']\n",
      "lat3=test3.variables['traj_lat']\n",
      "dep3=test3.variables['traj_depth']\n",
      "xs3=test3.variables['init_x']\n",
      "ys3=test3.variables['init_y']"
     ],
     "language": "python",
     "metadata": {},
     "outputs": []
    },
    {
     "cell_type": "code",
     "collapsed": false,
     "input": [
      "lon4=test4.variables['traj_lon']\n",
      "lat4=test4.variables['traj_lat']\n",
      "dep4=test4.variables['traj_depth']\n",
      "xs4=test4.variables['init_x']\n",
      "ys4=test4.variables['init_y']"
     ],
     "language": "python",
     "metadata": {},
     "outputs": []
    }
   ],
   "metadata": {}
  }
 ]
}