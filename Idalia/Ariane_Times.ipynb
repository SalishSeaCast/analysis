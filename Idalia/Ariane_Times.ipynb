{
 "metadata": {
  "name": "",
  "signature": "sha256:7d5135c64fb3f715ba0e35c0dbe07b2e00539fd3a8df541a6ad8c28b37a99585"
 },
 "nbformat": 3,
 "nbformat_minor": 0,
 "worksheets": [
  {
   "cells": [
    {
     "cell_type": "heading",
     "level": 3,
     "metadata": {},
     "source": [
      "Understanding time in Ariane"
     ]
    },
    {
     "cell_type": "markdown",
     "metadata": {},
     "source": [
      "The river particle: December 2006"
     ]
    },
    {
     "cell_type": "heading",
     "level": 4,
     "metadata": {},
     "source": [
      "Conditions for time to work"
     ]
    },
    {
     "cell_type": "markdown",
     "metadata": {},
     "source": [
      "Condition 1: delta_t \u00d7 frequency \u00d7 nb_output < tunit \u00d7 ntfic \u00d7 lmt"
     ]
    },
    {
     "cell_type": "markdown",
     "metadata": {},
     "source": [
      "Condition 2: delta_t \u00d7 frequency \u00d7 nb_output < tunit \u00d7 ntfic \u00d7 (lmt + 0.5 - max(fl))"
     ]
    },
    {
     "cell_type": "heading",
     "level": 1,
     "metadata": {},
     "source": [
      "Imports"
     ]
    },
    {
     "cell_type": "code",
     "collapsed": false,
     "input": [
      "%matplotlib inline\n",
      "from matplotlib import pylab\n",
      "import matplotlib.pyplot as plt\n",
      "import netCDF4 as NC\n",
      "import numpy as np\n",
      "from mpl_toolkits.mplot3d import Axes3D\n",
      "from salishsea_tools import tidetools\n",
      "\n",
      "from salishsea_tools import (nc_tools,viz_tools)\n",
      "\n",
      "import matplotlib.cm as cm\n",
      "\n",
      "from matplotlib import animation\n",
      "\n",
      "from numpy import *\n",
      "from pylab import *"
     ],
     "language": "python",
     "metadata": {},
     "outputs": [],
     "prompt_number": 2
    },
    {
     "cell_type": "heading",
     "level": 1,
     "metadata": {},
     "source": [
      "Tests (one particle)"
     ]
    },
    {
     "cell_type": "heading",
     "level": 4,
     "metadata": {},
     "source": [
      "delta_t:3600, frequency:1, tunit:3600, ntfic:2, nmax=1"
     ]
    },
    {
     "cell_type": "heading",
     "level": 1,
     "metadata": {},
     "source": [
      "Test 1"
     ]
    },
    {
     "cell_type": "heading",
     "level": 4,
     "metadata": {},
     "source": [
      "nbout:47, lmt:48, fl:0 ... Conditions 1 and 2 satisfied"
     ]
    },
    {
     "cell_type": "markdown",
     "metadata": {},
     "source": [
      "Result: lmin = 0, there is a problem in the initial_positions.txt file. Note: lmin doesn't exist in the qualitative namelist (which is what we are currently running) - confusing."
     ]
    },
    {
     "cell_type": "heading",
     "level": 1,
     "metadata": {},
     "source": [
      "Test 2"
     ]
    },
    {
     "cell_type": "heading",
     "level": 4,
     "metadata": {},
     "source": [
      "nbout:48,  lmt:48, fl:1 ... Conditions 1 and 2 satisfied"
     ]
    },
    {
     "cell_type": "markdown",
     "metadata": {},
     "source": [
      "Ran"
     ]
    },
    {
     "cell_type": "code",
     "collapsed": false,
     "input": [
      "test2 = NC.Dataset('/ocean/imachuca/MEOPAR/Ariane/results/riverparticles/times/test2/ariane_trajectories_qualitative.nc','r')"
     ],
     "language": "python",
     "metadata": {},
     "outputs": [],
     "prompt_number": 3
    },
    {
     "cell_type": "heading",
     "level": 1,
     "metadata": {},
     "source": [
      "Test 3"
     ]
    },
    {
     "cell_type": "heading",
     "level": 4,
     "metadata": {},
     "source": [
      "nbout:47, lmt:48, fl:24 ... Conditions 1 and 2 satisfied"
     ]
    },
    {
     "cell_type": "markdown",
     "metadata": {},
     "source": [
      "Ran"
     ]
    },
    {
     "cell_type": "markdown",
     "metadata": {},
     "source": [
      "Lesson: lmt should be greater than nbout. If lmt would have been 47 like nbout, Condition 2 would not have been satisfied. "
     ]
    },
    {
     "cell_type": "code",
     "collapsed": false,
     "input": [
      "test3 = NC.Dataset('/ocean/imachuca/MEOPAR/Ariane/results/riverparticles/times/test3/ariane_trajectories_qualitative.nc','r')"
     ],
     "language": "python",
     "metadata": {},
     "outputs": [],
     "prompt_number": 7
    },
    {
     "cell_type": "heading",
     "level": 1,
     "metadata": {},
     "source": [
      "Test 4"
     ]
    },
    {
     "cell_type": "heading",
     "level": 4,
     "metadata": {},
     "source": [
      "nbout:24, lmt:48, fl:24 ... Conditions 1 and 2 satisfied"
     ]
    },
    {
     "cell_type": "markdown",
     "metadata": {},
     "source": [
      "Ran"
     ]
    },
    {
     "cell_type": "code",
     "collapsed": false,
     "input": [
      "test4 = NC.Dataset('/ocean/imachuca/MEOPAR/Ariane/results/riverparticles/times/test4/ariane_trajectories_qualitative.nc','r')"
     ],
     "language": "python",
     "metadata": {},
     "outputs": [],
     "prompt_number": 13
    },
    {
     "cell_type": "heading",
     "level": 1,
     "metadata": {},
     "source": [
      "Variables"
     ]
    },
    {
     "cell_type": "code",
     "collapsed": false,
     "input": [
      "lon2=test2.variables['traj_lon']\n",
      "lat2=test2.variables['traj_lat']\n",
      "dep2=test2.variables['traj_depth']\n",
      "xs2=test2.variables['init_x']\n",
      "ys2=test2.variables['init_y']"
     ],
     "language": "python",
     "metadata": {},
     "outputs": [],
     "prompt_number": 4
    },
    {
     "cell_type": "code",
     "collapsed": false,
     "input": [
      "lon3=test3.variables['traj_lon']\n",
      "lat3=test3.variables['traj_lat']\n",
      "dep3=test3.variables['traj_depth']\n",
      "xs3=test3.variables['init_x']\n",
      "ys3=test3.variables['init_y']"
     ],
     "language": "python",
     "metadata": {},
     "outputs": [],
     "prompt_number": 8
    },
    {
     "cell_type": "code",
     "collapsed": false,
     "input": [
      "lon4=test4.variables['traj_lon']\n",
      "lat4=test4.variables['traj_lat']\n",
      "dep4=test4.variables['traj_depth']\n",
      "xs4=test4.variables['init_x']\n",
      "ys4=test4.variables['init_y']"
     ],
     "language": "python",
     "metadata": {},
     "outputs": [],
     "prompt_number": 14
    },
    {
     "cell_type": "heading",
     "level": 1,
     "metadata": {},
     "source": [
      "Vizuals"
     ]
    },
    {
     "cell_type": "code",
     "collapsed": false,
     "input": [
      "grid = NC.Dataset('/ocean/imachuca/MEOPAR/NEMO-forcing/grid/bathy_meter_SalishSea2.nc','r')"
     ],
     "language": "python",
     "metadata": {},
     "outputs": [],
     "prompt_number": 19
    },
    {
     "cell_type": "code",
     "collapsed": false,
     "input": [
      "fig, ax = plt.subplots(1,1,figsize=(10,6.6))\n",
      "ax.scatter(lon2[1:],lat2[1:],c='purple')\n",
      "ax.scatter(lon2[0],lat2[0],color='0.30',marker='s')\n",
      "ax.set_title('Test 2: time = 1')\n",
      "viz_tools.plot_land_mask(ax,grid,coords='map')\n",
      "ax.set_xlim([-123.5,-122.9])\n",
      "ax.set_ylim([48.9,49.45])\n",
      "\n",
      "fig, ax = plt.subplots(1,1,figsize=(10,6.6))\n",
      "ax.scatter(lon3[1:],lat3[1:],c='purple')\n",
      "ax.scatter(lon3[0],lat3[0],color='0.30',marker='s')\n",
      "ax.set_title('Test 3: time = 24, nbout = 47, lmt = 48')\n",
      "viz_tools.plot_land_mask(ax,grid,coords='map')\n",
      "ax.set_xlim([-123.5,-122.9])\n",
      "ax.set_ylim([48.9,49.45])\n",
      "\n",
      "fig, ax = plt.subplots(1,1,figsize=(10,6.6))\n",
      "ax.scatter(lon4[1:],lat4[1:],c='purple')\n",
      "ax.scatter(lon4[0],lat4[0],color='0.30',marker='s')\n",
      "ax.set_title('Test 4: time = 24, nbout = 24, lmt = 48')\n",
      "viz_tools.plot_land_mask(ax,grid,coords='map')\n",
      "ax.set_xlim([-123.5,-122.9])\n",
      "ax.set_ylim([48.9,49.45])"
     ],
     "language": "python",
     "metadata": {},
     "outputs": [
      {
       "metadata": {},
       "output_type": "pyout",
       "prompt_number": 26,
       "text": [
        "(48.9, 49.45)"
       ]
      },
      {
       "metadata": {},
       "output_type": "display_data",
       "png": "[encoded data removed]",
       "text": [
        "<matplotlib.figure.Figure at 0x7f2ae7a81890>"
       ]
      },
      {
       "metadata": {},
       "output_type": "display_data",
       "png": "[encoded data removed]",
       "text": [
        "<matplotlib.figure.Figure at 0x7f2ae75ca450>"
       ]
      },
      {
       "metadata": {},
       "output_type": "display_data",
       "png": "[encoded data removed]",
       "text": [
        "<matplotlib.figure.Figure at 0x7f2ae72ac5d0>"
       ]
      }
     ],
     "prompt_number": 26
    },
    {
     "cell_type": "code",
     "collapsed": false,
     "input": [],
     "language": "python",
     "metadata": {},
     "outputs": []
    }
   ],
   "metadata": {}
  }
 ]
}