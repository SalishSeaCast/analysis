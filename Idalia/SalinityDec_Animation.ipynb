{
 "metadata": {
  "name": "",
  "signature": "sha256:a2e5aa69d68dd6ab70126f2d921931a24331b7649feb881c6733f6143cf213e5"
 },
 "nbformat": 3,
 "nbformat_minor": 0,
 "worksheets": [
  {
   "cells": [
    {
     "cell_type": "heading",
     "level": 3,
     "metadata": {},
     "source": [
      "Animation showing the salinity evolution using hourly records for a period of 2 days."
     ]
    },
    {
     "cell_type": "heading",
     "level": 1,
     "metadata": {},
     "source": [
      "Imports"
     ]
    },
    {
     "cell_type": "code",
     "collapsed": false,
     "input": [
      "import numpy as np\n",
      "from matplotlib import pyplot as plt\n",
      "from matplotlib import animation\n",
      "from salishsea_tools import stormtools\n",
      "\n",
      "import netCDF4 as nc\n",
      "from salishsea_tools import (\n",
      "    nc_tools,\n",
      "    viz_tools,)\n",
      "\n",
      "%matplotlib inline"
     ],
     "language": "python",
     "metadata": {},
     "outputs": [],
     "prompt_number": 1
    },
    {
     "cell_type": "heading",
     "level": 1,
     "metadata": {},
     "source": [
      "Data"
     ]
    },
    {
     "cell_type": "markdown",
     "metadata": {},
     "source": [
      "2006 December 14 - 15"
     ]
    },
    {
     "cell_type": "code",
     "collapsed": false,
     "input": [
      "tracers = nc.Dataset('/data/nsoontie/MEOPAR/SalishSea/results/storm-surges/tide_fix/dec2006/all_forcing/1hour/SalishSea_1h_20061214_20061215_grid_T.nc')"
     ],
     "language": "python",
     "metadata": {},
     "outputs": [],
     "prompt_number": 2
    },
    {
     "cell_type": "code",
     "collapsed": false,
     "input": [
      "timesteps = tracers.variables['time_counter']"
     ],
     "language": "python",
     "metadata": {},
     "outputs": [],
     "prompt_number": 3
    },
    {
     "cell_type": "code",
     "collapsed": false,
     "input": [
      "bathy = nc.Dataset('/ocean/imachuca/MEOPAR/NEMO-forcing/grid/bathy_meter_SalishSea2.nc')"
     ],
     "language": "python",
     "metadata": {},
     "outputs": [],
     "prompt_number": 4
    },
    {
     "cell_type": "heading",
     "level": 1,
     "metadata": {},
     "source": [
      "Defining Salinity"
     ]
    },
    {
     "cell_type": "code",
     "collapsed": false,
     "input": [
      "salvar = tracers.variables['vosaline']\n",
      "salvar.shape"
     ],
     "language": "python",
     "metadata": {},
     "outputs": [
      {
       "metadata": {},
       "output_type": "pyout",
       "prompt_number": 5,
       "text": [
        "(48, 40, 898, 398)"
       ]
      }
     ],
     "prompt_number": 5
    },
    {
     "cell_type": "markdown",
     "metadata": {},
     "source": [
      "Salinity at the surface (depth=0)"
     ]
    },
    {
     "cell_type": "code",
     "collapsed": false,
     "input": [
      "sal0 = salvar[:,0,:,:]"
     ],
     "language": "python",
     "metadata": {},
     "outputs": [],
     "prompt_number": 6
    },
    {
     "cell_type": "markdown",
     "metadata": {},
     "source": [
      "For colourbar:"
     ]
    },
    {
     "cell_type": "code",
     "collapsed": false,
     "input": [
      "cmin = sal0.min()\n",
      "cmax = sal0.max()"
     ],
     "language": "python",
     "metadata": {},
     "outputs": [],
     "prompt_number": 8
    },
    {
     "cell_type": "heading",
     "level": 1,
     "metadata": {},
     "source": [
      "Animation"
     ]
    },
    {
     "cell_type": "code",
     "collapsed": false,
     "input": [
      "#Setting up a blank figure\n",
      "fig, ax = plt.subplots(1, 1, figsize=(10, 8))\n",
      "viz_tools.set_aspect(ax)\n",
      "cmap = plt.get_cmap('Blues')\n",
      "viz_tools.plot_land_mask(ax, bathy, color='burlywood')\n",
      "\n",
      "#Making an initial image i.e. our first ssh reading\n",
      "def init():\n",
      "    sal = np.ma.masked_values(sal0[0], 0)\n",
      "    mesh = ax.pcolormesh(sal,cmap=cmap)\n",
      "    mesh.set_clim(cmin,cmax)\n",
      "    cbar = fig.colorbar(mesh)\n",
      "    cbar.set_label('{label} [{units}]'.format(label=salvar.long_name.title(), units=salvar.units))\n",
      "    ax.set_xlabel('x Index')\n",
      "    ax.set_ylabel('y Index')\n",
      "    ax.set_title('t = 0.0 h')\n",
      "\n",
      "    \n",
      "#The full range of images that will make up the animation\n",
      "def animate(t):\n",
      "    ssh = np.ma.masked_values(sal0[t], 0)\n",
      "    mesh = ax.pcolormesh(ssh,cmap=cmap)\n",
      "    mesh.set_clim(cmin,cmax)\n",
      "    ax.set_xlabel('x Index')\n",
      "    ax.set_ylabel('y Index')\n",
      "    timestamp = nc_tools.timestamp(tracers,t)\n",
      "    ax.set_title(timestamp)\n",
      "\n",
      "#The animation function    \n",
      "anim = animation.FuncAnimation(fig, animate, init_func=init, frames=48, interval=300, blit=False, repeat=False)\n",
      "\n",
      "#A line that makes it all work\n",
      "mywriter = animation.FFMpegWriter()\n",
      "\n",
      "#Save in current folder\n",
      "anim.save('SalinityDec_Animation.mp4',writer=mywriter,fps=1)\n",
      "\n",
      "#Show as a pop-up window\n",
      "#plt.show()"
     ],
     "language": "python",
     "metadata": {},
     "outputs": [
      {
       "metadata": {},
       "output_type": "display_data",
       "png": "[encoded data removed]",
       "text": [
        "<matplotlib.figure.Figure at 0x7f471b0ed0d0>"
       ]
      }
     ],
     "prompt_number": 8
    },
    {
     "cell_type": "heading",
     "level": 1,
     "metadata": {},
     "source": [
      "Animation (different colour scheme)"
     ]
    },
    {
     "cell_type": "code",
     "collapsed": false,
     "input": [
      "#Setting up a blank figure\n",
      "fig, ax = plt.subplots(1, 1, figsize=(10, 8))\n",
      "viz_tools.set_aspect(ax)\n",
      "cmap = plt.get_cmap('ocean_r')\n",
      "viz_tools.plot_land_mask(ax, bathy, color='burlywood')\n",
      "\n",
      "#Making an initial image i.e. our first ssh reading\n",
      "def init():\n",
      "    sal = np.ma.masked_values(sal0[0], 0)\n",
      "    mesh = ax.pcolormesh(sal,cmap=cmap)\n",
      "    mesh.set_clim(cmin,cmax)\n",
      "    cbar = fig.colorbar(mesh)\n",
      "    cbar.set_label('{label} [{units}]'.format(label=salvar.long_name.title(), units=salvar.units))\n",
      "    ax.set_xlabel('x Index')\n",
      "    ax.set_ylabel('y Index')\n",
      "    ax.set_title('t = 0.0 h')\n",
      "\n",
      "    \n",
      "#The full range of images that will make up the animation\n",
      "def animate(t):\n",
      "    ssh = np.ma.masked_values(sal0[t], 0)\n",
      "    mesh = ax.pcolormesh(ssh,cmap=cmap)\n",
      "    mesh.set_clim(cmin,cmax)\n",
      "    ax.set_xlabel('x Index')\n",
      "    ax.set_ylabel('y Index')\n",
      "    timestamp = nc_tools.timestamp(tracers,t)\n",
      "    ax.set_title(timestamp)\n",
      "\n",
      "#The animation function    \n",
      "anim = animation.FuncAnimation(fig, animate, init_func=init, frames=48, interval=300, blit=False, repeat=False)\n",
      "\n",
      "#A line that makes it all work\n",
      "mywriter = animation.FFMpegWriter()\n",
      "\n",
      "#Save in current folder\n",
      "anim.save('SalinityDec2_Animation.mp4',writer=mywriter,fps=1)\n",
      "\n",
      "#Show as a pop-up window\n",
      "#plt.show()"
     ],
     "language": "python",
     "metadata": {},
     "outputs": []
    },
    {
     "cell_type": "code",
     "collapsed": false,
     "input": [],
     "language": "python",
     "metadata": {},
     "outputs": []
    }
   ],
   "metadata": {}
  }
 ]
}