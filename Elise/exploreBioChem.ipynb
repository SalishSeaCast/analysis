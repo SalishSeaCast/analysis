{
 "cells": [
  {
   "cell_type": "code",
   "execution_count": 1,
   "metadata": {
    "collapsed": true
   },
   "outputs": [],
   "source": [
    "# imports\n",
    "from sqlalchemy import create_engine, Column, String, Integer, Numeric, MetaData, Table, type_coerce\n",
    "from sqlalchemy.orm import mapper, create_session\n",
    "import csv\n",
    "from sqlalchemy import case\n",
    "import numpy as np\n",
    "from sqlalchemy.ext.automap import automap_base\n",
    "import matplotlib.pyplot as plt\n",
    "import sqlalchemy.types as types\n",
    "import numbers\n",
    "from sqlalchemy.sql import and_, or_, not_\n",
    "from sqlalchemy.sql import select\n",
    "%matplotlib inline"
   ]
  },
  {
   "cell_type": "code",
   "execution_count": 2,
   "metadata": {
    "collapsed": true
   },
   "outputs": [],
   "source": [
    "# definitions\n",
    "file1='/Users/eolson/WorkUBC/MEOPAR/obs/BioChem/BioChem_Query_1610/BioChem_Query_1610_Data.csv'"
   ]
  },
  {
   "cell_type": "code",
   "execution_count": 3,
   "metadata": {
    "collapsed": true
   },
   "outputs": [],
   "source": [
    "engine = create_engine('sqlite:////Users/eolson/WorkUBC/MEOPAR/obs/BioChem/BioChem_Query_1610/BioChemQueryDB.sqlite')"
   ]
  },
  {
   "cell_type": "code",
   "execution_count": 4,
   "metadata": {
    "collapsed": true
   },
   "outputs": [],
   "source": [
    "table = None\n",
    "metadata = MetaData(bind=engine)\n"
   ]
  },
  {
   "cell_type": "code",
   "execution_count": 5,
   "metadata": {
    "collapsed": true
   },
   "outputs": [],
   "source": [
    "class forceNumeric(types.TypeDecorator):\n",
    "\n",
    "    impl = types.Numeric\n",
    "\n",
    "    def process_bind_param(self, value, dialect):\n",
    "        try:\n",
    "            int(float(value))\n",
    "        except:\n",
    "            value = None\n",
    "        return value\n",
    "\n",
    "class forceInt(types.TypeDecorator):\n",
    "    \n",
    "    impl = types.Integer\n",
    "    def process_bind_param(self, value, dialect):\n",
    "        try:\n",
    "            int(value)\n",
    "        except:\n",
    "            value = None\n",
    "        return value\n"
   ]
  },
  {
   "cell_type": "code",
   "execution_count": 6,
   "metadata": {
    "collapsed": true
   },
   "outputs": [],
   "source": [
    "def coltype(ikey):\n",
    "    typedict = {\n",
    "        'DATA_CENTER': String(),\n",
    "        'DESCRIPTOR-NAME': String(),\n",
    "        'AREA_NAME': String(),\n",
    "        'COLLECTOR_STATION_NAME': String(),\n",
    "        'START_DATE': String(),\n",
    "        'START_TIME': String(),\n",
    "        'COLLECTOR_DEPLOYMENT_ID': String(),\n",
    "        'GEAR_MODEL (GEAR_SIZE)': String(),\n",
    "        'Silicate_datatype': String(),\n",
    "        'Phosphate_datatype': String(),\n",
    "        'Nitrate_datatype': String(),\n",
    "    }\n",
    "    return typedict.get(ikey, forceNumeric())\n",
    "    "
   ]
  },
  {
   "cell_type": "code",
   "execution_count": 7,
   "metadata": {
    "collapsed": false
   },
   "outputs": [
    {
     "data": {
      "text/plain": [
       "<Mapper at 0x10d702390; Profs>"
      ]
     },
     "execution_count": 7,
     "metadata": {},
     "output_type": "execute_result"
    }
   ],
   "source": [
    "with open(file1) as f:\n",
    "    cf = csv.DictReader(f, delimiter=',')\n",
    "    for row in cf:\n",
    "        if table is None:\n",
    "            table = Table('profiles', metadata, Column('id', Integer, primary_key=True),\n",
    "                *(Column(rowname, coltype(rowname)) for rowname in row.keys()))\n",
    "            table.create()\n",
    "        table.insert().values(**row).execute()\n",
    "class Profs(object): pass\n",
    "mapper(Profs, table)"
   ]
  },
  {
   "cell_type": "code",
   "execution_count": 8,
   "metadata": {
    "collapsed": true
   },
   "outputs": [],
   "source": [
    "Base = automap_base()\n",
    "# reflect the tables in salish.sqlite:\n",
    "Base.prepare(engine, reflect=True)\n",
    "# mapped classes have been created\n",
    "Profs=Base.classes.profiles\n",
    "session = create_session(bind = engine, autocommit = False, autoflush = True)\n"
   ]
  },
  {
   "cell_type": "code",
   "execution_count": 13,
   "metadata": {
    "collapsed": false
   },
   "outputs": [
    {
     "name": "stdout",
     "output_type": "stream",
     "text": [
      "dict_keys(['COLLECTOR_STATION_NAME', 'START_TIME', 'Silicate', 'SOUNDING', 'COLLECTOR (RESPONSIBLE_GROUP)', 'START_DATE', 'DESCRIPTOR-NAME', 'START_DEPTH', 'COLLECTOR_DEPLOYMENT_ID', 'Silicate_qcCode', 'END_DEPTH', 'Phosphate_qcCode', 'COLLECTOR_SAMPLE_ID', 'Nitrate_datatype', 'START_LON', 'START_LAT', 'QRY_NO', 'Nitrate', 'AREA_NAME', 'DATA_CENTER', 'Nitrate_qcCode', 'Silicate_datatype', 'Phosphate', 'Phosphate_datatype', 'COLLECTOR_EVENT_ID', 'GEAR_MODEL (GEAR_SIZE)'])\n"
     ]
    }
   ],
   "source": [
    "print(row.keys())"
   ]
  },
  {
   "cell_type": "code",
   "execution_count": 17,
   "metadata": {
    "collapsed": false
   },
   "outputs": [
    {
     "name": "stdout",
     "output_type": "stream",
     "text": [
      "[(None, Decimal('96.2000000000'), Decimal('3.7200000000')), (Decimal('0.3000000000'), Decimal('3.1000000000'), Decimal('0.3700000000')), (Decimal('1.1000000000'), Decimal('4.0000000000'), Decimal('0.3300000000')), (None, Decimal('97.9000000000'), Decimal('4.7500000000')), (Decimal('19.1000000000'), Decimal('77.5000000000'), Decimal('3.2800000000')), (Decimal('26.5000000000'), Decimal('62.8000000000'), Decimal('2.1800000000')), (Decimal('28.7000000000'), Decimal('59.0000000000'), Decimal('2.5200000000')), (Decimal('26.3000000000'), Decimal('47.7000000000'), Decimal('2.3800000000')), (Decimal('17.8000000000'), Decimal('29.7000000000'), Decimal('1.8400000000')), (Decimal('26.1000000000'), Decimal('65.4000000000'), Decimal('2.3700000000')), (Decimal('22.4000000000'), Decimal('85.2000000000'), Decimal('2.5400000000')), (Decimal('18.1000000000'), Decimal('32.4000000000'), Decimal('1.6800000000')), (Decimal('15.4000000000'), Decimal('27.5000000000'), Decimal('1.6100000000')), (Decimal('13.6000000000'), Decimal('26.8000000000'), Decimal('1.4800000000')), (None, Decimal('97.7000000000'), Decimal('4.6100000000')), (None, Decimal('85.2000000000'), Decimal('5.2400000000')), (Decimal('13.7000000000'), Decimal('70.5000000000'), Decimal('3.8700000000')), (Decimal('25.8000000000'), Decimal('63.4000000000'), Decimal('3.0100000000')), (Decimal('25.8000000000'), Decimal('58.2000000000'), Decimal('2.6200000000')), (Decimal('21.0000000000'), Decimal('39.8000000000'), Decimal('2.1000000000')), (Decimal('15.3000000000'), Decimal('27.7000000000'), Decimal('1.8300000000')), (Decimal('13.3000000000'), Decimal('25.0000000000'), Decimal('1.6700000000')), (Decimal('12.5000000000'), Decimal('18.2000000000'), Decimal('1.5700000000')), (Decimal('11.5000000000'), Decimal('18.8000000000'), Decimal('1.4700000000')), (Decimal('11.7000000000'), Decimal('20.0000000000'), Decimal('1.4500000000')), (None, Decimal('43.2000000000'), Decimal('1.5500000000')), (None, Decimal('38.9000000000'), Decimal('1.8900000000')), (Decimal('23.2000000000'), Decimal('38.3000000000'), Decimal('2.0600000000')), (Decimal('19.8000000000'), Decimal('33.9000000000'), Decimal('1.8900000000')), (Decimal('22.1000000000'), Decimal('37.6000000000'), Decimal('2.0500000000')), (Decimal('21.3000000000'), Decimal('36.5000000000'), Decimal('1.8000000000')), (Decimal('21.0000000000'), Decimal('36.4000000000'), Decimal('1.8700000000')), (Decimal('20.8000000000'), Decimal('36.1000000000'), Decimal('2.0000000000')), (Decimal('20.5000000000'), Decimal('36.2000000000'), Decimal('1.7700000000')), (Decimal('19.9000000000'), Decimal('35.0000000000'), Decimal('1.8100000000')), (Decimal('19.7000000000'), Decimal('37.0000000000'), Decimal('1.6900000000')), (None, Decimal('103.4000000000'), Decimal('4.1200000000')), (None, Decimal('103.4000000000'), Decimal('4.1200000000')), (None, Decimal('97.8000000000'), Decimal('4.6200000000')), (None, Decimal('97.8000000000'), Decimal('4.6200000000')), (Decimal('1.6000000000'), Decimal('8.0000000000'), Decimal('3.0000000000')), (Decimal('1.6000000000'), Decimal('8.0000000000'), Decimal('3.0000000000')), (Decimal('25.2000000000'), Decimal('68.8000000000'), Decimal('3.4200000000')), (Decimal('25.2000000000'), Decimal('68.8000000000'), Decimal('3.4200000000')), (Decimal('27.7000000000'), Decimal('58.9000000000'), Decimal('2.7600000000')), (Decimal('27.7000000000'), Decimal('58.9000000000'), Decimal('2.7600000000')), (Decimal('24.5000000000'), Decimal('44.9000000000'), Decimal('1.9700000000')), (Decimal('24.5000000000'), Decimal('44.9000000000'), Decimal('1.9700000000')), (Decimal('18.5000000000'), Decimal('30.7000000000'), Decimal('1.9100000000')), (Decimal('18.5000000000'), Decimal('30.7000000000'), Decimal('1.9100000000')), (Decimal('16.6000000000'), Decimal('24.6000000000'), Decimal('1.8800000000')), (Decimal('16.6000000000'), Decimal('24.6000000000'), Decimal('1.8800000000')), (Decimal('6.4000000000'), Decimal('5.8000000000'), Decimal('0.9900000000')), (Decimal('6.4000000000'), Decimal('5.8000000000'), Decimal('0.9900000000')), (Decimal('1.1000000000'), Decimal('3.4000000000'), Decimal('0.5800000000')), (Decimal('1.1000000000'), Decimal('3.4000000000'), Decimal('0.5800000000')), (Decimal('1.4000000000'), Decimal('3.4000000000'), Decimal('0.5800000000')), (Decimal('1.4000000000'), Decimal('3.4000000000'), Decimal('0.5800000000')), (None, Decimal('108.1000000000'), Decimal('4.8900000000')), (None, Decimal('103.5000000000'), Decimal('4.4700000000')), (Decimal('17.7000000000'), Decimal('80.6000000000'), Decimal('3.4900000000')), (Decimal('26.4000000000'), Decimal('62.3000000000'), Decimal('2.3000000000')), (Decimal('27.9000000000'), Decimal('58.0000000000'), Decimal('2.7300000000')), (Decimal('26.1000000000'), Decimal('48.0000000000'), Decimal('2.1200000000')), (Decimal('18.2000000000'), Decimal('31.6000000000'), Decimal('1.9500000000')), (Decimal('16.1000000000'), Decimal('27.6000000000'), Decimal('1.6300000000')), (Decimal('6.4000000000'), Decimal('6.9000000000'), Decimal('1.0400000000')), (Decimal('3.6000000000'), Decimal('11.8000000000'), Decimal('0.7200000000')), (Decimal('3.8000000000'), Decimal('10.8000000000'), Decimal('0.8000000000')), (None, Decimal('110.5000000000'), Decimal('5.0100000000')), (None, Decimal('109.5000000000'), Decimal('5.0900000000')), (None, Decimal('104.1000000000'), Decimal('4.7600000000')), (None, Decimal('98.6000000000'), Decimal('4.2500000000')), (Decimal('12.8000000000'), Decimal('87.6000000000'), Decimal('4.4000000000'))]\n"
     ]
    }
   ],
   "source": [
    "data=session.query(#Profs.START_DATE,Profs.START_DEPTH,Profs.START_LAT,Profs.START_LON, \n",
    "                  Profs.Nitrate, Profs.Silicate, Profs.Phosphate\n",
    "                  ).filter(or_(\n",
    "                           Profs.Nitrate != None,\n",
    "                           Profs.Phosphate != None,\n",
    "                           Profs.Silicate != None,\n",
    "                          )).all()\n",
    "print(data)\n"
   ]
  },
  {
   "cell_type": "code",
   "execution_count": 19,
   "metadata": {
    "collapsed": false
   },
   "outputs": [],
   "source": [
    "session.close()\n",
    "engine.dispose()"
   ]
  },
  {
   "cell_type": "code",
   "execution_count": null,
   "metadata": {
    "collapsed": true
   },
   "outputs": [],
   "source": []
  }
 ],
 "metadata": {
  "kernelspec": {
   "display_name": "Python 3",
   "language": "python",
   "name": "python3"
  },
  "language_info": {
   "codemirror_mode": {
    "name": "ipython",
    "version": 3
   },
   "file_extension": ".py",
   "mimetype": "text/x-python",
   "name": "python",
   "nbconvert_exporter": "python",
   "pygments_lexer": "ipython3",
   "version": "3.4.4"
  }
 },
 "nbformat": 4,
 "nbformat_minor": 0
}
