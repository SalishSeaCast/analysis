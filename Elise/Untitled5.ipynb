{
 "cells": [
  {
   "cell_type": "code",
   "execution_count": 1,
   "metadata": {
    "collapsed": true
   },
   "outputs": [],
   "source": [
    "import netCDF4 as nc\n",
    "import matplotlib.pyplot as plt\n",
    "import numpy as np\n",
    "import os\n",
    "import re\n",
    "\n",
    "%matplotlib inline\n",
    "temp=nc.Dataset('/data/eolson/MEOPAR/SS36runs/runSOG2d_exp/bathy_level.nc')"
   ]
  },
  {
   "cell_type": "code",
   "execution_count": 2,
   "metadata": {
    "collapsed": false
   },
   "outputs": [
    {
     "name": "stdout",
     "output_type": "stream",
     "text": [
      "<class 'netCDF4._netCDF4.Dataset'>\n",
      "root group (NETCDF4 data model, file format UNDEFINED):\n",
      "    DOMAIN_number_total: 1\n",
      "    DOMAIN_number: 0\n",
      "    DOMAIN_dimensions_ids: [1 2]\n",
      "    DOMAIN_size_global: [1100   10]\n",
      "    DOMAIN_size_local: [1100   10]\n",
      "    DOMAIN_position_first: [1 1]\n",
      "    DOMAIN_position_last: [1100   10]\n",
      "    DOMAIN_halo_size_start: [0 0]\n",
      "    DOMAIN_halo_size_end: [0 0]\n",
      "    DOMAIN_type: BOX\n",
      "    dimensions(sizes): x(1100), y(10), z(40), t(1)\n",
      "    variables(dimensions): float32 \u001b[4mnav_lon\u001b[0m(y,x), float32 \u001b[4mnav_lat\u001b[0m(y,x), float32 \u001b[4mnav_lev\u001b[0m(z), float64 \u001b[4mtime_counter\u001b[0m(t), int8 \u001b[4mtmask\u001b[0m(t,z,y,x), int8 \u001b[4mumask\u001b[0m(t,z,y,x), int8 \u001b[4mvmask\u001b[0m(t,z,y,x), int8 \u001b[4mfmask\u001b[0m(t,z,y,x), int8 \u001b[4mtmaskutil\u001b[0m(t,y,x), int8 \u001b[4mumaskutil\u001b[0m(t,y,x), int8 \u001b[4mvmaskutil\u001b[0m(t,y,x), int8 \u001b[4mfmaskutil\u001b[0m(t,y,x), float32 \u001b[4mglamt\u001b[0m(t,y,x), float32 \u001b[4mglamu\u001b[0m(t,y,x), float32 \u001b[4mglamv\u001b[0m(t,y,x), float32 \u001b[4mglamf\u001b[0m(t,y,x), float32 \u001b[4mgphit\u001b[0m(t,y,x), float32 \u001b[4mgphiu\u001b[0m(t,y,x), float32 \u001b[4mgphiv\u001b[0m(t,y,x), float32 \u001b[4mgphif\u001b[0m(t,y,x), float64 \u001b[4me1t\u001b[0m(t,y,x), float64 \u001b[4me1u\u001b[0m(t,y,x), float64 \u001b[4me1v\u001b[0m(t,y,x), float64 \u001b[4me1f\u001b[0m(t,y,x), float64 \u001b[4me2t\u001b[0m(t,y,x), float64 \u001b[4me2u\u001b[0m(t,y,x), float64 \u001b[4me2v\u001b[0m(t,y,x), float64 \u001b[4me2f\u001b[0m(t,y,x), float64 \u001b[4mff\u001b[0m(t,y,x), int16 \u001b[4mmisf\u001b[0m(t,y,x), float32 \u001b[4misfdraft\u001b[0m(t,y,x), float64 \u001b[4me3t_0\u001b[0m(t,z,y,x), float64 \u001b[4me3u_0\u001b[0m(t,z,y,x), float64 \u001b[4me3v_0\u001b[0m(t,z,y,x), float64 \u001b[4me3w_0\u001b[0m(t,z,y,x), float32 \u001b[4mgdept_0\u001b[0m(t,z,y,x), float32 \u001b[4mgdepu\u001b[0m(t,z,y,x), float32 \u001b[4mgdepv\u001b[0m(t,z,y,x), float32 \u001b[4mgdepw_0\u001b[0m(t,z,y,x), float64 \u001b[4mgdept_1d\u001b[0m(t,z), float64 \u001b[4mgdepw_1d\u001b[0m(t,z), float64 \u001b[4me3t_1d\u001b[0m(t,z), float64 \u001b[4me3w_1d\u001b[0m(t,z), int16 \u001b[4mBathy_level\u001b[0m(t,y,x)\n",
      "    groups: \n",
      "\n"
     ]
    }
   ],
   "source": [
    "print(temp)"
   ]
  },
  {
   "cell_type": "code",
   "execution_count": 4,
   "metadata": {
    "collapsed": false
   },
   "outputs": [
    {
     "name": "stdout",
     "output_type": "stream",
     "text": [
      "[   0.5000003     1.5000031     2.50001144    3.50003052    4.50007057\n",
      "    5.50015068    6.50031042    7.50062323    8.50123596    9.50243282\n",
      "   10.50476551   11.50931168   12.51816654   13.53541183   14.56898212\n",
      "   15.63428783   16.76117325   18.00713539   19.48178482   21.38997841\n",
      "   24.10025597   28.22991562   34.68575668   44.51772308   58.48433304\n",
      "   76.58558655   98.06295776  121.86651611  147.08946228  173.11448669\n",
      "  199.57304382  226.26029968  253.06663513  279.93453979  306.834198\n",
      "  333.75018311  360.67453003  387.60321045  414.53408813  441.46609497]\n"
     ]
    }
   ],
   "source": [
    "print(temp.variables['nav_lev'][:])"
   ]
  },
  {
   "cell_type": "code",
   "execution_count": 7,
   "metadata": {
    "collapsed": true
   },
   "outputs": [],
   "source": [
    "t2=nc.Dataset('/data/eolson/MEOPAR/SS36runs/runPISCES/initial_conditions/ic_SS5x5.nc')"
   ]
  },
  {
   "cell_type": "code",
   "execution_count": 8,
   "metadata": {
    "collapsed": false
   },
   "outputs": [
    {
     "name": "stdout",
     "output_type": "stream",
     "text": [
      "<class 'netCDF4._netCDF4.Dataset'>\n",
      "root group (NETCDF4 data model, file format UNDEFINED):\n",
      "    dimensions(sizes): y(10), x(1100), deptht(101), time_counter(1)\n",
      "    variables(dimensions): float64 \u001b[4mtime_counter\u001b[0m(time_counter), float64 \u001b[4mdeptht\u001b[0m(deptht), float64 \u001b[4mx\u001b[0m(y,x), float64 \u001b[4my\u001b[0m(y,x), float64 \u001b[4mvotemper\u001b[0m(time_counter,deptht,y,x), float64 \u001b[4mvosaline\u001b[0m(time_counter,deptht,y,x)\n",
      "    groups: \n",
      "\n"
     ]
    }
   ],
   "source": [
    "print(t2)"
   ]
  },
  {
   "cell_type": "code",
   "execution_count": null,
   "metadata": {
    "collapsed": true
   },
   "outputs": [],
   "source": []
  }
 ],
 "metadata": {
  "kernelspec": {
   "display_name": "Python 3",
   "language": "python",
   "name": "python3"
  },
  "language_info": {
   "codemirror_mode": {
    "name": "ipython",
    "version": 3
   },
   "file_extension": ".py",
   "mimetype": "text/x-python",
   "name": "python",
   "nbconvert_exporter": "python",
   "pygments_lexer": "ipython3",
   "version": "3.4.3"
  }
 },
 "nbformat": 4,
 "nbformat_minor": 0
}
