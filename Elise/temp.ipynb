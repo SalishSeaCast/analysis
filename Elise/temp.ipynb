{
 "cells": [
  {
   "cell_type": "code",
   "execution_count": 1,
   "metadata": {
    "collapsed": false
   },
   "outputs": [],
   "source": [
    "import datetime\n",
    "import json\n",
    "import os\n",
    "import re\n",
    "\n",
    "\n",
    "nbviewer = 'http://nbviewer.ipython.org/urls'\n",
    "repo = 'bitbucket.org/salishsea/analysis/raw/tip'\n",
    "repo_dir = 'Elise'\n",
    "url = os.path.join(nbviewer, repo, repo_dir)\n",
    "title_pattern = re.compile('#{1,6} ?')\n",
    "readme = \"\"\"The IPython Notebooks in this directory are made by Elise for\n",
    "quick sharing of results.\n",
    "\n",
    "The links below are to static renderings of the notebooks via\n",
    "[nbviewer.ipython.org](http://nbviewer.ipython.org/).\n",
    "Descriptions below the links are from the first cell of the notebooks\n",
    "(if that cell contains Markdown or raw text).\n",
    "\n",
    "\"\"\""
   ]
  },
  {
   "cell_type": "code",
   "execution_count": 2,
   "metadata": {
    "collapsed": false
   },
   "outputs": [],
   "source": [
    "notebooks = (fn for fn in os.listdir('./') if fn.endswith('ipynb'))"
   ]
  },
  {
   "cell_type": "code",
   "execution_count": 3,
   "metadata": {
    "collapsed": false
   },
   "outputs": [
    {
     "name": "stdout",
     "output_type": "stream",
     "text": [
      "code\n",
      "code\n",
      "code\n",
      "code\n",
      "code\n",
      "markdown\n",
      "code\n",
      "markdown\n",
      "code\n",
      "code\n",
      "markdown\n",
      "code\n",
      "code\n",
      "code\n",
      "code\n",
      "code\n",
      "code\n",
      "code\n"
     ]
    }
   ],
   "source": [
    "ii=0\n",
    "for fn in notebooks:\n",
    "    #readme += '* ##[[{fn}]({url}/{fn})  \\n    \\n'.format(fn=fn, url=url)\n",
    "    with open(fn,'rt') as notebook:\n",
    "        contents=json.load(notebook)\n",
    "    try:\n",
    "        first_cell_type = contents['worksheets'][0]['cells'][0]['cell_type']\n",
    "    except KeyError:\n",
    "        first_cell_type = contents['cells'][0]['cell_type']\n",
    "    print first_cell_type"
   ]
  },
  {
   "cell_type": "code",
   "execution_count": 29,
   "metadata": {
    "collapsed": false
   },
   "outputs": [],
   "source": []
  },
  {
   "cell_type": "code",
   "execution_count": null,
   "metadata": {
    "collapsed": false
   },
   "outputs": [],
   "source": []
  }
 ],
 "metadata": {
  "kernelspec": {
   "display_name": "Python 2",
   "language": "python",
   "name": "python2"
  },
  "language_info": {
   "codemirror_mode": {
    "name": "ipython",
    "version": 2
   },
   "file_extension": ".py",
   "mimetype": "text/x-python",
   "name": "python",
   "nbconvert_exporter": "python",
   "pygments_lexer": "ipython2",
   "version": "2.7.9"
  }
 },
 "nbformat": 4,
 "nbformat_minor": 0
}
