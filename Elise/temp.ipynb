{
 "metadata": {
  "name": "",
  "signature": "sha256:4cada8128e6ba0d681852f693692bc552d9e246891ca184cc3122745ccfb565f"
 },
 "nbformat": 3,
 "nbformat_minor": 0,
 "worksheets": [
  {
   "cells": [
    {
     "cell_type": "code",
     "collapsed": false,
     "input": [
      "import datetime\n",
      "import json\n",
      "import os\n",
      "import re\n",
      "\n",
      "\n",
      "nbviewer = 'http://nbviewer.ipython.org/urls'\n",
      "repo = 'bitbucket.org/salishsea/analysis/raw/tip'\n",
      "repo_dir = 'Elise'\n",
      "url = os.path.join(nbviewer, repo, repo_dir)\n",
      "title_pattern = re.compile('#{1,6} ?')\n",
      "readme = \"\"\"The IPython Notebooks in this directory are made by Elise for\n",
      "quick sharing of results.\n",
      "\n",
      "The links below are to static renderings of the notebooks via\n",
      "[nbviewer.ipython.org](http://nbviewer.ipython.org/).\n",
      "Descriptions below the links are from the first cell of the notebooks\n",
      "(if that cell contains Markdown or raw text).\n",
      "\n",
      "\"\"\""
     ],
     "language": "python",
     "metadata": {},
     "outputs": [],
     "prompt_number": 1
    },
    {
     "cell_type": "code",
     "collapsed": false,
     "input": [
      "notebooks = (fn for fn in os.listdir('./') if fn.endswith('ipynb'))"
     ],
     "language": "python",
     "metadata": {},
     "outputs": [],
     "prompt_number": 2
    },
    {
     "cell_type": "code",
     "collapsed": false,
     "input": [
      "for fn in notebooks:\n",
      "    #readme += '* ##[[{fn}]({url}/{fn})  \\n    \\n'.format(fn=fn, url=url)\n",
      "    with open(fn,'rt') as notebook:\n",
      "        contents=json.load(notebook)\n",
      "    print contents['worksheets'][0]['cells'][0]['cell_type']"
     ],
     "language": "python",
     "metadata": {},
     "outputs": [
      {
       "output_type": "stream",
       "stream": "stdout",
       "text": [
        "code\n",
        "code\n",
        "code\n",
        "code\n",
        "code\n",
        "code\n",
        "code\n",
        "code\n",
        "code\n",
        "code\n",
        "code"
       ]
      },
      {
       "output_type": "stream",
       "stream": "stdout",
       "text": [
        "\n"
       ]
      },
      {
       "ename": "IndexError",
       "evalue": "list index out of range",
       "output_type": "pyerr",
       "traceback": [
        "\u001b[1;31m---------------------------------------------------------------------------\u001b[0m\n\u001b[1;31mIndexError\u001b[0m                                Traceback (most recent call last)",
        "\u001b[1;32m<ipython-input-3-ed0f0eda2c1c>\u001b[0m in \u001b[0;36m<module>\u001b[1;34m()\u001b[0m\n\u001b[0;32m      3\u001b[0m     \u001b[1;32mwith\u001b[0m \u001b[0mopen\u001b[0m\u001b[1;33m(\u001b[0m\u001b[0mfn\u001b[0m\u001b[1;33m,\u001b[0m\u001b[1;34m'rt'\u001b[0m\u001b[1;33m)\u001b[0m \u001b[1;32mas\u001b[0m \u001b[0mnotebook\u001b[0m\u001b[1;33m:\u001b[0m\u001b[1;33m\u001b[0m\u001b[0m\n\u001b[0;32m      4\u001b[0m         \u001b[0mcontents\u001b[0m\u001b[1;33m=\u001b[0m\u001b[0mjson\u001b[0m\u001b[1;33m.\u001b[0m\u001b[0mload\u001b[0m\u001b[1;33m(\u001b[0m\u001b[0mnotebook\u001b[0m\u001b[1;33m)\u001b[0m\u001b[1;33m\u001b[0m\u001b[0m\n\u001b[1;32m----> 5\u001b[1;33m     \u001b[1;32mprint\u001b[0m \u001b[0mcontents\u001b[0m\u001b[1;33m[\u001b[0m\u001b[1;34m'worksheets'\u001b[0m\u001b[1;33m]\u001b[0m\u001b[1;33m[\u001b[0m\u001b[1;36m0\u001b[0m\u001b[1;33m]\u001b[0m\u001b[1;33m[\u001b[0m\u001b[1;34m'cells'\u001b[0m\u001b[1;33m]\u001b[0m\u001b[1;33m[\u001b[0m\u001b[1;36m0\u001b[0m\u001b[1;33m]\u001b[0m\u001b[1;33m[\u001b[0m\u001b[1;34m'cell_type'\u001b[0m\u001b[1;33m]\u001b[0m\u001b[1;33m\u001b[0m\u001b[0m\n\u001b[0m",
        "\u001b[1;31mIndexError\u001b[0m: list index out of range"
       ]
      }
     ],
     "prompt_number": 3
    },
    {
     "cell_type": "code",
     "collapsed": false,
     "input": [],
     "language": "python",
     "metadata": {},
     "outputs": [],
     "prompt_number": 29
    },
    {
     "cell_type": "code",
     "collapsed": false,
     "input": [],
     "language": "python",
     "metadata": {},
     "outputs": []
    }
   ],
   "metadata": {}
  }
 ]
}