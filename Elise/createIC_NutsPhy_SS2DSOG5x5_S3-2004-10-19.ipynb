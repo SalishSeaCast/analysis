{
 "cells": [
  {
   "cell_type": "code",
   "execution_count": 1,
   "metadata": {
    "collapsed": false
   },
   "outputs": [],
   "source": [
    "import netCDF4 as nc\n",
    "from salishsea_tools import tidetools, nc_tools\n",
    "import matplotlib.pyplot as plt\n",
    "import numpy as np\n",
    "import os\n",
    "import re\n",
    "\n",
    "%matplotlib inline\n",
    "\n",
    "resultsDir='/data/eolson/MEOPAR/SS2DSOGruns/'\n"
   ]
  },
  {
   "cell_type": "code",
   "execution_count": 2,
   "metadata": {
    "collapsed": false
   },
   "outputs": [],
   "source": [
    "TS=nc.Dataset(os.path.join(resultsDir,'TS_uniform.nc'))"
   ]
  },
  {
   "cell_type": "code",
   "execution_count": 3,
   "metadata": {
    "collapsed": false
   },
   "outputs": [],
   "source": [
    "# read z, T, S into CTD\n",
    "CTD=np.loadtxt('/data/eolson/SOG/SOG-initial/ctd/SG-S3-2004-10-19.sog',skiprows=12,usecols=(1, 4))"
   ]
  },
  {
   "cell_type": "code",
   "execution_count": 4,
   "metadata": {
    "collapsed": true
   },
   "outputs": [],
   "source": [
    "nuts=np.loadtxt('/data/eolson/SOG/SOG-initial/stratogem_nuts/Nuts-S3-2004-10-19.sog', skiprows=12, usecols=(0,1,2))"
   ]
  },
  {
   "cell_type": "code",
   "execution_count": 5,
   "metadata": {
    "collapsed": false
   },
   "outputs": [],
   "source": [
    "# add z=0 at first row, repeating T,S values from next level\n",
    "data=np.vstack((CTD[0,:],CTD))\n",
    "data[0,0]=0.\n",
    "# interpolate to T-points\n",
    "data_f=(data[0:101,:]+data[1:102,:])/2\n",
    "zs=data_f[:,0]\n",
    "fluor=data_f[:,0]"
   ]
  },
  {
   "cell_type": "code",
   "execution_count": 6,
   "metadata": {
    "collapsed": false
   },
   "outputs": [
    {
     "name": "stdout",
     "output_type": "stream",
     "text": [
      "[  9.2083     8.6029     7.9975     7.3921     6.7867     6.5405     6.6535\n",
      "   6.7665     6.8795     6.9925     7.539175   8.519525   9.499875\n",
      "  10.480225  11.460575  12.440925  13.421275  14.401625  15.381975\n",
      "  16.362325  17.342675  18.323025  19.303375  20.283725  21.264075\n",
      "  22.244425  23.224775  24.205125  25.185475  26.165825  26.656     26.656\n",
      "  26.656     26.656     26.656     26.656     26.656     26.656     26.656\n",
      "  26.656     26.656     26.656     26.656     26.656     26.656     26.656\n",
      "  26.656     26.656     26.656     26.656     26.656     26.656     26.656\n",
      "  26.656     26.656     26.656     26.656     26.656     26.656     26.656\n",
      "  26.656     26.656     26.656     26.656     26.656     26.656     26.656\n",
      "  26.656     26.656     26.656     26.656     26.656     26.656     26.656\n",
      "  26.656     26.656     26.656     26.656     26.656     26.656     26.656\n",
      "  26.656     26.656     26.656     26.656     26.656     26.656     26.656\n",
      "  26.656     26.656     26.656     26.656     26.656     26.656     26.656\n",
      "  26.656     26.656     26.656     26.656     26.656     26.656   ]\n"
     ]
    }
   ],
   "source": [
    "# Remove records with negative data values (typically -99.0 or\n",
    "# -99999) because that indicates invalid data\n",
    "data_qty=nuts[:,1]\n",
    "mask = (data_qty >= 0.0)\n",
    "data_records = len(data_qty[mask])\n",
    "qty_clean = data_qty[mask]\n",
    "depth_clean= nuts[:,0][mask]\n",
    "# Calculate depth and quantity differences from field data for use\n",
    "# in interpolation\n",
    "del_depth = depth_clean[1:data_records] - depth_clean[0:data_records-1]\n",
    "del_qty = qty_clean[1:data_records] - qty_clean[0:data_records-1]\n",
    "# Interpolate quantity values at grid point depths\n",
    "i_data = 1\n",
    "NO=0.0*zs\n",
    "for i_g in range(0, len(zs)):\n",
    "    if (zs[i_g] > depth_clean[i_data]):\n",
    "        while ((zs[i_g] > depth_clean[i_data]) and (i_data<data_records-1)):\n",
    "            i_data = i_data + 1\n",
    "    NO[i_g] = qty_clean[i_data-1] + del_qty[i_data-1] \\\n",
    "        * ((zs[i_g] - depth_clean[i_data-1]) \\\n",
    "        / del_depth[i_data-1])\n",
    "print NO"
   ]
  },
  {
   "cell_type": "code",
   "execution_count": 7,
   "metadata": {
    "collapsed": false
   },
   "outputs": [
    {
     "name": "stdout",
     "output_type": "stream",
     "text": [
      "[ 26.4974    24.8682    23.239     21.6098    19.9806    19.1707    19.1801\n",
      "  19.1895    19.1989    19.2083    19.947825  21.417475  22.887125\n",
      "  24.356775  25.826425  27.296075  28.765725  30.235375  31.705025\n",
      "  33.174675  34.644325  36.113975  37.583625  39.053275  40.522925\n",
      "  41.992575  43.462225  44.931875  46.401525  47.871175  48.606     48.606\n",
      "  48.606     48.606     48.606     48.606     48.606     48.606     48.606\n",
      "  48.606     48.606     48.606     48.606     48.606     48.606     48.606\n",
      "  48.606     48.606     48.606     48.606     48.606     48.606     48.606\n",
      "  48.606     48.606     48.606     48.606     48.606     48.606     48.606\n",
      "  48.606     48.606     48.606     48.606     48.606     48.606     48.606\n",
      "  48.606     48.606     48.606     48.606     48.606     48.606     48.606\n",
      "  48.606     48.606     48.606     48.606     48.606     48.606     48.606\n",
      "  48.606     48.606     48.606     48.606     48.606     48.606     48.606\n",
      "  48.606     48.606     48.606     48.606     48.606     48.606     48.606\n",
      "  48.606     48.606     48.606     48.606     48.606     48.606   ]\n"
     ]
    }
   ],
   "source": [
    "# Remove records with negative data values (typically -99.0 or\n",
    "# -99999) because that indicates invalid data\n",
    "data_qty=nuts[:,2]\n",
    "mask = (data_qty >= 0.0)\n",
    "data_records = len(data_qty[mask])\n",
    "qty_clean = data_qty[mask]\n",
    "depth_clean= nuts[:,0][mask]\n",
    "# Calculate depth and quantity differences from field data for use\n",
    "# in interpolation\n",
    "del_depth = depth_clean[1:data_records] - depth_clean[0:data_records-1]\n",
    "del_qty = qty_clean[1:data_records] - qty_clean[0:data_records-1]\n",
    "# Interpolate quantity values at grid point depths\n",
    "i_data = 1\n",
    "Si=0.0*zs\n",
    "for i_g in range(0, len(zs)):\n",
    "    if (zs[i_g] > depth_clean[i_data]):\n",
    "        while ((zs[i_g] > depth_clean[i_data]) and (i_data<data_records-1)):\n",
    "            i_data = i_data + 1\n",
    "    Si[i_g] = qty_clean[i_data-1] + del_qty[i_data-1] \\\n",
    "        * ((zs[i_g] - depth_clean[i_data-1]) \\\n",
    "        / del_depth[i_data-1])\n",
    "print Si"
   ]
  },
  {
   "cell_type": "code",
   "execution_count": 8,
   "metadata": {
    "collapsed": false
   },
   "outputs": [
    {
     "name": "stdout",
     "output_type": "stream",
     "text": [
      "(1, 101, 5, 5)\n"
     ]
    }
   ],
   "source": [
    "# create temp and sal arrays with correct dimensions\n",
    "vecNO=np.reshape(NO,(101,1,1))\n",
    "data_NO=np.tile(vecNO,(1,1,5,5))\n",
    "vecSi=np.reshape(Si,(101,1,1))\n",
    "data_Si=np.tile(vecSi,(1,1,5,5))\n",
    "print data_Si.shape\n",
    "vecP=0.33*np.reshape(data_f[:,1],(101,1,1))\n",
    "data_PHY=np.tile(vecP,(1,1,5,5))\n",
    "data_PHY2=data_PHY\n",
    "data_NH4=0.0*data_PHY+1.0"
   ]
  },
  {
   "cell_type": "code",
   "execution_count": 9,
   "metadata": {
    "collapsed": false
   },
   "outputs": [
    {
     "name": "stdout",
     "output_type": "stream",
     "text": [
      "<type 'netCDF4.Dimension'>: name = 'y', size = 10\n",
      "\n",
      "<type 'netCDF4.Dimension'>: name = 'x', size = 1100\n",
      "\n",
      "<type 'netCDF4.Dimension'>: name = 'deptht', size = 40\n",
      "\n",
      "<type 'netCDF4.Dimension'> (unlimited): name = 'time_counter', size = 1\n",
      "\n",
      "<type 'netCDF4.Dimension'>: name = 'y', size = 5\n",
      "\n",
      "<type 'netCDF4.Dimension'>: name = 'x', size = 5\n",
      "\n",
      "<type 'netCDF4.Dimension'>: name = 'deptht', size = 101\n",
      "\n",
      "<type 'netCDF4.Dimension'> (unlimited): name = 'time_counter', size = 0\n",
      "\n"
     ]
    }
   ],
   "source": [
    "new_nuts=nc.Dataset('/data/eolson/MEOPAR/SS2DSOGruns/nuts_SOG5x5_S3-2014-10-19.nc','w')\n",
    "new_nuts.createDimension('y', 5)\n",
    "new_nuts.createDimension('x', 5)\n",
    "new_nuts.createDimension('deptht', 101)\n",
    "new_nuts.createDimension('time_counter', None)\n",
    "\n",
    "nc_tools.show_dimensions(TS)\n",
    "nc_tools.show_dimensions(new_nuts)"
   ]
  },
  {
   "cell_type": "code",
   "execution_count": 10,
   "metadata": {
    "collapsed": false
   },
   "outputs": [
    {
     "name": "stdout",
     "output_type": "stream",
     "text": [
      "<type 'netCDF4.Variable'>\n",
      "float32 time_counter(time_counter)\n",
      "    units: seconds since 2003-08-09 0:00:00\n",
      "    long_name: Time axis\n",
      "unlimited dimensions: time_counter\n",
      "current shape = (1,)\n",
      "filling on, default _FillValue of 9.96920996839e+36 used\n",
      "\n",
      "<type 'netCDF4.Variable'>\n",
      "float64 time_counter(time_counter)\n",
      "    units: seconds since 2003-08-09 0:00:00\n",
      "    long_name: Time axis\n",
      "unlimited dimensions: time_counter\n",
      "current shape = (1,)\n",
      "filling on, default _FillValue of 9.96920996839e+36 used\n",
      "\n"
     ]
    }
   ],
   "source": [
    "new_tc=new_nuts.createVariable('time_counter',float,('time_counter'),zlib=True)\n",
    "new_tc.setncattr('units',TS.variables['time_counter'].units)\n",
    "new_tc.setncattr('long_name',TS.variables['time_counter'].long_name)\n",
    "new_tc[:]=TS.variables['time_counter']\n",
    "\n",
    "print TS.variables['time_counter']\n",
    "print new_nuts.variables['time_counter']"
   ]
  },
  {
   "cell_type": "code",
   "execution_count": 11,
   "metadata": {
    "collapsed": false
   },
   "outputs": [
    {
     "name": "stdout",
     "output_type": "stream",
     "text": [
      "<type 'netCDF4.Variable'>\n",
      "float32 deptht(deptht)\n",
      "    long_name: Depth\n",
      "    units: m\n",
      "    positive: down\n",
      "unlimited dimensions: \n",
      "current shape = (40,)\n",
      "filling on, default _FillValue of 9.96920996839e+36 used\n",
      "\n",
      "<type 'netCDF4.Variable'>\n",
      "float64 deptht(deptht)\n",
      "    units: m\n",
      "    long_name: Depth\n",
      "    positive: down\n",
      "unlimited dimensions: \n",
      "current shape = (101,)\n",
      "filling on, default _FillValue of 9.96920996839e+36 used\n",
      "\n"
     ]
    }
   ],
   "source": [
    "new_z=new_nuts.createVariable('deptht',float,('deptht'),zlib=True)\n",
    "new_z.setncattr('units',TS.variables['deptht'].units)\n",
    "new_z.setncattr('long_name',TS.variables['deptht'].long_name)\n",
    "new_z.setncattr('positive',TS.variables['deptht'].positive)\n",
    "new_z[:]=zs\n",
    "\n",
    "print TS.variables['deptht']\n",
    "print new_nuts.variables['deptht']"
   ]
  },
  {
   "cell_type": "code",
   "execution_count": 12,
   "metadata": {
    "collapsed": false
   },
   "outputs": [
    {
     "name": "stdout",
     "output_type": "stream",
     "text": [
      "<type 'netCDF4.Variable'>\n",
      "float32 x(y, x)\n",
      "    long_name: streamwise\n",
      "    units: metres\n",
      "unlimited dimensions: \n",
      "current shape = (10, 1100)\n",
      "filling on, default _FillValue of 9.96920996839e+36 used\n",
      "\n",
      "<type 'netCDF4.Variable'>\n",
      "float64 x(y, x)\n",
      "    units: metres\n",
      "    long_name: streamwise\n",
      "unlimited dimensions: \n",
      "current shape = (5, 5)\n",
      "filling on, default _FillValue of 9.96920996839e+36 used\n",
      "\n"
     ]
    }
   ],
   "source": [
    "new_x=new_nuts.createVariable('x',float,('y','x'),zlib=True)\n",
    "new_x.setncattr('units',TS.variables['x'].units)\n",
    "new_x.setncattr('long_name',TS.variables['x'].long_name)\n",
    "new_x[:]=TS.variables['x'][0:5,0:5]\n",
    "\n",
    "print TS.variables['x']\n",
    "print new_nuts.variables['x']"
   ]
  },
  {
   "cell_type": "code",
   "execution_count": 13,
   "metadata": {
    "collapsed": false
   },
   "outputs": [
    {
     "name": "stdout",
     "output_type": "stream",
     "text": [
      "<type 'netCDF4.Variable'>\n",
      "float32 y(y, x)\n",
      "    long_name: spanwise\n",
      "    units: metres\n",
      "unlimited dimensions: \n",
      "current shape = (10, 1100)\n",
      "filling on, default _FillValue of 9.96920996839e+36 used\n",
      "\n",
      "<type 'netCDF4.Variable'>\n",
      "float64 y(y, x)\n",
      "    units: metres\n",
      "    long_name: spanwise\n",
      "unlimited dimensions: \n",
      "current shape = (5, 5)\n",
      "filling on, default _FillValue of 9.96920996839e+36 used\n",
      "\n"
     ]
    }
   ],
   "source": [
    "new_y=new_nuts.createVariable('y',float,('y','x'),zlib=True)\n",
    "new_y.setncattr('units',TS.variables['y'].units)\n",
    "new_y.setncattr('long_name',TS.variables['y'].long_name)\n",
    "new_y[:]=TS.variables['y'][0:5,0:5]\n",
    "\n",
    "print TS.variables['y']\n",
    "print new_nuts.variables['y']"
   ]
  },
  {
   "cell_type": "code",
   "execution_count": 14,
   "metadata": {
    "collapsed": false
   },
   "outputs": [
    {
     "name": "stdout",
     "output_type": "stream",
     "text": [
      "<type 'netCDF4.Variable'>\n",
      "float32 votemper(time_counter, deptht, y, x)\n",
      "    units: degC\n",
      "    long_name: Temperature\n",
      "    coordinates: nav_lon nav_lat deptht time_counter\n",
      "unlimited dimensions: time_counter\n",
      "current shape = (1, 40, 10, 1100)\n",
      "filling on, default _FillValue of 9.96920996839e+36 used\n",
      "\n",
      "<type 'netCDF4.Variable'>\n",
      "float64 NO3(time_counter, deptht, y, x)\n",
      "    long_name: Nitrate\n",
      "    coordinates: nav_lon nav_lat deptht time_counter\n",
      "unlimited dimensions: time_counter\n",
      "current shape = (1, 101, 5, 5)\n",
      "filling on, default _FillValue of 9.96920996839e+36 used\n",
      "\n"
     ]
    }
   ],
   "source": [
    "new_NO=new_nuts.createVariable('NO3',float,('time_counter','deptht','y','x'),zlib=True)\n",
    "#new_Tem.setncattr('units',TS.variables['NO3'].units)\n",
    "new_NO.setncattr('long_name','Nitrate')\n",
    "new_NO.setncattr('coordinates',TS.variables['votemper'].coordinates)\n",
    "new_NO[:,:,:,:]=data_NO\n",
    "print TS.variables['votemper']\n",
    "print new_nuts.variables['NO3']"
   ]
  },
  {
   "cell_type": "code",
   "execution_count": 15,
   "metadata": {
    "collapsed": false
   },
   "outputs": [
    {
     "name": "stdout",
     "output_type": "stream",
     "text": [
      "<type 'netCDF4.Variable'>\n",
      "float32 vosaline(time_counter, deptht, y, x)\n",
      "    units: none\n",
      "    long_name: Practical Salinity\n",
      "    coordinates: x y deptht time_counter\n",
      "    grid: 2D bathy\n",
      "unlimited dimensions: time_counter\n",
      "current shape = (1, 40, 10, 1100)\n",
      "filling on, default _FillValue of 9.96920996839e+36 used\n",
      "\n",
      "<type 'netCDF4.Variable'>\n",
      "float64 Si(time_counter, deptht, y, x)\n",
      "    long_name: Silicate\n",
      "    coordinates: x y deptht time_counter\n",
      "unlimited dimensions: time_counter\n",
      "current shape = (1, 101, 5, 5)\n",
      "filling on, default _FillValue of 9.96920996839e+36 used\n",
      "\n"
     ]
    }
   ],
   "source": [
    "new_Si=new_nuts.createVariable('Si',float,('time_counter','deptht','y','x'),zlib=True)\n",
    "#new_Sal.setncattr('units',TS.variables['vosaline'].units)\n",
    "new_Si.setncattr('long_name','Silicate')\n",
    "new_Si.setncattr('coordinates',TS.variables['vosaline'].coordinates)\n",
    "new_Si[:,:,:,:]=data_Si\n",
    "print TS.variables['vosaline']\n",
    "print new_nuts.variables['Si']"
   ]
  },
  {
   "cell_type": "code",
   "execution_count": 16,
   "metadata": {
    "collapsed": false
   },
   "outputs": [
    {
     "name": "stdout",
     "output_type": "stream",
     "text": [
      "<type 'netCDF4.Variable'>\n",
      "float32 vosaline(time_counter, deptht, y, x)\n",
      "    units: none\n",
      "    long_name: Practical Salinity\n",
      "    coordinates: x y deptht time_counter\n",
      "    grid: 2D bathy\n",
      "unlimited dimensions: time_counter\n",
      "current shape = (1, 40, 10, 1100)\n",
      "filling on, default _FillValue of 9.96920996839e+36 used\n",
      "\n",
      "<type 'netCDF4.Variable'>\n",
      "float64 NH4(time_counter, deptht, y, x)\n",
      "    long_name: Ammonium\n",
      "    coordinates: x y deptht time_counter\n",
      "unlimited dimensions: time_counter\n",
      "current shape = (1, 101, 5, 5)\n",
      "filling on, default _FillValue of 9.96920996839e+36 used\n",
      "\n"
     ]
    }
   ],
   "source": [
    "new_NH4=new_nuts.createVariable('NH4',float,('time_counter','deptht','y','x'),zlib=True)\n",
    "#new_Sal.setncattr('units',TS.variables['vosaline'].units)\n",
    "new_NH4.setncattr('long_name','Ammonium')\n",
    "new_NH4.setncattr('coordinates',TS.variables['vosaline'].coordinates)\n",
    "new_NH4[:,:,:,:]=data_NH4\n",
    "print TS.variables['vosaline']\n",
    "print new_nuts.variables['NH4']"
   ]
  },
  {
   "cell_type": "code",
   "execution_count": 17,
   "metadata": {
    "collapsed": false
   },
   "outputs": [
    {
     "name": "stdout",
     "output_type": "stream",
     "text": [
      "<type 'netCDF4.Variable'>\n",
      "float32 vosaline(time_counter, deptht, y, x)\n",
      "    units: none\n",
      "    long_name: Practical Salinity\n",
      "    coordinates: x y deptht time_counter\n",
      "    grid: 2D bathy\n",
      "unlimited dimensions: time_counter\n",
      "current shape = (1, 40, 10, 1100)\n",
      "filling on, default _FillValue of 9.96920996839e+36 used\n",
      "\n",
      "<type 'netCDF4.Variable'>\n",
      "float64 PHY(time_counter, deptht, y, x)\n",
      "    long_name: PHY\n",
      "    coordinates: x y deptht time_counter\n",
      "unlimited dimensions: time_counter\n",
      "current shape = (1, 101, 5, 5)\n",
      "filling on, default _FillValue of 9.96920996839e+36 used\n",
      "\n"
     ]
    }
   ],
   "source": [
    "new_PHY=new_nuts.createVariable('PHY',float,('time_counter','deptht','y','x'),zlib=True)\n",
    "#new_Sal.setncattr('units',TS.variables['vosaline'].units)\n",
    "new_PHY.setncattr('long_name','PHY')\n",
    "new_PHY.setncattr('coordinates',TS.variables['vosaline'].coordinates)\n",
    "new_PHY[:,:,:,:]=data_PHY\n",
    "print TS.variables['vosaline']\n",
    "print new_nuts.variables['PHY']"
   ]
  },
  {
   "cell_type": "code",
   "execution_count": 18,
   "metadata": {
    "collapsed": false
   },
   "outputs": [
    {
     "name": "stdout",
     "output_type": "stream",
     "text": [
      "<type 'netCDF4.Variable'>\n",
      "float32 vosaline(time_counter, deptht, y, x)\n",
      "    units: none\n",
      "    long_name: Practical Salinity\n",
      "    coordinates: x y deptht time_counter\n",
      "    grid: 2D bathy\n",
      "unlimited dimensions: time_counter\n",
      "current shape = (1, 40, 10, 1100)\n",
      "filling on, default _FillValue of 9.96920996839e+36 used\n",
      "\n",
      "<type 'netCDF4.Variable'>\n",
      "float64 PHY2(time_counter, deptht, y, x)\n",
      "    long_name: PHY2\n",
      "    coordinates: x y deptht time_counter\n",
      "unlimited dimensions: time_counter\n",
      "current shape = (1, 101, 5, 5)\n",
      "filling on, default _FillValue of 9.96920996839e+36 used\n",
      "\n"
     ]
    }
   ],
   "source": [
    "new_PHY2=new_nuts.createVariable('PHY2',float,('time_counter','deptht','y','x'),zlib=True)\n",
    "#new_Sal.setncattr('units',TS.variables['vosaline'].units)\n",
    "new_PHY2.setncattr('long_name','PHY2')\n",
    "new_PHY2.setncattr('coordinates',TS.variables['vosaline'].coordinates)\n",
    "new_PHY2[:,:,:,:]=data_PHY2\n",
    "print TS.variables['vosaline']\n",
    "print new_nuts.variables['PHY2']"
   ]
  },
  {
   "cell_type": "code",
   "execution_count": 19,
   "metadata": {
    "collapsed": false
   },
   "outputs": [],
   "source": [
    "new_nuts.title=\"\"\"SS2DSOG NO, Si, NH4, PHY, PHY2 initialization\"\"\"\n",
    "new_nuts.institution=\"\"\"\n",
    "Dept of Earth, Ocean & Atmospheric Sciences, University of British Columbia\"\"\"\n",
    "new_nuts.comment= \"\"\"\n",
    "Based on SG-S3-2004-10-19.sog and nuts-S3-2004-10-19.sog\"\"\"\n",
    "new_nuts.reference= \"\"\"\n",
    "eolson: createIC_NutsPhy_SS2DSOG5x5_S3-2004-10-19.ipynb\"\"\""
   ]
  },
  {
   "cell_type": "code",
   "execution_count": 20,
   "metadata": {
    "collapsed": false
   },
   "outputs": [
    {
     "name": "stdout",
     "output_type": "stream",
     "text": [
      "file format: NETCDF4\n",
      "title: SS2DSOG NO, Si, NH4, PHY, PHY2 initialization\n",
      "institution: \n",
      "Dept of Earth, Ocean & Atmospheric Sciences, University of British Columbia\n",
      "comment: \n",
      "Based on SG-S3-2004-10-19.sog and nuts-S3-2004-10-19.sog\n",
      "reference: \n",
      "eolson: createIC_NutsPhy_SS2DSOG5x5_S3-2004-10-19.ipynb\n"
     ]
    }
   ],
   "source": [
    "nc_tools.show_dataset_attrs(new_nuts)"
   ]
  },
  {
   "cell_type": "code",
   "execution_count": 21,
   "metadata": {
    "collapsed": false
   },
   "outputs": [],
   "source": [
    "new_nuts.close()"
   ]
  },
  {
   "cell_type": "code",
   "execution_count": 22,
   "metadata": {
    "collapsed": false
   },
   "outputs": [],
   "source": [
    "TS.close()\n"
   ]
  },
  {
   "cell_type": "code",
   "execution_count": 24,
   "metadata": {
    "collapsed": false
   },
   "outputs": [
    {
     "data": {
      "text/plain": [
       "<matplotlib.colorbar.Colorbar instance at 0x7f1750975998>"
      ]
     },
     "execution_count": 24,
     "metadata": {},
     "output_type": "execute_result"
    },
    {
     "data": {
      "image/png": "[encoded data removed]",
      "text/plain": [
       "<matplotlib.figure.Figure at 0x7f1750ac7890>"
      ]
     },
     "metadata": {},
     "output_type": "display_data"
    }
   ],
   "source": [
    "B=nc.Dataset('/data/eolson/MEOPAR/SS2DSOGruns/nuts_SOG5x5_S3-2014-10-19.nc')\n",
    "NO=B.variables['NO3']\n",
    "Si=B.variables['Si']\n",
    "PHY=B.variables['PHY']\n",
    "NH=B.variables['NH4']\n",
    "plt.pcolormesh(NO[0,:,:,3]); plt.colorbar()"
   ]
  },
  {
   "cell_type": "code",
   "execution_count": 25,
   "metadata": {
    "collapsed": false
   },
   "outputs": [
    {
     "data": {
      "text/plain": [
       "<matplotlib.colorbar.Colorbar instance at 0x7f1750796b00>"
      ]
     },
     "execution_count": 25,
     "metadata": {},
     "output_type": "execute_result"
    },
    {
     "data": {
      "image/png": "[encoded data removed]",
      "text/plain": [
       "<matplotlib.figure.Figure at 0x7f1750979e50>"
      ]
     },
     "metadata": {},
     "output_type": "display_data"
    }
   ],
   "source": [
    "\n",
    "plt.pcolormesh(Si[0,:,:,3]); plt.colorbar()"
   ]
  },
  {
   "cell_type": "code",
   "execution_count": 26,
   "metadata": {
    "collapsed": false
   },
   "outputs": [
    {
     "data": {
      "text/plain": [
       "<matplotlib.colorbar.Colorbar instance at 0x7f17506b9368>"
      ]
     },
     "execution_count": 26,
     "metadata": {},
     "output_type": "execute_result"
    },
    {
     "data": {
      "image/png": "[encoded data removed]",
      "text/plain": [
       "<matplotlib.figure.Figure at 0x7f175099be10>"
      ]
     },
     "metadata": {},
     "output_type": "display_data"
    }
   ],
   "source": [
    "\n",
    "plt.pcolormesh(NH[0,:,:,3]); plt.colorbar()"
   ]
  },
  {
   "cell_type": "code",
   "execution_count": 27,
   "metadata": {
    "collapsed": false
   },
   "outputs": [
    {
     "data": {
      "text/plain": [
       "<matplotlib.colorbar.Colorbar instance at 0x7f1750588ef0>"
      ]
     },
     "execution_count": 27,
     "metadata": {},
     "output_type": "execute_result"
    },
    {
     "data": {
      "image/png": "[encoded data removed]",
      "text/plain": [
       "<matplotlib.figure.Figure at 0x7f1750762c90>"
      ]
     },
     "metadata": {},
     "output_type": "display_data"
    }
   ],
   "source": [
    "\n",
    "plt.pcolormesh(PHY[0,:,:,3]); plt.colorbar()"
   ]
  },
  {
   "cell_type": "code",
   "execution_count": 28,
   "metadata": {
    "collapsed": false
   },
   "outputs": [
    {
     "name": "stdout",
     "output_type": "stream",
     "text": [
      "OrderedDict([(u'time_counter', <netCDF4.Variable object at 0x7f1750b53180>), (u'deptht', <netCDF4.Variable object at 0x7f1750b53050>), (u'x', <netCDF4.Variable object at 0x7f1750b53348>), (u'y', <netCDF4.Variable object at 0x7f1750b533e0>), (u'NO3', <netCDF4.Variable object at 0x7f1750b53478>), (u'Si', <netCDF4.Variable object at 0x7f1750b53510>), (u'NH4', <netCDF4.Variable object at 0x7f1750b535a8>), (u'PHY', <netCDF4.Variable object at 0x7f1750b53640>), (u'PHY2', <netCDF4.Variable object at 0x7f1750b536d8>)])\n"
     ]
    }
   ],
   "source": [
    "print B.variables"
   ]
  },
  {
   "cell_type": "code",
   "execution_count": 29,
   "metadata": {
    "collapsed": false
   },
   "outputs": [],
   "source": [
    "B.close()"
   ]
  },
  {
   "cell_type": "code",
   "execution_count": null,
   "metadata": {
    "collapsed": false
   },
   "outputs": [],
   "source": []
  },
  {
   "cell_type": "code",
   "execution_count": null,
   "metadata": {
    "collapsed": true
   },
   "outputs": [],
   "source": []
  }
 ],
 "metadata": {
  "kernelspec": {
   "display_name": "Python 2",
   "language": "python",
   "name": "python2"
  },
  "language_info": {
   "codemirror_mode": {
    "name": "ipython",
    "version": 2
   },
   "file_extension": ".py",
   "mimetype": "text/x-python",
   "name": "python",
   "nbconvert_exporter": "python",
   "pygments_lexer": "ipython2",
   "version": "2.7.10"
  }
 },
 "nbformat": 4,
 "nbformat_minor": 0
}
