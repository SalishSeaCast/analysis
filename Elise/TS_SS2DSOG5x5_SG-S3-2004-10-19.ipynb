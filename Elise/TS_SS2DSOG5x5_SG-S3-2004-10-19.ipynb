{
 "cells": [
  {
   "cell_type": "code",
   "execution_count": 1,
   "metadata": {
    "collapsed": false
   },
   "outputs": [],
   "source": [
    "import netCDF4 as nc\n",
    "from salishsea_tools import tidetools, nc_tools\n",
    "import matplotlib.pyplot as plt\n",
    "import numpy as np\n",
    "import os\n",
    "import re\n",
    "\n",
    "%matplotlib inline\n",
    "\n",
    "resultsDir='/data/eolson/MEOPAR/SS2DSOGruns/'\n"
   ]
  },
  {
   "cell_type": "code",
   "execution_count": 2,
   "metadata": {
    "collapsed": false
   },
   "outputs": [],
   "source": [
    "TS=nc.Dataset(os.path.join(resultsDir,'TS_uniform.nc'))"
   ]
  },
  {
   "cell_type": "code",
   "execution_count": 3,
   "metadata": {
    "collapsed": false
   },
   "outputs": [],
   "source": [
    "# read z, T, S into CTD\n",
    "CTD=np.loadtxt('/data/eolson/SOG/SOG-initial/ctd/SG-S3-2004-10-19.sog',skiprows=12,usecols=(1, 2, 8))"
   ]
  },
  {
   "cell_type": "code",
   "execution_count": 4,
   "metadata": {
    "collapsed": false
   },
   "outputs": [],
   "source": [
    "# add z=0 at first row, repeating T,S values from next level\n",
    "data=np.vstack((CTD[0,:],CTD))\n",
    "data[0,0]=0.\n",
    "# interpolate to T-points\n",
    "data_t=(data[0:101,:]+data[1:102,:])/2"
   ]
  },
  {
   "cell_type": "code",
   "execution_count": 5,
   "metadata": {
    "collapsed": false
   },
   "outputs": [
    {
     "name": "stdout",
     "output_type": "stream",
     "text": [
      "(1, 101, 5, 5)\n"
     ]
    }
   ],
   "source": [
    "# create temp and sal arrays with correct dimensions\n",
    "vecTem=np.reshape(data_t[:,1],(101,1,1))\n",
    "data_Tem=np.tile(vecTem,(1,1,5,5))\n",
    "vecSal=np.reshape(data_t[:,2],(101,1,1))\n",
    "data_Sal=np.tile(vecSal,(1,1,5,5))\n",
    "print data_Sal.shape"
   ]
  },
  {
   "cell_type": "code",
   "execution_count": 6,
   "metadata": {
    "collapsed": false
   },
   "outputs": [
    {
     "name": "stdout",
     "output_type": "stream",
     "text": [
      "<type 'netCDF4.Dimension'>: name = 'y', size = 10\n",
      "\n",
      "<type 'netCDF4.Dimension'>: name = 'x', size = 1100\n",
      "\n",
      "<type 'netCDF4.Dimension'>: name = 'deptht', size = 40\n",
      "\n",
      "<type 'netCDF4.Dimension'> (unlimited): name = 'time_counter', size = 1\n",
      "\n",
      "<type 'netCDF4.Dimension'>: name = 'y', size = 5\n",
      "\n",
      "<type 'netCDF4.Dimension'>: name = 'x', size = 5\n",
      "\n",
      "<type 'netCDF4.Dimension'>: name = 'deptht', size = 101\n",
      "\n",
      "<type 'netCDF4.Dimension'> (unlimited): name = 'time_counter', size = 0\n",
      "\n"
     ]
    }
   ],
   "source": [
    "new_TS=nc.Dataset('/data/eolson/MEOPAR/SS2DSOGruns/TS_5x5_SG-S3-2014-10-19.nc','w')\n",
    "new_TS.createDimension('y', 5)\n",
    "new_TS.createDimension('x', 5)\n",
    "new_TS.createDimension('deptht', 101)\n",
    "new_TS.createDimension('time_counter', None)\n",
    "\n",
    "nc_tools.show_dimensions(TS)\n",
    "nc_tools.show_dimensions(new_TS)"
   ]
  },
  {
   "cell_type": "code",
   "execution_count": 7,
   "metadata": {
    "collapsed": false
   },
   "outputs": [
    {
     "name": "stdout",
     "output_type": "stream",
     "text": [
      "<type 'netCDF4.Variable'>\n",
      "float32 time_counter(time_counter)\n",
      "    units: seconds since 2003-08-09 0:00:00\n",
      "    long_name: Time axis\n",
      "unlimited dimensions: time_counter\n",
      "current shape = (1,)\n",
      "filling on, default _FillValue of 9.96920996839e+36 used\n",
      "\n",
      "<type 'netCDF4.Variable'>\n",
      "float64 time_counter(time_counter)\n",
      "    units: seconds since 2003-08-09 0:00:00\n",
      "    long_name: Time axis\n",
      "unlimited dimensions: time_counter\n",
      "current shape = (1,)\n",
      "filling on, default _FillValue of 9.96920996839e+36 used\n",
      "\n"
     ]
    }
   ],
   "source": [
    "new_tc=new_TS.createVariable('time_counter',float,('time_counter'),zlib=True)\n",
    "new_tc.setncattr('units',TS.variables['time_counter'].units)\n",
    "new_tc.setncattr('long_name',TS.variables['time_counter'].long_name)\n",
    "new_tc[:]=TS.variables['time_counter']\n",
    "\n",
    "print TS.variables['time_counter']\n",
    "print new_TS.variables['time_counter']"
   ]
  },
  {
   "cell_type": "code",
   "execution_count": 8,
   "metadata": {
    "collapsed": false
   },
   "outputs": [
    {
     "name": "stdout",
     "output_type": "stream",
     "text": [
      "<type 'netCDF4.Variable'>\n",
      "float32 deptht(deptht)\n",
      "    long_name: Depth\n",
      "    units: m\n",
      "    positive: down\n",
      "unlimited dimensions: \n",
      "current shape = (40,)\n",
      "filling on, default _FillValue of 9.96920996839e+36 used\n",
      "\n",
      "<type 'netCDF4.Variable'>\n",
      "float64 deptht(deptht)\n",
      "    units: m\n",
      "    long_name: Depth\n",
      "    positive: down\n",
      "unlimited dimensions: \n",
      "current shape = (101,)\n",
      "filling on, default _FillValue of 9.96920996839e+36 used\n",
      "\n"
     ]
    }
   ],
   "source": [
    "new_z=new_TS.createVariable('deptht',float,('deptht'),zlib=True)\n",
    "new_z.setncattr('units',TS.variables['deptht'].units)\n",
    "new_z.setncattr('long_name',TS.variables['deptht'].long_name)\n",
    "new_z.setncattr('positive',TS.variables['deptht'].positive)\n",
    "new_z[:]=data_t[:,0]\n",
    "\n",
    "print TS.variables['deptht']\n",
    "print new_TS.variables['deptht']"
   ]
  },
  {
   "cell_type": "code",
   "execution_count": 9,
   "metadata": {
    "collapsed": false
   },
   "outputs": [
    {
     "name": "stdout",
     "output_type": "stream",
     "text": [
      "<type 'netCDF4.Variable'>\n",
      "float32 x(y, x)\n",
      "    long_name: streamwise\n",
      "    units: metres\n",
      "unlimited dimensions: \n",
      "current shape = (10, 1100)\n",
      "filling on, default _FillValue of 9.96920996839e+36 used\n",
      "\n",
      "<type 'netCDF4.Variable'>\n",
      "float64 x(y, x)\n",
      "    units: metres\n",
      "    long_name: streamwise\n",
      "unlimited dimensions: \n",
      "current shape = (5, 5)\n",
      "filling on, default _FillValue of 9.96920996839e+36 used\n",
      "\n"
     ]
    }
   ],
   "source": [
    "new_x=new_TS.createVariable('x',float,('y','x'),zlib=True)\n",
    "new_x.setncattr('units',TS.variables['x'].units)\n",
    "new_x.setncattr('long_name',TS.variables['x'].long_name)\n",
    "new_x[:]=TS.variables['x'][0:5,0:5]\n",
    "\n",
    "print TS.variables['x']\n",
    "print new_TS.variables['x']"
   ]
  },
  {
   "cell_type": "code",
   "execution_count": 10,
   "metadata": {
    "collapsed": false
   },
   "outputs": [
    {
     "name": "stdout",
     "output_type": "stream",
     "text": [
      "<type 'netCDF4.Variable'>\n",
      "float32 y(y, x)\n",
      "    long_name: spanwise\n",
      "    units: metres\n",
      "unlimited dimensions: \n",
      "current shape = (10, 1100)\n",
      "filling on, default _FillValue of 9.96920996839e+36 used\n",
      "\n",
      "<type 'netCDF4.Variable'>\n",
      "float64 y(y, x)\n",
      "    units: metres\n",
      "    long_name: spanwise\n",
      "unlimited dimensions: \n",
      "current shape = (5, 5)\n",
      "filling on, default _FillValue of 9.96920996839e+36 used\n",
      "\n"
     ]
    }
   ],
   "source": [
    "new_y=new_TS.createVariable('y',float,('y','x'),zlib=True)\n",
    "new_y.setncattr('units',TS.variables['y'].units)\n",
    "new_y.setncattr('long_name',TS.variables['y'].long_name)\n",
    "new_y[:]=TS.variables['y'][0:5,0:5]\n",
    "\n",
    "print TS.variables['y']\n",
    "print new_TS.variables['y']"
   ]
  },
  {
   "cell_type": "code",
   "execution_count": 11,
   "metadata": {
    "collapsed": false
   },
   "outputs": [
    {
     "name": "stdout",
     "output_type": "stream",
     "text": [
      "<type 'netCDF4.Variable'>\n",
      "float32 votemper(time_counter, deptht, y, x)\n",
      "    units: degC\n",
      "    long_name: Temperature\n",
      "    coordinates: nav_lon nav_lat deptht time_counter\n",
      "unlimited dimensions: time_counter\n",
      "current shape = (1, 40, 10, 1100)\n",
      "filling on, default _FillValue of 9.96920996839e+36 used\n",
      "\n",
      "<type 'netCDF4.Variable'>\n",
      "float64 votemper(time_counter, deptht, y, x)\n",
      "    units: degC\n",
      "    long_name: Temperature\n",
      "    coordinates: nav_lon nav_lat deptht time_counter\n",
      "unlimited dimensions: time_counter\n",
      "current shape = (1, 101, 5, 5)\n",
      "filling on, default _FillValue of 9.96920996839e+36 used\n",
      "\n"
     ]
    }
   ],
   "source": [
    "new_Tem=new_TS.createVariable('votemper',float,('time_counter','deptht','y','x'),zlib=True)\n",
    "new_Tem.setncattr('units',TS.variables['votemper'].units)\n",
    "new_Tem.setncattr('long_name',TS.variables['votemper'].long_name)\n",
    "new_Tem.setncattr('coordinates',TS.variables['votemper'].coordinates)\n",
    "new_Tem[:,:,:,:]=data_Tem\n",
    "print TS.variables['votemper']\n",
    "print new_TS.variables['votemper']"
   ]
  },
  {
   "cell_type": "code",
   "execution_count": 12,
   "metadata": {
    "collapsed": false
   },
   "outputs": [
    {
     "name": "stdout",
     "output_type": "stream",
     "text": [
      "<type 'netCDF4.Variable'>\n",
      "float32 vosaline(time_counter, deptht, y, x)\n",
      "    units: none\n",
      "    long_name: Practical Salinity\n",
      "    coordinates: x y deptht time_counter\n",
      "    grid: 2D bathy\n",
      "unlimited dimensions: time_counter\n",
      "current shape = (1, 40, 10, 1100)\n",
      "filling on, default _FillValue of 9.96920996839e+36 used\n",
      "\n",
      "<type 'netCDF4.Variable'>\n",
      "float64 vosaline(time_counter, deptht, y, x)\n",
      "    units: none\n",
      "    long_name: Practical Salinity\n",
      "    coordinates: x y deptht time_counter\n",
      "unlimited dimensions: time_counter\n",
      "current shape = (1, 101, 5, 5)\n",
      "filling on, default _FillValue of 9.96920996839e+36 used\n",
      "\n"
     ]
    }
   ],
   "source": [
    "new_Sal=new_TS.createVariable('vosaline',float,('time_counter','deptht','y','x'),zlib=True)\n",
    "new_Sal.setncattr('units',TS.variables['vosaline'].units)\n",
    "new_Sal.setncattr('long_name',TS.variables['vosaline'].long_name)\n",
    "new_Sal.setncattr('coordinates',TS.variables['vosaline'].coordinates)\n",
    "new_Sal[:,:,:,:]=data_Sal\n",
    "print TS.variables['vosaline']\n",
    "print new_TS.variables['vosaline']"
   ]
  },
  {
   "cell_type": "code",
   "execution_count": 13,
   "metadata": {
    "collapsed": false
   },
   "outputs": [],
   "source": [
    "new_TS.title=\"\"\"SS2DSOG 5x5 T+S initialization\"\"\"\n",
    "new_TS.institution=\"\"\"\n",
    "Dept of Earth, Ocean & Atmospheric Sciences, University of British Columbia\"\"\"\n",
    "new_TS.comment= \"\"\"\n",
    "Based on SG-S3-2004-10-19.sog\"\"\"\n",
    "new_TS.reference= \"\"\"\n",
    "eolson: TS_SS2DSOG5x5_SG-S3-2004-10-19.ipynb\"\"\""
   ]
  },
  {
   "cell_type": "code",
   "execution_count": 14,
   "metadata": {
    "collapsed": false
   },
   "outputs": [
    {
     "name": "stdout",
     "output_type": "stream",
     "text": [
      "file format: NETCDF4\n",
      "title: SS2DSOG 5x5 T+S initialization\n",
      "institution: \n",
      "Dept of Earth, Ocean & Atmospheric Sciences, University of British Columbia\n",
      "comment: \n",
      "Based on SG-S3-2004-10-19.sog\n",
      "reference: \n",
      "eolson: TS_SS2DSOG5x5_SG-S3-2004-10-19.ipynb\n"
     ]
    }
   ],
   "source": [
    "nc_tools.show_dataset_attrs(new_TS)"
   ]
  },
  {
   "cell_type": "code",
   "execution_count": 15,
   "metadata": {
    "collapsed": false
   },
   "outputs": [],
   "source": [
    "new_TS.close()"
   ]
  },
  {
   "cell_type": "code",
   "execution_count": 16,
   "metadata": {
    "collapsed": false
   },
   "outputs": [],
   "source": [
    "TS.close()"
   ]
  },
  {
   "cell_type": "code",
   "execution_count": 19,
   "metadata": {
    "collapsed": false
   },
   "outputs": [
    {
     "data": {
      "text/plain": [
       "<matplotlib.colorbar.Colorbar instance at 0x7fd4fc8e7b00>"
      ]
     },
     "execution_count": 19,
     "metadata": {},
     "output_type": "execute_result"
    },
    {
     "data": {
      "image/png": "[encoded data removed]",
      "text/plain": [
       "<matplotlib.figure.Figure at 0x7fd4fcaa9710>"
      ]
     },
     "metadata": {},
     "output_type": "display_data"
    }
   ],
   "source": [
    "B=nc.Dataset('/data/eolson/MEOPAR/SS2DSOGruns/TS_5x5_SG-S3-2014-10-19.nc')\n",
    "tem=B.variables['votemper']\n",
    "sal=B.variables['vosaline']\n",
    "plt.pcolormesh(tem[0,:,:,3]); plt.colorbar()"
   ]
  },
  {
   "cell_type": "code",
   "execution_count": 20,
   "metadata": {
    "collapsed": false
   },
   "outputs": [
    {
     "data": {
      "text/plain": [
       "<matplotlib.colorbar.Colorbar instance at 0x7fd4fc718098>"
      ]
     },
     "execution_count": 20,
     "metadata": {},
     "output_type": "execute_result"
    },
    {
     "data": {
      "image/png": "[encoded data removed]",
      "text/plain": [
       "<matplotlib.figure.Figure at 0x7fd524099110>"
      ]
     },
     "metadata": {},
     "output_type": "display_data"
    }
   ],
   "source": [
    "\n",
    "plt.pcolormesh(sal[0,:,:,3]); plt.colorbar()"
   ]
  },
  {
   "cell_type": "code",
   "execution_count": 21,
   "metadata": {
    "collapsed": false
   },
   "outputs": [
    {
     "name": "stdout",
     "output_type": "stream",
     "text": [
      "OrderedDict([(u'time_counter', <netCDF4.Variable object at 0x7fd4fcab0c30>), (u'deptht', <netCDF4.Variable object at 0x7fd4fcab0b00>), (u'x', <netCDF4.Variable object at 0x7fd4fcab0df8>), (u'y', <netCDF4.Variable object at 0x7fd4fcab0e90>), (u'votemper', <netCDF4.Variable object at 0x7fd4fcab0f28>), (u'vosaline', <netCDF4.Variable object at 0x7fd4fca3e050>)])\n"
     ]
    }
   ],
   "source": [
    "print B.variables"
   ]
  },
  {
   "cell_type": "code",
   "execution_count": 22,
   "metadata": {
    "collapsed": false
   },
   "outputs": [],
   "source": [
    "B.close()"
   ]
  },
  {
   "cell_type": "code",
   "execution_count": null,
   "metadata": {
    "collapsed": false
   },
   "outputs": [],
   "source": []
  },
  {
   "cell_type": "code",
   "execution_count": null,
   "metadata": {
    "collapsed": true
   },
   "outputs": [],
   "source": []
  }
 ],
 "metadata": {
  "kernelspec": {
   "display_name": "Python 2",
   "language": "python",
   "name": "python2"
  },
  "language_info": {
   "codemirror_mode": {
    "name": "ipython",
    "version": 2
   },
   "file_extension": ".py",
   "mimetype": "text/x-python",
   "name": "python",
   "nbconvert_exporter": "python",
   "pygments_lexer": "ipython2",
   "version": "2.7.10"
  }
 },
 "nbformat": 4,
 "nbformat_minor": 0
}
