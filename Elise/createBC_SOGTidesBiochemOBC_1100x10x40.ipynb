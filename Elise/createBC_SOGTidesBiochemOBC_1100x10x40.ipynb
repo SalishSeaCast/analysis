{
 "cells": [
  {
   "cell_type": "markdown",
   "metadata": {},
   "source": [
    "This notebook generates forcing files for the 2D domain biogeochemistry.\n",
    "Assign constant but reasonable values at the boundaries so that it will be obvious if the BC's are functioning. "
   ]
  },
  {
   "cell_type": "code",
   "execution_count": 1,
   "metadata": {
    "collapsed": false
   },
   "outputs": [],
   "source": [
    "import netCDF4 as nc\n",
    "import numpy as np\n",
    "import matplotlib.pyplot as plt\n",
    "import os\n",
    "\n",
    "%matplotlib inline\n",
    "\n",
    "resultsDir='/data/eolson/MEOPAR/SS2DSOGruns/'\n",
    "N2chl=1.600"
   ]
  },
  {
   "cell_type": "markdown",
   "metadata": {},
   "source": [
    "# Load 3D T+S\n"
   ]
  },
  {
   "cell_type": "code",
   "execution_count": 2,
   "metadata": {
    "collapsed": false
   },
   "outputs": [],
   "source": [
    "f = nc.Dataset('/ocean/eolson/MEOPAR/NEMO-3.6-inputs/initial_conditions/nuts_SOG1100x10x40.nc')\n",
    "allkeys=f.variables.keys"
   ]
  },
  {
   "cell_type": "code",
   "execution_count": 3,
   "metadata": {
    "collapsed": false
   },
   "outputs": [
    {
     "name": "stdout",
     "output_type": "stream",
     "text": [
      "time_counter, deptht, x, y, NO3, Si, NH4, PHY, PHY2, MYRI, MICZ, POC, DOC, bSi, \n"
     ]
    }
   ],
   "source": [
    "s=''\n",
    "for key in f.variables.keys():\n",
    "    s=s+key+', '\n",
    "print(s)"
   ]
  },
  {
   "cell_type": "code",
   "execution_count": 4,
   "metadata": {
    "collapsed": false
   },
   "outputs": [],
   "source": [
    "NO3_val=np.mean(f.variables['NO3'][:])\n",
    "Si_val=np.mean(f.variables['Si'][:])\n",
    "NH4_val=np.mean(f.variables['NH4'][:])\n",
    "PHY_val=np.mean(f.variables['PHY'][:])\n",
    "PHY2_val=np.mean(f.variables['PHY2'][:])\n",
    "MYRI_val=np.mean(f.variables['MYRI'][:])\n",
    "MICZ_val=np.mean(f.variables['MICZ'][:])\n",
    "POC_val=np.mean(f.variables['POC'][:])\n",
    "DOC_val=np.mean(f.variables['DOC'][:])\n",
    "bSi_val=np.mean(f.variables['bSi'][:])"
   ]
  },
  {
   "cell_type": "code",
   "execution_count": 5,
   "metadata": {
    "collapsed": false
   },
   "outputs": [
    {
     "name": "stdout",
     "output_type": "stream",
     "text": [
      "deptht, time_counter, votemper, vosaline, nbidta, nbjdta, nbrdta, \n"
     ]
    }
   ],
   "source": [
    "f2=nc.Dataset('/ocean/eolson/MEOPAR/NEMO-3.6-inputs/boundary_conditions/TS_OBC.nc')\n",
    "depth = f2.variables['deptht'][:]\n",
    "times = f2.variables['time_counter'][:]\n",
    "s=''\n",
    "for key in f2.variables.keys():\n",
    "    s=s+key+', '\n",
    "print(s)"
   ]
  },
  {
   "cell_type": "code",
   "execution_count": 6,
   "metadata": {
    "collapsed": false
   },
   "outputs": [
    {
     "name": "stdout",
     "output_type": "stream",
     "text": [
      "[   0.5000003     1.5000031     2.50001144    3.50003052    4.50007057\n",
      "    5.50015068    6.50031042    7.50062323    8.50123596    9.50243282\n",
      "   10.50476551   11.50931168   12.51816654   13.53541183   14.56898212\n",
      "   15.63428783   16.76117325   18.00713539   19.48178482   21.38997841\n",
      "   24.10025597   28.22991562   34.68575668   44.51772308   58.48433304\n",
      "   76.58558655   98.06295776  121.86651611  147.08946228  173.11448669\n",
      "  199.57304382  226.26029968  253.06663513  279.93453979  306.834198\n",
      "  333.75018311  360.67453003  387.60321045  414.53408813  441.46609497]\n",
      "[  1.   2.   3.   4.   5.   6.   7.   8.   9.  10.  11.  12.  13.  14.  15.\n",
      "  16.  17.  18.  19.  20.  21.  22.  23.  24.  25.  26.  27.  28.  29.  30.\n",
      "  31.  32.  33.  34.  35.  36.  37.  38.  39.  40.  41.  42.  43.  44.  45.\n",
      "  46.  47.  48.  49.  50.  51.  52.]\n",
      "(52, 40, 1, 100)\n"
     ]
    }
   ],
   "source": [
    "print(depth)\n",
    "print(times)\n",
    "print(f2.variables['votemper'].shape)"
   ]
  },
  {
   "cell_type": "markdown",
   "metadata": {},
   "source": [
    "#Save to netcdf"
   ]
  },
  {
   "cell_type": "code",
   "execution_count": 7,
   "metadata": {
    "collapsed": false
   },
   "outputs": [],
   "source": [
    "nemo = nc.Dataset('/ocean/eolson/MEOPAR/NEMO-3.6-inputs/boundary_conditions/bio_OBC_1100x10x40_52x40x1x100.nc', 'w', zlib=True)\n",
    "Ny=8\n",
    "#start and end points\n",
    "length_rim =10\n",
    "lengthi=Ny*length_rim\n",
    "#time and depth\n",
    "depth_levels =40\n",
    "\n",
    "# dimensions \n",
    "nemo.createDimension('xb', lengthi)\n",
    "nemo.createDimension('yb', 1)\n",
    "nemo.createDimension('time_counter', None)\n",
    "nemo.createDimension('deptht', depth_levels)\n",
    "    \n",
    "# variables\n",
    "# deptht\n",
    "deptht = nemo.createVariable('deptht', 'float32', ('deptht',))\n",
    "deptht.long_name = 'Vertical T Levels'\n",
    "deptht.units = 'm'\n",
    "deptht.positive = 'down'\n",
    "deptht.valid_range = np.array((4., 428.))\n",
    "deptht[:]=depth\n",
    "# time_counter\n",
    "time_counter = nemo.createVariable('time_counter', 'float32', ('time_counter'))\n",
    "time_counter.long_name = 'Time axis'\n",
    "time_counter.axis = 'T'\n",
    "time_counter.units = 'weeks since beginning of year'\n",
    "time_counter[:]=times\n",
    "\n",
    "# NO3\n",
    "voNO3 = nemo.createVariable('NO3', 'float32', \n",
    "                               ('time_counter','deptht','yb','xb'))\n",
    "#voNO3.units = f.variables['NO3'].units\n",
    "voNO3.long_name = f.variables['NO3'].long_name \n",
    "voNO3.grid = 'SalishSea2D'\n",
    "voNO3[:]=NO3_val\n",
    "\n",
    "#Si\n",
    "voSi = nemo.createVariable('Si', 'float32', \n",
    "                               ('time_counter','deptht','yb','xb'))\n",
    "#voSi.units = f.variables['Si'].units\n",
    "voSi.long_name = f.variables['Si'].long_name \n",
    "voSi.grid = 'SalishSea2D'\n",
    "voSi[:]=Si_val\n",
    "\n",
    "#NH4\n",
    "voNH4 = nemo.createVariable('NH4', 'float32', \n",
    "                               ('time_counter','deptht','yb','xb'))\n",
    "#voNH4.units = f.variables['NH4'].units\n",
    "voNH4.long_name = f.variables['NH4'].long_name \n",
    "voNH4.grid = 'SalishSea2D'\n",
    "voNH4[:]=NH4_val\n",
    "\n",
    "#PHY\n",
    "voPHY = nemo.createVariable('PHY', 'float32', \n",
    "                               ('time_counter','deptht','yb','xb'))\n",
    "#voPHY.units = f.variables['PHY'].units\n",
    "voPHY.long_name = f.variables['PHY'].long_name \n",
    "voPHY.grid = 'SalishSea2D'\n",
    "voPHY[:]=PHY_val\n",
    "\n",
    "#PHY2\n",
    "voPHY2 = nemo.createVariable('PHY2', 'float32', \n",
    "                               ('time_counter','deptht','yb','xb'))\n",
    "#voPHY2.units = f.variables['PHY2'].units\n",
    "voPHY2.long_name = f.variables['PHY2'].long_name \n",
    "voPHY2.grid = 'SalishSea2D'\n",
    "voPHY2[:]=PHY2_val\n",
    "\n",
    "#MYRI\n",
    "voMYRI = nemo.createVariable('MYRI', 'float32', \n",
    "                               ('time_counter','deptht','yb','xb'))\n",
    "#voMYRI.units = f.variables['MYRI'].units\n",
    "voMYRI.long_name = f.variables['MYRI'].long_name \n",
    "voMYRI.grid = 'SalishSea2D'\n",
    "voMYRI[:]=MYRI_val\n",
    "\n",
    "#MICZ\n",
    "voMICZ = nemo.createVariable('MICZ', 'float32', \n",
    "                               ('time_counter','deptht','yb','xb'))\n",
    "#voMICZ.units = f.variables['MICZ'].units\n",
    "voMICZ.long_name = f.variables['MICZ'].long_name \n",
    "voMICZ.grid = 'SalishSea2D'\n",
    "voMICZ[:]=MICZ_val\n",
    "\n",
    "#POC\n",
    "voPOC = nemo.createVariable('POC', 'float32', \n",
    "                               ('time_counter','deptht','yb','xb'))\n",
    "#voPOC.units = f.variables['POC'].units\n",
    "voPOC.long_name = f.variables['POC'].long_name \n",
    "voPOC.grid = 'SalishSea2D'\n",
    "voPOC[:]=POC_val\n",
    "\n",
    "#DOC\n",
    "voDOC = nemo.createVariable('DOC', 'float32', \n",
    "                               ('time_counter','deptht','yb','xb'))\n",
    "#voDOC.units = f.variables['DOC'].units\n",
    "voDOC.long_name = f.variables['DOC'].long_name \n",
    "voDOC.grid = 'SalishSea2D'\n",
    "voDOC[:]=DOC_val\n",
    "\n",
    "#bSi\n",
    "vobSi = nemo.createVariable('bSi', 'float32', \n",
    "                               ('time_counter','deptht','yb','xb'))\n",
    "#vobSi.units = f.variables['bSi'].units\n",
    "vobSi.long_name = f.variables['bSi'].long_name \n",
    "vobSi.grid = 'SalishSea2D'\n",
    "vobSi[:]=bSi_val\n",
    "\n",
    "#O2\n",
    "voO2 = nemo.createVariable('O2', 'float32', \n",
    "                               ('time_counter','deptht','yb','xb'))\n",
    "#voO2.units = ''\n",
    "voO2.long_name = 'oxygen'\n",
    "voO2.grid = 'SalishSea2D'\n",
    "voO2[:]=1.0\n",
    "\n",
    "\n",
    "# nbidta, ndjdta, ndrdta\n",
    "nbidta = nemo.createVariable('nbidta', 'int32' , ('yb','xb'))\n",
    "nbidta.long_name = 'i grid position'\n",
    "nbidta.units = 1\n",
    "nbjdta = nemo.createVariable('nbjdta', 'int32' , ('yb','xb'))\n",
    "nbjdta.long_name = 'j grid position'\n",
    "nbjdta.units = 1\n",
    "nbrdta = nemo.createVariable('nbrdta', 'int32' , ('yb','xb'))\n",
    "nbrdta.long_name = 'position from boundary'\n",
    "nbrdta.units = 1\n",
    "    \n",
    "for ir in range(length_rim):\n",
    "    nbidta[0,ir*Ny:(ir+1)*Ny] = ir\n",
    "    nbjdta[0,ir*Ny:(ir+1)*Ny] = range(Ny)\n",
    "    nbrdta[0,ir*Ny:(ir+1)*Ny] = ir\n",
    "    \n",
    "nemo.close()"
   ]
  },
  {
   "cell_type": "code",
   "execution_count": null,
   "metadata": {
    "collapsed": true
   },
   "outputs": [],
   "source": []
  },
  {
   "cell_type": "code",
   "execution_count": null,
   "metadata": {
    "collapsed": true
   },
   "outputs": [],
   "source": []
  },
  {
   "cell_type": "code",
   "execution_count": null,
   "metadata": {
    "collapsed": true
   },
   "outputs": [],
   "source": []
  },
  {
   "cell_type": "code",
   "execution_count": null,
   "metadata": {
    "collapsed": true
   },
   "outputs": [],
   "source": []
  }
 ],
 "metadata": {
  "kernelspec": {
   "display_name": "Python 3",
   "language": "python",
   "name": "python3"
  },
  "language_info": {
   "codemirror_mode": {
    "name": "ipython",
    "version": 3
   },
   "file_extension": ".py",
   "mimetype": "text/x-python",
   "name": "python",
   "nbconvert_exporter": "python",
   "pygments_lexer": "ipython3",
   "version": "3.4.3"
  }
 },
 "nbformat": 4,
 "nbformat_minor": 0
}
