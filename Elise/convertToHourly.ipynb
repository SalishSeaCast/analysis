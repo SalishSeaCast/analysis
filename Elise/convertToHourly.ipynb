{
 "cells": [
  {
   "cell_type": "markdown",
   "metadata": {},
   "source": [
    "SOGComp is SOG run for comparison with SS2DSOG5x5\n",
    "- compare starting values to check initialization of IC's"
   ]
  },
  {
   "cell_type": "code",
   "execution_count": 1,
   "metadata": {
    "collapsed": false
   },
   "outputs": [],
   "source": [
    "import numpy as np\n",
    "import pandas as pd\n",
    "import datetime as dtm\n",
    "import matplotlib.pyplot as plt\n",
    "import matplotlib.dates as dts\n",
    "import netCDF4 as nc\n",
    "import os\n",
    "import re\n",
    "import pytz\n",
    "import shutil\n",
    "\n",
    "%matplotlib inline"
   ]
  },
  {
   "cell_type": "code",
   "execution_count": null,
   "metadata": {
    "collapsed": false
   },
   "outputs": [],
   "source": [
    "\n",
    "resultsDir='/data/eolson/MEOPAR/SS36runs/runSOG2D_00/'\n",
    "fname='SOG2D_1ts_20041019_20041019_ptrc_T.nc'\n",
    "fname2='SOG2D_1ts_20041019_20041019_ptrc_T_shortened.nc'\n",
    "f=nc.Dataset(os.path.join(resultsDir,fname),'r')\n",
    "f2=nc.Dataset(os.path.join(resultsDir,fname2),'w')\n",
    "dims = f.dimensions\n",
    "for idim in dims:\n",
    "    if idim=='time_counter':\n",
    "        f2.createDimension('time_counter',None)\n",
    "    else:\n",
    "        f2.createDimension(idim)\n",
    "#print f2.dimensions\n",
    "#print f2.dimensions['time_counter']\n",
    "#print f.variables['time_counter'].dimensions\n",
    "fkeys=f.variables.keys()\n",
    "for ik in fkeys:\n",
    "    f2var=f2.createVariable(ik,f.variables[ik].datatype,f.variables[ik].dimensions)\n",
    "    if f.variables[ik].shape[0]==21600:\n",
    "        if np.size(f.variables[ik].shape) ==4:\n",
    "            f2var[:,:,:,:]=f.variables[ik][::1800,:,:,:]\n",
    "        elif np.size(f.variables[ik].shape)==1:\n",
    "            f2var[:]=f.variables[ik][::1800]\n",
    "    else:\n",
    "        f2var[:]=f.variables[ik][:]\n",
    "#print f2.variables\n",
    "print (f2.variables['PHY2'][46,:,2,2])\n",
    "f.close()\n",
    "f2.close()"
   ]
  },
  {
   "cell_type": "code",
   "execution_count": null,
   "metadata": {
    "collapsed": false
   },
   "outputs": [],
   "source": []
  },
  {
   "cell_type": "code",
   "execution_count": null,
   "metadata": {
    "collapsed": false
   },
   "outputs": [],
   "source": []
  },
  {
   "cell_type": "code",
   "execution_count": null,
   "metadata": {
    "collapsed": false
   },
   "outputs": [],
   "source": [
    "\n",
    "\n"
   ]
  },
  {
   "cell_type": "code",
   "execution_count": null,
   "metadata": {
    "collapsed": false
   },
   "outputs": [],
   "source": []
  },
  {
   "cell_type": "code",
   "execution_count": null,
   "metadata": {
    "collapsed": false
   },
   "outputs": [],
   "source": [
    "\n"
   ]
  },
  {
   "cell_type": "code",
   "execution_count": null,
   "metadata": {
    "collapsed": true
   },
   "outputs": [],
   "source": []
  },
  {
   "cell_type": "code",
   "execution_count": null,
   "metadata": {
    "collapsed": true
   },
   "outputs": [],
   "source": []
  },
  {
   "cell_type": "code",
   "execution_count": null,
   "metadata": {
    "collapsed": true
   },
   "outputs": [],
   "source": []
  }
 ],
 "metadata": {
  "kernelspec": {
   "display_name": "Python 3",
   "language": "python",
   "name": "python3"
  },
  "language_info": {
   "codemirror_mode": {
    "name": "ipython",
    "version": 3
   },
   "file_extension": ".py",
   "mimetype": "text/x-python",
   "name": "python",
   "nbconvert_exporter": "python",
   "pygments_lexer": "ipython3",
   "version": "3.4.3"
  }
 },
 "nbformat": 4,
 "nbformat_minor": 0
}
