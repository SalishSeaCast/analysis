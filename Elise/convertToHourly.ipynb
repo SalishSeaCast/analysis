{
 "cells": [
  {
   "cell_type": "markdown",
   "metadata": {},
   "source": [
    "SOGComp is SOG run for comparison with SS2DSOG5x5\n",
    "- compare starting values to check initialization of IC's"
   ]
  },
  {
   "cell_type": "code",
   "execution_count": 1,
   "metadata": {
    "collapsed": false
   },
   "outputs": [],
   "source": [
    "import numpy as np\n",
    "import pandas as pd\n",
    "import datetime as dtm\n",
    "import matplotlib.pyplot as plt\n",
    "import matplotlib.dates as dts\n",
    "import netCDF4 as nc\n",
    "import os\n",
    "import re\n",
    "import pytz\n",
    "import shutil\n",
    "\n",
    "%matplotlib inline"
   ]
  },
  {
   "cell_type": "code",
   "execution_count": 2,
   "metadata": {
    "collapsed": false
   },
   "outputs": [
    {
     "name": "stdout",
     "output_type": "stream",
     "text": [
      "1800\n"
     ]
    }
   ],
   "source": [
    "print 5*360\n",
    "resultsDir='/data/eolson/MEOPAR/SS2DSOGruns/run5x5_15SmallT/'\n",
    "fname='SalishSea_1h_20041019_20041020_ptrc_T.nc'\n",
    "fname2='SalishSea_1h_20041019_20041020_ptrc_T_shortened.nc'\n",
    "f=nc.Dataset(os.path.join(resultsDir,fname),'r')\n",
    "f2=nc.Dataset(os.path.join(resultsDir,fname2),'w')"
   ]
  },
  {
   "cell_type": "code",
   "execution_count": 3,
   "metadata": {
    "collapsed": false
   },
   "outputs": [
    {
     "name": "stdout",
     "output_type": "stream",
     "text": [
      "OrderedDict([(u'x', <netCDF4.Dimension object at 0x7f2839897780>), (u'y', <netCDF4.Dimension object at 0x7f2839897910>), (u'deptht', <netCDF4.Dimension object at 0x7f28398978c0>), ('time_counter', <netCDF4.Dimension object at 0x7f2839897870>)])\n"
     ]
    }
   ],
   "source": [
    "dims = f.dimensions\n",
    "for idim in dims:\n",
    "    if idim=='time_counter':\n",
    "        f2.createDimension('time_counter',None)\n",
    "    else:\n",
    "        f2.createDimension(idim)\n",
    "print f2.dimensions"
   ]
  },
  {
   "cell_type": "code",
   "execution_count": 4,
   "metadata": {
    "collapsed": false
   },
   "outputs": [
    {
     "name": "stdout",
     "output_type": "stream",
     "text": [
      "<type 'netCDF4.Dimension'> (unlimited): name = 'time_counter', size = 0\n",
      "\n",
      "(u'time_counter',)\n"
     ]
    }
   ],
   "source": [
    "print f2.dimensions['time_counter']\n",
    "print f.variables['time_counter'].dimensions"
   ]
  },
  {
   "cell_type": "code",
   "execution_count": 5,
   "metadata": {
    "collapsed": false
   },
   "outputs": [
    {
     "name": "stdout",
     "output_type": "stream",
     "text": [
      "OrderedDict([(u'nav_lon', <netCDF4.Variable object at 0x7f28398a1478>), (u'nav_lat', <netCDF4.Variable object at 0x7f28398a1510>), (u'deptht', <netCDF4.Variable object at 0x7f28398a15a8>), (u'time_counter', <netCDF4.Variable object at 0x7f28398a1640>), (u'DIC', <netCDF4.Variable object at 0x7f28398a16d8>), (u'Alkalini', <netCDF4.Variable object at 0x7f28398a1770>), (u'O2', <netCDF4.Variable object at 0x7f28398a1808>), (u'CaCO3', <netCDF4.Variable object at 0x7f28398a18a0>), (u'PO4', <netCDF4.Variable object at 0x7f28398a1938>), (u'POC', <netCDF4.Variable object at 0x7f28398a19d0>), (u'Si', <netCDF4.Variable object at 0x7f28398a1a68>), (u'PHY', <netCDF4.Variable object at 0x7f28398a1b00>), (u'ZOO', <netCDF4.Variable object at 0x7f28398a1b98>), (u'DOC', <netCDF4.Variable object at 0x7f28398a1c30>), (u'PHY2', <netCDF4.Variable object at 0x7f28398a1cc8>), (u'ZOO2', <netCDF4.Variable object at 0x7f28398a1d60>), (u'DSi', <netCDF4.Variable object at 0x7f28398a1df8>), (u'Fer', <netCDF4.Variable object at 0x7f28398a1e90>), (u'BFe', <netCDF4.Variable object at 0x7f28398a1f28>), (u'GOC', <netCDF4.Variable object at 0x7f28398a7050>), (u'SFe', <netCDF4.Variable object at 0x7f28398a70e8>), (u'DFe', <netCDF4.Variable object at 0x7f28398a7180>), (u'GSi', <netCDF4.Variable object at 0x7f28398a7218>), (u'NFe', <netCDF4.Variable object at 0x7f28398a72b0>), (u'NCHL', <netCDF4.Variable object at 0x7f28398a7348>), (u'DCHL', <netCDF4.Variable object at 0x7f28398a73e0>), (u'NO3', <netCDF4.Variable object at 0x7f28398a7478>), (u'NH4', <netCDF4.Variable object at 0x7f28398a7510>)])\n"
     ]
    }
   ],
   "source": [
    "fkeys=f.variables.keys()\n",
    "for ik in fkeys:\n",
    "    f2var=f2.createVariable(ik,f.variables[ik].datatype,f.variables[ik].dimensions)\n",
    "    if f.variables[ik].shape[0]==86400:\n",
    "        if np.size(f.variables[ik].shape) ==4:\n",
    "            f2var[:,:,:,:]=f.variables[ik][::1800,:,:,:]\n",
    "        elif np.size(f.variables[ik].shape)==1:\n",
    "            f2var[:]=f.variables[ik][::1800]\n",
    "    else:\n",
    "        f2var[:]=f.variables[ik][:]\n",
    "print f2.variables\n",
    "\n"
   ]
  },
  {
   "cell_type": "code",
   "execution_count": 6,
   "metadata": {
    "collapsed": false
   },
   "outputs": [
    {
     "name": "stdout",
     "output_type": "stream",
     "text": [
      "[ 0.53688204  1.01216924  1.17204618  1.13778186  1.07433951  1.06348348\n",
      "  1.07829022  1.06837165  1.0050683   0.87058794  0.70947003  0.58129627\n",
      "  0.49812207  0.44503656  0.40618816  0.37179077  0.34340847  0.32067403\n",
      "  0.30040002  0.281414    0.25913537  0.23180102  0.20831063  0.19224089\n",
      "  0.17555138  0.15525013  0.13835335  0.13000737  0.12847136  0.12845001\n",
      "  0.12617292  0.12067118  0.11470895  0.11198255  0.11250359  0.1055482\n",
      "  0.08955085  0.07597075  0.06976996  0.06668673  0.06136563  0.05442226\n",
      "  0.04975501  0.04794028  0.04710984  0.0455887   0.04265108  0.03938492\n",
      "  0.03648748  0.03433241  0.03304956  0.03245965  0.03248986  0.03246709\n",
      "  0.0322785   0.0321945   0.03226085  0.03208793  0.03072154  0.02872074\n",
      "  0.02744415  0.02721066  0.02720791  0.02703864  0.02699789  0.02730824\n",
      "  0.02748945  0.02684625  0.02560185  0.02479191  0.02435423  0.02395329\n",
      "  0.02367251  0.02376264  0.0240657   0.02416087  0.024282    0.02453055\n",
      "  0.02458608  0.02375764  0.02282784  0.02239832  0.02186607  0.02143686\n",
      "  0.02164097  0.02184232  0.02161541  0.02189662  0.02271417  0.02318454\n",
      "  0.02317113  0.02280218  0.02193259  0.02105796  0.02111079  0.02147642\n",
      "  0.02117152  0.02086976  0.02032146  0.01904711  0.        ]\n"
     ]
    }
   ],
   "source": [
    "print f2.variables['PHY2'][46,:,2,2]"
   ]
  },
  {
   "cell_type": "code",
   "execution_count": 7,
   "metadata": {
    "collapsed": false
   },
   "outputs": [],
   "source": [
    "f.close()\n",
    "f2.close()\n"
   ]
  },
  {
   "cell_type": "code",
   "execution_count": null,
   "metadata": {
    "collapsed": true
   },
   "outputs": [],
   "source": []
  },
  {
   "cell_type": "code",
   "execution_count": null,
   "metadata": {
    "collapsed": true
   },
   "outputs": [],
   "source": []
  },
  {
   "cell_type": "code",
   "execution_count": null,
   "metadata": {
    "collapsed": true
   },
   "outputs": [],
   "source": []
  }
 ],
 "metadata": {
  "kernelspec": {
   "display_name": "Python 2",
   "language": "python",
   "name": "python2"
  },
  "language_info": {
   "codemirror_mode": {
    "name": "ipython",
    "version": 2
   },
   "file_extension": ".py",
   "mimetype": "text/x-python",
   "name": "python",
   "nbconvert_exporter": "python",
   "pygments_lexer": "ipython2",
   "version": "2.7.10"
  }
 },
 "nbformat": 4,
 "nbformat_minor": 0
}
