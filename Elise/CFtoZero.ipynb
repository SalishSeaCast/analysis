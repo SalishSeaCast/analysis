{
 "metadata": {
  "name": "",
  "signature": "sha256:cedaa794959af67698c5c2faf6da46e42881fd438994cf69ee1a66129eaf629b"
 },
 "nbformat": 3,
 "nbformat_minor": 0,
 "worksheets": [
  {
   "cells": [
    {
     "cell_type": "markdown",
     "metadata": {},
     "source": [
      "<span style=\"background-color:black; color:cyan; vertical-align: middle; font-size:20px\">Script to read in cloud forcing SOG input file, replace all temperature readings with constant value (12.0611=surface value in SG-S3-2004-10-19.sog CTD file), and write to a new file.</span>"
     ]
    },
    {
     "cell_type": "code",
     "collapsed": false,
     "input": [
      "import numpy as np\n",
      "import matplotlib.pyplot as plt\n",
      "import os\n",
      "import re"
     ],
     "language": "python",
     "metadata": {},
     "outputs": [],
     "prompt_number": 1
    },
    {
     "cell_type": "markdown",
     "metadata": {},
     "source": [
      "Edit path to base directory and filenames:"
     ]
    },
    {
     "cell_type": "code",
     "collapsed": false,
     "input": [
      "basedir='/data/eolson/SOG/SOG-forcing/met/'\n",
      "fname0='YVRhistCF'\n",
      "fname='CFZero'"
     ],
     "language": "python",
     "metadata": {},
     "outputs": [],
     "prompt_number": 2
    },
    {
     "cell_type": "markdown",
     "metadata": {},
     "source": [
      "<span style=\"background-color:black; color:cyan; vertical-align: middle; padding:2px 0; font-size:20px\">read data from initial file</span>"
     ]
    },
    {
     "cell_type": "code",
     "collapsed": false,
     "input": [
      "f0=open(os.path.join(basedir,fname0),'r')\n",
      "data=f0.read()\n",
      "f0.close()"
     ],
     "language": "python",
     "metadata": {},
     "outputs": [],
     "prompt_number": 3
    },
    {
     "cell_type": "markdown",
     "metadata": {},
     "source": [
      "<span style=\"background-color:black; color:cyan; vertical-align: middle; padding:2px 0; font-size:20px\">Create strings containing regular expression to match and its replacement: </span>"
     ]
    },
    {
     "cell_type": "code",
     "collapsed": false,
     "input": [
      "seg=r'[0-9.]+\\s+'\n",
      "segf=seg\n",
      "repl0='0.0 '\n",
      "repl=repl0"
     ],
     "language": "python",
     "metadata": {},
     "outputs": [],
     "prompt_number": 4
    },
    {
     "cell_type": "code",
     "collapsed": false,
     "input": [
      "nseg=1;\n",
      "while nseg<23:\n",
      "    segf=segf+seg\n",
      "    repl=repl+repl0\n",
      "    nseg=nseg+1\n",
      "segf=segf+r'[0-9.]+\\s*\\n'\n",
      "repl=repl+repl0+'\\n'"
     ],
     "language": "python",
     "metadata": {},
     "outputs": [],
     "prompt_number": 5
    },
    {
     "cell_type": "code",
     "collapsed": false,
     "input": [
      "print segf"
     ],
     "language": "python",
     "metadata": {},
     "outputs": [
      {
       "output_type": "stream",
       "stream": "stdout",
       "text": [
        "[0-9.]+\\s+[0-9.]+\\s+[0-9.]+\\s+[0-9.]+\\s+[0-9.]+\\s+[0-9.]+\\s+[0-9.]+\\s+[0-9.]+\\s+[0-9.]+\\s+[0-9.]+\\s+[0-9.]+\\s+[0-9.]+\\s+[0-9.]+\\s+[0-9.]+\\s+[0-9.]+\\s+[0-9.]+\\s+[0-9.]+\\s+[0-9.]+\\s+[0-9.]+\\s+[0-9.]+\\s+[0-9.]+\\s+[0-9.]+\\s+[0-9.]+\\s+[0-9.]+\\s*\\n\n"
       ]
      }
     ],
     "prompt_number": 6
    },
    {
     "cell_type": "code",
     "collapsed": false,
     "input": [
      "p=re.compile(segf)"
     ],
     "language": "python",
     "metadata": {},
     "outputs": [],
     "prompt_number": 7
    },
    {
     "cell_type": "code",
     "collapsed": false,
     "input": [
      "test='asdf   asdf  1. 3.3 234 234   234.333 234. 645. 345.453 77777.  234.. 2343. 1.0 2.0 3.00 4.00 5.00 6.0 \\\n",
      "7.0 8.0 9.0 10.000   11.0 12.0 13.0 14 15 16   17 18 19 20 21.000 22.0   23.0 24.000  \\n\\\n",
      "asdf   asdf  1. 3.3 234 234   234.333 234. 645. 345.453 77777.  234.. 2343. 1.0 2.0 3.00 4.00 5.00 6.0 \\\n",
      "7.0 8.0 9.0 10.000   11.0 12.0 13.0 14 15 16   17 18 19 20 21.000 22.0   23.0 24.000  \\n\\\n",
      "asdf   asdf  1. 3.3 234 234   234.333 234. 645. 345.453 77777.  234.. 2343. 1.0 2.0 3.00 4.00 5.00 6.0 \\\n",
      "7.0 8.0 9.0 10.000   11.0 12.0 13.0 14 15 16   17 18 19 20 21.000 22.0   23.0 24.000  \\n'"
     ],
     "language": "python",
     "metadata": {},
     "outputs": [],
     "prompt_number": 8
    },
    {
     "cell_type": "code",
     "collapsed": false,
     "input": [
      "print test"
     ],
     "language": "python",
     "metadata": {},
     "outputs": [
      {
       "output_type": "stream",
       "stream": "stdout",
       "text": [
        "asdf   asdf  1. 3.3 234 234   234.333 234. 645. 345.453 77777.  234.. 2343. 1.0 2.0 3.00 4.00 5.00 6.0 7.0 8.0 9.0 10.000   11.0 12.0 13.0 14 15 16   17 18 19 20 21.000 22.0   23.0 24.000  \n",
        "asdf   asdf  1. 3.3 234 234   234.333 234. 645. 345.453 77777.  234.. 2343. 1.0 2.0 3.00 4.00 5.00 6.0 7.0 8.0 9.0 10.000   11.0 12.0 13.0 14 15 16   17 18 19 20 21.000 22.0   23.0 24.000  \n",
        "asdf   asdf  1. 3.3 234 234   234.333 234. 645. 345.453 77777.  234.. 2343. 1.0 2.0 3.00 4.00 5.00 6.0 7.0 8.0 9.0 10.000   11.0 12.0 13.0 14 15 16   17 18 19 20 21.000 22.0   23.0 24.000  \n",
        "\n"
       ]
      }
     ],
     "prompt_number": 9
    },
    {
     "cell_type": "markdown",
     "metadata": {},
     "source": [
      "<span style=\"background-color:black; color:cyan; vertical-align: middle; padding:2px 0; font-size:20px\">Test regular expression matching and replacement</span>"
     ]
    },
    {
     "cell_type": "code",
     "collapsed": false,
     "input": [
      "p.findall(test)"
     ],
     "language": "python",
     "metadata": {},
     "outputs": [
      {
       "metadata": {},
       "output_type": "pyout",
       "prompt_number": 10,
       "text": [
        "['1.0 2.0 3.00 4.00 5.00 6.0 7.0 8.0 9.0 10.000   11.0 12.0 13.0 14 15 16   17 18 19 20 21.000 22.0   23.0 24.000  \\n',\n",
        " '1.0 2.0 3.00 4.00 5.00 6.0 7.0 8.0 9.0 10.000   11.0 12.0 13.0 14 15 16   17 18 19 20 21.000 22.0   23.0 24.000  \\n',\n",
        " '1.0 2.0 3.00 4.00 5.00 6.0 7.0 8.0 9.0 10.000   11.0 12.0 13.0 14 15 16   17 18 19 20 21.000 22.0   23.0 24.000  \\n']"
       ]
      }
     ],
     "prompt_number": 10
    },
    {
     "cell_type": "code",
     "collapsed": false,
     "input": [
      "print p.sub(repl,test)"
     ],
     "language": "python",
     "metadata": {},
     "outputs": [
      {
       "output_type": "stream",
       "stream": "stdout",
       "text": [
        "asdf   asdf  1. 3.3 234 234   234.333 234. 645. 345.453 77777.  234.. 2343. 0.0 0.0 0.0 0.0 0.0 0.0 0.0 0.0 0.0 0.0 0.0 0.0 0.0 0.0 0.0 0.0 0.0 0.0 0.0 0.0 0.0 0.0 0.0 0.0 \n",
        "asdf   asdf  1. 3.3 234 234   234.333 234. 645. 345.453 77777.  234.. 2343. 0.0 0.0 0.0 0.0 0.0 0.0 0.0 0.0 0.0 0.0 0.0 0.0 0.0 0.0 0.0 0.0 0.0 0.0 0.0 0.0 0.0 0.0 0.0 0.0 \n",
        "asdf   asdf  1. 3.3 234 234   234.333 234. 645. 345.453 77777.  234.. 2343. 0.0 0.0 0.0 0.0 0.0 0.0 0.0 0.0 0.0 0.0 0.0 0.0 0.0 0.0 0.0 0.0 0.0 0.0 0.0 0.0 0.0 0.0 0.0 0.0 \n",
        "\n"
       ]
      }
     ],
     "prompt_number": 11
    },
    {
     "cell_type": "markdown",
     "metadata": {},
     "source": [
      "<span style=\"background-color:black; color:cyan; vertical-align: middle; padding:2px 0; font-size:20px\">Execute replacement:</span>"
     ]
    },
    {
     "cell_type": "code",
     "collapsed": false,
     "input": [
      "dataf=p.sub(repl,data)"
     ],
     "language": "python",
     "metadata": {},
     "outputs": [],
     "prompt_number": 12
    },
    {
     "cell_type": "markdown",
     "metadata": {},
     "source": [
      "<span style=\"background-color:black; color:cyan; vertical-align: middle; padding:2px 0; font-size:20px\">Write result to file</span>"
     ]
    },
    {
     "cell_type": "code",
     "collapsed": false,
     "input": [
      "f0=open(os.path.join(basedir,fname),'w')\n",
      "f0.write(dataf)\n",
      "f0.close()"
     ],
     "language": "python",
     "metadata": {},
     "outputs": [],
     "prompt_number": 13
    },
    {
     "cell_type": "code",
     "collapsed": false,
     "input": [],
     "language": "python",
     "metadata": {},
     "outputs": [],
     "prompt_number": 13
    },
    {
     "cell_type": "code",
     "collapsed": false,
     "input": [],
     "language": "python",
     "metadata": {},
     "outputs": [],
     "prompt_number": 13
    },
    {
     "cell_type": "code",
     "collapsed": false,
     "input": [],
     "language": "python",
     "metadata": {},
     "outputs": [],
     "prompt_number": 13
    },
    {
     "cell_type": "code",
     "collapsed": false,
     "input": [],
     "language": "python",
     "metadata": {},
     "outputs": []
    }
   ],
   "metadata": {}
  }
 ]
}