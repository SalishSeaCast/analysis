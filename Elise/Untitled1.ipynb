{
 "cells": [
  {
   "cell_type": "code",
   "execution_count": 1,
   "metadata": {
    "collapsed": true
   },
   "outputs": [],
   "source": [
    "from pykrige.ok3d import OrdinaryKriging3D\n",
    "from pykrige.uk3d import UniversalKriging3D\n",
    "import numpy as np"
   ]
  },
  {
   "cell_type": "code",
   "execution_count": 3,
   "metadata": {
    "collapsed": false
   },
   "outputs": [
    {
     "name": "stdout",
     "output_type": "stream",
     "text": [
      "class UniversalKriging3D\n",
      "    Three-dimensional universal kriging\n",
      "\n",
      "    Dependencies:\n",
      "        numpy\n",
      "        scipy\n",
      "        matplotlib\n",
      "\n",
      "    Inputs:\n",
      "        X (array-like): X-coordinates of data points.\n",
      "        Y (array-like): Y-coordinates of data points.\n",
      "        Z (array-like): Z-coordinates of data points.\n",
      "        Val (array-like): Values at data points.\n",
      "\n",
      "        variogram_model (string, optional): Specified which variogram model to use;\n",
      "            may be one of the following: linear, power, gaussian, spherical,\n",
      "            exponential. Default is linear variogram model. To utilize as custom variogram\n",
      "            model, specify 'custom'; you must also provide variogram_parameters and\n",
      "            variogram_function.\n",
      "        variogram_parameters (list, optional): Parameters that define the\n",
      "            specified variogram model. If not provided, parameters will be automatically\n",
      "            calculated such that the root-mean-square error for the fit variogram\n",
      "            function is minimized.\n",
      "                linear - [slope, nugget]\n",
      "                power - [scale, exponent, nugget]\n",
      "                gaussian - [sill, range, nugget]\n",
      "                spherical - [sill, range, nugget]\n",
      "                exponential - [sill, range, nugget]\n",
      "            For a custom variogram model, the parameters are required, as custom variogram\n",
      "            models currently will not automatically be fit to the data. The code does not\n",
      "            check that the provided list contains the appropriate number of parameters for\n",
      "            the custom variogram model, so an incorrect parameter list in such a case will\n",
      "            probably trigger an esoteric exception someplace deep in the code.\n",
      "        variogram_function (callable, optional): A callable function that must be provided\n",
      "            if variogram_model is specified as 'custom'. The function must take only two\n",
      "            arguments: first, a list of parameters for the variogram model; second, the\n",
      "            distances at which to calculate the variogram model. The list provided in\n",
      "            variogram_parameters will be passed to the function as the first argument.\n",
      "        nlags (int, optional): Number of averaging bins for the semivariogram.\n",
      "            Default is 6.\n",
      "        weight (boolean, optional): Flag that specifies if semivariance at smaller lags\n",
      "            should be weighted more heavily when automatically calculating variogram model.\n",
      "            True indicates that weights will be applied. Default is False.\n",
      "            (Kitanidis suggests that the values at smaller lags are more important in\n",
      "            fitting a variogram model, so the option is provided to enable such weighting.)\n",
      "        anisotropy_scaling_y (float, optional): Scalar stretching value to take\n",
      "            into account anisotropy in the y direction. Default is 1 (effectively no stretching).\n",
      "            Scaling is applied in the y direction in the rotated data frame\n",
      "            (i.e., after adjusting for the anisotropy_angle_x/y/z, if anisotropy_angle_x/y/z\n",
      "            is/are not 0).\n",
      "        anisotropy_scaling_z (float, optional): Scalar stretching value to take\n",
      "            into account anisotropy in the z direction. Default is 1 (effectively no stretching).\n",
      "            Scaling is applied in the z direction in the rotated data frame\n",
      "            (i.e., after adjusting for the anisotropy_angle_x/y/z, if anisotropy_angle_x/y/z\n",
      "            is/are not 0).\n",
      "        anisotropy_angle_x (float, optional): CCW angle (in degrees) by which to\n",
      "            rotate coordinate system about the x axis in order to take into account anisotropy.\n",
      "            Default is 0 (no rotation). Note that the coordinate system is rotated. X rotation\n",
      "            is applied first, then y rotation, then z rotation. Scaling is applied after rotation.\n",
      "        anisotropy_angle_y (float, optional): CCW angle (in degrees) by which to\n",
      "            rotate coordinate system about the y axis in order to take into account anisotropy.\n",
      "            Default is 0 (no rotation). Note that the coordinate system is rotated. X rotation\n",
      "            is applied first, then y rotation, then z rotation. Scaling is applied after rotation.\n",
      "        anisotropy_angle_z (float, optional): CCW angle (in degrees) by which to\n",
      "            rotate coordinate system about the z axis in order to take into account anisotropy.\n",
      "            Default is 0 (no rotation). Note that the coordinate system is rotated. X rotation\n",
      "            is applied first, then y rotation, then z rotation. Scaling is applied after rotation.\n",
      "\n",
      "        drift_terms (list of strings, optional): List of drift terms to include in three-dimensional\n",
      "            universal kriging. Supported drift terms are currently 'regional_linear',\n",
      "            'specified', and 'functional'.\n",
      "        specified_drift (list of array-like objects, optional): List of arrays that contain\n",
      "            the drift values at data points. The arrays must be dim N, where N is the number\n",
      "            of data points. Any number of specified-drift terms may be used.\n",
      "        functional_drift (list of callable objects, optional): List of callable functions that\n",
      "            will be used to evaluate drift terms. The function must be a function of only the\n",
      "            three spatial coordinates and must return a single value for each coordinate triplet.\n",
      "            It must be set up to be called with only three arguments, first an array of x values,\n",
      "            the second an array of y values, and the third an array of z values. If the problem\n",
      "            involves anisotropy, the drift values are calculated in the adjusted data frame.\n",
      "\n",
      "        verbose (Boolean, optional): Enables program text output to monitor\n",
      "            kriging process. Default is False (off).\n",
      "        enable_plotting (Boolean, optional): Enables plotting to display\n",
      "            variogram. Default is False (off).\n",
      "\n",
      "    Callable Methods:\n",
      "        display_variogram_model(): Displays semivariogram and variogram model.\n",
      "\n",
      "        update_variogram_model(variogram_model, variogram_parameters=None, nlags=6,\n",
      "            anisotropy_scaling=1.0, anisotropy_angle=0.0):\n",
      "            Changes the variogram model and variogram parameters for\n",
      "            the kriging system.\n",
      "            Inputs:\n",
      "                variogram_model (string): May be any of the variogram models\n",
      "                    listed above. May also be 'custom', in which case variogram_parameters\n",
      "                    and variogram_function must be specified.\n",
      "                variogram_parameters (list, optional): List of variogram model\n",
      "                    parameters, as listed above. If not provided, a best fit model\n",
      "                    will be calculated as described above.\n",
      "                variogram_function (callable, optional): A callable function that must be\n",
      "                    provided if variogram_model is specified as 'custom'. See above for\n",
      "                    more information.\n",
      "                nlags (int, optional): Number of averaging bins for the semivariogram.\n",
      "                    Defualt is 6.\n",
      "                weight (boolean, optional): Flag that specifies if semivariance at smaller lags\n",
      "                    should be weighted more heavily when automatically calculating variogram model.\n",
      "                    True indicates that weights will be applied. Default is False.\n",
      "                anisotropy_scaling (float, optional): Scalar stretching value to\n",
      "                    take into account anisotropy. Default is 1 (effectively no\n",
      "                    stretching). Scaling is applied in the y-direction.\n",
      "                anisotropy_angle (float, optional): Angle (in degrees) by which to\n",
      "                    rotate coordinate system in order to take into account\n",
      "                    anisotropy. Default is 0 (no rotation).\n",
      "\n",
      "        switch_verbose(): Enables/disables program text output. No arguments.\n",
      "        switch_plotting(): Enables/disable variogram plot display. No arguments.\n",
      "\n",
      "        get_epsilon_residuals(): Returns the epsilon residuals of the\n",
      "            variogram fit. No arguments.\n",
      "        plot_epsilon_residuals(): Plots the epsilon residuals of the variogram\n",
      "            fit in the order in which they were calculated. No arguments.\n",
      "\n",
      "        get_statistics(): Returns the Q1, Q2, and cR statistics for the\n",
      "            variogram fit (in that order). No arguments.\n",
      "\n",
      "        print_statistics(): Prints out the Q1, Q2, and cR statistics for\n",
      "            the variogram fit. NOTE that ideally Q1 is close to zero,\n",
      "            Q2 is close to 1, and cR is as small as possible.\n",
      "\n",
      "        execute(style, xpoints, ypoints, mask=None): Calculates a kriged grid.\n",
      "            Inputs:\n",
      "                style (string): Specifies how to treat input kriging points.\n",
      "                    Specifying 'grid' treats xpoints, ypoints, and zpoints as\n",
      "                    arrays of x, y,z coordinates that define a rectangular grid.\n",
      "                    Specifying 'points' treats xpoints, ypoints, and zpoints as arrays\n",
      "                    that provide coordinates at which to solve the kriging system.\n",
      "                    Specifying 'masked' treats xpoints, ypoints, zpoints as arrays of\n",
      "                    x, y, z coordinates that define a rectangular grid and uses mask\n",
      "                    to only evaluate specific points in the grid.\n",
      "                xpoints (array-like, dim N): If style is specific as 'grid' or 'masked',\n",
      "                    x-coordinates of LxMxN grid. If style is specified as 'points',\n",
      "                    x-coordinates of specific points at which to solve kriging system.\n",
      "                ypoints (array-like, dim M): If style is specified as 'grid' or 'masked',\n",
      "                    y-coordinates of LxMxN grid. If style is specified as 'points',\n",
      "                    y-coordinates of specific points at which to solve kriging system.\n",
      "                    Note that in this case, xpoints, ypoints, and zpoints must have the\n",
      "                    same dimensions (i.e., L = M = N).\n",
      "                zpoints (array-like, dim L): If style is specified as 'grid' or 'masked',\n",
      "                    z-coordinates of LxMxN grid. If style is specified as 'points',\n",
      "                    z-coordinates of specific points at which to solve kriging system.\n",
      "                    Note that in this case, xpoints, ypoints, and zpoints must have the\n",
      "                    same dimensions (i.e., L = M = N).\n",
      "                mask (boolean array, dim LxMxN, optional): Specifies the points in the rectangular\n",
      "                    grid defined by xpoints, ypoints, and zpoints that are to be excluded in the\n",
      "                    kriging calculations. Must be provided if style is specified as 'masked'.\n",
      "                    False indicates that the point should not be masked; True indicates that\n",
      "                    the point should be masked.\n",
      "                backend (string, optional): Specifies which approach to use in kriging.\n",
      "                    Specifying 'vectorized' will solve the entire kriging problem at once in a\n",
      "                    vectorized operation. This approach is faster but also can consume a\n",
      "                    significant amount of memory for large grids and/or large datasets.\n",
      "                    Specifying 'loop' will loop through each point at which the kriging system\n",
      "                    is to be solved. This approach is slower but also less memory-intensive.\n",
      "                    Default is 'vectorized'.\n",
      "                specified_drift_arrays (list of array-like objects, optional): Specifies the drift\n",
      "                    values at the points at which the kriging system is to be evaluated. Required if\n",
      "                    'specified' drift provided in the list of drift terms when instantiating the\n",
      "                    UniversalKriging3D class. Must be a list of arrays in the same order as the list\n",
      "                    provided when instantiating the kriging object. Array(s) must be the same dimension\n",
      "                    as the specified grid or have the same number of points as the specified points;\n",
      "                    i.e., the arrays either must be dim LxMxN, where L is the number of z grid-points,\n",
      "                    M is the number of y grid-points, and N is the number of x grid-points,\n",
      "                    or dim N, where N is the number of points at which to evaluate the kriging system.\n",
      "            Outputs:\n",
      "                kvalues (numpy array, dim LxMxN or dim Nx1): Interpolated values of specified grid\n",
      "                    or at the specified set of points. If style was specified as 'masked',\n",
      "                    kvalues will be a numpy masked array.\n",
      "                sigmasq (numpy array, dim LxMxN or dim Nx1): Variance at specified grid points or\n",
      "                    at the specified set of points. If style was specified as 'masked', sigmasq\n",
      "                    will be a numpy masked array.\n",
      "\n",
      "    References:\n",
      "        P.K. Kitanidis, Introduction to Geostatistcs: Applications in Hydrogeology,\n",
      "        (Cambridge University Press, 1997) 272 p.\n",
      "    \n"
     ]
    }
   ],
   "source": [
    "print(UniversalKriging3D.__doc__)"
   ]
  },
  {
   "cell_type": "code",
   "execution_count": 4,
   "metadata": {
    "collapsed": true
   },
   "outputs": [],
   "source": [
    "data = np.array([[0.1, 0.1, 0.3, 0.9],\n",
    "                 [0.2, 0.1, 0.4, 0.8],\n",
    "                 [0.1, 0.3, 0.1, 0.9],\n",
    "                 [0.5, 0.4, 0.4, 0.5],\n",
    "                 [0.3, 0.3, 0.2, 0.7],\n",
    "                 [0.6, 0.6, 0.3, 0.2],\n",
    "                 [0.9, 0.5, 0.4, 0.3],\n",
    "                 [0.6, 0.8, 0.1, 0.3],\n",
    "                 [0.2, 0.9, 0.4, 0.2],\n",
    "                 [0.1, 0.3, 0.2, 0.1]])"
   ]
  },
  {
   "cell_type": "code",
   "execution_count": 40,
   "metadata": {
    "collapsed": false
   },
   "outputs": [
    {
     "name": "stdout",
     "output_type": "stream",
     "text": [
      "(10, 4)\n"
     ]
    }
   ],
   "source": [
    "print(data.shape)"
   ]
  },
  {
   "cell_type": "code",
   "execution_count": 61,
   "metadata": {
    "collapsed": false
   },
   "outputs": [
    {
     "name": "stdout",
     "output_type": "stream",
     "text": [
      "(100, 4)\n"
     ]
    }
   ],
   "source": [
    "data=np.random.rand(500,4)\n",
    "data[:,0]=data[:,0]*900\n",
    "data[:,1]=data[:,1]*500\n",
    "data[:,2]=data[:,2]*41\n",
    "data[:,3]=10*data[:,3]+1.5*data[:,1]+(data[:,2]-.5)**2-5*data[:,3]\n",
    "print(data.shape)"
   ]
  },
  {
   "cell_type": "code",
   "execution_count": 62,
   "metadata": {
    "collapsed": false
   },
   "outputs": [],
   "source": [
    "gridx = np.arange(0.0, 900, 2)\n",
    "gridy = np.arange(0.0, 500, 2)\n",
    "gridz = np.arange(0.0, 41, 2)"
   ]
  },
  {
   "cell_type": "code",
   "execution_count": 63,
   "metadata": {
    "collapsed": false
   },
   "outputs": [
    {
     "ename": "MemoryError",
     "evalue": "",
     "output_type": "error",
     "traceback": [
      "\u001b[1;31m---------------------------------------------------------------------------\u001b[0m",
      "\u001b[1;31mMemoryError\u001b[0m                               Traceback (most recent call last)",
      "\u001b[1;32m<ipython-input-63-528fbcd9beae>\u001b[0m in \u001b[0;36m<module>\u001b[1;34m()\u001b[0m\n\u001b[0;32m      1\u001b[0m ok3d = OrdinaryKriging3D(data[:, 0], data[:, 1], data[:, 2], data[:, 3],\n\u001b[0;32m      2\u001b[0m                          variogram_model='linear')\n\u001b[1;32m----> 3\u001b[1;33m \u001b[0mk3d\u001b[0m\u001b[1;33m,\u001b[0m \u001b[0mss3d\u001b[0m \u001b[1;33m=\u001b[0m \u001b[0mok3d\u001b[0m\u001b[1;33m.\u001b[0m\u001b[0mexecute\u001b[0m\u001b[1;33m(\u001b[0m\u001b[1;34m'grid'\u001b[0m\u001b[1;33m,\u001b[0m \u001b[0mgridx\u001b[0m\u001b[1;33m,\u001b[0m \u001b[0mgridy\u001b[0m\u001b[1;33m,\u001b[0m \u001b[0mgridz\u001b[0m\u001b[1;33m)\u001b[0m\u001b[1;33m\u001b[0m\u001b[0m\n\u001b[0m",
      "\u001b[1;32m/home/eolson/anaconda3/envs/teos10/lib/python3.4/site-packages/pykrige/ok3d.py\u001b[0m in \u001b[0;36mexecute\u001b[1;34m(self, style, xpoints, ypoints, zpoints, mask, backend)\u001b[0m\n\u001b[0;32m    589\u001b[0m \u001b[1;33m\u001b[0m\u001b[0m\n\u001b[0;32m    590\u001b[0m         \u001b[1;32mif\u001b[0m \u001b[0mbackend\u001b[0m \u001b[1;33m==\u001b[0m \u001b[1;34m'vectorized'\u001b[0m\u001b[1;33m:\u001b[0m\u001b[1;33m\u001b[0m\u001b[0m\n\u001b[1;32m--> 591\u001b[1;33m             \u001b[0mkvalues\u001b[0m\u001b[1;33m,\u001b[0m \u001b[0msigmasq\u001b[0m \u001b[1;33m=\u001b[0m \u001b[0mself\u001b[0m\u001b[1;33m.\u001b[0m\u001b[0m_exec_vector\u001b[0m\u001b[1;33m(\u001b[0m\u001b[0ma\u001b[0m\u001b[1;33m,\u001b[0m \u001b[0mbd\u001b[0m\u001b[1;33m,\u001b[0m \u001b[0mmask\u001b[0m\u001b[1;33m)\u001b[0m\u001b[1;33m\u001b[0m\u001b[0m\n\u001b[0m\u001b[0;32m    592\u001b[0m         \u001b[1;32melif\u001b[0m \u001b[0mbackend\u001b[0m \u001b[1;33m==\u001b[0m \u001b[1;34m'loop'\u001b[0m\u001b[1;33m:\u001b[0m\u001b[1;33m\u001b[0m\u001b[0m\n\u001b[0;32m    593\u001b[0m             \u001b[0mkvalues\u001b[0m\u001b[1;33m,\u001b[0m \u001b[0msigmasq\u001b[0m \u001b[1;33m=\u001b[0m \u001b[0mself\u001b[0m\u001b[1;33m.\u001b[0m\u001b[0m_exec_loop\u001b[0m\u001b[1;33m(\u001b[0m\u001b[0ma\u001b[0m\u001b[1;33m,\u001b[0m \u001b[0mbd\u001b[0m\u001b[1;33m,\u001b[0m \u001b[0mmask\u001b[0m\u001b[1;33m)\u001b[0m\u001b[1;33m\u001b[0m\u001b[0m\n",
      "\u001b[1;32m/home/eolson/anaconda3/envs/teos10/lib/python3.4/site-packages/pykrige/ok3d.py\u001b[0m in \u001b[0;36m_exec_vector\u001b[1;34m(self, a, bd, mask)\u001b[0m\n\u001b[0;32m    420\u001b[0m         \u001b[0ma_inv\u001b[0m \u001b[1;33m=\u001b[0m \u001b[0mscipy\u001b[0m\u001b[1;33m.\u001b[0m\u001b[0mlinalg\u001b[0m\u001b[1;33m.\u001b[0m\u001b[0minv\u001b[0m\u001b[1;33m(\u001b[0m\u001b[0ma\u001b[0m\u001b[1;33m)\u001b[0m\u001b[1;33m\u001b[0m\u001b[0m\n\u001b[0;32m    421\u001b[0m \u001b[1;33m\u001b[0m\u001b[0m\n\u001b[1;32m--> 422\u001b[1;33m         \u001b[1;32mif\u001b[0m \u001b[0mnp\u001b[0m\u001b[1;33m.\u001b[0m\u001b[0many\u001b[0m\u001b[1;33m(\u001b[0m\u001b[0mnp\u001b[0m\u001b[1;33m.\u001b[0m\u001b[0mabsolute\u001b[0m\u001b[1;33m(\u001b[0m\u001b[0mbd\u001b[0m\u001b[1;33m)\u001b[0m \u001b[1;33m<=\u001b[0m \u001b[0mself\u001b[0m\u001b[1;33m.\u001b[0m\u001b[0meps\u001b[0m\u001b[1;33m)\u001b[0m\u001b[1;33m:\u001b[0m\u001b[1;33m\u001b[0m\u001b[0m\n\u001b[0m\u001b[0;32m    423\u001b[0m             \u001b[0mzero_value\u001b[0m \u001b[1;33m=\u001b[0m \u001b[1;32mTrue\u001b[0m\u001b[1;33m\u001b[0m\u001b[0m\n\u001b[0;32m    424\u001b[0m             \u001b[0mzero_index\u001b[0m \u001b[1;33m=\u001b[0m \u001b[0mnp\u001b[0m\u001b[1;33m.\u001b[0m\u001b[0mwhere\u001b[0m\u001b[1;33m(\u001b[0m\u001b[0mnp\u001b[0m\u001b[1;33m.\u001b[0m\u001b[0mabsolute\u001b[0m\u001b[1;33m(\u001b[0m\u001b[0mbd\u001b[0m\u001b[1;33m)\u001b[0m \u001b[1;33m<=\u001b[0m \u001b[0mself\u001b[0m\u001b[1;33m.\u001b[0m\u001b[0meps\u001b[0m\u001b[1;33m)\u001b[0m\u001b[1;33m\u001b[0m\u001b[0m\n",
      "\u001b[1;31mMemoryError\u001b[0m: "
     ]
    }
   ],
   "source": [
    "ok3d = OrdinaryKriging3D(data[:, 0], data[:, 1], data[:, 2], data[:, 3],\n",
    "                         variogram_model='linear')\n",
    "k3d, ss3d = ok3d.execute('grid', gridx, gridy, gridz)"
   ]
  },
  {
   "cell_type": "code",
   "execution_count": 56,
   "metadata": {
    "collapsed": true
   },
   "outputs": [],
   "source": [
    "import matplotlib.pyplot as plt"
   ]
  },
  {
   "cell_type": "code",
   "execution_count": 13,
   "metadata": {
    "collapsed": false
   },
   "outputs": [],
   "source": [
    "\n",
    "%matplotlib inline"
   ]
  },
  {
   "cell_type": "code",
   "execution_count": 48,
   "metadata": {
    "collapsed": false
   },
   "outputs": [
    {
     "name": "stdout",
     "output_type": "stream",
     "text": [
      "(1, 1, 1)\n"
     ]
    }
   ],
   "source": [
    "print(k3d.shape)"
   ]
  },
  {
   "cell_type": "code",
   "execution_count": 60,
   "metadata": {
    "collapsed": false
   },
   "outputs": [
    {
     "data": {
      "text/plain": [
       "<matplotlib.collections.QuadMesh at 0x7fe64f780fd0>"
      ]
     },
     "execution_count": 60,
     "metadata": {},
     "output_type": "execute_result"
    },
    {
     "data": {
      "image/png": "[encoded data removed]",
      "text/plain": [
       "<matplotlib.figure.Figure at 0x7fe64f7c06d8>"
      ]
     },
     "metadata": {},
     "output_type": "display_data"
    }
   ],
   "source": [
    "plt.pcolormesh(k3d[40,:,:])"
   ]
  },
  {
   "cell_type": "code",
   "execution_count": null,
   "metadata": {
    "collapsed": true
   },
   "outputs": [],
   "source": []
  },
  {
   "cell_type": "code",
   "execution_count": null,
   "metadata": {
    "collapsed": true
   },
   "outputs": [],
   "source": []
  },
  {
   "cell_type": "code",
   "execution_count": null,
   "metadata": {
    "collapsed": true
   },
   "outputs": [],
   "source": []
  },
  {
   "cell_type": "code",
   "execution_count": null,
   "metadata": {
    "collapsed": true
   },
   "outputs": [],
   "source": []
  }
 ],
 "metadata": {
  "kernelspec": {
   "display_name": "Python 3",
   "language": "python",
   "name": "python3"
  },
  "language_info": {
   "codemirror_mode": {
    "name": "ipython",
    "version": 3
   },
   "file_extension": ".py",
   "mimetype": "text/x-python",
   "name": "python",
   "nbconvert_exporter": "python",
   "pygments_lexer": "ipython3",
   "version": "3.4.4"
  }
 },
 "nbformat": 4,
 "nbformat_minor": 0
}
