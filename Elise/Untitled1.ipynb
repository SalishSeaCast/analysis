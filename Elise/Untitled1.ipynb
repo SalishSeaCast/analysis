{
 "metadata": {
  "name": "",
  "signature": "sha256:0e2e67ad3118368d4ec40e083734161e2597819c9b047c7c9dbef3b8d49901c6"
 },
 "nbformat": 3,
 "nbformat_minor": 0,
 "worksheets": []
}