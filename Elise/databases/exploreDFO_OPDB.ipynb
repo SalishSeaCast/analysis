{
 "cells": [
  {
   "cell_type": "code",
   "execution_count": 1,
   "metadata": {
    "collapsed": false
   },
   "outputs": [],
   "source": [
    "# imports\n",
    "import sqlalchemy\n",
    "from sqlalchemy import create_engine, Column, String, Integer, Numeric, MetaData, Table, type_coerce, ForeignKey, case\n",
    "from sqlalchemy.orm import mapper, create_session, relationship, aliased, Session\n",
    "from sqlalchemy.ext.declarative import declarative_base\n",
    "import csv\n",
    "from sqlalchemy import case\n",
    "import numpy as np\n",
    "from sqlalchemy.ext.automap import automap_base\n",
    "import matplotlib.pyplot as plt\n",
    "import sqlalchemy.types as types\n",
    "import numbers\n",
    "from sqlalchemy.sql import and_, or_, not_, func\n",
    "from sqlalchemy.sql import select\n",
    "import os\n",
    "import glob\n",
    "import re\n",
    "from os.path import isfile\n",
    "import gsw\n",
    "\n",
    "import createDBfromDFO_OPDB\n",
    "%matplotlib inline"
   ]
  },
  {
   "cell_type": "code",
   "execution_count": 2,
   "metadata": {
    "collapsed": true
   },
   "outputs": [],
   "source": [
    "# definitions\n",
    "basepath='/ocean/eolson/MEOPAR/obs/'\n",
    "basedir=basepath + 'DFOOPDB/'\n",
    "dbname='DFO_OcProfDB'"
   ]
  },
  {
   "cell_type": "code",
   "execution_count": 3,
   "metadata": {
    "collapsed": false
   },
   "outputs": [
    {
     "name": "stdout",
     "output_type": "stream",
     "text": [
      "file exists\n"
     ]
    }
   ],
   "source": [
    "# if PRISM.sqlite does not exist, run script to create it\n",
    "if not isfile(basedir + dbname + '.sqlite'):\n",
    "    import createDBfromDFO_OPDB\n",
    "    createDBfromDFO_OPDB.main()\n",
    "    import processDFO_OPDB\n",
    "    processDFO_OPDB.main()\n",
    "    print('done')\n",
    "else:\n",
    "    print('file exists')"
   ]
  },
  {
   "cell_type": "code",
   "execution_count": 4,
   "metadata": {
    "collapsed": false
   },
   "outputs": [],
   "source": [
    "Base = automap_base()\n",
    "engine = create_engine('sqlite:///' + basedir + dbname + '.sqlite', echo = False)\n",
    "# reflect the tables in salish.sqlite:\n",
    "Base.prepare(engine, reflect=True)\n",
    "# mapped classes have been created"
   ]
  },
  {
   "cell_type": "code",
   "execution_count": 5,
   "metadata": {
    "collapsed": false
   },
   "outputs": [],
   "source": [
    "Station=Base.classes.StationTBL\n",
    "Obs=Base.classes.ObsTBL\n",
    "JDFLocs=Base.classes.JDFLocsTBL\n",
    "Calcs=Base.classes.CalcsTBL\n",
    "session = create_session(bind = engine, autocommit = False, autoflush = True)"
   ]
  },
  {
   "cell_type": "code",
   "execution_count": 6,
   "metadata": {
    "collapsed": false
   },
   "outputs": [],
   "source": [
    "Sal=case([(Obs.Salinity_Bottle!=None, Obs.Salinity_Bottle)], else_=\n",
    "         case([(Obs.Salinity_T0_C0!=None, Obs.Salinity_T0_C0)], else_=\n",
    "         case([(Obs.Salinity_T1_C1!=None, Obs.Salinity_T1_C1)], else_=\n",
    "         case([(Obs.Salinity!=None, Obs.Salinity)], else_=\n",
    "         case([(Obs.Salinity__Unknown!=None, Obs.Salinity__Unknown)], else_=Obs.Salinity__Pre1978)\n",
    "        ))))\n",
    "SalUnits=case([(Obs.Salinity_Bottle!=None, Obs.Salinity_Bottle_units)], else_=\n",
    "         case([(Obs.Salinity_T0_C0!=None, Obs.Salinity_T0_C0_units)], else_=\n",
    "         case([(Obs.Salinity_T1_C1!=None, Obs.Salinity_T1_C1_units)], else_=\n",
    "         case([(Obs.Salinity!=None, Obs.Salinity_units)], else_=\n",
    "         case([(Obs.Salinity__Unknown!=None, Obs.Salinity__Unknown_units)], else_=Obs.Salinity__Pre1978_units)\n",
    "        ))))\n",
    "SalFlag=case([(Obs.Salinity_Bottle!=None, Obs.Flag_Salinity_Bottle)], else_=\n",
    "         case([(Obs.Salinity_T0_C0!=None, Obs.Flag_Salinity)], else_=\n",
    "         case([(Obs.Salinity_T1_C1!=None, Obs.Flag_Salinity)], else_=\n",
    "         case([(Obs.Salinity!=None, Obs.Flag_Salinity)], else_=\n",
    "         case([(Obs.Salinity__Unknown!=None, Obs.Flag_Salinity)], else_=Obs.Quality_Flag_Sali)\n",
    "        ))))\n",
    "SA=case([(Calcs.Salinity_Bottle_SA!=None, Calcs.Salinity_Bottle_SA)], else_=\n",
    "         case([(Calcs.Salinity_T0_C0_SA!=None, Calcs.Salinity_T0_C0_SA)], else_=\n",
    "         case([(Calcs.Salinity_T1_C1_SA!=None, Calcs.Salinity_T1_C1_SA)], else_=\n",
    "         case([(Calcs.Salinity_SA!=None, Calcs.Salinity_SA)], else_=\n",
    "         case([(Calcs.Salinity__Unknown_SA!=None, Calcs.Salinity__Unknown_SA)], else_=Calcs.Salinity__Pre1978_SA)\n",
    "        ))))"
   ]
  },
  {
   "cell_type": "code",
   "execution_count": 7,
   "metadata": {
    "collapsed": true
   },
   "outputs": [],
   "source": [
    "NO=case([(Obs.Nitrate_plus_Nitrite!=None, Obs.Nitrate_plus_Nitrite)], else_=Obs.Nitrate)\n",
    "NOUnits=case([(Obs.Nitrate_plus_Nitrite!=None, Obs.Nitrate_plus_Nitrite_units)], else_=Obs.Nitrate_units)\n",
    "NOFlag=case([(Obs.Nitrate_plus_Nitrite!=None, Obs.Flag_Nitrate_plus_Nitrite)], else_=Obs.Flag_Nitrate)\n",
    "# Obs.Quality_Flag_Nitr does not match any nitrate obs\n",
    "# ISUS not included in this NO; test separately"
   ]
  },
  {
   "cell_type": "code",
   "execution_count": 8,
   "metadata": {
    "collapsed": true
   },
   "outputs": [],
   "source": [
    "Tem=case([(Obs.Temperature!=None, Obs.Temperature)], else_=\n",
    "         case([(Obs.Temperature_Primary!=None, Obs.Temperature_Primary)], else_=\n",
    "         case([(Obs.Temperature_Secondary!=None, Obs.Temperature_Secondary)], else_=Obs.Temperature_Reversing)))\n",
    "TemUnits=case([(Obs.Temperature!=None, Obs.Temperature_units)], else_=\n",
    "         case([(Obs.Temperature_Primary!=None, Obs.Temperature_Primary_units)], else_=\n",
    "         case([(Obs.Temperature_Secondary!=None, Obs.Temperature_Secondary_units)], \n",
    "              else_=Obs.Temperature_Reversing_units)))\n",
    "TemFlag=Obs.Quality_Flag_Temp"
   ]
  },
  {
   "cell_type": "code",
   "execution_count": 9,
   "metadata": {
    "collapsed": false
   },
   "outputs": [],
   "source": [
    "Ox=case([(Calcs.Oxygen_umolL!=None, Calcs.Oxygen_umolL)], else_=Calcs.Oxygen_Dissolved_umolL)\n",
    "OxFlag=case([(Calcs.Oxygen_umolL!=None, Obs.Quality_Flag_Oxyg)], else_=Obs.Flag_Oxygen_Dissolved)"
   ]
  },
  {
   "cell_type": "code",
   "execution_count": 10,
   "metadata": {
    "collapsed": true
   },
   "outputs": [],
   "source": [
    "Press=case([(Obs.Pressure!=None, Obs.Pressure)], else_=Obs.Pressure_Reversing)"
   ]
  },
  {
   "cell_type": "code",
   "execution_count": 13,
   "metadata": {
    "collapsed": false
   },
   "outputs": [],
   "source": [
    "# TS diagram based on example code, but using SA and CT\n",
    "q=session.query(JDFLocs.ObsID, Obs.ID, SA, Tem, Press).select_from(Obs).\\\n",
    "        join(JDFLocs,JDFLocs.ObsID==Obs.ID).join(Calcs,Calcs.ObsID==Obs.ID).filter(and_(\n",
    "            SA!=None,\n",
    "            SA>0,\n",
    "            SA<50,\n",
    "            Tem!=None,\n",
    "            Press!=None)).all()\n",
    "ID1=[]\n",
    "ID2=[]\n",
    "S_A=[]\n",
    "TC=[]\n",
    "P=[]\n",
    "for ID1x, ID2x, S_Ax, Tx, Px in q:\n",
    "    S_A.append(float(S_Ax))\n",
    "    TC.append(gsw.CT_from_t(S_Ax,Tx,Px))\n",
    "S_A=np.array(S_A)\n",
    "TC=np.array(TC)"
   ]
  },
  {
   "cell_type": "code",
   "execution_count": 14,
   "metadata": {
    "collapsed": false
   },
   "outputs": [
    {
     "name": "stderr",
     "output_type": "stream",
     "text": [
      "/home/eolson/anaconda3/envs/teos10/lib/python3.4/site-packages/ipykernel/__main__.py:18: DeprecationWarning: using a non-integer number instead of an integer will result in an error in the future\n"
     ]
    },
    {
     "data": {
      "text/plain": [
       "<matplotlib.text.Text at 0x7f3251c02358>"
      ]
     },
     "execution_count": 14,
     "metadata": {},
     "output_type": "execute_result"
    },
    {
     "data": {
      "image/png": "[encoded data removed]",
      "text/plain": [
       "<matplotlib.figure.Figure at 0x7f3251cabda0>"
      ]
     },
     "metadata": {},
     "output_type": "display_data"
    }
   ],
   "source": [
    "# TS diagram example:\n",
    "\n",
    "# Create variables with user-friendly names\n",
    "temp  = TC\n",
    "salt  = S_A\n",
    " \n",
    "# Figure out boudaries (mins and maxs)\n",
    "smin = salt.min() - (0.01 * salt.min())\n",
    "smax = salt.max() + (0.01 * salt.max())\n",
    "tmin = temp.min() - (0.1 * temp.max())\n",
    "tmax = temp.max() + (0.1 * temp.max())\n",
    " \n",
    "# Calculate how many gridcells we need in the x and y dimensions\n",
    "xdim = round((smax-smin)/0.1+1,0)\n",
    "ydim = round((tmax-tmin)+1,0)\n",
    " \n",
    "# Create empty grid of zeros\n",
    "dens = np.zeros((ydim,xdim))\n",
    " \n",
    "# Create temp and salt vectors of appropiate dimensions\n",
    "ti = np.linspace(1,ydim-1,ydim)+tmin\n",
    "si = np.linspace(1,xdim-1,xdim)*0.1+smin\n",
    " \n",
    "# Loop to fill in grid with densities\n",
    "for j in range(0,int(ydim)):\n",
    "    for i in range(0, int(xdim)):\n",
    "        dens[j,i]=gsw.rho(si[i],gsw.t_from_CT(si[i],ti[j],0),0)\n",
    " \n",
    "# Substract 1000 to convert to sigma-t\n",
    "dens = dens - 1000\n",
    " \n",
    "# Plot data ***********************************************\n",
    "fig1 = plt.figure()\n",
    "ax1 = fig1.add_subplot(111)\n",
    "CS = plt.contour(si,ti,dens, linestyles='dashed', colors='k')\n",
    "plt.clabel(CS, fontsize=12, inline=1, fmt='%1.0f') # Label every second level\n",
    " \n",
    "ax1.plot(salt,temp,'or',markersize=5)\n",
    " \n",
    "ax1.set_xlabel('Absolute Salinity')\n",
    "ax1.set_ylabel('Conservative Temperature (C)')"
   ]
  },
  {
   "cell_type": "markdown",
   "metadata": {},
   "source": [
    "# Ammonium: use Obs.Ammonium (umol/L)"
   ]
  },
  {
   "cell_type": "code",
   "execution_count": 20,
   "metadata": {
    "collapsed": false
   },
   "outputs": [
    {
     "name": "stdout",
     "output_type": "stream",
     "text": [
      "(None, None, 0.16, 'umol/L', 3051)\n",
      "(0.7, 'microg-at/l', None, None, 1163)\n"
     ]
    }
   ],
   "source": [
    "q=session.query(Obs.Ammonia, Obs.Ammonia_units, Obs.Ammonium, Obs.Ammonium_units, func.count()).\\\n",
    "        filter(or_(Obs.Ammonia!=None,Obs.Ammonium!=None)).\\\n",
    "        group_by(Obs.Ammonia_units,Obs.Ammonium_units).all()\n",
    "for row in q:\n",
    "    print(row)"
   ]
  },
  {
   "cell_type": "code",
   "execution_count": null,
   "metadata": {
    "collapsed": true
   },
   "outputs": [],
   "source": [
    "fig, axs = plt.subplots(2,2)"
   ]
  },
  {
   "cell_type": "code",
   "execution_count": 41,
   "metadata": {
    "collapsed": false
   },
   "outputs": [
    {
     "data": {
      "image/png": "[encoded data removed]",
      "text/plain": [
       "<matplotlib.figure.Figure at 0x7f8d597d2ba8>"
      ]
     },
     "metadata": {},
     "output_type": "display_data"
    }
   ],
   "source": [
    "q=session.query(JDFLocs.ObsID, Station.StartYear,Station.StartMonth,Press, Obs.Depth,\n",
    "                Obs.Ammonium,Obs.Ammonium_units,Tem,Sal).select_from(Obs).\\\n",
    "        join(JDFLocs,JDFLocs.ObsID==Obs.ID).join(Station,Station.ID==Obs.StationTBLID).\\\n",
    "        filter(Obs.Ammonium!=None).all()\n",
    "fig, axs = plt.subplots(3,2,figsize=(16,5))\n",
    "for row in q:\n",
    "    #print(row)\n",
    "    axs[0,0].plot(row[2],-row[3],'k*')\n",
    "    axs[0,1].plot(row[5],-row[3],'r*')\n",
    "    if row[3]<20:\n",
    "        axs[1,0].plot(row[2],row[5],'r*')\n",
    "    if row[2]==5:\n",
    "        axs[1,1].plot(row[5],-row[3],'b.')\n",
    "        axs[2,0].plot(row[7],row[5],'b.')\n",
    "        axs[2,1].plot(row[8],row[5],'b.')\n",
    "    elif row[2]==2:\n",
    "        axs[1,1].plot(row[5],-row[3],'r.')\n",
    "        axs[2,0].plot(row[7],row[5],'r.')\n",
    "        axs[2,1].plot(row[8],row[5],'r.')\n",
    "    else:\n",
    "        axs[1,1].plot(row[5],-row[3],'g.')\n",
    "        axs[2,0].plot(row[7],row[5],'g.')\n",
    "        axs[2,1].plot(row[8],row[5],'g.')"
   ]
  },
  {
   "cell_type": "markdown",
   "metadata": {},
   "source": [
    "DON:"
   ]
  },
  {
   "cell_type": "code",
   "execution_count": 64,
   "metadata": {
    "collapsed": false
   },
   "outputs": [],
   "source": [
    "q=session.query(Station.StartYear,Station.StartMonth,Press, Station.Lat, Station.Lon,Obs.Depth,\n",
    "                Obs.Nitrogen_Dissolved_Organic,Obs.Nitrogen_Dissolved_Organic_units,Tem,Sal).\\\n",
    "        select_from(Obs).join(Station,Station.ID==Obs.StationTBLID).\\\n",
    "        filter(Obs.Nitrogen_Dissolved_Organic!=None).filter(Obs.Nitrogen_Dissolved_Organic>=0).\\\n",
    "        filter(Station.Lat!=None).filter(Station.Lon!=None).\\\n",
    "        filter(Station.Lat<48.8).filter(Station.Lon<-125).all()"
   ]
  },
  {
   "cell_type": "code",
   "execution_count": 65,
   "metadata": {
    "collapsed": false
   },
   "outputs": [
    {
     "data": {
      "image/png": "[encoded data removed]",
      "text/plain": [
       "<matplotlib.figure.Figure at 0x7f8d59dde550>"
      ]
     },
     "metadata": {},
     "output_type": "display_data"
    }
   ],
   "source": [
    "\n",
    "fig, axs = plt.subplots(2,2,figsize=(10,10))\n",
    "for row in q:\n",
    "    axs[0,0].plot(row[4],row[3],'k.')\n",
    "    axs[0,1].plot(row[6],row[2],'k.')"
   ]
  },
  {
   "cell_type": "code",
   "execution_count": 15,
   "metadata": {
    "collapsed": false
   },
   "outputs": [],
   "source": [
    "q=session.query(JDFLocs.ObsID,Station.StartYear,Station.StartMonth,Press,\n",
    "                func.avg(NO)).\\\n",
    "        select_from(Obs).join(JDFLocs,JDFLocs.ObsID==Obs.ID).join(Calcs,Calcs.ObsID==Obs.ID).\\\n",
    "        join(Station,Station.ID==Obs.StationTBLID).\\\n",
    "        filter(NO!=None).filter(NO>=0).\\\n",
    "        filter(Press<10).group_by(Station.StartMonth).all()"
   ]
  },
  {
   "cell_type": "code",
   "execution_count": 19,
   "metadata": {
    "collapsed": false
   },
   "outputs": [
    {
     "name": "stdout",
     "output_type": "stream",
     "text": [
      "(25699, 2002.0, 1.0, 5.2, 9.766666666666666)\n",
      "(29621, 2003.0, 2.0, 5.0, 4.442857142857143)\n",
      "(35731, 2005.0, 3.0, 9.9, 3.0750000000000006)\n",
      "(59417, 2000.0, 4.0, 9.6, 11.92420289855072)\n",
      "(42809, 2008.0, 5.0, 4.8, 8.002678571428572)\n",
      "(41644, 2007.0, 6.0, 6.5, 17.761818181818178)\n",
      "(60008, 2000.0, 7.0, 5.4, 22.7875)\n",
      "(60296, 2000.0, 8.0, 1.7, 13.963636363636363)\n",
      "(43267, 2008.0, 9.0, 4.3, 19.37224137931034)\n",
      "(41941, 2007.0, 10.0, 6.9, 17.389411764705883)\n",
      "(42247, 2007.0, 11.0, 6.6, 12.955555555555556)\n",
      "(35178, 2004.0, 12.0, 9.8, 7.321052631578948)\n"
     ]
    },
    {
     "data": {
      "image/png": "[encoded data removed]",
      "text/plain": [
       "<matplotlib.figure.Figure at 0x7f3251bcdfd0>"
      ]
     },
     "metadata": {},
     "output_type": "display_data"
    }
   ],
   "source": [
    "for row in q:\n",
    "    print(row)\n",
    "    plt.plot(row[2],row[4],'k.')"
   ]
  },
  {
   "cell_type": "code",
   "execution_count": 66,
   "metadata": {
    "collapsed": false
   },
   "outputs": [
    {
     "name": "stdout",
     "output_type": "stream",
     "text": [
      "(6334, 6334, 54.82919511370604, 54.5674, 10.6817, 27.6)\n"
     ]
    }
   ],
   "source": [
    "q=session.query(JDFLocs.ObsID, Obs.ID, SA, Sal, Tem, Press).select_from(Obs).\\\n",
    "        join(JDFLocs,JDFLocs.ObsID==Obs.ID).join(Calcs,Calcs.ObsID==Obs.ID).filter(and_(\n",
    "            SA!=None,\n",
    "            Tem!=None,\n",
    "            Press!=None)).filter(SA>40).all()\n",
    "for row in q:\n",
    "    print(row)"
   ]
  },
  {
   "cell_type": "code",
   "execution_count": 67,
   "metadata": {
    "collapsed": false
   },
   "outputs": [
    {
     "name": "stdout",
     "output_type": "stream",
     "text": [
      "(6334, 'UBC EO data request 20160113 a/2010-21-0009.che', None, 54.82919511370604, None, None, 54.5674, None, None, None)\n"
     ]
    }
   ],
   "source": [
    "q=session.query(JDFLocs.ObsID, Obs.sourceFile, Obs.Depth, SA, Obs.Salinity_Bottle, Obs.Salinity, Obs.Salinity_T0_C0, \n",
    "               Obs.Salinity_T1_C1, Obs.Salinity__Pre1978, Obs.Salinity__Unknown).select_from(Obs).\\\n",
    "        join(JDFLocs,JDFLocs.ObsID==Obs.ID).join(Calcs,Calcs.ObsID==Obs.ID).filter(and_(\n",
    "            SA!=None,\n",
    "            Tem!=None,\n",
    "            Press!=None)).filter(SA>40).all()\n",
    "for row in q:\n",
    "    print(row)"
   ]
  },
  {
   "cell_type": "raw",
   "metadata": {
    "collapsed": false
   },
   "source": [
    "qry=session.query(Obs.Quality_Flag_Sali, Obs.Salinity, Obs.Salinity_Bottle, Obs.Salinity_T0_C0, \n",
    "                  Obs.Salinity_T1_C1, Obs.Salinity__Pre1978, Obs.Salinity__Unknown, Obs.sourceFile\n",
    "                 ).filter(and_(\n",
    "            Obs.Quality_Flag_Sali!=None,\n",
    "            Obs.Salinity__Pre1978==None\n",
    "            )).all()\n",
    "for row in qry:\n",
    "    print('%5s %5s %13s %5s %13s %5s %5s %5s' % row)"
   ]
  },
  {
   "cell_type": "code",
   "execution_count": 68,
   "metadata": {
    "collapsed": false
   },
   "outputs": [
    {
     "name": "stdout",
     "output_type": "stream",
     "text": [
      "3404\n"
     ]
    }
   ],
   "source": [
    "qJDFLoc=session.query(Obs.ID, Station.ID).filter(\n",
    "    and_(\n",
    "        Station.Lat > 48.2,\n",
    "        Station.Lat < 48.8,\n",
    "        Station.Lon > -125.2,\n",
    "        Station.Lon < -124.2\n",
    "        )).join(Station, Obs.StationTBLID==Station.ID)\n",
    "print(qJDFLoc.count())"
   ]
  },
  {
   "cell_type": "raw",
   "metadata": {},
   "source": []
  },
  {
   "cell_type": "code",
   "execution_count": 69,
   "metadata": {
    "collapsed": false
   },
   "outputs": [
    {
     "name": "stdout",
     "output_type": "stream",
     "text": [
      "3404\n"
     ]
    }
   ],
   "source": [
    "test=session.query(JDFLocs).count()\n",
    "print(test)"
   ]
  },
  {
   "cell_type": "code",
   "execution_count": 70,
   "metadata": {
    "collapsed": false
   },
   "outputs": [
    {
     "ename": "NameError",
     "evalue": "name 'Oxy_mLL' is not defined",
     "output_type": "error",
     "traceback": [
      "\u001b[1;31m---------------------------------------------------------------------------\u001b[0m",
      "\u001b[1;31mNameError\u001b[0m                                 Traceback (most recent call last)",
      "\u001b[1;32m<ipython-input-70-597fa06f7ea8>\u001b[0m in \u001b[0;36m<module>\u001b[1;34m()\u001b[0m\n\u001b[0;32m      1\u001b[0m qdata=session.query(JDFLocs.ObsID, Station.Lat, Station.Lon, Obs.Depth, Obs.Pressure, Tem, Sal, NO, \n\u001b[1;32m----> 2\u001b[1;33m             Oxy_mLL).join(Obs, JDFLocs.ObsID==Obs.ID).join(Station, Obs.StationTBLID==Station.ID).filter(and_(\n\u001b[0m\u001b[0;32m      3\u001b[0m                         \u001b[0mObs\u001b[0m\u001b[1;33m.\u001b[0m\u001b[0mDepth\u001b[0m\u001b[1;33m>\u001b[0m\u001b[1;36m50\u001b[0m\u001b[1;33m,\u001b[0m\u001b[1;33m\u001b[0m\u001b[0m\n\u001b[0;32m      4\u001b[0m                         \u001b[0mTem\u001b[0m\u001b[1;33m!=\u001b[0m\u001b[1;32mNone\u001b[0m\u001b[1;33m,\u001b[0m\u001b[1;33m\u001b[0m\u001b[0m\n\u001b[0;32m      5\u001b[0m                         \u001b[0mSal\u001b[0m\u001b[1;33m!=\u001b[0m\u001b[1;32mNone\u001b[0m\u001b[1;33m,\u001b[0m\u001b[1;33m\u001b[0m\u001b[0m\n",
      "\u001b[1;31mNameError\u001b[0m: name 'Oxy_mLL' is not defined"
     ]
    }
   ],
   "source": [
    "qdata=session.query(JDFLocs.ObsID, Station.Lat, Station.Lon, Obs.Depth, Obs.Pressure, Tem, Sal, NO, \n",
    "            Oxy_mLL).join(Obs, JDFLocs.ObsID==Obs.ID).join(Station, Obs.StationTBLID==Station.ID).filter(and_(\n",
    "                        Obs.Depth>50,\n",
    "                        Tem!=None, \n",
    "                        Sal!=None,\n",
    "                        NO!=None,\n",
    "                        Oxy_mLL!=None)\n",
    "                        )\n",
    "print(qdata.count())"
   ]
  },
  {
   "cell_type": "code",
   "execution_count": null,
   "metadata": {
    "collapsed": false
   },
   "outputs": [],
   "source": [
    "Lat=[]\n",
    "Lon=[]\n",
    "z=[]\n",
    "P=[]\n",
    "T=[]\n",
    "S=[]\n",
    "N=[]\n",
    "O=[]\n",
    "for row in qdata.all():\n",
    "    Lat.append(row[1])\n",
    "    Lon.append(row[2])\n",
    "    z.append(row[3])\n",
    "    P.append(row[4])\n",
    "    T.append(float(row[5]))\n",
    "    S.append(float(row[6]))\n",
    "    N.append(float(row[7]))\n",
    "    O.append(float(row[8]))"
   ]
  },
  {
   "cell_type": "code",
   "execution_count": null,
   "metadata": {
    "collapsed": false
   },
   "outputs": [],
   "source": [
    "print(T[0])"
   ]
  },
  {
   "cell_type": "code",
   "execution_count": null,
   "metadata": {
    "collapsed": true
   },
   "outputs": [],
   "source": [
    "N=np.array(N)\n",
    "S=np.array(S)\n",
    "T=np.array(T)\n",
    "O=np.array(O)"
   ]
  },
  {
   "cell_type": "code",
   "execution_count": null,
   "metadata": {
    "collapsed": false
   },
   "outputs": [],
   "source": [
    "plt.plot(S,N,'.')\n",
    "plt.xlabel('S')\n",
    "plt.ylabel('N')"
   ]
  },
  {
   "cell_type": "code",
   "execution_count": null,
   "metadata": {
    "collapsed": false
   },
   "outputs": [],
   "source": [
    "plt.plot(T,N,'.')\n",
    "plt.xlabel('T')\n",
    "plt.ylabel('N')"
   ]
  },
  {
   "cell_type": "code",
   "execution_count": null,
   "metadata": {
    "collapsed": false
   },
   "outputs": [],
   "source": [
    "plt.plot(O,N,'.')\n",
    "plt.xlabel('O')\n",
    "plt.ylabel('N')"
   ]
  },
  {
   "cell_type": "code",
   "execution_count": null,
   "metadata": {
    "collapsed": false
   },
   "outputs": [],
   "source": [
    "a=np.vstack([T,S,O,np.ones(len(T))]).T\n",
    "m = np.linalg.lstsq(a,N)[0]\n",
    "mT, mS, mO, mC = m\n",
    "print(mT, mS, mO, mC)"
   ]
  },
  {
   "cell_type": "code",
   "execution_count": null,
   "metadata": {
    "collapsed": false
   },
   "outputs": [],
   "source": [
    "plt.plot(N,np.dot(a,m),'.')\n",
    "plt.xlabel('NO')\n",
    "plt.ylabel('NO, linear model')\n",
    "SSE=np.dot((NO-np.dot(a,m)),(NO-np.dot(a,m)).T)\n",
    "plt.title('Linear Model: NO(T,S)')\n",
    "print('SSE=', SSE)\n",
    "plt.plot(np.array([0,40]), np.array([0, 40]),'r-')"
   ]
  },
  {
   "cell_type": "code",
   "execution_count": null,
   "metadata": {
    "collapsed": false
   },
   "outputs": [],
   "source": [
    "session.close()\n",
    "engine.dispose()"
   ]
  },
  {
   "cell_type": "code",
   "execution_count": null,
   "metadata": {
    "collapsed": true
   },
   "outputs": [],
   "source": []
  }
 ],
 "metadata": {
  "kernelspec": {
   "display_name": "Python 3",
   "language": "python",
   "name": "python3"
  },
  "language_info": {
   "codemirror_mode": {
    "name": "ipython",
    "version": 3
   },
   "file_extension": ".py",
   "mimetype": "text/x-python",
   "name": "python",
   "nbconvert_exporter": "python",
   "pygments_lexer": "ipython3",
   "version": "3.4.4"
  }
 },
 "nbformat": 4,
 "nbformat_minor": 0
}
