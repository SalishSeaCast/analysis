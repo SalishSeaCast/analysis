{
 "cells": [
  {
   "cell_type": "code",
   "execution_count": 5,
   "metadata": {
    "collapsed": false
   },
   "outputs": [],
   "source": [
    "from __future__ import division, print_function\n",
    "\n",
    "import os\n",
    "import matplotlib.pyplot as plt\n",
    "import numpy as np\n",
    "import scipy.io as sio\n",
    "import pandas as pd\n",
    "import datetime\n",
    "import glob\n",
    "\n",
    "import matplotlib.lines as mlines\n",
    "from mpl_toolkits.axes_grid1 import make_axes_locatable\n",
    "from mpl_toolkits.basemap import Basemap\n",
    "\n",
    "%matplotlib inline"
   ]
  },
  {
   "cell_type": "code",
   "execution_count": 1,
   "metadata": {
    "collapsed": false
   },
   "outputs": [
    {
     "ename": "SyntaxError",
     "evalue": "invalid syntax (<ipython-input-1-712e96ccd27a>, line 2)",
     "output_type": "error",
     "traceback": [
      "\u001b[1;36m  File \u001b[1;32m\"<ipython-input-1-712e96ccd27a>\"\u001b[1;36m, line \u001b[1;32m2\u001b[0m\n\u001b[1;33m    CruiseTBL:\u001b[0m\n\u001b[1;37m             ^\u001b[0m\n\u001b[1;31mSyntaxError\u001b[0m\u001b[1;31m:\u001b[0m invalid syntax\n"
     ]
    }
   ],
   "source": [
    "# lines to read:\n",
    "CruiseTBL:\n",
    "*ADMINISTRATION\n",
    "    MISSION             : 1982-31\n",
    "    AGENCY              : IOS, Ocean Ecology, Sidney, B.C.\n",
    "    COUNTRY             : Canada\n",
    "    PROJECT             : Strait of Georgia Pr\n",
    "    SCIENTIST           : Mackas D.\n",
    "    PLATFORM            : Vector\n",
    "    \n",
    "StationTBL:\n",
    "*LOCATION\n",
    "    STATION             : 26\n",
    "    EVENT NUMBER        : 24\n",
    "    LATITUDE            :  49  15.00000 N  ! (deg min)\n",
    "    LONGITUDE           : 123  56.58000 W  ! (deg min)\n",
    "    WATER DEPTH         : 238\n",
    "    CAST DEPTH          : 225  \n",
    "-> filename\n",
    "        \n",
    "ObsTBL:\n",
    "get varnames:\n",
    "    $TABLE: CHANNELS\n",
    "    ! No Name                    Units            Minimum        Maximum\n",
    "    !--- ----------------------- ---------------- -------------- --------------\n",
    "       1 Sample_Number           n/a              1              9\n",
    "       2 Depth                   metres           12             225.6\n",
    "       3 Nitrate_plus_Nitrite    umol/L           6.6            29.1\n",
    "       4 Silicate                umol/L           13.6           63.7\n",
    "       5 Phosphate               umol/L           0.64           2.68\n",
    "       6 Chlorophyll:Extracted   mg/m^3           0.61           5.28\n",
    "       7 Temperature             'deg C (IPTS68)' 8.32           14.3\n",
    "       8 Salinity                PSS-78           25.8           31.05\n",
    "       9 Transmissivity          %/metre          42.7           81.2\n",
    "    $END\n",
    "*FILE\n",
    "    START TIME          : PDT 1982/07/16 01:21:00.000\n",
    "data:\n",
    "*END OF HEADER\n",
    "    9  12.0   6.6  13.6   0.64   5.28  14.30  25.80  42.7\n",
    "    8  21.5  21.2  45.0   1.96   0.61  10.76  28.41  73.2\n",
    "    7  30.5  23.5  47.4   2.06 -99.00  10.06  28.89  74.9\n",
    "    6  52.3  28.0  50.2   2.35 -99.00   8.85  29.60  80.0\n",
    "    5  75.4  26.5  49.1   2.33 -99.00   8.32  29.99  81.2\n",
    "    4  99.6  26.1  40.5   2.25 -99.00   8.58  30.35  77.0\n",
    "    3 124.7  29.1  50.2   2.04 -99.00   8.73  30.62  76.1\n",
    "    2 149.3  25.3  48.9   2.23 -99.00   8.77  30.84  78.5\n",
    "    1 225.6  28.5  63.7   2.68 -99.00   8.92  31.05  76.8\n",
    "        \n",
    "        \n",
    "        \n",
    "        \n",
    "\n",
    "    for filename in sorted(filenames):\n",
    "        f = open(os.path.join(sdir, filename), 'rt')\n",
    "        ind=ind+1\n",
    "        #print(f.shape[0][1][2)\n",
    "        for line in f:\n",
    "            line = line.strip()\n",
    "            word = line.split()\n",
    "            #print(line.split(',')[0])\n",
    "            #print(word[0])\n",
    "            #print(line[:])\n",
    "\n",
    "            if (line.startswith('*') or word[0].startswith('L') or word[0].startswith('D')): #'*' for .cnv files; 'L' or 'D' \n",
    "#for .ctd files\n",
    "                # header line, look for useful info\n",
    "                if 'Latitude' in line:\n",
    "                    #print(word[2])#,word[4],word[5])\n",
    "                    if word[2] == 'Latitude':\n",
    "                        globals()['latitude%s' %i][ind-1]= float(word[4])+ float(word[5])/60\n",
    "                        #print(globals()['latitude%s' %i].shape)\n",
    "                        #print(globals()['latitude%s' %i][0])\n",
    "                    else:\n",
    "                        globals()['latitude%s' %i][ind-1]= float(word[2])+ float(word[3])/60\n",
    "                if 'LATITUDE' in line:\n",
    "                    #print(word[2])\n",
    "                    globals()['latitude%s' %i][ind-1]= float(word[2])\n",
    "                if 'Longitude' in line:\n",
    "                    #print(word[2],word[4],word[5])\n",
    "                    if word[2] == 'Longitude':\n",
    "                        globals()['longitude%s' %i][ind-1] = -(float(word[4])+ float(word[5])/60)                   \n",
    "                    else:\n",
    "                        globals()['longitude%s' %i][ind-1]= -float(word[2])+ float(word[3])/60\n",
    "                if 'LONGITUDE' in line:\n",
    "                    #print(word[2])\n",
    "                    globals()['longitude%s' %i][ind-1]= -float(word[2])\n",
    "                if '(Time)' in line:\n",
    "                    #print(word[3])#,word[6],word[7],word[8])\n",
    "                    if word[3] == '(Time)':\n",
    "                        string = word[7] + ' ' + word[5] + ' ' + word[6] # Date only\n",
    "                        #string = word[7] + ' ' + word[5] + ' ' + word[6] + ' ' + word[8] # Date & time\n",
    "                        #print(string)\n",
    "                        globals()['time%s' %i] = datetime.datetime.strptime(str(string),'%Y %b %d') # Date only\n",
    "                        #globals()['time%s' %i] = datetime.datetime.strptime(str(string),'%Y %b %d %H:%M:%S') # Date & time\n",
    "                        #print(globals()['time%s' %i])\n",
    "                    else:\n",
    "                        string = word[5] + ' ' + word[3] + ' ' + word[4]\n",
    "                        globals()['time%s' %i] = datetime.datetime.strptime(str(string),'%Y %b %d') # Date only\n",
    "                if 'DATE' in line:\n",
    "                    #print(word[2])\n",
    "                    string = word[2]\n",
    "                    globals()['time%s' %i] = datetime.datetime.strptime(str(string),'%d-%b-%Y')\n",
    "                    globals()['time%s' %i].strftime('%Y %b %d')\n",
    "                if '** Station' in line:\n",
    "                    station = line.partition(': ')[2]\n",
    "                #if line == '*END*':\n",
    "                 #   break\n",
    "            elif line.startswith('# name'):     \n",
    "                # comment line, look for plotable quantities information\n",
    "                #print(QUANTITIES.items())\n",
    "                #print(line.partition(': ')[2])\n",
    "                #print(int(line.split(' ')[2]))\n",
    "                if 'prDM' in line:\n",
    "                    indexp = int(line.split(' ')[2])\n",
    "                if 't090C' in line:\n",
    "                    indexT = int(line.split(' ')[2])\n",
    "                if 'sal00' in line:\n",
    "                    indexS = int(line.split(' ')[2])\n",
    "                if 'potemp090C' in line:\n",
    "                    indexTheta = int(line.split(' ')[2])\n",
    "                if 'sigma-é00' in line:\n",
    "                    indexSig = int(line.split(' ')[2])\n",
    "                    #print(indexS)\n",
    "                \n",
    "                \n",
    "            elif (line.startswith('1') or line.startswith('2') or line.startswith('3') \n",
    "                  or line.startswith('4') or line.startswith('5') or line.startswith('6') or \n",
    "                  line.startswith('7') or line.startswith('8') or line.startswith('9')) and ',' in line: ### ctd files \n",
    "                    j=j+1\n",
    "                    #print(line.split(',')[2])\n",
    "                    globals()['p%s' %i][ind-1,j]= line.split(',')[0]\n",
    "                    globals()['T%s' %i][ind-1,j]= line.split(',')[1]\n",
    "                    globals()['S%s' %i][ind-1,j]= line.split(',')[2]\n",
    "\n",
    "            elif (line.startswith('1') or line.startswith('2') or line.startswith('3') \n",
    "                  or line.startswith('4') or line.startswith('5') or line.startswith('6') or \n",
    "                  line.startswith('7') or line.startswith('8') or line.startswith('9')) and ',' not in line: ### CNV files\n",
    "                    j=j+1                    \n",
    "                    globals()['p%s' %i][ind-1,j]= word[indexp]\n",
    "                    globals()['T%s' %i][ind-1,j]= word[indexT]\n",
    "                    globals()['S%s' %i][ind-1,j]= word[indexS]\n",
    "                    if float(word[indexSig]) < 15.0: ### mistake in files from 2004: inversion of density column and pot temp column \n",
    "                        #print(\"Inversion Theta/Sig!!!\")\n",
    "                        globals()['theta%s' %i][ind-1,j]= word[indexSig]\n",
    "                        globals()['dens%s' %i][ind-1,j]= word[indexTheta]\n",
    "                    else:\n",
    "                        globals()['theta%s' %i][ind-1,j]= word[indexTheta]\n",
    "                        globals()['dens%s' %i][ind-1,j]= word[indexSig]    \n",
    "                    #print(globals()['dens%s' %i][ind-1,j])\n",
    "                    \n",
    "    #print(globals()['longitude%s' %i][2],globals()['time%s' %i])\n",
    "    #print(globals()['S%s' %i][0,:],globals()['S%s' %i][1,:])\n",
    "    #print(globals()['S%s' %i][0,:],globals()['S%s' %i][1,:])\n",
    "\n",
    "    xs,ys= m(globals()['longitude%s' %i],globals()['latitude%s' %i])\n",
    "    plt.plot(xs,ys,'o--',color=cmap((i-2003)*coef),label=i)\n",
    "    globals()['l%s' % i] = mlines.Line2D([], [],linestyle='--',marker='o',color=cmap((i-2003)*coef),markersize=5, label=i)\n",
    "    legend[i-i_init]=globals()['l%s' % i]\n",
    "    #print(legend)\n",
    "lgd=plt.legend(handles=legend,loc=1)\n",
    "frame = lgd.get_frame()\n",
    "frame.set_facecolor('1.0')\n",
    "\n",
    "plt.show()\n"
   ]
  },
  {
   "cell_type": "code",
   "execution_count": 3,
   "metadata": {
    "collapsed": false
   },
   "outputs": [
    {
     "data": {
      "image/png": "[encoded data removed]",
      "text/plain": [
       "<matplotlib.figure.Figure at 0x7fc1727d59d0>"
      ]
     },
     "metadata": {},
     "output_type": "display_data"
    }
   ],
   "source": [
    "#for i in xrange(i_init,i_final,1)    \n",
    "ax1 = plt.axes()#[0.08,0.1,0.25,0.4])\n",
    "ax1.invert_yaxis()\n",
    "\n",
    "ax1.plot(S2004,p2004,'b')    \n",
    "ax1.set_xlabel('Salinity')\n",
    "ax1.xaxis.label.set_color('blue')\n",
    "ax1.set_ylabel('Pressure')\n",
    "ax2 = ax1.twiny()\n",
    "ax2.plot(T2004,p2004,'r')\n",
    "ax2.set_xlabel('Temperature')\n",
    "    \n",
    "plt.show()"
   ]
  },
  {
   "cell_type": "code",
   "execution_count": 4,
   "metadata": {
    "collapsed": false
   },
   "outputs": [
    {
     "data": {
      "image/png": "[encoded data removed]",
      "text/plain": [
       "<matplotlib.figure.Figure at 0x7fc15c812210>"
      ]
     },
     "metadata": {},
     "output_type": "display_data"
    }
   ],
   "source": [
    "    ax1 = plt.axes()\n",
    "    ax1.invert_yaxis()\n",
    "\n",
    "    ax1.plot(S2004,T2004,'b*')    \n",
    "    ax1.set_xlabel('Salinity')\n",
    "    ax1.xaxis.label.set_color('blue')\n",
    "    ax1.set_ylabel('Temperature')\n",
    "    \n",
    "plt.show()"
   ]
  },
  {
   "cell_type": "code",
   "execution_count": 6,
   "metadata": {
    "collapsed": false
   },
   "outputs": [],
   "source": []
  },
  {
   "cell_type": "code",
   "execution_count": null,
   "metadata": {
    "collapsed": false
   },
   "outputs": [],
   "source": []
  },
  {
   "cell_type": "code",
   "execution_count": null,
   "metadata": {
    "collapsed": false
   },
   "outputs": [],
   "source": []
  }
 ],
 "metadata": {
  "kernelspec": {
   "display_name": "Python 3",
   "language": "python",
   "name": "python3"
  },
  "language_info": {
   "codemirror_mode": {
    "name": "ipython",
    "version": 3
   },
   "file_extension": ".py",
   "mimetype": "text/x-python",
   "name": "python",
   "nbconvert_exporter": "python",
   "pygments_lexer": "ipython3",
   "version": "3.4.4"
  }
 },
 "nbformat": 4,
 "nbformat_minor": 0
}
