{
 "cells": [
  {
   "cell_type": "code",
   "execution_count": 1,
   "metadata": {
    "collapsed": false
   },
   "outputs": [],
   "source": [
    "# imports\n",
    "from sqlalchemy import create_engine, Column, String, Integer, Numeric, MetaData, Table, type_coerce, case\n",
    "from sqlalchemy.orm import mapper, create_session\n",
    "from sqlalchemy.sql import and_, or_, not_, select, func\n",
    "import sqlalchemy.types as types\n",
    "from sqlalchemy.ext.automap import automap_base\n",
    "import csv\n",
    "import numpy as np\n",
    "import matplotlib.pyplot as plt\n",
    "import numbers\n",
    "import re\n",
    "import createDBfromCSV_NODC\n",
    "from os.path import isfile\n",
    "from mpl_toolkits.basemap import Basemap, shiftgrid, cm\n",
    "%matplotlib inline"
   ]
  },
  {
   "cell_type": "code",
   "execution_count": 2,
   "metadata": {
    "collapsed": false
   },
   "outputs": [],
   "source": [
    "# definitions\n",
    "file1='/ocean/eolson/MEOPAR/obs/WODSelect_46_52_m130_m122_nitrate/ocldb1452624712.14684.OSD.csv'\n",
    "outfile='/ocean/eolson/MEOPAR/obs/WODSelect_46_52_m130_m122_nitrate/WOD'"
   ]
  },
  {
   "cell_type": "code",
   "execution_count": 3,
   "metadata": {
    "collapsed": false
   },
   "outputs": [
    {
     "name": "stdout",
     "output_type": "stream",
     "text": [
      "file exists\n"
     ]
    }
   ],
   "source": [
    "# if outfile.sqlite does not exist, run script to create it\n",
    "if not isfile(outfile+'.sqlite'):\n",
    "    createDBfromCSV_NODC.main( file1, outfile)\n",
    "    print('done')\n",
    "else:\n",
    "    print('file exists')"
   ]
  },
  {
   "cell_type": "code",
   "execution_count": 4,
   "metadata": {
    "collapsed": true
   },
   "outputs": [],
   "source": [
    "# prepare to reflect DB structure\n",
    "Base = automap_base()\n",
    "\n",
    "# engine, suppose it has two tables 'user' and 'address' set up\n",
    "engine = create_engine('sqlite:///' + outfile + '.sqlite')\n",
    "\n",
    "# reflect the tables\n",
    "Base.prepare(engine, reflect=True)\n",
    "\n",
    "# mapped classes are now created with names by default\n",
    "# matching that of the table name.\n",
    "Stat=Base.classes.stationTBL\n",
    "Prof=Base.classes.profileTBL"
   ]
  },
  {
   "cell_type": "code",
   "execution_count": 5,
   "metadata": {
    "collapsed": true
   },
   "outputs": [],
   "source": [
    "session = create_session(bind = engine, autocommit = False, autoflush = True)"
   ]
  },
  {
   "cell_type": "raw",
   "metadata": {},
   "source": [
    "# START QUERYING"
   ]
  },
  {
   "cell_type": "code",
   "execution_count": 6,
   "metadata": {
    "collapsed": false
   },
   "outputs": [
    {
     "ename": "NameError",
     "evalue": "name 'Basemap' is not defined",
     "output_type": "error",
     "traceback": [
      "\u001b[1;31m---------------------------------------------------------------------------\u001b[0m",
      "\u001b[1;31mNameError\u001b[0m                                 Traceback (most recent call last)",
      "\u001b[1;32m<ipython-input-6-322707f3fd48>\u001b[0m in \u001b[0;36m<module>\u001b[1;34m()\u001b[0m\n\u001b[0;32m      2\u001b[0m \u001b[0mwidth\u001b[0m \u001b[1;33m=\u001b[0m \u001b[1;36m650000\u001b[0m\u001b[1;33m;\u001b[0m \u001b[0mlon_0\u001b[0m \u001b[1;33m=\u001b[0m \u001b[1;33m-\u001b[0m\u001b[1;36m126\u001b[0m\u001b[1;33m;\u001b[0m \u001b[0mlat_0\u001b[0m \u001b[1;33m=\u001b[0m \u001b[1;36m49.2\u001b[0m\u001b[1;33m\u001b[0m\u001b[0m\n\u001b[0;32m      3\u001b[0m \u001b[0mplt\u001b[0m\u001b[1;33m.\u001b[0m\u001b[0mfigure\u001b[0m\u001b[1;33m(\u001b[0m\u001b[0mfigsize\u001b[0m\u001b[1;33m=\u001b[0m\u001b[1;33m(\u001b[0m\u001b[1;36m10\u001b[0m\u001b[1;33m,\u001b[0m\u001b[1;36m10\u001b[0m\u001b[1;33m)\u001b[0m\u001b[1;33m)\u001b[0m\u001b[1;33m\u001b[0m\u001b[0m\n\u001b[1;32m----> 4\u001b[1;33m m = Basemap(width=width,height=width,projection='aeqd', resolution='h',\n\u001b[0m\u001b[0;32m      5\u001b[0m             lat_0=lat_0,lon_0=lon_0)\n\u001b[0;32m      6\u001b[0m \u001b[1;31m# fill background.\u001b[0m\u001b[1;33m\u001b[0m\u001b[1;33m\u001b[0m\u001b[0m\n",
      "\u001b[1;31mNameError\u001b[0m: name 'Basemap' is not defined"
     ]
    },
    {
     "data": {
      "text/plain": [
       "<matplotlib.figure.Figure at 0x7fbba6edc2e8>"
      ]
     },
     "metadata": {},
     "output_type": "display_data"
    }
   ],
   "source": [
    "# map:\n",
    "width = 650000; lon_0 = -126; lat_0 = 49.2\n",
    "plt.figure(figsize=(10,10))\n",
    "m = Basemap(width=width,height=width,projection='aeqd', resolution='h',\n",
    "            lat_0=lat_0,lon_0=lon_0)\n",
    "# fill background.\n",
    "m.drawmapboundary()\n",
    "# draw coasts and fill continents.\n",
    "m.drawcoastlines(linewidth=0.5)\n",
    "m.drawrivers()\n",
    "#m.shadedrelief()\n",
    "# 20 degree graticule.\n",
    "m.drawparallels(np.arange(40,60,2))\n",
    "m.drawmeridians(np.arange(-130,-110,2))\n",
    "plt.title('Salish Sea Region')\n",
    "\n",
    "q=session.query(Stat.Latitude, Stat.Longitude, Stat.Year, Stat.Month, Stat.Day, Prof.Depth, Prof.Ammonia).\\\n",
    "        select_from(Prof).join(Stat,Stat.CastID==Prof.CastID).filter(and_(\n",
    "            Prof.Ammonia!=None,\n",
    "            Stat.Latitude!=None,\n",
    "            Stat.Longitude!=None,\n",
    "            Stat.Month!=None))\n",
    "for Lat, Lon, Y, M, D, P, N in q.all():\n",
    "    if Lon>0:\n",
    "        Lon=-Lon\n",
    "    xpt, ypt = m(Lon, Lat)\n",
    "    m.plot([xpt],[ypt],'r.')"
   ]
  },
  {
   "cell_type": "code",
   "execution_count": 6,
   "metadata": {
    "collapsed": false
   },
   "outputs": [
    {
     "name": "stderr",
     "output_type": "stream",
     "text": [
      "/home/eolson/anaconda3/lib/python3.4/site-packages/sqlalchemy/sql/sqltypes.py:562: SAWarning: Dialect sqlite+pysqlite does *not* support Decimal objects natively, and SQLAlchemy must convert from floating point - rounding errors and other issues may occur. Please consider storing Decimal numbers as strings or integers on this platform for lossless storage.\n",
      "  'storage.' % (dialect.name, dialect.driver))\n"
     ]
    },
    {
     "data": {
      "text/plain": [
       "[<matplotlib.lines.Line2D at 0x7fad23123fd0>]"
      ]
     },
     "execution_count": 6,
     "metadata": {},
     "output_type": "execute_result"
    },
    {
     "data": {
      "image/png": "[encoded data removed]",
      "text/plain": [
       "<matplotlib.figure.Figure at 0x7fad23123cc0>"
      ]
     },
     "metadata": {},
     "output_type": "display_data"
    }
   ],
   "source": [
    "data2=session.query(Prof.Salinity, Prof.Nitrate).join(Stat, Stat.CastID==Prof.CastID).filter(\n",
    "    and_(\n",
    "        Stat.Latitude > 48.3,\n",
    "        Stat.Latitude < 48.8,\n",
    "        Stat.Longitude < -124.3,\n",
    "        Stat.Longitude > -125.2,\n",
    "        ))\n",
    "NO=[]\n",
    "S=[]\n",
    "for m, n in data2.all():\n",
    "    S.append(m)\n",
    "    NO.append(n)\n",
    "    \n",
    "plt.axis([28,35,0,40])\n",
    "plt.plot(S,NO,'.')"
   ]
  },
  {
   "cell_type": "code",
   "execution_count": 7,
   "metadata": {
    "collapsed": false
   },
   "outputs": [
    {
     "name": "stderr",
     "output_type": "stream",
     "text": [
      "/home/eolson/anaconda3/lib/python3.4/site-packages/sqlalchemy/sql/base.py:530: SAWarning: Column 'CastID' on table <sqlalchemy.sql.selectable.Select at 0x7fad2109a3c8; Select object> being replaced by Column('CastID', INTEGER(), table=<Select object>), which has the same key.  Consider use_labels for select() statements.\n",
      "  (key, getattr(existing, 'table', None), value))\n"
     ]
    }
   ],
   "source": [
    "qJDF=session.query(Stat, Prof).join(Prof, Stat.CastID==Prof.CastID).filter(\n",
    "    and_(\n",
    "        Stat.Latitude > 48.3,\n",
    "        Stat.Latitude < 48.8,\n",
    "        Stat.Longitude < -124.3,\n",
    "        Stat.Longitude > -125.2,\n",
    "        )).subquery()"
   ]
  },
  {
   "cell_type": "code",
   "execution_count": 8,
   "metadata": {
    "collapsed": false
   },
   "outputs": [
    {
     "name": "stdout",
     "output_type": "stream",
     "text": [
      "[(1961, 100), (1962, 55), (1963, 13), (1964, 15), (1971, 15), (1972, 1)]\n"
     ]
    },
    {
     "name": "stderr",
     "output_type": "stream",
     "text": [
      "/home/eolson/anaconda3/lib/python3.4/site-packages/sqlalchemy/sql/base.py:530: SAWarning: Column 'CastID' on table <sqlalchemy.sql.selectable.Alias at 0x7fad23158dd8; %(140381594684888 anon)s> being replaced by Column('CastID', INTEGER(), table=<%(140381594684888 anon)s>), which has the same key.  Consider use_labels for select() statements.\n",
      "  (key, getattr(existing, 'table', None), value))\n"
     ]
    }
   ],
   "source": [
    "q2=session.query(qJDF.c.Year, func.count(qJDF.c.Year)).group_by(qJDF.c.Year).all()\n",
    "print(q2)"
   ]
  },
  {
   "cell_type": "code",
   "execution_count": 11,
   "metadata": {
    "collapsed": false
   },
   "outputs": [
    {
     "name": "stdout",
     "output_type": "stream",
     "text": [
      "[(1931, 10), (1932, 39), (1958, 5), (1961, 80), (1962, 65), (1963, 117), (1964, 109), (1965, 208), (1966, 142), (1967, 20), (1968, 85), (1969, 40), (1970, 56), (1971, 18), (1972, 14), (1973, 34), (1974, 8), (1982, 58), (1985, 9), (1993, 3), (1994, 2), (1995, 8), (2007, 22)]\n"
     ]
    }
   ],
   "source": [
    "q3=session.query(Stat.Year, func.count(Stat.Year)).group_by(Stat.Year).all()\n",
    "print(q3)"
   ]
  },
  {
   "cell_type": "code",
   "execution_count": null,
   "metadata": {
    "collapsed": true
   },
   "outputs": [],
   "source": []
  },
  {
   "cell_type": "code",
   "execution_count": null,
   "metadata": {
    "collapsed": true
   },
   "outputs": [],
   "source": []
  },
  {
   "cell_type": "code",
   "execution_count": null,
   "metadata": {
    "collapsed": true
   },
   "outputs": [],
   "source": []
  },
  {
   "cell_type": "code",
   "execution_count": 9,
   "metadata": {
    "collapsed": false
   },
   "outputs": [
    {
     "ename": "NameError",
     "evalue": "name 'prof' is not defined",
     "output_type": "error",
     "traceback": [
      "\u001b[1;31m---------------------------------------------------------------------------\u001b[0m",
      "\u001b[1;31mNameError\u001b[0m                                 Traceback (most recent call last)",
      "\u001b[1;32m<ipython-input-9-5e227012a3e4>\u001b[0m in \u001b[0;36m<module>\u001b[1;34m()\u001b[0m\n\u001b[1;32m----> 1\u001b[1;33m s=select([prof.c.OBS_YEAR, prof.c.OBS_MONTH, prof.c.DEPTH_PRESS, prof.c.PSAL, prof.c.SSAL, prof.c.NTRA]).where(\n\u001b[0m\u001b[0;32m      2\u001b[0m     and_(\n\u001b[0;32m      3\u001b[0m         \u001b[0mprof\u001b[0m\u001b[1;33m.\u001b[0m\u001b[0mc\u001b[0m\u001b[1;33m.\u001b[0m\u001b[0mLATITUDE\u001b[0m \u001b[1;33m>\u001b[0m \u001b[1;36m48.3\u001b[0m\u001b[1;33m,\u001b[0m\u001b[1;33m\u001b[0m\u001b[0m\n\u001b[0;32m      4\u001b[0m         \u001b[0mprof\u001b[0m\u001b[1;33m.\u001b[0m\u001b[0mc\u001b[0m\u001b[1;33m.\u001b[0m\u001b[0mLATITUDE\u001b[0m \u001b[1;33m<\u001b[0m \u001b[1;36m48.8\u001b[0m\u001b[1;33m,\u001b[0m\u001b[1;33m\u001b[0m\u001b[0m\n\u001b[0;32m      5\u001b[0m         \u001b[0mprof\u001b[0m\u001b[1;33m.\u001b[0m\u001b[0mc\u001b[0m\u001b[1;33m.\u001b[0m\u001b[0mLONGITUDE\u001b[0m \u001b[1;33m<\u001b[0m \u001b[1;36m125.2\u001b[0m\u001b[1;33m,\u001b[0m\u001b[1;33m\u001b[0m\u001b[0m\n",
      "\u001b[1;31mNameError\u001b[0m: name 'prof' is not defined"
     ]
    }
   ],
   "source": [
    "s=select([prof.c.OBS_YEAR, prof.c.OBS_MONTH, prof.c.DEPTH_PRESS, prof.c.PSAL, prof.c.SSAL, prof.c.NTRA]).where(\n",
    "    and_(\n",
    "        prof.c.LATITUDE > 48.3,\n",
    "        prof.c.LATITUDE < 48.8,\n",
    "        prof.c.LONGITUDE < 125.2,\n",
    "        prof.c.LONGITUDE > 124.3,\n",
    "        prof.c.NTRA != 'NaN',\n",
    "        or_(\n",
    "            prof.c.PSAL !='NaN',\n",
    "            prof.c.SSAL !='NaN'\n",
    "            )\n",
    "        ))\n",
    "results=conn.execute(s).fetchall()\n",
    "print(results[1])"
   ]
  },
  {
   "cell_type": "raw",
   "metadata": {},
   "source": [
    "s=select([prof.c.OBS_YEAR, prof.c.OBS_MONTH, prof.c.DEPTH_PRESS, prof.c.PSAL, prof.c.SSAL, \n",
    "          prof.c.NTRA, func.case(\n",
    "                [(prof.c.SSAL == 'NaN', prof.c.PSAL),\n",
    "                 (prof.c.SSAL != 'NaN', prof.c.SSAL)\n",
    "                ])\n",
    "        ]).where(\n",
    "            and_(\n",
    "                prof.c.LATITUDE > 48.3,\n",
    "                prof.c.LATITUDE < 48.8,\n",
    "                prof.c.LONGITUDE < 125.2,\n",
    "                prof.c.LONGITUDE > 124.3,\n",
    "                prof.c.NTRA != 'NaN',\n",
    "                prof.c.PSAL !='NaN',\n",
    "                )\n",
    "            )\n",
    "conn.execute(s).fetchall()\n"
   ]
  },
  {
   "cell_type": "code",
   "execution_count": null,
   "metadata": {
    "collapsed": true
   },
   "outputs": [],
   "source": []
  },
  {
   "cell_type": "code",
   "execution_count": null,
   "metadata": {
    "collapsed": true
   },
   "outputs": [],
   "source": []
  },
  {
   "cell_type": "code",
   "execution_count": null,
   "metadata": {
    "collapsed": false
   },
   "outputs": [],
   "source": [
    "conn.close()\n",
    "engine.dispose()"
   ]
  }
 ],
 "metadata": {
  "kernelspec": {
   "display_name": "Python 3",
   "language": "python",
   "name": "python3"
  },
  "language_info": {
   "codemirror_mode": {
    "name": "ipython",
    "version": 3
   },
   "file_extension": ".py",
   "mimetype": "text/x-python",
   "name": "python",
   "nbconvert_exporter": "python",
   "pygments_lexer": "ipython3",
   "version": "3.4.4"
  }
 },
 "nbformat": 4,
 "nbformat_minor": 0
}
