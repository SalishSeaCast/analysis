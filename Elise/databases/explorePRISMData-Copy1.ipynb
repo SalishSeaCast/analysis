{
 "cells": [
  {
   "cell_type": "code",
   "execution_count": 18,
   "metadata": {
    "collapsed": false
   },
   "outputs": [],
   "source": [
    "# imports\n",
    "from sqlalchemy import create_engine, Column, String, Integer, Numeric, MetaData, Table, type_coerce, ForeignKey\n",
    "from sqlalchemy.orm import mapper, create_session, relationship, aliased\n",
    "from sqlalchemy.ext.declarative import declarative_base\n",
    "import csv\n",
    "from sqlalchemy import case\n",
    "import numpy as np\n",
    "from sqlalchemy.ext.automap import automap_base\n",
    "import matplotlib.pyplot as plt\n",
    "import sqlalchemy.types as types\n",
    "import numbers\n",
    "from sqlalchemy.sql import and_, or_, not_, func\n",
    "from sqlalchemy.sql import select\n",
    "import os\n",
    "import glob\n",
    "import re\n",
    "%matplotlib inline"
   ]
  },
  {
   "cell_type": "code",
   "execution_count": 2,
   "metadata": {
    "collapsed": true
   },
   "outputs": [],
   "source": [
    "# definitions\n",
    "basepath='/ocean/eolson/MEOPAR/obs/'\n",
    "basedir=basepath + 'NANOOS_PRISMCRUISES/'\n",
    "dbname='PRISM'"
   ]
  },
  {
   "cell_type": "code",
   "execution_count": 3,
   "metadata": {
    "collapsed": false
   },
   "outputs": [],
   "source": [
    "engine = create_engine('sqlite:///' + basedir + dbname + '.sqlite')"
   ]
  },
  {
   "cell_type": "code",
   "execution_count": 3,
   "metadata": {
    "collapsed": false
   },
   "outputs": [
    {
     "name": "stdout",
     "output_type": "stream",
     "text": [
      "['PRISM_Cruise-2008_August-Data', 'PRISM_Cruise-2008_February-Data', 'PRISM_Cruise-2011_October-Data', 'PRISM_Cruise-2000_June-Data', 'PRISM_Cruise-1998_December-Data', 'PRISM_Cruise-2009_September-Data', 'PRISM_Cruise-2010_October-Data', 'PRISM_Cruise-2004_December-Data', 'PRISM_Cruise-2001_November-Data', 'PRISM_Cruise-1999_June-Data', 'PRISM_Cruise-1998_June-Data', 'PRISM_Cruise-2001_June-Data', 'PRISM_Cruise-2006_December-Data', 'PRISM_Cruise-2000_December-Data', 'PRISM_Cruise-2005_June-Data', 'PRISM_Cruise-2002_June-Data', 'PRISM_Cruise-2002_December-Data', 'PRISM_Cruise-2003_June-Data', 'PRISM_Cruise-2004_July-Data', 'PRISM_Cruise-2009_December-Data', 'PRISM_Cruise-2003_December-Data', 'PRISM_Cruise-1999_August-Data', 'PRISM_Cruise-2007_June-Data', 'PRISM_Cruise-2006_June-Data', 'PRISM_Cruise-2009_February-Data', 'PRISM_Cruise-2005_December-Data', 'PRISM_Cruise-1999_December-Data']\n"
     ]
    }
   ],
   "source": [
    "dirs=[x for x in os.listdir(basedir) if os.path.isdir(basedir+x)]\n",
    "print(dirs)"
   ]
  },
  {
   "cell_type": "code",
   "execution_count": 5,
   "metadata": {
    "collapsed": false
   },
   "outputs": [],
   "source": [
    "Base=declarative_base()"
   ]
  },
  {
   "cell_type": "code",
   "execution_count": 6,
   "metadata": {
    "collapsed": false
   },
   "outputs": [],
   "source": [
    "class forceNumeric(types.TypeDecorator):\n",
    "\n",
    "    impl = types.Numeric\n",
    "\n",
    "    def process_bind_param(self, value, dialect):\n",
    "        try:\n",
    "            int(float(value))\n",
    "        except:\n",
    "            value = None\n",
    "        return value\n",
    "\n",
    "class forceInt(types.TypeDecorator):\n",
    "    \n",
    "    impl = types.Integer\n",
    "    def process_bind_param(self, value, dialect):\n",
    "        try:\n",
    "            int(value)\n",
    "        except:\n",
    "            value = None\n",
    "        return value\n"
   ]
  },
  {
   "cell_type": "code",
   "execution_count": 7,
   "metadata": {
    "collapsed": true
   },
   "outputs": [],
   "source": [
    "def coltype(ikey):\n",
    "    typedict = {\n",
    "        'cast_lat': forceNumeric(),\n",
    "        'cast_lon': forceNumeric(),\n",
    "        'cast_dbid': forceInt(),\n",
    "        'depth': forceNumeric(),\n",
    "        'value': forceNumeric(),\n",
    "        'station_lat': forceNumeric(),\n",
    "        'station_lon': forceNumeric(),\n",
    "    }\n",
    "    return typedict.get(ikey, String())\n",
    "    "
   ]
  },
  {
   "cell_type": "code",
   "execution_count": 8,
   "metadata": {
    "collapsed": false
   },
   "outputs": [
    {
     "name": "stdout",
     "output_type": "stream",
     "text": [
      "/ocean/eolson/MEOPAR/obs/NANOOS_PRISMCRUISES/PRISM_Cruise-2008_August-Data/PRISM_Cruise_Aug_2008_ObservationsData_NANOOSver20120514.csv\n",
      "/ocean/eolson/MEOPAR/obs/NANOOS_PRISMCRUISES/PRISM_Cruise-2008_August-Data/PRISM_Cruise_Aug_2008_Information_NANOOSver20120514.csv\n",
      "/ocean/eolson/MEOPAR/obs/NANOOS_PRISMCRUISES/PRISM_Cruise-2008_August-Data/PRISM_Cruise_Aug_2008_CastInformation_NANOOSver20120514.csv\n"
     ]
    }
   ],
   "source": [
    "f0Obs=glob.glob(basedir+dirs[0]+'/*_ObservationsData_*.csv')[0]\n",
    "print(f0Obs)\n",
    "f0Info=glob.glob(basedir+dirs[0]+'/*_Information_*.csv')[0]\n",
    "print(f0Info)\n",
    "f0Cast=glob.glob(basedir+dirs[0]+'/*_CastInformation_*.csv')[0]\n",
    "print(f0Cast)"
   ]
  },
  {
   "cell_type": "code",
   "execution_count": 9,
   "metadata": {
    "collapsed": false
   },
   "outputs": [
    {
     "name": "stdout",
     "output_type": "stream",
     "text": [
      "['cruise_name', 'cruise_code', 'datetime_mid', 'datetime_start', 'datetime_end']\n",
      "['cruise_name', 'datetime_mid', 'datetime_start', 'datetime_end']\n",
      "['cast_dbid', 'cast_type', 'cast_datetime', 'cast_lat', 'cast_lon', 'station_name', 'station_lat', 'station_lon']\n",
      "['cast_type', 'cast_datetime', 'cast_lat', 'cast_lon', 'station_name', 'station_lat', 'station_lon']\n",
      "['cast_dbid', 'cast_type', 'cast_datetime', 'cast_lat', 'cast_lon', 'station_name', 'depth', 'analysis_method', 'variable', 'value']\n",
      "['cast_type', 'cast_datetime', 'cast_lat', 'cast_lon', 'station_name', 'depth', 'analysis_method', 'variable', 'value']\n"
     ]
    }
   ],
   "source": [
    "f=open(f0Info,'r')\n",
    "headerInfo=re.split('\\s*,\\s*',f.readline().rstrip())\n",
    "print (headerInfo)\n",
    "headerInfo = [x for x in headerInfo if x not in {'cruise_code'}]\n",
    "print(headerInfo)\n",
    "f.close()\n",
    "f=open(f0Cast,'r')\n",
    "headerCast=re.split('\\s*,\\s*',f.readline().rstrip())\n",
    "print (headerCast)\n",
    "headerCast = [x for x in headerCast if x not in {'cast_dbid'}]\n",
    "print(headerCast)\n",
    "f.close()\n",
    "f=open(f0Obs,'r')\n",
    "headerObs=re.split('\\s*,\\s*',f.readline().rstrip())\n",
    "print (headerObs)\n",
    "headerObs = [x for x in headerObs if x not in {'cast_dbid'}]\n",
    "print(headerObs)\n",
    "f.close()"
   ]
  },
  {
   "cell_type": "code",
   "execution_count": 10,
   "metadata": {
    "collapsed": true
   },
   "outputs": [],
   "source": [
    "class InfoTBL(Base):\n",
    "    __table__ = Table('InfoTBL', Base.metadata, \n",
    "                Column('cruise_code', String, primary_key=True),\n",
    "                *(Column(cname, coltype(cname)) for cname in headerInfo))"
   ]
  },
  {
   "cell_type": "code",
   "execution_count": 11,
   "metadata": {
    "collapsed": true
   },
   "outputs": [],
   "source": [
    "class CastTBL(Base):\n",
    "    __table__=Table('CastTBL', Base.metadata,\n",
    "                Column('cast_dbid', forceInt, primary_key=True),\n",
    "                Column('cruise_code',String, ForeignKey('InfoTBL.cruise_code')),\n",
    "                *(Column(cname, coltype(cname)) for cname in headerCast))\n",
    "    \n",
    "    info=relationship(InfoTBL, primaryjoin=__table__.c.cruise_code == InfoTBL.cruise_code)\n",
    "    "
   ]
  },
  {
   "cell_type": "code",
   "execution_count": 12,
   "metadata": {
    "collapsed": false,
    "scrolled": true
   },
   "outputs": [],
   "source": [
    "class ObsTBL(Base):\n",
    "    __table__=Table('ObsTBL', Base.metadata,\n",
    "                    Column('id', Integer, primary_key=True),\n",
    "                    Column('cast_dbid', forceInt, ForeignKey('CastTBL.cast_dbid')),\n",
    "                    *(Column(cname, coltype(cname)) for cname in headerObs))\n",
    "           \n",
    "    cast=relationship(CastTBL, primaryjoin=__table__.c.cast_dbid == CastTBL.cast_dbid)"
   ]
  },
  {
   "cell_type": "code",
   "execution_count": 13,
   "metadata": {
    "collapsed": true
   },
   "outputs": [],
   "source": [
    "Base.metadata.create_all(engine)"
   ]
  },
  {
   "cell_type": "code",
   "execution_count": 14,
   "metadata": {
    "collapsed": true
   },
   "outputs": [],
   "source": [
    "session = create_session(bind = engine, autocommit = False, autoflush = True)"
   ]
  },
  {
   "cell_type": "code",
   "execution_count": 15,
   "metadata": {
    "collapsed": false
   },
   "outputs": [
    {
     "name": "stdout",
     "output_type": "stream",
     "text": [
      "/ocean/eolson/MEOPAR/obs/NANOOS_PRISMCRUISES/PRISM_Cruise-2008_August-Data/PRISM_Cruise_Aug_2008_ObservationsData_NANOOSver20120514.csv\n",
      "/ocean/eolson/MEOPAR/obs/NANOOS_PRISMCRUISES/PRISM_Cruise-2008_August-Data/PRISM_Cruise_Aug_2008_Information_NANOOSver20120514.csv\n",
      "/ocean/eolson/MEOPAR/obs/NANOOS_PRISMCRUISES/PRISM_Cruise-2008_August-Data/PRISM_Cruise_Aug_2008_CastInformation_NANOOSver20120514.csv\n",
      "/ocean/eolson/MEOPAR/obs/NANOOS_PRISMCRUISES/PRISM_Cruise-2008_February-Data/PRISM_Cruise_Feb_2008_ObservationsData_NANOOSver20120514.csv\n",
      "/ocean/eolson/MEOPAR/obs/NANOOS_PRISMCRUISES/PRISM_Cruise-2008_February-Data/PRISM_Cruise_Feb_2008_Information_NANOOSver20120514.csv\n",
      "/ocean/eolson/MEOPAR/obs/NANOOS_PRISMCRUISES/PRISM_Cruise-2008_February-Data/PRISM_Cruise_Feb_2008_CastInformation_NANOOSver20120514.csv\n",
      "/ocean/eolson/MEOPAR/obs/NANOOS_PRISMCRUISES/PRISM_Cruise-2011_October-Data/PRISM_Cruise_Oct_2011_ObservationsData_NANOOSver20120514.csv\n",
      "/ocean/eolson/MEOPAR/obs/NANOOS_PRISMCRUISES/PRISM_Cruise-2011_October-Data/PRISM_Cruise_Oct_2011_Information_NANOOSver20120514.csv\n",
      "/ocean/eolson/MEOPAR/obs/NANOOS_PRISMCRUISES/PRISM_Cruise-2011_October-Data/PRISM_Cruise_Oct_2011_CastInformation_NANOOSver20120514.csv\n",
      "/ocean/eolson/MEOPAR/obs/NANOOS_PRISMCRUISES/PRISM_Cruise-2000_June-Data/PRISM_Cruise_Jun_2000_ObservationsData_NANOOSver20120514.csv\n",
      "/ocean/eolson/MEOPAR/obs/NANOOS_PRISMCRUISES/PRISM_Cruise-2000_June-Data/PRISM_Cruise_Jun_2000_Information_NANOOSver20120514.csv\n",
      "/ocean/eolson/MEOPAR/obs/NANOOS_PRISMCRUISES/PRISM_Cruise-2000_June-Data/PRISM_Cruise_Jun_2000_CastInformation_NANOOSver20120514.csv\n",
      "/ocean/eolson/MEOPAR/obs/NANOOS_PRISMCRUISES/PRISM_Cruise-1998_December-Data/PRISM_Cruise_Dec_1998_ObservationsData_NANOOSver20120514.csv\n",
      "/ocean/eolson/MEOPAR/obs/NANOOS_PRISMCRUISES/PRISM_Cruise-1998_December-Data/PRISM_Cruise_Dec_1998_Information_NANOOSver20120514.csv\n",
      "/ocean/eolson/MEOPAR/obs/NANOOS_PRISMCRUISES/PRISM_Cruise-1998_December-Data/PRISM_Cruise_Dec_1998_CastInformation_NANOOSver20120514.csv\n",
      "/ocean/eolson/MEOPAR/obs/NANOOS_PRISMCRUISES/PRISM_Cruise-2009_September-Data/PRISM_Cruise_Sep_2009_ObservationsData_NANOOSver20120514.csv\n",
      "/ocean/eolson/MEOPAR/obs/NANOOS_PRISMCRUISES/PRISM_Cruise-2009_September-Data/PRISM_Cruise_Sep_2009_Information_NANOOSver20120514.csv\n",
      "/ocean/eolson/MEOPAR/obs/NANOOS_PRISMCRUISES/PRISM_Cruise-2009_September-Data/PRISM_Cruise_Sep_2009_CastInformation_NANOOSver20120514.csv\n",
      "/ocean/eolson/MEOPAR/obs/NANOOS_PRISMCRUISES/PRISM_Cruise-2010_October-Data/PRISM_Cruise_Oct_2010_ObservationsData_NANOOSver20120514.csv\n",
      "/ocean/eolson/MEOPAR/obs/NANOOS_PRISMCRUISES/PRISM_Cruise-2010_October-Data/PRISM_Cruise_Oct_2010_Information_NANOOSver20120514.csv\n",
      "/ocean/eolson/MEOPAR/obs/NANOOS_PRISMCRUISES/PRISM_Cruise-2010_October-Data/PRISM_Cruise_Oct_2010_CastInformation_NANOOSver20120514.csv\n",
      "/ocean/eolson/MEOPAR/obs/NANOOS_PRISMCRUISES/PRISM_Cruise-2004_December-Data/PRISM_Cruise_Dec_2004_ObservationsData_NANOOSver20120514.csv\n",
      "/ocean/eolson/MEOPAR/obs/NANOOS_PRISMCRUISES/PRISM_Cruise-2004_December-Data/PRISM_Cruise_Dec_2004_Information_NANOOSver20120514.csv\n",
      "/ocean/eolson/MEOPAR/obs/NANOOS_PRISMCRUISES/PRISM_Cruise-2004_December-Data/PRISM_Cruise_Dec_2004_CastInformation_NANOOSver20120514.csv\n",
      "/ocean/eolson/MEOPAR/obs/NANOOS_PRISMCRUISES/PRISM_Cruise-2001_November-Data/PRISM_Cruise_Nov_2001_ObservationsData_NANOOSver20120514.csv\n",
      "/ocean/eolson/MEOPAR/obs/NANOOS_PRISMCRUISES/PRISM_Cruise-2001_November-Data/PRISM_Cruise_Nov_2001_Information_NANOOSver20120514.csv\n",
      "/ocean/eolson/MEOPAR/obs/NANOOS_PRISMCRUISES/PRISM_Cruise-2001_November-Data/PRISM_Cruise_Nov_2001_CastInformation_NANOOSver20120514.csv\n",
      "/ocean/eolson/MEOPAR/obs/NANOOS_PRISMCRUISES/PRISM_Cruise-1999_June-Data/PRISM_Cruise_Jun_1999_ObservationsData_NANOOSver20120514.csv\n",
      "/ocean/eolson/MEOPAR/obs/NANOOS_PRISMCRUISES/PRISM_Cruise-1999_June-Data/PRISM_Cruise_Jun_1999_Information_NANOOSver20120514.csv\n",
      "/ocean/eolson/MEOPAR/obs/NANOOS_PRISMCRUISES/PRISM_Cruise-1999_June-Data/PRISM_Cruise_Jun_1999_CastInformation_NANOOSver20120514.csv\n",
      "/ocean/eolson/MEOPAR/obs/NANOOS_PRISMCRUISES/PRISM_Cruise-1998_June-Data/PRISM_Cruise_Jun_1998_ObservationsData_NANOOSver20120514.csv\n",
      "/ocean/eolson/MEOPAR/obs/NANOOS_PRISMCRUISES/PRISM_Cruise-1998_June-Data/PRISM_Cruise_Jun_1998_Information_NANOOSver20120514.csv\n",
      "/ocean/eolson/MEOPAR/obs/NANOOS_PRISMCRUISES/PRISM_Cruise-1998_June-Data/PRISM_Cruise_Jun_1998_CastInformation_NANOOSver20120514.csv\n",
      "/ocean/eolson/MEOPAR/obs/NANOOS_PRISMCRUISES/PRISM_Cruise-2001_June-Data/PRISM_Cruise_Jun_2001_ObservationsData_NANOOSver20120514.csv\n",
      "/ocean/eolson/MEOPAR/obs/NANOOS_PRISMCRUISES/PRISM_Cruise-2001_June-Data/PRISM_Cruise_Jun_2001_Information_NANOOSver20120514.csv\n",
      "/ocean/eolson/MEOPAR/obs/NANOOS_PRISMCRUISES/PRISM_Cruise-2001_June-Data/PRISM_Cruise_Jun_2001_CastInformation_NANOOSver20120514.csv\n",
      "/ocean/eolson/MEOPAR/obs/NANOOS_PRISMCRUISES/PRISM_Cruise-2006_December-Data/PRISM_Cruise_Dec_2006_ObservationsData_NANOOSver20120514.csv\n",
      "/ocean/eolson/MEOPAR/obs/NANOOS_PRISMCRUISES/PRISM_Cruise-2006_December-Data/PRISM_Cruise_Dec_2006_Information_NANOOSver20120514.csv\n",
      "/ocean/eolson/MEOPAR/obs/NANOOS_PRISMCRUISES/PRISM_Cruise-2006_December-Data/PRISM_Cruise_Dec_2006_CastInformation_NANOOSver20120514.csv\n",
      "/ocean/eolson/MEOPAR/obs/NANOOS_PRISMCRUISES/PRISM_Cruise-2000_December-Data/PRISM_Cruise_Dec_2000_ObservationsData_NANOOSver20120514.csv\n",
      "/ocean/eolson/MEOPAR/obs/NANOOS_PRISMCRUISES/PRISM_Cruise-2000_December-Data/PRISM_Cruise_Dec_2000_Information_NANOOSver20120514.csv\n",
      "/ocean/eolson/MEOPAR/obs/NANOOS_PRISMCRUISES/PRISM_Cruise-2000_December-Data/PRISM_Cruise_Dec_2000_CastInformation_NANOOSver20120514.csv\n",
      "/ocean/eolson/MEOPAR/obs/NANOOS_PRISMCRUISES/PRISM_Cruise-2005_June-Data/PRISM_Cruise_Jun_2005_ObservationsData_NANOOSver20120514.csv\n",
      "/ocean/eolson/MEOPAR/obs/NANOOS_PRISMCRUISES/PRISM_Cruise-2005_June-Data/PRISM_Cruise_Jun_2005_Information_NANOOSver20120514.csv\n",
      "/ocean/eolson/MEOPAR/obs/NANOOS_PRISMCRUISES/PRISM_Cruise-2005_June-Data/PRISM_Cruise_Jun_2005_CastInformation_NANOOSver20120514.csv\n",
      "/ocean/eolson/MEOPAR/obs/NANOOS_PRISMCRUISES/PRISM_Cruise-2002_June-Data/PRISM_Cruise_Jun_2002_ObservationsData_NANOOSver20120514.csv\n",
      "/ocean/eolson/MEOPAR/obs/NANOOS_PRISMCRUISES/PRISM_Cruise-2002_June-Data/PRISM_Cruise_Jun_2002_Information_NANOOSver20120514.csv\n",
      "/ocean/eolson/MEOPAR/obs/NANOOS_PRISMCRUISES/PRISM_Cruise-2002_June-Data/PRISM_Cruise_Jun_2002_CastInformation_NANOOSver20120514.csv\n",
      "/ocean/eolson/MEOPAR/obs/NANOOS_PRISMCRUISES/PRISM_Cruise-2002_December-Data/PRISM_Cruise_Dec_2002_ObservationsData_NANOOSver20120514.csv\n",
      "/ocean/eolson/MEOPAR/obs/NANOOS_PRISMCRUISES/PRISM_Cruise-2002_December-Data/PRISM_Cruise_Dec_2002_Information_NANOOSver20120514.csv\n",
      "/ocean/eolson/MEOPAR/obs/NANOOS_PRISMCRUISES/PRISM_Cruise-2002_December-Data/PRISM_Cruise_Dec_2002_CastInformation_NANOOSver20120514.csv\n",
      "/ocean/eolson/MEOPAR/obs/NANOOS_PRISMCRUISES/PRISM_Cruise-2003_June-Data/PRISM_Cruise_Jun_2003_ObservationsData_NANOOSver20120514.csv\n",
      "/ocean/eolson/MEOPAR/obs/NANOOS_PRISMCRUISES/PRISM_Cruise-2003_June-Data/PRISM_Cruise_Jun_2003_Information_NANOOSver20120514.csv\n",
      "/ocean/eolson/MEOPAR/obs/NANOOS_PRISMCRUISES/PRISM_Cruise-2003_June-Data/PRISM_Cruise_Jun_2003_CastInformation_NANOOSver20120514.csv\n",
      "/ocean/eolson/MEOPAR/obs/NANOOS_PRISMCRUISES/PRISM_Cruise-2004_July-Data/PRISM_Cruise_Jul_2004_ObservationsData_NANOOSver20120514.csv\n",
      "/ocean/eolson/MEOPAR/obs/NANOOS_PRISMCRUISES/PRISM_Cruise-2004_July-Data/PRISM_Cruise_Jul_2004_Information_NANOOSver20120514.csv\n",
      "/ocean/eolson/MEOPAR/obs/NANOOS_PRISMCRUISES/PRISM_Cruise-2004_July-Data/PRISM_Cruise_Jul_2004_CastInformation_NANOOSver20120514.csv\n",
      "/ocean/eolson/MEOPAR/obs/NANOOS_PRISMCRUISES/PRISM_Cruise-2009_December-Data/PRISM_Cruise_Dec_2009_ObservationsData_NANOOSver20120514.csv\n",
      "/ocean/eolson/MEOPAR/obs/NANOOS_PRISMCRUISES/PRISM_Cruise-2009_December-Data/PRISM_Cruise_Dec_2009_Information_NANOOSver20120514.csv\n",
      "/ocean/eolson/MEOPAR/obs/NANOOS_PRISMCRUISES/PRISM_Cruise-2009_December-Data/PRISM_Cruise_Dec_2009_CastInformation_NANOOSver20120514.csv\n",
      "/ocean/eolson/MEOPAR/obs/NANOOS_PRISMCRUISES/PRISM_Cruise-2003_December-Data/PRISM_Cruise_Dec_2003_ObservationsData_NANOOSver20120514.csv\n",
      "/ocean/eolson/MEOPAR/obs/NANOOS_PRISMCRUISES/PRISM_Cruise-2003_December-Data/PRISM_Cruise_Dec_2003_Information_NANOOSver20120514.csv\n",
      "/ocean/eolson/MEOPAR/obs/NANOOS_PRISMCRUISES/PRISM_Cruise-2003_December-Data/PRISM_Cruise_Dec_2003_CastInformation_NANOOSver20120514.csv\n",
      "/ocean/eolson/MEOPAR/obs/NANOOS_PRISMCRUISES/PRISM_Cruise-1999_August-Data/PRISM_Cruise_Aug_1999_ObservationsData_NANOOSver20120514.csv\n",
      "/ocean/eolson/MEOPAR/obs/NANOOS_PRISMCRUISES/PRISM_Cruise-1999_August-Data/PRISM_Cruise_Aug_1999_Information_NANOOSver20120514.csv\n",
      "/ocean/eolson/MEOPAR/obs/NANOOS_PRISMCRUISES/PRISM_Cruise-1999_August-Data/PRISM_Cruise_Aug_1999_CastInformation_NANOOSver20120514.csv\n",
      "/ocean/eolson/MEOPAR/obs/NANOOS_PRISMCRUISES/PRISM_Cruise-2007_June-Data/PRISM_Cruise_Jun_2007_ObservationsData_NANOOSver20120514.csv\n",
      "/ocean/eolson/MEOPAR/obs/NANOOS_PRISMCRUISES/PRISM_Cruise-2007_June-Data/PRISM_Cruise_Jun_2007_Information_NANOOSver20120514.csv\n",
      "/ocean/eolson/MEOPAR/obs/NANOOS_PRISMCRUISES/PRISM_Cruise-2007_June-Data/PRISM_Cruise_Jun_2007_CastInformation_NANOOSver20120514.csv\n",
      "/ocean/eolson/MEOPAR/obs/NANOOS_PRISMCRUISES/PRISM_Cruise-2006_June-Data/PRISM_Cruise_Jun_2006_ObservationsData_NANOOSver20120514.csv\n",
      "/ocean/eolson/MEOPAR/obs/NANOOS_PRISMCRUISES/PRISM_Cruise-2006_June-Data/PRISM_Cruise_Jun_2006_Information_NANOOSver20120514.csv\n",
      "/ocean/eolson/MEOPAR/obs/NANOOS_PRISMCRUISES/PRISM_Cruise-2006_June-Data/PRISM_Cruise_Jun_2006_CastInformation_NANOOSver20120514.csv\n",
      "/ocean/eolson/MEOPAR/obs/NANOOS_PRISMCRUISES/PRISM_Cruise-2009_February-Data/PRISM_Cruise_Feb_2009_ObservationsData_NANOOSver20120514.csv\n",
      "/ocean/eolson/MEOPAR/obs/NANOOS_PRISMCRUISES/PRISM_Cruise-2009_February-Data/PRISM_Cruise_Feb_2009_Information_NANOOSver20120514.csv\n",
      "/ocean/eolson/MEOPAR/obs/NANOOS_PRISMCRUISES/PRISM_Cruise-2009_February-Data/PRISM_Cruise_Feb_2009_CastInformation_NANOOSver20120514.csv\n",
      "/ocean/eolson/MEOPAR/obs/NANOOS_PRISMCRUISES/PRISM_Cruise-2005_December-Data/PRISM_Cruise_Dec_2005_ObservationsData_NANOOSver20120514.csv\n",
      "/ocean/eolson/MEOPAR/obs/NANOOS_PRISMCRUISES/PRISM_Cruise-2005_December-Data/PRISM_Cruise_Dec_2005_Information_NANOOSver20120514.csv\n",
      "/ocean/eolson/MEOPAR/obs/NANOOS_PRISMCRUISES/PRISM_Cruise-2005_December-Data/PRISM_Cruise_Dec_2005_CastInformation_NANOOSver20120514.csv\n",
      "/ocean/eolson/MEOPAR/obs/NANOOS_PRISMCRUISES/PRISM_Cruise-1999_December-Data/PRISM_Cruise_Dec_1999_ObservationsData_NANOOSver20120514.csv\n",
      "/ocean/eolson/MEOPAR/obs/NANOOS_PRISMCRUISES/PRISM_Cruise-1999_December-Data/PRISM_Cruise_Dec_1999_Information_NANOOSver20120514.csv\n",
      "/ocean/eolson/MEOPAR/obs/NANOOS_PRISMCRUISES/PRISM_Cruise-1999_December-Data/PRISM_Cruise_Dec_1999_CastInformation_NANOOSver20120514.csv\n"
     ]
    }
   ],
   "source": [
    "for idir in dirs:\n",
    "    fObs=glob.glob(basedir+idir+'/*_ObservationsData_*.csv')[0]\n",
    "    print(fObs)\n",
    "    fInfo=glob.glob(basedir+idir+'/*_Information_*.csv')[0]\n",
    "    print(fInfo)\n",
    "    fCast=glob.glob(basedir+idir+'/*_CastInformation_*.csv')[0]\n",
    "    print(fCast)\n",
    "    \n",
    "    f=open(fInfo,'r')\n",
    "    cf = csv.DictReader(f, delimiter=',')\n",
    "    ri=0\n",
    "    for row in cf:\n",
    "        ri+=1\n",
    "        session.execute(InfoTBL.__table__.insert().values(**row))\n",
    "        if ri>1: \n",
    "            print('WARNING: Multiple rows in Info csv')\n",
    "    cc=row['cruise_code']\n",
    "    f.close()\n",
    "\n",
    "    f=open(fCast,'r')\n",
    "    cf = csv.DictReader(f, delimiter=',')\n",
    "    for row in cf:\n",
    "        session.execute(CastTBL.__table__.insert().values(cruise_code=cc,**row))\n",
    "    f.close()\n",
    "\n",
    "    f=open(fObs,'r')\n",
    "    cf = csv.DictReader(f, delimiter=',')\n",
    "    for row in cf:\n",
    "        session.execute(ObsTBL.__table__.insert().values(**row))\n",
    "    f.close()\n",
    "    "
   ]
  },
  {
   "cell_type": "code",
   "execution_count": 16,
   "metadata": {
    "collapsed": true
   },
   "outputs": [],
   "source": [
    "session.commit()"
   ]
  },
  {
   "cell_type": "code",
   "execution_count": 4,
   "metadata": {
    "collapsed": true
   },
   "outputs": [],
   "source": [
    "Base = automap_base()\n",
    "# reflect the tables in salish.sqlite:\n",
    "Base.prepare(engine, reflect=True)\n",
    "# mapped classes have been created\n",
    "InfoTBL=Base.classes.InfoTBL\n",
    "CastTBL=Base.classes.CastTBL\n",
    "ObsTBL=Base.classes.ObsTBL\n",
    "session = create_session(bind = engine, autocommit = False, autoflush = True)"
   ]
  },
  {
   "cell_type": "code",
   "execution_count": 7,
   "metadata": {
    "collapsed": false,
    "scrolled": true
   },
   "outputs": [
    {
     "name": "stdout",
     "output_type": "stream",
     "text": [
      "[('ammonium_concentration',), ('chl_concentration',), ('light_transmissivity',), ('nitrate_concentration',), ('nitrite_concentration',), ('oxygen_concentration',), ('phaeophytin_concentration',), ('phosphate_concentration',), ('photosynthetically_active_radiation',), ('potential_density_sigmat',), ('silicate_concentration',), ('turbidity',), ('water_pressure',), ('water_salinity',), ('water_temperature',)]\n"
     ]
    }
   ],
   "source": [
    "vartypes=session.query(ObsTBL.variable).group_by(ObsTBL.variable).all()\n",
    "print(vartypes)"
   ]
  },
  {
   "cell_type": "code",
   "execution_count": 19,
   "metadata": {
    "collapsed": true
   },
   "outputs": [],
   "source": []
  },
  {
   "cell_type": "code",
   "execution_count": 79,
   "metadata": {
    "collapsed": false
   },
   "outputs": [],
   "source": [
    "qNLoc=session.query(ObsTBL.cast_dbid, ObsTBL.cast_datetime, ObsTBL.cast_lat, ObsTBL.cast_lon, ObsTBL.cast_datetime, ObsTBL.depth,\n",
    "    ObsTBL.value).filter(\n",
    "    and_(\n",
    "        ObsTBL.variable == 'nitrite_concentration',\n",
    "        ObsTBL.cast_lat > 48.3,\n",
    "        ObsTBL.cast_lat < 48.8,\n",
    "        ObsTBL.cast_lon > -125.2,\n",
    "        ObsTBL.cast_lon < -124.3,\n",
    "        )).subquery()"
   ]
  },
  {
   "cell_type": "code",
   "execution_count": 80,
   "metadata": {
    "collapsed": false
   },
   "outputs": [
    {
     "name": "stdout",
     "output_type": "stream",
     "text": [
      "164\n"
     ]
    }
   ],
   "source": [
    "test=session.query(qNLoc.c.value).count()\n",
    "print(test)"
   ]
  },
  {
   "cell_type": "code",
   "execution_count": 81,
   "metadata": {
    "collapsed": true
   },
   "outputs": [],
   "source": [
    "qT=session.query(ObsTBL.cast_dbid, ObsTBL.depth, ObsTBL.value).filter(ObsTBL.variable == 'water_temperature').subquery()"
   ]
  },
  {
   "cell_type": "code",
   "execution_count": 82,
   "metadata": {
    "collapsed": false
   },
   "outputs": [],
   "source": [
    "AqNLoc=aliased(qNLoc)\n",
    "AqT=aliased(qT)"
   ]
  },
  {
   "cell_type": "code",
   "execution_count": 83,
   "metadata": {
    "collapsed": false
   },
   "outputs": [],
   "source": [
    "qNLocT=session.query(AqNLoc.c.cast_dbid, AqNLoc.c.cast_datetime, AqNLoc.c.cast_lat, AqNLoc.c.cast_lon, AqNLoc.c.depth, AqNLoc.c.value.label('N'), \n",
    "        AqT.c.value.label('T')).filter(AqNLoc.c.cast_dbid==AqT.c.cast_dbid, AqNLoc.c.depth==AqT.c.depth).subquery()"
   ]
  },
  {
   "cell_type": "code",
   "execution_count": 84,
   "metadata": {
    "collapsed": true
   },
   "outputs": [],
   "source": [
    "qS=session.query(Salias.cast_dbid, Salias.depth, Salias.value).filter(Salias.variable == 'water_salinity').subquery()\n",
    "AqS=aliased(qS)"
   ]
  },
  {
   "cell_type": "code",
   "execution_count": 85,
   "metadata": {
    "collapsed": false
   },
   "outputs": [],
   "source": [
    "qNLocTS=session.query(qNLocT.c.cast_dbid, qNLocT.c.cast_datetime, qNLocT.c.cast_lat, qNLocT.c.cast_lon, qNLocT.c.depth, qNLocT.c.N, \n",
    "        qNLocT.c.T, AqS.c.value.label('S')).filter(qNLocT.c.cast_dbid==AqS.c.cast_dbid, qNLocT.c.depth==AqS.c.depth).subquery()"
   ]
  },
  {
   "cell_type": "code",
   "execution_count": 87,
   "metadata": {
    "collapsed": false
   },
   "outputs": [
    {
     "name": "stdout",
     "output_type": "stream",
     "text": [
      "2004-07-17 13:34:06.000003 2.3970000000\n",
      "2004-07-17 13:34:06.000003 7.4570000000\n",
      "2004-07-17 13:34:06.000003 12.3980000000\n",
      "2004-07-17 13:34:06.000003 22.2380000000\n",
      "2004-07-17 13:34:06.000003 31.8170000000\n",
      "2004-07-17 13:34:06.000003 51.8670000000\n",
      "2004-07-17 13:34:06.000003 76.8110000000\n",
      "2004-07-17 13:34:06.000003 101.6000000000\n",
      "2004-07-17 13:34:06.000003 151.0900000000\n",
      "2004-07-17 13:34:06.000003 222.6800000000\n",
      "2004-07-17 15:11:39.000001 2.5280000000\n",
      "2004-07-17 15:11:39.000001 7.6670000000\n",
      "2004-07-17 15:11:39.000001 12.8310000000\n",
      "2004-07-17 15:11:39.000001 22.3230000000\n",
      "2004-07-17 15:11:39.000001 31.6630000000\n",
      "2004-07-17 15:11:39.000001 50.3450000000\n",
      "2004-07-17 15:11:39.000001 76.7950000000\n",
      "2004-07-17 15:11:39.000001 101.5900000000\n",
      "2004-07-17 15:11:39.000001 146.4100000000\n",
      "2004-07-17 15:11:39.000001 198.2600000000\n",
      "2004-07-17 15:11:39.000001 251.7600000000\n",
      "2004-07-17 16:16:11.999995 3.1480000000\n",
      "2004-07-17 16:16:11.999995 8.3820000000\n",
      "2004-07-17 16:16:11.999995 12.7510000000\n",
      "2004-07-17 16:16:11.999995 23.8040000000\n",
      "2004-07-17 16:16:11.999995 33.2070000000\n",
      "2004-07-17 16:16:11.999995 52.5830000000\n",
      "2004-07-17 16:16:11.999995 77.3530000000\n",
      "2004-07-17 16:16:11.999995 101.2300000000\n",
      "2004-07-17 16:16:11.999995 149.0300000000\n",
      "2004-07-17 16:16:11.999995 195.8000000000\n",
      "2004-07-17 16:16:11.999995 243.7800000000\n",
      "2004-07-17 16:16:11.999995 286.5400000000\n",
      "2004-07-17 17:19:25.999996 2.4770000000\n",
      "2004-07-17 17:19:25.999996 7.7680000000\n",
      "2004-07-17 17:19:25.999996 12.7410000000\n",
      "2004-07-17 17:19:25.999996 22.3880000000\n",
      "2004-07-17 17:19:25.999996 32.3130000000\n",
      "2004-07-17 17:19:25.999996 51.9950000000\n",
      "2004-07-17 17:19:25.999996 76.4720000000\n",
      "2004-07-17 17:19:25.999996 100.9500000000\n",
      "2004-07-17 17:19:25.999996 149.6100000000\n",
      "2004-07-17 17:19:25.999996 197.7200000000\n",
      "2004-07-17 17:19:25.999996 246.3700000000\n",
      "2004-07-17 17:19:25.999996 294.0700000000\n",
      "2004-07-17 17:19:25.999996 318.2600000000\n",
      "2004-07-17 18:32:12.000002 2.2940000000\n",
      "2004-07-17 18:32:12.000002 7.7330000000\n",
      "2004-07-17 18:32:12.000002 22.5300000000\n",
      "2004-07-17 18:32:12.000002 32.2300000000\n",
      "2004-07-17 18:32:12.000002 52.4920000000\n",
      "2004-07-17 18:32:12.000002 77.2910000000\n",
      "2004-07-17 18:32:12.000002 101.8700000000\n",
      "2004-07-17 18:32:12.000002 151.7400000000\n",
      "2004-07-17 18:32:12.000002 201.5400000000\n",
      "2004-07-17 18:32:12.000002 250.5800000000\n",
      "2004-07-17 18:32:12.000002 300.0900000000\n",
      "2004-07-17 18:32:12.000002 327.3200000000\n"
     ]
    }
   ],
   "source": [
    "for date, depth in session.query(qNLocTS.c.cast_datetime, qNLocTS.c.depth).filter(qNLocTS.c.S==0).all():\n",
    "    print(date,depth)"
   ]
  },
  {
   "cell_type": "code",
   "execution_count": 75,
   "metadata": {
    "collapsed": false
   },
   "outputs": [],
   "source": [
    "data=session.query(qNLocTS).filter(qNLocTS.c.depth>75, qNLocTS.c.S>0).all()\n",
    "NO=[]\n",
    "S=[]\n",
    "T=[]\n",
    "for dbid, lat, lon, depth, N, Tem, Sal in data:\n",
    "    S.append(Sal)\n",
    "    NO.append(N)\n",
    "    T.append(Tem)\n"
   ]
  },
  {
   "cell_type": "code",
   "execution_count": 76,
   "metadata": {
    "collapsed": false
   },
   "outputs": [
    {
     "data": {
      "text/plain": [
       "<matplotlib.text.Text at 0x7f09a29997f0>"
      ]
     },
     "execution_count": 76,
     "metadata": {},
     "output_type": "execute_result"
    },
    {
     "data": {
      "image/png": "[encoded data removed]",
      "text/plain": [
       "<matplotlib.figure.Figure at 0x7f09a29848d0>"
      ]
     },
     "metadata": {},
     "output_type": "display_data"
    }
   ],
   "source": [
    "plt.plot(S,NO,'.')\n",
    "plt.xlabel('S')\n",
    "plt.ylabel('N')"
   ]
  },
  {
   "cell_type": "code",
   "execution_count": null,
   "metadata": {
    "collapsed": true
   },
   "outputs": [],
   "source": []
  },
  {
   "cell_type": "code",
   "execution_count": 88,
   "metadata": {
    "collapsed": false
   },
   "outputs": [],
   "source": [
    "session.close()\n",
    "engine.dispose()"
   ]
  },
  {
   "cell_type": "code",
   "execution_count": null,
   "metadata": {
    "collapsed": true
   },
   "outputs": [],
   "source": []
  }
 ],
 "metadata": {
  "kernelspec": {
   "display_name": "Python 3",
   "language": "python",
   "name": "python3"
  },
  "language_info": {
   "codemirror_mode": {
    "name": "ipython",
    "version": 3
   },
   "file_extension": ".py",
   "mimetype": "text/x-python",
   "name": "python",
   "nbconvert_exporter": "python",
   "pygments_lexer": "ipython3",
   "version": "3.4.4"
  }
 },
 "nbformat": 4,
 "nbformat_minor": 0
}
