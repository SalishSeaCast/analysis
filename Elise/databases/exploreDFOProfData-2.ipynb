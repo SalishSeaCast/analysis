{
 "cells": [
  {
   "cell_type": "code",
   "execution_count": 1,
   "metadata": {
    "collapsed": false
   },
   "outputs": [],
   "source": [
    "# imports\n",
    "from sqlalchemy import create_engine, Column, String, Integer, Numeric, MetaData, Table, type_coerce\n",
    "from sqlalchemy.orm import mapper, create_session\n",
    "import csv\n",
    "from sqlalchemy import case\n",
    "import numpy as np\n",
    "from sqlalchemy.ext.automap import automap_base\n",
    "import matplotlib.pyplot as plt\n",
    "import sqlalchemy.types as types\n",
    "import numbers\n",
    "from sqlalchemy.sql import and_, or_, not_\n",
    "from sqlalchemy.sql import select, func\n",
    "\n",
    "import matplotlib.lines as mlines\n",
    "from mpl_toolkits.axes_grid1 import make_axes_locatable\n",
    "from mpl_toolkits.basemap import Basemap\n",
    "\n",
    "\n",
    "%matplotlib inline"
   ]
  },
  {
   "cell_type": "code",
   "execution_count": 2,
   "metadata": {
    "collapsed": false
   },
   "outputs": [],
   "source": [
    "engine = create_engine('sqlite:///DFOOceanProfileDB/salishDB.sqlite')"
   ]
  },
  {
   "cell_type": "code",
   "execution_count": 3,
   "metadata": {
    "collapsed": true
   },
   "outputs": [],
   "source": [
    "Base = automap_base()\n",
    "# reflect the tables in salish.sqlite:\n",
    "Base.prepare(engine, reflect=True)\n",
    "# mapped classes have been created\n",
    "Profs=Base.classes.profiles"
   ]
  },
  {
   "cell_type": "code",
   "execution_count": 4,
   "metadata": {
    "collapsed": false
   },
   "outputs": [],
   "source": [
    "session = create_session(bind = engine, autocommit = False, autoflush = True)"
   ]
  },
  {
   "cell_type": "code",
   "execution_count": 5,
   "metadata": {
    "collapsed": false
   },
   "outputs": [
    {
     "name": "stdout",
     "output_type": "stream",
     "text": [
      "[(None,), (None,), (None,), (None,), (None,), (None,)]\n"
     ]
    },
    {
     "name": "stderr",
     "output_type": "stream",
     "text": [
      "/home/eolson/anaconda3/lib/python3.4/site-packages/sqlalchemy/sql/sqltypes.py:562: SAWarning: Dialect sqlite+pysqlite does *not* support Decimal objects natively, and SQLAlchemy must convert from floating point - rounding errors and other issues may occur. Please consider storing Decimal numbers as strings or integers on this platform for lossless storage.\n",
      "  'storage.' % (dialect.name, dialect.driver))\n"
     ]
    }
   ],
   "source": [
    "#sal=case([(Profs.SSAL!=None, Profs.SSAL)], else_=Profs.PSAL)\n",
    "#data=session.query(sal, Profs.NTRA).all()\n",
    "#.filter(Profs.DEPTH_PRESS>100).filter(Profs.DEPTH_PRESS!=None),.filter(sal!=None).filter(Profs.NTRA!=None)\n",
    "data=session.query(Profs.Q_DATE_TIME).filter(Profs.CR_NUMBER=='18DD12014 ').filter(Profs.OBS_TIME==724).all()\n",
    "print(data)\n"
   ]
  },
  {
   "cell_type": "code",
   "execution_count": 6,
   "metadata": {
    "collapsed": false
   },
   "outputs": [
    {
     "name": "stdout",
     "output_type": "stream",
     "text": [
      "35785\n"
     ]
    }
   ],
   "source": [
    "datanum=session.query(Profs).count()\n",
    "print(datanum)"
   ]
  },
  {
   "cell_type": "code",
   "execution_count": null,
   "metadata": {
    "collapsed": false
   },
   "outputs": [],
   "source": [
    "sal=case([(Profs.SSAL!=None, Profs.SSAL)], else_=Profs.PSAL)\n",
    "qsal=case([(Profs.SSAL!=None, Profs.Q_SSAL)], else_=Profs.Q_PSAL)\n",
    "data=session.query(sal, Profs.NTRA)\n",
    "print('Q_SAL')\n",
    "print(session.query(qsal).group_by(qsal).all())\n",
    "print('Q_NO3')\n",
    "print(session.query(Profs.Q_NTRA).group_by(Profs.Q_NTRA).all())\n",
    "NO=[]\n",
    "S=[]\n",
    "for m, n in data.all():\n",
    "    S.append(m)\n",
    "    NO.append(n)"
   ]
  },
  {
   "cell_type": "code",
   "execution_count": null,
   "metadata": {
    "collapsed": false
   },
   "outputs": [],
   "source": [
    "data=session.query(Profs.LONGITUDE, Profs.LATITUDE).filter(Profs.LONGITUDE!=None,Profs.LATITUDE!=None)\n",
    "Lon=[]\n",
    "Lat=[]\n",
    "for m, n in data.all():\n",
    "    Lon.append(float(-m))\n",
    "    Lat.append(float(n))\n",
    "    \n",
    "\n",
    "plt.plot(Lon,Lat,'.')"
   ]
  },
  {
   "cell_type": "code",
   "execution_count": null,
   "metadata": {
    "collapsed": false
   },
   "outputs": [],
   "source": [
    "### Draw the map for the location of the stations\n",
    "\n",
    "fig,ax=plt.subplots(1,1,facecolor='w',figsize=(10,10))\n",
    "x=100000\n",
    "ma = Basemap(llcrnrlon=-130, llcrnrlat=46, urcrnrlon=-120, urcrnrlat=52,lon_0=-100, resolution='l',area_thresh=1,projection='merc')\n",
    "ma.drawcoastlines()\n",
    "ma.drawcountries()\n",
    "ma.fillcontinents(color='coral')\n",
    "\n",
    "#m.drawmeridians(np.arange(-160,-50,20), labels=[0,0,0,1])\n",
    "#m.drawparallels(np.arange(65,85,5), labels=[1,0,0,0])\n",
    "\n",
    "cmap = plt.get_cmap('jet')\n",
    "data=session.query(Profs.LONGITUDE, Profs.LATITUDE).filter(Profs.LONGITUDE!=None,Profs.LATITUDE!=None)\n",
    "Lon=[]\n",
    "Lat=[]\n",
    "for m, n in data.all():\n",
    "    Lon.append(float(m))\n",
    "    Lat.append(float(n))\n",
    "Lon2=np.array(Lon)[:]\n",
    "Lat2=np.array(Lat)[:]\n",
    "x, y = ma(-Lon2, Lat2)\n",
    "ma.scatter(x,y)\n"
   ]
  },
  {
   "cell_type": "code",
   "execution_count": null,
   "metadata": {
    "collapsed": false
   },
   "outputs": [],
   "source": [
    "plt.plot(S,NO,'.')\n",
    "plt.show()"
   ]
  },
  {
   "cell_type": "code",
   "execution_count": null,
   "metadata": {
    "collapsed": false
   },
   "outputs": [],
   "source": [
    "data2=session.query(sal, Profs.NTRA).filter(Profs.DEPTH_PRESS>400)\n",
    "NO=[]\n",
    "S=[]\n",
    "for m, n in data2.all():\n",
    "    S.append(m)\n",
    "    NO.append(n)\n",
    "    \n",
    "plt.axis([0,35,0,100])\n",
    "plt.plot(S,NO,'.')"
   ]
  },
  {
   "cell_type": "code",
   "execution_count": null,
   "metadata": {
    "collapsed": false
   },
   "outputs": [],
   "source": [
    "data2=session.query(sal, Profs.NTRA).filter(and_(Profs.DEPTH_PRESS<400,Profs.DEPTH_PRESS>100))\n",
    "NO=[]\n",
    "S=[]\n",
    "for m, n in data2.all():\n",
    "    S.append(m)\n",
    "    NO.append(n)\n",
    "    \n",
    "plt.axis([0,35,0,100])\n",
    "plt.plot(S,NO,'.')"
   ]
  },
  {
   "cell_type": "code",
   "execution_count": null,
   "metadata": {
    "collapsed": false
   },
   "outputs": [],
   "source": [
    "data2=session.query(sal, Profs.NTRA).filter(and_(Profs.DEPTH_PRESS<100,Profs.DEPTH_PRESS>50))\n",
    "NO=[]\n",
    "S=[]\n",
    "for m, n in data2.all():\n",
    "    S.append(m)\n",
    "    NO.append(n)\n",
    "    \n",
    "plt.axis([0,35,0,100])\n",
    "plt.plot(S,NO,'.')"
   ]
  },
  {
   "cell_type": "code",
   "execution_count": null,
   "metadata": {
    "collapsed": false
   },
   "outputs": [],
   "source": [
    "data2=session.query(sal, Profs.NTRA).filter(and_(Profs.DEPTH_PRESS<50,Profs.DEPTH_PRESS>25))\n",
    "NO=[]\n",
    "S=[]\n",
    "for m, n in data2.all():\n",
    "    S.append(m)\n",
    "    NO.append(n)\n",
    "    \n",
    "plt.axis([0,35,0,100])\n",
    "plt.plot(S,NO,'.')"
   ]
  },
  {
   "cell_type": "code",
   "execution_count": null,
   "metadata": {
    "collapsed": false
   },
   "outputs": [],
   "source": [
    "data2=session.query(sal, Profs.NTRA).filter(and_(Profs.DEPTH_PRESS<25,Profs.DEPTH_PRESS>=0))\n",
    "NO=[]\n",
    "S=[]\n",
    "for m, n in data2.all():\n",
    "    S.append(m)\n",
    "    NO.append(n)\n",
    "    \n",
    "plt.axis([0,35,0,100])\n",
    "plt.plot(S,NO,'.')"
   ]
  },
  {
   "cell_type": "code",
   "execution_count": null,
   "metadata": {
    "collapsed": false
   },
   "outputs": [],
   "source": [
    "q1=session.query(Profs.OBS_YEAR, func.count(Profs.OBS_YEAR)).filter(\n",
    "    and_(\n",
    "        Profs.LATITUDE > 48.2,\n",
    "        Profs.LATITUDE < 48.8,\n",
    "        Profs.LONGITUDE < 125.2,\n",
    "        Profs.LONGITUDE > 124.2,\n",
    "        Profs.DEPTH_PRESS > 50.0,\n",
    "        sal != 'NaN',\n",
    "        Profs.NTRA != 'NaN',\n",
    "        Profs.TEMP != 'NaN'\n",
    "        )).group_by(Profs.OBS_YEAR).all()\n",
    "print(q1)"
   ]
  },
  {
   "cell_type": "code",
   "execution_count": null,
   "metadata": {
    "collapsed": false
   },
   "outputs": [],
   "source": [
    "data2=session.query(sal, Profs.NTRA, Profs.TEMP, Profs.LONGITUDE, Profs.OBS_YEAR, Profs.OBS_MONTH, Profs.OBS_DAY, Profs.DEPTH_PRESS).filter(\n",
    "    and_(\n",
    "        Profs.LATITUDE > 48.2,\n",
    "        Profs.LATITUDE < 48.8,\n",
    "        Profs.LONGITUDE < 125.2,\n",
    "        Profs.LONGITUDE > 124.2,\n",
    "        Profs.DEPTH_PRESS > 50.0,\n",
    "        sal != 'NaN',\n",
    "        Profs.NTRA != 'NaN',\n",
    "        Profs.TEMP != 'NaN'\n",
    "        ))\n",
    "NO=[]\n",
    "S=[]\n",
    "T=[]\n",
    "Lon=[]\n",
    "Yr=[]\n",
    "Mon=[]\n",
    "Day=[]\n",
    "Z=[]\n",
    "for m, n, o, p, q, r, s, t in data2.all():\n",
    "    S.append(float(m))\n",
    "    NO.append(float(n))\n",
    "    T.append(float(o))\n",
    "    Lon.append(float(p))\n",
    "    Yr.append(float(q))\n",
    "    Mon.append(float(r))\n",
    "    Day.append(float(s))\n",
    "    Z.append(float(t))\n",
    "    \n",
    "plt.axis([28,35,0,40])\n",
    "plt.plot(S,NO,'.')\n",
    "plt.xlabel('Salinity')\n",
    "plt.ylabel('NO')"
   ]
  },
  {
   "cell_type": "code",
   "execution_count": null,
   "metadata": {
    "collapsed": true
   },
   "outputs": [],
   "source": [
    "NO=np.array(NO)\n",
    "S=np.array(S)\n",
    "T=np.array(T)\n",
    "\n",
    "Lon=np.array(Lon)\n",
    "Yr=np.array(Yr)\n",
    "Mon=np.array(Mon)\n",
    "Day=np.array(Day)\n",
    "Z=np.array(Z)"
   ]
  },
  {
   "cell_type": "code",
   "execution_count": null,
   "metadata": {
    "collapsed": false
   },
   "outputs": [],
   "source": [
    "a=np.vstack([T,S,np.ones(len(T))]).T\n",
    "m = np.linalg.lstsq(a,NO)[0]\n",
    "mT, mS, m0 = m\n",
    "print(mT, mS, m0)"
   ]
  },
  {
   "cell_type": "code",
   "execution_count": null,
   "metadata": {
    "collapsed": false
   },
   "outputs": [],
   "source": [
    "plt.plot(NO,np.dot(a,m),'.')\n",
    "plt.xlabel('NO')\n",
    "plt.ylabel('NO, linear model')\n",
    "SSE=np.dot((NO-np.dot(a,m)),(NO-np.dot(a,m)).T)\n",
    "plt.title('Linear Model: NO(T,S)')\n",
    "print('SSE=', SSE)\n",
    "plt.plot(np.array([0,40]), np.array([0, 40]),'r-')"
   ]
  },
  {
   "cell_type": "code",
   "execution_count": null,
   "metadata": {
    "collapsed": false
   },
   "outputs": [],
   "source": [
    "plt.plot(Z,NO-np.dot(a,m),'.')\n",
    "plt.xlabel('Depth')\n",
    "plt.ylabel('Residuals')\n",
    "plt.title('Linear Model: NO(T,S)')"
   ]
  },
  {
   "cell_type": "code",
   "execution_count": null,
   "metadata": {
    "collapsed": false
   },
   "outputs": [],
   "source": [
    "plt.plot(Lon,NO-np.dot(a,m),'.')\n",
    "plt.xlabel('Lon')\n",
    "plt.ylabel('Residuals')\n",
    "plt.title('Linear Model: NO(T,S)')"
   ]
  },
  {
   "cell_type": "code",
   "execution_count": null,
   "metadata": {
    "collapsed": false
   },
   "outputs": [],
   "source": [
    "plt.plot(Mon+Day/30.0,NO-np.dot(a,m),'.') # Day/30 = cheat to get approx fraction of month\n",
    "plt.xlabel('Month')\n",
    "plt.ylabel('Residuals')\n",
    "plt.title('Linear Model: NO(T,S)')"
   ]
  },
  {
   "cell_type": "code",
   "execution_count": null,
   "metadata": {
    "collapsed": false
   },
   "outputs": [],
   "source": [
    "plt.plot(Yr+Mon/12.0+Day/365.0,NO-np.dot(a,m),'.') # Day/30 = cheat to get approx fraction of month\n",
    "plt.xlabel('Yearr')\n",
    "plt.ylabel('Residuals')\n",
    "plt.title('Linear Model: NO(T,S)')"
   ]
  },
  {
   "cell_type": "code",
   "execution_count": null,
   "metadata": {
    "collapsed": false
   },
   "outputs": [],
   "source": [
    "a=np.vstack([T,np.ones(len(T))]).T\n",
    "m = np.linalg.lstsq(a,NO)[0]\n",
    "print('m=', m)\n",
    "plt.plot(NO,np.dot(a,m),'.')\n",
    "plt.xlabel('NO')\n",
    "plt.ylabel('NO, linear model')\n",
    "SSE=np.dot((NO-np.dot(a,m)),(NO-np.dot(a,m)).T)\n",
    "plt.title('Linear Model: NO(T)')\n",
    "print('SSE=', SSE)\n",
    "plt.plot(np.array([0,40]), np.array([0, 40]),'r-')"
   ]
  },
  {
   "cell_type": "code",
   "execution_count": null,
   "metadata": {
    "collapsed": false
   },
   "outputs": [],
   "source": [
    "a=np.vstack([S,np.ones(len(T))]).T\n",
    "m = np.linalg.lstsq(a,NO)[0]\n",
    "print('m=', m)\n",
    "plt.plot(NO,np.dot(a,m),'.')\n",
    "plt.xlabel('NO')\n",
    "plt.ylabel('NO, linear model')\n",
    "SSE=np.dot((NO-np.dot(a,m)),(NO-np.dot(a,m)).T)\n",
    "plt.title('Linear Model: NO(S)')\n",
    "print('SSE=', SSE)\n",
    "plt.plot(np.array([0,40]), np.array([0, 40]),'r-')"
   ]
  },
  {
   "cell_type": "code",
   "execution_count": null,
   "metadata": {
    "collapsed": false
   },
   "outputs": [],
   "source": [
    "\n",
    "import matplotlib.lines as mlines\n",
    "from mpl_toolkits.axes_grid1 import make_axes_locatable\n",
    "from mpl_toolkits.basemap import Basemap\n",
    "\n",
    "### Draw the map for the location of the stations\n",
    "\n",
    "#m = Basemap(llcrnrlon=-170, llcrnrlat=65, urcrnrlon=-50, urcrnrlat=85,lon_0=-100, resolution='l',area_thresh=10,projection='merc')\n",
    "fig,ax=plt.subplots(1,1,facecolor='w',figsize=(10,10))\n",
    "x=100000\n",
    "m = Basemap(llcrnrx=-20*x, llcrnry=-10*x, urcrnrx=+15*x, urcrnry=+15*x,lon_0=-100, lat_0=75,projection='ortho',resolution='l')\n",
    "m.drawcoastlines()\n",
    "m.drawcountries()\n",
    "m.fillcontinents(color='coral')\n",
    "\n",
    "m.drawmeridians(np.arange(-160,-50,20), labels=[0,0,0,1])\n",
    "m.drawparallels(np.arange(65,85,5), labels=[1,0,0,0])\n",
    "\n",
    "cmap = plt.get_cmap('jet')\n"
   ]
  },
  {
   "cell_type": "code",
   "execution_count": null,
   "metadata": {
    "collapsed": false
   },
   "outputs": [],
   "source": [
    "session.close()\n",
    "engine.dispose()"
   ]
  },
  {
   "cell_type": "code",
   "execution_count": null,
   "metadata": {
    "collapsed": true
   },
   "outputs": [],
   "source": []
  },
  {
   "cell_type": "code",
   "execution_count": null,
   "metadata": {
    "collapsed": true
   },
   "outputs": [],
   "source": []
  }
 ],
 "metadata": {
  "kernelspec": {
   "display_name": "Python 3",
   "language": "python",
   "name": "python3"
  },
  "language_info": {
   "codemirror_mode": {
    "name": "ipython",
    "version": 3
   },
   "file_extension": ".py",
   "mimetype": "text/x-python",
   "name": "python",
   "nbconvert_exporter": "python",
   "pygments_lexer": "ipython3",
   "version": "3.4.4"
  }
 },
 "nbformat": 4,
 "nbformat_minor": 0
}
