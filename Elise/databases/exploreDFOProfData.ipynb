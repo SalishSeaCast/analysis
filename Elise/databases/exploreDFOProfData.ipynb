{
 "cells": [
  {
   "cell_type": "code",
   "execution_count": 1,
   "metadata": {
    "collapsed": false
   },
   "outputs": [],
   "source": [
    "# imports\n",
    "from sqlalchemy import create_engine, Column, String, Integer, Numeric, MetaData, Table, type_coerce\n",
    "from sqlalchemy.orm import mapper, create_session\n",
    "import csv\n",
    "from sqlalchemy import case\n",
    "import numpy as np\n",
    "from sqlalchemy.ext.automap import automap_base\n",
    "import matplotlib.pyplot as plt\n",
    "import sqlalchemy.types as types\n",
    "import numbers\n",
    "from sqlalchemy.sql import and_, or_, not_\n",
    "from sqlalchemy.sql import select\n",
    "%matplotlib inline"
   ]
  },
  {
   "cell_type": "code",
   "execution_count": 2,
   "metadata": {
    "collapsed": true
   },
   "outputs": [],
   "source": [
    "# definitions\n",
    "file1='salish/salish_prof.csv'"
   ]
  },
  {
   "cell_type": "code",
   "execution_count": 3,
   "metadata": {
    "collapsed": false
   },
   "outputs": [],
   "source": [
    "engine = create_engine('sqlite:///salishDB.sqlite')"
   ]
  },
  {
   "cell_type": "code",
   "execution_count": 4,
   "metadata": {
    "collapsed": true
   },
   "outputs": [],
   "source": [
    "table = None\n",
    "metadata = MetaData(bind=engine)"
   ]
  },
  {
   "cell_type": "raw",
   "metadata": {},
   "source": [
    "f=open(file1)\n",
    "cf= csv.DictReader(f, delimiter=',')\n",
    "print(cf)"
   ]
  },
  {
   "cell_type": "raw",
   "metadata": {},
   "source": [
    "with open(file1) as f:\n",
    "    cf = csv.DictReader(f, delimiter=',')\n",
    "    line=0\n",
    "    for row in cf:\n",
    "        if line == 0:\n",
    "            line +=1\n",
    "            for r in row.keys():\n",
    "                print(r, coltype(r))"
   ]
  },
  {
   "cell_type": "code",
   "execution_count": 5,
   "metadata": {
    "collapsed": true
   },
   "outputs": [],
   "source": [
    "class forceNumeric(types.TypeDecorator):\n",
    "\n",
    "    impl = types.Numeric\n",
    "\n",
    "    def process_bind_param(self, value, dialect):\n",
    "        try:\n",
    "            int(float(value))\n",
    "        except:\n",
    "            value = None\n",
    "        return value\n",
    "\n",
    "class forceInt(types.TypeDecorator):\n",
    "    \n",
    "    impl = types.Integer\n",
    "    def process_bind_param(self, value, dialect):\n",
    "        try:\n",
    "            int(value)\n",
    "        except:\n",
    "            value = None\n",
    "        return value\n"
   ]
  },
  {
   "cell_type": "code",
   "execution_count": 6,
   "metadata": {
    "collapsed": true
   },
   "outputs": [],
   "source": [
    "def coltype(ikey):\n",
    "    typedict = {\n",
    "        'DATA_TYPE': String(),\n",
    "        'CR_NUMBER': String(),\n",
    "        'D_P_CODE': String(),\n",
    "    }\n",
    "    return typedict.get(ikey, forceNumeric())\n",
    "    "
   ]
  },
  {
   "cell_type": "code",
   "execution_count": 7,
   "metadata": {
    "collapsed": false,
    "scrolled": true
   },
   "outputs": [
    {
     "data": {
      "text/plain": [
       "<Mapper at 0x10cae40b8; Profs>"
      ]
     },
     "execution_count": 7,
     "metadata": {},
     "output_type": "execute_result"
    }
   ],
   "source": [
    "with open(file1) as f:\n",
    "    cf = csv.DictReader(f, delimiter=',')\n",
    "    for row in cf:\n",
    "        if table is None:\n",
    "            table = Table('profiles', metadata, Column('id', Integer, primary_key=True),\n",
    "                *(Column(rowname, coltype(rowname)) for rowname in row.keys()))\n",
    "            table.create()\n",
    "        table.insert().values(**row).execute()\n",
    "class Profs(object): pass\n",
    "mapper(Profs, table)"
   ]
  },
  {
   "cell_type": "raw",
   "metadata": {},
   "source": [
    "Base = automap_base()\n",
    "# reflect the tables in salish.sqlite:\n",
    "Base.prepare(engine, reflect=True)\n",
    "# mapped classes have been created\n",
    "Profs=Base.classes.profiles"
   ]
  },
  {
   "cell_type": "code",
   "execution_count": 8,
   "metadata": {
    "collapsed": false
   },
   "outputs": [],
   "source": [
    "session = create_session(bind = engine, autocommit = False, autoflush = True)"
   ]
  },
  {
   "cell_type": "code",
   "execution_count": 9,
   "metadata": {
    "collapsed": false
   },
   "outputs": [
    {
     "name": "stdout",
     "output_type": "stream",
     "text": [
      "[(None,), (None,), (None,), (None,), (None,), (None,)]\n"
     ]
    },
    {
     "name": "stderr",
     "output_type": "stream",
     "text": [
      "/usr/local/lib/python3.5/site-packages/sqlalchemy/sql/sqltypes.py:562: SAWarning: Dialect sqlite+pysqlite does *not* support Decimal objects natively, and SQLAlchemy must convert from floating point - rounding errors and other issues may occur. Please consider storing Decimal numbers as strings or integers on this platform for lossless storage.\n",
      "  'storage.' % (dialect.name, dialect.driver))\n"
     ]
    }
   ],
   "source": [
    "#sal=case([(Profs.SSAL!=None, Profs.SSAL)], else_=Profs.PSAL)\n",
    "#data=session.query(sal, Profs.NTRA).all()\n",
    "#.filter(Profs.DEPTH_PRESS>100).filter(Profs.DEPTH_PRESS!=None),.filter(sal!=None).filter(Profs.NTRA!=None)\n",
    "data=session.query(Profs.Q_DATE_TIME).filter(Profs.CR_NUMBER=='18DD12014 ').filter(Profs.OBS_TIME==724).all()\n",
    "print(data)\n"
   ]
  },
  {
   "cell_type": "code",
   "execution_count": 40,
   "metadata": {
    "collapsed": false
   },
   "outputs": [
    {
     "name": "stdout",
     "output_type": "stream",
     "text": [
      "Q_SAL\n",
      "[(None,), (Decimal('0E-10'),), (Decimal('1.0000000000'),), (Decimal('2.0000000000'),), (Decimal('3.0000000000'),), (Decimal('4.0000000000'),)]\n",
      "Q_NO3\n",
      "[(None,), (Decimal('1.0000000000'),), (Decimal('3.0000000000'),), (Decimal('4.0000000000'),)]\n"
     ]
    }
   ],
   "source": [
    "sal=case([(Profs.SSAL!=None, Profs.SSAL)], else_=Profs.PSAL)\n",
    "qsal=case([(Profs.SSAL!=None, Profs.Q_SSAL)], else_=Profs.Q_PSAL)\n",
    "data=session.query(sal, Profs.NTRA)\n",
    "print('Q_SAL')\n",
    "print(session.query(qsal).group_by(qsal).all())\n",
    "print('Q_NO3')\n",
    "print(session.query(Profs.Q_NTRA).group_by(Profs.Q_NTRA).all())\n",
    "NO=[]\n",
    "S=[]\n",
    "for m, n in data.all():\n",
    "    S.append(m)\n",
    "    NO.append(n)"
   ]
  },
  {
   "cell_type": "code",
   "execution_count": 41,
   "metadata": {
    "collapsed": false
   },
   "outputs": [
    {
     "data": {
      "image/png": "[encoded data removed]",
      "text/plain": [
       "<matplotlib.figure.Figure at 0x10e85b3c8>"
      ]
     },
     "metadata": {},
     "output_type": "display_data"
    }
   ],
   "source": [
    "plt.plot(S,NO,'.')\n",
    "plt.show()"
   ]
  },
  {
   "cell_type": "code",
   "execution_count": 54,
   "metadata": {
    "collapsed": false
   },
   "outputs": [
    {
     "data": {
      "text/plain": [
       "[<matplotlib.lines.Line2D at 0x10e6c6ac8>]"
      ]
     },
     "execution_count": 54,
     "metadata": {},
     "output_type": "execute_result"
    },
    {
     "data": {
      "image/png": "[encoded data removed]",
      "text/plain": [
       "<matplotlib.figure.Figure at 0x10e6987b8>"
      ]
     },
     "metadata": {},
     "output_type": "display_data"
    }
   ],
   "source": [
    "data2=session.query(sal, Profs.NTRA).filter(Profs.DEPTH_PRESS>400)\n",
    "NO=[]\n",
    "S=[]\n",
    "for m, n in data2.all():\n",
    "    S.append(m)\n",
    "    NO.append(n)\n",
    "    \n",
    "plt.axis([0,35,0,100])\n",
    "plt.plot(S,NO,'.')"
   ]
  },
  {
   "cell_type": "code",
   "execution_count": 56,
   "metadata": {
    "collapsed": false
   },
   "outputs": [
    {
     "data": {
      "text/plain": [
       "[<matplotlib.lines.Line2D at 0x10bf97978>]"
      ]
     },
     "execution_count": 56,
     "metadata": {},
     "output_type": "execute_result"
    },
    {
     "data": {
      "image/png": "[encoded data removed]",
      "text/plain": [
       "<matplotlib.figure.Figure at 0x10e0ce668>"
      ]
     },
     "metadata": {},
     "output_type": "display_data"
    }
   ],
   "source": [
    "data2=session.query(sal, Profs.NTRA).filter(and_(Profs.DEPTH_PRESS<400,Profs.DEPTH_PRESS>100))\n",
    "NO=[]\n",
    "S=[]\n",
    "for m, n in data2.all():\n",
    "    S.append(m)\n",
    "    NO.append(n)\n",
    "    \n",
    "plt.axis([0,35,0,100])\n",
    "plt.plot(S,NO,'.')"
   ]
  },
  {
   "cell_type": "code",
   "execution_count": 57,
   "metadata": {
    "collapsed": false
   },
   "outputs": [
    {
     "data": {
      "text/plain": [
       "[<matplotlib.lines.Line2D at 0x10c7cbba8>]"
      ]
     },
     "execution_count": 57,
     "metadata": {},
     "output_type": "execute_result"
    },
    {
     "data": {
      "image/png": "[encoded data removed]",
      "text/plain": [
       "<matplotlib.figure.Figure at 0x10caef8d0>"
      ]
     },
     "metadata": {},
     "output_type": "display_data"
    }
   ],
   "source": [
    "data2=session.query(sal, Profs.NTRA).filter(and_(Profs.DEPTH_PRESS<100,Profs.DEPTH_PRESS>50))\n",
    "NO=[]\n",
    "S=[]\n",
    "for m, n in data2.all():\n",
    "    S.append(m)\n",
    "    NO.append(n)\n",
    "    \n",
    "plt.axis([0,35,0,100])\n",
    "plt.plot(S,NO,'.')"
   ]
  },
  {
   "cell_type": "code",
   "execution_count": 58,
   "metadata": {
    "collapsed": false
   },
   "outputs": [
    {
     "data": {
      "text/plain": [
       "[<matplotlib.lines.Line2D at 0x10cb3b828>]"
      ]
     },
     "execution_count": 58,
     "metadata": {},
     "output_type": "execute_result"
    },
    {
     "data": {
      "image/png": "[encoded data removed]",
      "text/plain": [
       "<matplotlib.figure.Figure at 0x10cb3b5f8>"
      ]
     },
     "metadata": {},
     "output_type": "display_data"
    }
   ],
   "source": [
    "data2=session.query(sal, Profs.NTRA).filter(and_(Profs.DEPTH_PRESS<50,Profs.DEPTH_PRESS>25))\n",
    "NO=[]\n",
    "S=[]\n",
    "for m, n in data2.all():\n",
    "    S.append(m)\n",
    "    NO.append(n)\n",
    "    \n",
    "plt.axis([0,35,0,100])\n",
    "plt.plot(S,NO,'.')"
   ]
  },
  {
   "cell_type": "code",
   "execution_count": 59,
   "metadata": {
    "collapsed": false
   },
   "outputs": [
    {
     "data": {
      "text/plain": [
       "[<matplotlib.lines.Line2D at 0x111f73438>]"
      ]
     },
     "execution_count": 59,
     "metadata": {},
     "output_type": "execute_result"
    },
    {
     "data": {
      "image/png": "[encoded data removed]",
      "text/plain": [
       "<matplotlib.figure.Figure at 0x10e495ef0>"
      ]
     },
     "metadata": {},
     "output_type": "display_data"
    }
   ],
   "source": [
    "data2=session.query(sal, Profs.NTRA).filter(and_(Profs.DEPTH_PRESS<25,Profs.DEPTH_PRESS>=0))\n",
    "NO=[]\n",
    "S=[]\n",
    "for m, n in data2.all():\n",
    "    S.append(m)\n",
    "    NO.append(n)\n",
    "    \n",
    "plt.axis([0,35,0,100])\n",
    "plt.plot(S,NO,'.')"
   ]
  },
  {
   "cell_type": "code",
   "execution_count": 67,
   "metadata": {
    "collapsed": false
   },
   "outputs": [],
   "source": [
    "s=session.query(Profs.OBS_YEAR, Profs.OBS_MONTH, Profs.DEPTH_PRESS, Profs.PSAL, Profs.NTRA).filter(\n",
    "    and_(\n",
    "        Profs.LATITUDE > 48.3,\n",
    "        Profs.LATITUDE < 48.8,\n",
    "        Profs.LONGITUDE < 125.2,\n",
    "        Profs.LONGITUDE > 124.3,\n",
    "        Profs.NTRA != 'NaN'\n",
    "        ))\n"
   ]
  },
  {
   "cell_type": "code",
   "execution_count": 95,
   "metadata": {
    "collapsed": false
   },
   "outputs": [
    {
     "data": {
      "text/plain": [
       "[<matplotlib.lines.Line2D at 0x114403048>]"
      ]
     },
     "execution_count": 95,
     "metadata": {},
     "output_type": "execute_result"
    },
    {
     "data": {
      "image/png": "[encoded data removed]",
      "text/plain": [
       "<matplotlib.figure.Figure at 0x1144a0b70>"
      ]
     },
     "metadata": {},
     "output_type": "display_data"
    }
   ],
   "source": [
    "data2=session.query(sal, Profs.NTRA).filter(\n",
    "    and_(\n",
    "        Profs.LATITUDE > 48.3,\n",
    "        Profs.LATITUDE < 48.8,\n",
    "        Profs.LONGITUDE < 125.2,\n",
    "        Profs.LONGITUDE > 124.3,\n",
    "        ))\n",
    "NO=[]\n",
    "S=[]\n",
    "for m, n in data2.all():\n",
    "    S.append(m)\n",
    "    NO.append(n)\n",
    "    \n",
    "plt.axis([28,35,0,40])\n",
    "plt.plot(S,NO,'.')"
   ]
  },
  {
   "cell_type": "code",
   "execution_count": null,
   "metadata": {
    "collapsed": true
   },
   "outputs": [],
   "source": []
  },
  {
   "cell_type": "code",
   "execution_count": null,
   "metadata": {
    "collapsed": true
   },
   "outputs": [],
   "source": []
  },
  {
   "cell_type": "code",
   "execution_count": null,
   "metadata": {
    "collapsed": false
   },
   "outputs": [],
   "source": [
    "s=select([prof.c.OBS_YEAR, prof.c.OBS_MONTH, prof.c.DEPTH_PRESS, prof.c.PSAL, prof.c.SSAL, prof.c.NTRA]).where(\n",
    "    and_(\n",
    "        prof.c.LATITUDE > 48.3,\n",
    "        prof.c.LATITUDE < 48.8,\n",
    "        prof.c.LONGITUDE < 125.2,\n",
    "        prof.c.LONGITUDE > 124.3,\n",
    "        prof.c.NTRA != 'NaN',\n",
    "        or_(\n",
    "            prof.c.PSAL !='NaN',\n",
    "            prof.c.SSAL !='NaN'\n",
    "            )\n",
    "        ))\n",
    "results=conn.execute(s).fetchall()\n",
    "print(results[1])"
   ]
  },
  {
   "cell_type": "raw",
   "metadata": {},
   "source": [
    "s=select([prof.c.OBS_YEAR, prof.c.OBS_MONTH, prof.c.DEPTH_PRESS, prof.c.PSAL, prof.c.SSAL, \n",
    "          prof.c.NTRA, func.case(\n",
    "                [(prof.c.SSAL == 'NaN', prof.c.PSAL),\n",
    "                 (prof.c.SSAL != 'NaN', prof.c.SSAL)\n",
    "                ])\n",
    "        ]).where(\n",
    "            and_(\n",
    "                prof.c.LATITUDE > 48.3,\n",
    "                prof.c.LATITUDE < 48.8,\n",
    "                prof.c.LONGITUDE < 125.2,\n",
    "                prof.c.LONGITUDE > 124.3,\n",
    "                prof.c.NTRA != 'NaN',\n",
    "                prof.c.PSAL !='NaN',\n",
    "                )\n",
    "            )\n",
    "conn.execute(s).fetchall()\n"
   ]
  },
  {
   "cell_type": "code",
   "execution_count": null,
   "metadata": {
    "collapsed": true
   },
   "outputs": [],
   "source": []
  },
  {
   "cell_type": "code",
   "execution_count": null,
   "metadata": {
    "collapsed": true
   },
   "outputs": [],
   "source": []
  },
  {
   "cell_type": "code",
   "execution_count": null,
   "metadata": {
    "collapsed": false
   },
   "outputs": [],
   "source": [
    "conn.close()\n",
    "engine.dispose()"
   ]
  }
 ],
 "metadata": {
  "kernelspec": {
   "display_name": "Python 3",
   "language": "python",
   "name": "python3"
  },
  "language_info": {
   "codemirror_mode": {
    "name": "ipython",
    "version": 3
   },
   "file_extension": ".py",
   "mimetype": "text/x-python",
   "name": "python",
   "nbconvert_exporter": "python",
   "pygments_lexer": "ipython3",
   "version": "3.4.4"
  }
 },
 "nbformat": 4,
 "nbformat_minor": 0
}
