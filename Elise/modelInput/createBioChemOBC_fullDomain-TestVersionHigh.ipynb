{
 "cells": [
  {
   "cell_type": "markdown",
   "metadata": {},
   "source": [
    "This notebook will be used to create biochem open boundary conditions, starting with SJDF, for full domain. "
   ]
  },
  {
   "cell_type": "code",
   "execution_count": 1,
   "metadata": {
    "collapsed": false
   },
   "outputs": [],
   "source": [
    "import netCDF4 as nc\n",
    "import numpy as np\n",
    "import matplotlib.pyplot as plt\n",
    "import datetime as dt\n",
    "import os\n",
    "import re\n",
    "\n",
    "%matplotlib inline\n",
    "\n",
    "N2chl=1.600"
   ]
  },
  {
   "cell_type": "raw",
   "metadata": {},
   "source": [
    "variables: NO3, Si, NH4, PHY, PHY2, MYRI, MICZ, POC, DOC, bSi\n",
    "for now, set bio and detritus to zero (PHY,PHY2,MYRI,MICZ)"
   ]
  },
  {
   "cell_type": "markdown",
   "metadata": {},
   "source": [
    "# Load 3D T+S\n"
   ]
  },
  {
   "cell_type": "code",
   "execution_count": 2,
   "metadata": {
    "collapsed": true
   },
   "outputs": [],
   "source": [
    "# define constant values, not yet based on data:\n",
    "val_NO3=100.\n",
    "val_NH4=100.\n",
    "val_Si=100.\n",
    "val_bSi=100.\n",
    "val_DIA=100.\n",
    "val_CRY=100.\n",
    "val_MYRI=100.\n",
    "val_MICZ=100.\n",
    "val_PON=100.\n",
    "val_DON=100.\n",
    "val_Oxy = 100.0"
   ]
  },
  {
   "cell_type": "code",
   "execution_count": 3,
   "metadata": {
    "collapsed": false
   },
   "outputs": [],
   "source": [
    "TS = nc.Dataset('/data/dlatorne/MEOPAR/nowcast-green/open_boundaries/west/SalishSea_west_TEOS10.nc')"
   ]
  },
  {
   "cell_type": "code",
   "execution_count": 4,
   "metadata": {
    "collapsed": false
   },
   "outputs": [
    {
     "name": "stdout",
     "output_type": "stream",
     "text": [
      "deptht, nav_lat, nav_lon, nbidta, nbjdta, nbrdta, time_counter, vosaline, votemper, \n"
     ]
    }
   ],
   "source": [
    "s=''\n",
    "for key in TS.variables.keys():\n",
    "    s=s+key+', '\n",
    "print(s)"
   ]
  },
  {
   "cell_type": "code",
   "execution_count": 5,
   "metadata": {
    "collapsed": false
   },
   "outputs": [
    {
     "name": "stdout",
     "output_type": "stream",
     "text": [
      "OrderedDict([('deptht', <class 'netCDF4._netCDF4.Dimension'>: name = 'deptht', size = 40\n",
      "), ('yb', <class 'netCDF4._netCDF4.Dimension'>: name = 'yb', size = 1\n",
      "), ('xbT', <class 'netCDF4._netCDF4.Dimension'>: name = 'xbT', size = 870\n",
      "), ('time_counter', <class 'netCDF4._netCDF4.Dimension'> (unlimited): name = 'time_counter', size = 52\n",
      ")])\n"
     ]
    }
   ],
   "source": [
    "print(TS.dimensions)"
   ]
  },
  {
   "cell_type": "markdown",
   "metadata": {},
   "source": [
    "#Save to netcdf"
   ]
  },
  {
   "cell_type": "code",
   "execution_count": 6,
   "metadata": {
    "collapsed": false
   },
   "outputs": [],
   "source": [
    "new = nc.Dataset('/ocean/eolson/MEOPAR/NEMO-3.6-inputs/boundary_conditions/bioOBC_full_highvals.nc', 'w', zlib=True)\n",
    "#Copy dimensions\n",
    "for dname, the_dim in TS.dimensions.items():\n",
    "    #print (dname, len(the_dim) if not the_dim.isunlimited() else None)\n",
    "    new.createDimension(dname, len(the_dim) if not the_dim.isunlimited() else None)"
   ]
  },
  {
   "cell_type": "code",
   "execution_count": 7,
   "metadata": {
    "collapsed": false
   },
   "outputs": [
    {
     "name": "stdout",
     "output_type": "stream",
     "text": [
      "OrderedDict([('deptht', <class 'netCDF4._netCDF4.Dimension'>: name = 'deptht', size = 40\n",
      "), ('yb', <class 'netCDF4._netCDF4.Dimension'>: name = 'yb', size = 1\n",
      "), ('xbT', <class 'netCDF4._netCDF4.Dimension'>: name = 'xbT', size = 870\n",
      "), ('time_counter', <class 'netCDF4._netCDF4.Dimension'> (unlimited): name = 'time_counter', size = 0\n",
      ")])\n"
     ]
    }
   ],
   "source": [
    "print(new.dimensions)"
   ]
  },
  {
   "cell_type": "code",
   "execution_count": 8,
   "metadata": {
    "collapsed": false
   },
   "outputs": [],
   "source": [
    "# create dimension variables:\n",
    "# deptht\n",
    "deptht=new.createVariable('deptht','float',('deptht',),zlib=True)\n",
    "deptht.long_name = 'Vertical T Levels'\n",
    "deptht.units = 'm'\n",
    "deptht.positive = 'down'\n",
    "deptht.valid_range = np.array((4., 428.))\n",
    "deptht[:]=TS.variables['deptht']\n",
    "\n",
    "#nav_lat\n",
    "nav_lat = new.createVariable('nav_lat','float',('yb','xbT'),zlib=True)\n",
    "nav_lat.long_name = TS.variables['nav_lat'].long_name\n",
    "nav_lat.units = TS.variables['nav_lat'].units\n",
    "nav_lat[:] = TS.variables['nav_lat']\n",
    "\n",
    "#nav_lon\n",
    "nav_lon = new.createVariable('nav_lon','float',('yb','xbT'),zlib=True)\n",
    "nav_lon.long_name = TS.variables['nav_lon'].long_name\n",
    "nav_lon.units = TS.variables['nav_lon'].units\n",
    "nav_lon[:]=TS.variables['nav_lon']\n",
    "\n",
    "# nbidta\n",
    "nbidta=new.createVariable('nbidta','int',('yb','xbT'),zlib=True)\n",
    "nbidta.long_name = TS.variables['nbidta'].long_name\n",
    "nbidta.units = TS.variables['nbidta'].units\n",
    "nbidta[:]=TS.variables['nbidta']\n",
    "\n",
    "# nbjdta\n",
    "nbjdta=new.createVariable('nbjdta','int',('yb','xbT'),zlib=True)\n",
    "nbjdta.long_name = TS.variables['nbjdta'].long_name\n",
    "nbjdta.units = TS.variables['nbjdta'].units\n",
    "nbjdta[:]=TS.variables['nbjdta']\n",
    "\n",
    "# nbrdta\n",
    "nbrdta=new.createVariable('nbrdta','int',('yb','xbT'),zlib=True)\n",
    "nbrdta.long_name = TS.variables['nbrdta'].long_name\n",
    "nbrdta.units = TS.variables['nbrdta'].units\n",
    "nbrdta[:]=TS.variables['nbrdta']\n",
    "\n",
    "# time_counter\n",
    "time_counter = new.createVariable('time_counter', 'float', ('time_counter'),zlib=True)\n",
    "time_counter.long_name = 'Time axis'\n",
    "time_counter.axis = 'T'\n",
    "time_counter.units = 'weeks since beginning of year'\n",
    "time_counter[:]=TS.variables['time_counter']"
   ]
  },
  {
   "cell_type": "code",
   "execution_count": 9,
   "metadata": {
    "collapsed": false
   },
   "outputs": [
    {
     "name": "stdout",
     "output_type": "stream",
     "text": [
      "<class 'netCDF4._netCDF4.Variable'>\n",
      "float32 vosaline(time_counter, deptht, yb, xbT)\n",
      "    coordinates: nav_lon nav_lat deptht time_counter\n",
      "    grid: SalishSea\n",
      "    units: g/kg\n",
      "    long_name: Reference Salinity\n",
      "unlimited dimensions: time_counter\n",
      "current shape = (52, 40, 1, 870)\n",
      "filling on, default _FillValue of 9.969209968386869e+36 used\n",
      "\n"
     ]
    }
   ],
   "source": [
    "print(TS.variables['vosaline'])"
   ]
  },
  {
   "cell_type": "code",
   "execution_count": 10,
   "metadata": {
    "collapsed": false
   },
   "outputs": [],
   "source": [
    "# variables\n",
    "#NO3, Si, NH4, PHY, PHY2, MYRI, MICZ, POC, DOC, bSi\n",
    "\n",
    "# NO3\n",
    "voNO3 = new.createVariable('NO3', 'float32', \n",
    "                               ('time_counter','deptht','yb','xbT'),zlib=True)\n",
    "voNO3.grid = TS.variables['votemper'].grid\n",
    "voNO3.units = 'muM'\n",
    "voNO3.long_name = 'Nitrate' \n",
    "voNO3[:]=val_NO3\n",
    "\n",
    "\n",
    "#Si\n",
    "voSi = new.createVariable('Si', 'float32', \n",
    "                               ('time_counter','deptht','yb','xbT'),zlib=True)\n",
    "voSi.grid = TS.variables['votemper'].grid\n",
    "voSi.units = 'muM'\n",
    "voSi.long_name = 'Silica' \n",
    "voSi[:]=val_Si\n",
    "\n",
    "\n",
    "#NH4\n",
    "voNH4 = new.createVariable('NH4', 'float32', \n",
    "                               ('time_counter','deptht','yb','xbT'),zlib=True)\n",
    "voNH4.grid = TS.variables['votemper'].grid\n",
    "voNH4.units = 'muM'\n",
    "voNH4.long_name = 'Ammonia' \n",
    "voNH4[:]=val_NH4\n",
    "\n",
    "\n",
    "#DIA\n",
    "voDIA = new.createVariable('DIA', 'float32', \n",
    "                               ('time_counter','deptht','yb','xbT'),zlib=True)\n",
    "voDIA.units = 'muM N'\n",
    "voDIA.long_name = 'Diatoms'\n",
    "voDIA.grid = TS.variables['votemper'].grid\n",
    "voDIA[:]=val_DIA\n",
    "\n",
    "#CRY\n",
    "voCRY = new.createVariable('CRY', 'float32', \n",
    "                               ('time_counter','deptht','yb','xbT'),zlib=True)\n",
    "voCRY.units = 'muM N'\n",
    "voCRY.long_name = 'Cryptophytes'\n",
    "voCRY.grid = TS.variables['votemper'].grid\n",
    "voCRY[:]=val_CRY\n",
    "\n",
    "#MYRI\n",
    "voMYRI = new.createVariable('MYRI', 'float32', \n",
    "                               ('time_counter','deptht','yb','xbT'),zlib=True)\n",
    "voMYRI.units = 'muM N'\n",
    "voMYRI.long_name = 'M. rubra' \n",
    "voMYRI.grid = TS.variables['votemper'].grid\n",
    "voMYRI[:]=val_MYRI\n",
    "\n",
    "#MICZ\n",
    "voMICZ = new.createVariable('MICZ', 'float32', \n",
    "                               ('time_counter','deptht','yb','xbT'),zlib=True)\n",
    "voMICZ.units = 'muM N'\n",
    "voMICZ.long_name = 'Microzooplankton' \n",
    "voMICZ.grid = TS.variables['votemper'].grid\n",
    "voMICZ[:]=val_MICZ\n",
    "\n",
    "#PON\n",
    "voPON = new.createVariable('PON', 'float32', \n",
    "                               ('time_counter','deptht','yb','xbT'),zlib=True)\n",
    "voPON.units = 'muM N'\n",
    "voPON.long_name = 'Particulate Organic Nitrogen'\n",
    "voPON.grid = TS.variables['votemper'].grid\n",
    "voPON[:] = val_PON\n",
    "\n",
    "#DON\n",
    "voDON = new.createVariable('DON', 'float32', \n",
    "                               ('time_counter','deptht','yb','xbT'),zlib=True)\n",
    "voDON.units = 'muM N'\n",
    "voDON.long_name = 'Dissolved Organic Nitrogen'\n",
    "voDON.grid = TS.variables['votemper'].grid\n",
    "voDON[:]=val_DON\n",
    "\n",
    "#bSi\n",
    "vobSi = new.createVariable('bSi', 'float32', \n",
    "                               ('time_counter','deptht','yb','xbT'),zlib=True)\n",
    "vobSi.units = 'muM N'\n",
    "vobSi.long_name = 'Biogenic Silica'\n",
    "vobSi.grid = TS.variables['votemper'].grid\n",
    "vobSi[:]=val_bSi\n",
    "\n",
    "#O2\n",
    "voO2 = new.createVariable('O2', 'float32', \n",
    "                               ('time_counter','deptht','yb','xbT'),zlib=True)\n",
    "#voO2.units = ''\n",
    "voO2.long_name = 'oxygen'\n",
    "voO2.grid = TS.variables['votemper'].grid\n",
    "voO2[:]=val_Oxy\n"
   ]
  },
  {
   "cell_type": "code",
   "execution_count": 11,
   "metadata": {
    "collapsed": true
   },
   "outputs": [],
   "source": [
    "new.close()"
   ]
  },
  {
   "cell_type": "code",
   "execution_count": 12,
   "metadata": {
    "collapsed": true
   },
   "outputs": [],
   "source": [
    "TS.close()"
   ]
  },
  {
   "cell_type": "markdown",
   "metadata": {},
   "source": [
    "# Northern OBCs:"
   ]
  },
  {
   "cell_type": "code",
   "execution_count": 2,
   "metadata": {
    "collapsed": true
   },
   "outputs": [],
   "source": [
    "TS = nc.Dataset('/data/dlatorne/MEOPAR/nowcast-green/open_boundaries/north/SalishSea_north_TEOS10.nc')"
   ]
  },
  {
   "cell_type": "code",
   "execution_count": 14,
   "metadata": {
    "collapsed": true
   },
   "outputs": [],
   "source": [
    "new = nc.Dataset('/ocean/eolson/MEOPAR/NEMO-3.6-inputs/boundary_conditions/bioOBC_full_north_highvals.nc', 'w', zlib=True)\n",
    "#Copy dimensions\n",
    "for dname, the_dim in TS.dimensions.items():\n",
    "    #print (dname, len(the_dim) if not the_dim.isunlimited() else None)\n",
    "    new.createDimension(dname, len(the_dim) if not the_dim.isunlimited() else None)"
   ]
  },
  {
   "cell_type": "code",
   "execution_count": 15,
   "metadata": {
    "collapsed": true
   },
   "outputs": [],
   "source": [
    "# create dimension variables:\n",
    "# deptht\n",
    "deptht=new.createVariable('deptht','float32',('deptht',))\n",
    "deptht.long_name = 'Vertical T Levels'\n",
    "deptht.units = 'm'\n",
    "deptht.positive = 'down'\n",
    "deptht.valid_range = np.array((4., 428.))\n",
    "deptht[:]=TS.variables['deptht']\n",
    "\n",
    "#nav_lat\n",
    "nav_lat = new.createVariable('nav_lat','float32',('yb','xbT'))\n",
    "nav_lat.long_name = TS.variables['nav_lat'].long_name\n",
    "nav_lat.units = TS.variables['nav_lat'].units\n",
    "nav_lat[:] = TS.variables['nav_lat']\n",
    "\n",
    "#nav_lon\n",
    "nav_lon = new.createVariable('nav_lon','float32',('yb','xbT'))\n",
    "nav_lon.long_name = TS.variables['nav_lon'].long_name\n",
    "nav_lon.units = TS.variables['nav_lon'].units\n",
    "nav_lon[:]=TS.variables['nav_lon']\n",
    "\n",
    "# nbidta\n",
    "nbidta=new.createVariable('nbidta','int32',('yb','xbT'))\n",
    "nbidta.long_name = TS.variables['nbidta'].long_name\n",
    "nbidta.units = TS.variables['nbidta'].units\n",
    "nbidta[:]=TS.variables['nbidta']\n",
    "\n",
    "# nbjdta\n",
    "nbjdta=new.createVariable('nbjdta','int32',('yb','xbT'))\n",
    "nbjdta.long_name = TS.variables['nbjdta'].long_name\n",
    "nbjdta.units = TS.variables['nbjdta'].units\n",
    "nbjdta[:]=TS.variables['nbjdta']\n",
    "\n",
    "# nbrdta\n",
    "nbrdta=new.createVariable('nbrdta','int32',('yb','xbT'))\n",
    "nbrdta.long_name = TS.variables['nbrdta'].long_name\n",
    "nbrdta.units = TS.variables['nbrdta'].units\n",
    "nbrdta[:]=TS.variables['nbrdta']\n",
    "\n",
    "# time_counter\n",
    "time_counter = new.createVariable('time_counter', 'float32', ('time_counter'))\n",
    "time_counter.long_name = 'Time axis'\n",
    "time_counter.axis = 'T'\n",
    "time_counter.units = 'weeks since beginning of year'\n",
    "time_counter[:]=TS.variables['time_counter']"
   ]
  },
  {
   "cell_type": "code",
   "execution_count": 16,
   "metadata": {
    "collapsed": true
   },
   "outputs": [],
   "source": [
    "# variables\n",
    "#NO3, Si, NH4, PHY, PHY2, MYRI, MICZ, POC, DOC, bSi\n",
    "\n",
    "# NO3\n",
    "voNO3 = new.createVariable('NO3', 'float32', \n",
    "                               ('time_counter','deptht','yb','xbT'))\n",
    "voNO3.grid = TS.variables['votemper'].grid\n",
    "voNO3.units = 'muM'\n",
    "voNO3.long_name = 'Nitrate' \n",
    "voNO3[:]=val_NO3\n",
    "\n",
    "#Si\n",
    "voSi = new.createVariable('Si', 'float32', \n",
    "                               ('time_counter','deptht','yb','xbT'))\n",
    "voSi.grid = TS.variables['votemper'].grid\n",
    "voSi.units = 'muM'\n",
    "voSi.long_name = 'Silica' \n",
    "voSi[:]=val_Si\n",
    "\n",
    "#NH4\n",
    "voNH4 = new.createVariable('NH4', 'float32', \n",
    "                               ('time_counter','deptht','yb','xbT'))\n",
    "voNH4.grid = TS.variables['votemper'].grid\n",
    "voNH4.units = 'muM'\n",
    "voNH4.long_name = 'Ammonia' \n",
    "voNH4=val_NH4\n",
    "\n",
    "#DIA\n",
    "voDIA = new.createVariable('DIA', 'float32', \n",
    "                               ('time_counter','deptht','yb','xbT'))\n",
    "voDIA.units = 'muM N'\n",
    "voDIA.long_name = 'Diatoms'\n",
    "voDIA.grid = TS.variables['votemper'].grid\n",
    "voDIA[:]=val_DIA\n",
    "\n",
    "#CRY\n",
    "voCRY = new.createVariable('CRY', 'float32', \n",
    "                               ('time_counter','deptht','yb','xbT'))\n",
    "voCRY.units = 'muM N'\n",
    "voCRY.long_name = 'Cryptophytes'\n",
    "voCRY.grid = TS.variables['votemper'].grid\n",
    "voCRY[:]=val_CRY\n",
    "\n",
    "#MYRI\n",
    "voMYRI = new.createVariable('MYRI', 'float32', \n",
    "                               ('time_counter','deptht','yb','xbT'))\n",
    "voMYRI.units = 'muM N'\n",
    "voMYRI.long_name = 'M. rubra' \n",
    "voMYRI.grid = TS.variables['votemper'].grid\n",
    "voMYRI[:]=val_MYRI\n",
    "\n",
    "#MICZ\n",
    "voMICZ = new.createVariable('MICZ', 'float32', \n",
    "                               ('time_counter','deptht','yb','xbT'))\n",
    "voMICZ.units = 'muM N'\n",
    "voMICZ.long_name = 'Microzooplankton' \n",
    "voMICZ.grid = TS.variables['votemper'].grid\n",
    "voMICZ[:]=val_MICZ\n",
    "\n",
    "#PON\n",
    "voPON = new.createVariable('PON', 'float32', \n",
    "                               ('time_counter','deptht','yb','xbT'))\n",
    "voPON.units = 'muM N'\n",
    "voPON.long_name = 'Particulate Organic Nitrogen'\n",
    "voPON.grid = TS.variables['votemper'].grid\n",
    "voPON[:] = val_PON\n",
    "\n",
    "#DON\n",
    "voDON = new.createVariable('DON', 'float32', \n",
    "                               ('time_counter','deptht','yb','xbT'))\n",
    "voDON.units = 'muM N'\n",
    "voDON.long_name = 'Dissolved Organic Nitrogen'\n",
    "voDON.grid = TS.variables['votemper'].grid\n",
    "voDON[:]=val_DON\n",
    "\n",
    "#bSi\n",
    "vobSi = new.createVariable('bSi', 'float32', \n",
    "                               ('time_counter','deptht','yb','xbT'))\n",
    "vobSi.units = 'muM N'\n",
    "vobSi.long_name = 'Biogenic Silica'\n",
    "vobSi.grid = TS.variables['votemper'].grid\n",
    "vobSi[:]=val_bSi\n",
    "\n",
    "#O2\n",
    "voO2 = new.createVariable('O2', 'float32', \n",
    "                               ('time_counter','deptht','yb','xbT'))\n",
    "#voO2.units = ''\n",
    "voO2.long_name = 'oxygen'\n",
    "voO2.grid = TS.variables['votemper'].grid\n",
    "voO2[:]=val_Oxy\n"
   ]
  },
  {
   "cell_type": "code",
   "execution_count": 17,
   "metadata": {
    "collapsed": true
   },
   "outputs": [],
   "source": [
    "new.close()"
   ]
  },
  {
   "cell_type": "code",
   "execution_count": 18,
   "metadata": {
    "collapsed": true
   },
   "outputs": [],
   "source": [
    "TS.close()"
   ]
  },
  {
   "cell_type": "code",
   "execution_count": 19,
   "metadata": {
    "collapsed": false
   },
   "outputs": [],
   "source": [
    "f=nc.Dataset('/ocean/eolson/MEOPAR/NEMO-3.6-inputs/boundary_conditions/bioOBC_full_highvals.nc')"
   ]
  },
  {
   "cell_type": "code",
   "execution_count": 20,
   "metadata": {
    "collapsed": false
   },
   "outputs": [
    {
     "name": "stdout",
     "output_type": "stream",
     "text": [
      "OrderedDict([('deptht', <class 'netCDF4._netCDF4.Variable'>\n",
      "float64 deptht(deptht)\n",
      "    long_name: Vertical T Levels\n",
      "    units: m\n",
      "    positive: down\n",
      "    valid_range: [   4.  428.]\n",
      "unlimited dimensions: \n",
      "current shape = (40,)\n",
      "filling on, default _FillValue of 9.969209968386869e+36 used\n",
      "), ('nav_lat', <class 'netCDF4._netCDF4.Variable'>\n",
      "float64 nav_lat(yb, xbT)\n",
      "    long_name: Latitude\n",
      "    units: degrees_north\n",
      "unlimited dimensions: \n",
      "current shape = (1, 870)\n",
      "filling on, default _FillValue of 9.969209968386869e+36 used\n",
      "), ('nav_lon', <class 'netCDF4._netCDF4.Variable'>\n",
      "float64 nav_lon(yb, xbT)\n",
      "    long_name: Longitude\n",
      "    units: degrees_east\n",
      "unlimited dimensions: \n",
      "current shape = (1, 870)\n",
      "filling on, default _FillValue of 9.969209968386869e+36 used\n",
      "), ('nbidta', <class 'netCDF4._netCDF4.Variable'>\n",
      "int64 nbidta(yb, xbT)\n",
      "    long_name: i grid position\n",
      "    units: 1\n",
      "unlimited dimensions: \n",
      "current shape = (1, 870)\n",
      "filling on, default _FillValue of -9223372036854775806 used\n",
      "), ('nbjdta', <class 'netCDF4._netCDF4.Variable'>\n",
      "int64 nbjdta(yb, xbT)\n",
      "    long_name: j grid position\n",
      "    units: 1\n",
      "unlimited dimensions: \n",
      "current shape = (1, 870)\n",
      "filling on, default _FillValue of -9223372036854775806 used\n",
      "), ('nbrdta', <class 'netCDF4._netCDF4.Variable'>\n",
      "int64 nbrdta(yb, xbT)\n",
      "    long_name: position from boundary\n",
      "    units: 1\n",
      "unlimited dimensions: \n",
      "current shape = (1, 870)\n",
      "filling on, default _FillValue of -9223372036854775806 used\n",
      "), ('time_counter', <class 'netCDF4._netCDF4.Variable'>\n",
      "float64 time_counter(time_counter)\n",
      "    long_name: Time axis\n",
      "    axis: T\n",
      "    units: weeks since beginning of year\n",
      "unlimited dimensions: time_counter\n",
      "current shape = (52,)\n",
      "filling on, default _FillValue of 9.969209968386869e+36 used\n",
      "), ('NO3', <class 'netCDF4._netCDF4.Variable'>\n",
      "float32 NO3(time_counter, deptht, yb, xbT)\n",
      "    grid: SalishSea\n",
      "    units: muM\n",
      "    long_name: Nitrate\n",
      "unlimited dimensions: time_counter\n",
      "current shape = (52, 40, 1, 870)\n",
      "filling on, default _FillValue of 9.969209968386869e+36 used\n",
      "), ('Si', <class 'netCDF4._netCDF4.Variable'>\n",
      "float32 Si(time_counter, deptht, yb, xbT)\n",
      "    grid: SalishSea\n",
      "    units: muM\n",
      "    long_name: Silica\n",
      "unlimited dimensions: time_counter\n",
      "current shape = (52, 40, 1, 870)\n",
      "filling on, default _FillValue of 9.969209968386869e+36 used\n",
      "), ('NH4', <class 'netCDF4._netCDF4.Variable'>\n",
      "float32 NH4(time_counter, deptht, yb, xbT)\n",
      "    grid: SalishSea\n",
      "    units: muM\n",
      "    long_name: Ammonia\n",
      "unlimited dimensions: time_counter\n",
      "current shape = (52, 40, 1, 870)\n",
      "filling on, default _FillValue of 9.969209968386869e+36 used\n",
      "), ('DIA', <class 'netCDF4._netCDF4.Variable'>\n",
      "float32 DIA(time_counter, deptht, yb, xbT)\n",
      "    units: muM N\n",
      "    long_name: Diatoms\n",
      "    grid: SalishSea\n",
      "unlimited dimensions: time_counter\n",
      "current shape = (52, 40, 1, 870)\n",
      "filling on, default _FillValue of 9.969209968386869e+36 used\n",
      "), ('CRY', <class 'netCDF4._netCDF4.Variable'>\n",
      "float32 CRY(time_counter, deptht, yb, xbT)\n",
      "    units: muM N\n",
      "    long_name: Cryptophytes\n",
      "    grid: SalishSea\n",
      "unlimited dimensions: time_counter\n",
      "current shape = (52, 40, 1, 870)\n",
      "filling on, default _FillValue of 9.969209968386869e+36 used\n",
      "), ('MYRI', <class 'netCDF4._netCDF4.Variable'>\n",
      "float32 MYRI(time_counter, deptht, yb, xbT)\n",
      "    units: muM N\n",
      "    long_name: M. rubra\n",
      "    grid: SalishSea\n",
      "unlimited dimensions: time_counter\n",
      "current shape = (52, 40, 1, 870)\n",
      "filling on, default _FillValue of 9.969209968386869e+36 used\n",
      "), ('MICZ', <class 'netCDF4._netCDF4.Variable'>\n",
      "float32 MICZ(time_counter, deptht, yb, xbT)\n",
      "    units: muM N\n",
      "    long_name: Microzooplankton\n",
      "    grid: SalishSea\n",
      "unlimited dimensions: time_counter\n",
      "current shape = (52, 40, 1, 870)\n",
      "filling on, default _FillValue of 9.969209968386869e+36 used\n",
      "), ('PON', <class 'netCDF4._netCDF4.Variable'>\n",
      "float32 PON(time_counter, deptht, yb, xbT)\n",
      "    units: muM N\n",
      "    long_name: Particulate Organic Nitrogen\n",
      "    grid: SalishSea\n",
      "unlimited dimensions: time_counter\n",
      "current shape = (52, 40, 1, 870)\n",
      "filling on, default _FillValue of 9.969209968386869e+36 used\n",
      "), ('DON', <class 'netCDF4._netCDF4.Variable'>\n",
      "float32 DON(time_counter, deptht, yb, xbT)\n",
      "    units: muM N\n",
      "    long_name: Dissolved Organic Nitrogen\n",
      "    grid: SalishSea\n",
      "unlimited dimensions: time_counter\n",
      "current shape = (52, 40, 1, 870)\n",
      "filling on, default _FillValue of 9.969209968386869e+36 used\n",
      "), ('bSi', <class 'netCDF4._netCDF4.Variable'>\n",
      "float32 bSi(time_counter, deptht, yb, xbT)\n",
      "    units: muM N\n",
      "    long_name: Biogenic Silica\n",
      "    grid: SalishSea\n",
      "unlimited dimensions: time_counter\n",
      "current shape = (52, 40, 1, 870)\n",
      "filling on, default _FillValue of 9.969209968386869e+36 used\n",
      "), ('O2', <class 'netCDF4._netCDF4.Variable'>\n",
      "float32 O2(time_counter, deptht, yb, xbT)\n",
      "    long_name: oxygen\n",
      "    grid: SalishSea\n",
      "unlimited dimensions: time_counter\n",
      "current shape = (52, 40, 1, 870)\n",
      "filling on, default _FillValue of 9.969209968386869e+36 used\n",
      ")])\n"
     ]
    }
   ],
   "source": [
    "print(f.variables)"
   ]
  },
  {
   "cell_type": "code",
   "execution_count": 21,
   "metadata": {
    "collapsed": true
   },
   "outputs": [],
   "source": [
    "f.close()"
   ]
  },
  {
   "cell_type": "code",
   "execution_count": 22,
   "metadata": {
    "collapsed": true
   },
   "outputs": [],
   "source": [
    "f=nc.Dataset('/data/eolson/MEOPAR/SS36runs/run08dec15_2OBC/bio_OBC/bioOBC_full.nc')"
   ]
  },
  {
   "cell_type": "code",
   "execution_count": 23,
   "metadata": {
    "collapsed": false
   },
   "outputs": [
    {
     "name": "stdout",
     "output_type": "stream",
     "text": [
      "100.0\n"
     ]
    }
   ],
   "source": [
    "print(f.variables['NO3'][1,5,0,10])"
   ]
  },
  {
   "cell_type": "code",
   "execution_count": 24,
   "metadata": {
    "collapsed": false
   },
   "outputs": [
    {
     "name": "stdout",
     "output_type": "stream",
     "text": [
      "100.0\n"
     ]
    }
   ],
   "source": [
    "print(f.variables['NH4'][1,5,0,10])"
   ]
  },
  {
   "cell_type": "code",
   "execution_count": 3,
   "metadata": {
    "collapsed": false
   },
   "outputs": [
    {
     "name": "stdout",
     "output_type": "stream",
     "text": [
      "OrderedDict([('xbT', <class 'netCDF4._netCDF4.Dimension'>: name = 'xbT', size = 300\n",
      "), ('yb', <class 'netCDF4._netCDF4.Dimension'>: name = 'yb', size = 1\n",
      "), ('deptht', <class 'netCDF4._netCDF4.Dimension'>: name = 'deptht', size = 40\n",
      "), ('time_counter', <class 'netCDF4._netCDF4.Dimension'> (unlimited): name = 'time_counter', size = 2\n",
      ")])\n"
     ]
    }
   ],
   "source": [
    "print(TS.dimensions)"
   ]
  },
  {
   "cell_type": "code",
   "execution_count": 15,
   "metadata": {
    "collapsed": false
   },
   "outputs": [
    {
     "name": "stdout",
     "output_type": "stream",
     "text": [
      "OrderedDict([('deptht', <class 'netCDF4._netCDF4.Variable'>\n",
      "float32 deptht(deptht)\n",
      "    long_name: Vertical T Levels\n",
      "    units: m\n",
      "    positive: down\n",
      "    valid_range: [   4.  428.]\n",
      "unlimited dimensions: \n",
      "current shape = (40,)\n",
      "filling on, default _FillValue of 9.969209968386869e+36 used\n",
      "), ('time_counter', <class 'netCDF4._netCDF4.Variable'>\n",
      "float32 time_counter(time_counter)\n",
      "    long_name: Time axis\n",
      "    axis: T\n",
      "    units: half years\n",
      "unlimited dimensions: time_counter\n",
      "current shape = (2,)\n",
      "filling on, default _FillValue of 9.969209968386869e+36 used\n",
      "), ('nav_lat', <class 'netCDF4._netCDF4.Variable'>\n",
      "float32 nav_lat(yb, xbT)\n",
      "    long_name: Latitude\n",
      "    units: degrees_north\n",
      "unlimited dimensions: \n",
      "current shape = (1, 300)\n",
      "filling on, default _FillValue of 9.969209968386869e+36 used\n",
      "), ('nav_lon', <class 'netCDF4._netCDF4.Variable'>\n",
      "float32 nav_lon(yb, xbT)\n",
      "    long_name: Longitude\n",
      "    units: degrees_east\n",
      "unlimited dimensions: \n",
      "current shape = (1, 300)\n",
      "filling on, default _FillValue of 9.969209968386869e+36 used\n",
      "), ('votemper', <class 'netCDF4._netCDF4.Variable'>\n",
      "float32 votemper(time_counter, deptht, yb, xbT)\n",
      "    units: degC\n",
      "    long_name: Temperature\n",
      "    coordinates: nav_lon nav_lat deptht time_counter\n",
      "    grid: SalishSea2\n",
      "unlimited dimensions: time_counter\n",
      "current shape = (2, 40, 1, 300)\n",
      "filling on, default _FillValue of 9.969209968386869e+36 used\n",
      "), ('vosaline', <class 'netCDF4._netCDF4.Variable'>\n",
      "float32 vosaline(time_counter, deptht, yb, xbT)\n",
      "    units: 1\n",
      "    long_name: Practical Salinity\n",
      "    coordinates: nav_lon nav_lat deptht time_counter\n",
      "    grid: SalishSea2\n",
      "unlimited dimensions: time_counter\n",
      "current shape = (2, 40, 1, 300)\n",
      "filling on, default _FillValue of 9.969209968386869e+36 used\n",
      "), ('nbidta', <class 'netCDF4._netCDF4.Variable'>\n",
      "int32 nbidta(yb, xbT)\n",
      "    long_name: i grid position\n",
      "    units: 1\n",
      "unlimited dimensions: \n",
      "current shape = (1, 300)\n",
      "filling on, default _FillValue of -2147483647 used\n",
      "), ('nbjdta', <class 'netCDF4._netCDF4.Variable'>\n",
      "int32 nbjdta(yb, xbT)\n",
      "    long_name: j grid position\n",
      "    units: 1\n",
      "unlimited dimensions: \n",
      "current shape = (1, 300)\n",
      "filling on, default _FillValue of -2147483647 used\n",
      "), ('nbrdta', <class 'netCDF4._netCDF4.Variable'>\n",
      "int32 nbrdta(yb, xbT)\n",
      "    long_name: position from boundary\n",
      "    units: 1\n",
      "unlimited dimensions: \n",
      "current shape = (1, 300)\n",
      "filling on, default _FillValue of -2147483647 used\n",
      ")])\n"
     ]
    }
   ],
   "source": [
    "print(TS.variables)"
   ]
  },
  {
   "cell_type": "code",
   "execution_count": 8,
   "metadata": {
    "collapsed": false
   },
   "outputs": [
    {
     "name": "stdout",
     "output_type": "stream",
     "text": [
      "896\n"
     ]
    }
   ],
   "source": [
    "print(np.max(TS.variables['nbjdta'][:,0:20]))"
   ]
  },
  {
   "cell_type": "code",
   "execution_count": null,
   "metadata": {
    "collapsed": true
   },
   "outputs": [],
   "source": []
  }
 ],
 "metadata": {
  "kernelspec": {
   "display_name": "Python 3",
   "language": "python",
   "name": "python3"
  },
  "language_info": {
   "codemirror_mode": {
    "name": "ipython",
    "version": 3
   },
   "file_extension": ".py",
   "mimetype": "text/x-python",
   "name": "python",
   "nbconvert_exporter": "python",
   "pygments_lexer": "ipython3",
   "version": "3.4.4"
  }
 },
 "nbformat": 4,
 "nbformat_minor": 0
}
