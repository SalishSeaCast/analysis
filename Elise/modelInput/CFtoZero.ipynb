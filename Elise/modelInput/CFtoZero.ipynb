{
 "cells": [
  {
   "cell_type": "markdown",
   "metadata": {},
   "source": [
    "<span style=\"background-color:black; color:cyan; vertical-align: middle; font-size:20px\">Script to read in cloud forcing SOG input file, replace all temperature readings with constant value (12.0611=surface value in SG-S3-2004-10-19.sog CTD file), and write to a new file.</span>"
   ]
  },
  {
   "cell_type": "code",
   "execution_count": 1,
   "metadata": {
    "collapsed": false
   },
   "outputs": [],
   "source": [
    "import numpy as np\n",
    "import matplotlib.pyplot as plt\n",
    "import os\n",
    "import re"
   ]
  },
  {
   "cell_type": "markdown",
   "metadata": {},
   "source": [
    "Edit path to base directory and filenames:"
   ]
  },
  {
   "cell_type": "code",
   "execution_count": 2,
   "metadata": {
    "collapsed": false
   },
   "outputs": [],
   "source": [
    "basedir='/data/eolson/SOG/SOG-forcing/met/'\n",
    "fname0='YVRhistCF'\n",
    "fname='CFZero'"
   ]
  },
  {
   "cell_type": "markdown",
   "metadata": {},
   "source": [
    "<span style=\"background-color:black; color:cyan; vertical-align: middle; padding:2px 0; font-size:20px\">read data from initial file</span>"
   ]
  },
  {
   "cell_type": "code",
   "execution_count": 3,
   "metadata": {
    "collapsed": false
   },
   "outputs": [],
   "source": [
    "f0=open(os.path.join(basedir,fname0),'r')\n",
    "data=f0.read()\n",
    "f0.close()"
   ]
  },
  {
   "cell_type": "markdown",
   "metadata": {},
   "source": [
    "<span style=\"background-color:black; color:cyan; vertical-align: middle; padding:2px 0; font-size:20px\">Create strings containing regular expression to match and its replacement: </span>"
   ]
  },
  {
   "cell_type": "code",
   "execution_count": 4,
   "metadata": {
    "collapsed": false
   },
   "outputs": [],
   "source": [
    "seg=r'[0-9.]+\\s+'\n",
    "segf=seg\n",
    "repl0='0.0 '\n",
    "repl=repl0"
   ]
  },
  {
   "cell_type": "code",
   "execution_count": 5,
   "metadata": {
    "collapsed": false
   },
   "outputs": [],
   "source": [
    "nseg=1;\n",
    "while nseg<23:\n",
    "    segf=segf+seg\n",
    "    repl=repl+repl0\n",
    "    nseg=nseg+1\n",
    "segf=segf+r'[0-9.]+\\s*\\n'\n",
    "repl=repl+repl0+'\\n'"
   ]
  },
  {
   "cell_type": "code",
   "execution_count": 6,
   "metadata": {
    "collapsed": false
   },
   "outputs": [
    {
     "name": "stdout",
     "output_type": "stream",
     "text": [
      "[0-9.]+\\s+[0-9.]+\\s+[0-9.]+\\s+[0-9.]+\\s+[0-9.]+\\s+[0-9.]+\\s+[0-9.]+\\s+[0-9.]+\\s+[0-9.]+\\s+[0-9.]+\\s+[0-9.]+\\s+[0-9.]+\\s+[0-9.]+\\s+[0-9.]+\\s+[0-9.]+\\s+[0-9.]+\\s+[0-9.]+\\s+[0-9.]+\\s+[0-9.]+\\s+[0-9.]+\\s+[0-9.]+\\s+[0-9.]+\\s+[0-9.]+\\s+[0-9.]+\\s*\\n\n"
     ]
    }
   ],
   "source": [
    "print segf"
   ]
  },
  {
   "cell_type": "code",
   "execution_count": 7,
   "metadata": {
    "collapsed": false
   },
   "outputs": [],
   "source": [
    "p=re.compile(segf)"
   ]
  },
  {
   "cell_type": "code",
   "execution_count": 8,
   "metadata": {
    "collapsed": false
   },
   "outputs": [],
   "source": [
    "test='asdf   asdf  1. 3.3 234 234   234.333 234. 645. 345.453 77777.  234.. 2343. 1.0 2.0 3.00 4.00 5.00 6.0 \\\n",
    "7.0 8.0 9.0 10.000   11.0 12.0 13.0 14 15 16   17 18 19 20 21.000 22.0   23.0 24.000  \\n\\\n",
    "asdf   asdf  1. 3.3 234 234   234.333 234. 645. 345.453 77777.  234.. 2343. 1.0 2.0 3.00 4.00 5.00 6.0 \\\n",
    "7.0 8.0 9.0 10.000   11.0 12.0 13.0 14 15 16   17 18 19 20 21.000 22.0   23.0 24.000  \\n\\\n",
    "asdf   asdf  1. 3.3 234 234   234.333 234. 645. 345.453 77777.  234.. 2343. 1.0 2.0 3.00 4.00 5.00 6.0 \\\n",
    "7.0 8.0 9.0 10.000   11.0 12.0 13.0 14 15 16   17 18 19 20 21.000 22.0   23.0 24.000  \\n'"
   ]
  },
  {
   "cell_type": "code",
   "execution_count": 9,
   "metadata": {
    "collapsed": false
   },
   "outputs": [
    {
     "name": "stdout",
     "output_type": "stream",
     "text": [
      "asdf   asdf  1. 3.3 234 234   234.333 234. 645. 345.453 77777.  234.. 2343. 1.0 2.0 3.00 4.00 5.00 6.0 7.0 8.0 9.0 10.000   11.0 12.0 13.0 14 15 16   17 18 19 20 21.000 22.0   23.0 24.000  \n",
      "asdf   asdf  1. 3.3 234 234   234.333 234. 645. 345.453 77777.  234.. 2343. 1.0 2.0 3.00 4.00 5.00 6.0 7.0 8.0 9.0 10.000   11.0 12.0 13.0 14 15 16   17 18 19 20 21.000 22.0   23.0 24.000  \n",
      "asdf   asdf  1. 3.3 234 234   234.333 234. 645. 345.453 77777.  234.. 2343. 1.0 2.0 3.00 4.00 5.00 6.0 7.0 8.0 9.0 10.000   11.0 12.0 13.0 14 15 16   17 18 19 20 21.000 22.0   23.0 24.000  \n",
      "\n"
     ]
    }
   ],
   "source": [
    "print test"
   ]
  },
  {
   "cell_type": "markdown",
   "metadata": {},
   "source": [
    "<span style=\"background-color:black; color:cyan; vertical-align: middle; padding:2px 0; font-size:20px\">Test regular expression matching and replacement</span>"
   ]
  },
  {
   "cell_type": "code",
   "execution_count": 10,
   "metadata": {
    "collapsed": false
   },
   "outputs": [
    {
     "data": {
      "text/plain": [
       "['1.0 2.0 3.00 4.00 5.00 6.0 7.0 8.0 9.0 10.000   11.0 12.0 13.0 14 15 16   17 18 19 20 21.000 22.0   23.0 24.000  \\n',\n",
       " '1.0 2.0 3.00 4.00 5.00 6.0 7.0 8.0 9.0 10.000   11.0 12.0 13.0 14 15 16   17 18 19 20 21.000 22.0   23.0 24.000  \\n',\n",
       " '1.0 2.0 3.00 4.00 5.00 6.0 7.0 8.0 9.0 10.000   11.0 12.0 13.0 14 15 16   17 18 19 20 21.000 22.0   23.0 24.000  \\n']"
      ]
     },
     "execution_count": 10,
     "metadata": {},
     "output_type": "execute_result"
    }
   ],
   "source": [
    "p.findall(test)"
   ]
  },
  {
   "cell_type": "code",
   "execution_count": 11,
   "metadata": {
    "collapsed": false
   },
   "outputs": [
    {
     "name": "stdout",
     "output_type": "stream",
     "text": [
      "asdf   asdf  1. 3.3 234 234   234.333 234. 645. 345.453 77777.  234.. 2343. 0.0 0.0 0.0 0.0 0.0 0.0 0.0 0.0 0.0 0.0 0.0 0.0 0.0 0.0 0.0 0.0 0.0 0.0 0.0 0.0 0.0 0.0 0.0 0.0 \n",
      "asdf   asdf  1. 3.3 234 234   234.333 234. 645. 345.453 77777.  234.. 2343. 0.0 0.0 0.0 0.0 0.0 0.0 0.0 0.0 0.0 0.0 0.0 0.0 0.0 0.0 0.0 0.0 0.0 0.0 0.0 0.0 0.0 0.0 0.0 0.0 \n",
      "asdf   asdf  1. 3.3 234 234   234.333 234. 645. 345.453 77777.  234.. 2343. 0.0 0.0 0.0 0.0 0.0 0.0 0.0 0.0 0.0 0.0 0.0 0.0 0.0 0.0 0.0 0.0 0.0 0.0 0.0 0.0 0.0 0.0 0.0 0.0 \n",
      "\n"
     ]
    }
   ],
   "source": [
    "print p.sub(repl,test)"
   ]
  },
  {
   "cell_type": "markdown",
   "metadata": {},
   "source": [
    "<span style=\"background-color:black; color:cyan; vertical-align: middle; padding:2px 0; font-size:20px\">Execute replacement:</span>"
   ]
  },
  {
   "cell_type": "code",
   "execution_count": 12,
   "metadata": {
    "collapsed": false
   },
   "outputs": [],
   "source": [
    "dataf=p.sub(repl,data)"
   ]
  },
  {
   "cell_type": "markdown",
   "metadata": {},
   "source": [
    "<span style=\"background-color:black; color:cyan; vertical-align: middle; padding:2px 0; font-size:20px\">Write result to file</span>"
   ]
  },
  {
   "cell_type": "code",
   "execution_count": 13,
   "metadata": {
    "collapsed": false
   },
   "outputs": [],
   "source": [
    "f0=open(os.path.join(basedir,fname),'w')\n",
    "f0.write(dataf)\n",
    "f0.close()"
   ]
  },
  {
   "cell_type": "code",
   "execution_count": 13,
   "metadata": {
    "collapsed": false
   },
   "outputs": [],
   "source": []
  },
  {
   "cell_type": "code",
   "execution_count": 13,
   "metadata": {
    "collapsed": false
   },
   "outputs": [],
   "source": []
  },
  {
   "cell_type": "code",
   "execution_count": 13,
   "metadata": {
    "collapsed": false
   },
   "outputs": [],
   "source": []
  },
  {
   "cell_type": "code",
   "execution_count": null,
   "metadata": {
    "collapsed": false
   },
   "outputs": [],
   "source": []
  }
 ],
 "metadata": {
  "kernelspec": {
   "display_name": "Python 2",
   "language": "python",
   "name": "python2"
  },
  "language_info": {
   "codemirror_mode": {
    "name": "ipython",
    "version": 2
   },
   "file_extension": ".py",
   "mimetype": "text/x-python",
   "name": "python",
   "nbconvert_exporter": "python",
   "pygments_lexer": "ipython2",
   "version": "2.7.9"
  }
 },
 "nbformat": 4,
 "nbformat_minor": 0
}
