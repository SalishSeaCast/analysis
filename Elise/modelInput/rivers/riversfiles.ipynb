{
 "cells": [
  {
   "cell_type": "code",
   "execution_count": 1,
   "metadata": {
    "collapsed": false
   },
   "outputs": [],
   "source": [
    "import netCDF4 as nc\n",
    "from salishsea_tools import tidetools, nc_tools\n",
    "import matplotlib.pyplot as plt\n",
    "import numpy as np\n",
    "import os\n",
    "import re\n",
    "\n",
    "%matplotlib inline"
   ]
  },
  {
   "cell_type": "code",
   "execution_count": 2,
   "metadata": {
    "collapsed": true
   },
   "outputs": [],
   "source": [
    "## for 2D Domain:\n",
    "\n",
    "f=nc.Dataset('/data/eolson/MEOPAR/SS36runs/run_SalishSea2D_00/rivers/river_cnst.nc')"
   ]
  },
  {
   "cell_type": "code",
   "execution_count": 3,
   "metadata": {
    "collapsed": false
   },
   "outputs": [
    {
     "name": "stdout",
     "output_type": "stream",
     "text": [
      "<class 'netCDF4._netCDF4.Dataset'>\n",
      "root group (NETCDF4 data model, file format UNDEFINED):\n",
      "    description: Constant Yearly Average, One River\n",
      "    dimensions(sizes): x(1100), y(10), time_counter(1)\n",
      "    variables(dimensions): float32 \u001b[4my\u001b[0m(y,x), float32 \u001b[4mx\u001b[0m(y,x), float32 \u001b[4mtime_counter\u001b[0m(time_counter), float32 \u001b[4mrorunoff\u001b[0m(time_counter,y,x), float32 \u001b[4mrodepth\u001b[0m(y,x)\n",
      "    groups: \n",
      "\n"
     ]
    }
   ],
   "source": [
    "print(f)"
   ]
  },
  {
   "cell_type": "code",
   "execution_count": 5,
   "metadata": {
    "collapsed": false
   },
   "outputs": [
    {
     "name": "stdout",
     "output_type": "stream",
     "text": [
      "1.32128\n"
     ]
    }
   ],
   "source": [
    "print(np.max(f.variables['rorunoff']))"
   ]
  },
  {
   "cell_type": "code",
   "execution_count": 6,
   "metadata": {
    "collapsed": true
   },
   "outputs": [],
   "source": [
    "new=nc.Dataset('/data/eolson/MEOPAR/SS36runs/run_SOG_01_River/rivers/river_cnst.nc','w')\n",
    "#newb=nc.Dataset('/data/eolson/MEOPAR/SS36runs/run_36ExpSOGTidesRivers/rivers/river_cnst_bio.nc','w')\n",
    "new.createDimension('y', 10)\n",
    "new.createDimension('x', 1100)\n",
    "new.createDimension('time_counter', None)\n",
    "\n",
    "new_x=new.createVariable('x',float,('y','x'),zlib=True)\n",
    "new_x[:]=f.variables['x'][:,:]\n",
    "\n",
    "new_y=new.createVariable('y',float,('y','x'),zlib=True)\n",
    "new_y[:]=f.variables['y'][:,:]\n",
    "\n",
    "new_tc=new.createVariable('time_counter',float,('time_counter'),zlib=True)\n",
    "new_tc[:]=f.variables['time_counter']\n",
    "\n",
    "new_run=new.createVariable('rorunoff',float,('time_counter', 'y', 'x'),zlib=True)\n",
    "new_run.setncattr('units',f.variables['rorunoff']._units)\n",
    "new_run[:]=f.variables['rorunoff'][:,:,:]\n",
    "\n",
    "new_depth=new.createVariable('rodepth',float,('y','x'),zlib=True)\n",
    "new_depth.setncattr('units',f.variables['rodepth'].units)\n",
    "new_depth[:]=f.variables['rodepth'][:,:]\n",
    "\n",
    "new_T=new.createVariable('T',float,('time_counter', 'y', 'x'),zlib=True)\n",
    "new_T.setncattr('units','C')\n",
    "new_T.setncattr('long_name','Temperature')\n",
    "new_T[:]=23.0*f.variables['rorunoff'][:,:,:]\n",
    "\n",
    "new_S=new.createVariable('S',float,('time_counter', 'y', 'x'),zlib=True)\n",
    "new_S.setncattr('units','none')\n",
    "new_S.setncattr('long_name','Salinity')\n",
    "new_S[:]=0.0*f.variables['rorunoff'][:,:,:]+30.0"
   ]
  },
  {
   "cell_type": "code",
   "execution_count": 9,
   "metadata": {
    "collapsed": false
   },
   "outputs": [
    {
     "name": "stdout",
     "output_type": "stream",
     "text": [
      "<class 'netCDF4._netCDF4.Variable'>\n",
      "float64 rorunoff(time_counter, y, x)\n",
      "    units: kg m-2 s-1\n",
      "unlimited dimensions: time_counter\n",
      "current shape = (1, 10, 1100)\n",
      "filling on, default _FillValue of 9.969209968386869e+36 used\n",
      "\n"
     ]
    }
   ],
   "source": [
    "print(new.variables['rorunoff'])"
   ]
  },
  {
   "cell_type": "code",
   "execution_count": 10,
   "metadata": {
    "collapsed": true
   },
   "outputs": [],
   "source": [
    "new.close()\n",
    "\n",
    "new=nc.Dataset('/data/eolson/MEOPAR/SS36runs/run_SOG_01_River/rivers/river_bio.nc','w')\n",
    "#newb=nc.Dataset('/data/eolson/MEOPAR/SS36runs/run_36ExpSOGTidesRivers/rivers/river_cnst_bio.nc','w')\n",
    "new.createDimension('y', 10)\n",
    "new.createDimension('x', 1100)\n",
    "new.createDimension('time_counter', None)\n",
    "\n",
    "new_x=new.createVariable('x',float,('y','x'),zlib=True)\n",
    "new_x[:]=f.variables['x'][:,:]\n",
    "\n",
    "new_y=new.createVariable('y',float,('y','x'),zlib=True)\n",
    "new_y[:]=f.variables['y'][:,:]\n",
    "\n",
    "new_tc=new.createVariable('time_counter',float,('time_counter'),zlib=True)\n",
    "new_tc[:]=f.variables['time_counter']\n",
    "\n",
    "new_run=new.createVariable('no3',float,('time_counter', 'y', 'x'),zlib=True)\n",
    "new_run[:]=10.0\n",
    "\n",
    "new_run=new.createVariable('nh4',float,('time_counter', 'y', 'x'),zlib=True)\n",
    "new_run[:]=1.0\n",
    "\n",
    "new_run=new.createVariable('sil',float,('time_counter', 'y', 'x'),zlib=True)\n",
    "new_run[:]=10.0\n",
    "\n",
    "new_run=new.createVariable('dia',float,('time_counter', 'y', 'x'),zlib=True)\n",
    "new_run[:]=0.01\n",
    "\n",
    "new_run=new.createVariable('phy',float,('time_counter', 'y', 'x'),zlib=True)\n",
    "new_run[:]=0.01\n",
    "\n",
    "new_run=new.createVariable('mes',float,('time_counter', 'y', 'x'),zlib=True)\n",
    "new_run[:]=0.0\n",
    "\n",
    "new_run=new.createVariable('zoo',float,('time_counter', 'y', 'x'),zlib=True)\n",
    "new_run[:]=0.0\n",
    "\n",
    "new_run=new.createVariable('don',float,('time_counter', 'y', 'x'),zlib=True)\n",
    "new_run[:]=2.0\n",
    "\n",
    "new_run=new.createVariable('pon',float,('time_counter', 'y', 'x'),zlib=True)\n",
    "new_run[:]=2.0\n",
    "\n",
    "new_run=new.createVariable('bsi',float,('time_counter', 'y', 'x'),zlib=True)\n",
    "new_run[:]=2.0\n",
    "\n",
    "new_run=new.createVariable('oxy',float,('time_counter', 'y', 'x'),zlib=True)\n",
    "new_run[:]=-999.0\n",
    "\n",
    "new.close()"
   ]
  },
  {
   "cell_type": "code",
   "execution_count": 11,
   "metadata": {
    "collapsed": true
   },
   "outputs": [],
   "source": [
    "f.close()"
   ]
  },
  {
   "cell_type": "code",
   "execution_count": 14,
   "metadata": {
    "collapsed": true
   },
   "outputs": [],
   "source": [
    "## for full Domain:\n",
    "\n",
    "f=nc.Dataset('/results/forcing/rivers/RLonFraCElse_y2016m01d23.nc') # example for dims"
   ]
  },
  {
   "cell_type": "code",
   "execution_count": 15,
   "metadata": {
    "collapsed": false
   },
   "outputs": [
    {
     "name": "stdout",
     "output_type": "stream",
     "text": [
      "<class 'netCDF4._netCDF4.Dimension'>: name = 'y', size = 898\n",
      "\n"
     ]
    }
   ],
   "source": [
    "print(f.dimensions['y'])"
   ]
  },
  {
   "cell_type": "code",
   "execution_count": 16,
   "metadata": {
    "collapsed": true
   },
   "outputs": [],
   "source": [
    "new=nc.Dataset('/ocean/eolson/MEOPAR/NEMO-forcing/rivers/river_cnst_bio_full.nc','w')"
   ]
  },
  {
   "cell_type": "code",
   "execution_count": 17,
   "metadata": {
    "collapsed": false
   },
   "outputs": [
    {
     "name": "stdout",
     "output_type": "stream",
     "text": [
      "x 398\n",
      "y 898\n",
      "time_counter None\n"
     ]
    }
   ],
   "source": [
    "#Copy dimensions\n",
    "for dname, the_dim in f.dimensions.items():\n",
    "    print (dname, len(the_dim) if not the_dim.isunlimited() else None)\n",
    "    new.createDimension(dname, len(the_dim) if not the_dim.isunlimited() else None)\n",
    "# create dimension variables:\n",
    "new_x=new.createVariable('x',float,('y','x'),zlib=True)\n",
    "new_x[:]=f.variables['x'][:,:]\n",
    "\n",
    "new_y=new.createVariable('y',float,('y','x'),zlib=True)\n",
    "new_y[:]=f.variables['y'][:,:]\n",
    "\n",
    "new_tc=new.createVariable('time_counter',float,('time_counter'),zlib=True)\n",
    "new_tc[:]=f.variables['time_counter']\n",
    "\n"
   ]
  },
  {
   "cell_type": "code",
   "execution_count": 18,
   "metadata": {
    "collapsed": false
   },
   "outputs": [
    {
     "ename": "KeyError",
     "evalue": "'x'",
     "output_type": "error",
     "traceback": [
      "\u001b[1;31m---------------------------------------------------------------------------\u001b[0m",
      "\u001b[1;31mKeyError\u001b[0m                                  Traceback (most recent call last)",
      "\u001b[1;32m<ipython-input-18-c5d2cf88e5b1>\u001b[0m in \u001b[0;36m<module>\u001b[1;34m()\u001b[0m\n\u001b[0;32m      1\u001b[0m \u001b[0mnew_x\u001b[0m\u001b[1;33m=\u001b[0m\u001b[0mnew\u001b[0m\u001b[1;33m.\u001b[0m\u001b[0mcreateVariable\u001b[0m\u001b[1;33m(\u001b[0m\u001b[1;34m'x'\u001b[0m\u001b[1;33m,\u001b[0m\u001b[0mfloat\u001b[0m\u001b[1;33m,\u001b[0m\u001b[1;33m(\u001b[0m\u001b[1;34m'y'\u001b[0m\u001b[1;33m,\u001b[0m\u001b[1;34m'x'\u001b[0m\u001b[1;33m)\u001b[0m\u001b[1;33m,\u001b[0m\u001b[0mzlib\u001b[0m\u001b[1;33m=\u001b[0m\u001b[1;32mTrue\u001b[0m\u001b[1;33m)\u001b[0m\u001b[1;33m\u001b[0m\u001b[0m\n\u001b[1;32m----> 2\u001b[1;33m \u001b[0mnew_x\u001b[0m\u001b[1;33m[\u001b[0m\u001b[1;33m:\u001b[0m\u001b[1;33m]\u001b[0m\u001b[1;33m=\u001b[0m\u001b[0mf\u001b[0m\u001b[1;33m.\u001b[0m\u001b[0mvariables\u001b[0m\u001b[1;33m[\u001b[0m\u001b[1;34m'x'\u001b[0m\u001b[1;33m]\u001b[0m\u001b[1;33m[\u001b[0m\u001b[1;33m:\u001b[0m\u001b[1;33m,\u001b[0m\u001b[1;33m:\u001b[0m\u001b[1;33m]\u001b[0m\u001b[1;33m\u001b[0m\u001b[0m\n\u001b[0m\u001b[0;32m      3\u001b[0m \u001b[1;33m\u001b[0m\u001b[0m\n\u001b[0;32m      4\u001b[0m \u001b[0mnew_y\u001b[0m\u001b[1;33m=\u001b[0m\u001b[0mnew\u001b[0m\u001b[1;33m.\u001b[0m\u001b[0mcreateVariable\u001b[0m\u001b[1;33m(\u001b[0m\u001b[1;34m'y'\u001b[0m\u001b[1;33m,\u001b[0m\u001b[0mfloat\u001b[0m\u001b[1;33m,\u001b[0m\u001b[1;33m(\u001b[0m\u001b[1;34m'y'\u001b[0m\u001b[1;33m,\u001b[0m\u001b[1;34m'x'\u001b[0m\u001b[1;33m)\u001b[0m\u001b[1;33m,\u001b[0m\u001b[0mzlib\u001b[0m\u001b[1;33m=\u001b[0m\u001b[1;32mTrue\u001b[0m\u001b[1;33m)\u001b[0m\u001b[1;33m\u001b[0m\u001b[0m\n\u001b[0;32m      5\u001b[0m \u001b[0mnew_y\u001b[0m\u001b[1;33m[\u001b[0m\u001b[1;33m:\u001b[0m\u001b[1;33m]\u001b[0m\u001b[1;33m=\u001b[0m\u001b[0mf\u001b[0m\u001b[1;33m.\u001b[0m\u001b[0mvariables\u001b[0m\u001b[1;33m[\u001b[0m\u001b[1;34m'y'\u001b[0m\u001b[1;33m]\u001b[0m\u001b[1;33m[\u001b[0m\u001b[1;33m:\u001b[0m\u001b[1;33m,\u001b[0m\u001b[1;33m:\u001b[0m\u001b[1;33m]\u001b[0m\u001b[1;33m\u001b[0m\u001b[0m\n",
      "\u001b[1;31mKeyError\u001b[0m: 'x'"
     ]
    }
   ],
   "source": [
    "new_x=new.createVariable('x',float,('y','x'),zlib=True)\n",
    "new_x[:]=f.variables['x'][:,:]\n",
    "\n",
    "new_y=new.createVariable('y',float,('y','x'),zlib=True)\n",
    "new_y[:]=f.variables['y'][:,:]\n",
    "\n",
    "new_tc=new.createVariable('time_counter',float,('time_counter'),zlib=True)\n",
    "new_tc[:]=f.variables['time_counter']\n",
    "\n",
    "new_run=new.createVariable('rorunoff',float,('time_counter', 'y', 'x'),zlib=True)\n",
    "new_run.setncattr('units',f.variables['rorunoff']._units)\n",
    "new_run[:]=f.variables['rorunoff'][:,:,:]\n",
    "\n",
    "new_depth=new.createVariable('rodepth',float,('y','x'),zlib=True)\n",
    "new_depth.setncattr('units',f.variables['rodepth'].units)\n",
    "new_depth[:]=f.variables['rodepth'][:,:]\n",
    "\n",
    "new_T=new.createVariable('T',float,('time_counter', 'y', 'x'),zlib=True)\n",
    "new_T.setncattr('units','C')\n",
    "new_T.setncattr('long_name','Temperature')\n",
    "new_T[:]=23.0*f.variables['rorunoff'][:,:,:]\n",
    "\n",
    "new_S=new.createVariable('S',float,('time_counter', 'y', 'x'),zlib=True)\n",
    "new_S.setncattr('units','none')\n",
    "new_S.setncattr('long_name','Salinity')\n",
    "new_S[:]=5.0*f.variables['rorunoff'][:,:,:]\n",
    "\n",
    "new.close()\n",
    "\n",
    "new=nc.Dataset('/data/eolson/MEOPAR/SS36runs/run_SOG_01_River/rivers/river_bio.nc','w')\n",
    "#newb=nc.Dataset('/data/eolson/MEOPAR/SS36runs/run_36ExpSOGTidesRivers/rivers/river_cnst_bio.nc','w')\n",
    "new.createDimension('y', 10)\n",
    "new.createDimension('x', 1100)\n",
    "new.createDimension('time_counter', None)\n",
    "\n",
    "new_x=new.createVariable('x',float,('y','x'),zlib=True)\n",
    "new_x[:]=f.variables['x'][:,:]\n",
    "\n",
    "new_y=new.createVariable('y',float,('y','x'),zlib=True)\n",
    "new_y[:]=f.variables['y'][:,:]\n",
    "\n",
    "new_tc=new.createVariable('time_counter',float,('time_counter'),zlib=True)\n",
    "new_tc[:]=f.variables['time_counter']\n",
    "\n",
    "new_run=new.createVariable('no3',float,('time_counter', 'y', 'x'),zlib=True)\n",
    "new_run[:,:,:]=10.0\n",
    "\n",
    "new_run=new.createVariable('nh4',float,('time_counter', 'y', 'x'),zlib=True)\n",
    "new_run[:]=1.0\n",
    "\n",
    "new_run=new.createVariable('sil',float,('time_counter', 'y', 'x'),zlib=True)\n",
    "new_run[:]=10.0\n",
    "\n",
    "new_run=new.createVariable('dia',float,('time_counter', 'y', 'x'),zlib=True)\n",
    "new_run[:]=1.0\n",
    "\n",
    "new_run=new.createVariable('phy',float,('time_counter', 'y', 'x'),zlib=True)\n",
    "new_run[:]=1.0\n",
    "\n",
    "new_run=new.createVariable('mes',float,('time_counter', 'y', 'x'),zlib=True)\n",
    "new_run[:]=0.0\n",
    "\n",
    "new_run=new.createVariable('zoo',float,('time_counter', 'y', 'x'),zlib=True)\n",
    "new_run[:]=0.0\n",
    "\n",
    "new_run=new.createVariable('don',float,('time_counter', 'y', 'x'),zlib=True)\n",
    "new_run[:]=10.0\n",
    "\n",
    "new_run=new.createVariable('pon',float,('time_counter', 'y', 'x'),zlib=True)\n",
    "new_run[:]=10.0\n",
    "\n",
    "new_run=new.createVariable('bsi',float,('time_counter', 'y', 'x'),zlib=True)\n",
    "new_run[:]=10.0\n",
    "\n",
    "new_run=new.createVariable('oxy',float,('time_counter', 'y', 'x'),zlib=True)\n",
    "new_run[:]=160.0\n",
    "\n",
    "new.close()"
   ]
  },
  {
   "cell_type": "code",
   "execution_count": null,
   "metadata": {
    "collapsed": true
   },
   "outputs": [],
   "source": []
  },
  {
   "cell_type": "code",
   "execution_count": 5,
   "metadata": {
    "collapsed": true
   },
   "outputs": [],
   "source": [
    "test=nc.Dataset('/data/eolson/MEOPAR/SS36runs/run_SOG_01_River/rivers/river_bio.nc')"
   ]
  },
  {
   "cell_type": "code",
   "execution_count": 6,
   "metadata": {
    "collapsed": false
   },
   "outputs": [
    {
     "name": "stdout",
     "output_type": "stream",
     "text": [
      "9.96920996839e+36\n"
     ]
    }
   ],
   "source": [
    "print(np.max(test.variables['dia']))"
   ]
  },
  {
   "cell_type": "code",
   "execution_count": 7,
   "metadata": {
    "collapsed": false
   },
   "outputs": [
    {
     "name": "stdout",
     "output_type": "stream",
     "text": [
      "<bound method OrderedDict.keys of OrderedDict([('x', <class 'netCDF4._netCDF4.Variable'>\n",
      "float64 x(y, x)\n",
      "unlimited dimensions: \n",
      "current shape = (10, 1100)\n",
      "filling on, default _FillValue of 9.969209968386869e+36 used\n",
      "), ('y', <class 'netCDF4._netCDF4.Variable'>\n",
      "float64 y(y, x)\n",
      "unlimited dimensions: \n",
      "current shape = (10, 1100)\n",
      "filling on, default _FillValue of 9.969209968386869e+36 used\n",
      "), ('time_counter', <class 'netCDF4._netCDF4.Variable'>\n",
      "float64 time_counter(time_counter)\n",
      "unlimited dimensions: time_counter\n",
      "current shape = (2,)\n",
      "filling on, default _FillValue of 9.969209968386869e+36 used\n",
      "), ('no3', <class 'netCDF4._netCDF4.Variable'>\n",
      "float64 no3(time_counter, y, x)\n",
      "unlimited dimensions: time_counter\n",
      "current shape = (2, 10, 1100)\n",
      "filling on, default _FillValue of 9.969209968386869e+36 used\n",
      "), ('nh4', <class 'netCDF4._netCDF4.Variable'>\n",
      "float64 nh4(time_counter, y, x)\n",
      "unlimited dimensions: time_counter\n",
      "current shape = (2, 10, 1100)\n",
      "filling on, default _FillValue of 9.969209968386869e+36 used\n",
      "), ('sil', <class 'netCDF4._netCDF4.Variable'>\n",
      "float64 sil(time_counter, y, x)\n",
      "unlimited dimensions: time_counter\n",
      "current shape = (2, 10, 1100)\n",
      "filling on, default _FillValue of 9.969209968386869e+36 used\n",
      "), ('dia', <class 'netCDF4._netCDF4.Variable'>\n",
      "float64 dia(time_counter, y, x)\n",
      "unlimited dimensions: time_counter\n",
      "current shape = (2, 10, 1100)\n",
      "filling on, default _FillValue of 9.969209968386869e+36 used\n",
      "), ('phy', <class 'netCDF4._netCDF4.Variable'>\n",
      "float64 phy(time_counter, y, x)\n",
      "unlimited dimensions: time_counter\n",
      "current shape = (2, 10, 1100)\n",
      "filling on, default _FillValue of 9.969209968386869e+36 used\n",
      "), ('mes', <class 'netCDF4._netCDF4.Variable'>\n",
      "float64 mes(time_counter, y, x)\n",
      "unlimited dimensions: time_counter\n",
      "current shape = (2, 10, 1100)\n",
      "filling on, default _FillValue of 9.969209968386869e+36 used\n",
      "), ('zoo', <class 'netCDF4._netCDF4.Variable'>\n",
      "float64 zoo(time_counter, y, x)\n",
      "unlimited dimensions: time_counter\n",
      "current shape = (2, 10, 1100)\n",
      "filling on, default _FillValue of 9.969209968386869e+36 used\n",
      "), ('don', <class 'netCDF4._netCDF4.Variable'>\n",
      "float64 don(time_counter, y, x)\n",
      "unlimited dimensions: time_counter\n",
      "current shape = (2, 10, 1100)\n",
      "filling on, default _FillValue of 9.969209968386869e+36 used\n",
      "), ('pon', <class 'netCDF4._netCDF4.Variable'>\n",
      "float64 pon(time_counter, y, x)\n",
      "unlimited dimensions: time_counter\n",
      "current shape = (2, 10, 1100)\n",
      "filling on, default _FillValue of 9.969209968386869e+36 used\n",
      "), ('bsi', <class 'netCDF4._netCDF4.Variable'>\n",
      "float64 bsi(time_counter, y, x)\n",
      "unlimited dimensions: time_counter\n",
      "current shape = (2, 10, 1100)\n",
      "filling on, default _FillValue of 9.969209968386869e+36 used\n",
      "), ('oxy', <class 'netCDF4._netCDF4.Variable'>\n",
      "float64 oxy(time_counter, y, x)\n",
      "unlimited dimensions: time_counter\n",
      "current shape = (2, 10, 1100)\n",
      "filling on, default _FillValue of 9.969209968386869e+36 used\n",
      "), ('S', <class 'netCDF4._netCDF4.Variable'>\n",
      "float64 S(time_counter, y, x)\n",
      "    units: none\n",
      "    long_name: Salinity\n",
      "unlimited dimensions: time_counter\n",
      "current shape = (2, 10, 1100)\n",
      "filling on, default _FillValue of 9.969209968386869e+36 used\n",
      ")])>\n"
     ]
    }
   ],
   "source": [
    "print(test.variables.keys)"
   ]
  },
  {
   "cell_type": "code",
   "execution_count": 7,
   "metadata": {
    "collapsed": true
   },
   "outputs": [],
   "source": [
    "test.close()\n",
    "f.close()"
   ]
  },
  {
   "cell_type": "code",
   "execution_count": 3,
   "metadata": {
    "collapsed": false
   },
   "outputs": [
    {
     "name": "stdout",
     "output_type": "stream",
     "text": [
      "<bound method OrderedDict.keys of OrderedDict([('y', <class 'netCDF4._netCDF4.Variable'>\n",
      "float32 y(y, x)\n",
      "unlimited dimensions: \n",
      "current shape = (10, 1100)\n",
      "filling on, default _FillValue of 9.969209968386869e+36 used\n",
      "), ('x', <class 'netCDF4._netCDF4.Variable'>\n",
      "float32 x(y, x)\n",
      "unlimited dimensions: \n",
      "current shape = (10, 1100)\n",
      "filling on, default _FillValue of 9.969209968386869e+36 used\n",
      "), ('time_counter', <class 'netCDF4._netCDF4.Variable'>\n",
      "float32 time_counter(time_counter)\n",
      "    units: non-dim\n",
      "unlimited dimensions: time_counter\n",
      "current shape = (1,)\n",
      "filling on, default _FillValue of 9.969209968386869e+36 used\n",
      "), ('rorunoff', <class 'netCDF4._netCDF4.Variable'>\n",
      "float32 rorunoff(time_counter, y, x)\n",
      "    _Fillvalue: 0.0\n",
      "    _missing_value: 0.0\n",
      "    _units: kg m-2 s-1\n",
      "unlimited dimensions: time_counter\n",
      "current shape = (1, 10, 1100)\n",
      "filling on, default _FillValue of 9.969209968386869e+36 used\n",
      "), ('rodepth', <class 'netCDF4._netCDF4.Variable'>\n",
      "float32 rodepth(y, x)\n",
      "    _Fillvalue: -1.0\n",
      "    missing_value: -1.0\n",
      "    units: m\n",
      "unlimited dimensions: \n",
      "current shape = (10, 1100)\n",
      "filling on, default _FillValue of 9.969209968386869e+36 used\n",
      ")])>\n"
     ]
    }
   ],
   "source": [
    "print(f.variables.keys)"
   ]
  },
  {
   "cell_type": "code",
   "execution_count": 8,
   "metadata": {
    "collapsed": false
   },
   "outputs": [
    {
     "data": {
      "text/plain": [
       "<matplotlib.collections.QuadMesh at 0x7f655e8d7438>"
      ]
     },
     "execution_count": 8,
     "metadata": {},
     "output_type": "execute_result"
    },
    {
     "data": {
      "image/png": "[encoded data removed]",
      "text/plain": [
       "<matplotlib.figure.Figure at 0x7f655e909160>"
      ]
     },
     "metadata": {},
     "output_type": "display_data"
    }
   ],
   "source": [
    "plt.pcolormesh(f.variables['rorunoff'][0,:,:])"
   ]
  },
  {
   "cell_type": "code",
   "execution_count": 25,
   "metadata": {
    "collapsed": false
   },
   "outputs": [
    {
     "name": "stdout",
     "output_type": "stream",
     "text": [
      "[ 0.          1.32127547  1.32127547  1.32127547  1.32127547  1.32127547\n",
      "  1.32127547  1.32127547  1.32127547  0.        ]\n"
     ]
    }
   ],
   "source": [
    "print(f.variables['rorunoff'][0,:,1098])"
   ]
  },
  {
   "cell_type": "code",
   "execution_count": 15,
   "metadata": {
    "collapsed": false
   },
   "outputs": [
    {
     "name": "stdout",
     "output_type": "stream",
     "text": [
      "1.32128\n"
     ]
    }
   ],
   "source": [
    "print(np.max(f.variables['rorunoff']))"
   ]
  },
  {
   "cell_type": "code",
   "execution_count": 24,
   "metadata": {
    "collapsed": false
   },
   "outputs": [
    {
     "name": "stdout",
     "output_type": "stream",
     "text": [
      "1098 1.32128\n"
     ]
    }
   ],
   "source": [
    "for i in range(0,1099):\n",
    "    x=np.max(f.variables['rorunoff'][:,:,i])\n",
    "    if x>0:\n",
    "        print(i,x)"
   ]
  },
  {
   "cell_type": "code",
   "execution_count": 6,
   "metadata": {
    "collapsed": false
   },
   "outputs": [
    {
     "name": "stdout",
     "output_type": "stream",
     "text": [
      "[-- 3.0 3.0 3.0 3.0 3.0 3.0 3.0 3.0 --]\n",
      "[-- -- -- -- -- -- -- -- -- --]\n"
     ]
    }
   ],
   "source": [
    "print(f.variables['rodepth'][:,1098])\n",
    "print(f.variables['rodepth'][:,1097])"
   ]
  },
  {
   "cell_type": "code",
   "execution_count": 5,
   "metadata": {
    "collapsed": false
   },
   "outputs": [
    {
     "name": "stdout",
     "output_type": "stream",
     "text": [
      "kg m-2 s-1\n"
     ]
    }
   ],
   "source": [
    "print(f.variables['rorunoff']._units)"
   ]
  },
  {
   "cell_type": "code",
   "execution_count": null,
   "metadata": {
    "collapsed": true
   },
   "outputs": [],
   "source": []
  }
 ],
 "metadata": {
  "kernelspec": {
   "display_name": "Python 3",
   "language": "python",
   "name": "python3"
  },
  "language_info": {
   "codemirror_mode": {
    "name": "ipython",
    "version": 3
   },
   "file_extension": ".py",
   "mimetype": "text/x-python",
   "name": "python",
   "nbconvert_exporter": "python",
   "pygments_lexer": "ipython3",
   "version": "3.4.4"
  }
 },
 "nbformat": 4,
 "nbformat_minor": 0
}
