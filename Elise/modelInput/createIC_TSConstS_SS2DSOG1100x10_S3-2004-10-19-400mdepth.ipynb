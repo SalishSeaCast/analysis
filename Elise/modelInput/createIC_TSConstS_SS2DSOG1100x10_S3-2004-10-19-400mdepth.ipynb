{
 "cells": [
  {
   "cell_type": "code",
   "execution_count": 1,
   "metadata": {
    "collapsed": false
   },
   "outputs": [],
   "source": [
    "import netCDF4 as nc\n",
    "\n",
    "import matplotlib.pyplot as plt\n",
    "import numpy as np\n",
    "import os\n",
    "import re\n",
    "\n",
    "%matplotlib inline\n",
    "\n",
    "resultsDir='/data/eolson/MEOPAR/SS2DSOGruns/'\n",
    "N2chl=1.600"
   ]
  },
  {
   "cell_type": "code",
   "execution_count": 2,
   "metadata": {
    "collapsed": false
   },
   "outputs": [],
   "source": [
    "TS=nc.Dataset(os.path.join(resultsDir,'TS_uniform.nc'))"
   ]
  },
  {
   "cell_type": "code",
   "execution_count": 3,
   "metadata": {
    "collapsed": false
   },
   "outputs": [],
   "source": [
    "# read z, T, S into CTD\n",
    "CTD=np.loadtxt('/data/eolson/SOG/SOG-initial/ctd/SG-S3-2004-10-19.sog',skiprows=12,usecols=(1, 4, 2, 8))\n",
    "# add z=0 at first row, repeating T,S values from next level\n",
    "data=np.vstack((CTD[0,:],CTD))\n",
    "data[0,0]=0.\n",
    "# interpolate to T-points\n",
    "data_f=(data[0:401:4,:]+data[1:402:4,:])/2"
   ]
  },
  {
   "cell_type": "code",
   "execution_count": 4,
   "metadata": {
    "collapsed": false
   },
   "outputs": [
    {
     "data": {
      "text/plain": [
       "<class 'netCDF4._netCDF4.Dimension'> (unlimited): name = 'time_counter', size = 0"
      ]
     },
     "execution_count": 4,
     "metadata": {},
     "output_type": "execute_result"
    }
   ],
   "source": [
    "new_ts=nc.Dataset('/data/eolson/MEOPAR/SS2DSOGruns/TS_400m_constS.nc','w')\n",
    "new_ts.createDimension('y', 10)\n",
    "new_ts.createDimension('x', 1100)\n",
    "new_ts.createDimension('deptht', 101)\n",
    "new_ts.createDimension('time_counter', None)"
   ]
  },
  {
   "cell_type": "code",
   "execution_count": 5,
   "metadata": {
    "collapsed": false
   },
   "outputs": [
    {
     "name": "stdout",
     "output_type": "stream",
     "text": [
      "<class 'netCDF4._netCDF4.Variable'>\n",
      "float32 time_counter(time_counter)\n",
      "    units: seconds since 2003-08-09 0:00:00\n",
      "    long_name: Time axis\n",
      "unlimited dimensions: time_counter\n",
      "current shape = (1,)\n",
      "filling on, default _FillValue of 9.969209968386869e+36 used\n",
      "\n",
      "<class 'netCDF4._netCDF4.Variable'>\n",
      "float64 time_counter(time_counter)\n",
      "    units: seconds since 2003-08-09 0:00:00\n",
      "    long_name: Time axis\n",
      "unlimited dimensions: time_counter\n",
      "current shape = (1,)\n",
      "filling on, default _FillValue of 9.969209968386869e+36 used\n",
      "\n"
     ]
    }
   ],
   "source": [
    "new_tc=new_ts.createVariable('time_counter',float,('time_counter'),zlib=True)\n",
    "new_tc.setncattr('units',TS.variables['time_counter'].units)\n",
    "new_tc.setncattr('long_name',TS.variables['time_counter'].long_name)\n",
    "new_tc[:]=TS.variables['time_counter']\n",
    "\n",
    "print (TS.variables['time_counter'])\n",
    "print( new_ts.variables['time_counter'])"
   ]
  },
  {
   "cell_type": "code",
   "execution_count": 6,
   "metadata": {
    "collapsed": false
   },
   "outputs": [
    {
     "name": "stdout",
     "output_type": "stream",
     "text": [
      "<class 'netCDF4._netCDF4.Variable'>\n",
      "float32 deptht(deptht)\n",
      "    long_name: Depth\n",
      "    units: m\n",
      "    positive: down\n",
      "unlimited dimensions: \n",
      "current shape = (40,)\n",
      "filling on, default _FillValue of 9.969209968386869e+36 used\n",
      "\n",
      "<class 'netCDF4._netCDF4.Variable'>\n",
      "float64 deptht(deptht)\n",
      "    units: m\n",
      "    long_name: Depth\n",
      "    positive: down\n",
      "unlimited dimensions: \n",
      "current shape = (101,)\n",
      "filling on, default _FillValue of 9.969209968386869e+36 used\n",
      "\n"
     ]
    }
   ],
   "source": [
    "new_z=new_ts.createVariable('deptht',float,('deptht'),zlib=True)\n",
    "new_z.setncattr('units',TS.variables['deptht'].units)\n",
    "new_z.setncattr('long_name',TS.variables['deptht'].long_name)\n",
    "new_z.setncattr('positive',TS.variables['deptht'].positive)\n",
    "zs=np.arange(0.5,404,4)\n",
    "new_z[:]=zs\n",
    "\n",
    "print( TS.variables['deptht'])\n",
    "print (new_ts.variables['deptht'])"
   ]
  },
  {
   "cell_type": "code",
   "execution_count": 7,
   "metadata": {
    "collapsed": false
   },
   "outputs": [
    {
     "name": "stdout",
     "output_type": "stream",
     "text": [
      "<class 'netCDF4._netCDF4.Variable'>\n",
      "float32 x(y, x)\n",
      "    long_name: streamwise\n",
      "    units: metres\n",
      "unlimited dimensions: \n",
      "current shape = (10, 1100)\n",
      "filling on, default _FillValue of 9.969209968386869e+36 used\n",
      "\n",
      "<class 'netCDF4._netCDF4.Variable'>\n",
      "float64 x(y, x)\n",
      "    units: metres\n",
      "    long_name: streamwise\n",
      "unlimited dimensions: \n",
      "current shape = (10, 1100)\n",
      "filling on, default _FillValue of 9.969209968386869e+36 used\n",
      "\n"
     ]
    }
   ],
   "source": [
    "new_x=new_ts.createVariable('x',float,('y','x'),zlib=True)\n",
    "new_x.setncattr('units',TS.variables['x'].units)\n",
    "new_x.setncattr('long_name',TS.variables['x'].long_name)\n",
    "new_x=TS.variables['x']\n",
    "\n",
    "print (TS.variables['x'])\n",
    "print (new_ts.variables['x'])"
   ]
  },
  {
   "cell_type": "code",
   "execution_count": 8,
   "metadata": {
    "collapsed": false
   },
   "outputs": [
    {
     "name": "stdout",
     "output_type": "stream",
     "text": [
      "<class 'netCDF4._netCDF4.Variable'>\n",
      "float32 y(y, x)\n",
      "    long_name: spanwise\n",
      "    units: metres\n",
      "unlimited dimensions: \n",
      "current shape = (10, 1100)\n",
      "filling on, default _FillValue of 9.969209968386869e+36 used\n",
      "\n",
      "<class 'netCDF4._netCDF4.Variable'>\n",
      "float64 y(y, x)\n",
      "    units: metres\n",
      "    long_name: spanwise\n",
      "unlimited dimensions: \n",
      "current shape = (10, 1100)\n",
      "filling on, default _FillValue of 9.969209968386869e+36 used\n",
      "\n"
     ]
    }
   ],
   "source": [
    "new_y=new_ts.createVariable('y',float,('y','x'),zlib=True)\n",
    "new_y.setncattr('units',TS.variables['y'].units)\n",
    "new_y.setncattr('long_name',TS.variables['y'].long_name)\n",
    "new_y=TS.variables['y']\n",
    "\n",
    "print( TS.variables['y'])\n",
    "print( new_ts.variables['y'])"
   ]
  },
  {
   "cell_type": "code",
   "execution_count": 9,
   "metadata": {
    "collapsed": false
   },
   "outputs": [
    {
     "name": "stdout",
     "output_type": "stream",
     "text": [
      "[ 12.0611   12.5737   12.58305  11.92535  11.2438   10.9357   10.59925\n",
      "  10.5561   10.52095  10.3964   10.29295  10.20695  10.1203   10.09005\n",
      "  10.07945  10.1169   10.19495  10.2058   10.2228   10.2671   10.27015\n",
      "  10.2894   10.3184   10.33585  10.34575  10.3721   10.35385  10.34285\n",
      "  10.31205  10.25455  10.23735  10.20875  10.19735  10.136    10.12665\n",
      "  10.10935  10.08135  10.04315  10.03595  10.0208   10.00385   9.99255\n",
      "   9.9715    9.95565   9.94995   9.94845   9.9429    9.93205   9.9218\n",
      "   9.9131    9.90725   9.90525   9.9011    9.90085   9.89475   9.8952\n",
      "   9.89345   9.89455   9.89135   9.8949    9.89845   9.902     9.90555\n",
      "   9.9091    9.91265   9.9162    9.91975   9.9233    9.92685   9.9304\n",
      "   9.93395   9.9375    9.94105   9.9446    9.94815   9.9517    9.95525\n",
      "   9.9588    9.96235   9.9659    9.96945   9.973     9.97655   9.9801\n",
      "   9.98365   9.9872    9.99075   9.9943    9.99785  10.0014   10.00495\n",
      "  10.0085   10.01205  10.0156   10.01915  10.0227   10.02625  10.0298\n",
      "  10.03335  10.0369   10.04045]\n"
     ]
    }
   ],
   "source": [
    "# Remove records with negative data values (typically -99.0 or\n",
    "# -99999) because that indicates invalid data\n",
    "data_qty=data_f[:,2]\n",
    "mask = (data_qty >= 0.0)\n",
    "data_records = len(data_qty[mask])\n",
    "qty_clean = data_qty[mask]\n",
    "depth_clean= data_f[:,0][mask]\n",
    "# Calculate depth and quantity differences from field data for use\n",
    "# in interpolation\n",
    "del_depth = depth_clean[1:data_records] - depth_clean[0:data_records-1]\n",
    "del_qty = qty_clean[1:data_records] - qty_clean[0:data_records-1]\n",
    "# Interpolate quantity values at grid point depths\n",
    "i_data = 1\n",
    "T=0.0*zs\n",
    "for i_g in range(0, len(zs)):\n",
    "    if (zs[i_g] > depth_clean[i_data]):\n",
    "        while ((zs[i_g] > depth_clean[i_data]) and (i_data<data_records-1)):\n",
    "            i_data = i_data + 1\n",
    "    T[i_g] = qty_clean[i_data-1] + del_qty[i_data-1] \\\n",
    "        * ((zs[i_g] - depth_clean[i_data-1]) \\\n",
    "        / del_depth[i_data-1])\n",
    "print (T)"
   ]
  },
  {
   "cell_type": "code",
   "execution_count": 10,
   "metadata": {
    "collapsed": false
   },
   "outputs": [
    {
     "name": "stdout",
     "output_type": "stream",
     "text": [
      "[ 30.  30.  30.  30.  30.  30.  30.  30.  30.  30.  30.  30.  30.  30.  30.\n",
      "  30.  30.  30.  30.  30.  30.  30.  30.  30.  30.  30.  30.  30.  30.  30.\n",
      "  30.  30.  30.  30.  30.  30.  30.  30.  30.  30.  30.  30.  30.  30.  30.\n",
      "  30.  30.  30.  30.  30.  30.  30.  30.  30.  30.  30.  30.  30.  30.  30.\n",
      "  30.  30.  30.  30.  30.  30.  30.  30.  30.  30.  30.  30.  30.  30.  30.\n",
      "  30.  30.  30.  30.  30.  30.  30.  30.  30.  30.  30.  30.  30.  30.  30.\n",
      "  30.  30.  30.  30.  30.  30.  30.  30.  30.  30.  30.]\n"
     ]
    }
   ],
   "source": [
    "# Remove records with negative data values (typically -99.0 or\n",
    "# -99999) because that indicates invalid data\n",
    "data_qty=data_f[:,3]\n",
    "mask = (data_qty >= 0.0)\n",
    "data_records = len(data_qty[mask])\n",
    "qty_clean = data_qty[mask]\n",
    "depth_clean= data_f[:,0][mask]\n",
    "# Calculate depth and quantity differences from field data for use\n",
    "# in interpolation\n",
    "del_depth = depth_clean[1:data_records] - depth_clean[0:data_records-1]\n",
    "del_qty = qty_clean[1:data_records] - qty_clean[0:data_records-1]\n",
    "# Interpolate quantity values at grid point depths\n",
    "i_data = 1\n",
    "S=0.0*zs+30.0\n",
    "print (S)"
   ]
  },
  {
   "cell_type": "code",
   "execution_count": 11,
   "metadata": {
    "collapsed": false
   },
   "outputs": [
    {
     "name": "stdout",
     "output_type": "stream",
     "text": [
      "<class 'netCDF4._netCDF4.Variable'>\n",
      "float32 vosaline(time_counter, deptht, y, x)\n",
      "    units: none\n",
      "    long_name: Practical Salinity\n",
      "    coordinates: x y deptht time_counter\n",
      "    grid: 2D bathy\n",
      "unlimited dimensions: time_counter\n",
      "current shape = (1, 40, 10, 1100)\n",
      "filling on, default _FillValue of 9.969209968386869e+36 used\n",
      "\n",
      "<class 'netCDF4._netCDF4.Variable'>\n",
      "float64 votemper(time_counter, deptht, y, x)\n",
      "    long_name: T\n",
      "    coordinates: x y deptht time_counter\n",
      "unlimited dimensions: time_counter\n",
      "current shape = (1, 101, 10, 1100)\n",
      "filling on, default _FillValue of 9.969209968386869e+36 used\n",
      "\n"
     ]
    }
   ],
   "source": [
    "vecT=np.reshape(T,(101,1,1))\n",
    "data_T=np.tile(vecT,(1,1,10,1100))\n",
    "\n",
    "new_T=new_ts.createVariable('votemper',float,('time_counter','deptht','y','x'),zlib=True)\n",
    "#new_Sal.setncattr('units',TS.variables['vosaline'].units)\n",
    "new_T.setncattr('long_name','T')\n",
    "new_T.setncattr('coordinates',TS.variables['vosaline'].coordinates)\n",
    "new_T[:,:,:,:]=data_T\n",
    "print (TS.variables['vosaline'])\n",
    "print (new_ts.variables['votemper'])"
   ]
  },
  {
   "cell_type": "code",
   "execution_count": 12,
   "metadata": {
    "collapsed": false
   },
   "outputs": [
    {
     "name": "stdout",
     "output_type": "stream",
     "text": [
      "<class 'netCDF4._netCDF4.Variable'>\n",
      "float32 vosaline(time_counter, deptht, y, x)\n",
      "    units: none\n",
      "    long_name: Practical Salinity\n",
      "    coordinates: x y deptht time_counter\n",
      "    grid: 2D bathy\n",
      "unlimited dimensions: time_counter\n",
      "current shape = (1, 40, 10, 1100)\n",
      "filling on, default _FillValue of 9.969209968386869e+36 used\n",
      "\n",
      "<class 'netCDF4._netCDF4.Variable'>\n",
      "float64 vosaline(time_counter, deptht, y, x)\n",
      "    long_name: S\n",
      "    coordinates: x y deptht time_counter\n",
      "unlimited dimensions: time_counter\n",
      "current shape = (1, 101, 10, 1100)\n",
      "filling on, default _FillValue of 9.969209968386869e+36 used\n",
      "\n"
     ]
    }
   ],
   "source": [
    "vecS=np.reshape(S,(101,1,1))\n",
    "data_S=np.tile(vecS,(1,1,10,1100))\n",
    "\n",
    "new_S=new_ts.createVariable('vosaline',float,('time_counter','deptht','y','x'),zlib=True)\n",
    "#new_Sal.setncattr('units',TS.variables['vosaline'].units)\n",
    "new_S.setncattr('long_name','S')\n",
    "new_S.setncattr('coordinates',TS.variables['vosaline'].coordinates)\n",
    "new_S[:,:,:,:]=data_S\n",
    "print (TS.variables['vosaline'])\n",
    "print (new_ts.variables['vosaline'])"
   ]
  },
  {
   "cell_type": "code",
   "execution_count": 13,
   "metadata": {
    "collapsed": false
   },
   "outputs": [],
   "source": [
    "TS.close()\n",
    "new_ts.close()"
   ]
  },
  {
   "cell_type": "code",
   "execution_count": null,
   "metadata": {
    "collapsed": false
   },
   "outputs": [],
   "source": []
  },
  {
   "cell_type": "code",
   "execution_count": null,
   "metadata": {
    "collapsed": true
   },
   "outputs": [],
   "source": []
  },
  {
   "cell_type": "code",
   "execution_count": null,
   "metadata": {
    "collapsed": true
   },
   "outputs": [],
   "source": []
  },
  {
   "cell_type": "code",
   "execution_count": null,
   "metadata": {
    "collapsed": true
   },
   "outputs": [],
   "source": []
  }
 ],
 "metadata": {
  "kernelspec": {
   "display_name": "Python 3",
   "language": "python",
   "name": "python3"
  },
  "language_info": {
   "codemirror_mode": {
    "name": "ipython",
    "version": 3
   },
   "file_extension": ".py",
   "mimetype": "text/x-python",
   "name": "python",
   "nbconvert_exporter": "python",
   "pygments_lexer": "ipython3",
   "version": "3.4.4"
  }
 },
 "nbformat": 4,
 "nbformat_minor": 0
}
