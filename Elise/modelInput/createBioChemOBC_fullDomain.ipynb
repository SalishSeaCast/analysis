{
 "cells": [
  {
   "cell_type": "markdown",
   "metadata": {},
   "source": [
    "This notebook will be used to create biochem open boundary conditions, starting with SJDF, for full domain. "
   ]
  },
  {
   "cell_type": "code",
   "execution_count": 1,
   "metadata": {
    "collapsed": false
   },
   "outputs": [],
   "source": [
    "import netCDF4 as nc\n",
    "import numpy as np\n",
    "import matplotlib.pyplot as plt\n",
    "import datetime as dt\n",
    "import os\n",
    "import math\n",
    "\n",
    "# database stuff:\n",
    "import sqlalchemy\n",
    "from sqlalchemy import create_engine, Column, String, Integer, Numeric, MetaData, Table, type_coerce, ForeignKey, case\n",
    "from sqlalchemy.orm import mapper, create_session, relationship, aliased, Session\n",
    "from sqlalchemy.ext.declarative import declarative_base\n",
    "from sqlalchemy import case\n",
    "from sqlalchemy.ext.automap import automap_base\n",
    "import sqlalchemy.types as types\n",
    "import numbers\n",
    "from sqlalchemy.sql import and_, or_, not_, func\n",
    "from sqlalchemy.sql import select\n",
    "import glob\n",
    "import re\n",
    "import gsw\n",
    "\n",
    "%matplotlib inline\n",
    "\n",
    "N2chl=1.600"
   ]
  },
  {
   "cell_type": "raw",
   "metadata": {},
   "source": [
    "variables: NO3, Si, NH4, PHY, PHY2, MYRI, MICZ, POC, DOC, bSi\n",
    "for now, set bio and detritus to zero (PHY,PHY2,MYRI,MICZ)"
   ]
  },
  {
   "cell_type": "markdown",
   "metadata": {},
   "source": [
    "# Load 3D T+S\n"
   ]
  },
  {
   "cell_type": "code",
   "execution_count": 2,
   "metadata": {
    "collapsed": true
   },
   "outputs": [],
   "source": [
    "# define constant values, not yet based on data:\n",
    "val_bSi=7.74709546875e-06\n",
    "val_DIA=1e-8\n",
    "val_CRY=1e-8\n",
    "val_MYRI=1e-8\n",
    "val_MICZ=1e-8\n",
    "val_Oxy = 160.0"
   ]
  },
  {
   "cell_type": "code",
   "execution_count": 3,
   "metadata": {
    "collapsed": false
   },
   "outputs": [],
   "source": [
    "TS = nc.Dataset('/data/dlatorne/MEOPAR/nowcast-green/open_boundaries/west/SalishSea_west_TEOS10.nc')"
   ]
  },
  {
   "cell_type": "code",
   "execution_count": 4,
   "metadata": {
    "collapsed": false
   },
   "outputs": [
    {
     "name": "stdout",
     "output_type": "stream",
     "text": [
      "deptht, nav_lat, nav_lon, nbidta, nbjdta, nbrdta, time_counter, vosaline, votemper, \n"
     ]
    }
   ],
   "source": [
    "s=''\n",
    "for key in TS.variables.keys():\n",
    "    s=s+key+', '\n",
    "print(s)"
   ]
  },
  {
   "cell_type": "code",
   "execution_count": 5,
   "metadata": {
    "collapsed": false
   },
   "outputs": [
    {
     "name": "stdout",
     "output_type": "stream",
     "text": [
      "OrderedDict([('deptht', <class 'netCDF4._netCDF4.Dimension'>: name = 'deptht', size = 40\n",
      "), ('yb', <class 'netCDF4._netCDF4.Dimension'>: name = 'yb', size = 1\n",
      "), ('xbT', <class 'netCDF4._netCDF4.Dimension'>: name = 'xbT', size = 870\n",
      "), ('time_counter', <class 'netCDF4._netCDF4.Dimension'> (unlimited): name = 'time_counter', size = 52\n",
      ")])\n"
     ]
    }
   ],
   "source": [
    "print(TS.dimensions)"
   ]
  },
  {
   "cell_type": "code",
   "execution_count": 6,
   "metadata": {
    "collapsed": false
   },
   "outputs": [
    {
     "name": "stdout",
     "output_type": "stream",
     "text": [
      "deptht (40,)\n",
      "nav_lat (1, 870)\n",
      "nav_lon (1, 870)\n",
      "nbidta (1, 870)\n",
      "nbjdta (1, 870)\n",
      "nbrdta (1, 870)\n",
      "time_counter (52,)\n",
      "vosaline (52, 40, 1, 870)\n",
      "votemper (52, 40, 1, 870)\n"
     ]
    }
   ],
   "source": [
    "for key in TS.variables.keys():\n",
    "    print(key, np.shape(TS.variables[key]))"
   ]
  },
  {
   "cell_type": "code",
   "execution_count": 7,
   "metadata": {
    "collapsed": false
   },
   "outputs": [
    {
     "data": {
      "text/plain": [
       "[<matplotlib.lines.Line2D at 0x7fc28c3729e8>]"
      ]
     },
     "execution_count": 7,
     "metadata": {},
     "output_type": "execute_result"
    },
    {
     "data": {
      "image/png": "[encoded data removed]",
      "text/plain": [
       "<matplotlib.figure.Figure at 0x7fc28c372ac8>"
      ]
     },
     "metadata": {},
     "output_type": "display_data"
    }
   ],
   "source": [
    "plt.plot(TS.variables['nbidta'][0,:]*50)\n",
    "plt.plot(TS.variables['nbjdta'][0,:])"
   ]
  },
  {
   "cell_type": "code",
   "execution_count": 8,
   "metadata": {
    "collapsed": false
   },
   "outputs": [
    {
     "data": {
      "text/plain": [
       "[<matplotlib.lines.Line2D at 0x7fc267c19128>]"
      ]
     },
     "execution_count": 8,
     "metadata": {},
     "output_type": "execute_result"
    },
    {
     "data": {
      "image/png": "[encoded data removed]",
      "text/plain": [
       "<matplotlib.figure.Figure at 0x7fc28c32e6a0>"
      ]
     },
     "metadata": {},
     "output_type": "display_data"
    }
   ],
   "source": [
    "plt.plot(TS.variables['vosaline'][5,30,0,:])"
   ]
  },
  {
   "cell_type": "code",
   "execution_count": 9,
   "metadata": {
    "collapsed": false
   },
   "outputs": [
    {
     "data": {
      "text/plain": [
       "[<matplotlib.lines.Line2D at 0x7fc267b86c50>]"
      ]
     },
     "execution_count": 9,
     "metadata": {},
     "output_type": "execute_result"
    },
    {
     "data": {
      "image/png": "[encoded data removed]",
      "text/plain": [
       "<matplotlib.figure.Figure at 0x7fc267bc89b0>"
      ]
     },
     "metadata": {},
     "output_type": "display_data"
    }
   ],
   "source": [
    "plt.plot(TS.variables['deptht'],'k.')"
   ]
  },
  {
   "cell_type": "markdown",
   "metadata": {},
   "source": [
    "#Save to netcdf"
   ]
  },
  {
   "cell_type": "code",
   "execution_count": 10,
   "metadata": {
    "collapsed": false
   },
   "outputs": [],
   "source": [
    "new = nc.Dataset('/ocean/eolson/MEOPAR/NEMO-3.6-inputs/boundary_conditions/bioOBC_full.nc', 'w', zlib=True)\n",
    "#Copy dimensions\n",
    "for dname, the_dim in TS.dimensions.items():\n",
    "    #print (dname, len(the_dim) if not the_dim.isunlimited() else None)\n",
    "    new.createDimension(dname, len(the_dim) if not the_dim.isunlimited() else None)"
   ]
  },
  {
   "cell_type": "code",
   "execution_count": 11,
   "metadata": {
    "collapsed": false
   },
   "outputs": [],
   "source": [
    "# create dimension variables:\n",
    "# deptht\n",
    "deptht=new.createVariable('deptht','float32',('deptht',))\n",
    "deptht.long_name = 'Vertical T Levels'\n",
    "deptht.units = 'm'\n",
    "deptht.positive = 'down'\n",
    "deptht.valid_range = np.array((4., 428.))\n",
    "deptht[:]=TS.variables['deptht']\n",
    "\n",
    "#nav_lat\n",
    "nav_lat = new.createVariable('nav_lat','float32',('yb','xbT'))\n",
    "nav_lat.long_name = TS.variables['nav_lat'].long_name\n",
    "nav_lat.units = TS.variables['nav_lat'].units\n",
    "nav_lat[:] = TS.variables['nav_lat']\n",
    "\n",
    "#nav_lon\n",
    "nav_lon = new.createVariable('nav_lon','float32',('yb','xbT'))\n",
    "nav_lon.long_name = TS.variables['nav_lon'].long_name\n",
    "nav_lon.units = TS.variables['nav_lon'].units\n",
    "nav_lon[:]=TS.variables['nav_lon']\n",
    "\n",
    "# nbidta\n",
    "nbidta=new.createVariable('nbidta','int32',('yb','xbT'))\n",
    "nbidta.long_name = TS.variables['nbidta'].long_name\n",
    "nbidta.units = TS.variables['nbidta'].units\n",
    "nbidta[:]=TS.variables['nbidta']\n",
    "\n",
    "# nbjdta\n",
    "nbjdta=new.createVariable('nbjdta','int32',('yb','xbT'))\n",
    "nbjdta.long_name = TS.variables['nbjdta'].long_name\n",
    "nbjdta.units = TS.variables['nbjdta'].units\n",
    "nbjdta[:]=TS.variables['nbjdta']\n",
    "\n",
    "# nbrdta\n",
    "nbrdta=new.createVariable('nbrdta','int32',('yb','xbT'))\n",
    "nbrdta.long_name = TS.variables['nbrdta'].long_name\n",
    "nbrdta.units = TS.variables['nbrdta'].units\n",
    "nbrdta[:]=TS.variables['nbrdta']\n",
    "\n",
    "# time_counter\n",
    "time_counter = new.createVariable('time_counter', 'float32', ('time_counter'))\n",
    "time_counter.long_name = 'Time axis'\n",
    "time_counter.axis = 'T'\n",
    "time_counter.units = 'weeks since beginning of year'\n",
    "time_counter[:]=TS.variables['time_counter']"
   ]
  },
  {
   "cell_type": "code",
   "execution_count": 12,
   "metadata": {
    "collapsed": false
   },
   "outputs": [
    {
     "name": "stdout",
     "output_type": "stream",
     "text": [
      "<class 'netCDF4._netCDF4.Variable'>\n",
      "float32 vosaline(time_counter, deptht, yb, xbT)\n",
      "    coordinates: nav_lon nav_lat deptht time_counter\n",
      "    grid: SalishSea\n",
      "    units: g/kg\n",
      "    long_name: Reference Salinity\n",
      "unlimited dimensions: time_counter\n",
      "current shape = (52, 40, 1, 870)\n",
      "filling on, default _FillValue of 9.969209968386869e+36 used\n",
      "\n"
     ]
    }
   ],
   "source": [
    "print(TS.variables['vosaline'])"
   ]
  },
  {
   "cell_type": "code",
   "execution_count": 13,
   "metadata": {
    "collapsed": false
   },
   "outputs": [],
   "source": [
    "# variables\n",
    "#NO3, Si, NH4, PHY, PHY2, MYRI, MICZ, POC, DOC, bSi\n",
    "\n",
    "# NO3\n",
    "voNO3 = new.createVariable('NO3', 'float32', \n",
    "                               ('time_counter','deptht','yb','xbT'))\n",
    "voNO3.grid = TS.variables['votemper'].grid\n",
    "voNO3.units = 'muM'\n",
    "voNO3.long_name = 'Nitrate' \n",
    "# don't yet set values\n",
    "\n",
    "#Si\n",
    "voSi = new.createVariable('Si', 'float32', \n",
    "                               ('time_counter','deptht','yb','xbT'))\n",
    "voSi.grid = TS.variables['votemper'].grid\n",
    "voSi.units = 'muM'\n",
    "voSi.long_name = 'Silica' \n",
    "# don't yet set values\n",
    "\n",
    "#NH4\n",
    "voNH4 = new.createVariable('NH4', 'float32', \n",
    "                               ('time_counter','deptht','yb','xbT'))\n",
    "voNH4.grid = TS.variables['votemper'].grid\n",
    "voNH4.units = 'muM'\n",
    "voNH4.long_name = 'Ammonia' \n",
    "# don't yet set values\n",
    "\n",
    "#DIA\n",
    "voDIA = new.createVariable('DIA', 'float32', \n",
    "                               ('time_counter','deptht','yb','xbT'))\n",
    "voDIA.units = 'muM N'\n",
    "voDIA.long_name = 'Diatoms'\n",
    "voDIA.grid = TS.variables['votemper'].grid\n",
    "voDIA[:]=val_DIA\n",
    "\n",
    "#CRY\n",
    "voCRY = new.createVariable('CRY', 'float32', \n",
    "                               ('time_counter','deptht','yb','xbT'))\n",
    "voCRY.units = 'muM N'\n",
    "voCRY.long_name = 'Cryptophytes'\n",
    "voCRY.grid = TS.variables['votemper'].grid\n",
    "voCRY[:]=val_CRY\n",
    "\n",
    "#MYRI\n",
    "voMYRI = new.createVariable('MYRI', 'float32', \n",
    "                               ('time_counter','deptht','yb','xbT'))\n",
    "voMYRI.units = 'muM N'\n",
    "voMYRI.long_name = 'M. rubra' \n",
    "voMYRI.grid = TS.variables['votemper'].grid\n",
    "voMYRI[:]=val_MYRI\n",
    "\n",
    "#MICZ\n",
    "voMICZ = new.createVariable('MICZ', 'float32', \n",
    "                               ('time_counter','deptht','yb','xbT'))\n",
    "voMICZ.units = 'muM N'\n",
    "voMICZ.long_name = 'Microzooplankton' \n",
    "voMICZ.grid = TS.variables['votemper'].grid\n",
    "voMICZ[:]=val_MICZ\n",
    "\n",
    "#PON\n",
    "voPON = new.createVariable('PON', 'float32', \n",
    "                               ('time_counter','deptht','yb','xbT'))\n",
    "voPON.units = 'muM N'\n",
    "voPON.long_name = 'Particulate Organic Nitrogen'\n",
    "voPON.grid = TS.variables['votemper'].grid\n",
    "#voPON[:] = val_PON\n",
    "\n",
    "#DON\n",
    "voDON = new.createVariable('DON', 'float32', \n",
    "                               ('time_counter','deptht','yb','xbT'))\n",
    "voDON.units = 'muM N'\n",
    "voDON.long_name = 'Dissolved Organic Nitrogen'\n",
    "voDON.grid = TS.variables['votemper'].grid\n",
    "#voDON[:]=DON_val\n",
    "\n",
    "#bSi\n",
    "vobSi = new.createVariable('bSi', 'float32', \n",
    "                               ('time_counter','deptht','yb','xbT'))\n",
    "vobSi.units = 'muM N'\n",
    "vobSi.long_name = 'Biogenic Silica'\n",
    "vobSi.grid = TS.variables['votemper'].grid\n",
    "vobSi[:]=val_bSi\n",
    "\n",
    "#O2\n",
    "voO2 = new.createVariable('O2', 'float32', \n",
    "                               ('time_counter','deptht','yb','xbT'))\n",
    "#voO2.units = ''\n",
    "voO2.long_name = 'oxygen'\n",
    "voO2.grid = TS.variables['votemper'].grid\n",
    "voO2[:]=val_Oxy\n"
   ]
  },
  {
   "cell_type": "markdown",
   "metadata": {},
   "source": [
    "# load database for data-based conditions"
   ]
  },
  {
   "cell_type": "code",
   "execution_count": 14,
   "metadata": {
    "collapsed": true
   },
   "outputs": [],
   "source": [
    "# definitions\n",
    "basepath='/ocean/eolson/MEOPAR/obs/'\n",
    "basedir=basepath + 'DFOOPDB/'\n",
    "dbname='DFO_OcProfDB'\n",
    "\n",
    "# engine and reflection\n",
    "Base = automap_base()\n",
    "engine = create_engine('sqlite:///' + basedir + dbname + '.sqlite', echo = False)\n",
    "Base.prepare(engine, reflect=True)\n",
    "Station=Base.classes.StationTBL\n",
    "Obs=Base.classes.ObsTBL\n",
    "JDFLocs=Base.classes.JDFLocsTBL\n",
    "Calcs=Base.classes.CalcsTBL\n",
    "session = create_session(bind = engine, autocommit = False, autoflush = True)\n",
    "\n",
    "# column definitions\n",
    "SA=case([(Calcs.Salinity_Bottle_SA!=None, Calcs.Salinity_Bottle_SA)], else_=\n",
    "         case([(Calcs.Salinity_T0_C0_SA!=None, Calcs.Salinity_T0_C0_SA)], else_=\n",
    "         case([(Calcs.Salinity_T1_C1_SA!=None, Calcs.Salinity_T1_C1_SA)], else_=\n",
    "         case([(Calcs.Salinity_SA!=None, Calcs.Salinity_SA)], else_=\n",
    "         case([(Calcs.Salinity__Unknown_SA!=None, Calcs.Salinity__Unknown_SA)], else_=Calcs.Salinity__Pre1978_SA)\n",
    "        ))))\n",
    "NO=case([(Obs.Nitrate_plus_Nitrite!=None, Obs.Nitrate_plus_Nitrite)], else_=Obs.Nitrate)\n",
    "NOUnits=case([(Obs.Nitrate_plus_Nitrite!=None, Obs.Nitrate_plus_Nitrite_units)], else_=Obs.Nitrate_units)\n",
    "NOFlag=case([(Obs.Nitrate_plus_Nitrite!=None, Obs.Flag_Nitrate_plus_Nitrite)], else_=Obs.Flag_Nitrate)\n",
    "# Obs.Quality_Flag_Nitr does not match any nitrate obs\n",
    "# ISUS not included in this NO\n",
    "Tem=case([(Obs.Temperature!=None, Obs.Temperature)], else_=\n",
    "         case([(Obs.Temperature_Primary!=None, Obs.Temperature_Primary)], else_=\n",
    "         case([(Obs.Temperature_Secondary!=None, Obs.Temperature_Secondary)], else_=Obs.Temperature_Reversing)))\n",
    "TemUnits=case([(Obs.Temperature!=None, Obs.Temperature_units)], else_=\n",
    "         case([(Obs.Temperature_Primary!=None, Obs.Temperature_Primary_units)], else_=\n",
    "         case([(Obs.Temperature_Secondary!=None, Obs.Temperature_Secondary_units)], \n",
    "              else_=Obs.Temperature_Reversing_units)))\n",
    "TemFlag=Obs.Quality_Flag_Temp\n",
    "Ox=case([(Calcs.Oxygen_umolL!=None, Calcs.Oxygen_umolL)], else_=Calcs.Oxygen_Dissolved_umolL)\n",
    "OxFlag=case([(Calcs.Oxygen_umolL!=None, Obs.Quality_Flag_Oxyg)], else_=Obs.Flag_Oxygen_Dissolved)\n",
    "Press=case([(Obs.Pressure!=None, Obs.Pressure)], else_=Obs.Pressure_Reversing)"
   ]
  },
  {
   "cell_type": "markdown",
   "metadata": {},
   "source": [
    "Ammonium:"
   ]
  },
  {
   "cell_type": "code",
   "execution_count": 15,
   "metadata": {
    "collapsed": false
   },
   "outputs": [],
   "source": [
    "q=session.query(JDFLocs.ObsID, Station.StartYear,Station.StartMonth,Press,\n",
    "                Obs.Ammonium,Obs.Ammonium_units,Tem,SA).select_from(Obs).\\\n",
    "        join(JDFLocs,JDFLocs.ObsID==Obs.ID).join(Station,Station.ID==Obs.StationTBLID).\\\n",
    "        join(Calcs,Calcs.ObsID==Obs.ID).filter(Obs.Ammonium!=None).\\\n",
    "        all()\n",
    "qYr=[]\n",
    "qMn=[]\n",
    "qP=[]\n",
    "qNH=[]\n",
    "qTC=[]\n",
    "qSA=[]\n",
    "remP=[]\n",
    "remNH=[]\n",
    "for OID, Yr, Mn, P, NH, un, T, S_A in q:\n",
    "    # throw out 1 data point that seems unusually high\n",
    "    if not (P>75 and NH >.2):\n",
    "        qYr.append(Yr)\n",
    "        qMn.append(Mn)\n",
    "        qP.append(P)\n",
    "        qNH.append(NH)\n",
    "        qTC.append(gsw.CT_from_t(S_A,T,P))\n",
    "        qSA.append(S_A)\n",
    "    else:\n",
    "        remP.append(P)\n",
    "        remNH.append(NH)\n",
    "\n",
    "qYR=np.array(qYr)\n",
    "qMn=np.array(qMn)\n",
    "qP=np.array(qP)\n",
    "qNH=np.array(qNH)\n",
    "qTC=np.array(qTC)\n",
    "qSA=np.array(qSA)\n",
    "remP=np.array(remP)\n",
    "remNH=np.array(remNH)"
   ]
  },
  {
   "cell_type": "code",
   "execution_count": 16,
   "metadata": {
    "collapsed": true
   },
   "outputs": [],
   "source": [
    "def ginterp(xval,xPeriod,yval,L,xlocs):\n",
    "    # if not periodic, xPeriod=0\n",
    "    fil=np.empty(np.size(xlocs))\n",
    "    s=L/2.355\n",
    "    for ii in range(0,xlocs.size):\n",
    "        t=xlocs[ii]\n",
    "        diff=[min(abs(x-t),abs(x-t+xPeriod), abs(x-t-xPeriod)) for x in xval]\n",
    "        weight=[np.exp(-.5*x**2/s**2) if sum(diff<x)<2 or x < 5 else 0.0 for x in diff]\n",
    "        #weight=[np.exp(-.5*x**2/s**2) for x in diff]\n",
    "        weight=np.array(weight)\n",
    "        fil[ii]=np.sum(weight*yval)/np.sum(weight)\n",
    "    return(fil)"
   ]
  },
  {
   "cell_type": "code",
   "execution_count": 17,
   "metadata": {
    "collapsed": false
   },
   "outputs": [
    {
     "name": "stderr",
     "output_type": "stream",
     "text": [
      "/home/eolson/anaconda3/envs/teos10/lib/python3.4/site-packages/ipykernel/__main__.py:11: RuntimeWarning: invalid value encountered in double_scalars\n"
     ]
    },
    {
     "data": {
      "text/plain": [
       "[<matplotlib.lines.Line2D at 0x7fc267b988d0>]"
      ]
     },
     "execution_count": 17,
     "metadata": {},
     "output_type": "execute_result"
    },
    {
     "data": {
      "image/png": "[encoded data removed]",
      "text/plain": [
       "<matplotlib.figure.Figure at 0x7fc267b98630>"
      ]
     },
     "metadata": {},
     "output_type": "display_data"
    }
   ],
   "source": [
    "# create depth-weighted mean profile using gaussian filter\n",
    "zs=np.array(TS.variables['deptht'])\n",
    "plt.plot(qNH,-qP,'k.')\n",
    "AmmProf=ginterp(qP,0.0,qNH,10,zs)\n",
    "plt.plot(AmmProf,-zs,'r-')\n",
    "plt.plot(remNH,-remP,'kx')"
   ]
  },
  {
   "cell_type": "code",
   "execution_count": 18,
   "metadata": {
    "collapsed": false
   },
   "outputs": [
    {
     "name": "stdout",
     "output_type": "stream",
     "text": [
      "[  2.40456999e-01   3.65887268e-01   3.80282366e-01   3.91473923e-01\n",
      "   4.02102010e-01   4.72358355e-01   5.32753271e-01   5.76648563e-01\n",
      "   6.02842811e-01   6.23594502e-01   6.90073188e-01   7.10733771e-01\n",
      "   7.16317072e-01   7.18048435e-01   7.18102838e-01   7.93362081e-01\n",
      "   9.21861668e-01   9.56219007e-01   9.84826763e-01   9.77881992e-01\n",
      "   9.65514772e-01   9.03794283e-01   5.32465197e-01   2.79960873e-01\n",
      "   1.99978086e-01   6.54793857e-02   2.00010468e-02   3.22206290e-04\n",
      "   2.69354263e-14   1.05868317e-24   2.79170315e-35   5.96392394e-46\n",
      "   1.14178278e-56   0.00000000e+00              nan              nan\n",
      "              nan              nan              nan              nan]\n",
      "[  2.40456999e-01   3.65887268e-01   3.80282366e-01   3.91473923e-01\n",
      "   4.02102010e-01   4.72358355e-01   5.32753271e-01   5.76648563e-01\n",
      "   6.02842811e-01   6.23594502e-01   6.90073188e-01   7.10733771e-01\n",
      "   7.16317072e-01   7.18048435e-01   7.18102838e-01   7.93362081e-01\n",
      "   9.21861668e-01   9.56219007e-01   9.84826763e-01   9.77881992e-01\n",
      "   9.65514772e-01   9.03794283e-01   5.32465197e-01   2.79960873e-01\n",
      "   1.99978086e-01   6.54793857e-02   2.00010468e-02   3.22206290e-04\n",
      "   2.69354263e-14   1.05868317e-24   2.79170315e-35   5.96392394e-46\n",
      "   0.00000000e+00   0.00000000e+00   0.00000000e+00   0.00000000e+00\n",
      "   0.00000000e+00   0.00000000e+00   0.00000000e+00   0.00000000e+00]\n"
     ]
    }
   ],
   "source": [
    "print(AmmProf)\n",
    "AmmProf[-8:]=0.0\n",
    "print(AmmProf)"
   ]
  },
  {
   "cell_type": "code",
   "execution_count": 19,
   "metadata": {
    "collapsed": false
   },
   "outputs": [],
   "source": [
    "for ii in range(0,zs.size):\n",
    "    voNH4[:,ii,0,:]=AmmProf[ii]"
   ]
  },
  {
   "cell_type": "code",
   "execution_count": 20,
   "metadata": {
    "collapsed": false
   },
   "outputs": [
    {
     "data": {
      "text/plain": [
       "array([  2.40456998e-01,   3.65887254e-01,   3.80282372e-01,\n",
       "         3.91473919e-01,   4.02102023e-01,   4.72358346e-01,\n",
       "         5.32753289e-01,   5.76648533e-01,   6.02842808e-01,\n",
       "         6.23594522e-01,   6.90073192e-01,   7.10733771e-01,\n",
       "         7.16317058e-01,   7.18048453e-01,   7.18102813e-01,\n",
       "         7.93362081e-01,   9.21861649e-01,   9.56219018e-01,\n",
       "         9.84826744e-01,   9.77881968e-01,   9.65514779e-01,\n",
       "         9.03794289e-01,   5.32465219e-01,   2.79960871e-01,\n",
       "         1.99978083e-01,   6.54793829e-02,   2.00010464e-02,\n",
       "         3.22206295e-04,   2.69354258e-14,   1.05868319e-24,\n",
       "         2.79170323e-35,   0.00000000e+00,   0.00000000e+00,\n",
       "         0.00000000e+00,   0.00000000e+00,   0.00000000e+00,\n",
       "         0.00000000e+00,   0.00000000e+00,   0.00000000e+00,\n",
       "         0.00000000e+00], dtype=float32)"
      ]
     },
     "execution_count": 20,
     "metadata": {},
     "output_type": "execute_result"
    }
   ],
   "source": [
    "voNH4[0,:,0,0]"
   ]
  },
  {
   "cell_type": "markdown",
   "metadata": {
    "collapsed": true
   },
   "source": [
    "DON"
   ]
  },
  {
   "cell_type": "code",
   "execution_count": 21,
   "metadata": {
    "collapsed": false
   },
   "outputs": [
    {
     "data": {
      "text/plain": [
       "[<matplotlib.lines.Line2D at 0x7fc26754ac88>]"
      ]
     },
     "execution_count": 21,
     "metadata": {},
     "output_type": "execute_result"
    },
    {
     "data": {
      "image/png": "[encoded data removed]",
      "text/plain": [
       "<matplotlib.figure.Figure at 0x7fc267624470>"
      ]
     },
     "metadata": {},
     "output_type": "display_data"
    }
   ],
   "source": [
    "# take nearest available data to SJDF\n",
    "q=session.query(Station.StartYear,Station.StartMonth,Press, Station.Lat, Station.Lon,Obs.Depth,\n",
    "                Obs.Nitrogen_Dissolved_Organic,Obs.Nitrogen_Dissolved_Organic_units,Tem).\\\n",
    "        select_from(Obs).join(Station,Station.ID==Obs.StationTBLID).\\\n",
    "        filter(Obs.Nitrogen_Dissolved_Organic!=None).filter(Obs.Nitrogen_Dissolved_Organic>=0).\\\n",
    "        filter(Station.Lat!=None).filter(Station.Lon!=None).\\\n",
    "        filter(Station.Lat<48.8).filter(Station.Lon<-125).all()\n",
    "\n",
    "qDON=[]\n",
    "for row in q:\n",
    "    qDON.append(row[6])\n",
    "    plt.plot(row[6],row[2],'k.')\n",
    "val_DON=np.mean(qDON)\n",
    "plt.plot((val_DON,val_DON),(0,450),'r--')"
   ]
  },
  {
   "cell_type": "code",
   "execution_count": 22,
   "metadata": {
    "collapsed": true
   },
   "outputs": [],
   "source": [
    "voDON[:,:,:,:]=val_DON"
   ]
  },
  {
   "cell_type": "markdown",
   "metadata": {},
   "source": [
    "PON"
   ]
  },
  {
   "cell_type": "code",
   "execution_count": 23,
   "metadata": {
    "collapsed": false
   },
   "outputs": [
    {
     "data": {
      "text/plain": [
       "[<matplotlib.lines.Line2D at 0x7fc2675b6d30>]"
      ]
     },
     "execution_count": 23,
     "metadata": {},
     "output_type": "execute_result"
    },
    {
     "data": {
      "image/png": "[encoded data removed]",
      "text/plain": [
       "<matplotlib.figure.Figure at 0x7fc2675b6da0>"
      ]
     },
     "metadata": {},
     "output_type": "display_data"
    }
   ],
   "source": [
    "# take nearest available data to SJDF\n",
    "q=session.query(Station.StartYear,Station.StartMonth,Press, Station.Lat, Station.Lon,Obs.Depth,\n",
    "                Obs.Nitrogen_Particulate_Organic,Obs.Nitrogen_Particulate_Organic_units,Tem).\\\n",
    "        select_from(Obs).join(Station,Station.ID==Obs.StationTBLID).\\\n",
    "        filter(Obs.Nitrogen_Particulate_Organic!=None).filter(Obs.Nitrogen_Particulate_Organic>=0).\\\n",
    "        filter(Station.Lat!=None).filter(Station.Lon!=None).\\\n",
    "        filter(Station.Lat<48.8).filter(Station.Lon<-125).all()\n",
    "\n",
    "qPON=[]\n",
    "for row in q:\n",
    "    qPON.append(row[6])\n",
    "    plt.plot(row[6],row[2],'k.')\n",
    "val_PON=np.mean(qPON)\n",
    "plt.plot((val_PON,val_PON),(0,450),'r--')"
   ]
  },
  {
   "cell_type": "code",
   "execution_count": 24,
   "metadata": {
    "collapsed": true
   },
   "outputs": [],
   "source": [
    "voPON[:,:,:,:]=val_PON"
   ]
  },
  {
   "cell_type": "markdown",
   "metadata": {},
   "source": [
    "NO3:"
   ]
  },
  {
   "cell_type": "code",
   "execution_count": 25,
   "metadata": {
    "collapsed": false
   },
   "outputs": [
    {
     "name": "stdout",
     "output_type": "stream",
     "text": [
      "(80451, 1971.0, 6.0, None, 19.4, 'mmol/m**3', 7.1, None, 209)\n",
      "(60308, 2000.0, 8.0, 208.4, 34.5, 'umol/L', 6.9444, 34.07842114607245, 2610)\n"
     ]
    }
   ],
   "source": [
    "q=session.query(JDFLocs.ObsID, Station.StartYear,Station.StartMonth,Press,\n",
    "                NO,NOUnits,Tem,SA, func.count()).select_from(Obs).\\\n",
    "        join(JDFLocs,JDFLocs.ObsID==Obs.ID).join(Station,Station.ID==Obs.StationTBLID).\\\n",
    "        join(Calcs,Calcs.ObsID==Obs.ID).filter(NO!=None).group_by(NOUnits).\\\n",
    "        all()\n",
    "for row in q:\n",
    "    print(row)"
   ]
  },
  {
   "cell_type": "code",
   "execution_count": 26,
   "metadata": {
    "collapsed": false
   },
   "outputs": [
    {
     "data": {
      "text/plain": [
       "[<matplotlib.lines.Line2D at 0x7fc267332780>]"
      ]
     },
     "execution_count": 26,
     "metadata": {},
     "output_type": "execute_result"
    },
    {
     "data": {
      "image/png": "[encoded data removed]",
      "text/plain": [
       "<matplotlib.figure.Figure at 0x7fc2674daeb8>"
      ]
     },
     "metadata": {},
     "output_type": "display_data"
    }
   ],
   "source": [
    "# umol/L=mmol/m**3, so all NO units the same\n",
    "q=session.query(JDFLocs.ObsID, Station.StartYear,Station.StartMonth,Press,NO,Tem,SA,Station.StartDay).select_from(Obs).\\\n",
    "        join(JDFLocs,JDFLocs.ObsID==Obs.ID).join(Station,Station.ID==Obs.StationTBLID).\\\n",
    "        join(Calcs,Calcs.ObsID==Obs.ID).filter(SA<38).filter(SA>0).filter(NO!=None).\\\n",
    "        filter(Tem!=None).filter(SA!=None).filter(Press!=None).\\\n",
    "        all()\n",
    "#for row in q:\n",
    "#    print(row)\n",
    "\n",
    "qYr=[]\n",
    "qMn=[]\n",
    "qDy=[]\n",
    "qP=[]\n",
    "qNO=[]\n",
    "qTC=[]\n",
    "qSA=[]\n",
    "qNO50=[]\n",
    "qSA50=[]\n",
    "qTC50=[]\n",
    "date=[]\n",
    "for OID, Yr, Mn, P, NO3, T, S_A, dy in q:\n",
    "    qYr.append(Yr)\n",
    "    qMn.append(Mn)\n",
    "    qDy.append(dy)\n",
    "    qP.append(P)\n",
    "    qNO.append(NO3)\n",
    "    qTC.append(gsw.CT_from_t(S_A,T,P))\n",
    "    qSA.append(S_A)\n",
    "    date.append(dt.date(int(Yr),int(Mn),int(dy)))\n",
    "    if P>80:\n",
    "        qNO50.append(NO3)\n",
    "        qTC50.append(gsw.CT_from_t(S_A,T,P))\n",
    "        qSA50.append(S_A)\n",
    "\n",
    "qSA=np.array(qSA)\n",
    "qTC=np.array(qTC)\n",
    "qP=np.array(qP)\n",
    "qNO=np.array(qNO)\n",
    "qSA50=np.array(qSA50)\n",
    "qTC50=np.array(qTC50)\n",
    "date=np.array(date)\n",
    "YD=0.0*qTC\n",
    "for i in range(0,len(YD)):\n",
    "    YD[i]=date[i].timetuple().tm_yday\n",
    "\n",
    "qNO50=np.array(qNO50)\n",
    "\n",
    "fig,axs=plt.subplots(1,2)\n",
    "#plt.axis([28,35,0,40])\n",
    "axs[0].plot(qSA,qNO,'.')\n",
    "#axs[0].xlabel('Salinity')\n",
    "#axs[0].ylabel('NO')\n",
    "axs[1].plot(qSA50,qNO50,'.')\n",
    "#axs[1].xlabel('Salinity')\n",
    "#axs[1].ylabel('NO')"
   ]
  },
  {
   "cell_type": "code",
   "execution_count": 27,
   "metadata": {
    "collapsed": false
   },
   "outputs": [
    {
     "name": "stdout",
     "output_type": "stream",
     "text": [
      "-4.55188235217 2.15074816221 -7.90228822138\n"
     ]
    },
    {
     "data": {
      "text/plain": [
       "<matplotlib.text.Text at 0x7fc2672aa0f0>"
      ]
     },
     "execution_count": 27,
     "metadata": {},
     "output_type": "execute_result"
    },
    {
     "data": {
      "image/png": "[encoded data removed]",
      "text/plain": [
       "<matplotlib.figure.Figure at 0x7fc267b98828>"
      ]
     },
     "metadata": {},
     "output_type": "display_data"
    }
   ],
   "source": [
    "a=np.vstack([qTC50,qSA50,np.ones(len(qTC50))]).T\n",
    "a2=np.vstack([qTC,qSA,np.ones(len(qTC))]).T\n",
    "m = np.linalg.lstsq(a,qNO50)[0]\n",
    "mT, mS, mC = m\n",
    "print(mT, mS, mC)\n",
    "plt.plot(qNO50,np.dot(a,m),'.')\n",
    "plt.xlabel('NO')\n",
    "plt.ylabel('NO, linear model')\n",
    "SSE=np.dot((qNO50-np.dot(a,m)),(qNO50-np.dot(a,m)).T)\n",
    "plt.title('Linear Model: NO(T,S), Press>80')\n"
   ]
  },
  {
   "cell_type": "raw",
   "metadata": {
    "collapsed": false
   },
   "source": [
    "plt.plot(qP,np.dot(a2,m)-qNO,'k.')"
   ]
  },
  {
   "cell_type": "raw",
   "metadata": {
    "collapsed": false
   },
   "source": [
    "plt.plot(qMn,qNO,'k.')"
   ]
  },
  {
   "cell_type": "code",
   "execution_count": 28,
   "metadata": {
    "collapsed": false
   },
   "outputs": [
    {
     "name": "stdout",
     "output_type": "stream",
     "text": [
      "<class 'netCDF4._netCDF4.Variable'>\n",
      "float32 votemper(time_counter, deptht, yb, xbT)\n",
      "    units: degC\n",
      "    long_name: Temperature\n",
      "    coordinates: nav_lon nav_lat deptht time_counter\n",
      "    grid: SalishSea\n",
      "unlimited dimensions: time_counter\n",
      "current shape = (52, 40, 1, 870)\n",
      "filling on, default _FillValue of 9.969209968386869e+36 used\n",
      "\n"
     ]
    }
   ],
   "source": [
    "print(TS.variables['votemper'])"
   ]
  },
  {
   "cell_type": "code",
   "execution_count": 29,
   "metadata": {
    "collapsed": false
   },
   "outputs": [
    {
     "name": "stdout",
     "output_type": "stream",
     "text": [
      "[  0.5000003    1.5000031    2.50001144   3.50003052   4.50007057\n",
      "   5.50015068   6.50031042   7.50062323   8.50123596   9.50243282\n",
      "  10.50476551  11.50931168  12.51816654  13.53541183  14.56898212\n",
      "  15.63428783  16.76117325  18.00713539  19.48178482  21.38997841\n",
      "  24.10025597  28.22991562  34.68575668  44.51772308  58.48433304\n",
      "  76.58558655  98.06295776]\n",
      "[   0.            7.01923077   14.03846154   21.05769231   28.07692308\n",
      "   35.09615385   42.11538462   49.13461538   56.15384615   63.17307692\n",
      "   70.19230769   77.21153846   84.23076923   91.25         98.26923077\n",
      "  105.28846154  112.30769231  119.32692308  126.34615385  133.36538462\n",
      "  140.38461538  147.40384615  154.42307692  161.44230769  168.46153846\n",
      "  175.48076923  182.5         189.51923077  196.53846154  203.55769231\n",
      "  210.57692308  217.59615385  224.61538462  231.63461538  238.65384615\n",
      "  245.67307692  252.69230769  259.71153846  266.73076923  273.75\n",
      "  280.76923077  287.78846154  294.80769231  301.82692308  308.84615385\n",
      "  315.86538462  322.88461538  329.90384615  336.92307692  343.94230769\n",
      "  350.96153846  357.98076923]\n",
      "52\n"
     ]
    }
   ],
   "source": [
    "zupper=np.extract(zs<100, zs)\n",
    "print(zupper)\n",
    "ydays=np.arange(0,365,365/52)\n",
    "print(ydays)\n",
    "print(ydays.size)"
   ]
  },
  {
   "cell_type": "code",
   "execution_count": 30,
   "metadata": {
    "collapsed": false
   },
   "outputs": [],
   "source": [
    "def ginterp2d(xval,xPeriod,yval,yPeriod,zval,L,M,zlocs_x,zlocs_y):\n",
    "    # if not periodic, xPeriod=0\n",
    "    #fil=np.empty(np.size(xlocs))\n",
    "    s=L/2.355\n",
    "    n=M/2.355\n",
    "    sdict={}\n",
    "    mat=np.empty((np.size(zlocs_x),np.size(zlocs_y)))\n",
    "    for ii in range(0,zlocs_x.size):\n",
    "        print(ii)\n",
    "        for jj in range(0,zlocs_y.size):\n",
    "            tx=zlocs_x[ii]\n",
    "            ty=zlocs_y[jj]\n",
    "            diffx=[min(abs(x-tx),abs(x-tx+xPeriod), abs(x-tx-xPeriod)) for x in xval]\n",
    "            diffy=[min(abs(y-ty),abs(y-ty+yPeriod), abs(y-ty-yPeriod)) for y in yval]\n",
    "            weight=[np.exp(-.5*(x**2+y**2)/(s**2+n**2)) if \\\n",
    "                    (sum(diffx<x)<3 or x < L) and (sum(diffy<y)<3 or y < M) \\\n",
    "                    else 0.0 for x, y in zip(diffx, diffy)]\n",
    "            #weight=[np.exp(-.5*x**2/s**2) for x in diff]\n",
    "            weight=np.array(weight)\n",
    "            sdict[(tx,ty)]=np.sum(weight*zval)/np.sum(weight)\n",
    "            mat[ii,jj]=np.sum(weight*zval)/np.sum(weight)\n",
    "    return(sdict,mat)"
   ]
  },
  {
   "cell_type": "code",
   "execution_count": 31,
   "metadata": {
    "collapsed": false
   },
   "outputs": [
    {
     "data": {
      "text/plain": [
       "[<matplotlib.lines.Line2D at 0x7fc2673ed0b8>]"
      ]
     },
     "execution_count": 31,
     "metadata": {},
     "output_type": "execute_result"
    },
    {
     "data": {
      "image/png": "[encoded data removed]",
      "text/plain": [
       "<matplotlib.figure.Figure at 0x7fc26729c748>"
      ]
     },
     "metadata": {},
     "output_type": "display_data"
    }
   ],
   "source": [
    "# umol/L=mmol/m**3, so all NO units the same\n",
    "q=session.query(JDFLocs.ObsID, Station.StartYear,Station.StartMonth,Press,NO,Tem,SA,Station.StartDay).select_from(Obs).\\\n",
    "        join(JDFLocs,JDFLocs.ObsID==Obs.ID).join(Station,Station.ID==Obs.StationTBLID).\\\n",
    "        join(Calcs,Calcs.ObsID==Obs.ID).filter(SA<38).filter(SA>0).filter(NO!=None).\\\n",
    "        filter(Tem!=None).filter(SA!=None).filter(Press<120).filter(Press!=None).\\\n",
    "        all()\n",
    "#for row in q:\n",
    "#    print(row)\n",
    "\n",
    "qYr=[]\n",
    "qMn=[]\n",
    "qDy=[]\n",
    "qP=[]\n",
    "qNO=[]\n",
    "qTC=[]\n",
    "qSA=[]\n",
    "qNO50=[]\n",
    "qSA50=[]\n",
    "qTC50=[]\n",
    "date=[]\n",
    "for OID, Yr, Mn, P, NO3, T, S_A, dy in q:\n",
    "    qYr.append(Yr)\n",
    "    qMn.append(Mn)\n",
    "    qDy.append(dy)\n",
    "    qP.append(P)\n",
    "    qNO.append(NO3)\n",
    "    qTC.append(gsw.CT_from_t(S_A,T,P))\n",
    "    qSA.append(S_A)\n",
    "    date.append(dt.date(int(Yr),int(Mn),int(dy)))\n",
    "    if P>80:\n",
    "        qNO50.append(NO3)\n",
    "        qTC50.append(gsw.CT_from_t(S_A,T,P))\n",
    "        qSA50.append(S_A)\n",
    "\n",
    "qSA=np.array(qSA)\n",
    "qTC=np.array(qTC)\n",
    "qP=np.array(qP)\n",
    "qNO=np.array(qNO)\n",
    "qSA50=np.array(qSA50)\n",
    "qTC50=np.array(qTC50)\n",
    "date=np.array(date)\n",
    "YD=0.0*qTC\n",
    "for i in range(0,len(YD)):\n",
    "    YD[i]=date[i].timetuple().tm_yday\n",
    "\n",
    "qNO50=np.array(qNO50)\n",
    "\n",
    "fig,axs=plt.subplots(1,2)\n",
    "#plt.axis([28,35,0,40])\n",
    "axs[0].plot(qSA,qNO,'.')\n",
    "#axs[0].xlabel('Salinity')\n",
    "#axs[0].ylabel('NO')\n",
    "axs[1].plot(qSA50,qNO50,'.')\n",
    "#axs[1].xlabel('Salinity')\n",
    "#axs[1].ylabel('NO')"
   ]
  },
  {
   "cell_type": "code",
   "execution_count": 32,
   "metadata": {
    "collapsed": false
   },
   "outputs": [
    {
     "name": "stdout",
     "output_type": "stream",
     "text": [
      "0\n",
      "1\n",
      "2\n",
      "3\n",
      "4\n",
      "5\n",
      "6\n",
      "7\n",
      "8\n",
      "9\n",
      "10\n",
      "11\n",
      "12\n",
      "13\n",
      "14\n",
      "15\n",
      "16\n",
      "17\n",
      "18\n",
      "19\n",
      "20\n",
      "21\n",
      "22\n",
      "23\n",
      "24\n",
      "25\n",
      "26\n",
      "27\n",
      "28\n",
      "29\n",
      "30\n",
      "31\n",
      "32\n",
      "33\n",
      "34\n",
      "35\n",
      "36\n",
      "37\n",
      "38\n",
      "39\n",
      "40\n",
      "41\n",
      "42\n",
      "43\n",
      "44\n",
      "45\n",
      "46\n",
      "47\n",
      "48\n",
      "49\n",
      "50\n",
      "51\n"
     ]
    }
   ],
   "source": [
    "ndict,nmat=ginterp2d(YD,365,qP,0,qNO,30,10,ydays,zupper)"
   ]
  },
  {
   "cell_type": "code",
   "execution_count": 33,
   "metadata": {
    "collapsed": false
   },
   "outputs": [
    {
     "data": {
      "image/png": "[encoded data removed]",
      "text/plain": [
       "<matplotlib.figure.Figure at 0x7fc2672d8080>"
      ]
     },
     "metadata": {},
     "output_type": "display_data"
    }
   ],
   "source": [
    "fig, axs = plt.subplots(2,1,figsize=(8,6))\n",
    "\n",
    "mesh0=axs[0].pcolormesh(mC +mT*TS.variables['votemper'][5,:,0,0:100]+mS*TS.variables['vosaline'][5,:,0,0:100])\n",
    "cb0=fig.colorbar(mesh0,ax=axs[0])\n",
    "\n",
    "mesh1=axs[1].pcolormesh(nmat)\n",
    "cb1=fig.colorbar(mesh1,ax=axs[1])"
   ]
  },
  {
   "cell_type": "code",
   "execution_count": 34,
   "metadata": {
    "collapsed": false
   },
   "outputs": [],
   "source": [
    "import math\n",
    "ztan=[math.tanh((a-75)/10) for a in zupper]\n",
    "zcoeff=np.ones(np.shape(TS.variables['votemper'])) # zcoeff is multiplier of fit function; 1-zcoeff is multiplier of climatology\n",
    "for i in np.arange(0,zupper.size):\n",
    "    zcoeff[:,i,:,:]=ztan[i]\n",
    "funfit=mC +mT*TS.variables['votemper'][:,:,:,:]+mS*TS.variables['vosaline'][:,:,:,:]\n"
   ]
  },
  {
   "cell_type": "code",
   "execution_count": 35,
   "metadata": {
    "collapsed": false
   },
   "outputs": [
    {
     "name": "stdout",
     "output_type": "stream",
     "text": [
      "(52, 40, 1, 870)\n"
     ]
    }
   ],
   "source": [
    "nmat_2=np.expand_dims(nmat,axis=2)\n",
    "nmat_2=np.expand_dims(nmat_2,axis=3)\n",
    "nmat_3=np.tile(nmat_2,(1,1,1,TS.variables['votemper'].shape[3]))\n",
    "clim=np.zeros(TS.variables['votemper'].shape)\n",
    "clim[:,0:27,:,:]=nmat_3\n",
    "print(clim.shape)"
   ]
  },
  {
   "cell_type": "code",
   "execution_count": 36,
   "metadata": {
    "collapsed": false
   },
   "outputs": [],
   "source": [
    "voNO3[:,:,:,:]=zcoeff*funfit+(1-zcoeff)*clim"
   ]
  },
  {
   "cell_type": "markdown",
   "metadata": {},
   "source": [
    "Si"
   ]
  },
  {
   "cell_type": "code",
   "execution_count": 37,
   "metadata": {
    "collapsed": false
   },
   "outputs": [
    {
     "name": "stdout",
     "output_type": "stream",
     "text": [
      "(80451, 1971.0, 6.0, None, 46.0, 'mmol/m**3', 7.1, None, 220)\n",
      "(60308, 2000.0, 8.0, 208.4, 53.1, 'umol/L', 6.9444, 34.07842114607245, 2628)\n"
     ]
    }
   ],
   "source": [
    "q=session.query(JDFLocs.ObsID, Station.StartYear,Station.StartMonth,Press,\n",
    "                Obs.Silicate,Obs.Silicate_units,Tem,SA,func.count()).select_from(Obs).\\\n",
    "        join(JDFLocs,JDFLocs.ObsID==Obs.ID).join(Station,Station.ID==Obs.StationTBLID).\\\n",
    "        join(Calcs,Calcs.ObsID==Obs.ID).filter(Obs.Silicate!=None).group_by(Obs.Silicate_units).\\\n",
    "        all()\n",
    "for row in q:\n",
    "    print(row)"
   ]
  },
  {
   "cell_type": "code",
   "execution_count": 38,
   "metadata": {
    "collapsed": false
   },
   "outputs": [
    {
     "data": {
      "text/plain": [
       "[<matplotlib.lines.Line2D at 0x7fc266f46748>]"
      ]
     },
     "execution_count": 38,
     "metadata": {},
     "output_type": "execute_result"
    },
    {
     "data": {
      "image/png": "[encoded data removed]",
      "text/plain": [
       "<matplotlib.figure.Figure at 0x7fc2672dfbe0>"
      ]
     },
     "metadata": {},
     "output_type": "display_data"
    }
   ],
   "source": [
    "# umol/L=mmol/m**3, so all NO units the same\n",
    "q=session.query(JDFLocs.ObsID, Station.StartYear,Station.StartMonth,Press,Obs.Silicate,Tem,SA,Station.StartDay).select_from(Obs).\\\n",
    "        join(JDFLocs,JDFLocs.ObsID==Obs.ID).join(Station,Station.ID==Obs.StationTBLID).\\\n",
    "        join(Calcs,Calcs.ObsID==Obs.ID).filter(SA<38).filter(SA>0).filter(Obs.Silicate!=None).\\\n",
    "        filter(Tem!=None).filter(SA!=None).filter(Press!=None).\\\n",
    "        all()\n",
    "#for row in q:\n",
    "#    print(row)\n",
    "\n",
    "qYr=[]\n",
    "qMn=[]\n",
    "qDy=[]\n",
    "qP=[]\n",
    "qNO=[]\n",
    "qTC=[]\n",
    "qSA=[]\n",
    "qNO50=[]\n",
    "qSA50=[]\n",
    "qTC50=[]\n",
    "date=[]\n",
    "for OID, Yr, Mn, P, NO3, T, S_A, dy in q:\n",
    "    qYr.append(Yr)\n",
    "    qMn.append(Mn)\n",
    "    qDy.append(dy)\n",
    "    qP.append(P)\n",
    "    qNO.append(NO3)\n",
    "    qTC.append(gsw.CT_from_t(S_A,T,P))\n",
    "    qSA.append(S_A)\n",
    "    date.append(dt.date(int(Yr),int(Mn),int(dy)))\n",
    "    if P>80:\n",
    "        qNO50.append(NO3)\n",
    "        qTC50.append(gsw.CT_from_t(S_A,T,P))\n",
    "        qSA50.append(S_A)\n",
    "\n",
    "qSA=np.array(qSA)\n",
    "qTC=np.array(qTC)\n",
    "qP=np.array(qP)\n",
    "qNO=np.array(qNO)\n",
    "qSA50=np.array(qSA50)\n",
    "qTC50=np.array(qTC50)\n",
    "date=np.array(date)\n",
    "YD=0.0*qTC\n",
    "for i in range(0,len(YD)):\n",
    "    YD[i]=date[i].timetuple().tm_yday\n",
    "\n",
    "qNO50=np.array(qNO50)\n",
    "\n",
    "fig,axs=plt.subplots(1,2)\n",
    "#plt.axis([28,35,0,40])\n",
    "axs[0].plot(qSA,qNO,'.')\n",
    "#axs[0].xlabel('Salinity')\n",
    "#axs[0].ylabel('NO')\n",
    "axs[1].plot(qSA50,qNO50,'.')\n",
    "#axs[1].xlabel('Salinity')\n",
    "#axs[1].ylabel('NO')"
   ]
  },
  {
   "cell_type": "code",
   "execution_count": 39,
   "metadata": {
    "collapsed": false
   },
   "outputs": [
    {
     "name": "stdout",
     "output_type": "stream",
     "text": [
      "-10.7173052585 -0.610077830148 146.678340513\n"
     ]
    },
    {
     "data": {
      "text/plain": [
       "<matplotlib.text.Text at 0x7fc266eb1ac8>"
      ]
     },
     "execution_count": 39,
     "metadata": {},
     "output_type": "execute_result"
    },
    {
     "data": {
      "image/png": "[encoded data removed]",
      "text/plain": [
       "<matplotlib.figure.Figure at 0x7fc26708f1d0>"
      ]
     },
     "metadata": {},
     "output_type": "display_data"
    }
   ],
   "source": [
    "a=np.vstack([qTC50,qSA50,np.ones(len(qTC50))]).T\n",
    "a2=np.vstack([qTC,qSA,np.ones(len(qTC))]).T\n",
    "m = np.linalg.lstsq(a,qNO50)[0]\n",
    "mT, mS, mC = m\n",
    "print(mT, mS, mC)\n",
    "plt.plot(qNO50,np.dot(a,m),'.')\n",
    "plt.xlabel('Si')\n",
    "plt.ylabel('Si, linear model')\n",
    "SSE=np.dot((qNO50-np.dot(a,m)),(qNO50-np.dot(a,m)).T)\n",
    "plt.title('Linear Model: Si(T,S), Press>80')"
   ]
  },
  {
   "cell_type": "code",
   "execution_count": 40,
   "metadata": {
    "collapsed": false
   },
   "outputs": [
    {
     "data": {
      "text/plain": [
       "[<matplotlib.lines.Line2D at 0x7fc266e06320>]"
      ]
     },
     "execution_count": 40,
     "metadata": {},
     "output_type": "execute_result"
    },
    {
     "data": {
      "image/png": "[encoded data removed]",
      "text/plain": [
       "<matplotlib.figure.Figure at 0x7fc2670be208>"
      ]
     },
     "metadata": {},
     "output_type": "display_data"
    }
   ],
   "source": [
    "# umol/L=mmol/m**3, so all NO units the same\n",
    "q=session.query(JDFLocs.ObsID, Station.StartYear,Station.StartMonth,Press,Obs.Silicate,Tem,SA,Station.StartDay).select_from(Obs).\\\n",
    "        join(JDFLocs,JDFLocs.ObsID==Obs.ID).join(Station,Station.ID==Obs.StationTBLID).\\\n",
    "        join(Calcs,Calcs.ObsID==Obs.ID).filter(SA<38).filter(SA>0).filter(Obs.Silicate!=None).\\\n",
    "        filter(Tem!=None).filter(SA!=None).filter(Press<120).filter(Press!=None).\\\n",
    "        all()\n",
    "#for row in q:\n",
    "#    print(row)\n",
    "\n",
    "qYr=[]\n",
    "qMn=[]\n",
    "qDy=[]\n",
    "qP=[]\n",
    "qNO=[]\n",
    "qTC=[]\n",
    "qSA=[]\n",
    "qNO50=[]\n",
    "qSA50=[]\n",
    "qTC50=[]\n",
    "date=[]\n",
    "for OID, Yr, Mn, P, NO3, T, S_A, dy in q:\n",
    "    qYr.append(Yr)\n",
    "    qMn.append(Mn)\n",
    "    qDy.append(dy)\n",
    "    qP.append(P)\n",
    "    qNO.append(NO3)\n",
    "    qTC.append(gsw.CT_from_t(S_A,T,P))\n",
    "    qSA.append(S_A)\n",
    "    date.append(dt.date(int(Yr),int(Mn),int(dy)))\n",
    "    if P>80:\n",
    "        qNO50.append(NO3)\n",
    "        qTC50.append(gsw.CT_from_t(S_A,T,P))\n",
    "        qSA50.append(S_A)\n",
    "\n",
    "qSA=np.array(qSA)\n",
    "qTC=np.array(qTC)\n",
    "qP=np.array(qP)\n",
    "qNO=np.array(qNO)\n",
    "qSA50=np.array(qSA50)\n",
    "qTC50=np.array(qTC50)\n",
    "date=np.array(date)\n",
    "YD=0.0*qTC\n",
    "for i in range(0,len(YD)):\n",
    "    YD[i]=date[i].timetuple().tm_yday\n",
    "\n",
    "qNO50=np.array(qNO50)\n",
    "\n",
    "fig,axs=plt.subplots(1,2)\n",
    "#plt.axis([28,35,0,40])\n",
    "axs[0].plot(qSA,qNO,'.')\n",
    "#axs[0].xlabel('Salinity')\n",
    "#axs[0].ylabel('NO')\n",
    "axs[1].plot(qSA50,qNO50,'.')\n",
    "#axs[1].xlabel('Salinity')\n",
    "#axs[1].ylabel('NO')"
   ]
  },
  {
   "cell_type": "code",
   "execution_count": 41,
   "metadata": {
    "collapsed": false
   },
   "outputs": [
    {
     "name": "stdout",
     "output_type": "stream",
     "text": [
      "0\n",
      "1\n",
      "2\n",
      "3\n",
      "4\n",
      "5\n",
      "6\n",
      "7\n",
      "8\n",
      "9\n",
      "10\n",
      "11\n",
      "12\n",
      "13\n",
      "14\n",
      "15\n",
      "16\n",
      "17\n",
      "18\n",
      "19\n",
      "20\n",
      "21\n",
      "22\n",
      "23\n",
      "24\n",
      "25\n",
      "26\n",
      "27\n",
      "28\n",
      "29\n",
      "30\n",
      "31\n",
      "32\n",
      "33\n",
      "34\n",
      "35\n",
      "36\n",
      "37\n",
      "38\n",
      "39\n",
      "40\n",
      "41\n",
      "42\n",
      "43\n",
      "44\n",
      "45\n",
      "46\n",
      "47\n",
      "48\n",
      "49\n",
      "50\n",
      "51\n"
     ]
    }
   ],
   "source": [
    "sidict,simat=ginterp2d(YD,365,qP,0,qNO,30,10,ydays,zupper)"
   ]
  },
  {
   "cell_type": "code",
   "execution_count": 42,
   "metadata": {
    "collapsed": false
   },
   "outputs": [
    {
     "data": {
      "image/png": "[encoded data removed]",
      "text/plain": [
       "<matplotlib.figure.Figure at 0x7fc266f1acf8>"
      ]
     },
     "metadata": {},
     "output_type": "display_data"
    }
   ],
   "source": [
    "fig, axs = plt.subplots(2,1,figsize=(8,6))\n",
    "\n",
    "mesh0=axs[0].pcolormesh(mC +mT*TS.variables['votemper'][5,:,0,0:100]+mS*TS.variables['vosaline'][5,:,0,0:100])\n",
    "cb0=fig.colorbar(mesh0,ax=axs[0])\n",
    "\n",
    "mesh1=axs[1].pcolormesh(simat)\n",
    "cb1=fig.colorbar(mesh1,ax=axs[1])"
   ]
  },
  {
   "cell_type": "code",
   "execution_count": 43,
   "metadata": {
    "collapsed": false
   },
   "outputs": [
    {
     "name": "stdout",
     "output_type": "stream",
     "text": [
      "(52, 40, 1, 870)\n"
     ]
    }
   ],
   "source": [
    "funfit=mC +mT*TS.variables['votemper'][:,:,:,:]+mS*TS.variables['vosaline'][:,:,:,:]\n",
    "simat_2=np.expand_dims(simat,axis=2)\n",
    "simat_2=np.expand_dims(simat_2,axis=3)\n",
    "simat_3=np.tile(simat_2,(1,1,1,TS.variables['votemper'].shape[3]))\n",
    "clim=np.zeros(TS.variables['votemper'].shape)\n",
    "clim[:,0:27,:,:]=simat_3\n",
    "print(clim.shape)"
   ]
  },
  {
   "cell_type": "code",
   "execution_count": 44,
   "metadata": {
    "collapsed": true
   },
   "outputs": [],
   "source": [
    "voSi[:,:,:,:]=zcoeff*funfit+(1-zcoeff)*clim"
   ]
  },
  {
   "cell_type": "code",
   "execution_count": 45,
   "metadata": {
    "collapsed": true
   },
   "outputs": [],
   "source": [
    "new.close()"
   ]
  },
  {
   "cell_type": "code",
   "execution_count": 46,
   "metadata": {
    "collapsed": true
   },
   "outputs": [],
   "source": [
    "TS.close()"
   ]
  },
  {
   "cell_type": "markdown",
   "metadata": {},
   "source": [
    "# Northern OBCs:"
   ]
  },
  {
   "cell_type": "code",
   "execution_count": 47,
   "metadata": {
    "collapsed": true
   },
   "outputs": [],
   "source": [
    "TS = nc.Dataset('/data/dlatorne/MEOPAR/nowcast-green/open_boundaries/north/SalishSea_north_TEOS10.nc')"
   ]
  },
  {
   "cell_type": "code",
   "execution_count": 48,
   "metadata": {
    "collapsed": true
   },
   "outputs": [],
   "source": [
    "new = nc.Dataset('/ocean/eolson/MEOPAR/NEMO-3.6-inputs/boundary_conditions/bioOBC_full_north.nc', 'w', zlib=True)\n",
    "#Copy dimensions\n",
    "for dname, the_dim in TS.dimensions.items():\n",
    "    #print (dname, len(the_dim) if not the_dim.isunlimited() else None)\n",
    "    new.createDimension(dname, len(the_dim) if not the_dim.isunlimited() else None)"
   ]
  },
  {
   "cell_type": "code",
   "execution_count": 49,
   "metadata": {
    "collapsed": true
   },
   "outputs": [],
   "source": [
    "# create dimension variables:\n",
    "# deptht\n",
    "deptht=new.createVariable('deptht','float32',('deptht',))\n",
    "deptht.long_name = 'Vertical T Levels'\n",
    "deptht.units = 'm'\n",
    "deptht.positive = 'down'\n",
    "deptht.valid_range = np.array((4., 428.))\n",
    "deptht[:]=TS.variables['deptht']\n",
    "\n",
    "#nav_lat\n",
    "nav_lat = new.createVariable('nav_lat','float32',('yb','xbT'))\n",
    "nav_lat.long_name = TS.variables['nav_lat'].long_name\n",
    "nav_lat.units = TS.variables['nav_lat'].units\n",
    "nav_lat[:] = TS.variables['nav_lat']\n",
    "\n",
    "#nav_lon\n",
    "nav_lon = new.createVariable('nav_lon','float32',('yb','xbT'))\n",
    "nav_lon.long_name = TS.variables['nav_lon'].long_name\n",
    "nav_lon.units = TS.variables['nav_lon'].units\n",
    "nav_lon[:]=TS.variables['nav_lon']\n",
    "\n",
    "# nbidta\n",
    "nbidta=new.createVariable('nbidta','int32',('yb','xbT'))\n",
    "nbidta.long_name = TS.variables['nbidta'].long_name\n",
    "nbidta.units = TS.variables['nbidta'].units\n",
    "nbidta[:]=TS.variables['nbidta']\n",
    "\n",
    "# nbjdta\n",
    "nbjdta=new.createVariable('nbjdta','int32',('yb','xbT'))\n",
    "nbjdta.long_name = TS.variables['nbjdta'].long_name\n",
    "nbjdta.units = TS.variables['nbjdta'].units\n",
    "nbjdta[:]=TS.variables['nbjdta']\n",
    "\n",
    "# nbrdta\n",
    "nbrdta=new.createVariable('nbrdta','int32',('yb','xbT'))\n",
    "nbrdta.long_name = TS.variables['nbrdta'].long_name\n",
    "nbrdta.units = TS.variables['nbrdta'].units\n",
    "nbrdta[:]=TS.variables['nbrdta']\n",
    "\n",
    "# time_counter\n",
    "time_counter = new.createVariable('time_counter', 'float32', ('time_counter'))\n",
    "time_counter.long_name = 'Time axis'\n",
    "time_counter.axis = 'T'\n",
    "time_counter.units = 'weeks since beginning of year'\n",
    "time_counter[:]=TS.variables['time_counter']"
   ]
  },
  {
   "cell_type": "code",
   "execution_count": 50,
   "metadata": {
    "collapsed": true
   },
   "outputs": [],
   "source": [
    "# variables\n",
    "#NO3, Si, NH4, PHY, PHY2, MYRI, MICZ, POC, DOC, bSi\n",
    "\n",
    "# NO3\n",
    "voNO3 = new.createVariable('NO3', 'float32', \n",
    "                               ('time_counter','deptht','yb','xbT'))\n",
    "voNO3.grid = TS.variables['votemper'].grid\n",
    "voNO3.units = 'muM'\n",
    "voNO3.long_name = 'Nitrate' \n",
    "# don't yet set values\n",
    "\n",
    "#Si\n",
    "voSi = new.createVariable('Si', 'float32', \n",
    "                               ('time_counter','deptht','yb','xbT'))\n",
    "voSi.grid = TS.variables['votemper'].grid\n",
    "voSi.units = 'muM'\n",
    "voSi.long_name = 'Silica' \n",
    "# don't yet set values\n",
    "\n",
    "#NH4\n",
    "voNH4 = new.createVariable('NH4', 'float32', \n",
    "                               ('time_counter','deptht','yb','xbT'))\n",
    "voNH4.grid = TS.variables['votemper'].grid\n",
    "voNH4.units = 'muM'\n",
    "voNH4.long_name = 'Ammonia' \n",
    "# don't yet set values\n",
    "\n",
    "#DIA\n",
    "voDIA = new.createVariable('DIA', 'float32', \n",
    "                               ('time_counter','deptht','yb','xbT'))\n",
    "voDIA.units = 'muM N'\n",
    "voDIA.long_name = 'Diatoms'\n",
    "voDIA.grid = TS.variables['votemper'].grid\n",
    "voDIA[:]=val_DIA\n",
    "\n",
    "#CRY\n",
    "voCRY = new.createVariable('CRY', 'float32', \n",
    "                               ('time_counter','deptht','yb','xbT'))\n",
    "voCRY.units = 'muM N'\n",
    "voCRY.long_name = 'Cryptophytes'\n",
    "voCRY.grid = TS.variables['votemper'].grid\n",
    "voCRY[:]=val_CRY\n",
    "\n",
    "#MYRI\n",
    "voMYRI = new.createVariable('MYRI', 'float32', \n",
    "                               ('time_counter','deptht','yb','xbT'))\n",
    "voMYRI.units = 'muM N'\n",
    "voMYRI.long_name = 'M. rubra' \n",
    "voMYRI.grid = TS.variables['votemper'].grid\n",
    "voMYRI[:]=val_MYRI\n",
    "\n",
    "#MICZ\n",
    "voMICZ = new.createVariable('MICZ', 'float32', \n",
    "                               ('time_counter','deptht','yb','xbT'))\n",
    "voMICZ.units = 'muM N'\n",
    "voMICZ.long_name = 'Microzooplankton' \n",
    "voMICZ.grid = TS.variables['votemper'].grid\n",
    "voMICZ[:]=val_MICZ\n",
    "\n",
    "#PON\n",
    "voPON = new.createVariable('PON', 'float32', \n",
    "                               ('time_counter','deptht','yb','xbT'))\n",
    "voPON.units = 'muM N'\n",
    "voPON.long_name = 'Particulate Organic Nitrogen'\n",
    "voPON.grid = TS.variables['votemper'].grid\n",
    "#voPON[:] = val_PON\n",
    "\n",
    "#DON\n",
    "voDON = new.createVariable('DON', 'float32', \n",
    "                               ('time_counter','deptht','yb','xbT'))\n",
    "voDON.units = 'muM N'\n",
    "voDON.long_name = 'Dissolved Organic Nitrogen'\n",
    "voDON.grid = TS.variables['votemper'].grid\n",
    "#voDON[:]=DON_val\n",
    "\n",
    "#bSi\n",
    "vobSi = new.createVariable('bSi', 'float32', \n",
    "                               ('time_counter','deptht','yb','xbT'))\n",
    "vobSi.units = 'muM N'\n",
    "vobSi.long_name = 'Biogenic Silica'\n",
    "vobSi.grid = TS.variables['votemper'].grid\n",
    "vobSi[:]=val_bSi\n",
    "\n",
    "#O2\n",
    "voO2 = new.createVariable('O2', 'float32', \n",
    "                               ('time_counter','deptht','yb','xbT'))\n",
    "#voO2.units = ''\n",
    "voO2.long_name = 'oxygen'\n",
    "voO2.grid = TS.variables['votemper'].grid\n",
    "voO2[:]=val_Oxy\n"
   ]
  },
  {
   "cell_type": "code",
   "execution_count": 51,
   "metadata": {
    "collapsed": true
   },
   "outputs": [],
   "source": [
    "for ii in range(0,zs.size):\n",
    "    voNH4[:,ii,0,:]=AmmProf[ii]"
   ]
  },
  {
   "cell_type": "code",
   "execution_count": 52,
   "metadata": {
    "collapsed": true
   },
   "outputs": [],
   "source": [
    "voDON[:,:,:,:]=val_DON\n",
    "voPON[:,:,:,:]=val_PON"
   ]
  },
  {
   "cell_type": "code",
   "execution_count": 53,
   "metadata": {
    "collapsed": false
   },
   "outputs": [
    {
     "name": "stdout",
     "output_type": "stream",
     "text": [
      "-4.55188235217 2.15074816221 -7.90228822138\n"
     ]
    },
    {
     "data": {
      "text/plain": [
       "<matplotlib.text.Text at 0x7fc266df5ef0>"
      ]
     },
     "execution_count": 53,
     "metadata": {},
     "output_type": "execute_result"
    },
    {
     "data": {
      "image/png": "[encoded data removed]",
      "text/plain": [
       "<matplotlib.figure.Figure at 0x7fc266d13ef0>"
      ]
     },
     "metadata": {},
     "output_type": "display_data"
    }
   ],
   "source": [
    "# umol/L=mmol/m**3, so all NO units the same\n",
    "q=session.query(JDFLocs.ObsID, Station.StartYear,Station.StartMonth,Press,NO,Tem,SA,Station.StartDay).select_from(Obs).\\\n",
    "        join(JDFLocs,JDFLocs.ObsID==Obs.ID).join(Station,Station.ID==Obs.StationTBLID).\\\n",
    "        join(Calcs,Calcs.ObsID==Obs.ID).filter(SA<38).filter(SA>0).filter(NO!=None).\\\n",
    "        filter(Tem!=None).filter(SA!=None).filter(Press!=None).\\\n",
    "        all()\n",
    "#for row in q:\n",
    "#    print(row)\n",
    "\n",
    "qYr=[]\n",
    "qMn=[]\n",
    "qDy=[]\n",
    "qP=[]\n",
    "qNO=[]\n",
    "qTC=[]\n",
    "qSA=[]\n",
    "qNO50=[]\n",
    "qSA50=[]\n",
    "qTC50=[]\n",
    "date=[]\n",
    "for OID, Yr, Mn, P, NO3, T, S_A, dy in q:\n",
    "    qYr.append(Yr)\n",
    "    qMn.append(Mn)\n",
    "    qDy.append(dy)\n",
    "    qP.append(P)\n",
    "    qNO.append(NO3)\n",
    "    qTC.append(gsw.CT_from_t(S_A,T,P))\n",
    "    qSA.append(S_A)\n",
    "    date.append(dt.date(int(Yr),int(Mn),int(dy)))\n",
    "    if P>80:\n",
    "        qNO50.append(NO3)\n",
    "        qTC50.append(gsw.CT_from_t(S_A,T,P))\n",
    "        qSA50.append(S_A)\n",
    "\n",
    "qSA=np.array(qSA)\n",
    "qTC=np.array(qTC)\n",
    "qP=np.array(qP)\n",
    "qNO=np.array(qNO)\n",
    "qSA50=np.array(qSA50)\n",
    "qTC50=np.array(qTC50)\n",
    "date=np.array(date)\n",
    "YD=0.0*qTC\n",
    "for i in range(0,len(YD)):\n",
    "    YD[i]=date[i].timetuple().tm_yday\n",
    "\n",
    "qNO50=np.array(qNO50)\n",
    "\n",
    "fig,axs=plt.subplots(1,2)\n",
    "#plt.axis([28,35,0,40])\n",
    "axs[0].plot(qSA,qNO,'.')\n",
    "#axs[0].xlabel('Salinity')\n",
    "#axs[0].ylabel('NO')\n",
    "axs[1].plot(qSA50,qNO50,'.')\n",
    "#axs[1].xlabel('Salinity')\n",
    "#axs[1].ylabel('NO')\n",
    "a=np.vstack([qTC50,qSA50,np.ones(len(qTC50))]).T\n",
    "a2=np.vstack([qTC,qSA,np.ones(len(qTC))]).T\n",
    "m = np.linalg.lstsq(a,qNO50)[0]\n",
    "mT, mS, mC = m\n",
    "print(mT, mS, mC)\n",
    "plt.plot(qNO50,np.dot(a,m),'.')\n",
    "plt.xlabel('NO')\n",
    "plt.ylabel('NO, linear model')\n",
    "SSE=np.dot((qNO50-np.dot(a,m)),(qNO50-np.dot(a,m)).T)\n",
    "plt.title('Linear Model: NO(T,S), Press>80')\n"
   ]
  },
  {
   "cell_type": "code",
   "execution_count": 54,
   "metadata": {
    "collapsed": false
   },
   "outputs": [
    {
     "name": "stdout",
     "output_type": "stream",
     "text": [
      "(2, 40, 1, 300)\n"
     ]
    }
   ],
   "source": [
    "\n",
    "funfit=mC +mT*TS.variables['votemper'][:,:,:,:]+mS*TS.variables['vosaline'][:,:,:,:]\n",
    "print(funfit.shape)"
   ]
  },
  {
   "cell_type": "code",
   "execution_count": 55,
   "metadata": {
    "collapsed": false
   },
   "outputs": [
    {
     "name": "stdout",
     "output_type": "stream",
     "text": [
      "(2, 40, 1, 300)\n"
     ]
    }
   ],
   "source": [
    "nmat_2=np.expand_dims(nmat,axis=2)\n",
    "nmat_2=np.expand_dims(nmat_2,axis=3)\n",
    "nmat_3=np.tile(nmat_2,(1,1,1,TS.variables['votemper'].shape[3]))\n",
    "clim=np.zeros(TS.variables['votemper'].shape)\n",
    "clim[:,0:27,:,:]=nmat_3[0:2,:,:,:]\n",
    "print(clim.shape)"
   ]
  },
  {
   "cell_type": "code",
   "execution_count": 56,
   "metadata": {
    "collapsed": false
   },
   "outputs": [],
   "source": [
    "voNO3[:,:,:,:]=zcoeff[0:2,:,:,0:300]*funfit+(1-zcoeff[0:2,:,:,0:300])*clim"
   ]
  },
  {
   "cell_type": "code",
   "execution_count": 57,
   "metadata": {
    "collapsed": false
   },
   "outputs": [
    {
     "data": {
      "text/plain": [
       "[<matplotlib.lines.Line2D at 0x7fc267345470>]"
      ]
     },
     "execution_count": 57,
     "metadata": {},
     "output_type": "execute_result"
    },
    {
     "data": {
      "image/png": "[encoded data removed]",
      "text/plain": [
       "<matplotlib.figure.Figure at 0x7fc267093080>"
      ]
     },
     "metadata": {},
     "output_type": "display_data"
    }
   ],
   "source": [
    "# umol/L=mmol/m**3, so all NO units the same\n",
    "q=session.query(JDFLocs.ObsID, Station.StartYear,Station.StartMonth,Press,Obs.Silicate,Tem,SA,Station.StartDay).select_from(Obs).\\\n",
    "        join(JDFLocs,JDFLocs.ObsID==Obs.ID).join(Station,Station.ID==Obs.StationTBLID).\\\n",
    "        join(Calcs,Calcs.ObsID==Obs.ID).filter(SA<38).filter(SA>0).filter(Obs.Silicate!=None).\\\n",
    "        filter(Tem!=None).filter(SA!=None).filter(Press!=None).\\\n",
    "        all()\n",
    "#for row in q:\n",
    "#    print(row)\n",
    "\n",
    "qYr=[]\n",
    "qMn=[]\n",
    "qDy=[]\n",
    "qP=[]\n",
    "qNO=[]\n",
    "qTC=[]\n",
    "qSA=[]\n",
    "qNO50=[]\n",
    "qSA50=[]\n",
    "qTC50=[]\n",
    "date=[]\n",
    "for OID, Yr, Mn, P, NO3, T, S_A, dy in q:\n",
    "    qYr.append(Yr)\n",
    "    qMn.append(Mn)\n",
    "    qDy.append(dy)\n",
    "    qP.append(P)\n",
    "    qNO.append(NO3)\n",
    "    qTC.append(gsw.CT_from_t(S_A,T,P))\n",
    "    qSA.append(S_A)\n",
    "    date.append(dt.date(int(Yr),int(Mn),int(dy)))\n",
    "    if P>80:\n",
    "        qNO50.append(NO3)\n",
    "        qTC50.append(gsw.CT_from_t(S_A,T,P))\n",
    "        qSA50.append(S_A)\n",
    "\n",
    "qSA=np.array(qSA)\n",
    "qTC=np.array(qTC)\n",
    "qP=np.array(qP)\n",
    "qNO=np.array(qNO)\n",
    "qSA50=np.array(qSA50)\n",
    "qTC50=np.array(qTC50)\n",
    "date=np.array(date)\n",
    "YD=0.0*qTC\n",
    "for i in range(0,len(YD)):\n",
    "    YD[i]=date[i].timetuple().tm_yday\n",
    "\n",
    "qNO50=np.array(qNO50)\n",
    "\n",
    "fig,axs=plt.subplots(1,2)\n",
    "#plt.axis([28,35,0,40])\n",
    "axs[0].plot(qSA,qNO,'.')\n",
    "#axs[0].xlabel('Salinity')\n",
    "#axs[0].ylabel('NO')\n",
    "axs[1].plot(qSA50,qNO50,'.')\n",
    "#axs[1].xlabel('Salinity')\n",
    "#axs[1].ylabel('NO')"
   ]
  },
  {
   "cell_type": "code",
   "execution_count": 58,
   "metadata": {
    "collapsed": false
   },
   "outputs": [
    {
     "name": "stdout",
     "output_type": "stream",
     "text": [
      "-10.7173052585 -0.610077830148 146.678340513\n"
     ]
    },
    {
     "data": {
      "text/plain": [
       "<matplotlib.text.Text at 0x7fc267a0be80>"
      ]
     },
     "execution_count": 58,
     "metadata": {},
     "output_type": "execute_result"
    },
    {
     "data": {
      "image/png": "[encoded data removed]",
      "text/plain": [
       "<matplotlib.figure.Figure at 0x7fc267ae8160>"
      ]
     },
     "metadata": {},
     "output_type": "display_data"
    }
   ],
   "source": [
    "a=np.vstack([qTC50,qSA50,np.ones(len(qTC50))]).T\n",
    "a2=np.vstack([qTC,qSA,np.ones(len(qTC))]).T\n",
    "m = np.linalg.lstsq(a,qNO50)[0]\n",
    "mT, mS, mC = m\n",
    "print(mT, mS, mC)\n",
    "plt.plot(qNO50,np.dot(a,m),'.')\n",
    "plt.xlabel('Si')\n",
    "plt.ylabel('Si, linear model')\n",
    "SSE=np.dot((qNO50-np.dot(a,m)),(qNO50-np.dot(a,m)).T)\n",
    "plt.title('Linear Model: Si(T,S), Press>80')"
   ]
  },
  {
   "cell_type": "code",
   "execution_count": 59,
   "metadata": {
    "collapsed": false
   },
   "outputs": [
    {
     "name": "stdout",
     "output_type": "stream",
     "text": [
      "(2, 40, 1, 300)\n"
     ]
    }
   ],
   "source": [
    "funfit=mC +mT*TS.variables['votemper'][:,:,:,:]+mS*TS.variables['vosaline'][:,:,:,:]\n",
    "simat_2=np.expand_dims(simat,axis=2)\n",
    "simat_2=np.expand_dims(simat_2,axis=3)\n",
    "simat_3=np.tile(simat_2,(1,1,1,TS.variables['votemper'].shape[3]))\n",
    "clim=np.zeros(TS.variables['votemper'].shape)\n",
    "clim[:,0:27,:,:]=simat_3[0:2,:,:,:]\n",
    "print(clim.shape)"
   ]
  },
  {
   "cell_type": "code",
   "execution_count": 60,
   "metadata": {
    "collapsed": true
   },
   "outputs": [],
   "source": [
    "voSi[:,:,:,:]=zcoeff[0:2,:,:,0:300]*funfit+(1-zcoeff[0:2,:,:,0:300])*clim"
   ]
  },
  {
   "cell_type": "code",
   "execution_count": 61,
   "metadata": {
    "collapsed": false
   },
   "outputs": [
    {
     "name": "stdout",
     "output_type": "stream",
     "text": [
      "441.466 0.5\n",
      "50.5038 50.413\n",
      "-126.033 -126.219\n",
      "61 32\n",
      "896 887\n",
      "9 0\n",
      "1.0 0.0\n",
      "29.9423 -9.08172\n",
      "52.3194 -13.7677\n",
      "0.984827 0.0\n",
      "1e-08 1e-08\n",
      "1e-08 1e-08\n",
      "1e-08 1e-08\n",
      "1e-08 1e-08\n",
      "1.34667 1.34667\n",
      "4.67586 4.67586\n",
      "7.7471e-06 7.7471e-06\n",
      "160.0 160.0\n"
     ]
    }
   ],
   "source": [
    "for ik in new.variables.keys():\n",
    "    print(np.max(new.variables[ik]),np.min(new.variables[ik]))"
   ]
  },
  {
   "cell_type": "code",
   "execution_count": 62,
   "metadata": {
    "collapsed": true
   },
   "outputs": [],
   "source": [
    "new.close()"
   ]
  },
  {
   "cell_type": "code",
   "execution_count": 63,
   "metadata": {
    "collapsed": true
   },
   "outputs": [],
   "source": [
    "TS.close()"
   ]
  },
  {
   "cell_type": "code",
   "execution_count": 64,
   "metadata": {
    "collapsed": true
   },
   "outputs": [],
   "source": [
    "test=nc.Dataset('/ocean/eolson/MEOPAR/NEMO-3.6-inputs/boundary_conditions/bioOBC_full.nc')"
   ]
  },
  {
   "cell_type": "code",
   "execution_count": 65,
   "metadata": {
    "collapsed": false
   },
   "outputs": [
    {
     "name": "stdout",
     "output_type": "stream",
     "text": [
      "<class 'netCDF4._netCDF4.Variable'>\n",
      "float32 NH4(time_counter, deptht, yb, xbT)\n",
      "    grid: SalishSea\n",
      "    units: muM\n",
      "    long_name: Ammonia\n",
      "unlimited dimensions: time_counter\n",
      "current shape = (52, 40, 1, 870)\n",
      "filling on, default _FillValue of 9.969209968386869e+36 used\n",
      "\n",
      "0.984827\n"
     ]
    }
   ],
   "source": [
    "print(test.variables['NH4'])\n",
    "print(np.max(test.variables['NH4']))"
   ]
  },
  {
   "cell_type": "code",
   "execution_count": 66,
   "metadata": {
    "collapsed": false
   },
   "outputs": [
    {
     "data": {
      "image/png": "[encoded data removed]",
      "text/plain": [
       "<matplotlib.figure.Figure at 0x7fc267081278>"
      ]
     },
     "metadata": {},
     "output_type": "display_data"
    }
   ],
   "source": [
    "mesh0=plt.pcolormesh(test.variables['NH4'][0,:,0,:])"
   ]
  },
  {
   "cell_type": "code",
   "execution_count": 67,
   "metadata": {
    "collapsed": false
   },
   "outputs": [
    {
     "name": "stdout",
     "output_type": "stream",
     "text": [
      "441.466 0.5\n",
      "48.7104 48.3507\n",
      "-124.612 -124.946\n",
      "9 0\n",
      "465 379\n",
      "9 0\n",
      "52.0 1.0\n",
      "44.3829 -10.3852\n",
      "96.4887 -20.9073\n",
      "0.984827 0.0\n",
      "1e-08 1e-08\n",
      "1e-08 1e-08\n",
      "1e-08 1e-08\n",
      "1e-08 1e-08\n",
      "1.34667 1.34667\n",
      "4.67586 4.67586\n",
      "7.7471e-06 7.7471e-06\n",
      "160.0 160.0\n"
     ]
    }
   ],
   "source": [
    "for ik in test.variables.keys():\n",
    "    print(np.max(test.variables[ik]),np.min(test.variables[ik]))"
   ]
  },
  {
   "cell_type": "code",
   "execution_count": 68,
   "metadata": {
    "collapsed": true
   },
   "outputs": [],
   "source": [
    "test.close()"
   ]
  },
  {
   "cell_type": "code",
   "execution_count": null,
   "metadata": {
    "collapsed": true
   },
   "outputs": [],
   "source": []
  }
 ],
 "metadata": {
  "kernelspec": {
   "display_name": "Python 3",
   "language": "python",
   "name": "python3"
  },
  "language_info": {
   "codemirror_mode": {
    "name": "ipython",
    "version": 3
   },
   "file_extension": ".py",
   "mimetype": "text/x-python",
   "name": "python",
   "nbconvert_exporter": "python",
   "pygments_lexer": "ipython3",
   "version": "3.4.4"
  }
 },
 "nbformat": 4,
 "nbformat_minor": 0
}
