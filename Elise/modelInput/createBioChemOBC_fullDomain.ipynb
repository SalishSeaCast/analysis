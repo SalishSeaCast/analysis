{
 "cells": [
  {
   "cell_type": "markdown",
   "metadata": {},
   "source": [
    "This notebook will be used to create biochem open boundary conditions, starting with SJDF, for full domain. "
   ]
  },
  {
   "cell_type": "code",
   "execution_count": 1,
   "metadata": {
    "collapsed": false
   },
   "outputs": [],
   "source": [
    "import netCDF4 as nc\n",
    "import numpy as np\n",
    "import matplotlib.pyplot as plt\n",
    "import os\n",
    "\n",
    "# database stuff:\n",
    "import sqlalchemy\n",
    "from sqlalchemy import create_engine, Column, String, Integer, Numeric, MetaData, Table, type_coerce, ForeignKey, case\n",
    "from sqlalchemy.orm import mapper, create_session, relationship, aliased, Session\n",
    "from sqlalchemy.ext.declarative import declarative_base\n",
    "from sqlalchemy import case\n",
    "from sqlalchemy.ext.automap import automap_base\n",
    "import sqlalchemy.types as types\n",
    "import numbers\n",
    "from sqlalchemy.sql import and_, or_, not_, func\n",
    "from sqlalchemy.sql import select\n",
    "import glob\n",
    "import re\n",
    "import gsw\n",
    "\n",
    "%matplotlib inline\n",
    "\n",
    "N2chl=1.600"
   ]
  },
  {
   "cell_type": "raw",
   "metadata": {},
   "source": [
    "variables: NO3, Si, NH4, PHY, PHY2, MYRI, MICZ, POC, DOC, bSi\n",
    "for now, set bio and detritus to zero (PHY,PHY2,MYRI,MICZ)"
   ]
  },
  {
   "cell_type": "markdown",
   "metadata": {},
   "source": [
    "# Load 3D T+S\n"
   ]
  },
  {
   "cell_type": "code",
   "execution_count": 2,
   "metadata": {
    "collapsed": true
   },
   "outputs": [],
   "source": [
    "# define constant values, not yet based on data:\n",
    "val_bSi=7.74709546875e-06\n",
    "val_DIA=1e-8\n",
    "val_CRY=1e-8\n",
    "val_MYRI=1e-8\n",
    "val_MICZ=1e-8\n",
    "val_Oxy = 160.0"
   ]
  },
  {
   "cell_type": "code",
   "execution_count": 3,
   "metadata": {
    "collapsed": false
   },
   "outputs": [],
   "source": [
    "TS = nc.Dataset('/data/dlatorne/MEOPAR/nowcast-green/open_boundaries/west/SalishSea_west_TEOS10.nc')"
   ]
  },
  {
   "cell_type": "code",
   "execution_count": 4,
   "metadata": {
    "collapsed": false
   },
   "outputs": [
    {
     "name": "stdout",
     "output_type": "stream",
     "text": [
      "deptht, nav_lat, nav_lon, nbidta, nbjdta, nbrdta, time_counter, vosaline, votemper, \n"
     ]
    }
   ],
   "source": [
    "s=''\n",
    "for key in TS.variables.keys():\n",
    "    s=s+key+', '\n",
    "print(s)"
   ]
  },
  {
   "cell_type": "code",
   "execution_count": 5,
   "metadata": {
    "collapsed": false
   },
   "outputs": [
    {
     "name": "stdout",
     "output_type": "stream",
     "text": [
      "OrderedDict([('deptht', <class 'netCDF4._netCDF4.Dimension'>: name = 'deptht', size = 40\n",
      "), ('yb', <class 'netCDF4._netCDF4.Dimension'>: name = 'yb', size = 1\n",
      "), ('xbT', <class 'netCDF4._netCDF4.Dimension'>: name = 'xbT', size = 870\n",
      "), ('time_counter', <class 'netCDF4._netCDF4.Dimension'> (unlimited): name = 'time_counter', size = 52\n",
      ")])\n"
     ]
    }
   ],
   "source": [
    "print(TS.dimensions)"
   ]
  },
  {
   "cell_type": "code",
   "execution_count": 6,
   "metadata": {
    "collapsed": false
   },
   "outputs": [
    {
     "name": "stdout",
     "output_type": "stream",
     "text": [
      "deptht (40,)\n",
      "nav_lat (1, 870)\n",
      "nav_lon (1, 870)\n",
      "nbidta (1, 870)\n",
      "nbjdta (1, 870)\n",
      "nbrdta (1, 870)\n",
      "time_counter (52,)\n",
      "vosaline (52, 40, 1, 870)\n",
      "votemper (52, 40, 1, 870)\n"
     ]
    }
   ],
   "source": [
    "for key in TS.variables.keys():\n",
    "    print(key, np.shape(TS.variables[key]))"
   ]
  },
  {
   "cell_type": "code",
   "execution_count": 7,
   "metadata": {
    "collapsed": false
   },
   "outputs": [
    {
     "data": {
      "text/plain": [
       "[<matplotlib.lines.Line2D at 0x7f1e9c0b09e8>]"
      ]
     },
     "execution_count": 7,
     "metadata": {},
     "output_type": "execute_result"
    },
    {
     "data": {
      "image/png": "[encoded data removed]",
      "text/plain": [
       "<matplotlib.figure.Figure at 0x7f1e9c0b0a58>"
      ]
     },
     "metadata": {},
     "output_type": "display_data"
    }
   ],
   "source": [
    "plt.plot(TS.variables['nbidta'][0,:]*50)\n",
    "plt.plot(TS.variables['nbjdta'][0,:])"
   ]
  },
  {
   "cell_type": "code",
   "execution_count": 8,
   "metadata": {
    "collapsed": false
   },
   "outputs": [
    {
     "data": {
      "text/plain": [
       "[<matplotlib.lines.Line2D at 0x7f1e675210b8>]"
      ]
     },
     "execution_count": 8,
     "metadata": {},
     "output_type": "execute_result"
    },
    {
     "data": {
      "image/png": "[encoded data removed]",
      "text/plain": [
       "<matplotlib.figure.Figure at 0x7f1e6752a0b8>"
      ]
     },
     "metadata": {},
     "output_type": "display_data"
    }
   ],
   "source": [
    "plt.plot(TS.variables['vosaline'][5,30,0,:])"
   ]
  },
  {
   "cell_type": "code",
   "execution_count": 9,
   "metadata": {
    "collapsed": false
   },
   "outputs": [
    {
     "data": {
      "text/plain": [
       "[<matplotlib.lines.Line2D at 0x7f1e67485cf8>]"
      ]
     },
     "execution_count": 9,
     "metadata": {},
     "output_type": "execute_result"
    },
    {
     "data": {
      "image/png": "[encoded data removed]",
      "text/plain": [
       "<matplotlib.figure.Figure at 0x7f1e674c9390>"
      ]
     },
     "metadata": {},
     "output_type": "display_data"
    }
   ],
   "source": [
    "plt.plot(TS.variables['deptht'],'k.')"
   ]
  },
  {
   "cell_type": "markdown",
   "metadata": {},
   "source": [
    "#Save to netcdf"
   ]
  },
  {
   "cell_type": "code",
   "execution_count": 10,
   "metadata": {
    "collapsed": false
   },
   "outputs": [],
   "source": [
    "new = nc.Dataset('/ocean/eolson/MEOPAR/NEMO-3.6-inputs/boundary_conditions/bioOBC_full.nc', 'w', zlib=True)\n",
    "#Copy dimensions\n",
    "for dname, the_dim in TS.dimensions.items():\n",
    "    #print (dname, len(the_dim) if not the_dim.isunlimited() else None)\n",
    "    new.createDimension(dname, len(the_dim) if not the_dim.isunlimited() else None)"
   ]
  },
  {
   "cell_type": "code",
   "execution_count": 11,
   "metadata": {
    "collapsed": false
   },
   "outputs": [],
   "source": [
    "# create dimension variables:\n",
    "# deptht\n",
    "deptht=new.createVariable('deptht','float32',('deptht',))\n",
    "deptht.long_name = 'Vertical T Levels'\n",
    "deptht.units = 'm'\n",
    "deptht.positive = 'down'\n",
    "deptht.valid_range = np.array((4., 428.))\n",
    "deptht[:]=TS.variables['deptht']\n",
    "\n",
    "#nav_lat\n",
    "nav_lat = new.createVariable('nav_lat','float32',('yb','xbT'))\n",
    "nav_lat.long_name = TS.variables['nav_lat'].long_name\n",
    "nav_lat.units = TS.variables['nav_lat'].units\n",
    "nav_lat[:] = TS.variables['nav_lat']\n",
    "\n",
    "#nav_lon\n",
    "nav_lon = new.createVariable('nav_lon','float32',('yb','xbT'))\n",
    "nav_lon.long_name = TS.variables['nav_lon'].long_name\n",
    "nav_lon.units = TS.variables['nav_lon'].units\n",
    "nav_lon[:]=TS.variables['nav_lon']\n",
    "\n",
    "# nbidta\n",
    "nbidta=new.createVariable('nbidta','int32',('yb','xbT'))\n",
    "nbidta.long_name = TS.variables['nbidta'].long_name\n",
    "nbidta.units = TS.variables['nbidta'].units\n",
    "nbidta[:]=TS.variables['nbidta']\n",
    "\n",
    "# nbjdta\n",
    "nbjdta=new.createVariable('nbjdta','int32',('yb','xbT'))\n",
    "nbjdta.long_name = TS.variables['nbjdta'].long_name\n",
    "nbjdta.units = TS.variables['nbjdta'].units\n",
    "nbjdta[:]=TS.variables['nbjdta']\n",
    "\n",
    "# nbrdta\n",
    "nbrdta=new.createVariable('nbrdta','int32',('yb','xbT'))\n",
    "nbrdta.long_name = TS.variables['nbrdta'].long_name\n",
    "nbrdta.units = TS.variables['nbrdta'].units\n",
    "nbrdta[:]=TS.variables['nbrdta']\n",
    "\n",
    "# time_counter\n",
    "time_counter = new.createVariable('time_counter', 'float32', ('time_counter'))\n",
    "time_counter.long_name = 'Time axis'\n",
    "time_counter.axis = 'T'\n",
    "time_counter.units = 'weeks since beginning of year'\n",
    "time_counter[:]=TS.variables['time_counter']"
   ]
  },
  {
   "cell_type": "code",
   "execution_count": 12,
   "metadata": {
    "collapsed": false
   },
   "outputs": [
    {
     "name": "stdout",
     "output_type": "stream",
     "text": [
      "<class 'netCDF4._netCDF4.Variable'>\n",
      "float32 vosaline(time_counter, deptht, yb, xbT)\n",
      "    coordinates: nav_lon nav_lat deptht time_counter\n",
      "    grid: SalishSea\n",
      "    units: g/kg\n",
      "    long_name: Reference Salinity\n",
      "unlimited dimensions: time_counter\n",
      "current shape = (52, 40, 1, 870)\n",
      "filling on, default _FillValue of 9.969209968386869e+36 used\n",
      "\n"
     ]
    }
   ],
   "source": [
    "print(TS.variables['vosaline'])"
   ]
  },
  {
   "cell_type": "code",
   "execution_count": 13,
   "metadata": {
    "collapsed": false
   },
   "outputs": [],
   "source": [
    "# variables\n",
    "#NO3, Si, NH4, PHY, PHY2, MYRI, MICZ, POC, DOC, bSi\n",
    "\n",
    "# NO3\n",
    "voNO3 = new.createVariable('NO3', 'float32', \n",
    "                               ('time_counter','deptht','yb','xbT'))\n",
    "voNO3.grid = TS.variables['votemper'].grid\n",
    "voNO3.units = 'muM'\n",
    "voNO3.long_name = 'Nitrate' \n",
    "# don't yet set values\n",
    "\n",
    "#Si\n",
    "voSi = new.createVariable('Si', 'float32', \n",
    "                               ('time_counter','deptht','yb','xbT'))\n",
    "voSi.grid = TS.variables['votemper'].grid\n",
    "voSi.units = 'muM'\n",
    "voSi.long_name = 'Silica' \n",
    "# don't yet set values\n",
    "\n",
    "#NH4\n",
    "voNH4 = new.createVariable('NH4', 'float32', \n",
    "                               ('time_counter','deptht','yb','xbT'))\n",
    "voNH4.grid = TS.variables['votemper'].grid\n",
    "voNH4.units = 'muM'\n",
    "voNH4.long_name = 'Ammonia' \n",
    "# don't yet set values\n",
    "\n",
    "#DIA\n",
    "voDIA = new.createVariable('DIA', 'float32', \n",
    "                               ('time_counter','deptht','yb','xbT'))\n",
    "voDIA.units = 'muM N'\n",
    "voDIA.long_name = 'Diatoms'\n",
    "voDIA.grid = TS.variables['votemper'].grid\n",
    "voDIA[:]=val_DIA\n",
    "\n",
    "#CRY\n",
    "voCRY = new.createVariable('CRY', 'float32', \n",
    "                               ('time_counter','deptht','yb','xbT'))\n",
    "voCRY.units = 'muM N'\n",
    "voCRY.long_name = 'Cryptophytes'\n",
    "voCRY.grid = TS.variables['votemper'].grid\n",
    "voCRY[:]=val_CRY\n",
    "\n",
    "#MYRI\n",
    "voMYRI = new.createVariable('MYRI', 'float32', \n",
    "                               ('time_counter','deptht','yb','xbT'))\n",
    "voMYRI.units = 'muM N'\n",
    "voMYRI.long_name = 'M. rubra' \n",
    "voMYRI.grid = TS.variables['votemper'].grid\n",
    "voMYRI[:]=val_MYRI\n",
    "\n",
    "#MICZ\n",
    "voMICZ = new.createVariable('MICZ', 'float32', \n",
    "                               ('time_counter','deptht','yb','xbT'))\n",
    "voMICZ.units = 'muM N'\n",
    "voMICZ.long_name = 'Microzooplankton' \n",
    "voMICZ.grid = TS.variables['votemper'].grid\n",
    "voMICZ[:]=val_MICZ\n",
    "\n",
    "#PON\n",
    "voPON = new.createVariable('PON', 'float32', \n",
    "                               ('time_counter','deptht','yb','xbT'))\n",
    "voPON.units = 'muM N'\n",
    "voPON.long_name = 'Particulate Organic Nitrogen'\n",
    "voPON.grid = TS.variables['votemper'].grid\n",
    "#voPON[:] = val_PON\n",
    "\n",
    "#DON\n",
    "voDON = new.createVariable('DON', 'float32', \n",
    "                               ('time_counter','deptht','yb','xbT'))\n",
    "voDON.units = 'muM N'\n",
    "voDON.long_name = 'Dissolved Organic Nitrogen'\n",
    "voDON.grid = TS.variables['votemper'].grid\n",
    "#voDON[:]=DON_val\n",
    "\n",
    "#bSi\n",
    "vobSi = new.createVariable('bSi', 'float32', \n",
    "                               ('time_counter','deptht','yb','xbT'))\n",
    "vobSi.units = 'muM N'\n",
    "vobSi.long_name = 'Biogenic Silica'\n",
    "vobSi.grid = TS.variables['votemper'].grid\n",
    "vobSi[:]=val_bSi\n",
    "\n",
    "#O2\n",
    "voO2 = new.createVariable('O2', 'float32', \n",
    "                               ('time_counter','deptht','yb','xbT'))\n",
    "#voO2.units = ''\n",
    "voO2.long_name = 'oxygen'\n",
    "voO2.grid = TS.variables['votemper'].grid\n",
    "voO2[:]=val_Oxy\n"
   ]
  },
  {
   "cell_type": "markdown",
   "metadata": {},
   "source": [
    "# load database for data-based conditions"
   ]
  },
  {
   "cell_type": "code",
   "execution_count": 14,
   "metadata": {
    "collapsed": true
   },
   "outputs": [],
   "source": [
    "# definitions\n",
    "basepath='/ocean/eolson/MEOPAR/obs/'\n",
    "basedir=basepath + 'DFOOPDB/'\n",
    "dbname='DFO_OcProfDB'\n",
    "\n",
    "# engine and reflection\n",
    "Base = automap_base()\n",
    "engine = create_engine('sqlite:///' + basedir + dbname + '.sqlite', echo = False)\n",
    "Base.prepare(engine, reflect=True)\n",
    "Station=Base.classes.StationTBL\n",
    "Obs=Base.classes.ObsTBL\n",
    "JDFLocs=Base.classes.JDFLocsTBL\n",
    "Calcs=Base.classes.CalcsTBL\n",
    "session = create_session(bind = engine, autocommit = False, autoflush = True)\n",
    "\n",
    "# column definitions\n",
    "SA=case([(Calcs.Salinity_Bottle_SA!=None, Calcs.Salinity_Bottle_SA)], else_=\n",
    "         case([(Calcs.Salinity_T0_C0_SA!=None, Calcs.Salinity_T0_C0_SA)], else_=\n",
    "         case([(Calcs.Salinity_T1_C1_SA!=None, Calcs.Salinity_T1_C1_SA)], else_=\n",
    "         case([(Calcs.Salinity_SA!=None, Calcs.Salinity_SA)], else_=\n",
    "         case([(Calcs.Salinity__Unknown_SA!=None, Calcs.Salinity__Unknown_SA)], else_=Calcs.Salinity__Pre1978_SA)\n",
    "        ))))\n",
    "NO=case([(Obs.Nitrate_plus_Nitrite!=None, Obs.Nitrate_plus_Nitrite)], else_=Obs.Nitrate)\n",
    "NOUnits=case([(Obs.Nitrate_plus_Nitrite!=None, Obs.Nitrate_plus_Nitrite_units)], else_=Obs.Nitrate_units)\n",
    "NOFlag=case([(Obs.Nitrate_plus_Nitrite!=None, Obs.Flag_Nitrate_plus_Nitrite)], else_=Obs.Flag_Nitrate)\n",
    "# Obs.Quality_Flag_Nitr does not match any nitrate obs\n",
    "# ISUS not included in this NO\n",
    "Tem=case([(Obs.Temperature!=None, Obs.Temperature)], else_=\n",
    "         case([(Obs.Temperature_Primary!=None, Obs.Temperature_Primary)], else_=\n",
    "         case([(Obs.Temperature_Secondary!=None, Obs.Temperature_Secondary)], else_=Obs.Temperature_Reversing)))\n",
    "TemUnits=case([(Obs.Temperature!=None, Obs.Temperature_units)], else_=\n",
    "         case([(Obs.Temperature_Primary!=None, Obs.Temperature_Primary_units)], else_=\n",
    "         case([(Obs.Temperature_Secondary!=None, Obs.Temperature_Secondary_units)], \n",
    "              else_=Obs.Temperature_Reversing_units)))\n",
    "TemFlag=Obs.Quality_Flag_Temp\n",
    "Ox=case([(Calcs.Oxygen_umolL!=None, Calcs.Oxygen_umolL)], else_=Calcs.Oxygen_Dissolved_umolL)\n",
    "OxFlag=case([(Calcs.Oxygen_umolL!=None, Obs.Quality_Flag_Oxyg)], else_=Obs.Flag_Oxygen_Dissolved)\n",
    "Press=case([(Obs.Pressure!=None, Obs.Pressure)], else_=Obs.Pressure_Reversing)"
   ]
  },
  {
   "cell_type": "markdown",
   "metadata": {},
   "source": [
    "Ammonium:"
   ]
  },
  {
   "cell_type": "code",
   "execution_count": 15,
   "metadata": {
    "collapsed": false
   },
   "outputs": [],
   "source": [
    "q=session.query(JDFLocs.ObsID, Station.StartYear,Station.StartMonth,Press,\n",
    "                Obs.Ammonium,Obs.Ammonium_units,Tem,SA).select_from(Obs).\\\n",
    "        join(JDFLocs,JDFLocs.ObsID==Obs.ID).join(Station,Station.ID==Obs.StationTBLID).\\\n",
    "        join(Calcs,Calcs.ObsID==Obs.ID).filter(Obs.Ammonium!=None).\\\n",
    "        all()\n",
    "qYr=[]\n",
    "qMn=[]\n",
    "qP=[]\n",
    "qNH=[]\n",
    "qTC=[]\n",
    "qSA=[]\n",
    "remP=[]\n",
    "remNH=[]\n",
    "for OID, Yr, Mn, P, NH, un, T, S_A in q:\n",
    "    # throw out 1 data point that seems unusually high\n",
    "    if not (P>75 and NH >.2):\n",
    "        qYr.append(Yr)\n",
    "        qMn.append(Mn)\n",
    "        qP.append(P)\n",
    "        qNH.append(NH)\n",
    "        qTC.append(gsw.CT_from_t(S_A,T,P))\n",
    "        qSA.append(S_A)\n",
    "    else:\n",
    "        remP.append(P)\n",
    "        remNH.append(NH)\n",
    "\n",
    "qYR=np.array(qYr)\n",
    "qMn=np.array(qMn)\n",
    "qP=np.array(qP)\n",
    "qNH=np.array(qNH)\n",
    "qTC=np.array(qTC)\n",
    "qSA=np.array(qSA)\n",
    "remP=np.array(remP)\n",
    "remNH=np.array(remNH)"
   ]
  },
  {
   "cell_type": "code",
   "execution_count": 16,
   "metadata": {
    "collapsed": true
   },
   "outputs": [],
   "source": [
    "def ginterp(xval,xPeriod,yval,L,xlocs):\n",
    "    # if not periodic, xPeriod=0\n",
    "    fil=np.empty(np.size(xlocs))\n",
    "    s=L/2.355\n",
    "    for ii in range(0,xlocs.size):\n",
    "        t=xlocs[ii]\n",
    "        diff=[min(abs(x-t),abs(x-t+xPeriod), abs(x-t-xPeriod)) for x in xval]\n",
    "        weight=[np.exp(-.5*x**2/s**2) if sum(diff<x)<2 or x < 5 else 0.0 for x in diff]\n",
    "        #weight=[np.exp(-.5*x**2/s**2) for x in diff]\n",
    "        weight=np.array(weight)\n",
    "        fil[ii]=np.sum(weight*yval)/np.sum(weight)\n",
    "    return(fil)"
   ]
  },
  {
   "cell_type": "code",
   "execution_count": 17,
   "metadata": {
    "collapsed": false
   },
   "outputs": [
    {
     "name": "stderr",
     "output_type": "stream",
     "text": [
      "/home/eolson/anaconda3/envs/teos10/lib/python3.4/site-packages/ipykernel/__main__.py:11: RuntimeWarning: invalid value encountered in double_scalars\n"
     ]
    },
    {
     "data": {
      "text/plain": [
       "[<matplotlib.lines.Line2D at 0x7f1e674308d0>]"
      ]
     },
     "execution_count": 17,
     "metadata": {},
     "output_type": "execute_result"
    },
    {
     "data": {
      "image/png": "[encoded data removed]",
      "text/plain": [
       "<matplotlib.figure.Figure at 0x7f1e67430c50>"
      ]
     },
     "metadata": {},
     "output_type": "display_data"
    }
   ],
   "source": [
    "# create depth-weighted mean profile using gaussian filter\n",
    "zs=np.array(TS.variables['deptht'])\n",
    "plt.plot(qNH,-qP,'k.')\n",
    "AmmProf=ginterp(qP,0.0,qNH,10,zs)\n",
    "plt.plot(AmmProf,-zs,'r-')\n",
    "plt.plot(remNH,-remP,'kx')"
   ]
  },
  {
   "cell_type": "code",
   "execution_count": 18,
   "metadata": {
    "collapsed": false
   },
   "outputs": [],
   "source": [
    "for ii in range(0,zs.size):\n",
    "    voNH4[:,ii,0,:]=AmmProf[ii]"
   ]
  },
  {
   "cell_type": "markdown",
   "metadata": {
    "collapsed": true
   },
   "source": [
    "DON"
   ]
  },
  {
   "cell_type": "code",
   "execution_count": 19,
   "metadata": {
    "collapsed": false
   },
   "outputs": [
    {
     "data": {
      "text/plain": [
       "[<matplotlib.lines.Line2D at 0x7f1e66e4db70>]"
      ]
     },
     "execution_count": 19,
     "metadata": {},
     "output_type": "execute_result"
    },
    {
     "data": {
      "image/png": "[encoded data removed]",
      "text/plain": [
       "<matplotlib.figure.Figure at 0x7f1e66f26470>"
      ]
     },
     "metadata": {},
     "output_type": "display_data"
    }
   ],
   "source": [
    "# take nearest available data to SJDF\n",
    "q=session.query(Station.StartYear,Station.StartMonth,Press, Station.Lat, Station.Lon,Obs.Depth,\n",
    "                Obs.Nitrogen_Dissolved_Organic,Obs.Nitrogen_Dissolved_Organic_units,Tem).\\\n",
    "        select_from(Obs).join(Station,Station.ID==Obs.StationTBLID).\\\n",
    "        filter(Obs.Nitrogen_Dissolved_Organic!=None).filter(Obs.Nitrogen_Dissolved_Organic>=0).\\\n",
    "        filter(Station.Lat!=None).filter(Station.Lon!=None).\\\n",
    "        filter(Station.Lat<48.8).filter(Station.Lon<-125).all()\n",
    "\n",
    "qDON=[]\n",
    "for row in q:\n",
    "    qDON.append(row[6])\n",
    "    plt.plot(row[6],row[2],'k.')\n",
    "val_DON=np.mean(qDON)\n",
    "plt.plot((val_DON,val_DON),(0,450),'r--')"
   ]
  },
  {
   "cell_type": "code",
   "execution_count": 20,
   "metadata": {
    "collapsed": true
   },
   "outputs": [],
   "source": [
    "voDON[:,:,:,:]=val_DON"
   ]
  },
  {
   "cell_type": "markdown",
   "metadata": {},
   "source": [
    "PON"
   ]
  },
  {
   "cell_type": "code",
   "execution_count": 21,
   "metadata": {
    "collapsed": false
   },
   "outputs": [
    {
     "data": {
      "text/plain": [
       "[<matplotlib.lines.Line2D at 0x7f1e66ebad30>]"
      ]
     },
     "execution_count": 21,
     "metadata": {},
     "output_type": "execute_result"
    },
    {
     "data": {
      "image/png": "[encoded data removed]",
      "text/plain": [
       "<matplotlib.figure.Figure at 0x7f1e66eb8748>"
      ]
     },
     "metadata": {},
     "output_type": "display_data"
    }
   ],
   "source": [
    "# take nearest available data to SJDF\n",
    "q=session.query(Station.StartYear,Station.StartMonth,Press, Station.Lat, Station.Lon,Obs.Depth,\n",
    "                Obs.Nitrogen_Particulate_Organic,Obs.Nitrogen_Particulate_Organic_units,Tem).\\\n",
    "        select_from(Obs).join(Station,Station.ID==Obs.StationTBLID).\\\n",
    "        filter(Obs.Nitrogen_Particulate_Organic!=None).filter(Obs.Nitrogen_Particulate_Organic>=0).\\\n",
    "        filter(Station.Lat!=None).filter(Station.Lon!=None).\\\n",
    "        filter(Station.Lat<48.8).filter(Station.Lon<-125).all()\n",
    "\n",
    "qPON=[]\n",
    "for row in q:\n",
    "    qPON.append(row[6])\n",
    "    plt.plot(row[6],row[2],'k.')\n",
    "val_PON=np.mean(qPON)\n",
    "plt.plot((val_PON,val_PON),(0,450),'r--')"
   ]
  },
  {
   "cell_type": "code",
   "execution_count": 22,
   "metadata": {
    "collapsed": true
   },
   "outputs": [],
   "source": [
    "voPON[:,:,:,:]=val_PON"
   ]
  },
  {
   "cell_type": "markdown",
   "metadata": {},
   "source": [
    "NO3:"
   ]
  },
  {
   "cell_type": "code",
   "execution_count": 30,
   "metadata": {
    "collapsed": false
   },
   "outputs": [
    {
     "name": "stdout",
     "output_type": "stream",
     "text": [
      "(80451, 1971.0, 6.0, None, 19.4, 'mmol/m**3', 7.1, None, 209)\n",
      "(60308, 2000.0, 8.0, 208.4, 34.5, 'umol/L', 6.9444, 34.07842114607245, 2610)\n"
     ]
    }
   ],
   "source": [
    "q=session.query(JDFLocs.ObsID, Station.StartYear,Station.StartMonth,Press,\n",
    "                NO,NOUnits,Tem,SA, func.count()).select_from(Obs).\\\n",
    "        join(JDFLocs,JDFLocs.ObsID==Obs.ID).join(Station,Station.ID==Obs.StationTBLID).\\\n",
    "        join(Calcs,Calcs.ObsID==Obs.ID).filter(NO!=None).group_by(NOUnits).\\\n",
    "        all()\n",
    "for row in q:\n",
    "    print(row)"
   ]
  },
  {
   "cell_type": "code",
   "execution_count": null,
   "metadata": {
    "collapsed": true
   },
   "outputs": [],
   "source": [
    "# umol/L=mmol/m**3, so all NO units the same\n",
    "q=session.query(JDFLocs.ObsID, Station.StartYear,Station.StartMonth,Press,NO,Tem,SA).select_from(Obs).\\\n",
    "        join(JDFLocs,JDFLocs.ObsID==Obs.ID).join(Station,Station.ID==Obs.StationTBLID).\\\n",
    "        join(Calcs,Calcs.ObsID==Obs.ID).filter(SA<38).filter(SA>0).filter(NO!=None).\\\n",
    "        filter(Tem!=None).filter(SA!=None).filter(Press!=None).\\\n",
    "        all()\n",
    "#for row in q:\n",
    "#    print(row)"
   ]
  },
  {
   "cell_type": "code",
   "execution_count": 48,
   "metadata": {
    "collapsed": false
   },
   "outputs": [
    {
     "data": {
      "text/plain": [
       "[<matplotlib.lines.Line2D at 0x7f1e66279ba8>]"
      ]
     },
     "execution_count": 48,
     "metadata": {},
     "output_type": "execute_result"
    },
    {
     "data": {
      "image/png": "[encoded data removed]",
      "text/plain": [
       "<matplotlib.figure.Figure at 0x7f1e66294198>"
      ]
     },
     "metadata": {},
     "output_type": "display_data"
    }
   ],
   "source": [
    "qYr=[]\n",
    "qMn=[]\n",
    "qP=[]\n",
    "qNO=[]\n",
    "qTC=[]\n",
    "qSA=[]\n",
    "qNO50=[]\n",
    "qSA50=[]\n",
    "qTC50=[]\n",
    "for OID, Yr, Mn, P, NO3, T, S_A in q:\n",
    "    qYr.append(Yr)\n",
    "    qMn.append(Mn)\n",
    "    qP.append(P)\n",
    "    qNO.append(NO3)\n",
    "    qTC.append(gsw.CT_from_t(S_A,T,P))\n",
    "    qSA.append(S_A)\n",
    "    if P>80:\n",
    "        qNO50.append(NO3)\n",
    "        qTC50.append(gsw.CT_from_t(S_A,T,P))\n",
    "        qSA50.append(S_A)\n",
    "fig,axs=plt.subplots(1,2)\n",
    "qSA=np.array(qSA)\n",
    "qTC=np.array(qTC)\n",
    "qP=np.array(qP)\n",
    "qNO=np.array(qNO)\n",
    "qSA50=np.array(qSA50)\n",
    "qTC50=np.array(qTC50)\n",
    "qNO50=np.array(qNO50)\n",
    "#plt.axis([28,35,0,40])\n",
    "axs[0].plot(qSA,qNO,'.')\n",
    "#axs[0].xlabel('Salinity')\n",
    "#axs[0].ylabel('NO')\n",
    "axs[1].plot(qSA50,qNO50,'.')\n",
    "#axs[1].xlabel('Salinity')\n",
    "#axs[1].ylabel('NO')"
   ]
  },
  {
   "cell_type": "code",
   "execution_count": 51,
   "metadata": {
    "collapsed": false
   },
   "outputs": [
    {
     "name": "stdout",
     "output_type": "stream",
     "text": [
      "-4.42338724501 1.92716017533 -1.25030187987\n"
     ]
    },
    {
     "data": {
      "text/plain": [
       "<matplotlib.text.Text at 0x7f1e66160828>"
      ]
     },
     "execution_count": 51,
     "metadata": {},
     "output_type": "execute_result"
    },
    {
     "data": {
      "image/png": "[encoded data removed]",
      "text/plain": [
       "<matplotlib.figure.Figure at 0x7f1e663482b0>"
      ]
     },
     "metadata": {},
     "output_type": "display_data"
    }
   ],
   "source": [
    "a=np.vstack([qTC50,qSA50,np.ones(len(qTC50))]).T\n",
    "a2=np.vstack([qTC,qSA,np.ones(len(qTC))]).T\n",
    "m = np.linalg.lstsq(a,qNO50)[0]\n",
    "mT, mS, mC = m\n",
    "print(mT, mS, mC)\n",
    "plt.plot(qNO50,np.dot(a,m),'.')\n",
    "plt.xlabel('NO')\n",
    "plt.ylabel('NO, linear model')\n",
    "SSE=np.dot((qNO50-np.dot(a,m)),(qNO50-np.dot(a,m)).T)\n",
    "plt.title('Linear Model: NO(T,S), Press>80')\n"
   ]
  },
  {
   "cell_type": "code",
   "execution_count": 53,
   "metadata": {
    "collapsed": false
   },
   "outputs": [
    {
     "data": {
      "text/plain": [
       "[<matplotlib.lines.Line2D at 0x7f1e66067828>]"
      ]
     },
     "execution_count": 53,
     "metadata": {},
     "output_type": "execute_result"
    },
    {
     "data": {
      "image/png": "[encoded data removed]",
      "text/plain": [
       "<matplotlib.figure.Figure at 0x7f1e66167d68>"
      ]
     },
     "metadata": {},
     "output_type": "display_data"
    }
   ],
   "source": [
    "plt.plot(qP,np.dot(a2,m)-qNO,'k.')"
   ]
  },
  {
   "cell_type": "code",
   "execution_count": 55,
   "metadata": {
    "collapsed": false
   },
   "outputs": [
    {
     "data": {
      "text/plain": [
       "[<matplotlib.lines.Line2D at 0x7f1e6605c080>]"
      ]
     },
     "execution_count": 55,
     "metadata": {},
     "output_type": "execute_result"
    },
    {
     "data": {
      "image/png": "[encoded data removed]",
      "text/plain": [
       "<matplotlib.figure.Figure at 0x7f1e6607ec18>"
      ]
     },
     "metadata": {},
     "output_type": "display_data"
    }
   ],
   "source": [
    "plt.plot(qMn,qNO,'k.')"
   ]
  },
  {
   "cell_type": "code",
   "execution_count": 56,
   "metadata": {
    "collapsed": false
   },
   "outputs": [
    {
     "name": "stdout",
     "output_type": "stream",
     "text": [
      "[  0.5000003    1.5000031    2.50001144   3.50003052   4.50007057\n",
      "   5.50015068   6.50031042   7.50062323   8.50123596   9.50243282\n",
      "  10.50476551  11.50931168  12.51816654  13.53541183  14.56898212\n",
      "  15.63428783  16.76117325  18.00713539  19.48178482  21.38997841\n",
      "  24.10025597  28.22991562  34.68575668  44.51772308  58.48433304\n",
      "  76.58558655  98.06295776]\n"
     ]
    }
   ],
   "source": [
    "zupper=np.extract(zs<100, zs)\n",
    "print(zupper)"
   ]
  },
  {
   "cell_type": "code",
   "execution_count": 57,
   "metadata": {
    "collapsed": false
   },
   "outputs": [
    {
     "name": "stdout",
     "output_type": "stream",
     "text": [
      "<class 'netCDF4._netCDF4.Variable'>\n",
      "float32 votemper(time_counter, deptht, yb, xbT)\n",
      "    units: degC\n",
      "    long_name: Temperature\n",
      "    coordinates: nav_lon nav_lat deptht time_counter\n",
      "    grid: SalishSea\n",
      "unlimited dimensions: time_counter\n",
      "current shape = (52, 40, 1, 870)\n",
      "filling on, default _FillValue of 9.969209968386869e+36 used\n",
      "\n"
     ]
    }
   ],
   "source": [
    "print(TS.variables['votemper'])"
   ]
  },
  {
   "cell_type": "code",
   "execution_count": 63,
   "metadata": {
    "collapsed": false
   },
   "outputs": [
    {
     "data": {
      "image/png": "[encoded data removed]",
      "text/plain": [
       "<matplotlib.figure.Figure at 0x7f1e65ff5da0>"
      ]
     },
     "metadata": {},
     "output_type": "display_data"
    }
   ],
   "source": [
    "\n",
    "mesh0=plt.pcolormesh(mC +mT*TS.variables['votemper'][5,:,0,0:100]+mS*TS.variables['vosaline'][5,:,0,0:100])"
   ]
  },
  {
   "cell_type": "code",
   "execution_count": null,
   "metadata": {
    "collapsed": true
   },
   "outputs": [],
   "source": []
  }
 ],
 "metadata": {
  "kernelspec": {
   "display_name": "Python 3",
   "language": "python",
   "name": "python3"
  },
  "language_info": {
   "codemirror_mode": {
    "name": "ipython",
    "version": 3
   },
   "file_extension": ".py",
   "mimetype": "text/x-python",
   "name": "python",
   "nbconvert_exporter": "python",
   "pygments_lexer": "ipython3",
   "version": "3.4.4"
  }
 },
 "nbformat": 4,
 "nbformat_minor": 0
}
