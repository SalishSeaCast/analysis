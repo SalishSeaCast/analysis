{
 "cells": [
  {
   "cell_type": "code",
   "execution_count": 1,
   "metadata": {
    "collapsed": false
   },
   "outputs": [],
   "source": [
    "import netCDF4 as nc\n",
    "from salishsea_tools import tidetools, nc_tools\n",
    "import matplotlib.pyplot as plt\n",
    "import numpy as np\n",
    "import os\n",
    "import re\n",
    "from mpl_toolkits.basemap import Basemap\n",
    "\n",
    "%matplotlib inline\n",
    "resultsDir='/data/eolson/MEOPAR/SS2D/'"
   ]
  },
  {
   "cell_type": "code",
   "execution_count": 2,
   "metadata": {
    "collapsed": false
   },
   "outputs": [],
   "source": [
    "grid=nc.Dataset(os.path.join(resultsDir,'coordinates.nc.Nancy.summer'))"
   ]
  },
  {
   "cell_type": "code",
   "execution_count": 3,
   "metadata": {
    "collapsed": false
   },
   "outputs": [
    {
     "name": "stdout",
     "output_type": "stream",
     "text": [
      "<type 'netCDF4.Dimension'> (unlimited): name = 'time', size = 1\n",
      "\n"
     ]
    }
   ],
   "source": [
    "print grid.dimensions['time']"
   ]
  },
  {
   "cell_type": "code",
   "execution_count": 4,
   "metadata": {
    "collapsed": false
   },
   "outputs": [
    {
     "data": {
      "image/png": "[encoded data removed]",
      "text/plain": [
       "<matplotlib.figure.Figure at 0x7f7fbf843f50>"
      ]
     },
     "metadata": {},
     "output_type": "display_data"
    }
   ],
   "source": [
    "width = 280000; lon_0 = -123.5; lat_0 = 49.2\n",
    "m = Basemap(width=width,height=width,projection='aeqd',\n",
    "            lat_0=lat_0,lon_0=lon_0,resolution='i')\n",
    "# fill background.\n",
    "m.drawmapboundary(fill_color='aqua')\n",
    "# draw coasts and fill continents.\n",
    "m.drawcoastlines(linewidth=0.5)\n",
    "m.fillcontinents(color='coral',lake_color='aqua')\n",
    "# 20 degree graticule.\n",
    "#m.drawparallels(np.arange(-80,81,20))\n",
    "#m.drawmeridians(np.arange(-180,180,20))\n",
    "# draw a black dot at the center.\n",
    "xpt, ypt = m(grid.variables['nav_lon'][500:505,250:255], grid.variables['nav_lat'][500:505,250:255])\n",
    "m.plot(xpt,ypt,'ko')\n",
    "# draw the title.\n",
    "plt.title('Azimuthal Equidistant Projection')\n",
    "plt.show()"
   ]
  },
  {
   "cell_type": "code",
   "execution_count": 5,
   "metadata": {
    "collapsed": false
   },
   "outputs": [
    {
     "name": "stdout",
     "output_type": "stream",
     "text": [
      "<type 'netCDF4.Dimension'>: name = 'x', size = 398\n",
      "\n",
      "<type 'netCDF4.Dimension'>: name = 'y', size = 898\n",
      "\n",
      "<type 'netCDF4.Dimension'> (unlimited): name = 'time', size = 1\n",
      "\n",
      "<type 'netCDF4.Dimension'>: name = 'y', size = 5\n",
      "\n",
      "<type 'netCDF4.Dimension'>: name = 'x', size = 5\n",
      "\n",
      "<type 'netCDF4.Dimension'> (unlimited): name = 'time', size = 0\n",
      "\n"
     ]
    }
   ],
   "source": [
    "new_coords=nc.Dataset('/data/eolson/MEOPAR/SS2DSOGruns/coords5x5.nc','w')\n",
    "new_coords.createDimension('y', 5)\n",
    "new_coords.createDimension('x', 5)\n",
    "new_coords.createDimension('time', None)\n",
    "\n",
    "nc_tools.show_dimensions(grid)\n",
    "nc_tools.show_dimensions(new_coords)"
   ]
  },
  {
   "cell_type": "code",
   "execution_count": 6,
   "metadata": {
    "collapsed": false
   },
   "outputs": [
    {
     "name": "stdout",
     "output_type": "stream",
     "text": [
      "<type 'netCDF4.Variable'>\n",
      "float32 nav_lon(y, x)\n",
      "    units: degrees_east\n",
      "    comment: at t points\n",
      "unlimited dimensions: \n",
      "current shape = (898, 398)\n",
      "filling off\n",
      "\n"
     ]
    }
   ],
   "source": [
    "var=grid.variables.keys()\n",
    "print grid.variables[var[0]]"
   ]
  },
  {
   "cell_type": "code",
   "execution_count": 7,
   "metadata": {
    "collapsed": false
   },
   "outputs": [],
   "source": [
    "new_x=new_coords.createVariable('nav_lon',float,('y','x'), zlib=True)\n",
    "new_x.setncattr('units',grid.variables['nav_lon'].units)\n",
    "new_x.setncattr('comment',grid.variables['nav_lon'].comment)\n",
    "new_x[:]=grid.variables['nav_lon'][500:505,250:255]\n"
   ]
  },
  {
   "cell_type": "code",
   "execution_count": 8,
   "metadata": {
    "collapsed": false
   },
   "outputs": [
    {
     "name": "stdout",
     "output_type": "stream",
     "text": [
      "<type 'netCDF4.Variable'>\n",
      "float32 nav_lat(y, x)\n",
      "    units: degrees_north\n",
      "    comment: at t points\n",
      "unlimited dimensions: \n",
      "current shape = (898, 398)\n",
      "filling off\n",
      "\n"
     ]
    }
   ],
   "source": [
    "print grid.variables[var[1]]"
   ]
  },
  {
   "cell_type": "code",
   "execution_count": 9,
   "metadata": {
    "collapsed": false
   },
   "outputs": [],
   "source": [
    "new_y = new_coords.createVariable('nav_lat',float,('y','x'), zlib=True)\n",
    "new_y.setncattr('units',grid.variables['nav_lat'].units)\n",
    "new_y.setncattr('comment',grid.variables['nav_lat'].comment)\n",
    "new_y[:]=grid.variables['nav_lat'][500:505,250:255]"
   ]
  },
  {
   "cell_type": "code",
   "execution_count": 10,
   "metadata": {
    "collapsed": false
   },
   "outputs": [
    {
     "name": "stdout",
     "output_type": "stream",
     "text": [
      "<type 'netCDF4.Variable'>\n",
      "float32 time(time)\n",
      "    units: seconds since 0001-01-01 00:00:00\n",
      "    time_origin: 0000-JAN-01 00:00:00\n",
      "    calendar: gregorian\n",
      "unlimited dimensions: time\n",
      "current shape = (1,)\n",
      "filling off\n",
      "\n"
     ]
    }
   ],
   "source": [
    "print grid.variables[var[2]]"
   ]
  },
  {
   "cell_type": "code",
   "execution_count": 11,
   "metadata": {
    "collapsed": true
   },
   "outputs": [],
   "source": [
    "new_t = new_coords.createVariable('time',float,'time',zlib=True)\n",
    "new_t.setncattr('units',grid.variables['time'].units)\n",
    "new_t.setncattr('time_origin',grid.variables['time'].time_origin)\n",
    "new_t.setncattr('calendar',grid.variables['time'].calendar)\n",
    "new_t[:]=grid.variables['time']"
   ]
  },
  {
   "cell_type": "code",
   "execution_count": 12,
   "metadata": {
    "collapsed": false
   },
   "outputs": [
    {
     "name": "stdout",
     "output_type": "stream",
     "text": [
      "<type 'netCDF4.Variable'>\n",
      "int32 time_steps(time)\n",
      "    units: seconds since 0001-01-01 00:00:00\n",
      "    time_origin: 0000-JAN-01 00:00:00\n",
      "unlimited dimensions: time\n",
      "current shape = (1,)\n",
      "filling off\n",
      "\n"
     ]
    }
   ],
   "source": [
    "print grid.variables[var[3]]"
   ]
  },
  {
   "cell_type": "code",
   "execution_count": 13,
   "metadata": {
    "collapsed": true
   },
   "outputs": [],
   "source": [
    "new_ts = new_coords.createVariable('time_steps',float,'time',zlib=True)\n",
    "new_ts.setncattr('units',grid.variables['time_steps'].units)\n",
    "new_ts.setncattr('time_origin',grid.variables['time_steps'].time_origin)\n",
    "new_ts[:]=grid.variables['time_steps']"
   ]
  },
  {
   "cell_type": "code",
   "execution_count": 14,
   "metadata": {
    "collapsed": false
   },
   "outputs": [
    {
     "name": "stdout",
     "output_type": "stream",
     "text": [
      "<type 'netCDF4.Variable'>\n",
      "float64 glamt(time, y, x)\n",
      "    missing_value: 1e+20\n",
      "unlimited dimensions: time\n",
      "current shape = (1, 898, 398)\n",
      "filling off\n",
      "\n"
     ]
    }
   ],
   "source": [
    "print grid.variables[var[4]]"
   ]
  },
  {
   "cell_type": "code",
   "execution_count": 15,
   "metadata": {
    "collapsed": true
   },
   "outputs": [],
   "source": [
    "new_gt = new_coords.createVariable('glamt',float,('time','y','x'),zlib=True)\n",
    "new_gt.setncattr('missing_value',grid.variables['glamt'].missing_value)\n",
    "new_gt[:,:,:]=grid.variables['glamt'][:,500:505,250:255]"
   ]
  },
  {
   "cell_type": "code",
   "execution_count": 16,
   "metadata": {
    "collapsed": false
   },
   "outputs": [
    {
     "name": "stdout",
     "output_type": "stream",
     "text": [
      "<type 'netCDF4.Variable'>\n",
      "float64 glamu(time, y, x)\n",
      "    missing_value: 1e+20\n",
      "unlimited dimensions: time\n",
      "current shape = (1, 898, 398)\n",
      "filling off\n",
      "\n"
     ]
    }
   ],
   "source": [
    "print grid.variables[var[5]]"
   ]
  },
  {
   "cell_type": "code",
   "execution_count": 17,
   "metadata": {
    "collapsed": true
   },
   "outputs": [],
   "source": [
    "new_gu = new_coords.createVariable('glamu',float,('time','y','x'),zlib=True)\n",
    "new_gu.setncattr('missing_value',grid.variables['glamu'].missing_value)\n",
    "new_gu[:,:,:]=grid.variables['glamu'][:,500:505,250:255]"
   ]
  },
  {
   "cell_type": "code",
   "execution_count": 18,
   "metadata": {
    "collapsed": false
   },
   "outputs": [
    {
     "name": "stdout",
     "output_type": "stream",
     "text": [
      "<type 'netCDF4.Variable'>\n",
      "float64 glamv(time, y, x)\n",
      "    missing_value: 1e+20\n",
      "unlimited dimensions: time\n",
      "current shape = (1, 898, 398)\n",
      "filling off\n",
      "\n"
     ]
    }
   ],
   "source": [
    "print grid.variables[var[6]]"
   ]
  },
  {
   "cell_type": "code",
   "execution_count": 19,
   "metadata": {
    "collapsed": true
   },
   "outputs": [],
   "source": [
    "new_gv = new_coords.createVariable('glamv',float,('time','y','x'),zlib=True)\n",
    "new_gv.setncattr('missing_value',grid.variables['glamv'].missing_value)\n",
    "new_gv[:,:,:]=grid.variables['glamv'][:,500:505,250:255]"
   ]
  },
  {
   "cell_type": "code",
   "execution_count": 20,
   "metadata": {
    "collapsed": false
   },
   "outputs": [
    {
     "name": "stdout",
     "output_type": "stream",
     "text": [
      "<type 'netCDF4.Variable'>\n",
      "float64 glamf(time, y, x)\n",
      "    missing_value: 1e+20\n",
      "unlimited dimensions: time\n",
      "current shape = (1, 898, 398)\n",
      "filling off\n",
      "\n"
     ]
    }
   ],
   "source": [
    "print grid.variables[var[7]]"
   ]
  },
  {
   "cell_type": "code",
   "execution_count": 21,
   "metadata": {
    "collapsed": true
   },
   "outputs": [],
   "source": [
    "new_gf = new_coords.createVariable('glamf',float,('time','y','x'),zlib=True)\n",
    "new_gf.setncattr('missing_value',grid.variables['glamf'].missing_value)\n",
    "new_gf[:,:,:]=grid.variables['glamf'][:,500:505,250:255]"
   ]
  },
  {
   "cell_type": "code",
   "execution_count": 22,
   "metadata": {
    "collapsed": false
   },
   "outputs": [
    {
     "name": "stdout",
     "output_type": "stream",
     "text": [
      "<type 'netCDF4.Variable'>\n",
      "float64 gphit(time, y, x)\n",
      "    missing_value: 1e+20\n",
      "unlimited dimensions: time\n",
      "current shape = (1, 898, 398)\n",
      "filling off\n",
      "\n"
     ]
    }
   ],
   "source": [
    "print grid.variables[var[8]]"
   ]
  },
  {
   "cell_type": "code",
   "execution_count": 23,
   "metadata": {
    "collapsed": true
   },
   "outputs": [],
   "source": [
    "new_pt = new_coords.createVariable('gphit',float,('time','y','x'),zlib=True)\n",
    "new_pt.setncattr('missing_value',grid.variables['gphit'].missing_value)\n",
    "new_pt[:,:,:]=grid.variables['gphit'][:,500:505,250:255]"
   ]
  },
  {
   "cell_type": "code",
   "execution_count": 24,
   "metadata": {
    "collapsed": false
   },
   "outputs": [
    {
     "name": "stdout",
     "output_type": "stream",
     "text": [
      "<type 'netCDF4.Variable'>\n",
      "float64 gphiu(time, y, x)\n",
      "    missing_value: 1e+20\n",
      "unlimited dimensions: time\n",
      "current shape = (1, 898, 398)\n",
      "filling off\n",
      "\n"
     ]
    }
   ],
   "source": [
    "print grid.variables[var[9]]"
   ]
  },
  {
   "cell_type": "code",
   "execution_count": 25,
   "metadata": {
    "collapsed": true
   },
   "outputs": [],
   "source": [
    "new_pu = new_coords.createVariable('gphiu',float,('time','y','x'),zlib=True)\n",
    "new_pu.setncattr('missing_value',grid.variables['gphiu'].missing_value)\n",
    "new_pu[:,:,:]=grid.variables['gphiu'][:,500:505,250:255]"
   ]
  },
  {
   "cell_type": "code",
   "execution_count": 26,
   "metadata": {
    "collapsed": false
   },
   "outputs": [
    {
     "name": "stdout",
     "output_type": "stream",
     "text": [
      "<type 'netCDF4.Variable'>\n",
      "float64 gphiv(time, y, x)\n",
      "    missing_value: 1e+20\n",
      "unlimited dimensions: time\n",
      "current shape = (1, 898, 398)\n",
      "filling off\n",
      "\n"
     ]
    }
   ],
   "source": [
    "print grid.variables[var[10]]"
   ]
  },
  {
   "cell_type": "code",
   "execution_count": 27,
   "metadata": {
    "collapsed": true
   },
   "outputs": [],
   "source": [
    "new_pv = new_coords.createVariable('gphiv',float,('time','y','x'),zlib=True)\n",
    "new_pv.setncattr('missing_value',grid.variables['gphiv'].missing_value)\n",
    "new_pv[:,:,:]=grid.variables['gphiv'][:,500:505,250:255]"
   ]
  },
  {
   "cell_type": "code",
   "execution_count": 28,
   "metadata": {
    "collapsed": false
   },
   "outputs": [
    {
     "name": "stdout",
     "output_type": "stream",
     "text": [
      "<type 'netCDF4.Variable'>\n",
      "float64 gphif(time, y, x)\n",
      "    missing_value: 1e+20\n",
      "unlimited dimensions: time\n",
      "current shape = (1, 898, 398)\n",
      "filling off\n",
      "\n"
     ]
    }
   ],
   "source": [
    "print grid.variables[var[11]]"
   ]
  },
  {
   "cell_type": "code",
   "execution_count": 29,
   "metadata": {
    "collapsed": true
   },
   "outputs": [],
   "source": [
    "new_pf = new_coords.createVariable('gphif',float,('time','y','x'),zlib=True)\n",
    "new_pf.setncattr('missing_value',grid.variables['gphif'].missing_value)\n",
    "new_pf[:,:,:]=grid.variables['gphif'][:,500:505,250:255]"
   ]
  },
  {
   "cell_type": "code",
   "execution_count": 30,
   "metadata": {
    "collapsed": false
   },
   "outputs": [
    {
     "name": "stdout",
     "output_type": "stream",
     "text": [
      "<type 'netCDF4.Variable'>\n",
      "float64 e1t(time, y, x)\n",
      "    missing_value: 1e+20\n",
      "unlimited dimensions: time\n",
      "current shape = (1, 898, 398)\n",
      "filling off\n",
      "\n"
     ]
    }
   ],
   "source": [
    "print grid.variables[var[12]]"
   ]
  },
  {
   "cell_type": "code",
   "execution_count": 31,
   "metadata": {
    "collapsed": true
   },
   "outputs": [],
   "source": [
    "new_et = new_coords.createVariable('e1t',float,('time','y','x'),zlib=True)\n",
    "new_et.setncattr('missing_value',grid.variables['e1t'].missing_value)\n",
    "new_et[:,:,:]=grid.variables['e1t'][:,500:505,250:255]"
   ]
  },
  {
   "cell_type": "code",
   "execution_count": 32,
   "metadata": {
    "collapsed": false
   },
   "outputs": [
    {
     "name": "stdout",
     "output_type": "stream",
     "text": [
      "<type 'netCDF4.Variable'>\n",
      "float64 e1u(time, y, x)\n",
      "    missing_value: 1e+20\n",
      "unlimited dimensions: time\n",
      "current shape = (1, 898, 398)\n",
      "filling off\n",
      "\n"
     ]
    }
   ],
   "source": [
    "print grid.variables[var[13]]"
   ]
  },
  {
   "cell_type": "code",
   "execution_count": 33,
   "metadata": {
    "collapsed": true
   },
   "outputs": [],
   "source": [
    "new_eu = new_coords.createVariable('e1u',float,('time','y','x'),zlib=True)\n",
    "new_eu.setncattr('missing_value',grid.variables['e1u'].missing_value)\n",
    "new_eu[:,:,:]=grid.variables['e1u'][:,500:505,250:255]"
   ]
  },
  {
   "cell_type": "code",
   "execution_count": 34,
   "metadata": {
    "collapsed": false
   },
   "outputs": [
    {
     "name": "stdout",
     "output_type": "stream",
     "text": [
      "<type 'netCDF4.Variable'>\n",
      "float64 e1v(time, y, x)\n",
      "    missing_value: 1e+20\n",
      "unlimited dimensions: time\n",
      "current shape = (1, 898, 398)\n",
      "filling off\n",
      "\n"
     ]
    }
   ],
   "source": [
    "print grid.variables[var[14]]"
   ]
  },
  {
   "cell_type": "code",
   "execution_count": 35,
   "metadata": {
    "collapsed": true
   },
   "outputs": [],
   "source": [
    "new_ev = new_coords.createVariable('e1v',float,('time','y','x'),zlib=True)\n",
    "new_ev.setncattr('missing_value',grid.variables['e1v'].missing_value)\n",
    "new_ev[:,:,:]=grid.variables['e1v'][:,500:505,250:255]"
   ]
  },
  {
   "cell_type": "code",
   "execution_count": 36,
   "metadata": {
    "collapsed": false
   },
   "outputs": [
    {
     "name": "stdout",
     "output_type": "stream",
     "text": [
      "<type 'netCDF4.Variable'>\n",
      "float64 e1f(time, y, x)\n",
      "    missing_value: 1e+20\n",
      "unlimited dimensions: time\n",
      "current shape = (1, 898, 398)\n",
      "filling off\n",
      "\n"
     ]
    }
   ],
   "source": [
    "print grid.variables[var[15]]"
   ]
  },
  {
   "cell_type": "code",
   "execution_count": 37,
   "metadata": {
    "collapsed": true
   },
   "outputs": [],
   "source": [
    "new_ef = new_coords.createVariable('e1f',float,('time','y','x'),zlib=True)\n",
    "new_ef.setncattr('missing_value',grid.variables['e1f'].missing_value)\n",
    "new_ef[:,:,:]=grid.variables['e1f'][:,500:505,250:255]"
   ]
  },
  {
   "cell_type": "code",
   "execution_count": 38,
   "metadata": {
    "collapsed": false
   },
   "outputs": [
    {
     "name": "stdout",
     "output_type": "stream",
     "text": [
      "<type 'netCDF4.Variable'>\n",
      "float64 e2t(time, y, x)\n",
      "    missing_value: 1e+20\n",
      "unlimited dimensions: time\n",
      "current shape = (1, 898, 398)\n",
      "filling off\n",
      "\n"
     ]
    }
   ],
   "source": [
    "print grid.variables[var[16]]"
   ]
  },
  {
   "cell_type": "code",
   "execution_count": 39,
   "metadata": {
    "collapsed": true
   },
   "outputs": [],
   "source": [
    "new_e2t = new_coords.createVariable('e2t',float,('time','y','x'),zlib=True)\n",
    "new_e2t.setncattr('missing_value',grid.variables['e2t'].missing_value)\n",
    "new_e2t[:,:,:]=grid.variables['e2t'][:,500:505,250:255]"
   ]
  },
  {
   "cell_type": "code",
   "execution_count": 40,
   "metadata": {
    "collapsed": false
   },
   "outputs": [
    {
     "name": "stdout",
     "output_type": "stream",
     "text": [
      "<type 'netCDF4.Variable'>\n",
      "float64 e2u(time, y, x)\n",
      "    missing_value: 1e+20\n",
      "unlimited dimensions: time\n",
      "current shape = (1, 898, 398)\n",
      "filling off\n",
      "\n"
     ]
    }
   ],
   "source": [
    "print grid.variables[var[17]]"
   ]
  },
  {
   "cell_type": "code",
   "execution_count": 41,
   "metadata": {
    "collapsed": true
   },
   "outputs": [],
   "source": [
    "new_e2u = new_coords.createVariable('e2u',float,('time','y','x'),zlib=True)\n",
    "new_e2u.setncattr('missing_value',grid.variables['e2u'].missing_value)\n",
    "new_e2u[:,:,:]=grid.variables['e2u'][:,500:505,250:255]"
   ]
  },
  {
   "cell_type": "code",
   "execution_count": 42,
   "metadata": {
    "collapsed": false
   },
   "outputs": [
    {
     "name": "stdout",
     "output_type": "stream",
     "text": [
      "<type 'netCDF4.Variable'>\n",
      "float64 e2v(time, y, x)\n",
      "    missing_value: 1e+20\n",
      "unlimited dimensions: time\n",
      "current shape = (1, 898, 398)\n",
      "filling off\n",
      "\n"
     ]
    }
   ],
   "source": [
    "print grid.variables[var[18]]"
   ]
  },
  {
   "cell_type": "code",
   "execution_count": 43,
   "metadata": {
    "collapsed": true
   },
   "outputs": [],
   "source": [
    "new_e2v = new_coords.createVariable('e2v',float,('time','y','x'),zlib=True)\n",
    "new_e2v.setncattr('missing_value',grid.variables['e2v'].missing_value)\n",
    "new_e2v[:,:,:]=grid.variables['e2v'][:,500:505,250:255]"
   ]
  },
  {
   "cell_type": "code",
   "execution_count": 44,
   "metadata": {
    "collapsed": false
   },
   "outputs": [
    {
     "name": "stdout",
     "output_type": "stream",
     "text": [
      "<type 'netCDF4.Variable'>\n",
      "float64 e2f(time, y, x)\n",
      "    missing_value: 1e+20\n",
      "unlimited dimensions: time\n",
      "current shape = (1, 898, 398)\n",
      "filling off\n",
      "\n"
     ]
    }
   ],
   "source": [
    "print grid.variables[var[19]]"
   ]
  },
  {
   "cell_type": "code",
   "execution_count": 45,
   "metadata": {
    "collapsed": true
   },
   "outputs": [],
   "source": [
    "new_e2f = new_coords.createVariable('e2f',float,('time','y','x'),zlib=True)\n",
    "new_e2f.setncattr('missing_value',grid.variables['e2f'].missing_value)\n",
    "new_e2f[:,:,:]=grid.variables['e2f'][:,500:505,250:255]"
   ]
  },
  {
   "cell_type": "code",
   "execution_count": 46,
   "metadata": {
    "collapsed": false
   },
   "outputs": [],
   "source": [
    "new_coords.title=\"\"\"SS2D 5x5 Coordinates\"\"\"\n",
    "new_coords.institution=\"\"\"\n",
    "Dept of Earth, Ocean & Atmospheric Sciences, University of British Columbia\"\"\"\n",
    "new_coords.comment= \"\"\"\n",
    "Based on coordinates.nc.Nancy.summer\"\"\"\n",
    "new_coords.reference= \"\"\"\n",
    "eolson: alteCoords_5x5.ipynb\"\"\""
   ]
  },
  {
   "cell_type": "code",
   "execution_count": 47,
   "metadata": {
    "collapsed": false
   },
   "outputs": [
    {
     "name": "stdout",
     "output_type": "stream",
     "text": [
      "file format: NETCDF4\n",
      "title: SS2D 5x5 Coordinates\n",
      "institution: \n",
      "Dept of Earth, Ocean & Atmospheric Sciences, University of British Columbia\n",
      "comment: \n",
      "Based on coordinates.nc.Nancy.summer\n",
      "reference: \n",
      "eolson: alteCoords_5x5.ipynb\n"
     ]
    }
   ],
   "source": [
    "nc_tools.show_dataset_attrs(new_coords)"
   ]
  },
  {
   "cell_type": "code",
   "execution_count": 48,
   "metadata": {
    "collapsed": false
   },
   "outputs": [],
   "source": [
    "new_coords.close()"
   ]
  },
  {
   "cell_type": "code",
   "execution_count": 50,
   "metadata": {
    "collapsed": false
   },
   "outputs": [
    {
     "name": "stdout",
     "output_type": "stream",
     "text": [
      "OrderedDict([(u'nav_lon', <netCDF4.Variable object at 0x7f7f8b4f58a0>), (u'nav_lat', <netCDF4.Variable object at 0x7f7f8b4f5770>), (u'time', <netCDF4.Variable object at 0x7f7f8b4f5a68>), (u'time_steps', <netCDF4.Variable object at 0x7f7f8b4f5b00>), (u'glamt', <netCDF4.Variable object at 0x7f7f8b4f5b98>), (u'glamu', <netCDF4.Variable object at 0x7f7f8b4f5c30>), (u'glamv', <netCDF4.Variable object at 0x7f7f8b4f5cc8>), (u'glamf', <netCDF4.Variable object at 0x7f7f8b4f5d60>), (u'gphit', <netCDF4.Variable object at 0x7f7f8b4f5df8>), (u'gphiu', <netCDF4.Variable object at 0x7f7f8b4f5e90>), (u'gphiv', <netCDF4.Variable object at 0x7f7f8b4f5f28>), (u'gphif', <netCDF4.Variable object at 0x7f7f8b14d050>), (u'e1t', <netCDF4.Variable object at 0x7f7f8b14d0e8>), (u'e1u', <netCDF4.Variable object at 0x7f7f8b14d180>), (u'e1v', <netCDF4.Variable object at 0x7f7f8b14d218>), (u'e1f', <netCDF4.Variable object at 0x7f7f8b14d2b0>), (u'e2t', <netCDF4.Variable object at 0x7f7f8b14d348>), (u'e2u', <netCDF4.Variable object at 0x7f7f8b14d3e0>), (u'e2v', <netCDF4.Variable object at 0x7f7f8b14d478>), (u'e2f', <netCDF4.Variable object at 0x7f7f8b14d510>)])\n",
      "OrderedDict([(u'nav_lon', <netCDF4.Variable object at 0x7f7f8c39ab00>), (u'nav_lat', <netCDF4.Variable object at 0x7f7f8c39ab98>), (u'time', <netCDF4.Variable object at 0x7f7f8c39ac30>), (u'time_steps', <netCDF4.Variable object at 0x7f7f8c39acc8>), (u'glamt', <netCDF4.Variable object at 0x7f7f8c39ad60>), (u'glamu', <netCDF4.Variable object at 0x7f7f8c39adf8>), (u'glamv', <netCDF4.Variable object at 0x7f7f8c39ae90>), (u'glamf', <netCDF4.Variable object at 0x7f7f8c39af28>), (u'gphit', <netCDF4.Variable object at 0x7f7f8b769050>), (u'gphiu', <netCDF4.Variable object at 0x7f7f8b7690e8>), (u'gphiv', <netCDF4.Variable object at 0x7f7f8b769180>), (u'gphif', <netCDF4.Variable object at 0x7f7f8b769218>), (u'e1t', <netCDF4.Variable object at 0x7f7f8b7692b0>), (u'e1u', <netCDF4.Variable object at 0x7f7f8b769348>), (u'e1v', <netCDF4.Variable object at 0x7f7f8b7693e0>), (u'e1f', <netCDF4.Variable object at 0x7f7f8b769478>), (u'e2t', <netCDF4.Variable object at 0x7f7f8b769510>), (u'e2u', <netCDF4.Variable object at 0x7f7f8b7695a8>), (u'e2v', <netCDF4.Variable object at 0x7f7f8b769640>), (u'e2f', <netCDF4.Variable object at 0x7f7f8b7696d8>)])\n"
     ]
    }
   ],
   "source": [
    "B=nc.Dataset('/data/eolson/MEOPAR/SS2DSOGruns/coords5x5.nc')\n",
    "print B.variables\n",
    "print grid.variables"
   ]
  },
  {
   "cell_type": "code",
   "execution_count": 51,
   "metadata": {
    "collapsed": false
   },
   "outputs": [],
   "source": [
    "grid.close()\n",
    "B.close()"
   ]
  },
  {
   "cell_type": "code",
   "execution_count": null,
   "metadata": {
    "collapsed": true
   },
   "outputs": [],
   "source": []
  }
 ],
 "metadata": {
  "kernelspec": {
   "display_name": "Python 2",
   "language": "python",
   "name": "python2"
  },
  "language_info": {
   "codemirror_mode": {
    "name": "ipython",
    "version": 2
   },
   "file_extension": ".py",
   "mimetype": "text/x-python",
   "name": "python",
   "nbconvert_exporter": "python",
   "pygments_lexer": "ipython2",
   "version": "2.7.10"
  }
 },
 "nbformat": 4,
 "nbformat_minor": 0
}
