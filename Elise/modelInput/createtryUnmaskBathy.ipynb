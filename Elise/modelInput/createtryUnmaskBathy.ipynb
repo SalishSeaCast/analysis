{
 "cells": [
  {
   "cell_type": "code",
   "execution_count": 3,
   "metadata": {
    "collapsed": false
   },
   "outputs": [],
   "source": [
    "import netCDF4 as nc\n",
    "import matplotlib.pyplot as plt\n",
    "import numpy as np\n",
    "import os\n",
    "import re\n",
    "\n",
    "%matplotlib inline\n",
    "\n",
    "resultsDir='/data/eolson/MEOPAR/SS2DSOGruns/'\n",
    "N2chl=1.600\n",
    "r=nc.Dataset('/data/eolson/MEOPAR/SS2DSOGruns/nuts_SOG1100x10_S3-2014-10-19-WithMRubraMicroZooRemin.nc')"
   ]
  },
  {
   "cell_type": "code",
   "execution_count": 4,
   "metadata": {
    "collapsed": false
   },
   "outputs": [
    {
     "name": "stdout",
     "output_type": "stream",
     "text": [
      "<class 'netCDF4._netCDF4.Dataset'>\n",
      "root group (NETCDF4 data model, file format UNDEFINED):\n",
      "    title: SS2DSOG NO, Si, NH4, PHY, PHY2, MYRI, Z, DOC, POC, bSi initialization\n",
      "    institution: \n",
      "Dept of Earth, Ocean & Atmospheric Sciences, University of British Columbia\n",
      "    comment: \n",
      "Based on SG-S3-2004-10-19.sog and nuts-S3-2004-10-19.sog\n",
      "    reference: \n",
      "eolson: createIC_NutsPhy_SS2DSOG5x5_S3-2004-10-19-WithMRubraMicrozooRemin-2d.ipynb\n",
      "    dimensions(sizes): y(10), x(1100), deptht(101), time_counter(1)\n",
      "    variables(dimensions): float64 \u001b[4mtime_counter\u001b[0m(time_counter), float64 \u001b[4mdeptht\u001b[0m(deptht), float64 \u001b[4mx\u001b[0m(y,x), float64 \u001b[4my\u001b[0m(y,x), float64 \u001b[4mNO3\u001b[0m(time_counter,deptht,y,x), float64 \u001b[4mSi\u001b[0m(time_counter,deptht,y,x), float64 \u001b[4mNH4\u001b[0m(time_counter,deptht,y,x), float64 \u001b[4mPHY\u001b[0m(time_counter,deptht,y,x), float64 \u001b[4mPHY2\u001b[0m(time_counter,deptht,y,x), float64 \u001b[4mMYRI\u001b[0m(time_counter,deptht,y,x), float64 \u001b[4mMICZ\u001b[0m(time_counter,deptht,y,x), float64 \u001b[4mPOC\u001b[0m(time_counter,deptht,y,x), float64 \u001b[4mDOC\u001b[0m(time_counter,deptht,y,x), float64 \u001b[4mbSi\u001b[0m(time_counter,deptht,y,x)\n",
      "    groups: \n",
      "\n"
     ]
    }
   ],
   "source": [
    "print(r)"
   ]
  },
  {
   "cell_type": "code",
   "execution_count": 9,
   "metadata": {
    "collapsed": false
   },
   "outputs": [
    {
     "name": "stdout",
     "output_type": "stream",
     "text": [
      "[   0.5    1.5    2.5    3.5    4.5    5.5    6.5    7.5    8.5    9.5\n",
      "   10.5   11.5   12.5   13.5   14.5   15.5   16.5   17.5   18.5   19.5\n",
      "   20.5   21.5   22.5   23.5   24.5   25.5   26.5   27.5   28.5   29.5\n",
      "   30.5   31.5   32.5   33.5   34.5   35.5   36.5   37.5   38.5   39.5\n",
      "   40.5   41.5   42.5   43.5   44.5   45.5   46.5   47.5   48.5   49.5\n",
      "   50.5   51.5   52.5   53.5   54.5   55.5   56.5   57.5   58.5   59.5\n",
      "   60.5   61.5   62.5   63.5   64.5   65.5   66.5   67.5   68.5   69.5\n",
      "   70.5   71.5   72.5   73.5   74.5   75.5   76.5   77.5   78.5   79.5\n",
      "   80.5   81.5   82.5   83.5   84.5   85.5   86.5   87.5   88.5   89.5\n",
      "   90.5   91.5   92.5   93.5   94.5   95.5   96.5   97.5   98.5   99.5\n",
      "  100.5]\n"
     ]
    }
   ],
   "source": [
    "print(r.variables['deptht'][:])"
   ]
  },
  {
   "cell_type": "code",
   "execution_count": 14,
   "metadata": {
    "collapsed": false
   },
   "outputs": [],
   "source": [
    "temp=nc.Dataset('/data/eolson/MEOPAR/SS36runs/runSOG2d_exp/bathy_meter.nc')"
   ]
  },
  {
   "cell_type": "code",
   "execution_count": 12,
   "metadata": {
    "collapsed": false
   },
   "outputs": [
    {
     "name": "stdout",
     "output_type": "stream",
     "text": [
      "OrderedDict([('x', <class 'netCDF4._netCDF4.Variable'>\n",
      "float64 x(y, x)\n",
      "    units: metres\n",
      "unlimited dimensions: \n",
      "current shape = (10, 1100)\n",
      "filling on, default _FillValue of 9.969209968386869e+36 used\n",
      "), ('y', <class 'netCDF4._netCDF4.Variable'>\n",
      "float64 y(y, x)\n",
      "    units: metres\n",
      "unlimited dimensions: \n",
      "current shape = (10, 1100)\n",
      "filling on, default _FillValue of 9.969209968386869e+36 used\n",
      "), ('Bathymetry', <class 'netCDF4._netCDF4.Variable'>\n",
      "float64 Bathymetry(y, x)\n",
      "    least_significant_digit: 1\n",
      "    units: metres\n",
      "unlimited dimensions: \n",
      "current shape = (10, 1100)\n",
      "filling on, default _FillValue of 9.969209968386869e+36 used\n",
      ")])\n"
     ]
    }
   ],
   "source": [
    "print(temp.variables)"
   ]
  },
  {
   "cell_type": "code",
   "execution_count": 15,
   "metadata": {
    "collapsed": true
   },
   "outputs": [],
   "source": [
    "temp2=nc.Dataset('/data/eolson/MEOPAR/SS36runs/runSOG2d_exp/bathy_meter2.nc','w')"
   ]
  },
  {
   "cell_type": "code",
   "execution_count": 21,
   "metadata": {
    "collapsed": false
   },
   "outputs": [],
   "source": [
    "B=np.copy(temp.variables['Bathymetry'])"
   ]
  },
  {
   "cell_type": "code",
   "execution_count": 30,
   "metadata": {
    "collapsed": true
   },
   "outputs": [],
   "source": [
    "\n",
    "X=temp.variables['x']\n",
    "Y=temp.variables['y']"
   ]
  },
  {
   "cell_type": "code",
   "execution_count": 19,
   "metadata": {
    "collapsed": false
   },
   "outputs": [
    {
     "data": {
      "text/plain": [
       "<class 'netCDF4._netCDF4.Dimension'>: name = 'x', size = 1100"
      ]
     },
     "execution_count": 19,
     "metadata": {},
     "output_type": "execute_result"
    }
   ],
   "source": [
    "temp2.createDimension('y', B.shape[0])\n",
    "temp2.createDimension('x',B.shape[1])"
   ]
  },
  {
   "cell_type": "code",
   "execution_count": 22,
   "metadata": {
    "collapsed": true
   },
   "outputs": [],
   "source": [
    "B[B>300]=300."
   ]
  },
  {
   "cell_type": "code",
   "execution_count": 27,
   "metadata": {
    "collapsed": false
   },
   "outputs": [
    {
     "data": {
      "text/plain": [
       "<matplotlib.colorbar.Colorbar at 0x7fbbb67286d8>"
      ]
     },
     "execution_count": 27,
     "metadata": {},
     "output_type": "execute_result"
    },
    {
     "data": {
      "image/png": "[encoded data removed]",
      "text/plain": [
       "<matplotlib.figure.Figure at 0x7fbbbc021dd8>"
      ]
     },
     "metadata": {},
     "output_type": "display_data"
    }
   ],
   "source": [
    "plt.pcolormesh(B[:]); plt.colorbar()"
   ]
  },
  {
   "cell_type": "code",
   "execution_count": 25,
   "metadata": {
    "collapsed": false
   },
   "outputs": [
    {
     "name": "stdout",
     "output_type": "stream",
     "text": [
      "[-0. -0. -0. -0.]\n",
      "[-0. -0. -0. -0.]\n",
      "[-0. -0. -0. -0.]\n",
      "[-0. -0. -0. -0.]\n"
     ]
    }
   ],
   "source": [
    "print(B[0,1:5])\n",
    "print(B[1,1:5])\n",
    "print(B[1:5,0])\n",
    "print(B[1:5,1])"
   ]
  },
  {
   "cell_type": "code",
   "execution_count": 26,
   "metadata": {
    "collapsed": true
   },
   "outputs": [],
   "source": [
    "B[1,:]=B[2,:]\n",
    "B[8,:]=B[7,:]"
   ]
  },
  {
   "cell_type": "code",
   "execution_count": 28,
   "metadata": {
    "collapsed": true
   },
   "outputs": [],
   "source": [
    "B[0,:]=B[2,:]\n",
    "B[9,:]=B[7,:]"
   ]
  },
  {
   "cell_type": "code",
   "execution_count": 29,
   "metadata": {
    "collapsed": false
   },
   "outputs": [
    {
     "data": {
      "text/plain": [
       "<matplotlib.colorbar.Colorbar at 0x7fbbb6667860>"
      ]
     },
     "execution_count": 29,
     "metadata": {},
     "output_type": "execute_result"
    },
    {
     "data": {
      "image/png": "[encoded data removed]",
      "text/plain": [
       "<matplotlib.figure.Figure at 0x7fbbb66c5cc0>"
      ]
     },
     "metadata": {},
     "output_type": "display_data"
    }
   ],
   "source": [
    "plt.pcolormesh(B[:]); plt.colorbar()"
   ]
  },
  {
   "cell_type": "code",
   "execution_count": 31,
   "metadata": {
    "collapsed": true
   },
   "outputs": [],
   "source": [
    "new_x=temp2.createVariable('x',float,('y','x'), zlib=True)\n",
    "new_x.setncattr('units','metres')\n",
    "new_y = temp2.createVariable('y',float,('y','x'), zlib=True)\n",
    "new_y.setncattr('units','metres')\n",
    "newdepths = temp2.createVariable(\n",
    "    'Bathymetry', float, ('y','x'),\n",
    "    zlib = True, least_significant_digit=1)\n",
    "newdepths.setncattr('units','metres')"
   ]
  },
  {
   "cell_type": "code",
   "execution_count": 32,
   "metadata": {
    "collapsed": true
   },
   "outputs": [],
   "source": [
    "new_x[:]=X;\n",
    "new_y[:]=Y;\n",
    "newdepths[:]=B"
   ]
  },
  {
   "cell_type": "code",
   "execution_count": 34,
   "metadata": {
    "collapsed": false
   },
   "outputs": [],
   "source": [
    "temp2.close()"
   ]
  },
  {
   "cell_type": "code",
   "execution_count": 35,
   "metadata": {
    "collapsed": true
   },
   "outputs": [],
   "source": [
    "temp.close()"
   ]
  },
  {
   "cell_type": "code",
   "execution_count": null,
   "metadata": {
    "collapsed": true
   },
   "outputs": [],
   "source": []
  }
 ],
 "metadata": {
  "kernelspec": {
   "display_name": "Python 3",
   "language": "python",
   "name": "python3"
  },
  "language_info": {
   "codemirror_mode": {
    "name": "ipython",
    "version": 3
   },
   "file_extension": ".py",
   "mimetype": "text/x-python",
   "name": "python",
   "nbconvert_exporter": "python",
   "pygments_lexer": "ipython3",
   "version": "3.4.3"
  }
 },
 "nbformat": 4,
 "nbformat_minor": 0
}
