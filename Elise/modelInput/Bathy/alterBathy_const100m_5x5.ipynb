{
 "cells": [
  {
   "cell_type": "code",
   "execution_count": 1,
   "metadata": {
    "collapsed": false
   },
   "outputs": [],
   "source": [
    "import netCDF4 as nc\n",
    "from salishsea_tools import tidetools, nc_tools\n",
    "import matplotlib.pyplot as plt\n",
    "import numpy as np\n",
    "import os\n",
    "import re\n",
    "\n",
    "%matplotlib inline\n",
    "resultsDir='/data/eolson/MEOPAR/SS2D/run7/'"
   ]
  },
  {
   "cell_type": "code",
   "execution_count": 2,
   "metadata": {
    "collapsed": false
   },
   "outputs": [],
   "source": [
    "grid=nc.Dataset(os.path.join(resultsDir,'bathy_meter.nc'))"
   ]
  },
  {
   "cell_type": "code",
   "execution_count": 3,
   "metadata": {
    "collapsed": false
   },
   "outputs": [
    {
     "name": "stdout",
     "output_type": "stream",
     "text": [
      "[[ 100.  100.  100.  100.  100.]\n",
      " [ 100.  100.  100.  100.  100.]\n",
      " [ 100.  100.  100.  100.  100.]\n",
      " [ 100.  100.  100.  100.  100.]\n",
      " [ 100.  100.  100.  100.  100.]]\n"
     ]
    }
   ],
   "source": [
    "X=grid.variables['x'][0:5,0:5]\n",
    "Y=grid.variables['y'][0:5,0:5]\n",
    "B=np.copy(grid.variables['Bathymetry'][0:5,0:5])\n",
    "B[:,:]=100.0\n",
    "print B"
   ]
  },
  {
   "cell_type": "code",
   "execution_count": 4,
   "metadata": {
    "collapsed": false
   },
   "outputs": [
    {
     "data": {
      "text/plain": [
       "<matplotlib.colorbar.Colorbar instance at 0x7f3a77d64908>"
      ]
     },
     "execution_count": 4,
     "metadata": {},
     "output_type": "execute_result"
    },
    {
     "data": {
      "image/png": "[encoded data removed]",
      "text/plain": [
       "<matplotlib.figure.Figure at 0x7f3a77e02cd0>"
      ]
     },
     "metadata": {},
     "output_type": "display_data"
    }
   ],
   "source": [
    "plt.pcolormesh(B[:]); plt.colorbar()"
   ]
  },
  {
   "cell_type": "code",
   "execution_count": 5,
   "metadata": {
    "collapsed": false
   },
   "outputs": [
    {
     "name": "stdout",
     "output_type": "stream",
     "text": [
      "<type 'netCDF4.Dimension'>: name = 'y', size = 5\n",
      "\n",
      "<type 'netCDF4.Dimension'>: name = 'x', size = 5\n",
      "\n"
     ]
    }
   ],
   "source": [
    "new_bathy=nc.Dataset('/data/eolson/MEOPAR/SS2DSOGruns/bathyConst100m5x5.nc','w')\n",
    "new_bathy.createDimension('y', B.shape[0])\n",
    "new_bathy.createDimension('x', B.shape[1])\n",
    "nc_tools.show_dimensions(new_bathy)"
   ]
  },
  {
   "cell_type": "code",
   "execution_count": 6,
   "metadata": {
    "collapsed": false
   },
   "outputs": [],
   "source": [
    "new_x=new_bathy.createVariable('x',float,('y','x'), zlib=True)\n",
    "new_x.setncattr('units','metres')\n",
    "new_y = new_bathy.createVariable('y',float,('y','x'), zlib=True)\n",
    "new_y.setncattr('units','metres')\n",
    "newdepths = new_bathy.createVariable(\n",
    "    'Bathymetry', float, ('y','x'),\n",
    "    zlib = True, least_significant_digit=1)\n",
    "newdepths.setncattr('units','metres')"
   ]
  },
  {
   "cell_type": "code",
   "execution_count": 7,
   "metadata": {
    "collapsed": false
   },
   "outputs": [],
   "source": [
    "new_x[:]=X;\n",
    "new_y[:]=Y;\n",
    "newdepths[:]=B"
   ]
  },
  {
   "cell_type": "code",
   "execution_count": 8,
   "metadata": {
    "collapsed": false
   },
   "outputs": [],
   "source": [
    "new_bathy.title=\"\"\"Flat 100m SS2D 5x5 Bathymetry\"\"\"\n",
    "new_bathy.institution=\"\"\"\n",
    "Dept of Earth, Ocean & Atmospheric Sciences, University of British Columbia\"\"\"\n",
    "new_bathy.comment= \"\"\"\n",
    "Based on bathy2D.ncg\"\"\"\n",
    "new_bathy.reference= \"\"\"\n",
    "eolson: alterBathy_const100m_5x5.ipynb\"\"\""
   ]
  },
  {
   "cell_type": "code",
   "execution_count": 9,
   "metadata": {
    "collapsed": false
   },
   "outputs": [
    {
     "name": "stdout",
     "output_type": "stream",
     "text": [
      "file format: NETCDF4\n",
      "title: Flat 100m SS2D 5x5 Bathymetry\n",
      "institution: \n",
      "Dept of Earth, Ocean & Atmospheric Sciences, University of British Columbia\n",
      "comment: \n",
      "Based on bathy2D.ncg\n",
      "reference: \n",
      "eolson: alterBathy_const100m_5x5.ipynb\n"
     ]
    }
   ],
   "source": [
    "nc_tools.show_dataset_attrs(new_bathy)"
   ]
  },
  {
   "cell_type": "code",
   "execution_count": 10,
   "metadata": {
    "collapsed": false
   },
   "outputs": [],
   "source": [
    "new_bathy.close()"
   ]
  },
  {
   "cell_type": "code",
   "execution_count": 11,
   "metadata": {
    "collapsed": false
   },
   "outputs": [],
   "source": [
    "grid.close()"
   ]
  },
  {
   "cell_type": "code",
   "execution_count": 12,
   "metadata": {
    "collapsed": false
   },
   "outputs": [
    {
     "data": {
      "text/plain": [
       "<matplotlib.colorbar.Colorbar instance at 0x7f3a77aeb9e0>"
      ]
     },
     "execution_count": 12,
     "metadata": {},
     "output_type": "execute_result"
    },
    {
     "data": {
      "image/png": "[encoded data removed]",
      "text/plain": [
       "<matplotlib.figure.Figure at 0x7f3aa81d21d0>"
      ]
     },
     "metadata": {},
     "output_type": "display_data"
    }
   ],
   "source": [
    "B=nc.Dataset('/data/eolson/MEOPAR/SS2DSOGruns/bathyConst100m5x5.nc')\n",
    "thal=B.variables['Bathymetry']\n",
    "plt.pcolormesh(thal[:]); plt.colorbar()"
   ]
  },
  {
   "cell_type": "code",
   "execution_count": 13,
   "metadata": {
    "collapsed": false
   },
   "outputs": [
    {
     "data": {
      "text/plain": [
       "[<matplotlib.lines.Line2D at 0x7f3a77a34090>]"
      ]
     },
     "execution_count": 13,
     "metadata": {},
     "output_type": "execute_result"
    },
    {
     "data": {
      "image/png": "[encoded data removed]",
      "text/plain": [
       "<matplotlib.figure.Figure at 0x7f3a77cda210>"
      ]
     },
     "metadata": {},
     "output_type": "display_data"
    }
   ],
   "source": [
    "plt.plot(-thal[0,:])"
   ]
  },
  {
   "cell_type": "code",
   "execution_count": 14,
   "metadata": {
    "collapsed": false
   },
   "outputs": [
    {
     "data": {
      "text/plain": [
       "100.0"
      ]
     },
     "execution_count": 14,
     "metadata": {},
     "output_type": "execute_result"
    }
   ],
   "source": [
    "thal[0,-1]"
   ]
  },
  {
   "cell_type": "code",
   "execution_count": 15,
   "metadata": {
    "collapsed": false
   },
   "outputs": [],
   "source": [
    "B.close()"
   ]
  },
  {
   "cell_type": "code",
   "execution_count": null,
   "metadata": {
    "collapsed": false
   },
   "outputs": [],
   "source": []
  },
  {
   "cell_type": "code",
   "execution_count": null,
   "metadata": {
    "collapsed": true
   },
   "outputs": [],
   "source": []
  }
 ],
 "metadata": {
  "kernelspec": {
   "display_name": "Python 2",
   "language": "python",
   "name": "python2"
  },
  "language_info": {
   "codemirror_mode": {
    "name": "ipython",
    "version": 2
   },
   "file_extension": ".py",
   "mimetype": "text/x-python",
   "name": "python",
   "nbconvert_exporter": "python",
   "pygments_lexer": "ipython2",
   "version": "2.7.10"
  }
 },
 "nbformat": 4,
 "nbformat_minor": 0
}
