{
 "cells": [
  {
   "cell_type": "markdown",
   "metadata": {},
   "source": [
    "Code to create biochem ICs for SOG model for full Salish Sea domain\n",
    "- not final; should find climatology of deep values and try to find more measurements for lateral resolution\n",
    "- all based on S3 from October 2004"
   ]
  },
  {
   "cell_type": "code",
   "execution_count": 1,
   "metadata": {
    "collapsed": false
   },
   "outputs": [],
   "source": [
    "import netCDF4 as nc\n",
    "\n",
    "import matplotlib.pyplot as plt\n",
    "import numpy as np\n",
    "import os\n",
    "import re\n",
    "\n",
    "%matplotlib inline\n",
    "\n",
    "#resultsDir='/data/eolson/MEOPAR/SS2DSOGruns/'\n",
    "N2chl=1.600"
   ]
  },
  {
   "cell_type": "code",
   "execution_count": 2,
   "metadata": {
    "collapsed": false
   },
   "outputs": [
    {
     "name": "stdout",
     "output_type": "stream",
     "text": [
      "OrderedDict([('t', <class 'netCDF4._netCDF4.Dimension'> (unlimited): name = 't', size = 1\n",
      "), ('z', <class 'netCDF4._netCDF4.Dimension'>: name = 'z', size = 40\n",
      "), ('y', <class 'netCDF4._netCDF4.Dimension'>: name = 'y', size = 898\n",
      "), ('x', <class 'netCDF4._netCDF4.Dimension'>: name = 'x', size = 398\n",
      ")])\n",
      "OrderedDict([('adatrj', <class 'netCDF4._netCDF4.Variable'>\n",
      "float64 adatrj()\n",
      "unlimited dimensions: \n",
      "current shape = ()\n",
      "filling on, default _FillValue of 9.969209968386869e+36 used\n",
      "), ('avm', <class 'netCDF4._netCDF4.Variable'>\n",
      "float64 avm(t, z, y, x)\n",
      "unlimited dimensions: t\n",
      "current shape = (1, 40, 898, 398)\n",
      "filling on, default _FillValue of 9.969209968386869e+36 used\n",
      "), ('avmu', <class 'netCDF4._netCDF4.Variable'>\n",
      "float64 avmu(t, z, y, x)\n",
      "unlimited dimensions: t\n",
      "current shape = (1, 40, 898, 398)\n",
      "filling on, default _FillValue of 9.969209968386869e+36 used\n",
      "), ('avmv', <class 'netCDF4._netCDF4.Variable'>\n",
      "float64 avmv(t, z, y, x)\n",
      "unlimited dimensions: t\n",
      "current shape = (1, 40, 898, 398)\n",
      "filling on, default _FillValue of 9.969209968386869e+36 used\n",
      "), ('avt', <class 'netCDF4._netCDF4.Variable'>\n",
      "float64 avt(t, z, y, x)\n",
      "unlimited dimensions: t\n",
      "current shape = (1, 40, 898, 398)\n",
      "filling on, default _FillValue of 9.969209968386869e+36 used\n",
      "), ('emp_b', <class 'netCDF4._netCDF4.Variable'>\n",
      "float64 emp_b(t, y, x)\n",
      "unlimited dimensions: t\n",
      "current shape = (1, 898, 398)\n",
      "filling on, default _FillValue of 9.969209968386869e+36 used\n",
      "), ('emps_b', <class 'netCDF4._netCDF4.Variable'>\n",
      "float64 emps_b(t, y, x)\n",
      "unlimited dimensions: t\n",
      "current shape = (1, 898, 398)\n",
      "filling on, default _FillValue of 9.969209968386869e+36 used\n",
      "), ('en', <class 'netCDF4._netCDF4.Variable'>\n",
      "float64 en(t, z, y, x)\n",
      "unlimited dimensions: t\n",
      "current shape = (1, 40, 898, 398)\n",
      "filling on, default _FillValue of 9.969209968386869e+36 used\n",
      "), ('fse3t_b', <class 'netCDF4._netCDF4.Variable'>\n",
      "float64 fse3t_b(t, z, y, x)\n",
      "unlimited dimensions: t\n",
      "current shape = (1, 40, 898, 398)\n",
      "filling on, default _FillValue of 9.969209968386869e+36 used\n",
      "), ('hdivb', <class 'netCDF4._netCDF4.Variable'>\n",
      "float64 hdivb(t, z, y, x)\n",
      "unlimited dimensions: t\n",
      "current shape = (1, 40, 898, 398)\n",
      "filling on, default _FillValue of 9.969209968386869e+36 used\n",
      "), ('hdivn', <class 'netCDF4._netCDF4.Variable'>\n",
      "float64 hdivn(t, z, y, x)\n",
      "unlimited dimensions: t\n",
      "current shape = (1, 40, 898, 398)\n",
      "filling on, default _FillValue of 9.969209968386869e+36 used\n",
      "), ('kt', <class 'netCDF4._netCDF4.Variable'>\n",
      "float64 kt()\n",
      "unlimited dimensions: \n",
      "current shape = ()\n",
      "filling on, default _FillValue of 9.969209968386869e+36 used\n",
      "), ('mxln', <class 'netCDF4._netCDF4.Variable'>\n",
      "float64 mxln(t, z, y, x)\n",
      "unlimited dimensions: t\n",
      "current shape = (1, 40, 898, 398)\n",
      "filling on, default _FillValue of 9.969209968386869e+36 used\n",
      "), ('nav_lat', <class 'netCDF4._netCDF4.Variable'>\n",
      "float32 nav_lat(y, x)\n",
      "unlimited dimensions: \n",
      "current shape = (898, 398)\n",
      "filling on, default _FillValue of 9.969209968386869e+36 used\n",
      "), ('nav_lev', <class 'netCDF4._netCDF4.Variable'>\n",
      "float32 nav_lev(z)\n",
      "unlimited dimensions: \n",
      "current shape = (40,)\n",
      "filling on, default _FillValue of 9.969209968386869e+36 used\n",
      "), ('nav_lon', <class 'netCDF4._netCDF4.Variable'>\n",
      "float32 nav_lon(y, x)\n",
      "unlimited dimensions: \n",
      "current shape = (898, 398)\n",
      "filling on, default _FillValue of 9.969209968386869e+36 used\n",
      "), ('ndastp', <class 'netCDF4._netCDF4.Variable'>\n",
      "float64 ndastp()\n",
      "unlimited dimensions: \n",
      "current shape = ()\n",
      "filling on, default _FillValue of 9.969209968386869e+36 used\n",
      "), ('qns_b', <class 'netCDF4._netCDF4.Variable'>\n",
      "float64 qns_b(t, y, x)\n",
      "unlimited dimensions: t\n",
      "current shape = (1, 898, 398)\n",
      "filling on, default _FillValue of 9.969209968386869e+36 used\n",
      "), ('qsr_hc_b', <class 'netCDF4._netCDF4.Variable'>\n",
      "float64 qsr_hc_b(t, z, y, x)\n",
      "unlimited dimensions: t\n",
      "current shape = (1, 40, 898, 398)\n",
      "filling on, default _FillValue of 9.969209968386869e+36 used\n",
      "), ('rdt', <class 'netCDF4._netCDF4.Variable'>\n",
      "float64 rdt()\n",
      "unlimited dimensions: \n",
      "current shape = ()\n",
      "filling on, default _FillValue of 9.969209968386869e+36 used\n",
      "), ('rdttra1', <class 'netCDF4._netCDF4.Variable'>\n",
      "float64 rdttra1()\n",
      "unlimited dimensions: \n",
      "current shape = ()\n",
      "filling on, default _FillValue of 9.969209968386869e+36 used\n",
      "), ('rhop', <class 'netCDF4._netCDF4.Variable'>\n",
      "float64 rhop(t, z, y, x)\n",
      "unlimited dimensions: t\n",
      "current shape = (1, 40, 898, 398)\n",
      "filling on, default _FillValue of 9.969209968386869e+36 used\n",
      "), ('rnf_b', <class 'netCDF4._netCDF4.Variable'>\n",
      "float64 rnf_b(t, y, x)\n",
      "unlimited dimensions: t\n",
      "current shape = (1, 898, 398)\n",
      "filling on, default _FillValue of 9.969209968386869e+36 used\n",
      "), ('rnf_hc_b', <class 'netCDF4._netCDF4.Variable'>\n",
      "float64 rnf_hc_b(t, y, x)\n",
      "unlimited dimensions: t\n",
      "current shape = (1, 898, 398)\n",
      "filling on, default _FillValue of 9.969209968386869e+36 used\n",
      "), ('rnf_sc_b', <class 'netCDF4._netCDF4.Variable'>\n",
      "float64 rnf_sc_b(t, y, x)\n",
      "unlimited dimensions: t\n",
      "current shape = (1, 898, 398)\n",
      "filling on, default _FillValue of 9.969209968386869e+36 used\n",
      "), ('rotb', <class 'netCDF4._netCDF4.Variable'>\n",
      "float64 rotb(t, z, y, x)\n",
      "unlimited dimensions: t\n",
      "current shape = (1, 40, 898, 398)\n",
      "filling on, default _FillValue of 9.969209968386869e+36 used\n",
      "), ('rotn', <class 'netCDF4._netCDF4.Variable'>\n",
      "float64 rotn(t, z, y, x)\n",
      "unlimited dimensions: t\n",
      "current shape = (1, 40, 898, 398)\n",
      "filling on, default _FillValue of 9.969209968386869e+36 used\n",
      "), ('sb', <class 'netCDF4._netCDF4.Variable'>\n",
      "float64 sb(t, z, y, x)\n",
      "unlimited dimensions: t\n",
      "current shape = (1, 40, 898, 398)\n",
      "filling on, default _FillValue of 9.969209968386869e+36 used\n",
      "), ('sbc_hc_b', <class 'netCDF4._netCDF4.Variable'>\n",
      "float64 sbc_hc_b(t, y, x)\n",
      "unlimited dimensions: t\n",
      "current shape = (1, 898, 398)\n",
      "filling on, default _FillValue of 9.969209968386869e+36 used\n",
      "), ('sbc_sc_b', <class 'netCDF4._netCDF4.Variable'>\n",
      "float64 sbc_sc_b(t, y, x)\n",
      "unlimited dimensions: t\n",
      "current shape = (1, 898, 398)\n",
      "filling on, default _FillValue of 9.969209968386869e+36 used\n",
      "), ('sn', <class 'netCDF4._netCDF4.Variable'>\n",
      "float64 sn(t, z, y, x)\n",
      "unlimited dimensions: t\n",
      "current shape = (1, 40, 898, 398)\n",
      "filling on, default _FillValue of 9.969209968386869e+36 used\n",
      "), ('ssh_ibb', <class 'netCDF4._netCDF4.Variable'>\n",
      "float64 ssh_ibb(t, y, x)\n",
      "unlimited dimensions: t\n",
      "current shape = (1, 898, 398)\n",
      "filling on, default _FillValue of 9.969209968386869e+36 used\n",
      "), ('sshb', <class 'netCDF4._netCDF4.Variable'>\n",
      "float64 sshb(t, y, x)\n",
      "unlimited dimensions: t\n",
      "current shape = (1, 898, 398)\n",
      "filling on, default _FillValue of 9.969209968386869e+36 used\n",
      "), ('sshn', <class 'netCDF4._netCDF4.Variable'>\n",
      "float64 sshn(t, y, x)\n",
      "unlimited dimensions: t\n",
      "current shape = (1, 898, 398)\n",
      "filling on, default _FillValue of 9.969209968386869e+36 used\n",
      "), ('sshn_b', <class 'netCDF4._netCDF4.Variable'>\n",
      "float64 sshn_b(t, y, x)\n",
      "unlimited dimensions: t\n",
      "current shape = (1, 898, 398)\n",
      "filling on, default _FillValue of 9.969209968386869e+36 used\n",
      "), ('tb', <class 'netCDF4._netCDF4.Variable'>\n",
      "float64 tb(t, z, y, x)\n",
      "unlimited dimensions: t\n",
      "current shape = (1, 40, 898, 398)\n",
      "filling on, default _FillValue of 9.969209968386869e+36 used\n",
      "), ('time_counter', <class 'netCDF4._netCDF4.Variable'>\n",
      "float64 time_counter(t)\n",
      "unlimited dimensions: t\n",
      "current shape = (1,)\n",
      "filling on, default _FillValue of 9.969209968386869e+36 used\n",
      "), ('tn', <class 'netCDF4._netCDF4.Variable'>\n",
      "float64 tn(t, z, y, x)\n",
      "unlimited dimensions: t\n",
      "current shape = (1, 40, 898, 398)\n",
      "filling on, default _FillValue of 9.969209968386869e+36 used\n",
      "), ('ub', <class 'netCDF4._netCDF4.Variable'>\n",
      "float64 ub(t, z, y, x)\n",
      "unlimited dimensions: t\n",
      "current shape = (1, 40, 898, 398)\n",
      "filling on, default _FillValue of 9.969209968386869e+36 used\n",
      "), ('un', <class 'netCDF4._netCDF4.Variable'>\n",
      "float64 un(t, z, y, x)\n",
      "unlimited dimensions: t\n",
      "current shape = (1, 40, 898, 398)\n",
      "filling on, default _FillValue of 9.969209968386869e+36 used\n",
      "), ('un_b', <class 'netCDF4._netCDF4.Variable'>\n",
      "float64 un_b(t, y, x)\n",
      "unlimited dimensions: t\n",
      "current shape = (1, 898, 398)\n",
      "filling on, default _FillValue of 9.969209968386869e+36 used\n",
      "), ('utau_b', <class 'netCDF4._netCDF4.Variable'>\n",
      "float64 utau_b(t, y, x)\n",
      "unlimited dimensions: t\n",
      "current shape = (1, 898, 398)\n",
      "filling on, default _FillValue of 9.969209968386869e+36 used\n",
      "), ('vb', <class 'netCDF4._netCDF4.Variable'>\n",
      "float64 vb(t, z, y, x)\n",
      "unlimited dimensions: t\n",
      "current shape = (1, 40, 898, 398)\n",
      "filling on, default _FillValue of 9.969209968386869e+36 used\n",
      "), ('vn', <class 'netCDF4._netCDF4.Variable'>\n",
      "float64 vn(t, z, y, x)\n",
      "unlimited dimensions: t\n",
      "current shape = (1, 40, 898, 398)\n",
      "filling on, default _FillValue of 9.969209968386869e+36 used\n",
      "), ('vn_b', <class 'netCDF4._netCDF4.Variable'>\n",
      "float64 vn_b(t, y, x)\n",
      "unlimited dimensions: t\n",
      "current shape = (1, 898, 398)\n",
      "filling on, default _FillValue of 9.969209968386869e+36 used\n",
      "), ('vtau_b', <class 'netCDF4._netCDF4.Variable'>\n",
      "float64 vtau_b(t, y, x)\n",
      "unlimited dimensions: t\n",
      "current shape = (1, 898, 398)\n",
      "filling on, default _FillValue of 9.969209968386869e+36 used\n",
      ")])\n"
     ]
    }
   ],
   "source": [
    "TS=nc.Dataset('/results/SalishSea/nowcast/11jun15/SalishSea_02376000_restart.nc')\n",
    "zvar='nav_lev'\n",
    "xvar='nav_lon'\n",
    "yvar='nav_lat'\n",
    "tvar='time_counter'\n",
    "tlen=TS.variables['sn'].shape[0]\n",
    "zlen=TS.variables['sn'].shape[1]\n",
    "ylen=TS.variables['sn'].shape[2]\n",
    "xlen=TS.variables['sn'].shape[3]\n",
    "print(TS.dimensions)\n",
    "print(TS.variables)"
   ]
  },
  {
   "cell_type": "code",
   "execution_count": 3,
   "metadata": {
    "collapsed": false
   },
   "outputs": [],
   "source": [
    "# read z, T, S into CTD\n",
    "CTD=np.loadtxt('/data/eolson/SOG/SOG-initial/ctd/SG-S3-2004-10-19.sog',skiprows=12,usecols=(1, 4, 2, 8))\n",
    "# columns are   0:z  1:chl  2:T  3:Si"
   ]
  },
  {
   "cell_type": "code",
   "execution_count": 4,
   "metadata": {
    "collapsed": false
   },
   "outputs": [
    {
     "name": "stdout",
     "output_type": "stream",
     "text": [
      "[   0.5000003     1.5000031     2.50001144    3.50003052    4.50007057\n",
      "    5.50015068    6.50031042    7.50062323    8.50123596    9.50243282\n",
      "   10.50476551   11.50931168   12.51816654   13.53541183   14.56898212\n",
      "   15.63428783   16.76117325   18.00713539   19.48178482   21.38997841\n",
      "   24.10025597   28.22991562   34.68575668   44.51772308   58.48433304\n",
      "   76.58558655   98.06295776  121.86651611  147.08946228  173.11448669\n",
      "  199.57304382  226.26029968  253.06663513  279.93453979  306.834198\n",
      "  333.75018311  360.67453003  387.60321045  414.53408813  441.46609497]\n"
     ]
    }
   ],
   "source": [
    "print(TS.variables[zvar][:])"
   ]
  },
  {
   "cell_type": "code",
   "execution_count": 5,
   "metadata": {
    "collapsed": true
   },
   "outputs": [],
   "source": [
    "nuts=np.loadtxt('/data/eolson/SOG/SOG-initial/stratogem_nuts/Nuts-S3-2004-10-19.sog', skiprows=12, usecols=(0,1,2))\n",
    "# columns are  0:z  1:NO  2:Si  "
   ]
  },
  {
   "cell_type": "code",
   "execution_count": 6,
   "metadata": {
    "collapsed": false
   },
   "outputs": [
    {
     "name": "stdout",
     "output_type": "stream",
     "text": [
      "(237, 4)\n"
     ]
    }
   ],
   "source": [
    "print(CTD.shape)"
   ]
  },
  {
   "cell_type": "code",
   "execution_count": 7,
   "metadata": {
    "collapsed": false
   },
   "outputs": [],
   "source": [
    "# add z=0 at first row, repeating T,S values from next level\n",
    "data=np.vstack((CTD[0,:],CTD))\n",
    "data[0,0]=0.\n",
    "zs=TS.variables[zvar][:]"
   ]
  },
  {
   "cell_type": "code",
   "execution_count": 8,
   "metadata": {
    "collapsed": false
   },
   "outputs": [
    {
     "name": "stdout",
     "output_type": "stream",
     "text": [
      "[  9.20829982   8.60289812   7.99749307   7.39208152   6.78665728\n",
      "   6.54051703   6.65353508   6.76657042   6.87963966   6.99277491\n",
      "   7.54384687   8.5286537    9.51768457  10.51494099  11.52820163\n",
      "  12.57257408  13.67731619  14.89879518  16.34446775  18.21516533\n",
      "  20.87218594  24.92069778  26.656       26.656       26.656       26.656\n",
      "  26.656       26.656       26.656       26.656       26.656       26.656\n",
      "  26.656       26.656       26.656       26.656       26.656       26.656\n",
      "  26.656       26.656     ]\n"
     ]
    }
   ],
   "source": [
    "# Remove records with negative data values (typically -99.0 or\n",
    "# -99999) because that indicates invalid data\n",
    "data_qty=nuts[:,1] #NO\n",
    "mask = (data_qty >= 0.0)\n",
    "data_records = len(data_qty[mask])\n",
    "qty_clean = data_qty[mask]\n",
    "depth_clean= nuts[:,0][mask]\n",
    "# Calculate depth and quantity differences from field data for use\n",
    "NO=np.interp(zs,depth_clean,qty_clean)\n",
    "print(NO)"
   ]
  },
  {
   "cell_type": "code",
   "execution_count": 9,
   "metadata": {
    "collapsed": false
   },
   "outputs": [
    {
     "name": "stdout",
     "output_type": "stream",
     "text": [
      "[ 26.49739951  24.86819495  23.23898136  21.60975028  19.98048502\n",
      "  19.17070142  19.18010292  19.18950586  19.19891162  19.20832287\n",
      "  19.95482863  21.4311599   22.91382346  24.408818    25.92780458\n",
      "  27.49343112  29.14955826  30.98068653  33.14790506  35.95228177\n",
      "  39.93544118  46.00459549  48.606       48.606       48.606       48.606\n",
      "  48.606       48.606       48.606       48.606       48.606       48.606\n",
      "  48.606       48.606       48.606       48.606       48.606       48.606\n",
      "  48.606       48.606     ]\n"
     ]
    }
   ],
   "source": [
    "# Remove records with negative data values (typically -99.0 or\n",
    "# -99999) because that indicates invalid data\n",
    "data_qty=nuts[:,2] #Si\n",
    "mask = (data_qty >= 0.0)\n",
    "data_records = len(data_qty[mask])\n",
    "qty_clean = data_qty[mask]\n",
    "depth_clean= nuts[:,0][mask]\n",
    "Si=np.interp(zs,depth_clean,qty_clean)\n",
    "print (Si)"
   ]
  },
  {
   "cell_type": "code",
   "execution_count": 10,
   "metadata": {
    "collapsed": false
   },
   "outputs": [
    {
     "name": "stdout",
     "output_type": "stream",
     "text": [
      "[ 3.8466      3.77219954  3.46309463  3.31560532  3.73684714  4.27036012\n",
      "  4.45914339  4.5218413   4.09040576  3.26508496  2.74198331  2.56332526\n",
      "  2.54226848  2.38431421  2.13442678  2.03313374  1.96380502  1.81095658\n",
      "  1.67864778  1.20629758  0.88869812  0.75623901  0.6288632   0.27409216\n",
      "  0.17247887  0.14814144  0.12857086  0.09962737  0.086       0.          0.\n",
      "  0.          0.          0.          0.          0.          0.          0.\n",
      "  0.          0.        ]\n"
     ]
    }
   ],
   "source": [
    "# Remove records with negative data values (typically -99.0 or\n",
    "# -99999) because that indicates invalid data\n",
    "data_qty=data[:,1] # chl\n",
    "mask = (data_qty >= 0.0)\n",
    "data_records = len(data_qty[mask])\n",
    "qty_clean = data_qty[mask]\n",
    "depth_clean= data[:,0][mask]\n",
    "P=np.interp(zs,depth_clean,qty_clean)\n",
    "P[zs>150]=0.0\n",
    "print (P)"
   ]
  },
  {
   "cell_type": "code",
   "execution_count": 11,
   "metadata": {
    "collapsed": false
   },
   "outputs": [
    {
     "name": "stdout",
     "output_type": "stream",
     "text": [
      "(1, 40, 898, 398)\n",
      "[[ 1.  1.  1. ...,  1.  1.  1.]\n",
      " [ 1.  1.  1. ...,  1.  1.  1.]\n",
      " [ 1.  1.  1. ...,  1.  1.  1.]\n",
      " ..., \n",
      " [ 1.  1.  1. ...,  1.  1.  1.]\n",
      " [ 1.  1.  1. ...,  1.  1.  1.]\n",
      " [ 1.  1.  1. ...,  1.  1.  1.]]\n"
     ]
    }
   ],
   "source": [
    "# create temp and sal arrays with correct dimensions\n",
    "vecNO=np.reshape(NO,(zlen,1,1))\n",
    "data_NO=np.tile(vecNO,(1,1,ylen,xlen))\n",
    "vecSi=np.reshape(Si,(zlen,1,1))\n",
    "data_Si=np.tile(vecSi,(1,1,ylen,xlen))\n",
    "print (data_Si.shape)\n",
    "vecP=0.33*np.reshape(P,(zlen,1,1))/N2chl\n",
    "data_PHY=np.tile(vecP,(1,1,ylen,xlen))\n",
    "data_PHY2=data_PHY\n",
    "data_MYRI=data_PHY*1e-6\n",
    "data_MICZ=data_MYRI\n",
    "data_NH4=0.0*data_PHY+1.0\n",
    "data_POC=data_PHY2/5.0*1e-6\n",
    "data_DOC=data_POC/10.0\n",
    "data_bSi=data_POC\n",
    "data_POC=data_POC*7.6\n",
    "data_DOC=data_DOC*7.6\n",
    "print (data_NH4[0,0,:,:])"
   ]
  },
  {
   "cell_type": "code",
   "execution_count": 12,
   "metadata": {
    "collapsed": false
   },
   "outputs": [
    {
     "name": "stdout",
     "output_type": "stream",
     "text": [
      "<class 'netCDF4._netCDF4.Dataset'>\n",
      "root group (NETCDF4 data model, file format UNDEFINED):\n",
      "    file_name: SalishSea_02376000_restart.nc\n",
      "    TimeStamp: 11/06/2015 12:39:04 -0700\n",
      "    history: Thu Jun 11 12:45:31 2015: ncks -4 -L4 -O SalishSea_02376000_restart.nc SalishSea_02376000_restart.nc\n",
      "    NCO: 4.4.2\n",
      "    dimensions(sizes): t(1), z(40), y(898), x(398)\n",
      "    variables(dimensions): float64 \u001b[4madatrj\u001b[0m(), float64 \u001b[4mavm\u001b[0m(t,z,y,x), float64 \u001b[4mavmu\u001b[0m(t,z,y,x), float64 \u001b[4mavmv\u001b[0m(t,z,y,x), float64 \u001b[4mavt\u001b[0m(t,z,y,x), float64 \u001b[4memp_b\u001b[0m(t,y,x), float64 \u001b[4memps_b\u001b[0m(t,y,x), float64 \u001b[4men\u001b[0m(t,z,y,x), float64 \u001b[4mfse3t_b\u001b[0m(t,z,y,x), float64 \u001b[4mhdivb\u001b[0m(t,z,y,x), float64 \u001b[4mhdivn\u001b[0m(t,z,y,x), float64 \u001b[4mkt\u001b[0m(), float64 \u001b[4mmxln\u001b[0m(t,z,y,x), float32 \u001b[4mnav_lat\u001b[0m(y,x), float32 \u001b[4mnav_lev\u001b[0m(z), float32 \u001b[4mnav_lon\u001b[0m(y,x), float64 \u001b[4mndastp\u001b[0m(), float64 \u001b[4mqns_b\u001b[0m(t,y,x), float64 \u001b[4mqsr_hc_b\u001b[0m(t,z,y,x), float64 \u001b[4mrdt\u001b[0m(), float64 \u001b[4mrdttra1\u001b[0m(), float64 \u001b[4mrhop\u001b[0m(t,z,y,x), float64 \u001b[4mrnf_b\u001b[0m(t,y,x), float64 \u001b[4mrnf_hc_b\u001b[0m(t,y,x), float64 \u001b[4mrnf_sc_b\u001b[0m(t,y,x), float64 \u001b[4mrotb\u001b[0m(t,z,y,x), float64 \u001b[4mrotn\u001b[0m(t,z,y,x), float64 \u001b[4msb\u001b[0m(t,z,y,x), float64 \u001b[4msbc_hc_b\u001b[0m(t,y,x), float64 \u001b[4msbc_sc_b\u001b[0m(t,y,x), float64 \u001b[4msn\u001b[0m(t,z,y,x), float64 \u001b[4mssh_ibb\u001b[0m(t,y,x), float64 \u001b[4msshb\u001b[0m(t,y,x), float64 \u001b[4msshn\u001b[0m(t,y,x), float64 \u001b[4msshn_b\u001b[0m(t,y,x), float64 \u001b[4mtb\u001b[0m(t,z,y,x), float64 \u001b[4mtime_counter\u001b[0m(t), float64 \u001b[4mtn\u001b[0m(t,z,y,x), float64 \u001b[4mub\u001b[0m(t,z,y,x), float64 \u001b[4mun\u001b[0m(t,z,y,x), float64 \u001b[4mun_b\u001b[0m(t,y,x), float64 \u001b[4mutau_b\u001b[0m(t,y,x), float64 \u001b[4mvb\u001b[0m(t,z,y,x), float64 \u001b[4mvn\u001b[0m(t,z,y,x), float64 \u001b[4mvn_b\u001b[0m(t,y,x), float64 \u001b[4mvtau_b\u001b[0m(t,y,x)\n",
      "    groups: \n",
      "\n",
      "<class 'netCDF4._netCDF4.Dataset'>\n",
      "root group (NETCDF4 data model, file format UNDEFINED):\n",
      "    dimensions(sizes): y(898), x(398), z(40), t(0)\n",
      "    variables(dimensions): \n",
      "    groups: \n",
      "\n"
     ]
    }
   ],
   "source": [
    "new_nuts=nc.Dataset('/ocean/eolson/MEOPAR/NEMO-3.6-inputs/initial_conditions/nuts_SOG_fullDomain.nc','w')\n",
    "new_nuts.createDimension('y', ylen)\n",
    "new_nuts.createDimension('x', xlen)\n",
    "new_nuts.createDimension('z', zlen)\n",
    "new_nuts.createDimension('t', None)\n",
    "\n",
    "print(TS)\n",
    "print(new_nuts)"
   ]
  },
  {
   "cell_type": "code",
   "execution_count": 13,
   "metadata": {
    "collapsed": false
   },
   "outputs": [
    {
     "name": "stdout",
     "output_type": "stream",
     "text": [
      "<class 'netCDF4._netCDF4.Variable'>\n",
      "float64 time_counter(t)\n",
      "unlimited dimensions: t\n",
      "current shape = (1,)\n",
      "filling on, default _FillValue of 9.969209968386869e+36 used\n",
      "\n",
      "<class 'netCDF4._netCDF4.Variable'>\n",
      "float64 time_counter(t)\n",
      "unlimited dimensions: t\n",
      "current shape = (1,)\n",
      "filling on, default _FillValue of 9.969209968386869e+36 used\n",
      "\n"
     ]
    }
   ],
   "source": [
    "new_tc=new_nuts.createVariable(tvar,float,('t'),zlib=True)\n",
    "#new_tc.setncattr('units',TS.variables[tvar].units)\n",
    "#new_tc.setncattr('long_name',TS.variables[tvar].long_name)\n",
    "new_tc[:]=TS.variables[tvar]\n",
    "\n",
    "print (TS.variables[tvar])\n",
    "print( new_nuts.variables[tvar])"
   ]
  },
  {
   "cell_type": "code",
   "execution_count": 14,
   "metadata": {
    "collapsed": false
   },
   "outputs": [
    {
     "name": "stdout",
     "output_type": "stream",
     "text": [
      "<class 'netCDF4._netCDF4.Variable'>\n",
      "float32 nav_lev(z)\n",
      "unlimited dimensions: \n",
      "current shape = (40,)\n",
      "filling on, default _FillValue of 9.969209968386869e+36 used\n",
      "\n",
      "<class 'netCDF4._netCDF4.Variable'>\n",
      "float64 nav_lev(z)\n",
      "unlimited dimensions: \n",
      "current shape = (40,)\n",
      "filling on, default _FillValue of 9.969209968386869e+36 used\n",
      "\n"
     ]
    }
   ],
   "source": [
    "new_z=new_nuts.createVariable(zvar,float,('z'),zlib=True)\n",
    "#new_z.setncattr('units',TS.variables[zvar].units)\n",
    "#new_z.setncattr('long_name',TS.variables[zvar].long_name)\n",
    "#new_z.setncattr('positive',TS.variables[zvar].positive)\n",
    "new_z[:]=zs\n",
    "\n",
    "print( TS.variables[zvar])\n",
    "print (new_nuts.variables[zvar])"
   ]
  },
  {
   "cell_type": "code",
   "execution_count": 15,
   "metadata": {
    "collapsed": false
   },
   "outputs": [
    {
     "name": "stdout",
     "output_type": "stream",
     "text": [
      "<class 'netCDF4._netCDF4.Variable'>\n",
      "float32 nav_lon(y, x)\n",
      "unlimited dimensions: \n",
      "current shape = (898, 398)\n",
      "filling on, default _FillValue of 9.969209968386869e+36 used\n",
      "\n",
      "<class 'netCDF4._netCDF4.Variable'>\n",
      "float64 nav_lon(y, x)\n",
      "unlimited dimensions: \n",
      "current shape = (898, 398)\n",
      "filling on, default _FillValue of 9.969209968386869e+36 used\n",
      "\n"
     ]
    }
   ],
   "source": [
    "new_x=new_nuts.createVariable(xvar,float,('y','x'),zlib=True)\n",
    "#new_x.setncattr('units',TS.variables[xvar].units)\n",
    "#new_x.setncattr('long_name',TS.variables[xvar].long_name)\n",
    "new_x=TS.variables[xvar]\n",
    "\n",
    "print (TS.variables[xvar])\n",
    "print (new_nuts.variables[xvar])"
   ]
  },
  {
   "cell_type": "code",
   "execution_count": 16,
   "metadata": {
    "collapsed": false
   },
   "outputs": [
    {
     "name": "stdout",
     "output_type": "stream",
     "text": [
      "<class 'netCDF4._netCDF4.Variable'>\n",
      "float32 nav_lat(y, x)\n",
      "unlimited dimensions: \n",
      "current shape = (898, 398)\n",
      "filling on, default _FillValue of 9.969209968386869e+36 used\n",
      "\n",
      "<class 'netCDF4._netCDF4.Variable'>\n",
      "float64 nav_lat(y, x)\n",
      "unlimited dimensions: \n",
      "current shape = (898, 398)\n",
      "filling on, default _FillValue of 9.969209968386869e+36 used\n",
      "\n"
     ]
    }
   ],
   "source": [
    "new_y=new_nuts.createVariable(yvar,float,('y','x'),zlib=True)\n",
    "#new_y.setncattr('units',TS.variables[yvar].units)\n",
    "#new_y.setncattr('long_name',TS.variables[yvar].long_name)\n",
    "new_y=TS.variables[yvar]\n",
    "\n",
    "print( TS.variables[yvar])\n",
    "print( new_nuts.variables[yvar])"
   ]
  },
  {
   "cell_type": "code",
   "execution_count": 17,
   "metadata": {
    "collapsed": false
   },
   "outputs": [
    {
     "name": "stdout",
     "output_type": "stream",
     "text": [
      "<class 'netCDF4._netCDF4.Variable'>\n",
      "float64 sn(t, z, y, x)\n",
      "unlimited dimensions: t\n",
      "current shape = (1, 40, 898, 398)\n",
      "filling on, default _FillValue of 9.969209968386869e+36 used\n",
      "\n",
      "<class 'netCDF4._netCDF4.Variable'>\n",
      "float64 NO3(t, z, y, x)\n",
      "unlimited dimensions: t\n",
      "current shape = (1, 40, 898, 398)\n",
      "filling on, default _FillValue of 9.969209968386869e+36 used\n",
      "\n"
     ]
    }
   ],
   "source": [
    "new_NO=new_nuts.createVariable('NO3',float,('t','z','y','x'),zlib=True)\n",
    "#new_Tem.setncattr('units',TS.variables['NO3'].units)\n",
    "#new_NO.setncattr('long_name','Nitrate')\n",
    "#new_NO.setncattr('coordinates',TS.variables['votemper'].coordinates)\n",
    "new_NO[:,:,:,:]=data_NO\n",
    "print( TS.variables['sn'])\n",
    "print( new_nuts.variables['NO3'])"
   ]
  },
  {
   "cell_type": "code",
   "execution_count": 18,
   "metadata": {
    "collapsed": false
   },
   "outputs": [
    {
     "name": "stdout",
     "output_type": "stream",
     "text": [
      "<class 'netCDF4._netCDF4.Variable'>\n",
      "float64 Si(t, z, y, x)\n",
      "unlimited dimensions: t\n",
      "current shape = (1, 40, 898, 398)\n",
      "filling on, default _FillValue of 9.969209968386869e+36 used\n",
      "\n"
     ]
    }
   ],
   "source": [
    "new_Si=new_nuts.createVariable('Si',float,('t','z','y','x'),zlib=True)\n",
    "#new_Sal.setncattr('units',TS.variables['vosaline'].units)\n",
    "#new_Si.setncattr('long_name','Silicate')\n",
    "#new_Si.setncattr('coordinates',TS.variables['vosaline'].coordinates)\n",
    "new_Si[:,:,:,:]=data_Si\n",
    "print( new_nuts.variables['Si'])"
   ]
  },
  {
   "cell_type": "code",
   "execution_count": 19,
   "metadata": {
    "collapsed": false
   },
   "outputs": [
    {
     "name": "stdout",
     "output_type": "stream",
     "text": [
      "<class 'netCDF4._netCDF4.Variable'>\n",
      "float64 NH4(t, z, y, x)\n",
      "unlimited dimensions: t\n",
      "current shape = (1, 40, 898, 398)\n",
      "filling on, default _FillValue of 9.969209968386869e+36 used\n",
      "\n"
     ]
    }
   ],
   "source": [
    "new_NH4=new_nuts.createVariable('NH4',float,('t','z','y','x'),zlib=True)\n",
    "#new_Sal.setncattr('units',TS.variables['vosaline'].units)\n",
    "#new_NH4.setncattr('long_name','Ammonium')\n",
    "#new_NH4.setncattr('coordinates',TS.variables['vosaline'].coordinates)\n",
    "new_NH4[:,:,:,:]=data_NH4\n",
    "print (new_nuts.variables['NH4'])"
   ]
  },
  {
   "cell_type": "code",
   "execution_count": 20,
   "metadata": {
    "collapsed": false
   },
   "outputs": [
    {
     "name": "stdout",
     "output_type": "stream",
     "text": [
      "<class 'netCDF4._netCDF4.Variable'>\n",
      "float64 PHY(t, z, y, x)\n",
      "unlimited dimensions: t\n",
      "current shape = (1, 40, 898, 398)\n",
      "filling on, default _FillValue of 9.969209968386869e+36 used\n",
      "\n"
     ]
    }
   ],
   "source": [
    "new_PHY=new_nuts.createVariable('PHY',float,('t','z','y','x'),zlib=True)\n",
    "#new_Sal.setncattr('units',TS.variables['vosaline'].units)\n",
    "#new_PHY.setncattr('long_name','PHY')\n",
    "#new_PHY.setncattr('coordinates',TS.variables['vosaline'].coordinates)\n",
    "new_PHY[:,:,:,:]=data_PHY\n",
    "print (new_nuts.variables['PHY'])"
   ]
  },
  {
   "cell_type": "code",
   "execution_count": 21,
   "metadata": {
    "collapsed": false
   },
   "outputs": [
    {
     "name": "stdout",
     "output_type": "stream",
     "text": [
      "<class 'netCDF4._netCDF4.Variable'>\n",
      "float64 PHY2(t, z, y, x)\n",
      "unlimited dimensions: t\n",
      "current shape = (1, 40, 898, 398)\n",
      "filling on, default _FillValue of 9.969209968386869e+36 used\n",
      "\n"
     ]
    }
   ],
   "source": [
    "new_PHY2=new_nuts.createVariable('PHY2',float,('t','z','y','x'),zlib=True)\n",
    "#new_Sal.setncattr('units',TS.variables['vosaline'].units)\n",
    "#new_PHY2.setncattr('long_name','PHY2')\n",
    "#new_PHY2.setncattr('coordinates',TS.variables['vosaline'].coordinates)\n",
    "new_PHY2[:,:,:,:]=data_PHY2\n",
    "print( new_nuts.variables['PHY2'])"
   ]
  },
  {
   "cell_type": "code",
   "execution_count": 22,
   "metadata": {
    "collapsed": false
   },
   "outputs": [
    {
     "name": "stdout",
     "output_type": "stream",
     "text": [
      "<class 'netCDF4._netCDF4.Variable'>\n",
      "float64 MYRI(t, z, y, x)\n",
      "unlimited dimensions: t\n",
      "current shape = (1, 40, 898, 398)\n",
      "filling on, default _FillValue of 9.969209968386869e+36 used\n",
      "\n"
     ]
    }
   ],
   "source": [
    "new_MYRI=new_nuts.createVariable('MYRI',float,('t','z','y','x'),zlib=True)\n",
    "#new_Sal.setncattr('units',TS.variables['vosaline'].units)\n",
    "#new_MYRI.setncattr('long_name','MYRI')\n",
    "#new_MYRI.setncattr('coordinates',TS.variables['vosaline'].coordinates)\n",
    "new_MYRI[:,:,:,:]=data_MYRI\n",
    "print( new_nuts.variables['MYRI'])"
   ]
  },
  {
   "cell_type": "code",
   "execution_count": 23,
   "metadata": {
    "collapsed": false
   },
   "outputs": [
    {
     "name": "stdout",
     "output_type": "stream",
     "text": [
      "<class 'netCDF4._netCDF4.Variable'>\n",
      "float64 sn(t, z, y, x)\n",
      "unlimited dimensions: t\n",
      "current shape = (1, 40, 898, 398)\n",
      "filling on, default _FillValue of 9.969209968386869e+36 used\n",
      "\n",
      "<class 'netCDF4._netCDF4.Variable'>\n",
      "float64 MICZ(t, z, y, x)\n",
      "unlimited dimensions: t\n",
      "current shape = (1, 40, 898, 398)\n",
      "filling on, default _FillValue of 9.969209968386869e+36 used\n",
      "\n"
     ]
    }
   ],
   "source": [
    "new_MICZ=new_nuts.createVariable('MICZ',float,('t','z','y','x'),zlib=True)\n",
    "#new_Sal.setncattr('units',TS.variables['vosaline'].units)\n",
    "#new_MICZ.setncattr('long_name','MICZ')\n",
    "#new_MICZ.setncattr('coordinates',TS.variables['vosaline'].coordinates)\n",
    "new_MICZ[:,:,:,:]=data_MICZ\n",
    "print( TS.variables['sn'])\n",
    "print (new_nuts.variables['MICZ'])"
   ]
  },
  {
   "cell_type": "code",
   "execution_count": 24,
   "metadata": {
    "collapsed": false
   },
   "outputs": [
    {
     "name": "stdout",
     "output_type": "stream",
     "text": [
      "<class 'netCDF4._netCDF4.Variable'>\n",
      "float64 POC(t, z, y, x)\n",
      "unlimited dimensions: t\n",
      "current shape = (1, 40, 898, 398)\n",
      "filling on, default _FillValue of 9.969209968386869e+36 used\n",
      "\n"
     ]
    }
   ],
   "source": [
    "new_POC=new_nuts.createVariable('POC',float,('t','z','y','x'),zlib=True)\n",
    "#new_Sal.setncattr('units',TS.variables['vosaline'].units)\n",
    "#new_POC.setncattr('long_name','POC')\n",
    "#new_POC.setncattr('coordinates',TS.variables['vosaline'].coordinates)\n",
    "new_POC[:,:,:,:]=data_POC\n",
    "print (new_nuts.variables['POC'])"
   ]
  },
  {
   "cell_type": "code",
   "execution_count": 25,
   "metadata": {
    "collapsed": false
   },
   "outputs": [
    {
     "name": "stdout",
     "output_type": "stream",
     "text": [
      "<class 'netCDF4._netCDF4.Variable'>\n",
      "float64 DOC(t, z, y, x)\n",
      "unlimited dimensions: t\n",
      "current shape = (1, 40, 898, 398)\n",
      "filling on, default _FillValue of 9.969209968386869e+36 used\n",
      "\n"
     ]
    }
   ],
   "source": [
    "new_DOC=new_nuts.createVariable('DOC',float,('t','z','y','x'),zlib=True)\n",
    "#new_Sal.setncattr('units',TS.variables['vosaline'].units)\n",
    "#new_DOC.setncattr('long_name','DOC')\n",
    "#new_DOC.setncattr('coordinates',TS.variables['vosaline'].coordinates)\n",
    "new_DOC[:,:,:,:]=data_DOC\n",
    "print( new_nuts.variables['DOC'])"
   ]
  },
  {
   "cell_type": "code",
   "execution_count": 26,
   "metadata": {
    "collapsed": false
   },
   "outputs": [
    {
     "name": "stdout",
     "output_type": "stream",
     "text": [
      "<class 'netCDF4._netCDF4.Variable'>\n",
      "float64 bSi(t, z, y, x)\n",
      "unlimited dimensions: t\n",
      "current shape = (1, 40, 898, 398)\n",
      "filling on, default _FillValue of 9.969209968386869e+36 used\n",
      "\n"
     ]
    }
   ],
   "source": [
    "new_bSi=new_nuts.createVariable('bSi',float,('t','z','y','x'),zlib=True)\n",
    "#new_Sal.setncattr('units',TS.variables['vosaline'].units)\n",
    "#new_bSi.setncattr('long_name','bSi')\n",
    "#new_bSi.setncattr('coordinates',TS.variables['vosaline'].coordinates)\n",
    "new_bSi[:,:,:,:]=data_bSi\n",
    "print (new_nuts.variables['bSi'])"
   ]
  },
  {
   "cell_type": "code",
   "execution_count": 27,
   "metadata": {
    "collapsed": false
   },
   "outputs": [],
   "source": [
    "new_nuts.title=\"\"\"SalishSea SOG full domain NO, Si, NH4, PHY, PHY2, MYRI, Z, DOC, POC, bSi initialization\"\"\"\n",
    "new_nuts.institution=\"\"\"\n",
    "Dept of Earth, Ocean & Atmospheric Sciences, University of British Columbia\"\"\"\n",
    "new_nuts.comment= \"\"\"\n",
    "Based on SG-S3-2004-10-19.sog and nuts-S3-2004-10-19.sog\"\"\"\n",
    "new_nuts.reference= \"\"\"\n",
    "eolson: createIC_NutsPhy_fullDomain.ipynb\"\"\""
   ]
  },
  {
   "cell_type": "code",
   "execution_count": 28,
   "metadata": {
    "collapsed": false
   },
   "outputs": [],
   "source": [
    "new_nuts.close()"
   ]
  },
  {
   "cell_type": "code",
   "execution_count": null,
   "metadata": {
    "collapsed": false
   },
   "outputs": [],
   "source": []
  },
  {
   "cell_type": "code",
   "execution_count": null,
   "metadata": {
    "collapsed": true
   },
   "outputs": [],
   "source": []
  },
  {
   "cell_type": "code",
   "execution_count": null,
   "metadata": {
    "collapsed": true
   },
   "outputs": [],
   "source": []
  },
  {
   "cell_type": "code",
   "execution_count": null,
   "metadata": {
    "collapsed": true
   },
   "outputs": [],
   "source": []
  }
 ],
 "metadata": {
  "kernelspec": {
   "display_name": "Python 3",
   "language": "python",
   "name": "python3"
  },
  "language_info": {
   "codemirror_mode": {
    "name": "ipython",
    "version": 3
   },
   "file_extension": ".py",
   "mimetype": "text/x-python",
   "name": "python",
   "nbconvert_exporter": "python",
   "pygments_lexer": "ipython3",
   "version": "3.4.3"
  }
 },
 "nbformat": 4,
 "nbformat_minor": 0
}
