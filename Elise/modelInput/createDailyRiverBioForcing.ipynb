{
 "cells": [
  {
   "cell_type": "code",
   "execution_count": 1,
   "metadata": {
    "collapsed": true
   },
   "outputs": [],
   "source": [
    "# imports\n",
    "from sqlalchemy import create_engine, Column, String, Integer, Float, Date, MetaData, Table, type_coerce\n",
    "from sqlalchemy.orm import mapper, create_session\n",
    "import csv\n",
    "from sqlalchemy import case\n",
    "import numpy as np\n",
    "from sqlalchemy.ext.automap import automap_base\n",
    "import matplotlib.pyplot as plt\n",
    "import sqlalchemy.types as types\n",
    "import numbers\n",
    "from sqlalchemy.sql import and_, or_, not_, func\n",
    "from sqlalchemy.sql import select\n",
    "import datetime as dt\n",
    "import os\n",
    "import re\n",
    "from mpl_toolkits.basemap import Basemap\n",
    "import netCDF4 as nc\n",
    "%matplotlib inline"
   ]
  },
  {
   "cell_type": "code",
   "execution_count": 2,
   "metadata": {
    "collapsed": true
   },
   "outputs": [],
   "source": [
    "# First, calculate river concentrations from EC data at Hope and Gravesend\n",
    "# NOTE: am assuming all forms of N are reported in grams of N, so that mole conversion is \n",
    "#  by division by 14.006720 (mol. weight N), rather than weights of full molecules. This \n",
    "#  is consistent with NO23 values in Susan's notebook.\n",
    "#  This is consistent with report in 'precdetectlimits.pdf', although it is rather old.\n",
    "#  However, assume Si in grams of SiO3 (mo. weight = 76.083820). This is consistent with \n",
    "#  Si data in Susan's notebook (http://nbviewer.jupyter.org/url/bitbucket.org/salishsea/tools/\n",
    "#     raw/tip/I_ForcingFiles/Rivers/FraserRiverNutrients.ipynb?at=default&fileviewer=file-\n",
    "#     view-default)\n",
    "mwN=14.006720\n",
    "mwSiO3=76.083820\n",
    "#\n",
    "#  nh4 muM  (N) = nh4_cst from mean of data at Hope/Gravesend\n",
    "#  don muM  (N) = don_cst from mean of data at Hope/Gravesend\n",
    "#     - only 1 data point available. Should use it or set to zero? Sutton (2013) suggests DON may be unreactive on timescales\n",
    "#       of exchange of water in SoG, but Clair (2013) reports that organic nitrogen dominated total nitrogen in \n",
    "#       Canadian rivers.\n",
    "#       -> for now, using available data point\n",
    "#  no3 muM  (N) -> daily from smoothed data\n",
    "#  sil muM (Si) -> daily from smoothed data\n",
    "#  dia muM  (N) = 0.001\n",
    "dia = 0.001\n",
    "#  phy muM  (N) = 0.001\n",
    "phy = 0.001\n",
    "#  mes muM  (N) = 0.001\n",
    "mes = 0.001\n",
    "#  zoo muM  (N) = 0.001\n",
    "zoo = 0.001\n",
    "#  pon muM  (N) = 0.0\n",
    "pon = 0.0\n",
    "#  bsi muM (Si) = 0.0\n",
    "bsi = 0.0\n",
    "#  oxy ? empty\n",
    "oxy = -999.0"
   ]
  },
  {
   "cell_type": "code",
   "execution_count": 3,
   "metadata": {
    "collapsed": true
   },
   "outputs": [],
   "source": [
    "# load EC Rivers database\n",
    "dbpath='/ocean/eolson/MEOPAR/obs/ECRivers/ECRiversDB'\n",
    "engine = create_engine('sqlite:///'+dbpath+'.sqlite')\n",
    "Base = automap_base()\n",
    "Base.prepare(engine, reflect=True)\n",
    "Profs=Base.classes.profiles\n",
    "session = create_session(bind = engine, autocommit = False, autoflush = True)\n",
    "# relevant data types: \n",
    "#('NITROGEN DISSOLVED NITRATE',)\n",
    "#('NITROGEN DISSOLVED NO3 & NO2',)\n",
    "#('NITROGEN DISSOLVED ORGANIC (CALCD.)',)\n",
    "#('NITROGEN NITRITE',)\n",
    "#('NITROGEN TOTAL',)\n",
    "#('NITROGEN TOTAL DISSOLVED',)\n",
    "#('NITROGEN TOTAL ORGANIC (CALCD.)',)\n",
    "#('SALINITY',)\n",
    "#('SILICA DISSOLVED',)\n",
    "#('SILICA EXTRACTABLE',)\n",
    "#('SILICA REACTIVE',)\n",
    "#('SILICON DISSOLVED',)\n",
    "#('SILICON EXTRACTABLE',)\n",
    "#('SILICON TOTAL',)\n",
    "#('TURBIDITY',)\n"
   ]
  },
  {
   "cell_type": "code",
   "execution_count": 4,
   "metadata": {
    "collapsed": false
   },
   "outputs": [],
   "source": [
    "#define function to plot results of query as repeating fxn of year-day if output rows contain Year, Month, Day, value:\n",
    "def plotYMDV(qout,pcolor,ptitle):\n",
    "    Y=[]\n",
    "    M=[]\n",
    "    D=[]\n",
    "    Amm=[]\n",
    "    date=[]\n",
    "    for Y0, M0, D0, Amm0 in qout:\n",
    "        Y.append(Y0)\n",
    "        M.append(M0)\n",
    "        D.append(D0)\n",
    "        Amm.append(Amm0)\n",
    "        date.append(dt.date(Y0,M0,D0))\n",
    "    Y=np.array(Y)\n",
    "    M=np.array(M)\n",
    "    D=np.array(D)\n",
    "    Amm=np.array(Amm)\n",
    "    date=np.array(date)\n",
    "    YD=0.0*Y\n",
    "    for i in range(0,len(Y)):\n",
    "        YD[i]=date[i].timetuple().tm_yday\n",
    "    plt.plot(YD,Amm,'.',color=pcolor)\n",
    "    plt.plot(YD+365.0,Amm,'.',color=pcolor)\n",
    "    plt.title(ptitle)\n",
    "    plt.plot((366,366),(0,np.max(Amm)),'k--')\n",
    "    return(YD,Amm)\n",
    "    \n",
    "# definte function to smooth data with gaussian filter, plot result, and return dict of days, values\n",
    "def gsmooth(YD,Amm,L):\n",
    "    allt=np.arange(1,367)\n",
    "    fil=np.empty(np.size(allt))\n",
    "    s=L/2.355\n",
    "    sdict={}\n",
    "    for t in allt:\n",
    "        diff=[min(abs(x-t),abs(x-t+365), abs(x-t-365)) for x in YD]\n",
    "        weight=[np.exp(-.5*x**2/s**2) if x <= 3*L else 0.0 for x in diff]\n",
    "        #weight=[np.exp(-.5*x**2/s**2) for x in diff]\n",
    "        fil[t-1]=np.sum(weight*Amm)/np.sum(weight)\n",
    "        sdict[t]=fil[t-1]\n",
    "    plt.plot(allt,fil,'k-')\n",
    "    plt.plot(allt+365,fil,'k-')\n",
    "    diff_ex=[min(abs(x-t),abs(x-t+365), abs(x-t-365)) for x in allt]\n",
    "    weight_ex=[np.exp(-.5*x**2/s**2) if x <= 3*L else 0.0 for x in diff_ex]\n",
    "    plt.plot(allt,weight_ex/np.sum(weight_ex)*np.max(2.0*Amm),'k:')\n",
    "    plt.plot(allt+365,weight_ex/np.sum(weight_ex)*np.max(2.0*Amm),'k:')\n",
    "    return(sdict)\n",
    "    #plt.plot(YD,weight,'*')"
   ]
  },
  {
   "cell_type": "code",
   "execution_count": 5,
   "metadata": {
    "collapsed": false
   },
   "outputs": [
    {
     "name": "stdout",
     "output_type": "stream",
     "text": [
      "units: ('MG/L',)\n",
      "don_cst = 0.24 mg/L\n"
     ]
    },
    {
     "data": {
      "image/png": "[encoded data removed]",
      "text/plain": [
       "<matplotlib.figure.Figure at 0x7f62af5c1f60>"
      ]
     },
     "metadata": {},
     "output_type": "display_data"
    }
   ],
   "source": [
    "# calculate mean DON from data at Hope and Gravesend:\n",
    "\n",
    "qdataG=session.query(Profs.Year, Profs.Month, Profs.Day, Profs.value).\\\n",
    "            filter(and_(\n",
    "                Profs.variable_name=='NITROGEN DISSOLVED ORGANIC (CALCD.)',\n",
    "                Profs.station_name=='Fraser River (Main Arm) at Gravesend Reach - Buoy'))\n",
    "if qdataG.count()>0:\n",
    "    YDG, valG = plotYMDV(qdataG.all(),'r','DON, red=Gravesend, blue=Hope')\n",
    "    \n",
    "qdataH=session.query(Profs.Year, Profs.Month, Profs.Day, Profs.value).\\\n",
    "            filter(and_(\n",
    "                Profs.variable_name=='NITROGEN DISSOLVED ORGANIC (CALCD.)',\n",
    "                Profs.station_name.like('%Hope%')))\n",
    "if qdataH.count()>0:\n",
    "    YDH, valH = plotYMDV(qdataH.all(),'b',)\n",
    "else:\n",
    "    YDH=[]\n",
    "    valH=[]\n",
    "\n",
    "units=session.query(Profs.unit_code).\\\n",
    "            filter(and_(\n",
    "                Profs.variable_name=='NITROGEN DISSOLVED ORGANIC (CALCD.)',\n",
    "                or_(Profs.station_name=='Fraser River (Main Arm) at Gravesend Reach - Buoy',\n",
    "                    Profs.station_name.like('%Hope%')))).group_by(Profs.unit_code).all()\n",
    "for row in units:\n",
    "    print('units:',row)\n",
    "val=np.concatenate((valG,valH))\n",
    "don_cst=np.mean(val)\n",
    "print('don_cst =', don_cst, 'mg/L')"
   ]
  },
  {
   "cell_type": "code",
   "execution_count": 6,
   "metadata": {
    "collapsed": false
   },
   "outputs": [
    {
     "name": "stdout",
     "output_type": "stream",
     "text": [
      "units: ('MG/L',)\n",
      "nh4_cst = 0.0620096153846 mg/L\n"
     ]
    },
    {
     "data": {
      "image/png": "[encoded data removed]",
      "text/plain": [
       "<matplotlib.figure.Figure at 0x7f62af5cc0b8>"
      ]
     },
     "metadata": {},
     "output_type": "display_data"
    }
   ],
   "source": [
    "# calculate mean NH4 from data at Hope and Gravesend\n",
    "\n",
    "dataG=session.query(Profs.Year, Profs.Month, Profs.Day, Profs.value).\\\n",
    "            filter(and_(\n",
    "                Profs.variable_name=='AMMONIA DISSOLVED',\n",
    "                Profs.station_name=='Fraser River (Main Arm) at Gravesend Reach - Buoy')).all()\n",
    "YDG, valG = plotYMDV(dataG,'r','temp')\n",
    "    \n",
    "dataH=session.query(Profs.Year, Profs.Month, Profs.Day, Profs.value).\\\n",
    "            filter(and_(\n",
    "                Profs.variable_name=='AMMONIA DISSOLVED',\n",
    "                Profs.station_name.like('%Hope%'))).all()\n",
    "YDH, valH = plotYMDV(dataH,'b','NH4, red=Gravesend, blue=Hope')\n",
    "\n",
    "units=session.query(Profs.unit_code).\\\n",
    "            filter(and_(\n",
    "                Profs.variable_name=='AMMONIA DISSOLVED',\n",
    "                or_(Profs.station_name=='Fraser River (Main Arm) at Gravesend Reach - Buoy',\n",
    "                    Profs.station_name.like('%Hope%')))).group_by(Profs.unit_code).all()\n",
    "for row in units:\n",
    "    print('units:',row)\n",
    "val=np.concatenate((valG,valH))\n",
    "nh4_cst=np.mean(val)\n",
    "print('nh4_cst =', nh4_cst, 'mg/L')"
   ]
  },
  {
   "cell_type": "code",
   "execution_count": 7,
   "metadata": {
    "collapsed": false
   },
   "outputs": [
    {
     "name": "stdout",
     "output_type": "stream",
     "text": [
      "units: ('MG/L',)\n"
     ]
    },
    {
     "data": {
      "image/png": "[encoded data removed]",
      "text/plain": [
       "<matplotlib.figure.Figure at 0x7f62ad4c9710>"
      ]
     },
     "metadata": {},
     "output_type": "display_data"
    }
   ],
   "source": [
    "# NO2+NO3 at Hope and Gravesend\n",
    "dataG=session.query(Profs.Year, Profs.Month, Profs.Day, Profs.value).\\\n",
    "            filter(and_(\n",
    "                Profs.value<2.5, # remove single high outlier\n",
    "                Profs.variable_name=='NITROGEN DISSOLVED NO3 & NO2',\n",
    "                Profs.station_name.like('%Gravesend%'))).all()\n",
    "YDG, valG = plotYMDV(dataG,'r','temp')\n",
    "\n",
    "dataH=session.query(Profs.Year, Profs.Month, Profs.Day, Profs.value).\\\n",
    "            filter(and_(\n",
    "                Profs.variable_name=='NITROGEN DISSOLVED NO3 & NO2',\n",
    "                Profs.station_name.like('%Hope%'))).all()\n",
    "YDH, valH = plotYMDV(dataH,'b','NO3, red=Gravesend, blue=Hope')\n",
    "\n",
    "units=session.query(Profs.unit_code).\\\n",
    "            filter(and_(\n",
    "                Profs.variable_name=='NITROGEN DISSOLVED NO3 & NO2',\n",
    "                or_(Profs.station_name.like('%Gravesend%'),\n",
    "                    Profs.station_name.like('%Hope%')))).group_by(Profs.unit_code).all()\n",
    "for row in units:\n",
    "    print('units:',row)\n",
    "    \n",
    "YD=np.concatenate((YDG,YDH))\n",
    "val=np.concatenate((valG, valH))\n",
    "no3dict=gsmooth(YD,val,60)\n",
    "#print(i,np.max([v for v in no3dict.values()]))"
   ]
  },
  {
   "cell_type": "code",
   "execution_count": 8,
   "metadata": {
    "collapsed": false
   },
   "outputs": [
    {
     "name": "stdout",
     "output_type": "stream",
     "text": [
      "units: ('MG/L',)\n"
     ]
    },
    {
     "data": {
      "image/png": "[encoded data removed]",
      "text/plain": [
       "<matplotlib.figure.Figure at 0x7f62ad3bd240>"
      ]
     },
     "metadata": {},
     "output_type": "display_data"
    }
   ],
   "source": [
    "# Si at Hope and Gravesend\n",
    "dataG=session.query(Profs.Year, Profs.Month, Profs.Day, Profs.value).\\\n",
    "            filter(and_(\n",
    "                Profs.value<2.5, # remove single high outlier\n",
    "                or_(Profs.variable_name=='SILICA DISSOLVED',\n",
    "                      Profs.variable_name=='SILICON DISSOLVED'),\n",
    "                Profs.station_name.like('%Gravesend%'))).all()\n",
    "YDG, valG = plotYMDV(dataG,'r','temp')\n",
    "\n",
    "dataH=session.query(Profs.Year, Profs.Month, Profs.Day, Profs.value).\\\n",
    "            filter(and_(\n",
    "                or_(Profs.variable_name=='SILICA DISSOLVED',\n",
    "                      Profs.variable_name=='SILICON DISSOLVED'),\n",
    "                Profs.station_name.like('%Hope%'))).all()\n",
    "YDH, valH = plotYMDV(dataH,'b','Si, red=Gravesend, blue=Hope')\n",
    "\n",
    "units=session.query(Profs.unit_code).\\\n",
    "            filter(and_(\n",
    "                or_(Profs.variable_name=='SILICA DISSOLVED',\n",
    "                      Profs.variable_name=='SILICON DISSOLVED'),\n",
    "                or_(Profs.station_name.like('%Gravesend%'),\n",
    "                    Profs.station_name.like('%Hope%')))).group_by(Profs.unit_code).all()\n",
    "for row in units:\n",
    "    print('units:',row)\n",
    "    \n",
    "YD=np.concatenate((YDG,YDH))\n",
    "val=np.concatenate((valG, valH))\n",
    "sidict=gsmooth(YD,val,60)"
   ]
  },
  {
   "cell_type": "code",
   "execution_count": 9,
   "metadata": {
    "collapsed": false
   },
   "outputs": [],
   "source": [
    "# create daily files, use data to initialize fields\n",
    "f=nc.Dataset('/results/forcing/rivers/RLonFraCElse_y2016m01d23.nc') # example for dims\n",
    "year=2016\n",
    "fname='/ocean/eolson/MEOPAR/NEMO-forcing/rivers/riverBio_'\n",
    "for yearday in range(1,367):\n",
    "    t2=dt.date(year, 1, 1) + dt.timedelta(days = yearday - 1)\n",
    "    datestr='y'+t2.strftime('%Y')+'m'+t2.strftime('%m')+'d'+t2.strftime('%d')\n",
    "    new=nc.Dataset(fname+datestr+'.nc','w')\n",
    "    #Copy dimensions\n",
    "    for dname, the_dim in f.dimensions.items():\n",
    "        #print (dname, len(the_dim) if not the_dim.isunlimited() else None)\n",
    "        new.createDimension(dname, len(the_dim) if not the_dim.isunlimited() else None)\n",
    "    # create dimension variables:\n",
    "    new_x=new.createVariable('nav_lat',float,('y','x'),zlib=True)\n",
    "    new_x[:]=f.variables['nav_lat'][:,:]\n",
    "\n",
    "    new_y=new.createVariable('nav_lon',float,('y','x'),zlib=True)\n",
    "    new_y[:]=f.variables['nav_lon'][:,:]\n",
    "\n",
    "    new_tc=new.createVariable('time_counter',float,('time_counter'),zlib=True)\n",
    "    new_tc[:]=f.variables['time_counter']\n",
    "    \n",
    "    new_run=new.createVariable('no3',float,('time_counter', 'y', 'x'),zlib=True)\n",
    "    new_run[:,:,:]=no3dict[yearday]/mwN*1000.0 # convert to muM\n",
    "\n",
    "    new_run=new.createVariable('nh4',float,('time_counter', 'y', 'x'),zlib=True)\n",
    "    new_run[:]=nh4_cst/mwN*1000.0 # convert to muM\n",
    "\n",
    "    new_run=new.createVariable('sil',float,('time_counter', 'y', 'x'),zlib=True)\n",
    "    new_run[:]=sidict[yearday]/mwSiO3*1000.0 # convert to muM\n",
    "\n",
    "    new_run=new.createVariable('dia',float,('time_counter', 'y', 'x'),zlib=True)\n",
    "    new_run[:]=dia\n",
    "\n",
    "    new_run=new.createVariable('phy',float,('time_counter', 'y', 'x'),zlib=True)\n",
    "    new_run[:]=phy\n",
    "\n",
    "    new_run=new.createVariable('mes',float,('time_counter', 'y', 'x'),zlib=True)\n",
    "    new_run[:]=mes\n",
    "\n",
    "    new_run=new.createVariable('zoo',float,('time_counter', 'y', 'x'),zlib=True)\n",
    "    new_run[:]=zoo\n",
    "\n",
    "    new_run=new.createVariable('don',float,('time_counter', 'y', 'x'),zlib=True)\n",
    "    new_run[:]=don_cst/mwN*1000 # convert to muM\n",
    "\n",
    "    new_run=new.createVariable('pon',float,('time_counter', 'y', 'x'),zlib=True)\n",
    "    new_run[:]=pon\n",
    "\n",
    "    new_run=new.createVariable('bsi',float,('time_counter', 'y', 'x'),zlib=True)\n",
    "    new_run[:]=bsi\n",
    "\n",
    "    new_run=new.createVariable('oxy',float,('time_counter', 'y', 'x'),zlib=True)\n",
    "    new_run[:]=oxy\n",
    "    \n",
    "    new.close()"
   ]
  },
  {
   "cell_type": "code",
   "execution_count": 10,
   "metadata": {
    "collapsed": false
   },
   "outputs": [],
   "source": [
    "session.close()\n",
    "engine.dispose()"
   ]
  },
  {
   "cell_type": "code",
   "execution_count": null,
   "metadata": {
    "collapsed": true
   },
   "outputs": [],
   "source": []
  }
 ],
 "metadata": {
  "kernelspec": {
   "display_name": "Python 3",
   "language": "python",
   "name": "python3"
  },
  "language_info": {
   "codemirror_mode": {
    "name": "ipython",
    "version": 3
   },
   "file_extension": ".py",
   "mimetype": "text/x-python",
   "name": "python",
   "nbconvert_exporter": "python",
   "pygments_lexer": "ipython3",
   "version": "3.4.4"
  }
 },
 "nbformat": 4,
 "nbformat_minor": 0
}
