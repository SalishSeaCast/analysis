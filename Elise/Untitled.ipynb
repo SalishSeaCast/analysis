{
 "cells": [
  {
   "cell_type": "code",
   "execution_count": 1,
   "metadata": {
    "collapsed": true
   },
   "outputs": [],
   "source": [
    "import netCDF4 as nc\n",
    "from salishsea_tools import tidetools, nc_tools\n",
    "import matplotlib.pyplot as plt\n",
    "import numpy as np\n",
    "import os\n",
    "import re\n",
    "\n",
    "%matplotlib inline\n",
    "\n",
    "resultsDir='/data/eolson/MEOPAR/SS2D/'"
   ]
  },
  {
   "cell_type": "code",
   "execution_count": 2,
   "metadata": {
    "collapsed": true
   },
   "outputs": [],
   "source": [
    "coords=nc.Dataset(os.path.join(resultsDir,'coordinates.nc.Nancy.summer'))"
   ]
  },
  {
   "cell_type": "code",
   "execution_count": 3,
   "metadata": {
    "collapsed": false
   },
   "outputs": [
    {
     "data": {
      "text/plain": [
       "OrderedDict([(u'nav_lon', <netCDF4.Variable object at 0x7fbe6c7aa8a0>), (u'nav_lat', <netCDF4.Variable object at 0x7fbe6c7aa938>), (u'time', <netCDF4.Variable object at 0x7fbe6c7aa9d0>), (u'time_steps', <netCDF4.Variable object at 0x7fbe6c7aaa68>), (u'glamt', <netCDF4.Variable object at 0x7fbe6c7aab00>), (u'glamu', <netCDF4.Variable object at 0x7fbe6c7aab98>), (u'glamv', <netCDF4.Variable object at 0x7fbe6c7aac30>), (u'glamf', <netCDF4.Variable object at 0x7fbe6c7aacc8>), (u'gphit', <netCDF4.Variable object at 0x7fbe6c7aad60>), (u'gphiu', <netCDF4.Variable object at 0x7fbe6c7aadf8>), (u'gphiv', <netCDF4.Variable object at 0x7fbe6c7aae90>), (u'gphif', <netCDF4.Variable object at 0x7fbe6c7aaf28>), (u'e1t', <netCDF4.Variable object at 0x7fbe6c7d7050>), (u'e1u', <netCDF4.Variable object at 0x7fbe6c7d70e8>), (u'e1v', <netCDF4.Variable object at 0x7fbe6c7d7180>), (u'e1f', <netCDF4.Variable object at 0x7fbe6c7d7218>), (u'e2t', <netCDF4.Variable object at 0x7fbe6c7d72b0>), (u'e2u', <netCDF4.Variable object at 0x7fbe6c7d7348>), (u'e2v', <netCDF4.Variable object at 0x7fbe6c7d73e0>), (u'e2f', <netCDF4.Variable object at 0x7fbe6c7d7478>)])"
      ]
     },
     "execution_count": 3,
     "metadata": {},
     "output_type": "execute_result"
    }
   ],
   "source": [
    "coords.variables"
   ]
  },
  {
   "cell_type": "code",
   "execution_count": 4,
   "metadata": {
    "collapsed": false
   },
   "outputs": [
    {
     "data": {
      "text/plain": [
       "OrderedDict([(u'x', <netCDF4.Dimension object at 0x7fbe6c7a6f50>), (u'y', <netCDF4.Dimension object at 0x7fbe6c7a6f00>), (u'time', <netCDF4.Dimension object at 0x7fbe6c7a6eb0>)])"
      ]
     },
     "execution_count": 4,
     "metadata": {},
     "output_type": "execute_result"
    }
   ],
   "source": [
    "coords.dimensions"
   ]
  },
  {
   "cell_type": "code",
   "execution_count": null,
   "metadata": {
    "collapsed": true
   },
   "outputs": [],
   "source": []
  }
 ],
 "metadata": {
  "kernelspec": {
   "display_name": "Python 2",
   "language": "python",
   "name": "python2"
  },
  "language_info": {
   "codemirror_mode": {
    "name": "ipython",
    "version": 2
   },
   "file_extension": ".py",
   "mimetype": "text/x-python",
   "name": "python",
   "nbconvert_exporter": "python",
   "pygments_lexer": "ipython2",
   "version": "2.7.9"
  }
 },
 "nbformat": 4,
 "nbformat_minor": 0
}
