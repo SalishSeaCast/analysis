{
 "cells": [
  {
   "cell_type": "code",
   "execution_count": 1,
   "metadata": {
    "collapsed": false
   },
   "outputs": [
    {
     "name": "stdout",
     "output_type": "stream",
     "text": [
      "poems: longfellow, shakespeare\n",
      "method: recite()\n",
      "functions: novowels(sometext), vowelFreqPlot(poem)\n"
     ]
    }
   ],
   "source": [
    "import poems.somePoems as pm\n",
    "import poems.someFxns as fx\n",
    "%matplotlib inline"
   ]
  },
  {
   "cell_type": "code",
   "execution_count": 2,
   "metadata": {
    "collapsed": false
   },
   "outputs": [
    {
     "name": "stdout",
     "output_type": "stream",
     "text": [
      "-------------------------------------------------\n",
      "A Summer Day By The Sea By Henry Wadsworth Longfellow\n",
      "\n",
      "    The sun is set; and in his latest beams\n",
      "        Yon little cloud of ashen gray and gold,\n",
      "        Slowly upon the amber air unrolled,\n",
      "        The falling mantle of the Prophet seems.\n",
      "    From the dim headlands many a lighthouse gleams,\n",
      "        The street-lamps of the ocean; and behold,\n",
      "        O'erhead the banners of the night unfold;\n",
      "        The day hath passed into the land of dreams.\n",
      "    O summer day beside the joyous sea!\n",
      "        O summer day so wonderful and white,\n",
      "        So full of gladness and so full of pain!\n",
      "    Forever and forever shalt thou be\n",
      "        To some the gravestone of a dead delight,\n",
      "        To some the landmark of a new domain.\n",
      "\n",
      "-------------------------------------------------\n"
     ]
    }
   ],
   "source": [
    "pm.longfellow.recite()"
   ]
  },
  {
   "cell_type": "code",
   "execution_count": null,
   "metadata": {
    "collapsed": true
   },
   "outputs": [],
   "source": []
  }
 ],
 "metadata": {
  "kernelspec": {
   "display_name": "Python 2",
   "language": "python",
   "name": "python2"
  },
  "language_info": {
   "codemirror_mode": {
    "name": "ipython",
    "version": 2
   },
   "file_extension": ".py",
   "mimetype": "text/x-python",
   "name": "python",
   "nbconvert_exporter": "python",
   "pygments_lexer": "ipython2",
   "version": "2.7.9"
  }
 },
 "nbformat": 4,
 "nbformat_minor": 0
}
