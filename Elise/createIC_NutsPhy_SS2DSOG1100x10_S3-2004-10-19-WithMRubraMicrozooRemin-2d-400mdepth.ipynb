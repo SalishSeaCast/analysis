{
 "cells": [
  {
   "cell_type": "code",
   "execution_count": 1,
   "metadata": {
    "collapsed": false
   },
   "outputs": [],
   "source": [
    "import netCDF4 as nc\n",
    "\n",
    "import matplotlib.pyplot as plt\n",
    "import numpy as np\n",
    "import os\n",
    "import re\n",
    "\n",
    "%matplotlib inline\n",
    "\n",
    "resultsDir='/data/eolson/MEOPAR/SS2DSOGruns/'\n",
    "N2chl=1.600"
   ]
  },
  {
   "cell_type": "code",
   "execution_count": 2,
   "metadata": {
    "collapsed": false
   },
   "outputs": [],
   "source": [
    "TS=nc.Dataset(os.path.join(resultsDir,'TS_uniform.nc'))"
   ]
  },
  {
   "cell_type": "code",
   "execution_count": 3,
   "metadata": {
    "collapsed": false
   },
   "outputs": [],
   "source": [
    "# read z, T, S into CTD\n",
    "CTD=np.loadtxt('/data/eolson/SOG/SOG-initial/ctd/SG-S3-2004-10-19.sog',skiprows=12,usecols=(1, 4, 2, 8))"
   ]
  },
  {
   "cell_type": "code",
   "execution_count": 4,
   "metadata": {
    "collapsed": true
   },
   "outputs": [],
   "source": [
    "nuts=np.loadtxt('/data/eolson/SOG/SOG-initial/stratogem_nuts/Nuts-S3-2004-10-19.sog', skiprows=12, usecols=(0,1,2))"
   ]
  },
  {
   "cell_type": "code",
   "execution_count": 5,
   "metadata": {
    "collapsed": false
   },
   "outputs": [
    {
     "name": "stdout",
     "output_type": "stream",
     "text": [
      "(237, 4)\n"
     ]
    }
   ],
   "source": [
    "print(CTD.shape)"
   ]
  },
  {
   "cell_type": "code",
   "execution_count": 6,
   "metadata": {
    "collapsed": false
   },
   "outputs": [],
   "source": [
    "# add z=0 at first row, repeating T,S values from next level\n",
    "data=np.vstack((CTD[0,:],CTD))\n",
    "data[0,0]=0.\n",
    "# interpolate to T-points\n",
    "data_f=(data[0:401:4,:]+data[1:402:4,:])/2\n",
    "#zs=data_f[:,0]\n",
    "zs=np.arange(0.5,404,4)\n",
    "fluor=data_f[:,0]"
   ]
  },
  {
   "cell_type": "code",
   "execution_count": 7,
   "metadata": {
    "collapsed": false
   },
   "outputs": [
    {
     "name": "stdout",
     "output_type": "stream",
     "text": [
      "[  9.2083     6.7867     6.8795     9.499875  13.421275  17.342675\n",
      "  21.264075  25.185475  26.656     26.656     26.656     26.656     26.656\n",
      "  26.656     26.656     26.656     26.656     26.656     26.656     26.656\n",
      "  26.656     26.656     26.656     26.656     26.656     26.656     26.656\n",
      "  26.656     26.656     26.656     26.656     26.656     26.656     26.656\n",
      "  26.656     26.656     26.656     26.656     26.656     26.656     26.656\n",
      "  26.656     26.656     26.656     26.656     26.656     26.656     26.656\n",
      "  26.656     26.656     26.656     26.656     26.656     26.656     26.656\n",
      "  26.656     26.656     26.656     26.656     26.656     26.656     26.656\n",
      "  26.656     26.656     26.656     26.656     26.656     26.656     26.656\n",
      "  26.656     26.656     26.656     26.656     26.656     26.656     26.656\n",
      "  26.656     26.656     26.656     26.656     26.656     26.656     26.656\n",
      "  26.656     26.656     26.656     26.656     26.656     26.656     26.656\n",
      "  26.656     26.656     26.656     26.656     26.656     26.656     26.656\n",
      "  26.656     26.656     26.656     26.656   ]\n"
     ]
    }
   ],
   "source": [
    "# Remove records with negative data values (typically -99.0 or\n",
    "# -99999) because that indicates invalid data\n",
    "data_qty=nuts[:,1]\n",
    "mask = (data_qty >= 0.0)\n",
    "data_records = len(data_qty[mask])\n",
    "qty_clean = data_qty[mask]\n",
    "depth_clean= nuts[:,0][mask]\n",
    "# Calculate depth and quantity differences from field data for use\n",
    "# in interpolation\n",
    "del_depth = depth_clean[1:data_records] - depth_clean[0:data_records-1]\n",
    "del_qty = qty_clean[1:data_records] - qty_clean[0:data_records-1]\n",
    "# Interpolate quantity values at grid point depths\n",
    "i_data = 1\n",
    "NO=0.0*zs\n",
    "for i_g in range(0, len(zs)):\n",
    "    if (zs[i_g] > depth_clean[i_data]):\n",
    "        while ((zs[i_g] > depth_clean[i_data]) and (i_data<data_records-1)):\n",
    "            i_data = i_data + 1\n",
    "    NO[i_g] = qty_clean[i_data-1] + del_qty[i_data-1] \\\n",
    "        * ((zs[i_g] - depth_clean[i_data-1]) \\\n",
    "        / del_depth[i_data-1])\n",
    "print( NO)"
   ]
  },
  {
   "cell_type": "code",
   "execution_count": 8,
   "metadata": {
    "collapsed": false
   },
   "outputs": [
    {
     "name": "stdout",
     "output_type": "stream",
     "text": [
      "[ 26.4974    19.9806    19.1989    22.887125  28.765725  34.644325\n",
      "  40.522925  46.401525  48.606     48.606     48.606     48.606     48.606\n",
      "  48.606     48.606     48.606     48.606     48.606     48.606     48.606\n",
      "  48.606     48.606     48.606     48.606     48.606     48.606     48.606\n",
      "  48.606     48.606     48.606     48.606     48.606     48.606     48.606\n",
      "  48.606     48.606     48.606     48.606     48.606     48.606     48.606\n",
      "  48.606     48.606     48.606     48.606     48.606     48.606     48.606\n",
      "  48.606     48.606     48.606     48.606     48.606     48.606     48.606\n",
      "  48.606     48.606     48.606     48.606     48.606     48.606     48.606\n",
      "  48.606     48.606     48.606     48.606     48.606     48.606     48.606\n",
      "  48.606     48.606     48.606     48.606     48.606     48.606     48.606\n",
      "  48.606     48.606     48.606     48.606     48.606     48.606     48.606\n",
      "  48.606     48.606     48.606     48.606     48.606     48.606     48.606\n",
      "  48.606     48.606     48.606     48.606     48.606     48.606     48.606\n",
      "  48.606     48.606     48.606     48.606   ]\n"
     ]
    }
   ],
   "source": [
    "# Remove records with negative data values (typically -99.0 or\n",
    "# -99999) because that indicates invalid data\n",
    "data_qty=nuts[:,2]\n",
    "mask = (data_qty >= 0.0)\n",
    "data_records = len(data_qty[mask])\n",
    "qty_clean = data_qty[mask]\n",
    "depth_clean= nuts[:,0][mask]\n",
    "# Calculate depth and quantity differences from field data for use\n",
    "# in interpolation\n",
    "del_depth = depth_clean[1:data_records] - depth_clean[0:data_records-1]\n",
    "del_qty = qty_clean[1:data_records] - qty_clean[0:data_records-1]\n",
    "# Interpolate quantity values at grid point depths\n",
    "i_data = 1\n",
    "Si=0.0*zs\n",
    "for i_g in range(0, len(zs)):\n",
    "    if (zs[i_g] > depth_clean[i_data]):\n",
    "        while ((zs[i_g] > depth_clean[i_data]) and (i_data<data_records-1)):\n",
    "            i_data = i_data + 1\n",
    "    Si[i_g] = qty_clean[i_data-1] + del_qty[i_data-1] \\\n",
    "        * ((zs[i_g] - depth_clean[i_data-1]) \\\n",
    "        / del_depth[i_data-1])\n",
    "print (Si)"
   ]
  },
  {
   "cell_type": "code",
   "execution_count": 9,
   "metadata": {
    "collapsed": false
   },
   "outputs": [
    {
     "name": "stdout",
     "output_type": "stream",
     "text": [
      "[ 3.8466   3.7368   4.09165  2.5437   1.9894   1.40535  0.8233   0.7658\n",
      "  0.60465  0.4067   0.3163   0.274    0.20185  0.19635  0.19445  0.1612\n",
      "  0.1635   0.14605  0.142    0.14815  0.13355  0.1346   0.1437   0.1261\n",
      "  0.12365  0.1036   0.0973   0.095    0.1037   0.0991   0.1036   0.08835\n",
      "  0.0954   0.10325  0.09625  0.10175  0.1014   0.0882   0.       0.       0.\n",
      "  0.       0.       0.       0.       0.       0.       0.       0.       0.\n",
      "  0.       0.       0.       0.       0.       0.       0.       0.       0.\n",
      "  0.       0.       0.       0.       0.       0.       0.       0.       0.\n",
      "  0.       0.       0.       0.       0.       0.       0.       0.       0.\n",
      "  0.       0.       0.       0.       0.       0.       0.       0.       0.\n",
      "  0.       0.       0.       0.       0.       0.       0.       0.       0.\n",
      "  0.       0.       0.       0.       0.       0.     ]\n"
     ]
    }
   ],
   "source": [
    "# Remove records with negative data values (typically -99.0 or\n",
    "# -99999) because that indicates invalid data\n",
    "data_qty=data_f[:,1]\n",
    "mask = (data_qty >= 0.0)\n",
    "data_records = len(data_qty[mask])\n",
    "qty_clean = data_qty[mask]\n",
    "depth_clean= data_f[:,0][mask]\n",
    "# Calculate depth and quantity differences from field data for use\n",
    "# in interpolation\n",
    "del_depth = depth_clean[1:data_records] - depth_clean[0:data_records-1]\n",
    "del_qty = qty_clean[1:data_records] - qty_clean[0:data_records-1]\n",
    "# Interpolate quantity values at grid point depths\n",
    "i_data = 1\n",
    "P=0.0*zs\n",
    "for i_g in range(0, len(zs)):\n",
    "    if (zs[i_g] > depth_clean[i_data]):\n",
    "        while ((zs[i_g] > depth_clean[i_data]) and (i_data<data_records-1)):\n",
    "            i_data = i_data + 1\n",
    "    P[i_g] = qty_clean[i_data-1] + del_qty[i_data-1] \\\n",
    "        * ((zs[i_g] - depth_clean[i_data-1]) \\\n",
    "        / del_depth[i_data-1])\n",
    "P[zs>150]=0.0\n",
    "print (P)"
   ]
  },
  {
   "cell_type": "code",
   "execution_count": 10,
   "metadata": {
    "collapsed": false
   },
   "outputs": [
    {
     "name": "stdout",
     "output_type": "stream",
     "text": [
      "(101,)\n",
      "[ 3.8466   3.7368   4.09165  2.5437   1.9894   1.40535  0.8233   0.7658\n",
      "  0.60465  0.4067   0.3163   0.274    0.20185  0.19635  0.19445  0.1612\n",
      "  0.1635   0.14605  0.142    0.14815  0.13355  0.1346   0.1437   0.1261\n",
      "  0.12365  0.1036   0.0973   0.095    0.1037   0.0991   0.1036   0.08835\n",
      "  0.0954   0.10325  0.09625  0.10175  0.1014   0.0882   0.0993   0.10165\n",
      "  0.09905  0.0943   0.10115  0.09885  0.1036   0.0998   0.0946   0.10165\n",
      "  0.10375  0.1015   0.1037   0.1037   0.1037   0.10585  0.1194   0.1169\n",
      "  0.1154   0.11485  0.11725  0.1265 ]\n"
     ]
    }
   ],
   "source": [
    "print(np.shape(NO))\n",
    "print(data_f[:,1])"
   ]
  },
  {
   "cell_type": "code",
   "execution_count": 11,
   "metadata": {
    "collapsed": false
   },
   "outputs": [
    {
     "name": "stdout",
     "output_type": "stream",
     "text": [
      "(1, 101, 10, 1100)\n",
      "[[ 1.  1.  1. ...,  1.  1.  1.]\n",
      " [ 1.  1.  1. ...,  1.  1.  1.]\n",
      " [ 1.  1.  1. ...,  1.  1.  1.]\n",
      " ..., \n",
      " [ 1.  1.  1. ...,  1.  1.  1.]\n",
      " [ 1.  1.  1. ...,  1.  1.  1.]\n",
      " [ 1.  1.  1. ...,  1.  1.  1.]]\n"
     ]
    }
   ],
   "source": [
    "# create temp and sal arrays with correct dimensions\n",
    "vecNO=np.reshape(NO,(101,1,1))\n",
    "data_NO=np.tile(vecNO,(1,1,10,1100))\n",
    "vecSi=np.reshape(Si,(101,1,1))\n",
    "data_Si=np.tile(vecSi,(1,1,10,1100))\n",
    "print (data_Si.shape)\n",
    "vecP=0.33*np.reshape(P,(101,1,1))/N2chl\n",
    "data_PHY=np.tile(vecP,(1,1,10,1100))\n",
    "data_PHY2=data_PHY\n",
    "data_MYRI=data_PHY*1e-6\n",
    "data_MICZ=data_MYRI\n",
    "data_NH4=0.0*data_PHY+1.0\n",
    "data_POC=data_PHY2/5.0*1e-6\n",
    "data_DOC=data_POC/10.0\n",
    "data_bSi=data_POC\n",
    "data_POC=data_POC*7.6\n",
    "data_DOC=data_DOC*7.6\n",
    "print (data_NH4[0,0,:,:])"
   ]
  },
  {
   "cell_type": "code",
   "execution_count": 12,
   "metadata": {
    "collapsed": false
   },
   "outputs": [
    {
     "name": "stdout",
     "output_type": "stream",
     "text": [
      "<class 'netCDF4._netCDF4.Dataset'>\n",
      "root group (NETCDF4 data model, file format UNDEFINED):\n",
      "    Conventions: CF-1.6\n",
      "    title: 2D T+S initialization\n",
      "    institution: Dept of Earth, Ocean & Atmospheric Sciences, University of British Columbia\n",
      "    source: https://bitbucket.org/salishsea/2d-domain/src/tip/Generate 2D T+S.ipynb\n",
      "    references: REQUIRED\n",
      "    history: [2015-03-31 15:59:01] Created netCDF4 zlib=True dataset.\n",
      "    comment: Salinity and Temperature along Thalweg for 2D domain from uniform stratification\n",
      "    dimensions(sizes): y(10), x(1100), deptht(40), time_counter(1)\n",
      "    variables(dimensions): float32 \u001b[4my\u001b[0m(y,x), float32 \u001b[4mx\u001b[0m(y,x), float32 \u001b[4mdeptht\u001b[0m(deptht), float32 \u001b[4mtime_counter\u001b[0m(time_counter), float32 \u001b[4mvosaline\u001b[0m(time_counter,deptht,y,x), float32 \u001b[4mvotemper\u001b[0m(time_counter,deptht,y,x)\n",
      "    groups: \n",
      "\n",
      "<class 'netCDF4._netCDF4.Dataset'>\n",
      "root group (NETCDF4 data model, file format UNDEFINED):\n",
      "    dimensions(sizes): y(10), x(1100), deptht(101), time_counter(0)\n",
      "    variables(dimensions): \n",
      "    groups: \n",
      "\n"
     ]
    }
   ],
   "source": [
    "new_nuts=nc.Dataset('/data/eolson/MEOPAR/SS2DSOGruns/nuts_SOG1100x10_S3-2014-10-19-WithMRubraMicroZooRemin_400m_fixed.nc','w')\n",
    "new_nuts.createDimension('y', 10)\n",
    "new_nuts.createDimension('x', 1100)\n",
    "new_nuts.createDimension('deptht', 101)\n",
    "new_nuts.createDimension('time_counter', None)\n",
    "\n",
    "print(TS)\n",
    "print(new_nuts)"
   ]
  },
  {
   "cell_type": "code",
   "execution_count": 13,
   "metadata": {
    "collapsed": false
   },
   "outputs": [
    {
     "name": "stdout",
     "output_type": "stream",
     "text": [
      "<class 'netCDF4._netCDF4.Variable'>\n",
      "float32 time_counter(time_counter)\n",
      "    units: seconds since 2003-08-09 0:00:00\n",
      "    long_name: Time axis\n",
      "unlimited dimensions: time_counter\n",
      "current shape = (1,)\n",
      "filling on, default _FillValue of 9.969209968386869e+36 used\n",
      "\n",
      "<class 'netCDF4._netCDF4.Variable'>\n",
      "float64 time_counter(time_counter)\n",
      "    units: seconds since 2003-08-09 0:00:00\n",
      "    long_name: Time axis\n",
      "unlimited dimensions: time_counter\n",
      "current shape = (1,)\n",
      "filling on, default _FillValue of 9.969209968386869e+36 used\n",
      "\n"
     ]
    }
   ],
   "source": [
    "new_tc=new_nuts.createVariable('time_counter',float,('time_counter'),zlib=True)\n",
    "new_tc.setncattr('units',TS.variables['time_counter'].units)\n",
    "new_tc.setncattr('long_name',TS.variables['time_counter'].long_name)\n",
    "new_tc[:]=TS.variables['time_counter']\n",
    "\n",
    "print (TS.variables['time_counter'])\n",
    "print( new_nuts.variables['time_counter'])"
   ]
  },
  {
   "cell_type": "code",
   "execution_count": 14,
   "metadata": {
    "collapsed": false
   },
   "outputs": [
    {
     "name": "stdout",
     "output_type": "stream",
     "text": [
      "<class 'netCDF4._netCDF4.Variable'>\n",
      "float32 deptht(deptht)\n",
      "    long_name: Depth\n",
      "    units: m\n",
      "    positive: down\n",
      "unlimited dimensions: \n",
      "current shape = (40,)\n",
      "filling on, default _FillValue of 9.969209968386869e+36 used\n",
      "\n",
      "<class 'netCDF4._netCDF4.Variable'>\n",
      "float64 deptht(deptht)\n",
      "    units: m\n",
      "    long_name: Depth\n",
      "    positive: down\n",
      "unlimited dimensions: \n",
      "current shape = (101,)\n",
      "filling on, default _FillValue of 9.969209968386869e+36 used\n",
      "\n"
     ]
    }
   ],
   "source": [
    "new_z=new_nuts.createVariable('deptht',float,('deptht'),zlib=True)\n",
    "new_z.setncattr('units',TS.variables['deptht'].units)\n",
    "new_z.setncattr('long_name',TS.variables['deptht'].long_name)\n",
    "new_z.setncattr('positive',TS.variables['deptht'].positive)\n",
    "new_z[:]=zs\n",
    "\n",
    "print( TS.variables['deptht'])\n",
    "print (new_nuts.variables['deptht'])"
   ]
  },
  {
   "cell_type": "code",
   "execution_count": 15,
   "metadata": {
    "collapsed": false
   },
   "outputs": [
    {
     "name": "stdout",
     "output_type": "stream",
     "text": [
      "<class 'netCDF4._netCDF4.Variable'>\n",
      "float32 x(y, x)\n",
      "    long_name: streamwise\n",
      "    units: metres\n",
      "unlimited dimensions: \n",
      "current shape = (10, 1100)\n",
      "filling on, default _FillValue of 9.969209968386869e+36 used\n",
      "\n",
      "<class 'netCDF4._netCDF4.Variable'>\n",
      "float64 x(y, x)\n",
      "    units: metres\n",
      "    long_name: streamwise\n",
      "unlimited dimensions: \n",
      "current shape = (10, 1100)\n",
      "filling on, default _FillValue of 9.969209968386869e+36 used\n",
      "\n"
     ]
    }
   ],
   "source": [
    "new_x=new_nuts.createVariable('x',float,('y','x'),zlib=True)\n",
    "new_x.setncattr('units',TS.variables['x'].units)\n",
    "new_x.setncattr('long_name',TS.variables['x'].long_name)\n",
    "new_x=TS.variables['x']\n",
    "\n",
    "print (TS.variables['x'])\n",
    "print (new_nuts.variables['x'])"
   ]
  },
  {
   "cell_type": "code",
   "execution_count": 16,
   "metadata": {
    "collapsed": false
   },
   "outputs": [
    {
     "name": "stdout",
     "output_type": "stream",
     "text": [
      "<class 'netCDF4._netCDF4.Variable'>\n",
      "float32 y(y, x)\n",
      "    long_name: spanwise\n",
      "    units: metres\n",
      "unlimited dimensions: \n",
      "current shape = (10, 1100)\n",
      "filling on, default _FillValue of 9.969209968386869e+36 used\n",
      "\n",
      "<class 'netCDF4._netCDF4.Variable'>\n",
      "float64 y(y, x)\n",
      "    units: metres\n",
      "    long_name: spanwise\n",
      "unlimited dimensions: \n",
      "current shape = (10, 1100)\n",
      "filling on, default _FillValue of 9.969209968386869e+36 used\n",
      "\n"
     ]
    }
   ],
   "source": [
    "new_y=new_nuts.createVariable('y',float,('y','x'),zlib=True)\n",
    "new_y.setncattr('units',TS.variables['y'].units)\n",
    "new_y.setncattr('long_name',TS.variables['y'].long_name)\n",
    "new_y=TS.variables['y']\n",
    "\n",
    "print( TS.variables['y'])\n",
    "print( new_nuts.variables['y'])"
   ]
  },
  {
   "cell_type": "code",
   "execution_count": 17,
   "metadata": {
    "collapsed": false
   },
   "outputs": [
    {
     "name": "stdout",
     "output_type": "stream",
     "text": [
      "<class 'netCDF4._netCDF4.Variable'>\n",
      "float32 votemper(time_counter, deptht, y, x)\n",
      "    units: degC\n",
      "    long_name: Temperature\n",
      "    coordinates: nav_lon nav_lat deptht time_counter\n",
      "unlimited dimensions: time_counter\n",
      "current shape = (1, 40, 10, 1100)\n",
      "filling on, default _FillValue of 9.969209968386869e+36 used\n",
      "\n",
      "<class 'netCDF4._netCDF4.Variable'>\n",
      "float64 NO3(time_counter, deptht, y, x)\n",
      "    long_name: Nitrate\n",
      "    coordinates: nav_lon nav_lat deptht time_counter\n",
      "unlimited dimensions: time_counter\n",
      "current shape = (1, 101, 10, 1100)\n",
      "filling on, default _FillValue of 9.969209968386869e+36 used\n",
      "\n"
     ]
    }
   ],
   "source": [
    "new_NO=new_nuts.createVariable('NO3',float,('time_counter','deptht','y','x'),zlib=True)\n",
    "#new_Tem.setncattr('units',TS.variables['NO3'].units)\n",
    "new_NO.setncattr('long_name','Nitrate')\n",
    "new_NO.setncattr('coordinates',TS.variables['votemper'].coordinates)\n",
    "new_NO[:,:,:,:]=data_NO\n",
    "print( TS.variables['votemper'])\n",
    "print( new_nuts.variables['NO3'])"
   ]
  },
  {
   "cell_type": "code",
   "execution_count": 18,
   "metadata": {
    "collapsed": false
   },
   "outputs": [
    {
     "name": "stdout",
     "output_type": "stream",
     "text": [
      "<class 'netCDF4._netCDF4.Variable'>\n",
      "float32 vosaline(time_counter, deptht, y, x)\n",
      "    units: none\n",
      "    long_name: Practical Salinity\n",
      "    coordinates: x y deptht time_counter\n",
      "    grid: 2D bathy\n",
      "unlimited dimensions: time_counter\n",
      "current shape = (1, 40, 10, 1100)\n",
      "filling on, default _FillValue of 9.969209968386869e+36 used\n",
      "\n",
      "<class 'netCDF4._netCDF4.Variable'>\n",
      "float64 Si(time_counter, deptht, y, x)\n",
      "    long_name: Silicate\n",
      "    coordinates: x y deptht time_counter\n",
      "unlimited dimensions: time_counter\n",
      "current shape = (1, 101, 10, 1100)\n",
      "filling on, default _FillValue of 9.969209968386869e+36 used\n",
      "\n"
     ]
    }
   ],
   "source": [
    "new_Si=new_nuts.createVariable('Si',float,('time_counter','deptht','y','x'),zlib=True)\n",
    "#new_Sal.setncattr('units',TS.variables['vosaline'].units)\n",
    "new_Si.setncattr('long_name','Silicate')\n",
    "new_Si.setncattr('coordinates',TS.variables['vosaline'].coordinates)\n",
    "new_Si[:,:,:,:]=data_Si\n",
    "print (TS.variables['vosaline'])\n",
    "print( new_nuts.variables['Si'])"
   ]
  },
  {
   "cell_type": "code",
   "execution_count": 19,
   "metadata": {
    "collapsed": false
   },
   "outputs": [
    {
     "name": "stdout",
     "output_type": "stream",
     "text": [
      "<class 'netCDF4._netCDF4.Variable'>\n",
      "float32 vosaline(time_counter, deptht, y, x)\n",
      "    units: none\n",
      "    long_name: Practical Salinity\n",
      "    coordinates: x y deptht time_counter\n",
      "    grid: 2D bathy\n",
      "unlimited dimensions: time_counter\n",
      "current shape = (1, 40, 10, 1100)\n",
      "filling on, default _FillValue of 9.969209968386869e+36 used\n",
      "\n",
      "<class 'netCDF4._netCDF4.Variable'>\n",
      "float64 NH4(time_counter, deptht, y, x)\n",
      "    long_name: Ammonium\n",
      "    coordinates: x y deptht time_counter\n",
      "unlimited dimensions: time_counter\n",
      "current shape = (1, 101, 10, 1100)\n",
      "filling on, default _FillValue of 9.969209968386869e+36 used\n",
      "\n"
     ]
    }
   ],
   "source": [
    "new_NH4=new_nuts.createVariable('NH4',float,('time_counter','deptht','y','x'),zlib=True)\n",
    "#new_Sal.setncattr('units',TS.variables['vosaline'].units)\n",
    "new_NH4.setncattr('long_name','Ammonium')\n",
    "new_NH4.setncattr('coordinates',TS.variables['vosaline'].coordinates)\n",
    "new_NH4[:,:,:,:]=data_NH4\n",
    "print (TS.variables['vosaline'])\n",
    "print (new_nuts.variables['NH4'])"
   ]
  },
  {
   "cell_type": "code",
   "execution_count": 20,
   "metadata": {
    "collapsed": false
   },
   "outputs": [
    {
     "name": "stdout",
     "output_type": "stream",
     "text": [
      "<class 'netCDF4._netCDF4.Variable'>\n",
      "float32 vosaline(time_counter, deptht, y, x)\n",
      "    units: none\n",
      "    long_name: Practical Salinity\n",
      "    coordinates: x y deptht time_counter\n",
      "    grid: 2D bathy\n",
      "unlimited dimensions: time_counter\n",
      "current shape = (1, 40, 10, 1100)\n",
      "filling on, default _FillValue of 9.969209968386869e+36 used\n",
      "\n",
      "<class 'netCDF4._netCDF4.Variable'>\n",
      "float64 PHY(time_counter, deptht, y, x)\n",
      "    long_name: PHY\n",
      "    coordinates: x y deptht time_counter\n",
      "unlimited dimensions: time_counter\n",
      "current shape = (1, 101, 10, 1100)\n",
      "filling on, default _FillValue of 9.969209968386869e+36 used\n",
      "\n"
     ]
    }
   ],
   "source": [
    "new_PHY=new_nuts.createVariable('PHY',float,('time_counter','deptht','y','x'),zlib=True)\n",
    "#new_Sal.setncattr('units',TS.variables['vosaline'].units)\n",
    "new_PHY.setncattr('long_name','PHY')\n",
    "new_PHY.setncattr('coordinates',TS.variables['vosaline'].coordinates)\n",
    "new_PHY[:,:,:,:]=data_PHY\n",
    "print (TS.variables['vosaline'])\n",
    "print (new_nuts.variables['PHY'])"
   ]
  },
  {
   "cell_type": "code",
   "execution_count": 21,
   "metadata": {
    "collapsed": false
   },
   "outputs": [
    {
     "name": "stdout",
     "output_type": "stream",
     "text": [
      "<class 'netCDF4._netCDF4.Variable'>\n",
      "float32 vosaline(time_counter, deptht, y, x)\n",
      "    units: none\n",
      "    long_name: Practical Salinity\n",
      "    coordinates: x y deptht time_counter\n",
      "    grid: 2D bathy\n",
      "unlimited dimensions: time_counter\n",
      "current shape = (1, 40, 10, 1100)\n",
      "filling on, default _FillValue of 9.969209968386869e+36 used\n",
      "\n",
      "<class 'netCDF4._netCDF4.Variable'>\n",
      "float64 PHY2(time_counter, deptht, y, x)\n",
      "    long_name: PHY2\n",
      "    coordinates: x y deptht time_counter\n",
      "unlimited dimensions: time_counter\n",
      "current shape = (1, 101, 10, 1100)\n",
      "filling on, default _FillValue of 9.969209968386869e+36 used\n",
      "\n"
     ]
    }
   ],
   "source": [
    "new_PHY2=new_nuts.createVariable('PHY2',float,('time_counter','deptht','y','x'),zlib=True)\n",
    "#new_Sal.setncattr('units',TS.variables['vosaline'].units)\n",
    "new_PHY2.setncattr('long_name','PHY2')\n",
    "new_PHY2.setncattr('coordinates',TS.variables['vosaline'].coordinates)\n",
    "new_PHY2[:,:,:,:]=data_PHY2\n",
    "print( TS.variables['vosaline'])\n",
    "print( new_nuts.variables['PHY2'])"
   ]
  },
  {
   "cell_type": "code",
   "execution_count": 22,
   "metadata": {
    "collapsed": false
   },
   "outputs": [
    {
     "name": "stdout",
     "output_type": "stream",
     "text": [
      "<class 'netCDF4._netCDF4.Variable'>\n",
      "float32 vosaline(time_counter, deptht, y, x)\n",
      "    units: none\n",
      "    long_name: Practical Salinity\n",
      "    coordinates: x y deptht time_counter\n",
      "    grid: 2D bathy\n",
      "unlimited dimensions: time_counter\n",
      "current shape = (1, 40, 10, 1100)\n",
      "filling on, default _FillValue of 9.969209968386869e+36 used\n",
      "\n",
      "<class 'netCDF4._netCDF4.Variable'>\n",
      "float64 MYRI(time_counter, deptht, y, x)\n",
      "    long_name: MYRI\n",
      "    coordinates: x y deptht time_counter\n",
      "unlimited dimensions: time_counter\n",
      "current shape = (1, 101, 10, 1100)\n",
      "filling on, default _FillValue of 9.969209968386869e+36 used\n",
      "\n"
     ]
    }
   ],
   "source": [
    "new_MYRI=new_nuts.createVariable('MYRI',float,('time_counter','deptht','y','x'),zlib=True)\n",
    "#new_Sal.setncattr('units',TS.variables['vosaline'].units)\n",
    "new_MYRI.setncattr('long_name','MYRI')\n",
    "new_MYRI.setncattr('coordinates',TS.variables['vosaline'].coordinates)\n",
    "new_MYRI[:,:,:,:]=data_MYRI\n",
    "print (TS.variables['vosaline'])\n",
    "print( new_nuts.variables['MYRI'])"
   ]
  },
  {
   "cell_type": "code",
   "execution_count": 23,
   "metadata": {
    "collapsed": false
   },
   "outputs": [
    {
     "name": "stdout",
     "output_type": "stream",
     "text": [
      "<class 'netCDF4._netCDF4.Variable'>\n",
      "float32 vosaline(time_counter, deptht, y, x)\n",
      "    units: none\n",
      "    long_name: Practical Salinity\n",
      "    coordinates: x y deptht time_counter\n",
      "    grid: 2D bathy\n",
      "unlimited dimensions: time_counter\n",
      "current shape = (1, 40, 10, 1100)\n",
      "filling on, default _FillValue of 9.969209968386869e+36 used\n",
      "\n",
      "<class 'netCDF4._netCDF4.Variable'>\n",
      "float64 MICZ(time_counter, deptht, y, x)\n",
      "    long_name: MICZ\n",
      "    coordinates: x y deptht time_counter\n",
      "unlimited dimensions: time_counter\n",
      "current shape = (1, 101, 10, 1100)\n",
      "filling on, default _FillValue of 9.969209968386869e+36 used\n",
      "\n"
     ]
    }
   ],
   "source": [
    "new_MICZ=new_nuts.createVariable('MICZ',float,('time_counter','deptht','y','x'),zlib=True)\n",
    "#new_Sal.setncattr('units',TS.variables['vosaline'].units)\n",
    "new_MICZ.setncattr('long_name','MICZ')\n",
    "new_MICZ.setncattr('coordinates',TS.variables['vosaline'].coordinates)\n",
    "new_MICZ[:,:,:,:]=data_MICZ\n",
    "print( TS.variables['vosaline'])\n",
    "print (new_nuts.variables['MICZ'])"
   ]
  },
  {
   "cell_type": "code",
   "execution_count": 24,
   "metadata": {
    "collapsed": false
   },
   "outputs": [
    {
     "name": "stdout",
     "output_type": "stream",
     "text": [
      "<class 'netCDF4._netCDF4.Variable'>\n",
      "float32 vosaline(time_counter, deptht, y, x)\n",
      "    units: none\n",
      "    long_name: Practical Salinity\n",
      "    coordinates: x y deptht time_counter\n",
      "    grid: 2D bathy\n",
      "unlimited dimensions: time_counter\n",
      "current shape = (1, 40, 10, 1100)\n",
      "filling on, default _FillValue of 9.969209968386869e+36 used\n",
      "\n",
      "<class 'netCDF4._netCDF4.Variable'>\n",
      "float64 POC(time_counter, deptht, y, x)\n",
      "    long_name: POC\n",
      "    coordinates: x y deptht time_counter\n",
      "unlimited dimensions: time_counter\n",
      "current shape = (1, 101, 10, 1100)\n",
      "filling on, default _FillValue of 9.969209968386869e+36 used\n",
      "\n"
     ]
    }
   ],
   "source": [
    "new_POC=new_nuts.createVariable('POC',float,('time_counter','deptht','y','x'),zlib=True)\n",
    "#new_Sal.setncattr('units',TS.variables['vosaline'].units)\n",
    "new_POC.setncattr('long_name','POC')\n",
    "new_POC.setncattr('coordinates',TS.variables['vosaline'].coordinates)\n",
    "new_POC[:,:,:,:]=data_POC\n",
    "print (TS.variables['vosaline'])\n",
    "print (new_nuts.variables['POC'])"
   ]
  },
  {
   "cell_type": "code",
   "execution_count": 25,
   "metadata": {
    "collapsed": false
   },
   "outputs": [
    {
     "name": "stdout",
     "output_type": "stream",
     "text": [
      "<class 'netCDF4._netCDF4.Variable'>\n",
      "float32 vosaline(time_counter, deptht, y, x)\n",
      "    units: none\n",
      "    long_name: Practical Salinity\n",
      "    coordinates: x y deptht time_counter\n",
      "    grid: 2D bathy\n",
      "unlimited dimensions: time_counter\n",
      "current shape = (1, 40, 10, 1100)\n",
      "filling on, default _FillValue of 9.969209968386869e+36 used\n",
      "\n",
      "<class 'netCDF4._netCDF4.Variable'>\n",
      "float64 DOC(time_counter, deptht, y, x)\n",
      "    long_name: DOC\n",
      "    coordinates: x y deptht time_counter\n",
      "unlimited dimensions: time_counter\n",
      "current shape = (1, 101, 10, 1100)\n",
      "filling on, default _FillValue of 9.969209968386869e+36 used\n",
      "\n"
     ]
    }
   ],
   "source": [
    "new_DOC=new_nuts.createVariable('DOC',float,('time_counter','deptht','y','x'),zlib=True)\n",
    "#new_Sal.setncattr('units',TS.variables['vosaline'].units)\n",
    "new_DOC.setncattr('long_name','DOC')\n",
    "new_DOC.setncattr('coordinates',TS.variables['vosaline'].coordinates)\n",
    "new_DOC[:,:,:,:]=data_DOC\n",
    "print( TS.variables['vosaline'])\n",
    "print( new_nuts.variables['DOC'])"
   ]
  },
  {
   "cell_type": "code",
   "execution_count": 26,
   "metadata": {
    "collapsed": false
   },
   "outputs": [
    {
     "name": "stdout",
     "output_type": "stream",
     "text": [
      "<class 'netCDF4._netCDF4.Variable'>\n",
      "float32 vosaline(time_counter, deptht, y, x)\n",
      "    units: none\n",
      "    long_name: Practical Salinity\n",
      "    coordinates: x y deptht time_counter\n",
      "    grid: 2D bathy\n",
      "unlimited dimensions: time_counter\n",
      "current shape = (1, 40, 10, 1100)\n",
      "filling on, default _FillValue of 9.969209968386869e+36 used\n",
      "\n",
      "<class 'netCDF4._netCDF4.Variable'>\n",
      "float64 bSi(time_counter, deptht, y, x)\n",
      "    long_name: bSi\n",
      "    coordinates: x y deptht time_counter\n",
      "unlimited dimensions: time_counter\n",
      "current shape = (1, 101, 10, 1100)\n",
      "filling on, default _FillValue of 9.969209968386869e+36 used\n",
      "\n"
     ]
    }
   ],
   "source": [
    "new_bSi=new_nuts.createVariable('bSi',float,('time_counter','deptht','y','x'),zlib=True)\n",
    "#new_Sal.setncattr('units',TS.variables['vosaline'].units)\n",
    "new_bSi.setncattr('long_name','bSi')\n",
    "new_bSi.setncattr('coordinates',TS.variables['vosaline'].coordinates)\n",
    "new_bSi[:,:,:,:]=data_bSi\n",
    "print( TS.variables['vosaline'])\n",
    "print (new_nuts.variables['bSi'])"
   ]
  },
  {
   "cell_type": "code",
   "execution_count": 27,
   "metadata": {
    "collapsed": false
   },
   "outputs": [],
   "source": [
    "new_nuts.title=\"\"\"SS2DSOG NO, Si, NH4, PHY, PHY2, MYRI, Z, DOC, POC, bSi initialization\"\"\"\n",
    "new_nuts.institution=\"\"\"\n",
    "Dept of Earth, Ocean & Atmospheric Sciences, University of British Columbia\"\"\"\n",
    "new_nuts.comment= \"\"\"\n",
    "Based on SG-S3-2004-10-19.sog and nuts-S3-2004-10-19.sog\"\"\"\n",
    "new_nuts.reference= \"\"\"\n",
    "eolson: createIC_NutsPhy_SS2DSOG5x5_S3-2004-10-19-WithMRubraMicrozooRemin-2d.ipynb\"\"\""
   ]
  },
  {
   "cell_type": "code",
   "execution_count": 28,
   "metadata": {
    "collapsed": false
   },
   "outputs": [],
   "source": [
    "new_nuts.close()"
   ]
  },
  {
   "cell_type": "code",
   "execution_count": 29,
   "metadata": {
    "collapsed": false
   },
   "outputs": [
    {
     "name": "stdout",
     "output_type": "stream",
     "text": [
      "<class 'netCDF4._netCDF4.Dataset'>\n",
      "root group (NETCDF4 data model, file format UNDEFINED):\n",
      "    Conventions: CF-1.6\n",
      "    title: 2D T+S initialization\n",
      "    institution: Dept of Earth, Ocean & Atmospheric Sciences, University of British Columbia\n",
      "    source: https://bitbucket.org/salishsea/2d-domain/src/tip/Generate 2D T+S.ipynb\n",
      "    references: REQUIRED\n",
      "    history: [2015-03-31 15:59:01] Created netCDF4 zlib=True dataset.\n",
      "    comment: Salinity and Temperature along Thalweg for 2D domain from uniform stratification\n",
      "    dimensions(sizes): y(10), x(1100), deptht(40), time_counter(1)\n",
      "    variables(dimensions): float32 \u001b[4my\u001b[0m(y,x), float32 \u001b[4mx\u001b[0m(y,x), float32 \u001b[4mdeptht\u001b[0m(deptht), float32 \u001b[4mtime_counter\u001b[0m(time_counter), float32 \u001b[4mvosaline\u001b[0m(time_counter,deptht,y,x), float32 \u001b[4mvotemper\u001b[0m(time_counter,deptht,y,x)\n",
      "    groups: \n",
      "\n"
     ]
    }
   ],
   "source": [
    "print(TS)"
   ]
  },
  {
   "cell_type": "code",
   "execution_count": 30,
   "metadata": {
    "collapsed": false
   },
   "outputs": [
    {
     "data": {
      "text/plain": [
       "<class 'netCDF4._netCDF4.Dimension'> (unlimited): name = 'time_counter', size = 0"
      ]
     },
     "execution_count": 30,
     "metadata": {},
     "output_type": "execute_result"
    }
   ],
   "source": [
    "new_ts=nc.Dataset('/data/eolson/MEOPAR/SS2DSOGruns/TS_400m.nc','w')\n",
    "new_ts.createDimension('y', 10)\n",
    "new_ts.createDimension('x', 1100)\n",
    "new_ts.createDimension('deptht', 101)\n",
    "new_ts.createDimension('time_counter', None)"
   ]
  },
  {
   "cell_type": "code",
   "execution_count": 31,
   "metadata": {
    "collapsed": false
   },
   "outputs": [
    {
     "name": "stdout",
     "output_type": "stream",
     "text": [
      "<class 'netCDF4._netCDF4.Variable'>\n",
      "float32 time_counter(time_counter)\n",
      "    units: seconds since 2003-08-09 0:00:00\n",
      "    long_name: Time axis\n",
      "unlimited dimensions: time_counter\n",
      "current shape = (1,)\n",
      "filling on, default _FillValue of 9.969209968386869e+36 used\n",
      "\n",
      "<class 'netCDF4._netCDF4.Variable'>\n",
      "float64 time_counter(time_counter)\n",
      "    units: seconds since 2003-08-09 0:00:00\n",
      "    long_name: Time axis\n",
      "unlimited dimensions: time_counter\n",
      "current shape = (1,)\n",
      "filling on, default _FillValue of 9.969209968386869e+36 used\n",
      "\n"
     ]
    }
   ],
   "source": [
    "new_tc=new_ts.createVariable('time_counter',float,('time_counter'),zlib=True)\n",
    "new_tc.setncattr('units',TS.variables['time_counter'].units)\n",
    "new_tc.setncattr('long_name',TS.variables['time_counter'].long_name)\n",
    "new_tc[:]=TS.variables['time_counter']\n",
    "\n",
    "print (TS.variables['time_counter'])\n",
    "print( new_ts.variables['time_counter'])"
   ]
  },
  {
   "cell_type": "code",
   "execution_count": 32,
   "metadata": {
    "collapsed": false
   },
   "outputs": [
    {
     "name": "stdout",
     "output_type": "stream",
     "text": [
      "<class 'netCDF4._netCDF4.Variable'>\n",
      "float32 deptht(deptht)\n",
      "    long_name: Depth\n",
      "    units: m\n",
      "    positive: down\n",
      "unlimited dimensions: \n",
      "current shape = (40,)\n",
      "filling on, default _FillValue of 9.969209968386869e+36 used\n",
      "\n",
      "<class 'netCDF4._netCDF4.Variable'>\n",
      "float64 deptht(deptht)\n",
      "    units: m\n",
      "    long_name: Depth\n",
      "    positive: down\n",
      "unlimited dimensions: \n",
      "current shape = (101,)\n",
      "filling on, default _FillValue of 9.969209968386869e+36 used\n",
      "\n"
     ]
    }
   ],
   "source": [
    "new_z=new_ts.createVariable('deptht',float,('deptht'),zlib=True)\n",
    "new_z.setncattr('units',TS.variables['deptht'].units)\n",
    "new_z.setncattr('long_name',TS.variables['deptht'].long_name)\n",
    "new_z.setncattr('positive',TS.variables['deptht'].positive)\n",
    "new_z[:]=zs\n",
    "\n",
    "print( TS.variables['deptht'])\n",
    "print (new_ts.variables['deptht'])"
   ]
  },
  {
   "cell_type": "code",
   "execution_count": 33,
   "metadata": {
    "collapsed": false
   },
   "outputs": [
    {
     "name": "stdout",
     "output_type": "stream",
     "text": [
      "<class 'netCDF4._netCDF4.Variable'>\n",
      "float32 x(y, x)\n",
      "    long_name: streamwise\n",
      "    units: metres\n",
      "unlimited dimensions: \n",
      "current shape = (10, 1100)\n",
      "filling on, default _FillValue of 9.969209968386869e+36 used\n",
      "\n",
      "<class 'netCDF4._netCDF4.Variable'>\n",
      "float64 x(y, x)\n",
      "    units: metres\n",
      "    long_name: streamwise\n",
      "unlimited dimensions: \n",
      "current shape = (10, 1100)\n",
      "filling on, default _FillValue of 9.969209968386869e+36 used\n",
      "\n"
     ]
    }
   ],
   "source": [
    "new_x=new_ts.createVariable('x',float,('y','x'),zlib=True)\n",
    "new_x.setncattr('units',TS.variables['x'].units)\n",
    "new_x.setncattr('long_name',TS.variables['x'].long_name)\n",
    "new_x=TS.variables['x']\n",
    "\n",
    "print (TS.variables['x'])\n",
    "print (new_ts.variables['x'])"
   ]
  },
  {
   "cell_type": "code",
   "execution_count": 34,
   "metadata": {
    "collapsed": false
   },
   "outputs": [
    {
     "name": "stdout",
     "output_type": "stream",
     "text": [
      "<class 'netCDF4._netCDF4.Variable'>\n",
      "float32 y(y, x)\n",
      "    long_name: spanwise\n",
      "    units: metres\n",
      "unlimited dimensions: \n",
      "current shape = (10, 1100)\n",
      "filling on, default _FillValue of 9.969209968386869e+36 used\n",
      "\n",
      "<class 'netCDF4._netCDF4.Variable'>\n",
      "float64 y(y, x)\n",
      "    units: metres\n",
      "    long_name: spanwise\n",
      "unlimited dimensions: \n",
      "current shape = (10, 1100)\n",
      "filling on, default _FillValue of 9.969209968386869e+36 used\n",
      "\n"
     ]
    }
   ],
   "source": [
    "new_y=new_ts.createVariable('y',float,('y','x'),zlib=True)\n",
    "new_y.setncattr('units',TS.variables['y'].units)\n",
    "new_y.setncattr('long_name',TS.variables['y'].long_name)\n",
    "new_y=TS.variables['y']\n",
    "\n",
    "print( TS.variables['y'])\n",
    "print( new_ts.variables['y'])"
   ]
  },
  {
   "cell_type": "code",
   "execution_count": 35,
   "metadata": {
    "collapsed": false
   },
   "outputs": [
    {
     "name": "stdout",
     "output_type": "stream",
     "text": [
      "[ 12.0611   12.5737   12.58305  11.92535  11.2438   10.9357   10.59925\n",
      "  10.5561   10.52095  10.3964   10.29295  10.20695  10.1203   10.09005\n",
      "  10.07945  10.1169   10.19495  10.2058   10.2228   10.2671   10.27015\n",
      "  10.2894   10.3184   10.33585  10.34575  10.3721   10.35385  10.34285\n",
      "  10.31205  10.25455  10.23735  10.20875  10.19735  10.136    10.12665\n",
      "  10.10935  10.08135  10.04315  10.03595  10.0208   10.00385   9.99255\n",
      "   9.9715    9.95565   9.94995   9.94845   9.9429    9.93205   9.9218\n",
      "   9.9131    9.90725   9.90525   9.9011    9.90085   9.89475   9.8952\n",
      "   9.89345   9.89455   9.89135   9.8949    9.89845   9.902     9.90555\n",
      "   9.9091    9.91265   9.9162    9.91975   9.9233    9.92685   9.9304\n",
      "   9.93395   9.9375    9.94105   9.9446    9.94815   9.9517    9.95525\n",
      "   9.9588    9.96235   9.9659    9.96945   9.973     9.97655   9.9801\n",
      "   9.98365   9.9872    9.99075   9.9943    9.99785  10.0014   10.00495\n",
      "  10.0085   10.01205  10.0156   10.01915  10.0227   10.02625  10.0298\n",
      "  10.03335  10.0369   10.04045]\n"
     ]
    }
   ],
   "source": [
    "# Remove records with negative data values (typically -99.0 or\n",
    "# -99999) because that indicates invalid data\n",
    "data_qty=data_f[:,2]\n",
    "mask = (data_qty >= 0.0)\n",
    "data_records = len(data_qty[mask])\n",
    "qty_clean = data_qty[mask]\n",
    "depth_clean= data_f[:,0][mask]\n",
    "# Calculate depth and quantity differences from field data for use\n",
    "# in interpolation\n",
    "del_depth = depth_clean[1:data_records] - depth_clean[0:data_records-1]\n",
    "del_qty = qty_clean[1:data_records] - qty_clean[0:data_records-1]\n",
    "# Interpolate quantity values at grid point depths\n",
    "i_data = 1\n",
    "T=0.0*zs\n",
    "for i_g in range(0, len(zs)):\n",
    "    if (zs[i_g] > depth_clean[i_data]):\n",
    "        while ((zs[i_g] > depth_clean[i_data]) and (i_data<data_records-1)):\n",
    "            i_data = i_data + 1\n",
    "    T[i_g] = qty_clean[i_data-1] + del_qty[i_data-1] \\\n",
    "        * ((zs[i_g] - depth_clean[i_data-1]) \\\n",
    "        / del_depth[i_data-1])\n",
    "print (T)"
   ]
  },
  {
   "cell_type": "code",
   "execution_count": 36,
   "metadata": {
    "collapsed": false
   },
   "outputs": [
    {
     "name": "stdout",
     "output_type": "stream",
     "text": [
      "[ 22.813    25.89475  26.27665  27.8068   28.85945  29.278    29.4978\n",
      "  29.52755  29.552    29.64525  29.7119   29.7764   29.83275  29.89355\n",
      "  29.92675  30.06745  30.1499   30.1591   30.1815   30.239    30.29515\n",
      "  30.36725  30.4109   30.47     30.54075  30.63035  30.68495  30.69885\n",
      "  30.73755  30.79275  30.80415  30.8257   30.8292   30.8753   30.88055\n",
      "  30.8914   30.9115   30.93545  30.9387   30.94695  30.958    30.96905\n",
      "  30.9903   31.0088   31.016    31.0188   31.02795  31.04855  31.068\n",
      "  31.0843   31.0963   31.10565  31.11585  31.1175   31.135    31.1361\n",
      "  31.13675  31.1374   31.1455   31.14025  31.135    31.12975  31.1245\n",
      "  31.11925  31.114    31.10875  31.1035   31.09825  31.093    31.08775\n",
      "  31.0825   31.07725  31.072    31.06675  31.0615   31.05625  31.051\n",
      "  31.04575  31.0405   31.03525  31.03     31.02475  31.0195   31.01425\n",
      "  31.009    31.00375  30.9985   30.99325  30.988    30.98275  30.9775\n",
      "  30.97225  30.967    30.96175  30.9565   30.95125  30.946    30.94075\n",
      "  30.9355   30.93025  30.925  ]\n"
     ]
    }
   ],
   "source": [
    "# Remove records with negative data values (typically -99.0 or\n",
    "# -99999) because that indicates invalid data\n",
    "data_qty=data_f[:,3]\n",
    "mask = (data_qty >= 0.0)\n",
    "data_records = len(data_qty[mask])\n",
    "qty_clean = data_qty[mask]\n",
    "depth_clean= data_f[:,0][mask]\n",
    "# Calculate depth and quantity differences from field data for use\n",
    "# in interpolation\n",
    "del_depth = depth_clean[1:data_records] - depth_clean[0:data_records-1]\n",
    "del_qty = qty_clean[1:data_records] - qty_clean[0:data_records-1]\n",
    "# Interpolate quantity values at grid point depths\n",
    "i_data = 1\n",
    "S=0.0*zs\n",
    "for i_g in range(0, len(zs)):\n",
    "    if (zs[i_g] > depth_clean[i_data]):\n",
    "        while ((zs[i_g] > depth_clean[i_data]) and (i_data<data_records-1)):\n",
    "            i_data = i_data + 1\n",
    "    S[i_g] = qty_clean[i_data-1] + del_qty[i_data-1] \\\n",
    "        * ((zs[i_g] - depth_clean[i_data-1]) \\\n",
    "        / del_depth[i_data-1])\n",
    "print (S)"
   ]
  },
  {
   "cell_type": "code",
   "execution_count": 37,
   "metadata": {
    "collapsed": false
   },
   "outputs": [
    {
     "name": "stdout",
     "output_type": "stream",
     "text": [
      "<class 'netCDF4._netCDF4.Variable'>\n",
      "float32 vosaline(time_counter, deptht, y, x)\n",
      "    units: none\n",
      "    long_name: Practical Salinity\n",
      "    coordinates: x y deptht time_counter\n",
      "    grid: 2D bathy\n",
      "unlimited dimensions: time_counter\n",
      "current shape = (1, 40, 10, 1100)\n",
      "filling on, default _FillValue of 9.969209968386869e+36 used\n",
      "\n",
      "<class 'netCDF4._netCDF4.Variable'>\n",
      "float64 votemper(time_counter, deptht, y, x)\n",
      "    long_name: T\n",
      "    coordinates: x y deptht time_counter\n",
      "unlimited dimensions: time_counter\n",
      "current shape = (1, 101, 10, 1100)\n",
      "filling on, default _FillValue of 9.969209968386869e+36 used\n",
      "\n"
     ]
    }
   ],
   "source": [
    "vecT=np.reshape(T,(101,1,1))\n",
    "data_T=np.tile(vecT,(1,1,10,1100))\n",
    "\n",
    "new_T=new_ts.createVariable('votemper',float,('time_counter','deptht','y','x'),zlib=True)\n",
    "#new_Sal.setncattr('units',TS.variables['vosaline'].units)\n",
    "new_T.setncattr('long_name','T')\n",
    "new_T.setncattr('coordinates',TS.variables['vosaline'].coordinates)\n",
    "new_T[:,:,:,:]=data_T\n",
    "print (TS.variables['vosaline'])\n",
    "print (new_ts.variables['votemper'])"
   ]
  },
  {
   "cell_type": "code",
   "execution_count": 38,
   "metadata": {
    "collapsed": false
   },
   "outputs": [
    {
     "name": "stdout",
     "output_type": "stream",
     "text": [
      "<class 'netCDF4._netCDF4.Variable'>\n",
      "float32 vosaline(time_counter, deptht, y, x)\n",
      "    units: none\n",
      "    long_name: Practical Salinity\n",
      "    coordinates: x y deptht time_counter\n",
      "    grid: 2D bathy\n",
      "unlimited dimensions: time_counter\n",
      "current shape = (1, 40, 10, 1100)\n",
      "filling on, default _FillValue of 9.969209968386869e+36 used\n",
      "\n",
      "<class 'netCDF4._netCDF4.Variable'>\n",
      "float64 vosaline(time_counter, deptht, y, x)\n",
      "    long_name: S\n",
      "    coordinates: x y deptht time_counter\n",
      "unlimited dimensions: time_counter\n",
      "current shape = (1, 101, 10, 1100)\n",
      "filling on, default _FillValue of 9.969209968386869e+36 used\n",
      "\n"
     ]
    }
   ],
   "source": [
    "vecS=np.reshape(S,(101,1,1))\n",
    "data_S=np.tile(vecS,(1,1,10,1100))\n",
    "\n",
    "new_S=new_ts.createVariable('vosaline',float,('time_counter','deptht','y','x'),zlib=True)\n",
    "#new_Sal.setncattr('units',TS.variables['vosaline'].units)\n",
    "new_S.setncattr('long_name','S')\n",
    "new_S.setncattr('coordinates',TS.variables['vosaline'].coordinates)\n",
    "new_S[:,:,:,:]=data_S\n",
    "print (TS.variables['vosaline'])\n",
    "print (new_ts.variables['vosaline'])"
   ]
  },
  {
   "cell_type": "code",
   "execution_count": 39,
   "metadata": {
    "collapsed": false
   },
   "outputs": [],
   "source": [
    "TS.close()\n",
    "new_ts.close()"
   ]
  },
  {
   "cell_type": "code",
   "execution_count": 40,
   "metadata": {
    "collapsed": false
   },
   "outputs": [
    {
     "data": {
      "text/plain": [
       "<matplotlib.colorbar.Colorbar at 0x7f38764b5128>"
      ]
     },
     "execution_count": 40,
     "metadata": {},
     "output_type": "execute_result"
    },
    {
     "data": {
      "image/png": "[encoded data removed]",
      "text/plain": [
       "<matplotlib.figure.Figure at 0x7f387876e5f8>"
      ]
     },
     "metadata": {},
     "output_type": "display_data"
    }
   ],
   "source": [
    "B=nc.Dataset('/data/eolson/MEOPAR/SS2DSOGruns/nuts_SOG5x5_S3-2014-10-19-WithMRubra.nc')\n",
    "NO=B.variables['NO3']\n",
    "Si=B.variables['Si']\n",
    "PHY=B.variables['MYRI']\n",
    "NH=B.variables['NH4']\n",
    "plt.pcolormesh(NO[0,:,:,3]); plt.colorbar()"
   ]
  },
  {
   "cell_type": "code",
   "execution_count": 41,
   "metadata": {
    "collapsed": false
   },
   "outputs": [
    {
     "data": {
      "text/plain": [
       "<matplotlib.colorbar.Colorbar at 0x7f38763a4da0>"
      ]
     },
     "execution_count": 41,
     "metadata": {},
     "output_type": "execute_result"
    },
    {
     "data": {
      "image/png": "[encoded data removed]",
      "text/plain": [
       "<matplotlib.figure.Figure at 0x7f38787c6908>"
      ]
     },
     "metadata": {},
     "output_type": "display_data"
    }
   ],
   "source": [
    "\n",
    "plt.pcolormesh(Si[0,:,:,3]); plt.colorbar()"
   ]
  },
  {
   "cell_type": "code",
   "execution_count": 42,
   "metadata": {
    "collapsed": false
   },
   "outputs": [
    {
     "data": {
      "text/plain": [
       "<matplotlib.colorbar.Colorbar at 0x7f3876360be0>"
      ]
     },
     "execution_count": 42,
     "metadata": {},
     "output_type": "execute_result"
    },
    {
     "data": {
      "image/png": "[encoded data removed]",
      "text/plain": [
       "<matplotlib.figure.Figure at 0x7f38787c6710>"
      ]
     },
     "metadata": {},
     "output_type": "display_data"
    }
   ],
   "source": [
    "\n",
    "plt.pcolormesh(NH[0,:,:,3]); plt.colorbar()"
   ]
  },
  {
   "cell_type": "code",
   "execution_count": 43,
   "metadata": {
    "collapsed": false
   },
   "outputs": [
    {
     "data": {
      "text/plain": [
       "<matplotlib.colorbar.Colorbar at 0x7f387628b208>"
      ]
     },
     "execution_count": 43,
     "metadata": {},
     "output_type": "execute_result"
    },
    {
     "data": {
      "image/png": "[encoded data removed]",
      "text/plain": [
       "<matplotlib.figure.Figure at 0x7f38762f6ef0>"
      ]
     },
     "metadata": {},
     "output_type": "display_data"
    }
   ],
   "source": [
    "\n",
    "plt.pcolormesh(PHY[0,:,:,3]); plt.colorbar()"
   ]
  },
  {
   "cell_type": "code",
   "execution_count": 44,
   "metadata": {
    "collapsed": false
   },
   "outputs": [
    {
     "name": "stdout",
     "output_type": "stream",
     "text": [
      "OrderedDict([('time_counter', <class 'netCDF4._netCDF4.Variable'>\n",
      "float64 time_counter(time_counter)\n",
      "    units: seconds since 2003-08-09 0:00:00\n",
      "    long_name: Time axis\n",
      "unlimited dimensions: time_counter\n",
      "current shape = (1,)\n",
      "filling on, default _FillValue of 9.969209968386869e+36 used\n",
      "), ('deptht', <class 'netCDF4._netCDF4.Variable'>\n",
      "float64 deptht(deptht)\n",
      "    units: m\n",
      "    long_name: Depth\n",
      "    positive: down\n",
      "unlimited dimensions: \n",
      "current shape = (101,)\n",
      "filling on, default _FillValue of 9.969209968386869e+36 used\n",
      "), ('x', <class 'netCDF4._netCDF4.Variable'>\n",
      "float64 x(y, x)\n",
      "    units: metres\n",
      "    long_name: streamwise\n",
      "unlimited dimensions: \n",
      "current shape = (5, 5)\n",
      "filling on, default _FillValue of 9.969209968386869e+36 used\n",
      "), ('y', <class 'netCDF4._netCDF4.Variable'>\n",
      "float64 y(y, x)\n",
      "    units: metres\n",
      "    long_name: spanwise\n",
      "unlimited dimensions: \n",
      "current shape = (5, 5)\n",
      "filling on, default _FillValue of 9.969209968386869e+36 used\n",
      "), ('NO3', <class 'netCDF4._netCDF4.Variable'>\n",
      "float64 NO3(time_counter, deptht, y, x)\n",
      "    long_name: Nitrate\n",
      "    coordinates: nav_lon nav_lat deptht time_counter\n",
      "unlimited dimensions: time_counter\n",
      "current shape = (1, 101, 5, 5)\n",
      "filling on, default _FillValue of 9.969209968386869e+36 used\n",
      "), ('Si', <class 'netCDF4._netCDF4.Variable'>\n",
      "float64 Si(time_counter, deptht, y, x)\n",
      "    long_name: Silicate\n",
      "    coordinates: x y deptht time_counter\n",
      "unlimited dimensions: time_counter\n",
      "current shape = (1, 101, 5, 5)\n",
      "filling on, default _FillValue of 9.969209968386869e+36 used\n",
      "), ('NH4', <class 'netCDF4._netCDF4.Variable'>\n",
      "float64 NH4(time_counter, deptht, y, x)\n",
      "    long_name: Ammonium\n",
      "    coordinates: x y deptht time_counter\n",
      "unlimited dimensions: time_counter\n",
      "current shape = (1, 101, 5, 5)\n",
      "filling on, default _FillValue of 9.969209968386869e+36 used\n",
      "), ('PHY', <class 'netCDF4._netCDF4.Variable'>\n",
      "float64 PHY(time_counter, deptht, y, x)\n",
      "    long_name: PHY\n",
      "    coordinates: x y deptht time_counter\n",
      "unlimited dimensions: time_counter\n",
      "current shape = (1, 101, 5, 5)\n",
      "filling on, default _FillValue of 9.969209968386869e+36 used\n",
      "), ('PHY2', <class 'netCDF4._netCDF4.Variable'>\n",
      "float64 PHY2(time_counter, deptht, y, x)\n",
      "    long_name: PHY2\n",
      "    coordinates: x y deptht time_counter\n",
      "unlimited dimensions: time_counter\n",
      "current shape = (1, 101, 5, 5)\n",
      "filling on, default _FillValue of 9.969209968386869e+36 used\n",
      "), ('MYRI', <class 'netCDF4._netCDF4.Variable'>\n",
      "float64 MYRI(time_counter, deptht, y, x)\n",
      "    long_name: MYRI\n",
      "    coordinates: x y deptht time_counter\n",
      "unlimited dimensions: time_counter\n",
      "current shape = (1, 101, 5, 5)\n",
      "filling on, default _FillValue of 9.969209968386869e+36 used\n",
      ")])\n"
     ]
    }
   ],
   "source": [
    "print( B.variables)"
   ]
  },
  {
   "cell_type": "code",
   "execution_count": 45,
   "metadata": {
    "collapsed": false
   },
   "outputs": [],
   "source": [
    "B.close()"
   ]
  },
  {
   "cell_type": "code",
   "execution_count": null,
   "metadata": {
    "collapsed": false
   },
   "outputs": [],
   "source": []
  },
  {
   "cell_type": "code",
   "execution_count": null,
   "metadata": {
    "collapsed": true
   },
   "outputs": [],
   "source": []
  },
  {
   "cell_type": "code",
   "execution_count": null,
   "metadata": {
    "collapsed": true
   },
   "outputs": [],
   "source": []
  },
  {
   "cell_type": "code",
   "execution_count": null,
   "metadata": {
    "collapsed": true
   },
   "outputs": [],
   "source": []
  }
 ],
 "metadata": {
  "kernelspec": {
   "display_name": "Python 3",
   "language": "python",
   "name": "python3"
  },
  "language_info": {
   "codemirror_mode": {
    "name": "ipython",
    "version": 3
   },
   "file_extension": ".py",
   "mimetype": "text/x-python",
   "name": "python",
   "nbconvert_exporter": "python",
   "pygments_lexer": "ipython3",
   "version": "3.4.3"
  }
 },
 "nbformat": 4,
 "nbformat_minor": 0
}
