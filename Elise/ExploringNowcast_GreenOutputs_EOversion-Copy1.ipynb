{
 "cells": [
  {
   "cell_type": "markdown",
   "metadata": {},
   "source": [
    "This notebook will be used to look at plots from the nowcast_green runs"
   ]
  },
  {
   "cell_type": "code",
   "execution_count": 1,
   "metadata": {
    "collapsed": false
   },
   "outputs": [],
   "source": [
    "import matplotlib.pyplot as plt\n",
    "import netCDF4 as nc\n",
    "import numpy as np\n",
    "import glob\n",
    "\n",
    "from salishsea_tools import viz_tools\n",
    "\n",
    "#from nowcast import analyze\n",
    "\n",
    "%matplotlib inline"
   ]
  },
  {
   "cell_type": "markdown",
   "metadata": {},
   "source": [
    "Loading nowcast_green results"
   ]
  },
  {
   "cell_type": "code",
   "execution_count": 2,
   "metadata": {
    "collapsed": false
   },
   "outputs": [],
   "source": [
    "dmy = '08dec15'\n",
    "filename = glob.glob('/results/SalishSea/nowcast-green/%s/SalishSea_1h_*_ptrc_T.nc' % dmy)\n",
    "grid_g = nc.Dataset(filename[0])\n",
    "thalweg = np.loadtxt('/data/dlatorne/MEOPAR/tools/bathymetry/thalweg_working.txt', dtype=int, unpack=True)\n",
    "bio = nc.Dataset('/data/eolson/MEOPAR/SS36runs/run_full_01/mesh_mask.nc')\n",
    "e3t = bio.variables['e3t_0']"
   ]
  },
  {
   "cell_type": "markdown",
   "metadata": {},
   "source": [
    "Pre-load and set some variable"
   ]
  },
  {
   "cell_type": "code",
   "execution_count": null,
   "metadata": {
    "collapsed": true
   },
   "outputs": [],
   "source": []
  },
  {
   "cell_type": "code",
   "execution_count": null,
   "metadata": {
    "collapsed": false
   },
   "outputs": [],
   "source": [
    "zlevels = grid_g.variables['deptht'][:]\n",
    "x, z = np.meshgrid(np.arange(thalweg.shape[1]), zlevels)\n",
    "time = -1"
   ]
  },
  {
   "cell_type": "markdown",
   "metadata": {},
   "source": [
    "## Make surface and thalweg plots for all fields"
   ]
  },
  {
   "cell_type": "code",
   "execution_count": null,
   "metadata": {
    "collapsed": false
   },
   "outputs": [],
   "source": [
    "def plot_surface_thalweg(grid_g, thalweg, zlevels, x, z, field, time):\n",
    "    \"\"\" \"\"\"\n",
    "    \n",
    "    conc = grid_g.variables[field]\n",
    "    \n",
    "    #Prepare surface values\n",
    "    conc_ma = np.ma.masked_values(conc[time, 0, :, :], 0)\n",
    "    vmin = np.min(conc_ma)\n",
    "    vmax = np.max(conc_ma)\n",
    "   \n",
    "    #Prepare thalweg values\n",
    "    npconc = conc[:]\n",
    "    conc_t = npconc[time, :, thalweg[0], thalweg[1]]\n",
    "    conc_t_ma = np.ma.masked_values(conc_t, 0)\n",
    "    vmin_t = np.min(conc_t_ma)\n",
    "    vmax_t = np.max(conc_t_ma)\n",
    "    \n",
    "    fig, (ax2, axcb, ax1) = plt.subplots(1, 3, figsize=(16, 8))\n",
    "    land_colour = 'burlywood'\n",
    "    for ax in (ax1, ax2):\n",
    "        ax.set_axis_bgcolor(land_colour)\n",
    "    ax2.set_position((0.125, 0.125, 0.5, 0.775))\n",
    "    axcb.set_position((0.73, 0.125, 0.02, 0.775))\n",
    "    ax1.set_position((0.8, 0.125, 0.2, 0.775))\n",
    "    \n",
    "    viz_tools.set_aspect(ax1)\n",
    "    cmap = plt.get_cmap('Greens')\n",
    "    cmap.set_bad('burlywood')\n",
    "    \n",
    "    #Surface plot\n",
    "    mesh = ax1.pcolormesh(conc_ma, cmap=cmap, vmin=vmin, vmax=vmax)\n",
    "    cbar = fig.colorbar(mesh)\n",
    "    #plt.axis(0, conc_ma.shape[1], 0, conc_ma.shape[0])\n",
    "    ax1.set_title('Surface {label}'.format(label=conc.long_name.title()), fontsize=16)\n",
    "    ax1.set_xlabel('x Index')\n",
    "    ax1.set_ylabel('y Index')\n",
    "    cbar.set_label('{label} [{units}]'.format(label=conc.long_name.title(), units=conc.units))\n",
    "    \n",
    "    #Thalweg\n",
    "    mesh = ax2.pcolormesh(x, z, conc_t_ma.T, cmap=cmap, vmin=vmin_t, vmax=vmax_t)\n",
    "    ax2.invert_yaxis()\n",
    "    ax2.set_xlim(0, thalweg[0][-1])\n",
    "    ax2.set_title('{label} along Thalweg'.format(label=conc.long_name.title()), fontsize=16)\n",
    "    ax2.set_xlabel('x Index')\n",
    "    ax2.set_ylabel('Depth (m)')\n",
    "    return fig"
   ]
  },
  {
   "cell_type": "code",
   "execution_count": null,
   "metadata": {
    "collapsed": false
   },
   "outputs": [],
   "source": [
    "    field='PHY2'\n",
    "    conc = grid_g.variables[field]\n",
    "    \n",
    "    #Prepare surface values\n",
    "    conc_ma = np.ma.masked_values(conc[-1, 0, :, :], 0)-np.ma.masked_values(conc[0, 0, :, :], 0)\n",
    "    vmin = np.min(conc_ma)\n",
    "    vmax = np.max(conc_ma)\n",
    "   \n",
    "    #Prepare thalweg values\n",
    "    npconc = conc[:]\n",
    "    conc_t = npconc[-1, :, thalweg[0], thalweg[1]]-npconc[0, :, thalweg[0], thalweg[1]]\n",
    "    conc_t_ma = np.ma.masked_values(conc_t, 0)\n",
    "    vmin_t = np.min(conc_t_ma)\n",
    "    vmax_t = np.max(conc_t_ma)\n",
    "    \n",
    "    fig, (ax2, ax1) = plt.subplots(1, 2, figsize=(10, 3))\n",
    "    land_colour = 'burlywood'\n",
    "    for ax in (ax1, ax2):\n",
    "        ax.set_axis_bgcolor(land_colour)\n",
    "        \n",
    "    \n",
    "    #viz_tools.set_aspect(ax1)\n",
    "    cmap = plt.get_cmap('Greens')\n",
    "    cmap.set_bad('burlywood')\n",
    "    \n",
    "    #Surface plot\n",
    "    mesh = ax1.pcolormesh(conc_ma, cmap=cmap, vmin=vmin, vmax=vmax)\n",
    "    cbar = fig.colorbar(mesh)\n",
    "    #plt.axis(0, conc_ma.shape[1], 0, conc_ma.shape[0])\n",
    "    ax1.set_title('Surface Diatom Distribution')\n",
    "    ax1.set_xlabel('x Index')\n",
    "    ax1.set_ylabel('y Index')\n",
    "    cbar.set_label('Diatoms')\n",
    "    \n",
    "    #Thalweg\n",
    "    mesh = ax2.pcolormesh(x, z, conc_t_ma.T, cmap=cmap, vmin=vmin_t, vmax=vmax_t)\n",
    "    ax2.invert_yaxis()\n",
    "    ax2.set_xlim(0, thalweg[0][-1])\n",
    "    ax2.set_title('Diatom Distribution along Thalweg')\n",
    "    ax2.set_xlabel('Distance')\n",
    "    ax2.set_ylabel('Depth (m)')\n",
    "    \n",
    "    ax2.set_position((0.125, 0.125, 0.45, 0.5))\n",
    "    #axcb.set_position((0.73, 0.125, 0.02, 0.775))\n",
    "    ax1.set_position((0.64, 0.125, 0.2, 0.775))\n",
    "    plt.savefig('testfig.png')"
   ]
  },
  {
   "cell_type": "code",
   "execution_count": null,
   "metadata": {
    "collapsed": false,
    "scrolled": false
   },
   "outputs": [],
   "source": [
    "var = ['NO3', 'NH4', 'Si', 'PHY', 'PHY2', 'MYRI', 'MICZ', 'DOC', 'POC', 'bSi', 'O2']\n",
    "for field in var[:]:\n",
    "    plot_surface_thalweg(grid_g, thalweg, zlevels, x, z, field, time)"
   ]
  },
  {
   "cell_type": "markdown",
   "metadata": {
    "collapsed": true
   },
   "source": [
    "## Make Depth integrated plots for creatures..."
   ]
  },
  {
   "cell_type": "code",
   "execution_count": null,
   "metadata": {
    "collapsed": true
   },
   "outputs": [],
   "source": [
    "def plot_depth_integrated(field, time, e3t):\n",
    "    \n",
    "    conc = grid_g.variables[field]\n",
    "    conc_ma = np.ma.masked_values(conc[time, :, :, :], 0)\n",
    "    \n",
    "    dep_int = conc_ma*e3t[0,:,:,:]\n",
    "    dep_int_sum = np.sum(dep_int, axis=0)\n",
    "    \n",
    "    fig, ax = plt.subplots(figsize=(20, 12))\n",
    "    \n",
    "    viz_tools.set_aspect(ax)\n",
    "    cmap = plt.get_cmap('Greens')\n",
    "    cmap.set_bad('burlywood')\n",
    "    \n",
    "    #Surface plot\n",
    "    mesh = ax.pcolormesh(dep_int_sum, cmap=cmap)\n",
    "    cbar = fig.colorbar(mesh)\n",
    "    #plt.axis(0, conc_ma.shape[1], 0, conc_ma.shape[0])\n",
    "    ax.set_title('Depth Integrated {label}'.format(label=conc.long_name.title()), fontsize=16)\n",
    "    ax.set_xlabel('x Index')\n",
    "    ax.set_ylabel('y Index')\n",
    "    cbar.set_label('{label} [{units}]'.format(label=conc.long_name.title(), units=conc.units))"
   ]
  },
  {
   "cell_type": "code",
   "execution_count": null,
   "metadata": {
    "collapsed": false
   },
   "outputs": [],
   "source": [
    "var = ['PHY', 'PHY2', 'MYRI', 'MICZ']\n",
    "\n",
    "for field in var[:]:\n",
    "    plot_depth_integrated(field, time, e3t)"
   ]
  },
  {
   "cell_type": "code",
   "execution_count": null,
   "metadata": {
    "collapsed": true
   },
   "outputs": [],
   "source": []
  }
 ],
 "metadata": {
  "kernelspec": {
   "display_name": "Python 3",
   "language": "python",
   "name": "python3"
  },
  "language_info": {
   "codemirror_mode": {
    "name": "ipython",
    "version": 3
   },
   "file_extension": ".py",
   "mimetype": "text/x-python",
   "name": "python",
   "nbconvert_exporter": "python",
   "pygments_lexer": "ipython3",
   "version": "3.4.3"
  }
 },
 "nbformat": 4,
 "nbformat_minor": 0
}
