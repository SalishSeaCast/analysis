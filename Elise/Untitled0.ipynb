{
 "cells": [
  {
   "cell_type": "code",
   "execution_count": 1,
   "metadata": {
    "collapsed": false
   },
   "outputs": [],
   "source": [
    "import netCDF4 as nc\n",
    "from salishsea_tools import tidetools, nc_tools\n",
    "import matplotlib.pyplot as plt\n",
    "import numpy as np\n",
    "import os\n",
    "import re\n",
    "\n",
    "%matplotlib inline"
   ]
  },
  {
   "cell_type": "code",
   "execution_count": 3,
   "metadata": {
    "collapsed": false
   },
   "outputs": [],
   "source": [
    "cdir='/data/eolson/MEOPAR/NEMO-forcing/atmospheric/'\n",
    "ns=nc.Dataset(os.path.join(cdir,'no_snow.nc'))\n",
    "op=nc.Dataset(os.path.join(cdir,'ops_y2015m03d01.nc'))"
   ]
  },
  {
   "cell_type": "code",
   "execution_count": 4,
   "metadata": {
    "collapsed": false
   },
   "outputs": [
    {
     "name": "stdout",
     "output_type": "stream",
     "text": [
      "OrderedDict([(u'time_counter', <netCDF4.Variable object at 0x7fc5073d5808>), (u'nav_lat', <netCDF4.Variable object at 0x7fc5073d5770>), (u'nav_lon', <netCDF4.Variable object at 0x7fc5073d59d0>), (u'snow', <netCDF4.Variable object at 0x7fc5073d5a68>)])\n"
     ]
    }
   ],
   "source": [
    "print ns.variables"
   ]
  },
  {
   "cell_type": "code",
   "execution_count": 5,
   "metadata": {
    "collapsed": false
   },
   "outputs": [
    {
     "name": "stdout",
     "output_type": "stream",
     "text": [
      "OrderedDict([(u'atmpres', <netCDF4.Variable object at 0x7fc5073d5b98>), (u'nav_lat', <netCDF4.Variable object at 0x7fc5073d5c30>), (u'nav_lon', <netCDF4.Variable object at 0x7fc5073d5cc8>), (u'precip', <netCDF4.Variable object at 0x7fc5073d5d60>), (u'qair', <netCDF4.Variable object at 0x7fc5073d5df8>), (u'solar', <netCDF4.Variable object at 0x7fc5073d5e90>), (u'tair', <netCDF4.Variable object at 0x7fc5073d5f28>), (u'therm_rad', <netCDF4.Variable object at 0x7fc50737e050>), (u'time_counter', <netCDF4.Variable object at 0x7fc50737e0e8>), (u'u_wind', <netCDF4.Variable object at 0x7fc50737e180>), (u'v_wind', <netCDF4.Variable object at 0x7fc50737e218>), (u'x', <netCDF4.Variable object at 0x7fc50737e2b0>), (u'y', <netCDF4.Variable object at 0x7fc50737e348>)])\n"
     ]
    }
   ],
   "source": [
    "print op.variables"
   ]
  },
  {
   "cell_type": "code",
   "execution_count": 33,
   "metadata": {
    "collapsed": false
   },
   "outputs": [
    {
     "ename": "KeyError",
     "evalue": "'snow'",
     "output_type": "error",
     "traceback": [
      "\u001b[1;31m---------------------------------------------------------------------------\u001b[0m\n\u001b[1;31mKeyError\u001b[0m                                  Traceback (most recent call last)",
      "\u001b[1;32m<ipython-input-33-42f21f9a00b1>\u001b[0m in \u001b[0;36m<module>\u001b[1;34m()\u001b[0m\n\u001b[1;32m----> 1\u001b[1;33m \u001b[1;32mprint\u001b[0m  \u001b[0mop\u001b[0m\u001b[1;33m.\u001b[0m\u001b[0mvariables\u001b[0m\u001b[1;33m[\u001b[0m\u001b[1;34m'snow'\u001b[0m\u001b[1;33m]\u001b[0m\u001b[1;33m\u001b[0m\u001b[0m\n\u001b[0m",
      "\u001b[1;31mKeyError\u001b[0m: 'snow'"
     ]
    }
   ],
   "source": [
    "print  op.variables['snow']"
   ]
  },
  {
   "cell_type": "code",
   "execution_count": 6,
   "metadata": {
    "collapsed": false
   },
   "outputs": [
    {
     "name": "stdout",
     "output_type": "stream",
     "text": [
      "<type 'netCDF4.Variable'>\n",
      "float64 snow(time_counter, y, x)\n",
      "    _FillValue: 0.0\n",
      "    least_significant_digit: 1\n",
      "    units: m/s\n",
      "    valid_range: [ 0.  1.]\n",
      "    long_name: Snowfall rate\n",
      "unlimited dimensions: time_counter\n",
      "current shape = (1, 600, 801)\n",
      "filling on\n"
     ]
    }
   ],
   "source": [
    "print ns.variables['snow']"
   ]
  },
  {
   "cell_type": "code",
   "execution_count": 9,
   "metadata": {
    "collapsed": false
   },
   "outputs": [
    {
     "name": "stdout",
     "output_type": "stream",
     "text": [
      "0.0\n",
      "0.0\n"
     ]
    }
   ],
   "source": [
    "print np.amin(ns.variables['snow'])\n",
    "print np.amax(ns.variables['snow'])"
   ]
  },
  {
   "cell_type": "code",
   "execution_count": 10,
   "metadata": {
    "collapsed": false
   },
   "outputs": [
    {
     "name": "stdout",
     "output_type": "stream",
     "text": [
      "<type 'netCDF4.Variable'>\n",
      "float32 u_wind(time_counter, y, x)\n",
      "    _FillValue: 9.999e+20\n",
      "    short_name: UGRD_10maboveground\n",
      "    long_name: U-Component of Wind\n",
      "    level: 10 m above ground\n",
      "    units: m/s\n",
      "    coordinates: longitude latitude\n",
      "unlimited dimensions: time_counter\n",
      "current shape = (24, 266, 256)\n",
      "filling on\n"
     ]
    }
   ],
   "source": [
    "print op.variables['u_wind']"
   ]
  },
  {
   "cell_type": "code",
   "execution_count": 13,
   "metadata": {
    "collapsed": false
   },
   "outputs": [
    {
     "name": "stdout",
     "output_type": "stream",
     "text": [
      "<type 'netCDF4.Variable'>\n",
      "float64 time_counter(time_counter)\n",
      "    calendar: gregorian\n",
      "    time_origin: 0001-JAN-01 00:00:00\n",
      "    units: seconds since 0001-01-01 00:00:00\n",
      "    title: Time\n",
      "    standard_name: time\n",
      "    long_name: Time Axis\n",
      "unlimited dimensions: time_counter\n",
      "current shape = (1,)\n",
      "filling on, default _FillValue of 9.96920996839e+36 used\n",
      "\n"
     ]
    }
   ],
   "source": [
    "print ns.variables['time_counter']"
   ]
  },
  {
   "cell_type": "code",
   "execution_count": 12,
   "metadata": {
    "collapsed": false
   },
   "outputs": [],
   "source": [
    "print ns.variables['time_counter'][0]"
   ]
  },
  {
   "cell_type": "code",
   "execution_count": 14,
   "metadata": {
    "collapsed": false
   },
   "outputs": [
    {
     "name": "stdout",
     "output_type": "stream",
     "text": [
      "<type 'netCDF4.Variable'>\n",
      "float64 nav_lat(y, x)\n",
      "    units: degrees_north\n",
      "    valid_range: [-90.  90.]\n",
      "    long_name: Latitude\n",
      "    nav_model: Default grid\n",
      "unlimited dimensions: \n",
      "current shape = (600, 801)\n",
      "filling on, default _FillValue of 9.96920996839e+36 used\n",
      "\n"
     ]
    }
   ],
   "source": [
    "print ns.variables['nav_lat']"
   ]
  },
  {
   "cell_type": "code",
   "execution_count": 26,
   "metadata": {
    "collapsed": false
   },
   "outputs": [
    {
     "name": "stdout",
     "output_type": "stream",
     "text": [
      "<type 'netCDF4.Variable'>\n",
      "float64 nav_lon(y, x)\n",
      "    units: degrees_east\n",
      "    long_name: longitude\n",
      "unlimited dimensions: \n",
      "current shape = (266, 256)\n",
      "filling on, default _FillValue of 9.96920996839e+36 used\n",
      "\n"
     ]
    }
   ],
   "source": [
    "print op.variables['nav_lon']"
   ]
  },
  {
   "cell_type": "code",
   "execution_count": 16,
   "metadata": {
    "collapsed": false
   },
   "outputs": [
    {
     "name": "stdout",
     "output_type": "stream",
     "text": [
      "<type 'netCDF4.Variable'>\n",
      "float32 solar(time_counter, y, x)\n",
      "    _FillValue: 9.999e+20\n",
      "    short_name: DSWRF_surface\n",
      "    long_name: Downward Short-Wave Radiation Flux\n",
      "    level: surface\n",
      "    units: W/m^2\n",
      "    coordinates: longitude latitude\n",
      "unlimited dimensions: time_counter\n",
      "current shape = (24, 266, 256)\n",
      "filling on\n"
     ]
    }
   ],
   "source": [
    "print op.variables['solar']"
   ]
  },
  {
   "cell_type": "code",
   "execution_count": 17,
   "metadata": {
    "collapsed": false
   },
   "outputs": [
    {
     "name": "stdout",
     "output_type": "stream",
     "text": [
      "<type 'netCDF4.Variable'>\n",
      "float64 time_counter(time_counter)\n",
      "    units: seconds since 1970-01-01 00:00:00.0 0:00\n",
      "    long_name: verification time generated by wgrib2 function verftime()\n",
      "    reference_time: 1425146400.0\n",
      "    reference_time_type: 0\n",
      "    reference_date: 2015.02.28 18:00:00 UTC\n",
      "    reference_time_description: kind of product unclear, reference date is variable, min found reference date is given\n",
      "    time_step_setting: auto\n",
      "    time_step: 3600.0\n",
      "unlimited dimensions: time_counter\n",
      "current shape = (24,)\n",
      "filling on, default _FillValue of 9.96920996839e+36 used\n",
      "\n"
     ]
    }
   ],
   "source": [
    "print op.variables['time_counter']"
   ]
  },
  {
   "cell_type": "code",
   "execution_count": 19,
   "metadata": {
    "collapsed": false
   },
   "outputs": [
    {
     "name": "stdout",
     "output_type": "stream",
     "text": [
      "<type 'netCDF4.Dataset'>\n",
      "root group (NETCDF4 data model, file format UNDEFINED):\n",
      "    Conventions: CF-1.6\n",
      "    title: Salish Sea Yearly Snowfall Climatology\n",
      "    institution: Dept of Earth, Ocean & Atmospheric Sciences, University of British Columbia\n",
      "    source: https://bitbucket.org/salishsea/tools/src/tip/I_ForcingFiles/NoSnow.ipynb\n",
      "    references: https://bitbucket.org/salishsea/nemo-forcing/src/tip/atmospheric/no_snow.nc\n",
      "    history: \n",
      "    [2013-11-08 15:51] Created.\n",
      "    [2013-11-10 17:21] Cleaned up variable and dataset attributes.\n",
      "\n",
      "    comment: \n",
      "    Annual climatology CGRF-like atmospheric forcing file for NEMO that always supplies zero as the solid precipitation value.'\n",
      "    nav_lat and nav_lon variables are from a CGRF precipitation file, as are all variable attributes.\n",
      "\n",
      "    dimensions(sizes): time_counter(1), y(600), x(801)\n",
      "    variables(dimensions): float64 \u001b[4mtime_counter\u001b[0m(time_counter), float64 \u001b[4mnav_lat\u001b[0m(y,x), float64 \u001b[4mnav_lon\u001b[0m(y,x), float64 \u001b[4msnow\u001b[0m(time_counter,y,x)\n",
      "    groups: \n",
      "\n"
     ]
    }
   ],
   "source": [
    "print ns"
   ]
  },
  {
   "cell_type": "code",
   "execution_count": 25,
   "metadata": {
    "collapsed": false
   },
   "outputs": [
    {
     "name": "stdout",
     "output_type": "stream",
     "text": [
      "<type 'netCDF4.Dimension'>: name = 'y', size = 600\n",
      "\n",
      "<type 'netCDF4.Dimension'>: name = 'x', size = 801\n",
      "\n",
      "<type 'netCDF4.Variable'>\n",
      "float64 nav_lat(y, x)\n",
      "    units: degrees_north\n",
      "    valid_range: [-90.  90.]\n",
      "    long_name: Latitude\n",
      "    nav_model: Default grid\n",
      "unlimited dimensions: \n",
      "current shape = (600, 801)\n",
      "filling on, default _FillValue of 9.96920996839e+36 used\n",
      "\n"
     ]
    }
   ],
   "source": [
    "print ns.dimensions['y']\n",
    "print ns.dimensions['x']\n",
    "print ns.variables['nav_lat']"
   ]
  },
  {
   "cell_type": "code",
   "execution_count": 28,
   "metadata": {
    "collapsed": false
   },
   "outputs": [
    {
     "ename": "IndexError",
     "evalue": "",
     "output_type": "error",
     "traceback": [
      "\u001b[1;31m---------------------------------------------------------------------------\u001b[0m\n\u001b[1;31mIndexError\u001b[0m                                Traceback (most recent call last)",
      "\u001b[1;32m<ipython-input-28-26f977153322>\u001b[0m in \u001b[0;36m<module>\u001b[1;34m()\u001b[0m\n\u001b[1;32m----> 1\u001b[1;33m \u001b[1;32mprint\u001b[0m \u001b[0mns\u001b[0m\u001b[1;33m.\u001b[0m\u001b[0mvariables\u001b[0m\u001b[1;33m[\u001b[0m\u001b[1;34m'time_counter'\u001b[0m\u001b[1;33m]\u001b[0m\u001b[1;33m[\u001b[0m\u001b[1;36m1\u001b[0m\u001b[1;33m]\u001b[0m\u001b[1;33m\u001b[0m\u001b[0m\n\u001b[0m",
      "\u001b[1;32m/home/eolson/anaconda/lib/python2.7/site-packages/netCDF4.so\u001b[0m in \u001b[0;36mnetCDF4.Variable.__getitem__ (netCDF4.c:37286)\u001b[1;34m()\u001b[0m\n",
      "\u001b[1;32m/home/eolson/anaconda/lib/python2.7/site-packages/netCDF4.so\u001b[0m in \u001b[0;36mnetCDF4.Variable._get (netCDF4.c:44233)\u001b[1;34m()\u001b[0m\n",
      "\u001b[1;31mIndexError\u001b[0m: "
     ]
    }
   ],
   "source": [
    "print ns.variables['time_counter'][0]"
   ]
  },
  {
   "cell_type": "code",
   "execution_count": null,
   "metadata": {
    "collapsed": false
   },
   "outputs": [],
   "source": []
  }
 ],
 "metadata": {
  "kernelspec": {
   "display_name": "Python 2",
   "language": "python",
   "name": "python2"
  },
  "language_info": {
   "codemirror_mode": {
    "name": "ipython",
    "version": 2
   },
   "file_extension": ".py",
   "mimetype": "text/x-python",
   "name": "python",
   "nbconvert_exporter": "python",
   "pygments_lexer": "ipython2",
   "version": "2.7.10"
  }
 },
 "nbformat": 4,
 "nbformat_minor": 0
}
