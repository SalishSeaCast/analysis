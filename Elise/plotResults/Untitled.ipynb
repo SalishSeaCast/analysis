{
 "cells": [
  {
   "cell_type": "code",
   "execution_count": 1,
   "metadata": {
    "collapsed": true
   },
   "outputs": [],
   "source": [
    "import os\n",
    "import re\n",
    "import netCDF4 as nc\n",
    "\n",
    "import numpy as np\n",
    "import matplotlib.pyplot as plt\n",
    "\n",
    "%matplotlib inline"
   ]
  },
  {
   "cell_type": "code",
   "execution_count": 2,
   "metadata": {
    "collapsed": true
   },
   "outputs": [],
   "source": [
    "f=nc.Dataset('/data/eolson/MEOPAR/SS36runs/run08dec15_12h_OBC_1/bio_OBC/bioOBC_full.nc')"
   ]
  },
  {
   "cell_type": "code",
   "execution_count": 3,
   "metadata": {
    "collapsed": false
   },
   "outputs": [
    {
     "name": "stdout",
     "output_type": "stream",
     "text": [
      "<class 'netCDF4._netCDF4.Variable'>\n",
      "float32 Si(time_counter, deptht, yb, xbT)\n",
      "    grid: SalishSea\n",
      "    units: muM\n",
      "    long_name: Silica\n",
      "unlimited dimensions: time_counter\n",
      "current shape = (52, 40, 1, 870)\n",
      "filling on, default _FillValue of 9.969209968386869e+36 used\n",
      "\n"
     ]
    }
   ],
   "source": [
    "print(f.variables['Si'])"
   ]
  },
  {
   "cell_type": "code",
   "execution_count": 7,
   "metadata": {
    "collapsed": false
   },
   "outputs": [
    {
     "name": "stdout",
     "output_type": "stream",
     "text": [
      "[[ 12.40632248]\n",
      " [ 13.86925983]\n",
      " [ 14.18162823]\n",
      " [ 14.13070011]\n",
      " [ 14.10970116]\n",
      " [ 13.76465893]\n",
      " [ 12.97941589]\n",
      " [ 12.91812229]\n",
      " [ 12.98488045]\n",
      " [ 13.4297905 ]\n",
      " [ 12.90201473]\n",
      " [ 15.04578972]\n",
      " [ 15.43996143]\n",
      " [ 15.29438686]\n",
      " [ 15.02121735]\n",
      " [ 16.43038559]\n",
      " [ 15.10401917]\n",
      " [ 15.20554352]\n",
      " [ 14.78483677]\n",
      " [ 19.09386444]\n",
      " [ 20.07445526]\n",
      " [ 22.41187477]\n",
      " [ 32.46038055]\n",
      " [ 42.36427307]\n",
      " [ 39.92299652]\n",
      " [ 36.19574356]\n",
      " [ 33.78348541]\n",
      " [ 34.64195251]\n",
      " [ 35.99743652]\n",
      " [ 37.62963104]\n",
      " [ 37.58467865]\n",
      " [ 37.56377411]\n",
      " [ 37.55570984]\n",
      " [ 37.55282974]\n",
      " [ 37.55183411]\n",
      " [ 37.55149078]\n",
      " [ 37.55137253]\n",
      " [ 37.55133438]\n",
      " [ 37.55131912]\n",
      " [ 37.55131531]]\n"
     ]
    }
   ],
   "source": [
    "print(f.variables['Si'][12,:,:,55])"
   ]
  },
  {
   "cell_type": "code",
   "execution_count": null,
   "metadata": {
    "collapsed": true
   },
   "outputs": [],
   "source": []
  }
 ],
 "metadata": {
  "kernelspec": {
   "display_name": "Python 3",
   "language": "python",
   "name": "python3"
  },
  "language_info": {
   "codemirror_mode": {
    "name": "ipython",
    "version": 3
   },
   "file_extension": ".py",
   "mimetype": "text/x-python",
   "name": "python",
   "nbconvert_exporter": "python",
   "pygments_lexer": "ipython3",
   "version": "3.4.4"
  }
 },
 "nbformat": 4,
 "nbformat_minor": 0
}
