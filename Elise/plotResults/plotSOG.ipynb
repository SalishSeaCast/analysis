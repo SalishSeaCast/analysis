{
 "cells": [
  {
   "cell_type": "code",
   "execution_count": 217,
   "metadata": {
    "collapsed": false
   },
   "outputs": [],
   "source": [
    "import numpy as np\n",
    "import pandas as pd\n",
    "import datetime as dtm\n",
    "import matplotlib.pyplot as plt\n",
    "import matplotlib.dates as dts\n",
    "import pytz\n",
    "\n",
    "%matplotlib inline"
   ]
  },
  {
   "cell_type": "code",
   "execution_count": 2,
   "metadata": {
    "collapsed": false
   },
   "outputs": [],
   "source": [
    "def load_TS(filename):\n",
    "    '''Load the timeseries file from path FILENAME into a dataframe TS_OUT\n",
    "    '''\n",
    "    \n",
    "    # Load timeseries file and extract headers\n",
    "    file_obj = open(filename, 'rt')\n",
    "    for index, line in enumerate(file_obj):\n",
    "        line = line.strip()\n",
    "        if line.startswith('*FieldNames:'):\n",
    "            field_names = line.split(': ', 1)[1].split(', ')\n",
    "        elif line.startswith('*FieldUnits:'):\n",
    "            field_units = line.split(': ', 1)[1].split(', ')\n",
    "        elif line.startswith('*EndOfHeader'):\n",
    "            break\n",
    "    \n",
    "    # Read timeseries data into dataframe and assign header\n",
    "    data = pd.read_csv(filename, delim_whitespace=True, header=0, names=field_names, skiprows=index+1)\n",
    "    \n",
    "    # Extract startdate and convert to MPL time\n",
    "    dt_stamp = field_units[0].split('hr since ', 1)[1].split(' LST', 1)[0]\n",
    "    dt_num   = dts.date2num(dtm.datetime.strptime(dt_stamp, '%Y-%m-%d %H:%M:%S'))\n",
    "    \n",
    "    # Create date dataframe and append to DATA\n",
    "    date   = pd.DataFrame({'date': data['time']/24 + dt_num})\n",
    "    TS_out = pd.concat([date, data], axis=1)\n",
    "    \n",
    "    return TS_out"
   ]
  },
  {
   "cell_type": "code",
   "execution_count": 263,
   "metadata": {
    "collapsed": false
   },
   "outputs": [],
   "source": [
    "def load_hoff(filename):\n",
    "    '''Load the hoffmueller file from path FILENAME into a panel HOFF_OUT\n",
    "    '''\n",
    "    \n",
    "    # Load timeseries file and extract headers\n",
    "    file_obj = open(filename, 'rt')\n",
    "    for index, line in enumerate(file_obj):\n",
    "        line = line.strip()\n",
    "        if line.startswith('*FieldNames:'):\n",
    "            field_names = line.split(': ', 1)[1].split(', ')\n",
    "        elif line.startswith('*FieldUnits:'):\n",
    "            field_units = line.split(': ', 1)[1].split(', ')\n",
    "        elif line.startswith('*HoffmuellerStartYr:'):\n",
    "            year_start = line.split(': ', 1)[1]\n",
    "        elif line.startswith('*HoffmuellerStartDay:'):\n",
    "            day_start = line.split(': ', 1)[1]\n",
    "        elif line.startswith('*HoffmuellerStartSec:'):\n",
    "            sec_start = line.split(': ', 1)[1]\n",
    "        elif line.startswith('*HoffmuellerInterval:'):\n",
    "            interval = line.split(': ', 1)[1]\n",
    "        elif line.startswith('*EndOfHeader'):\n",
    "            break\n",
    "        \n",
    "    # Read timeseries data into dataframe and assign header\n",
    "    data = pd.read_csv(filename, delim_whitespace=True, header=0, names=field_names, skiprows=index, index_col=0, chunksize=83)\n",
    "    \n",
    "    # Timestamp in matplotlib time\n",
    "    dt_num = dts.date2num(dtm.datetime.strptime(year_start + ' ' + day_start, '%Y %j')) + float(sec_start)/86400\n",
    "    \n",
    "    # Extract dataframe chunks into dictionary\n",
    "    data_dict = {}\n",
    "    for index, chunk in enumerate(data):\n",
    "        data_dict[dts.num2date(dt_num + index*float(interval), tz=pytz.timezone('UTC'))] = chunk.dropna(how='all')\n",
    "\n",
    "    # Load dictionary into panel object\n",
    "    hoff_out = pd.Panel(data_dict)\n",
    "    \n",
    "    return hoff_out"
   ]
  },
  {
   "cell_type": "code",
   "execution_count": 264,
   "metadata": {
    "collapsed": false
   },
   "outputs": [],
   "source": [
    "def loadSOG(filesystem, bloomyear, filestr):\n",
    "    '''\n",
    "    '''\n",
    "\n",
    "    # Specify standard timeseries output paths\n",
    "    filepath = '/ocean/bmoorema/research/SOG/{0}/{1}/{2}/{3}/{3}_{4}/'.format(\n",
    "        filesystem['category'], filesystem['test'], filesystem['type'], bloomyear, filestr)\n",
    "    \n",
    "    physIN = filepath + 'timeseries/std_phys_SOG.out'\n",
    "    bioIN  = filepath + 'timeseries/std_bio_SOG.out'\n",
    "    chemIN = filepath + 'timeseries/std_chem_SOG.out'\n",
    "    hoffIN = filepath + 'profiles/hoff-SOG.dat'\n",
    "    \n",
    "    phys_TS = load_TS(physIN)\n",
    "    bio_TS  = load_TS(bioIN)\n",
    "    chem_TS = load_TS(chemIN)\n",
    "    hoff    = load_hoff(hoffIN)\n",
    "    \n",
    "    return phys_TS, bio_TS, chem_TS, hoff"
   ]
  },
  {
   "cell_type": "code",
   "execution_count": 265,
   "metadata": {
    "collapsed": false
   },
   "outputs": [],
   "source": [
    "filesystem = {'category': 'SOG-CO2', 'test': 'sensitivity', 'type': 'BBC'}\n",
    "bloomyear = 2001\n",
    "filestr = 'DIC2034'\n",
    "\n",
    "phys_TS, bio_TS, chem_TS, hoff = loadSOG(filesystem, bloomyear, filestr)"
   ]
  },
  {
   "cell_type": "code",
   "execution_count": 271,
   "metadata": {
    "collapsed": false
   },
   "outputs": [
    {
     "data": {
      "text/plain": [
       "<matplotlib.axes._subplots.AxesSubplot at 0x7fdcbaf6f150>"
      ]
     },
     "execution_count": 271,
     "metadata": {},
     "output_type": "execute_result"
    },
    {
     "data": {
      "image/png": "[encoded data removed]",
      "text/plain": [
       "<matplotlib.figure.Figure at 0x7fdcbb0e2950>"
      ]
     },
     "metadata": {},
     "output_type": "display_data"
    }
   ],
   "source": [
    "hoff.ix[:, 0.0, 'dissolved inorganic carbon'].plot()"
   ]
  },
  {
   "cell_type": "code",
   "execution_count": 2,
   "metadata": {
    "collapsed": false
   },
   "outputs": [
    {
     "ename": "NameError",
     "evalue": "name 'file_obj' is not defined",
     "output_type": "error",
     "traceback": [
      "\u001b[1;31m---------------------------------------------------------------------------\u001b[0m",
      "\u001b[1;31mNameError\u001b[0m                                 Traceback (most recent call last)",
      "\u001b[1;32m<ipython-input-2-9e24b5efeded>\u001b[0m in \u001b[0;36m<module>\u001b[1;34m()\u001b[0m\n\u001b[1;32m----> 1\u001b[1;33m \u001b[0menumerate\u001b[0m\u001b[1;33m(\u001b[0m\u001b[0mfile_obj\u001b[0m\u001b[1;33m)\u001b[0m\u001b[1;33m\u001b[0m\u001b[0m\n\u001b[0m",
      "\u001b[1;31mNameError\u001b[0m: name 'file_obj' is not defined"
     ]
    }
   ],
   "source": [
    "enumerate(file_obj)"
   ]
  },
  {
   "cell_type": "code",
   "execution_count": null,
   "metadata": {
    "collapsed": true
   },
   "outputs": [],
   "source": []
  }
 ],
 "metadata": {
  "kernelspec": {
   "display_name": "Python 3",
   "language": "python",
   "name": "python3"
  },
  "language_info": {
   "codemirror_mode": {
    "name": "ipython",
    "version": 3
   },
   "file_extension": ".py",
   "mimetype": "text/x-python",
   "name": "python",
   "nbconvert_exporter": "python",
   "pygments_lexer": "ipython3",
   "version": "3.4.4"
  }
 },
 "nbformat": 4,
 "nbformat_minor": 0
}
