{
 "cells": [
  {
   "cell_type": "code",
   "execution_count": 1,
   "metadata": {
    "collapsed": true
   },
   "outputs": [],
   "source": [
    "import os\n",
    "import re\n",
    "import netCDF4 as nc\n",
    "\n",
    "import numpy as np\n",
    "import matplotlib.pyplot as plt\n",
    "\n",
    "%matplotlib inline"
   ]
  },
  {
   "cell_type": "code",
   "execution_count": 4,
   "metadata": {
    "collapsed": true
   },
   "outputs": [],
   "source": [
    "f=nc.Dataset('/data/eolson/MEOPAR/SS36runs/run_SOG_01_River/rivers/river_bio.nc')"
   ]
  },
  {
   "cell_type": "code",
   "execution_count": 5,
   "metadata": {
    "collapsed": false
   },
   "outputs": [
    {
     "data": {
      "text/plain": [
       "OrderedDict([('x', <class 'netCDF4._netCDF4.Variable'>\n",
       "              float64 x(y, x)\n",
       "              unlimited dimensions: \n",
       "              current shape = (10, 1100)\n",
       "              filling on, default _FillValue of 9.969209968386869e+36 used),\n",
       "             ('y', <class 'netCDF4._netCDF4.Variable'>\n",
       "              float64 y(y, x)\n",
       "              unlimited dimensions: \n",
       "              current shape = (10, 1100)\n",
       "              filling on, default _FillValue of 9.969209968386869e+36 used),\n",
       "             ('time_counter', <class 'netCDF4._netCDF4.Variable'>\n",
       "              float64 time_counter(time_counter)\n",
       "              unlimited dimensions: time_counter\n",
       "              current shape = (1,)\n",
       "              filling on, default _FillValue of 9.969209968386869e+36 used),\n",
       "             ('no3', <class 'netCDF4._netCDF4.Variable'>\n",
       "              float64 no3(time_counter, y, x)\n",
       "              unlimited dimensions: time_counter\n",
       "              current shape = (1, 10, 1100)\n",
       "              filling on, default _FillValue of 9.969209968386869e+36 used),\n",
       "             ('nh4', <class 'netCDF4._netCDF4.Variable'>\n",
       "              float64 nh4(time_counter, y, x)\n",
       "              unlimited dimensions: time_counter\n",
       "              current shape = (1, 10, 1100)\n",
       "              filling on, default _FillValue of 9.969209968386869e+36 used),\n",
       "             ('sil', <class 'netCDF4._netCDF4.Variable'>\n",
       "              float64 sil(time_counter, y, x)\n",
       "              unlimited dimensions: time_counter\n",
       "              current shape = (1, 10, 1100)\n",
       "              filling on, default _FillValue of 9.969209968386869e+36 used),\n",
       "             ('dia', <class 'netCDF4._netCDF4.Variable'>\n",
       "              float64 dia(time_counter, y, x)\n",
       "              unlimited dimensions: time_counter\n",
       "              current shape = (1, 10, 1100)\n",
       "              filling on, default _FillValue of 9.969209968386869e+36 used),\n",
       "             ('phy', <class 'netCDF4._netCDF4.Variable'>\n",
       "              float64 phy(time_counter, y, x)\n",
       "              unlimited dimensions: time_counter\n",
       "              current shape = (1, 10, 1100)\n",
       "              filling on, default _FillValue of 9.969209968386869e+36 used),\n",
       "             ('mes', <class 'netCDF4._netCDF4.Variable'>\n",
       "              float64 mes(time_counter, y, x)\n",
       "              unlimited dimensions: time_counter\n",
       "              current shape = (1, 10, 1100)\n",
       "              filling on, default _FillValue of 9.969209968386869e+36 used),\n",
       "             ('zoo', <class 'netCDF4._netCDF4.Variable'>\n",
       "              float64 zoo(time_counter, y, x)\n",
       "              unlimited dimensions: time_counter\n",
       "              current shape = (1, 10, 1100)\n",
       "              filling on, default _FillValue of 9.969209968386869e+36 used),\n",
       "             ('don', <class 'netCDF4._netCDF4.Variable'>\n",
       "              float64 don(time_counter, y, x)\n",
       "              unlimited dimensions: time_counter\n",
       "              current shape = (1, 10, 1100)\n",
       "              filling on, default _FillValue of 9.969209968386869e+36 used),\n",
       "             ('pon', <class 'netCDF4._netCDF4.Variable'>\n",
       "              float64 pon(time_counter, y, x)\n",
       "              unlimited dimensions: time_counter\n",
       "              current shape = (1, 10, 1100)\n",
       "              filling on, default _FillValue of 9.969209968386869e+36 used),\n",
       "             ('bsi', <class 'netCDF4._netCDF4.Variable'>\n",
       "              float64 bsi(time_counter, y, x)\n",
       "              unlimited dimensions: time_counter\n",
       "              current shape = (1, 10, 1100)\n",
       "              filling on, default _FillValue of 9.969209968386869e+36 used),\n",
       "             ('oxy', <class 'netCDF4._netCDF4.Variable'>\n",
       "              float64 oxy(time_counter, y, x)\n",
       "              unlimited dimensions: time_counter\n",
       "              current shape = (1, 10, 1100)\n",
       "              filling on, default _FillValue of 9.969209968386869e+36 used)])"
      ]
     },
     "execution_count": 5,
     "metadata": {},
     "output_type": "execute_result"
    }
   ],
   "source": [
    "f.variables"
   ]
  },
  {
   "cell_type": "code",
   "execution_count": 6,
   "metadata": {
    "collapsed": false
   },
   "outputs": [
    {
     "data": {
      "text/plain": [
       "-999.0"
      ]
     },
     "execution_count": 6,
     "metadata": {},
     "output_type": "execute_result"
    }
   ],
   "source": [
    "np.max(f.variables['oxy'])"
   ]
  },
  {
   "cell_type": "code",
   "execution_count": 7,
   "metadata": {
    "collapsed": false
   },
   "outputs": [
    {
     "data": {
      "text/plain": [
       "-999.0"
      ]
     },
     "execution_count": 7,
     "metadata": {},
     "output_type": "execute_result"
    }
   ],
   "source": [
    "np.min(f.variables['oxy'])"
   ]
  },
  {
   "cell_type": "code",
   "execution_count": null,
   "metadata": {
    "collapsed": true
   },
   "outputs": [],
   "source": []
  }
 ],
 "metadata": {
  "kernelspec": {
   "display_name": "Python 3",
   "language": "python",
   "name": "python3"
  },
  "language_info": {
   "codemirror_mode": {
    "name": "ipython",
    "version": 3
   },
   "file_extension": ".py",
   "mimetype": "text/x-python",
   "name": "python",
   "nbconvert_exporter": "python",
   "pygments_lexer": "ipython3",
   "version": "3.4.4"
  }
 },
 "nbformat": 4,
 "nbformat_minor": 0
}
