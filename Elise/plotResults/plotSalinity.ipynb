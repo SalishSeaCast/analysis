{
 "cells": [
  {
   "cell_type": "code",
   "execution_count": 33,
   "metadata": {
    "collapsed": false
   },
   "outputs": [
    {
     "ename": "ImportError",
     "evalue": "cannot import name 'teos_tools'",
     "output_type": "error",
     "traceback": [
      "\u001b[1;31m---------------------------------------------------------------------------\u001b[0m",
      "\u001b[1;31mImportError\u001b[0m                               Traceback (most recent call last)",
      "\u001b[1;32m<ipython-input-33-e41302d17b4e>\u001b[0m in \u001b[0;36m<module>\u001b[1;34m()\u001b[0m\n\u001b[0;32m      3\u001b[0m \u001b[1;32mimport\u001b[0m \u001b[0mnetCDF4\u001b[0m \u001b[1;32mas\u001b[0m \u001b[0mnc\u001b[0m\u001b[1;33m\u001b[0m\u001b[0m\n\u001b[0;32m      4\u001b[0m \u001b[1;32mimport\u001b[0m \u001b[0mnumpy\u001b[0m \u001b[1;32mas\u001b[0m \u001b[0mnp\u001b[0m\u001b[1;33m\u001b[0m\u001b[0m\n\u001b[1;32m----> 5\u001b[1;33m \u001b[1;32mfrom\u001b[0m \u001b[0msalishsea_tools\u001b[0m \u001b[1;32mimport\u001b[0m \u001b[0mteos_tools\u001b[0m\u001b[1;33m\u001b[0m\u001b[0m\n\u001b[0m\u001b[0;32m      6\u001b[0m \u001b[1;33m\u001b[0m\u001b[0m\n\u001b[0;32m      7\u001b[0m \u001b[1;32mfrom\u001b[0m \u001b[0msalishsea_tools\u001b[0m \u001b[1;32mimport\u001b[0m \u001b[1;33m(\u001b[0m\u001b[0mnc_tools\u001b[0m\u001b[1;33m,\u001b[0m\u001b[0mviz_tools\u001b[0m\u001b[1;33m)\u001b[0m\u001b[1;33m\u001b[0m\u001b[0m\n",
      "\u001b[1;31mImportError\u001b[0m: cannot import name 'teos_tools'"
     ]
    }
   ],
   "source": [
    "from matplotlib import pylab\n",
    "import matplotlib.pyplot as plt\n",
    "import netCDF4 as nc\n",
    "import numpy as np\n",
    "from salishsea_tools import tidetools\n",
    "\n",
    "from salishsea_tools import (nc_tools,viz_tools)\n",
    "\n",
    "import os\n",
    "import glob\n",
    "from matplotlib import animation\n",
    "\n",
    "import datetime\n",
    "\n",
    "%matplotlib inline"
   ]
  },
  {
   "cell_type": "code",
   "execution_count": 2,
   "metadata": {
    "collapsed": false
   },
   "outputs": [],
   "source": [
    "start = datetime.datetime(2015,4,1)\n",
    "#end = datetime.datetime(2015,8,26)\n",
    "\n",
    "#numdays = (end-start).days\n",
    "#dates = [start + datetime.timedelta(days=num)\n",
    "#             for num in range(0, numdays+1)]\n",
    "\n"
   ]
  },
  {
   "cell_type": "code",
   "execution_count": 3,
   "metadata": {
    "collapsed": true
   },
   "outputs": [],
   "source": [
    "results_home = '/results/SalishSea/nowcast/'\n",
    "bathy = nc.Dataset('/data/nsoontie/MEOPAR/NEMO-forcing/grid/bathy_meter_SalishSea2.nc')"
   ]
  },
  {
   "cell_type": "code",
   "execution_count": 4,
   "metadata": {
    "collapsed": true
   },
   "outputs": [],
   "source": [
    "\n",
    "\n",
    "def results_dataset(period, grid, results_dir):\n",
    "    \"\"\"Return the results dataset for period (e.g. 1h or 1d)\n",
    "    and grid (e.g. grid_T, grid_U) from results_dir.\n",
    "    \"\"\"\n",
    "    filename_pattern = 'SalishSea_{period}_*_{grid}.nc'\n",
    "    filepaths = glob.glob(os.path.join(results_dir, filename_pattern.format(period=period, grid=grid)))\n",
    "    return nc.Dataset(filepaths[0])\n",
    "\n"
   ]
  },
  {
   "cell_type": "code",
   "execution_count": 5,
   "metadata": {
    "collapsed": false
   },
   "outputs": [
    {
     "name": "stdout",
     "output_type": "stream",
     "text": [
      "/results/SalishSea/nowcast/01apr15\n"
     ]
    }
   ],
   "source": [
    "#lats and lons\n",
    "lat = bathy.variables['nav_lat'][:,:]\n",
    "lon = bathy.variables['nav_lon'][:,:]\n",
    "\n",
    "date=start\n",
    "results_dir = os.path.join(results_home, date.strftime('%d%b%y').lower())\n",
    "period = '1d'\n",
    "print(results_dir)"
   ]
  },
  {
   "cell_type": "code",
   "execution_count": 21,
   "metadata": {
    "collapsed": false
   },
   "outputs": [],
   "source": [
    "grid_T = results_dataset(period,'grid_T',results_dir)\n",
    "\n",
    "#load variables\n",
    "S = grid_T.variables['vosaline'][0,0,:,:]\n",
    "\n",
    "x=np.arange(0,lon.shape[1])\n",
    "y=np.arange(0,lon.shape[0])"
   ]
  },
  {
   "cell_type": "code",
   "execution_count": 38,
   "metadata": {
    "collapsed": false
   },
   "outputs": [
    {
     "data": {
      "image/png": "[encoded data removed]",
      "text/plain": [
       "<matplotlib.figure.Figure at 0x7fe12ddbdac8>"
      ]
     },
     "metadata": {},
     "output_type": "display_data"
    }
   ],
   "source": [
    "smin, smax, dels = 0, 34, 1\n",
    "cs = np.arange(smin,smax)\n",
    "cmap = plt.get_cmap('spectral')\n",
    "st=5\n",
    "\n",
    "fig, ax = plt.subplots(1, 1, figsize=(6, 6))\n",
    "t=0\n",
    "#mesh\n",
    "\n",
    "mesh=ax.contourf(lon,lat,S*35.16504/35.0,cs,cmap=cmap,extend='both')\n",
    "\n",
    "#land\n",
    "viz_tools.plot_land_mask(ax,bathy,coords='map',xslice=x,yslice=y,color='grey')\n",
    "\n",
    "#title\n",
    "timestamp = date\n",
    "ax.set_title('Absolute Salinity [g/kg]\\n'+timestamp.strftime('%d-%b-%Y'),size=16)\n",
    "ax.set_xlabel('Longitude',size=16)\n",
    "ax.set_ylabel('Latitude',size=16)\n",
    "\n",
    "cbar = plt.colorbar(mesh, ax=ax)\n",
    "cbar.ax.tick_params(labelsize=16) \n",
    "ax.tick_params(labelsize=16)\n",
    "\n",
    "fig.savefig('/home/eolson/pyCode/notebooks/figs/Sal20150401.png')"
   ]
  },
  {
   "cell_type": "code",
   "execution_count": null,
   "metadata": {
    "collapsed": true
   },
   "outputs": [],
   "source": [
    "\n"
   ]
  }
 ],
 "metadata": {
  "kernelspec": {
   "display_name": "Python 3",
   "language": "python",
   "name": "python3"
  },
  "language_info": {
   "codemirror_mode": {
    "name": "ipython",
    "version": 3
   },
   "file_extension": ".py",
   "mimetype": "text/x-python",
   "name": "python",
   "nbconvert_exporter": "python",
   "pygments_lexer": "ipython3",
   "version": "3.4.4"
  }
 },
 "nbformat": 4,
 "nbformat_minor": 0
}
