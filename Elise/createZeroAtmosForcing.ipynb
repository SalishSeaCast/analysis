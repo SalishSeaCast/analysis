{
 "metadata": {
  "name": "",
  "signature": "sha256:63a28614781dc7452d82a28093fc677412eda9d6c05b86cc46e876ed1f8e7ca3"
 },
 "nbformat": 3,
 "nbformat_minor": 0,
 "worksheets": [
  {
   "cells": [
    {
     "cell_type": "code",
     "collapsed": false,
     "input": [
      "import netCDF4 as nc\n",
      "from salishsea_tools import tidetools, nc_tools\n",
      "import matplotlib.pyplot as plt\n",
      "import numpy as np\n",
      "import os\n",
      "import re\n",
      "\n",
      "%matplotlib inline"
     ],
     "language": "python",
     "metadata": {},
     "outputs": [],
     "prompt_number": 1
    },
    {
     "cell_type": "code",
     "collapsed": false,
     "input": [
      "def createvarfile(varname,varunits):\n",
      "    v=nc.Dataset('/data/eolson/MEOPAR/SS2D/ops_'+varname+'zero.nc','w')\n",
      "    v.createDimension('time_counter', None)\n",
      "    v.createDimension('y',var.shape[1])\n",
      "    v.createDimension('x',var.shape[2])\n",
      "    time_counter=v.createVariable('time_counter',float,('time_counter'),zlib=True)\n",
      "    time_counter.setncattr('units','seconds since 0001-01-01 00:00:00')\n",
      "    time_counter.setncattr('title','Time')\n",
      "    nav_lat=v.createVariable('nav_lat',float,('y','x'),zlib=True)\n",
      "    nav_lat.setncattr('units','degrees_north')\n",
      "    nav_lon=v.createVariable('nav_lon',float,('y','x'),zlib=True)\n",
      "    nav_lon.setncattr('units','degrees_east')\n",
      "    newvar=v.createVariable(varname,float,('time_counter','y','x'),zlib=True)\n",
      "    newvar.setncattr('units',varunits)\n",
      "    time_counter[0]=1.0\n",
      "    nav_lat=old.variables['nav_lat']\n",
      "    nav_lon=old.variables['nav_lon']\n",
      "    newvar[0,:,:]=0.0\n",
      "    print v\n",
      "    v.close()"
     ],
     "language": "python",
     "metadata": {},
     "outputs": [],
     "prompt_number": 2
    },
    {
     "cell_type": "code",
     "collapsed": false,
     "input": [
      "old = nc.Dataset('/data/eolson/MEOPAR/NEMO-forcing/atmospheric/ops_y2015m03d01.nc')\n",
      "var=old.variables['u_wind']"
     ],
     "language": "python",
     "metadata": {},
     "outputs": [],
     "prompt_number": 3
    },
    {
     "cell_type": "code",
     "collapsed": false,
     "input": [
      "vname='u_wind'\n",
      "vunits='m/s'\n",
      "createvarfile(vname,vunits)"
     ],
     "language": "python",
     "metadata": {},
     "outputs": [
      {
       "output_type": "stream",
       "stream": "stdout",
       "text": [
        "<type 'netCDF4.Dataset'>\n",
        "root group (NETCDF4 data model, file format UNDEFINED):\n",
        "    dimensions(sizes): time_counter(1), y(266), x(256)\n",
        "    variables(dimensions): float64 \u001b[4mtime_counter\u001b[0m(time_counter), float64 \u001b[4mnav_lat\u001b[0m(y,x), float64 \u001b[4mnav_lon\u001b[0m(y,x), float64 \u001b[4mu_wind\u001b[0m(time_counter,y,x)\n",
        "    groups: \n",
        "\n"
       ]
      }
     ],
     "prompt_number": 4
    },
    {
     "cell_type": "code",
     "collapsed": false,
     "input": [
      "vname='v_wind'\n",
      "vunits='m/s'\n",
      "createvarfile(vname,vunits)"
     ],
     "language": "python",
     "metadata": {},
     "outputs": [
      {
       "output_type": "stream",
       "stream": "stdout",
       "text": [
        "<type 'netCDF4.Dataset'>\n",
        "root group (NETCDF4 data model, file format UNDEFINED):\n",
        "    dimensions(sizes): time_counter(1), y(266), x(256)\n",
        "    variables(dimensions): float64 \u001b[4mtime_counter\u001b[0m(time_counter), float64 \u001b[4mnav_lat\u001b[0m(y,x), float64 \u001b[4mnav_lon\u001b[0m(y,x), float64 \u001b[4mv_wind\u001b[0m(time_counter,y,x)\n",
        "    groups: \n",
        "\n"
       ]
      }
     ],
     "prompt_number": 5
    },
    {
     "cell_type": "code",
     "collapsed": false,
     "input": [
      "vname='therm_rad'\n",
      "vunits='W/m^2'\n",
      "createvarfile(vname,vunits)"
     ],
     "language": "python",
     "metadata": {},
     "outputs": [
      {
       "output_type": "stream",
       "stream": "stdout",
       "text": [
        "<type 'netCDF4.Dataset'>\n",
        "root group (NETCDF4 data model, file format UNDEFINED):\n",
        "    dimensions(sizes): time_counter(1), y(266), x(256)\n",
        "    variables(dimensions): float64 \u001b[4mtime_counter\u001b[0m(time_counter), float64 \u001b[4mnav_lat\u001b[0m(y,x), float64 \u001b[4mnav_lon\u001b[0m(y,x), float64 \u001b[4mtherm_rad\u001b[0m(time_counter,y,x)\n",
        "    groups: \n",
        "\n"
       ]
      }
     ],
     "prompt_number": 6
    },
    {
     "cell_type": "code",
     "collapsed": false,
     "input": [
      "vname='tair'\n",
      "vunits='K'\n",
      "createvarfile(vname,vunits)"
     ],
     "language": "python",
     "metadata": {},
     "outputs": [
      {
       "output_type": "stream",
       "stream": "stdout",
       "text": [
        "<type 'netCDF4.Dataset'>\n",
        "root group (NETCDF4 data model, file format UNDEFINED):\n",
        "    dimensions(sizes): time_counter(1), y(266), x(256)\n",
        "    variables(dimensions): float64 \u001b[4mtime_counter\u001b[0m(time_counter), float64 \u001b[4mnav_lat\u001b[0m(y,x), float64 \u001b[4mnav_lon\u001b[0m(y,x), float64 \u001b[4mtair\u001b[0m(time_counter,y,x)\n",
        "    groups: \n",
        "\n"
       ]
      }
     ],
     "prompt_number": 7
    },
    {
     "cell_type": "code",
     "collapsed": false,
     "input": [
      "vname='qair'\n",
      "vunits='kg/kg'\n",
      "createvarfile(vname,vunits)"
     ],
     "language": "python",
     "metadata": {},
     "outputs": [
      {
       "output_type": "stream",
       "stream": "stdout",
       "text": [
        "<type 'netCDF4.Dataset'>\n",
        "root group (NETCDF4 data model, file format UNDEFINED):\n",
        "    dimensions(sizes): time_counter(1), y(266), x(256)\n",
        "    variables(dimensions): float64 \u001b[4mtime_counter\u001b[0m(time_counter), float64 \u001b[4mnav_lat\u001b[0m(y,x), float64 \u001b[4mnav_lon\u001b[0m(y,x), float64 \u001b[4mqair\u001b[0m(time_counter,y,x)\n",
        "    groups: \n",
        "\n"
       ]
      }
     ],
     "prompt_number": 8
    },
    {
     "cell_type": "code",
     "collapsed": false,
     "input": [
      "vname='precip'\n",
      "vunits='kg/m^2'\n",
      "createvarfile(vname,vunits)"
     ],
     "language": "python",
     "metadata": {},
     "outputs": [
      {
       "output_type": "stream",
       "stream": "stdout",
       "text": [
        "<type 'netCDF4.Dataset'>\n",
        "root group (NETCDF4 data model, file format UNDEFINED):\n",
        "    dimensions(sizes): time_counter(1), y(266), x(256)\n",
        "    variables(dimensions): float64 \u001b[4mtime_counter\u001b[0m(time_counter), float64 \u001b[4mnav_lat\u001b[0m(y,x), float64 \u001b[4mnav_lon\u001b[0m(y,x), float64 \u001b[4mprecip\u001b[0m(time_counter,y,x)\n",
        "    groups: \n",
        "\n"
       ]
      }
     ],
     "prompt_number": 9
    },
    {
     "cell_type": "code",
     "collapsed": false,
     "input": [
      "vname='snow'\n",
      "vunits='m/s'\n",
      "createvarfile(vname,vunits)"
     ],
     "language": "python",
     "metadata": {},
     "outputs": [
      {
       "output_type": "stream",
       "stream": "stdout",
       "text": [
        "<type 'netCDF4.Dataset'>\n",
        "root group (NETCDF4 data model, file format UNDEFINED):\n",
        "    dimensions(sizes): time_counter(1), y(266), x(256)\n",
        "    variables(dimensions): float64 \u001b[4mtime_counter\u001b[0m(time_counter), float64 \u001b[4mnav_lat\u001b[0m(y,x), float64 \u001b[4mnav_lon\u001b[0m(y,x), float64 \u001b[4msnow\u001b[0m(time_counter,y,x)\n",
        "    groups: \n",
        "\n"
       ]
      }
     ],
     "prompt_number": 10
    },
    {
     "cell_type": "code",
     "collapsed": false,
     "input": [],
     "language": "python",
     "metadata": {},
     "outputs": []
    }
   ],
   "metadata": {}
  }
 ]
}