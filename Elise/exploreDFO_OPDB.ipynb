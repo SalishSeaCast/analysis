{
 "cells": [
  {
   "cell_type": "code",
   "execution_count": 1,
   "metadata": {
    "collapsed": false
   },
   "outputs": [],
   "source": [
    "# imports\n",
    "import sqlalchemy\n",
    "from sqlalchemy import create_engine, Column, String, Integer, Numeric, MetaData, Table, type_coerce, ForeignKey, case\n",
    "from sqlalchemy.orm import mapper, create_session, relationship, aliased, Session\n",
    "from sqlalchemy.ext.declarative import declarative_base\n",
    "import csv\n",
    "from sqlalchemy import case\n",
    "import numpy as np\n",
    "from sqlalchemy.ext.automap import automap_base\n",
    "import matplotlib.pyplot as plt\n",
    "import sqlalchemy.types as types\n",
    "import numbers\n",
    "from sqlalchemy.sql import and_, or_, not_, func\n",
    "from sqlalchemy.sql import select\n",
    "import os\n",
    "import glob\n",
    "import re\n",
    "from os.path import isfile\n",
    "import gsw\n",
    "\n",
    "import createDBfromDFO_OPDB\n",
    "%matplotlib inline"
   ]
  },
  {
   "cell_type": "code",
   "execution_count": 2,
   "metadata": {
    "collapsed": true
   },
   "outputs": [],
   "source": [
    "# definitions\n",
    "basepath='/ocean/eolson/MEOPAR/obs/'\n",
    "basedir=basepath + 'DFOOPDB/'\n",
    "dbname='DFO_OcProfDB'"
   ]
  },
  {
   "cell_type": "code",
   "execution_count": 3,
   "metadata": {
    "collapsed": false
   },
   "outputs": [
    {
     "name": "stdout",
     "output_type": "stream",
     "text": [
      "file exists\n"
     ]
    }
   ],
   "source": [
    "# if PRISM.sqlite does not exist, run script to create it\n",
    "if not isfile(basedir + dbname + '.sqlite'):\n",
    "    import createDBfromDFO_OPDB\n",
    "    createDBfromDFO_OPDB.main()\n",
    "    print('done')\n",
    "else:\n",
    "    print('file exists')"
   ]
  },
  {
   "cell_type": "code",
   "execution_count": 4,
   "metadata": {
    "collapsed": false
   },
   "outputs": [
    {
     "name": "stdout",
     "output_type": "stream",
     "text": [
      "2016-01-25 15:28:06,602 INFO sqlalchemy.engine.base.Engine SELECT CAST('test plain returns' AS VARCHAR(60)) AS anon_1\n"
     ]
    },
    {
     "name": "stderr",
     "output_type": "stream",
     "text": [
      "INFO:sqlalchemy.engine.base.Engine:SELECT CAST('test plain returns' AS VARCHAR(60)) AS anon_1\n"
     ]
    },
    {
     "name": "stdout",
     "output_type": "stream",
     "text": [
      "2016-01-25 15:28:06,602 INFO sqlalchemy.engine.base.Engine ()\n"
     ]
    },
    {
     "name": "stderr",
     "output_type": "stream",
     "text": [
      "INFO:sqlalchemy.engine.base.Engine:()\n"
     ]
    },
    {
     "name": "stdout",
     "output_type": "stream",
     "text": [
      "2016-01-25 15:28:06,603 INFO sqlalchemy.engine.base.Engine SELECT CAST('test unicode returns' AS VARCHAR(60)) AS anon_1\n"
     ]
    },
    {
     "name": "stderr",
     "output_type": "stream",
     "text": [
      "INFO:sqlalchemy.engine.base.Engine:SELECT CAST('test unicode returns' AS VARCHAR(60)) AS anon_1\n"
     ]
    },
    {
     "name": "stdout",
     "output_type": "stream",
     "text": [
      "2016-01-25 15:28:06,603 INFO sqlalchemy.engine.base.Engine ()\n"
     ]
    },
    {
     "name": "stderr",
     "output_type": "stream",
     "text": [
      "INFO:sqlalchemy.engine.base.Engine:()\n"
     ]
    },
    {
     "name": "stdout",
     "output_type": "stream",
     "text": [
      "2016-01-25 15:28:06,604 INFO sqlalchemy.engine.base.Engine SELECT name FROM sqlite_master WHERE type='table' ORDER BY name\n"
     ]
    },
    {
     "name": "stderr",
     "output_type": "stream",
     "text": [
      "INFO:sqlalchemy.engine.base.Engine:SELECT name FROM sqlite_master WHERE type='table' ORDER BY name\n"
     ]
    },
    {
     "name": "stdout",
     "output_type": "stream",
     "text": [
      "2016-01-25 15:28:06,605 INFO sqlalchemy.engine.base.Engine ()\n"
     ]
    },
    {
     "name": "stderr",
     "output_type": "stream",
     "text": [
      "INFO:sqlalchemy.engine.base.Engine:()\n"
     ]
    },
    {
     "name": "stdout",
     "output_type": "stream",
     "text": [
      "2016-01-25 15:28:06,633 INFO sqlalchemy.engine.base.Engine PRAGMA table_info(\"JDFLocsTBL\")\n"
     ]
    },
    {
     "name": "stderr",
     "output_type": "stream",
     "text": [
      "INFO:sqlalchemy.engine.base.Engine:PRAGMA table_info(\"JDFLocsTBL\")\n"
     ]
    },
    {
     "name": "stdout",
     "output_type": "stream",
     "text": [
      "2016-01-25 15:28:06,633 INFO sqlalchemy.engine.base.Engine ()\n"
     ]
    },
    {
     "name": "stderr",
     "output_type": "stream",
     "text": [
      "INFO:sqlalchemy.engine.base.Engine:()\n"
     ]
    },
    {
     "name": "stdout",
     "output_type": "stream",
     "text": [
      "2016-01-25 15:28:06,638 INFO sqlalchemy.engine.base.Engine PRAGMA foreign_key_list(\"JDFLocsTBL\")\n"
     ]
    },
    {
     "name": "stderr",
     "output_type": "stream",
     "text": [
      "INFO:sqlalchemy.engine.base.Engine:PRAGMA foreign_key_list(\"JDFLocsTBL\")\n"
     ]
    },
    {
     "name": "stdout",
     "output_type": "stream",
     "text": [
      "2016-01-25 15:28:06,638 INFO sqlalchemy.engine.base.Engine ()\n"
     ]
    },
    {
     "name": "stderr",
     "output_type": "stream",
     "text": [
      "INFO:sqlalchemy.engine.base.Engine:()\n"
     ]
    },
    {
     "name": "stdout",
     "output_type": "stream",
     "text": [
      "2016-01-25 15:28:06,641 INFO sqlalchemy.engine.base.Engine SELECT sql FROM  (SELECT * FROM sqlite_master UNION ALL   SELECT * FROM sqlite_temp_master) WHERE name = 'JDFLocsTBL' AND type = 'table'\n"
     ]
    },
    {
     "name": "stderr",
     "output_type": "stream",
     "text": [
      "INFO:sqlalchemy.engine.base.Engine:SELECT sql FROM  (SELECT * FROM sqlite_master UNION ALL   SELECT * FROM sqlite_temp_master) WHERE name = 'JDFLocsTBL' AND type = 'table'\n"
     ]
    },
    {
     "name": "stdout",
     "output_type": "stream",
     "text": [
      "2016-01-25 15:28:06,642 INFO sqlalchemy.engine.base.Engine ()\n"
     ]
    },
    {
     "name": "stderr",
     "output_type": "stream",
     "text": [
      "INFO:sqlalchemy.engine.base.Engine:()\n"
     ]
    },
    {
     "name": "stdout",
     "output_type": "stream",
     "text": [
      "2016-01-25 15:28:06,646 INFO sqlalchemy.engine.base.Engine PRAGMA table_info(\"StationTBL\")\n"
     ]
    },
    {
     "name": "stderr",
     "output_type": "stream",
     "text": [
      "INFO:sqlalchemy.engine.base.Engine:PRAGMA table_info(\"StationTBL\")\n"
     ]
    },
    {
     "name": "stdout",
     "output_type": "stream",
     "text": [
      "2016-01-25 15:28:06,647 INFO sqlalchemy.engine.base.Engine ()\n"
     ]
    },
    {
     "name": "stderr",
     "output_type": "stream",
     "text": [
      "INFO:sqlalchemy.engine.base.Engine:()\n"
     ]
    },
    {
     "name": "stdout",
     "output_type": "stream",
     "text": [
      "2016-01-25 15:28:06,652 INFO sqlalchemy.engine.base.Engine PRAGMA foreign_key_list(\"StationTBL\")\n"
     ]
    },
    {
     "name": "stderr",
     "output_type": "stream",
     "text": [
      "INFO:sqlalchemy.engine.base.Engine:PRAGMA foreign_key_list(\"StationTBL\")\n"
     ]
    },
    {
     "name": "stdout",
     "output_type": "stream",
     "text": [
      "2016-01-25 15:28:06,652 INFO sqlalchemy.engine.base.Engine ()\n"
     ]
    },
    {
     "name": "stderr",
     "output_type": "stream",
     "text": [
      "INFO:sqlalchemy.engine.base.Engine:()\n"
     ]
    },
    {
     "name": "stdout",
     "output_type": "stream",
     "text": [
      "2016-01-25 15:28:06,653 INFO sqlalchemy.engine.base.Engine SELECT sql FROM  (SELECT * FROM sqlite_master UNION ALL   SELECT * FROM sqlite_temp_master) WHERE name = 'StationTBL' AND type = 'table'\n"
     ]
    },
    {
     "name": "stderr",
     "output_type": "stream",
     "text": [
      "INFO:sqlalchemy.engine.base.Engine:SELECT sql FROM  (SELECT * FROM sqlite_master UNION ALL   SELECT * FROM sqlite_temp_master) WHERE name = 'StationTBL' AND type = 'table'\n"
     ]
    },
    {
     "name": "stdout",
     "output_type": "stream",
     "text": [
      "2016-01-25 15:28:06,654 INFO sqlalchemy.engine.base.Engine ()\n"
     ]
    },
    {
     "name": "stderr",
     "output_type": "stream",
     "text": [
      "INFO:sqlalchemy.engine.base.Engine:()\n"
     ]
    },
    {
     "name": "stdout",
     "output_type": "stream",
     "text": [
      "2016-01-25 15:28:06,663 INFO sqlalchemy.engine.base.Engine PRAGMA index_list(\"StationTBL\")\n"
     ]
    },
    {
     "name": "stderr",
     "output_type": "stream",
     "text": [
      "INFO:sqlalchemy.engine.base.Engine:PRAGMA index_list(\"StationTBL\")\n"
     ]
    },
    {
     "name": "stdout",
     "output_type": "stream",
     "text": [
      "2016-01-25 15:28:06,664 INFO sqlalchemy.engine.base.Engine ()\n"
     ]
    },
    {
     "name": "stderr",
     "output_type": "stream",
     "text": [
      "INFO:sqlalchemy.engine.base.Engine:()\n"
     ]
    },
    {
     "name": "stdout",
     "output_type": "stream",
     "text": [
      "2016-01-25 15:28:06,668 INFO sqlalchemy.engine.base.Engine PRAGMA index_list(\"StationTBL\")\n"
     ]
    },
    {
     "name": "stderr",
     "output_type": "stream",
     "text": [
      "INFO:sqlalchemy.engine.base.Engine:PRAGMA index_list(\"StationTBL\")\n"
     ]
    },
    {
     "name": "stdout",
     "output_type": "stream",
     "text": [
      "2016-01-25 15:28:06,669 INFO sqlalchemy.engine.base.Engine ()\n"
     ]
    },
    {
     "name": "stderr",
     "output_type": "stream",
     "text": [
      "INFO:sqlalchemy.engine.base.Engine:()\n"
     ]
    },
    {
     "name": "stdout",
     "output_type": "stream",
     "text": [
      "2016-01-25 15:28:06,673 INFO sqlalchemy.engine.base.Engine SELECT sql FROM  (SELECT * FROM sqlite_master UNION ALL   SELECT * FROM sqlite_temp_master) WHERE name = 'StationTBL' AND type = 'table'\n"
     ]
    },
    {
     "name": "stderr",
     "output_type": "stream",
     "text": [
      "INFO:sqlalchemy.engine.base.Engine:SELECT sql FROM  (SELECT * FROM sqlite_master UNION ALL   SELECT * FROM sqlite_temp_master) WHERE name = 'StationTBL' AND type = 'table'\n"
     ]
    },
    {
     "name": "stdout",
     "output_type": "stream",
     "text": [
      "2016-01-25 15:28:06,674 INFO sqlalchemy.engine.base.Engine ()\n"
     ]
    },
    {
     "name": "stderr",
     "output_type": "stream",
     "text": [
      "INFO:sqlalchemy.engine.base.Engine:()\n"
     ]
    },
    {
     "name": "stdout",
     "output_type": "stream",
     "text": [
      "2016-01-25 15:28:06,681 INFO sqlalchemy.engine.base.Engine PRAGMA index_list(\"JDFLocsTBL\")\n"
     ]
    },
    {
     "name": "stderr",
     "output_type": "stream",
     "text": [
      "INFO:sqlalchemy.engine.base.Engine:PRAGMA index_list(\"JDFLocsTBL\")\n"
     ]
    },
    {
     "name": "stdout",
     "output_type": "stream",
     "text": [
      "2016-01-25 15:28:06,682 INFO sqlalchemy.engine.base.Engine ()\n"
     ]
    },
    {
     "name": "stderr",
     "output_type": "stream",
     "text": [
      "INFO:sqlalchemy.engine.base.Engine:()\n"
     ]
    },
    {
     "name": "stdout",
     "output_type": "stream",
     "text": [
      "2016-01-25 15:28:06,688 INFO sqlalchemy.engine.base.Engine PRAGMA index_list(\"JDFLocsTBL\")\n"
     ]
    },
    {
     "name": "stderr",
     "output_type": "stream",
     "text": [
      "INFO:sqlalchemy.engine.base.Engine:PRAGMA index_list(\"JDFLocsTBL\")\n"
     ]
    },
    {
     "name": "stdout",
     "output_type": "stream",
     "text": [
      "2016-01-25 15:28:06,689 INFO sqlalchemy.engine.base.Engine ()\n"
     ]
    },
    {
     "name": "stderr",
     "output_type": "stream",
     "text": [
      "INFO:sqlalchemy.engine.base.Engine:()\n"
     ]
    },
    {
     "name": "stdout",
     "output_type": "stream",
     "text": [
      "2016-01-25 15:28:06,692 INFO sqlalchemy.engine.base.Engine SELECT sql FROM  (SELECT * FROM sqlite_master UNION ALL   SELECT * FROM sqlite_temp_master) WHERE name = 'JDFLocsTBL' AND type = 'table'\n"
     ]
    },
    {
     "name": "stderr",
     "output_type": "stream",
     "text": [
      "INFO:sqlalchemy.engine.base.Engine:SELECT sql FROM  (SELECT * FROM sqlite_master UNION ALL   SELECT * FROM sqlite_temp_master) WHERE name = 'JDFLocsTBL' AND type = 'table'\n"
     ]
    },
    {
     "name": "stdout",
     "output_type": "stream",
     "text": [
      "2016-01-25 15:28:06,692 INFO sqlalchemy.engine.base.Engine ()\n"
     ]
    },
    {
     "name": "stderr",
     "output_type": "stream",
     "text": [
      "INFO:sqlalchemy.engine.base.Engine:()\n"
     ]
    },
    {
     "name": "stdout",
     "output_type": "stream",
     "text": [
      "2016-01-25 15:28:06,697 INFO sqlalchemy.engine.base.Engine PRAGMA table_info(\"ObsTBL\")\n"
     ]
    },
    {
     "name": "stderr",
     "output_type": "stream",
     "text": [
      "INFO:sqlalchemy.engine.base.Engine:PRAGMA table_info(\"ObsTBL\")\n"
     ]
    },
    {
     "name": "stdout",
     "output_type": "stream",
     "text": [
      "2016-01-25 15:28:06,697 INFO sqlalchemy.engine.base.Engine ()\n"
     ]
    },
    {
     "name": "stderr",
     "output_type": "stream",
     "text": [
      "INFO:sqlalchemy.engine.base.Engine:()\n"
     ]
    },
    {
     "name": "stdout",
     "output_type": "stream",
     "text": [
      "2016-01-25 15:28:06,914 INFO sqlalchemy.engine.base.Engine PRAGMA foreign_key_list(\"ObsTBL\")\n"
     ]
    },
    {
     "name": "stderr",
     "output_type": "stream",
     "text": [
      "INFO:sqlalchemy.engine.base.Engine:PRAGMA foreign_key_list(\"ObsTBL\")\n"
     ]
    },
    {
     "name": "stdout",
     "output_type": "stream",
     "text": [
      "2016-01-25 15:28:06,915 INFO sqlalchemy.engine.base.Engine ()\n"
     ]
    },
    {
     "name": "stderr",
     "output_type": "stream",
     "text": [
      "INFO:sqlalchemy.engine.base.Engine:()\n"
     ]
    },
    {
     "name": "stdout",
     "output_type": "stream",
     "text": [
      "2016-01-25 15:28:06,919 INFO sqlalchemy.engine.base.Engine SELECT sql FROM  (SELECT * FROM sqlite_master UNION ALL   SELECT * FROM sqlite_temp_master) WHERE name = 'ObsTBL' AND type = 'table'\n"
     ]
    },
    {
     "name": "stderr",
     "output_type": "stream",
     "text": [
      "INFO:sqlalchemy.engine.base.Engine:SELECT sql FROM  (SELECT * FROM sqlite_master UNION ALL   SELECT * FROM sqlite_temp_master) WHERE name = 'ObsTBL' AND type = 'table'\n"
     ]
    },
    {
     "name": "stdout",
     "output_type": "stream",
     "text": [
      "2016-01-25 15:28:06,919 INFO sqlalchemy.engine.base.Engine ()\n"
     ]
    },
    {
     "name": "stderr",
     "output_type": "stream",
     "text": [
      "INFO:sqlalchemy.engine.base.Engine:()\n"
     ]
    },
    {
     "name": "stdout",
     "output_type": "stream",
     "text": [
      "2016-01-25 15:28:06,923 INFO sqlalchemy.engine.base.Engine PRAGMA index_list(\"ObsTBL\")\n"
     ]
    },
    {
     "name": "stderr",
     "output_type": "stream",
     "text": [
      "INFO:sqlalchemy.engine.base.Engine:PRAGMA index_list(\"ObsTBL\")\n"
     ]
    },
    {
     "name": "stdout",
     "output_type": "stream",
     "text": [
      "2016-01-25 15:28:06,923 INFO sqlalchemy.engine.base.Engine ()\n"
     ]
    },
    {
     "name": "stderr",
     "output_type": "stream",
     "text": [
      "INFO:sqlalchemy.engine.base.Engine:()\n"
     ]
    },
    {
     "name": "stdout",
     "output_type": "stream",
     "text": [
      "2016-01-25 15:28:06,932 INFO sqlalchemy.engine.base.Engine PRAGMA index_list(\"ObsTBL\")\n"
     ]
    },
    {
     "name": "stderr",
     "output_type": "stream",
     "text": [
      "INFO:sqlalchemy.engine.base.Engine:PRAGMA index_list(\"ObsTBL\")\n"
     ]
    },
    {
     "name": "stdout",
     "output_type": "stream",
     "text": [
      "2016-01-25 15:28:06,932 INFO sqlalchemy.engine.base.Engine ()\n"
     ]
    },
    {
     "name": "stderr",
     "output_type": "stream",
     "text": [
      "INFO:sqlalchemy.engine.base.Engine:()\n"
     ]
    },
    {
     "name": "stdout",
     "output_type": "stream",
     "text": [
      "2016-01-25 15:28:06,943 INFO sqlalchemy.engine.base.Engine SELECT sql FROM  (SELECT * FROM sqlite_master UNION ALL   SELECT * FROM sqlite_temp_master) WHERE name = 'ObsTBL' AND type = 'table'\n"
     ]
    },
    {
     "name": "stderr",
     "output_type": "stream",
     "text": [
      "INFO:sqlalchemy.engine.base.Engine:SELECT sql FROM  (SELECT * FROM sqlite_master UNION ALL   SELECT * FROM sqlite_temp_master) WHERE name = 'ObsTBL' AND type = 'table'\n"
     ]
    },
    {
     "name": "stdout",
     "output_type": "stream",
     "text": [
      "2016-01-25 15:28:06,944 INFO sqlalchemy.engine.base.Engine ()\n"
     ]
    },
    {
     "name": "stderr",
     "output_type": "stream",
     "text": [
      "INFO:sqlalchemy.engine.base.Engine:()\n"
     ]
    },
    {
     "name": "stdout",
     "output_type": "stream",
     "text": [
      "2016-01-25 15:28:07,169 INFO sqlalchemy.engine.base.Engine PRAGMA table_info(\"StationTBL\")\n"
     ]
    },
    {
     "name": "stderr",
     "output_type": "stream",
     "text": [
      "INFO:sqlalchemy.engine.base.Engine:PRAGMA table_info(\"StationTBL\")\n"
     ]
    },
    {
     "name": "stdout",
     "output_type": "stream",
     "text": [
      "2016-01-25 15:28:07,171 INFO sqlalchemy.engine.base.Engine ()\n"
     ]
    },
    {
     "name": "stderr",
     "output_type": "stream",
     "text": [
      "INFO:sqlalchemy.engine.base.Engine:()\n"
     ]
    },
    {
     "name": "stdout",
     "output_type": "stream",
     "text": [
      "2016-01-25 15:28:07,176 INFO sqlalchemy.engine.base.Engine PRAGMA foreign_key_list(\"StationTBL\")\n"
     ]
    },
    {
     "name": "stderr",
     "output_type": "stream",
     "text": [
      "INFO:sqlalchemy.engine.base.Engine:PRAGMA foreign_key_list(\"StationTBL\")\n"
     ]
    },
    {
     "name": "stdout",
     "output_type": "stream",
     "text": [
      "2016-01-25 15:28:07,176 INFO sqlalchemy.engine.base.Engine ()\n"
     ]
    },
    {
     "name": "stderr",
     "output_type": "stream",
     "text": [
      "INFO:sqlalchemy.engine.base.Engine:()\n"
     ]
    },
    {
     "name": "stdout",
     "output_type": "stream",
     "text": [
      "2016-01-25 15:28:07,177 INFO sqlalchemy.engine.base.Engine SELECT sql FROM  (SELECT * FROM sqlite_master UNION ALL   SELECT * FROM sqlite_temp_master) WHERE name = 'StationTBL' AND type = 'table'\n"
     ]
    },
    {
     "name": "stderr",
     "output_type": "stream",
     "text": [
      "INFO:sqlalchemy.engine.base.Engine:SELECT sql FROM  (SELECT * FROM sqlite_master UNION ALL   SELECT * FROM sqlite_temp_master) WHERE name = 'StationTBL' AND type = 'table'\n"
     ]
    },
    {
     "name": "stdout",
     "output_type": "stream",
     "text": [
      "2016-01-25 15:28:07,177 INFO sqlalchemy.engine.base.Engine ()\n"
     ]
    },
    {
     "name": "stderr",
     "output_type": "stream",
     "text": [
      "INFO:sqlalchemy.engine.base.Engine:()\n"
     ]
    },
    {
     "name": "stdout",
     "output_type": "stream",
     "text": [
      "2016-01-25 15:28:07,181 INFO sqlalchemy.engine.base.Engine PRAGMA index_list(\"StationTBL\")\n"
     ]
    },
    {
     "name": "stderr",
     "output_type": "stream",
     "text": [
      "INFO:sqlalchemy.engine.base.Engine:PRAGMA index_list(\"StationTBL\")\n"
     ]
    },
    {
     "name": "stdout",
     "output_type": "stream",
     "text": [
      "2016-01-25 15:28:07,181 INFO sqlalchemy.engine.base.Engine ()\n"
     ]
    },
    {
     "name": "stderr",
     "output_type": "stream",
     "text": [
      "INFO:sqlalchemy.engine.base.Engine:()\n"
     ]
    },
    {
     "name": "stdout",
     "output_type": "stream",
     "text": [
      "2016-01-25 15:28:07,184 INFO sqlalchemy.engine.base.Engine PRAGMA index_list(\"StationTBL\")\n"
     ]
    },
    {
     "name": "stderr",
     "output_type": "stream",
     "text": [
      "INFO:sqlalchemy.engine.base.Engine:PRAGMA index_list(\"StationTBL\")\n"
     ]
    },
    {
     "name": "stdout",
     "output_type": "stream",
     "text": [
      "2016-01-25 15:28:07,185 INFO sqlalchemy.engine.base.Engine ()\n"
     ]
    },
    {
     "name": "stderr",
     "output_type": "stream",
     "text": [
      "INFO:sqlalchemy.engine.base.Engine:()\n"
     ]
    },
    {
     "name": "stdout",
     "output_type": "stream",
     "text": [
      "2016-01-25 15:28:07,187 INFO sqlalchemy.engine.base.Engine SELECT sql FROM  (SELECT * FROM sqlite_master UNION ALL   SELECT * FROM sqlite_temp_master) WHERE name = 'StationTBL' AND type = 'table'\n"
     ]
    },
    {
     "name": "stderr",
     "output_type": "stream",
     "text": [
      "INFO:sqlalchemy.engine.base.Engine:SELECT sql FROM  (SELECT * FROM sqlite_master UNION ALL   SELECT * FROM sqlite_temp_master) WHERE name = 'StationTBL' AND type = 'table'\n"
     ]
    },
    {
     "name": "stdout",
     "output_type": "stream",
     "text": [
      "2016-01-25 15:28:07,188 INFO sqlalchemy.engine.base.Engine ()\n"
     ]
    },
    {
     "name": "stderr",
     "output_type": "stream",
     "text": [
      "INFO:sqlalchemy.engine.base.Engine:()\n"
     ]
    }
   ],
   "source": [
    "Base = automap_base()\n",
    "engine = create_engine('sqlite:///' + basedir + dbname + '.sqlite', echo = True)\n",
    "# reflect the tables in salish.sqlite:\n",
    "Base.prepare(engine, reflect=True)\n",
    "# mapped classes have been created\n",
    "Station=Base.classes.StationTBL\n",
    "Obs=Base.classes.ObsTBL\n",
    "JDFLocs=Base.classes.JDFLocsTBL\n",
    "session = create_session(bind = engine, autocommit = False, autoflush = True)"
   ]
  },
  {
   "cell_type": "code",
   "execution_count": 5,
   "metadata": {
    "collapsed": false
   },
   "outputs": [],
   "source": [
    "Sal=case([(Obs.Salinity_Bottle!=None, Obs.Salinity_Bottle)], else_=\n",
    "         case([(Obs.Salinity_T0_C0!=None, Obs.Salinity_T0_C0)], else_=\n",
    "         case([(Obs.Salinity_T1_C1!=None, Obs.Salinity_T1_C1)], else_=\n",
    "         case([(Obs.Salinity!=None, Obs.Salinity)], else_=\n",
    "         case([(Obs.Salinity__Unknown!=None, Obs.Salinity__Unknown)], else_=Obs.Salinity__Pre1978)\n",
    "        ))))\n",
    "SalUnits=case([(Obs.Salinity_Bottle!=None, Obs.Salinity_Bottle_units)], else_=\n",
    "         case([(Obs.Salinity_T0_C0!=None, Obs.Salinity_T0_C0_units)], else_=\n",
    "         case([(Obs.Salinity_T1_C1!=None, Obs.Salinity_T1_C1_units)], else_=\n",
    "         case([(Obs.Salinity!=None, Obs.Salinity_units)], else_=\n",
    "         case([(Obs.Salinity__Unknown!=None, Obs.Salinity__Unknown_units)], else_=Obs.Salinity__Pre1978_units)\n",
    "        ))))\n",
    "SalFlag=case([(Obs.Salinity_Bottle!=None, Obs.Flag_Salinity_Bottle)], else_=\n",
    "         case([(Obs.Salinity_T0_C0!=None, Obs.Flag_Salinity)], else_=\n",
    "         case([(Obs.Salinity_T1_C1!=None, Obs.Flag_Salinity)], else_=\n",
    "         case([(Obs.Salinity!=None, Obs.Flag_Salinity)], else_=\n",
    "         case([(Obs.Salinity__Unknown!=None, Obs.Flag_Salinity)], else_=Obs.Quality_Flag_Sali)\n",
    "        ))))"
   ]
  },
  {
   "cell_type": "code",
   "execution_count": 6,
   "metadata": {
    "collapsed": true
   },
   "outputs": [],
   "source": [
    "NO=case([(Obs.Nitrate_plus_Nitrite!=None, Obs.Nitrate_plus_Nitrite)], else_=Obs.Nitrate)\n",
    "NOUnits=case([(Obs.Nitrate_plus_Nitrite!=None, Obs.Nitrate_plus_Nitrite_units)], else_=Obs.Nitrate_units)\n",
    "NOFlag=case([(Obs.Nitrate_plus_Nitrite!=None, Obs.Flag_Nitrate_plus_Nitrite)], else_=Obs.Flag_Nitrate)\n",
    "# Obs.Quality_Flag_Nitr does not match any nitrate obs\n",
    "# ISUS not included in this NO; test separately"
   ]
  },
  {
   "cell_type": "code",
   "execution_count": 7,
   "metadata": {
    "collapsed": true
   },
   "outputs": [],
   "source": [
    "Tem=case([(Obs.Temperature!=None, Obs.Temperature)], else_=\n",
    "         case([(Obs.Temperature_Primary!=None, Obs.Temperature_Primary)], else_=\n",
    "         case([(Obs.Temperature_Secondary!=None, Obs.Temperature_Secondary)], else_=Obs.Temperature_Reversing)))\n",
    "TemUnits=case([(Obs.Temperature!=None, Obs.Temperature_units)], else_=\n",
    "         case([(Obs.Temperature_Primary!=None, Obs.Temperature_Primary_units)], else_=\n",
    "         case([(Obs.Temperature_Secondary!=None, Obs.Temperature_Secondary_units)], \n",
    "              else_=Obs.Temperature_Reversing_units)))\n",
    "TemFlag=Obs.Quality_Flag_Temp"
   ]
  },
  {
   "cell_type": "code",
   "execution_count": 8,
   "metadata": {
    "collapsed": false
   },
   "outputs": [
    {
     "name": "stdout",
     "output_type": "stream",
     "text": [
      "2016-01-25 15:28:40,551 INFO sqlalchemy.engine.base.Engine BEGIN (implicit)\n"
     ]
    },
    {
     "name": "stderr",
     "output_type": "stream",
     "text": [
      "INFO:sqlalchemy.engine.base.Engine:BEGIN (implicit)\n"
     ]
    },
    {
     "name": "stdout",
     "output_type": "stream",
     "text": [
      "2016-01-25 15:28:40,553 INFO sqlalchemy.engine.base.Engine SELECT CASE WHEN (\"ObsTBL\".\"Salinity_Bottle\" IS NOT NULL) THEN \"ObsTBL\".\"Salinity_Bottle\" ELSE CASE WHEN (\"ObsTBL\".\"Salinity_T0_C0\" IS NOT NULL) THEN \"ObsTBL\".\"Salinity_T0_C0\" ELSE CASE WHEN (\"ObsTBL\".\"Salinity_T1_C1\" IS NOT NULL) THEN \"ObsTBL\".\"Salinity_T1_C1\" ELSE CASE WHEN (\"ObsTBL\".\"Salinity\" IS NOT NULL) THEN \"ObsTBL\".\"Salinity\" ELSE CASE WHEN (\"ObsTBL\".\"Salinity__Unknown\" IS NOT NULL) THEN \"ObsTBL\".\"Salinity__Unknown\" ELSE \"ObsTBL\".\"Salinity__Pre1978\" END END END END END AS anon_1, \"ObsTBL\".\"Pressure\" AS \"ObsTBL_Pressure\", \"StationTBL\".\"Lon\" AS \"StationTBL_Lon\", \"StationTBL\".\"Lat\" AS \"StationTBL_Lat\", CASE WHEN (\"ObsTBL\".\"Temperature\" IS NOT NULL) THEN \"ObsTBL\".\"Temperature\" ELSE CASE WHEN (\"ObsTBL\".\"Temperature_Primary\" IS NOT NULL) THEN \"ObsTBL\".\"Temperature_Primary\" ELSE CASE WHEN (\"ObsTBL\".\"Temperature_Secondary\" IS NOT NULL) THEN \"ObsTBL\".\"Temperature_Secondary\" ELSE \"ObsTBL\".\"Temperature_Reversing\" END END END AS anon_2, \"ObsTBL\".\"Oxygen_Dissolved_SBE\" / \"ObsTBL\".\"Oxygen_Dissolved\" AS anon_3, \"ObsTBL\".\"Oxygen_Dissolved\" AS \"ObsTBL_Oxygen_Dissolved\", \"ObsTBL\".\"Oxygen_Dissolved_SBE\" AS \"ObsTBL_Oxygen_Dissolved_SBE\" \n",
      "FROM \"ObsTBL\", \"StationTBL\" \n",
      "WHERE \"ObsTBL\".\"Oxygen_Dissolved_units\" = ? AND \"ObsTBL\".\"Oxygen_Dissolved_SBE_units\" = ? AND \"ObsTBL\".\"Oxygen_Dissolved\" IS NOT NULL AND \"ObsTBL\".\"Oxygen_Dissolved_SBE\" IS NOT NULL\n",
      " LIMIT ? OFFSET ?\n"
     ]
    },
    {
     "name": "stderr",
     "output_type": "stream",
     "text": [
      "INFO:sqlalchemy.engine.base.Engine:SELECT CASE WHEN (\"ObsTBL\".\"Salinity_Bottle\" IS NOT NULL) THEN \"ObsTBL\".\"Salinity_Bottle\" ELSE CASE WHEN (\"ObsTBL\".\"Salinity_T0_C0\" IS NOT NULL) THEN \"ObsTBL\".\"Salinity_T0_C0\" ELSE CASE WHEN (\"ObsTBL\".\"Salinity_T1_C1\" IS NOT NULL) THEN \"ObsTBL\".\"Salinity_T1_C1\" ELSE CASE WHEN (\"ObsTBL\".\"Salinity\" IS NOT NULL) THEN \"ObsTBL\".\"Salinity\" ELSE CASE WHEN (\"ObsTBL\".\"Salinity__Unknown\" IS NOT NULL) THEN \"ObsTBL\".\"Salinity__Unknown\" ELSE \"ObsTBL\".\"Salinity__Pre1978\" END END END END END AS anon_1, \"ObsTBL\".\"Pressure\" AS \"ObsTBL_Pressure\", \"StationTBL\".\"Lon\" AS \"StationTBL_Lon\", \"StationTBL\".\"Lat\" AS \"StationTBL_Lat\", CASE WHEN (\"ObsTBL\".\"Temperature\" IS NOT NULL) THEN \"ObsTBL\".\"Temperature\" ELSE CASE WHEN (\"ObsTBL\".\"Temperature_Primary\" IS NOT NULL) THEN \"ObsTBL\".\"Temperature_Primary\" ELSE CASE WHEN (\"ObsTBL\".\"Temperature_Secondary\" IS NOT NULL) THEN \"ObsTBL\".\"Temperature_Secondary\" ELSE \"ObsTBL\".\"Temperature_Reversing\" END END END AS anon_2, \"ObsTBL\".\"Oxygen_Dissolved_SBE\" / \"ObsTBL\".\"Oxygen_Dissolved\" AS anon_3, \"ObsTBL\".\"Oxygen_Dissolved\" AS \"ObsTBL_Oxygen_Dissolved\", \"ObsTBL\".\"Oxygen_Dissolved_SBE\" AS \"ObsTBL_Oxygen_Dissolved_SBE\" \n",
      "FROM \"ObsTBL\", \"StationTBL\" \n",
      "WHERE \"ObsTBL\".\"Oxygen_Dissolved_units\" = ? AND \"ObsTBL\".\"Oxygen_Dissolved_SBE_units\" = ? AND \"ObsTBL\".\"Oxygen_Dissolved\" IS NOT NULL AND \"ObsTBL\".\"Oxygen_Dissolved_SBE\" IS NOT NULL\n",
      " LIMIT ? OFFSET ?\n"
     ]
    },
    {
     "name": "stdout",
     "output_type": "stream",
     "text": [
      "2016-01-25 15:28:40,553 INFO sqlalchemy.engine.base.Engine ('mL/L', 'umol/kg', 50, 0)\n"
     ]
    },
    {
     "name": "stderr",
     "output_type": "stream",
     "text": [
      "INFO:sqlalchemy.engine.base.Engine:('mL/L', 'umol/kg', 50, 0)\n"
     ]
    },
    {
     "name": "stdout",
     "output_type": "stream",
     "text": [
      "30.6633000000 187.7000000000 -123.9430000000 49.2500000000  7.7257000000       None      0E-10 193.5000000000\n",
      "31.1890000000 150.9000000000 -123.9430000000 49.2500000000  9.2504000000       None      0E-10 3.0000000000\n",
      "31.2297000000 175.6000000000 -123.9430000000 49.2500000000  9.2578000000       None      0E-10 3.2000000000\n",
      "31.2320000000 150.4000000000 -123.9430000000 49.2500000000  9.2676000000       None      0E-10 3.7000000000\n",
      "31.2330000000 151.6000000000 -123.9430000000 49.2500000000  9.2675000000       None      0E-10 3.4000000000\n",
      "31.2576000000 175.4000000000 -123.9430000000 49.2500000000  9.2639000000       None      0E-10 3.9000000000\n",
      "31.2577000000 220.6000000000 -123.9430000000 49.2500000000  9.2689000000       None      0E-10 3.9000000000\n",
      "31.2705000000 218.4000000000 -123.9430000000 49.2500000000  9.2572000000       None      0E-10 4.9000000000\n",
      "31.2728000000 216.3000000000 -123.9430000000 49.2500000000  9.2562000000       None      0E-10 4.6000000000\n",
      "31.2744000000 175.3000000000 -123.9430000000 49.2500000000  9.3474000000       None      0E-10 2.5000000000\n",
      "31.2906000000 215.1000000000 -123.9430000000 49.2500000000  9.3557000000       None      0E-10 2.8000000000\n",
      "31.2965000000 164.2000000000 -123.9430000000 49.2500000000  9.2469000000       None      0E-10 2.3000000000\n",
      "31.3024000000 175.4000000000 -123.9430000000 49.2500000000  9.2526000000       None      0E-10 2.3000000000\n",
      "31.3035000000 181.4000000000 -123.9430000000 49.2500000000  9.2539000000       None      0E-10 2.5000000000\n",
      "32.5160000000 75.2000000000 -123.9430000000 49.2500000000  8.6002000000       None      0E-10 -4.4000000000\n",
      "32.5161000000 75.2000000000 -123.9430000000 49.2500000000  8.6027000000       None      0E-10 -5.2000000000\n",
      "32.5278000000 74.9000000000 -123.9430000000 49.2500000000  8.5901000000       None      0E-10 -4.8000000000\n",
      "32.6063000000 75.9000000000 -123.9430000000 49.2500000000  8.6797000000       None      0E-10 5.5000000000\n",
      "32.6166000000 100.1000000000 -123.9430000000 49.2500000000  8.5262000000       None      0E-10 -4.8000000000\n",
      "32.7355000000 111.7000000000 -123.9430000000 49.2500000000  8.8459000000       None      0E-10 7.8000000000\n",
      "32.8196000000 175.1000000000 -123.9430000000 49.2500000000  8.3094000000       None      0E-10 -5.2000000000\n",
      "32.8304000000 175.2000000000 -123.9430000000 49.2500000000  8.2880000000       None      0E-10 -5.7000000000\n",
      "31.2530000000 149.7000000000 -123.9430000000 49.2500000000  9.3393000000 800.0000000000 0.0030000000 2.4000000000\n",
      "31.2511000000 150.5000000000 -123.9430000000 49.2500000000  9.1509000000 100.0000000000 0.0300000000 3.0000000000\n",
      "31.1029000000 126.4000000000 -123.9430000000 49.2500000000  9.2462000000 106.4516129032 0.0310000000 3.3000000000\n",
      "31.3011000000 179.0000000000 -123.9430000000 49.2500000000  9.2518000000 66.6666666667 0.0390000000 2.6000000000\n",
      "33.0240000000 196.3000000000 -123.9430000000 49.2500000000  8.6172000000 159.0909090909 0.0440000000 7.0000000000\n",
      "31.1962000000 124.4000000000 -123.9430000000 49.2500000000  9.3819000000 48.0000000000 0.0500000000 2.4000000000\n",
      "31.2514000000 150.5000000000 -123.9430000000 49.2500000000  9.1514000000 58.8235294118 0.0510000000 3.0000000000\n",
      "31.3013000000 179.0000000000 -123.9430000000 49.2500000000  9.2519000000 50.9803921569 0.0510000000 2.6000000000\n",
      "31.3257000000 169.9000000000 -123.9430000000 49.2500000000  9.4479000000 88.2352941176 0.0510000000 4.5000000000\n",
      "31.2750000000 151.3000000000 -123.9430000000 49.2500000000  9.2040000000 37.9310344828 0.0580000000 2.2000000000\n",
      "31.1438000000 125.6000000000 -123.9430000000 49.2500000000  9.2686000000 56.4516129032 0.0620000000 3.5000000000\n",
      "32.7558000000 150.1000000000 -123.9430000000 49.2500000000  8.4481000000 -87.1428571429 0.0700000000 -6.1000000000\n",
      "32.7565000000 150.2000000000 -123.9430000000 49.2500000000  8.4466000000 -77.0270270270 0.0740000000 -5.7000000000\n",
      "31.3011000000 150.1000000000 -123.9430000000 49.2500000000  9.4530000000 42.5287356322 0.0870000000 3.7000000000\n",
      "32.7113000000 125.0000000000 -123.9430000000 49.2500000000  8.5507000000 -38.2608695652 0.1150000000 -4.4000000000\n",
      "31.1803000000 125.0000000000 -123.9430000000 49.2500000000  9.3227000000 36.0655737705 0.1830000000 6.6000000000\n",
      "34.2916000000 750.5000000000 -123.9430000000 49.2500000000  4.1030000000 44.1747572816 0.2060000000 9.1000000000\n",
      "34.2843000000 750.2000000000 -123.9430000000 49.2500000000  4.1130000000 41.9354838710 0.2170000000 9.1000000000\n",
      "34.3183000000 801.4000000000 -123.9430000000 49.2500000000  3.9133000000 45.4128440367 0.2180000000 9.9000000000\n",
      "34.3698000000 969.5000000000 -123.9430000000 49.2500000000  3.6880000000 45.8715596330 0.2180000000 10.0000000000\n",
      "34.2997000000 802.6000000000 -123.9430000000 49.2500000000  4.0386000000 42.6008968610 0.2230000000 9.5000000000\n",
      "32.9324000000 151.2000000000 -123.9430000000 49.2500000000  8.4679000000 49.3392070485 0.2270000000 11.2000000000\n",
      "34.2726000000 751.0000000000 -123.9430000000 49.2500000000  4.0800000000 45.6896551724 0.2320000000 10.6000000000\n",
      "34.3846000000 1000.6000000000 -123.9430000000 49.2500000000  3.5478000000 44.2553191489 0.2350000000 10.4000000000\n",
      "34.3214000000 860.9000000000 -123.9430000000 49.2500000000  3.9873000000 46.8354430380 0.2370000000 11.1000000000\n",
      "32.7045000000 124.8000000000 -123.9430000000 49.2500000000  8.5780000000 7.1428571429 0.2380000000 1.7000000000\n",
      "34.2645000000 750.9000000000 -123.9430000000 49.2500000000  4.1067000000 45.6066945607 0.2390000000 10.9000000000\n",
      "34.3881000000 999.7000000000 -123.9430000000 49.2500000000  3.4724000000 48.1171548117 0.2390000000 11.5000000000\n"
     ]
    },
    {
     "name": "stderr",
     "output_type": "stream",
     "text": [
      "/home/eolson/anaconda3/envs/teos10/lib/python3.4/site-packages/sqlalchemy/sql/sqltypes.py:562: SAWarning: Dialect sqlite+pysqlite does *not* support Decimal objects natively, and SQLAlchemy must convert from floating point - rounding errors and other issues may occur. Please consider storing Decimal numbers as strings or integers on this platform for lossless storage.\n",
      "  'storage.' % (dialect.name, dialect.driver))\n"
     ]
    }
   ],
   "source": [
    "ratio=Obs.Oxygen_Dissolved_SBE/Obs.Oxygen_Dissolved\n",
    "qry=session.query(Sal, Obs.Pressure, Station.Lon, Station.Lat, Tem, ratio, Obs.Oxygen_Dissolved, \n",
    "                  Obs.Oxygen_Dissolved_SBE).filter(and_(\n",
    "    Obs.Oxygen_Dissolved_units=='mL/L',\n",
    "    Obs.Oxygen_Dissolved_SBE_units=='umol/kg',\n",
    "    Obs.Oxygen_Dissolved!=None,\n",
    "    Obs.Oxygen_Dissolved_SBE!=None)).limit(50).all()\n",
    "\n",
    "for row in qry:\n",
    "    print('%13s %10s %13s %10s %13s %10s %10s %10s' % row)"
   ]
  },
  {
   "cell_type": "raw",
   "metadata": {
    "collapsed": false
   },
   "source": [
    "qry=session.query(Obs.Oxygen, Obs.Oxygen_units, Obs.Oxygen_Dissolved, Obs.Oxygen_Dissolved_units, \n",
    "            Obs.Oxygen_Dissolved_SBE, Obs.Oxygen_Dissolved_SBE_units, Obs.Flag_Oxygen_Dissolved, \n",
    "            Obs.Quality_Flag_Oxyg).group_by(Obs.Oxygen_units, Obs.Oxygen_Dissolved_units, Obs.Oxygen_Dissolved_SBE_units).all()\n",
    "         #   or_(\n",
    "         #       Obs.Nitrate!=None, \n",
    "         #       Obs.Nitrate_plus_nitrite_ISUS!=None,\n",
    "        # #       Obs.Nitrate_plus_Nitrite!=None)\n",
    "        #).all()\n",
    "for row in qry:\n",
    "    print('%13s %10s %13s %10s %13s %10s %5s %5s' % row)\n",
    "    # Obs.Quality_Flag_Oxyg refers to Obs.Oxygen\n",
    "    # Obs.Flag_Oxygen_Dissolved refers to Obs.Oxygen_Dissolved or Obs.Oxygen_Dissolved_SBE\n",
    "    # Obs.Oxygen_units:               mg/l or ml/l;      1 mg/l = 22.391 ml/31.998 = 0.700 ml/l\n",
    "    # Obs.Oxygen_Dissolved_units:     mL/L or umol/kg;   1 μmol O2 = .022391 ml\n",
    "    # Obs.Oxygen_Dissolved_SBE_units: mL/L or umol/kg;   1kg = approx 1 L water\n",
    "    #                                                    1 ml/l = 103/22.391 = 44.661 μmol/l\n",
    "    #                Molar volume at STP = 22.391 l\n",
    "    #                Molar weight of oxygen = 31.998 g\n",
    "    #                Atomic Mass of oxygen = 15.994 g/mol"
   ]
  },
  {
   "cell_type": "code",
   "execution_count": 9,
   "metadata": {
    "collapsed": true
   },
   "outputs": [],
   "source": [
    "Oxy0=case([(Obs.Oxygen!=None, Obs.Oxygen)], else_=Obs.Oxygen_Dissolved)\n",
    "Oxy0Units=case([(Obs.Oxygen!=None, Obs.Oxygen_units)], else_=Obs.Oxygen_Dissolved_units)\n",
    "Oxy0Flag=case([(Obs.Oxygen!=None, Obs.Quality_Flag_Oxyg)], else_=Obs.Flag_Oxygen_Dissolved)"
   ]
  },
  {
   "cell_type": "code",
   "execution_count": 10,
   "metadata": {
    "collapsed": false,
    "scrolled": true
   },
   "outputs": [
    {
     "name": "stdout",
     "output_type": "stream",
     "text": [
      "2016-01-25 15:28:46,010 INFO sqlalchemy.engine.base.Engine SELECT CASE WHEN (\"ObsTBL\".\"Oxygen\" IS NOT NULL) THEN \"ObsTBL\".\"Oxygen_units\" ELSE \"ObsTBL\".\"Oxygen_Dissolved_units\" END AS anon_1, count(*) AS count_1 \n",
      "FROM \"ObsTBL\" \n",
      "WHERE CASE WHEN (\"ObsTBL\".\"Oxygen\" IS NOT NULL) THEN \"ObsTBL\".\"Oxygen\" ELSE \"ObsTBL\".\"Oxygen_Dissolved\" END IS NOT NULL GROUP BY CASE WHEN (\"ObsTBL\".\"Oxygen\" IS NOT NULL) THEN \"ObsTBL\".\"Oxygen_units\" ELSE \"ObsTBL\".\"Oxygen_Dissolved_units\" END\n"
     ]
    },
    {
     "name": "stderr",
     "output_type": "stream",
     "text": [
      "INFO:sqlalchemy.engine.base.Engine:SELECT CASE WHEN (\"ObsTBL\".\"Oxygen\" IS NOT NULL) THEN \"ObsTBL\".\"Oxygen_units\" ELSE \"ObsTBL\".\"Oxygen_Dissolved_units\" END AS anon_1, count(*) AS count_1 \n",
      "FROM \"ObsTBL\" \n",
      "WHERE CASE WHEN (\"ObsTBL\".\"Oxygen\" IS NOT NULL) THEN \"ObsTBL\".\"Oxygen\" ELSE \"ObsTBL\".\"Oxygen_Dissolved\" END IS NOT NULL GROUP BY CASE WHEN (\"ObsTBL\".\"Oxygen\" IS NOT NULL) THEN \"ObsTBL\".\"Oxygen_units\" ELSE \"ObsTBL\".\"Oxygen_Dissolved_units\" END\n"
     ]
    },
    {
     "name": "stdout",
     "output_type": "stream",
     "text": [
      "2016-01-25 15:28:46,010 INFO sqlalchemy.engine.base.Engine ()\n"
     ]
    },
    {
     "name": "stderr",
     "output_type": "stream",
     "text": [
      "INFO:sqlalchemy.engine.base.Engine:()\n"
     ]
    },
    {
     "name": "stdout",
     "output_type": "stream",
     "text": [
      "('mL/L', 36208)\n",
      "('mg/l', 1859)\n",
      "('ml/l', 148)\n",
      "('umol/kg', 13388)\n"
     ]
    }
   ],
   "source": [
    "qry=session.query(Oxy0Units, func.count()).filter(Oxy0!=None).group_by(Oxy0Units).all()\n",
    "for row in qry:\n",
    "    print(row)"
   ]
  },
  {
   "cell_type": "code",
   "execution_count": 11,
   "metadata": {
    "collapsed": false
   },
   "outputs": [],
   "source": [
    "Oxy_mLL=case([(or_(Oxy0Units=='mL/L', Oxy0Units=='ml/l'), Oxy0)], else_=\n",
    "             case([(Oxy0Units=='mg/l', 22.391/31.998*Oxy0)], else_=None))\n",
    "Oxy_umolkg=case([(Oxy0Units=='umol/kg', Oxy0)], else_=None)"
   ]
  },
  {
   "cell_type": "code",
   "execution_count": null,
   "metadata": {
    "collapsed": true
   },
   "outputs": [],
   "source": []
  },
  {
   "cell_type": "raw",
   "metadata": {
    "collapsed": true
   },
   "source": [
    "\n",
    "gsw.SA_from_SP(SP,p,long,lat), gsw.rho(SA,t,p)"
   ]
  },
  {
   "cell_type": "code",
   "execution_count": 12,
   "metadata": {
    "collapsed": false
   },
   "outputs": [
    {
     "name": "stdout",
     "output_type": "stream",
     "text": [
      "2016-01-25 15:28:51,001 INFO sqlalchemy.engine.base.Engine SELECT \"ObsTBL\".\"Quality_Flag_Sali\" AS \"ObsTBL_Quality_Flag_Sali\", \"ObsTBL\".\"Salinity\" AS \"ObsTBL_Salinity\", \"ObsTBL\".\"Salinity_Bottle\" AS \"ObsTBL_Salinity_Bottle\", \"ObsTBL\".\"Salinity_T0_C0\" AS \"ObsTBL_Salinity_T0_C0\", \"ObsTBL\".\"Salinity_T1_C1\" AS \"ObsTBL_Salinity_T1_C1\", \"ObsTBL\".\"Salinity__Pre1978\" AS \"ObsTBL_Salinity__Pre1978\", \"ObsTBL\".\"Salinity__Unknown\" AS \"ObsTBL_Salinity__Unknown\", \"ObsTBL\".\"sourceFile\" AS \"ObsTBL_sourceFile\" \n",
      "FROM \"ObsTBL\" \n",
      "WHERE \"ObsTBL\".\"Quality_Flag_Sali\" IS NOT NULL AND \"ObsTBL\".\"Salinity__Pre1978\" IS NULL\n"
     ]
    },
    {
     "name": "stderr",
     "output_type": "stream",
     "text": [
      "INFO:sqlalchemy.engine.base.Engine:SELECT \"ObsTBL\".\"Quality_Flag_Sali\" AS \"ObsTBL_Quality_Flag_Sali\", \"ObsTBL\".\"Salinity\" AS \"ObsTBL_Salinity\", \"ObsTBL\".\"Salinity_Bottle\" AS \"ObsTBL_Salinity_Bottle\", \"ObsTBL\".\"Salinity_T0_C0\" AS \"ObsTBL_Salinity_T0_C0\", \"ObsTBL\".\"Salinity_T1_C1\" AS \"ObsTBL_Salinity_T1_C1\", \"ObsTBL\".\"Salinity__Pre1978\" AS \"ObsTBL_Salinity__Pre1978\", \"ObsTBL\".\"Salinity__Unknown\" AS \"ObsTBL_Salinity__Unknown\", \"ObsTBL\".\"sourceFile\" AS \"ObsTBL_sourceFile\" \n",
      "FROM \"ObsTBL\" \n",
      "WHERE \"ObsTBL\".\"Quality_Flag_Sali\" IS NOT NULL AND \"ObsTBL\".\"Salinity__Pre1978\" IS NULL\n"
     ]
    },
    {
     "name": "stdout",
     "output_type": "stream",
     "text": [
      "2016-01-25 15:28:51,001 INFO sqlalchemy.engine.base.Engine ()\n"
     ]
    },
    {
     "name": "stderr",
     "output_type": "stream",
     "text": [
      "INFO:sqlalchemy.engine.base.Engine:()\n"
     ]
    },
    {
     "name": "stdout",
     "output_type": "stream",
     "text": [
      "   9.  None          None  None          None  None  None UBC EO data request 20160113 c/55010009.UBC\n",
      "   9.  None          None  None          None  None  None UBC EO data request 20160113 c/55010028.UBC\n",
      "   9.  None          None  None          None  None  None UBC EO data request 20160113 c/55010033.UBC\n",
      "   9.  None          None  None          None  None  None UBC EO data request 20160113 c/55010033.UBC\n",
      "   9.  None          None  None          None  None  None UBC EO data request 20160113 c/55010033.UBC\n",
      "   9.  None          None  None          None  None  None UBC EO data request 20160113 c/55010033.UBC\n",
      "   9.  None          None  None          None  None  None UBC EO data request 20160113 c/55010049.UBC\n",
      "   9.  None          None  None          None  None  None UBC EO data request 20160113 c/55010060.UBC\n",
      "   9.  None          None  None          None  None  None UBC EO data request 20160113 c/55010060.UBC\n"
     ]
    },
    {
     "name": "stderr",
     "output_type": "stream",
     "text": [
      "/home/eolson/anaconda3/envs/teos10/lib/python3.4/site-packages/sqlalchemy/sql/sqltypes.py:562: SAWarning: Dialect sqlite+pysqlite does *not* support Decimal objects natively, and SQLAlchemy must convert from floating point - rounding errors and other issues may occur. Please consider storing Decimal numbers as strings or integers on this platform for lossless storage.\n",
      "  'storage.' % (dialect.name, dialect.driver))\n"
     ]
    }
   ],
   "source": [
    "qry=session.query(Obs.Quality_Flag_Sali, Obs.Salinity, Obs.Salinity_Bottle, Obs.Salinity_T0_C0, \n",
    "                  Obs.Salinity_T1_C1, Obs.Salinity__Pre1978, Obs.Salinity__Unknown, Obs.sourceFile\n",
    "                 ).filter(and_(\n",
    "            Obs.Quality_Flag_Sali!=None,\n",
    "            Obs.Salinity__Pre1978==None\n",
    "            )).all()\n",
    "for row in qry:\n",
    "    print('%5s %5s %13s %5s %13s %5s %5s %5s' % row)"
   ]
  },
  {
   "cell_type": "code",
   "execution_count": 13,
   "metadata": {
    "collapsed": false
   },
   "outputs": [
    {
     "name": "stdout",
     "output_type": "stream",
     "text": [
      "2016-01-25 15:28:53,383 INFO sqlalchemy.engine.base.Engine SELECT count(*) AS count_1 \n",
      "FROM (SELECT \"ObsTBL\".\"ID\" AS \"ObsTBL_ID\", \"StationTBL\".\"ID\" AS \"StationTBL_ID\" \n",
      "FROM \"ObsTBL\" JOIN \"StationTBL\" ON \"ObsTBL\".\"StationTBLID\" = \"StationTBL\".\"ID\" \n",
      "WHERE \"StationTBL\".\"Lat\" > ? AND \"StationTBL\".\"Lat\" < ? AND \"StationTBL\".\"Lon\" > ? AND \"StationTBL\".\"Lon\" < ?) AS anon_1\n"
     ]
    },
    {
     "name": "stderr",
     "output_type": "stream",
     "text": [
      "INFO:sqlalchemy.engine.base.Engine:SELECT count(*) AS count_1 \n",
      "FROM (SELECT \"ObsTBL\".\"ID\" AS \"ObsTBL_ID\", \"StationTBL\".\"ID\" AS \"StationTBL_ID\" \n",
      "FROM \"ObsTBL\" JOIN \"StationTBL\" ON \"ObsTBL\".\"StationTBLID\" = \"StationTBL\".\"ID\" \n",
      "WHERE \"StationTBL\".\"Lat\" > ? AND \"StationTBL\".\"Lat\" < ? AND \"StationTBL\".\"Lon\" > ? AND \"StationTBL\".\"Lon\" < ?) AS anon_1\n"
     ]
    },
    {
     "name": "stdout",
     "output_type": "stream",
     "text": [
      "2016-01-25 15:28:53,384 INFO sqlalchemy.engine.base.Engine (48.2, 48.8, -125.2, -124.2)\n"
     ]
    },
    {
     "name": "stderr",
     "output_type": "stream",
     "text": [
      "INFO:sqlalchemy.engine.base.Engine:(48.2, 48.8, -125.2, -124.2)\n"
     ]
    },
    {
     "name": "stdout",
     "output_type": "stream",
     "text": [
      "2771\n"
     ]
    }
   ],
   "source": [
    "qJDFLoc=session.query(Obs.ID, Station.ID).filter(\n",
    "    and_(\n",
    "        Station.Lat > 48.2,\n",
    "        Station.Lat < 48.8,\n",
    "        Station.Lon > -125.2,\n",
    "        Station.Lon < -124.2\n",
    "        )).join(Station, Obs.StationTBLID==Station.ID)\n",
    "print(qJDFLoc.count())"
   ]
  },
  {
   "cell_type": "raw",
   "metadata": {},
   "source": [
    "class JDFLocs(Base):\n",
    "        __table__=Table('JDFLocsTBL', Base.metadata,\n",
    "                    Column('ObsID', Integer, primary_key=True),\n",
    "                    Column('StationID', Integer, ForeignKey('StationTBL.ID')))\n",
    "\n",
    "Base.metadata.create_all(engine)"
   ]
  },
  {
   "cell_type": "raw",
   "metadata": {},
   "source": [
    "connection = engine.connect()\n",
    "connection.execute(\" INSERT INTO JDFLocsTBL (ObsID, StationID) \\\n",
    "                    SELECT ObsTBL.ID, ObsTBL.StationTBLID \\\n",
    "                    FROM ObsTBL JOIN StationTBL ON ObsTBL.StationTBLID=StationTBL.ID \\\n",
    "                    WHERE StationTBL.Lat BETWEEN 48.2 AND  48.8 \\\n",
    "                    AND StationTBL.Lon BETWEEN -125.2 AND -124.2;\")\n",
    "connection.close()\n"
   ]
  },
  {
   "cell_type": "code",
   "execution_count": 14,
   "metadata": {
    "collapsed": false
   },
   "outputs": [
    {
     "name": "stdout",
     "output_type": "stream",
     "text": [
      "2016-01-25 15:29:01,827 INFO sqlalchemy.engine.base.Engine SELECT count(*) AS count_1 \n",
      "FROM (SELECT \"JDFLocsTBL\".\"ObsID\" AS \"JDFLocsTBL_ObsID\", \"JDFLocsTBL\".\"StationID\" AS \"JDFLocsTBL_StationID\" \n",
      "FROM \"JDFLocsTBL\") AS anon_1\n"
     ]
    },
    {
     "name": "stderr",
     "output_type": "stream",
     "text": [
      "INFO:sqlalchemy.engine.base.Engine:SELECT count(*) AS count_1 \n",
      "FROM (SELECT \"JDFLocsTBL\".\"ObsID\" AS \"JDFLocsTBL_ObsID\", \"JDFLocsTBL\".\"StationID\" AS \"JDFLocsTBL_StationID\" \n",
      "FROM \"JDFLocsTBL\") AS anon_1\n"
     ]
    },
    {
     "name": "stdout",
     "output_type": "stream",
     "text": [
      "2016-01-25 15:29:01,828 INFO sqlalchemy.engine.base.Engine ()\n"
     ]
    },
    {
     "name": "stderr",
     "output_type": "stream",
     "text": [
      "INFO:sqlalchemy.engine.base.Engine:()\n"
     ]
    },
    {
     "name": "stdout",
     "output_type": "stream",
     "text": [
      "2771\n"
     ]
    }
   ],
   "source": [
    "test=session.query(JDFLocs).count()\n",
    "print(test)"
   ]
  },
  {
   "cell_type": "code",
   "execution_count": 18,
   "metadata": {
    "collapsed": false
   },
   "outputs": [
    {
     "name": "stdout",
     "output_type": "stream",
     "text": [
      "2016-01-25 15:31:16,516 INFO sqlalchemy.engine.base.Engine SELECT count(*) AS count_1 \n",
      "FROM (SELECT \"JDFLocsTBL\".\"ObsID\" AS \"JDFLocsTBL_ObsID\", \"StationTBL\".\"Lat\" AS \"StationTBL_Lat\", \"StationTBL\".\"Lon\" AS \"StationTBL_Lon\", \"ObsTBL\".\"Depth\" AS \"ObsTBL_Depth\", \"ObsTBL\".\"Pressure\" AS \"ObsTBL_Pressure\", CASE WHEN (\"ObsTBL\".\"Temperature\" IS NOT NULL) THEN \"ObsTBL\".\"Temperature\" ELSE CASE WHEN (\"ObsTBL\".\"Temperature_Primary\" IS NOT NULL) THEN \"ObsTBL\".\"Temperature_Primary\" ELSE CASE WHEN (\"ObsTBL\".\"Temperature_Secondary\" IS NOT NULL) THEN \"ObsTBL\".\"Temperature_Secondary\" ELSE \"ObsTBL\".\"Temperature_Reversing\" END END END AS anon_2, CASE WHEN (\"ObsTBL\".\"Salinity_Bottle\" IS NOT NULL) THEN \"ObsTBL\".\"Salinity_Bottle\" ELSE CASE WHEN (\"ObsTBL\".\"Salinity_T0_C0\" IS NOT NULL) THEN \"ObsTBL\".\"Salinity_T0_C0\" ELSE CASE WHEN (\"ObsTBL\".\"Salinity_T1_C1\" IS NOT NULL) THEN \"ObsTBL\".\"Salinity_T1_C1\" ELSE CASE WHEN (\"ObsTBL\".\"Salinity\" IS NOT NULL) THEN \"ObsTBL\".\"Salinity\" ELSE CASE WHEN (\"ObsTBL\".\"Salinity__Unknown\" IS NOT NULL) THEN \"ObsTBL\".\"Salinity__Unknown\" ELSE \"ObsTBL\".\"Salinity__Pre1978\" END END END END END AS anon_3, CASE WHEN (\"ObsTBL\".\"Nitrate_plus_Nitrite\" IS NOT NULL) THEN \"ObsTBL\".\"Nitrate_plus_Nitrite\" ELSE \"ObsTBL\".\"Nitrate\" END AS anon_4, CASE WHEN (CASE WHEN (\"ObsTBL\".\"Oxygen\" IS NOT NULL) THEN \"ObsTBL\".\"Oxygen_units\" ELSE \"ObsTBL\".\"Oxygen_Dissolved_units\" END = ? OR CASE WHEN (\"ObsTBL\".\"Oxygen\" IS NOT NULL) THEN \"ObsTBL\".\"Oxygen_units\" ELSE \"ObsTBL\".\"Oxygen_Dissolved_units\" END = ?) THEN CASE WHEN (\"ObsTBL\".\"Oxygen\" IS NOT NULL) THEN \"ObsTBL\".\"Oxygen\" ELSE \"ObsTBL\".\"Oxygen_Dissolved\" END ELSE CASE WHEN (CASE WHEN (\"ObsTBL\".\"Oxygen\" IS NOT NULL) THEN \"ObsTBL\".\"Oxygen_units\" ELSE \"ObsTBL\".\"Oxygen_Dissolved_units\" END = ?) THEN ? * CASE WHEN (\"ObsTBL\".\"Oxygen\" IS NOT NULL) THEN \"ObsTBL\".\"Oxygen\" ELSE \"ObsTBL\".\"Oxygen_Dissolved\" END END END AS anon_5 \n",
      "FROM \"JDFLocsTBL\" JOIN \"ObsTBL\" ON \"JDFLocsTBL\".\"ObsID\" = \"ObsTBL\".\"ID\" JOIN \"StationTBL\" ON \"ObsTBL\".\"StationTBLID\" = \"StationTBL\".\"ID\" \n",
      "WHERE \"ObsTBL\".\"Depth\" > ? AND CASE WHEN (\"ObsTBL\".\"Temperature\" IS NOT NULL) THEN \"ObsTBL\".\"Temperature\" ELSE CASE WHEN (\"ObsTBL\".\"Temperature_Primary\" IS NOT NULL) THEN \"ObsTBL\".\"Temperature_Primary\" ELSE CASE WHEN (\"ObsTBL\".\"Temperature_Secondary\" IS NOT NULL) THEN \"ObsTBL\".\"Temperature_Secondary\" ELSE \"ObsTBL\".\"Temperature_Reversing\" END END END IS NOT NULL AND CASE WHEN (\"ObsTBL\".\"Salinity_Bottle\" IS NOT NULL) THEN \"ObsTBL\".\"Salinity_Bottle\" ELSE CASE WHEN (\"ObsTBL\".\"Salinity_T0_C0\" IS NOT NULL) THEN \"ObsTBL\".\"Salinity_T0_C0\" ELSE CASE WHEN (\"ObsTBL\".\"Salinity_T1_C1\" IS NOT NULL) THEN \"ObsTBL\".\"Salinity_T1_C1\" ELSE CASE WHEN (\"ObsTBL\".\"Salinity\" IS NOT NULL) THEN \"ObsTBL\".\"Salinity\" ELSE CASE WHEN (\"ObsTBL\".\"Salinity__Unknown\" IS NOT NULL) THEN \"ObsTBL\".\"Salinity__Unknown\" ELSE \"ObsTBL\".\"Salinity__Pre1978\" END END END END END IS NOT NULL AND CASE WHEN (\"ObsTBL\".\"Nitrate_plus_Nitrite\" IS NOT NULL) THEN \"ObsTBL\".\"Nitrate_plus_Nitrite\" ELSE \"ObsTBL\".\"Nitrate\" END IS NOT NULL AND CASE WHEN (CASE WHEN (\"ObsTBL\".\"Oxygen\" IS NOT NULL) THEN \"ObsTBL\".\"Oxygen_units\" ELSE \"ObsTBL\".\"Oxygen_Dissolved_units\" END = ? OR CASE WHEN (\"ObsTBL\".\"Oxygen\" IS NOT NULL) THEN \"ObsTBL\".\"Oxygen_units\" ELSE \"ObsTBL\".\"Oxygen_Dissolved_units\" END = ?) THEN CASE WHEN (\"ObsTBL\".\"Oxygen\" IS NOT NULL) THEN \"ObsTBL\".\"Oxygen\" ELSE \"ObsTBL\".\"Oxygen_Dissolved\" END ELSE CASE WHEN (CASE WHEN (\"ObsTBL\".\"Oxygen\" IS NOT NULL) THEN \"ObsTBL\".\"Oxygen_units\" ELSE \"ObsTBL\".\"Oxygen_Dissolved_units\" END = ?) THEN ? * CASE WHEN (\"ObsTBL\".\"Oxygen\" IS NOT NULL) THEN \"ObsTBL\".\"Oxygen\" ELSE \"ObsTBL\".\"Oxygen_Dissolved\" END END END IS NOT NULL) AS anon_1\n"
     ]
    },
    {
     "name": "stderr",
     "output_type": "stream",
     "text": [
      "INFO:sqlalchemy.engine.base.Engine:SELECT count(*) AS count_1 \n",
      "FROM (SELECT \"JDFLocsTBL\".\"ObsID\" AS \"JDFLocsTBL_ObsID\", \"StationTBL\".\"Lat\" AS \"StationTBL_Lat\", \"StationTBL\".\"Lon\" AS \"StationTBL_Lon\", \"ObsTBL\".\"Depth\" AS \"ObsTBL_Depth\", \"ObsTBL\".\"Pressure\" AS \"ObsTBL_Pressure\", CASE WHEN (\"ObsTBL\".\"Temperature\" IS NOT NULL) THEN \"ObsTBL\".\"Temperature\" ELSE CASE WHEN (\"ObsTBL\".\"Temperature_Primary\" IS NOT NULL) THEN \"ObsTBL\".\"Temperature_Primary\" ELSE CASE WHEN (\"ObsTBL\".\"Temperature_Secondary\" IS NOT NULL) THEN \"ObsTBL\".\"Temperature_Secondary\" ELSE \"ObsTBL\".\"Temperature_Reversing\" END END END AS anon_2, CASE WHEN (\"ObsTBL\".\"Salinity_Bottle\" IS NOT NULL) THEN \"ObsTBL\".\"Salinity_Bottle\" ELSE CASE WHEN (\"ObsTBL\".\"Salinity_T0_C0\" IS NOT NULL) THEN \"ObsTBL\".\"Salinity_T0_C0\" ELSE CASE WHEN (\"ObsTBL\".\"Salinity_T1_C1\" IS NOT NULL) THEN \"ObsTBL\".\"Salinity_T1_C1\" ELSE CASE WHEN (\"ObsTBL\".\"Salinity\" IS NOT NULL) THEN \"ObsTBL\".\"Salinity\" ELSE CASE WHEN (\"ObsTBL\".\"Salinity__Unknown\" IS NOT NULL) THEN \"ObsTBL\".\"Salinity__Unknown\" ELSE \"ObsTBL\".\"Salinity__Pre1978\" END END END END END AS anon_3, CASE WHEN (\"ObsTBL\".\"Nitrate_plus_Nitrite\" IS NOT NULL) THEN \"ObsTBL\".\"Nitrate_plus_Nitrite\" ELSE \"ObsTBL\".\"Nitrate\" END AS anon_4, CASE WHEN (CASE WHEN (\"ObsTBL\".\"Oxygen\" IS NOT NULL) THEN \"ObsTBL\".\"Oxygen_units\" ELSE \"ObsTBL\".\"Oxygen_Dissolved_units\" END = ? OR CASE WHEN (\"ObsTBL\".\"Oxygen\" IS NOT NULL) THEN \"ObsTBL\".\"Oxygen_units\" ELSE \"ObsTBL\".\"Oxygen_Dissolved_units\" END = ?) THEN CASE WHEN (\"ObsTBL\".\"Oxygen\" IS NOT NULL) THEN \"ObsTBL\".\"Oxygen\" ELSE \"ObsTBL\".\"Oxygen_Dissolved\" END ELSE CASE WHEN (CASE WHEN (\"ObsTBL\".\"Oxygen\" IS NOT NULL) THEN \"ObsTBL\".\"Oxygen_units\" ELSE \"ObsTBL\".\"Oxygen_Dissolved_units\" END = ?) THEN ? * CASE WHEN (\"ObsTBL\".\"Oxygen\" IS NOT NULL) THEN \"ObsTBL\".\"Oxygen\" ELSE \"ObsTBL\".\"Oxygen_Dissolved\" END END END AS anon_5 \n",
      "FROM \"JDFLocsTBL\" JOIN \"ObsTBL\" ON \"JDFLocsTBL\".\"ObsID\" = \"ObsTBL\".\"ID\" JOIN \"StationTBL\" ON \"ObsTBL\".\"StationTBLID\" = \"StationTBL\".\"ID\" \n",
      "WHERE \"ObsTBL\".\"Depth\" > ? AND CASE WHEN (\"ObsTBL\".\"Temperature\" IS NOT NULL) THEN \"ObsTBL\".\"Temperature\" ELSE CASE WHEN (\"ObsTBL\".\"Temperature_Primary\" IS NOT NULL) THEN \"ObsTBL\".\"Temperature_Primary\" ELSE CASE WHEN (\"ObsTBL\".\"Temperature_Secondary\" IS NOT NULL) THEN \"ObsTBL\".\"Temperature_Secondary\" ELSE \"ObsTBL\".\"Temperature_Reversing\" END END END IS NOT NULL AND CASE WHEN (\"ObsTBL\".\"Salinity_Bottle\" IS NOT NULL) THEN \"ObsTBL\".\"Salinity_Bottle\" ELSE CASE WHEN (\"ObsTBL\".\"Salinity_T0_C0\" IS NOT NULL) THEN \"ObsTBL\".\"Salinity_T0_C0\" ELSE CASE WHEN (\"ObsTBL\".\"Salinity_T1_C1\" IS NOT NULL) THEN \"ObsTBL\".\"Salinity_T1_C1\" ELSE CASE WHEN (\"ObsTBL\".\"Salinity\" IS NOT NULL) THEN \"ObsTBL\".\"Salinity\" ELSE CASE WHEN (\"ObsTBL\".\"Salinity__Unknown\" IS NOT NULL) THEN \"ObsTBL\".\"Salinity__Unknown\" ELSE \"ObsTBL\".\"Salinity__Pre1978\" END END END END END IS NOT NULL AND CASE WHEN (\"ObsTBL\".\"Nitrate_plus_Nitrite\" IS NOT NULL) THEN \"ObsTBL\".\"Nitrate_plus_Nitrite\" ELSE \"ObsTBL\".\"Nitrate\" END IS NOT NULL AND CASE WHEN (CASE WHEN (\"ObsTBL\".\"Oxygen\" IS NOT NULL) THEN \"ObsTBL\".\"Oxygen_units\" ELSE \"ObsTBL\".\"Oxygen_Dissolved_units\" END = ? OR CASE WHEN (\"ObsTBL\".\"Oxygen\" IS NOT NULL) THEN \"ObsTBL\".\"Oxygen_units\" ELSE \"ObsTBL\".\"Oxygen_Dissolved_units\" END = ?) THEN CASE WHEN (\"ObsTBL\".\"Oxygen\" IS NOT NULL) THEN \"ObsTBL\".\"Oxygen\" ELSE \"ObsTBL\".\"Oxygen_Dissolved\" END ELSE CASE WHEN (CASE WHEN (\"ObsTBL\".\"Oxygen\" IS NOT NULL) THEN \"ObsTBL\".\"Oxygen_units\" ELSE \"ObsTBL\".\"Oxygen_Dissolved_units\" END = ?) THEN ? * CASE WHEN (\"ObsTBL\".\"Oxygen\" IS NOT NULL) THEN \"ObsTBL\".\"Oxygen\" ELSE \"ObsTBL\".\"Oxygen_Dissolved\" END END END IS NOT NULL) AS anon_1\n"
     ]
    },
    {
     "name": "stdout",
     "output_type": "stream",
     "text": [
      "2016-01-25 15:31:16,517 INFO sqlalchemy.engine.base.Engine ('mL/L', 'ml/l', 'mg/l', 0.6997624851553221, 50, 'mL/L', 'ml/l', 'mg/l', 0.6997624851553221)\n"
     ]
    },
    {
     "name": "stderr",
     "output_type": "stream",
     "text": [
      "INFO:sqlalchemy.engine.base.Engine:('mL/L', 'ml/l', 'mg/l', 0.6997624851553221, 50, 'mL/L', 'ml/l', 'mg/l', 0.6997624851553221)\n"
     ]
    },
    {
     "name": "stdout",
     "output_type": "stream",
     "text": [
      "112\n"
     ]
    }
   ],
   "source": [
    "qdata=session.query(JDFLocs.ObsID, Station.Lat, Station.Lon, Obs.Depth, Obs.Pressure, Tem, Sal, NO, \n",
    "            Oxy_mLL).join(Obs, JDFLocs.ObsID==Obs.ID).join(Station, Obs.StationTBLID==Station.ID).filter(and_(\n",
    "                        Obs.Depth>50,\n",
    "                        Tem!=None, \n",
    "                        Sal!=None,\n",
    "                        NO!=None,\n",
    "                        Oxy_mLL!=None)\n",
    "                        )\n",
    "print(qdata.count())"
   ]
  },
  {
   "cell_type": "code",
   "execution_count": 43,
   "metadata": {
    "collapsed": false
   },
   "outputs": [
    {
     "name": "stdout",
     "output_type": "stream",
     "text": [
      "2016-01-25 15:42:52,805 INFO sqlalchemy.engine.base.Engine SELECT \"JDFLocsTBL\".\"ObsID\" AS \"JDFLocsTBL_ObsID\", \"StationTBL\".\"Lat\" AS \"StationTBL_Lat\", \"StationTBL\".\"Lon\" AS \"StationTBL_Lon\", \"ObsTBL\".\"Depth\" AS \"ObsTBL_Depth\", \"ObsTBL\".\"Pressure\" AS \"ObsTBL_Pressure\", CASE WHEN (\"ObsTBL\".\"Temperature\" IS NOT NULL) THEN \"ObsTBL\".\"Temperature\" ELSE CASE WHEN (\"ObsTBL\".\"Temperature_Primary\" IS NOT NULL) THEN \"ObsTBL\".\"Temperature_Primary\" ELSE CASE WHEN (\"ObsTBL\".\"Temperature_Secondary\" IS NOT NULL) THEN \"ObsTBL\".\"Temperature_Secondary\" ELSE \"ObsTBL\".\"Temperature_Reversing\" END END END AS anon_1, CASE WHEN (\"ObsTBL\".\"Salinity_Bottle\" IS NOT NULL) THEN \"ObsTBL\".\"Salinity_Bottle\" ELSE CASE WHEN (\"ObsTBL\".\"Salinity_T0_C0\" IS NOT NULL) THEN \"ObsTBL\".\"Salinity_T0_C0\" ELSE CASE WHEN (\"ObsTBL\".\"Salinity_T1_C1\" IS NOT NULL) THEN \"ObsTBL\".\"Salinity_T1_C1\" ELSE CASE WHEN (\"ObsTBL\".\"Salinity\" IS NOT NULL) THEN \"ObsTBL\".\"Salinity\" ELSE CASE WHEN (\"ObsTBL\".\"Salinity__Unknown\" IS NOT NULL) THEN \"ObsTBL\".\"Salinity__Unknown\" ELSE \"ObsTBL\".\"Salinity__Pre1978\" END END END END END AS anon_2, CASE WHEN (\"ObsTBL\".\"Nitrate_plus_Nitrite\" IS NOT NULL) THEN \"ObsTBL\".\"Nitrate_plus_Nitrite\" ELSE \"ObsTBL\".\"Nitrate\" END AS anon_3, CASE WHEN (CASE WHEN (\"ObsTBL\".\"Oxygen\" IS NOT NULL) THEN \"ObsTBL\".\"Oxygen_units\" ELSE \"ObsTBL\".\"Oxygen_Dissolved_units\" END = ? OR CASE WHEN (\"ObsTBL\".\"Oxygen\" IS NOT NULL) THEN \"ObsTBL\".\"Oxygen_units\" ELSE \"ObsTBL\".\"Oxygen_Dissolved_units\" END = ?) THEN CASE WHEN (\"ObsTBL\".\"Oxygen\" IS NOT NULL) THEN \"ObsTBL\".\"Oxygen\" ELSE \"ObsTBL\".\"Oxygen_Dissolved\" END ELSE CASE WHEN (CASE WHEN (\"ObsTBL\".\"Oxygen\" IS NOT NULL) THEN \"ObsTBL\".\"Oxygen_units\" ELSE \"ObsTBL\".\"Oxygen_Dissolved_units\" END = ?) THEN ? * CASE WHEN (\"ObsTBL\".\"Oxygen\" IS NOT NULL) THEN \"ObsTBL\".\"Oxygen\" ELSE \"ObsTBL\".\"Oxygen_Dissolved\" END END END AS anon_4 \n",
      "FROM \"JDFLocsTBL\" JOIN \"ObsTBL\" ON \"JDFLocsTBL\".\"ObsID\" = \"ObsTBL\".\"ID\" JOIN \"StationTBL\" ON \"ObsTBL\".\"StationTBLID\" = \"StationTBL\".\"ID\" \n",
      "WHERE \"ObsTBL\".\"Depth\" > ? AND CASE WHEN (\"ObsTBL\".\"Temperature\" IS NOT NULL) THEN \"ObsTBL\".\"Temperature\" ELSE CASE WHEN (\"ObsTBL\".\"Temperature_Primary\" IS NOT NULL) THEN \"ObsTBL\".\"Temperature_Primary\" ELSE CASE WHEN (\"ObsTBL\".\"Temperature_Secondary\" IS NOT NULL) THEN \"ObsTBL\".\"Temperature_Secondary\" ELSE \"ObsTBL\".\"Temperature_Reversing\" END END END IS NOT NULL AND CASE WHEN (\"ObsTBL\".\"Salinity_Bottle\" IS NOT NULL) THEN \"ObsTBL\".\"Salinity_Bottle\" ELSE CASE WHEN (\"ObsTBL\".\"Salinity_T0_C0\" IS NOT NULL) THEN \"ObsTBL\".\"Salinity_T0_C0\" ELSE CASE WHEN (\"ObsTBL\".\"Salinity_T1_C1\" IS NOT NULL) THEN \"ObsTBL\".\"Salinity_T1_C1\" ELSE CASE WHEN (\"ObsTBL\".\"Salinity\" IS NOT NULL) THEN \"ObsTBL\".\"Salinity\" ELSE CASE WHEN (\"ObsTBL\".\"Salinity__Unknown\" IS NOT NULL) THEN \"ObsTBL\".\"Salinity__Unknown\" ELSE \"ObsTBL\".\"Salinity__Pre1978\" END END END END END IS NOT NULL AND CASE WHEN (\"ObsTBL\".\"Nitrate_plus_Nitrite\" IS NOT NULL) THEN \"ObsTBL\".\"Nitrate_plus_Nitrite\" ELSE \"ObsTBL\".\"Nitrate\" END IS NOT NULL AND CASE WHEN (CASE WHEN (\"ObsTBL\".\"Oxygen\" IS NOT NULL) THEN \"ObsTBL\".\"Oxygen_units\" ELSE \"ObsTBL\".\"Oxygen_Dissolved_units\" END = ? OR CASE WHEN (\"ObsTBL\".\"Oxygen\" IS NOT NULL) THEN \"ObsTBL\".\"Oxygen_units\" ELSE \"ObsTBL\".\"Oxygen_Dissolved_units\" END = ?) THEN CASE WHEN (\"ObsTBL\".\"Oxygen\" IS NOT NULL) THEN \"ObsTBL\".\"Oxygen\" ELSE \"ObsTBL\".\"Oxygen_Dissolved\" END ELSE CASE WHEN (CASE WHEN (\"ObsTBL\".\"Oxygen\" IS NOT NULL) THEN \"ObsTBL\".\"Oxygen_units\" ELSE \"ObsTBL\".\"Oxygen_Dissolved_units\" END = ?) THEN ? * CASE WHEN (\"ObsTBL\".\"Oxygen\" IS NOT NULL) THEN \"ObsTBL\".\"Oxygen\" ELSE \"ObsTBL\".\"Oxygen_Dissolved\" END END END IS NOT NULL\n"
     ]
    },
    {
     "name": "stderr",
     "output_type": "stream",
     "text": [
      "INFO:sqlalchemy.engine.base.Engine:SELECT \"JDFLocsTBL\".\"ObsID\" AS \"JDFLocsTBL_ObsID\", \"StationTBL\".\"Lat\" AS \"StationTBL_Lat\", \"StationTBL\".\"Lon\" AS \"StationTBL_Lon\", \"ObsTBL\".\"Depth\" AS \"ObsTBL_Depth\", \"ObsTBL\".\"Pressure\" AS \"ObsTBL_Pressure\", CASE WHEN (\"ObsTBL\".\"Temperature\" IS NOT NULL) THEN \"ObsTBL\".\"Temperature\" ELSE CASE WHEN (\"ObsTBL\".\"Temperature_Primary\" IS NOT NULL) THEN \"ObsTBL\".\"Temperature_Primary\" ELSE CASE WHEN (\"ObsTBL\".\"Temperature_Secondary\" IS NOT NULL) THEN \"ObsTBL\".\"Temperature_Secondary\" ELSE \"ObsTBL\".\"Temperature_Reversing\" END END END AS anon_1, CASE WHEN (\"ObsTBL\".\"Salinity_Bottle\" IS NOT NULL) THEN \"ObsTBL\".\"Salinity_Bottle\" ELSE CASE WHEN (\"ObsTBL\".\"Salinity_T0_C0\" IS NOT NULL) THEN \"ObsTBL\".\"Salinity_T0_C0\" ELSE CASE WHEN (\"ObsTBL\".\"Salinity_T1_C1\" IS NOT NULL) THEN \"ObsTBL\".\"Salinity_T1_C1\" ELSE CASE WHEN (\"ObsTBL\".\"Salinity\" IS NOT NULL) THEN \"ObsTBL\".\"Salinity\" ELSE CASE WHEN (\"ObsTBL\".\"Salinity__Unknown\" IS NOT NULL) THEN \"ObsTBL\".\"Salinity__Unknown\" ELSE \"ObsTBL\".\"Salinity__Pre1978\" END END END END END AS anon_2, CASE WHEN (\"ObsTBL\".\"Nitrate_plus_Nitrite\" IS NOT NULL) THEN \"ObsTBL\".\"Nitrate_plus_Nitrite\" ELSE \"ObsTBL\".\"Nitrate\" END AS anon_3, CASE WHEN (CASE WHEN (\"ObsTBL\".\"Oxygen\" IS NOT NULL) THEN \"ObsTBL\".\"Oxygen_units\" ELSE \"ObsTBL\".\"Oxygen_Dissolved_units\" END = ? OR CASE WHEN (\"ObsTBL\".\"Oxygen\" IS NOT NULL) THEN \"ObsTBL\".\"Oxygen_units\" ELSE \"ObsTBL\".\"Oxygen_Dissolved_units\" END = ?) THEN CASE WHEN (\"ObsTBL\".\"Oxygen\" IS NOT NULL) THEN \"ObsTBL\".\"Oxygen\" ELSE \"ObsTBL\".\"Oxygen_Dissolved\" END ELSE CASE WHEN (CASE WHEN (\"ObsTBL\".\"Oxygen\" IS NOT NULL) THEN \"ObsTBL\".\"Oxygen_units\" ELSE \"ObsTBL\".\"Oxygen_Dissolved_units\" END = ?) THEN ? * CASE WHEN (\"ObsTBL\".\"Oxygen\" IS NOT NULL) THEN \"ObsTBL\".\"Oxygen\" ELSE \"ObsTBL\".\"Oxygen_Dissolved\" END END END AS anon_4 \n",
      "FROM \"JDFLocsTBL\" JOIN \"ObsTBL\" ON \"JDFLocsTBL\".\"ObsID\" = \"ObsTBL\".\"ID\" JOIN \"StationTBL\" ON \"ObsTBL\".\"StationTBLID\" = \"StationTBL\".\"ID\" \n",
      "WHERE \"ObsTBL\".\"Depth\" > ? AND CASE WHEN (\"ObsTBL\".\"Temperature\" IS NOT NULL) THEN \"ObsTBL\".\"Temperature\" ELSE CASE WHEN (\"ObsTBL\".\"Temperature_Primary\" IS NOT NULL) THEN \"ObsTBL\".\"Temperature_Primary\" ELSE CASE WHEN (\"ObsTBL\".\"Temperature_Secondary\" IS NOT NULL) THEN \"ObsTBL\".\"Temperature_Secondary\" ELSE \"ObsTBL\".\"Temperature_Reversing\" END END END IS NOT NULL AND CASE WHEN (\"ObsTBL\".\"Salinity_Bottle\" IS NOT NULL) THEN \"ObsTBL\".\"Salinity_Bottle\" ELSE CASE WHEN (\"ObsTBL\".\"Salinity_T0_C0\" IS NOT NULL) THEN \"ObsTBL\".\"Salinity_T0_C0\" ELSE CASE WHEN (\"ObsTBL\".\"Salinity_T1_C1\" IS NOT NULL) THEN \"ObsTBL\".\"Salinity_T1_C1\" ELSE CASE WHEN (\"ObsTBL\".\"Salinity\" IS NOT NULL) THEN \"ObsTBL\".\"Salinity\" ELSE CASE WHEN (\"ObsTBL\".\"Salinity__Unknown\" IS NOT NULL) THEN \"ObsTBL\".\"Salinity__Unknown\" ELSE \"ObsTBL\".\"Salinity__Pre1978\" END END END END END IS NOT NULL AND CASE WHEN (\"ObsTBL\".\"Nitrate_plus_Nitrite\" IS NOT NULL) THEN \"ObsTBL\".\"Nitrate_plus_Nitrite\" ELSE \"ObsTBL\".\"Nitrate\" END IS NOT NULL AND CASE WHEN (CASE WHEN (\"ObsTBL\".\"Oxygen\" IS NOT NULL) THEN \"ObsTBL\".\"Oxygen_units\" ELSE \"ObsTBL\".\"Oxygen_Dissolved_units\" END = ? OR CASE WHEN (\"ObsTBL\".\"Oxygen\" IS NOT NULL) THEN \"ObsTBL\".\"Oxygen_units\" ELSE \"ObsTBL\".\"Oxygen_Dissolved_units\" END = ?) THEN CASE WHEN (\"ObsTBL\".\"Oxygen\" IS NOT NULL) THEN \"ObsTBL\".\"Oxygen\" ELSE \"ObsTBL\".\"Oxygen_Dissolved\" END ELSE CASE WHEN (CASE WHEN (\"ObsTBL\".\"Oxygen\" IS NOT NULL) THEN \"ObsTBL\".\"Oxygen_units\" ELSE \"ObsTBL\".\"Oxygen_Dissolved_units\" END = ?) THEN ? * CASE WHEN (\"ObsTBL\".\"Oxygen\" IS NOT NULL) THEN \"ObsTBL\".\"Oxygen\" ELSE \"ObsTBL\".\"Oxygen_Dissolved\" END END END IS NOT NULL\n"
     ]
    },
    {
     "name": "stdout",
     "output_type": "stream",
     "text": [
      "2016-01-25 15:42:52,806 INFO sqlalchemy.engine.base.Engine ('mL/L', 'ml/l', 'mg/l', 0.6997624851553221, 50, 'mL/L', 'ml/l', 'mg/l', 0.6997624851553221)\n"
     ]
    },
    {
     "name": "stderr",
     "output_type": "stream",
     "text": [
      "INFO:sqlalchemy.engine.base.Engine:('mL/L', 'ml/l', 'mg/l', 0.6997624851553221, 50, 'mL/L', 'ml/l', 'mg/l', 0.6997624851553221)\n"
     ]
    }
   ],
   "source": [
    "Lat=[]\n",
    "Lon=[]\n",
    "z=[]\n",
    "P=[]\n",
    "T=[]\n",
    "S=[]\n",
    "N=[]\n",
    "O=[]\n",
    "for row in qdata.all():\n",
    "    Lat.append(row[1])\n",
    "    Lon.append(row[2])\n",
    "    z.append(row[3])\n",
    "    P.append(row[4])\n",
    "    T.append(float(row[5]))\n",
    "    S.append(float(row[6]))\n",
    "    N.append(float(row[7]))\n",
    "    O.append(float(row[8]))"
   ]
  },
  {
   "cell_type": "code",
   "execution_count": 44,
   "metadata": {
    "collapsed": false
   },
   "outputs": [
    {
     "name": "stdout",
     "output_type": "stream",
     "text": [
      "8.58\n"
     ]
    }
   ],
   "source": [
    "print(T[0])"
   ]
  },
  {
   "cell_type": "code",
   "execution_count": 45,
   "metadata": {
    "collapsed": true
   },
   "outputs": [],
   "source": [
    "N=np.array(N)\n",
    "S=np.array(S)\n",
    "T=np.array(T)\n",
    "O=np.array(O)"
   ]
  },
  {
   "cell_type": "code",
   "execution_count": 46,
   "metadata": {
    "collapsed": false
   },
   "outputs": [
    {
     "data": {
      "text/plain": [
       "<matplotlib.text.Text at 0x7fc87b2f3630>"
      ]
     },
     "execution_count": 46,
     "metadata": {},
     "output_type": "execute_result"
    },
    {
     "data": {
      "image/png": "[encoded data removed]",
      "text/plain": [
       "<matplotlib.figure.Figure at 0x7fc87b2e5358>"
      ]
     },
     "metadata": {},
     "output_type": "display_data"
    }
   ],
   "source": [
    "plt.plot(S,N,'.')\n",
    "plt.xlabel('S')\n",
    "plt.ylabel('N')"
   ]
  },
  {
   "cell_type": "code",
   "execution_count": 47,
   "metadata": {
    "collapsed": false
   },
   "outputs": [
    {
     "data": {
      "text/plain": [
       "<matplotlib.text.Text at 0x7fc87b2eacf8>"
      ]
     },
     "execution_count": 47,
     "metadata": {},
     "output_type": "execute_result"
    },
    {
     "data": {
      "image/png": "[encoded data removed]",
      "text/plain": [
       "<matplotlib.figure.Figure at 0x7fc87b248eb8>"
      ]
     },
     "metadata": {},
     "output_type": "display_data"
    }
   ],
   "source": [
    "plt.plot(T,N,'.')\n",
    "plt.xlabel('T')\n",
    "plt.ylabel('N')"
   ]
  },
  {
   "cell_type": "code",
   "execution_count": 48,
   "metadata": {
    "collapsed": false
   },
   "outputs": [
    {
     "data": {
      "text/plain": [
       "<matplotlib.text.Text at 0x7fc87b1c9978>"
      ]
     },
     "execution_count": 48,
     "metadata": {},
     "output_type": "execute_result"
    },
    {
     "data": {
      "image/png": "[encoded data removed]",
      "text/plain": [
       "<matplotlib.figure.Figure at 0x7fc87b236860>"
      ]
     },
     "metadata": {},
     "output_type": "display_data"
    }
   ],
   "source": [
    "plt.plot(O,N,'.')\n",
    "plt.xlabel('O')\n",
    "plt.ylabel('N')"
   ]
  },
  {
   "cell_type": "code",
   "execution_count": 49,
   "metadata": {
    "collapsed": false
   },
   "outputs": [
    {
     "name": "stdout",
     "output_type": "stream",
     "text": [
      "-2.95719502188 -0.795545976565 -3.24896843409 87.3229702373\n"
     ]
    }
   ],
   "source": [
    "a=np.vstack([T,S,O,np.ones(len(T))]).T\n",
    "m = np.linalg.lstsq(a,N)[0]\n",
    "mT, mS, mO, mC = m\n",
    "print(mT, mS, mO, mC)"
   ]
  },
  {
   "cell_type": "code",
   "execution_count": 50,
   "metadata": {
    "collapsed": false
   },
   "outputs": [
    {
     "ename": "AttributeError",
     "evalue": "Neither 'BinaryExpression' object nor 'Comparator' object has an attribute 'T'",
     "output_type": "error",
     "traceback": [
      "\u001b[1;31m---------------------------------------------------------------------------\u001b[0m",
      "\u001b[1;31mAttributeError\u001b[0m                            Traceback (most recent call last)",
      "\u001b[1;32m/home/eolson/anaconda3/envs/teos10/lib/python3.4/site-packages/sqlalchemy/sql/elements.py\u001b[0m in \u001b[0;36m__getattr__\u001b[1;34m(self, key)\u001b[0m\n\u001b[0;32m    728\u001b[0m         \u001b[1;32mtry\u001b[0m\u001b[1;33m:\u001b[0m\u001b[1;33m\u001b[0m\u001b[0m\n\u001b[1;32m--> 729\u001b[1;33m             \u001b[1;32mreturn\u001b[0m \u001b[0mgetattr\u001b[0m\u001b[1;33m(\u001b[0m\u001b[0mself\u001b[0m\u001b[1;33m.\u001b[0m\u001b[0mcomparator\u001b[0m\u001b[1;33m,\u001b[0m \u001b[0mkey\u001b[0m\u001b[1;33m)\u001b[0m\u001b[1;33m\u001b[0m\u001b[0m\n\u001b[0m\u001b[0;32m    730\u001b[0m         \u001b[1;32mexcept\u001b[0m \u001b[0mAttributeError\u001b[0m\u001b[1;33m:\u001b[0m\u001b[1;33m\u001b[0m\u001b[0m\n",
      "\u001b[1;31mAttributeError\u001b[0m: 'Comparator' object has no attribute 'T'",
      "\nDuring handling of the above exception, another exception occurred:\n",
      "\u001b[1;31mAttributeError\u001b[0m                            Traceback (most recent call last)",
      "\u001b[1;32m<ipython-input-50-e0a176c11664>\u001b[0m in \u001b[0;36m<module>\u001b[1;34m()\u001b[0m\n\u001b[0;32m      2\u001b[0m \u001b[0mplt\u001b[0m\u001b[1;33m.\u001b[0m\u001b[0mxlabel\u001b[0m\u001b[1;33m(\u001b[0m\u001b[1;34m'NO'\u001b[0m\u001b[1;33m)\u001b[0m\u001b[1;33m\u001b[0m\u001b[0m\n\u001b[0;32m      3\u001b[0m \u001b[0mplt\u001b[0m\u001b[1;33m.\u001b[0m\u001b[0mylabel\u001b[0m\u001b[1;33m(\u001b[0m\u001b[1;34m'NO, linear model'\u001b[0m\u001b[1;33m)\u001b[0m\u001b[1;33m\u001b[0m\u001b[0m\n\u001b[1;32m----> 4\u001b[1;33m \u001b[0mSSE\u001b[0m\u001b[1;33m=\u001b[0m\u001b[0mnp\u001b[0m\u001b[1;33m.\u001b[0m\u001b[0mdot\u001b[0m\u001b[1;33m(\u001b[0m\u001b[1;33m(\u001b[0m\u001b[0mNO\u001b[0m\u001b[1;33m-\u001b[0m\u001b[0mnp\u001b[0m\u001b[1;33m.\u001b[0m\u001b[0mdot\u001b[0m\u001b[1;33m(\u001b[0m\u001b[0ma\u001b[0m\u001b[1;33m,\u001b[0m\u001b[0mm\u001b[0m\u001b[1;33m)\u001b[0m\u001b[1;33m)\u001b[0m\u001b[1;33m,\u001b[0m\u001b[1;33m(\u001b[0m\u001b[0mNO\u001b[0m\u001b[1;33m-\u001b[0m\u001b[0mnp\u001b[0m\u001b[1;33m.\u001b[0m\u001b[0mdot\u001b[0m\u001b[1;33m(\u001b[0m\u001b[0ma\u001b[0m\u001b[1;33m,\u001b[0m\u001b[0mm\u001b[0m\u001b[1;33m)\u001b[0m\u001b[1;33m)\u001b[0m\u001b[1;33m.\u001b[0m\u001b[0mT\u001b[0m\u001b[1;33m)\u001b[0m\u001b[1;33m\u001b[0m\u001b[0m\n\u001b[0m\u001b[0;32m      5\u001b[0m \u001b[0mplt\u001b[0m\u001b[1;33m.\u001b[0m\u001b[0mtitle\u001b[0m\u001b[1;33m(\u001b[0m\u001b[1;34m'Linear Model: NO(T,S)'\u001b[0m\u001b[1;33m)\u001b[0m\u001b[1;33m\u001b[0m\u001b[0m\n\u001b[0;32m      6\u001b[0m \u001b[0mprint\u001b[0m\u001b[1;33m(\u001b[0m\u001b[1;34m'SSE='\u001b[0m\u001b[1;33m,\u001b[0m \u001b[0mSSE\u001b[0m\u001b[1;33m)\u001b[0m\u001b[1;33m\u001b[0m\u001b[0m\n",
      "\u001b[1;32m/home/eolson/anaconda3/envs/teos10/lib/python3.4/site-packages/sqlalchemy/sql/elements.py\u001b[0m in \u001b[0;36m__getattr__\u001b[1;34m(self, key)\u001b[0m\n\u001b[0;32m    733\u001b[0m                     \u001b[0mtype\u001b[0m\u001b[1;33m(\u001b[0m\u001b[0mself\u001b[0m\u001b[1;33m)\u001b[0m\u001b[1;33m.\u001b[0m\u001b[0m__name__\u001b[0m\u001b[1;33m,\u001b[0m\u001b[1;33m\u001b[0m\u001b[0m\n\u001b[0;32m    734\u001b[0m                     \u001b[0mtype\u001b[0m\u001b[1;33m(\u001b[0m\u001b[0mself\u001b[0m\u001b[1;33m.\u001b[0m\u001b[0mcomparator\u001b[0m\u001b[1;33m)\u001b[0m\u001b[1;33m.\u001b[0m\u001b[0m__name__\u001b[0m\u001b[1;33m,\u001b[0m\u001b[1;33m\u001b[0m\u001b[0m\n\u001b[1;32m--> 735\u001b[1;33m                     key)\n\u001b[0m\u001b[0;32m    736\u001b[0m             )\n\u001b[0;32m    737\u001b[0m \u001b[1;33m\u001b[0m\u001b[0m\n",
      "\u001b[1;31mAttributeError\u001b[0m: Neither 'BinaryExpression' object nor 'Comparator' object has an attribute 'T'"
     ]
    },
    {
     "data": {
      "image/png": "[encoded data removed]",
      "text/plain": [
       "<matplotlib.figure.Figure at 0x7fc87b1c94e0>"
      ]
     },
     "metadata": {},
     "output_type": "display_data"
    }
   ],
   "source": [
    "plt.plot(N,np.dot(a,m),'.')\n",
    "plt.xlabel('NO')\n",
    "plt.ylabel('NO, linear model')\n",
    "SSE=np.dot((NO-np.dot(a,m)),(NO-np.dot(a,m)).T)\n",
    "plt.title('Linear Model: NO(T,S)')\n",
    "print('SSE=', SSE)\n",
    "plt.plot(np.array([0,40]), np.array([0, 40]),'r-')"
   ]
  },
  {
   "cell_type": "code",
   "execution_count": null,
   "metadata": {
    "collapsed": false
   },
   "outputs": [],
   "source": [
    "session.close()\n",
    "engine.dispose()"
   ]
  },
  {
   "cell_type": "code",
   "execution_count": null,
   "metadata": {
    "collapsed": true
   },
   "outputs": [],
   "source": []
  }
 ],
 "metadata": {
  "kernelspec": {
   "display_name": "Python 3",
   "language": "python",
   "name": "python3"
  },
  "language_info": {
   "codemirror_mode": {
    "name": "ipython",
    "version": 3
   },
   "file_extension": ".py",
   "mimetype": "text/x-python",
   "name": "python",
   "nbconvert_exporter": "python",
   "pygments_lexer": "ipython3",
   "version": "3.4.4"
  }
 },
 "nbformat": 4,
 "nbformat_minor": 0
}
