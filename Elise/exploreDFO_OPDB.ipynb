{
 "cells": [
  {
   "cell_type": "code",
   "execution_count": 1,
   "metadata": {
    "collapsed": false
   },
   "outputs": [],
   "source": [
    "# imports\n",
    "import sqlalchemy\n",
    "from sqlalchemy import create_engine, Column, String, Integer, Numeric, MetaData, Table, type_coerce, ForeignKey, case\n",
    "from sqlalchemy.orm import mapper, create_session, relationship, aliased, Session\n",
    "from sqlalchemy.ext.declarative import declarative_base\n",
    "import csv\n",
    "from sqlalchemy import case\n",
    "import numpy as np\n",
    "from sqlalchemy.ext.automap import automap_base\n",
    "import matplotlib.pyplot as plt\n",
    "import sqlalchemy.types as types\n",
    "import numbers\n",
    "from sqlalchemy.sql import and_, or_, not_, func\n",
    "from sqlalchemy.sql import select\n",
    "import os\n",
    "import glob\n",
    "import re\n",
    "from os.path import isfile\n",
    "import gsw\n",
    "\n",
    "import createDBfromDFO_OPDB\n",
    "%matplotlib inline"
   ]
  },
  {
   "cell_type": "code",
   "execution_count": 2,
   "metadata": {
    "collapsed": true
   },
   "outputs": [],
   "source": [
    "# definitions\n",
    "basepath='/ocean/eolson/MEOPAR/obs/'\n",
    "basedir=basepath + 'DFOOPDB/'\n",
    "dbname='DFO_OcProfDB'"
   ]
  },
  {
   "cell_type": "code",
   "execution_count": 3,
   "metadata": {
    "collapsed": false
   },
   "outputs": [
    {
     "name": "stdout",
     "output_type": "stream",
     "text": [
      "file exists\n"
     ]
    }
   ],
   "source": [
    "# if PRISM.sqlite does not exist, run script to create it\n",
    "if not isfile(basedir + dbname + '.sqlite'):\n",
    "    import createDBfromDFO_OPDB\n",
    "    createDBfromDFO_OPDB.main()\n",
    "    import processDFO_OPDB\n",
    "    processDFO_OPDB.main()\n",
    "    print('done')\n",
    "else:\n",
    "    print('file exists')"
   ]
  },
  {
   "cell_type": "code",
   "execution_count": 4,
   "metadata": {
    "collapsed": false
   },
   "outputs": [
    {
     "name": "stdout",
     "output_type": "stream",
     "text": [
      "2016-01-28 16:52:57,638 INFO sqlalchemy.engine.base.Engine SELECT CAST('test plain returns' AS VARCHAR(60)) AS anon_1\n"
     ]
    },
    {
     "name": "stderr",
     "output_type": "stream",
     "text": [
      "INFO:sqlalchemy.engine.base.Engine:SELECT CAST('test plain returns' AS VARCHAR(60)) AS anon_1\n"
     ]
    },
    {
     "name": "stdout",
     "output_type": "stream",
     "text": [
      "2016-01-28 16:52:57,639 INFO sqlalchemy.engine.base.Engine ()\n"
     ]
    },
    {
     "name": "stderr",
     "output_type": "stream",
     "text": [
      "INFO:sqlalchemy.engine.base.Engine:()\n"
     ]
    },
    {
     "name": "stdout",
     "output_type": "stream",
     "text": [
      "2016-01-28 16:52:57,639 INFO sqlalchemy.engine.base.Engine SELECT CAST('test unicode returns' AS VARCHAR(60)) AS anon_1\n"
     ]
    },
    {
     "name": "stderr",
     "output_type": "stream",
     "text": [
      "INFO:sqlalchemy.engine.base.Engine:SELECT CAST('test unicode returns' AS VARCHAR(60)) AS anon_1\n"
     ]
    },
    {
     "name": "stdout",
     "output_type": "stream",
     "text": [
      "2016-01-28 16:52:57,639 INFO sqlalchemy.engine.base.Engine ()\n"
     ]
    },
    {
     "name": "stderr",
     "output_type": "stream",
     "text": [
      "INFO:sqlalchemy.engine.base.Engine:()\n"
     ]
    },
    {
     "name": "stdout",
     "output_type": "stream",
     "text": [
      "2016-01-28 16:52:57,640 INFO sqlalchemy.engine.base.Engine SELECT name FROM sqlite_master WHERE type='table' ORDER BY name\n"
     ]
    },
    {
     "name": "stderr",
     "output_type": "stream",
     "text": [
      "INFO:sqlalchemy.engine.base.Engine:SELECT name FROM sqlite_master WHERE type='table' ORDER BY name\n"
     ]
    },
    {
     "name": "stdout",
     "output_type": "stream",
     "text": [
      "2016-01-28 16:52:57,641 INFO sqlalchemy.engine.base.Engine ()\n"
     ]
    },
    {
     "name": "stderr",
     "output_type": "stream",
     "text": [
      "INFO:sqlalchemy.engine.base.Engine:()\n"
     ]
    },
    {
     "name": "stdout",
     "output_type": "stream",
     "text": [
      "2016-01-28 16:52:57,648 INFO sqlalchemy.engine.base.Engine PRAGMA table_info(\"CalcsTBL\")\n"
     ]
    },
    {
     "name": "stderr",
     "output_type": "stream",
     "text": [
      "INFO:sqlalchemy.engine.base.Engine:PRAGMA table_info(\"CalcsTBL\")\n"
     ]
    },
    {
     "name": "stdout",
     "output_type": "stream",
     "text": [
      "2016-01-28 16:52:57,648 INFO sqlalchemy.engine.base.Engine ()\n"
     ]
    },
    {
     "name": "stderr",
     "output_type": "stream",
     "text": [
      "INFO:sqlalchemy.engine.base.Engine:()\n"
     ]
    },
    {
     "name": "stdout",
     "output_type": "stream",
     "text": [
      "2016-01-28 16:52:57,652 INFO sqlalchemy.engine.base.Engine PRAGMA foreign_key_list(\"CalcsTBL\")\n"
     ]
    },
    {
     "name": "stderr",
     "output_type": "stream",
     "text": [
      "INFO:sqlalchemy.engine.base.Engine:PRAGMA foreign_key_list(\"CalcsTBL\")\n"
     ]
    },
    {
     "name": "stdout",
     "output_type": "stream",
     "text": [
      "2016-01-28 16:52:57,652 INFO sqlalchemy.engine.base.Engine ()\n"
     ]
    },
    {
     "name": "stderr",
     "output_type": "stream",
     "text": [
      "INFO:sqlalchemy.engine.base.Engine:()\n"
     ]
    },
    {
     "name": "stdout",
     "output_type": "stream",
     "text": [
      "2016-01-28 16:52:57,655 INFO sqlalchemy.engine.base.Engine SELECT sql FROM  (SELECT * FROM sqlite_master UNION ALL   SELECT * FROM sqlite_temp_master) WHERE name = 'CalcsTBL' AND type = 'table'\n"
     ]
    },
    {
     "name": "stderr",
     "output_type": "stream",
     "text": [
      "INFO:sqlalchemy.engine.base.Engine:SELECT sql FROM  (SELECT * FROM sqlite_master UNION ALL   SELECT * FROM sqlite_temp_master) WHERE name = 'CalcsTBL' AND type = 'table'\n"
     ]
    },
    {
     "name": "stdout",
     "output_type": "stream",
     "text": [
      "2016-01-28 16:52:57,655 INFO sqlalchemy.engine.base.Engine ()\n"
     ]
    },
    {
     "name": "stderr",
     "output_type": "stream",
     "text": [
      "INFO:sqlalchemy.engine.base.Engine:()\n"
     ]
    },
    {
     "name": "stdout",
     "output_type": "stream",
     "text": [
      "2016-01-28 16:52:57,660 INFO sqlalchemy.engine.base.Engine PRAGMA table_info(\"StationTBL\")\n"
     ]
    },
    {
     "name": "stderr",
     "output_type": "stream",
     "text": [
      "INFO:sqlalchemy.engine.base.Engine:PRAGMA table_info(\"StationTBL\")\n"
     ]
    },
    {
     "name": "stdout",
     "output_type": "stream",
     "text": [
      "2016-01-28 16:52:57,660 INFO sqlalchemy.engine.base.Engine ()\n"
     ]
    },
    {
     "name": "stderr",
     "output_type": "stream",
     "text": [
      "INFO:sqlalchemy.engine.base.Engine:()\n"
     ]
    },
    {
     "name": "stdout",
     "output_type": "stream",
     "text": [
      "2016-01-28 16:52:57,665 INFO sqlalchemy.engine.base.Engine PRAGMA foreign_key_list(\"StationTBL\")\n"
     ]
    },
    {
     "name": "stderr",
     "output_type": "stream",
     "text": [
      "INFO:sqlalchemy.engine.base.Engine:PRAGMA foreign_key_list(\"StationTBL\")\n"
     ]
    },
    {
     "name": "stdout",
     "output_type": "stream",
     "text": [
      "2016-01-28 16:52:57,665 INFO sqlalchemy.engine.base.Engine ()\n"
     ]
    },
    {
     "name": "stderr",
     "output_type": "stream",
     "text": [
      "INFO:sqlalchemy.engine.base.Engine:()\n"
     ]
    },
    {
     "name": "stdout",
     "output_type": "stream",
     "text": [
      "2016-01-28 16:52:57,666 INFO sqlalchemy.engine.base.Engine SELECT sql FROM  (SELECT * FROM sqlite_master UNION ALL   SELECT * FROM sqlite_temp_master) WHERE name = 'StationTBL' AND type = 'table'\n"
     ]
    },
    {
     "name": "stderr",
     "output_type": "stream",
     "text": [
      "INFO:sqlalchemy.engine.base.Engine:SELECT sql FROM  (SELECT * FROM sqlite_master UNION ALL   SELECT * FROM sqlite_temp_master) WHERE name = 'StationTBL' AND type = 'table'\n"
     ]
    },
    {
     "name": "stdout",
     "output_type": "stream",
     "text": [
      "2016-01-28 16:52:57,666 INFO sqlalchemy.engine.base.Engine ()\n"
     ]
    },
    {
     "name": "stderr",
     "output_type": "stream",
     "text": [
      "INFO:sqlalchemy.engine.base.Engine:()\n"
     ]
    },
    {
     "name": "stdout",
     "output_type": "stream",
     "text": [
      "2016-01-28 16:52:57,669 INFO sqlalchemy.engine.base.Engine PRAGMA index_list(\"StationTBL\")\n"
     ]
    },
    {
     "name": "stderr",
     "output_type": "stream",
     "text": [
      "INFO:sqlalchemy.engine.base.Engine:PRAGMA index_list(\"StationTBL\")\n"
     ]
    },
    {
     "name": "stdout",
     "output_type": "stream",
     "text": [
      "2016-01-28 16:52:57,669 INFO sqlalchemy.engine.base.Engine ()\n"
     ]
    },
    {
     "name": "stderr",
     "output_type": "stream",
     "text": [
      "INFO:sqlalchemy.engine.base.Engine:()\n"
     ]
    },
    {
     "name": "stdout",
     "output_type": "stream",
     "text": [
      "2016-01-28 16:52:57,672 INFO sqlalchemy.engine.base.Engine PRAGMA index_list(\"StationTBL\")\n"
     ]
    },
    {
     "name": "stderr",
     "output_type": "stream",
     "text": [
      "INFO:sqlalchemy.engine.base.Engine:PRAGMA index_list(\"StationTBL\")\n"
     ]
    },
    {
     "name": "stdout",
     "output_type": "stream",
     "text": [
      "2016-01-28 16:52:57,672 INFO sqlalchemy.engine.base.Engine ()\n"
     ]
    },
    {
     "name": "stderr",
     "output_type": "stream",
     "text": [
      "INFO:sqlalchemy.engine.base.Engine:()\n"
     ]
    },
    {
     "name": "stdout",
     "output_type": "stream",
     "text": [
      "2016-01-28 16:52:57,675 INFO sqlalchemy.engine.base.Engine SELECT sql FROM  (SELECT * FROM sqlite_master UNION ALL   SELECT * FROM sqlite_temp_master) WHERE name = 'StationTBL' AND type = 'table'\n"
     ]
    },
    {
     "name": "stderr",
     "output_type": "stream",
     "text": [
      "INFO:sqlalchemy.engine.base.Engine:SELECT sql FROM  (SELECT * FROM sqlite_master UNION ALL   SELECT * FROM sqlite_temp_master) WHERE name = 'StationTBL' AND type = 'table'\n"
     ]
    },
    {
     "name": "stdout",
     "output_type": "stream",
     "text": [
      "2016-01-28 16:52:57,676 INFO sqlalchemy.engine.base.Engine ()\n"
     ]
    },
    {
     "name": "stderr",
     "output_type": "stream",
     "text": [
      "INFO:sqlalchemy.engine.base.Engine:()\n"
     ]
    },
    {
     "name": "stdout",
     "output_type": "stream",
     "text": [
      "2016-01-28 16:52:57,681 INFO sqlalchemy.engine.base.Engine PRAGMA index_list(\"CalcsTBL\")\n"
     ]
    },
    {
     "name": "stderr",
     "output_type": "stream",
     "text": [
      "INFO:sqlalchemy.engine.base.Engine:PRAGMA index_list(\"CalcsTBL\")\n"
     ]
    },
    {
     "name": "stdout",
     "output_type": "stream",
     "text": [
      "2016-01-28 16:52:57,681 INFO sqlalchemy.engine.base.Engine ()\n"
     ]
    },
    {
     "name": "stderr",
     "output_type": "stream",
     "text": [
      "INFO:sqlalchemy.engine.base.Engine:()\n"
     ]
    },
    {
     "name": "stdout",
     "output_type": "stream",
     "text": [
      "2016-01-28 16:52:57,685 INFO sqlalchemy.engine.base.Engine PRAGMA index_list(\"CalcsTBL\")\n"
     ]
    },
    {
     "name": "stderr",
     "output_type": "stream",
     "text": [
      "INFO:sqlalchemy.engine.base.Engine:PRAGMA index_list(\"CalcsTBL\")\n"
     ]
    },
    {
     "name": "stdout",
     "output_type": "stream",
     "text": [
      "2016-01-28 16:52:57,685 INFO sqlalchemy.engine.base.Engine ()\n"
     ]
    },
    {
     "name": "stderr",
     "output_type": "stream",
     "text": [
      "INFO:sqlalchemy.engine.base.Engine:()\n"
     ]
    },
    {
     "name": "stdout",
     "output_type": "stream",
     "text": [
      "2016-01-28 16:52:57,688 INFO sqlalchemy.engine.base.Engine SELECT sql FROM  (SELECT * FROM sqlite_master UNION ALL   SELECT * FROM sqlite_temp_master) WHERE name = 'CalcsTBL' AND type = 'table'\n"
     ]
    },
    {
     "name": "stderr",
     "output_type": "stream",
     "text": [
      "INFO:sqlalchemy.engine.base.Engine:SELECT sql FROM  (SELECT * FROM sqlite_master UNION ALL   SELECT * FROM sqlite_temp_master) WHERE name = 'CalcsTBL' AND type = 'table'\n"
     ]
    },
    {
     "name": "stdout",
     "output_type": "stream",
     "text": [
      "2016-01-28 16:52:57,688 INFO sqlalchemy.engine.base.Engine ()\n"
     ]
    },
    {
     "name": "stderr",
     "output_type": "stream",
     "text": [
      "INFO:sqlalchemy.engine.base.Engine:()\n"
     ]
    },
    {
     "name": "stdout",
     "output_type": "stream",
     "text": [
      "2016-01-28 16:52:57,691 INFO sqlalchemy.engine.base.Engine PRAGMA table_info(\"JDFLocsTBL\")\n"
     ]
    },
    {
     "name": "stderr",
     "output_type": "stream",
     "text": [
      "INFO:sqlalchemy.engine.base.Engine:PRAGMA table_info(\"JDFLocsTBL\")\n"
     ]
    },
    {
     "name": "stdout",
     "output_type": "stream",
     "text": [
      "2016-01-28 16:52:57,691 INFO sqlalchemy.engine.base.Engine ()\n"
     ]
    },
    {
     "name": "stderr",
     "output_type": "stream",
     "text": [
      "INFO:sqlalchemy.engine.base.Engine:()\n"
     ]
    },
    {
     "name": "stdout",
     "output_type": "stream",
     "text": [
      "2016-01-28 16:52:57,694 INFO sqlalchemy.engine.base.Engine PRAGMA foreign_key_list(\"JDFLocsTBL\")\n"
     ]
    },
    {
     "name": "stderr",
     "output_type": "stream",
     "text": [
      "INFO:sqlalchemy.engine.base.Engine:PRAGMA foreign_key_list(\"JDFLocsTBL\")\n"
     ]
    },
    {
     "name": "stdout",
     "output_type": "stream",
     "text": [
      "2016-01-28 16:52:57,695 INFO sqlalchemy.engine.base.Engine ()\n"
     ]
    },
    {
     "name": "stderr",
     "output_type": "stream",
     "text": [
      "INFO:sqlalchemy.engine.base.Engine:()\n"
     ]
    },
    {
     "name": "stdout",
     "output_type": "stream",
     "text": [
      "2016-01-28 16:52:57,698 INFO sqlalchemy.engine.base.Engine SELECT sql FROM  (SELECT * FROM sqlite_master UNION ALL   SELECT * FROM sqlite_temp_master) WHERE name = 'JDFLocsTBL' AND type = 'table'\n"
     ]
    },
    {
     "name": "stderr",
     "output_type": "stream",
     "text": [
      "INFO:sqlalchemy.engine.base.Engine:SELECT sql FROM  (SELECT * FROM sqlite_master UNION ALL   SELECT * FROM sqlite_temp_master) WHERE name = 'JDFLocsTBL' AND type = 'table'\n"
     ]
    },
    {
     "name": "stdout",
     "output_type": "stream",
     "text": [
      "2016-01-28 16:52:57,698 INFO sqlalchemy.engine.base.Engine ()\n"
     ]
    },
    {
     "name": "stderr",
     "output_type": "stream",
     "text": [
      "INFO:sqlalchemy.engine.base.Engine:()\n"
     ]
    },
    {
     "name": "stdout",
     "output_type": "stream",
     "text": [
      "2016-01-28 16:52:57,701 INFO sqlalchemy.engine.base.Engine PRAGMA index_list(\"JDFLocsTBL\")\n"
     ]
    },
    {
     "name": "stderr",
     "output_type": "stream",
     "text": [
      "INFO:sqlalchemy.engine.base.Engine:PRAGMA index_list(\"JDFLocsTBL\")\n"
     ]
    },
    {
     "name": "stdout",
     "output_type": "stream",
     "text": [
      "2016-01-28 16:52:57,702 INFO sqlalchemy.engine.base.Engine ()\n"
     ]
    },
    {
     "name": "stderr",
     "output_type": "stream",
     "text": [
      "INFO:sqlalchemy.engine.base.Engine:()\n"
     ]
    },
    {
     "name": "stdout",
     "output_type": "stream",
     "text": [
      "2016-01-28 16:52:57,704 INFO sqlalchemy.engine.base.Engine PRAGMA index_list(\"JDFLocsTBL\")\n"
     ]
    },
    {
     "name": "stderr",
     "output_type": "stream",
     "text": [
      "INFO:sqlalchemy.engine.base.Engine:PRAGMA index_list(\"JDFLocsTBL\")\n"
     ]
    },
    {
     "name": "stdout",
     "output_type": "stream",
     "text": [
      "2016-01-28 16:52:57,705 INFO sqlalchemy.engine.base.Engine ()\n"
     ]
    },
    {
     "name": "stderr",
     "output_type": "stream",
     "text": [
      "INFO:sqlalchemy.engine.base.Engine:()\n"
     ]
    },
    {
     "name": "stdout",
     "output_type": "stream",
     "text": [
      "2016-01-28 16:52:57,707 INFO sqlalchemy.engine.base.Engine SELECT sql FROM  (SELECT * FROM sqlite_master UNION ALL   SELECT * FROM sqlite_temp_master) WHERE name = 'JDFLocsTBL' AND type = 'table'\n"
     ]
    },
    {
     "name": "stderr",
     "output_type": "stream",
     "text": [
      "INFO:sqlalchemy.engine.base.Engine:SELECT sql FROM  (SELECT * FROM sqlite_master UNION ALL   SELECT * FROM sqlite_temp_master) WHERE name = 'JDFLocsTBL' AND type = 'table'\n"
     ]
    },
    {
     "name": "stdout",
     "output_type": "stream",
     "text": [
      "2016-01-28 16:52:57,708 INFO sqlalchemy.engine.base.Engine ()\n"
     ]
    },
    {
     "name": "stderr",
     "output_type": "stream",
     "text": [
      "INFO:sqlalchemy.engine.base.Engine:()\n"
     ]
    },
    {
     "name": "stdout",
     "output_type": "stream",
     "text": [
      "2016-01-28 16:52:57,711 INFO sqlalchemy.engine.base.Engine PRAGMA table_info(\"ObsTBL\")\n"
     ]
    },
    {
     "name": "stderr",
     "output_type": "stream",
     "text": [
      "INFO:sqlalchemy.engine.base.Engine:PRAGMA table_info(\"ObsTBL\")\n"
     ]
    },
    {
     "name": "stdout",
     "output_type": "stream",
     "text": [
      "2016-01-28 16:52:57,712 INFO sqlalchemy.engine.base.Engine ()\n"
     ]
    },
    {
     "name": "stderr",
     "output_type": "stream",
     "text": [
      "INFO:sqlalchemy.engine.base.Engine:()\n"
     ]
    },
    {
     "name": "stdout",
     "output_type": "stream",
     "text": [
      "2016-01-28 16:52:57,719 INFO sqlalchemy.engine.base.Engine PRAGMA foreign_key_list(\"ObsTBL\")\n"
     ]
    },
    {
     "name": "stderr",
     "output_type": "stream",
     "text": [
      "INFO:sqlalchemy.engine.base.Engine:PRAGMA foreign_key_list(\"ObsTBL\")\n"
     ]
    },
    {
     "name": "stdout",
     "output_type": "stream",
     "text": [
      "2016-01-28 16:52:57,720 INFO sqlalchemy.engine.base.Engine ()\n"
     ]
    },
    {
     "name": "stderr",
     "output_type": "stream",
     "text": [
      "INFO:sqlalchemy.engine.base.Engine:()\n"
     ]
    },
    {
     "name": "stdout",
     "output_type": "stream",
     "text": [
      "2016-01-28 16:52:57,723 INFO sqlalchemy.engine.base.Engine SELECT sql FROM  (SELECT * FROM sqlite_master UNION ALL   SELECT * FROM sqlite_temp_master) WHERE name = 'ObsTBL' AND type = 'table'\n"
     ]
    },
    {
     "name": "stderr",
     "output_type": "stream",
     "text": [
      "INFO:sqlalchemy.engine.base.Engine:SELECT sql FROM  (SELECT * FROM sqlite_master UNION ALL   SELECT * FROM sqlite_temp_master) WHERE name = 'ObsTBL' AND type = 'table'\n"
     ]
    },
    {
     "name": "stdout",
     "output_type": "stream",
     "text": [
      "2016-01-28 16:52:57,723 INFO sqlalchemy.engine.base.Engine ()\n"
     ]
    },
    {
     "name": "stderr",
     "output_type": "stream",
     "text": [
      "INFO:sqlalchemy.engine.base.Engine:()\n"
     ]
    },
    {
     "name": "stdout",
     "output_type": "stream",
     "text": [
      "2016-01-28 16:52:57,728 INFO sqlalchemy.engine.base.Engine PRAGMA index_list(\"ObsTBL\")\n"
     ]
    },
    {
     "name": "stderr",
     "output_type": "stream",
     "text": [
      "INFO:sqlalchemy.engine.base.Engine:PRAGMA index_list(\"ObsTBL\")\n"
     ]
    },
    {
     "name": "stdout",
     "output_type": "stream",
     "text": [
      "2016-01-28 16:52:57,729 INFO sqlalchemy.engine.base.Engine ()\n"
     ]
    },
    {
     "name": "stderr",
     "output_type": "stream",
     "text": [
      "INFO:sqlalchemy.engine.base.Engine:()\n"
     ]
    },
    {
     "name": "stdout",
     "output_type": "stream",
     "text": [
      "2016-01-28 16:52:57,732 INFO sqlalchemy.engine.base.Engine PRAGMA index_list(\"ObsTBL\")\n"
     ]
    },
    {
     "name": "stderr",
     "output_type": "stream",
     "text": [
      "INFO:sqlalchemy.engine.base.Engine:PRAGMA index_list(\"ObsTBL\")\n"
     ]
    },
    {
     "name": "stdout",
     "output_type": "stream",
     "text": [
      "2016-01-28 16:52:57,733 INFO sqlalchemy.engine.base.Engine ()\n"
     ]
    },
    {
     "name": "stderr",
     "output_type": "stream",
     "text": [
      "INFO:sqlalchemy.engine.base.Engine:()\n"
     ]
    },
    {
     "name": "stdout",
     "output_type": "stream",
     "text": [
      "2016-01-28 16:52:57,736 INFO sqlalchemy.engine.base.Engine SELECT sql FROM  (SELECT * FROM sqlite_master UNION ALL   SELECT * FROM sqlite_temp_master) WHERE name = 'ObsTBL' AND type = 'table'\n"
     ]
    },
    {
     "name": "stderr",
     "output_type": "stream",
     "text": [
      "INFO:sqlalchemy.engine.base.Engine:SELECT sql FROM  (SELECT * FROM sqlite_master UNION ALL   SELECT * FROM sqlite_temp_master) WHERE name = 'ObsTBL' AND type = 'table'\n"
     ]
    },
    {
     "name": "stdout",
     "output_type": "stream",
     "text": [
      "2016-01-28 16:52:57,736 INFO sqlalchemy.engine.base.Engine ()\n"
     ]
    },
    {
     "name": "stderr",
     "output_type": "stream",
     "text": [
      "INFO:sqlalchemy.engine.base.Engine:()\n"
     ]
    },
    {
     "name": "stdout",
     "output_type": "stream",
     "text": [
      "2016-01-28 16:52:57,741 INFO sqlalchemy.engine.base.Engine PRAGMA table_info(\"StationTBL\")\n"
     ]
    },
    {
     "name": "stderr",
     "output_type": "stream",
     "text": [
      "INFO:sqlalchemy.engine.base.Engine:PRAGMA table_info(\"StationTBL\")\n"
     ]
    },
    {
     "name": "stdout",
     "output_type": "stream",
     "text": [
      "2016-01-28 16:52:57,741 INFO sqlalchemy.engine.base.Engine ()\n"
     ]
    },
    {
     "name": "stderr",
     "output_type": "stream",
     "text": [
      "INFO:sqlalchemy.engine.base.Engine:()\n"
     ]
    },
    {
     "name": "stdout",
     "output_type": "stream",
     "text": [
      "2016-01-28 16:52:57,744 INFO sqlalchemy.engine.base.Engine PRAGMA foreign_key_list(\"StationTBL\")\n"
     ]
    },
    {
     "name": "stderr",
     "output_type": "stream",
     "text": [
      "INFO:sqlalchemy.engine.base.Engine:PRAGMA foreign_key_list(\"StationTBL\")\n"
     ]
    },
    {
     "name": "stdout",
     "output_type": "stream",
     "text": [
      "2016-01-28 16:52:57,745 INFO sqlalchemy.engine.base.Engine ()\n"
     ]
    },
    {
     "name": "stderr",
     "output_type": "stream",
     "text": [
      "INFO:sqlalchemy.engine.base.Engine:()\n"
     ]
    },
    {
     "name": "stdout",
     "output_type": "stream",
     "text": [
      "2016-01-28 16:52:57,745 INFO sqlalchemy.engine.base.Engine SELECT sql FROM  (SELECT * FROM sqlite_master UNION ALL   SELECT * FROM sqlite_temp_master) WHERE name = 'StationTBL' AND type = 'table'\n"
     ]
    },
    {
     "name": "stderr",
     "output_type": "stream",
     "text": [
      "INFO:sqlalchemy.engine.base.Engine:SELECT sql FROM  (SELECT * FROM sqlite_master UNION ALL   SELECT * FROM sqlite_temp_master) WHERE name = 'StationTBL' AND type = 'table'\n"
     ]
    },
    {
     "name": "stdout",
     "output_type": "stream",
     "text": [
      "2016-01-28 16:52:57,745 INFO sqlalchemy.engine.base.Engine ()\n"
     ]
    },
    {
     "name": "stderr",
     "output_type": "stream",
     "text": [
      "INFO:sqlalchemy.engine.base.Engine:()\n"
     ]
    },
    {
     "name": "stdout",
     "output_type": "stream",
     "text": [
      "2016-01-28 16:52:57,748 INFO sqlalchemy.engine.base.Engine PRAGMA index_list(\"StationTBL\")\n"
     ]
    },
    {
     "name": "stderr",
     "output_type": "stream",
     "text": [
      "INFO:sqlalchemy.engine.base.Engine:PRAGMA index_list(\"StationTBL\")\n"
     ]
    },
    {
     "name": "stdout",
     "output_type": "stream",
     "text": [
      "2016-01-28 16:52:57,749 INFO sqlalchemy.engine.base.Engine ()\n"
     ]
    },
    {
     "name": "stderr",
     "output_type": "stream",
     "text": [
      "INFO:sqlalchemy.engine.base.Engine:()\n"
     ]
    },
    {
     "name": "stdout",
     "output_type": "stream",
     "text": [
      "2016-01-28 16:52:57,752 INFO sqlalchemy.engine.base.Engine PRAGMA index_list(\"StationTBL\")\n"
     ]
    },
    {
     "name": "stderr",
     "output_type": "stream",
     "text": [
      "INFO:sqlalchemy.engine.base.Engine:PRAGMA index_list(\"StationTBL\")\n"
     ]
    },
    {
     "name": "stdout",
     "output_type": "stream",
     "text": [
      "2016-01-28 16:52:57,752 INFO sqlalchemy.engine.base.Engine ()\n"
     ]
    },
    {
     "name": "stderr",
     "output_type": "stream",
     "text": [
      "INFO:sqlalchemy.engine.base.Engine:()\n"
     ]
    },
    {
     "name": "stdout",
     "output_type": "stream",
     "text": [
      "2016-01-28 16:52:57,755 INFO sqlalchemy.engine.base.Engine SELECT sql FROM  (SELECT * FROM sqlite_master UNION ALL   SELECT * FROM sqlite_temp_master) WHERE name = 'StationTBL' AND type = 'table'\n"
     ]
    },
    {
     "name": "stderr",
     "output_type": "stream",
     "text": [
      "INFO:sqlalchemy.engine.base.Engine:SELECT sql FROM  (SELECT * FROM sqlite_master UNION ALL   SELECT * FROM sqlite_temp_master) WHERE name = 'StationTBL' AND type = 'table'\n"
     ]
    },
    {
     "name": "stdout",
     "output_type": "stream",
     "text": [
      "2016-01-28 16:52:57,755 INFO sqlalchemy.engine.base.Engine ()\n"
     ]
    },
    {
     "name": "stderr",
     "output_type": "stream",
     "text": [
      "INFO:sqlalchemy.engine.base.Engine:()\n"
     ]
    }
   ],
   "source": [
    "Base = automap_base()\n",
    "engine = create_engine('sqlite:///' + basedir + dbname + '.sqlite', echo = True)\n",
    "# reflect the tables in salish.sqlite:\n",
    "Base.prepare(engine, reflect=True)\n",
    "# mapped classes have been created"
   ]
  },
  {
   "cell_type": "code",
   "execution_count": 5,
   "metadata": {
    "collapsed": false
   },
   "outputs": [],
   "source": [
    "Station=Base.classes.StationTBL\n",
    "Obs=Base.classes.ObsTBL\n",
    "JDFLocs=Base.classes.JDFLocsTBL\n",
    "Calcs=Base.classes.CalcsTBL\n",
    "session = create_session(bind = engine, autocommit = False, autoflush = True)"
   ]
  },
  {
   "cell_type": "code",
   "execution_count": 6,
   "metadata": {
    "collapsed": false
   },
   "outputs": [],
   "source": [
    "Sal=case([(Obs.Salinity_Bottle!=None, Obs.Salinity_Bottle)], else_=\n",
    "         case([(Obs.Salinity_T0_C0!=None, Obs.Salinity_T0_C0)], else_=\n",
    "         case([(Obs.Salinity_T1_C1!=None, Obs.Salinity_T1_C1)], else_=\n",
    "         case([(Obs.Salinity!=None, Obs.Salinity)], else_=\n",
    "         case([(Obs.Salinity__Unknown!=None, Obs.Salinity__Unknown)], else_=Obs.Salinity__Pre1978)\n",
    "        ))))\n",
    "SalUnits=case([(Obs.Salinity_Bottle!=None, Obs.Salinity_Bottle_units)], else_=\n",
    "         case([(Obs.Salinity_T0_C0!=None, Obs.Salinity_T0_C0_units)], else_=\n",
    "         case([(Obs.Salinity_T1_C1!=None, Obs.Salinity_T1_C1_units)], else_=\n",
    "         case([(Obs.Salinity!=None, Obs.Salinity_units)], else_=\n",
    "         case([(Obs.Salinity__Unknown!=None, Obs.Salinity__Unknown_units)], else_=Obs.Salinity__Pre1978_units)\n",
    "        ))))\n",
    "SalFlag=case([(Obs.Salinity_Bottle!=None, Obs.Flag_Salinity_Bottle)], else_=\n",
    "         case([(Obs.Salinity_T0_C0!=None, Obs.Flag_Salinity)], else_=\n",
    "         case([(Obs.Salinity_T1_C1!=None, Obs.Flag_Salinity)], else_=\n",
    "         case([(Obs.Salinity!=None, Obs.Flag_Salinity)], else_=\n",
    "         case([(Obs.Salinity__Unknown!=None, Obs.Flag_Salinity)], else_=Obs.Quality_Flag_Sali)\n",
    "        ))))\n",
    "SA=case([(Calcs.Salinity_Bottle_SA!=None, Calcs.Salinity_Bottle_SA)], else_=\n",
    "         case([(Calcs.Salinity_T0_C0_SA!=None, Calcs.Salinity_T0_C0_SA)], else_=\n",
    "         case([(Calcs.Salinity_T1_C1_SA!=None, Calcs.Salinity_T1_C1_SA)], else_=\n",
    "         case([(Calcs.Salinity_SA!=None, Calcs.Salinity_SA)], else_=\n",
    "         case([(Calcs.Salinity__Unknown_SA!=None, Calcs.Salinity__Unknown_SA)], else_=Calcs.Salinity__Pre1978_SA)\n",
    "        ))))"
   ]
  },
  {
   "cell_type": "code",
   "execution_count": 7,
   "metadata": {
    "collapsed": true
   },
   "outputs": [],
   "source": [
    "NO=case([(Obs.Nitrate_plus_Nitrite!=None, Obs.Nitrate_plus_Nitrite)], else_=Obs.Nitrate)\n",
    "NOUnits=case([(Obs.Nitrate_plus_Nitrite!=None, Obs.Nitrate_plus_Nitrite_units)], else_=Obs.Nitrate_units)\n",
    "NOFlag=case([(Obs.Nitrate_plus_Nitrite!=None, Obs.Flag_Nitrate_plus_Nitrite)], else_=Obs.Flag_Nitrate)\n",
    "# Obs.Quality_Flag_Nitr does not match any nitrate obs\n",
    "# ISUS not included in this NO; test separately"
   ]
  },
  {
   "cell_type": "code",
   "execution_count": 8,
   "metadata": {
    "collapsed": true
   },
   "outputs": [],
   "source": [
    "Tem=case([(Obs.Temperature!=None, Obs.Temperature)], else_=\n",
    "         case([(Obs.Temperature_Primary!=None, Obs.Temperature_Primary)], else_=\n",
    "         case([(Obs.Temperature_Secondary!=None, Obs.Temperature_Secondary)], else_=Obs.Temperature_Reversing)))\n",
    "TemUnits=case([(Obs.Temperature!=None, Obs.Temperature_units)], else_=\n",
    "         case([(Obs.Temperature_Primary!=None, Obs.Temperature_Primary_units)], else_=\n",
    "         case([(Obs.Temperature_Secondary!=None, Obs.Temperature_Secondary_units)], \n",
    "              else_=Obs.Temperature_Reversing_units)))\n",
    "TemFlag=Obs.Quality_Flag_Temp"
   ]
  },
  {
   "cell_type": "code",
   "execution_count": 9,
   "metadata": {
    "collapsed": false
   },
   "outputs": [],
   "source": [
    "Ox=case([(Calcs.Oxygen_umolL!=None, Calcs.Oxygen_umolL)], else_=Calcs.Oxygen_Dissolved_umolL)\n",
    "OxFlag=case([(Calcs.Oxygen_umolL!=None, Obs.Quality_Flag_Oxyg)], else_=Obs.Flag_Oxygen_Dissolved)"
   ]
  },
  {
   "cell_type": "code",
   "execution_count": 10,
   "metadata": {
    "collapsed": true
   },
   "outputs": [],
   "source": [
    "Press=case([(Obs.Pressure!=None, Obs.Pressure)], else_=Obs.Pressure_Reversing)"
   ]
  },
  {
   "cell_type": "code",
   "execution_count": 30,
   "metadata": {
    "collapsed": false
   },
   "outputs": [
    {
     "name": "stdout",
     "output_type": "stream",
     "text": [
      "2016-01-28 17:19:19,396 INFO sqlalchemy.engine.base.Engine SELECT \"JDFLocsTBL\".\"ObsID\" AS \"JDFLocsTBL_ObsID\", \"ObsTBL\".\"ID\" AS \"ObsTBL_ID\", CASE WHEN (\"CalcsTBL\".\"Salinity_Bottle_SA\" IS NOT NULL) THEN \"CalcsTBL\".\"Salinity_Bottle_SA\" ELSE CASE WHEN (\"CalcsTBL\".\"Salinity_T0_C0_SA\" IS NOT NULL) THEN \"CalcsTBL\".\"Salinity_T0_C0_SA\" ELSE CASE WHEN (\"CalcsTBL\".\"Salinity_T1_C1_SA\" IS NOT NULL) THEN \"CalcsTBL\".\"Salinity_T1_C1_SA\" ELSE CASE WHEN (\"CalcsTBL\".\"Salinity_SA\" IS NOT NULL) THEN \"CalcsTBL\".\"Salinity_SA\" ELSE CASE WHEN (\"CalcsTBL\".\"Salinity__Unknown_SA\" IS NOT NULL) THEN \"CalcsTBL\".\"Salinity__Unknown_SA\" ELSE \"CalcsTBL\".\"Salinity__Pre1978_SA\" END END END END END AS anon_1, CASE WHEN (\"ObsTBL\".\"Temperature\" IS NOT NULL) THEN \"ObsTBL\".\"Temperature\" ELSE CASE WHEN (\"ObsTBL\".\"Temperature_Primary\" IS NOT NULL) THEN \"ObsTBL\".\"Temperature_Primary\" ELSE CASE WHEN (\"ObsTBL\".\"Temperature_Secondary\" IS NOT NULL) THEN \"ObsTBL\".\"Temperature_Secondary\" ELSE \"ObsTBL\".\"Temperature_Reversing\" END END END AS anon_2, CASE WHEN (\"ObsTBL\".\"Pressure\" IS NOT NULL) THEN \"ObsTBL\".\"Pressure\" ELSE \"ObsTBL\".\"Pressure_Reversing\" END AS anon_3 \n",
      "FROM \"ObsTBL\" JOIN \"JDFLocsTBL\" ON \"JDFLocsTBL\".\"ObsID\" = \"ObsTBL\".\"ID\" JOIN \"CalcsTBL\" ON \"CalcsTBL\".\"ObsID\" = \"ObsTBL\".\"ID\" \n",
      "WHERE CASE WHEN (\"CalcsTBL\".\"Salinity_Bottle_SA\" IS NOT NULL) THEN \"CalcsTBL\".\"Salinity_Bottle_SA\" ELSE CASE WHEN (\"CalcsTBL\".\"Salinity_T0_C0_SA\" IS NOT NULL) THEN \"CalcsTBL\".\"Salinity_T0_C0_SA\" ELSE CASE WHEN (\"CalcsTBL\".\"Salinity_T1_C1_SA\" IS NOT NULL) THEN \"CalcsTBL\".\"Salinity_T1_C1_SA\" ELSE CASE WHEN (\"CalcsTBL\".\"Salinity_SA\" IS NOT NULL) THEN \"CalcsTBL\".\"Salinity_SA\" ELSE CASE WHEN (\"CalcsTBL\".\"Salinity__Unknown_SA\" IS NOT NULL) THEN \"CalcsTBL\".\"Salinity__Unknown_SA\" ELSE \"CalcsTBL\".\"Salinity__Pre1978_SA\" END END END END END IS NOT NULL AND CASE WHEN (\"CalcsTBL\".\"Salinity_Bottle_SA\" IS NOT NULL) THEN \"CalcsTBL\".\"Salinity_Bottle_SA\" ELSE CASE WHEN (\"CalcsTBL\".\"Salinity_T0_C0_SA\" IS NOT NULL) THEN \"CalcsTBL\".\"Salinity_T0_C0_SA\" ELSE CASE WHEN (\"CalcsTBL\".\"Salinity_T1_C1_SA\" IS NOT NULL) THEN \"CalcsTBL\".\"Salinity_T1_C1_SA\" ELSE CASE WHEN (\"CalcsTBL\".\"Salinity_SA\" IS NOT NULL) THEN \"CalcsTBL\".\"Salinity_SA\" ELSE CASE WHEN (\"CalcsTBL\".\"Salinity__Unknown_SA\" IS NOT NULL) THEN \"CalcsTBL\".\"Salinity__Unknown_SA\" ELSE \"CalcsTBL\".\"Salinity__Pre1978_SA\" END END END END END > ? AND CASE WHEN (\"CalcsTBL\".\"Salinity_Bottle_SA\" IS NOT NULL) THEN \"CalcsTBL\".\"Salinity_Bottle_SA\" ELSE CASE WHEN (\"CalcsTBL\".\"Salinity_T0_C0_SA\" IS NOT NULL) THEN \"CalcsTBL\".\"Salinity_T0_C0_SA\" ELSE CASE WHEN (\"CalcsTBL\".\"Salinity_T1_C1_SA\" IS NOT NULL) THEN \"CalcsTBL\".\"Salinity_T1_C1_SA\" ELSE CASE WHEN (\"CalcsTBL\".\"Salinity_SA\" IS NOT NULL) THEN \"CalcsTBL\".\"Salinity_SA\" ELSE CASE WHEN (\"CalcsTBL\".\"Salinity__Unknown_SA\" IS NOT NULL) THEN \"CalcsTBL\".\"Salinity__Unknown_SA\" ELSE \"CalcsTBL\".\"Salinity__Pre1978_SA\" END END END END END < ? AND CASE WHEN (\"ObsTBL\".\"Temperature\" IS NOT NULL) THEN \"ObsTBL\".\"Temperature\" ELSE CASE WHEN (\"ObsTBL\".\"Temperature_Primary\" IS NOT NULL) THEN \"ObsTBL\".\"Temperature_Primary\" ELSE CASE WHEN (\"ObsTBL\".\"Temperature_Secondary\" IS NOT NULL) THEN \"ObsTBL\".\"Temperature_Secondary\" ELSE \"ObsTBL\".\"Temperature_Reversing\" END END END IS NOT NULL AND CASE WHEN (\"ObsTBL\".\"Pressure\" IS NOT NULL) THEN \"ObsTBL\".\"Pressure\" ELSE \"ObsTBL\".\"Pressure_Reversing\" END IS NOT NULL\n"
     ]
    },
    {
     "name": "stderr",
     "output_type": "stream",
     "text": [
      "INFO:sqlalchemy.engine.base.Engine:SELECT \"JDFLocsTBL\".\"ObsID\" AS \"JDFLocsTBL_ObsID\", \"ObsTBL\".\"ID\" AS \"ObsTBL_ID\", CASE WHEN (\"CalcsTBL\".\"Salinity_Bottle_SA\" IS NOT NULL) THEN \"CalcsTBL\".\"Salinity_Bottle_SA\" ELSE CASE WHEN (\"CalcsTBL\".\"Salinity_T0_C0_SA\" IS NOT NULL) THEN \"CalcsTBL\".\"Salinity_T0_C0_SA\" ELSE CASE WHEN (\"CalcsTBL\".\"Salinity_T1_C1_SA\" IS NOT NULL) THEN \"CalcsTBL\".\"Salinity_T1_C1_SA\" ELSE CASE WHEN (\"CalcsTBL\".\"Salinity_SA\" IS NOT NULL) THEN \"CalcsTBL\".\"Salinity_SA\" ELSE CASE WHEN (\"CalcsTBL\".\"Salinity__Unknown_SA\" IS NOT NULL) THEN \"CalcsTBL\".\"Salinity__Unknown_SA\" ELSE \"CalcsTBL\".\"Salinity__Pre1978_SA\" END END END END END AS anon_1, CASE WHEN (\"ObsTBL\".\"Temperature\" IS NOT NULL) THEN \"ObsTBL\".\"Temperature\" ELSE CASE WHEN (\"ObsTBL\".\"Temperature_Primary\" IS NOT NULL) THEN \"ObsTBL\".\"Temperature_Primary\" ELSE CASE WHEN (\"ObsTBL\".\"Temperature_Secondary\" IS NOT NULL) THEN \"ObsTBL\".\"Temperature_Secondary\" ELSE \"ObsTBL\".\"Temperature_Reversing\" END END END AS anon_2, CASE WHEN (\"ObsTBL\".\"Pressure\" IS NOT NULL) THEN \"ObsTBL\".\"Pressure\" ELSE \"ObsTBL\".\"Pressure_Reversing\" END AS anon_3 \n",
      "FROM \"ObsTBL\" JOIN \"JDFLocsTBL\" ON \"JDFLocsTBL\".\"ObsID\" = \"ObsTBL\".\"ID\" JOIN \"CalcsTBL\" ON \"CalcsTBL\".\"ObsID\" = \"ObsTBL\".\"ID\" \n",
      "WHERE CASE WHEN (\"CalcsTBL\".\"Salinity_Bottle_SA\" IS NOT NULL) THEN \"CalcsTBL\".\"Salinity_Bottle_SA\" ELSE CASE WHEN (\"CalcsTBL\".\"Salinity_T0_C0_SA\" IS NOT NULL) THEN \"CalcsTBL\".\"Salinity_T0_C0_SA\" ELSE CASE WHEN (\"CalcsTBL\".\"Salinity_T1_C1_SA\" IS NOT NULL) THEN \"CalcsTBL\".\"Salinity_T1_C1_SA\" ELSE CASE WHEN (\"CalcsTBL\".\"Salinity_SA\" IS NOT NULL) THEN \"CalcsTBL\".\"Salinity_SA\" ELSE CASE WHEN (\"CalcsTBL\".\"Salinity__Unknown_SA\" IS NOT NULL) THEN \"CalcsTBL\".\"Salinity__Unknown_SA\" ELSE \"CalcsTBL\".\"Salinity__Pre1978_SA\" END END END END END IS NOT NULL AND CASE WHEN (\"CalcsTBL\".\"Salinity_Bottle_SA\" IS NOT NULL) THEN \"CalcsTBL\".\"Salinity_Bottle_SA\" ELSE CASE WHEN (\"CalcsTBL\".\"Salinity_T0_C0_SA\" IS NOT NULL) THEN \"CalcsTBL\".\"Salinity_T0_C0_SA\" ELSE CASE WHEN (\"CalcsTBL\".\"Salinity_T1_C1_SA\" IS NOT NULL) THEN \"CalcsTBL\".\"Salinity_T1_C1_SA\" ELSE CASE WHEN (\"CalcsTBL\".\"Salinity_SA\" IS NOT NULL) THEN \"CalcsTBL\".\"Salinity_SA\" ELSE CASE WHEN (\"CalcsTBL\".\"Salinity__Unknown_SA\" IS NOT NULL) THEN \"CalcsTBL\".\"Salinity__Unknown_SA\" ELSE \"CalcsTBL\".\"Salinity__Pre1978_SA\" END END END END END > ? AND CASE WHEN (\"CalcsTBL\".\"Salinity_Bottle_SA\" IS NOT NULL) THEN \"CalcsTBL\".\"Salinity_Bottle_SA\" ELSE CASE WHEN (\"CalcsTBL\".\"Salinity_T0_C0_SA\" IS NOT NULL) THEN \"CalcsTBL\".\"Salinity_T0_C0_SA\" ELSE CASE WHEN (\"CalcsTBL\".\"Salinity_T1_C1_SA\" IS NOT NULL) THEN \"CalcsTBL\".\"Salinity_T1_C1_SA\" ELSE CASE WHEN (\"CalcsTBL\".\"Salinity_SA\" IS NOT NULL) THEN \"CalcsTBL\".\"Salinity_SA\" ELSE CASE WHEN (\"CalcsTBL\".\"Salinity__Unknown_SA\" IS NOT NULL) THEN \"CalcsTBL\".\"Salinity__Unknown_SA\" ELSE \"CalcsTBL\".\"Salinity__Pre1978_SA\" END END END END END < ? AND CASE WHEN (\"ObsTBL\".\"Temperature\" IS NOT NULL) THEN \"ObsTBL\".\"Temperature\" ELSE CASE WHEN (\"ObsTBL\".\"Temperature_Primary\" IS NOT NULL) THEN \"ObsTBL\".\"Temperature_Primary\" ELSE CASE WHEN (\"ObsTBL\".\"Temperature_Secondary\" IS NOT NULL) THEN \"ObsTBL\".\"Temperature_Secondary\" ELSE \"ObsTBL\".\"Temperature_Reversing\" END END END IS NOT NULL AND CASE WHEN (\"ObsTBL\".\"Pressure\" IS NOT NULL) THEN \"ObsTBL\".\"Pressure\" ELSE \"ObsTBL\".\"Pressure_Reversing\" END IS NOT NULL\n"
     ]
    },
    {
     "name": "stdout",
     "output_type": "stream",
     "text": [
      "2016-01-28 17:19:19,397 INFO sqlalchemy.engine.base.Engine (0, 50)\n"
     ]
    },
    {
     "name": "stderr",
     "output_type": "stream",
     "text": [
      "INFO:sqlalchemy.engine.base.Engine:(0, 50)\n"
     ]
    }
   ],
   "source": [
    "# TS diagram based on example code, but using SA and CT\n",
    "q=session.query(JDFLocs.ObsID, Obs.ID, SA, Tem, Press).select_from(Obs).\\\n",
    "        join(JDFLocs,JDFLocs.ObsID==Obs.ID).join(Calcs,Calcs.ObsID==Obs.ID).filter(and_(\n",
    "            SA!=None,\n",
    "            SA>0,\n",
    "            SA<50,\n",
    "            Tem!=None,\n",
    "            Press!=None)).all()\n",
    "ID1=[]\n",
    "ID2=[]\n",
    "S_A=[]\n",
    "TC=[]\n",
    "P=[]\n",
    "for ID1x, ID2x, S_Ax, Tx, Px in q:\n",
    "    S_A.append(float(S_Ax))\n",
    "    TC.append(gsw.CT_from_t(S_Ax,Tx,Px))\n",
    "S_A=np.array(S_A)\n",
    "TC=np.array(TC)"
   ]
  },
  {
   "cell_type": "code",
   "execution_count": 32,
   "metadata": {
    "collapsed": false
   },
   "outputs": [
    {
     "name": "stderr",
     "output_type": "stream",
     "text": [
      "/home/eolson/anaconda3/envs/teos10/lib/python3.4/site-packages/ipykernel/__main__.py:18: DeprecationWarning: using a non-integer number instead of an integer will result in an error in the future\n"
     ]
    },
    {
     "data": {
      "text/plain": [
       "<matplotlib.text.Text at 0x7f5d79c09fd0>"
      ]
     },
     "execution_count": 32,
     "metadata": {},
     "output_type": "execute_result"
    },
    {
     "data": {
      "image/png": "[encoded data removed]",
      "text/plain": [
       "<matplotlib.figure.Figure at 0x7f5d79c15b00>"
      ]
     },
     "metadata": {},
     "output_type": "display_data"
    }
   ],
   "source": [
    "# TS diagram example:\n",
    "\n",
    "# Create variables with user-friendly names\n",
    "temp  = TC\n",
    "salt  = S_A\n",
    " \n",
    "# Figure out boudaries (mins and maxs)\n",
    "smin = salt.min() - (0.01 * salt.min())\n",
    "smax = salt.max() + (0.01 * salt.max())\n",
    "tmin = temp.min() - (0.1 * temp.max())\n",
    "tmax = temp.max() + (0.1 * temp.max())\n",
    " \n",
    "# Calculate how many gridcells we need in the x and y dimensions\n",
    "xdim = round((smax-smin)/0.1+1,0)\n",
    "ydim = round((tmax-tmin)+1,0)\n",
    " \n",
    "# Create empty grid of zeros\n",
    "dens = np.zeros((ydim,xdim))\n",
    " \n",
    "# Create temp and salt vectors of appropiate dimensions\n",
    "ti = np.linspace(1,ydim-1,ydim)+tmin\n",
    "si = np.linspace(1,xdim-1,xdim)*0.1+smin\n",
    " \n",
    "# Loop to fill in grid with densities\n",
    "for j in range(0,int(ydim)):\n",
    "    for i in range(0, int(xdim)):\n",
    "        dens[j,i]=gsw.rho(si[i],gsw.t_from_CT(si[i],ti[j],0),0)\n",
    " \n",
    "# Substract 1000 to convert to sigma-t\n",
    "dens = dens - 1000\n",
    " \n",
    "# Plot data ***********************************************\n",
    "fig1 = plt.figure()\n",
    "ax1 = fig1.add_subplot(111)\n",
    "CS = plt.contour(si,ti,dens, linestyles='dashed', colors='k')\n",
    "plt.clabel(CS, fontsize=12, inline=1, fmt='%1.0f') # Label every second level\n",
    " \n",
    "ax1.plot(salt,temp,'or',markersize=5)\n",
    " \n",
    "ax1.set_xlabel('Absolute Salinity')\n",
    "ax1.set_ylabel('Conservative Temperature (C)')"
   ]
  },
  {
   "cell_type": "code",
   "execution_count": 28,
   "metadata": {
    "collapsed": false
   },
   "outputs": [
    {
     "name": "stdout",
     "output_type": "stream",
     "text": [
      "2016-01-28 17:15:11,216 INFO sqlalchemy.engine.base.Engine SELECT \"JDFLocsTBL\".\"ObsID\" AS \"JDFLocsTBL_ObsID\", \"ObsTBL\".\"ID\" AS \"ObsTBL_ID\", CASE WHEN (\"CalcsTBL\".\"Salinity_Bottle_SA\" IS NOT NULL) THEN \"CalcsTBL\".\"Salinity_Bottle_SA\" ELSE CASE WHEN (\"CalcsTBL\".\"Salinity_T0_C0_SA\" IS NOT NULL) THEN \"CalcsTBL\".\"Salinity_T0_C0_SA\" ELSE CASE WHEN (\"CalcsTBL\".\"Salinity_T1_C1_SA\" IS NOT NULL) THEN \"CalcsTBL\".\"Salinity_T1_C1_SA\" ELSE CASE WHEN (\"CalcsTBL\".\"Salinity_SA\" IS NOT NULL) THEN \"CalcsTBL\".\"Salinity_SA\" ELSE CASE WHEN (\"CalcsTBL\".\"Salinity__Unknown_SA\" IS NOT NULL) THEN \"CalcsTBL\".\"Salinity__Unknown_SA\" ELSE \"CalcsTBL\".\"Salinity__Pre1978_SA\" END END END END END AS anon_1, CASE WHEN (\"ObsTBL\".\"Salinity_Bottle\" IS NOT NULL) THEN \"ObsTBL\".\"Salinity_Bottle\" ELSE CASE WHEN (\"ObsTBL\".\"Salinity_T0_C0\" IS NOT NULL) THEN \"ObsTBL\".\"Salinity_T0_C0\" ELSE CASE WHEN (\"ObsTBL\".\"Salinity_T1_C1\" IS NOT NULL) THEN \"ObsTBL\".\"Salinity_T1_C1\" ELSE CASE WHEN (\"ObsTBL\".\"Salinity\" IS NOT NULL) THEN \"ObsTBL\".\"Salinity\" ELSE CASE WHEN (\"ObsTBL\".\"Salinity__Unknown\" IS NOT NULL) THEN \"ObsTBL\".\"Salinity__Unknown\" ELSE \"ObsTBL\".\"Salinity__Pre1978\" END END END END END AS anon_2, CASE WHEN (\"ObsTBL\".\"Temperature\" IS NOT NULL) THEN \"ObsTBL\".\"Temperature\" ELSE CASE WHEN (\"ObsTBL\".\"Temperature_Primary\" IS NOT NULL) THEN \"ObsTBL\".\"Temperature_Primary\" ELSE CASE WHEN (\"ObsTBL\".\"Temperature_Secondary\" IS NOT NULL) THEN \"ObsTBL\".\"Temperature_Secondary\" ELSE \"ObsTBL\".\"Temperature_Reversing\" END END END AS anon_3, CASE WHEN (\"ObsTBL\".\"Pressure\" IS NOT NULL) THEN \"ObsTBL\".\"Pressure\" ELSE \"ObsTBL\".\"Pressure_Reversing\" END AS anon_4 \n",
      "FROM \"ObsTBL\" JOIN \"JDFLocsTBL\" ON \"JDFLocsTBL\".\"ObsID\" = \"ObsTBL\".\"ID\" JOIN \"CalcsTBL\" ON \"CalcsTBL\".\"ObsID\" = \"ObsTBL\".\"ID\" \n",
      "WHERE CASE WHEN (\"CalcsTBL\".\"Salinity_Bottle_SA\" IS NOT NULL) THEN \"CalcsTBL\".\"Salinity_Bottle_SA\" ELSE CASE WHEN (\"CalcsTBL\".\"Salinity_T0_C0_SA\" IS NOT NULL) THEN \"CalcsTBL\".\"Salinity_T0_C0_SA\" ELSE CASE WHEN (\"CalcsTBL\".\"Salinity_T1_C1_SA\" IS NOT NULL) THEN \"CalcsTBL\".\"Salinity_T1_C1_SA\" ELSE CASE WHEN (\"CalcsTBL\".\"Salinity_SA\" IS NOT NULL) THEN \"CalcsTBL\".\"Salinity_SA\" ELSE CASE WHEN (\"CalcsTBL\".\"Salinity__Unknown_SA\" IS NOT NULL) THEN \"CalcsTBL\".\"Salinity__Unknown_SA\" ELSE \"CalcsTBL\".\"Salinity__Pre1978_SA\" END END END END END IS NOT NULL AND CASE WHEN (\"ObsTBL\".\"Temperature\" IS NOT NULL) THEN \"ObsTBL\".\"Temperature\" ELSE CASE WHEN (\"ObsTBL\".\"Temperature_Primary\" IS NOT NULL) THEN \"ObsTBL\".\"Temperature_Primary\" ELSE CASE WHEN (\"ObsTBL\".\"Temperature_Secondary\" IS NOT NULL) THEN \"ObsTBL\".\"Temperature_Secondary\" ELSE \"ObsTBL\".\"Temperature_Reversing\" END END END IS NOT NULL AND CASE WHEN (\"ObsTBL\".\"Pressure\" IS NOT NULL) THEN \"ObsTBL\".\"Pressure\" ELSE \"ObsTBL\".\"Pressure_Reversing\" END IS NOT NULL AND CASE WHEN (\"CalcsTBL\".\"Salinity_Bottle_SA\" IS NOT NULL) THEN \"CalcsTBL\".\"Salinity_Bottle_SA\" ELSE CASE WHEN (\"CalcsTBL\".\"Salinity_T0_C0_SA\" IS NOT NULL) THEN \"CalcsTBL\".\"Salinity_T0_C0_SA\" ELSE CASE WHEN (\"CalcsTBL\".\"Salinity_T1_C1_SA\" IS NOT NULL) THEN \"CalcsTBL\".\"Salinity_T1_C1_SA\" ELSE CASE WHEN (\"CalcsTBL\".\"Salinity_SA\" IS NOT NULL) THEN \"CalcsTBL\".\"Salinity_SA\" ELSE CASE WHEN (\"CalcsTBL\".\"Salinity__Unknown_SA\" IS NOT NULL) THEN \"CalcsTBL\".\"Salinity__Unknown_SA\" ELSE \"CalcsTBL\".\"Salinity__Pre1978_SA\" END END END END END > ?\n"
     ]
    },
    {
     "name": "stderr",
     "output_type": "stream",
     "text": [
      "INFO:sqlalchemy.engine.base.Engine:SELECT \"JDFLocsTBL\".\"ObsID\" AS \"JDFLocsTBL_ObsID\", \"ObsTBL\".\"ID\" AS \"ObsTBL_ID\", CASE WHEN (\"CalcsTBL\".\"Salinity_Bottle_SA\" IS NOT NULL) THEN \"CalcsTBL\".\"Salinity_Bottle_SA\" ELSE CASE WHEN (\"CalcsTBL\".\"Salinity_T0_C0_SA\" IS NOT NULL) THEN \"CalcsTBL\".\"Salinity_T0_C0_SA\" ELSE CASE WHEN (\"CalcsTBL\".\"Salinity_T1_C1_SA\" IS NOT NULL) THEN \"CalcsTBL\".\"Salinity_T1_C1_SA\" ELSE CASE WHEN (\"CalcsTBL\".\"Salinity_SA\" IS NOT NULL) THEN \"CalcsTBL\".\"Salinity_SA\" ELSE CASE WHEN (\"CalcsTBL\".\"Salinity__Unknown_SA\" IS NOT NULL) THEN \"CalcsTBL\".\"Salinity__Unknown_SA\" ELSE \"CalcsTBL\".\"Salinity__Pre1978_SA\" END END END END END AS anon_1, CASE WHEN (\"ObsTBL\".\"Salinity_Bottle\" IS NOT NULL) THEN \"ObsTBL\".\"Salinity_Bottle\" ELSE CASE WHEN (\"ObsTBL\".\"Salinity_T0_C0\" IS NOT NULL) THEN \"ObsTBL\".\"Salinity_T0_C0\" ELSE CASE WHEN (\"ObsTBL\".\"Salinity_T1_C1\" IS NOT NULL) THEN \"ObsTBL\".\"Salinity_T1_C1\" ELSE CASE WHEN (\"ObsTBL\".\"Salinity\" IS NOT NULL) THEN \"ObsTBL\".\"Salinity\" ELSE CASE WHEN (\"ObsTBL\".\"Salinity__Unknown\" IS NOT NULL) THEN \"ObsTBL\".\"Salinity__Unknown\" ELSE \"ObsTBL\".\"Salinity__Pre1978\" END END END END END AS anon_2, CASE WHEN (\"ObsTBL\".\"Temperature\" IS NOT NULL) THEN \"ObsTBL\".\"Temperature\" ELSE CASE WHEN (\"ObsTBL\".\"Temperature_Primary\" IS NOT NULL) THEN \"ObsTBL\".\"Temperature_Primary\" ELSE CASE WHEN (\"ObsTBL\".\"Temperature_Secondary\" IS NOT NULL) THEN \"ObsTBL\".\"Temperature_Secondary\" ELSE \"ObsTBL\".\"Temperature_Reversing\" END END END AS anon_3, CASE WHEN (\"ObsTBL\".\"Pressure\" IS NOT NULL) THEN \"ObsTBL\".\"Pressure\" ELSE \"ObsTBL\".\"Pressure_Reversing\" END AS anon_4 \n",
      "FROM \"ObsTBL\" JOIN \"JDFLocsTBL\" ON \"JDFLocsTBL\".\"ObsID\" = \"ObsTBL\".\"ID\" JOIN \"CalcsTBL\" ON \"CalcsTBL\".\"ObsID\" = \"ObsTBL\".\"ID\" \n",
      "WHERE CASE WHEN (\"CalcsTBL\".\"Salinity_Bottle_SA\" IS NOT NULL) THEN \"CalcsTBL\".\"Salinity_Bottle_SA\" ELSE CASE WHEN (\"CalcsTBL\".\"Salinity_T0_C0_SA\" IS NOT NULL) THEN \"CalcsTBL\".\"Salinity_T0_C0_SA\" ELSE CASE WHEN (\"CalcsTBL\".\"Salinity_T1_C1_SA\" IS NOT NULL) THEN \"CalcsTBL\".\"Salinity_T1_C1_SA\" ELSE CASE WHEN (\"CalcsTBL\".\"Salinity_SA\" IS NOT NULL) THEN \"CalcsTBL\".\"Salinity_SA\" ELSE CASE WHEN (\"CalcsTBL\".\"Salinity__Unknown_SA\" IS NOT NULL) THEN \"CalcsTBL\".\"Salinity__Unknown_SA\" ELSE \"CalcsTBL\".\"Salinity__Pre1978_SA\" END END END END END IS NOT NULL AND CASE WHEN (\"ObsTBL\".\"Temperature\" IS NOT NULL) THEN \"ObsTBL\".\"Temperature\" ELSE CASE WHEN (\"ObsTBL\".\"Temperature_Primary\" IS NOT NULL) THEN \"ObsTBL\".\"Temperature_Primary\" ELSE CASE WHEN (\"ObsTBL\".\"Temperature_Secondary\" IS NOT NULL) THEN \"ObsTBL\".\"Temperature_Secondary\" ELSE \"ObsTBL\".\"Temperature_Reversing\" END END END IS NOT NULL AND CASE WHEN (\"ObsTBL\".\"Pressure\" IS NOT NULL) THEN \"ObsTBL\".\"Pressure\" ELSE \"ObsTBL\".\"Pressure_Reversing\" END IS NOT NULL AND CASE WHEN (\"CalcsTBL\".\"Salinity_Bottle_SA\" IS NOT NULL) THEN \"CalcsTBL\".\"Salinity_Bottle_SA\" ELSE CASE WHEN (\"CalcsTBL\".\"Salinity_T0_C0_SA\" IS NOT NULL) THEN \"CalcsTBL\".\"Salinity_T0_C0_SA\" ELSE CASE WHEN (\"CalcsTBL\".\"Salinity_T1_C1_SA\" IS NOT NULL) THEN \"CalcsTBL\".\"Salinity_T1_C1_SA\" ELSE CASE WHEN (\"CalcsTBL\".\"Salinity_SA\" IS NOT NULL) THEN \"CalcsTBL\".\"Salinity_SA\" ELSE CASE WHEN (\"CalcsTBL\".\"Salinity__Unknown_SA\" IS NOT NULL) THEN \"CalcsTBL\".\"Salinity__Unknown_SA\" ELSE \"CalcsTBL\".\"Salinity__Pre1978_SA\" END END END END END > ?\n"
     ]
    },
    {
     "name": "stdout",
     "output_type": "stream",
     "text": [
      "2016-01-28 17:15:11,216 INFO sqlalchemy.engine.base.Engine (40,)\n"
     ]
    },
    {
     "name": "stderr",
     "output_type": "stream",
     "text": [
      "INFO:sqlalchemy.engine.base.Engine:(40,)\n"
     ]
    },
    {
     "name": "stdout",
     "output_type": "stream",
     "text": [
      "(6334, 6334, 54.82919511370604, 54.5674, 10.6817, 27.6)\n"
     ]
    }
   ],
   "source": [
    "q=session.query(JDFLocs.ObsID, Obs.ID, SA, Sal, Tem, Press).select_from(Obs).\\\n",
    "        join(JDFLocs,JDFLocs.ObsID==Obs.ID).join(Calcs,Calcs.ObsID==Obs.ID).filter(and_(\n",
    "            SA!=None,\n",
    "            Tem!=None,\n",
    "            Press!=None)).filter(SA>40).all()\n",
    "for row in q:\n",
    "    print(row)"
   ]
  },
  {
   "cell_type": "code",
   "execution_count": 29,
   "metadata": {
    "collapsed": false
   },
   "outputs": [
    {
     "name": "stdout",
     "output_type": "stream",
     "text": [
      "2016-01-28 17:15:13,812 INFO sqlalchemy.engine.base.Engine SELECT \"JDFLocsTBL\".\"ObsID\" AS \"JDFLocsTBL_ObsID\", \"ObsTBL\".\"sourceFile\" AS \"ObsTBL_sourceFile\", \"ObsTBL\".\"Depth\" AS \"ObsTBL_Depth\", CASE WHEN (\"CalcsTBL\".\"Salinity_Bottle_SA\" IS NOT NULL) THEN \"CalcsTBL\".\"Salinity_Bottle_SA\" ELSE CASE WHEN (\"CalcsTBL\".\"Salinity_T0_C0_SA\" IS NOT NULL) THEN \"CalcsTBL\".\"Salinity_T0_C0_SA\" ELSE CASE WHEN (\"CalcsTBL\".\"Salinity_T1_C1_SA\" IS NOT NULL) THEN \"CalcsTBL\".\"Salinity_T1_C1_SA\" ELSE CASE WHEN (\"CalcsTBL\".\"Salinity_SA\" IS NOT NULL) THEN \"CalcsTBL\".\"Salinity_SA\" ELSE CASE WHEN (\"CalcsTBL\".\"Salinity__Unknown_SA\" IS NOT NULL) THEN \"CalcsTBL\".\"Salinity__Unknown_SA\" ELSE \"CalcsTBL\".\"Salinity__Pre1978_SA\" END END END END END AS anon_1, \"ObsTBL\".\"Salinity_Bottle\" AS \"ObsTBL_Salinity_Bottle\", \"ObsTBL\".\"Salinity\" AS \"ObsTBL_Salinity\", \"ObsTBL\".\"Salinity_T0_C0\" AS \"ObsTBL_Salinity_T0_C0\", \"ObsTBL\".\"Salinity_T1_C1\" AS \"ObsTBL_Salinity_T1_C1\", \"ObsTBL\".\"Salinity__Pre1978\" AS \"ObsTBL_Salinity__Pre1978\", \"ObsTBL\".\"Salinity__Unknown\" AS \"ObsTBL_Salinity__Unknown\" \n",
      "FROM \"ObsTBL\" JOIN \"JDFLocsTBL\" ON \"JDFLocsTBL\".\"ObsID\" = \"ObsTBL\".\"ID\" JOIN \"CalcsTBL\" ON \"CalcsTBL\".\"ObsID\" = \"ObsTBL\".\"ID\" \n",
      "WHERE CASE WHEN (\"CalcsTBL\".\"Salinity_Bottle_SA\" IS NOT NULL) THEN \"CalcsTBL\".\"Salinity_Bottle_SA\" ELSE CASE WHEN (\"CalcsTBL\".\"Salinity_T0_C0_SA\" IS NOT NULL) THEN \"CalcsTBL\".\"Salinity_T0_C0_SA\" ELSE CASE WHEN (\"CalcsTBL\".\"Salinity_T1_C1_SA\" IS NOT NULL) THEN \"CalcsTBL\".\"Salinity_T1_C1_SA\" ELSE CASE WHEN (\"CalcsTBL\".\"Salinity_SA\" IS NOT NULL) THEN \"CalcsTBL\".\"Salinity_SA\" ELSE CASE WHEN (\"CalcsTBL\".\"Salinity__Unknown_SA\" IS NOT NULL) THEN \"CalcsTBL\".\"Salinity__Unknown_SA\" ELSE \"CalcsTBL\".\"Salinity__Pre1978_SA\" END END END END END IS NOT NULL AND CASE WHEN (\"ObsTBL\".\"Temperature\" IS NOT NULL) THEN \"ObsTBL\".\"Temperature\" ELSE CASE WHEN (\"ObsTBL\".\"Temperature_Primary\" IS NOT NULL) THEN \"ObsTBL\".\"Temperature_Primary\" ELSE CASE WHEN (\"ObsTBL\".\"Temperature_Secondary\" IS NOT NULL) THEN \"ObsTBL\".\"Temperature_Secondary\" ELSE \"ObsTBL\".\"Temperature_Reversing\" END END END IS NOT NULL AND CASE WHEN (\"ObsTBL\".\"Pressure\" IS NOT NULL) THEN \"ObsTBL\".\"Pressure\" ELSE \"ObsTBL\".\"Pressure_Reversing\" END IS NOT NULL AND CASE WHEN (\"CalcsTBL\".\"Salinity_Bottle_SA\" IS NOT NULL) THEN \"CalcsTBL\".\"Salinity_Bottle_SA\" ELSE CASE WHEN (\"CalcsTBL\".\"Salinity_T0_C0_SA\" IS NOT NULL) THEN \"CalcsTBL\".\"Salinity_T0_C0_SA\" ELSE CASE WHEN (\"CalcsTBL\".\"Salinity_T1_C1_SA\" IS NOT NULL) THEN \"CalcsTBL\".\"Salinity_T1_C1_SA\" ELSE CASE WHEN (\"CalcsTBL\".\"Salinity_SA\" IS NOT NULL) THEN \"CalcsTBL\".\"Salinity_SA\" ELSE CASE WHEN (\"CalcsTBL\".\"Salinity__Unknown_SA\" IS NOT NULL) THEN \"CalcsTBL\".\"Salinity__Unknown_SA\" ELSE \"CalcsTBL\".\"Salinity__Pre1978_SA\" END END END END END > ?\n"
     ]
    },
    {
     "name": "stderr",
     "output_type": "stream",
     "text": [
      "INFO:sqlalchemy.engine.base.Engine:SELECT \"JDFLocsTBL\".\"ObsID\" AS \"JDFLocsTBL_ObsID\", \"ObsTBL\".\"sourceFile\" AS \"ObsTBL_sourceFile\", \"ObsTBL\".\"Depth\" AS \"ObsTBL_Depth\", CASE WHEN (\"CalcsTBL\".\"Salinity_Bottle_SA\" IS NOT NULL) THEN \"CalcsTBL\".\"Salinity_Bottle_SA\" ELSE CASE WHEN (\"CalcsTBL\".\"Salinity_T0_C0_SA\" IS NOT NULL) THEN \"CalcsTBL\".\"Salinity_T0_C0_SA\" ELSE CASE WHEN (\"CalcsTBL\".\"Salinity_T1_C1_SA\" IS NOT NULL) THEN \"CalcsTBL\".\"Salinity_T1_C1_SA\" ELSE CASE WHEN (\"CalcsTBL\".\"Salinity_SA\" IS NOT NULL) THEN \"CalcsTBL\".\"Salinity_SA\" ELSE CASE WHEN (\"CalcsTBL\".\"Salinity__Unknown_SA\" IS NOT NULL) THEN \"CalcsTBL\".\"Salinity__Unknown_SA\" ELSE \"CalcsTBL\".\"Salinity__Pre1978_SA\" END END END END END AS anon_1, \"ObsTBL\".\"Salinity_Bottle\" AS \"ObsTBL_Salinity_Bottle\", \"ObsTBL\".\"Salinity\" AS \"ObsTBL_Salinity\", \"ObsTBL\".\"Salinity_T0_C0\" AS \"ObsTBL_Salinity_T0_C0\", \"ObsTBL\".\"Salinity_T1_C1\" AS \"ObsTBL_Salinity_T1_C1\", \"ObsTBL\".\"Salinity__Pre1978\" AS \"ObsTBL_Salinity__Pre1978\", \"ObsTBL\".\"Salinity__Unknown\" AS \"ObsTBL_Salinity__Unknown\" \n",
      "FROM \"ObsTBL\" JOIN \"JDFLocsTBL\" ON \"JDFLocsTBL\".\"ObsID\" = \"ObsTBL\".\"ID\" JOIN \"CalcsTBL\" ON \"CalcsTBL\".\"ObsID\" = \"ObsTBL\".\"ID\" \n",
      "WHERE CASE WHEN (\"CalcsTBL\".\"Salinity_Bottle_SA\" IS NOT NULL) THEN \"CalcsTBL\".\"Salinity_Bottle_SA\" ELSE CASE WHEN (\"CalcsTBL\".\"Salinity_T0_C0_SA\" IS NOT NULL) THEN \"CalcsTBL\".\"Salinity_T0_C0_SA\" ELSE CASE WHEN (\"CalcsTBL\".\"Salinity_T1_C1_SA\" IS NOT NULL) THEN \"CalcsTBL\".\"Salinity_T1_C1_SA\" ELSE CASE WHEN (\"CalcsTBL\".\"Salinity_SA\" IS NOT NULL) THEN \"CalcsTBL\".\"Salinity_SA\" ELSE CASE WHEN (\"CalcsTBL\".\"Salinity__Unknown_SA\" IS NOT NULL) THEN \"CalcsTBL\".\"Salinity__Unknown_SA\" ELSE \"CalcsTBL\".\"Salinity__Pre1978_SA\" END END END END END IS NOT NULL AND CASE WHEN (\"ObsTBL\".\"Temperature\" IS NOT NULL) THEN \"ObsTBL\".\"Temperature\" ELSE CASE WHEN (\"ObsTBL\".\"Temperature_Primary\" IS NOT NULL) THEN \"ObsTBL\".\"Temperature_Primary\" ELSE CASE WHEN (\"ObsTBL\".\"Temperature_Secondary\" IS NOT NULL) THEN \"ObsTBL\".\"Temperature_Secondary\" ELSE \"ObsTBL\".\"Temperature_Reversing\" END END END IS NOT NULL AND CASE WHEN (\"ObsTBL\".\"Pressure\" IS NOT NULL) THEN \"ObsTBL\".\"Pressure\" ELSE \"ObsTBL\".\"Pressure_Reversing\" END IS NOT NULL AND CASE WHEN (\"CalcsTBL\".\"Salinity_Bottle_SA\" IS NOT NULL) THEN \"CalcsTBL\".\"Salinity_Bottle_SA\" ELSE CASE WHEN (\"CalcsTBL\".\"Salinity_T0_C0_SA\" IS NOT NULL) THEN \"CalcsTBL\".\"Salinity_T0_C0_SA\" ELSE CASE WHEN (\"CalcsTBL\".\"Salinity_T1_C1_SA\" IS NOT NULL) THEN \"CalcsTBL\".\"Salinity_T1_C1_SA\" ELSE CASE WHEN (\"CalcsTBL\".\"Salinity_SA\" IS NOT NULL) THEN \"CalcsTBL\".\"Salinity_SA\" ELSE CASE WHEN (\"CalcsTBL\".\"Salinity__Unknown_SA\" IS NOT NULL) THEN \"CalcsTBL\".\"Salinity__Unknown_SA\" ELSE \"CalcsTBL\".\"Salinity__Pre1978_SA\" END END END END END > ?\n"
     ]
    },
    {
     "name": "stdout",
     "output_type": "stream",
     "text": [
      "2016-01-28 17:15:13,813 INFO sqlalchemy.engine.base.Engine (40,)\n"
     ]
    },
    {
     "name": "stderr",
     "output_type": "stream",
     "text": [
      "INFO:sqlalchemy.engine.base.Engine:(40,)\n"
     ]
    },
    {
     "name": "stdout",
     "output_type": "stream",
     "text": [
      "(6334, 'UBC EO data request 20160113 a/2010-21-0009.che', None, 54.82919511370604, None, None, 54.5674, None, None, None)\n"
     ]
    }
   ],
   "source": [
    "q=session.query(JDFLocs.ObsID, Obs.sourceFile, Obs.Depth, SA, Obs.Salinity_Bottle, Obs.Salinity, Obs.Salinity_T0_C0, \n",
    "               Obs.Salinity_T1_C1, Obs.Salinity__Pre1978, Obs.Salinity__Unknown).select_from(Obs).\\\n",
    "        join(JDFLocs,JDFLocs.ObsID==Obs.ID).join(Calcs,Calcs.ObsID==Obs.ID).filter(and_(\n",
    "            SA!=None,\n",
    "            Tem!=None,\n",
    "            Press!=None)).filter(SA>40).all()\n",
    "for row in q:\n",
    "    print(row)"
   ]
  },
  {
   "cell_type": "code",
   "execution_count": null,
   "metadata": {
    "collapsed": false
   },
   "outputs": [],
   "source": [
    "qry=session.query(Obs.Quality_Flag_Sali, Obs.Salinity, Obs.Salinity_Bottle, Obs.Salinity_T0_C0, \n",
    "                  Obs.Salinity_T1_C1, Obs.Salinity__Pre1978, Obs.Salinity__Unknown, Obs.sourceFile\n",
    "                 ).filter(and_(\n",
    "            Obs.Quality_Flag_Sali!=None,\n",
    "            Obs.Salinity__Pre1978==None\n",
    "            )).all()\n",
    "for row in qry:\n",
    "    print('%5s %5s %13s %5s %13s %5s %5s %5s' % row)"
   ]
  },
  {
   "cell_type": "code",
   "execution_count": null,
   "metadata": {
    "collapsed": false
   },
   "outputs": [],
   "source": [
    "qJDFLoc=session.query(Obs.ID, Station.ID).filter(\n",
    "    and_(\n",
    "        Station.Lat > 48.2,\n",
    "        Station.Lat < 48.8,\n",
    "        Station.Lon > -125.2,\n",
    "        Station.Lon < -124.2\n",
    "        )).join(Station, Obs.StationTBLID==Station.ID)\n",
    "print(qJDFLoc.count())"
   ]
  },
  {
   "cell_type": "raw",
   "metadata": {},
   "source": []
  },
  {
   "cell_type": "code",
   "execution_count": 12,
   "metadata": {
    "collapsed": false
   },
   "outputs": [
    {
     "ename": "InvalidRequestError",
     "evalue": "SQL expression, column, or mapped entity expected - got '<class '__main__.JDFLocs'>'",
     "output_type": "error",
     "traceback": [
      "\u001b[1;31m---------------------------------------------------------------------------\u001b[0m",
      "\u001b[1;31mInvalidRequestError\u001b[0m                       Traceback (most recent call last)",
      "\u001b[1;32m<ipython-input-12-7d7f3324bea3>\u001b[0m in \u001b[0;36m<module>\u001b[1;34m()\u001b[0m\n\u001b[1;32m----> 1\u001b[1;33m \u001b[0mtest\u001b[0m\u001b[1;33m=\u001b[0m\u001b[0msession\u001b[0m\u001b[1;33m.\u001b[0m\u001b[0mquery\u001b[0m\u001b[1;33m(\u001b[0m\u001b[0mJDFLocs\u001b[0m\u001b[1;33m)\u001b[0m\u001b[1;33m.\u001b[0m\u001b[0mcount\u001b[0m\u001b[1;33m(\u001b[0m\u001b[1;33m)\u001b[0m\u001b[1;33m\u001b[0m\u001b[0m\n\u001b[0m\u001b[0;32m      2\u001b[0m \u001b[0mprint\u001b[0m\u001b[1;33m(\u001b[0m\u001b[0mtest\u001b[0m\u001b[1;33m)\u001b[0m\u001b[1;33m\u001b[0m\u001b[0m\n",
      "\u001b[1;32m/home/eolson/anaconda3/envs/teos10/lib/python3.4/site-packages/sqlalchemy/orm/session.py\u001b[0m in \u001b[0;36mquery\u001b[1;34m(self, *entities, **kwargs)\u001b[0m\n\u001b[0;32m   1270\u001b[0m         :class:`.Session`.\"\"\"\n\u001b[0;32m   1271\u001b[0m \u001b[1;33m\u001b[0m\u001b[0m\n\u001b[1;32m-> 1272\u001b[1;33m         \u001b[1;32mreturn\u001b[0m \u001b[0mself\u001b[0m\u001b[1;33m.\u001b[0m\u001b[0m_query_cls\u001b[0m\u001b[1;33m(\u001b[0m\u001b[0mentities\u001b[0m\u001b[1;33m,\u001b[0m \u001b[0mself\u001b[0m\u001b[1;33m,\u001b[0m \u001b[1;33m**\u001b[0m\u001b[0mkwargs\u001b[0m\u001b[1;33m)\u001b[0m\u001b[1;33m\u001b[0m\u001b[0m\n\u001b[0m\u001b[0;32m   1273\u001b[0m \u001b[1;33m\u001b[0m\u001b[0m\n\u001b[0;32m   1274\u001b[0m     \u001b[1;33m@\u001b[0m\u001b[0mproperty\u001b[0m\u001b[1;33m\u001b[0m\u001b[0m\n",
      "\u001b[1;32m/home/eolson/anaconda3/envs/teos10/lib/python3.4/site-packages/sqlalchemy/orm/query.py\u001b[0m in \u001b[0;36m__init__\u001b[1;34m(self, entities, session)\u001b[0m\n\u001b[0;32m    108\u001b[0m         \u001b[0mself\u001b[0m\u001b[1;33m.\u001b[0m\u001b[0msession\u001b[0m \u001b[1;33m=\u001b[0m \u001b[0msession\u001b[0m\u001b[1;33m\u001b[0m\u001b[0m\n\u001b[0;32m    109\u001b[0m         \u001b[0mself\u001b[0m\u001b[1;33m.\u001b[0m\u001b[0m_polymorphic_adapters\u001b[0m \u001b[1;33m=\u001b[0m \u001b[1;33m{\u001b[0m\u001b[1;33m}\u001b[0m\u001b[1;33m\u001b[0m\u001b[0m\n\u001b[1;32m--> 110\u001b[1;33m         \u001b[0mself\u001b[0m\u001b[1;33m.\u001b[0m\u001b[0m_set_entities\u001b[0m\u001b[1;33m(\u001b[0m\u001b[0mentities\u001b[0m\u001b[1;33m)\u001b[0m\u001b[1;33m\u001b[0m\u001b[0m\n\u001b[0m\u001b[0;32m    111\u001b[0m \u001b[1;33m\u001b[0m\u001b[0m\n\u001b[0;32m    112\u001b[0m     \u001b[1;32mdef\u001b[0m \u001b[0m_set_entities\u001b[0m\u001b[1;33m(\u001b[0m\u001b[0mself\u001b[0m\u001b[1;33m,\u001b[0m \u001b[0mentities\u001b[0m\u001b[1;33m,\u001b[0m \u001b[0mentity_wrapper\u001b[0m\u001b[1;33m=\u001b[0m\u001b[1;32mNone\u001b[0m\u001b[1;33m)\u001b[0m\u001b[1;33m:\u001b[0m\u001b[1;33m\u001b[0m\u001b[0m\n",
      "\u001b[1;32m/home/eolson/anaconda3/envs/teos10/lib/python3.4/site-packages/sqlalchemy/orm/query.py\u001b[0m in \u001b[0;36m_set_entities\u001b[1;34m(self, entities, entity_wrapper)\u001b[0m\n\u001b[0;32m    116\u001b[0m         \u001b[0mself\u001b[0m\u001b[1;33m.\u001b[0m\u001b[0m_primary_entity\u001b[0m \u001b[1;33m=\u001b[0m \u001b[1;32mNone\u001b[0m\u001b[1;33m\u001b[0m\u001b[0m\n\u001b[0;32m    117\u001b[0m         \u001b[1;32mfor\u001b[0m \u001b[0ment\u001b[0m \u001b[1;32min\u001b[0m \u001b[0mutil\u001b[0m\u001b[1;33m.\u001b[0m\u001b[0mto_list\u001b[0m\u001b[1;33m(\u001b[0m\u001b[0mentities\u001b[0m\u001b[1;33m)\u001b[0m\u001b[1;33m:\u001b[0m\u001b[1;33m\u001b[0m\u001b[0m\n\u001b[1;32m--> 118\u001b[1;33m             \u001b[0mentity_wrapper\u001b[0m\u001b[1;33m(\u001b[0m\u001b[0mself\u001b[0m\u001b[1;33m,\u001b[0m \u001b[0ment\u001b[0m\u001b[1;33m)\u001b[0m\u001b[1;33m\u001b[0m\u001b[0m\n\u001b[0m\u001b[0;32m    119\u001b[0m \u001b[1;33m\u001b[0m\u001b[0m\n\u001b[0;32m    120\u001b[0m         \u001b[0mself\u001b[0m\u001b[1;33m.\u001b[0m\u001b[0m_set_entity_selectables\u001b[0m\u001b[1;33m(\u001b[0m\u001b[0mself\u001b[0m\u001b[1;33m.\u001b[0m\u001b[0m_entities\u001b[0m\u001b[1;33m)\u001b[0m\u001b[1;33m\u001b[0m\u001b[0m\n",
      "\u001b[1;32m/home/eolson/anaconda3/envs/teos10/lib/python3.4/site-packages/sqlalchemy/orm/query.py\u001b[0m in \u001b[0;36m__init__\u001b[1;34m(self, query, column, namespace)\u001b[0m\n\u001b[0;32m   3802\u001b[0m             raise sa_exc.InvalidRequestError(\n\u001b[0;32m   3803\u001b[0m                 \u001b[1;34m\"SQL expression, column, or mapped entity \"\u001b[0m\u001b[1;33m\u001b[0m\u001b[0m\n\u001b[1;32m-> 3804\u001b[1;33m                 \u001b[1;34m\"expected - got '%r'\"\u001b[0m \u001b[1;33m%\u001b[0m \u001b[1;33m(\u001b[0m\u001b[0mcolumn\u001b[0m\u001b[1;33m,\u001b[0m \u001b[1;33m)\u001b[0m\u001b[1;33m\u001b[0m\u001b[0m\n\u001b[0m\u001b[0;32m   3805\u001b[0m             )\n\u001b[0;32m   3806\u001b[0m         \u001b[1;32melif\u001b[0m \u001b[1;32mnot\u001b[0m \u001b[0mcheck_column\u001b[0m\u001b[1;33m:\u001b[0m\u001b[1;33m\u001b[0m\u001b[0m\n",
      "\u001b[1;31mInvalidRequestError\u001b[0m: SQL expression, column, or mapped entity expected - got '<class '__main__.JDFLocs'>'"
     ]
    }
   ],
   "source": [
    "test=session.query(JDFLocs).count()\n",
    "print(test)"
   ]
  },
  {
   "cell_type": "code",
   "execution_count": null,
   "metadata": {
    "collapsed": false
   },
   "outputs": [],
   "source": [
    "qdata=session.query(JDFLocs.ObsID, Station.Lat, Station.Lon, Obs.Depth, Obs.Pressure, Tem, Sal, NO, \n",
    "            Oxy_mLL).join(Obs, JDFLocs.ObsID==Obs.ID).join(Station, Obs.StationTBLID==Station.ID).filter(and_(\n",
    "                        Obs.Depth>50,\n",
    "                        Tem!=None, \n",
    "                        Sal!=None,\n",
    "                        NO!=None,\n",
    "                        Oxy_mLL!=None)\n",
    "                        )\n",
    "print(qdata.count())"
   ]
  },
  {
   "cell_type": "code",
   "execution_count": null,
   "metadata": {
    "collapsed": false
   },
   "outputs": [],
   "source": [
    "Lat=[]\n",
    "Lon=[]\n",
    "z=[]\n",
    "P=[]\n",
    "T=[]\n",
    "S=[]\n",
    "N=[]\n",
    "O=[]\n",
    "for row in qdata.all():\n",
    "    Lat.append(row[1])\n",
    "    Lon.append(row[2])\n",
    "    z.append(row[3])\n",
    "    P.append(row[4])\n",
    "    T.append(float(row[5]))\n",
    "    S.append(float(row[6]))\n",
    "    N.append(float(row[7]))\n",
    "    O.append(float(row[8]))"
   ]
  },
  {
   "cell_type": "code",
   "execution_count": null,
   "metadata": {
    "collapsed": false
   },
   "outputs": [],
   "source": [
    "print(T[0])"
   ]
  },
  {
   "cell_type": "code",
   "execution_count": null,
   "metadata": {
    "collapsed": true
   },
   "outputs": [],
   "source": [
    "N=np.array(N)\n",
    "S=np.array(S)\n",
    "T=np.array(T)\n",
    "O=np.array(O)"
   ]
  },
  {
   "cell_type": "code",
   "execution_count": null,
   "metadata": {
    "collapsed": false
   },
   "outputs": [],
   "source": [
    "plt.plot(S,N,'.')\n",
    "plt.xlabel('S')\n",
    "plt.ylabel('N')"
   ]
  },
  {
   "cell_type": "code",
   "execution_count": null,
   "metadata": {
    "collapsed": false
   },
   "outputs": [],
   "source": [
    "plt.plot(T,N,'.')\n",
    "plt.xlabel('T')\n",
    "plt.ylabel('N')"
   ]
  },
  {
   "cell_type": "code",
   "execution_count": null,
   "metadata": {
    "collapsed": false
   },
   "outputs": [],
   "source": [
    "plt.plot(O,N,'.')\n",
    "plt.xlabel('O')\n",
    "plt.ylabel('N')"
   ]
  },
  {
   "cell_type": "code",
   "execution_count": null,
   "metadata": {
    "collapsed": false
   },
   "outputs": [],
   "source": [
    "a=np.vstack([T,S,O,np.ones(len(T))]).T\n",
    "m = np.linalg.lstsq(a,N)[0]\n",
    "mT, mS, mO, mC = m\n",
    "print(mT, mS, mO, mC)"
   ]
  },
  {
   "cell_type": "code",
   "execution_count": null,
   "metadata": {
    "collapsed": false
   },
   "outputs": [],
   "source": [
    "plt.plot(N,np.dot(a,m),'.')\n",
    "plt.xlabel('NO')\n",
    "plt.ylabel('NO, linear model')\n",
    "SSE=np.dot((NO-np.dot(a,m)),(NO-np.dot(a,m)).T)\n",
    "plt.title('Linear Model: NO(T,S)')\n",
    "print('SSE=', SSE)\n",
    "plt.plot(np.array([0,40]), np.array([0, 40]),'r-')"
   ]
  },
  {
   "cell_type": "code",
   "execution_count": null,
   "metadata": {
    "collapsed": false
   },
   "outputs": [],
   "source": [
    "session.close()\n",
    "engine.dispose()"
   ]
  },
  {
   "cell_type": "code",
   "execution_count": null,
   "metadata": {
    "collapsed": true
   },
   "outputs": [],
   "source": []
  }
 ],
 "metadata": {
  "kernelspec": {
   "display_name": "Python 3",
   "language": "python",
   "name": "python3"
  },
  "language_info": {
   "codemirror_mode": {
    "name": "ipython",
    "version": 3
   },
   "file_extension": ".py",
   "mimetype": "text/x-python",
   "name": "python",
   "nbconvert_exporter": "python",
   "pygments_lexer": "ipython3",
   "version": "3.4.4"
  }
 },
 "nbformat": 4,
 "nbformat_minor": 0
}
