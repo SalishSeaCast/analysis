{
 "cells": [
  {
   "cell_type": "code",
   "execution_count": 1,
   "metadata": {
    "collapsed": true
   },
   "outputs": [],
   "source": [
    "# imports\n",
    "from sqlalchemy import create_engine, Column, String, Integer, Float, Date, MetaData, Table, type_coerce\n",
    "from sqlalchemy.orm import mapper, create_session\n",
    "import csv\n",
    "from sqlalchemy import case\n",
    "import numpy as np\n",
    "from sqlalchemy.ext.automap import automap_base\n",
    "import matplotlib.pyplot as plt\n",
    "import sqlalchemy.types as types\n",
    "import numbers\n",
    "from sqlalchemy.sql import and_, or_, not_, func\n",
    "from sqlalchemy.sql import select\n",
    "import datetime as dt\n",
    "import os\n",
    "import re\n",
    "%matplotlib inline"
   ]
  },
  {
   "cell_type": "code",
   "execution_count": 2,
   "metadata": {
    "collapsed": false
   },
   "outputs": [
    {
     "name": "stdout",
     "output_type": "stream",
     "text": [
      "/ocean/eolson/MEOPAR/obs/ECRivers/ECRiversDB\n"
     ]
    }
   ],
   "source": [
    "# definitions\n",
    "basepath='/ocean/eolson/MEOPAR/obs/'\n",
    "hdir='ECRivers'\n",
    "dbname='ECRiversDB'\n",
    "dbpath=os.path.join(basepath,hdir,dbname)\n",
    "print(dbpath)"
   ]
  },
  {
   "cell_type": "raw",
   "metadata": {
    "collapsed": true
   },
   "source": [
    "engine = create_engine('sqlite:///'+dbpath+'.sqlite')\n",
    "table = None\n",
    "metadata = MetaData(bind=engine)"
   ]
  },
  {
   "cell_type": "code",
   "execution_count": 3,
   "metadata": {
    "collapsed": false
   },
   "outputs": [],
   "source": [
    "\n",
    "engine = create_engine('sqlite:///'+dbpath+'.sqlite')\n"
   ]
  },
  {
   "cell_type": "raw",
   "metadata": {
    "collapsed": true
   },
   "source": [
    "class forceNumeric(types.TypeDecorator):\n",
    "\n",
    "    impl = types.Float\n",
    "\n",
    "    def process_bind_param(self, value, dialect):\n",
    "        try:\n",
    "            int(float(value))\n",
    "        except:\n",
    "            value = None\n",
    "        return value\n",
    "\n",
    "class forceInt(types.TypeDecorator):\n",
    "    \n",
    "    impl = types.Integer\n",
    "    def process_bind_param(self, value, dialect):\n",
    "        try:\n",
    "            int(value)\n",
    "        except:\n",
    "            value = None\n",
    "        return value\n"
   ]
  },
  {
   "cell_type": "raw",
   "metadata": {
    "collapsed": true
   },
   "source": [
    "def coltype(ikey):\n",
    "    typedict = {\n",
    "        'value': forceNumeric(),\n",
    "        'method_detect_limit': forceNumeric(),\n",
    "        'latitude': forceNumeric(),\n",
    "        'longitude': forceNumeric(),\n",
    "    }\n",
    "    return typedict.get(ikey, String())"
   ]
  },
  {
   "cell_type": "code",
   "execution_count": 4,
   "metadata": {
    "collapsed": false
   },
   "outputs": [],
   "source": [
    "path0=os.path.join(basepath,hdir,'FraserRiverBasin/')\n",
    "dirs=[x for x in os.listdir(path0) if (os.path.isdir(path0+x) and not re.match('^\\.', x))]\n",
    "dirs.sort()\n",
    "file0=os.path.join(basepath,hdir,'FraserRiverBasin/BC08KA0001/water-qual-fresh-long-BC08KA0001-2005-01.csv')"
   ]
  },
  {
   "cell_type": "raw",
   "metadata": {},
   "source": [
    "with open(file0) as f:\n",
    "    cf = csv.DictReader(f, delimiter=',')\n",
    "    for row in cf:\n",
    "        if table is None:\n",
    "            table = Table('profiles', metadata, Column('id', Integer, primary_key=True),\n",
    "                Column('Year', Integer), Column('Month', Integer), \n",
    "                Column('Day', Integer), Column('Hour', Float), \n",
    "                *(Column(rowname, coltype(rowname)) for rowname in row.keys()))\n",
    "            table.create()"
   ]
  },
  {
   "cell_type": "raw",
   "metadata": {
    "collapsed": false
   },
   "source": [
    "for cdir in dirs:\n",
    "        print(cdir)\n",
    "        cdirpath=os.path.join(path0, cdir)\n",
    "        filenames = [f for f in os.listdir(cdirpath) if f.endswith('.csv')] #if ( f.endswith('.cnv') or f.endswith('.ctd'))\n",
    "        filenames.sort()\n",
    "        for file1 in filenames:\n",
    "            print(file1)\n",
    "            with open(os.path.join(cdirpath,file1)) as f:\n",
    "                cf = csv.DictReader(f, delimiter=',')\n",
    "                for row in cf:\n",
    "                    datestr=row['sample_datetime']\n",
    "                    row['Year']=int(datestr[0:4])\n",
    "                    row['Month']=int(datestr[5:7])\n",
    "                    row['Day']=int(datestr[8:10])\n",
    "                    row['Hour']=float(datestr[11:13])+float(datestr[14:16])/60.0+float(datestr[17:19])/3600.0\n",
    "                    table.insert().values(**row).execute()\n",
    "class Profs(object): pass\n",
    "mapper(Profs, table)"
   ]
  },
  {
   "cell_type": "code",
   "execution_count": 5,
   "metadata": {
    "collapsed": true
   },
   "outputs": [],
   "source": [
    "Base = automap_base()\n",
    "# reflect the tables in salish.sqlite:\n",
    "Base.prepare(engine, reflect=True)\n",
    "# mapped classes have been created\n",
    "Profs=Base.classes.profiles\n",
    "session = create_session(bind = engine, autocommit = False, autoflush = True)\n"
   ]
  },
  {
   "cell_type": "code",
   "execution_count": 6,
   "metadata": {
    "collapsed": false
   },
   "outputs": [
    {
     "name": "stdout",
     "output_type": "stream",
     "text": [
      "('ADSORBABLE ORGANIC HALIDE - AOX',)\n",
      "('ALKALINITY GRAN CACO3',)\n",
      "('ALKALINITY PHENOLPHTHALEIN CACO3',)\n",
      "('ALKALINITY TOTAL CACO3',)\n",
      "('ALUMINUM DISSOLVED',)\n",
      "('ALUMINUM EXTRACTABLE',)\n",
      "('ALUMINUM TOTAL',)\n",
      "('ALUMINUM_27 TOTAL RECOVERABLE - AL',)\n",
      "('AMMONIA DISSOLVED',)\n",
      "('ANTIMONY DISSOLVED',)\n",
      "('ANTIMONY EXTRACTABLE',)\n",
      "('ANTIMONY TOTAL',)\n",
      "('ARSENIC DISSOLVED',)\n",
      "('ARSENIC EXTRACTABLE',)\n",
      "('ARSENIC TOTAL',)\n",
      "('BARIUM DISSOLVED',)\n",
      "('BARIUM EXTRACTABLE',)\n",
      "('BARIUM TOTAL',)\n",
      "('BERYLLIUM DISSOLVED',)\n",
      "('BERYLLIUM EXTRACTABLE',)\n",
      "('BERYLLIUM TOTAL',)\n",
      "('BICARBONATE (CALCD.)',)\n",
      "('BISMUTH DISSOLVED',)\n",
      "('BISMUTH EXTRACTABLE',)\n",
      "('BISMUTH TOTAL',)\n",
      "('BORON DISSOLVED',)\n",
      "('BORON EXTRACTABLE',)\n",
      "('BORON TOTAL',)\n",
      "('BROMIDE DISSOLVED',)\n",
      "('CADMIUM DISSOLVED',)\n",
      "('CADMIUM EXTRACTABLE',)\n",
      "('CADMIUM TOTAL',)\n",
      "('CALCIUM DISSOLVED',)\n",
      "('CALCIUM EXTRACTABLE',)\n",
      "('CALCIUM TOTAL',)\n",
      "('CARBON DISSOLVED INORGANIC',)\n",
      "('CARBON DISSOLVED ORGANIC',)\n",
      "('CARBON TOTAL INORGANIC',)\n",
      "('CARBON TOTAL ORGANIC',)\n",
      "('CARBONATE (CALCD.)',)\n",
      "('CERIUM DISSOLVED',)\n",
      "('CERIUM EXTRACTABLE',)\n",
      "('CERIUM TOTAL',)\n",
      "('CESIUM DISSOLVED',)\n",
      "('CESIUM EXTRACTABLE',)\n",
      "('CESIUM TOTAL',)\n",
      "('CHLORIDE DISSOLVED',)\n",
      "('CHROMIUM DISSOLVED',)\n",
      "('CHROMIUM EXTRACTABLE',)\n",
      "('CHROMIUM TOTAL',)\n",
      "('COBALT DISSOLVED',)\n",
      "('COBALT EXTRACTABLE',)\n",
      "('COBALT TOTAL',)\n",
      "('COLIFORMS FECAL',)\n",
      "('COLOUR APPARENT',)\n",
      "('COLOUR TOTAL ABSORBANCE',)\n",
      "('COLOUR TRUE',)\n",
      "('COPPER DISSOLVED',)\n",
      "('COPPER EXTRACTABLE',)\n",
      "('COPPER TOTAL',)\n",
      "('CYANIDE TOTAL',)\n",
      "('CYANIDE WEAK ACID DISSOCIABLE',)\n",
      "('ENTEROCOCUS',)\n",
      "('ESCHERICHIA COLI',)\n",
      "('FLUORIDE',)\n",
      "('FLUORIDE DISSOLVED',)\n",
      "('GALLIUM DISSOLVED',)\n",
      "('GALLIUM EXTRACTABLE',)\n",
      "('GALLIUM TOTAL',)\n",
      "('HARDNESS TOTAL (CALCD.) CACO3',)\n",
      "('HARDNESS TOTAL CACO3',)\n",
      "('HYDROXIDE (CALCD.)',)\n",
      "('IRON DISSOLVED',)\n",
      "('IRON EXTRACTABLE',)\n",
      "('IRON TOTAL',)\n",
      "('LANTHANUM DISSOLVED',)\n",
      "('LANTHANUM EXTRACTABLE',)\n",
      "('LANTHANUM TOTAL',)\n",
      "('LEAD DISSOLVED',)\n",
      "('LEAD EXTRACTABLE',)\n",
      "('LEAD TOTAL',)\n",
      "('LITHIUM DISSOLVED',)\n",
      "('LITHIUM EXTRACTABLE',)\n",
      "('LITHIUM TOTAL',)\n",
      "('MAGNESIUM DISSOLVED',)\n",
      "('MAGNESIUM DISSOLVED (CALCD.)',)\n",
      "('MAGNESIUM EXTRACTABLE',)\n",
      "('MAGNESIUM TOTAL',)\n",
      "('MANGANESE DISSOLVED',)\n",
      "('MANGANESE EXTRACTABLE',)\n",
      "('MANGANESE TOTAL',)\n",
      "('MERCURY DISSOLVED',)\n",
      "('MOLYBDENUM DISSOLVED',)\n",
      "('MOLYBDENUM EXTRACTABLE',)\n",
      "('MOLYBDENUM TOTAL',)\n",
      "('NICKEL DISSOLVED',)\n",
      "('NICKEL EXTRACTABLE',)\n",
      "('NICKEL TOTAL',)\n",
      "('NIOBIUM DISSOLVED',)\n",
      "('NIOBIUM EXTRACTABLE',)\n",
      "('NIOBIUM TOTAL',)\n",
      "('NITROGEN DISSOLVED KJELDAHL',)\n",
      "('NITROGEN DISSOLVED NITRATE',)\n",
      "('NITROGEN DISSOLVED NO3 & NO2',)\n",
      "('NITROGEN DISSOLVED ORGANIC (CALCD.)',)\n",
      "('NITROGEN NITRITE',)\n",
      "('NITROGEN TOTAL',)\n",
      "('NITROGEN TOTAL DISSOLVED',)\n",
      "('NITROGEN TOTAL KJELDAHL',)\n",
      "('NITROGEN TOTAL ORGANIC (CALCD.)',)\n",
      "('OXYGEN DISSOLVED',)\n",
      "('PH',)\n",
      "('PH - FIELD',)\n",
      "('PHOSPHATE DISSOLVED ORTHO',)\n",
      "('PHOSPHORUS DISSOLVED ORTHO',)\n",
      "('PHOSPHORUS EXTRACTABLE',)\n",
      "('PHOSPHORUS TOTAL',)\n",
      "('PHOSPHORUS TOTAL DISSOLVED',)\n",
      "('PLATINUM DISSOLVED',)\n",
      "('PLATINUM EXTRACTABLE',)\n",
      "('PLATINUM TOTAL',)\n",
      "('POTASSIUM DISSOLVED',)\n",
      "('POTASSIUM EXTRACTABLE',)\n",
      "('POTASSIUM TOTAL',)\n",
      "('RESIDUE FILTERABLE',)\n",
      "('RESIDUE FIXED FILTERABLE',)\n",
      "('RESIDUE FIXED NONFILTRABLE',)\n",
      "('RESIDUE NONFILTRABLE',)\n",
      "('RESIDUE TOTAL',)\n",
      "('RUBIDIUM DISSOLVED',)\n",
      "('RUBIDIUM EXTRACTABLE',)\n",
      "('RUBIDIUM TOTAL',)\n",
      "('SALINITY',)\n",
      "('SELENIUM DISSOLVED',)\n",
      "('SELENIUM EXTRACTABLE',)\n",
      "('SELENIUM TOTAL',)\n",
      "('SILICA DISSOLVED',)\n",
      "('SILICA EXTRACTABLE',)\n",
      "('SILICA REACTIVE',)\n",
      "('SILICON DISSOLVED',)\n",
      "('SILICON EXTRACTABLE',)\n",
      "('SILICON TOTAL',)\n",
      "('SILVER DISSOLVED',)\n",
      "('SILVER EXTRACTABLE',)\n",
      "('SILVER TOTAL',)\n",
      "('SODIUM DISSOLVED',)\n",
      "('SODIUM EXTRACTABLE',)\n",
      "('SODIUM TOTAL',)\n",
      "('SPECIFIC CONDUCTANCE',)\n",
      "('SPECIFIC CONDUCTANCE - FIELD',)\n",
      "('STRONTIUM DISSOLVED',)\n",
      "('STRONTIUM EXTRACTABLE',)\n",
      "('STRONTIUM TOTAL',)\n",
      "('SULPHATE DISSOLVED',)\n",
      "('SULPHUR DISSOLVED',)\n",
      "('SULPHUR EXTRACTABLE',)\n",
      "('SULPHUR TOTAL',)\n",
      "('TEMPERATURE AIR',)\n",
      "('TEMPERATURE WATER',)\n",
      "('THALLIUM DISSOLVED',)\n",
      "('THALLIUM EXTRACTABLE',)\n",
      "('THALLIUM TOTAL',)\n",
      "('TIN DISSOLVED',)\n",
      "('TIN EXTRACTABLE',)\n",
      "('TIN TOTAL',)\n",
      "('TITANIUM DISSOLVED',)\n",
      "('TITANIUM EXTRACTABLE',)\n",
      "('TITANIUM TOTAL',)\n",
      "('TUNGSTEN DISSOLVED',)\n",
      "('TUNGSTEN EXTRACTABLE',)\n",
      "('TUNGSTEN TOTAL',)\n",
      "('TURBIDITY',)\n",
      "('URANIUM DISSOLVED',)\n",
      "('URANIUM EXTRACTABLE',)\n",
      "('URANIUM TOTAL',)\n",
      "('VANADIUM DISSOLVED',)\n",
      "('VANADIUM EXTRACTABLE',)\n",
      "('VANADIUM TOTAL',)\n",
      "('YTTRIUM DISSOLVED',)\n",
      "('YTTRIUM EXTRACTABLE',)\n",
      "('YTTRIUM TOTAL',)\n",
      "('ZINC DISSOLVED',)\n",
      "('ZINC EXTRACTABLE',)\n",
      "('ZINC TOTAL',)\n",
      "('ZIRCONIUM DISSOLVED',)\n",
      "('ZIRCONIUM TOTAL',)\n"
     ]
    }
   ],
   "source": [
    "# get list of data types:\n",
    "data=session.query(Profs.variable_name).group_by(Profs.variable_name).all()\n",
    "for row in data:\n",
    "    print(row)"
   ]
  },
  {
   "cell_type": "code",
   "execution_count": 7,
   "metadata": {
    "collapsed": false,
    "scrolled": true
   },
   "outputs": [
    {
     "name": "stdout",
     "output_type": "stream",
     "text": [
      "('Chilcotin River upstream of Christie Road Bridge', 'MG/L', 189)\n",
      "('Fraser River (Main Arm) at Gravesend Reach - Buoy', 'MG/L', 48)\n",
      "('Fraser River at Hansard', 'MG/L', 3)\n",
      "('Fraser River at Hope', 'MG/L', 4)\n",
      "('Fraser River at Marguerite', 'MG/L', 7)\n",
      "('Fraser River at Red Pass', 'MG/L', 1)\n",
      "('Horsefly River above Quesnel Lake', 'MG/L', 168)\n",
      "('Nechako River at Prince George', 'MG/L', 3)\n",
      "('Nicola River near mouth at Thompson River', 'MG/L', 145)\n",
      "('North Alouette River at 132nd Ave and Edge Street', 'MG/L', 3)\n",
      "('Salmon River at Highway 1 Bridge', 'MG/L', 301)\n",
      "('Shuswap River upstream Mara Lake', 'MG/L', 76)\n",
      "('Thompson River at Spences Bridge', 'MG/L', 60)\n",
      "('Chilcotin River upstream of Christie Road Bridge', 'UG/G', 1)\n",
      "('Nicola River near mouth at Thompson River', 'UG/G', 1)\n"
     ]
    }
   ],
   "source": [
    "data=session.query(Profs.station_name, Profs.unit_code, func.count()).\\\n",
    "            filter(Profs.variable_name=='AMMONIA DISSOLVED').group_by(Profs.unit_code,Profs.station_name).all()\n",
    "for row in data:\n",
    "    print(row)"
   ]
  },
  {
   "cell_type": "code",
   "execution_count": 8,
   "metadata": {
    "collapsed": true
   },
   "outputs": [],
   "source": [
    "data=session.query(Profs.Year, Profs.Month, Profs.Day, Profs.value).\\\n",
    "            filter(and_(\n",
    "                Profs.variable_name=='AMMONIA DISSOLVED',\n",
    "                Profs.station_name=='Fraser River (Main Arm) at Gravesend Reach - Buoy')).all()"
   ]
  },
  {
   "cell_type": "code",
   "execution_count": 9,
   "metadata": {
    "collapsed": true
   },
   "outputs": [],
   "source": [
    "Y=[]\n",
    "M=[]\n",
    "D=[]\n",
    "Amm=[]\n",
    "date=[]\n",
    "for Y0, M0, D0, Amm0 in data:\n",
    "    Y.append(Y0)\n",
    "    M.append(M0)\n",
    "    D.append(D0)\n",
    "    Amm.append(Amm0)\n",
    "    date.append(dt.date(Y0,M0,D0))\n",
    "Y=np.array(Y)\n",
    "M=np.array(M)\n",
    "D=np.array(D)\n",
    "Amm=np.array(Amm)\n",
    "date=np.array(date)"
   ]
  },
  {
   "cell_type": "code",
   "execution_count": 10,
   "metadata": {
    "collapsed": false
   },
   "outputs": [
    {
     "data": {
      "text/plain": [
       "<matplotlib.text.Text at 0x7f4b50f0d470>"
      ]
     },
     "execution_count": 10,
     "metadata": {},
     "output_type": "execute_result"
    },
    {
     "data": {
      "image/png": "[encoded data removed]",
      "text/plain": [
       "<matplotlib.figure.Figure at 0x7f4b52f68240>"
      ]
     },
     "metadata": {},
     "output_type": "display_data"
    }
   ],
   "source": [
    "plt.plot(date, Amm, 'b.')\n",
    "plt.title('Ammonia (mg/L) vs. Time')"
   ]
  },
  {
   "cell_type": "code",
   "execution_count": 11,
   "metadata": {
    "collapsed": false
   },
   "outputs": [
    {
     "data": {
      "text/plain": [
       "<matplotlib.text.Text at 0x7f4b50e3ed68>"
      ]
     },
     "execution_count": 11,
     "metadata": {},
     "output_type": "execute_result"
    },
    {
     "data": {
      "image/png": "[encoded data removed]",
      "text/plain": [
       "<matplotlib.figure.Figure at 0x7f4b52f68160>"
      ]
     },
     "metadata": {},
     "output_type": "display_data"
    }
   ],
   "source": [
    "YD=0.0*Y\n",
    "for i in range(0,len(Y)):\n",
    "    YD[i]=date[i].timetuple().tm_yday\n",
    "plt.plot(YD,Amm,'b.')\n",
    "plt.title('Ammonia (mg/L) vs Year-Day')"
   ]
  },
  {
   "cell_type": "code",
   "execution_count": 12,
   "metadata": {
    "collapsed": false
   },
   "outputs": [
    {
     "data": {
      "text/plain": [
       "<matplotlib.text.Text at 0x7f4b50dbd550>"
      ]
     },
     "execution_count": 12,
     "metadata": {},
     "output_type": "execute_result"
    },
    {
     "data": {
      "image/png": "[encoded data removed]",
      "text/plain": [
       "<matplotlib.figure.Figure at 0x7f4b50e8c0b8>"
      ]
     },
     "metadata": {},
     "output_type": "display_data"
    }
   ],
   "source": [
    "data=session.query(Profs.Year, Profs.Month, Profs.Day, Profs.value).\\\n",
    "            filter(Profs.variable_name=='AMMONIA DISSOLVED').\\\n",
    "            filter(Profs.station_name.like('Fraser River%')).all()\n",
    "Y=[]; M=[]; D=[]; Amm=[]; date=[]\n",
    "for Y0, M0, D0, Amm0 in data:\n",
    "    Y.append(Y0)\n",
    "    M.append(M0)\n",
    "    D.append(D0)\n",
    "    Amm.append(Amm0)\n",
    "    date.append(dt.date(Y0,M0,D0))\n",
    "Y=np.array(Y)\n",
    "M=np.array(M)\n",
    "D=np.array(D)\n",
    "Amm=np.array(Amm)\n",
    "date=np.array(date)\n",
    "YD=0.0*Y\n",
    "for i in range(0,len(Y)):\n",
    "    YD[i]=date[i].timetuple().tm_yday\n",
    "plt.plot(YD,Amm,'b.')\n",
    "plt.title('Ammonia (mg/L) vs. Year-Day, all Fraser Sites')"
   ]
  },
  {
   "cell_type": "code",
   "execution_count": 13,
   "metadata": {
    "collapsed": false
   },
   "outputs": [
    {
     "data": {
      "text/plain": [
       "<matplotlib.text.Text at 0x7f4b50da9b00>"
      ]
     },
     "execution_count": 13,
     "metadata": {},
     "output_type": "execute_result"
    },
    {
     "data": {
      "image/png": "[encoded data removed]",
      "text/plain": [
       "<matplotlib.figure.Figure at 0x7f4b50e382b0>"
      ]
     },
     "metadata": {},
     "output_type": "display_data"
    }
   ],
   "source": [
    "data=session.query(Profs.Month, func.avg(Profs.value)).\\\n",
    "            filter(Profs.variable_name=='AMMONIA DISSOLVED').\\\n",
    "            filter(Profs.station_name.like('Fraser River%')).group_by(Profs.Month).all()\n",
    "M=[]\n",
    "Amm=[]\n",
    "for M0, Amm0 in data:\n",
    "    M.append(M0)\n",
    "    Amm.append(Amm0)\n",
    "M=np.array(M)\n",
    "Amm=np.array(Amm)\n",
    "plt.plot(M,Amm,'b.')\n",
    "plt.title('Ammonia (mg/L), Monthly Mean, all Fraser Sites')"
   ]
  },
  {
   "cell_type": "markdown",
   "metadata": {},
   "source": [
    "# NITRATE+NITRITE"
   ]
  },
  {
   "cell_type": "code",
   "execution_count": 14,
   "metadata": {
    "collapsed": false
   },
   "outputs": [
    {
     "name": "stdout",
     "output_type": "stream",
     "text": [
      "('NITROGEN DISSOLVED NITRATE', 'Chilcotin River upstream of Christie Road Bridge', 'MG/L', 104)\n",
      "('NITROGEN DISSOLVED NITRATE', 'Fraser River (Main Arm) at Gravesend Reach - Buoy', 'MG/L', 75)\n",
      "('NITROGEN DISSOLVED NITRATE', 'Fraser River at Hansard', 'MG/L', 93)\n",
      "('NITROGEN DISSOLVED NITRATE', 'Fraser River at Hargreaves Bridge', 'MG/L', 1)\n",
      "('NITROGEN DISSOLVED NITRATE', 'Fraser River at Hope', 'MG/L', 236)\n",
      "('NITROGEN DISSOLVED NITRATE', 'Fraser River at Marguerite', 'MG/L', 222)\n",
      "('NITROGEN DISSOLVED NITRATE', 'Fraser River at Red Pass', 'MG/L', 219)\n",
      "('NITROGEN DISSOLVED NITRATE', 'Horsefly River above Quesnel Lake', 'MG/L', 181)\n",
      "('NITROGEN DISSOLVED NITRATE', 'Nechako River at Prince George', 'MG/L', 228)\n",
      "('NITROGEN DISSOLVED NITRATE', 'Nicola River near mouth at Thompson River', 'MG/L', 63)\n",
      "('NITROGEN DISSOLVED NITRATE', 'North Alouette River at 132nd Ave and Edge Street', 'MG/L', 128)\n",
      "('NITROGEN DISSOLVED NITRATE', 'Salmon River at Highway 1 Bridge', 'MG/L', 219)\n",
      "('NITROGEN DISSOLVED NITRATE', 'Shuswap River upstream Mara Lake', 'MG/L', 76)\n",
      "('NITROGEN DISSOLVED NITRATE', 'Thompson River at Spences Bridge', 'MG/L', 224)\n",
      "('NITROGEN DISSOLVED NO3 & NO2', 'Chilcotin River upstream of Christie Road Bridge', 'MG/L', 203)\n",
      "('NITROGEN DISSOLVED NO3 & NO2', 'Fraser River (Main Arm) at Gravesend Reach - Buoy', 'MG/L', 85)\n",
      "('NITROGEN DISSOLVED NO3 & NO2', 'Fraser River at Hansard', 'MG/L', 200)\n",
      "('NITROGEN DISSOLVED NO3 & NO2', 'Fraser River at Hargreaves Bridge', 'MG/L', 1)\n",
      "('NITROGEN DISSOLVED NO3 & NO2', 'Fraser River at Hope', 'MG/L', 403)\n",
      "('NITROGEN DISSOLVED NO3 & NO2', 'Fraser River at Marguerite', 'MG/L', 338)\n",
      "('NITROGEN DISSOLVED NO3 & NO2', 'Fraser River at Red Pass', 'MG/L', 307)\n",
      "('NITROGEN DISSOLVED NO3 & NO2', 'Horsefly River above Quesnel Lake', 'MG/L', 181)\n",
      "('NITROGEN DISSOLVED NO3 & NO2', 'Nechako River at Prince George', 'MG/L', 299)\n",
      "('NITROGEN DISSOLVED NO3 & NO2', 'Nicola River near mouth at Thompson River', 'MG/L', 153)\n",
      "('NITROGEN DISSOLVED NO3 & NO2', 'North Alouette River at 132nd Ave and Edge Street', 'MG/L', 259)\n",
      "('NITROGEN DISSOLVED NO3 & NO2', 'Salmon River at Highway 1 Bridge', 'MG/L', 350)\n",
      "('NITROGEN DISSOLVED NO3 & NO2', 'Shuswap River upstream Mara Lake', 'MG/L', 76)\n",
      "('NITROGEN DISSOLVED NO3 & NO2', 'Thompson River at Spences Bridge', 'MG/L', 361)\n"
     ]
    }
   ],
   "source": [
    "data=session.query(Profs.variable_name, Profs.station_name, Profs.unit_code, func.count()).\\\n",
    "            filter(or_(Profs.variable_name=='NITROGEN DISSOLVED NITRATE',\n",
    "                      Profs.variable_name=='NITROGEN DISSOLVED NO3 & NO2')).\\\n",
    "            group_by(Profs.variable_name,Profs.unit_code,Profs.station_name).all()\n",
    "for row in data:\n",
    "    print(row)"
   ]
  },
  {
   "cell_type": "code",
   "execution_count": 15,
   "metadata": {
    "collapsed": false
   },
   "outputs": [
    {
     "data": {
      "text/plain": [
       "<matplotlib.text.Text at 0x7f4b50d1db70>"
      ]
     },
     "execution_count": 15,
     "metadata": {},
     "output_type": "execute_result"
    },
    {
     "data": {
      "image/png": "[encoded data removed]",
      "text/plain": [
       "<matplotlib.figure.Figure at 0x7f4b50ea6e48>"
      ]
     },
     "metadata": {},
     "output_type": "display_data"
    }
   ],
   "source": [
    "# NO2+NO3 at Hope\n",
    "data=session.query(Profs.Year, Profs.Month, Profs.Day, Profs.value).\\\n",
    "            filter(and_(\n",
    "                Profs.variable_name=='NITROGEN DISSOLVED NO3 & NO2',\n",
    "                Profs.station_name=='Fraser River at Hope')).all()\n",
    "Y=[]\n",
    "M=[]\n",
    "D=[]\n",
    "Amm=[]\n",
    "date=[]\n",
    "for Y0, M0, D0, Amm0 in data:\n",
    "    Y.append(Y0)\n",
    "    M.append(M0)\n",
    "    D.append(D0)\n",
    "    Amm.append(Amm0)\n",
    "    date.append(dt.date(Y0,M0,D0))\n",
    "Y=np.array(Y)\n",
    "M=np.array(M)\n",
    "D=np.array(D)\n",
    "Amm=np.array(Amm)\n",
    "date=np.array(date)\n",
    "YD=0.0*Y\n",
    "for i in range(0,len(Y)):\n",
    "    YD[i]=date[i].timetuple().tm_yday\n",
    "plt.plot(YD,Amm,'b.')\n",
    "plt.plot(YD+365.0,Amm,'b.')\n",
    "plt.title('NO2+NO3 (mg/L) vs. Year-Day: Hope')"
   ]
  },
  {
   "cell_type": "code",
   "execution_count": 16,
   "metadata": {
    "collapsed": false
   },
   "outputs": [
    {
     "data": {
      "text/plain": [
       "<matplotlib.text.Text at 0x7f4b50c37a20>"
      ]
     },
     "execution_count": 16,
     "metadata": {},
     "output_type": "execute_result"
    },
    {
     "data": {
      "image/png": "[encoded data removed]",
      "text/plain": [
       "<matplotlib.figure.Figure at 0x7f4b50d121d0>"
      ]
     },
     "metadata": {},
     "output_type": "display_data"
    }
   ],
   "source": [
    "## NO2+NO3, all Fraser Stations:\n",
    "data=session.query(Profs.Year, Profs.Month, Profs.Day, Profs.value).\\\n",
    "            filter(and_(\n",
    "                Profs.value<2.5,#exlude 2 high points\n",
    "                Profs.variable_name=='NITROGEN DISSOLVED NO3 & NO2',\n",
    "                Profs.station_name.like('Fraser River%'))).all()\n",
    "Y=[]\n",
    "M=[]\n",
    "D=[]\n",
    "Amm=[]\n",
    "date=[]\n",
    "for Y0, M0, D0, Amm0 in data:\n",
    "    Y.append(Y0)\n",
    "    M.append(M0)\n",
    "    D.append(D0)\n",
    "    Amm.append(Amm0)\n",
    "    date.append(dt.date(Y0,M0,D0))\n",
    "Y=np.array(Y)\n",
    "M=np.array(M)\n",
    "D=np.array(D)\n",
    "Amm=np.array(Amm)\n",
    "date=np.array(date)\n",
    "YD=0.0*Y\n",
    "for i in range(0,len(Y)):\n",
    "    YD[i]=date[i].timetuple().tm_yday\n",
    "plt.plot(YD,Amm,'b.')\n",
    "plt.plot(YD+365.0,Amm,'b.')\n",
    "plt.title('NO2+NO3 (mg/L) vs. Year-Day: All Fraser Stations')"
   ]
  },
  {
   "cell_type": "markdown",
   "metadata": {},
   "source": [
    "# Dissolved Silica"
   ]
  },
  {
   "cell_type": "code",
   "execution_count": 20,
   "metadata": {
    "collapsed": false
   },
   "outputs": [
    {
     "name": "stdout",
     "output_type": "stream",
     "text": [
      "(54.07706, -121.8484, 'SILICA DISSOLVED', 'Fraser River at Hansard', 'MG/L', 191)\n",
      "(49.38722, -121.4508, 'SILICA DISSOLVED', 'Fraser River at Hope', 'MG/L', 220)\n",
      "(52.52964, -122.44228, 'SILICA DISSOLVED', 'Fraser River at Marguerite', 'MG/L', 208)\n",
      "(52.9878, -119.0101, 'SILICA DISSOLVED', 'Fraser River at Red Pass', 'MG/L', 240)\n",
      "(53.92722, -122.765, 'SILICA DISSOLVED', 'Nechako River at Prince George', 'MG/L', 204)\n",
      "(50.69139, -119.32889, 'SILICA DISSOLVED', 'Salmon River at Highway 1 Bridge', 'MG/L', 238)\n",
      "(50.68056, -120.32444, 'SILICA DISSOLVED', 'South Thompson River at Kamloops', 'MG/L', 1)\n",
      "(50.42083, -121.34139, 'SILICA DISSOLVED', 'Thompson River at Spences Bridge', 'MG/L', 212)\n",
      "(49.167, -123.035, 'SILICON DISSOLVED', 'Fraser River (Main Arm) at Gravesend Reach - Buoy', 'MG/L', 14)\n",
      "(53.92722, -122.765, 'SILICON DISSOLVED', 'Nechako River at Prince George', 'MG/L', 22)\n",
      "(49.24211, -122.5961, 'SILICON DISSOLVED', 'North Alouette River at 132nd Ave and Edge Street', 'MG/L', 5)\n"
     ]
    }
   ],
   "source": [
    "data=session.query(Profs.latitude, Profs.longitude, Profs.variable_name, Profs.station_name, Profs.unit_code, func.count()).\\\n",
    "            filter(or_(Profs.variable_name=='SILICA DISSOLVED',\n",
    "                      Profs.variable_name=='SILICON DISSOLVED')).\\\n",
    "            group_by(Profs.variable_name,Profs.unit_code,Profs.station_name).all()\n",
    "for row in data:\n",
    "    print(row)"
   ]
  },
  {
   "cell_type": "code",
   "execution_count": 18,
   "metadata": {
    "collapsed": false
   },
   "outputs": [
    {
     "data": {
      "text/plain": [
       "<matplotlib.text.Text at 0x7f4b50d0e9e8>"
      ]
     },
     "execution_count": 18,
     "metadata": {},
     "output_type": "execute_result"
    },
    {
     "data": {
      "image/png": "[encoded data removed]",
      "text/plain": [
       "<matplotlib.figure.Figure at 0x7f4b50d20668>"
      ]
     },
     "metadata": {},
     "output_type": "display_data"
    }
   ],
   "source": [
    "# Si at Hope\n",
    "data=session.query(Profs.Year, Profs.Month, Profs.Day, Profs.value).\\\n",
    "            filter(or_(Profs.variable_name=='SILICA DISSOLVED',\n",
    "                      Profs.variable_name=='SILICON DISSOLVED')).filter(\n",
    "                Profs.station_name=='Fraser River at Hope').all()\n",
    "Y=[]\n",
    "M=[]\n",
    "D=[]\n",
    "Amm=[]\n",
    "date=[]\n",
    "for Y0, M0, D0, Amm0 in data:\n",
    "    Y.append(Y0)\n",
    "    M.append(M0)\n",
    "    D.append(D0)\n",
    "    Amm.append(Amm0)\n",
    "    date.append(dt.date(Y0,M0,D0))\n",
    "Y=np.array(Y)\n",
    "M=np.array(M)\n",
    "D=np.array(D)\n",
    "Amm=np.array(Amm)\n",
    "date=np.array(date)\n",
    "YD=0.0*Y\n",
    "for i in range(0,len(Y)):\n",
    "    YD[i]=date[i].timetuple().tm_yday\n",
    "plt.plot(YD,Amm,'b.')\n",
    "plt.plot(YD+365.0,Amm,'b.')\n",
    "plt.title('Dissolved Si (mg/L) vs. Year-Day: Hope')"
   ]
  },
  {
   "cell_type": "code",
   "execution_count": 19,
   "metadata": {
    "collapsed": false
   },
   "outputs": [
    {
     "data": {
      "text/plain": [
       "<matplotlib.text.Text at 0x7f4b50b81710>"
      ]
     },
     "execution_count": 19,
     "metadata": {},
     "output_type": "execute_result"
    },
    {
     "data": {
      "image/png": "[encoded data removed]",
      "text/plain": [
       "<matplotlib.figure.Figure at 0x7f4b50be1780>"
      ]
     },
     "metadata": {},
     "output_type": "display_data"
    }
   ],
   "source": [
    "## Si, all Fraser Stations:\n",
    "data=session.query(Profs.Year, Profs.Month, Profs.Day, Profs.value).\\\n",
    "            filter(or_(Profs.variable_name=='SILICA DISSOLVED',\n",
    "                      Profs.variable_name=='SILICON DISSOLVED')).filter(\n",
    "                Profs.station_name.like('Fraser River%')).all()\n",
    "Y=[]\n",
    "M=[]\n",
    "D=[]\n",
    "Amm=[]\n",
    "date=[]\n",
    "for Y0, M0, D0, Amm0 in data:\n",
    "    Y.append(Y0)\n",
    "    M.append(M0)\n",
    "    D.append(D0)\n",
    "    Amm.append(Amm0)\n",
    "    date.append(dt.date(Y0,M0,D0))\n",
    "Y=np.array(Y)\n",
    "M=np.array(M)\n",
    "D=np.array(D)\n",
    "Amm=np.array(Amm)\n",
    "date=np.array(date)\n",
    "YD=0.0*Y\n",
    "for i in range(0,len(Y)):\n",
    "    YD[i]=date[i].timetuple().tm_yday\n",
    "plt.plot(YD,Amm,'b.')\n",
    "plt.plot(YD+365.0,Amm,'b.')\n",
    "plt.title('Dissolved Si (mg/L) vs. Year-Day: All Fraser Stations')"
   ]
  },
  {
   "cell_type": "code",
   "execution_count": 23,
   "metadata": {
    "collapsed": false
   },
   "outputs": [
    {
     "name": "stdout",
     "output_type": "stream",
     "text": [
      "('Fraser River (Main Arm) at Gravesend Reach - Buoy', 2.3121428571428573)\n",
      "('Fraser River at Hansard', 2.6484293193717274)\n",
      "('Fraser River at Hope', 3.569227272727273)\n",
      "('Fraser River at Marguerite', 3.338653846153846)\n",
      "('Fraser River at Red Pass', 1.3941250000000003)\n",
      "('Nechako River at Prince George', 2.984513274336285)\n",
      "('North Alouette River at 132nd Ave and Edge Street', 1.388)\n",
      "('Salmon River at Highway 1 Bridge', 11.404579831932779)\n",
      "('South Thompson River at Kamloops', 2.93)\n",
      "('Thompson River at Spences Bridge', 2.87617924528302)\n"
     ]
    }
   ],
   "source": [
    "data=session.query(Profs.station_name, func.avg(Profs.value)).\\\n",
    "            filter(or_(Profs.variable_name=='SILICA DISSOLVED',\n",
    "                      Profs.variable_name=='SILICON DISSOLVED')).\\\n",
    "            group_by(Profs.station_name).all()\n",
    "for row in data:\n",
    "    print(row)"
   ]
  },
  {
   "cell_type": "code",
   "execution_count": 24,
   "metadata": {
    "collapsed": false
   },
   "outputs": [
    {
     "data": {
      "text/plain": [
       "<matplotlib.text.Text at 0x7f2b734d9978>"
      ]
     },
     "execution_count": 24,
     "metadata": {},
     "output_type": "execute_result"
    },
    {
     "data": {
      "image/png": "[encoded data removed]",
      "text/plain": [
       "<matplotlib.figure.Figure at 0x7f2b735a70f0>"
      ]
     },
     "metadata": {},
     "output_type": "display_data"
    }
   ],
   "source": [
    "# Si at Red Pass\n",
    "data=session.query(Profs.Year, Profs.Month, Profs.Day, Profs.value).\\\n",
    "            filter(or_(Profs.variable_name=='SILICA DISSOLVED',\n",
    "                      Profs.variable_name=='SILICON DISSOLVED')).filter(\n",
    "                Profs.station_name=='Fraser River at Red Pass').all()\n",
    "Y=[]\n",
    "M=[]\n",
    "D=[]\n",
    "Amm=[]\n",
    "date=[]\n",
    "for Y0, M0, D0, Amm0 in data:\n",
    "    Y.append(Y0)\n",
    "    M.append(M0)\n",
    "    D.append(D0)\n",
    "    Amm.append(Amm0)\n",
    "    date.append(dt.date(Y0,M0,D0))\n",
    "Y=np.array(Y)\n",
    "M=np.array(M)\n",
    "D=np.array(D)\n",
    "Amm=np.array(Amm)\n",
    "date=np.array(date)\n",
    "YD=0.0*Y\n",
    "for i in range(0,len(Y)):\n",
    "    YD[i]=date[i].timetuple().tm_yday\n",
    "plt.plot(YD,Amm,'b.')\n",
    "plt.plot(YD+365.0,Amm,'b.')\n",
    "plt.title('Dissolved Si (mg/L) vs. Year-Day: Red Pass')"
   ]
  },
  {
   "cell_type": "code",
   "execution_count": null,
   "metadata": {
    "collapsed": true
   },
   "outputs": [],
   "source": []
  },
  {
   "cell_type": "code",
   "execution_count": null,
   "metadata": {
    "collapsed": true
   },
   "outputs": [],
   "source": []
  },
  {
   "cell_type": "code",
   "execution_count": null,
   "metadata": {
    "collapsed": true
   },
   "outputs": [],
   "source": []
  },
  {
   "cell_type": "code",
   "execution_count": null,
   "metadata": {
    "collapsed": true
   },
   "outputs": [],
   "source": []
  },
  {
   "cell_type": "code",
   "execution_count": null,
   "metadata": {
    "collapsed": true
   },
   "outputs": [],
   "source": []
  },
  {
   "cell_type": "code",
   "execution_count": null,
   "metadata": {
    "collapsed": true
   },
   "outputs": [],
   "source": []
  },
  {
   "cell_type": "code",
   "execution_count": null,
   "metadata": {
    "collapsed": true
   },
   "outputs": [],
   "source": []
  },
  {
   "cell_type": "code",
   "execution_count": null,
   "metadata": {
    "collapsed": true
   },
   "outputs": [],
   "source": []
  },
  {
   "cell_type": "code",
   "execution_count": null,
   "metadata": {
    "collapsed": true
   },
   "outputs": [],
   "source": []
  },
  {
   "cell_type": "code",
   "execution_count": 12,
   "metadata": {
    "collapsed": false
   },
   "outputs": [],
   "source": [
    "session.close()\n",
    "engine.dispose()"
   ]
  },
  {
   "cell_type": "code",
   "execution_count": null,
   "metadata": {
    "collapsed": true
   },
   "outputs": [],
   "source": []
  }
 ],
 "metadata": {
  "kernelspec": {
   "display_name": "Python 3",
   "language": "python",
   "name": "python3"
  },
  "language_info": {
   "codemirror_mode": {
    "name": "ipython",
    "version": 3
   },
   "file_extension": ".py",
   "mimetype": "text/x-python",
   "name": "python",
   "nbconvert_exporter": "python",
   "pygments_lexer": "ipython3",
   "version": "3.4.4"
  }
 },
 "nbformat": 4,
 "nbformat_minor": 0
}
