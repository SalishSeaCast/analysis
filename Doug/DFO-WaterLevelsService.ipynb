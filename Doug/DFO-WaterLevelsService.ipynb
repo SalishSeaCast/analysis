{
 "cells": [
  {
   "cell_type": "markdown",
   "metadata": {},
   "source": [
    "# Getting Data from DFO Water Levels Service\n",
    "\n",
    "Example code to access the DFO Water Levels web service,\n",
    "and information about what data are available there."
   ]
  },
  {
   "cell_type": "markdown",
   "metadata": {},
   "source": [
    "Service description: http://www.tides.gc.ca/eng/info/WebServicesWLD\n",
    "\n",
    "Technical specification (PDF): http://www.tides.gc.ca/docs/Specifications%20-%20Spine%20observation%20and%20predictions%202.0.3%28en%29.pdf"
   ]
  },
  {
   "cell_type": "markdown",
   "metadata": {},
   "source": [
    "The service uses the [SOAP](https://en.wikipedia.org/wiki/SOAP) protocol.\n",
    "The are several Python libraries for working with SOAP services.\n",
    "The one used here is [suds-jurko](https://bitbucket.org/jurko/suds),\n",
    "a Python 3 port of the (apparently) no longer maintained [suds](http://fedorahosted.org/suds) library.\n",
    "Docs for `suds` and `suds-jurko` are at https://fedorahosted.org/suds/wiki/Documentation.\n",
    "\n",
    "You can install `suds-jurko` from the IOOS conda channel with:\n",
    "\n",
    "    $ conda install -c https://conda.anaconda.org/ioos suds-jurko\n",
    "\n",
    "or with `pip`:\n",
    "\n",
    "\n",
    "    $ pip install suds-jurko\n"
   ]
  },
  {
   "cell_type": "code",
   "execution_count": 1,
   "metadata": {
    "collapsed": true
   },
   "outputs": [],
   "source": [
    "from suds.client import Client"
   ]
  },
  {
   "cell_type": "markdown",
   "metadata": {},
   "source": [
    "The service has 3 entry point URLs:\n",
    "\n",
    "* SPINE (St. Lawerence water level forecast & interpolation): https://ws-shc.qc.dfo-mpo.gc.ca/spine \n",
    "* observations: https://ws-shc.qc.dfo-mpo.gc.ca/observations\n",
    "* Tide table predictions: https://ws-shc.qc.dfo-mpo.gc.ca/predictions\n",
    "\n",
    "We're interesting in the observations."
   ]
  },
  {
   "cell_type": "code",
   "execution_count": 2,
   "metadata": {
    "collapsed": true
   },
   "outputs": [],
   "source": [
    "obs_url = 'https://ws-shc.qc.dfo-mpo.gc.ca/observations'"
   ]
  },
  {
   "cell_type": "markdown",
   "metadata": {},
   "source": [
    "We construct a client for the service using the entry point URL\n",
    "with the query string `wsdl`.\n",
    "[WSDL](https://en.wikipedia.org/wiki/Web_Services_Description_Language) stands for Web Service Description Language.\n",
    "A request to the entry point URL with `?wsdl` appended causes the service to return\n",
    "a description of the data that the service provides and the methods that it provides to\n",
    "access those data.\n",
    "The `suds.client.Client` constructor uses that information to build a client object for us\n",
    "that provides the methods that the service supports."
   ]
  },
  {
   "cell_type": "code",
   "execution_count": 3,
   "metadata": {
    "collapsed": false
   },
   "outputs": [
    {
     "name": "stdout",
     "output_type": "stream",
     "text": [
      "\n",
      "Suds ( https://fedorahosted.org/suds/ )  version: 0.6\n",
      "\n",
      "Service ( ObservationsService ) tns=\"http://client.ws.shc.gc.ca\"\n",
      "   Prefixes (3)\n",
      "      ns0 = \"http://client.ws.shc.gc.ca\"\n",
      "      ns1 = \"http://schemas.xmlsoap.org/soap/encoding/\"\n",
      "      ns2 = \"http://wds.dfo.gc.ca\"\n",
      "   Ports (1):\n",
      "      (observations)\n",
      "         Methods (13):\n",
      "            getBoundaryDate()\n",
      "            getBoundaryDepth()\n",
      "            getBoundarySpatial()\n",
      "            getDataInfo()\n",
      "            getInfo()\n",
      "            getLocalizedString(xs:string in0, ArrayOf_xsd_anyType in1)\n",
      "            getMetadata()\n",
      "            getMetadataInfo()\n",
      "            getName()\n",
      "            getResourceBundle()\n",
      "            getStatus()\n",
      "            getVersion()\n",
      "            search(xs:string dataName, xs:double latitudeMin, xs:double latitudeMax, xs:double longitudeMin, xs:double longitudeMax, xs:double depthMin, xs:double depthMax, xs:string dateMin, xs:string dateMax, xs:int start, xs:int sizeMax, xs:boolean metadata, xs:string metadataSelection, xs:string order)\n",
      "         Types (62):\n",
      "            ns1:Array\n",
      "            ArrayOf_tns1_Data\n",
      "            ArrayOf_tns1_Metadata\n",
      "            ArrayOf_tns1_SpatialCoordinate\n",
      "            ArrayOf_xsd_anyType\n",
      "            ns2:BoundaryDate\n",
      "            ns2:BoundaryDepth\n",
      "            ns2:BoundarySpatial\n",
      "            ns2:Data\n",
      "            ns1:ENTITIES\n",
      "            ns1:ENTITY\n",
      "            ns1:ID\n",
      "            ns1:IDREF\n",
      "            ns1:IDREFS\n",
      "            ns2:Metadata\n",
      "            ns1:NCName\n",
      "            ns1:NMTOKEN\n",
      "            ns1:NMTOKENS\n",
      "            ns1:NOTATION\n",
      "            ns1:Name\n",
      "            ns1:QName\n",
      "            ns2:RealBoundary\n",
      "            ns2:ResultSet\n",
      "            ns2:SpatialCoordinate\n",
      "            ns2:Status\n",
      "            ns2:StringBoundary\n",
      "            ns1:Struct\n",
      "            ns1:anyURI\n",
      "            ns1:arrayCoordinate\n",
      "            ns1:base64\n",
      "            ns1:base64Binary\n",
      "            ns1:boolean\n",
      "            ns1:byte\n",
      "            ns1:date\n",
      "            ns1:dateTime\n",
      "            ns1:decimal\n",
      "            ns1:double\n",
      "            ns1:duration\n",
      "            ns1:float\n",
      "            ns1:gDay\n",
      "            ns1:gMonth\n",
      "            ns1:gMonthDay\n",
      "            ns1:gYear\n",
      "            ns1:gYearMonth\n",
      "            ns1:hexBinary\n",
      "            ns1:int\n",
      "            ns1:integer\n",
      "            ns1:language\n",
      "            ns1:long\n",
      "            ns1:negativeInteger\n",
      "            ns1:nonNegativeInteger\n",
      "            ns1:nonPositiveInteger\n",
      "            ns1:normalizedString\n",
      "            ns1:positiveInteger\n",
      "            ns1:short\n",
      "            ns1:string\n",
      "            ns1:time\n",
      "            ns1:token\n",
      "            ns1:unsignedByte\n",
      "            ns1:unsignedInt\n",
      "            ns1:unsignedLong\n",
      "            ns1:unsignedShort\n",
      "\n",
      "\n"
     ]
    }
   ],
   "source": [
    "client = Client(obs_url + '?wsdl')\n",
    "print(client)"
   ]
  },
  {
   "cell_type": "markdown",
   "metadata": {},
   "source": [
    "Now we can ask the service to tell us about the data it has available:"
   ]
  },
  {
   "cell_type": "code",
   "execution_count": 4,
   "metadata": {
    "collapsed": false
   },
   "outputs": [
    {
     "data": {
      "text/plain": [
       "[(Metadata){\n",
       "    name = \"wl\"\n",
       "    value = \"Water levels at the SINECO stations\"\n",
       "  }, (Metadata){\n",
       "    name = \"sal\"\n",
       "    value = \"Salinity at the SINECO stations\"\n",
       "  }, (Metadata){\n",
       "    name = \"temp\"\n",
       "    value = \"Temperature at the SINECO stations\"\n",
       "  }, (Metadata){\n",
       "    name = \"atm_pres\"\n",
       "    value = \"Atmospheric pressure at the SINECO stations\"\n",
       "  }]"
      ]
     },
     "execution_count": 4,
     "metadata": {},
     "output_type": "execute_result"
    }
   ],
   "source": [
    "client.service.getDataInfo()"
   ]
  },
  {
   "cell_type": "markdown",
   "metadata": {},
   "source": [
    "**Spoiler Alert:** The salinity, temperature, and atmospheric pressure data items look exciting\n",
    "but it turns out that they are not available for the BC stations :-("
   ]
  },
  {
   "cell_type": "markdown",
   "metadata": {},
   "source": [
    "We can also ask the service for its metadata:"
   ]
  },
  {
   "cell_type": "code",
   "execution_count": 5,
   "metadata": {
    "collapsed": false
   },
   "outputs": [
    {
     "name": "stdout",
     "output_type": "stream",
     "text": [
      "[(Metadata){\n",
      "   name = \"station_id_list\"\n",
      "   value = \"01970,02330,02780,02985,03057,03075,03100,03110,03248,03280,03300,03335,03345,03353,03360,03365,03424,07277,07594,07654,07735,07786,07917,08408,08976,09338,09341,09348,09354,09850,15330,15520,15540,15660,15780,15930,15975,16005\"\n",
      " }, (Metadata){\n",
      "   name = \"station_id_position\"\n",
      "   value = \"[01970,47.378861,-61.857293][02330,48.997,-64.3805][02780,50.194833,-66.376833][02985,48.478333,-68.513667][03057,47.448833,-70.3655][03075,47.0895,-70.710833][03100,46.9965,-70.808167][03110,46.858167,-71.003333][03248,46.811111,-71.201944][03280,46.6965,-71.572833][03300,46.68116667,-71.877167][03335,46.561,-72.105833][03345,46.500333,-72.245833][03353,46.400333,-72.3795][03360,46.3405,-72.539167][03365,46.2725,-72.619333][03424,48.126333,-69.72975][07277,48.653601,-123.451646][07594,49.105896,-123.303368][07654,49.200077,-122.910377][07735,49.289554,-123.107339][07786,49.340556,-123.231978][07917,49.162788,-123.923523][08408,50.722505,-127.488214][08976,52.163191,-128.141296][09338,54.214931,-130.288737][09341,54.21523,-130.289003][09348,54.282836,-130.360667][09354,54.317148,-130.324338][09850,53.2521,-132.0717][15330,45.427667,-73.820667][15520,45.5035,-73.5525][15540,45.528667,-73.5425][15660,45.684333,-73.443667][15780,45.832667,-73.283167][15930,46.047167,-73.115667][15975,46.194833,-72.8955][16005,45.404667,-73.956333]\"\n",
      " }, (Metadata){\n",
      "   name = \"contact\"\n",
      "   value = \"Canadian Hydrographic Service (chsinfo@dfo-mpo.gc.ca)\"\n",
      " }, (Metadata){\n",
      "   name = \"language\"\n",
      "   value = \"English\"\n",
      " }, (Metadata){\n",
      "   name = \"name\"\n",
      "   value = \"Water levels Web Service\"\n",
      " }, (Metadata){\n",
      "   name = \"abstract\"\n",
      "   value = \"This Web Service gives the access to the observations at the SINECO stations\"\n",
      " }, (Metadata){\n",
      "   name = \"reference_date\"\n",
      "   value = \"2013-07-01 00:00:00 to 2015-12-11 22:30:00\"\n",
      " }, (Metadata){\n",
      "   name = \"station_id_name_list\"\n",
      "   value = \"[01970;;Cap-aux-Meules][02330;;Rivière-au-Renard][02780;;Sept-Îles][02985;;Rimouski][03057;;Saint-Joseph-de-la-Rive][03075;;Cap du Banc Brûlé][03100;;Saint-François I.O.][03110;;Saint-Laurent I.O.][03248;;Vieux Québec][03280;;Neuville][03300;;Portneuf][03335;;Deschaîllons][03345;;Batiscan][03353;;Bécancour][03360;;Trois-Rivières][03365;;Port-Saint-François][03424;;Baie Sainte-Catherine][07277;;Patricia Bay (BC)][07594;;SandHeads (BC)][07654;;New Westminster (BC)][07735;;Vancouver (BC)][07786;;Sandy Cove (BC)][07917;;Port of Nanaimo (BC)][08408;;Port Hardy 8310 (BC)][08976;;Bella Bella (BC)][09338;;PRPA - Aero Trading (BC)][09341;;Porpoise Channel East (BC)][09348;;PRPA - Fairview Terminal (BC)][09354;;Prince Rupert (BC)][09850;;Queen Charlotte City (BC)][15330;;Lac Saint-Louis (Pointe-Claire)][15520;;Montréal, Jetée no 1][15540;;Montréal, rue Frontenac][15660;;Varennes][15780;;Contrecoeur IOC][15930;;Sorel][15975;;Lac Saint-Pierre][16005;;Sainte-Anne-de-Bellevue]\"\n",
      " }, (Metadata){\n",
      "   name = \"metadata_selection_accepted\"\n",
      "   value = \"station_id,station_name,vl\"\n",
      " }, (Metadata){\n",
      "   name = \"max_rows\"\n",
      "   value = \"1000\"\n",
      " }, (Metadata){\n",
      "   name = \"total_nbr_obs\"\n",
      "   value = \"16927074\"\n",
      " }]\n"
     ]
    }
   ],
   "source": [
    "metadata = client.service.getMetadata()\n",
    "print(metadata)"
   ]
  },
  {
   "cell_type": "markdown",
   "metadata": {},
   "source": [
    "`getMetadata()` returns a list of `Metadata` objects,\n",
    "each of which has `name` and `value` attributes.\n",
    "\n",
    "Let's summarize the metadata down to each `Metadata` object's\n",
    "index in the list, and its `name`:"
   ]
  },
  {
   "cell_type": "code",
   "execution_count": 6,
   "metadata": {
    "collapsed": false
   },
   "outputs": [
    {
     "name": "stdout",
     "output_type": "stream",
     "text": [
      "0 station_id_list\n",
      "1 station_id_position\n",
      "2 contact\n",
      "3 language\n",
      "4 name\n",
      "5 abstract\n",
      "6 reference_date\n",
      "7 station_id_name_list\n",
      "8 metadata_selection_accepted\n",
      "9 max_rows\n",
      "10 total_nbr_obs\n"
     ]
    }
   ],
   "source": [
    "for index, item in enumerate(metadata):\n",
    "    print(index, item.name)"
   ]
  },
  {
   "cell_type": "markdown",
   "metadata": {},
   "source": [
    "Now let's extract the station ids and names of the BC stations:"
   ]
  },
  {
   "cell_type": "code",
   "execution_count": 8,
   "metadata": {
    "collapsed": false
   },
   "outputs": [
    {
     "name": "stdout",
     "output_type": "stream",
     "text": [
      "['07277;;Patricia Bay (BC)', '07594;;SandHeads (BC)', '07654;;New Westminster (BC)', '07735;;Vancouver (BC)', '07786;;Sandy Cove (BC)', '07917;;Port of Nanaimo (BC)', '08408;;Port Hardy 8310 (BC)', '08976;;Bella Bella (BC)', '09338;;PRPA - Aero Trading (BC)', '09341;;Porpoise Channel East (BC)', '09348;;PRPA - Fairview Terminal (BC)', '09354;;Prince Rupert (BC)', '09850;;Queen Charlotte City (BC)']\n"
     ]
    },
    {
     "data": {
      "text/plain": [
       "[Station(id='07277', name='Patricia Bay'),\n",
       " Station(id='07594', name='SandHeads'),\n",
       " Station(id='07654', name='New Westminster'),\n",
       " Station(id='07735', name='Vancouver'),\n",
       " Station(id='07786', name='Sandy Cove'),\n",
       " Station(id='07917', name='Port of Nanaimo'),\n",
       " Station(id='08408', name='Port Hardy 8310'),\n",
       " Station(id='08976', name='Bella Bella'),\n",
       " Station(id='09338', name='PRPA - Aero Trading'),\n",
       " Station(id='09341', name='Porpoise Channel East'),\n",
       " Station(id='09348', name='PRPA - Fairview Terminal'),\n",
       " Station(id='09354', name='Prince Rupert'),\n",
       " Station(id='09850', name='Queen Charlotte City')]"
      ]
     },
     "execution_count": 8,
     "metadata": {},
     "output_type": "execute_result"
    }
   ],
   "source": [
    "from collections import namedtuple\n",
    "\n",
    "Station = namedtuple('Station', 'id, name')\n",
    "\n",
    "stn_id_names = metadata[7]\n",
    "bc_stns = [stn for stn in stn_id_names.value[1:-1].split('][') if '(BC)' in stn]\n",
    "print(bc_stns)\n",
    "stns = [Station(stn.split(';;')[0], stn.split(';;')[1][:-5]) for stn in bc_stns]\n",
    "stns"
   ]
  },
  {
   "cell_type": "markdown",
   "metadata": {},
   "source": [
    "## Getting Data\n",
    "\n",
    "The `search()` method is how we get data from the service.\n",
    "It's call signature was printed above when we printed the `client`.\n",
    "Here it is again with some linebreaks added to improve readability:\n",
    "```\n",
    "search(\n",
    "    xs:string dataName,\n",
    "    xs:double latitudeMin, xs:double latitudeMax,\n",
    "    xs:double longitudeMin, xs:double longitudeMax,\n",
    "    xs:double depthMin, xs:double depthMax,\n",
    "    xs:string dateMin, xs:string dateMax,\n",
    "    xs:int start, xs:int sizeMax,\n",
    "    xs:boolean metadata,\n",
    "    xs:string metadataSelection,\n",
    "    xs:string order,\n",
    ")\n",
    "```\n",
    "\n",
    "So, to get the water level at Point Atkinson at 18:00 on 3-Nov-2015, we do:"
   ]
  },
  {
   "cell_type": "code",
   "execution_count": 9,
   "metadata": {
    "collapsed": false
   },
   "outputs": [
    {
     "data": {
      "text/plain": [
       "(ResultSet){\n",
       "   boundaryDate = \n",
       "      (BoundaryDate){\n",
       "         max = \"2015-11-03 18:00:00\"\n",
       "         min = \"2015-11-03 18:00:00\"\n",
       "      }\n",
       "   boundaryDepth = \n",
       "      (BoundaryDepth){\n",
       "         max = 0.0\n",
       "         min = 0.0\n",
       "      }\n",
       "   boundarySpatial = \n",
       "      (BoundarySpatial){\n",
       "         latitude = \n",
       "            (RealBoundary){\n",
       "               max = 49.289554\n",
       "               min = 49.289554\n",
       "            }\n",
       "         longitude = \n",
       "            (RealBoundary){\n",
       "               max = -123.107339\n",
       "               min = -123.107339\n",
       "            }\n",
       "      }\n",
       "   boundaryValue = \n",
       "      (StringBoundary){\n",
       "         max = \"4.08\"\n",
       "         min = \"4.08\"\n",
       "      }\n",
       "   data[] = \n",
       "      (Data){\n",
       "         boundaryDate = \n",
       "            (BoundaryDate){\n",
       "               max = \"2015-11-03 18:00:00\"\n",
       "               min = \"2015-11-03 18:00:00\"\n",
       "            }\n",
       "         boundaryDepth = \n",
       "            (BoundaryDepth){\n",
       "               max = 0.0\n",
       "               min = 0.0\n",
       "            }\n",
       "         metadata[] = \n",
       "            (Metadata){\n",
       "               name = \"station_id\"\n",
       "               value = \"07735\"\n",
       "            },\n",
       "            (Metadata){\n",
       "               name = \"station_name\"\n",
       "               value = \"Vancouver (BC)\"\n",
       "            },\n",
       "            (Metadata){\n",
       "               name = \"vl\"\n",
       "               value = \"2\"\n",
       "            },\n",
       "         spatialCoordinates[] = \n",
       "            (SpatialCoordinate){\n",
       "               latitude = 49.289554\n",
       "               longitude = -123.107339\n",
       "            },\n",
       "         value = \"4.08\"\n",
       "      },\n",
       "   metadata[] = \n",
       "      (Metadata){\n",
       "         name = \"processing_time\"\n",
       "         value = \"12\"\n",
       "      },\n",
       "   size = 1\n",
       "   status = \n",
       "      (Status){\n",
       "         message = \"Ok\"\n",
       "         status = \"ok\"\n",
       "      }\n",
       " }"
      ]
     },
     "execution_count": 9,
     "metadata": {},
     "output_type": "execute_result"
    }
   ],
   "source": [
    "client.service.search(\n",
    "    'wl', \n",
    "    -90, 90, \n",
    "    -180, 180, \n",
    "    0, 0, \n",
    "    '2015-11-03 17:00:00', '2015-11-03 18:00:00', \n",
    "    1, 1, \n",
    "    True, \n",
    "    'station_id=07735', \n",
    "    'desc',\n",
    ")"
   ]
  },
  {
   "cell_type": "markdown",
   "metadata": {},
   "source": [
    "Let's do that again but catch the search result in a variable to that we can pick it apart:"
   ]
  },
  {
   "cell_type": "code",
   "execution_count": 10,
   "metadata": {
    "collapsed": false
   },
   "outputs": [],
   "source": [
    "result = client.service.search(\n",
    "    'wl', -90, 90, -180, 180, 0, 0, \n",
    "    '2015-11-03 17:00:00', '2015-11-03 18:00:00', \n",
    "    1, 1, True, 'station_id=07735', 'desc')"
   ]
  },
  {
   "cell_type": "markdown",
   "metadata": {},
   "source": [
    "Summarizing the attribute names in `result`\n",
    "(and ignoring the \"dunder\" attributes):"
   ]
  },
  {
   "cell_type": "code",
   "execution_count": 11,
   "metadata": {
    "collapsed": false
   },
   "outputs": [
    {
     "data": {
      "text/plain": [
       "['boundaryDate',\n",
       " 'boundaryDepth',\n",
       " 'boundarySpatial',\n",
       " 'boundaryValue',\n",
       " 'data',\n",
       " 'metadata',\n",
       " 'size',\n",
       " 'status']"
      ]
     },
     "execution_count": 11,
     "metadata": {},
     "output_type": "execute_result"
    }
   ],
   "source": [
    "[attr for attr in dir(result) if not attr.startswith('__')]"
   ]
  },
  {
   "cell_type": "markdown",
   "metadata": {},
   "source": [
    "The `boundary*` attributes provide information about the limits on the data.\n",
    "`metadata` is metadata about the processing of our search request.\n",
    "`size` is the number of items that were returned.\n",
    "`status` is the service status.\n",
    "So, the only really interesting thing is the `data` attribute.\n",
    "\n",
    "`result.data` is a list of `Data` objects that contains `result.size` items.\n",
    "The attribute names of each `Data` object\n",
    "(again ignoring \"dunder\" attributes) are:"
   ]
  },
  {
   "cell_type": "code",
   "execution_count": 12,
   "metadata": {
    "collapsed": false
   },
   "outputs": [
    {
     "data": {
      "text/plain": [
       "['boundaryDate', 'boundaryDepth', 'metadata', 'spatialCoordinates', 'value']"
      ]
     },
     "execution_count": 12,
     "metadata": {},
     "output_type": "execute_result"
    }
   ],
   "source": [
    "[attr for attr in dir(result.data[0]) if not attr.startswith('__')]"
   ]
  },
  {
   "cell_type": "markdown",
   "metadata": {},
   "source": [
    "So, the water level at Point Atkinson at 18:00 on 3-Nov-2015 was:"
   ]
  },
  {
   "cell_type": "code",
   "execution_count": 13,
   "metadata": {
    "collapsed": false
   },
   "outputs": [
    {
     "data": {
      "text/plain": [
       "4.08"
      ]
     },
     "execution_count": 13,
     "metadata": {},
     "output_type": "execute_result"
    }
   ],
   "source": [
    "result.data[0].value"
   ]
  }
 ],
 "metadata": {
  "kernelspec": {
   "display_name": "Python 3",
   "language": "python",
   "name": "python3"
  },
  "language_info": {
   "codemirror_mode": {
    "name": "ipython",
    "version": 3
   },
   "file_extension": ".py",
   "mimetype": "text/x-python",
   "name": "python",
   "nbconvert_exporter": "python",
   "pygments_lexer": "ipython3",
   "version": "3.5.0"
  }
 },
 "nbformat": 4,
 "nbformat_minor": 0
}
