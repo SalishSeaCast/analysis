{
 "cells": [
  {
   "cell_type": "markdown",
   "metadata": {},
   "source": [
    "# Getting Data from DFO Water Levels Service\n",
    "\n",
    "Example code to access the DFO Water Levels web service,\n",
    "and information about what data are available there."
   ]
  },
  {
   "cell_type": "markdown",
   "metadata": {},
   "source": [
    "Service description: http://www.tides.gc.ca/eng/info/WebServicesWLD\n",
    "\n",
    "Technical specification (PDF): http://www.tides.gc.ca/docs/Specifications%20-%20Spine%20observation%20and%20predictions%202.0.3%28en%29.pdf"
   ]
  },
  {
   "cell_type": "markdown",
   "metadata": {},
   "source": [
    "The service uses the [SOAP](https://en.wikipedia.org/wiki/SOAP) protocol.\n",
    "The are several Python libraries for working with SOAP services.\n",
    "The one used here is [suds-jurko](https://bitbucket.org/jurko/suds),\n",
    "a Python 3 port of the (apparently) no longer maintained [suds](http://fedorahosted.org/suds) library.\n",
    "Docs for `suds` and `suds-jurko` are at https://fedorahosted.org/suds/wiki/Documentation.\n",
    "\n",
    "You can install `suds-jurko` from the IOOS conda channel with:\n",
    "\n",
    "    $ conda install -c https://conda.anaconda.org/ioos suds-jurko\n",
    "\n",
    "or with `pip`:\n",
    "\n",
    "\n",
    "    $ pip install suds-jurko\n"
   ]
  },
  {
   "cell_type": "code",
   "execution_count": 1,
   "metadata": {
    "collapsed": true
   },
   "outputs": [],
   "source": [
    "from suds.client import Client"
   ]
  },
  {
   "cell_type": "markdown",
   "metadata": {},
   "source": [
    "The service has 3 entry point URLs:\n",
    "\n",
    "* SPINE (St. Lawerence water level forecast & interpolation): https://ws-shc.qc.dfo-mpo.gc.ca/spine \n",
    "* observations: https://ws-shc.qc.dfo-mpo.gc.ca/observations\n",
    "* Tide table predictions: https://ws-shc.qc.dfo-mpo.gc.ca/predictions\n",
    "\n",
    "We're interesting in the observations."
   ]
  },
  {
   "cell_type": "code",
   "execution_count": 2,
   "metadata": {
    "collapsed": true
   },
   "outputs": [],
   "source": [
    "obs_url = 'https://ws-shc.qc.dfo-mpo.gc.ca/observations'"
   ]
  },
  {
   "cell_type": "code",
   "execution_count": 9,
   "metadata": {
    "collapsed": true
   },
   "outputs": [],
   "source": [
    "client = Client(obs_url + '?wsdl')"
   ]
  },
  {
   "cell_type": "code",
   "execution_count": 11,
   "metadata": {
    "collapsed": false
   },
   "outputs": [
    {
     "name": "stdout",
     "output_type": "stream",
     "text": [
      "\n",
      "Suds ( https://fedorahosted.org/suds/ )  version: 0.6\n",
      "\n",
      "Service ( ObservationsService ) tns=\"http://client.ws.shc.gc.ca\"\n",
      "   Prefixes (3)\n",
      "      ns0 = \"http://client.ws.shc.gc.ca\"\n",
      "      ns1 = \"http://schemas.xmlsoap.org/soap/encoding/\"\n",
      "      ns2 = \"http://wds.dfo.gc.ca\"\n",
      "   Ports (1):\n",
      "      (observations)\n",
      "         Methods (13):\n",
      "            getBoundaryDate()\n",
      "            getBoundaryDepth()\n",
      "            getBoundarySpatial()\n",
      "            getDataInfo()\n",
      "            getInfo()\n",
      "            getLocalizedString(xs:string in0, ArrayOf_xsd_anyType in1)\n",
      "            getMetadata()\n",
      "            getMetadataInfo()\n",
      "            getName()\n",
      "            getResourceBundle()\n",
      "            getStatus()\n",
      "            getVersion()\n",
      "            search(xs:string dataName, xs:double latitudeMin, xs:double latitudeMax, xs:double longitudeMin, xs:double longitudeMax, xs:double depthMin, xs:double depthMax, xs:string dateMin, xs:string dateMax, xs:int start, xs:int sizeMax, xs:boolean metadata, xs:string metadataSelection, xs:string order)\n",
      "         Types (62):\n",
      "            ns1:Array\n",
      "            ArrayOf_tns1_Data\n",
      "            ArrayOf_tns1_Metadata\n",
      "            ArrayOf_tns1_SpatialCoordinate\n",
      "            ArrayOf_xsd_anyType\n",
      "            ns2:BoundaryDate\n",
      "            ns2:BoundaryDepth\n",
      "            ns2:BoundarySpatial\n",
      "            ns2:Data\n",
      "            ns1:ENTITIES\n",
      "            ns1:ENTITY\n",
      "            ns1:ID\n",
      "            ns1:IDREF\n",
      "            ns1:IDREFS\n",
      "            ns2:Metadata\n",
      "            ns1:NCName\n",
      "            ns1:NMTOKEN\n",
      "            ns1:NMTOKENS\n",
      "            ns1:NOTATION\n",
      "            ns1:Name\n",
      "            ns1:QName\n",
      "            ns2:RealBoundary\n",
      "            ns2:ResultSet\n",
      "            ns2:SpatialCoordinate\n",
      "            ns2:Status\n",
      "            ns2:StringBoundary\n",
      "            ns1:Struct\n",
      "            ns1:anyURI\n",
      "            ns1:arrayCoordinate\n",
      "            ns1:base64\n",
      "            ns1:base64Binary\n",
      "            ns1:boolean\n",
      "            ns1:byte\n",
      "            ns1:date\n",
      "            ns1:dateTime\n",
      "            ns1:decimal\n",
      "            ns1:double\n",
      "            ns1:duration\n",
      "            ns1:float\n",
      "            ns1:gDay\n",
      "            ns1:gMonth\n",
      "            ns1:gMonthDay\n",
      "            ns1:gYear\n",
      "            ns1:gYearMonth\n",
      "            ns1:hexBinary\n",
      "            ns1:int\n",
      "            ns1:integer\n",
      "            ns1:language\n",
      "            ns1:long\n",
      "            ns1:negativeInteger\n",
      "            ns1:nonNegativeInteger\n",
      "            ns1:nonPositiveInteger\n",
      "            ns1:normalizedString\n",
      "            ns1:positiveInteger\n",
      "            ns1:short\n",
      "            ns1:string\n",
      "            ns1:time\n",
      "            ns1:token\n",
      "            ns1:unsignedByte\n",
      "            ns1:unsignedInt\n",
      "            ns1:unsignedLong\n",
      "            ns1:unsignedShort\n",
      "\n",
      "\n"
     ]
    }
   ],
   "source": [
    "print(client)"
   ]
  },
  {
   "cell_type": "code",
   "execution_count": 10,
   "metadata": {
    "collapsed": false
   },
   "outputs": [
    {
     "data": {
      "text/plain": [
       "(Status){\n",
       "   message = \"Ok\"\n",
       "   status = \"ok\"\n",
       " }"
      ]
     },
     "execution_count": 10,
     "metadata": {},
     "output_type": "execute_result"
    }
   ],
   "source": [
    "client.service.getStatus()"
   ]
  },
  {
   "cell_type": "code",
   "execution_count": 12,
   "metadata": {
    "collapsed": false
   },
   "outputs": [
    {
     "data": {
      "text/plain": [
       "1.0.0"
      ]
     },
     "execution_count": 12,
     "metadata": {},
     "output_type": "execute_result"
    }
   ],
   "source": [
    "client.service.getVersion()"
   ]
  },
  {
   "cell_type": "code",
   "execution_count": 13,
   "metadata": {
    "collapsed": false
   },
   "outputs": [
    {
     "data": {
      "text/plain": [
       "This Web Service gives the access to the observations at the SINECO stations"
      ]
     },
     "execution_count": 13,
     "metadata": {},
     "output_type": "execute_result"
    }
   ],
   "source": [
    "client.service.getInfo()"
   ]
  },
  {
   "cell_type": "code",
   "execution_count": 14,
   "metadata": {
    "collapsed": false
   },
   "outputs": [
    {
     "data": {
      "text/plain": [
       "[(Metadata){\n",
       "    name = \"wl\"\n",
       "    value = \"Water levels at the SINECO stations\"\n",
       "  }, (Metadata){\n",
       "    name = \"sal\"\n",
       "    value = \"Salinity at the SINECO stations\"\n",
       "  }, (Metadata){\n",
       "    name = \"temp\"\n",
       "    value = \"Temperature at the SINECO stations\"\n",
       "  }, (Metadata){\n",
       "    name = \"atm_pres\"\n",
       "    value = \"Atmospheric pressure at the SINECO stations\"\n",
       "  }]"
      ]
     },
     "execution_count": 14,
     "metadata": {},
     "output_type": "execute_result"
    }
   ],
   "source": [
    "client.service.getDataInfo()"
   ]
  },
  {
   "cell_type": "code",
   "execution_count": 16,
   "metadata": {
    "collapsed": false
   },
   "outputs": [
    {
     "name": "stdout",
     "output_type": "stream",
     "text": [
      "[(Metadata){\n",
      "   name = \"station_id_list\"\n",
      "   value = \"01970,02330,02780,02985,03057,03071,03075,03100,03110,03248,03280,03300,03335,03345,03353,03360,03365,03424,07277,07594,07654,07735,07786,07917,08408,09338,09341,09348,09354,15330,15520,15540,15660,15780,15930,15975,16005\"\n",
      " }, (Metadata){\n",
      "   name = \"station_id_position\"\n",
      "   value = \"[01970,47.378861,-61.857293][02330,48.997,-64.3805][02780,50.194833,-66.376833][02985,48.478333,-68.513667][03057,47.448833,-70.3655][03071,47.161833,-70.607667][03075,47.0895,-70.710833][03100,46.9965,-70.808167][03110,46.858167,-71.003333][03248,46.811111,-71.201944][03280,46.6965,-71.572833][03300,46.68116667,-71.877167][03335,46.561,-72.105833][03345,46.500333,-72.245833][03353,46.400333,-72.3795][03360,46.3405,-72.539167][03365,46.2725,-72.619333][03424,48.126333,-69.72975][07277,48.653601,-123.451646][07594,49.105896,-123.303368][07654,49.200077,-122.910377][07735,49.289554,-123.107339][07786,49.340556,-123.231978][07917,49.162788,-123.923523][08408,50.722505,-127.488214][09338,54.214931,-130.288737][09341,54.21523,-130.289003][09348,54.282836,-130.360667][09354,54.317148,-130.324338][15330,45.427667,-73.820667][15520,45.5035,-73.5525][15540,45.528667,-73.5425][15660,45.684333,-73.443667][15780,45.832667,-73.283167][15930,46.047167,-73.115667][15975,46.194833,-72.8955][16005,45.404667,-73.956333]\"\n",
      " }, (Metadata){\n",
      "   name = \"contact\"\n",
      "   value = \"Canadian Hydrographic Service (chsinfo@dfo-mpo.gc.ca)\"\n",
      " }, (Metadata){\n",
      "   name = \"language\"\n",
      "   value = \"English\"\n",
      " }, (Metadata){\n",
      "   name = \"name\"\n",
      "   value = \"Water levels Web Service\"\n",
      " }, (Metadata){\n",
      "   name = \"abstract\"\n",
      "   value = \"This Web Service gives the access to the observations at the SINECO stations\"\n",
      " }, (Metadata){\n",
      "   name = \"reference_date\"\n",
      "   value = \"2013-07-01 00:00:00 to 2015-11-03 23:48:00\"\n",
      " }, (Metadata){\n",
      "   name = \"station_id_name_list\"\n",
      "   value = \"[01970;;Cap-aux-Meules][02330;;Rivière-au-Renard][02780;;Sept-Îles][02985;;Rimouski][03057;;Saint-Joseph-de-la-Rive][03071;;Rocher Neptune][03075;;Cap du Banc Brûlé][03100;;Saint-François I.O.][03110;;Saint-Laurent I.O.][03248;;Vieux Québec][03280;;Neuville][03300;;Portneuf][03335;;Deschaîllons][03345;;Batiscan][03353;;Bécancour][03360;;Trois-Rivières][03365;;Port-Saint-François][03424;;Baie Sainte-Catherine][07277;;Patricia Bay (BC)][07594;;SandHeads (BC)][07654;;New Westminster (BC)][07735;;Vancouver (BC)][07786;;Sandy Cove (BC)][07917;;Port of Nanaimo (BC)][08408;;Port Hardy 8310][09338;;PRPA - Aero Trading (BC)][09341;;Porpoise Channel East (BC)][09348;;PRPA - Fairview Terminal (BC)][09354;;Prince Rupert (BC)][15330;;Lac Saint-Louis (Pointe-Claire)][15520;;Montréal, Jetée no 1][15540;;Montréal, rue Frontenac][15660;;Varennes][15780;;Contrecoeur IOC][15930;;Sorel][15975;;Lac Saint-Pierre][16005;;Sainte-Anne-de-Bellevue]\"\n",
      " }, (Metadata){\n",
      "   name = \"metadata_selection_accepted\"\n",
      "   value = \"station_id,station_name,vl\"\n",
      " }, (Metadata){\n",
      "   name = \"max_rows\"\n",
      "   value = \"1000\"\n",
      " }, (Metadata){\n",
      "   name = \"total_nbr_obs\"\n",
      "   value = \"15832262\"\n",
      " }]\n"
     ]
    }
   ],
   "source": [
    "metadata = client.service.getMetadata()\n",
    "print(metadata)"
   ]
  },
  {
   "cell_type": "code",
   "execution_count": 17,
   "metadata": {
    "collapsed": false
   },
   "outputs": [
    {
     "data": {
      "text/plain": [
       "11"
      ]
     },
     "execution_count": 17,
     "metadata": {},
     "output_type": "execute_result"
    }
   ],
   "source": [
    "len(metadata)"
   ]
  },
  {
   "cell_type": "code",
   "execution_count": 20,
   "metadata": {
    "collapsed": false
   },
   "outputs": [],
   "source": [
    "stn_names = metadata[7]"
   ]
  },
  {
   "cell_type": "code",
   "execution_count": 56,
   "metadata": {
    "collapsed": false
   },
   "outputs": [
    {
     "data": {
      "text/plain": [
       "['07277;;Patricia Bay (BC)',\n",
       " '07594;;SandHeads (BC)',\n",
       " '07654;;New Westminster (BC)',\n",
       " '07735;;Vancouver (BC)',\n",
       " '07786;;Sandy Cove (BC)',\n",
       " '07917;;Port of Nanaimo (BC)',\n",
       " '09338;;PRPA - Aero Trading (BC)',\n",
       " '09341;;Porpoise Channel East (BC)',\n",
       " '09348;;PRPA - Fairview Terminal (BC)',\n",
       " '09354;;Prince Rupert (BC)']"
      ]
     },
     "execution_count": 56,
     "metadata": {},
     "output_type": "execute_result"
    }
   ],
   "source": [
    "[stn for stn in stn_names.value[1:-1].split('][') if '(BC)' in stn]"
   ]
  },
  {
   "cell_type": "markdown",
   "metadata": {},
   "source": [
    "search(xs:string dataName, xs:double latitudeMin, xs:double latitudeMax, xs:double longitudeMin, xs:double longitudeMax, xs:double depthMin, xs:double depthMax, xs:string dateMin, xs:string dateMax, xs:int start, xs:int sizeMax, xs:boolean metadata, xs:string metadataSelection, xs:string order)"
   ]
  },
  {
   "cell_type": "code",
   "execution_count": 36,
   "metadata": {
    "collapsed": false
   },
   "outputs": [
    {
     "data": {
      "text/plain": [
       "(ResultSet){\n",
       "   boundaryDate = \n",
       "      (BoundaryDate){\n",
       "         max = \"2015-11-03 17:00:00\"\n",
       "         min = \"2015-11-03 17:00:00\"\n",
       "      }\n",
       "   boundaryDepth = \n",
       "      (BoundaryDepth){\n",
       "         max = 0.0\n",
       "         min = 0.0\n",
       "      }\n",
       "   boundarySpatial = \n",
       "      (BoundarySpatial){\n",
       "         latitude = \n",
       "            (RealBoundary){\n",
       "               max = 49.289554\n",
       "               min = 49.289554\n",
       "            }\n",
       "         longitude = \n",
       "            (RealBoundary){\n",
       "               max = -123.107339\n",
       "               min = -123.107339\n",
       "            }\n",
       "      }\n",
       "   boundaryValue = \n",
       "      (StringBoundary){\n",
       "         max = \"3.54\"\n",
       "         min = \"3.54\"\n",
       "      }\n",
       "   data[] = \n",
       "      (Data){\n",
       "         boundaryDate = \n",
       "            (BoundaryDate){\n",
       "               max = \"2015-11-03 17:00:00\"\n",
       "               min = \"2015-11-03 17:00:00\"\n",
       "            }\n",
       "         boundaryDepth = \n",
       "            (BoundaryDepth){\n",
       "               max = 0.0\n",
       "               min = 0.0\n",
       "            }\n",
       "         metadata[] = \n",
       "            (Metadata){\n",
       "               name = \"station_id\"\n",
       "               value = \"07735\"\n",
       "            },\n",
       "            (Metadata){\n",
       "               name = \"station_name\"\n",
       "               value = \"Vancouver (BC)\"\n",
       "            },\n",
       "            (Metadata){\n",
       "               name = \"vl\"\n",
       "               value = \"2\"\n",
       "            },\n",
       "         spatialCoordinates[] = \n",
       "            (SpatialCoordinate){\n",
       "               latitude = 49.289554\n",
       "               longitude = -123.107339\n",
       "            },\n",
       "         value = \"3.54\"\n",
       "      },\n",
       "   metadata[] = \n",
       "      (Metadata){\n",
       "         name = \"processing_time\"\n",
       "         value = \"26\"\n",
       "      },\n",
       "   size = 1\n",
       "   status = \n",
       "      (Status){\n",
       "         message = \"Ok\"\n",
       "         status = \"ok\"\n",
       "      }\n",
       " }"
      ]
     },
     "execution_count": 36,
     "metadata": {},
     "output_type": "execute_result"
    }
   ],
   "source": [
    "client.service.search('wl', -90, 90, -180, 180, 0, 0, '2015-11-03 17:00:00', '2015-11-03 18:00:00', 1, 1, True, 'station_id=07735', 'asc')"
   ]
  },
  {
   "cell_type": "code",
   "execution_count": 45,
   "metadata": {
    "collapsed": false
   },
   "outputs": [
    {
     "name": "stdout",
     "output_type": "stream",
     "text": [
      "(ResultSet){\n",
      "   boundaryDate = \n",
      "      (BoundaryDate){\n",
      "         max = \"2015-11-03 17:00:00\"\n",
      "         min = \"2015-11-03 17:00:00\"\n",
      "      }\n",
      "   boundaryDepth = \n",
      "      (BoundaryDepth){\n",
      "         max = 0.0\n",
      "         min = 0.0\n",
      "      }\n",
      "   boundarySpatial = \n",
      "      (BoundarySpatial){\n",
      "         latitude = \n",
      "            (RealBoundary){\n",
      "               max = 49.289554\n",
      "               min = 49.289554\n",
      "            }\n",
      "         longitude = \n",
      "            (RealBoundary){\n",
      "               max = -123.107339\n",
      "               min = -123.107339\n",
      "            }\n",
      "      }\n",
      "   boundaryValue = \n",
      "      (StringBoundary){\n",
      "         max = \"3.54\"\n",
      "         min = \"3.54\"\n",
      "      }\n",
      "   data[] = \n",
      "      (Data){\n",
      "         boundaryDate = \n",
      "            (BoundaryDate){\n",
      "               max = \"2015-11-03 17:00:00\"\n",
      "               min = \"2015-11-03 17:00:00\"\n",
      "            }\n",
      "         boundaryDepth = \n",
      "            (BoundaryDepth){\n",
      "               max = 0.0\n",
      "               min = 0.0\n",
      "            }\n",
      "         metadata[] = \n",
      "            (Metadata){\n",
      "               name = \"station_id\"\n",
      "               value = \"07735\"\n",
      "            },\n",
      "            (Metadata){\n",
      "               name = \"station_name\"\n",
      "               value = \"Vancouver (BC)\"\n",
      "            },\n",
      "            (Metadata){\n",
      "               name = \"vl\"\n",
      "               value = \"2\"\n",
      "            },\n",
      "         spatialCoordinates[] = \n",
      "            (SpatialCoordinate){\n",
      "               latitude = 49.289554\n",
      "               longitude = -123.107339\n",
      "            },\n",
      "         value = \"3.54\"\n",
      "      },\n",
      "   metadata[] = \n",
      "      (Metadata){\n",
      "         name = \"processing_time\"\n",
      "         value = \"13\"\n",
      "      },\n",
      "   size = 1\n",
      "   status = \n",
      "      (Status){\n",
      "         message = \"Ok\"\n",
      "         status = \"ok\"\n",
      "      }\n",
      " }\n"
     ]
    }
   ],
   "source": [
    "data = client.service.search('wl', -90, 90, -180, 180, 0, 0, '2015-11-03 17:00:00', '2015-11-03 18:00:00', 1, 1, True, 'station_id=07735', 'asc')\n",
    "print(data)"
   ]
  },
  {
   "cell_type": "code",
   "execution_count": 46,
   "metadata": {
    "collapsed": false
   },
   "outputs": [
    {
     "data": {
      "text/plain": [
       "suds.sudsobject.ResultSet"
      ]
     },
     "execution_count": 46,
     "metadata": {},
     "output_type": "execute_result"
    }
   ],
   "source": [
    "type(data)"
   ]
  },
  {
   "cell_type": "code",
   "execution_count": 47,
   "metadata": {
    "collapsed": false
   },
   "outputs": [
    {
     "data": {
      "text/plain": [
       "[(Data){\n",
       "    boundaryDate = \n",
       "       (BoundaryDate){\n",
       "          max = \"2015-11-03 17:00:00\"\n",
       "          min = \"2015-11-03 17:00:00\"\n",
       "       }\n",
       "    boundaryDepth = \n",
       "       (BoundaryDepth){\n",
       "          max = 0.0\n",
       "          min = 0.0\n",
       "       }\n",
       "    metadata[] = \n",
       "       (Metadata){\n",
       "          name = \"station_id\"\n",
       "          value = \"07735\"\n",
       "       },\n",
       "       (Metadata){\n",
       "          name = \"station_name\"\n",
       "          value = \"Vancouver (BC)\"\n",
       "       },\n",
       "       (Metadata){\n",
       "          name = \"vl\"\n",
       "          value = \"2\"\n",
       "       },\n",
       "    spatialCoordinates[] = \n",
       "       (SpatialCoordinate){\n",
       "          latitude = 49.289554\n",
       "          longitude = -123.107339\n",
       "       },\n",
       "    value = \"3.54\"\n",
       "  }]"
      ]
     },
     "execution_count": 47,
     "metadata": {},
     "output_type": "execute_result"
    }
   ],
   "source": [
    "data.data"
   ]
  },
  {
   "cell_type": "code",
   "execution_count": 48,
   "metadata": {
    "collapsed": true
   },
   "outputs": [],
   "source": [
    "d = data.data"
   ]
  },
  {
   "cell_type": "code",
   "execution_count": 49,
   "metadata": {
    "collapsed": false
   },
   "outputs": [
    {
     "data": {
      "text/plain": [
       "list"
      ]
     },
     "execution_count": 49,
     "metadata": {},
     "output_type": "execute_result"
    }
   ],
   "source": [
    "type(d)"
   ]
  },
  {
   "cell_type": "code",
   "execution_count": 50,
   "metadata": {
    "collapsed": false
   },
   "outputs": [
    {
     "data": {
      "text/plain": [
       "1"
      ]
     },
     "execution_count": 50,
     "metadata": {},
     "output_type": "execute_result"
    }
   ],
   "source": [
    "len(d)"
   ]
  },
  {
   "cell_type": "code",
   "execution_count": 51,
   "metadata": {
    "collapsed": true
   },
   "outputs": [],
   "source": [
    "d0 = d[0]"
   ]
  },
  {
   "cell_type": "code",
   "execution_count": 52,
   "metadata": {
    "collapsed": false
   },
   "outputs": [
    {
     "data": {
      "text/plain": [
       "suds.sudsobject.Data"
      ]
     },
     "execution_count": 52,
     "metadata": {},
     "output_type": "execute_result"
    }
   ],
   "source": [
    "type(d0)"
   ]
  },
  {
   "cell_type": "code",
   "execution_count": 53,
   "metadata": {
    "collapsed": false
   },
   "outputs": [
    {
     "data": {
      "text/plain": [
       "3.54"
      ]
     },
     "execution_count": 53,
     "metadata": {},
     "output_type": "execute_result"
    }
   ],
   "source": [
    "d0.value"
   ]
  },
  {
   "cell_type": "code",
   "execution_count": null,
   "metadata": {
    "collapsed": true
   },
   "outputs": [],
   "source": []
  }
 ],
 "metadata": {
  "kernelspec": {
   "display_name": "Python 3",
   "language": "python",
   "name": "python3"
  },
  "language_info": {
   "codemirror_mode": {
    "name": "ipython",
    "version": 3
   },
   "file_extension": ".py",
   "mimetype": "text/x-python",
   "name": "python",
   "nbconvert_exporter": "python",
   "pygments_lexer": "ipython3",
   "version": "3.5.0"
  }
 },
 "nbformat": 4,
 "nbformat_minor": 0
}
