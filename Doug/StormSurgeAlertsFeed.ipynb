{
 "cells": [
  {
   "cell_type": "markdown",
   "metadata": {},
   "source": [
    "# Storm Surge Alerts Feeds\n",
    "\n",
    "## Development Notes\n",
    "\n",
    "Notes about development of ATOM/RSS feeds for storm surge alerts.\n",
    "Started in the process of working out the details of how to provide\n",
    "a feed to Port Metro Vancouver during the 2015/2016 storm surge season.\n",
    "Consideration is also given to the possibility of providing a wider collection\n",
    "of feeds in the future."
   ]
  },
  {
   "cell_type": "markdown",
   "metadata": {},
   "source": [
    "Port Metro Vancouver presently consumes [Environment Canada feeds](https://weather.gc.ca/business/index_e.html),\n",
    "so we use that as our pattern.\n",
    "\n",
    "Feeds are generically referred to as RSS,\n",
    "but there are 2 current standards for them:\n",
    "[ATOM](https://en.wikipedia.org/wiki/Atom_%28standard%29)\n",
    "and [RSS-2.0](https://en.wikipedia.org/wiki/RSS).\n",
    "EC uses ATOM,\n",
    "and it seems to be somewhat more favourable technically,\n",
    "so that's what we'll focus on initially.\n",
    "\n",
    "The IETF standard for ATOM is [RFC 4287](https://tools.ietf.org/html/rfc4287).\n",
    "\n",
    "The [Vancouver weather forecast web page](http://weather.gc.ca/city/pages/bc-74_metric_e.html) \n",
    "has links to the [weather forecast feed](http://weather.gc.ca/rss/city/bc-74_e.xml),\n",
    "and the [weather alerts feed](http://weather.gc.ca/rss/warning/bc-74_e.xml).\n",
    "Using the Firefox \"View Page Source\" function on the page that loads from either of those\n",
    "feed links lets you see the structure of the feed content.\n",
    "\n",
    "Other useful links:\n",
    "\n",
    "* A blog post about [creating ATOM ID elements](http://web.archive.org/web/20110514113830/http://diveintomark.org/archives/2004/05/28/howto-atom-id)\n",
    "\n",
    "* A blog post (linked from the above one) about [using tag URIs as ATOM IDs](http://web.archive.org/web/20110514113830/http://www.taguri.org/)\n",
    "\n",
    "* The Python `feedgen` package [documentation](http://lkiesow.github.io/python-feedgen/),\n",
    "[Github repository](https://github.com/lkiesow/python-feedgen),\n",
    "and [PyPI page](https://pypi.python.org/pypi/feedgen/)."
   ]
  },
  {
   "cell_type": "markdown",
   "metadata": {},
   "source": [
    "### URLs\n",
    "\n",
    "The storm surge alerts feeds will be located under http://salishsea.eos.ubc.ca/storm-surge/.\n",
    "\n",
    "The initial ATOM feed for Port Metro Vancouver (PMV) will be http://salishsea.eos.ubc.ca/storm-surge/atom/pmv.xml.\n",
    "\n",
    "That pattern can be extended to provide other feed like:\n",
    "* One containing alert messages for the entire model domain\n",
    "based on Ben's narrative template developed during the Aug-2015 sprint:\n",
    "http://salishsea.eos.ubc.ca/storm-surge/atom/alerts.xml\n",
    "* Feeds for specific locations: http://salishsea.eos.ubc.ca/storm-surge/atom/PointAtkinson.xml\n",
    "* Feeds customized for other stakeholders\n",
    "\n",
    "This URL structure also allows for the possibility of generating RSS-2.0 feeds in the future\n",
    "at locations like:\n",
    "* http://salishsea.eos.ubc.ca/storm-surge/rss/pmv.xml\n",
    "* http://salishsea.eos.ubc.ca/storm-surge/rss/alerts.xml\n",
    "* http://salishsea.eos.ubc.ca/storm-surge/rss/PointAtkinson.xml\n",
    "* etc.\n",
    "\n",
    "Even though the PMV and Point Atkinson feeds are for the same geolocation \n",
    "and are expressions of the same model results,\n",
    "they are treated separately so that the PMV feed can be customized with\n",
    "units,\n",
    "threshold levels,\n",
    "etc.\n",
    "requested by that stakeholder."
   ]
  },
  {
   "cell_type": "markdown",
   "metadata": {},
   "source": [
    "### Generating the PMV Feed\n",
    "\n",
    "EC appears to generate a new feed each time the [forecast page](http://weather.gc.ca/city/pages/bc-74_metric_e.html)\n",
    "is updated\n",
    "(so, hourly, at least)\n",
    "rather than appeding new feed entries to an existing feed.\n",
    "We will adopt the same practice for the PMV feed:\n",
    "* A new feed will be generated each day after the forecast and forecast2 runs\n",
    "* In contrast to EC, who always have at least new current conditions to report on,\n",
    "we will only generate feed entries when the Point Atkinson water level is forecast to\n",
    "exceed the risk and extreme risk thresholds\n",
    "\n",
    "We'll use the [`feedgen` package](http://lkiesow.github.io/python-feedgen/)\n",
    "to construct the feed and its entries and store them to disk."
   ]
  },
  {
   "cell_type": "code",
   "execution_count": 1,
   "metadata": {
    "collapsed": true
   },
   "outputs": [],
   "source": [
    "from pprint import pprint\n",
    "\n",
    "import arrow\n",
    "from feedgen.feed import FeedGenerator"
   ]
  },
  {
   "cell_type": "code",
   "execution_count": 20,
   "metadata": {
    "collapsed": false
   },
   "outputs": [
    {
     "name": "stdout",
     "output_type": "stream",
     "text": [
      "(\"<?xml version='1.0' encoding='UTF-8'?>\\n\"\n",
      " '<feed xmlns=\"http://www.w3.org/2005/Atom\" xml:lang=\"en-ca\">\\n'\n",
      " '  '\n",
      " '<id>tag:salishsea.eos.ubc.ca,2015-12-12:/storm-surge/atom/pmv/20151213192409</id>\\n'\n",
      " '  <title>Salish Sea NEMO Model Storm Surge Alerts for Port Metro '\n",
      " 'Vancouver</title>\\n'\n",
      " '  <updated>2015-12-13T19:24:09.062955+00:00</updated>\\n'\n",
      " '  <author>\\n'\n",
      " '    <name>Salish Sea MEOPAR Project</name>\\n'\n",
      " '    <url>http://salishsea.eos.ubc.ca/</url>\\n'\n",
      " '  </author>\\n'\n",
      " '  <link href=\"http://salishsea.eos.ubc.ca/storm-surge/atom/pmv.xml\" '\n",
      " 'rel=\"self\" type=\"application/atom+xml\"/>\\n'\n",
      " '  <link href=\"http://salishsea.eos.ubc.ca/storm-surge/forecast.html\" '\n",
      " 'rel=\"related\" type=\"text/html\"/>\\n'\n",
      " '  <generator version=\"0.3.2\">python-feedgen</generator>\\n'\n",
      " '  <rights>Copyright 2015, Salish Sea MEOPAR Project Contributors and The '\n",
      " 'University of British Columbia</rights>\\n'\n",
      " '</feed>\\n')\n"
     ]
    }
   ],
   "source": [
    "fg = FeedGenerator()\n",
    "\n",
    "utcnow = arrow.utcnow()\n",
    "\n",
    "fg.title('Salish Sea NEMO Model Storm Surge Alerts for Port Metro Vancouver')\n",
    "fg.id(\n",
    "    'tag:salishsea.eos.ubc.ca,2015-12-12:/storm-surge/atom/pmv/{utcnow}'\n",
    "    .format(utcnow=utcnow.format('YYYYMMDDHHmmss')))\n",
    "fg.language('en-ca')\n",
    "fg.author(name='Salish Sea MEOPAR Project', uri='http://salishsea.eos.ubc.ca/')\n",
    "fg.rights(\n",
    "    'Copyright {this_year}, Salish Sea MEOPAR Project Contributors and The University of British Columbia'\n",
    "    .format(this_year=utcnow.year))\n",
    "fg.link(href='http://salishsea.eos.ubc.ca/storm-surge/atom/pmv.xml', rel='self', type='application/atom+xml')\n",
    "fg.link(href='http://salishsea.eos.ubc.ca/storm-surge/forecast.html', rel='related', type='text/html')\n",
    "\n",
    "pprint(fg.atom_str(pretty=True).decode('ascii'))"
   ]
  },
  {
   "cell_type": "markdown",
   "metadata": {},
   "source": [
    "Instead of pretty-printing the ASCII version of the feed,\n",
    "the production code will save it as binary data in a file with:\n",
    "```\n",
    "fg.atom_file(os.path.join(path_to_storm_surge, 'atom', 'pmv.xml')\n",
    "```\n",
    "\n",
    "The only really interesting bit in the code above is the calculation of the `id` element for the feed.\n",
    "Quoting [Mark Pilgrim's blog post](http://web.archive.org/web/20110514113830/http://diveintomark.org/archives/2004/05/28/howto-atom-id):\n",
    "\n",
    "> There are three requirements for an Atom ID:\n",
    ">\n",
    ">    1. The ID must be a valid URI, as defined by RFC 2396.\n",
    ">    2. The ID must be globally unique, across all Atom feeds, everywhere, for all time. This part is actually easier than it sounds.\n",
    ">    3. The ID must never, ever change.\n",
    "\n",
    "We use the [tag URI](http://web.archive.org/web/20110514113830/http://www.taguri.org/)\n",
    "technique to create our `id` with the EC tactic of appending the UTC feed create date/time\n",
    "as a string of digits:\n",
    "\n",
    "`tag:salishsea.eos.ubc.ca,2015-12-12:/storm-surge/atom/pmv/20151213182007`\n",
    "\n",
    "This tag is composed of:\n",
    "* Our domain name: `salishsea.eos.ubc.ca`\n",
    "* A comma\n",
    "* The date on which this scheme was conceived: `2015-12-12`\n",
    "* A colon\n",
    "* The path to the feed file, excluding the `.xml` extension: `/storm-surge/atom/pmv`\n",
    "* The UTC date/time when the feed was created as a string of digits, prepended with a '/': `/20151213182007`"
   ]
  },
  {
   "cell_type": "markdown",
   "metadata": {},
   "source": [
    "### Generating a PMV Feed Entry\n",
    "\n",
    "The feed above will be generated after every forecast and forecast2 run\n",
    "by the `make_feeds` worker between the successful completion of the \n",
    "`make_site_page forecast publish` worker and the launch of the `push_to_web` worker.\n",
    "\n",
    "If the Point Atkinson water level is forecast to exceed the risk and extreme risk thresholds,\n",
    "the `make_feeds` worker will also add an entry to the feed.\n",
    "Apart from the calculation of the alert text for the entry,\n",
    "its creation looks like:"
   ]
  },
  {
   "cell_type": "code",
   "execution_count": 21,
   "metadata": {
    "collapsed": false
   },
   "outputs": [
    {
     "name": "stdout",
     "output_type": "stream",
     "text": [
      "(\"<?xml version='1.0' encoding='UTF-8'?>\\n\"\n",
      " '<feed xmlns=\"http://www.w3.org/2005/Atom\" xml:lang=\"en-ca\">\\n'\n",
      " '  '\n",
      " '<id>tag:salishsea.eos.ubc.ca,2015-12-12:/storm-surge/atom/pmv/20151213192409</id>\\n'\n",
      " '  <title>Salish Sea NEMO Model Storm Surge Alerts for Port Metro '\n",
      " 'Vancouver</title>\\n'\n",
      " '  <updated>2015-12-13T19:24:09.062955+00:00</updated>\\n'\n",
      " '  <author>\\n'\n",
      " '    <name>Salish Sea MEOPAR Project</name>\\n'\n",
      " '    <url>http://salishsea.eos.ubc.ca/</url>\\n'\n",
      " '  </author>\\n'\n",
      " '  <link href=\"http://salishsea.eos.ubc.ca/storm-surge/atom/pmv.xml\" '\n",
      " 'rel=\"self\" type=\"application/atom+xml\"/>\\n'\n",
      " '  <link href=\"http://salishsea.eos.ubc.ca/storm-surge/forecast.html\" '\n",
      " 'rel=\"related\" type=\"text/html\"/>\\n'\n",
      " '  <generator version=\"0.3.2\">python-feedgen</generator>\\n'\n",
      " '  <rights>Copyright 2015, Salish Sea MEOPAR Project Contributors and The '\n",
      " 'University of British Columbia</rights>\\n'\n",
      " '  <entry>\\n'\n",
      " '    '\n",
      " '<id>tag:salishsea.eos.ubc.ca,2015-12-13:/storm-surge/atom/pmv/20151213112410</id>\\n'\n",
      " '    <title>Storm Surge Alert for Point Atkinson</title>\\n'\n",
      " '    <updated>2015-12-13T19:24:10.885987+00:00</updated>\\n'\n",
      " '    <author>\\n'\n",
      " '      <name>Salish Sea MEOPAR Project</name>\\n'\n",
      " '      <url>http://salishsea.eos.ubc.ca/</url>\\n'\n",
      " '    </author>\\n'\n",
      " '    <link '\n",
      " 'href=\"salishsea.eos.ubc.ca/nemo/results/forecast/publish_14dec15.html\" '\n",
      " 'rel=\"alternate\" type=\"text/html\"/>\\n'\n",
      " '  </entry>\\n'\n",
      " '</feed>\\n')\n"
     ]
    }
   ],
   "source": [
    "fe = fg.add_entry()\n",
    "\n",
    "now = arrow.now()\n",
    "\n",
    "fe.title('Storm Surge Alert for Point Atkinson')\n",
    "fe.id(\n",
    "    'tag:salishsea.eos.ubc.ca,{today}:/storm-surge/atom/pmv/{now}'\n",
    "    .format(\n",
    "        today=now.format('YYYY-MM-DD'),\n",
    "        now=now.format('YYYYMMDDHHmmss')))\n",
    "fe.author(name='Salish Sea MEOPAR Project', uri='http://salishsea.eos.ubc.ca/')\n",
    "fe.summary('')\n",
    "fe.link(href='salishsea.eos.ubc.ca/nemo/results/forecast/publish_14dec15.html', rel='alternate', type='text/html')\n",
    "\n",
    "pprint(fg.atom_str(pretty=True).decode('ascii'))"
   ]
  },
  {
   "cell_type": "markdown",
   "metadata": {
    "collapsed": true
   },
   "source": [
    "Each entry also requires a unique `id`.\n",
    "Here we use a similar algorithm to the feed `id` except that the date/time is local rather than UTC:\n",
    "\n",
    "`tag:salishsea.eos.ubc.ca,2015-12-13:/storm-surge/atom/pmv/20151213110621`\n",
    "\n",
    "This tag is composed of:\n",
    "* Our domain name: `salishsea.eos.ubc.ca`\n",
    "* A comma\n",
    "* The date on which the entry was created: `2015-12-13`\n",
    "* A colon\n",
    "* The path to the feed file, excluding the `.xml` extension: `/storm-surge/atom/pmv`\n",
    "* The local date/time when the entry was created as a string of digits, prepended with a '/': `/20151213110621`"
   ]
  },
  {
   "cell_type": "markdown",
   "metadata": {},
   "source": [
    "### Calculation of the Alert Text for the Entry `summary`\n",
    "\n",
    "TODO"
   ]
  }
 ],
 "metadata": {
  "kernelspec": {
   "display_name": "Python 3",
   "language": "python",
   "name": "python3"
  },
  "language_info": {
   "codemirror_mode": {
    "name": "ipython",
    "version": 3
   },
   "file_extension": ".py",
   "mimetype": "text/x-python",
   "name": "python",
   "nbconvert_exporter": "python",
   "pygments_lexer": "ipython3",
   "version": "3.5.1"
  }
 },
 "nbformat": 4,
 "nbformat_minor": 0
}
