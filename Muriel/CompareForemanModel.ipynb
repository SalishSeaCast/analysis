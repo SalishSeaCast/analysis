{
 "cells": [
  {
   "cell_type": "markdown",
   "metadata": {},
   "source": [
    "This notebook will be used to compare currents of the Salish Sea Model to Mike Foreman's Model using tidal ellipses."
   ]
  },
  {
   "cell_type": "code",
   "execution_count": 19,
   "metadata": {
    "collapsed": false
   },
   "outputs": [
    {
     "ename": "ImportError",
     "evalue": "No module named matlab.engine",
     "output_type": "error",
     "traceback": [
      "\u001b[1;31m---------------------------------------------------------------------------\u001b[0m",
      "\u001b[1;31mImportError\u001b[0m                               Traceback (most recent call last)",
      "\u001b[1;32m<ipython-input-19-ee93ec42e528>\u001b[0m in \u001b[0;36m<module>\u001b[1;34m()\u001b[0m\n\u001b[0;32m      2\u001b[0m \u001b[1;32mimport\u001b[0m \u001b[0mglob\u001b[0m\u001b[1;33m\u001b[0m\u001b[0m\n\u001b[0;32m      3\u001b[0m \u001b[1;32mimport\u001b[0m \u001b[0mdatetime\u001b[0m\u001b[1;33m\u001b[0m\u001b[0m\n\u001b[1;32m----> 4\u001b[1;33m \u001b[1;32mimport\u001b[0m \u001b[0mmatlab\u001b[0m\u001b[1;33m.\u001b[0m\u001b[0mengine\u001b[0m\u001b[1;33m\u001b[0m\u001b[0m\n\u001b[0m\u001b[0;32m      5\u001b[0m \u001b[1;32mimport\u001b[0m \u001b[0mmatplotlib\u001b[0m\u001b[1;33m.\u001b[0m\u001b[0mpylab\u001b[0m \u001b[1;32mas\u001b[0m \u001b[0mplt\u001b[0m\u001b[1;33m\u001b[0m\u001b[0m\n\u001b[0;32m      6\u001b[0m \u001b[1;32mimport\u001b[0m \u001b[0mmatplotlib\u001b[0m\u001b[1;33m.\u001b[0m\u001b[0mticker\u001b[0m \u001b[1;32mas\u001b[0m \u001b[0mticker\u001b[0m\u001b[1;33m\u001b[0m\u001b[0m\n",
      "\u001b[1;31mImportError\u001b[0m: No module named matlab.engine"
     ]
    }
   ],
   "source": [
    "import os\n",
    "import glob\n",
    "import datetime\n",
    "import matlab.engine\n",
    "import matplotlib.pylab as plt\n",
    "import matplotlib.ticker as ticker\n",
    "from matplotlib.patches import Ellipse\n",
    "import numpy as np\n",
    "from IPython.display import display, Math, Latex\n",
    "import datetime\n",
    "import pandas as pd\n",
    "\n",
    "import netCDF4 as nc\n",
    "from scipy.optimize import curve_fit\n",
    "import scipy.io as sio\n",
    "from salishsea_tools import (viz_tools, tidetools, nc_tools)\n",
    "from salishsea_tools.nowcast import (research_VENUS, analyze)\n",
    "\n",
    "%matplotlib inline"
   ]
  },
  {
   "cell_type": "code",
   "execution_count": 2,
   "metadata": {
    "collapsed": true
   },
   "outputs": [],
   "source": [
    "M2 = sio.loadmat('/ocean/mdunn/Tides/vitides/M2.mat')"
   ]
  },
  {
   "cell_type": "code",
   "execution_count": 29,
   "metadata": {
    "collapsed": false
   },
   "outputs": [
    {
     "name": "stdout",
     "output_type": "stream",
     "text": [
      "(67824, 1)\n",
      "57.2957795131\n"
     ]
    }
   ],
   "source": [
    "print M2['Major'].shape\n",
    "raddeg = 180/np.pi\n",
    "print raddeg"
   ]
  },
  {
   "cell_type": "code",
   "execution_count": 81,
   "metadata": {
    "collapsed": false
   },
   "outputs": [],
   "source": [
    "def gcdist_py(lat1,lon1,lat2,lon2):\n",
    "    \"\"\"Function to calculate distance in kilometers and heading between two positions in latitude and longitude.\n",
    "    Assumes -90 > lat > 90  and  -180 > long > 180\n",
    "    north and east are positive\n",
    "    Uses law of cosines in spherical coordinates to calculate distance\n",
    "    calculate conversion constants\"\"\"\n",
    "\n",
    "    raddeg = 180/np.pi\n",
    "    degrad=1/raddeg\n",
    "\n",
    "    # convert latitude and longitude to radians\n",
    "\n",
    "    lat1=lat1*degrad\n",
    "    lat2=lat2*degrad\n",
    "\n",
    "    in1=np.where(lon1>180)\n",
    "    print lon1\n",
    "    lon1[in1] = lon1[in1]-360\n",
    "\n",
    "    in2=find(lon2>180)\n",
    "\n",
    "    lon2[in2] = lon2[in2]-360;\n",
    "\n",
    "    lon1=-lon1*degrad;\n",
    "    lon2=-lon2*degrad;\n",
    "    # calculate some basic functions\n",
    "    coslat1=np.cos(lat1);\n",
    "    sinlat1=np.sin(lat1);\n",
    "    coslat2=np.cos(lat2);\n",
    "    sinlat2=np.sin(lat2);\n",
    "    #calculate distance on unit sphere\n",
    "    dtmp=np.cos(lon1-lon2);\n",
    "    dtmp=(sinlat1*sinlat2) + (coslat1*coslat2*dtmp)\n",
    "\n",
    "    # check for invalid values due to roundoff errors\n",
    "    in1=find(dtmp>1.0)\n",
    "    dtmp[in1]=1.0;\n",
    "    in2=find(dtmp<-1.0)\n",
    "    dtmp[in2]=-1.0;\n",
    "\n",
    "    # convert to meters for earth distance\n",
    "    ad = acos(dtmp);\n",
    "    # radius of Earth at Equator: 40075km, Pole to pole: 40008\n",
    "    # average km per degree latitude = 111.2263888\n",
    "    #d=(111.112) .* raddeg .* ad;\n",
    "    d=(111.2263888) * raddeg * ad\n",
    "\n",
    "    # now find heading\n",
    "    hdgcos = (sinlat2-sinlat1n*np.cos(ad))/(np.sin(ad)*coslat1);\n",
    "\n",
    "    # check value to be legal range\n",
    "    in1=find(hdgcos>1.0)\n",
    "    hdgcos[in1]=1.0;\n",
    "    in2=find(hdgcos<-1.0)\n",
    "    hdgcos[in2]=-1.0\n",
    "    hdg = acos(hdgcos)*raddeg;\n",
    "\n",
    "    # if longitude is decreasing then heading is between 180 and 360\n",
    "    test = sin(lon2-lon1);\n",
    "    in1=find(test>0.0);\n",
    "    hdg[in1]=360-hdg(in1);\n",
    "\n",
    "    return d, hdg"
   ]
  },
  {
   "cell_type": "code",
   "execution_count": 82,
   "metadata": {
    "collapsed": false
   },
   "outputs": [],
   "source": [
    "def vitide_py(lon,lat,times):\n",
    "\n",
    "    sio.loadmat('/ocean/mdunn/Tides/vitides/NewVIGF8.mat')\n",
    "\n",
    "    d=np.ones((67824,1))\n",
    "\n",
    "\n",
    "    for i in np.arange(0,67823): \n",
    "        d[i]=gcdist_py(lat,long,Lat[i],Long[i])\n",
    "\n",
    "    [D,I]=sort(d);\n",
    "    NN=3; # how many close nodes (3-5)\n",
    "    I=I[1:NN]; # these are the NN clostest nodes.\n",
    "    D=D[1:NN];\n",
    "    idwa=sum(D^-1);\n",
    "    \n",
    "    sio.loadmat('/ocean/mdunn/Tides/vitides/viconst.mat')   # load vicon and F\n",
    "    sio.loadmat('/ocean/mdunn/Tides/vitides/vitidecon.mat') # load the fmajor, fminor, etc. matrices\n",
    "    disp(' Calculating the tides at the closests nodes.');\n",
    "    for i in np.arange(1,NN):\n",
    "        j=I[i];\n",
    "        tidecon=[fmaj[j,:],fmin[j,:],finc[j,:],pha[j,:]];\n",
    "        UV=t_predic(times,vicon,F,tidecon);\n",
    "        U[i,:]=real[UV]\n",
    "        V[i,:]=imag[UV]\n",
    "    end\n",
    "    u=0;v=0;\n",
    "    for i in np.arange(1,NN):\n",
    "        u = u + U[i,:]/D[i];\n",
    "        v = v + V[i,:]/D[i];\n",
    "    end\n",
    "    u=u/idwa;\n",
    "    v=v/idwa;\n",
    "\n",
    "    return u, v"
   ]
  },
  {
   "cell_type": "code",
   "execution_count": 87,
   "metadata": {
    "collapsed": false
   },
   "outputs": [
    {
     "name": "stdout",
     "output_type": "stream",
     "text": [
      "[-123.43196869 -123.42677307 -123.42152405 -123.41625214 -123.41096497\n",
      " -123.4056778  -123.400383   -123.39508057 -123.38977814 -123.38447571\n",
      " -123.37917328 -123.37387085 -123.36856079 -123.36325073 -123.3579483\n",
      " -123.35263824 -123.34732819 -123.34201813 -123.33670807 -123.33139801\n",
      " -123.32608032 -123.32077026 -123.31546021 -123.31015015 -123.30484009\n",
      " -123.2995224  -123.29421234 -123.28890228 -123.28358459 -123.27827454\n",
      " -123.27295685 -123.26764679 -123.2623291  -123.25701904 -123.25170135\n",
      " -123.2463913  -123.24107361 -123.23576355 -123.23044586 -123.2251358\n",
      " -123.21981812 -123.21450806 -123.20919037 -123.20387268 -123.19856262\n",
      " -123.19324493 -123.18793488 -123.18261719 -123.1772995  -123.17198944\n",
      " -123.16667175 -123.16135406 -123.15604401 -123.15072632 -123.14540863\n",
      " -123.14009857 -123.13478088 -123.1294632  -123.12414551 -123.11883545\n",
      " -123.11351776 -123.10820007 -123.10289001 -123.09757233 -123.09225464\n",
      " -123.08693695 -123.08162689 -123.0763092  -123.07099152 -123.06567383\n",
      " -123.06036377 -123.05504608 -123.04972839 -123.04441071 -123.03910065\n",
      " -123.03378296 -123.02846527 -123.02314758 -123.0178299  -123.01251984\n",
      " -123.00720215 -123.00188446 -122.99656677 -122.99124908 -122.98593903\n",
      " -122.98062134 -122.97530365 -122.96998596 -122.96466827 -122.95935822\n",
      " -122.95404053 -122.94872284 -122.94340515 -122.93808746 -122.9327774\n",
      " -122.92745972 -122.92214203 -122.91682434 -122.91150665 -122.90618896\n",
      " -122.90087891 -122.89556122 -122.89024353 -122.88492584 -122.87960815\n",
      " -122.87429047 -122.86898041 -122.86366272 -122.85834503 -122.85302734\n",
      " -122.84770966 -122.84239197 -122.83708191 -122.83176422 -122.82644653\n",
      " -122.82112885 -122.81581116 -122.81049347 -122.80517578 -122.79986572\n",
      " -122.79454803 -122.78923035 -122.78391266 -122.77859497 -122.77327728\n",
      " -122.76795959 -122.76264954 -122.75733185 -122.75201416 -122.74669647\n",
      " -122.74137878 -122.7360611  -122.73074341 -122.72543335 -122.72011566\n",
      " -122.71479797 -122.70948029 -122.7041626  -122.69884491 -122.69352722\n",
      " -122.68820953 -122.68289948 -122.67758179 -122.6722641  -122.66694641\n",
      " -122.66162872 -122.65631104 -122.65099335 -122.64567566 -122.6403656\n",
      " -122.63504791 -122.62973022 -122.62441254 -122.61909485 -122.61377716\n",
      " -122.60845947 -122.60314178 -122.5978241  -122.59251404 -122.58719635\n",
      " -122.58187866 -122.57656097 -122.57124329 -122.5659256  -122.56060791\n",
      " -122.55529022 -122.54997253 -122.54466248 -122.53934479 -122.5340271\n",
      " -122.52870941 -122.52339172 -122.51807404 -122.51275635 -122.50743866\n",
      " -122.50212097 -122.49680328 -122.49149323 -122.48617554 -122.48085785\n",
      " -122.47554016 -122.47022247 -122.46490479 -122.4595871  -122.45426941\n",
      " -122.44895172 -122.44363403 -122.43832397 -122.43300629 -122.4276886\n",
      " -122.42237091 -122.41705322 -122.41173553 -122.40641785 -122.40110016\n",
      " -122.39578247 -122.39046478 -122.38515472 -122.37983704 -122.37451935\n",
      " -122.36920166 -122.36388397 -122.35856628 -122.3532486  -122.34793091\n",
      " -122.34261322 -122.33729553 -122.33197784 -122.32666779 -122.3213501\n",
      " -122.31603241 -122.31071472 -122.30539703 -122.30007935 -122.29476166\n",
      " -122.28944397 -122.28412628 -122.27880859 -122.27349091 -122.26817322\n",
      " -122.26286316 -122.25754547 -122.25222778 -122.2469101  -122.24159241\n",
      " -122.23627472 -122.23095703 -122.22563934 -122.22032166 -122.21500397\n",
      " -122.20968628 -122.20437622 -122.19905853 -122.19374084 -122.18842316\n",
      " -122.18310547 -122.17778778 -122.17247009 -122.1671524  -122.16183472\n",
      " -122.15651703 -122.15119934 -122.14588165 -122.14056396 -122.13525391\n",
      " -122.12993622 -122.12461853 -122.11930084 -122.11398315 -122.10866547\n",
      " -122.10334778 -122.09803009 -122.0927124  -122.08739471 -122.08207703\n",
      " -122.07675934 -122.07144928 -122.06613159 -122.0608139  -122.05549622\n",
      " -122.05017853 -122.04486084 -122.03954315 -122.03422546 -122.02890778\n",
      " -122.02359009 -122.0182724  -122.01295471 -122.00763702 -122.00232697\n",
      " -121.99700928 -121.99169159 -121.9863739  -121.98105621 -121.97573853\n",
      " -121.97042084 -121.96510315 -121.95978546 -121.95446777 -121.94915009\n",
      " -121.9438324  -121.93851471 -121.93319702 -121.92788696 -121.92256927\n",
      " -121.91725159 -121.9119339  -121.90661621 -121.90129852 -121.89598083\n",
      " -121.89066315 -121.88534546 -121.88002777 -121.87471008 -121.8693924\n",
      " -121.86407471 -121.85876465 -121.85344696 -121.84812927 -121.84281158\n",
      " -121.8374939  -121.83217621 -121.82685852 -121.82154083 -121.81622314\n",
      " -121.81090546 -121.80558777 -121.80027008 -121.79495239 -121.7896347\n",
      " -121.78432465 -121.77900696 -121.77368927 -121.76837158 -121.76305389\n",
      " -121.75773621 -121.75241852 -121.74710083 -121.74178314 -121.73646545\n",
      " -121.73114777 -121.72583008 -121.72051239 -121.7151947  -121.70987701\n",
      " -121.70456696 -121.69924927 -121.69393158 -121.68861389 -121.6832962\n",
      " -121.67797852 -121.67266083 -121.66734314 -121.66202545 -121.65670776\n",
      " -121.65139008 -121.64607239 -121.6407547  -121.63543701 -121.63012695\n",
      " -121.62480927 -121.61949158 -121.61417389 -121.6088562  -121.60353851\n",
      " -121.59822083 -121.59290314 -121.58758545 -121.58226776 -121.57695007\n",
      " -121.57163239 -121.5663147  -121.56099701 -121.55567932 -121.55036926\n",
      " -121.54505157 -121.53973389 -121.5344162  -121.52909851 -121.52378082\n",
      " -121.51846313 -121.51314545 -121.50782776 -121.50251007 -121.49719238\n",
      " -121.49187469 -121.48655701 -121.48123932 -121.47592926 -121.47061157\n",
      " -121.46529388 -121.4599762  -121.45465851 -121.44934082 -121.44402313\n",
      " -121.43870544 -121.43338776 -121.42807007 -121.42275238 -121.41743469\n",
      " -121.412117   -121.40679932 -121.40148163 -121.39617157 -121.39085388\n",
      " -121.38553619 -121.38021851 -121.37490082 -121.36958313 -121.36426544\n",
      " -121.35894775 -121.35363007 -121.34831238 -121.34299469 -121.337677\n",
      " -121.33235931 -121.32704163 -121.32172394]\n"
     ]
    },
    {
     "ename": "AttributeError",
     "evalue": "type object 'long' has no attribute 'shape'",
     "output_type": "error",
     "traceback": [
      "\u001b[1;31m---------------------------------------------------------------------------\u001b[0m",
      "\u001b[1;31mAttributeError\u001b[0m                            Traceback (most recent call last)",
      "\u001b[1;32m<ipython-input-87-a4cdd8aaa0bc>\u001b[0m in \u001b[0;36m<module>\u001b[1;34m()\u001b[0m\n\u001b[0;32m      7\u001b[0m \u001b[0mbathy\u001b[0m \u001b[1;33m=\u001b[0m \u001b[0mgrid_B\u001b[0m\u001b[1;33m.\u001b[0m\u001b[0mvariables\u001b[0m\u001b[1;33m[\u001b[0m\u001b[1;34m'Bathymetry'\u001b[0m\u001b[1;33m]\u001b[0m\u001b[1;33m[\u001b[0m\u001b[1;33m:\u001b[0m\u001b[1;33m,\u001b[0m\u001b[1;33m:\u001b[0m\u001b[1;33m]\u001b[0m\u001b[1;33m\u001b[0m\u001b[0m\n\u001b[0;32m      8\u001b[0m \u001b[1;32mprint\u001b[0m \u001b[0mLong\u001b[0m\u001b[1;33m[\u001b[0m\u001b[1;36m1\u001b[0m\u001b[1;33m]\u001b[0m\u001b[1;33m\u001b[0m\u001b[0m\n\u001b[1;32m----> 9\u001b[1;33m \u001b[0mu\u001b[0m\u001b[1;33m,\u001b[0m \u001b[0mv\u001b[0m \u001b[1;33m=\u001b[0m \u001b[0mvitide_py\u001b[0m\u001b[1;33m(\u001b[0m\u001b[1;36m48.537579\u001b[0m\u001b[1;33m,\u001b[0m \u001b[1;33m-\u001b[0m\u001b[1;36m123.225789\u001b[0m\u001b[1;33m,\u001b[0m \u001b[0mnp\u001b[0m\u001b[1;33m.\u001b[0m\u001b[0marange\u001b[0m\u001b[1;33m(\u001b[0m\u001b[1;36m1\u001b[0m\u001b[1;33m,\u001b[0m\u001b[1;36m12\u001b[0m\u001b[1;33m)\u001b[0m\u001b[1;33m)\u001b[0m\u001b[1;33m\u001b[0m\u001b[0m\n\u001b[0m",
      "\u001b[1;32m<ipython-input-82-36a020827ad3>\u001b[0m in \u001b[0;36mvitide_py\u001b[1;34m(lon, lat, times)\u001b[0m\n\u001b[0;32m      7\u001b[0m \u001b[1;33m\u001b[0m\u001b[0m\n\u001b[0;32m      8\u001b[0m     \u001b[1;32mfor\u001b[0m \u001b[0mi\u001b[0m \u001b[1;32min\u001b[0m \u001b[0mnp\u001b[0m\u001b[1;33m.\u001b[0m\u001b[0marange\u001b[0m\u001b[1;33m(\u001b[0m\u001b[1;36m1\u001b[0m\u001b[1;33m,\u001b[0m\u001b[1;36m67824\u001b[0m\u001b[1;33m)\u001b[0m\u001b[1;33m:\u001b[0m\u001b[1;33m\u001b[0m\u001b[0m\n\u001b[1;32m----> 9\u001b[1;33m         \u001b[0md\u001b[0m\u001b[1;33m[\u001b[0m\u001b[0mi\u001b[0m\u001b[1;33m]\u001b[0m\u001b[1;33m=\u001b[0m\u001b[0mgcdist_py\u001b[0m\u001b[1;33m(\u001b[0m\u001b[0mlat\u001b[0m\u001b[1;33m,\u001b[0m\u001b[0mlong\u001b[0m\u001b[1;33m,\u001b[0m\u001b[0mLat\u001b[0m\u001b[1;33m[\u001b[0m\u001b[0mi\u001b[0m\u001b[1;33m]\u001b[0m\u001b[1;33m,\u001b[0m\u001b[0mLong\u001b[0m\u001b[1;33m[\u001b[0m\u001b[0mi\u001b[0m\u001b[1;33m]\u001b[0m\u001b[1;33m)\u001b[0m\u001b[1;33m\u001b[0m\u001b[0m\n\u001b[0m\u001b[0;32m     10\u001b[0m \u001b[1;33m\u001b[0m\u001b[0m\n\u001b[0;32m     11\u001b[0m     \u001b[1;33m[\u001b[0m\u001b[0mD\u001b[0m\u001b[1;33m,\u001b[0m\u001b[0mI\u001b[0m\u001b[1;33m]\u001b[0m\u001b[1;33m=\u001b[0m\u001b[0msort\u001b[0m\u001b[1;33m(\u001b[0m\u001b[0md\u001b[0m\u001b[1;33m)\u001b[0m\u001b[1;33m;\u001b[0m\u001b[1;33m\u001b[0m\u001b[0m\n",
      "\u001b[1;32m<ipython-input-81-657606045a22>\u001b[0m in \u001b[0;36mgcdist_py\u001b[1;34m(lat1, lon1, lat2, lon2)\u001b[0m\n\u001b[0;32m     15\u001b[0m \u001b[1;33m\u001b[0m\u001b[0m\n\u001b[0;32m     16\u001b[0m     \u001b[0min1\u001b[0m\u001b[1;33m=\u001b[0m\u001b[0mnp\u001b[0m\u001b[1;33m.\u001b[0m\u001b[0mwhere\u001b[0m\u001b[1;33m(\u001b[0m\u001b[0mlon1\u001b[0m\u001b[1;33m>\u001b[0m\u001b[1;36m180\u001b[0m\u001b[1;33m)\u001b[0m\u001b[1;33m\u001b[0m\u001b[0m\n\u001b[1;32m---> 17\u001b[1;33m     \u001b[1;32mprint\u001b[0m \u001b[0mlon1\u001b[0m\u001b[1;33m.\u001b[0m\u001b[0mshape\u001b[0m\u001b[1;33m\u001b[0m\u001b[0m\n\u001b[0m\u001b[0;32m     18\u001b[0m     \u001b[0mlon1\u001b[0m\u001b[1;33m[\u001b[0m\u001b[0min1\u001b[0m\u001b[1;33m]\u001b[0m \u001b[1;33m=\u001b[0m \u001b[0mlon1\u001b[0m\u001b[1;33m[\u001b[0m\u001b[0min1\u001b[0m\u001b[1;33m]\u001b[0m\u001b[1;33m-\u001b[0m\u001b[1;36m360\u001b[0m\u001b[1;33m\u001b[0m\u001b[0m\n\u001b[0;32m     19\u001b[0m \u001b[1;33m\u001b[0m\u001b[0m\n",
      "\u001b[1;31mAttributeError\u001b[0m: type object 'long' has no attribute 'shape'"
     ]
    }
   ],
   "source": [
    "to = datetime.datetime(2014,11,26)\n",
    "tf = datetime.datetime(2015, 6, 21)\n",
    "\n",
    "grid_B = nc.Dataset('/data/dlatorne/MEOPAR/NEMO-forcing/grid/bathy_meter_SalishSea2.nc')\n",
    "Lat = grid_B.variables['nav_lat'][:]\n",
    "Long = grid_B.variables['nav_lon'][:]\n",
    "bathy = grid_B.variables['Bathymetry'][:,:]\n",
    "print Long[1]\n",
    "u, v = vitide_py(48.537579, -123.225789, np.arange(1,12))\n"
   ]
  },
  {
   "cell_type": "code",
   "execution_count": null,
   "metadata": {
    "collapsed": true
   },
   "outputs": [],
   "source": []
  }
 ],
 "metadata": {
  "kernelspec": {
   "display_name": "Python 2",
   "language": "python",
   "name": "python2"
  },
  "language_info": {
   "codemirror_mode": {
    "name": "ipython",
    "version": 2
   },
   "file_extension": ".py",
   "mimetype": "text/x-python",
   "name": "python",
   "nbconvert_exporter": "python",
   "pygments_lexer": "ipython2",
   "version": "2.7.10"
  }
 },
 "nbformat": 4,
 "nbformat_minor": 0
}
