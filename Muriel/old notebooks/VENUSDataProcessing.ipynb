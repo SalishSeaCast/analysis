{
 "cells": [
  {
   "cell_type": "markdown",
   "metadata": {},
   "source": [
    "This notebook will be used to run and modify Rich Pawlowicz's code that loads the ONC VENUS nodes ADCP data. The goal is the automate the processing in order to have a constant reliable comparisons source"
   ]
  },
  {
   "cell_type": "code",
   "execution_count": 9,
   "metadata": {
    "collapsed": true
   },
   "outputs": [],
   "source": [
    "import os\n",
    "import datetime\n",
    "import matplotlib.pylab as plt\n",
    "from matplotlib.patches import Ellipse\n",
    "import numpy as np\n",
    "from IPython.display import display, Math, Latex\n",
    "import csv\n",
    "import pandas as pd\n",
    "import subprocess as sp\n",
    "from subprocess import Popen, PIPE\n",
    "import scipy.io as sio\n",
    "\n",
    "import netCDF4 as nc\n",
    "from salishsea_tools import viz_tools\n",
    "\n",
    "%matplotlib inline"
   ]
  },
  {
   "cell_type": "code",
   "execution_count": 14,
   "metadata": {
    "collapsed": false
   },
   "outputs": [],
   "source": [
    "startdate = datetime.datetime(2015, 5, 1);\n",
    "enddate = datetime.datetime(2015, 7, 1);\n",
    "node = 'east'\n",
    " \n",
    "startdate = '16-May-2015 00:00:00'\n",
    "enddate = '06-Jul-2015 00:00:00'\n",
    "nodloc = 'east'"
   ]
  },
  {
   "cell_type": "code",
   "execution_count": null,
   "metadata": {
    "collapsed": false,
    "scrolled": true
   },
   "outputs": [],
   "source": [
    "os.chdir(r'/ocean/mdunn/MEOPAR/analysis/Muriel/TidalEllipseData/Nodes/')\n",
    "p = Popen([\"matlab\",\"-r\", \"GETDATA_fun('1-May-2015 00:00:00','10-Jul-2015 00:00:00' ,'east')\"], stdout=PIPE, stderr=PIPE)\n",
    "output, err = p.communicate()\n",
    "print err "
   ]
  },
  {
   "cell_type": "code",
   "execution_count": 19,
   "metadata": {
    "collapsed": false,
    "scrolled": true
   },
   "outputs": [
    {
     "name": "stdout",
     "output_type": "stream",
     "text": [
      "\n"
     ]
    }
   ],
   "source": [
    "os.chdir(r'/ocean/mdunn/MEOPAR/analysis/Muriel/TidalEllipseData/Nodes/')\n",
    "p = Popen([\"matlab\",\"-r\", \"GETDEPL_fun('east')\"], stdout=PIPE, stderr=PIPE)\n",
    "output, err = p.communicate()\n",
    "print err"
   ]
  },
  {
   "cell_type": "code",
   "execution_count": 20,
   "metadata": {
    "collapsed": false
   },
   "outputs": [
    {
     "name": "stdout",
     "output_type": "stream",
     "text": [
      "\n"
     ]
    }
   ],
   "source": [
    "os.chdir(r'/ocean/mdunn/MEOPAR/analysis/Muriel/TidalEllipseData/Nodes/')\n",
    "p = Popen([\"matlab\",\"-r\", \"LTIM_fun('east')\"], stdout=PIPE, stderr=PIPE)\n",
    "output, err = p.communicate()\n",
    "print err"
   ]
  },
  {
   "cell_type": "code",
   "execution_count": 22,
   "metadata": {
    "collapsed": false
   },
   "outputs": [],
   "source": [
    "mat = sio.loadmat('/ocean/mdunn/MEOPAR/analysis/Muriel/TidalEllipseData/Nodes/ADCPcentral.mat')\n"
   ]
  },
  {
   "cell_type": "code",
   "execution_count": 43,
   "metadata": {
    "collapsed": false
   },
   "outputs": [
    {
     "data": {
      "text/plain": [
       "(array([], dtype=int64), array([], dtype=int64))"
      ]
     },
     "execution_count": 43,
     "metadata": {},
     "output_type": "execute_result"
    }
   ],
   "source": [
    "np.where(mat['utrue'][:]==2)"
   ]
  },
  {
   "cell_type": "code",
   "execution_count": null,
   "metadata": {
    "collapsed": true
   },
   "outputs": [],
   "source": []
  }
 ],
 "metadata": {
  "kernelspec": {
   "display_name": "Python 2",
   "language": "python",
   "name": "python2"
  },
  "language_info": {
   "codemirror_mode": {
    "name": "ipython",
    "version": 2
   },
   "file_extension": ".py",
   "mimetype": "text/x-python",
   "name": "python",
   "nbconvert_exporter": "python",
   "pygments_lexer": "ipython2",
   "version": "2.7.10"
  }
 },
 "nbformat": 4,
 "nbformat_minor": 0
}
