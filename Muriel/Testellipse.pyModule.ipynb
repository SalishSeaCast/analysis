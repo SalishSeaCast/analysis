{
 "cells": [
  {
   "cell_type": "code",
   "execution_count": 1,
   "metadata": {
    "collapsed": false
   },
   "outputs": [],
   "source": [
    "import os\n",
    "import datetime\n",
    "import matplotlib.pylab as plt\n",
    "from matplotlib.patches import Ellipse\n",
    "import numpy as np\n",
    "from IPython.display import display, Math, Latex\n",
    "import csv\n",
    "import pandas as pd\n",
    "import seaborn as sns\n",
    "from dateutil import tz\n",
    "from scipy.optimize import curve_fit\n",
    "import collections\n",
    "\n",
    "import netCDF4 as nc\n",
    "from salishsea_tools import (viz_tools, tidetools as tt, ellipse, nc_tools)\n",
    "from salishsea_tools.nowcast import (analyze, research_VENUS)\n",
    "\n",
    "\n",
    "%matplotlib inline"
   ]
  },
  {
   "cell_type": "code",
   "execution_count": 2,
   "metadata": {
    "collapsed": true
   },
   "outputs": [],
   "source": [
    "path = '/data/dlatorne/MEOPAR/SalishSea/nowcast/'\n",
    "\n",
    "to=datetime.datetime(2015,4,26)\n",
    "tf=datetime.datetime(2015,7,19)\n",
    "\n",
    "i = [280]\n",
    "j = [400]"
   ]
  },
  {
   "cell_type": "code",
   "execution_count": 3,
   "metadata": {
    "collapsed": false,
    "scrolled": false
   },
   "outputs": [
    {
     "name": "stdout",
     "output_type": "stream",
     "text": [
      "[[ 333.9650171]] [[ 0.00215212]]\n"
     ]
    }
   ],
   "source": [
    "params, dep = ellipse.get_params_nowcast(to, tf, i, j, path, 4, depthrange=1, depav=False)\n",
    "print params['M2']['Phase'], params['K1']['Semi-Major Axis'], "
   ]
  },
  {
   "cell_type": "code",
   "execution_count": 4,
   "metadata": {
    "collapsed": false
   },
   "outputs": [
    {
     "name": "stdout",
     "output_type": "stream",
     "text": [
      "[[ 334.25039193]] [[ 0.00123092]]\n"
     ]
    }
   ],
   "source": [
    "params, dep = ellipse.get_params_nowcast(to, tf, i, j, path, 6, depthrange=1, depav=False)\n",
    "print params['M2']['Phase'], params['P1']['Semi-Major Axis']"
   ]
  },
  {
   "cell_type": "code",
   "execution_count": 5,
   "metadata": {
    "collapsed": false
   },
   "outputs": [
    {
     "name": "stdout",
     "output_type": "stream",
     "text": [
      "[[ 334.38448703]] [[ 0.00122697]]\n"
     ]
    }
   ],
   "source": [
    "params, dep = ellipse.get_params_nowcast(to, tf, i, j, path, 8, depthrange=1, depav=False)\n",
    "print params['M2']['Phase'], params['P1']['Semi-Major Axis']"
   ]
  },
  {
   "cell_type": "code",
   "execution_count": null,
   "metadata": {
    "collapsed": true
   },
   "outputs": [],
   "source": []
  }
 ],
 "metadata": {
  "kernelspec": {
   "display_name": "Python 2",
   "language": "python",
   "name": "python2"
  },
  "language_info": {
   "codemirror_mode": {
    "name": "ipython",
    "version": 2
   },
   "file_extension": ".py",
   "mimetype": "text/x-python",
   "name": "python",
   "nbconvert_exporter": "python",
   "pygments_lexer": "ipython2",
   "version": "2.7.10"
  }
 },
 "nbformat": 4,
 "nbformat_minor": 0
}
