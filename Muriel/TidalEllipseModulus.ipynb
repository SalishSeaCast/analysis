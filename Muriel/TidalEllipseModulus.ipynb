{
 "cells": [
  {
   "cell_type": "markdown",
   "metadata": {},
   "source": [
    "This notebook will be used to redesign the tidal ellipse functions to make them more user friendly"
   ]
  },
  {
   "cell_type": "code",
   "execution_count": 26,
   "metadata": {
    "collapsed": false
   },
   "outputs": [],
   "source": [
    "import os\n",
    "import datetime\n",
    "import matplotlib.pylab as plt\n",
    "from matplotlib.patches import Ellipse\n",
    "import numpy as np\n",
    "from IPython.display import display, Math, Latex\n",
    "import csv\n",
    "import pandas as pd\n",
    "import seaborn as sns\n",
    "from dateutil import tz\n",
    "\n",
    "import netCDF4 as nc\n",
    "from salishsea_tools import (viz_tools, tidetools as tt)\n",
    "from salishsea_tools.nowcast import (analyze, research_VENUS)\n",
    "\n",
    "%matplotlib inline"
   ]
  },
  {
   "cell_type": "code",
   "execution_count": 301,
   "metadata": {
    "collapsed": false
   },
   "outputs": [],
   "source": [
    "def fittit(uaus, time):\n",
    "    \"\"\"Function to find tidal components from a tidal current component\n",
    "        across a specified area of the grid at a single depth, at a\n",
    "        single point through the water column or a sigle depth averaged\n",
    "        grid point. Must perform twice, once for each tidal current vector\n",
    "        in order to complete the analysis.\n",
    "        In order to calculate the tidal components of an area at a single\n",
    "        depth the velocity vector must only have 3 dimensions. For a depth\n",
    "        profile it must onyl have 2 dimensions and for a single point and depth\n",
    "        it must be a float.\n",
    "        ***[time, depth, x, y]\n",
    "\n",
    "    :arg uaus: One of the orthogonal tidal current velocities.\n",
    "    :type uaus:  :py:class:'np.ndarray' or float\n",
    "\n",
    "    :arg time: Time over which the velocitie were being taken in seconds.\n",
    "    :type time: :py:class:'np.ndarray'\n",
    "\n",
    "    :arg imin: Minimum i value in the grid that will be evaluated for tidal\n",
    "        ellipses. (Must be between 1 and 308, default 0)\n",
    "    :type imin: float\n",
    "\n",
    "    :arg imax: Maximum i value in the grid that will be evaluated for tidal\n",
    "         ellipses. (Must be between 1 and 398, default 0)\n",
    "    :type imax: float\n",
    "\n",
    "    :arg jmin: Minimum j value in the grid that will be evaluated for tidal\n",
    "        ellipses. (Must be between 1 and 498, default 0)\n",
    "    :type jmin: float\n",
    "\n",
    "    :arg jmax: Maximum j value in the grid that will be evaluated for tidal\n",
    "         ellipse. (Must be between 1 and 498, default 0)\n",
    "\n",
    "    :arg dj: Interval along the j direction\n",
    "\n",
    "    :returns M2amp, M2pha, K1amp, K1pha:\n",
    "        The amplitude and phase lag of each tidal component (M2 and K1)\n",
    "        of a single tidal velocity vector.\n",
    "\n",
    "    \"\"\"\n",
    "    #Case 1: a time series of velocities with depth at a single location.\n",
    "    if uaus.ndim == 2:\n",
    "\n",
    "        thesize = uaus.shape[1]\n",
    "        M2amp = np.zeros(thesize)\n",
    "        M2pha = np.zeros(thesize)\n",
    "        K1amp = np.zeros(thesize)\n",
    "        K1pha = np.zeros(thesize)\n",
    "        \n",
    "        #Calculates the parameters for one depth and one location at a time from its time series\n",
    "        for dep in np.arange(0, len(uaus[1])-1):\n",
    "            if uaus[:, dep].any() != 0:\n",
    "                fitted, cov = tt.curve_fit(tt.double, time[:], uaus[:, dep])\n",
    "                fitted[0], fitted[1] = tt.convention_pha_amp(fitted[0], fitted[1])\n",
    "                fitted[2], fitted[3] = tt.convention_pha_amp(fitted[2], fitted[3])\n",
    "                M2amp[dep] = fitted[0]\n",
    "                M2pha[dep] = fitted[1]\n",
    "                K1amp[dep] = fitted[2]\n",
    "                K1pha[dep] = fitted[3]\n",
    "\n",
    "    #Case 2 : a time series of an area of velocities at a single depth\n",
    "    elif uaus.ndim == 3:\n",
    "        thesize = (uaus.shape[1], uaus.shape[2])\n",
    "        M2amp = np.zeros(thesize)\n",
    "        M2pha = np.zeros(thesize)\n",
    "        K1amp = np.zeros(thesize)\n",
    "        K1pha = np.zeros(thesize)\n",
    "\n",
    "        for i in np.arange(0, uaus.shape[1]):\n",
    "            for j in np.arange(0, uaus.shape[2]):\n",
    "                if uaus[:, i, j].any() != 0.:\n",
    "                    fitted, cov = tt.curve_fit(tt.double, time[:], uaus[:, j, i])\n",
    "                    fitted[0], fitted[1] = tt.convention_pha_amp(\n",
    "                        fitted[0], fitted[1])\n",
    "                    fitted[2], fitted[3] = tt.convention_pha_amp(\n",
    "                        fitted[2], fitted[3])\n",
    "                    M2amp[j, i] = fitted[0]\n",
    "                    M2pha[j, i] = fitted[1]\n",
    "                    K1amp[j, i] = fitted[2]\n",
    "                    K1pha[j, i] = fitted[3]\n",
    "    \n",
    "    #Case 3: a time series of an area of velocities with depth\n",
    "    elif uaus.ndim == 4:\n",
    "        thesize = (uaus.shape[1], uaus.shape[2], uaus.shape[3])\n",
    "        M2amp = np.zeros(thesize)\n",
    "        M2pha = np.zeros(thesize)\n",
    "        K1amp = np.zeros(thesize)\n",
    "        K1pha = np.zeros(thesize)\n",
    "\n",
    "        for dep in np.arange(0, u.shape[1]):\n",
    "            for i in np.arange(0, u.shape[2]):\n",
    "                for j in np.arange(0, u.shape[3]):\n",
    "                    if uaus[:,dep, i, j].any() != 0.:\n",
    "                        fitted, cov = tt.curve_fit(tt.double, time[:], uaus[:, dep, j, i])\n",
    "                        fitted[0], fitted[1] = tt.convention_pha_amp(\n",
    "                            fitted[0], fitted[1])\n",
    "                        fitted[2], fitted[3] = tt.convention_pha_amp(\n",
    "                            fitted[2], fitted[3])\n",
    "                        M2amp[dep, j, i] = fitted[0]\n",
    "                        M2pha[dep, j, i] = fitted[1]\n",
    "                        K1amp[dep, j, i] = fitted[2]\n",
    "                        K1pha[dep, j, i] = fitted[3]\n",
    "\n",
    "    #Case 4: a time series of a single location with a single depth.\n",
    "    else:\n",
    "        M2amp = 0\n",
    "        M2pha = 0\n",
    "        K1amp = 0\n",
    "        K1pha = 0\n",
    "\n",
    "        if uaus[:].any() != 0.:\n",
    "            fitted, cov = tt.curve_fit(tt.double, time[:], uaus[:])\n",
    "            fitted[0], fitted[1] = tt.convention_pha_amp(fitted[0], fitted[1])\n",
    "            fitted[2], fitted[3] = tt.convention_pha_amp(fitted[2], fitted[3])\n",
    "            M2amp = fitted[0]\n",
    "            M2pha = fitted[1]\n",
    "            K1amp = fitted[2]\n",
    "            K1pha = fitted[3]\n",
    "\n",
    "    return M2amp, M2pha, K1amp, K1pha"
   ]
  },
  {
   "cell_type": "code",
   "execution_count": 337,
   "metadata": {
    "collapsed": false
   },
   "outputs": [],
   "source": [
    "def ellipse_files_nowcast(to, tf, i, j, path, depthrange='None'):\n",
    "    \"\"\" Gets the filenames from the nowcasts and extracts the u and v velocities.\n",
    "    **only works for single point now\n",
    "    \"\"\"\n",
    "    #Makes a list of the filenames that follow the criteria in the indicated path.\n",
    "    filesu = analyze.get_filenames(to, tf, '1h', 'grid_U', path) \n",
    "    filesv = analyze.get_filenames(to, tf, '1h', 'grid_V', path)\n",
    "    \n",
    "    u, timer = analyze.combine_files(\n",
    "        filesu, 'vozocrtx', depthrange, j, i)\n",
    "\n",
    "    v, timee = analyze.combine_files(\n",
    "        filesv, 'vomecrty', depthrange,  j, i)\n",
    "\n",
    "    #For the nowcast the reftime is always Sep10th 2014. Set time of area we are looking at relative to this time.\n",
    "    reftime = datetime.datetime(2014, 9, 10, tzinfo=tz.tzutc())\n",
    "    time = tt.convert_to_seconds(timer, reftime=reftime)\n",
    "    dep = nc.Dataset(filesu[-1]).variables['depthu']\n",
    "    return u, v, time, dep"
   ]
  },
  {
   "cell_type": "code",
   "execution_count": 340,
   "metadata": {
    "collapsed": false
   },
   "outputs": [],
   "source": [
    "def prepare_vel(u, v, depav='None', dep='None'):\n",
    "    \"\"\"Preparing the time series of the orthogonal pair of velocities to get tidal ellipse parameters. \n",
    "    This function masks, rotates and unstaggers the time series as well as depth averaging if \n",
    "    \n",
    "    :arg u: One of the orthogonal tidal current velocities. Must be already prepared for the analysis.\n",
    "    :type u:  :py:class:'np.ndarray'\n",
    "    \n",
    "    :arg v: One of the orthogonal tidal current velocities. Must be already prepared for the analysis.\n",
    "    :type v:  :py:class:'np.ndarray'\n",
    "    \n",
    "    :arg time: Time over which the velocities were taken; in seconds.\n",
    "    :type time: :py:class:'np.ndarray'\n",
    "\n",
    "    :arg dep: depth vector corresponding to the depth of the velocities. Default is 'None' for a single depth.\n",
    "    :type dep: :py:class:'np.ndarray' or string\n",
    "    \n",
    "    :arg tidecorr: Tidal corrections in aplitude and phase. Default is the nowcast values. \n",
    "    :type tidecorr: dictionary\n",
    "    \"\"\"\n",
    "    #Masks land values\n",
    "    u_0 = np.ma.masked_values(u, 0)\n",
    "    v_0 = np.ma.masked_values(v, 0)\n",
    "\n",
    "    #Unstaggers velocities.\n",
    "    u_u, v_v = research_VENUS.unstag_rot(u_0, v_0)\n",
    "\n",
    "    #Depth averages the velocties if applicable\n",
    "    if depav != 'None':\n",
    "        #Find the depths between the limits set.\n",
    "        j = np.where(np.logical_and(dep > depav[0], dep < depav[1]))\n",
    "        u_slice = u_u[:, j[0]]\n",
    "        v_slice = v_v[:, j[0]]\n",
    "        dep = dep[j]\n",
    "\n",
    "        u_u = analyze.depth_average(u_slice, dep, 1)\n",
    "        v_v = analyze.depth_average(v_slice, dep, 1)\n",
    "    return u_u, v_v"
   ]
  },
  {
   "cell_type": "code",
   "execution_count": 328,
   "metadata": {
    "collapsed": false
   },
   "outputs": [],
   "source": [
    "def get_params(u, v, time, dep='None', tidecorr=research_VENUS.CorrTides):\n",
    "    \"\"\"Calculates tidal ellipse parameters from the u and v time series. Maintains their shape the shape \n",
    "    of the velocities enters only loosing the time dimensions.\n",
    "    \n",
    "    :arg u: One of the orthogonal tidal current velocities. Must be already prepared for the analysis.\n",
    "    :type u:  :py:class:'np.ndarray'\n",
    "    \n",
    "    :arg v: One of the orthogonal tidal current velocities. Must be already prepared for the analysis.\n",
    "    :type v:  :py:class:'np.ndarray'\n",
    "    \n",
    "    :arg time: Time over which the velocities were taken; in seconds.\n",
    "    :type time: :py:class:'np.ndarray'\n",
    "\n",
    "    :arg dep: depth vector corresponding to the depth of the velocities. Default is 'None' for a single depth.\n",
    "    :type dep: :py:class:'np.ndarray' or string\n",
    "    \n",
    "    :arg tidecorr: Tidal corrections in aplitude and phase. Default is the nowcast values. \n",
    "    :type tidecorr: dictionary\n",
    "    \"\"\"\n",
    "    #Running fittit to get the amplitude and phase of the velcity time series.\n",
    "    uM2amp, uM2pha, uK1amp, uK1pha = fittit(u, time)\n",
    "    vM2amp, vM2pha, vK1amp, vK1pha = fittit(v, time)\n",
    "\n",
    "    #Tide corrections from a dictionary\n",
    "    uM2pha = uM2pha + tidecorr['M2']['uvt']\n",
    "    uK1pha = uK1pha + tidecorr['K1']['uvt']\n",
    "    vM2pha = vM2pha + tidecorr['M2']['uvt']\n",
    "    vK1pha = vK1pha + tidecorr['K1']['uvt']\n",
    "\n",
    "    uM2amp = uM2amp * tidecorr['M2']['ft']\n",
    "    uK1amp = uK1amp * tidecorr['K1']['ft']\n",
    "    vM2amp = vM2amp * tidecorr['M2']['ft']\n",
    "    vK1amp = vK1amp * tidecorr['K1']['ft']\n",
    "    \n",
    "    #Converting from u/v amplitude and phase to ellipe parameters.\n",
    "    CX, SX, CY, SY, ap, am, ep, em, maj, mi, the, pha = tt.ellipse_params(\n",
    "        uM2amp, uM2pha, vM2amp, vM2pha)\n",
    "\n",
    "    CXk, SXk, CYk, SYk, apk, amk, epk, emk, majk, mik, thek, phak = tt.ellipse_params(\n",
    "        uK1amp, uK1pha, vK1amp, vK1pha)\n",
    "    \n",
    "    #Saving all the useful parameters in a matrix. The shape of the parameters is based on the\n",
    "    # u and v variables but averaged over time.\n",
    "    #For one location, one depth\n",
    "    if u.ndim == 1:\n",
    "        params = np.zeros((8))\n",
    "        params[:] = [maj, mi, the, pha, majk, mik, thek, phak]\n",
    "        \n",
    "    #For a depth profile of a location\n",
    "    elif u.ndim == 2:\n",
    "        params = np.zeros((9, len(maj)))\n",
    "        for i in np.arange(0,len(maj)-1):\n",
    "            params[:,i] = [dep[i], maj[i], mi[i], the[i], pha[i], majk[i], mik[i], thek[i], phak[i]]\n",
    "    \n",
    "    #For an area at a single depth.\n",
    "    else:\n",
    "        params = np.zeros((8, maj.shape[0], maj.shape[1]))\n",
    "        for i in np.arange(0,maj.shape[0]):\n",
    "            for j in np.arange(0,maj.shape[1]):\n",
    "                params[:,i,j] = [maj[i,j], mi[i,j], the[i,j], pha[i,j], majk[i,j], mik[i,j], thek[i,j], phak[i,j]]\n",
    "    return params"
   ]
  },
  {
   "cell_type": "code",
   "execution_count": 251,
   "metadata": {
    "collapsed": true
   },
   "outputs": [],
   "source": [
    "path = '/data/dlatorne/MEOPAR/SalishSea/nowcast/'\n",
    "\n",
    "to=datetime.datetime(2015,7,10)\n",
    "tf=datetime.datetime(2015,7,11)\n",
    "\n",
    "t_o = to.strftime('%d%b%y').lower()\n",
    "t_f = tf.strftime('%d%b%y').lower()"
   ]
  },
  {
   "cell_type": "code",
   "execution_count": 338,
   "metadata": {
    "collapsed": false
   },
   "outputs": [],
   "source": [
    "def tidalellipse(to, tf, i, j, path, depav='None'):\n",
    "    u, v, time, dep = ellipse_files_nowcast(to, tf, i, j, path)\n",
    "    uall, vall = prepare_vel(u,v, i, j)\n",
    "    return uall,vall"
   ]
  },
  {
   "cell_type": "code",
   "execution_count": 352,
   "metadata": {
    "collapsed": false
   },
   "outputs": [
    {
     "name": "stdout",
     "output_type": "stream",
     "text": [
      "(48, 40, 6, 4)\n"
     ]
    }
   ],
   "source": [
    "i = np.arange(266,270)\n",
    "j = np.arange(312,318)\n",
    "\n",
    "\n",
    "u, v, time, dep = ellipse_files_nowcast(to, tf, i, j, path)\n",
    "print u.shape"
   ]
  },
  {
   "cell_type": "code",
   "execution_count": 356,
   "metadata": {
    "collapsed": false
   },
   "outputs": [
    {
     "ename": "IndexError",
     "evalue": "shape mismatch: indexing arrays could not be broadcast together with shapes (4,) (2,) ",
     "output_type": "error",
     "traceback": [
      "\u001b[1;31m---------------------------------------------------------------------------\u001b[0m",
      "\u001b[1;31mIndexError\u001b[0m                                Traceback (most recent call last)",
      "\u001b[1;32m<ipython-input-356-006821c8331d>\u001b[0m in \u001b[0;36m<module>\u001b[1;34m()\u001b[0m\n\u001b[0;32m      1\u001b[0m \u001b[0mrang\u001b[0m \u001b[1;33m=\u001b[0m \u001b[0mnp\u001b[0m\u001b[1;33m.\u001b[0m\u001b[0marange\u001b[0m\u001b[1;33m(\u001b[0m\u001b[1;36m0\u001b[0m\u001b[1;33m,\u001b[0m\u001b[1;36m4\u001b[0m\u001b[1;33m)\u001b[0m\u001b[1;33m\u001b[0m\u001b[0m\n\u001b[0;32m      2\u001b[0m \u001b[0mrang2\u001b[0m \u001b[1;33m=\u001b[0m \u001b[0mnp\u001b[0m\u001b[1;33m.\u001b[0m\u001b[0marange\u001b[0m\u001b[1;33m(\u001b[0m\u001b[1;36m0\u001b[0m\u001b[1;33m,\u001b[0m\u001b[1;36m2\u001b[0m\u001b[1;33m)\u001b[0m\u001b[1;33m\u001b[0m\u001b[0m\n\u001b[1;32m----> 3\u001b[1;33m \u001b[1;32mprint\u001b[0m \u001b[0mu\u001b[0m\u001b[1;33m[\u001b[0m\u001b[1;33m:\u001b[0m\u001b[1;33m,\u001b[0m\u001b[1;33m:\u001b[0m\u001b[1;33m,\u001b[0m\u001b[0mrang\u001b[0m\u001b[1;33m,\u001b[0m \u001b[0mrang2\u001b[0m\u001b[1;33m]\u001b[0m\u001b[1;33m.\u001b[0m\u001b[0mshape\u001b[0m\u001b[1;33m\u001b[0m\u001b[0m\n\u001b[0m",
      "\u001b[1;31mIndexError\u001b[0m: shape mismatch: indexing arrays could not be broadcast together with shapes (4,) (2,) "
     ]
    }
   ],
   "source": [
    "rang = np.arange(0,4)\n",
    "rang2 = np.arange(0,2)\n",
    "print u[:,:,rang, rang2].shape"
   ]
  },
  {
   "cell_type": "code",
   "execution_count": 341,
   "metadata": {
    "collapsed": false
   },
   "outputs": [
    {
     "ename": "UnboundLocalError",
     "evalue": "local variable 'j' referenced before assignment",
     "output_type": "error",
     "traceback": [
      "\u001b[1;31m---------------------------------------------------------------------------\u001b[0m",
      "\u001b[1;31mUnboundLocalError\u001b[0m                         Traceback (most recent call last)",
      "\u001b[1;32m<ipython-input-341-3c7bc02a8a75>\u001b[0m in \u001b[0;36m<module>\u001b[1;34m()\u001b[0m\n\u001b[0;32m      7\u001b[0m \u001b[1;32mfor\u001b[0m \u001b[0mx\u001b[0m\u001b[1;33m,\u001b[0m \u001b[0mind\u001b[0m \u001b[1;32min\u001b[0m \u001b[0mzip\u001b[0m\u001b[1;33m(\u001b[0m\u001b[0mi\u001b[0m\u001b[1;33m,\u001b[0m \u001b[1;33m[\u001b[0m\u001b[1;36m0\u001b[0m\u001b[1;33m,\u001b[0m\u001b[1;36m1\u001b[0m\u001b[1;33m]\u001b[0m\u001b[1;33m)\u001b[0m\u001b[1;33m:\u001b[0m\u001b[1;33m\u001b[0m\u001b[0m\n\u001b[0;32m      8\u001b[0m     \u001b[1;32mfor\u001b[0m \u001b[0my\u001b[0m\u001b[1;33m,\u001b[0m \u001b[0mdex\u001b[0m \u001b[1;32min\u001b[0m \u001b[0mzip\u001b[0m\u001b[1;33m(\u001b[0m\u001b[0mj\u001b[0m\u001b[1;33m,\u001b[0m \u001b[1;33m[\u001b[0m\u001b[1;36m0\u001b[0m\u001b[1;33m,\u001b[0m\u001b[1;36m1\u001b[0m\u001b[1;33m]\u001b[0m\u001b[1;33m)\u001b[0m\u001b[1;33m:\u001b[0m\u001b[1;33m\u001b[0m\u001b[0m\n\u001b[1;32m----> 9\u001b[1;33m         \u001b[0mu\u001b[0m\u001b[1;33m,\u001b[0m \u001b[0mv\u001b[0m \u001b[1;33m=\u001b[0m \u001b[0mtidalellipse\u001b[0m\u001b[1;33m(\u001b[0m\u001b[0mto\u001b[0m\u001b[1;33m,\u001b[0m\u001b[0mtf\u001b[0m\u001b[1;33m,\u001b[0m\u001b[0mx\u001b[0m\u001b[1;33m,\u001b[0m\u001b[0my\u001b[0m\u001b[1;33m,\u001b[0m \u001b[0mpath\u001b[0m\u001b[1;33m)\u001b[0m\u001b[1;33m\u001b[0m\u001b[0m\n\u001b[0m\u001b[0;32m     10\u001b[0m         \u001b[0munow\u001b[0m\u001b[1;33m[\u001b[0m\u001b[1;33m:\u001b[0m\u001b[1;33m,\u001b[0m\u001b[1;33m:\u001b[0m\u001b[1;33m,\u001b[0m\u001b[0mind\u001b[0m\u001b[1;33m,\u001b[0m\u001b[0mdex\u001b[0m\u001b[1;33m]\u001b[0m \u001b[1;33m=\u001b[0m \u001b[0mu\u001b[0m\u001b[1;33m\u001b[0m\u001b[0m\n\u001b[0;32m     11\u001b[0m         \u001b[0mvnow\u001b[0m\u001b[1;33m[\u001b[0m\u001b[1;33m:\u001b[0m\u001b[1;33m,\u001b[0m\u001b[1;33m:\u001b[0m\u001b[1;33m,\u001b[0m \u001b[0mind\u001b[0m\u001b[1;33m,\u001b[0m\u001b[0mdex\u001b[0m\u001b[1;33m]\u001b[0m \u001b[1;33m=\u001b[0m \u001b[0mv\u001b[0m\u001b[1;33m\u001b[0m\u001b[0m\n",
      "\u001b[1;32m<ipython-input-338-3dc68244d32d>\u001b[0m in \u001b[0;36mtidalellipse\u001b[1;34m(to, tf, i, j, path, depav)\u001b[0m\n\u001b[0;32m      1\u001b[0m \u001b[1;32mdef\u001b[0m \u001b[0mtidalellipse\u001b[0m\u001b[1;33m(\u001b[0m\u001b[0mto\u001b[0m\u001b[1;33m,\u001b[0m \u001b[0mtf\u001b[0m\u001b[1;33m,\u001b[0m \u001b[0mi\u001b[0m\u001b[1;33m,\u001b[0m \u001b[0mj\u001b[0m\u001b[1;33m,\u001b[0m \u001b[0mpath\u001b[0m\u001b[1;33m,\u001b[0m \u001b[0mdepav\u001b[0m\u001b[1;33m=\u001b[0m\u001b[1;34m'None'\u001b[0m\u001b[1;33m)\u001b[0m\u001b[1;33m:\u001b[0m\u001b[1;33m\u001b[0m\u001b[0m\n\u001b[0;32m      2\u001b[0m     \u001b[0mu\u001b[0m\u001b[1;33m,\u001b[0m \u001b[0mv\u001b[0m\u001b[1;33m,\u001b[0m \u001b[0mtime\u001b[0m\u001b[1;33m,\u001b[0m \u001b[0mdep\u001b[0m \u001b[1;33m=\u001b[0m \u001b[0mellipse_files_nowcast\u001b[0m\u001b[1;33m(\u001b[0m\u001b[0mto\u001b[0m\u001b[1;33m,\u001b[0m \u001b[0mtf\u001b[0m\u001b[1;33m,\u001b[0m \u001b[0mi\u001b[0m\u001b[1;33m,\u001b[0m \u001b[0mj\u001b[0m\u001b[1;33m,\u001b[0m \u001b[0mpath\u001b[0m\u001b[1;33m)\u001b[0m\u001b[1;33m\u001b[0m\u001b[0m\n\u001b[1;32m----> 3\u001b[1;33m     \u001b[0muall\u001b[0m\u001b[1;33m,\u001b[0m \u001b[0mvall\u001b[0m \u001b[1;33m=\u001b[0m \u001b[0mprepare_vel\u001b[0m\u001b[1;33m(\u001b[0m\u001b[0mu\u001b[0m\u001b[1;33m,\u001b[0m\u001b[0mv\u001b[0m\u001b[1;33m)\u001b[0m\u001b[1;33m\u001b[0m\u001b[0m\n\u001b[0m\u001b[0;32m      4\u001b[0m     \u001b[1;32mreturn\u001b[0m \u001b[0muall\u001b[0m\u001b[1;33m,\u001b[0m\u001b[0mvall\u001b[0m\u001b[1;33m\u001b[0m\u001b[0m\n",
      "\u001b[1;32m<ipython-input-340-7121746002c0>\u001b[0m in \u001b[0;36mprepare_vel\u001b[1;34m(u, v, depav, dep)\u001b[0m\n\u001b[0;32m     23\u001b[0m \u001b[1;33m\u001b[0m\u001b[0m\n\u001b[0;32m     24\u001b[0m     \u001b[1;31m#Unstaggers velocities.\u001b[0m\u001b[1;33m\u001b[0m\u001b[1;33m\u001b[0m\u001b[0m\n\u001b[1;32m---> 25\u001b[1;33m     \u001b[0mu_u\u001b[0m\u001b[1;33m,\u001b[0m \u001b[0mv_v\u001b[0m \u001b[1;33m=\u001b[0m \u001b[0mresearch_VENUS\u001b[0m\u001b[1;33m.\u001b[0m\u001b[0munstag_rot\u001b[0m\u001b[1;33m(\u001b[0m\u001b[0mu_0\u001b[0m\u001b[1;33m,\u001b[0m \u001b[0mv_0\u001b[0m\u001b[1;33m,\u001b[0m \u001b[0mj\u001b[0m\u001b[1;33m,\u001b[0m\u001b[0mi\u001b[0m\u001b[1;33m)\u001b[0m\u001b[1;33m\u001b[0m\u001b[0m\n\u001b[0m\u001b[0;32m     26\u001b[0m \u001b[1;33m\u001b[0m\u001b[0m\n\u001b[0;32m     27\u001b[0m     \u001b[1;31m#Depth averages the velocties if applicable\u001b[0m\u001b[1;33m\u001b[0m\u001b[1;33m\u001b[0m\u001b[0m\n",
      "\u001b[1;31mUnboundLocalError\u001b[0m: local variable 'j' referenced before assignment"
     ]
    }
   ],
   "source": [
    "unow = np.empty((48,40, 2,2))\n",
    "vnow = np.empty((48,40, 2,2))\n",
    "\n",
    "for x, ind in zip(i, [0,1]):\n",
    "    for y, dex in zip(j, [0,1]):\n",
    "        u, v = tidalellipse(to,tf,x,y, path)\n",
    "        unow[:,:,ind,dex] = u\n",
    "        vnow[:,:, ind,dex] = v"
   ]
  },
  {
   "cell_type": "code",
   "execution_count": null,
   "metadata": {
    "collapsed": true
   },
   "outputs": [],
   "source": [
    "viz_tools.unstagger("
   ]
  }
 ],
 "metadata": {
  "kernelspec": {
   "display_name": "Python 2",
   "language": "python",
   "name": "python2"
  },
  "language_info": {
   "codemirror_mode": {
    "name": "ipython",
    "version": 2
   },
   "file_extension": ".py",
   "mimetype": "text/x-python",
   "name": "python",
   "nbconvert_exporter": "python",
   "pygments_lexer": "ipython2",
   "version": "2.7.10"
  }
 },
 "nbformat": 4,
 "nbformat_minor": 0
}
