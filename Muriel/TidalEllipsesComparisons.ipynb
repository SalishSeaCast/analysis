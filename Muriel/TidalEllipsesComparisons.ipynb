{
 "cells": [
  {
   "cell_type": "markdown",
   "metadata": {},
   "source": [
    "This notebook has the purpose of comparing tidal ellipses calculated by the model to other data sources."
   ]
  },
  {
   "cell_type": "markdown",
   "metadata": {},
   "source": [
    "#Loading and Preparing the Files"
   ]
  },
  {
   "cell_type": "markdown",
   "metadata": {},
   "source": [
    "The following cells in this section will load, mask, rotate and unstagger the model output data. "
   ]
  },
  {
   "cell_type": "code",
   "execution_count": 56,
   "metadata": {
    "collapsed": false
   },
   "outputs": [],
   "source": [
    "import os\n",
    "import glob\n",
    "import datetime\n",
    "import matplotlib.pylab as plt\n",
    "import matplotlib.ticker as ticker\n",
    "from matplotlib.patches import Ellipse\n",
    "import numpy as np\n",
    "from IPython.display import display, Math, Latex\n",
    "import datetime\n",
    "import pandas as pd\n",
    "\n",
    "import netCDF4 as nc\n",
    "from scipy.optimize import curve_fit\n",
    "from salishsea_tools import (viz_tools,tidetools, nc_tools)\n",
    "from salishsea_tools.nowcast import (research_VENUS, analyze)\n",
    "\n",
    "%matplotlib inline"
   ]
  },
  {
   "cell_type": "code",
   "execution_count": 57,
   "metadata": {
    "collapsed": true
   },
   "outputs": [],
   "source": [
    "grid_B = nc.Dataset('/data/dlatorne/MEOPAR/NEMO-forcing/grid/bathy_meter_SalishSea2.nc')\n",
    "lats = grid_B.variables['nav_lat'][:]\n",
    "lons = grid_B.variables['nav_lon'][:]\n",
    "bathy = grid_B.variables['Bathymetry'][:,:]"
   ]
  },
  {
   "cell_type": "code",
   "execution_count": 58,
   "metadata": {
    "collapsed": false
   },
   "outputs": [],
   "source": [
    "to = datetime.datetime(2014,11,24)\n",
    "tf = datetime.datetime(2015, 6, 8)\n",
    "\n",
    "t_o = to.strftime('%d%b%y').lower()\n",
    "t_f = tf.strftime('%d%b%y').lower()\n",
    "\n",
    "runname1 = '{}_{}_{}_Central'.format(t_o, t_f, 'h')\n",
    "runname2 = '{}_{}_{}_East'.format(t_o, t_f, 'h')\n",
    "\n",
    "#Only importing M2 parameters\n",
    "cols=np.arange(0,4)\n",
    "\n",
    "df1 = pd.read_csv(runname1+'.csv', usecols=cols) \n",
    "df2 = pd.read_csv(runname2+'.csv', usecols=cols)\n",
    "\n",
    "cen = df1.as_matrix()\n",
    "east = df2.as_matrix()"
   ]
  },
  {
   "cell_type": "markdown",
   "metadata": {},
   "source": [
    "The locations of the nodes are stored in a dictionary in research_VENUS.py"
   ]
  },
  {
   "cell_type": "markdown",
   "metadata": {},
   "source": [
    "Slice in order to compare, the min and max depth values for each location is determine by the comparison source."
   ]
  },
  {
   "cell_type": "code",
   "execution_count": 59,
   "metadata": {
    "collapsed": false
   },
   "outputs": [],
   "source": [
    "central_min = 35\n",
    "central_max = 290\n",
    "\n",
    "east_min = 20\n",
    "east_max = 160\n",
    "\n",
    "minc = [n for n,i in enumerate(cen[:,0]) if i>central_min ][0]\n",
    "maxc = [n for n,i in enumerate(cen[:,0]) if i>central_max ][0]\n",
    "mine = [n for n,i in enumerate(east[:,0]) if i>east_min ][0]\n",
    "maxe = [n for n,i in enumerate(east[:,0]) if i>east_max ][0]        \n",
    "\n",
    "cen_slice = cen[minc:maxc]\n",
    "east_slice = east[mine:maxe]"
   ]
  },
  {
   "cell_type": "code",
   "execution_count": 60,
   "metadata": {
    "collapsed": false
   },
   "outputs": [],
   "source": [
    "cen_av = analyze.depth_average(cen_slice,cen_slice[:,0],0)\n",
    "\n",
    "east_av = analyze.depth_average(east_slice,east_slice[:,0],0)"
   ]
  },
  {
   "cell_type": "markdown",
   "metadata": {},
   "source": [
    "#Fits"
   ]
  },
  {
   "cell_type": "markdown",
   "metadata": {},
   "source": [
    "The following cells will calculate the cell-centered model output velocities' tidal parameters."
   ]
  },
  {
   "cell_type": "markdown",
   "metadata": {},
   "source": [
    "#Comparisons\n",
    "##Depth Averaged at VENUS nodes "
   ]
  },
  {
   "cell_type": "markdown",
   "metadata": {},
   "source": [
    "Mark Halverson's values:"
   ]
  },
  {
   "cell_type": "code",
   "execution_count": 61,
   "metadata": {
    "collapsed": true
   },
   "outputs": [],
   "source": [
    "majc = 0.179\n",
    "minorc = 0.05\n",
    "incc = 109\n",
    "\n",
    "#CODAR values\n",
    "majc_cod = 0.113\n",
    "minorc_cod = 0.08\n",
    "incc_cod = 127\n",
    "\n",
    "maje = 0.262\n",
    "minore = -0.04\n",
    "ince = 124\n",
    "\n",
    "maje_cod = 0.138\n",
    "minore_cod = -0.037\n",
    "ince_cod = 133"
   ]
  },
  {
   "cell_type": "markdown",
   "metadata": {},
   "source": [
    "The nodes were depth averaged between 35 - 290 m at the Central node and 20 - 160 m at the East node. I have done the same with the model output. Note that the node values wer averaged about 10-11 months where are the model output values were averages over 6 1/2 months (Nov 24, 2014 to June 8, 2015)."
   ]
  },
  {
   "cell_type": "code",
   "execution_count": 62,
   "metadata": {
    "collapsed": false
   },
   "outputs": [
    {
     "name": "stdout",
     "output_type": "stream",
     "text": [
      "Central   Major-Axis   Minor-Axis     Angle\n",
      "           (m/s)      (m/s)     (deg ccw E)\n",
      " Model      0.17       0.01      129   \n",
      " Nodes      0.18       0.05      109   \n",
      "East   Major-Axis   Minor-Axis     Angle\n",
      "           (m/s)      (m/s)     (deg ccw E)\n",
      " Model      0.31       -0.02      136   \n",
      " Nodes      0.26       -0.04      124   \n"
     ]
    }
   ],
   "source": [
    "print \"Central   Major-Axis   Minor-Axis     Angle\"\n",
    "print \"           (m/s)      (m/s)     (deg ccw E)\"  \n",
    "print ' Model      {0:.2f}       {1:.2f}      {2:.0f}   '.format( \n",
    "         cen_av[1], cen_av[2], cen_av[3]) \n",
    "print ' Nodes      {0:.2f}       {1:.2f}      {2:.0f}   '.format(\n",
    "         majc, minorc, incc)\n",
    "#print ' CODAR      {0:.2f}       {1:.2f}      {2:.0f}   '.format(\n",
    "#         majc_cod, minorc_cod, incc_cod)\n",
    "\n",
    "\n",
    "print \"East   Major-Axis   Minor-Axis     Angle\"\n",
    "print \"           (m/s)      (m/s)     (deg ccw E)\"  \n",
    "print ' Model      {0:.2f}       {1:.2f}      {2:.0f}   '.format( \n",
    "         east_av[1], east_av[2], east_av[3]) \n",
    "print ' Nodes      {0:.2f}       {1:.2f}      {2:.0f}   '.format(\n",
    "         maje, minore, ince)\n",
    "#print ' CODAR      {0:.2f}       {1:.2f}      {2:.0f}   '.format(\n",
    "#         maje_cod, minore_cod, ince_cod)\n"
   ]
  },
  {
   "cell_type": "markdown",
   "metadata": {},
   "source": [
    "The CODAR region only calculates the surface currents. These values are compared with the 0.5 m depth model outputs."
   ]
  },
  {
   "cell_type": "code",
   "execution_count": 65,
   "metadata": {
    "collapsed": false
   },
   "outputs": [
    {
     "name": "stdout",
     "output_type": "stream",
     "text": [
      "Central   Major-Axis   Minor-Axis     Angle\n",
      "           (m/s)      (m/s)     (deg ccw E)\n",
      " Model      0.20       -0.07      137   \n",
      " CODAR      0.11       0.08      127   \n",
      "East   Major-Axis   Minor-Axis     Angle\n",
      "           (m/s)      (m/s)     (deg ccw E)\n",
      " Model      0.39       -0.18      127   \n",
      " CODAR      0.14       -0.04      133   \n"
     ]
    }
   ],
   "source": [
    "print \"Central   Major-Axis   Minor-Axis     Angle\"\n",
    "print \"           (m/s)      (m/s)     (deg ccw E)\"  \n",
    "print ' Model      {0:.2f}       {1:.2f}      {2:.0f}   '.format( \n",
    "         cen[0,1], cen[0,2], cen[0,3]) \n",
    "print ' CODAR      {0:.2f}       {1:.2f}      {2:.0f}   '.format(\n",
    "         majc_cod, minorc_cod, incc_cod)\n",
    "\n",
    "\n",
    "print \"East   Major-Axis   Minor-Axis     Angle\"\n",
    "print \"           (m/s)      (m/s)     (deg ccw E)\"  \n",
    "print ' Model      {0:.2f}       {1:.2f}      {2:.0f}   '.format( \n",
    "         east[0,1], east[0,2], east[0,3]) \n",
    "print ' CODAR      {0:.2f}       {1:.2f}      {2:.0f}   '.format(\n",
    "         maje_cod, minore_cod, ince_cod)"
   ]
  },
  {
   "cell_type": "code",
   "execution_count": null,
   "metadata": {
    "collapsed": true
   },
   "outputs": [],
   "source": []
  }
 ],
 "metadata": {
  "kernelspec": {
   "display_name": "Python 2",
   "language": "python",
   "name": "python2"
  },
  "language_info": {
   "codemirror_mode": {
    "name": "ipython",
    "version": 2
   },
   "file_extension": ".py",
   "mimetype": "text/x-python",
   "name": "python",
   "nbconvert_exporter": "python",
   "pygments_lexer": "ipython2",
   "version": "2.7.10"
  }
 },
 "nbformat": 4,
 "nbformat_minor": 0
}
