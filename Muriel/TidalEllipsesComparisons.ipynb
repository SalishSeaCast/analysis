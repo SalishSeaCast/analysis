{
 "cells": [
  {
   "cell_type": "markdown",
   "metadata": {},
   "source": [
    "This notebook has the purpose of comparing tidal ellipses calculated by the model to other data sources."
   ]
  },
  {
   "cell_type": "markdown",
   "metadata": {},
   "source": [
    "#Loading and Preparing the Files"
   ]
  },
  {
   "cell_type": "markdown",
   "metadata": {},
   "source": [
    "The following cells in this section will load, mask, rotate and unstagger the model output data. "
   ]
  },
  {
   "cell_type": "code",
   "execution_count": 1,
   "metadata": {
    "collapsed": true
   },
   "outputs": [],
   "source": [
    "import os\n",
    "import glob\n",
    "import datetime\n",
    "import matplotlib.pylab as plt\n",
    "import matplotlib.ticker as ticker\n",
    "from matplotlib.patches import Ellipse\n",
    "import numpy as np\n",
    "from IPython.display import display, Math, Latex\n",
    "\n",
    "import netCDF4 as nc\n",
    "from scipy.optimize import curve_fit\n",
    "from salishsea_tools import (viz_tools,tidetools, nc_tools)\n",
    "from salishsea_tools.nowcast import (research_VENUS, analyze)\n",
    "\n",
    "%matplotlib inline"
   ]
  },
  {
   "cell_type": "code",
   "execution_count": 2,
   "metadata": {
    "collapsed": true
   },
   "outputs": [],
   "source": [
    "grid_B = nc.Dataset('/data/dlatorne/MEOPAR/NEMO-forcing/grid/bathy_meter_SalishSea2.nc')\n",
    "lats = grid_B.variables['nav_lat'][:]\n",
    "lons = grid_B.variables['nav_lon'][:]\n",
    "bathy = grid_B.variables['Bathymetry'][:,:]"
   ]
  },
  {
   "cell_type": "code",
   "execution_count": 30,
   "metadata": {
    "collapsed": true
   },
   "outputs": [],
   "source": [
    "path = '/data/dlatorne/MEOPAR/SalishSea/nowcast/'\n",
    "to=datetime.datetime(2015,5,20)\n",
    "tf=datetime.datetime(2015,5,28)\n",
    "filesu=analyze.get_filenames(to,tf, '1h', 'grid_U', path)\n",
    "filesv=analyze.get_filenames(to,tf,'1h', 'grid_V', path)"
   ]
  },
  {
   "cell_type": "markdown",
   "metadata": {},
   "source": [
    "The locations of the nodes are stored in a dictionary in research_VENUS.py"
   ]
  },
  {
   "cell_type": "code",
   "execution_count": 31,
   "metadata": {
    "collapsed": false
   },
   "outputs": [],
   "source": [
    "sites=research_VENUS.SITES\n",
    "i_c=sites['VENUS']['Central']['i']\n",
    "i_e=sites['VENUS']['East']['i']\n",
    "j_c=sites['VENUS']['Central']['j']\n",
    "j_e=sites['VENUS']['East']['j']"
   ]
  },
  {
   "cell_type": "code",
   "execution_count": 36,
   "metadata": {
    "collapsed": false
   },
   "outputs": [],
   "source": [
    "u_u_c, time = analyze.combine_files(filesu, 'vozocrtx','None',[j_c-1, j_c], [i_c-1,i_c])\n",
    "v_v_c, timec = analyze.combine_files(filesv, 'vomecrty','None',[j_c-1, j_c], [i_c-1,i_c])\n",
    "time_c = tidetools.convert_to_seconds(timec)\n",
    "dep_t_c = nc.Dataset(filesv[-1]).variables['depthv']\n",
    "\n",
    "u_u_e, time = analyze.combine_files(filesu, 'vozocrtx','None',[j_e-1, j_e], [i_e-1,i_e])\n",
    "v_v_e, timee = analyze.combine_files(filesv, 'vomecrty','None',[j_e-1, j_e], [i_e-1,i_e])\n",
    "time_e = tidetools.convert_to_seconds(timee)\n",
    "dep_t_e = nc.Dataset(filesv[-1]).variables['depthv']"
   ]
  },
  {
   "cell_type": "code",
   "execution_count": 65,
   "metadata": {
    "collapsed": true
   },
   "outputs": [],
   "source": [
    "u_u_0 = np.ma.masked_values(u_u_e, 0)\n",
    "v_v_0 = np.ma.masked_values(v_v_e, 0)\n",
    "u_u_0c = np.ma.masked_values(u_u_c, 0)\n",
    "v_v_0c = np.ma.masked_values(v_v_c, 0)\n",
    "\n",
    "u_c_all, v_c_all=research_VENUS.unstag_rot_gridded(u_u_0c, v_v_0c, 'Central')\n",
    "u_e_all, v_e_all=research_VENUS.unstag_rot_gridded(u_u_0, v_v_0, 'East')"
   ]
  },
  {
   "cell_type": "markdown",
   "metadata": {},
   "source": [
    "Slice in order to compare, the min and max depth values for each location is determine by the comparison source."
   ]
  },
  {
   "cell_type": "code",
   "execution_count": 122,
   "metadata": {
    "collapsed": false
   },
   "outputs": [
    {
     "data": {
      "text/plain": [
       "(216, 11)"
      ]
     },
     "execution_count": 122,
     "metadata": {},
     "output_type": "execute_result"
    }
   ],
   "source": [
    "central_min = 35\n",
    "central_max = 290\n",
    "\n",
    "east_min = 20\n",
    "east_max = 160\n",
    "\n",
    "minc = [n for n,i in enumerate(dep_t_c) if i>central_min ][0]\n",
    "maxc = [n for n,i in enumerate(dep_t_c) if i>central_max ][0]\n",
    "mine = [n for n,i in enumerate(dep_t_e) if i>east_min ][0]\n",
    "maxe = [n for n,i in enumerate(dep_t_e) if i>east_max ][0]        \n",
    "\n",
    "u_c = u_c_all[:, minc:maxc]\n",
    "v_c = v_c_all[:, minc:maxc]\n",
    "u_e = u_e_all[:, mine:maxe]\n",
    "v_e = v_e_all[:, mine:maxe]\n",
    "u_c.shape"
   ]
  },
  {
   "cell_type": "code",
   "execution_count": 101,
   "metadata": {
    "collapsed": false
   },
   "outputs": [],
   "source": [
    "uc=analyze.depth_average(u_c,dep_t_c[minc:maxc],1)\n",
    "vc=analyze.depth_average(v_c,dep_t_c[minc:maxc],1)\n",
    "ue=analyze.depth_average(u_e,dep_t_e[mine:maxe],1)\n",
    "ve=analyze.depth_average(v_e,dep_t_e[mine:maxe],1)"
   ]
  },
  {
   "cell_type": "code",
   "execution_count": 125,
   "metadata": {
    "collapsed": true
   },
   "outputs": [],
   "source": [
    "uc_av=np.mean(uc)\n",
    "vc_av=np.mean(vc)\n",
    "ue_av=np.mean(ue)\n",
    "ve_av=np.mean(ve)"
   ]
  },
  {
   "cell_type": "markdown",
   "metadata": {},
   "source": [
    "#Fits"
   ]
  },
  {
   "cell_type": "markdown",
   "metadata": {},
   "source": [
    "The following cells will calculate the cell-centered model output velocities' tidal parameters."
   ]
  },
  {
   "cell_type": "code",
   "execution_count": 129,
   "metadata": {
    "collapsed": false
   },
   "outputs": [],
   "source": [
    "times=[time_c,time_e]\n",
    "us=[uc, ue]\n",
    "vs=[vc, ve]\n",
    "i=np.arange(0,2)\n",
    "\n",
    "thesize=(1,2)\n",
    "vM2amp = np.zeros(thesize); vM2pha = np.zeros(thesize)\n",
    "vK1amp = np.zeros(thesize); vK1pha = np.zeros(thesize)\n",
    "uM2amp = np.zeros(thesize); uM2pha = np.zeros(thesize)\n",
    "uK1amp = np.zeros(thesize); uK1pha = np.zeros(thesize)\n",
    "\n",
    "for i, u, time, v in zip(i, us, times, vs):\n",
    "    uM2amp[:,i], uM2pha[:,i], uK1amp[:,i], uK1pha[:,i] = tidetools.fittit(u, time)\n",
    "    vM2amp[:,i], vM2pha[:,i], vK1amp[:,i], vK1pha[:,i] = tidetools.fittit(v, time) \n",
    "\n",
    "CX, SX, CY, SY, ap, am, ep, em, major, minor, theta = tidetools.ellipse_params (uM2amp, uM2pha, vM2amp, vM2pha)\n",
    "CX_k, SX_k, CY_k, SY_k, ap_k, am_k, ep_k, em_k, major_k, minor_k, theta_k = tidetools.ellipse_params (uK1amp, uK1pha, vK1amp, vK1pha)\n"
   ]
  },
  {
   "cell_type": "code",
   "execution_count": 141,
   "metadata": {
    "collapsed": false
   },
   "outputs": [
    {
     "data": {
      "text/plain": [
       "array([ 0.14299807,  0.25419431])"
      ]
     },
     "execution_count": 141,
     "metadata": {},
     "output_type": "execute_result"
    }
   ],
   "source": [
    "major[0,]"
   ]
  },
  {
   "cell_type": "markdown",
   "metadata": {},
   "source": [
    "#Comparisons\n",
    "##Depth Averaged at VENUS nodes "
   ]
  },
  {
   "cell_type": "code",
   "execution_count": 143,
   "metadata": {
    "collapsed": true
   },
   "outputs": [],
   "source": [
    "majc = 0.179\n",
    "minorc = 0.05\n",
    "incc = 109\n",
    "\n",
    "#CODAR values\n",
    "majc_cod = 0.113\n",
    "minorc_cod = 0.08\n",
    "incc_cod = 127\n",
    "\n",
    "maje = 0.262\n",
    "minore = -0.04\n",
    "ince = 124\n",
    "\n",
    "maje_cod = 0.138\n",
    "minore_cod = -0.037\n",
    "ince_cod = 133"
   ]
  },
  {
   "cell_type": "code",
   "execution_count": 155,
   "metadata": {
    "collapsed": false
   },
   "outputs": [
    {
     "name": "stdout",
     "output_type": "stream",
     "text": [
      "Central   Major-Axis   Minor-Axis     Angle\n",
      "           (m/s)      (m/s)     (deg ccw E)\n",
      " Model      0.14       0.02      131   \n",
      " Nodes      0.18       0.05      109   \n",
      " CODAR      0.11       0.08      127   \n",
      "East   Major-Axis   Minor-Axis     Angle\n",
      "           (m/s)      (m/s)     (deg ccw E)\n",
      " Model      0.25       -0.02      137   \n",
      " Nodes      0.26       -0.04      124   \n",
      " CODAR      0.14       -0.04      133   \n"
     ]
    }
   ],
   "source": [
    "print \"Central   Major-Axis   Minor-Axis     Angle\"\n",
    "print \"           (m/s)      (m/s)     (deg ccw E)\"  \n",
    "print ' Model      {0:.2f}       {1:.2f}      {2:.0f}   '.format( \n",
    "         major[0,0], minor[0,0], theta[0,0]) \n",
    "print ' Nodes      {0:.2f}       {1:.2f}      {2:.0f}   '.format(\n",
    "         majc, minorc, incc)\n",
    "print ' CODAR      {0:.2f}       {1:.2f}      {2:.0f}   '.format(\n",
    "         majc_cod, minorc_cod, incc_cod)\n",
    "\n",
    "\n",
    "print \"East   Major-Axis   Minor-Axis     Angle\"\n",
    "print \"           (m/s)      (m/s)     (deg ccw E)\"  \n",
    "print ' Model      {0:.2f}       {1:.2f}      {2:.0f}   '.format( \n",
    "         major[0,1], minor[0,1], theta[0,1]) \n",
    "print ' Nodes      {0:.2f}       {1:.2f}      {2:.0f}   '.format(\n",
    "         maje, minore, ince)\n",
    "print ' CODAR      {0:.2f}       {1:.2f}      {2:.0f}   '.format(\n",
    "         maje_cod, minore_cod, ince_cod)\n"
   ]
  },
  {
   "cell_type": "code",
   "execution_count": null,
   "metadata": {
    "collapsed": true
   },
   "outputs": [],
   "source": []
  },
  {
   "cell_type": "code",
   "execution_count": null,
   "metadata": {
    "collapsed": true
   },
   "outputs": [],
   "source": []
  }
 ],
 "metadata": {
  "kernelspec": {
   "display_name": "Python 2",
   "language": "python",
   "name": "python2"
  },
  "language_info": {
   "codemirror_mode": {
    "name": "ipython",
    "version": 2
   },
   "file_extension": ".py",
   "mimetype": "text/x-python",
   "name": "python",
   "nbconvert_exporter": "python",
   "pygments_lexer": "ipython2",
   "version": "2.7.9"
  }
 },
 "nbformat": 4,
 "nbformat_minor": 0
}
