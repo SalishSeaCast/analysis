{
 "cells": [
  {
   "cell_type": "markdown",
   "metadata": {},
   "source": [
    "This notebook is used to save the tidal parameters calculated from the model output to a csv file in order to avoid having to load all the files run."
   ]
  },
  {
   "cell_type": "code",
   "execution_count": 1,
   "metadata": {
    "collapsed": false
   },
   "outputs": [],
   "source": [
    "import os\n",
    "import glob\n",
    "import datetime\n",
    "import matplotlib.pylab as plt\n",
    "import matplotlib.ticker as ticker\n",
    "from matplotlib.patches import Ellipse\n",
    "import numpy as np\n",
    "from IPython.display import display, Math, Latex\n",
    "import csv\n",
    "import pandas as pd\n",
    "import re\n",
    "from dateutil import tz\n",
    "\n",
    "import netCDF4 as nc\n",
    "import scipy.io as sio\n",
    "from scipy.optimize import curve_fit\n",
    "from salishsea_tools import (viz_tools,tidetools, nc_tools, ellipse)\n",
    "from salishsea_tools.nowcast import (research_VENUS, analyze)\n",
    "\n",
    "%matplotlib inline\n"
   ]
  },
  {
   "cell_type": "markdown",
   "metadata": {},
   "source": [
    "#Hourly Data\n",
    "##@ VENUS nodes\n",
    "The functions below will facilitate loading the hourly data and writting the tidal parameters to a csv file."
   ]
  },
  {
   "cell_type": "markdown",
   "metadata": {},
   "source": [
    "Function to save tidal parameters in a csv file."
   ]
  },
  {
   "cell_type": "code",
   "execution_count": 2,
   "metadata": {
    "collapsed": false
   },
   "outputs": [],
   "source": [
    "def writetocsv(runname, depth, major, minor,theta, phase, majork1, minork1, thetak1, phasek1, station):\n",
    "    outfile = runname+'.csv'\n",
    "    \n",
    "    if station == 'Central':\n",
    "        k=0\n",
    "        with open(outfile, 'wb') as csvfile:\n",
    "            writer = csv.writer(csvfile, delimiter=',')\n",
    "            writer.writerow([\n",
    "                'Depth', 'Major(M2)', 'Minor(M2)', 'Inc(M2)','Pha(M2)',\n",
    "                'Major(K1)', 'Minor(K1)', 'Inc(K1)', 'Pha(K1)'\n",
    "            ])\n",
    "            for i in np.arange(0,39):\n",
    "                writer.writerow([depth[k][i], major[i,k], minor[i,k], theta[i,k], phase[i,k], majork1[i,k], minork1[i,k], thetak1[i,k], phasek1[i,k]])\n",
    "\n",
    "    elif station == 'East':\n",
    "        k=1\n",
    "        with open(outfile, 'wb') as csvfile:\n",
    "            writer = csv.writer(csvfile, delimiter=',')\n",
    "            writer.writerow([\n",
    "                'Depth', 'Major(M2)', 'Minor(M2)', 'Inc(M2)','Pha(M2)',\n",
    "                'Major(K1)', 'Minor(K1)', 'Inc(K1)', 'Pha(K1)'\n",
    "            ])\n",
    "            for i in np.arange(0,39):\n",
    "                writer.writerow([depth[k][i], major[i,k], minor[i,k], theta[i,k], phase[i,k], majork1[i,k], minork1[i,k], thetak1[i,k], phasek1[i,k]])\n",
    "\n",
    "    elif major.shape[0] == 40:\n",
    "        with open(outfile, 'wb') as csvfile:\n",
    "            writer = csv.writer(csvfile, delimiter=',')\n",
    "            writer.writerow([\n",
    "                'Depth', 'Major(M2)', 'Minor(M2)', 'Inc(M2)','Pha(M2)',\n",
    "                'Major(K1)', 'Minor(K1)', 'Inc(K1)', 'Pha(K1)'\n",
    "            ])\n",
    "            for i in np.arange(0,39):\n",
    "                writer.writerow([depth[i], major[i], minor[i], theta[i], phase[i], majork1[i], minork1[i], thetak1[i], phasek1[i]])\n",
    "\n",
    "    else:\n",
    "        k=0\n",
    "        with open(outfile, 'wb') as csvfile:\n",
    "            writer = csv.writer(csvfile, delimiter=',')\n",
    "            writer.writerow([\n",
    "                'Major(M2)', 'Minor(M2)', 'Inc(M2)','Pha(M2)',\n",
    "                'Major(K1)', 'Minor(K1)', 'Inc(K1)', 'Pha(K1)'\n",
    "            ])\n",
    "            mat = (major[0], minor[0], theta[0], phase[0], majork1[0], minork1[0], thetak1[0], phasek1[0])\n",
    "            writer.writerow(mat)\n"
   ]
  },
  {
   "cell_type": "code",
   "execution_count": 19,
   "metadata": {
    "collapsed": false
   },
   "outputs": [],
   "source": [
    "def writetocsv_new(runname, params, dep='None'):\n",
    "    outfile = runname+'.csv'\n",
    "    \n",
    "    if dep == 'None':\n",
    "        with open(outfile, 'wb') as csvfile:\n",
    "            writer = csv.writer(csvfile, delimiter=',')\n",
    "            writer.writerow([\n",
    "                'Major(M2)', 'Minor(M2)', 'Inc(M2)','Pha(M2)',\n",
    "                'Major(K1)', 'Minor(K1)', 'Inc(K1)', 'Pha(K1)'\n",
    "            ])\n",
    "            mat = ([params['M2']['Semi-Major Axis'][0,0], params['M2']['Semi-Minor Axis'][0,0], params['M2']['Inclination'][0,0], params['M2']['Phase'][0,0], \n",
    "                       params['K1']['Semi-Major Axis'][0,0], params['K1']['Semi-Minor Axis'][0,0], params['K1']['Inclination'][0,0], params['K1']['Phase'][0,0]])\n",
    "            writer.writerow(mat)\n",
    "\n",
    "    else:\n",
    "        with open(outfile, 'wb') as csvfile:\n",
    "            writer = csv.writer(csvfile, delimiter=',')\n",
    "            writer.writerow([\n",
    "                'Depth', 'Major(M2)', 'Minor(M2)', 'Inc(M2)','Pha(M2)',\n",
    "                'Major(K1)', 'Minor(K1)', 'Inc(K1)', 'Pha(K1)'\n",
    "            ])\n",
    "            for i in np.arange(0,39):\n",
    "                writer.writerow([dep[i], params['M2']['Semi-Major Axis'][i,0][0], params['M2']['Semi-Minor Axis'][i,0][0], params['M2']['Inclination'][i,0][0], params['M2']['Phase'][i,0][0],params['K1']['Semi-Major Axis'][i,0][0], params['K1']['Semi-Minor Axis'][i,0][0], params['K1']['Inclination'][i,0][0], params['K1']['Phase'][i,0][0]])\n"
   ]
  },
  {
   "cell_type": "markdown",
   "metadata": {},
   "source": [
    "###All the hourly data"
   ]
  },
  {
   "cell_type": "markdown",
   "metadata": {},
   "source": [
    "Do not use data before November 26th 2014 for tidal ellipses, the model tides change this day."
   ]
  },
  {
   "cell_type": "code",
   "execution_count": 23,
   "metadata": {
    "collapsed": true
   },
   "outputs": [],
   "source": [
    "path = '/data/dlatorne/MEOPAR/SalishSea/nowcast/'\n",
    "\n",
    "to=datetime.datetime(2014,11,26)\n",
    "tf=datetime.datetime(2015,7,13)\n",
    "\n",
    "t_o = to.strftime('%d%b%y').lower()\n",
    "t_f = tf.strftime('%d%b%y').lower()\n",
    "depav = [35,300,20,160]"
   ]
  },
  {
   "cell_type": "markdown",
   "metadata": {},
   "source": [
    "Central and East depth averaged without surface and bottom effects"
   ]
  },
  {
   "cell_type": "code",
   "execution_count": 24,
   "metadata": {
    "collapsed": false
   },
   "outputs": [
    {
     "name": "stdout",
     "output_type": "stream",
     "text": [
      "/data/dlatorne/MEOPAR/SalishSea/nowcast/26nov14/SalishSea_1h_20141126_20141126_grid_U.nc\n"
     ]
    },
    {
     "ename": "IOError",
     "evalue": "[Errno 2] No such file or directory: '/ocean/nsoontie/TidalEllipseData/Nodes/26nov14_13jul15_Central_depav.csv'",
     "output_type": "error",
     "traceback": [
      "\u001b[1;31m---------------------------------------------------------------------------\u001b[0m",
      "\u001b[1;31mIOError\u001b[0m                                   Traceback (most recent call last)",
      "\u001b[1;32m<ipython-input-24-e6ea632bb047>\u001b[0m in \u001b[0;36m<module>\u001b[1;34m()\u001b[0m\n\u001b[0;32m      1\u001b[0m \u001b[0mparams\u001b[0m\u001b[1;33m,\u001b[0m \u001b[0mdepth\u001b[0m \u001b[1;33m=\u001b[0m \u001b[0mellipse\u001b[0m\u001b[1;33m.\u001b[0m\u001b[0mget_params_nowcast\u001b[0m\u001b[1;33m(\u001b[0m\u001b[0mto\u001b[0m\u001b[1;33m,\u001b[0m \u001b[0mtf\u001b[0m\u001b[1;33m,\u001b[0m \u001b[1;33m[\u001b[0m\u001b[1;36m266\u001b[0m\u001b[1;33m]\u001b[0m\u001b[1;33m,\u001b[0m \u001b[1;33m[\u001b[0m\u001b[1;36m424\u001b[0m\u001b[1;33m]\u001b[0m\u001b[1;33m,\u001b[0m \u001b[0mpath\u001b[0m\u001b[1;33m,\u001b[0m \u001b[1;36m2\u001b[0m\u001b[1;33m,\u001b[0m \u001b[0mdepthrange\u001b[0m\u001b[1;33m=\u001b[0m\u001b[1;33m[\u001b[0m\u001b[1;36m35\u001b[0m\u001b[1;33m,\u001b[0m\u001b[1;36m300\u001b[0m\u001b[1;33m]\u001b[0m\u001b[1;33m,\u001b[0m \u001b[0mdepav\u001b[0m\u001b[1;33m=\u001b[0m\u001b[0mTrue\u001b[0m\u001b[1;33m)\u001b[0m\u001b[1;33m\u001b[0m\u001b[0m\n\u001b[0;32m      2\u001b[0m \u001b[0mrunname1\u001b[0m \u001b[1;33m=\u001b[0m \u001b[1;34m'/ocean/nsoontie/TidalEllipseData/Nodes/{}_{}_Central_depav'\u001b[0m\u001b[1;33m.\u001b[0m\u001b[0mformat\u001b[0m\u001b[1;33m(\u001b[0m\u001b[0mt_o\u001b[0m\u001b[1;33m,\u001b[0m \u001b[0mt_f\u001b[0m\u001b[1;33m)\u001b[0m\u001b[1;33m\u001b[0m\u001b[0m\n\u001b[1;32m----> 3\u001b[1;33m \u001b[0mwritetocsv_new\u001b[0m\u001b[1;33m(\u001b[0m\u001b[0mrunname1\u001b[0m\u001b[1;33m,\u001b[0m \u001b[0mparams\u001b[0m\u001b[1;33m)\u001b[0m\u001b[1;33m\u001b[0m\u001b[0m\n\u001b[0m",
      "\u001b[1;32m<ipython-input-19-0a613c2f7c9e>\u001b[0m in \u001b[0;36mwritetocsv_new\u001b[1;34m(runname, params, dep)\u001b[0m\n\u001b[0;32m      3\u001b[0m \u001b[1;33m\u001b[0m\u001b[0m\n\u001b[0;32m      4\u001b[0m     \u001b[1;32mif\u001b[0m \u001b[0mdep\u001b[0m \u001b[1;33m==\u001b[0m \u001b[1;34m'None'\u001b[0m\u001b[1;33m:\u001b[0m\u001b[1;33m\u001b[0m\u001b[0m\n\u001b[1;32m----> 5\u001b[1;33m         \u001b[1;32mwith\u001b[0m \u001b[0mopen\u001b[0m\u001b[1;33m(\u001b[0m\u001b[0moutfile\u001b[0m\u001b[1;33m,\u001b[0m \u001b[1;34m'wb'\u001b[0m\u001b[1;33m)\u001b[0m \u001b[1;32mas\u001b[0m \u001b[0mcsvfile\u001b[0m\u001b[1;33m:\u001b[0m\u001b[1;33m\u001b[0m\u001b[0m\n\u001b[0m\u001b[0;32m      6\u001b[0m             \u001b[0mwriter\u001b[0m \u001b[1;33m=\u001b[0m \u001b[0mcsv\u001b[0m\u001b[1;33m.\u001b[0m\u001b[0mwriter\u001b[0m\u001b[1;33m(\u001b[0m\u001b[0mcsvfile\u001b[0m\u001b[1;33m,\u001b[0m \u001b[0mdelimiter\u001b[0m\u001b[1;33m=\u001b[0m\u001b[1;34m','\u001b[0m\u001b[1;33m)\u001b[0m\u001b[1;33m\u001b[0m\u001b[0m\n\u001b[0;32m      7\u001b[0m             writer.writerow([\n",
      "\u001b[1;31mIOError\u001b[0m: [Errno 2] No such file or directory: '/ocean/nsoontie/TidalEllipseData/Nodes/26nov14_13jul15_Central_depav.csv'"
     ]
    }
   ],
   "source": [
    "params, depth = ellipse.get_params_nowcast(to, tf, [266], [424], path, 2, depthrange=[35,300], depav=True)\n",
    "runname1 = '/ocean/nsoontie/MEOPAR/TidalEllipseData/Nodes/{}_{}_Central_depav'.format(t_o, t_f)\n"
   ]
  },
  {
   "cell_type": "code",
   "execution_count": 27,
   "metadata": {
    "collapsed": false
   },
   "outputs": [],
   "source": [
    "runname1 = '/ocean/nsoontie/MEOPAR/TidalEllipseData/Nodes/{}_{}_Central_depav'.format(t_o, t_f)\n",
    "writetocsv_new(runname1, params)"
   ]
  },
  {
   "cell_type": "code",
   "execution_count": 16,
   "metadata": {
    "collapsed": false
   },
   "outputs": [],
   "source": [
    "params, depth = ellipse.get_params_nowcast(to, tf, [283], [416],  path, 2,depthrange=[20,160], depav=True)\n",
    "runname2 = '/ocean/nsoontie/MEOPAR/TidalEllipseData/Nodes/{}_{}_East_depav'.format(t_o, t_f)\n",
    "writetocsv_new(runname2, params)"
   ]
  },
  {
   "cell_type": "markdown",
   "metadata": {},
   "source": [
    "Central and east whole water column"
   ]
  },
  {
   "cell_type": "code",
   "execution_count": 36,
   "metadata": {
    "collapsed": false
   },
   "outputs": [],
   "source": [
    "params, depth = ellipse.get_params_nowcast(to, tf, [266], [424], path, 2)\n",
    "runname1 = 'TidalEllipseData/Nodes/{}_{}_Central'.format(t_o, t_f)\n",
    "writetocsv_new(runname1, params, dep=depth)"
   ]
  },
  {
   "cell_type": "code",
   "execution_count": 38,
   "metadata": {
    "collapsed": false
   },
   "outputs": [],
   "source": [
    "params, depth = ellipse.get_params_nowcast(to, tf, [283], [416], path, 2)\n",
    "runname2 = 'TidalEllipseData/Nodes/{}_{}_East'.format(t_o, t_f)\n",
    "writetocsv_new(runname2, params, dep=depth)"
   ]
  },
  {
   "cell_type": "markdown",
   "metadata": {},
   "source": [
    "###Hourly data without the freshet"
   ]
  },
  {
   "cell_type": "code",
   "execution_count": 15,
   "metadata": {
    "collapsed": true
   },
   "outputs": [],
   "source": [
    "path = '/data/dlatorne/MEOPAR/SalishSea/nowcast/'\n",
    "\n",
    "to=datetime.datetime(2014,11,26)\n",
    "tf=datetime.datetime(2015,4,26)\n",
    "\n",
    "t_o = to.strftime('%d%b%y').lower()\n",
    "t_f = tf.strftime('%d%b%y').lower()\n",
    "depav = [35,300,20,160]"
   ]
  },
  {
   "cell_type": "code",
   "execution_count": 18,
   "metadata": {
    "collapsed": true
   },
   "outputs": [],
   "source": [
    "freq = 'h'\n",
    "params, depth = ellipse.get_params_nowcast(to, tf, [266], [424], path, 2)\n",
    "runname1 = 'TidalEllipseData/Nodes/{}_{}_{}_Central'.format(t_o, t_f, 'h')\n",
    "writetocsv_new(runname1, params, dep=depth)"
   ]
  },
  {
   "cell_type": "code",
   "execution_count": 16,
   "metadata": {
    "collapsed": true
   },
   "outputs": [],
   "source": [
    "params, depth = ellipse.get_params_nowcast(to, tf, [283], [416],  path, 2)\n",
    "runname2 = 'TidalEllipseData/Nodes/{}_{}_{}_East'.format(t_o, t_f, 'h')\n",
    "writetocsv_new(runname2, params, dep=depth)"
   ]
  },
  {
   "cell_type": "code",
   "execution_count": 20,
   "metadata": {
    "collapsed": false
   },
   "outputs": [
    {
     "name": "stdout",
     "output_type": "stream",
     "text": [
      "done\n",
      "done\n"
     ]
    }
   ],
   "source": [
    "print 'done'\n",
    "params, depth = ellipse.get_params_nowcast(to, tf, [266], [424], path, 2, depthrange=[35, 300], depav=True)\n",
    "print 'done'"
   ]
  },
  {
   "cell_type": "code",
   "execution_count": 21,
   "metadata": {
    "collapsed": false
   },
   "outputs": [
    {
     "name": "stdout",
     "output_type": "stream",
     "text": [
      "done\n"
     ]
    }
   ],
   "source": [
    "runname2 = '/ocean/nsoontie/MEOPAR/TidalEllipseData/Nodes/{}_{}_{}_Central-depav'.format(t_o, t_f, 'h')\n",
    "writetocsv_new(runname2, params)\n",
    "\n",
    "params, depth = ellipse.get_params_nowcast(to, tf, [283], [416],  path, 2, depthrange=[20, 160], depav=True)\n",
    "print 'done'\n",
    "runname2 = '/ocean/nsoontie/MEOPAR/TidalEllipseData/Nodes/{}_{}_{}_East-depav'.format(t_o, t_f, 'h')\n",
    "writetocsv_new(runname2, params)"
   ]
  },
  {
   "cell_type": "markdown",
   "metadata": {},
   "source": [
    "###Seasonal sensitivity\n",
    "Winter"
   ]
  },
  {
   "cell_type": "code",
   "execution_count": 23,
   "metadata": {
    "collapsed": false
   },
   "outputs": [],
   "source": [
    "path = '/data/dlatorne/MEOPAR/SalishSea/nowcast/'\n",
    "\n",
    "to=datetime.datetime(2014,11,26)\n",
    "tf=datetime.datetime(2015,2,26)\n",
    "freq = 'h'\n",
    "t_o = to.strftime('%d%b%y').lower()\n",
    "t_f = tf.strftime('%d%b%y').lower()\n",
    "params, depth = ellipse.get_params_nowcast(to, tf, [266], [424], path, 2)\n",
    "runname1 = '/ocean/nsoontie/MEOPAR/TidalEllipseData/Sensitivity/{}_{}_Central_winter'.format(t_o, t_f)\n",
    "writetocsv_new(runname1, params, dep=depth)\n",
    "\n",
    "params, depth = ellipse.get_params_nowcast(to, tf, [283], [416], path, 2)\n",
    "runname2 = '/ocean/nsoontie/MEOPAR/TidalEllipseData/Sensitivity/{}_{}_East_winter'.format(t_o, t_f)\n",
    "writetocsv_new(runname2, params, dep=depth)"
   ]
  },
  {
   "cell_type": "markdown",
   "metadata": {},
   "source": [
    "Spring"
   ]
  },
  {
   "cell_type": "code",
   "execution_count": 22,
   "metadata": {
    "collapsed": false
   },
   "outputs": [
    {
     "name": "stdout",
     "output_type": "stream",
     "text": [
      "/data/dlatorne/MEOPAR/SalishSea/nowcast/27feb15/SalishSea_1h_20150227_20150227_grid_U.nc\n",
      "/data/dlatorne/MEOPAR/SalishSea/nowcast/27feb15/SalishSea_1h_20150227_20150227_grid_U.nc\n"
     ]
    }
   ],
   "source": [
    "path = '/data/dlatorne/MEOPAR/SalishSea/nowcast/'\n",
    "\n",
    "to=datetime.datetime(2015,2,27)\n",
    "tf=datetime.datetime(2015,5,27)\n",
    "\n",
    "t_o = to.strftime('%d%b%y').lower()\n",
    "t_f = tf.strftime('%d%b%y').lower()\n",
    "params, depth = ellipse.get_params_nowcast(to, tf, [266], [424], path, 2)\n",
    "runname1 = '/ocean/nsoontie/MEOPAR/TidalEllipseData/Sensitivity/{}_{}_Central_spring'.format(t_o, t_f)\n",
    "writetocsv_new(runname1, params, dep=depth)\n",
    "\n",
    "params, depth = ellipse.get_params_nowcast(to, tf, [283], [416], path, 2)\n",
    "runname2 = '/ocean/nsoontie/MEOPAR/TidalEllipseData/Sensitivity/{}_{}_East_spring'.format(t_o, t_f)\n",
    "writetocsv_new(runname2, params, dep=depth)"
   ]
  },
  {
   "cell_type": "markdown",
   "metadata": {},
   "source": [
    "###For all quarter-hourly values"
   ]
  },
  {
   "cell_type": "code",
   "execution_count": 18,
   "metadata": {
    "collapsed": false
   },
   "outputs": [
    {
     "name": "stdout",
     "output_type": "stream",
     "text": [
      "/data/dlatorne/MEOPAR/SalishSea/nowcast/26nov14/SalishSea_1h_20141126_20141126_grid_U.nc\n"
     ]
    },
    {
     "ename": "NameError",
     "evalue": "name 'writetocsv_new' is not defined",
     "output_type": "error",
     "traceback": [
      "\u001b[1;31m---------------------------------------------------------------------------\u001b[0m",
      "\u001b[1;31mNameError\u001b[0m                                 Traceback (most recent call last)",
      "\u001b[1;32m<ipython-input-18-ee0aa6acaccd>\u001b[0m in \u001b[0;36m<module>\u001b[1;34m()\u001b[0m\n\u001b[0;32m     10\u001b[0m \u001b[0mparams\u001b[0m\u001b[1;33m,\u001b[0m \u001b[0mdepth\u001b[0m \u001b[1;33m=\u001b[0m \u001b[0mellipse\u001b[0m\u001b[1;33m.\u001b[0m\u001b[0mget_params_nowcast\u001b[0m\u001b[1;33m(\u001b[0m\u001b[0mto\u001b[0m\u001b[1;33m,\u001b[0m \u001b[0mtf\u001b[0m\u001b[1;33m,\u001b[0m \u001b[1;33m[\u001b[0m\u001b[1;36m266\u001b[0m\u001b[1;33m]\u001b[0m\u001b[1;33m,\u001b[0m \u001b[1;33m[\u001b[0m\u001b[1;36m424\u001b[0m\u001b[1;33m]\u001b[0m\u001b[1;33m,\u001b[0m \u001b[0mpath\u001b[0m\u001b[1;33m,\u001b[0m \u001b[1;36m2\u001b[0m\u001b[1;33m)\u001b[0m\u001b[1;33m\u001b[0m\u001b[0m\n\u001b[0;32m     11\u001b[0m \u001b[0mrunname1\u001b[0m \u001b[1;33m=\u001b[0m \u001b[1;34m'TidalEllipseData/Sensitivity/{}_{}_{}_Central'\u001b[0m\u001b[1;33m.\u001b[0m\u001b[0mformat\u001b[0m\u001b[1;33m(\u001b[0m\u001b[0mt_o\u001b[0m\u001b[1;33m,\u001b[0m \u001b[0mt_f\u001b[0m\u001b[1;33m,\u001b[0m \u001b[0mfreq\u001b[0m\u001b[1;33m)\u001b[0m\u001b[1;33m\u001b[0m\u001b[0m\n\u001b[1;32m---> 12\u001b[1;33m \u001b[0mwritetocsv_new\u001b[0m\u001b[1;33m(\u001b[0m\u001b[0mrunname1\u001b[0m\u001b[1;33m,\u001b[0m \u001b[0mparams\u001b[0m\u001b[1;33m,\u001b[0m \u001b[0mdep\u001b[0m\u001b[1;33m=\u001b[0m\u001b[0mdepth\u001b[0m\u001b[1;33m)\u001b[0m\u001b[1;33m\u001b[0m\u001b[0m\n\u001b[0m\u001b[0;32m     13\u001b[0m \u001b[1;33m\u001b[0m\u001b[0m\n\u001b[0;32m     14\u001b[0m \u001b[0mparams\u001b[0m\u001b[1;33m,\u001b[0m \u001b[0mdepth\u001b[0m \u001b[1;33m=\u001b[0m \u001b[0mellipse\u001b[0m\u001b[1;33m.\u001b[0m\u001b[0mget_params_nowcast\u001b[0m\u001b[1;33m(\u001b[0m\u001b[0mto\u001b[0m\u001b[1;33m,\u001b[0m \u001b[0mtf\u001b[0m\u001b[1;33m,\u001b[0m \u001b[1;33m[\u001b[0m\u001b[1;36m283\u001b[0m\u001b[1;33m]\u001b[0m\u001b[1;33m,\u001b[0m \u001b[1;33m[\u001b[0m\u001b[1;36m416\u001b[0m\u001b[1;33m]\u001b[0m\u001b[1;33m,\u001b[0m \u001b[0mpath\u001b[0m\u001b[1;33m,\u001b[0m \u001b[1;36m2\u001b[0m\u001b[1;33m)\u001b[0m\u001b[1;33m\u001b[0m\u001b[0m\n",
      "\u001b[1;31mNameError\u001b[0m: name 'writetocsv_new' is not defined"
     ]
    }
   ],
   "source": [
    "path = '/data/dlatorne/MEOPAR/SalishSea/nowcast/'\n",
    "\n",
    "to=datetime.datetime(2014,11,26)\n",
    "tf=datetime.datetime(2015,4,26)\n",
    "freq= 'h'\n",
    "\n",
    "t_o = to.strftime('%d%b%y').lower()\n",
    "t_f = tf.strftime('%d%b%y').lower()\n",
    "\n",
    "params, depth = ellipse.get_params_nowcast(to, tf, [266], [424], path, 2)\n",
    "runname1 = '/ocean/nsoontie/MEOPAR/TidalEllipseData/Sensitivity/{}_{}_{}_Central'.format(t_o, t_f, freq)\n",
    "writetocsv_new(runname1, params, dep=depth)\n",
    "\n",
    "params, depth = ellipse.get_params_nowcast(to, tf, [283], [416], path, 2)\n",
    "runname2 = 'TidalEllipseData/Sensitivity/{}_{}_{}_East'.format(t_o, t_f, freq)\n",
    "writetocsv_new(runname2, params, dep=depth)"
   ]
  },
  {
   "cell_type": "code",
   "execution_count": 21,
   "metadata": {
    "collapsed": false
   },
   "outputs": [],
   "source": [
    "runname1 = '/ocean/nsoontie/MEOPAR/TidalEllipseData/Sensitivity/{}_{}_{}_Central'.format(t_o, t_f, freq)\n",
    "writetocsv_new(runname1, params, dep=depth)"
   ]
  },
  {
   "cell_type": "markdown",
   "metadata": {},
   "source": [
    "Then to open and read the columns you could use the lines below:"
   ]
  },
  {
   "cell_type": "markdown",
   "metadata": {
    "collapsed": false
   },
   "source": [
    "df = pd.read_csv('20150601_20150608_h_Central.csv')\n",
    "depth = df.Depth"
   ]
  },
  {
   "cell_type": "markdown",
   "metadata": {},
   "source": [
    "#Quarter-Hourly Data\n",
    "##@ VENUS nodes"
   ]
  },
  {
   "cell_type": "markdown",
   "metadata": {},
   "source": [
    "### The Month of May 2015"
   ]
  },
  {
   "cell_type": "markdown",
   "metadata": {},
   "source": [
    "The gridded data quarter hourly data only started to be recorded on May 9th."
   ]
  },
  {
   "cell_type": "code",
   "execution_count": 13,
   "metadata": {
    "collapsed": false
   },
   "outputs": [
    {
     "data": {
      "text/plain": [
       "<module 'salishsea_tools.ellipse' from '/data/nsoontie/MEOPAR/tools/SalishSeaTools/salishsea_tools/ellipse.py'>"
      ]
     },
     "execution_count": 13,
     "metadata": {},
     "output_type": "execute_result"
    }
   ],
   "source": [
    "reload(ellipse)"
   ]
  },
  {
   "cell_type": "code",
   "execution_count": 16,
   "metadata": {
    "collapsed": false
   },
   "outputs": [
    {
     "name": "stdout",
     "output_type": "stream",
     "text": [
      "/data/dlatorne/MEOPAR/SalishSea/nowcast/09may15/VENUS_east_gridded.nc\n"
     ]
    }
   ],
   "source": [
    "path = '/data/dlatorne/MEOPAR/SalishSea/nowcast/'\n",
    "\n",
    "to=datetime.datetime(2015,5,9) #changed to be able to load gridded files.\n",
    "tf=datetime.datetime(2015,7,13)\n",
    "freq='h'\n",
    "\n",
    "t_o = to.strftime('%d%b%y').lower()\n",
    "t_f = tf.strftime('%d%b%y').lower()\n",
    "\n",
    "params_east = ellipse.get_params_nowcast_15(to,tf,'east',path,8)\n",
    "\n",
    "#depth, major, minor, theta, phase, major_k, minor_k, theta_k, phase_k=loadparam(to, tf, path)\n",
    "#runname1 = 'TidalEllipseData/Sensitivity/{}_{}_{}_Central'.format(t_o, t_f, freq)\n",
    "#runname2 = 'TidalEllipseData/Sensitivity{}_{}_{}_East'.format(t_o, t_f, freq)\n",
    "\n",
    "#writetocsv(runname1, depth, major, minor, theta, phase, major_k, minor_k, theta_k, phase_k, 'Central')\n",
    "#writetocsv(runname2, depth, major, minor, theta, phase, major_k, minor_k, theta_k, phase_k, 'East')"
   ]
  },
  {
   "cell_type": "markdown",
   "metadata": {
    "collapsed": true
   },
   "source": [
    "#Hourly Data at Other Locations\n",
    "##Foreman Model Locations\n",
    "In Foreman et al. (2004) the tidal currents amplitude and phase of their model was compared to observations at 7 locations. For the locations that are contained in the model I will make comparisons with these values. I this notebook I will load the data. See [notebook](http://nbviewer.ipython.org/urls/bitbucket.org/salishsea/analysis/raw/tip/Muriel/TidalEllipsesComparisons.ipynb) for comparison. The locations and numbers are from Foreman et al. (2004)"
   ]
  },
  {
   "cell_type": "markdown",
   "metadata": {},
   "source": [
    "###35 - Haro Strait"
   ]
  },
  {
   "cell_type": "code",
   "execution_count": 4,
   "metadata": {
    "collapsed": false
   },
   "outputs": [
    {
     "name": "stdout",
     "output_type": "stream",
     "text": [
      "233 312\n"
     ]
    }
   ],
   "source": [
    "path = '/data/dlatorne/MEOPAR/SalishSea/nowcast/'\n",
    "lon35 = -123.225789\n",
    "lat35 = 48.537579\n",
    "\n",
    "grid_B = nc.Dataset('/data/dlatorne/MEOPAR/NEMO-forcing/grid/bathy_meter_SalishSea2.nc')\n",
    "bathy, X, Y = tidetools.get_bathy_data(grid_B)\n",
    "j35, i35 = tidetools.find_closest_model_point(lon35, lat35, X, Y, bathy)\n",
    "print i35, j35"
   ]
  },
  {
   "cell_type": "code",
   "execution_count": null,
   "metadata": {
    "collapsed": true
   },
   "outputs": [],
   "source": [
    "to=datetime.datetime(2014, 11, 26)\n",
    "tf=datetime.datetime(2015, 7, 13)\n",
    "\n",
    "t_o = to.strftime('%d%b%y').lower()\n",
    "t_f = tf.strftime('%d%b%y').lower()\n",
    "depav = [35,300,20,160]\n",
    "\n",
    "params, dep = ellipse.get_params_nowcast(to, tf, [i35], [j35], path, 2)\n",
    "runname1 = '/ocean/nsoontie/TidalEllipseData/ForemanLocation/{}_{}_Haro'.format(t_o, t_f)"
   ]
  },
  {
   "cell_type": "code",
   "execution_count": 22,
   "metadata": {
    "collapsed": false
   },
   "outputs": [],
   "source": [
    "writetocsv_new(runname1, params, dep=dep)"
   ]
  },
  {
   "cell_type": "code",
   "execution_count": 8,
   "metadata": {
    "collapsed": false
   },
   "outputs": [],
   "source": [
    "params, dep = ellipse.get_params_nowcast(to, tf, [i35], [j35], path, 2, depthrange=[0, 400], depav=True)\n",
    "runname2 = '/ocean/nsoontie/TidalEllipseData/ForemanLocation/{}_{}_Haro_depav(0-400)'.format(t_o, t_f)\n",
    "writetocsv_new(runname2, params, dep='None')"
   ]
  },
  {
   "cell_type": "markdown",
   "metadata": {},
   "source": [
    "###33 - Juan de Fuca West"
   ]
  },
  {
   "cell_type": "code",
   "execution_count": 17,
   "metadata": {
    "collapsed": false
   },
   "outputs": [
    {
     "name": "stdout",
     "output_type": "stream",
     "text": [
      "8 408\n"
     ]
    }
   ],
   "source": [
    "lat33 = 48.483\n",
    "lon33 = -124.713\n",
    "\n",
    "j33, i33 = tidetools.find_closest_model_point(lon33, lat33, X, Y, bathy)\n",
    "print i33, j33"
   ]
  },
  {
   "cell_type": "code",
   "execution_count": 18,
   "metadata": {
    "collapsed": true
   },
   "outputs": [],
   "source": [
    "to=datetime.datetime(2014, 11, 26)\n",
    "tf=datetime.datetime(2015, 7, 13)\n",
    "\n",
    "t_o = to.strftime('%d%b%y').lower()\n",
    "t_f = tf.strftime('%d%b%y').lower()\n",
    "\n",
    "\n",
    "depth, major, minor, theta, phase, major_k, minor_k, theta_k, phase_k= research_VENUS.loadparam_all(to, tf, path, i33, j33)\n",
    "runname1 = 'TidalEllipseData/ForemanLocation/{}_{}_JuanW'.format(t_o, t_f)\n",
    "writetocsv(runname1, depth, major, minor, theta, phase, major_k, minor_k, theta_k, phase_k, 'None')"
   ]
  },
  {
   "cell_type": "code",
   "execution_count": 19,
   "metadata": {
    "collapsed": false
   },
   "outputs": [],
   "source": [
    "depth, major, minor, theta, phase, major_k, minor_k, theta_k, phase_k= research_VENUS.loadparam_all(to, tf, path, i33, j33, depav=[0, 400])\n",
    "runname2 = 'TidalEllipseData/ForemanLocation/{}_{}_JuanW_depav(0-400)'.format(t_o, t_f)\n",
    "writetocsv(runname2, depth, major, minor, theta, phase, major_k, minor_k, theta_k, phase_k, 'None')"
   ]
  },
  {
   "cell_type": "markdown",
   "metadata": {},
   "source": [
    "###34 - Juan de Fuca East"
   ]
  },
  {
   "cell_type": "code",
   "execution_count": 20,
   "metadata": {
    "collapsed": false
   },
   "outputs": [
    {
     "name": "stdout",
     "output_type": "stream",
     "text": [
      "151 275\n"
     ]
    }
   ],
   "source": [
    "lat34 = 48.232\n",
    "lon34 = -123.530\n",
    "\n",
    "j34, i34 = tidetools.find_closest_model_point(lon34, lat34, X, Y, bathy)\n",
    "print i34, j34"
   ]
  },
  {
   "cell_type": "code",
   "execution_count": 21,
   "metadata": {
    "collapsed": false
   },
   "outputs": [],
   "source": [
    "to=datetime.datetime(2014, 11, 26)\n",
    "tf=datetime.datetime(2015, 7, 13)\n",
    "\n",
    "t_o = to.strftime('%d%b%y').lower()\n",
    "t_f = tf.strftime('%d%b%y').lower()\n",
    "\n",
    "depth, major, minor, theta, phase, major_k, minor_k, theta_k, phase_k= research_VENUS.loadparam_all(to, tf, path, i34, j34)\n",
    "runname1 = 'TidalEllipseData/ForemanLocation/{}_{}_JuanE'.format(t_o, t_f)\n",
    "writetocsv(runname1, depth, major, minor, theta, phase, major_k, minor_k, theta_k, phase_k, 'None')"
   ]
  },
  {
   "cell_type": "code",
   "execution_count": 22,
   "metadata": {
    "collapsed": false
   },
   "outputs": [],
   "source": [
    "depth, major, minor, theta, phase, major_k, minor_k, theta_k, phase_k= research_VENUS.loadparam_all(to, tf, path, i34, j34, depav=[0, 400])\n",
    "runname2 = 'TidalEllipseData/ForemanLocation/{}_{}_JuanE_depav(0-400)'.format(t_o, t_f)\n",
    "writetocsv(runname2, depth, major, minor, theta, phase, major_k, minor_k, theta_k, phase_k, 'None')"
   ]
  },
  {
   "cell_type": "markdown",
   "metadata": {},
   "source": [
    "###36 - Seymour Narrows\n",
    "Seymour Narrows is too narrow. Therefore we encounter problems when unstaggering. The neighbouring cells are masked and this causes problems in the calculation routines. I will choose a slightly different location while trying to maintain similar bathymetry and velocities."
   ]
  },
  {
   "cell_type": "code",
   "execution_count": 23,
   "metadata": {
    "collapsed": false,
    "scrolled": true
   },
   "outputs": [
    {
     "name": "stdout",
     "output_type": "stream",
     "text": [
      "120 774 54.25\n"
     ]
    }
   ],
   "source": [
    "lat36 = 50.135820\n",
    "lon36 = -125.353403\n",
    "\n",
    "j36, i36 = tidetools.find_closest_model_point(lon36, lat36, X, Y, bathy)\n",
    "print i36, j36, bathy[j36, i36]"
   ]
  },
  {
   "cell_type": "code",
   "execution_count": 24,
   "metadata": {
    "collapsed": false
   },
   "outputs": [],
   "source": [
    "inew36=i36-1\n",
    "jnew36=j36-2"
   ]
  },
  {
   "cell_type": "code",
   "execution_count": 25,
   "metadata": {
    "collapsed": false
   },
   "outputs": [],
   "source": [
    "to=datetime.datetime(2014, 11, 26)\n",
    "tf=datetime.datetime(2015, 7, 13)\n",
    "\n",
    "t_o = to.strftime('%d%b%y').lower()\n",
    "t_f = tf.strftime('%d%b%y').lower()\n",
    "depth, major, minor, theta, phase, major_k, minor_k, theta_k, phase_k= research_VENUS.loadparam_all(to, tf, path, inew36, jnew36)\n",
    "runname1 = 'TidalEllipseData/ForemanLocation/{}_{}_SN'.format(t_o, t_f)\n",
    "writetocsv(runname1, depth, major, minor, theta, phase, major_k, minor_k, theta_k, phase_k, 'None')"
   ]
  },
  {
   "cell_type": "code",
   "execution_count": 26,
   "metadata": {
    "collapsed": false
   },
   "outputs": [],
   "source": [
    "depth, major, minor, theta, phase, major_k, minor_k, theta_k, phase_k=research_VENUS.loadparam_all(to, tf, path, inew36, jnew36, depav=[0, 400])\n",
    "runname2 = 'TidalEllipseData/ForemanLocation/{}_{}_SN_depav(0-400)'.format(t_o, t_f)\n",
    "writetocsv(runname2, depth, major, minor, theta, phase, major_k, minor_k, theta_k, phase_k, 'None')"
   ]
  },
  {
   "cell_type": "markdown",
   "metadata": {},
   "source": [
    "###38 - Johnstone Strait"
   ]
  },
  {
   "cell_type": "code",
   "execution_count": 27,
   "metadata": {
    "collapsed": false
   },
   "outputs": [
    {
     "name": "stdout",
     "output_type": "stream",
     "text": [
      "58 885\n"
     ]
    }
   ],
   "source": [
    "lat38 = 50.454991\n",
    "lon38 = -126.038740\n",
    "\n",
    "j38, i38 = tidetools.find_closest_model_point(lon38,lat38,X, Y, bathy)\n",
    "print i38, j38"
   ]
  },
  {
   "cell_type": "code",
   "execution_count": 28,
   "metadata": {
    "collapsed": false
   },
   "outputs": [],
   "source": [
    "to=datetime.datetime(2014, 11, 26)\n",
    "tf=datetime.datetime(2015, 7, 13)\n",
    "\n",
    "t_o = to.strftime('%d%b%y').lower()\n",
    "t_f = tf.strftime('%d%b%y').lower()\n",
    "depth, major, minor, theta, phase, major_k, minor_k, theta_k, phase_k= research_VENUS.loadparam_all(to, tf, path, i38, j38)\n",
    "runname1 = 'TidalEllipseData/ForemanLocation/{}_{}_JS'.format(t_o, t_f)\n",
    "writetocsv(runname1, depth, major, minor, theta, phase, major_k, minor_k, theta_k, phase_k, 'None')\n",
    "\n",
    "depth, major, minor, theta, phase, major_k, minor_k, theta_k, phase_k= research_VENUS.loadparam_all(to, tf, path, i38, j38, depav=[0, 400])\n",
    "runname2 = 'TidalEllipseData/ForemanLocation/{}_{}_JS_depav(0-400)'.format(t_o, t_f)\n",
    "writetocsv(runname2, depth, major, minor, theta, phase, major_k, minor_k, theta_k, phase_k, 'None')\n"
   ]
  },
  {
   "cell_type": "markdown",
   "metadata": {},
   "source": [
    "###37 - Arran Rapids"
   ]
  },
  {
   "cell_type": "code",
   "execution_count": 29,
   "metadata": {
    "collapsed": false
   },
   "outputs": [
    {
     "name": "stdout",
     "output_type": "stream",
     "text": [
      "189 814\n"
     ]
    }
   ],
   "source": [
    "lat37 = 50.416667\n",
    "lon37 = -125.133333\n",
    "j37, i37 = tidetools.find_closest_model_point(lon37,lat37,X, Y, bathy)\n",
    "print i37, j37"
   ]
  },
  {
   "cell_type": "code",
   "execution_count": 30,
   "metadata": {
    "collapsed": true
   },
   "outputs": [],
   "source": [
    "inew37 = i37+2\n",
    "jnew37 = j37-1"
   ]
  },
  {
   "cell_type": "code",
   "execution_count": 6,
   "metadata": {
    "collapsed": true
   },
   "outputs": [],
   "source": [
    "to=datetime.datetime(2014, 11, 26)\n",
    "tf=datetime.datetime(2015, 7, 13)\n",
    "\n",
    "\n",
    "t_o = to.strftime('%d%b%y').lower()\n",
    "t_f = tf.strftime('%d%b%y').lower()"
   ]
  },
  {
   "cell_type": "code",
   "execution_count": 32,
   "metadata": {
    "collapsed": false
   },
   "outputs": [],
   "source": [
    "depth, major, minor, theta, phase, major_k, minor_k, theta_k, phase_k= research_VENUS.loadparam_all(to, tf, path, inew37, jnew37)\n",
    "runname1 = 'TidalEllipseData/ForemanLocation/{}_{}_AR'.format(t_o, t_f)\n",
    "writetocsv(runname1, depth, major, minor, theta, phase, major_k, minor_k, theta_k, phase_k, 'None')\n",
    "\n",
    "depth, major, minor, theta, phase, major_k, minor_k, theta_k, phase_k= research_VENUS.loadparam_all(to, tf, path, inew37, jnew37, depav=[0, 500])\n",
    "runname2 = 'TidalEllipseData/ForemanLocation/{}_{}_AR_depav(0-400)'.format(t_o, t_f)\n",
    "writetocsv(runname2, depth, major, minor, theta, phase, major_k, minor_k, theta_k, phase_k, 'None')"
   ]
  },
  {
   "cell_type": "markdown",
   "metadata": {},
   "source": [
    "##Thalweg Locations"
   ]
  },
  {
   "cell_type": "code",
   "execution_count": 4,
   "metadata": {
    "collapsed": true
   },
   "outputs": [],
   "source": [
    "thalweg = np.loadtxt('/data/dlatorne/MEOPAR/tools/bathymetry/thalweg_working.txt', dtype=int, unpack=True)"
   ]
  },
  {
   "cell_type": "markdown",
   "metadata": {},
   "source": [
    "##Systematic choice of Thalweg Locations"
   ]
  },
  {
   "cell_type": "code",
   "execution_count": 5,
   "metadata": {
    "collapsed": false
   },
   "outputs": [],
   "source": [
    "path = '/data/dlatorne/MEOPAR/SalishSea/nowcast/'"
   ]
  },
  {
   "cell_type": "code",
   "execution_count": 9,
   "metadata": {
    "collapsed": false
   },
   "outputs": [
    {
     "name": "stdout",
     "output_type": "stream",
     "text": [
      "done depth column\n",
      "0\n",
      "done depth column\n",
      "100\n",
      "done depth column\n",
      "200\n",
      "done depth column\n",
      "300\n",
      "done depth column\n",
      "400\n",
      "done depth column\n",
      "500\n",
      "done depth column\n",
      "600\n",
      "done depth column\n",
      "700\n",
      "done depth column\n",
      "800\n",
      "done depth column\n",
      "900\n",
      "done depth column\n",
      "1000\n",
      "done depth column\n",
      "1100\n",
      "done depth column\n",
      "1200\n",
      "done depth column\n",
      "1303\n",
      "done depth column\n",
      "1400\n",
      "done depth column\n",
      "1500\n"
     ]
    }
   ],
   "source": [
    "for k in [0, 100, 200, 300, 400, 500, 600, 700, 800, 900, 1000, 1100, 1200, 1303, 1400, 1500]:\n",
    "    i = thalweg[1,k]\n",
    "    j = thalweg[0,k]\n",
    "    param_thal, depth= ellipse.get_params_nowcast(to, tf, [i], [j], path, 2)\n",
    "    runname1 = 'TidalEllipseData/Thalweg/{}_{}_thalweg_{}'.format(t_o, t_f, k)\n",
    "    writetocsv_new(runname1, param_thal, dep=depth)\n",
    "    print 'done depth column'\n",
    "    param_thal_depav, depth= ellipse.get_params_nowcast(to, tf, [i], [j], path, 2, depthrange=[20, 400], depav=True)\n",
    "    runname2 = 'TidalEllipseData/Thalweg/{}_{}_thalweg_{}_depav(20-400)'.format(t_o, t_f, k)\n",
    "    writetocsv_new(runname2, param_thal_depav, dep='None')\n",
    "    print k"
   ]
  },
  {
   "cell_type": "markdown",
   "metadata": {
    "collapsed": true
   },
   "source": [
    "##Haro"
   ]
  },
  {
   "cell_type": "code",
   "execution_count": 10,
   "metadata": {
    "collapsed": false
   },
   "outputs": [
    {
     "name": "stdout",
     "output_type": "stream",
     "text": [
      "done depth column\n",
      "done depth column\n",
      "done depth column\n",
      "done depth column\n",
      "done depth column\n",
      "done depth column\n",
      "done depth column\n",
      "done depth column\n",
      "done depth column\n",
      "done depth column\n"
     ]
    }
   ],
   "source": [
    "to=datetime.datetime(2014, 11, 26)\n",
    "tf=datetime.datetime(2015, 7, 13)\n",
    "\n",
    "\n",
    "t_o = to.strftime('%d%b%y').lower()\n",
    "t_f = tf.strftime('%d%b%y').lower()\n",
    "\n",
    "for k in np.arange(480,520,4):\n",
    "    i = thalweg[1,k]\n",
    "    j = thalweg[0,k]\n",
    "    param_har, depth= ellipse.get_params_nowcast(to, tf, [i], [j], path, 2)\n",
    "    runname1 = 'TidalEllipseData/HaroStrait/{}_{}_HaroS_{}'.format(t_o, t_f, k)\n",
    "    writetocsv_new(runname1, param_har, dep=depth)\n",
    "    print 'done depth column'\n",
    "    param_har_depav, depth= ellipse.get_params_nowcast(to, tf, [i], [j], path, 2, depthrange=[20, 400], depav=True)\n",
    "    runname2 = 'TidalEllipseData/HaroStrait/{}_{}_HaroS_{}_depav(20-400)'.format(t_o, t_f, k)\n",
    "    writetocsv_new(runname2, param_har_depav, dep='None')\n"
   ]
  },
  {
   "cell_type": "markdown",
   "metadata": {},
   "source": [
    "#Juan de Fuca"
   ]
  },
  {
   "cell_type": "code",
   "execution_count": 22,
   "metadata": {
    "collapsed": false
   },
   "outputs": [
    {
     "name": "stdout",
     "output_type": "stream",
     "text": [
      "done depth column\n",
      "done depth column\n",
      "done depth column\n",
      "done depth column\n",
      "done depth column\n",
      "done depth column\n",
      "done depth column\n",
      "done depth column\n",
      "done depth column\n",
      "done depth column\n",
      "done depth column\n",
      "done depth column\n",
      "done depth column\n",
      "done depth column\n",
      "175\n",
      "200\n",
      "225\n",
      "250\n",
      "275\n",
      "300\n",
      "325\n"
     ]
    }
   ],
   "source": [
    "to=datetime.datetime(2014, 11, 26)\n",
    "tf=datetime.datetime(2015, 7, 13)\n",
    "\n",
    "t_o = to.strftime('%d%b%y').lower()\n",
    "t_f = tf.strftime('%d%b%y').lower()\n",
    "\n",
    "for k in np.arange(0,350,25):\n",
    "    i = thalweg[1,k]\n",
    "    j = thalweg[0,k]\n",
    "    param_jdf, depth= ellipse.get_params_nowcast(to, tf, [i], [j], path, 2)\n",
    "    runname1 = 'TidalEllipseData/JuandeFuca/{}_{}_JdF_{}'.format(t_o, t_f, k)\n",
    "    writetocsv_new(runname1, param_jdf, dep=depth)\n",
    "    print 'done depth column'\n",
    "    \n",
    "for k in np.arange(175,350,25):\n",
    "    i = thalweg[1,k]\n",
    "    j = thalweg[0,k]\n",
    "    param_jdf_depav, depth= ellipse.get_params_nowcast(to, tf, [i], [j], path, 2, depthrange=[20, 400], depav=True)\n",
    "    runname2 = 'TidalEllipseData/JuandeFuca/{}_{}_JdF_{}_depav(20-400)'.format(t_o, t_f, k)\n",
    "    writetocsv_new(runname2, param_jdf_depav, dep='None')\n",
    "    print k"
   ]
  },
  {
   "cell_type": "markdown",
   "metadata": {
    "collapsed": true
   },
   "source": [
    "#CODAR"
   ]
  },
  {
   "cell_type": "code",
   "execution_count": 3,
   "metadata": {
    "collapsed": false
   },
   "outputs": [],
   "source": [
    "to=datetime.datetime(2014, 11, 26)\n",
    "tf=datetime.datetime(2015, 7, 13)\n",
    "\n",
    "t_o = to.strftime('%d%b%y').lower()\n",
    "t_f = tf.strftime('%d%b%y').lower()"
   ]
  },
  {
   "cell_type": "code",
   "execution_count": 4,
   "metadata": {
    "collapsed": false,
    "scrolled": true
   },
   "outputs": [],
   "source": [
    "jmin = 379; jmax = 461; imin = 236; imax=321\n",
    "j = np.arange(jmin,jmax)\n",
    "i = np.arange(imin,imax)\n",
    "params, depth = ellipse.get_params_nowcast(to, tf, i, j, path, 2, depthrange=1)"
   ]
  },
  {
   "cell_type": "markdown",
   "metadata": {},
   "source": [
    "###Save values into netCDF file"
   ]
  },
  {
   "cell_type": "markdown",
   "metadata": {},
   "source": [
    "netCDF dataset for M2 CODAR region."
   ]
  },
  {
   "cell_type": "code",
   "execution_count": 5,
   "metadata": {
    "collapsed": false
   },
   "outputs": [
    {
     "data": {
      "text/plain": [
       "<type 'netCDF4._netCDF4.Dimension'>: name = 'x', size = 85"
      ]
     },
     "execution_count": 5,
     "metadata": {},
     "output_type": "execute_result"
    }
   ],
   "source": [
    "A = nc.Dataset('/ocean/nsoontie/MEOPAR/TidalEllipseData/CODAR/CODARM2param.nc', 'w')\n",
    "A.createDimension('y', len(j))\n",
    "A.createDimension('x', len(i))"
   ]
  },
  {
   "cell_type": "code",
   "execution_count": 6,
   "metadata": {
    "collapsed": true
   },
   "outputs": [],
   "source": [
    "grid = nc.Dataset('/data/nsoontie/MEOPAR/NEMO-forcing/grid/bathy_meter_SalishSea2.nc')\n",
    "bathy = grid.variables['Bathymetry']\n",
    "lons_grid = grid.variables['nav_lon']\n",
    "lats_grid = grid.variables['nav_lat']\n"
   ]
  },
  {
   "cell_type": "code",
   "execution_count": 7,
   "metadata": {
    "collapsed": false
   },
   "outputs": [],
   "source": [
    "lons = A.createVariable('nav_lon', float, ('y','x'), zlib=True)\n",
    "lons[:] = lons_grid[j,i]\n",
    "lats = A.createVariable('nav_lat', float, ('y','x'), zlib=True)\n",
    "lats[:] = lats_grid[j,i]"
   ]
  },
  {
   "cell_type": "code",
   "execution_count": 8,
   "metadata": {
    "collapsed": true
   },
   "outputs": [],
   "source": [
    "sema = A.createVariable('Semi-Major', float, ('y','x'), zlib=True)\n",
    "sema[:] = params['M2']['Semi-Major Axis']\n",
    "semi = A.createVariable('Semi-Minor', float, ('y','x'), zlib=True)\n",
    "semi[:] = params['M2']['Semi-Minor Axis']\n",
    "inc = A.createVariable('Inclination', float, ('y','x'), zlib=True)\n",
    "inc[:] = params['M2']['Inclination']\n",
    "pha = A.createVariable('Phase', float, ('y','x'), zlib=True)\n",
    "pha[:] = params['M2']['Phase']\n",
    "sema.units = 'm/s'\n",
    "semi.units = 'm/s'\n",
    "inc.units = 'deg CCW E'\n",
    "pha.units = ' deg'\n",
    "A.title = 'M2 ellipse parameter at 0.5m in the CODAR region {} to {}'.format(t_o, t_f)\n",
    "A.close()"
   ]
  },
  {
   "cell_type": "markdown",
   "metadata": {},
   "source": [
    "netCDF dataset for K1 CODAR region"
   ]
  },
  {
   "cell_type": "code",
   "execution_count": 9,
   "metadata": {
    "collapsed": false
   },
   "outputs": [
    {
     "data": {
      "text/plain": [
       "<type 'netCDF4._netCDF4.Dimension'>: name = 'x', size = 85"
      ]
     },
     "execution_count": 9,
     "metadata": {},
     "output_type": "execute_result"
    }
   ],
   "source": [
    "B = nc.Dataset('/ocean/nsoontie/MEOPAR/TidalEllipseData/CODAR/CODARK1param.nc', 'w')\n",
    "B.createDimension('y', len(j))\n",
    "B.createDimension('x', len(i))"
   ]
  },
  {
   "cell_type": "code",
   "execution_count": 10,
   "metadata": {
    "collapsed": false
   },
   "outputs": [],
   "source": [
    "lons = B.createVariable('nav_lon', float, ('y','x'), zlib=True)\n",
    "lons[:] = lons_grid[j,i]\n",
    "lats = B.createVariable('nav_lat', float, ('y','x'), zlib=True)\n",
    "lats[:] = lats_grid[j,i]"
   ]
  },
  {
   "cell_type": "code",
   "execution_count": 11,
   "metadata": {
    "collapsed": true
   },
   "outputs": [],
   "source": [
    "sema = B.createVariable('Semi-Major', float, ('y','x'), zlib=True)\n",
    "sema[:] = params['K1']['Semi-Major Axis']\n",
    "semi = B.createVariable('Semi-Minor', float, ('y','x'), zlib=True)\n",
    "semi[:] = params['K1']['Semi-Minor Axis']\n",
    "inc = B.createVariable('Inclination', float, ('y','x'), zlib=True)\n",
    "inc[:] = params['K1']['Inclination']\n",
    "pha = B.createVariable('Phase', float, ('y','x'), zlib=True)\n",
    "pha[:] = params['K1']['Phase']\n",
    "sema.units = 'm/s'\n",
    "semi.units = 'm/s'\n",
    "inc.units = 'deg CCW E'\n",
    "pha.units = ' deg'\n",
    "B.title = 'K1 ellipse parameter at 0.5m in the CODAR region {} to {}'.format(t_o, t_f)\n",
    "B.close()"
   ]
  },
  {
   "cell_type": "code",
   "execution_count": null,
   "metadata": {
    "collapsed": true
   },
   "outputs": [],
   "source": []
  }
 ],
 "metadata": {
  "kernelspec": {
   "display_name": "Python 2",
   "language": "python",
   "name": "python2"
  },
  "language_info": {
   "codemirror_mode": {
    "name": "ipython",
    "version": 2
   },
   "file_extension": ".py",
   "mimetype": "text/x-python",
   "name": "python",
   "nbconvert_exporter": "python",
   "pygments_lexer": "ipython2",
   "version": "2.7.10"
  }
 },
 "nbformat": 4,
 "nbformat_minor": 0
}
