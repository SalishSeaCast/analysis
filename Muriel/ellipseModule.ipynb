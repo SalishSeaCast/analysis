{
 "cells": [
  {
   "cell_type": "markdown",
   "metadata": {},
   "source": [
    "This notebook will be used to redesign the tidal ellipse functions to make them more user friendly"
   ]
  },
  {
   "cell_type": "code",
   "execution_count": 18,
   "metadata": {
    "collapsed": false
   },
   "outputs": [],
   "source": [
    "import os\n",
    "import datetime\n",
    "import matplotlib.pylab as plt\n",
    "from matplotlib.patches import Ellipse\n",
    "import numpy as np\n",
    "from IPython.display import display, Math, Latex\n",
    "import csv\n",
    "import pandas as pd\n",
    "import seaborn as sns\n",
    "from dateutil import tz\n",
    "from scipy.optimize import curve_fit\n",
    "\n",
    "import netCDF4 as nc\n",
    "from salishsea_tools import (viz_tools, tidetools as tt, ellipse, nc_tools)\n",
    "from salishsea_tools.nowcast import (analyze, research_VENUS)\n",
    "\n",
    "%matplotlib inline"
   ]
  },
  {
   "cell_type": "markdown",
   "metadata": {},
   "source": [
    "#Some of the functions\n",
    "The functions below will be in the ellipse.py module. They are meant to be versitile to different file types and to be user friendly. In order to be user friendly they must be able to cover many diffrent types of ellipse calculations and be well commented to clearly show what is going on in the scripts. Also there are many scripts with small tasks to faciliate adding in new scripts for a modification."
   ]
  },
  {
   "cell_type": "code",
   "execution_count": 6,
   "metadata": {
    "collapsed": true
   },
   "outputs": [],
   "source": [
    "def get_params(u, v, time, tidecorr=research_VENUS.CorrTides):\n",
    "    \"\"\"Calculates tidal ellipse parameters from the u and v time series. Maintains the shape \n",
    "    of the velocities enters only loosing the time dimensions.\n",
    "    \n",
    "    :arg u: One of the orthogonal tidal current velocities. Must be already prepared for the analysis.\n",
    "    :type u:  :py:class:'np.ndarray'\n",
    "    \n",
    "    :arg v: One of the orthogonal tidal current velocities. Must be already prepared for the analysis.\n",
    "    :type v:  :py:class:'np.ndarray'\n",
    "    \n",
    "    :arg time: Time over which the velocities were taken; in seconds.\n",
    "    :type time: :py:class:'np.ndarray'\n",
    "    \n",
    "    :arg tidecorr: Tidal corrections in aplitude and phase. Default is the nowcast values. \n",
    "    :type tidecorr: dictionary\n",
    "    \"\"\"\n",
    "    #Running fittit to get the amplitude and phase of the velcity time series.\n",
    "    uM2amp, uM2pha, uK1amp, uK1pha = fittit(u, time)\n",
    "    vM2amp, vM2pha, vK1amp, vK1pha = fittit(v, time)\n",
    "\n",
    "    #Tide corrections from a dictionary\n",
    "    uM2pha = uM2pha + tidecorr['M2']['uvt']\n",
    "    uK1pha = uK1pha + tidecorr['K1']['uvt']\n",
    "    vM2pha = vM2pha + tidecorr['M2']['uvt']\n",
    "    vK1pha = vK1pha + tidecorr['K1']['uvt']\n",
    "\n",
    "    uM2amp = uM2amp * tidecorr['M2']['ft']\n",
    "    uK1amp = uK1amp * tidecorr['K1']['ft']\n",
    "    vM2amp = vM2amp * tidecorr['M2']['ft']\n",
    "    vK1amp = vK1amp * tidecorr['K1']['ft']\n",
    "    \n",
    "    #Converting from u/v amplitude and phase to ellipe parameters.\n",
    "    CX, SX, CY, SY, ap, am, ep, em, maj, mi, the, pha = tt.ellipse_params(\n",
    "        uM2amp, uM2pha, vM2amp, vM2pha)\n",
    "\n",
    "    CXk, SXk, CYk, SYk, apk, amk, epk, emk, majk, mik, thek, phak = tt.ellipse_params(\n",
    "        uK1amp, uK1pha, vK1amp, vK1pha)\n",
    "    \n",
    "    #Saving all the useful parameters in a dictionary.\n",
    "    params = {\n",
    "        'M2': {\n",
    "            'Semi-Major Axis': maj,\n",
    "            'Semi-Minor Axis': mi,\n",
    "            'Inclination': the,\n",
    "            'Phase': pha},\n",
    "        'K1': {\n",
    "            'Semi-Major Axis': majk,\n",
    "            'Semi-Minor Axis': mik,\n",
    "            'Inclination': thek,\n",
    "            'Phase': phak}}\n",
    "    \n",
    "    return params\n",
    "    \n",
    "    "
   ]
  },
  {
   "cell_type": "code",
   "execution_count": 19,
   "metadata": {
    "collapsed": false
   },
   "outputs": [],
   "source": [
    "def fittit(uaus, time):\n",
    "    \"\"\"Function to find tidal components from a tidal current component\n",
    "        over the whole area given. Can be done over depth, or an area.\n",
    "        Time must be in axis one, depth in axis two if applicable then the\n",
    "        x and y if an area.\n",
    "        Must perform twice, once for each tidal current vector\n",
    "        in order to complete the analysis.\n",
    "        In order to calculate the tidal components of an area at a single\n",
    "        depth the velocity vector must only have 3 dimensions. For a depth\n",
    "        profile it must only have 2 dimensions \n",
    "        ***[time, depth, x, y]\n",
    "\n",
    "    :arg uaus: One of the orthogonal tidal current velocities.\n",
    "    :type uaus:  :py:class:'np.ndarray' or float\n",
    "\n",
    "    :arg time: Time over which the velocitie were being taken in seconds.\n",
    "    :type time: :py:class:'np.ndarray'\n",
    "\n",
    "    :returns M2amp, M2pha, K1amp, K1pha:\n",
    "        The amplitude and phase lag of each tidal component (M2 and K1)\n",
    "        of a single tidal velocity vector.\n",
    "\n",
    "    \"\"\"\n",
    "    #Case 1: a time series of velocities with depth at a single location.\n",
    "    if uaus.ndim == 2:\n",
    "        #The parameters are the same shape as the velocities without the time dimension.\n",
    "        thesize = uaus.shape[1]\n",
    "        M2amp = np.zeros(thesize)\n",
    "        M2pha = np.zeros(thesize)\n",
    "        K1amp = np.zeros(thesize)\n",
    "        K1pha = np.zeros(thesize)\n",
    "        \n",
    "        #Calculates the parameters for one depth and one location at a time from its time series\n",
    "        for dep in np.arange(0, len(uaus[1])):\n",
    "            if uaus[:, dep].any() != 0:\n",
    "                fitted, cov = curve_fit(tt.double, time[:], uaus[:, dep])\n",
    "                #Rotating to have a positive amplitude and a phase between [-180, 180]\n",
    "                fitted[0], fitted[1] = tt.convention_pha_amp(fitted[0], fitted[1])\n",
    "                fitted[2], fitted[3] = tt.convention_pha_amp(fitted[2], fitted[3])\n",
    "                M2amp[dep] = fitted[0]\n",
    "                M2pha[dep] = fitted[1]\n",
    "                K1amp[dep] = fitted[2]\n",
    "                K1pha[dep] = fitted[3]\n",
    "\n",
    "    #Case 2 : a time series of an area of velocities at a single depth\n",
    "    elif uaus.ndim == 3:\n",
    "        thesize = (uaus.shape[1], uaus.shape[2])\n",
    "        M2amp = np.zeros(thesize)\n",
    "        M2pha = np.zeros(thesize)\n",
    "        K1amp = np.zeros(thesize)\n",
    "        K1pha = np.zeros(thesize)\n",
    "\n",
    "        for i in np.arange(0, uaus.shape[1]):\n",
    "            for j in np.arange(0, uaus.shape[2]):\n",
    "                if uaus[:, i, j].any() != 0.:\n",
    "                    fitted, cov = curve_fit(tt.double, time[:], uaus[:, i, j])\n",
    "                    fitted[0], fitted[1] = tt.convention_pha_amp(\n",
    "                        fitted[0], fitted[1])\n",
    "                    fitted[2], fitted[3] = tt.convention_pha_amp(\n",
    "                        fitted[2], fitted[3])\n",
    "                    M2amp[i, j] = fitted[0]\n",
    "                    M2pha[i, j] = fitted[1]\n",
    "                    K1amp[i, j] = fitted[2]\n",
    "                    K1pha[i, j] = fitted[3]\n",
    "    \n",
    "    #Case 3: a time series of an area of velocities with depth\n",
    "    elif uaus.ndim == 4:\n",
    "        thesize = (uaus.shape[1], uaus.shape[2], uaus.shape[3])\n",
    "        M2amp = np.zeros(thesize)\n",
    "        M2pha = np.zeros(thesize)\n",
    "        K1amp = np.zeros(thesize)\n",
    "        K1pha = np.zeros(thesize)\n",
    "\n",
    "        for dep in np.arange(0, uaus.shape[1]):\n",
    "            for i in np.arange(0, uaus.shape[2]):\n",
    "                for j in np.arange(0, uaus.shape[3]):\n",
    "                    if uaus[:, dep, i, j].any() != 0.:\n",
    "                        fitted, cov = curve_fit(tt.double, time[:], uaus[:, dep, i, j])\n",
    "                        fitted[0], fitted[1] = tt.convention_pha_amp(\n",
    "                            fitted[0], fitted[1])\n",
    "                        fitted[2], fitted[3] = tt.convention_pha_amp(\n",
    "                            fitted[2], fitted[3])\n",
    "                        M2amp[dep, i, j] = fitted[0]\n",
    "                        M2pha[dep, i, j] = fitted[1]\n",
    "                        K1amp[dep, i, j] = fitted[2]\n",
    "                        K1pha[dep, i, j] = fitted[3]\n",
    "\n",
    "    #Case 4: a time series of a single location with a single depth.\n",
    "    else:\n",
    "        M2amp = 0\n",
    "        M2pha = 0\n",
    "        K1amp = 0\n",
    "        K1pha = 0\n",
    "\n",
    "        if uaus[:].any() != 0.:\n",
    "            fitted, cov = curve_fit(tt.double, time[:], uaus[:])\n",
    "            fitted[0], fitted[1] = tt.convention_pha_amp(fitted[0], fitted[1])\n",
    "            fitted[2], fitted[3] = tt.convention_pha_amp(fitted[2], fitted[3])\n",
    "            M2amp = fitted[0]\n",
    "            M2pha = fitted[1]\n",
    "            K1amp = fitted[2]\n",
    "            K1pha = fitted[3]\n",
    "    return M2amp, M2pha, K1amp, K1pha"
   ]
  },
  {
   "cell_type": "markdown",
   "metadata": {},
   "source": [
    "##Case 1: Nowcast date range\n",
    "Functions for nowcast velocities."
   ]
  },
  {
   "cell_type": "code",
   "execution_count": 8,
   "metadata": {
    "collapsed": false
   },
   "outputs": [],
   "source": [
    "def ellipse_files_nowcast(to, tf, iss, jss, path, depthrange='None',reftime=ellipse.CorrTides['reftime']):\n",
    "    \"\"\" This function loads all the data between the start and the end date\n",
    "    that contains hourly velocities in the netCDF4 nowcast files in the specified depth range. \n",
    "    This will make an area with all the indices indicated, the area must be continuous for unstaggering.\n",
    "\n",
    "    :arg to: The beginning of the date range of interest\n",
    "    :type to: datetime object\n",
    "\n",
    "    :arg tf: The end of the date range of interest\n",
    "    :type tf: datetime object\n",
    "    \n",
    "    :arg iss: x index.\n",
    "    :type i: list or numpy.array\n",
    "    \n",
    "    :arg jss: y index.\n",
    "    :type j: list or numpy.array\n",
    "\n",
    "    :arg path: Defines the path used(eg. nowcast)\n",
    "    :type path: string\n",
    "\n",
    "    :arg depthrange: Depth values of interest in meters as a float for a single depth or a list for a range. \n",
    "        A float will find the closest depth that is <= the value given. Default is 'None' for the whole\n",
    "        water column (0-441m).\n",
    "    :type depav: float, string or list.\n",
    "\n",
    "    :returns: u, v, time, dep.\n",
    "    \"\"\"\n",
    "    \n",
    "    #The unstaggering in prepare_vel.py requiers an extra i and j, we add one on here to maintain the \n",
    "    #area, or point chosen.\n",
    "    assert np.logical_and(type(iss)!=int, type(jss)!=int), 'Must enter list, even if only looking at a single value'\n",
    "    assert np.logical_and(iss[0] != 0, jss[0] != 0), 'Cannot begin analysis on x=0 or y=0.'\n",
    "    \n",
    "    jss = np.append(jss[0]-1,jss)\n",
    "    iss = np.append(iss[0]-1,iss)\n",
    "    \n",
    "    #Makes a list of the filenames that follow the criteria in the indicated path between the start and end dates.\n",
    "    filesu = analyze.get_filenames(to, tf, '1h', 'grid_U', path) \n",
    "    filesv = analyze.get_filenames(to, tf, '1h', 'grid_V', path)\n",
    "    \n",
    "    #Set up depth array and depth range\n",
    "    depth = nc.Dataset(filesu[-1]).variables['depthu'][:]\n",
    "    \n",
    "    #Case one: for a single depth.\n",
    "    if type(depthrange) == float or type(depthrange) == int:\n",
    "        k = np.where(depth <= depthrange)[0][-1]\n",
    "        u, time = analyze.combine_files(filesu, 'vozocrtx', k, jss, iss)\n",
    "        v, time = analyze.combine_files(filesv, 'vomecrty', k,  jss, iss)\n",
    "        dep=depth[k]\n",
    "    \n",
    "    #Case two: for a specific range of depths\n",
    "    elif type(depthrange) == list:\n",
    "        k = np.where(np.logical_and(depth > depthrange[0], depth < depthrange[1]))[0]\n",
    "        dep = depth[k]\n",
    "        u, time = analyze.combine_files(filesu, 'vozocrtx', k, jss, iss)\n",
    "        v, time = analyze.combine_files(filesv, 'vomecrty', k,  jss, iss)\n",
    "    \n",
    "    #Case three: For the whole depth range 0 to 441m.\n",
    "    else:\n",
    "        u, time = analyze.combine_files(filesu, 'vozocrtx', depthrange, jss, iss)\n",
    "        v, time = analyze.combine_files(filesv, 'vomecrty', depthrange,  jss, iss)\n",
    "        dep=depth\n",
    "        \n",
    "    #For the nowcast the reftime is always Sep10th 2014. Set time of area we are looking at relative to this time.\n",
    "    time = tt.convert_to_seconds(time, reftime=reftime)\n",
    "    \n",
    "    return u, v, time, dep"
   ]
  },
  {
   "cell_type": "code",
   "execution_count": 9,
   "metadata": {
    "collapsed": false
   },
   "outputs": [],
   "source": [
    "def prepare_vel(u, v, depav=False, depth='None'):\n",
    "    \"\"\"Preparing the time series of the orthogonal pair of velocities to get tidal ellipse parameters. \n",
    "    This function masks, rotates and unstaggers the time series. The depth averaging does not work over \n",
    "    masked values.\n",
    "    \n",
    "    :arg u: One of the orthogonal components of the time series of tidal current velocities.\n",
    "    :type u:  :py:class:'np.ndarray'\n",
    "    \n",
    "    :arg v: One of the orthogonal components of the time series of tidal current velocities. \n",
    "    :type v:  :py:class:'np.ndarray'\n",
    "\n",
    "    :arg depav: True will depth average over the whole depth profile given. Default is False.\n",
    "    :type dep: boolean\n",
    "    \n",
    "    :arg depth: depth vector corresponding to the depth of the velocities, only requiered if depav=True.\n",
    "    :type depth: :py:class:'np.ndarray' or string\n",
    "    \"\"\"\n",
    "    #Masks land values\n",
    "    u_0 = np.ma.masked_values(u, 0)\n",
    "    v_0 = np.ma.masked_values(v, 0)\n",
    "\n",
    "    #Unstaggers velocities. Will loose one x and one y dimension due to unstaggering.\n",
    "    u_u, v_v = research_VENUS.unstag_rot(u_0, v_0)\n",
    "\n",
    "    #Depth averaging over all the depth values given if set to True.\n",
    "    if depav == True:\n",
    "        assert type(depth)!=str, 'Depth values must be entered to proceed with depth averaging'\n",
    "        u_u = analyze.depth_average(u_u, depth, 1)\n",
    "        v_v = analyze.depth_average(v_v, depth, 1)\n",
    "    return u_u, v_v"
   ]
  },
  {
   "cell_type": "code",
   "execution_count": 10,
   "metadata": {
    "collapsed": false
   },
   "outputs": [],
   "source": [
    "def get_params_nowcast(to, tf, i, j, path, depthrange='None', depav=False, tidecorr=research_VENUS.CorrTides):\n",
    "    \"\"\" This function loads all the data between the start and the end date\n",
    "    that contains hourly velocities in the netCDF4 nowcast files in the specified depth range. Then\n",
    "    masks, rotates and unstaggers the time series. The unstaggering causes the shapes of \n",
    "    the returned arrays to be 1 less than those of the input arrays in the y and x dimensions. Finally it\n",
    "    calculates tidal ellipse parameters from the u and v time series. Maintains the shape \n",
    "    of the velocities enters only loosing the time dimensions.\n",
    "\n",
    "    :arg to: The beginning of the date range of interest\n",
    "    :type to: datetime object\n",
    "\n",
    "    :arg tf: The end of the date range of interest\n",
    "    :type tf: datetime object\n",
    "\n",
    "    :arg i: x index, must have at least 2 values for unstaggering, will loose the first i \n",
    "        during the unstaggering in prepare_vel.\n",
    "    :type i: float or list\n",
    "    \n",
    "    :arg j: y index, must have at least 2 values for unstaggering, will loose the first j \n",
    "        during the unstaggering in prepare_vel.\n",
    "    :type j: float or list\n",
    "\n",
    "    :arg path: Defines the path used(eg. nowcast)\n",
    "    :type path: string\n",
    "\n",
    "    :arg depthrange: Depth values of interest in meters as a float for a single depth or a list for a range. \n",
    "            A float will find the closest depth that is <= the value given. Default is 'None' for the whole\n",
    "            water column (0-441m).\n",
    "    :type depav: float, string or list.\n",
    "\n",
    "    :arg depav: True will depth average over the whole depth profile given. Default is False.\n",
    "    :type dep: boolean\n",
    "    \n",
    "    :arg depth: depth vector corresponding to the depth of the velocities, only requiered if depav=True.\n",
    "    :type depth: :py:class:'np.ndarray' or string\n",
    "    \n",
    "    :returns: params, a numpy array containting [M2 semi-major, M2 semi-minor, M2 inclication, M2 phase, K1 semi-major, \n",
    "            K1 semi-minor, K1 inclication, K1 phase]\n",
    "    \"\"\"\n",
    "        \n",
    "    u, v, time, dep = ellipse_files_nowcast(to, tf, i, j, path, depthrange=depthrange)\n",
    "    u_u, v_v = prepare_vel(u, v, depav=depav, depth=dep)\n",
    "    params = get_params(u_u, v_v, time, tidecorr=tidecorr)\n",
    "    \n",
    "    return params, dep"
   ]
  },
  {
   "cell_type": "markdown",
   "metadata": {},
   "source": [
    "###Nowcast runs: single location, single depth"
   ]
  },
  {
   "cell_type": "code",
   "execution_count": 27,
   "metadata": {
    "collapsed": false
   },
   "outputs": [],
   "source": [
    "path = '/data/dlatorne/MEOPAR/SalishSea/nowcast/'\n",
    "\n",
    "#The longer the date range the longer the analysis takes\n",
    "to=datetime.datetime(2015,7,10)\n",
    "tf=datetime.datetime(2015,7,11)\n",
    "\n",
    "i = np.arange(280,283)\n",
    "j = np.arange(400, 416)\n"
   ]
  },
  {
   "cell_type": "code",
   "execution_count": 29,
   "metadata": {
    "collapsed": false
   },
   "outputs": [
    {
     "data": {
      "text/plain": [
       "array([[ 309.77962333,  309.56711355,  309.29511464],\n",
       "       [ 309.9840391 ,  309.84980956,  309.59254117],\n",
       "       [ 309.91269301,  309.92797395,  309.84422169],\n",
       "       [ 309.67929949,  309.68835338,  309.89041819],\n",
       "       [ 309.56128832,  309.4937406 ,  310.01208846],\n",
       "       [ 309.78650707,  309.80627576,  310.65288661],\n",
       "       [ 310.44478759,  310.75539448,  311.94437824],\n",
       "       [ 311.41065369,  312.10880479,  313.60701579],\n",
       "       [ 312.61831946,  313.64479313,  315.27117045],\n",
       "       [ 314.10604257,  315.35449016,  316.92280129],\n",
       "       [ 315.89331461,  317.30775518,  318.7655273 ],\n",
       "       [ 317.91758149,  319.40270244,  320.74853574],\n",
       "       [ 320.05536902,  321.47605344,  322.62730629],\n",
       "       [ 322.10450354,  323.3425035 ,  324.21606384],\n",
       "       [ 323.94219257,  324.91084958,  325.50509465],\n",
       "       [ 325.67325295,  326.28846582,  326.62424386]])"
      ]
     },
     "execution_count": 29,
     "metadata": {},
     "output_type": "execute_result"
    }
   ],
   "source": [
    "u, v, time, dep = ellipse_files_nowcast(to, tf, i, j, path, depthrange=5)\n",
    "u_u, v_v = prepare_vel(u, v, depav=False, depth=dep)\n",
    "params = get_params(u_u, v_v, time)\n",
    "params['M2']['Phase']"
   ]
  },
  {
   "cell_type": "markdown",
   "metadata": {},
   "source": [
    "###Nowcast runs: Area with a depth range of [0,60]"
   ]
  },
  {
   "cell_type": "code",
   "execution_count": 21,
   "metadata": {
    "collapsed": false
   },
   "outputs": [],
   "source": [
    "path = '/data/dlatorne/MEOPAR/SalishSea/nowcast/'\n",
    "\n",
    "to=datetime.datetime(2015,7,10)\n",
    "tf=datetime.datetime(2015,7,11)\n",
    "\n",
    "i = np.arange(5, 53)\n",
    "j = np.arange(230, 255)"
   ]
  },
  {
   "cell_type": "code",
   "execution_count": 22,
   "metadata": {
    "collapsed": false
   },
   "outputs": [
    {
     "name": "stdout",
     "output_type": "stream",
     "text": [
      "(25, 48) [  0.5000003    1.5000031    2.50001144   3.50003052   4.50007057\n",
      "   5.50015068   6.50031042   7.50062323   8.50123596   9.50243282\n",
      "  10.50476551  11.50931168  12.51816654  13.53541183  14.56898212\n",
      "  15.63428783  16.76117325  18.00713539  19.48178482  21.38997841\n",
      "  24.10025597  28.22991562  34.68575668  44.51772308  58.48433304]\n"
     ]
    }
   ],
   "source": [
    "params, dep = get_params_nowcast(to, tf, i, j, path, depthrange=[0, 60], depav=True)\n",
    "print params['M2']['Phase'].shape, dep"
   ]
  },
  {
   "cell_type": "markdown",
   "metadata": {},
   "source": [
    "#Case 2: Any other type of files"
   ]
  },
  {
   "cell_type": "markdown",
   "metadata": {},
   "source": [
    "For any other type of file, there needs to be two orthorgonal time series velocitiy vectors. Each must have time in the first dimension, depth in the second if applicable and the locations in the third (and fourth if looking at an area).\n",
    "\n",
    "The analysis will be done over the whole time, depth and area that is given.\n",
    "\n",
    "U and V must be the same shape.\n",
    "\n",
    "Time vector must be in seconds..."
   ]
  },
  {
   "cell_type": "code",
   "execution_count": null,
   "metadata": {
    "collapsed": false
   },
   "outputs": [],
   "source": [
    "grid = '/ocean/mdunn/MEOPAR/jun_VENUS_east_gridded.nc'\n",
    "G = nc.Dataset(grid)\n",
    "u = G.variables['vozocrtx'][:]\n",
    "v = G.variables['vomecrty'][:]\n",
    "\n",
    "#Set up time in seconds\n",
    "t = G.variables['time_counter'][:]\n",
    "time = ([])\n",
    "t = nc_tools.timestamp(G, np.arange(u.shape[0]))\n",
    "for ind in range(len(t)):\n",
    "    t[ind] = t[ind].datetime\n",
    "time = np.append(time, t)\n",
    "\n",
    "time = tt.convert_to_seconds(time, reftime=ellipse.CorrTides['reftime'])"
   ]
  },
  {
   "cell_type": "code",
   "execution_count": null,
   "metadata": {
    "collapsed": false
   },
   "outputs": [],
   "source": [
    "u,v = ellipse.prepare_vel(u, v)\n",
    "params = get_params(u,v,time)"
   ]
  },
  {
   "cell_type": "markdown",
   "metadata": {
    "collapsed": true
   },
   "source": [
    "##More harmonic components"
   ]
  },
  {
   "cell_type": "code",
   "execution_count": 37,
   "metadata": {
    "collapsed": false
   },
   "outputs": [],
   "source": [
    "def fit_fun(apparam, mean):\n",
    "    \n",
    "    for i in len(apparam):\n",
    "        fun = mean + apparam[i,0] * np.cos(CorrTides[i]['freq'] * x - apparam[i,1] * np.pi /180)\n",
    "    \n",
    "    return fun\n",
    "     "
   ]
  },
  {
   "cell_type": "code",
   "execution_count": null,
   "metadata": {
    "collapsed": true
   },
   "outputs": [],
   "source": [
    "def fittit_more(uaus, time, ncomponents=2):\n",
    "    \"\"\"\n",
    "    \"\"\"\n",
    "    if ncomponents == 2:\n",
    "        M2amp, M2pha, K1amp, K1pha = fittit(uaus, time)\n",
    "        \n",
    "    if ncomponents == 4:"
   ]
  },
  {
   "cell_type": "code",
   "execution_count": 38,
   "metadata": {
    "collapsed": false
   },
   "outputs": [
    {
     "ename": "TypeError",
     "evalue": "'int' object is not iterable",
     "output_type": "error",
     "traceback": [
      "\u001b[1;31m---------------------------------------------------------------------------\u001b[0m",
      "\u001b[1;31mTypeError\u001b[0m                                 Traceback (most recent call last)",
      "\u001b[1;32m<ipython-input-38-be92a727bafb>\u001b[0m in \u001b[0;36m<module>\u001b[1;34m()\u001b[0m\n\u001b[0;32m      2\u001b[0m \u001b[0mapparam\u001b[0m \u001b[1;33m=\u001b[0m \u001b[0mnp\u001b[0m\u001b[1;33m.\u001b[0m\u001b[0mzeros\u001b[0m\u001b[1;33m(\u001b[0m\u001b[1;33m(\u001b[0m\u001b[1;36m4\u001b[0m\u001b[1;33m,\u001b[0m\u001b[1;36m2\u001b[0m\u001b[1;33m)\u001b[0m\u001b[1;33m)\u001b[0m\u001b[1;33m\u001b[0m\u001b[0m\n\u001b[0;32m      3\u001b[0m \u001b[1;33m\u001b[0m\u001b[0m\n\u001b[1;32m----> 4\u001b[1;33m \u001b[0mfitted\u001b[0m\u001b[1;33m,\u001b[0m \u001b[0mcov\u001b[0m \u001b[1;33m=\u001b[0m \u001b[0mcurve_fit\u001b[0m\u001b[1;33m(\u001b[0m\u001b[0mfit_fun\u001b[0m\u001b[1;33m,\u001b[0m \u001b[0mtime\u001b[0m\u001b[1;33m,\u001b[0m \u001b[0mu\u001b[0m\u001b[1;33m)\u001b[0m\u001b[1;33m\u001b[0m\u001b[0m\n\u001b[0m",
      "\u001b[1;32m/home/mdunn/anaconda/lib/python2.7/site-packages/scipy/optimize/minpack.pyc\u001b[0m in \u001b[0;36mcurve_fit\u001b[1;34m(f, xdata, ydata, p0, sigma, absolute_sigma, check_finite, **kw)\u001b[0m\n\u001b[0;32m    579\u001b[0m     \u001b[1;31m# Remove full_output from kw, otherwise we're passing it in twice.\u001b[0m\u001b[1;33m\u001b[0m\u001b[1;33m\u001b[0m\u001b[0m\n\u001b[0;32m    580\u001b[0m     \u001b[0mreturn_full\u001b[0m \u001b[1;33m=\u001b[0m \u001b[0mkw\u001b[0m\u001b[1;33m.\u001b[0m\u001b[0mpop\u001b[0m\u001b[1;33m(\u001b[0m\u001b[1;34m'full_output'\u001b[0m\u001b[1;33m,\u001b[0m \u001b[0mFalse\u001b[0m\u001b[1;33m)\u001b[0m\u001b[1;33m\u001b[0m\u001b[0m\n\u001b[1;32m--> 581\u001b[1;33m     \u001b[0mres\u001b[0m \u001b[1;33m=\u001b[0m \u001b[0mleastsq\u001b[0m\u001b[1;33m(\u001b[0m\u001b[0mfunc\u001b[0m\u001b[1;33m,\u001b[0m \u001b[0mp0\u001b[0m\u001b[1;33m,\u001b[0m \u001b[0margs\u001b[0m\u001b[1;33m=\u001b[0m\u001b[0margs\u001b[0m\u001b[1;33m,\u001b[0m \u001b[0mfull_output\u001b[0m\u001b[1;33m=\u001b[0m\u001b[1;36m1\u001b[0m\u001b[1;33m,\u001b[0m \u001b[1;33m**\u001b[0m\u001b[0mkw\u001b[0m\u001b[1;33m)\u001b[0m\u001b[1;33m\u001b[0m\u001b[0m\n\u001b[0m\u001b[0;32m    582\u001b[0m     \u001b[1;33m(\u001b[0m\u001b[0mpopt\u001b[0m\u001b[1;33m,\u001b[0m \u001b[0mpcov\u001b[0m\u001b[1;33m,\u001b[0m \u001b[0minfodict\u001b[0m\u001b[1;33m,\u001b[0m \u001b[0merrmsg\u001b[0m\u001b[1;33m,\u001b[0m \u001b[0mier\u001b[0m\u001b[1;33m)\u001b[0m \u001b[1;33m=\u001b[0m \u001b[0mres\u001b[0m\u001b[1;33m\u001b[0m\u001b[0m\n\u001b[0;32m    583\u001b[0m \u001b[1;33m\u001b[0m\u001b[0m\n",
      "\u001b[1;32m/home/mdunn/anaconda/lib/python2.7/site-packages/scipy/optimize/minpack.pyc\u001b[0m in \u001b[0;36mleastsq\u001b[1;34m(func, x0, args, Dfun, full_output, col_deriv, ftol, xtol, gtol, maxfev, epsfcn, factor, diag)\u001b[0m\n\u001b[0;32m    369\u001b[0m     \u001b[1;32mif\u001b[0m \u001b[1;32mnot\u001b[0m \u001b[0misinstance\u001b[0m\u001b[1;33m(\u001b[0m\u001b[0margs\u001b[0m\u001b[1;33m,\u001b[0m \u001b[0mtuple\u001b[0m\u001b[1;33m)\u001b[0m\u001b[1;33m:\u001b[0m\u001b[1;33m\u001b[0m\u001b[0m\n\u001b[0;32m    370\u001b[0m         \u001b[0margs\u001b[0m \u001b[1;33m=\u001b[0m \u001b[1;33m(\u001b[0m\u001b[0margs\u001b[0m\u001b[1;33m,\u001b[0m\u001b[1;33m)\u001b[0m\u001b[1;33m\u001b[0m\u001b[0m\n\u001b[1;32m--> 371\u001b[1;33m     \u001b[0mshape\u001b[0m\u001b[1;33m,\u001b[0m \u001b[0mdtype\u001b[0m \u001b[1;33m=\u001b[0m \u001b[0m_check_func\u001b[0m\u001b[1;33m(\u001b[0m\u001b[1;34m'leastsq'\u001b[0m\u001b[1;33m,\u001b[0m \u001b[1;34m'func'\u001b[0m\u001b[1;33m,\u001b[0m \u001b[0mfunc\u001b[0m\u001b[1;33m,\u001b[0m \u001b[0mx0\u001b[0m\u001b[1;33m,\u001b[0m \u001b[0margs\u001b[0m\u001b[1;33m,\u001b[0m \u001b[0mn\u001b[0m\u001b[1;33m)\u001b[0m\u001b[1;33m\u001b[0m\u001b[0m\n\u001b[0m\u001b[0;32m    372\u001b[0m     \u001b[0mm\u001b[0m \u001b[1;33m=\u001b[0m \u001b[0mshape\u001b[0m\u001b[1;33m[\u001b[0m\u001b[1;36m0\u001b[0m\u001b[1;33m]\u001b[0m\u001b[1;33m\u001b[0m\u001b[0m\n\u001b[0;32m    373\u001b[0m     \u001b[1;32mif\u001b[0m \u001b[0mn\u001b[0m \u001b[1;33m>\u001b[0m \u001b[0mm\u001b[0m\u001b[1;33m:\u001b[0m\u001b[1;33m\u001b[0m\u001b[0m\n",
      "\u001b[1;32m/home/mdunn/anaconda/lib/python2.7/site-packages/scipy/optimize/minpack.pyc\u001b[0m in \u001b[0;36m_check_func\u001b[1;34m(checker, argname, thefunc, x0, args, numinputs, output_shape)\u001b[0m\n\u001b[0;32m     18\u001b[0m def _check_func(checker, argname, thefunc, x0, args, numinputs,\n\u001b[0;32m     19\u001b[0m                 output_shape=None):\n\u001b[1;32m---> 20\u001b[1;33m     \u001b[0mres\u001b[0m \u001b[1;33m=\u001b[0m \u001b[0matleast_1d\u001b[0m\u001b[1;33m(\u001b[0m\u001b[0mthefunc\u001b[0m\u001b[1;33m(\u001b[0m\u001b[1;33m*\u001b[0m\u001b[1;33m(\u001b[0m\u001b[1;33m(\u001b[0m\u001b[0mx0\u001b[0m\u001b[1;33m[\u001b[0m\u001b[1;33m:\u001b[0m\u001b[0mnuminputs\u001b[0m\u001b[1;33m]\u001b[0m\u001b[1;33m,\u001b[0m\u001b[1;33m)\u001b[0m \u001b[1;33m+\u001b[0m \u001b[0margs\u001b[0m\u001b[1;33m)\u001b[0m\u001b[1;33m)\u001b[0m\u001b[1;33m)\u001b[0m\u001b[1;33m\u001b[0m\u001b[0m\n\u001b[0m\u001b[0;32m     21\u001b[0m     \u001b[1;32mif\u001b[0m \u001b[1;33m(\u001b[0m\u001b[0moutput_shape\u001b[0m \u001b[1;32mis\u001b[0m \u001b[1;32mnot\u001b[0m \u001b[0mNone\u001b[0m\u001b[1;33m)\u001b[0m \u001b[1;32mand\u001b[0m \u001b[1;33m(\u001b[0m\u001b[0mshape\u001b[0m\u001b[1;33m(\u001b[0m\u001b[0mres\u001b[0m\u001b[1;33m)\u001b[0m \u001b[1;33m!=\u001b[0m \u001b[0moutput_shape\u001b[0m\u001b[1;33m)\u001b[0m\u001b[1;33m:\u001b[0m\u001b[1;33m\u001b[0m\u001b[0m\n\u001b[0;32m     22\u001b[0m         \u001b[1;32mif\u001b[0m \u001b[1;33m(\u001b[0m\u001b[0moutput_shape\u001b[0m\u001b[1;33m[\u001b[0m\u001b[1;36m0\u001b[0m\u001b[1;33m]\u001b[0m \u001b[1;33m!=\u001b[0m \u001b[1;36m1\u001b[0m\u001b[1;33m)\u001b[0m\u001b[1;33m:\u001b[0m\u001b[1;33m\u001b[0m\u001b[0m\n",
      "\u001b[1;32m/home/mdunn/anaconda/lib/python2.7/site-packages/scipy/optimize/minpack.pyc\u001b[0m in \u001b[0;36m_general_function\u001b[1;34m(params, xdata, ydata, function)\u001b[0m\n\u001b[0;32m    445\u001b[0m \u001b[1;33m\u001b[0m\u001b[0m\n\u001b[0;32m    446\u001b[0m \u001b[1;32mdef\u001b[0m \u001b[0m_general_function\u001b[0m\u001b[1;33m(\u001b[0m\u001b[0mparams\u001b[0m\u001b[1;33m,\u001b[0m \u001b[0mxdata\u001b[0m\u001b[1;33m,\u001b[0m \u001b[0mydata\u001b[0m\u001b[1;33m,\u001b[0m \u001b[0mfunction\u001b[0m\u001b[1;33m)\u001b[0m\u001b[1;33m:\u001b[0m\u001b[1;33m\u001b[0m\u001b[0m\n\u001b[1;32m--> 447\u001b[1;33m     \u001b[1;32mreturn\u001b[0m \u001b[0mfunction\u001b[0m\u001b[1;33m(\u001b[0m\u001b[0mxdata\u001b[0m\u001b[1;33m,\u001b[0m \u001b[1;33m*\u001b[0m\u001b[0mparams\u001b[0m\u001b[1;33m)\u001b[0m \u001b[1;33m-\u001b[0m \u001b[0mydata\u001b[0m\u001b[1;33m\u001b[0m\u001b[0m\n\u001b[0m\u001b[0;32m    448\u001b[0m \u001b[1;33m\u001b[0m\u001b[0m\n\u001b[0;32m    449\u001b[0m \u001b[1;33m\u001b[0m\u001b[0m\n",
      "\u001b[1;32m<ipython-input-37-90d3e1e5ca58>\u001b[0m in \u001b[0;36mfit_fun\u001b[1;34m(apparam, mean)\u001b[0m\n\u001b[0;32m      1\u001b[0m \u001b[1;32mdef\u001b[0m \u001b[0mfit_fun\u001b[0m\u001b[1;33m(\u001b[0m\u001b[0mapparam\u001b[0m\u001b[1;33m,\u001b[0m \u001b[0mmean\u001b[0m\u001b[1;33m)\u001b[0m\u001b[1;33m:\u001b[0m\u001b[1;33m\u001b[0m\u001b[0m\n\u001b[0;32m      2\u001b[0m \u001b[1;33m\u001b[0m\u001b[0m\n\u001b[1;32m----> 3\u001b[1;33m     \u001b[1;32mfor\u001b[0m \u001b[0mi\u001b[0m \u001b[1;32min\u001b[0m \u001b[0mlen\u001b[0m\u001b[1;33m(\u001b[0m\u001b[0mapparam\u001b[0m\u001b[1;33m)\u001b[0m\u001b[1;33m:\u001b[0m\u001b[1;33m\u001b[0m\u001b[0m\n\u001b[0m\u001b[0;32m      4\u001b[0m         \u001b[0mfun\u001b[0m \u001b[1;33m=\u001b[0m \u001b[0mmean\u001b[0m \u001b[1;33m+\u001b[0m \u001b[0mapparam\u001b[0m\u001b[1;33m[\u001b[0m\u001b[0mi\u001b[0m\u001b[1;33m,\u001b[0m\u001b[1;36m0\u001b[0m\u001b[1;33m]\u001b[0m \u001b[1;33m*\u001b[0m \u001b[0mnp\u001b[0m\u001b[1;33m.\u001b[0m\u001b[0mcos\u001b[0m\u001b[1;33m(\u001b[0m\u001b[0mCorrTides\u001b[0m\u001b[1;33m[\u001b[0m\u001b[0mi\u001b[0m\u001b[1;33m]\u001b[0m\u001b[1;33m[\u001b[0m\u001b[1;34m'freq'\u001b[0m\u001b[1;33m]\u001b[0m \u001b[1;33m*\u001b[0m \u001b[0mx\u001b[0m \u001b[1;33m-\u001b[0m \u001b[0mapparam\u001b[0m\u001b[1;33m[\u001b[0m\u001b[0mi\u001b[0m\u001b[1;33m,\u001b[0m\u001b[1;36m1\u001b[0m\u001b[1;33m]\u001b[0m \u001b[1;33m*\u001b[0m \u001b[0mnp\u001b[0m\u001b[1;33m.\u001b[0m\u001b[0mpi\u001b[0m \u001b[1;33m/\u001b[0m\u001b[1;36m180\u001b[0m\u001b[1;33m)\u001b[0m\u001b[1;33m\u001b[0m\u001b[0m\n\u001b[0;32m      5\u001b[0m \u001b[1;33m\u001b[0m\u001b[0m\n",
      "\u001b[1;31mTypeError\u001b[0m: 'int' object is not iterable"
     ]
    }
   ],
   "source": [
    "\n",
    "apparam = np.zeros((4,2))\n",
    "\n",
    "fitted, cov = curve_fit(fit_fun, time, u)\n"
   ]
  },
  {
   "cell_type": "code",
   "execution_count": null,
   "metadata": {
    "collapsed": true
   },
   "outputs": [],
   "source": []
  }
 ],
 "metadata": {
  "kernelspec": {
   "display_name": "Python 2",
   "language": "python",
   "name": "python2"
  },
  "language_info": {
   "codemirror_mode": {
    "name": "ipython",
    "version": 2
   },
   "file_extension": ".py",
   "mimetype": "text/x-python",
   "name": "python",
   "nbconvert_exporter": "python",
   "pygments_lexer": "ipython2",
   "version": "2.7.10"
  }
 },
 "nbformat": 4,
 "nbformat_minor": 0
}
