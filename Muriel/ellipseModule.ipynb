{
 "cells": [
  {
   "cell_type": "markdown",
   "metadata": {},
   "source": [
    "This notebook will be used to redesign the tidal ellipse functions to make them more user friendly"
   ]
  },
  {
   "cell_type": "code",
   "execution_count": 1,
   "metadata": {
    "collapsed": false
   },
   "outputs": [],
   "source": [
    "import os\n",
    "import datetime\n",
    "import matplotlib.pylab as plt\n",
    "from matplotlib.patches import Ellipse\n",
    "import numpy as np\n",
    "from IPython.display import display, Math, Latex\n",
    "import csv\n",
    "import pandas as pd\n",
    "import seaborn as sns\n",
    "from dateutil import tz\n",
    "from scipy.optimize import curve_fit\n",
    "import collections\n",
    "\n",
    "import netCDF4 as nc\n",
    "from salishsea_tools import (viz_tools, tidetools as tt, ellipse, nc_tools)\n",
    "from salishsea_tools.nowcast import (analyze, research_VENUS)\n",
    "\n",
    "\n",
    "%matplotlib inline"
   ]
  },
  {
   "cell_type": "markdown",
   "metadata": {},
   "source": [
    "#Some of the functions\n",
    "The functions below will be in the ellipse.py module. They are meant to be versitile to different file types and to be user friendly. In order to be user friendly they must be able to cover many diffrent types of ellipse calculations and be well commented to clearly show what is going on in the scripts. Also there are many scripts with small tasks to faciliate adding in new scripts for a modification."
   ]
  },
  {
   "cell_type": "code",
   "execution_count": 2,
   "metadata": {
    "collapsed": true
   },
   "outputs": [],
   "source": [
    "def quadruple(x, M2amp, M2pha, K1amp, K1pha, S2amp, S2pha, O1amp, O1pha, mean):\n",
    "    \"\"\"Function for the fit, assuming only 4 constituents of importance are: M2, K2, S1 and O1.\n",
    "\n",
    "    :arg x: Independant variable, time.\n",
    "    :type x:\n",
    "    \n",
    "    :arg *amp: Tidal amplitude of the a constituent\n",
    "    :type *amp: float\n",
    "\n",
    "    :arg *pha: Phase lag of a constituent\n",
    "    :type *pha: float\n",
    "    \n",
    "    :returns: function for fitting 4 frequencies\n",
    "    \"\"\"\n",
    "    return(\n",
    "        mean + M2amp * np.cos(ellipse.CorrTides['M2']['freq'] * x - M2pha * np.pi / 180) +\n",
    "        K1amp * np.cos(ellipse.CorrTides['K1']['freq'] * x - K1pha * np.pi / 180) + \n",
    "        S2amp * np.cos(ellipse.CorrTides['S2']['freq'] * x - S2pha * np.pi / 180) +\n",
    "        O1amp * np.cos(ellipse.CorrTides['O1']['freq'] * x - O1pha * np.pi / 180))"
   ]
  },
  {
   "cell_type": "code",
   "execution_count": 3,
   "metadata": {
    "collapsed": false
   },
   "outputs": [],
   "source": [
    "def sextuple(x, M2amp, M2pha, K1amp, K1pha, S2amp, S2pha, O1amp, O1pha, N2amp, N2pha, P1amp, P1pha, mean):\n",
    "    \"\"\"Function for the fit, assuming 6 constituents of importance are: M2, K2, S1, O1, N2 and P1.\n",
    "\n",
    "\n",
    "    :arg x: Independant variable, time.\n",
    "    :type x:\n",
    "    \n",
    "    :arg *amp: Tidal amplitude of the a constituent\n",
    "    :type *amp: float\n",
    "\n",
    "    :arg *pha: Phase lag of a constituent\n",
    "    :type *pha: float\n",
    "\n",
    "    :returns:function for fitting 6 frequencies\n",
    "    \"\"\"\n",
    "    return(\n",
    "        mean + M2amp * np.cos(ellipse.CorrTides['M2']['freq'] * x - M2pha * np.pi / 180) +\n",
    "        K1amp * np.cos(ellipse.CorrTides['K1']['freq'] * x - K1pha * np.pi / 180) + \n",
    "        S2amp * np.cos(ellipse.CorrTides['S2']['freq'] * x - S2pha * np.pi / 180) +\n",
    "        O1amp * np.cos(ellipse.CorrTides['O1']['freq'] * x - O1pha * np.pi / 180) +\n",
    "        N2amp * np.cos(ellipse.CorrTides['N2']['freq'] * x - N2pha * np.pi / 180) +\n",
    "        P1amp * np.cos(ellipse.CorrTides['P1']['freq'] * x - P1pha * np.pi / 180))"
   ]
  },
  {
   "cell_type": "code",
   "execution_count": 4,
   "metadata": {
    "collapsed": true
   },
   "outputs": [],
   "source": [
    "def octuple(x, M2amp, M2pha, K1amp, K1pha, S2amp, S2pha, O1amp, O1pha, N2amp, N2pha, P1amp, P1pha, K2amp, K2pha, Q1amp, Q1pha,mean):\n",
    "    \"\"\"Function for the fit, for all the constituents: M2, K2, S1, O1, N2, P1, K2, Q1.\n",
    "\n",
    "    :arg x: Independant variable, time.\n",
    "    :type x:\n",
    "    \n",
    "    :arg *amp: Tidal amplitude of the a constituent\n",
    "    :type *amp: float\n",
    "\n",
    "    :arg *pha: Phase lag of a constituent\n",
    "    :type *pha: float\n",
    "\n",
    "    :returns: function for fitting 8 frequencies\n",
    "    \"\"\"\n",
    "    return(\n",
    "        mean + M2amp * np.cos(ellipse.CorrTides['M2']['freq'] * x - M2pha * np.pi / 180) +\n",
    "        K1amp * np.cos(ellipse.CorrTides['K1']['freq'] * x - K1pha * np.pi / 180) + \n",
    "        S2amp * np.cos(ellipse.CorrTides['S2']['freq'] * x - S2pha * np.pi / 180) +\n",
    "        O1amp * np.cos(ellipse.CorrTides['O1']['freq'] * x - O1pha * np.pi / 180) +\n",
    "        N2amp * np.cos(ellipse.CorrTides['N2']['freq'] * x - N2pha * np.pi / 180) +\n",
    "        P1amp * np.cos(ellipse.CorrTides['P1']['freq'] * x - P1pha * np.pi / 180) +\n",
    "        K2amp * np.cos(ellipse.CorrTides['K2']['freq'] * x - K2pha * np.pi / 180) +\n",
    "        Q1amp * np.cos(ellipse.CorrTides['Q1']['freq'] * x - Q1pha * np.pi / 180))"
   ]
  },
  {
   "cell_type": "code",
   "execution_count": 5,
   "metadata": {
    "collapsed": false
   },
   "outputs": [],
   "source": [
    "def get_params(u, v, time, nconst, tidecorr=ellipse.CorrTides):\n",
    "    \"\"\"Calculates tidal ellipse parameters from the u and v time series. Maintains the shape \n",
    "    of the velocities enters only loosing the time dimensions.\n",
    "    \n",
    "    :arg u: One of the orthogonal tidal current velocities. Must be already prepared for the analysis.\n",
    "    :type u:  :py:class:'np.ndarray'\n",
    "    \n",
    "    :arg v: One of the orthogonal tidal current velocities. Must be already prepared for the analysis.\n",
    "    :type v:  :py:class:'np.ndarray'\n",
    "    \n",
    "    :arg time: Time over which the velocities were taken; in seconds.\n",
    "    :type time: :py:class:'np.ndarray'\n",
    "    \n",
    "    :arg tidecorr: Tidal corrections in aplitude and phase. Default is the nowcast values. \n",
    "    :type tidecorr: dictionary\n",
    "    \"\"\"\n",
    "    params = {}\n",
    "    \n",
    "    #Running fittit to get the amplitude and phase of the velcity time series.\n",
    "    uapparam = fittit(u, time, nconst)\n",
    "    vapparam = fittit(v, time, nconst)\n",
    "    #Cycling through the constituents in the ap-parameter dict given by fittit\n",
    "    for const in uapparam:\n",
    "\n",
    "        #Applying tidal corrections to u and v phase parameter\n",
    "        uapparam[const]['phase'] = uapparam[const]['phase'] + tidecorr[const]['uvt']\n",
    "        vapparam[const]['phase'] = vapparam[const]['phase'] + tidecorr[const]['uvt']\n",
    "        #Applying tidal corrections to u and v aplitude parameter\n",
    "        uapparam[const]['amp'] = uapparam[const]['amp'] * tidecorr[const]['ft']\n",
    "        vapparam[const]['amp'] = vapparam[const]['amp'] * tidecorr[const]['ft']\n",
    "        \n",
    "        #Converting from u/v amplitude and phase to ellipe parameters. Inputs are the amplitude and phase of both velocities, runs once for each contituent\n",
    "        CX, SX, CY, SY, ap, am, ep, em, maj, mi, the, pha = tt.ellipse_params(uapparam[const]['amp'], uapparam[const]['phase'], vapparam[const]['amp'], vapparam[const]['phase'])\n",
    "        \n",
    "        #Filling the dictionary with ep-parameters given by ellipse_param. Each constituent will be a different key.\n",
    "        params[const] = {'Semi-Major Axis' : maj,\n",
    "                        'Semi-Minor Axis': mi,\n",
    "                        'Inclination': the,\n",
    "                        'Phase': pha}\n",
    "    \n",
    "    return params\n",
    "    \n",
    "    "
   ]
  },
  {
   "cell_type": "code",
   "execution_count": 6,
   "metadata": {
    "collapsed": false
   },
   "outputs": [],
   "source": [
    "def fittit(uaus, time, nconst):\n",
    "    \"\"\"Function to find tidal components from a tidal current component\n",
    "        over the whole area given. Can be done over depth, or an area.\n",
    "        Time must be in axis one, depth in axis two if applicable then the\n",
    "        x and y if an area.\n",
    "        Must perform twice, once for each tidal current vector\n",
    "        in order to complete the analysis.\n",
    "        In order to calculate the tidal components of an area at a single\n",
    "        depth the velocity vector must only have 3 dimensions. For a depth\n",
    "        profile it must only have 2 dimensions \n",
    "        ***[time, depth, x, y]\n",
    "\n",
    "    :arg uaus: One of the orthogonal tidal current velocities.\n",
    "    :type uaus:  :py:class:'np.ndarray' or float\n",
    "\n",
    "    :arg time: Time over which the velocitie were being taken in seconds.\n",
    "    :type time: :py:class:'np.ndarray'\n",
    "\n",
    "    :returns M2amp, M2pha, K1amp, K1pha:\n",
    "        The amplitude and phase lag of each tidal component (M2 and K1)\n",
    "        of a single tidal velocity vector.\n",
    "\n",
    "    \"\"\"\n",
    "    apparam = collections.OrderedDict()\n",
    "    apparam['M2'] = {'amp': [], 'phase': []}\n",
    "    apparam['K1'] = {'amp': [], 'phase': []}\n",
    "    fitfunction = tt.double\n",
    "    if nconst >2:\n",
    "        fitfunction = quadruple\n",
    "        apparam['S2'] = {'amp': [], 'phase': []}\n",
    "        apparam['O1'] = {'amp': [], 'phase': []}    \n",
    "    if nconst >4:\n",
    "        fitfunction = sextuple\n",
    "        apparam['N2'] = {'amp': [], 'phase': []}\n",
    "        apparam['P1'] = {'amp': [], 'phase': []}    \n",
    "    if nconst >6:\n",
    "        fitfunction = octuple\n",
    "        apparam['K2'] = {'amp': [], 'phase': []}\n",
    "        apparam['Q1'] = {'amp': [], 'phase': []}  \n",
    "    \n",
    "    #Case 1: a time series of velocities with depth at a single location.\n",
    "    if uaus.ndim == 2:\n",
    "        #The parameters are the same shape as the velocities without the time dimension.\n",
    "        thesize = uaus.shape[1]\n",
    "        for const, ap in apparam.iteritems():\n",
    "             for key2 in ap:\n",
    "                    ap[key2] = np.zeros(thesize)\n",
    "        \n",
    "        #Calculates the parameters for one depth and one location at a time from its time series\n",
    "        for dep in np.arange(0, len(uaus[1])):\n",
    "            if uaus[:, dep].any() != 0:\n",
    "                fitted, cov = curve_fit(fitfunction, time[:], uaus[:, dep])\n",
    "                #Rotating to have a positive amplitude and a phase between [-180, 180]\n",
    "                for k in np.arange(nconst):\n",
    "                    fitted[2*k], fitted[2*k+1] = tt.convention_pha_amp(fitted[2*k], fitted[2*k+1])\n",
    "              \n",
    "                for const, k in zip(apparam, np.arange(0,nconst)):\n",
    "                    apparam[const]['amp'][dep] = fitted[2*k]\n",
    "                    apparam[const]['phase'][dep] = fitted[2*k+1]\n",
    "\n",
    "    #Case 2 : a time series of an area of velocities at a single depth\n",
    "    elif uaus.ndim == 3:\n",
    "        thesize = (uaus.shape[1], uaus.shape[2])\n",
    "        for const, ap in apparam.iteritems():\n",
    "             for key2 in ap:\n",
    "                    ap[key2] = np.zeros(thesize)\n",
    "                    \n",
    "        for i in np.arange(0, uaus.shape[1]):\n",
    "            for j in np.arange(0, uaus.shape[2]):\n",
    "                if uaus[:, i, j].any() != 0.:\n",
    "                    fitted, cov = curve_fit(fitfunction, time[:], uaus[:, i, j])\n",
    "                    for k in np.arange(nconst):\n",
    "                        fitted[2*k], fitted[2*k+1] = tt.convention_pha_amp(fitted[2*k], fitted[2*k+1])\n",
    "                    \n",
    "                for const, k in zip(apparam, np.arange(0,nconst)):\n",
    "                    apparam[const]['amp'][i, j] = fitted[2*k]\n",
    "                    apparam[const]['phase'][i, j] = fitted[1*k+1]\n",
    "    \n",
    "    #Case 3: a time series of an area of velocities with depth\n",
    "    elif uaus.ndim == 4:\n",
    "        thesize = (uaus.shape[1], uaus.shape[2], uaus.shape[3])\n",
    "        for const, ap in apparam.iteritems():\n",
    "             for key2 in ap:\n",
    "                    ap[key2] = np.zeros(thesize)\n",
    "\n",
    "        for dep in np.arange(0, uaus.shape[1]):\n",
    "            for i in np.arange(0, uaus.shape[2]):\n",
    "                for j in np.arange(0, uaus.shape[3]):\n",
    "                    if uaus[:, dep, i, j].any() != 0.:\n",
    "                        fitted, cov = curve_fit(fitfunction, time[:], uaus[:, dep, i, j])\n",
    "                        for k in np.arange(nconst):\n",
    "                            fitted[2*k], fitted[2*k+1] = tt.convention_pha_amp(\n",
    "                                fitted[2*k], fitted[2*k+1])\n",
    "                            \n",
    "                        for const, k in zip(apparam, np.arange(0,nconst)):\n",
    "                            apparam[const]['amp'][dep, i, j] = fitted[2*k]\n",
    "                            apparam[const]['phase'][dep, i, j] = fitted[2*k+1]\n",
    "\n",
    "    #Case 4: a time series of a single location with a single depth.\n",
    "    else:\n",
    "        thesize = (0)\n",
    "        for const, ap in apparam.iteritems():\n",
    "             for key2 in ap:\n",
    "                    ap[key2] = np.zeros(thesize)\n",
    "\n",
    "        if uaus[:].any() != 0.:\n",
    "            fitted, cov = curve_fit(fitfunction, time[:], uaus[:])\n",
    "            for k in np.arange(nconst):\n",
    "                fitted[2*k], fitted[2*k+1] = tt.convention_pha_amp(\n",
    "                    fitted[2*k], fitted[2*k+1])\n",
    "            for const, k in zip(apparam, np.arange(0,nconst)):\n",
    "                apparam[const]['amp'] = fitted[2*k]\n",
    "                apparam[const]['phase'] = fitted[2*k+1]\n",
    "    return apparam"
   ]
  },
  {
   "cell_type": "markdown",
   "metadata": {},
   "source": [
    "##Case 1: Nowcast date range\n",
    "Functions for nowcast velocities."
   ]
  },
  {
   "cell_type": "code",
   "execution_count": 7,
   "metadata": {
    "collapsed": false
   },
   "outputs": [],
   "source": [
    "def ellipse_files_nowcast(to, tf, iss, jss, path, depthrange='None',reftime=ellipse.CorrTides['reftime']):\n",
    "    \"\"\" This function loads all the data between the start and the end date\n",
    "    that contains hourly velocities in the netCDF4 nowcast files in the specified depth range. \n",
    "    This will make an area with all the indices indicated, the area must be continuous for unstaggering.\n",
    "\n",
    "    :arg to: The beginning of the date range of interest\n",
    "    :type to: datetime object\n",
    "\n",
    "    :arg tf: The end of the date range of interest\n",
    "    :type tf: datetime object\n",
    "    \n",
    "    :arg iss: x index.\n",
    "    :type i: list or numpy.array\n",
    "    \n",
    "    :arg jss: y index.\n",
    "    :type j: list or numpy.array\n",
    "\n",
    "    :arg path: Defines the path used(eg. nowcast)\n",
    "    :type path: string\n",
    "\n",
    "    :arg depthrange: Depth values of interest in meters as a float for a single depth or a list for a range. \n",
    "        A float will find the closest depth that is <= the value given. Default is 'None' for the whole\n",
    "        water column (0-441m).\n",
    "    :type depav: float, string or list.\n",
    "\n",
    "    :returns: u, v, time, dep.\n",
    "    \"\"\"\n",
    "    \n",
    "    #The unstaggering in prepare_vel.py requiers an extra i and j, we add one on here to maintain the \n",
    "    #area, or point chosen.\n",
    "    assert np.logical_and(type(iss)!=int, type(jss)!=int), 'Must enter list, even if only looking at a single value'\n",
    "    assert np.logical_and(iss[0] != 0, jss[0] != 0), 'Cannot begin analysis on x=0 or y=0.'\n",
    "    \n",
    "    jss = np.append(jss[0]-1,jss)\n",
    "    iss = np.append(iss[0]-1,iss)\n",
    "    \n",
    "    #Makes a list of the filenames that follow the criteria in the indicated path between the start and end dates.\n",
    "    filesu = analyze.get_filenames(to, tf, '1h', 'grid_U', path) \n",
    "    filesv = analyze.get_filenames(to, tf, '1h', 'grid_V', path)\n",
    "    \n",
    "    #Set up depth array and depth range\n",
    "    depth = nc.Dataset(filesu[-1]).variables['depthu'][:]\n",
    "    \n",
    "    #Case one: for a single depth.\n",
    "    if type(depthrange) == float or type(depthrange) == int:\n",
    "        k = np.where(depth <= depthrange)[0][-1]\n",
    "        u, time = analyze.combine_files(filesu, 'vozocrtx', k, jss, iss)\n",
    "        v, time = analyze.combine_files(filesv, 'vomecrty', k,  jss, iss)\n",
    "        dep=depth[k]\n",
    "    \n",
    "    #Case two: for a specific range of depths\n",
    "    elif type(depthrange) == list:\n",
    "        k = np.where(np.logical_and(depth > depthrange[0], depth < depthrange[1]))[0]\n",
    "        dep = depth[k]\n",
    "        u, time = analyze.combine_files(filesu, 'vozocrtx', k, jss, iss)\n",
    "        v, time = analyze.combine_files(filesv, 'vomecrty', k,  jss, iss)\n",
    "    \n",
    "    #Case three: For the whole depth range 0 to 441m.\n",
    "    else:\n",
    "        u, time = analyze.combine_files(filesu, 'vozocrtx', depthrange, jss, iss)\n",
    "        v, time = analyze.combine_files(filesv, 'vomecrty', depthrange,  jss, iss)\n",
    "        dep=depth\n",
    "        \n",
    "    #For the nowcast the reftime is always Sep10th 2014. Set time of area we are looking at relative to this time.\n",
    "    time = tt.convert_to_seconds(time, reftime=reftime)\n",
    "    \n",
    "    return u, v, time, dep"
   ]
  },
  {
   "cell_type": "code",
   "execution_count": 8,
   "metadata": {
    "collapsed": false
   },
   "outputs": [],
   "source": [
    "def prepare_vel(u, v, depav=False, depth='None'):\n",
    "    \"\"\"Preparing the time series of the orthogonal pair of velocities to get tidal ellipse parameters. \n",
    "    This function masks, rotates and unstaggers the time series. The depth averaging does not work over \n",
    "    masked values.\n",
    "    \n",
    "    :arg u: One of the orthogonal components of the time series of tidal current velocities.\n",
    "    :type u:  :py:class:'np.ndarray'\n",
    "    \n",
    "    :arg v: One of the orthogonal components of the time series of tidal current velocities. \n",
    "    :type v:  :py:class:'np.ndarray'\n",
    "\n",
    "    :arg depav: True will depth average over the whole depth profile given. Default is False.\n",
    "    :type dep: boolean\n",
    "    \n",
    "    :arg depth: depth vector corresponding to the depth of the velocities, only requiered if depav=True.\n",
    "    :type depth: :py:class:'np.ndarray' or string\n",
    "    \"\"\"\n",
    "    #Masks land values\n",
    "    u_0 = np.ma.masked_values(u, 0)\n",
    "    v_0 = np.ma.masked_values(v, 0)\n",
    "\n",
    "    #Unstaggers velocities. Will loose one x and one y dimension due to unstaggering.\n",
    "    u_u, v_v = research_VENUS.unstag_rot(u_0, v_0)\n",
    "\n",
    "    #Depth averaging over all the depth values given if set to True.\n",
    "    if depav == True:\n",
    "        assert type(depth)!=str, 'Depth values must be entered to proceed with depth averaging'\n",
    "        u_u = analyze.depth_average(u_u, depth, 1)\n",
    "        v_v = analyze.depth_average(v_v, depth, 1)\n",
    "    return u_u, v_v"
   ]
  },
  {
   "cell_type": "code",
   "execution_count": 9,
   "metadata": {
    "collapsed": false
   },
   "outputs": [],
   "source": [
    "def get_params_nowcast(to, tf, i, j, path, nconst, depthrange='None', depav=False, tidecorr=ellipse.CorrTides):\n",
    "    \"\"\" This function loads all the data between the start and the end date\n",
    "    that contains hourly velocities in the netCDF4 nowcast files in the specified depth range. Then\n",
    "    masks, rotates and unstaggers the time series. The unstaggering causes the shapes of \n",
    "    the returned arrays to be 1 less than those of the input arrays in the y and x dimensions. Finally it\n",
    "    calculates tidal ellipse parameters from the u and v time series. Maintains the shape \n",
    "    of the velocities enters only loosing the time dimensions.\n",
    "\n",
    "    :arg to: The beginning of the date range of interest\n",
    "    :type to: datetime object\n",
    "\n",
    "    :arg tf: The end of the date range of interest\n",
    "    :type tf: datetime object\n",
    "\n",
    "    :arg i: x index, must have at least 2 values for unstaggering, will loose the first i \n",
    "        during the unstaggering in prepare_vel.\n",
    "    :type i: float or list\n",
    "    \n",
    "    :arg j: y index, must have at least 2 values for unstaggering, will loose the first j \n",
    "        during the unstaggering in prepare_vel.\n",
    "    :type j: float or list\n",
    "\n",
    "    :arg path: Defines the path used(eg. nowcast)\n",
    "    :type path: string\n",
    "\n",
    "    :arg depthrange: Depth values of interest in meters as a float for a single depth or a list for a range. \n",
    "            A float will find the closest depth that is <= the value given. Default is 'None' for the whole\n",
    "            water column (0-441m).\n",
    "    :type depav: float, string or list.\n",
    "\n",
    "    :arg depav: True will depth average over the whole depth profile given. Default is False.\n",
    "    :type dep: boolean\n",
    "    \n",
    "    :arg depth: depth vector corresponding to the depth of the velocities, only requiered if depav=True.\n",
    "    :type depth: :py:class:'np.ndarray' or string\n",
    "    \n",
    "    :returns: params, a numpy array containting [M2 semi-major, M2 semi-minor, M2 inclication, M2 phase, K1 semi-major, \n",
    "            K1 semi-minor, K1 inclication, K1 phase]\n",
    "    \"\"\"\n",
    "        \n",
    "    u, v, time, dep = ellipse_files_nowcast(to, tf, i, j, path, depthrange=depthrange)\n",
    "    u_u, v_v = prepare_vel(u, v, depav=depav, depth=dep)\n",
    "    params = get_params(u_u, v_v, time, nconst, tidecorr=tidecorr)\n",
    "    \n",
    "    return params, dep"
   ]
  },
  {
   "cell_type": "markdown",
   "metadata": {},
   "source": [
    "###Nowcast runs: single location, single depth"
   ]
  },
  {
   "cell_type": "code",
   "execution_count": 19,
   "metadata": {
    "collapsed": false
   },
   "outputs": [],
   "source": [
    "path = '/data/dlatorne/MEOPAR/SalishSea/nowcast/'\n",
    "\n",
    "\n",
    "#The longer the date range the longer the analysis takes\n",
    "to=datetime.datetime(2015,7,10)\n",
    "tf=datetime.datetime(2015,7,11)\n",
    "\n",
    "i = [280]\n",
    "j = [400]\n"
   ]
  },
  {
   "cell_type": "code",
   "execution_count": 20,
   "metadata": {
    "collapsed": false
   },
   "outputs": [
    {
     "name": "stdout",
     "output_type": "stream",
     "text": [
      "[[ 0.05098803]]\n"
     ]
    }
   ],
   "source": [
    "u, v, time, dep = ellipse_files_nowcast(to, tf, i, j, path, depthrange=5)\n",
    "u_u, v_v = prepare_vel(u, v, depav=False, depth=dep)\n",
    "params = get_params(u_u, v_v, time, 4)\n",
    "print params['S2']['Semi-Major Axis']"
   ]
  },
  {
   "cell_type": "code",
   "execution_count": 21,
   "metadata": {
    "collapsed": false
   },
   "outputs": [
    {
     "data": {
      "text/plain": [
       "array([[ 0.04117673]])"
      ]
     },
     "execution_count": 21,
     "metadata": {},
     "output_type": "execute_result"
    }
   ],
   "source": [
    "u, v, time, dep = ellipse_files_nowcast(to, tf, i, j, path, depthrange=5)\n",
    "u_u, v_v = prepare_vel(u, v, depav=False, depth=dep)\n",
    "params = get_params(u_u, v_v, time, 6)\n",
    "params['S2']['Semi-Major Axis']"
   ]
  },
  {
   "cell_type": "code",
   "execution_count": 22,
   "metadata": {
    "collapsed": false
   },
   "outputs": [
    {
     "data": {
      "text/plain": [
       "array([[ 0.32734833]])"
      ]
     },
     "execution_count": 22,
     "metadata": {},
     "output_type": "execute_result"
    }
   ],
   "source": [
    "u, v, time, dep = ellipse_files_nowcast(to, tf, i, j, path, depthrange=5)\n",
    "u_u, v_v = prepare_vel(u, v, depav=False, depth=dep)\n",
    "params = get_params(u_u, v_v, time, 8)\n",
    "params['S2']['Semi-Major Axis']"
   ]
  },
  {
   "cell_type": "markdown",
   "metadata": {},
   "source": [
    "###Nowcast runs: Area with a depth range of [0,60]"
   ]
  },
  {
   "cell_type": "code",
   "execution_count": 28,
   "metadata": {
    "collapsed": false
   },
   "outputs": [],
   "source": [
    "path = '/data/dlatorne/MEOPAR/SalishSea/nowcast/'\n",
    "\n",
    "to=datetime.datetime(2015,7,8)\n",
    "tf=datetime.datetime(2015,7,11)\n",
    "\n",
    "i = np.arange(280,283)\n",
    "j = np.arange(400, 416)"
   ]
  },
  {
   "cell_type": "code",
   "execution_count": 29,
   "metadata": {
    "collapsed": false
   },
   "outputs": [
    {
     "name": "stdout",
     "output_type": "stream",
     "text": [
      "[[ 189.27457484  187.70113406  206.45501458]\n",
      " [ 198.18550618  202.67500481  223.26356999]\n",
      " [ 212.87483313  215.86656965  230.48675465]\n",
      " [ 224.42610352  226.45825899  234.69223479]\n",
      " [ 227.36138011  231.73498123  237.49509332]\n",
      " [ 226.29081745  233.92830576  239.24210028]\n",
      " [ 221.53280268  232.38665557  235.95929469]\n",
      " [ 213.42171785  228.58487151  230.55522257]\n",
      " [ 204.38173983  220.96982534  225.04936683]\n",
      " [ 197.32273749  206.63588608  214.24625242]\n",
      " [ 193.42391994  197.79957108  206.63527051]\n",
      " [ 191.23950577  196.15650077  206.18917381]\n",
      " [ 189.61830514  196.44608472  206.55934755]\n",
      " [ 187.14486357  195.48197675  204.99338425]\n",
      " [ 186.4770142   195.33422055  203.48690103]\n",
      " [ 186.9653332   195.91976477  202.66835621]]\n"
     ]
    }
   ],
   "source": [
    "params, dep = ellipse.get_params_nowcast(to, tf, i, j, path, 6, depthrange=[5, 60], depav=True)\n",
    "print params['N2']['Phase']"
   ]
  },
  {
   "cell_type": "markdown",
   "metadata": {},
   "source": [
    "#Case 2: Any other type of files"
   ]
  },
  {
   "cell_type": "markdown",
   "metadata": {},
   "source": [
    "For any other type of file, there needs to be two orthorgonal time series velocitiy vectors. Each must have time in the first dimension, depth in the second if applicable and the locations in the third (and fourth if looking at an area).\n",
    "\n",
    "The analysis will be done over the whole time, depth and area that is given.\n",
    "\n",
    "U and V must be the same shape.\n",
    "\n",
    "Time vector must be in seconds..."
   ]
  },
  {
   "cell_type": "code",
   "execution_count": 34,
   "metadata": {
    "collapsed": false
   },
   "outputs": [],
   "source": [
    "grid = '/ocean/mdunn/MEOPAR/jun_VENUS_east_gridded.nc'\n",
    "G = nc.Dataset(grid)\n",
    "u = G.variables['vozocrtx'][:]\n",
    "v = G.variables['vomecrty'][:]\n",
    "dep = G.variables['depthu'][:]\n",
    "\n",
    "#Set up time in seconds\n",
    "t = G.variables['time_counter'][:]\n",
    "time = ([])\n",
    "t = nc_tools.timestamp(G, np.arange(u.shape[0]))\n",
    "for ind in range(len(t)):\n",
    "    t[ind] = t[ind].datetime\n",
    "time = np.append(time, t)\n",
    "\n",
    "time = tt.convert_to_seconds(time, reftime=ellipse.CorrTides['reftime'])"
   ]
  },
  {
   "cell_type": "code",
   "execution_count": 36,
   "metadata": {
    "collapsed": false
   },
   "outputs": [
    {
     "name": "stdout",
     "output_type": "stream",
     "text": [
      "[[ 262.82680652]]\n"
     ]
    }
   ],
   "source": [
    "u_u,v_v = ellipse.prepare_vel(u, v, depav=True, depth=dep)\n",
    "params = get_params(u_u,v_v,time, 2)\n",
    "print params['K1']['Phase']"
   ]
  },
  {
   "cell_type": "code",
   "execution_count": 37,
   "metadata": {
    "collapsed": false
   },
   "outputs": [
    {
     "name": "stdout",
     "output_type": "stream",
     "text": [
      "[[ 262.63901909]]\n"
     ]
    }
   ],
   "source": [
    "u_u,v_v = ellipse.prepare_vel(u, v, depav=True, depth=dep)\n",
    "params = get_params(u_u,v_v,time, 8)\n",
    "print params['K1']['Phase']"
   ]
  },
  {
   "cell_type": "code",
   "execution_count": null,
   "metadata": {
    "collapsed": true
   },
   "outputs": [],
   "source": []
  }
 ],
 "metadata": {
  "kernelspec": {
   "display_name": "Python 2",
   "language": "python",
   "name": "python2"
  }
 },
 "nbformat": 4,
 "nbformat_minor": 0
}
