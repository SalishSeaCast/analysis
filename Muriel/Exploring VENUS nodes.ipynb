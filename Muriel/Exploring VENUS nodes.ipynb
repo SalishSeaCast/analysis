{
 "cells": [
  {
   "cell_type": "markdown",
   "metadata": {},
   "source": [
    "#VENUS nodes\n",
    "\n",
    "The venus nodes are located in the Georgia Strait. In the grid system set up the East node is at i=283 and j=416 where as the Central node is at i=266 and j=424."
   ]
  },
  {
   "cell_type": "markdown",
   "metadata": {},
   "source": [
    "\n",
    "##Plotting the nodes on a map\n",
    "Here is the location of the nodes."
   ]
  },
  {
   "cell_type": "code",
   "execution_count": 6,
   "metadata": {
    "collapsed": false
   },
   "outputs": [],
   "source": [
    "import matplotlib.pyplot as plt\n",
    "import numpy as np\n",
    "import datetime\n",
    "import netCDF4 as nc\n",
    "from dateutil import tz\n",
    "\n",
    "from salishsea_tools import(viz_tools, tidetools,nc_tools)\n",
    "from salishsea_tools.nowcast import (analyze, figures)\n",
    "\n",
    "%matplotlib inline"
   ]
  },
  {
   "cell_type": "code",
   "execution_count": 13,
   "metadata": {
    "collapsed": false
   },
   "outputs": [],
   "source": [
    "tracers=nc.Dataset('/data/dlatorne/MEOPAR/SalishSea/nowcast/01mar15/SalishSea_1h_20150301_20150301_grid_T.nc')\n",
    "bathya=nc.Dataset('/data/dlatorne/MEOPAR/NEMO-forcing/grid/bathy_meter_SalishSea2.nc')\n",
    "\n",
    "sal=tracers.variables['vosaline']\n",
    "temp=tracers.variables['votemper']\n",
    "dep=tracers.variables['deptht']\n",
    "\n",
    "bathy=bathya.variables['Bathymetry']\n",
    "x=bathya.variables['nav_lon']\n",
    "y=bathya.variables['nav_lon']"
   ]
  },
  {
   "cell_type": "markdown",
   "metadata": {},
   "source": [
    "The following command loads the most recent data from the VENUS nodes"
   ]
  },
  {
   "cell_type": "code",
   "execution_count": 17,
   "metadata": {
    "collapsed": false
   },
   "outputs": [],
   "source": [
    "datas={}; lons={}; lats={}; depths={}\n",
    "datas['Central'], lons['Central'], lats['Central'], depths['Central']=figures.load_VENUS('Central')"
   ]
  },
  {
   "cell_type": "code",
   "execution_count": null,
   "metadata": {
    "collapsed": true
   },
   "outputs": [],
   "source": []
  },
  {
   "cell_type": "code",
   "execution_count": null,
   "metadata": {
    "collapsed": true
   },
   "outputs": [],
   "source": []
  }
 ],
 "metadata": {
  "kernelspec": {
   "display_name": "Python 2",
   "language": "python",
   "name": "python2"
  },
  "language_info": {
   "codemirror_mode": {
    "name": "ipython",
    "version": 2
   },
   "file_extension": ".py",
   "mimetype": "text/x-python",
   "name": "python",
   "nbconvert_exporter": "python",
   "pygments_lexer": "ipython2",
   "version": "2.7.9"
  }
 },
 "nbformat": 4,
 "nbformat_minor": 0
}
