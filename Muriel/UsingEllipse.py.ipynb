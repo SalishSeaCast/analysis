{
 "cells": [
  {
   "cell_type": "markdown",
   "metadata": {},
   "source": [
    "This notebook will be used to show some functions in ellipse.py and maximize the accessibility of this module."
   ]
  },
  {
   "cell_type": "markdown",
   "metadata": {},
   "source": [
    "#Using the ellipse.py Module\n",
    "The velocities have to be prepared and set up in a certain way before they can be put through the tidal analysis. They need to be orthogonal, rotated to align with N/S, unstaggered and masked. The functions in ellipse.py handle these calculations.\n",
    "\n",
    "This notebook outlines how to calculate tidal ellipses for :\n",
    "\n",
    "* Nowcast files\n",
    "* Other simulation files"
   ]
  },
  {
   "cell_type": "code",
   "execution_count": 1,
   "metadata": {
    "collapsed": false
   },
   "outputs": [],
   "source": [
    "import datetime\n",
    "import matplotlib.pylab as plt\n",
    "import numpy as np\n",
    "import netCDF4 as nc\n",
    "from matplotlib.patches import Ellipse\n",
    "\n",
    "from salishsea_tools import (viz_tools, tidetools as tt, ellipse, nc_tools)\n",
    "from salishsea_tools.nowcast import (analyze, research_VENUS)\n",
    "\n",
    "\n",
    "%matplotlib inline"
   ]
  },
  {
   "cell_type": "markdown",
   "metadata": {},
   "source": [
    "##Case 1: Nowcast files"
   ]
  },
  {
   "cell_type": "markdown",
   "metadata": {},
   "source": [
    "The functions were originally developed to analyze tidal currents from nowcast results. Given a date range and grid coordinate, a single function can be used to analyze the time series and generate ellipse parameters.\n",
    "\n",
    "###get_params_nowcast()\n",
    "By default, this function will calculate tidal ellipses at each model depth. An example is shown below.\n",
    "\n",
    "First, define the date range and grid coordinates of interest.\n"
   ]
  },
  {
   "cell_type": "code",
   "execution_count": 2,
   "metadata": {
    "collapsed": true
   },
   "outputs": [],
   "source": [
    "path = '/data/dlatorne/MEOPAR/SalishSea/nowcast/'\n",
    "\n",
    "#The longer the date range the longer the analysis takes but the more tidal constituents it can resolve\n",
    "to=datetime.datetime(2015,7,10)\n",
    "tf=datetime.datetime(2015,7,17)\n",
    "\n",
    "i = [280] # x-index\n",
    "j = [400] # y-index\n",
    "nconst = 2 # number of constituents to be analyzed"
   ]
  },
  {
   "cell_type": "markdown",
   "metadata": {},
   "source": [
    "Note: The i, j coordinates must be represented as a list or array. If multiple grid points are to be analyzed, they must cover an area. This means that the values in i (and j) must be separated by one. Further, since analyzing currents requires unstaggering, both i and j must be greater than 0.\n",
    "\n",
    "We also have to define the number of constituents to be analyzed. The possibilities are:\n",
    "* 2 - M2, K1\n",
    "* 4 - M2, K1, S2, O1\n",
    "* 6 - M2, K1, S2, O1, N2, P1\n",
    "* 8 - M2, K1, S2, O1, N2, P1, K2, Q1\n",
    "\n",
    "Note that a long time series is required to analyze many constituents.\n",
    "\n",
    "Next, a simlple call to get_params_nowcast() returns the ellipse parameters in a dictionary object (params) and the depths associated with the ellipse parameters (dep)."
   ]
  },
  {
   "cell_type": "code",
   "execution_count": 3,
   "metadata": {
    "collapsed": true
   },
   "outputs": [],
   "source": [
    "params, dep = ellipse.get_params_nowcast(to, tf, i, j, path, nconst)"
   ]
  },
  {
   "cell_type": "markdown",
   "metadata": {},
   "source": [
    "A quick demonstration of plotting the semi-major axis over depth is shown below."
   ]
  },
  {
   "cell_type": "code",
   "execution_count": 4,
   "metadata": {
    "collapsed": false
   },
   "outputs": [
    {
     "data": {
      "text/plain": [
       "<matplotlib.text.Text at 0x7ff816be7b50>"
      ]
     },
     "execution_count": 4,
     "metadata": {},
     "output_type": "execute_result"
    },
    {
     "data": {
      "image/png": "[encoded data removed]",
      "text/plain": [
       "<matplotlib.figure.Figure at 0x7ff845e94f90>"
      ]
     },
     "metadata": {},
     "output_type": "display_data"
    }
   ],
   "source": [
    "for key in params.iterkeys():\n",
    "    plt.plot(np.squeeze(params[key]['Semi-Major Axis']), dep[:],label=key)\n",
    "plt.axis([0,0.7,150,0])\n",
    "plt.legend(loc=0)\n",
    "plt.xlabel('Semi-Major Axis (m/s)')\n",
    "plt.ylabel('Depth (m)')"
   ]
  },
  {
   "cell_type": "markdown",
   "metadata": {},
   "source": [
    "If more constituents were analyzed then params would have additional keys representing those constituents.\n",
    "\n",
    "Each constituent in params also contains keys for the Semi-Minor Axis, Phase, and Inclination.\n",
    "\n",
    "###Ellipses over an area\n",
    "\n",
    "We can also analyze the tidal currents over an area and at a single depth.\n"
   ]
  },
  {
   "cell_type": "code",
   "execution_count": 5,
   "metadata": {
    "collapsed": false
   },
   "outputs": [
    {
     "name": "stdout",
     "output_type": "stream",
     "text": [
      "0.5\n"
     ]
    }
   ],
   "source": [
    "i = np.arange(280,300) # x-indices\n",
    "j = np.arange(400,440) # y-indices\n",
    "nconst = 2 # number of constituents to be analyzed\n",
    "depth = 1 # depth of analysis in meters\n",
    "\n",
    "params, dep = ellipse.get_params_nowcast(to, tf, i, j, path, nconst,depthrange=depth)\n",
    "print dep"
   ]
  },
  {
   "cell_type": "markdown",
   "metadata": {},
   "source": [
    "Note: the ellipse is analyzed at the closest model level that is less than depth. \n",
    "\n",
    "It is straightforward to plot the phase."
   ]
  },
  {
   "cell_type": "code",
   "execution_count": 6,
   "metadata": {
    "collapsed": false
   },
   "outputs": [
    {
     "data": {
      "text/plain": [
       "1.1363636363636362"
      ]
     },
     "execution_count": 6,
     "metadata": {},
     "output_type": "execute_result"
    },
    {
     "data": {
      "image/png": "[encoded data removed]",
      "text/plain": [
       "<matplotlib.figure.Figure at 0x7ff816c56750>"
      ]
     },
     "metadata": {},
     "output_type": "display_data"
    }
   ],
   "source": [
    "grid = nc.Dataset('/data/nsoontie/MEOPAR/NEMO-forcing/grid/bathy_meter_SalishSea2.nc')\n",
    "bathy = grid.variables['Bathymetry']\n",
    "lons = grid.variables['nav_lon']\n",
    "lats = grid.variables['nav_lat']\n",
    "\n",
    "fig,ax=plt.subplots(1,1)\n",
    "mesh=ax.pcolormesh(lons[j,i],lats[j,i],params['M2']['Phase'])\n",
    "plt.colorbar(mesh,ax=ax)\n",
    "viz_tools.plot_coastline(ax,grid,coords='map')\n",
    "ax.set_xlim([-123.5,-123])\n",
    "ax.set_ylim([48.5,49.5])\n",
    "ax.set_title('M2 Phase')\n",
    "viz_tools.set_aspect(ax)"
   ]
  },
  {
   "cell_type": "markdown",
   "metadata": {},
   "source": [
    "###Depth averaged ellipses\n",
    "Finally, we can also calculate the ellipses for the depth averaged currents over a depth range. The depav argument should be set to True."
   ]
  },
  {
   "cell_type": "code",
   "execution_count": 7,
   "metadata": {
    "collapsed": false
   },
   "outputs": [
    {
     "name": "stdout",
     "output_type": "stream",
     "text": [
      "S2 ellipse parameters\n",
      "{'Phase': array([[ 354.9102976]]), 'Semi-Major Axis': array([[ 0.04274396]]), 'Semi-Minor Axis': array([[-0.00943675]]), 'Inclination': array([[ 131.62047723]])}\n",
      "Range of depth averaging:\n",
      "[  0.5000003    1.5000031    2.50001144   3.50003052   4.50007057\n",
      "   5.50015068   6.50031042   7.50062323   8.50123596   9.50243282\n",
      "  10.50476551  11.50931168  12.51816654  13.53541183  14.56898212\n",
      "  15.63428783  16.76117325  18.00713539  19.48178482  21.38997841\n",
      "  24.10025597  28.22991562  34.68575668  44.51772308  58.48433304\n",
      "  76.58558655  98.06295776]\n"
     ]
    }
   ],
   "source": [
    "i = [280] # x-index\n",
    "j = [400] # y-index\n",
    "depthrange = [0,100] # depth range in meters.\n",
    "nconst = 4 # number of constituents to be analyzed\n",
    "\n",
    "params, dep = ellipse.get_params_nowcast(to, tf, i, j, path, nconst,depthrange=depthrange, depav=True)\n",
    "print 'S2 ellipse parameters'\n",
    "print params['S2']\n",
    "print 'Range of depth averaging:'\n",
    "print dep"
   ]
  },
  {
   "cell_type": "markdown",
   "metadata": {},
   "source": [
    "And an example for plotting the S2 ellipse."
   ]
  },
  {
   "cell_type": "code",
   "execution_count": 8,
   "metadata": {
    "collapsed": false
   },
   "outputs": [
    {
     "data": {
      "text/plain": [
       "<matplotlib.text.Text at 0x7ff81693e750>"
      ]
     },
     "execution_count": 8,
     "metadata": {},
     "output_type": "execute_result"
    },
    {
     "data": {
      "image/png": "[encoded data removed]",
      "text/plain": [
       "<matplotlib.figure.Figure at 0x7ff845e9c450>"
      ]
     },
     "metadata": {},
     "output_type": "display_data"
    }
   ],
   "source": [
    "fig, ax = plt.subplots(1,1)\n",
    "major = params['S2']['Semi-Major Axis'][0]\n",
    "minor = params['S2']['Semi-Minor Axis'][0] \n",
    "inc = params['S2']['Inclination'][0]\n",
    "#color is blue if counterclockise (minor<0) and red if clockwise\n",
    "color = 'b' \n",
    "if minor >= 0:\n",
    "    color = 'r'\n",
    "ell = Ellipse(xy=(lons[j,i],lats[j,i]),width = major, \n",
    "              height =minor, angle= inc,\n",
    "              color=color)\n",
    "ax.add_artist(ell)\n",
    "viz_tools.plot_coastline(ax,grid,coords='map')\n",
    "ax.set_xlim([-123.5,-123])\n",
    "ax.set_ylim([48.6,49.2])\n",
    "viz_tools.set_aspect(ax)\n",
    "ax.set_title('S2 ellipse depth averaged over {0:.3}-{1:.3} m'.format(dep[0],dep[-1]))"
   ]
  },
  {
   "cell_type": "markdown",
   "metadata": {},
   "source": [
    "#Case 2: Other simulation files"
   ]
  },
  {
   "cell_type": "markdown",
   "metadata": {},
   "source": [
    "We might want to analyze other simulations outside of the nowcast system. \n",
    "\n",
    "For example, we have a time series of U/V at the VENUS east node from a simulation saved at a 15 minute frequency. To analyze this time series we need to\n",
    "\n",
    "\n",
    "\n",
    "1. Load the data\n",
    "2. Unstagger and rotate the velocity fields to align with north/south. This is achieved with a function called prepare_velocities()\n",
    "3. Create a dictionary object that containts the nodal corrections for our simulation (found in ocean.output)\n",
    "4. Calculate the ellipse paramters with the ellipse_params() function.\n",
    "\n",
    "These steps are shown in each of cells below.\n",
    "\n",
    "Load data:"
   ]
  },
  {
   "cell_type": "code",
   "execution_count": 9,
   "metadata": {
    "collapsed": true
   },
   "outputs": [],
   "source": [
    "grid = '/ocean/mdunn/MEOPAR/jun_VENUS_east_gridded.nc'\n",
    "G = nc.Dataset(grid)\n",
    "u = G.variables['vozocrtx'][:]\n",
    "v = G.variables['vomecrty'][:]\n",
    "dep = G.variables['depthu'][:]\n",
    "\n",
    "#Set up the time array that corresponds to the times of the u and v arrays in hours\n",
    "t = G.variables['time_counter'][:]/3600."
   ]
  },
  {
   "cell_type": "markdown",
   "metadata": {},
   "source": [
    "Rorate and unstagger velocities:"
   ]
  },
  {
   "cell_type": "code",
   "execution_count": 10,
   "metadata": {
    "collapsed": true
   },
   "outputs": [],
   "source": [
    "u_rot,v_rot = ellipse.prepare_vel(u, v, depav=True, depth=dep)"
   ]
  },
  {
   "cell_type": "markdown",
   "metadata": {},
   "source": [
    "Define nodal corrections:"
   ]
  },
  {
   "cell_type": "code",
   "execution_count": 11,
   "metadata": {
    "collapsed": true
   },
   "outputs": [],
   "source": [
    "NodalCorr = {\n",
    "    'K1': {\n",
    "        'ft': 0.763545,\n",
    "        'uvt': 344.740346},\n",
    "    'M2': {\n",
    "        'ft': 1.035390,\n",
    "        'uvt': 346.114490}}\n",
    "\n",
    "nconst = 2"
   ]
  },
  {
   "cell_type": "markdown",
   "metadata": {},
   "source": [
    "Calculate ellipse parameters:"
   ]
  },
  {
   "cell_type": "code",
   "execution_count": 12,
   "metadata": {
    "collapsed": false
   },
   "outputs": [
    {
     "name": "stdout",
     "output_type": "stream",
     "text": [
      "{'Phase': array([[ 284.96515857]]), 'Semi-Major Axis': array([[ 0.34321001]]), 'Semi-Minor Axis': array([[-0.03599698]]), 'Inclination': array([[ 128.21677008]])}\n"
     ]
    }
   ],
   "source": [
    "params = ellipse.get_params(u_rot, v_rot, t, nconst, tidecorr = NodalCorr)\n",
    "print params['K1']"
   ]
  },
  {
   "cell_type": "markdown",
   "metadata": {},
   "source": [
    "The above result is a depth averaged analysis. Like earlier, we also have the flexibilty to analyze a range of depths or a single depth by slicing u and v at the desired model levels before passing to prepare_vel().\n",
    "\n",
    "### Important considerations\n",
    "\n",
    "If you would like to analyze your own tidal currents you need to consider the following:\n",
    "\n",
    "1. Do you have a long enough time series to separate the desired constituents?\n",
    "2. Do you have high frequency output (at least hourly)\n",
    "3. The model U/V are at different physical locations so they must be unstaggered to a common location before performing the harmonics analysis. If you want to analyze the currents at T-point (400,300) then you should subset U and V as\n",
    "\n",
    "$u_{sub} = U[..., 399:401,299:301]$ and $v_{sub} = V[..., 399:401,299:301]$.\n",
    "\n",
    "The result is that $u_{sub}$ and $v_{sub}$ are both of shape (..., 2,2). If you subset this way, then $u_{sub}$ and $v_{sub}$ can be passed into prepare_vel() to perform the unstaggering and rotation.\n",
    "\n",
    "\n",
    "### A note on phase\n",
    "\n",
    "In these calculations, the phase is defined as the time that the current is aligned in the inclination direction with respect to GMT. The inclination is the direction of the maximum currents. Since this happens twice in an ellipse, the convention is to take the inclination to be between 0 and 180 degrees. As such, if the inclination in a region is close to 0 or 180, then the nearby ellipses may abruptly change inclination and it may appear as though the phase has a large discontinuity. The phase should be interpretted with caution."
   ]
  },
  {
   "cell_type": "markdown",
   "metadata": {},
   "source": [
    "## Plotting\n",
    "While we have shown some plotting basics in this notebook, there are many other functions useful for plotting in the notebooks listed below:\n",
    "* [CODAREllipse](http://nbviewer.ipython.org/urls/bitbucket.org/salishsea/analysis/raw/tip/Muriel/CODAREllipse.ipynb) \n",
    "* [TidalEllipsesComparison](http://nbviewer.ipython.org/urls/bitbucket.org/salishsea/analysis/raw/tip/Muriel/TidalEllipsesComparisons.ipynb)\n"
   ]
  },
  {
   "cell_type": "markdown",
   "metadata": {
    "collapsed": true
   },
   "source": [
    "#Future Improvements\n",
    "\n",
    "At the moment, the harmonic analysis can only be performed for up to 8 constituents and in predetermined pairings, but, it may be necessary to expand this functionality. Some recommendations are\n",
    "\n",
    "1. Modify tidetools.fittit() to take a \"fit function\" as an argument rather than a number of constituents. Along this line, it may be necessary to pass the apparam dictionary which stores the amplitude/phase of each constituent as an arugment, rather than construct it inside of the function. \n",
    "2. Nodal corrections are applied in ellipse.get_params(). What will be used for nodal corrections if we analyze constituents that are not forced in the model? How will we find the nodal factors for those constituents?\n",
    "3. Come up with a way to adjust phase to be timing of max flood."
   ]
  },
  {
   "cell_type": "code",
   "execution_count": null,
   "metadata": {
    "collapsed": true
   },
   "outputs": [],
   "source": []
  }
 ],
 "metadata": {
  "kernelspec": {
   "display_name": "Python 2",
   "language": "python",
   "name": "python2"
  },
  "language_info": {
   "codemirror_mode": {
    "name": "ipython",
    "version": 2
   },
   "file_extension": ".py",
   "mimetype": "text/x-python",
   "name": "python",
   "nbconvert_exporter": "python",
   "pygments_lexer": "ipython2",
   "version": "2.7.10"
  }
 },
 "nbformat": 4,
 "nbformat_minor": 0
}
