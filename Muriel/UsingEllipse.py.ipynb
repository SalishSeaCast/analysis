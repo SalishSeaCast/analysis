{
 "cells": [
  {
   "cell_type": "markdown",
   "metadata": {},
   "source": [
    "This notebook will be used to show some functions in ellipse.py and maximize the accessibility of this module."
   ]
  },
  {
   "cell_type": "markdown",
   "metadata": {},
   "source": [
    "#Using the ellipse.py Module\n",
    "The velocities have to be prepared and set up in a certain way before they can be put through the tidal analysis. They need to be orthogonal, rotated to align with N/S, unstaggered and masked.\n",
    "\n",
    "Creating tidal ellipses :\n",
    "\n",
    "* From nowcast files\n",
    "* From any other source\n",
    "* From a source with different nodal correction values"
   ]
  },
  {
   "cell_type": "code",
   "execution_count": 1,
   "metadata": {
    "collapsed": true
   },
   "outputs": [],
   "source": [
    "import os\n",
    "import datetime\n",
    "import matplotlib.pylab as plt\n",
    "from matplotlib.patches import Ellipse\n",
    "import numpy as np\n",
    "from IPython.display import display, Math, Latex\n",
    "import csv\n",
    "import pandas as pd\n",
    "import seaborn as sns\n",
    "from dateutil import tz\n",
    "from scipy.optimize import curve_fit\n",
    "import collections\n",
    "\n",
    "import netCDF4 as nc\n",
    "from salishsea_tools import (viz_tools, tidetools as tt, ellipse, nc_tools)\n",
    "from salishsea_tools.nowcast import (analyze, research_VENUS)\n",
    "\n",
    "\n",
    "%matplotlib inline"
   ]
  },
  {
   "cell_type": "markdown",
   "metadata": {},
   "source": [
    "##Case 1: Nowcast date range"
   ]
  },
  {
   "cell_type": "code",
   "execution_count": 3,
   "metadata": {
    "collapsed": true
   },
   "outputs": [],
   "source": [
    "path = '/data/dlatorne/MEOPAR/SalishSea/nowcast/'\n",
    "\n",
    "\n",
    "#The longer the date range the longer the analysis takes but the more tidal constituents it can resolve\n",
    "to=datetime.datetime(2015,7,10)\n",
    "tf=datetime.datetime(2015,7,11)\n",
    "\n",
    "i = [280]\n",
    "j = [400]"
   ]
  },
  {
   "cell_type": "markdown",
   "metadata": {},
   "source": [
    "ellipse_files_nowcast: finds all the u and v grid files within the date range in the path designated, organises them into chronological order and extracts the locations you have chosen.\n",
    "\n",
    "Notes:\n",
    "\n",
    "* The to and tf must be datetime.datetime objects\n",
    "* The i and j must be in a list, the functions adds on i-1 and j-1 to the list in order to be able to unstagger and maintain the desired area or single location. Therefore 0 cannot be included in i or j\n",
    "* Depthrange is the depth in METERS that you want to look at, for a single value the functions looks for the depth LESS THAN the value you gave, for a range the function will find values WITHIN this range"
   ]
  },
  {
   "cell_type": "code",
   "execution_count": null,
   "metadata": {
    "collapsed": true
   },
   "outputs": [],
   "source": [
    "# The function will extra the velocities at the bin nearest bin that is less than 5m deep.\n",
    "u, v, time, dep = ellipse.ellipse_files_nowcast(to, tf, i, j, path, depthrange=5)"
   ]
  },
  {
   "cell_type": "markdown",
   "metadata": {},
   "source": [
    "prepare_vel: Will do the unstaggering, rotating and depth averaging of the velocity time series.\n",
    "\n",
    "Notes:\n",
    "\n",
    "* If depav = True then there must be a depth vector that is associated with the depth bins of the velocities as the dpeth variable and there must be a more than one depth in the velocity vectors."
   ]
  },
  {
   "cell_type": "code",
   "execution_count": 9,
   "metadata": {
    "collapsed": true
   },
   "outputs": [],
   "source": [
    "u_u, v_v = ellipse.prepare_vel(u, v, depav=False, depth='None')"
   ]
  },
  {
   "cell_type": "markdown",
   "metadata": {},
   "source": [
    "get_param: This will do the actual fit and return a dictionary object of the constituents with and their Semi-Major Axis, Semi-Minor Axis, Inclination and Phase.\n",
    "\n",
    "The constuents are in order of highest importance in the domain and come in pairs. \n",
    "\n",
    "* 2 constituents - M2, K1\n",
    "* 4 constituents - M2, K1, S2, O1\n",
    "* 6 constituents - M2, K1, S2, O1, N2, P1\n",
    "* 8 constituents - M2, K1, S2, O1, N2, P1, K2, Q1"
   ]
  },
  {
   "cell_type": "code",
   "execution_count": 15,
   "metadata": {
    "collapsed": false
   },
   "outputs": [
    {
     "name": "stdout",
     "output_type": "stream",
     "text": [
      "{'Phase': array([[ 359.05007629]]), 'Semi-Major Axis': array([[ 0.08765313]]), 'Semi-Minor Axis': array([[ 0.00176911]]), 'Inclination': array([[ 135.0407882]])}\n"
     ]
    }
   ],
   "source": [
    "params = ellipse.get_params(u_u, v_v, time, 4)\n",
    "print params['S2']"
   ]
  },
  {
   "cell_type": "markdown",
   "metadata": {},
   "source": [
    "#Case 2: Any other type of files"
   ]
  },
  {
   "cell_type": "markdown",
   "metadata": {},
   "source": [
    "To show how to use the ellipse functions in any other type of file I will use he quarter-hourly files output from the locations of the Central and East node"
   ]
  },
  {
   "cell_type": "code",
   "execution_count": 2,
   "metadata": {
    "collapsed": true
   },
   "outputs": [],
   "source": [
    "grid = '/ocean/mdunn/MEOPAR/jun_VENUS_east_gridded.nc'\n",
    "G = nc.Dataset(grid)\n",
    "u = G.variables['vozocrtx'][:]\n",
    "v = G.variables['vomecrty'][:]\n",
    "dep = G.variables['depthu'][:]\n",
    "\n",
    "#Set up the time array that corresponds to the times of the u and v arrays in hours\n",
    "t = G.variables['time_counter'][:]/3600."
   ]
  },
  {
   "cell_type": "markdown",
   "metadata": {},
   "source": [
    "When analyzing for 6 or 8 tidal constituents you need a longer time series, athere will be an error if it is much too short.\n",
    "\n",
    "The u and v arrays always have to be set up as [time, depth, x, y]. If there is only one depth [time, x, y] or one location [time, depth] or one depth and one location [time]"
   ]
  },
  {
   "cell_type": "code",
   "execution_count": 21,
   "metadata": {
    "collapsed": false
   },
   "outputs": [
    {
     "name": "stdout",
     "output_type": "stream",
     "text": [
      "[[ 251.18831966]]\n"
     ]
    }
   ],
   "source": [
    "u_u,v_v = ellipse.prepare_vel(u, v, depav=True, depth=dep)\n",
    "\n",
    "params = ellipse.get_params(u_u,v_v,t, 6)\n",
    "print params['K1']['Phase']"
   ]
  },
  {
   "cell_type": "markdown",
   "metadata": {
    "collapsed": true
   },
   "source": [
    "##Case 3: The nodal correction dictionary"
   ]
  },
  {
   "cell_type": "markdown",
   "metadata": {},
   "source": [
    "The functions assume you will be using the nodal corrections that are set by the nowcast. If this is not the case you have to set your own dictionary object with the correct values in it."
   ]
  },
  {
   "cell_type": "code",
   "execution_count": 5,
   "metadata": {
    "collapsed": true
   },
   "outputs": [],
   "source": [
    "NodalCorr = {\n",
    "    'K1': {\n",
    "        'freq': 30.082138,\n",
    "        'ft': 0.763545,\n",
    "        'uvt': 344.740346},\n",
    "    'M2': {\n",
    "        'freq': 28.984106,\n",
    "        'ft': 1.035390,\n",
    "        'uvt': 346.114490}}"
   ]
  },
  {
   "cell_type": "code",
   "execution_count": 8,
   "metadata": {
    "collapsed": false
   },
   "outputs": [],
   "source": [
    "u_u,v_v = ellipse.prepare_vel(u, v, depav=True, depth=dep)\n",
    "# In ellipse param set the tidecorr to be the correct dictionary.\n",
    "params = ellipse.get_params(u_u,v_v,time, 2, tidecorr=NodalCorr)"
   ]
  },
  {
   "cell_type": "code",
   "execution_count": 9,
   "metadata": {
    "collapsed": false
   },
   "outputs": [
    {
     "name": "stdout",
     "output_type": "stream",
     "text": [
      "{'Phase': array([[ 284.96515857]]), 'Semi-Major Axis': array([[ 0.34321001]]), 'Semi-Minor Axis': array([[-0.03599698]]), 'Inclination': array([[ 128.21677008]])}\n"
     ]
    }
   ],
   "source": [
    "print params['K1']"
   ]
  },
  {
   "cell_type": "markdown",
   "metadata": {},
   "source": [
    "## Plotting\n",
    "The functions to plot the ellipses are going to vary alot based on the area, constituent, amount, and the purpose of the figure.\n",
    "There are many examples in [CODAREllips](http://nbviewer.ipython.org/urls/bitbucket.org/salishsea/analysis/raw/tip/Muriel/CODAREllipse.ipynb) and in [TidalEllipsesComparison](http://nbviewer.ipython.org/urls/bitbucket.org/salishsea/analysis/raw/tip/Muriel/TidalEllipsesComparisons.ipynb)\n"
   ]
  },
  {
   "cell_type": "code",
   "execution_count": null,
   "metadata": {
    "collapsed": true
   },
   "outputs": [],
   "source": []
  }
 ],
 "metadata": {
  "kernelspec": {
   "display_name": "Python 2",
   "language": "python",
   "name": "python2"
  },
  "language_info": {
   "codemirror_mode": {
    "name": "ipython",
    "version": 2
   },
   "file_extension": ".py",
   "mimetype": "text/x-python",
   "name": "python",
   "nbconvert_exporter": "python",
   "pygments_lexer": "ipython2",
   "version": "2.7.10"
  }
 },
 "nbformat": 4,
 "nbformat_minor": 0
}
