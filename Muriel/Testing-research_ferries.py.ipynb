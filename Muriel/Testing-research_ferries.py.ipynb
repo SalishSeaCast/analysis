{
 "cells": [
  {
   "cell_type": "code",
   "execution_count": 1,
   "metadata": {
    "collapsed": false
   },
   "outputs": [],
   "source": [
    "import os\n",
    "import datetime\n",
    "import matplotlib.pylab as plt\n",
    "import numpy as np\n",
    "import pandas as pd\n",
    "import glob\n",
    "import scipy.io as sio\n",
    "\n",
    "import netCDF4 as nc\n",
    "from salishsea_tools import tidetools\n",
    "from nowcast import (analyze, figures, research_ferries_test as rft)\n",
    "\n",
    "%matplotlib inline"
   ]
  },
  {
   "cell_type": "code",
   "execution_count": 20,
   "metadata": {
    "collapsed": true
   },
   "outputs": [],
   "source": [
    "from importlib import reload"
   ]
  },
  {
   "cell_type": "code",
   "execution_count": 10,
   "metadata": {
    "collapsed": false
   },
   "outputs": [
    {
     "name": "stdout",
     "output_type": "stream",
     "text": [
      "2015-12-07 00:00:00\n"
     ]
    }
   ],
   "source": [
    "today = datetime.datetime.today()\n",
    "yesterday = today - datetime.timedelta(days=12)\n",
    "tomorrow = today + datetime.timedelta(days=1)\n",
    "period = '1h'\n",
    "grid = 'grid_T'\n",
    "dmy = '07dec15'\n",
    "date = datetime.datetime.strptime(dmy, \"%d%b%y\")\n",
    "dmyf = '06dec15'\n",
    "datef = datetime.datetime.strptime(dmyf, \"%d%b%y\")\n",
    "print(date)"
   ]
  },
  {
   "cell_type": "markdown",
   "metadata": {},
   "source": [
    "Step 0: Load the datasets and files that are available in nowcast/make_plots. \n",
    "These will be used as inputs, not to be reloaded in the module"
   ]
  },
  {
   "cell_type": "code",
   "execution_count": 34,
   "metadata": {
    "collapsed": false
   },
   "outputs": [],
   "source": [
    "grid_T_hr = nc.Dataset(analyze.get_filenames(yesterday, tomorrow, period, grid, '/results/SalishSea/nowcast/')[0])\n",
    "coastline = sio.loadmat('/ocean/rich/more/mmapbase/bcgeo/PNW.mat')\n",
    "bathy, X, Y = tidetools.get_SS2_bathy_data()"
   ]
  },
  {
   "cell_type": "markdown",
   "metadata": {},
   "source": [
    "## A : Preparing ferry data\n",
    "Step 1: Get ferry data"
   ]
  },
  {
   "cell_type": "code",
   "execution_count": 35,
   "metadata": {
    "collapsed": false
   },
   "outputs": [
    {
     "data": {
      "text/plain": [
       "<module 'nowcast.research_ferries_test' from '/ocean/mdunn/MEOPAR/tools/SalishSeaNowcast/nowcast/research_ferries_test.py'>"
      ]
     },
     "execution_count": 35,
     "metadata": {},
     "output_type": "execute_result"
    }
   ],
   "source": [
    "reload(rft)"
   ]
  },
  {
   "cell_type": "code",
   "execution_count": 11,
   "metadata": {
    "collapsed": false
   },
   "outputs": [],
   "source": [
    "obs = rft._get_sal_data('TWDP', dmyf)"
   ]
  },
  {
   "cell_type": "markdown",
   "metadata": {},
   "source": [
    "Step 2: Slicing ferry data"
   ]
  },
  {
   "cell_type": "code",
   "execution_count": 12,
   "metadata": {
    "collapsed": false
   },
   "outputs": [
    {
     "name": "stdout",
     "output_type": "stream",
     "text": [
      "2015-12-07 03:00:00\n"
     ]
    }
   ],
   "source": [
    "route_name='TWDP'\n",
    "start_time = date.replace(hour=rft.route[route_name]['start']['hour'], minute=rft.route[route_name]['start']['minute'])\n",
    "end_time = date.replace(hour=rft.route[route_name]['end']['hour'], minute=rft.route[route_name]['end']['minute'])\n",
    "print(start_time)"
   ]
  },
  {
   "cell_type": "code",
   "execution_count": 49,
   "metadata": {
    "collapsed": false
   },
   "outputs": [
    {
     "name": "stdout",
     "output_type": "stream",
     "text": [
      "[-123.44653029 -123.42497914 -123.40323453 -123.38139788 -123.35941705\n",
      " -123.33458341 -123.3092457  -123.28389498 -123.25834522 -123.23297168\n",
      " -123.20718208 -123.18179465 -123.1568823  -123.13731329]\n"
     ]
    }
   ],
   "source": [
    "obs_sal = rft.ferry_salinity('TWDP', dmyf, dmy)\n",
    "print(obs_sal[1])"
   ]
  },
  {
   "cell_type": "markdown",
   "metadata": {},
   "source": [
    "## B: Preparing model data"
   ]
  },
  {
   "cell_type": "code",
   "execution_count": 42,
   "metadata": {
    "collapsed": false
   },
   "outputs": [
    {
     "name": "stdout",
     "output_type": "stream",
     "text": [
      "2.12874e+06\n"
     ]
    }
   ],
   "source": [
    "sal3, sal4 = rft.nemo_salinity('TWDP', grid_T_hr)"
   ]
  },
  {
   "cell_type": "markdown",
   "metadata": {},
   "source": [
    "## C: Find corresponding model point to obs data"
   ]
  },
  {
   "cell_type": "code",
   "execution_count": 51,
   "metadata": {
    "collapsed": false
   },
   "outputs": [
    {
     "data": {
      "text/plain": [
       "(429, 269)"
      ]
     },
     "execution_count": 51,
     "metadata": {},
     "output_type": "execute_result"
    }
   ],
   "source": [
    "tidetools.find_closest_model_point(obs_sal[1,1], obs_sal[2,1], X, Y, bathy, lat_tol=0.00210)"
   ]
  },
  {
   "cell_type": "code",
   "execution_count": null,
   "metadata": {
    "collapsed": true
   },
   "outputs": [],
   "source": []
  }
 ],
 "metadata": {
  "kernelspec": {
   "display_name": "Python 3",
   "language": "python",
   "name": "python3"
  },
  "language_info": {
   "codemirror_mode": {
    "name": "ipython",
    "version": 3
   },
   "file_extension": ".py",
   "mimetype": "text/x-python",
   "name": "python",
   "nbconvert_exporter": "python",
   "pygments_lexer": "ipython3",
   "version": "3.5.0"
  }
 },
 "nbformat": 4,
 "nbformat_minor": 0
}
