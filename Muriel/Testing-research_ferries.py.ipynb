{
 "cells": [
  {
   "cell_type": "code",
   "execution_count": 206,
   "metadata": {
    "collapsed": false
   },
   "outputs": [],
   "source": [
    "import os\n",
    "import datetime\n",
    "import matplotlib.pylab as plt\n",
    "import numpy as np\n",
    "import pandas as pd\n",
    "import glob\n",
    "import scipy.io as sio\n",
    "\n",
    "import netCDF4 as nc\n",
    "from salishsea_tools import tidetools\n",
    "from nowcast import (analyze, figures, research_ferries_test as rft)\n",
    "\n",
    "%matplotlib inline"
   ]
  },
  {
   "cell_type": "code",
   "execution_count": 2,
   "metadata": {
    "collapsed": true
   },
   "outputs": [],
   "source": [
    "from importlib import reload"
   ]
  },
  {
   "cell_type": "code",
   "execution_count": 385,
   "metadata": {
    "collapsed": false
   },
   "outputs": [
    {
     "name": "stdout",
     "output_type": "stream",
     "text": [
      "2015-12-07 00:00:00\n"
     ]
    }
   ],
   "source": [
    "today = datetime.datetime.today()\n",
    "yesterday = today - datetime.timedelta(days=12)\n",
    "tomorrow = today + datetime.timedelta(days=1)\n",
    "period = '1h'\n",
    "grid = 'grid_T'\n",
    "dmy = '07dec15'\n",
    "date = datetime.datetime.strptime(dmy, \"%d%b%y\")\n",
    "print(date)"
   ]
  },
  {
   "cell_type": "code",
   "execution_count": 379,
   "metadata": {
    "collapsed": false
   },
   "outputs": [
    {
     "data": {
      "text/plain": [
       "'20151208'"
      ]
     },
     "execution_count": 379,
     "metadata": {},
     "output_type": "execute_result"
    }
   ],
   "source": [
    "date = datetime.datetime.strptime(dmy, \"%d%b%y\")\n",
    "date.strftime('%Y%m%d')"
   ]
  },
  {
   "cell_type": "markdown",
   "metadata": {},
   "source": [
    "Step 0: Load the datasets and files that are available in nowcast/make_plots \n",
    "These will be used as inputs, not to be reloaded in the module)"
   ]
  },
  {
   "cell_type": "code",
   "execution_count": 357,
   "metadata": {
    "collapsed": false
   },
   "outputs": [],
   "source": [
    "grid_T = nc.Dataset(analyze.get_filenames(yesterday, tomorrow, period, grid, '/results/SalishSea/nowcast/')[0])\n",
    "coastline = sio.loadmat('/ocean/rich/more/mmapbase/bcgeo/PNW.mat')\n",
    "bathy, X, Y = tidetools.get_SS2_bathy_data()"
   ]
  },
  {
   "cell_type": "markdown",
   "metadata": {},
   "source": [
    "## A : Preparing ferry data\n",
    "Step 1: Get ferry data"
   ]
  },
  {
   "cell_type": "code",
   "execution_count": 383,
   "metadata": {
    "collapsed": false
   },
   "outputs": [
    {
     "data": {
      "text/plain": [
       "<module 'nowcast.research_ferries_test' from '/ocean/mdunn/MEOPAR/tools/SalishSeaNowcast/nowcast/research_ferries_test.py'>"
      ]
     },
     "execution_count": 383,
     "metadata": {},
     "output_type": "execute_result"
    }
   ],
   "source": [
    "reload(rft)"
   ]
  },
  {
   "cell_type": "code",
   "execution_count": 386,
   "metadata": {
    "collapsed": false
   },
   "outputs": [],
   "source": [
    "obs = rft._get_sal_data('TWDP', dmy)"
   ]
  },
  {
   "cell_type": "markdown",
   "metadata": {},
   "source": [
    "Step 2: Slicing ferry data"
   ]
  },
  {
   "cell_type": "code",
   "execution_count": 368,
   "metadata": {
    "collapsed": false
   },
   "outputs": [
    {
     "name": "stdout",
     "output_type": "stream",
     "text": [
      "2015-12-08 03:00:00\n"
     ]
    }
   ],
   "source": [
    "route_name='TWDP'\n",
    "start_time = date.replace(hour=rft.route[route_name]['start']['hour'], minute=rft.route[route_name]['start']['minute'])\n",
    "end_time = date.replace(hour=rft.route[route_name]['end']['hour'], minute=rft.route[route_name]['end']['minute'])\n",
    "print(start_time)"
   ]
  },
  {
   "cell_type": "code",
   "execution_count": 392,
   "metadata": {
    "collapsed": false
   },
   "outputs": [
    {
     "data": {
      "text/plain": [
       "(3, 31)"
      ]
     },
     "execution_count": 392,
     "metadata": {},
     "output_type": "execute_result"
    }
   ],
   "source": [
    "time_obs = rft.datenum2datetime(obs[0])\n",
    "df = pd.DataFrame(time_obs)\n",
    "j = np.logical_and(df>start_time, df<end_time)\n",
    "j = np.array(j)\n",
    "obs_route = obs[1:4,j]\n",
    "obs_route[:,1:-1:20].shape\n"
   ]
  },
  {
   "cell_type": "markdown",
   "metadata": {},
   "source": [
    "## B: Preparing model data"
   ]
  },
  {
   "cell_type": "code",
   "execution_count": null,
   "metadata": {
    "collapsed": true
   },
   "outputs": [],
   "source": []
  }
 ],
 "metadata": {
  "kernelspec": {
   "display_name": "Python 3",
   "language": "python",
   "name": "python3"
  },
  "language_info": {
   "codemirror_mode": {
    "name": "ipython",
    "version": 3
   },
   "file_extension": ".py",
   "mimetype": "text/x-python",
   "name": "python",
   "nbconvert_exporter": "python",
   "pygments_lexer": "ipython3",
   "version": "3.5.0"
  }
 },
 "nbformat": 4,
 "nbformat_minor": 0
}
