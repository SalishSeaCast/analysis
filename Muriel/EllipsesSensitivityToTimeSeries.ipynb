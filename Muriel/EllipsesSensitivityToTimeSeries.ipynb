{
 "cells": [
  {
   "cell_type": "markdown",
   "metadata": {},
   "source": [
    "This notebook will be used to test the sensitivity of tidal ellipses from the model output based on data series variations such as length, frequency and seasonality."
   ]
  },
  {
   "cell_type": "code",
   "execution_count": 2,
   "metadata": {
    "collapsed": true
   },
   "outputs": [],
   "source": [
    "import matplotlib.pyplot as plt\n",
    "import numpy as np\n",
    "import datetime\n",
    "import netCDF4 as nc\n",
    "from dateutil import tz\n",
    "import os\n",
    "from glob import glob\n",
    "\n",
    "from salishsea_tools import(viz_tools, tidetools, nc_tools)\n",
    "from salishsea_tools.nowcast import (analyze, figures, research_VENUS)\n",
    "from IPython.display import Image\n",
    "import datetime\n",
    "\n",
    "%matplotlib inline"
   ]
  },
  {
   "cell_type": "markdown",
   "metadata": {},
   "source": [
    "##1. Frequency\n",
    "The model has been giving an ouput for tracers and velocities every 15 minutes since Myy 9th 2015. This section will compare the tidal ellipses of the hourly data and the quarter-hourly data between the 9th and 31st of May 2015."
   ]
  },
  {
   "cell_type": "markdown",
   "metadata": {},
   "source": [
    "The data has "
   ]
  },
  {
   "cell_type": "code",
   "execution_count": null,
   "metadata": {
    "collapsed": true
   },
   "outputs": [],
   "source": []
  }
 ],
 "metadata": {
  "kernelspec": {
   "display_name": "Python 2",
   "language": "python",
   "name": "python2"
  },
  "language_info": {
   "codemirror_mode": {
    "name": "ipython",
    "version": 2
   },
   "file_extension": ".py",
   "mimetype": "text/x-python",
   "name": "python",
   "nbconvert_exporter": "python",
   "pygments_lexer": "ipython2",
   "version": "2.7.10"
  }
 },
 "nbformat": 4,
 "nbformat_minor": 0
}
