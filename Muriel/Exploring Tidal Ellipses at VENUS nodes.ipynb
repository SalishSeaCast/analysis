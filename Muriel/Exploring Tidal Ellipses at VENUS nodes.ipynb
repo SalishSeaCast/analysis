{
 "cells": [
  {
   "cell_type": "markdown",
   "metadata": {},
   "source": [
    "This notebook willbe used to explore the tidal ellipses conversions and manipulation at the VENUS nodes."
   ]
  },
  {
   "cell_type": "markdown",
   "metadata": {},
   "source": [
    "##Loading and Preparing Data\n",
    "First we import all the necessary packages"
   ]
  },
  {
   "cell_type": "code",
   "execution_count": 23,
   "metadata": {
    "collapsed": true
   },
   "outputs": [],
   "source": [
    "import os\n",
    "import matplotlib.pylab as plt\n",
    "import matplotlib.ticker as ticker\n",
    "from matplotlib.patches import Ellipse\n",
    "import numpy as np\n",
    "from IPython.display import display, Math, Latex\n",
    "\n",
    "import netCDF4 as nc\n",
    "from scipy.optimize import curve_fit\n",
    "from salishsea_tools import tidetools\n",
    "from salishsea_tools import viz_tools\n",
    "from salishsea_tools.nowcast import research_VENUS\n",
    "\n",
    "%matplotlib inline\n"
   ]
  },
  {
   "cell_type": "markdown",
   "metadata": {},
   "source": [
    "Now we import the bathymetry of the model"
   ]
  },
  {
   "cell_type": "code",
   "execution_count": 7,
   "metadata": {
    "collapsed": false
   },
   "outputs": [],
   "source": [
    "grid_B = nc.Dataset('/data/dlatorne/MEOPAR/NEMO-forcing/grid/bathy_meter_SalishSea2.nc')\n",
    "lats = grid.variables['nav_lat'][:]\n",
    "lons = grid.variables['nav_lon'][:]\n",
    "bathy = grid.variables['Bathymetry']"
   ]
  },
  {
   "cell_type": "markdown",
   "metadata": {},
   "source": [
    "Next, we need the quarter-hourly updated u and v velocities from the model at the VENUS nodes"
   ]
  },
  {
   "cell_type": "code",
   "execution_count": 35,
   "metadata": {
    "collapsed": true
   },
   "outputs": [],
   "source": [
    "filec = '/data/dlatorne/MEOPAR/SalishSea/nowcast/20may15/VENUS_central_gridded.nc'\n",
    "filee = '/data/dlatorne/MEOPAR/SalishSea/nowcast/20may15/VENUS_east_gridded.nc'\n",
    "\n",
    "grid_c = nc.Dataset(filec)\n",
    "grid_e = nc.Dataset(filee)\n",
    "\n",
    "u_u_c = grid_c.variables['vozocrtx']\n",
    "v_v_c = grid_c.variables['vomecrty']\n",
    "w_w_c = grid_c.variables['vovecrtz']\n",
    "dep_t_c = grid_c.variables['depthv']\n",
    "dep_w_c = grid_c.variables['depthw']\n",
    "time_c = grid_c.variables['time_counter'][:]/3600.\n",
    "\n",
    "u_u_e = grid_e.variables['vozocrtx']\n",
    "v_v_e = grid_e.variables['vomecrty']\n",
    "w_w_e = grid_e.variables['vovecrtz']\n",
    "dep_t_e = grid_e.variables['depthv']\n",
    "dep_w_e = grid_e.variables['depthw']\n",
    "time_e = grid_e.variables['time_counter'][:]/3600."
   ]
  },
  {
   "cell_type": "markdown",
   "metadata": {},
   "source": [
    "We must unstagger and rotate the u and v velocities to have them be evaluated at the same center grid point then rotated to have u as the East/West velocities and v as the North/South velocities."
   ]
  },
  {
   "cell_type": "code",
   "execution_count": 59,
   "metadata": {
    "collapsed": true
   },
   "outputs": [],
   "source": [
    "u_c, v_c=research_VENUS.unstag_rot_gridded(u_u_c, v_v_c, 'Central')\n",
    "u_e, v_e=research_VENUS.unstag_rot_gridded(u_u_e, v_v_e, 'East')\n"
   ]
  },
  {
   "cell_type": "markdown",
   "metadata": {},
   "source": [
    "##Set-up Tide Information\n",
    "We will allocate space for the tidal components M2 and K1 for each u and c and set the frequencies of these two tidal component, these are already known."
   ]
  },
  {
   "cell_type": "code",
   "execution_count": 62,
   "metadata": {
    "collapsed": false
   },
   "outputs": [],
   "source": [
    "M2freq = 28.984106 # degrees per hour\n",
    "M2freq = M2freq*np.pi/180. # radians per hour\n",
    "K1freq = 15.041069*np.pi/180.\n",
    "\n",
    "thesize=40\n",
    "\n",
    "vM2amp = np.zeros(thesize); vM2pha = np.zeros(thesize)\n",
    "vK1amp = np.zeros(thesize); vK1pha = np.zeros(thesize)\n",
    "uM2amp = np.zeros(thesize); uM2pha = np.zeros(thesize)\n",
    "uK1amp = np.zeros(thesize); uK1pha = np.zeros(thesize)"
   ]
  },
  {
   "cell_type": "markdown",
   "metadata": {},
   "source": [
    "Now this is the function we will try to fit to our model:"
   ]
  },
  {
   "cell_type": "code",
   "execution_count": 49,
   "metadata": {
    "collapsed": false
   },
   "outputs": [
    {
     "data": {
      "text/latex": [
       "$$u = mean + A_{M2}cos(w_{M2}t-\\theta_{M2}) + A_{K1}cos(w_{K1}t-\\theta_{K1})$$"
      ],
      "text/plain": [
       "<IPython.core.display.Math object>"
      ]
     },
     "metadata": {},
     "output_type": "display_data"
    },
    {
     "data": {
      "text/latex": [
       "$$v = mean + A_{M2}cos(w_{M2}t-\\theta_{M2}) + A_{K1}cos(w_{K1}t-\\theta_{K1})$$"
      ],
      "text/plain": [
       "<IPython.core.display.Math object>"
      ]
     },
     "metadata": {},
     "output_type": "display_data"
    }
   ],
   "source": [
    "display(Math(r'u = mean + A_{M2}cos(w_{M2}t-\\theta_{M2}) + A_{K1}cos(w_{K1}t-\\theta_{K1})'))\n",
    "display(Math(r'v = mean + A_{M2}cos(w_{M2}t-\\theta_{M2}) + A_{K1}cos(w_{K1}t-\\theta_{K1})'))"
   ]
  },
  {
   "cell_type": "markdown",
   "metadata": {},
   "source": [
    "This assumes the current is only affected by M2 and K1 which is not true but a good approsimation because they are the two major components at the chosen locations"
   ]
  },
  {
   "cell_type": "code",
   "execution_count": 50,
   "metadata": {
    "collapsed": true
   },
   "outputs": [],
   "source": [
    "# function for fit, this assumes two tides only\n",
    "def double(x, M2amp, M2pha, K1amp, K1pha, mean):\n",
    "    return (mean + M2amp*np.cos(M2freq*x-M2pha*np.pi/180.)+\n",
    "            K1amp*np.cos(K1freq*x-K1pha*np.pi/180.))"
   ]
  },
  {
   "cell_type": "code",
   "execution_count": 63,
   "metadata": {
    "collapsed": false
   },
   "outputs": [],
   "source": [
    "# function to do the fitting and actually find the tidal components\n",
    "def fittit_ (uaus, vaus, time, dj=1):\n",
    "    for dep in np.arange(1,40):\n",
    "        if vaus[:,:].any() != 0.:\n",
    "            fitted, cov = curve_fit(double,time[:],vaus[:,dep]) \n",
    "            if fitted[0] < 0:\n",
    "                fitted[0] = -fitted[0]\n",
    "                fitted[1] = fitted[1]+180.\n",
    "            if fitted[1] > 180:\n",
    "                fitted[1] = fitted[1] - 360.\n",
    "            elif fitted[1] < -180-360:\n",
    "                fitted[1] = fitted[1] + 720.\n",
    "            elif fitted [1] < -180:\n",
    "                fitted[1] = fitted[1] + 360.\n",
    "            if fitted[2] < 0:\n",
    "                fitted[2] = -fitted[2]\n",
    "                fitted[3] = fitted[3]+180.\n",
    "            vM2amp[dep] = fitted[0]\n",
    "            vM2pha[dep] = fitted[1]\n",
    "            vK1amp[dep] = fitted[2]\n",
    "            vK1pha[dep] = fitted[3]\n",
    "    for dep in np.arange(1,40):\n",
    "        if uaus[:,:].any() !=0.:\n",
    "            fitted, cov = curve_fit(double,time[:],uaus[:,dep]) \n",
    "            if fitted[0] < 0:\n",
    "                fitted[0] = -fitted[0]\n",
    "                fitted[1] = fitted[1]+180.\n",
    "            if fitted[1] > 180+360:\n",
    "                fitted[1] = fitted[1] -720\n",
    "            elif fitted[1] > 180:\n",
    "                fitted[1] = fitted[1] - 360.\n",
    "            elif fitted[1] < -180-360:\n",
    "                fitted[1] = fitted[1] + 720.\n",
    "            elif fitted [1] < -180:\n",
    "                fitted[1] = fitted[1] + 360.\n",
    "            if fitted[2] < 0:\n",
    "                fitted[2] = -fitted[2]\n",
    "                fitted[3] = fitted[3]+180.\n",
    "            uM2amp[dep] = fitted[0]\n",
    "            uM2pha[dep] = fitted[1]\n",
    "            uK1amp[dep] = fitted[2]\n",
    "            uK1pha[dep] = fitted[3]\n",
    "        return vM2amp, vM2pha, vK1amp, vK1pha, uM2amp, uM2pha, uK1amp, uK1pha"
   ]
  },
  {
   "cell_type": "markdown",
   "metadata": {},
   "source": [
    "Now we will run the fit for the Central and East nodes"
   ]
  },
  {
   "cell_type": "code",
   "execution_count": 68,
   "metadata": {
    "collapsed": false
   },
   "outputs": [
    {
     "name": "stdout",
     "output_type": "stream",
     "text": [
      "0.0 0.0 0.161329963644 -36.9148475965\n"
     ]
    }
   ],
   "source": [
    "vM2amp, vM2pha, vK1amp, vK1pha, uM2amp, uM2pha, uK1amp, uK1pha = fittit (u_c, v_c, \n",
    "                                                                         time_c)\n",
    "\n",
    "print uM2amp[22],uM2pha[22],vM2amp[22],vM2pha[22]"
   ]
  },
  {
   "cell_type": "code",
   "execution_count": null,
   "metadata": {
    "collapsed": true
   },
   "outputs": [],
   "source": []
  }
 ],
 "metadata": {
  "kernelspec": {
   "display_name": "Python 2",
   "language": "python",
   "name": "python2"
  },
  "language_info": {
   "codemirror_mode": {
    "name": "ipython",
    "version": 2
   },
   "file_extension": ".py",
   "mimetype": "text/x-python",
   "name": "python",
   "nbconvert_exporter": "python",
   "pygments_lexer": "ipython2",
   "version": "2.7.9"
  }
 },
 "nbformat": 4,
 "nbformat_minor": 0
}
