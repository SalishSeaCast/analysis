{
 "cells": [
  {
   "cell_type": "markdown",
   "metadata": {},
   "source": [
    "This notebook will be used to compare the tidal ellipses of the hourly data and the 15 minute data at the VENUS nodes. This notebook will be very similar to Exploring Tidal Ellipses at VENUS nodes."
   ]
  },
  {
   "cell_type": "markdown",
   "metadata": {},
   "source": [
    "#Loading the Hourly Data"
   ]
  },
  {
   "cell_type": "markdown",
   "metadata": {},
   "source": [
    "Since this notebook is very similar to Exploring Tidal Ellipses at VENUS nodes there is missing alot of explanations. For more details or to make the comparisons go to : http://nbviewer.ipython.org/urls/bitbucket.org/salishsea/analysis/raw/tip/Muriel/Exploring%20Tidal%20Ellipses%20at%20VENUS%20nodes.ipynb)"
   ]
  },
  {
   "cell_type": "code",
   "execution_count": 9,
   "metadata": {
    "collapsed": true
   },
   "outputs": [],
   "source": [
    "import os\n",
    "import glob\n",
    "import datetime\n",
    "import matplotlib.pylab as plt\n",
    "import matplotlib.ticker as ticker\n",
    "from matplotlib.patches import Ellipse\n",
    "import numpy as np\n",
    "from IPython.display import display, Math, Latex\n",
    "\n",
    "import netCDF4 as nc\n",
    "from scipy.optimize import curve_fit\n",
    "from salishsea_tools import (viz_tools,tidetools, nc_tools)\n",
    "from salishsea_tools.nowcast import (research_VENUS, analyze)\n",
    "\n",
    "%matplotlib inline"
   ]
  },
  {
   "cell_type": "code",
   "execution_count": 10,
   "metadata": {
    "collapsed": true
   },
   "outputs": [],
   "source": [
    "grid_B = nc.Dataset('/data/dlatorne/MEOPAR/NEMO-forcing/grid/bathy_meter_SalishSea2.nc')\n",
    "lats = grid_B.variables['nav_lat'][:]\n",
    "lons = grid_B.variables['nav_lon'][:]\n",
    "bathy = grid_B.variables['Bathymetry'][:,:]"
   ]
  },
  {
   "cell_type": "code",
   "execution_count": 11,
   "metadata": {
    "collapsed": true
   },
   "outputs": [],
   "source": [
    "def combine_t(files, var):\n",
    "    \"\"\"function to combine a model variable from a list of many files. \n",
    "    Returns an array of the variabel and associated model times.\n",
    "    Only for variables with one dimension, ex: time counter and depth\n",
    "    \"\"\"\n",
    "    #empty arrays\n",
    "    time = np.array([])\n",
    "    var_list=[]\n",
    "\n",
    "    for f in files:\n",
    "        G = nc.Dataset(f)\n",
    "        var_tmp = G.variables[var][:]\n",
    "        #append variable to array\n",
    "        var_list.append(var_tmp)\n",
    "        \n",
    "    var_ary=np.concatenate(var_list,axis=0)\n",
    "    return var_ary"
   ]
  },
  {
   "cell_type": "code",
   "execution_count": 12,
   "metadata": {
    "collapsed": false
   },
   "outputs": [],
   "source": [
    "path = '/data/dlatorne/MEOPAR/SalishSea/nowcast/'\n",
    "files = glob.glob(os.path.join(path,'*','SalishSea_1h_*_grid_U.nc'))\n",
    "\n",
    "filesu = []\n",
    "for f in files:\n",
    "    directory=os.path.dirname(f)\n",
    "    filesu.append(glob.glob(os.path.join(directory,'SalishSea_1h_*_grid_U.nc'))[0])\n",
    "filesu.sort(key=os.path.basename)\n",
    "\n",
    "\n",
    "filesv = []\n",
    "for f in files:\n",
    "    directory=os.path.dirname(f)\n",
    "    filesv.append(glob.glob(os.path.join(directory,'SalishSea_1h_*_grid_V.nc'))[0])\n",
    "filesv.sort(key=os.path.basename)\n"
   ]
  },
  {
   "cell_type": "code",
   "execution_count": 23,
   "metadata": {
    "collapsed": false
   },
   "outputs": [
    {
     "name": "stdout",
     "output_type": "stream",
     "text": [
      "31\n"
     ]
    }
   ],
   "source": [
    "to=datetime.datetime(2015,1,1)\n",
    "tf=datetime.datetime(2015,1,31)\n",
    "filesu=analyze.get_filenames(to,tf, '1h', 'grid_U', path)\n",
    "filesv=analyze.get_filenames(to,tf,'1h', 'grid_V', path)\n",
    "print len(filesu)"
   ]
  },
  {
   "cell_type": "code",
   "execution_count": 26,
   "metadata": {
    "collapsed": false
   },
   "outputs": [
    {
     "data": {
      "text/plain": [
       "(744, 40, 2, 2)"
      ]
     },
     "execution_count": 26,
     "metadata": {},
     "output_type": "execute_result"
    }
   ],
   "source": [
    "u_u_c, time = analyze.combine_files(filesu, 'vozocrtx','None',[423,425], [265,267])\n",
    "v_v_c, time = analyze.combine_files(filesv, 'vomecrty','None',[423,425], [265,267])\n",
    "time_c = combine_t(filesu, 'time_counter')\n",
    "dep_t_c = combine_t(filesv, 'depthv')\n",
    "time_c = time_c/3600\n",
    "\n",
    "u_u_e, time = analyze.combine_files(filesu, 'vozocrtx','None',[415,417], [282,284])\n",
    "v_v_e, time = analyze.combine_files(filesv, 'vomecrty','None',[415,417], [282,284])\n",
    "time_e = combine_t(filesu, 'time_counter')\n",
    "dep_t_e = combine_t(filesv, 'depthv')\n",
    "time_e = time_e/3600\n",
    "\n",
    "u_u_c.shape"
   ]
  },
  {
   "cell_type": "code",
   "execution_count": 27,
   "metadata": {
    "collapsed": false
   },
   "outputs": [
    {
     "data": {
      "text/plain": [
       "(744, 40, 2, 2)"
      ]
     },
     "execution_count": 27,
     "metadata": {},
     "output_type": "execute_result"
    }
   ],
   "source": [
    "u_u_c.shape"
   ]
  },
  {
   "cell_type": "code",
   "execution_count": 28,
   "metadata": {
    "collapsed": false
   },
   "outputs": [
    {
     "data": {
      "text/plain": [
       "(744, 40)"
      ]
     },
     "execution_count": 28,
     "metadata": {},
     "output_type": "execute_result"
    }
   ],
   "source": [
    "u_u_0 = np.ma.masked_values(u_u_e, 0)\n",
    "v_v_0 = np.ma.masked_values(v_v_e, 0)\n",
    "u_u_0c = np.ma.masked_values(u_u_c, 0)\n",
    "v_v_0c = np.ma.masked_values(v_v_c, 0)\n",
    "\n",
    "u_c, v_c=research_VENUS.unstag_rot_gridded(u_u_0c, v_v_0c, 'Central')\n",
    "u_e, v_e=research_VENUS.unstag_rot_gridded(u_u_0, v_v_0, 'East')\n",
    "u_c.shape"
   ]
  },
  {
   "cell_type": "markdown",
   "metadata": {},
   "source": [
    "#Setting up the tides"
   ]
  },
  {
   "cell_type": "code",
   "execution_count": 29,
   "metadata": {
    "collapsed": true
   },
   "outputs": [],
   "source": [
    "thesize=40\n",
    "\n",
    "vM2amp = np.zeros(thesize); vM2pha = np.zeros(thesize)\n",
    "vK1amp = np.zeros(thesize); vK1pha = np.zeros(thesize)\n",
    "uM2amp = np.zeros(thesize); uM2pha = np.zeros(thesize)\n",
    "uK1amp = np.zeros(thesize); uK1pha = np.zeros(thesize)"
   ]
  },
  {
   "cell_type": "code",
   "execution_count": 31,
   "metadata": {
    "collapsed": false
   },
   "outputs": [
    {
     "ename": "AttributeError",
     "evalue": "'module' object has no attribute 'fittit'",
     "output_type": "error",
     "traceback": [
      "\u001b[1;31m---------------------------------------------------------------------------\u001b[0m",
      "\u001b[1;31mAttributeError\u001b[0m                            Traceback (most recent call last)",
      "\u001b[1;32m<ipython-input-31-922c31be7e9b>\u001b[0m in \u001b[0;36m<module>\u001b[1;34m()\u001b[0m\n\u001b[1;32m----> 1\u001b[1;33m vM2ampc, vM2phac, vK1ampc, vK1phac, uM2ampc, uM2phac, uK1ampc, uK1phac = analyze.fittit(u_c, v_c, \n\u001b[0m\u001b[0;32m      2\u001b[0m                                                                          time_c)\n\u001b[0;32m      3\u001b[0m \u001b[1;33m\u001b[0m\u001b[0m\n\u001b[0;32m      4\u001b[0m \u001b[0mCX_c\u001b[0m\u001b[1;33m,\u001b[0m \u001b[0mSX_c\u001b[0m\u001b[1;33m,\u001b[0m \u001b[0mCY_c\u001b[0m\u001b[1;33m,\u001b[0m \u001b[0mSY_c\u001b[0m\u001b[1;33m,\u001b[0m \u001b[0map_c\u001b[0m\u001b[1;33m,\u001b[0m \u001b[0mam_c\u001b[0m\u001b[1;33m,\u001b[0m \u001b[0mep_c\u001b[0m\u001b[1;33m,\u001b[0m \u001b[0mem_c\u001b[0m\u001b[1;33m,\u001b[0m \u001b[0mmajor_c\u001b[0m\u001b[1;33m,\u001b[0m \u001b[0mminor_c\u001b[0m\u001b[1;33m,\u001b[0m \u001b[0mtheta_c\u001b[0m \u001b[1;33m=\u001b[0m \u001b[0manalyze\u001b[0m\u001b[1;33m.\u001b[0m\u001b[0mellipse_params\u001b[0m \u001b[1;33m(\u001b[0m\u001b[0muM2ampc\u001b[0m\u001b[1;33m,\u001b[0m \u001b[0muM2phac\u001b[0m\u001b[1;33m,\u001b[0m \u001b[0mvM2ampc\u001b[0m\u001b[1;33m,\u001b[0m \u001b[0mvM2phac\u001b[0m\u001b[1;33m)\u001b[0m\u001b[1;33m\u001b[0m\u001b[0m\n\u001b[0;32m      5\u001b[0m \u001b[0mCX_ck\u001b[0m\u001b[1;33m,\u001b[0m \u001b[0mSX_ck\u001b[0m\u001b[1;33m,\u001b[0m \u001b[0mCY_ck\u001b[0m\u001b[1;33m,\u001b[0m \u001b[0mSY_ck\u001b[0m\u001b[1;33m,\u001b[0m \u001b[0map_ck\u001b[0m\u001b[1;33m,\u001b[0m \u001b[0mam_ck\u001b[0m\u001b[1;33m,\u001b[0m \u001b[0mep_ck\u001b[0m\u001b[1;33m,\u001b[0m \u001b[0mem_ck\u001b[0m\u001b[1;33m,\u001b[0m \u001b[0mmajor_ck\u001b[0m\u001b[1;33m,\u001b[0m \u001b[0mminor_ck\u001b[0m\u001b[1;33m,\u001b[0m \u001b[0mtheta_ck\u001b[0m \u001b[1;33m=\u001b[0m \u001b[0manalyze\u001b[0m\u001b[1;33m.\u001b[0m\u001b[0mellipse_params\u001b[0m \u001b[1;33m(\u001b[0m\u001b[0muK1ampc\u001b[0m\u001b[1;33m,\u001b[0m \u001b[0muK1phac\u001b[0m\u001b[1;33m,\u001b[0m \u001b[0mvK1ampc\u001b[0m\u001b[1;33m,\u001b[0m \u001b[0mvK1phac\u001b[0m\u001b[1;33m)\u001b[0m\u001b[1;33m\u001b[0m\u001b[0m\n",
      "\u001b[1;31mAttributeError\u001b[0m: 'module' object has no attribute 'fittit'"
     ]
    }
   ],
   "source": [
    "vM2ampc, vM2phac, vK1ampc, vK1phac, uM2ampc, uM2phac, uK1ampc, uK1phac = analyze.fittit(u_c, v_c, \n",
    "                                                                         time_c)\n",
    "\n",
    "CX_c, SX_c, CY_c, SY_c, ap_c, am_c, ep_c, em_c, major_c, minor_c, theta_c = analyze.ellipse_params (uM2ampc, uM2phac, vM2ampc, vM2phac)\n",
    "CX_ck, SX_ck, CY_ck, SY_ck, ap_ck, am_ck, ep_ck, em_ck, major_ck, minor_ck, theta_ck = analyze.ellipse_params (uK1ampc, uK1phac, vK1ampc, vK1phac)"
   ]
  },
  {
   "cell_type": "code",
   "execution_count": null,
   "metadata": {
    "collapsed": true
   },
   "outputs": [],
   "source": [
    "vM2ampe, vM2phae, vK1ampe, vK1phae, uM2ampe, uM2phae, uK1ampe, uK1phae = analyze.fittit (u_e, v_e, \n",
    "                                                                         time_e)\n",
    "CX_e, SX_e, CY_e, SY_e, ap_e, am_e, ep_e, em_e, major_e, minor_e, theta_e= analyze.ellipse_params (uM2ampe, uM2phae, vM2ampe, vM2phae)\n",
    "\n",
    "CX_ek, SX_ek, CY_ek, SY_ek, ap_ek, am_ek, ep_ek, em_ek, major_ek, minor_ek, theta_ek= analyze.ellipse_params (uK1ampe, uK1phae, vK1ampe, vK1phae)"
   ]
  },
  {
   "cell_type": "markdown",
   "metadata": {},
   "source": [
    "#Plots"
   ]
  },
  {
   "cell_type": "code",
   "execution_count": null,
   "metadata": {
    "collapsed": false
   },
   "outputs": [],
   "source": [
    "# rotate grid, then label axes in lats/longs\n",
    "\n",
    "phi = 29. # the twist in the grid\n",
    "k = np.zeros((898,398)); m = np.zeros((898,398))\n",
    "fig = plt.figure(figsize=(10,10))\n",
    "ax = fig.add_subplot(111)\n",
    "viz_tools.set_aspect(ax) \n",
    "ex = 60\n",
    "\n",
    "#Inverted i and j to match code\n",
    "imin=416 #East node y\n",
    "imax=424 #Central mode y\n",
    "jmin=266 #East node x\n",
    "jmax=283 #Central node x\n",
    "\n",
    "for i in np.arange(imin-ex,imax+ex):\n",
    "    for j in np.arange(jmin-ex,jmax+ex):\n",
    "        k[i,j] = i*np.cos(phi*np.pi/180.)+j*np.sin(phi*np.pi/180.)\n",
    "        m[i,j] = -i*np.sin(phi*np.pi/180.)+j*np.cos(phi*np.pi/180.) \n",
    "scale = 8.\n",
    "interval = 4\n",
    "depth=0\n",
    "#Making the ellipse for the Central node\n",
    "if ap_c[depth] > am_c[depth]:\n",
    "    thec1 = 'b'\n",
    "else:\n",
    "    thec1 = 'r'\n",
    "ells1 = Ellipse(xy=(m[imax,jmin],k[imax,jmin]), width=scale*major_c[depth], \n",
    "    height=scale*minor_c[depth], angle=theta_c[depth]+29.,\n",
    "    color=thec1)\n",
    "\n",
    "#Making the ellipse for the East node\n",
    "if ap_e[depth] > am_e[depth]:\n",
    "    thec2 = 'b'\n",
    "else:\n",
    "    thec2 = 'r'\n",
    "ells2 = Ellipse(xy=(m[imin,jmax],k[imin,jmax]), width=scale*major_e[depth], \n",
    "    height=scale*minor_e[depth], angle=theta_e[depth]+29.,\n",
    "    color=thec2)\n",
    "    \n",
    "    \n",
    "ax.add_artist(ells1)\n",
    "ax.add_artist(ells2)\n",
    "ells1.set_facecolor(thec1)\n",
    "ells2.set_facecolor(thec2)\n",
    "# y-axis in k, but labelled in latitude\n",
    "ax.set_ylim(445,560)\n",
    "slope = (lats[imax,jmin]-lats[imin,jmin])/(k[imax,jmin]-k[imin,jmin])\n",
    "mylist = (k[imin,jmin]+(np.arange(48.8, 49.35, 0.1)-\n",
    "                           lats[imin,jmin])/slope).tolist()\n",
    "labels = ['48.8', '48.9', '49', '49.1', '49.2', '49.3']\n",
    "ax.set_yticks(mylist); ax.set_yticklabels(labels)\n",
    "ax.set_ylabel('Latitude (degrees N)')\n",
    "# x-axis in m, but labelled in longitude\n",
    "ax.set_xlim(-14,94)\n",
    "slope = (lons[imin,jmax]-lons[imin,jmin])/(m[imin,jmax]-m[imin,jmin])\n",
    "mylist = (m[imin,jmin]+(np.arange(-123.7,-123.05,0.1)-\n",
    "                        lons[imin,jmin])/slope).tolist()\n",
    "labels = ['123.7','123.6','123.5','123.4','123.3','123.2','123.1','123']\n",
    "ax.set_xticks(mylist); ax.set_xticklabels(labels)\n",
    "ax.set_xlabel('Longitude (degrees W)')\n",
    "\n",
    "\n",
    "# land, and 5 m contour\n",
    "contour_interval = [-0.01, 0.01]\n",
    "ax.contourf(m[imin-ex:imax+ex,jmin-ex:jmax+ex],k[imin-ex:imax+ex,jmin-ex:jmax+ex],\n",
    "            bathy.data[imin-ex:imax+ex,jmin-ex:jmax+ex],contour_interval,colors='black')\n",
    "ax.contour(m[imin-ex:imax+ex,jmin-ex:jmax+ex],k[imin-ex:imax+ex,jmin-ex:jmax+ex],\n",
    "            bathy.data[imin-ex:imax+ex,jmin-ex:jmax+ex],[5],colors='black')\n",
    "ax.set_title('M2 tidal ellipses at {dep:0.1f} m depth'.format(dep=dep_t_c[depth]))\n",
    "\n",
    "print \"red is clockwise\""
   ]
  },
  {
   "cell_type": "code",
   "execution_count": null,
   "metadata": {
    "collapsed": false
   },
   "outputs": [],
   "source": [
    "fig = plt.figure(figsize=(5.5,6.4))\n",
    "ax = fig.add_subplot(121)\n",
    "scale = 7\n",
    "interval = 2\n",
    "\n",
    "for dep in np.arange(0,40,interval):\n",
    "    if ap_c[dep] > am_c[dep]:\n",
    "        thec = 'b'\n",
    "    else:\n",
    "        thec = 'r'\n",
    "    ells = Ellipse(xy=(0,dep), width=scale*major_c[dep], \n",
    "                        height=scale*minor_c[dep], angle=-theta_c[dep]-29,\n",
    "                        color=thec)\n",
    "    ax.add_artist(ells)\n",
    "    ells.set_facecolor(thec)\n",
    "    \n",
    "for dep in np.arange(0,40,interval):\n",
    "    if ap_ck[dep] > am_ck[dep]:\n",
    "        thec = 'b'\n",
    "    else:\n",
    "        thec = 'r'\n",
    "    ells = Ellipse(xy=(6,dep), width=scale*major_ck[dep], \n",
    "                        height=scale*minor_ck[dep], angle=-theta_ck[dep]-29,\n",
    "                        color=thec)\n",
    "    ax.add_artist(ells)\n",
    "    ells.set_facecolor(thec)\n",
    "ax.set_ylim(-2,40)\n",
    "ax.invert_yaxis()\n",
    "ax.set_xlim(-2,8)\n",
    "ax.set_title('Tidal ellipses at VENUS Central')\n",
    "ax.set_ylabel('Vertical Grid Point')\n",
    "ax.set_xlabel('M2 Ellipse | K1 Ellipse')"
   ]
  },
  {
   "cell_type": "code",
   "execution_count": null,
   "metadata": {
    "collapsed": false
   },
   "outputs": [],
   "source": [
    "fig = plt.figure(figsize=(5.5,6.4))\n",
    "ax = fig.add_subplot(121)\n",
    "scale = 7\n",
    "interval = 2\n",
    "\n",
    "for dep in np.arange(0,40,interval):\n",
    "    if ap_e[dep] > am_e[dep]:\n",
    "        thec = 'b'\n",
    "    else:\n",
    "        thec = 'r'\n",
    "    ells = Ellipse(xy=(0,dep), width=scale*major_e[dep], \n",
    "                        height=scale*minor_e[dep], angle=-theta_e[dep]-29,\n",
    "                        color=thec)\n",
    "    ax.add_artist(ells)\n",
    "    ells.set_facecolor(thec)\n",
    "    \n",
    "for dep in np.arange(0,40,interval):\n",
    "    if ap_ek[dep] > am_ek[dep]:\n",
    "        thec = 'b'\n",
    "    else:\n",
    "        thec = 'r'\n",
    "    ells = Ellipse(xy=(6,dep), width=scale*major_ek[dep], \n",
    "                        height=scale*minor_ek[dep], angle=-theta_ek[dep]-29,\n",
    "                        color=thec)\n",
    "    ax.add_artist(ells)\n",
    "    ells.set_facecolor(thec)\n",
    "ax.set_ylim(-2,40)\n",
    "ax.invert_yaxis()\n",
    "ax.set_xlim(-2,8)\n",
    "ax.set_title('Tidal ellipses at VENUS East')\n",
    "ax.set_ylabel('Vertical Grid Point')\n",
    "ax.set_xlabel('M2 Ellipse | K1 Ellipse')"
   ]
  },
  {
   "cell_type": "markdown",
   "metadata": {},
   "source": [
    "#Compare with a table"
   ]
  },
  {
   "cell_type": "markdown",
   "metadata": {},
   "source": [
    "For M2 constituent"
   ]
  },
  {
   "cell_type": "code",
   "execution_count": null,
   "metadata": {
    "collapsed": false
   },
   "outputs": [],
   "source": [
    "print \"                     Central                         East\"\n",
    "print \"Depth    Major-Axis  Minor-Axis  Angle   Major-Axis  Minor-Axis  Angle \"\n",
    "print \" (m)        (m/s)      (m/s)     (deg.    (m/s)       (m/s)      (deg.\"\n",
    "print \"                                 ccw E)                          ccw E)\"\n",
    "for i in np.arange(0,39,interval):\n",
    "    if major_e[i] > 0 :  \n",
    "        print '{0:5.1f}      {1:.2f}        {2:.2f}       {3:.0f}      {4:.2f}       {5:.2f}       {6:.0f}'.format(dep_t_c[i], \n",
    "            major_c[i], minor_c[i], theta_c[i]+29, major_e[i], minor_e[i],  theta_e[i]+29)\n",
    "    elif major_c[i] > 0 :\n",
    "        print '{0:5.1f}      {1:.2f}        {2:.2f}       {3:.0f}'.format(depths[i], \n",
    "                                                      major_c[i], minor_c[i], theta_c[i]+29)"
   ]
  },
  {
   "cell_type": "markdown",
   "metadata": {},
   "source": [
    "For K1 constituent"
   ]
  },
  {
   "cell_type": "code",
   "execution_count": null,
   "metadata": {
    "collapsed": false
   },
   "outputs": [],
   "source": [
    "print \"                     Central                         East\"\n",
    "print \"Depth    Major-Axis  Minor-Axis  Angle   Major-Axis  Minor-Axis  Angle \"\n",
    "print \" (m)        (m/s)      (m/s)     (deg.    (m/s)       (m/s)      (deg.\"\n",
    "print \"                                 ccw E)                          ccw E)\"\n",
    "for i in np.arange(0,39,interval):\n",
    "    if major_ek[i] > 0 : \n",
    "        print '{0:5.1f}      {1:.2f}        {2:.2f}       {3:.0f}      {4:.2f}       {5:.2f}       {6:.0f}'.format(dep_t_c[i], \n",
    "        major_ck[i], minor_ck[i], theta_ck[i]+29, major_ek[i], minor_ek[i],  theta_ek[i]+29)\n",
    "    elif major_ck[i] > 0 :\n",
    "        print '{0:5.1f}      {1:.2f}        {2:.2f}       {3:.0f}'.format(depths[i], \n",
    "                                                      major_ck[i], minor_ck[i], theta_ck[i]+29)"
   ]
  },
  {
   "cell_type": "markdown",
   "metadata": {},
   "source": [
    "It is very similar to the 15 minutes data, only a few very slight changes, generally in the Major Axis or Minor Axis and the East node has a tendency to have more difference, maybe because the values tend to be larger. \n",
    "The longer the time the ellipses are averaged over the more the 15 minutes data and the hourly data are similar.\n",
    "Same observation for K1 as for M2"
   ]
  },
  {
   "cell_type": "code",
   "execution_count": null,
   "metadata": {
    "collapsed": true
   },
   "outputs": [],
   "source": []
  }
 ],
 "metadata": {
  "kernelspec": {
   "display_name": "Python 2",
   "language": "python",
   "name": "python2"
  },
  "language_info": {
   "codemirror_mode": {
    "name": "ipython",
    "version": 2
   },
   "file_extension": ".py",
   "mimetype": "text/x-python",
   "name": "python",
   "nbconvert_exporter": "python",
   "pygments_lexer": "ipython2",
   "version": "2.7.9"
  }
 },
 "nbformat": 4,
 "nbformat_minor": 0
}
