{
 "cells": [
  {
   "cell_type": "markdown",
   "metadata": {},
   "source": [
    "This notebook will be used to redesign the tidal ellipse functions to make them more user friendly"
   ]
  },
  {
   "cell_type": "code",
   "execution_count": 24,
   "metadata": {
    "collapsed": false
   },
   "outputs": [],
   "source": [
    "import os\n",
    "import datetime\n",
    "import matplotlib.pylab as plt\n",
    "from matplotlib.patches import Ellipse\n",
    "import numpy as np\n",
    "from IPython.display import display, Math, Latex\n",
    "import csv\n",
    "import pandas as pd\n",
    "import seaborn as sns\n",
    "from dateutil import tz\n",
    "\n",
    "import netCDF4 as nc\n",
    "from salishsea_tools import (viz_tools, tidetools as tt, ellipse, nc_tools)\n",
    "from salishsea_tools.nowcast import (analyze, research_VENUS)\n",
    "\n",
    "%matplotlib inline"
   ]
  },
  {
   "cell_type": "markdown",
   "metadata": {},
   "source": [
    "#Some of the functions\n",
    "The functions below will be in the ellipse.py module. They are meant to be versitile to different file types and to be user friendly. In order to be user friendly they must be able to cover many diffrent types of ellipse calculations and be well commented to clearly show what is going on in the scripts. Also there are many scripts with small tasks to faciliate adding in new scripts for a modification."
   ]
  },
  {
   "cell_type": "code",
   "execution_count": 49,
   "metadata": {
    "collapsed": true
   },
   "outputs": [],
   "source": [
    "def get_params(u, v, time, tidecorr=research_VENUS.CorrTides):\n",
    "    \"\"\"Calculates tidal ellipse parameters from the u and v time series. Maintains the shape \n",
    "    of the velocities enters only loosing the time dimensions.\n",
    "    \n",
    "    :arg u: One of the orthogonal tidal current velocities. Must be already prepared for the analysis.\n",
    "    :type u:  :py:class:'np.ndarray'\n",
    "    \n",
    "    :arg v: One of the orthogonal tidal current velocities. Must be already prepared for the analysis.\n",
    "    :type v:  :py:class:'np.ndarray'\n",
    "    \n",
    "    :arg time: Time over which the velocities were taken; in seconds.\n",
    "    :type time: :py:class:'np.ndarray'\n",
    "    \n",
    "    :arg tidecorr: Tidal corrections in aplitude and phase. Default is the nowcast values. \n",
    "    :type tidecorr: dictionary\n",
    "    \"\"\"\n",
    "    #Running fittit to get the amplitude and phase of the velcity time series.\n",
    "    uM2amp, uM2pha, uK1amp, uK1pha = fittit(u, time)\n",
    "    vM2amp, vM2pha, vK1amp, vK1pha = fittit(v, time)\n",
    "\n",
    "    #Tide corrections from a dictionary\n",
    "    uM2pha = uM2pha + tidecorr['M2']['uvt']\n",
    "    uK1pha = uK1pha + tidecorr['K1']['uvt']\n",
    "    vM2pha = vM2pha + tidecorr['M2']['uvt']\n",
    "    vK1pha = vK1pha + tidecorr['K1']['uvt']\n",
    "\n",
    "    uM2amp = uM2amp * tidecorr['M2']['ft']\n",
    "    uK1amp = uK1amp * tidecorr['K1']['ft']\n",
    "    vM2amp = vM2amp * tidecorr['M2']['ft']\n",
    "    vK1amp = vK1amp * tidecorr['K1']['ft']\n",
    "    \n",
    "    #Converting from u/v amplitude and phase to ellipe parameters.\n",
    "    CX, SX, CY, SY, ap, am, ep, em, maj, mi, the, pha = tt.ellipse_params(\n",
    "        uM2amp, uM2pha, vM2amp, vM2pha)\n",
    "\n",
    "    CXk, SXk, CYk, SYk, apk, amk, epk, emk, majk, mik, thek, phak = tt.ellipse_params(\n",
    "        uK1amp, uK1pha, vK1amp, vK1pha)\n",
    "    \n",
    "    #Saving all the useful parameters in a dictionary.\n",
    "    params = {\n",
    "        'M2': {\n",
    "            'Semi-Major Axis': maj,\n",
    "            'Semi-Minor Axis': mi,\n",
    "            'Inclination': the,\n",
    "            'Phase': pha},\n",
    "        'K1': {\n",
    "            'Semi-Major Axis': majk,\n",
    "            'Semi-Minor Axis': mik,\n",
    "            'Inclination': thek,\n",
    "            'Phase': phak}}\n",
    "    \n",
    "    return params\n",
    "    \n",
    "    "
   ]
  },
  {
   "cell_type": "code",
   "execution_count": 38,
   "metadata": {
    "collapsed": false
   },
   "outputs": [],
   "source": [
    "    \n",
    "    #For one location, one depth\n",
    "    if u.ndim == 1:\n",
    "        params = np.zeros((8))\n",
    "        params[:] = [maj, mi, the, pha, majk, mik, thek, phak]\n",
    "        \n",
    "    #For a depth profile of a location or depth average of an area\n",
    "    elif u.ndim == 3:\n",
    "        params = np.zeros((8, maj.shape[0], maj.shape[1]))\n",
    "        for i in np.arange(0,maj.shape[0]):\n",
    "            for j in np.arange(0,maj.shape[1]):\n",
    "                params[:,i,j] = [maj[i,j], mi[i,j], the[i,j], pha[i,j], majk[i,j], mik[i,j], thek[i,j], phak[i,j]]\n",
    "    \n",
    "    #For an area at a single depth.\n",
    "    else:\n",
    "        params = np.zeros((8, maj.shape[0], maj.shape[1], maj.shape[2]))\n",
    "        for i in np.arange(0,maj.shape[1]):\n",
    "            for j in np.arange(0,maj.shape[2]):\n",
    "                params[:,:,i,j] = [maj[:,i,j], mi[:,i,j], the[:,i,j], pha[:,i,j], majk[:,i,j], mik[:,i,j], thek[:,i,j], phak[:,i,j]]\n",
    "    return params"
   ]
  },
  {
   "cell_type": "code",
   "execution_count": 12,
   "metadata": {
    "collapsed": false
   },
   "outputs": [],
   "source": [
    "def fittit(uaus, time):\n",
    "    \"\"\"Function to find tidal components from a tidal current component\n",
    "        over the whole area given. Can be done over depth, or an area.\n",
    "        Time must be in axis one, depth in axis two if applicable then the\n",
    "        x and y if an area.\n",
    "        Must perform twice, once for each tidal current vector\n",
    "        in order to complete the analysis.\n",
    "        In order to calculate the tidal components of an area at a single\n",
    "        depth the velocity vector must only have 3 dimensions. For a depth\n",
    "        profile it must only have 2 dimensions \n",
    "        ***[time, depth, x, y]\n",
    "\n",
    "    :arg uaus: One of the orthogonal tidal current velocities.\n",
    "    :type uaus:  :py:class:'np.ndarray' or float\n",
    "\n",
    "    :arg time: Time over which the velocitie were being taken in seconds.\n",
    "    :type time: :py:class:'np.ndarray'\n",
    "\n",
    "    :returns M2amp, M2pha, K1amp, K1pha:\n",
    "        The amplitude and phase lag of each tidal component (M2 and K1)\n",
    "        of a single tidal velocity vector.\n",
    "\n",
    "    \"\"\"\n",
    "    #Case 1: a time series of velocities with depth at a single location.\n",
    "    if uaus.ndim == 2:\n",
    "        #The parameters are the same shape as the velocities without the time dimension.\n",
    "        thesize = uaus.shape[1]\n",
    "        M2amp = np.zeros(thesize)\n",
    "        M2pha = np.zeros(thesize)\n",
    "        K1amp = np.zeros(thesize)\n",
    "        K1pha = np.zeros(thesize)\n",
    "        \n",
    "        #Calculates the parameters for one depth and one location at a time from its time series\n",
    "        for dep in np.arange(0, len(uaus[1])):\n",
    "            if uaus[:, dep].any() != 0:\n",
    "                fitted, cov = tt.curve_fit(tt.double, time[:], uaus[:, dep])\n",
    "                #Rotating to have a positive amplitude and a phase between [-180, 180]\n",
    "                fitted[0], fitted[1] = tt.convention_pha_amp(fitted[0], fitted[1])\n",
    "                fitted[2], fitted[3] = tt.convention_pha_amp(fitted[2], fitted[3])\n",
    "                M2amp[dep] = fitted[0]\n",
    "                M2pha[dep] = fitted[1]\n",
    "                K1amp[dep] = fitted[2]\n",
    "                K1pha[dep] = fitted[3]\n",
    "\n",
    "    #Case 2 : a time series of an area of velocities at a single depth\n",
    "    elif uaus.ndim == 3:\n",
    "        thesize = (uaus.shape[1], uaus.shape[2])\n",
    "        M2amp = np.zeros(thesize)\n",
    "        M2pha = np.zeros(thesize)\n",
    "        K1amp = np.zeros(thesize)\n",
    "        K1pha = np.zeros(thesize)\n",
    "\n",
    "        for i in np.arange(0, uaus.shape[1]):\n",
    "            for j in np.arange(0, uaus.shape[2]):\n",
    "                if uaus[:, i, j].any() != 0.:\n",
    "                    fitted, cov = tt.curve_fit(tt.double, time[:], uaus[:, i, j])\n",
    "                    fitted[0], fitted[1] = tt.convention_pha_amp(\n",
    "                        fitted[0], fitted[1])\n",
    "                    fitted[2], fitted[3] = tt.convention_pha_amp(\n",
    "                        fitted[2], fitted[3])\n",
    "                    M2amp[i, j] = fitted[0]\n",
    "                    M2pha[i, j] = fitted[1]\n",
    "                    K1amp[i, j] = fitted[2]\n",
    "                    K1pha[i, j] = fitted[3]\n",
    "    \n",
    "    #Case 3: a time series of an area of velocities with depth\n",
    "    elif uaus.ndim == 4:\n",
    "        thesize = (uaus.shape[1], uaus.shape[2], uaus.shape[3])\n",
    "        M2amp = np.zeros(thesize)\n",
    "        M2pha = np.zeros(thesize)\n",
    "        K1amp = np.zeros(thesize)\n",
    "        K1pha = np.zeros(thesize)\n",
    "\n",
    "        for dep in np.arange(0, uaus.shape[1]):\n",
    "            for i in np.arange(0, uaus.shape[2]):\n",
    "                for j in np.arange(0, uaus.shape[3]):\n",
    "                    if uaus[:, dep, i, j].any() != 0.:\n",
    "                        fitted, cov = tt.curve_fit(tt.double, time[:], uaus[:, dep, i, j])\n",
    "                        fitted[0], fitted[1] = tt.convention_pha_amp(\n",
    "                            fitted[0], fitted[1])\n",
    "                        fitted[2], fitted[3] = tt.convention_pha_amp(\n",
    "                            fitted[2], fitted[3])\n",
    "                        M2amp[dep, i, j] = fitted[0]\n",
    "                        M2pha[dep, i, j] = fitted[1]\n",
    "                        K1amp[dep, i, j] = fitted[2]\n",
    "                        K1pha[dep, i, j] = fitted[3]\n",
    "\n",
    "    #Case 4: a time series of a single location with a single depth.\n",
    "    else:\n",
    "        M2amp = 0\n",
    "        M2pha = 0\n",
    "        K1amp = 0\n",
    "        K1pha = 0\n",
    "\n",
    "        if uaus[:].any() != 0.:\n",
    "            fitted, cov = tt.curve_fit(tt.double, time[:], uaus[:])\n",
    "            fitted[0], fitted[1] = tt.convention_pha_amp(fitted[0], fitted[1])\n",
    "            fitted[2], fitted[3] = tt.convention_pha_amp(fitted[2], fitted[3])\n",
    "            M2amp = fitted[0]\n",
    "            M2pha = fitted[1]\n",
    "            K1amp = fitted[2]\n",
    "            K1pha = fitted[3]\n",
    "    return M2amp, M2pha, K1amp, K1pha"
   ]
  },
  {
   "cell_type": "markdown",
   "metadata": {},
   "source": [
    "##Case 1: Nowcast date range\n",
    "Functions for nowcast velocities."
   ]
  },
  {
   "cell_type": "code",
   "execution_count": 13,
   "metadata": {
    "collapsed": false
   },
   "outputs": [],
   "source": [
    "def ellipse_files_nowcast(to, tf, iss, jss, path, depthrange='None',reftime=ellipse.CorrTides['reftime']):\n",
    "    \"\"\" This function loads all the data between the start and the end date\n",
    "    that contains hourly velocities in the netCDF4 nowcast files in the specified depth range. \n",
    "    This will make an area with all the indices indicated, the area must be continuous for unstaggering.\n",
    "\n",
    "    :arg to: The beginning of the date range of interest\n",
    "    :type to: datetime object\n",
    "\n",
    "    :arg tf: The end of the date range of interest\n",
    "    :type tf: datetime object\n",
    "    \n",
    "    :arg iss: x index.\n",
    "    :type i: list or numpy.array\n",
    "    \n",
    "    :arg jss: y index.\n",
    "    :type j: list or numpy.array\n",
    "\n",
    "    :arg path: Defines the path used(eg. nowcast)\n",
    "    :type path: string\n",
    "\n",
    "    :arg depthrange: Depth values of interest in meters as a float for a single depth or a list for a range. \n",
    "        A float will find the closest depth that is <= the value given. Default is 'None' for the whole\n",
    "        water column (0-441m).\n",
    "    :type depav: float, string or list.\n",
    "\n",
    "    :returns: u, v, time, dep.\n",
    "    \"\"\"\n",
    "    \n",
    "    #The unstaggering in prepare_vel.py requiers an extra i and j, we add one on here to maintain the \n",
    "    #area, or point chosen.\n",
    "    jss = np.append(jss[0]-1,jss)\n",
    "    iss = np.append(iss[0]-1,iss)\n",
    "    \n",
    "    #Makes a list of the filenames that follow the criteria in the indicated path between the start and end dates.\n",
    "    filesu = analyze.get_filenames(to, tf, '1h', 'grid_U', path) \n",
    "    filesv = analyze.get_filenames(to, tf, '1h', 'grid_V', path)\n",
    "    \n",
    "    #Set up depth array and depth range\n",
    "    depth = nc.Dataset(filesu[-1]).variables['depthu'][:]\n",
    "    \n",
    "    #Case one: for a single depth.\n",
    "    if type(depthrange) == float or type(depthrange) == int:\n",
    "        k = np.where(depth <= depthrange)[0][-1]\n",
    "        u, time = analyze.combine_files(filesu, 'vozocrtx', k, jss, iss)\n",
    "        v, time = analyze.combine_files(filesv, 'vomecrty', k,  jss, iss)\n",
    "        dep=depth[k]\n",
    "    \n",
    "    #Case two: for a specific range of depths\n",
    "    elif type(depthrange) == list:\n",
    "        k = np.where(np.logical_and(depth > depthrange[0], depth < depthrange[1]))[0]\n",
    "        dep = depth[k]\n",
    "        u, time = analyze.combine_files(filesu, 'vozocrtx', k, jss, iss)\n",
    "        v, time = analyze.combine_files(filesv, 'vomecrty', k,  jss, iss)\n",
    "    \n",
    "    #Case three: For the whole depth range 0 to 441m.\n",
    "    else:\n",
    "        u, time = analyze.combine_files(filesu, 'vozocrtx', depthrange, jss, iss)\n",
    "        v, time = analyze.combine_files(filesv, 'vomecrty', depthrange,  jss, iss)\n",
    "        dep=depth\n",
    "        \n",
    "    #For the nowcast the reftime is always Sep10th 2014. Set time of area we are looking at relative to this time.\n",
    "    time = tt.convert_to_seconds(time, reftime=reftime)\n",
    "    \n",
    "    return u, v, time, dep"
   ]
  },
  {
   "cell_type": "code",
   "execution_count": 14,
   "metadata": {
    "collapsed": false
   },
   "outputs": [],
   "source": [
    "def prepare_vel(u, v, depav=False, depth='None'):\n",
    "    \"\"\"Preparing the time series of the orthogonal pair of velocities to get tidal ellipse parameters. \n",
    "    This function masks, rotates and unstaggers the time series. The depth averaging does not work over \n",
    "    masked values.\n",
    "    \n",
    "    :arg u: One of the orthogonal components of the time series of tidal current velocities.\n",
    "    :type u:  :py:class:'np.ndarray'\n",
    "    \n",
    "    :arg v: One of the orthogonal components of the time series of tidal current velocities. \n",
    "    :type v:  :py:class:'np.ndarray'\n",
    "\n",
    "    :arg depav: True will depth average over the whole depth profile given. Default is False.\n",
    "    :type dep: boolean\n",
    "    \n",
    "    :arg depth: depth vector corresponding to the depth of the velocities, only requiered if depav=True.\n",
    "    :type depth: :py:class:'np.ndarray' or string\n",
    "    \"\"\"\n",
    "    #Masks land values\n",
    "    u_0 = np.ma.masked_values(u, 0)\n",
    "    v_0 = np.ma.masked_values(v, 0)\n",
    "\n",
    "    #Unstaggers velocities. Will loose one x and one y dimension due to unstaggering.\n",
    "    u_u, v_v = research_VENUS.unstag_rot(u_0, v_0)\n",
    "\n",
    "    #Depth averaging over all the depth values given if set to True.\n",
    "    if depav == True:\n",
    "        u_u = analyze.depth_average(u_u, depth, 1)\n",
    "        v_v = analyze.depth_average(v_v, depth, 1)\n",
    "    return u_u, v_v"
   ]
  },
  {
   "cell_type": "code",
   "execution_count": 15,
   "metadata": {
    "collapsed": false
   },
   "outputs": [],
   "source": [
    "def get_params_nowcast(to, tf, i, j, path, depthrange='None', depav=False, tidecorr=research_VENUS.CorrTides):\n",
    "    \"\"\" This function loads all the data between the start and the end date\n",
    "    that contains hourly velocities in the netCDF4 nowcast files in the specified depth range. Then\n",
    "    masks, rotates and unstaggers the time series. The unstaggering causes the shapes of \n",
    "    the returned arrays to be 1 less than those of the input arrays in the y and x dimensions. Finally it\n",
    "    calculates tidal ellipse parameters from the u and v time series. Maintains the shape \n",
    "    of the velocities enters only loosing the time dimensions.\n",
    "\n",
    "    :arg to: The beginning of the date range of interest\n",
    "    :type to: datetime object\n",
    "\n",
    "    :arg tf: The end of the date range of interest\n",
    "    :type tf: datetime object\n",
    "\n",
    "    :arg i: x index, must have at least 2 values for unstaggering, will loose the first i \n",
    "        during the unstaggering in prepare_vel.\n",
    "    :type i: float or list\n",
    "    \n",
    "    :arg j: y index, must have at least 2 values for unstaggering, will loose the first j \n",
    "        during the unstaggering in prepare_vel.\n",
    "    :type j: float or list\n",
    "\n",
    "    :arg path: Defines the path used(eg. nowcast)\n",
    "    :type path: string\n",
    "\n",
    "    :arg depthrange: Depth values of interest in meters as a float for a single depth or a list for a range. \n",
    "            A float will find the closest depth that is <= the value given. Default is 'None' for the whole\n",
    "            water column (0-441m).\n",
    "    :type depav: float, string or list.\n",
    "\n",
    "    :arg depav: True will depth average over the whole depth profile given. Default is False.\n",
    "    :type dep: boolean\n",
    "    \n",
    "    :arg depth: depth vector corresponding to the depth of the velocities, only requiered if depav=True.\n",
    "    :type depth: :py:class:'np.ndarray' or string\n",
    "    \n",
    "    :returns: params, a numpy array containting [M2 semi-major, M2 semi-minor, M2 inclication, M2 phase, K1 semi-major, \n",
    "            K1 semi-minor, K1 inclication, K1 phase]\n",
    "    \"\"\"\n",
    "        \n",
    "    u, v, time, dep = ellipse_files_nowcast(to, tf, i, j, path, depthrange=depthrange)\n",
    "    u_u, v_v = prepare_vel(u, v, depav=depav, depth=dep)\n",
    "    params = get_params(u_u, v_v, time, tidecorr=tidecorr)\n",
    "    \n",
    "    return params, dep"
   ]
  },
  {
   "cell_type": "markdown",
   "metadata": {},
   "source": [
    "###Nowcast runs: single location, single depth"
   ]
  },
  {
   "cell_type": "code",
   "execution_count": 50,
   "metadata": {
    "collapsed": false
   },
   "outputs": [],
   "source": [
    "path = '/data/dlatorne/MEOPAR/SalishSea/nowcast/'\n",
    "\n",
    "#The longer the date range the longer the analysis takes.\n",
    "to=datetime.datetime(2015,7,10)\n",
    "tf=datetime.datetime(2015,7,11)\n",
    "\n",
    "i = [282]\n",
    "j = [388]"
   ]
  },
  {
   "cell_type": "code",
   "execution_count": 53,
   "metadata": {
    "collapsed": false
   },
   "outputs": [
    {
     "name": "stdout",
     "output_type": "stream",
     "text": [
      "{'Phase': array([[ 305.83382401]]), 'Semi-Major Axis': array([[ 0.60831662]]), 'Semi-Minor Axis': array([[-0.26715534]]), 'Inclination': array([[ 132.16875238]])}\n"
     ]
    }
   ],
   "source": [
    "u, v, time, dep = ellipse_files_nowcast(to, tf, i, j, path, depthrange=5)\n",
    "u_u, v_v = prepare_vel(u, v, depav=False, depth=dep)\n",
    "params = get_params(u_u, v_v, time)\n",
    "print params['M2']"
   ]
  },
  {
   "cell_type": "markdown",
   "metadata": {},
   "source": [
    "###Nowcast runs: Area with a depth range of [0,60]"
   ]
  },
  {
   "cell_type": "code",
   "execution_count": 54,
   "metadata": {
    "collapsed": false
   },
   "outputs": [],
   "source": [
    "path = '/data/dlatorne/MEOPAR/SalishSea/nowcast/'\n",
    "\n",
    "to=datetime.datetime(2015,7,10)\n",
    "tf=datetime.datetime(2015,7,11)\n",
    "\n",
    "i = np.arange(282, 293)\n",
    "j = np.arange(388, 395)"
   ]
  },
  {
   "cell_type": "code",
   "execution_count": 58,
   "metadata": {
    "collapsed": false
   },
   "outputs": [
    {
     "name": "stdout",
     "output_type": "stream",
     "text": [
      "(25, 7, 11)\n"
     ]
    }
   ],
   "source": [
    "params, dep = get_params_nowcast(to, tf, i, j, path, depthrange=[0, 60])\n",
    "print params['M2']['Phase'].shape"
   ]
  },
  {
   "cell_type": "markdown",
   "metadata": {},
   "source": [
    "#Case 2: Anyother type of files"
   ]
  },
  {
   "cell_type": "markdown",
   "metadata": {},
   "source": [
    "For any other type of file, there needs to be two orthorgonal time series velocitiy vectors. Each must have time in the first dimension, depth in the second if applicable and the locations in the third (and fourth if looking at an area).\n",
    "\n",
    "The analysis will be done over the whole time, depth and area that is given.\n",
    "\n",
    "U and V must be the same shape.\n",
    "\n",
    "Time vector must be in seconds..."
   ]
  },
  {
   "cell_type": "code",
   "execution_count": 31,
   "metadata": {
    "collapsed": false
   },
   "outputs": [],
   "source": [
    "grid = '/ocean/mdunn/MEOPAR/jun_VENUS_east_gridded.nc'\n",
    "G = nc.Dataset(grid)\n",
    "u = G.variables['vozocrtx'][:]\n",
    "v = G.variables['vomecrty'][:]\n",
    "\n",
    "#Set up time in seconds\n",
    "time = G.variables['time_counter'][:]\n",
    "time = ([])\n",
    "t = nc_tools.timestamp(G, np.arange(u.shape[0]))\n",
    "for ind in range(len(t)):\n",
    "    t[ind] = t[ind].datetime\n",
    "time = np.append(time, t)\n",
    "\n",
    "time = tt.convert_to_seconds(time, reftime=ellipse.CorrTides['reftime'])"
   ]
  },
  {
   "cell_type": "code",
   "execution_count": 37,
   "metadata": {
    "collapsed": false
   },
   "outputs": [
    {
     "name": "stdout",
     "output_type": "stream",
     "text": [
      "(8, 40, 1, 1)\n"
     ]
    }
   ],
   "source": [
    "u,v = prepare_vel(u, v)\n",
    "params = get_params(u,v,time)\n",
    "print params.shape"
   ]
  },
  {
   "cell_type": "code",
   "execution_count": null,
   "metadata": {
    "collapsed": true
   },
   "outputs": [],
   "source": []
  }
 ],
 "metadata": {
  "kernelspec": {
   "display_name": "Python 2",
   "language": "python",
   "name": "python2"
  }
 },
 "nbformat": 4,
 "nbformat_minor": 0
}
