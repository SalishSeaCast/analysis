{
 "cells": [
  {
   "cell_type": "markdown",
   "metadata": {},
   "source": [
    "This notebook will be used to redesign the tidal ellipse functions to make them more user friendly"
   ]
  },
  {
   "cell_type": "code",
   "execution_count": 2,
   "metadata": {
    "collapsed": false
   },
   "outputs": [],
   "source": [
    "import os\n",
    "import datetime\n",
    "import matplotlib.pylab as plt\n",
    "from matplotlib.patches import Ellipse\n",
    "import numpy as np\n",
    "from IPython.display import display, Math, Latex\n",
    "import csv\n",
    "import pandas as pd\n",
    "import seaborn as sns\n",
    "from dateutil import tz\n",
    "\n",
    "import netCDF4 as nc\n",
    "from salishsea_tools import (viz_tools, tidetools as tt, ellipse, nc_tools)\n",
    "from salishsea_tools.nowcast import (analyze, research_VENUS)\n",
    "\n",
    "%matplotlib inline"
   ]
  },
  {
   "cell_type": "markdown",
   "metadata": {},
   "source": [
    "#Some of the functions\n",
    "The functions below will be in the ellipse.py module. They are meant to be versitile to different file types and to be user friendly. In order to be user friendly they must be able to cover many diffrent types of ellipse calculations and be well commented to clearly show what is going on in the scripts. Also there are many scripts with small tasks to faciliate adding in new scripts for a modification."
   ]
  },
  {
   "cell_type": "code",
   "execution_count": 3,
   "metadata": {
    "collapsed": true
   },
   "outputs": [],
   "source": [
    "def get_params(u, v, time, tidecorr=research_VENUS.CorrTides):\n",
    "    \"\"\"Calculates tidal ellipse parameters from the u and v time series. Maintains the shape \n",
    "    of the velocities enters only loosing the time dimensions.\n",
    "    \n",
    "    :arg u: One of the orthogonal tidal current velocities. Must be already prepared for the analysis.\n",
    "    :type u:  :py:class:'np.ndarray'\n",
    "    \n",
    "    :arg v: One of the orthogonal tidal current velocities. Must be already prepared for the analysis.\n",
    "    :type v:  :py:class:'np.ndarray'\n",
    "    \n",
    "    :arg time: Time over which the velocities were taken; in seconds.\n",
    "    :type time: :py:class:'np.ndarray'\n",
    "    \n",
    "    :arg tidecorr: Tidal corrections in aplitude and phase. Default is the nowcast values. \n",
    "    :type tidecorr: dictionary\n",
    "    \"\"\"\n",
    "    #Running fittit to get the amplitude and phase of the velcity time series.\n",
    "    uM2amp, uM2pha, uK1amp, uK1pha = fittit(u, time)\n",
    "    vM2amp, vM2pha, vK1amp, vK1pha = fittit(v, time)\n",
    "\n",
    "    #Tide corrections from a dictionary\n",
    "    uM2pha = uM2pha + tidecorr['M2']['uvt']\n",
    "    uK1pha = uK1pha + tidecorr['K1']['uvt']\n",
    "    vM2pha = vM2pha + tidecorr['M2']['uvt']\n",
    "    vK1pha = vK1pha + tidecorr['K1']['uvt']\n",
    "\n",
    "    uM2amp = uM2amp * tidecorr['M2']['ft']\n",
    "    uK1amp = uK1amp * tidecorr['K1']['ft']\n",
    "    vM2amp = vM2amp * tidecorr['M2']['ft']\n",
    "    vK1amp = vK1amp * tidecorr['K1']['ft']\n",
    "    \n",
    "    #Converting from u/v amplitude and phase to ellipe parameters.\n",
    "    CX, SX, CY, SY, ap, am, ep, em, maj, mi, the, pha = tt.ellipse_params(\n",
    "        uM2amp, uM2pha, vM2amp, vM2pha)\n",
    "\n",
    "    CXk, SXk, CYk, SYk, apk, amk, epk, emk, majk, mik, thek, phak = tt.ellipse_params(\n",
    "        uK1amp, uK1pha, vK1amp, vK1pha)\n",
    "    \n",
    "    #Saving all the useful parameters in a dictionary.\n",
    "    params = {\n",
    "        'M2': {\n",
    "            'Semi-Major Axis': maj,\n",
    "            'Semi-Minor Axis': mi,\n",
    "            'Inclination': the,\n",
    "            'Phase': pha},\n",
    "        'K1': {\n",
    "            'Semi-Major Axis': majk,\n",
    "            'Semi-Minor Axis': mik,\n",
    "            'Inclination': thek,\n",
    "            'Phase': phak}}\n",
    "    \n",
    "    return params\n",
    "    \n",
    "    "
   ]
  },
  {
   "cell_type": "code",
   "execution_count": 4,
   "metadata": {
    "collapsed": false
   },
   "outputs": [],
   "source": [
    "def fittit(uaus, time):\n",
    "    \"\"\"Function to find tidal components from a tidal current component\n",
    "        over the whole area given. Can be done over depth, or an area.\n",
    "        Time must be in axis one, depth in axis two if applicable then the\n",
    "        x and y if an area.\n",
    "        Must perform twice, once for each tidal current vector\n",
    "        in order to complete the analysis.\n",
    "        In order to calculate the tidal components of an area at a single\n",
    "        depth the velocity vector must only have 3 dimensions. For a depth\n",
    "        profile it must only have 2 dimensions \n",
    "        ***[time, depth, x, y]\n",
    "\n",
    "    :arg uaus: One of the orthogonal tidal current velocities.\n",
    "    :type uaus:  :py:class:'np.ndarray' or float\n",
    "\n",
    "    :arg time: Time over which the velocitie were being taken in seconds.\n",
    "    :type time: :py:class:'np.ndarray'\n",
    "\n",
    "    :returns M2amp, M2pha, K1amp, K1pha:\n",
    "        The amplitude and phase lag of each tidal component (M2 and K1)\n",
    "        of a single tidal velocity vector.\n",
    "\n",
    "    \"\"\"\n",
    "    #Case 1: a time series of velocities with depth at a single location.\n",
    "    if uaus.ndim == 2:\n",
    "        #The parameters are the same shape as the velocities without the time dimension.\n",
    "        thesize = uaus.shape[1]\n",
    "        M2amp = np.zeros(thesize)\n",
    "        M2pha = np.zeros(thesize)\n",
    "        K1amp = np.zeros(thesize)\n",
    "        K1pha = np.zeros(thesize)\n",
    "        \n",
    "        #Calculates the parameters for one depth and one location at a time from its time series\n",
    "        for dep in np.arange(0, len(uaus[1])):\n",
    "            if uaus[:, dep].any() != 0:\n",
    "                fitted, cov = tt.curve_fit(tt.double, time[:], uaus[:, dep])\n",
    "                #Rotating to have a positive amplitude and a phase between [-180, 180]\n",
    "                fitted[0], fitted[1] = tt.convention_pha_amp(fitted[0], fitted[1])\n",
    "                fitted[2], fitted[3] = tt.convention_pha_amp(fitted[2], fitted[3])\n",
    "                M2amp[dep] = fitted[0]\n",
    "                M2pha[dep] = fitted[1]\n",
    "                K1amp[dep] = fitted[2]\n",
    "                K1pha[dep] = fitted[3]\n",
    "\n",
    "    #Case 2 : a time series of an area of velocities at a single depth\n",
    "    elif uaus.ndim == 3:\n",
    "        thesize = (uaus.shape[1], uaus.shape[2])\n",
    "        M2amp = np.zeros(thesize)\n",
    "        M2pha = np.zeros(thesize)\n",
    "        K1amp = np.zeros(thesize)\n",
    "        K1pha = np.zeros(thesize)\n",
    "\n",
    "        for i in np.arange(0, uaus.shape[1]):\n",
    "            for j in np.arange(0, uaus.shape[2]):\n",
    "                if uaus[:, i, j].any() != 0.:\n",
    "                    fitted, cov = tt.curve_fit(tt.double, time[:], uaus[:, i, j])\n",
    "                    fitted[0], fitted[1] = tt.convention_pha_amp(\n",
    "                        fitted[0], fitted[1])\n",
    "                    fitted[2], fitted[3] = tt.convention_pha_amp(\n",
    "                        fitted[2], fitted[3])\n",
    "                    M2amp[i, j] = fitted[0]\n",
    "                    M2pha[i, j] = fitted[1]\n",
    "                    K1amp[i, j] = fitted[2]\n",
    "                    K1pha[i, j] = fitted[3]\n",
    "    \n",
    "    #Case 3: a time series of an area of velocities with depth\n",
    "    elif uaus.ndim == 4:\n",
    "        thesize = (uaus.shape[1], uaus.shape[2], uaus.shape[3])\n",
    "        M2amp = np.zeros(thesize)\n",
    "        M2pha = np.zeros(thesize)\n",
    "        K1amp = np.zeros(thesize)\n",
    "        K1pha = np.zeros(thesize)\n",
    "\n",
    "        for dep in np.arange(0, uaus.shape[1]):\n",
    "            for i in np.arange(0, uaus.shape[2]):\n",
    "                for j in np.arange(0, uaus.shape[3]):\n",
    "                    if uaus[:, dep, i, j].any() != 0.:\n",
    "                        fitted, cov = tt.curve_fit(tt.double, time[:], uaus[:, dep, i, j])\n",
    "                        fitted[0], fitted[1] = tt.convention_pha_amp(\n",
    "                            fitted[0], fitted[1])\n",
    "                        fitted[2], fitted[3] = tt.convention_pha_amp(\n",
    "                            fitted[2], fitted[3])\n",
    "                        M2amp[dep, i, j] = fitted[0]\n",
    "                        M2pha[dep, i, j] = fitted[1]\n",
    "                        K1amp[dep, i, j] = fitted[2]\n",
    "                        K1pha[dep, i, j] = fitted[3]\n",
    "\n",
    "    #Case 4: a time series of a single location with a single depth.\n",
    "    else:\n",
    "        M2amp = 0\n",
    "        M2pha = 0\n",
    "        K1amp = 0\n",
    "        K1pha = 0\n",
    "\n",
    "        if uaus[:].any() != 0.:\n",
    "            fitted, cov = tt.curve_fit(tt.double, time[:], uaus[:])\n",
    "            fitted[0], fitted[1] = tt.convention_pha_amp(fitted[0], fitted[1])\n",
    "            fitted[2], fitted[3] = tt.convention_pha_amp(fitted[2], fitted[3])\n",
    "            M2amp = fitted[0]\n",
    "            M2pha = fitted[1]\n",
    "            K1amp = fitted[2]\n",
    "            K1pha = fitted[3]\n",
    "    return M2amp, M2pha, K1amp, K1pha"
   ]
  },
  {
   "cell_type": "markdown",
   "metadata": {},
   "source": [
    "##Case 1: Nowcast date range\n",
    "Functions for nowcast velocities."
   ]
  },
  {
   "cell_type": "code",
   "execution_count": 59,
   "metadata": {
    "collapsed": false
   },
   "outputs": [],
   "source": [
    "def ellipse_files_nowcast(to, tf, iss, jss, path, depthrange='None',reftime=ellipse.CorrTides['reftime']):\n",
    "    \"\"\" This function loads all the data between the start and the end date\n",
    "    that contains hourly velocities in the netCDF4 nowcast files in the specified depth range. \n",
    "    This will make an area with all the indices indicated, the area must be continuous for unstaggering.\n",
    "\n",
    "    :arg to: The beginning of the date range of interest\n",
    "    :type to: datetime object\n",
    "\n",
    "    :arg tf: The end of the date range of interest\n",
    "    :type tf: datetime object\n",
    "    \n",
    "    :arg iss: x index.\n",
    "    :type i: list or numpy.array\n",
    "    \n",
    "    :arg jss: y index.\n",
    "    :type j: list or numpy.array\n",
    "\n",
    "    :arg path: Defines the path used(eg. nowcast)\n",
    "    :type path: string\n",
    "\n",
    "    :arg depthrange: Depth values of interest in meters as a float for a single depth or a list for a range. \n",
    "        A float will find the closest depth that is <= the value given. Default is 'None' for the whole\n",
    "        water column (0-441m).\n",
    "    :type depav: float, string or list.\n",
    "\n",
    "    :returns: u, v, time, dep.\n",
    "    \"\"\"\n",
    "    \n",
    "    #The unstaggering in prepare_vel.py requiers an extra i and j, we add one on here to maintain the \n",
    "    #area, or point chosen.\n",
    "    assert np.logical_and(type(iss)!=int, type(jss)!=int), 'Must enter list, even if only looking at a single value'\n",
    "    assert np.logical_and(iss[0] != 0, jss[0] != 0), 'Cannot begin analysis on x=0 or y=0.'\n",
    "    \n",
    "    jss = np.append(jss[0]-1,jss)\n",
    "    iss = np.append(iss[0]-1,iss)\n",
    "    \n",
    "    #Makes a list of the filenames that follow the criteria in the indicated path between the start and end dates.\n",
    "    filesu = analyze.get_filenames(to, tf, '1h', 'grid_U', path) \n",
    "    filesv = analyze.get_filenames(to, tf, '1h', 'grid_V', path)\n",
    "    \n",
    "    #Set up depth array and depth range\n",
    "    depth = nc.Dataset(filesu[-1]).variables['depthu'][:]\n",
    "    \n",
    "    #Case one: for a single depth.\n",
    "    if type(depthrange) == float or type(depthrange) == int:\n",
    "        k = np.where(depth <= depthrange)[0][-1]\n",
    "        u, time = analyze.combine_files(filesu, 'vozocrtx', k, jss, iss)\n",
    "        v, time = analyze.combine_files(filesv, 'vomecrty', k,  jss, iss)\n",
    "        dep=depth[k]\n",
    "    \n",
    "    #Case two: for a specific range of depths\n",
    "    elif type(depthrange) == list:\n",
    "        k = np.where(np.logical_and(depth > depthrange[0], depth < depthrange[1]))[0]\n",
    "        dep = depth[k]\n",
    "        u, time = analyze.combine_files(filesu, 'vozocrtx', k, jss, iss)\n",
    "        v, time = analyze.combine_files(filesv, 'vomecrty', k,  jss, iss)\n",
    "    \n",
    "    #Case three: For the whole depth range 0 to 441m.\n",
    "    else:\n",
    "        u, time = analyze.combine_files(filesu, 'vozocrtx', depthrange, jss, iss)\n",
    "        v, time = analyze.combine_files(filesv, 'vomecrty', depthrange,  jss, iss)\n",
    "        dep=depth\n",
    "        \n",
    "    #For the nowcast the reftime is always Sep10th 2014. Set time of area we are looking at relative to this time.\n",
    "    time = tt.convert_to_seconds(time, reftime=reftime)\n",
    "    \n",
    "    return u, v, time, dep"
   ]
  },
  {
   "cell_type": "code",
   "execution_count": 70,
   "metadata": {
    "collapsed": false
   },
   "outputs": [],
   "source": [
    "def prepare_vel(u, v, depav=False, depth='None'):\n",
    "    \"\"\"Preparing the time series of the orthogonal pair of velocities to get tidal ellipse parameters. \n",
    "    This function masks, rotates and unstaggers the time series. The depth averaging does not work over \n",
    "    masked values.\n",
    "    \n",
    "    :arg u: One of the orthogonal components of the time series of tidal current velocities.\n",
    "    :type u:  :py:class:'np.ndarray'\n",
    "    \n",
    "    :arg v: One of the orthogonal components of the time series of tidal current velocities. \n",
    "    :type v:  :py:class:'np.ndarray'\n",
    "\n",
    "    :arg depav: True will depth average over the whole depth profile given. Default is False.\n",
    "    :type dep: boolean\n",
    "    \n",
    "    :arg depth: depth vector corresponding to the depth of the velocities, only requiered if depav=True.\n",
    "    :type depth: :py:class:'np.ndarray' or string\n",
    "    \"\"\"\n",
    "    #Masks land values\n",
    "    u_0 = np.ma.masked_values(u, 0)\n",
    "    v_0 = np.ma.masked_values(v, 0)\n",
    "\n",
    "    #Unstaggers velocities. Will loose one x and one y dimension due to unstaggering.\n",
    "    u_u, v_v = research_VENUS.unstag_rot(u_0, v_0)\n",
    "\n",
    "    #Depth averaging over all the depth values given if set to True.\n",
    "    if depav == True:\n",
    "        assert type(depth)!=str, 'Depth values must be entered to proceed with depth averaging'\n",
    "        u_u = analyze.depth_average(u_u, depth, 1)\n",
    "        v_v = analyze.depth_average(v_v, depth, 1)\n",
    "    return u_u, v_v"
   ]
  },
  {
   "cell_type": "code",
   "execution_count": 7,
   "metadata": {
    "collapsed": false
   },
   "outputs": [],
   "source": [
    "def get_params_nowcast(to, tf, i, j, path, depthrange='None', depav=False, tidecorr=research_VENUS.CorrTides):\n",
    "    \"\"\" This function loads all the data between the start and the end date\n",
    "    that contains hourly velocities in the netCDF4 nowcast files in the specified depth range. Then\n",
    "    masks, rotates and unstaggers the time series. The unstaggering causes the shapes of \n",
    "    the returned arrays to be 1 less than those of the input arrays in the y and x dimensions. Finally it\n",
    "    calculates tidal ellipse parameters from the u and v time series. Maintains the shape \n",
    "    of the velocities enters only loosing the time dimensions.\n",
    "\n",
    "    :arg to: The beginning of the date range of interest\n",
    "    :type to: datetime object\n",
    "\n",
    "    :arg tf: The end of the date range of interest\n",
    "    :type tf: datetime object\n",
    "\n",
    "    :arg i: x index, must have at least 2 values for unstaggering, will loose the first i \n",
    "        during the unstaggering in prepare_vel.\n",
    "    :type i: float or list\n",
    "    \n",
    "    :arg j: y index, must have at least 2 values for unstaggering, will loose the first j \n",
    "        during the unstaggering in prepare_vel.\n",
    "    :type j: float or list\n",
    "\n",
    "    :arg path: Defines the path used(eg. nowcast)\n",
    "    :type path: string\n",
    "\n",
    "    :arg depthrange: Depth values of interest in meters as a float for a single depth or a list for a range. \n",
    "            A float will find the closest depth that is <= the value given. Default is 'None' for the whole\n",
    "            water column (0-441m).\n",
    "    :type depav: float, string or list.\n",
    "\n",
    "    :arg depav: True will depth average over the whole depth profile given. Default is False.\n",
    "    :type dep: boolean\n",
    "    \n",
    "    :arg depth: depth vector corresponding to the depth of the velocities, only requiered if depav=True.\n",
    "    :type depth: :py:class:'np.ndarray' or string\n",
    "    \n",
    "    :returns: params, a numpy array containting [M2 semi-major, M2 semi-minor, M2 inclication, M2 phase, K1 semi-major, \n",
    "            K1 semi-minor, K1 inclication, K1 phase]\n",
    "    \"\"\"\n",
    "        \n",
    "    u, v, time, dep = ellipse_files_nowcast(to, tf, i, j, path, depthrange=depthrange)\n",
    "    u_u, v_v = prepare_vel(u, v, depav=depav, depth=dep)\n",
    "    params = get_params(u_u, v_v, time, tidecorr=tidecorr)\n",
    "    \n",
    "    return params, dep"
   ]
  },
  {
   "cell_type": "markdown",
   "metadata": {},
   "source": [
    "###Nowcast runs: single location, single depth"
   ]
  },
  {
   "cell_type": "code",
   "execution_count": 82,
   "metadata": {
    "collapsed": false
   },
   "outputs": [],
   "source": [
    "path = '/data/dlatorne/MEOPAR/SalishSea/nowcast/'\n",
    "\n",
    "#The longer the date range the longer the analysis takes\n",
    "to=datetime.datetime(2015,7,10)\n",
    "tf=datetime.datetime(2015,7,11)\n",
    "\n",
    "i = np.arange(280,283)\n",
    "j = np.arange(400, 416)\n"
   ]
  },
  {
   "cell_type": "code",
   "execution_count": 83,
   "metadata": {
    "collapsed": false
   },
   "outputs": [
    {
     "ename": "IndexError",
     "evalue": "list assignment index out of range",
     "output_type": "error",
     "traceback": [
      "\u001b[1;31m---------------------------------------------------------------------------\u001b[0m",
      "\u001b[1;31mIndexError\u001b[0m                                Traceback (most recent call last)",
      "\u001b[1;32m<ipython-input-83-ccf603086c3e>\u001b[0m in \u001b[0;36m<module>\u001b[1;34m()\u001b[0m\n\u001b[0;32m      1\u001b[0m \u001b[0mu\u001b[0m\u001b[1;33m,\u001b[0m \u001b[0mv\u001b[0m\u001b[1;33m,\u001b[0m \u001b[0mtime\u001b[0m\u001b[1;33m,\u001b[0m \u001b[0mdep\u001b[0m \u001b[1;33m=\u001b[0m \u001b[0mellipse_files_nowcast\u001b[0m\u001b[1;33m(\u001b[0m\u001b[0mto\u001b[0m\u001b[1;33m,\u001b[0m \u001b[0mtf\u001b[0m\u001b[1;33m,\u001b[0m \u001b[0mi\u001b[0m\u001b[1;33m,\u001b[0m \u001b[0mj\u001b[0m\u001b[1;33m,\u001b[0m \u001b[0mpath\u001b[0m\u001b[1;33m,\u001b[0m \u001b[0mdepthrange\u001b[0m\u001b[1;33m=\u001b[0m\u001b[1;36m5\u001b[0m\u001b[1;33m)\u001b[0m\u001b[1;33m\u001b[0m\u001b[0m\n\u001b[1;32m----> 2\u001b[1;33m \u001b[0mu_u\u001b[0m\u001b[1;33m,\u001b[0m \u001b[0mv_v\u001b[0m \u001b[1;33m=\u001b[0m \u001b[0mprepare_vel\u001b[0m\u001b[1;33m(\u001b[0m\u001b[0mu\u001b[0m\u001b[1;33m,\u001b[0m \u001b[0mv\u001b[0m\u001b[1;33m,\u001b[0m \u001b[0mdepav\u001b[0m\u001b[1;33m=\u001b[0m\u001b[0mTrue\u001b[0m\u001b[1;33m,\u001b[0m \u001b[0mdepth\u001b[0m\u001b[1;33m=\u001b[0m\u001b[0mdep\u001b[0m\u001b[1;33m)\u001b[0m\u001b[1;33m\u001b[0m\u001b[0m\n\u001b[0m\u001b[0;32m      3\u001b[0m \u001b[0mparams\u001b[0m \u001b[1;33m=\u001b[0m \u001b[0mget_params\u001b[0m\u001b[1;33m(\u001b[0m\u001b[0mu_u\u001b[0m\u001b[1;33m,\u001b[0m \u001b[0mv_v\u001b[0m\u001b[1;33m,\u001b[0m \u001b[0mtime\u001b[0m\u001b[1;33m)\u001b[0m\u001b[1;33m\u001b[0m\u001b[0m\n\u001b[0;32m      4\u001b[0m \u001b[0mparams\u001b[0m\u001b[1;33m[\u001b[0m\u001b[1;34m'M2'\u001b[0m\u001b[1;33m]\u001b[0m\u001b[1;33m[\u001b[0m\u001b[1;34m'Phase'\u001b[0m\u001b[1;33m]\u001b[0m\u001b[1;33m\u001b[0m\u001b[0m\n",
      "\u001b[1;32m<ipython-input-70-e9fb57191407>\u001b[0m in \u001b[0;36mprepare_vel\u001b[1;34m(u, v, depav, depth)\u001b[0m\n\u001b[0;32m     26\u001b[0m     \u001b[1;32mif\u001b[0m \u001b[0mdepav\u001b[0m \u001b[1;33m==\u001b[0m \u001b[0mTrue\u001b[0m\u001b[1;33m:\u001b[0m\u001b[1;33m\u001b[0m\u001b[0m\n\u001b[0;32m     27\u001b[0m         \u001b[1;32massert\u001b[0m \u001b[0mtype\u001b[0m\u001b[1;33m(\u001b[0m\u001b[0mdepth\u001b[0m\u001b[1;33m)\u001b[0m\u001b[1;33m!=\u001b[0m\u001b[0mstr\u001b[0m\u001b[1;33m,\u001b[0m \u001b[1;34m'Depth values must be entered to proceed with depth averaging'\u001b[0m\u001b[1;33m\u001b[0m\u001b[0m\n\u001b[1;32m---> 28\u001b[1;33m         \u001b[0mu_u\u001b[0m \u001b[1;33m=\u001b[0m \u001b[0manalyze\u001b[0m\u001b[1;33m.\u001b[0m\u001b[0mdepth_average\u001b[0m\u001b[1;33m(\u001b[0m\u001b[0mu_u\u001b[0m\u001b[1;33m,\u001b[0m \u001b[0mdepth\u001b[0m\u001b[1;33m,\u001b[0m \u001b[1;36m1\u001b[0m\u001b[1;33m)\u001b[0m\u001b[1;33m\u001b[0m\u001b[0m\n\u001b[0m\u001b[0;32m     29\u001b[0m         \u001b[0mv_v\u001b[0m \u001b[1;33m=\u001b[0m \u001b[0manalyze\u001b[0m\u001b[1;33m.\u001b[0m\u001b[0mdepth_average\u001b[0m\u001b[1;33m(\u001b[0m\u001b[0mv_v\u001b[0m\u001b[1;33m,\u001b[0m \u001b[0mdepth\u001b[0m\u001b[1;33m,\u001b[0m \u001b[1;36m1\u001b[0m\u001b[1;33m)\u001b[0m\u001b[1;33m\u001b[0m\u001b[0m\n\u001b[0;32m     30\u001b[0m     \u001b[1;32mreturn\u001b[0m \u001b[0mu_u\u001b[0m\u001b[1;33m,\u001b[0m \u001b[0mv_v\u001b[0m\u001b[1;33m\u001b[0m\u001b[0m\n",
      "\u001b[1;32m/ocean/mdunn/MEOPAR/tools/SalishSeaTools/salishsea_tools/nowcast/analyze.pyc\u001b[0m in \u001b[0;36mdepth_average\u001b[1;34m(var, depths, depth_axis)\u001b[0m\n\u001b[0;32m    441\u001b[0m     \u001b[0mde\u001b[0m \u001b[1;33m=\u001b[0m \u001b[0mnp\u001b[0m\u001b[1;33m.\u001b[0m\u001b[0marray\u001b[0m\u001b[1;33m(\u001b[0m\u001b[0mdepths\u001b[0m\u001b[1;33m)\u001b[0m\u001b[1;33m\u001b[0m\u001b[0m\n\u001b[0;32m    442\u001b[0m     \u001b[1;31m# Integrate, the easy part\u001b[0m\u001b[1;33m\u001b[0m\u001b[1;33m\u001b[0m\u001b[0m\n\u001b[1;32m--> 443\u001b[1;33m     \u001b[0mintegral\u001b[0m \u001b[1;33m=\u001b[0m \u001b[0mnp\u001b[0m\u001b[1;33m.\u001b[0m\u001b[0mtrapz\u001b[0m\u001b[1;33m(\u001b[0m\u001b[0mvar\u001b[0m\u001b[1;33m,\u001b[0m \u001b[0mx\u001b[0m\u001b[1;33m=\u001b[0m\u001b[0mde\u001b[0m\u001b[1;33m,\u001b[0m \u001b[0maxis\u001b[0m\u001b[1;33m=\u001b[0m\u001b[0mdepth_axis\u001b[0m\u001b[1;33m)\u001b[0m\u001b[1;33m\u001b[0m\u001b[0m\n\u001b[0m\u001b[0;32m    444\u001b[0m     \u001b[1;31m# Find depth for averaging\u001b[0m\u001b[1;33m\u001b[0m\u001b[1;33m\u001b[0m\u001b[0m\n\u001b[0;32m    445\u001b[0m     \u001b[1;31m# Need to expand the depths array to same shape as the integrand.\u001b[0m\u001b[1;33m\u001b[0m\u001b[1;33m\u001b[0m\u001b[0m\n",
      "\u001b[1;32m/home/mdunn/anaconda/lib/python2.7/site-packages/numpy/lib/function_base.pyc\u001b[0m in \u001b[0;36mtrapz\u001b[1;34m(y, x, dx, axis)\u001b[0m\n\u001b[0;32m   3232\u001b[0m             \u001b[0md\u001b[0m \u001b[1;33m=\u001b[0m \u001b[0md\u001b[0m\u001b[1;33m.\u001b[0m\u001b[0mreshape\u001b[0m\u001b[1;33m(\u001b[0m\u001b[0mshape\u001b[0m\u001b[1;33m)\u001b[0m\u001b[1;33m\u001b[0m\u001b[0m\n\u001b[0;32m   3233\u001b[0m         \u001b[1;32melse\u001b[0m\u001b[1;33m:\u001b[0m\u001b[1;33m\u001b[0m\u001b[0m\n\u001b[1;32m-> 3234\u001b[1;33m             \u001b[0md\u001b[0m \u001b[1;33m=\u001b[0m \u001b[0mdiff\u001b[0m\u001b[1;33m(\u001b[0m\u001b[0mx\u001b[0m\u001b[1;33m,\u001b[0m \u001b[0maxis\u001b[0m\u001b[1;33m=\u001b[0m\u001b[0maxis\u001b[0m\u001b[1;33m)\u001b[0m\u001b[1;33m\u001b[0m\u001b[0m\n\u001b[0m\u001b[0;32m   3235\u001b[0m     \u001b[0mnd\u001b[0m \u001b[1;33m=\u001b[0m \u001b[0mlen\u001b[0m\u001b[1;33m(\u001b[0m\u001b[0my\u001b[0m\u001b[1;33m.\u001b[0m\u001b[0mshape\u001b[0m\u001b[1;33m)\u001b[0m\u001b[1;33m\u001b[0m\u001b[0m\n\u001b[0;32m   3236\u001b[0m     \u001b[0mslice1\u001b[0m \u001b[1;33m=\u001b[0m \u001b[1;33m[\u001b[0m\u001b[0mslice\u001b[0m\u001b[1;33m(\u001b[0m\u001b[0mNone\u001b[0m\u001b[1;33m)\u001b[0m\u001b[1;33m]\u001b[0m\u001b[1;33m*\u001b[0m\u001b[0mnd\u001b[0m\u001b[1;33m\u001b[0m\u001b[0m\n",
      "\u001b[1;32m/home/mdunn/anaconda/lib/python2.7/site-packages/numpy/lib/function_base.pyc\u001b[0m in \u001b[0;36mdiff\u001b[1;34m(a, n, axis)\u001b[0m\n\u001b[0;32m   1105\u001b[0m     \u001b[0mslice1\u001b[0m \u001b[1;33m=\u001b[0m \u001b[1;33m[\u001b[0m\u001b[0mslice\u001b[0m\u001b[1;33m(\u001b[0m\u001b[0mNone\u001b[0m\u001b[1;33m)\u001b[0m\u001b[1;33m]\u001b[0m\u001b[1;33m*\u001b[0m\u001b[0mnd\u001b[0m\u001b[1;33m\u001b[0m\u001b[0m\n\u001b[0;32m   1106\u001b[0m     \u001b[0mslice2\u001b[0m \u001b[1;33m=\u001b[0m \u001b[1;33m[\u001b[0m\u001b[0mslice\u001b[0m\u001b[1;33m(\u001b[0m\u001b[0mNone\u001b[0m\u001b[1;33m)\u001b[0m\u001b[1;33m]\u001b[0m\u001b[1;33m*\u001b[0m\u001b[0mnd\u001b[0m\u001b[1;33m\u001b[0m\u001b[0m\n\u001b[1;32m-> 1107\u001b[1;33m     \u001b[0mslice1\u001b[0m\u001b[1;33m[\u001b[0m\u001b[0maxis\u001b[0m\u001b[1;33m]\u001b[0m \u001b[1;33m=\u001b[0m \u001b[0mslice\u001b[0m\u001b[1;33m(\u001b[0m\u001b[1;36m1\u001b[0m\u001b[1;33m,\u001b[0m \u001b[0mNone\u001b[0m\u001b[1;33m)\u001b[0m\u001b[1;33m\u001b[0m\u001b[0m\n\u001b[0m\u001b[0;32m   1108\u001b[0m     \u001b[0mslice2\u001b[0m\u001b[1;33m[\u001b[0m\u001b[0maxis\u001b[0m\u001b[1;33m]\u001b[0m \u001b[1;33m=\u001b[0m \u001b[0mslice\u001b[0m\u001b[1;33m(\u001b[0m\u001b[0mNone\u001b[0m\u001b[1;33m,\u001b[0m \u001b[1;33m-\u001b[0m\u001b[1;36m1\u001b[0m\u001b[1;33m)\u001b[0m\u001b[1;33m\u001b[0m\u001b[0m\n\u001b[0;32m   1109\u001b[0m     \u001b[0mslice1\u001b[0m \u001b[1;33m=\u001b[0m \u001b[0mtuple\u001b[0m\u001b[1;33m(\u001b[0m\u001b[0mslice1\u001b[0m\u001b[1;33m)\u001b[0m\u001b[1;33m\u001b[0m\u001b[0m\n",
      "\u001b[1;31mIndexError\u001b[0m: list assignment index out of range"
     ]
    }
   ],
   "source": [
    "u, v, time, dep = ellipse_files_nowcast(to, tf, i, j, path, depthrange=5)\n",
    "u_u, v_v = prepare_vel(u, v, depav=True, depth=dep)\n",
    "params = get_params(u_u, v_v, time)\n",
    "params['M2']['Phase']"
   ]
  },
  {
   "cell_type": "markdown",
   "metadata": {},
   "source": [
    "###Nowcast runs: Area with a depth range of [0,60]"
   ]
  },
  {
   "cell_type": "code",
   "execution_count": 84,
   "metadata": {
    "collapsed": false
   },
   "outputs": [],
   "source": [
    "path = '/data/dlatorne/MEOPAR/SalishSea/nowcast/'\n",
    "\n",
    "to=datetime.datetime(2015,7,10)\n",
    "tf=datetime.datetime(2015,7,11)\n",
    "\n",
    "i = np.arange(5, 53)\n",
    "j = np.arange(230, 255)"
   ]
  },
  {
   "cell_type": "code",
   "execution_count": 86,
   "metadata": {
    "collapsed": false
   },
   "outputs": [
    {
     "ename": "ValueError",
     "evalue": "total size of new array must be unchanged",
     "output_type": "error",
     "traceback": [
      "\u001b[1;31m---------------------------------------------------------------------------\u001b[0m",
      "\u001b[1;31mValueError\u001b[0m                                Traceback (most recent call last)",
      "\u001b[1;32m<ipython-input-86-c684eba69cbb>\u001b[0m in \u001b[0;36m<module>\u001b[1;34m()\u001b[0m\n\u001b[1;32m----> 1\u001b[1;33m \u001b[0mparams\u001b[0m\u001b[1;33m,\u001b[0m \u001b[0mdep\u001b[0m \u001b[1;33m=\u001b[0m \u001b[0mget_params_nowcast\u001b[0m\u001b[1;33m(\u001b[0m\u001b[0mto\u001b[0m\u001b[1;33m,\u001b[0m \u001b[0mtf\u001b[0m\u001b[1;33m,\u001b[0m \u001b[0mi\u001b[0m\u001b[1;33m,\u001b[0m \u001b[0mj\u001b[0m\u001b[1;33m,\u001b[0m \u001b[0mpath\u001b[0m\u001b[1;33m,\u001b[0m \u001b[0mdepthrange\u001b[0m\u001b[1;33m=\u001b[0m\u001b[1;33m[\u001b[0m\u001b[1;36m0\u001b[0m\u001b[1;33m,\u001b[0m \u001b[1;36m60\u001b[0m\u001b[1;33m]\u001b[0m\u001b[1;33m,\u001b[0m \u001b[0mdepav\u001b[0m\u001b[1;33m=\u001b[0m\u001b[0mTrue\u001b[0m\u001b[1;33m)\u001b[0m\u001b[1;33m\u001b[0m\u001b[0m\n\u001b[0m\u001b[0;32m      2\u001b[0m \u001b[1;32mprint\u001b[0m \u001b[0mparams\u001b[0m\u001b[1;33m[\u001b[0m\u001b[1;34m'M2'\u001b[0m\u001b[1;33m]\u001b[0m\u001b[1;33m[\u001b[0m\u001b[1;34m'Phase'\u001b[0m\u001b[1;33m]\u001b[0m\u001b[1;33m.\u001b[0m\u001b[0mshape\u001b[0m\u001b[1;33m,\u001b[0m \u001b[0mdep\u001b[0m\u001b[1;33m\u001b[0m\u001b[0m\n",
      "\u001b[1;32m<ipython-input-7-a45960dc85ef>\u001b[0m in \u001b[0;36mget_params_nowcast\u001b[1;34m(to, tf, i, j, path, depthrange, depav, tidecorr)\u001b[0m\n\u001b[0;32m     40\u001b[0m \u001b[1;33m\u001b[0m\u001b[0m\n\u001b[0;32m     41\u001b[0m     \u001b[0mu\u001b[0m\u001b[1;33m,\u001b[0m \u001b[0mv\u001b[0m\u001b[1;33m,\u001b[0m \u001b[0mtime\u001b[0m\u001b[1;33m,\u001b[0m \u001b[0mdep\u001b[0m \u001b[1;33m=\u001b[0m \u001b[0mellipse_files_nowcast\u001b[0m\u001b[1;33m(\u001b[0m\u001b[0mto\u001b[0m\u001b[1;33m,\u001b[0m \u001b[0mtf\u001b[0m\u001b[1;33m,\u001b[0m \u001b[0mi\u001b[0m\u001b[1;33m,\u001b[0m \u001b[0mj\u001b[0m\u001b[1;33m,\u001b[0m \u001b[0mpath\u001b[0m\u001b[1;33m,\u001b[0m \u001b[0mdepthrange\u001b[0m\u001b[1;33m=\u001b[0m\u001b[0mdepthrange\u001b[0m\u001b[1;33m)\u001b[0m\u001b[1;33m\u001b[0m\u001b[0m\n\u001b[1;32m---> 42\u001b[1;33m     \u001b[0mu_u\u001b[0m\u001b[1;33m,\u001b[0m \u001b[0mv_v\u001b[0m \u001b[1;33m=\u001b[0m \u001b[0mprepare_vel\u001b[0m\u001b[1;33m(\u001b[0m\u001b[0mu\u001b[0m\u001b[1;33m,\u001b[0m \u001b[0mv\u001b[0m\u001b[1;33m,\u001b[0m \u001b[0mdepav\u001b[0m\u001b[1;33m=\u001b[0m\u001b[0mdepav\u001b[0m\u001b[1;33m,\u001b[0m \u001b[0mdepth\u001b[0m\u001b[1;33m=\u001b[0m\u001b[0mdep\u001b[0m\u001b[1;33m)\u001b[0m\u001b[1;33m\u001b[0m\u001b[0m\n\u001b[0m\u001b[0;32m     43\u001b[0m     \u001b[0mparams\u001b[0m \u001b[1;33m=\u001b[0m \u001b[0mget_params\u001b[0m\u001b[1;33m(\u001b[0m\u001b[0mu_u\u001b[0m\u001b[1;33m,\u001b[0m \u001b[0mv_v\u001b[0m\u001b[1;33m,\u001b[0m \u001b[0mtime\u001b[0m\u001b[1;33m,\u001b[0m \u001b[0mtidecorr\u001b[0m\u001b[1;33m=\u001b[0m\u001b[0mtidecorr\u001b[0m\u001b[1;33m)\u001b[0m\u001b[1;33m\u001b[0m\u001b[0m\n\u001b[0;32m     44\u001b[0m \u001b[1;33m\u001b[0m\u001b[0m\n",
      "\u001b[1;32m<ipython-input-70-e9fb57191407>\u001b[0m in \u001b[0;36mprepare_vel\u001b[1;34m(u, v, depav, depth)\u001b[0m\n\u001b[0;32m     26\u001b[0m     \u001b[1;32mif\u001b[0m \u001b[0mdepav\u001b[0m \u001b[1;33m==\u001b[0m \u001b[0mTrue\u001b[0m\u001b[1;33m:\u001b[0m\u001b[1;33m\u001b[0m\u001b[0m\n\u001b[0;32m     27\u001b[0m         \u001b[1;32massert\u001b[0m \u001b[0mtype\u001b[0m\u001b[1;33m(\u001b[0m\u001b[0mdepth\u001b[0m\u001b[1;33m)\u001b[0m\u001b[1;33m!=\u001b[0m\u001b[0mstr\u001b[0m\u001b[1;33m,\u001b[0m \u001b[1;34m'Depth values must be entered to proceed with depth averaging'\u001b[0m\u001b[1;33m\u001b[0m\u001b[0m\n\u001b[1;32m---> 28\u001b[1;33m         \u001b[0mu_u\u001b[0m \u001b[1;33m=\u001b[0m \u001b[0manalyze\u001b[0m\u001b[1;33m.\u001b[0m\u001b[0mdepth_average\u001b[0m\u001b[1;33m(\u001b[0m\u001b[0mu_u\u001b[0m\u001b[1;33m,\u001b[0m \u001b[0mdepth\u001b[0m\u001b[1;33m,\u001b[0m \u001b[1;36m1\u001b[0m\u001b[1;33m)\u001b[0m\u001b[1;33m\u001b[0m\u001b[0m\n\u001b[0m\u001b[0;32m     29\u001b[0m         \u001b[0mv_v\u001b[0m \u001b[1;33m=\u001b[0m \u001b[0manalyze\u001b[0m\u001b[1;33m.\u001b[0m\u001b[0mdepth_average\u001b[0m\u001b[1;33m(\u001b[0m\u001b[0mv_v\u001b[0m\u001b[1;33m,\u001b[0m \u001b[0mdepth\u001b[0m\u001b[1;33m,\u001b[0m \u001b[1;36m1\u001b[0m\u001b[1;33m)\u001b[0m\u001b[1;33m\u001b[0m\u001b[0m\n\u001b[0;32m     30\u001b[0m     \u001b[1;32mreturn\u001b[0m \u001b[0mu_u\u001b[0m\u001b[1;33m,\u001b[0m \u001b[0mv_v\u001b[0m\u001b[1;33m\u001b[0m\u001b[0m\n",
      "\u001b[1;32m/ocean/mdunn/MEOPAR/tools/SalishSeaTools/salishsea_tools/nowcast/analyze.pyc\u001b[0m in \u001b[0;36mdepth_average\u001b[1;34m(var, depths, depth_axis)\u001b[0m\n\u001b[0;32m    454\u001b[0m     \u001b[0mind_surface\u001b[0m\u001b[1;33m,\u001b[0m \u001b[0mind_depth\u001b[0m \u001b[1;33m=\u001b[0m \u001b[0mnp\u001b[0m\u001b[1;33m.\u001b[0m\u001b[0mma\u001b[0m\u001b[1;33m.\u001b[0m\u001b[0mnotmasked_edges\u001b[0m\u001b[1;33m(\u001b[0m\u001b[0mvar\u001b[0m\u001b[1;33m,\u001b[0m \u001b[0maxis\u001b[0m\u001b[1;33m=\u001b[0m\u001b[0mdepth_axis\u001b[0m\u001b[1;33m)\u001b[0m\u001b[1;33m\u001b[0m\u001b[0m\n\u001b[0;32m    455\u001b[0m     \u001b[0mtotal_depths\u001b[0m \u001b[1;33m=\u001b[0m \u001b[0mexpanded_depths\u001b[0m\u001b[1;33m[\u001b[0m\u001b[0mind_depth\u001b[0m\u001b[1;33m]\u001b[0m \u001b[1;33m-\u001b[0m \u001b[0mexpanded_depths\u001b[0m\u001b[1;33m[\u001b[0m\u001b[0mind_surface\u001b[0m\u001b[1;33m]\u001b[0m\u001b[1;33m\u001b[0m\u001b[0m\n\u001b[1;32m--> 456\u001b[1;33m     \u001b[0mtotal_depths\u001b[0m \u001b[1;33m=\u001b[0m \u001b[0mtotal_depths\u001b[0m\u001b[1;33m.\u001b[0m\u001b[0mreshape\u001b[0m\u001b[1;33m(\u001b[0m\u001b[0mintegral\u001b[0m\u001b[1;33m.\u001b[0m\u001b[0mshape\u001b[0m\u001b[1;33m)\u001b[0m\u001b[1;33m\u001b[0m\u001b[0m\n\u001b[0m\u001b[0;32m    457\u001b[0m     \u001b[1;31m# Average by dividing integral by total depth\u001b[0m\u001b[1;33m\u001b[0m\u001b[1;33m\u001b[0m\u001b[0m\n\u001b[0;32m    458\u001b[0m     \u001b[0maverage\u001b[0m \u001b[1;33m=\u001b[0m \u001b[0mintegral\u001b[0m\u001b[1;33m/\u001b[0m\u001b[0mtotal_depths\u001b[0m\u001b[1;33m\u001b[0m\u001b[0m\n",
      "\u001b[1;31mValueError\u001b[0m: total size of new array must be unchanged"
     ]
    }
   ],
   "source": [
    "params, dep = get_params_nowcast(to, tf, i, j, path, depthrange=[0, 60], depav=True)\n",
    "print params['M2']['Phase'].shape, dep"
   ]
  },
  {
   "cell_type": "markdown",
   "metadata": {},
   "source": [
    "#Case 2: Any other type of files"
   ]
  },
  {
   "cell_type": "markdown",
   "metadata": {},
   "source": [
    "For any other type of file, there needs to be two orthorgonal time series velocitiy vectors. Each must have time in the first dimension, depth in the second if applicable and the locations in the third (and fourth if looking at an area).\n",
    "\n",
    "The analysis will be done over the whole time, depth and area that is given.\n",
    "\n",
    "U and V must be the same shape.\n",
    "\n",
    "Time vector must be in seconds..."
   ]
  },
  {
   "cell_type": "code",
   "execution_count": null,
   "metadata": {
    "collapsed": false
   },
   "outputs": [],
   "source": [
    "grid = '/ocean/mdunn/MEOPAR/jun_VENUS_east_gridded.nc'\n",
    "G = nc.Dataset(grid)\n",
    "u = G.variables['vozocrtx'][:]\n",
    "v = G.variables['vomecrty'][:]\n",
    "\n",
    "#Set up time in seconds\n",
    "t = G.variables['time_counter'][:]\n",
    "time = ([])\n",
    "t = nc_tools.timestamp(G, np.arange(u.shape[0]))\n",
    "for ind in range(len(t)):\n",
    "    t[ind] = t[ind].datetime\n",
    "time = np.append(time, t)\n",
    "\n",
    "time = tt.convert_to_seconds(time, reftime=ellipse.CorrTides['reftime'])"
   ]
  },
  {
   "cell_type": "code",
   "execution_count": null,
   "metadata": {
    "collapsed": false
   },
   "outputs": [],
   "source": [
    "u,v = ellipse.prepare_vel(u, v)\n",
    "params = get_params(u,v,time)"
   ]
  },
  {
   "cell_type": "code",
   "execution_count": null,
   "metadata": {
    "collapsed": true
   },
   "outputs": [],
   "source": []
  }
 ],
 "metadata": {
  "kernelspec": {
   "display_name": "Python 2",
   "language": "python",
   "name": "python2"
  },
  "language_info": {
   "codemirror_mode": {
    "name": "ipython",
    "version": 2
   },
   "file_extension": ".py",
   "mimetype": "text/x-python",
   "name": "python",
   "nbconvert_exporter": "python",
   "pygments_lexer": "ipython2",
   "version": "2.7.10"
  }
 },
 "nbformat": 4,
 "nbformat_minor": 0
}
