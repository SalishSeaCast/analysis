{
 "metadata": {
  "name": "",
  "signature": "sha256:97e7b33730fff8b6e9c7053f770c893c0b447e99acfafcd49e55ba80b06876e1"
 },
 "nbformat": 3,
 "nbformat_minor": 0,
 "worksheets": [
  {
   "cells": [
    {
     "cell_type": "code",
     "collapsed": false,
     "input": [
      "%matplotlib inline\n",
      "\n",
      "import matplotlib.pyplot as plt\n",
      "\n",
      "import arrow\n",
      "import datetime\n",
      "import pandas as pd\n",
      "from salishsea_tools import tidetools\n",
      "from salishsea_tools import stormtools\n"
     ],
     "language": "python",
     "metadata": {},
     "outputs": [],
     "prompt_number": 1
    },
    {
     "cell_type": "code",
     "collapsed": false,
     "input": [
      "yr=2014\n",
      "\n",
      "stations = {'PointAtkinson': 7795, 'Victoria': 7120, 'PatriciaBay': 7277, 'CampbellRiver': 8074}"
     ],
     "language": "python",
     "metadata": {},
     "outputs": [],
     "prompt_number": 3
    },
    {
     "cell_type": "code",
     "collapsed": false,
     "input": [
      "s = '30-Nov-' + str(2013) #start date \n",
      "e= '02-Dec-' + str(2014) #end date\n",
      "\n",
      "tidetools.get_dfo_wlev(stations['CampbellRiver'],s,e)"
     ],
     "language": "python",
     "metadata": {},
     "outputs": [],
     "prompt_number": 5
    },
    {
     "cell_type": "code",
     "collapsed": false,
     "input": [],
     "language": "python",
     "metadata": {},
     "outputs": []
    }
   ],
   "metadata": {}
  }
 ]
}