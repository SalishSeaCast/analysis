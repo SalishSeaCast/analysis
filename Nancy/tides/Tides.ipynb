{
 "metadata": {
  "name": "",
  "signature": "sha256:30f9fe47ae07fe98a1fd53f6afc9c514a078dea0e50c03e37dc23b3eaee9e049"
 },
 "nbformat": 3,
 "nbformat_minor": 0,
 "worksheets": [
  {
   "cells": [
    {
     "cell_type": "code",
     "collapsed": false,
     "input": [
      "%matplotlib inline\n",
      "\n",
      "import matplotlib.pyplot as plt\n",
      "\n",
      "import arrow\n",
      "import datetime\n",
      "import pandas as pd\n",
      "from salishsea_tools import tidetools\n",
      "from salishsea_tools import stormtools\n"
     ],
     "language": "python",
     "metadata": {},
     "outputs": [],
     "prompt_number": 1
    },
    {
     "cell_type": "code",
     "collapsed": false,
     "input": [
      "yr=2014\n",
      "\n",
      "stations = {'PointAtkinson': 7795, 'Victoria': 7120, 'PatriciaBay': 7277, 'CampbellRiver': 8074}"
     ],
     "language": "python",
     "metadata": {},
     "outputs": [],
     "prompt_number": 3
    },
    {
     "cell_type": "code",
     "collapsed": false,
     "input": [
      "s = '30-Nov-' + str(2013) #start date \n",
      "e= '02-Dec-' + str(2014) #end date\n",
      "\n",
      "tidetools.get_dfo_wlev(stations['CampbellRiver'],s,e)"
     ],
     "language": "python",
     "metadata": {},
     "outputs": [],
     "prompt_number": 5
    },
    {
     "cell_type": "code",
     "collapsed": false,
     "input": [
      "tfile='Point Atkinson_t_tide_compare8_31-Dec-2013_02-Jan-2015.csv'\n",
      "ttide1,msl= stormtools.load_tidal_predictions(tfile)\n",
      "\n",
      "\n",
      "tfile='Point Atkinson_t_tide_compare8_31-Dec-2013_02-Dec-2015.csv'\n",
      "ttide2,msl= stormtools.load_tidal_predictions(tfile)"
     ],
     "language": "python",
     "metadata": {},
     "outputs": [
      {
       "ename": "IndexError",
       "evalue": "list index out of range",
       "output_type": "pyerr",
       "traceback": [
        "\u001b[1;31m---------------------------------------------------------------------------\u001b[0m\n\u001b[1;31mIndexError\u001b[0m                                Traceback (most recent call last)",
        "\u001b[1;32m<ipython-input-6-d2074e3791a8>\u001b[0m in \u001b[0;36m<module>\u001b[1;34m()\u001b[0m\n\u001b[0;32m      4\u001b[0m \u001b[1;33m\u001b[0m\u001b[0m\n\u001b[0;32m      5\u001b[0m \u001b[0mtfile\u001b[0m\u001b[1;33m=\u001b[0m\u001b[1;34m'Point Atkinson_t_tide_compare8_31-Dec-2013_02-Dec-2015.csv'\u001b[0m\u001b[1;33m\u001b[0m\u001b[0m\n\u001b[1;32m----> 6\u001b[1;33m \u001b[0mttide2\u001b[0m\u001b[1;33m,\u001b[0m\u001b[0mmsl\u001b[0m\u001b[1;33m=\u001b[0m \u001b[0mstormtools\u001b[0m\u001b[1;33m.\u001b[0m\u001b[0mload_tidal_predictions\u001b[0m\u001b[1;33m(\u001b[0m\u001b[0mtfile\u001b[0m\u001b[1;33m)\u001b[0m\u001b[1;33m\u001b[0m\u001b[0m\n\u001b[0m",
        "\u001b[1;32m/data/nsoontie/MEOPAR/tools/SalishSeaTools/salishsea_tools/stormtools.pyc\u001b[0m in \u001b[0;36mload_tidal_predictions\u001b[1;34m(filename)\u001b[0m\n\u001b[0;32m    367\u001b[0m     \u001b[1;32mwith\u001b[0m \u001b[0mopen\u001b[0m\u001b[1;33m(\u001b[0m\u001b[0mfilename\u001b[0m\u001b[1;33m,\u001b[0m \u001b[1;34m'rb'\u001b[0m\u001b[1;33m)\u001b[0m \u001b[1;32mas\u001b[0m \u001b[0mf\u001b[0m\u001b[1;33m:\u001b[0m\u001b[1;33m\u001b[0m\u001b[0m\n\u001b[0;32m    368\u001b[0m         \u001b[0mmycsv\u001b[0m \u001b[1;33m=\u001b[0m \u001b[0mcsv\u001b[0m\u001b[1;33m.\u001b[0m\u001b[0mreader\u001b[0m\u001b[1;33m(\u001b[0m\u001b[0mf\u001b[0m\u001b[1;33m)\u001b[0m\u001b[1;33m;\u001b[0m \u001b[0mmycsv\u001b[0m \u001b[1;33m=\u001b[0m \u001b[0mlist\u001b[0m\u001b[1;33m(\u001b[0m\u001b[0mmycsv\u001b[0m\u001b[1;33m)\u001b[0m\u001b[1;33m\u001b[0m\u001b[0m\n\u001b[1;32m--> 369\u001b[1;33m         \u001b[0mmsl\u001b[0m \u001b[1;33m=\u001b[0m \u001b[0mmycsv\u001b[0m\u001b[1;33m[\u001b[0m\u001b[0mline_number\u001b[0m\u001b[1;33m]\u001b[0m\u001b[1;33m[\u001b[0m\u001b[1;36m1\u001b[0m\u001b[1;33m]\u001b[0m\u001b[1;33m\u001b[0m\u001b[0m\n\u001b[0m\u001b[0;32m    370\u001b[0m         \u001b[0mmsl\u001b[0m\u001b[1;33m=\u001b[0m\u001b[0mfloat\u001b[0m\u001b[1;33m(\u001b[0m\u001b[0mmsl\u001b[0m\u001b[1;33m)\u001b[0m\u001b[1;33m\u001b[0m\u001b[0m\n\u001b[0;32m    371\u001b[0m \u001b[1;33m\u001b[0m\u001b[0m\n",
        "\u001b[1;31mIndexError\u001b[0m: list index out of range"
       ]
      }
     ],
     "prompt_number": 6
    },
    {
     "cell_type": "code",
     "collapsed": false,
     "input": [],
     "language": "python",
     "metadata": {},
     "outputs": []
    }
   ],
   "metadata": {}
  }
 ]
}