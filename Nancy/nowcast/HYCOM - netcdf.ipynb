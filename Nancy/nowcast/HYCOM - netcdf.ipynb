{
 "cells": [
  {
   "cell_type": "markdown",
   "metadata": {},
   "source": [
    "Experiemtne with HYCOM netcdf opening"
   ]
  },
  {
   "cell_type": "code",
   "execution_count": 1,
   "metadata": {
    "collapsed": true
   },
   "outputs": [],
   "source": [
    "import netCDF4 as nc\n",
    "import matplotlib.pyplot as plt \n",
    "import datetime\n",
    "import numpy as np\n",
    "\n",
    "from salishsea_tools.nowcast import figures, residuals\n",
    "from salishsea_tools import viz_tools\n",
    "%matplotlib inline"
   ]
  },
  {
   "cell_type": "code",
   "execution_count": 2,
   "metadata": {
    "collapsed": false
   },
   "outputs": [],
   "source": [
    "date = '20150729'\n",
    "url = ('http://nomads.ncep.noaa.gov:9090/dods/rtofs/rtofs_global{}/rtofs_glo_2ds_forecast_3hrly_diag'.format(date))"
   ]
  },
  {
   "cell_type": "code",
   "execution_count": 3,
   "metadata": {
    "collapsed": false
   },
   "outputs": [],
   "source": [
    "f = nc.Dataset(url)"
   ]
  },
  {
   "cell_type": "code",
   "execution_count": 4,
   "metadata": {
    "collapsed": false
   },
   "outputs": [],
   "source": [
    "ssh=f.variables['ssh']\n",
    "time = f.variables['time']\n",
    "dates=nc.num2date(time[:],time.units)\n",
    "lon=f.variables['lon']"
   ]
  },
  {
   "cell_type": "code",
   "execution_count": 5,
   "metadata": {
    "collapsed": false
   },
   "outputs": [
    {
     "data": {
      "text/plain": [
       "<type 'netCDF4._netCDF4.Dataset'>\n",
       "root group (NETCDF3_CLASSIC data model, file format UNDEFINED):\n",
       "    title: 2D Sfc 3 Hourly Diagnostic 00Z29jul2015: Forecast, downloaded Jul 29 16:13 UTC\n",
       "    Conventions: COARDS\n",
       "GrADS\n",
       "    dataType: Grid\n",
       "    history: Wed Jul 29 19:23:02 UTC 2015 : imported by GrADS Data Server 2.0\n",
       "    dimensions(sizes): lat(2160), lev(1), lon(4320), time(65)\n",
       "    variables(dimensions): float64 \u001b[4mtime\u001b[0m(time), float64 \u001b[4mlev\u001b[0m(lev), float64 \u001b[4mlat\u001b[0m(lat), float64 \u001b[4mlon\u001b[0m(lon), float32 \u001b[4mssh\u001b[0m(time,lev,lat,lon), float32 \u001b[4mice_coverage\u001b[0m(time,lev,lat,lon), float32 \u001b[4mice_thickness\u001b[0m(time,lev,lat,lon)\n",
       "    groups: "
      ]
     },
     "execution_count": 5,
     "metadata": {},
     "output_type": "execute_result"
    }
   ],
   "source": [
    "f"
   ]
  },
  {
   "cell_type": "code",
   "execution_count": 6,
   "metadata": {
    "collapsed": false
   },
   "outputs": [
    {
     "data": {
      "text/plain": [
       "<type 'netCDF4._netCDF4.Variable'>\n",
       "float64 lon(lon)\n",
       "    grads_dim: x\n",
       "    grads_mapping: linear\n",
       "    grads_size: 4320\n",
       "    units: degrees_east\n",
       "    long_name: longitude\n",
       "    minimum: 74.16\n",
       "    maximum: 434.06227\n",
       "    resolution: 0.08333\n",
       "unlimited dimensions: \n",
       "current shape = (4320,)\n",
       "filling off"
      ]
     },
     "execution_count": 6,
     "metadata": {},
     "output_type": "execute_result"
    }
   ],
   "source": [
    "lon"
   ]
  },
  {
   "cell_type": "code",
   "execution_count": 7,
   "metadata": {
    "collapsed": false
   },
   "outputs": [
    {
     "data": {
      "text/plain": [
       "array([datetime.datetime(2015, 7, 29, 0, 0),\n",
       "       datetime.datetime(2015, 7, 29, 3, 0),\n",
       "       datetime.datetime(2015, 7, 29, 6, 0),\n",
       "       datetime.datetime(2015, 7, 29, 9, 0),\n",
       "       datetime.datetime(2015, 7, 29, 12, 0),\n",
       "       datetime.datetime(2015, 7, 29, 15, 0),\n",
       "       datetime.datetime(2015, 7, 29, 18, 0),\n",
       "       datetime.datetime(2015, 7, 29, 21, 0),\n",
       "       datetime.datetime(2015, 7, 30, 0, 0),\n",
       "       datetime.datetime(2015, 7, 30, 3, 0),\n",
       "       datetime.datetime(2015, 7, 30, 6, 0),\n",
       "       datetime.datetime(2015, 7, 30, 9, 0),\n",
       "       datetime.datetime(2015, 7, 30, 12, 0),\n",
       "       datetime.datetime(2015, 7, 30, 15, 0),\n",
       "       datetime.datetime(2015, 7, 30, 18, 0),\n",
       "       datetime.datetime(2015, 7, 30, 21, 0),\n",
       "       datetime.datetime(2015, 7, 31, 0, 0),\n",
       "       datetime.datetime(2015, 7, 31, 3, 0),\n",
       "       datetime.datetime(2015, 7, 31, 6, 0),\n",
       "       datetime.datetime(2015, 7, 31, 9, 0),\n",
       "       datetime.datetime(2015, 7, 31, 12, 0),\n",
       "       datetime.datetime(2015, 7, 31, 15, 0),\n",
       "       datetime.datetime(2015, 7, 31, 18, 0),\n",
       "       datetime.datetime(2015, 7, 31, 21, 0),\n",
       "       datetime.datetime(2015, 8, 1, 0, 0),\n",
       "       datetime.datetime(2015, 8, 1, 3, 0),\n",
       "       datetime.datetime(2015, 8, 1, 6, 0),\n",
       "       datetime.datetime(2015, 8, 1, 9, 0),\n",
       "       datetime.datetime(2015, 8, 1, 12, 0),\n",
       "       datetime.datetime(2015, 8, 1, 15, 0),\n",
       "       datetime.datetime(2015, 8, 1, 18, 0),\n",
       "       datetime.datetime(2015, 8, 1, 21, 0),\n",
       "       datetime.datetime(2015, 8, 2, 0, 0),\n",
       "       datetime.datetime(2015, 8, 2, 3, 0),\n",
       "       datetime.datetime(2015, 8, 2, 6, 0),\n",
       "       datetime.datetime(2015, 8, 2, 9, 0),\n",
       "       datetime.datetime(2015, 8, 2, 12, 0),\n",
       "       datetime.datetime(2015, 8, 2, 15, 0),\n",
       "       datetime.datetime(2015, 8, 2, 18, 0),\n",
       "       datetime.datetime(2015, 8, 2, 21, 0),\n",
       "       datetime.datetime(2015, 8, 3, 0, 0),\n",
       "       datetime.datetime(2015, 8, 3, 3, 0),\n",
       "       datetime.datetime(2015, 8, 3, 6, 0),\n",
       "       datetime.datetime(2015, 8, 3, 9, 0),\n",
       "       datetime.datetime(2015, 8, 3, 12, 0),\n",
       "       datetime.datetime(2015, 8, 3, 15, 0),\n",
       "       datetime.datetime(2015, 8, 3, 18, 0),\n",
       "       datetime.datetime(2015, 8, 3, 21, 0),\n",
       "       datetime.datetime(2015, 8, 4, 0, 0),\n",
       "       datetime.datetime(2015, 8, 4, 3, 0),\n",
       "       datetime.datetime(2015, 8, 4, 6, 0),\n",
       "       datetime.datetime(2015, 8, 4, 9, 0),\n",
       "       datetime.datetime(2015, 8, 4, 12, 0),\n",
       "       datetime.datetime(2015, 8, 4, 15, 0),\n",
       "       datetime.datetime(2015, 8, 4, 18, 0),\n",
       "       datetime.datetime(2015, 8, 4, 21, 0),\n",
       "       datetime.datetime(2015, 8, 5, 0, 0),\n",
       "       datetime.datetime(2015, 8, 5, 3, 0),\n",
       "       datetime.datetime(2015, 8, 5, 6, 0),\n",
       "       datetime.datetime(2015, 8, 5, 9, 0),\n",
       "       datetime.datetime(2015, 8, 5, 12, 0),\n",
       "       datetime.datetime(2015, 8, 5, 15, 0),\n",
       "       datetime.datetime(2015, 8, 5, 18, 0),\n",
       "       datetime.datetime(2015, 8, 5, 21, 0),\n",
       "       datetime.datetime(2015, 8, 6, 0, 0)], dtype=object)"
      ]
     },
     "execution_count": 7,
     "metadata": {},
     "output_type": "execute_result"
    }
   ],
   "source": [
    "dates"
   ]
  },
  {
   "cell_type": "code",
   "execution_count": 8,
   "metadata": {
    "collapsed": false
   },
   "outputs": [
    {
     "name": "stdout",
     "output_type": "stream",
     "text": [
      "<type 'netCDF4._netCDF4.Variable'>\n",
      "float64 time(time)\n",
      "    grads_dim: t\n",
      "    grads_mapping: linear\n",
      "    grads_size: 65\n",
      "    grads_min: 00z29jul2015\n",
      "    grads_step: 3hr\n",
      "    units: days since 1-1-1 00:00:0.0\n",
      "    long_name: time\n",
      "    minimum: 00z29jul2015\n",
      "    maximum: 00z06aug2015\n",
      "    resolution: 0.125\n",
      "unlimited dimensions: \n",
      "current shape = (65,)\n",
      "filling off\n",
      "\n"
     ]
    }
   ],
   "source": [
    "print time"
   ]
  },
  {
   "cell_type": "code",
   "execution_count": 9,
   "metadata": {
    "collapsed": false
   },
   "outputs": [
    {
     "name": "stdout",
     "output_type": "stream",
     "text": [
      "[ 735809.     735809.125  735809.25   735809.375  735809.5    735809.625\n",
      "  735809.75   735809.875  735810.     735810.125  735810.25   735810.375\n",
      "  735810.5    735810.625  735810.75   735810.875  735811.     735811.125\n",
      "  735811.25   735811.375  735811.5    735811.625  735811.75   735811.875\n",
      "  735812.     735812.125  735812.25   735812.375  735812.5    735812.625\n",
      "  735812.75   735812.875  735813.     735813.125  735813.25   735813.375\n",
      "  735813.5    735813.625  735813.75   735813.875  735814.     735814.125\n",
      "  735814.25   735814.375  735814.5    735814.625  735814.75   735814.875\n",
      "  735815.     735815.125  735815.25   735815.375  735815.5    735815.625\n",
      "  735815.75   735815.875  735816.     735816.125  735816.25   735816.375\n",
      "  735816.5    735816.625  735816.75   735816.875  735817.   ]\n"
     ]
    }
   ],
   "source": [
    "print time[:]"
   ]
  },
  {
   "cell_type": "code",
   "execution_count": 10,
   "metadata": {
    "collapsed": true
   },
   "outputs": [],
   "source": [
    "start = datetime.datetime(1,1,1)\n",
    "dates2 = [start + datetime.timedelta(days = t) for t in time]"
   ]
  },
  {
   "cell_type": "code",
   "execution_count": 11,
   "metadata": {
    "collapsed": false
   },
   "outputs": [
    {
     "data": {
      "text/plain": [
       "[datetime.datetime(2015, 7, 31, 0, 0),\n",
       " datetime.datetime(2015, 7, 31, 3, 0),\n",
       " datetime.datetime(2015, 7, 31, 6, 0),\n",
       " datetime.datetime(2015, 7, 31, 9, 0),\n",
       " datetime.datetime(2015, 7, 31, 12, 0),\n",
       " datetime.datetime(2015, 7, 31, 15, 0),\n",
       " datetime.datetime(2015, 7, 31, 18, 0),\n",
       " datetime.datetime(2015, 7, 31, 21, 0),\n",
       " datetime.datetime(2015, 8, 1, 0, 0),\n",
       " datetime.datetime(2015, 8, 1, 3, 0),\n",
       " datetime.datetime(2015, 8, 1, 6, 0),\n",
       " datetime.datetime(2015, 8, 1, 9, 0),\n",
       " datetime.datetime(2015, 8, 1, 12, 0),\n",
       " datetime.datetime(2015, 8, 1, 15, 0),\n",
       " datetime.datetime(2015, 8, 1, 18, 0),\n",
       " datetime.datetime(2015, 8, 1, 21, 0),\n",
       " datetime.datetime(2015, 8, 2, 0, 0),\n",
       " datetime.datetime(2015, 8, 2, 3, 0),\n",
       " datetime.datetime(2015, 8, 2, 6, 0),\n",
       " datetime.datetime(2015, 8, 2, 9, 0),\n",
       " datetime.datetime(2015, 8, 2, 12, 0),\n",
       " datetime.datetime(2015, 8, 2, 15, 0),\n",
       " datetime.datetime(2015, 8, 2, 18, 0),\n",
       " datetime.datetime(2015, 8, 2, 21, 0),\n",
       " datetime.datetime(2015, 8, 3, 0, 0),\n",
       " datetime.datetime(2015, 8, 3, 3, 0),\n",
       " datetime.datetime(2015, 8, 3, 6, 0),\n",
       " datetime.datetime(2015, 8, 3, 9, 0),\n",
       " datetime.datetime(2015, 8, 3, 12, 0),\n",
       " datetime.datetime(2015, 8, 3, 15, 0),\n",
       " datetime.datetime(2015, 8, 3, 18, 0),\n",
       " datetime.datetime(2015, 8, 3, 21, 0),\n",
       " datetime.datetime(2015, 8, 4, 0, 0),\n",
       " datetime.datetime(2015, 8, 4, 3, 0),\n",
       " datetime.datetime(2015, 8, 4, 6, 0),\n",
       " datetime.datetime(2015, 8, 4, 9, 0),\n",
       " datetime.datetime(2015, 8, 4, 12, 0),\n",
       " datetime.datetime(2015, 8, 4, 15, 0),\n",
       " datetime.datetime(2015, 8, 4, 18, 0),\n",
       " datetime.datetime(2015, 8, 4, 21, 0),\n",
       " datetime.datetime(2015, 8, 5, 0, 0),\n",
       " datetime.datetime(2015, 8, 5, 3, 0),\n",
       " datetime.datetime(2015, 8, 5, 6, 0),\n",
       " datetime.datetime(2015, 8, 5, 9, 0),\n",
       " datetime.datetime(2015, 8, 5, 12, 0),\n",
       " datetime.datetime(2015, 8, 5, 15, 0),\n",
       " datetime.datetime(2015, 8, 5, 18, 0),\n",
       " datetime.datetime(2015, 8, 5, 21, 0),\n",
       " datetime.datetime(2015, 8, 6, 0, 0),\n",
       " datetime.datetime(2015, 8, 6, 3, 0),\n",
       " datetime.datetime(2015, 8, 6, 6, 0),\n",
       " datetime.datetime(2015, 8, 6, 9, 0),\n",
       " datetime.datetime(2015, 8, 6, 12, 0),\n",
       " datetime.datetime(2015, 8, 6, 15, 0),\n",
       " datetime.datetime(2015, 8, 6, 18, 0),\n",
       " datetime.datetime(2015, 8, 6, 21, 0),\n",
       " datetime.datetime(2015, 8, 7, 0, 0),\n",
       " datetime.datetime(2015, 8, 7, 3, 0),\n",
       " datetime.datetime(2015, 8, 7, 6, 0),\n",
       " datetime.datetime(2015, 8, 7, 9, 0),\n",
       " datetime.datetime(2015, 8, 7, 12, 0),\n",
       " datetime.datetime(2015, 8, 7, 15, 0),\n",
       " datetime.datetime(2015, 8, 7, 18, 0),\n",
       " datetime.datetime(2015, 8, 7, 21, 0),\n",
       " datetime.datetime(2015, 8, 8, 0, 0)]"
      ]
     },
     "execution_count": 11,
     "metadata": {},
     "output_type": "execute_result"
    }
   ],
   "source": [
    "dates2"
   ]
  },
  {
   "cell_type": "markdown",
   "metadata": {},
   "source": [
    "Ok, so there is a problem with how I was reading the date in the text file...."
   ]
  },
  {
   "cell_type": "code",
   "execution_count": 12,
   "metadata": {
    "collapsed": false
   },
   "outputs": [
    {
     "data": {
      "text/plain": [
       "(735807.0, 735813.0)"
      ]
     },
     "execution_count": 12,
     "metadata": {},
     "output_type": "execute_result"
    },
    {
     "data": {
      "image/png": "[encoded data removed]",
      "text/plain": [
       "<matplotlib.figure.Figure at 0x7f62987db550>"
      ]
     },
     "metadata": {},
     "output_type": "display_data"
    }
   ],
   "source": [
    "grid_b = nc.Dataset('/data/nsoontie/MEOPAR/NEMO-forcing/grid/bathy_meter_SalishSea2.nc')\n",
    "\n",
    "fig,axs= plt.subplots(1,2,figsize=(10,5))\n",
    "ax=axs[0]\n",
    "axm=axs[1]\n",
    "date = datetime.datetime(2015,7,20)\n",
    "\n",
    "#Hycom\n",
    "iss = np.arange(1934,1920,-1)\n",
    "jss = np.arange(1661,1665)\n",
    "f = nc.Dataset(url)\n",
    "ssh = f.variables['ssh']\n",
    "time = f.variables['time']\n",
    "dates = nc.num2date(time[:],time.units)\n",
    "lat = f.variables['lat']\n",
    "lon=f.variables['lon']\n",
    "for i,j in zip(iss,jss):\n",
    "    #filename = read_url(date,i,j) read website\n",
    "    ax.plot(dates,ssh[:,0,j,i],label='Hycom')\n",
    "    axm.plot(lon[i]-360,lat[j],'o')\n",
    "viz_tools.plot_coastline(axm,grid_b,coords='map')\n",
    "\n",
    "\n",
    "#Neah Bay forecast\n",
    "filename = '/ocean/nsoontie/MEOPAR/sshNeahBay/txt/sshNB_2015-07-29_21.txt'\n",
    "NBdata = residuals._load_surge_data(filename)\n",
    "surge, dates = residuals._retrieve_surge(NBdata, datetime.datetime(2015,7,29))\n",
    "ax.plot(dates[:],surge[:],label = 'Neah Bay')\n",
    "\n",
    "# Neah Bay observations\n",
    "obs = figures.get_NOAA_wlevels(figures.SITES['Neah Bay']['stn_no'], '28-Jul-2015', '30-Jul-2015')\n",
    "tides = figures.get_NOAA_tides(figures.SITES['Neah Bay']['stn_no'], '28-Jul-2015', '30-Jul-2015')\n",
    "\n",
    "res = residuals.calculate_residual(obs.wlev, obs.time, tides.pred, tides.time)\n",
    "ax.plot(obs.time,res,label='observation')\n",
    "\n",
    "\n",
    "axm.set_xlim([-125.5,-124])\n",
    "axm.set_ylim([48,49])\n",
    "ax.legend(loc=0)\n",
    "ax.grid()\n",
    "fig.autofmt_xdate()\n",
    "ax.set_xlim([datetime.datetime(2015,7,28),datetime.datetime(2015,8,3)])"
   ]
  },
  {
   "cell_type": "markdown",
   "metadata": {},
   "source": [
    "#Temperature and salinty"
   ]
  },
  {
   "cell_type": "code",
   "execution_count": 13,
   "metadata": {
    "collapsed": true
   },
   "outputs": [],
   "source": [
    "date = '20150729'\n",
    "url = ('http://nomads.ncep.noaa.gov:9090/dods/rtofs/rtofs_global{}/rtofs_glo_3dz_nowcast_6hrly_reg2'.format(date))"
   ]
  },
  {
   "cell_type": "code",
   "execution_count": 14,
   "metadata": {
    "collapsed": true
   },
   "outputs": [],
   "source": [
    "f=nc.Dataset(url)"
   ]
  },
  {
   "cell_type": "code",
   "execution_count": 15,
   "metadata": {
    "collapsed": false
   },
   "outputs": [
    {
     "data": {
      "text/plain": [
       "<type 'netCDF4._netCDF4.Dataset'>\n",
       "root group (NETCDF3_CLASSIC data model, file format UNDEFINED):\n",
       "    title: 3D Volume 6hrly Region 2 00Z27jul2015: Nowcast downloaded Jul 29 05:12 UTC\n",
       "    Conventions: COARDS\n",
       "GrADS\n",
       "    dataType: Grid\n",
       "    history: Thu Jul 30 14:33:45 UTC 2015 : imported by GrADS Data Server 2.0\n",
       "    dimensions(sizes): lat(1600), lev(40), lon(1000), time(9)\n",
       "    variables(dimensions): float64 \u001b[4mtime\u001b[0m(time), float64 \u001b[4mlev\u001b[0m(lev), float64 \u001b[4mlat\u001b[0m(lat), float64 \u001b[4mlon\u001b[0m(lon), float32 \u001b[4msalinity\u001b[0m(time,lev,lat,lon), float32 \u001b[4mtemperature\u001b[0m(time,lev,lat,lon), float32 \u001b[4mu\u001b[0m(time,lev,lat,lon), float32 \u001b[4mv\u001b[0m(time,lev,lat,lon)\n",
       "    groups: "
      ]
     },
     "execution_count": 15,
     "metadata": {},
     "output_type": "execute_result"
    }
   ],
   "source": [
    "f"
   ]
  },
  {
   "cell_type": "code",
   "execution_count": 16,
   "metadata": {
    "collapsed": false
   },
   "outputs": [],
   "source": [
    "sal=f.variables['salinity']\n",
    "lon=f.variables['lon']\n",
    "lat=f.variables['lat']\n",
    "dep=f.variables['lev']"
   ]
  },
  {
   "cell_type": "code",
   "execution_count": 17,
   "metadata": {
    "collapsed": false
   },
   "outputs": [
    {
     "data": {
      "text/plain": [
       "<matplotlib.colorbar.Colorbar instance at 0x7f629847cdd0>"
      ]
     },
     "execution_count": 17,
     "metadata": {},
     "output_type": "execute_result"
    },
    {
     "data": {
      "image/png": "[encoded data removed]",
      "text/plain": [
       "<matplotlib.figure.Figure at 0x7f62d1b7ef10>"
      ]
     },
     "metadata": {},
     "output_type": "display_data"
    }
   ],
   "source": [
    "plt.pcolormesh(lon[:], lat[:],sal[1,0,:,:])\n",
    "plt.axis([-125,-123,48,50])\n",
    "plt.colorbar()"
   ]
  },
  {
   "cell_type": "code",
   "execution_count": 18,
   "metadata": {
    "collapsed": false
   },
   "outputs": [],
   "source": [
    "iss = np.where(np.logical_and(lon[:]<-124.5, lon[:] > -125))\n",
    "jss = np.where(np.logical_and(lat[:] > 48.4, lat[:] < 48.6))"
   ]
  },
  {
   "cell_type": "code",
   "execution_count": 19,
   "metadata": {
    "collapsed": false
   },
   "outputs": [
    {
     "data": {
      "text/plain": [
       "(array([1011, 1012, 1013, 1014, 1015]),)"
      ]
     },
     "execution_count": 19,
     "metadata": {},
     "output_type": "execute_result"
    }
   ],
   "source": [
    "jss"
   ]
  },
  {
   "cell_type": "code",
   "execution_count": 20,
   "metadata": {
    "collapsed": false
   },
   "outputs": [
    {
     "data": {
      "text/plain": [
       "(array([412, 413, 414, 415, 416, 417]),)"
      ]
     },
     "execution_count": 20,
     "metadata": {},
     "output_type": "execute_result"
    }
   ],
   "source": [
    "iss"
   ]
  },
  {
   "cell_type": "code",
   "execution_count": 21,
   "metadata": {
    "collapsed": false
   },
   "outputs": [
    {
     "data": {
      "image/png": "[encoded data removed]",
      "text/plain": [
       "<matplotlib.figure.Figure at 0x7f62ae2e95d0>"
      ]
     },
     "metadata": {},
     "output_type": "display_data"
    }
   ],
   "source": [
    "plt.pcolormesh(lon[:], lat[:],sal[1,0,:,:])\n",
    "plt.axis([-125,-123,48,50])\n",
    "plt.colorbar()\n",
    "\n",
    "for i,j in zip(iss[0][0:-1],jss[0][::-1]+1):\n",
    "    plt.plot(lon[i],lat[j],'o')"
   ]
  },
  {
   "cell_type": "code",
   "execution_count": 22,
   "metadata": {
    "collapsed": false
   },
   "outputs": [
    {
     "data": {
      "text/plain": [
       "<matplotlib.colorbar.Colorbar instance at 0x7f62980c5560>"
      ]
     },
     "execution_count": 22,
     "metadata": {},
     "output_type": "execute_result"
    },
    {
     "data": {
      "image/png": "[encoded data removed]",
      "text/plain": [
       "<matplotlib.figure.Figure at 0x7f629906d390>"
      ]
     },
     "metadata": {},
     "output_type": "display_data"
    }
   ],
   "source": [
    "fig,axs = plt.subplots(1,2,figsize=(15,5))\n",
    "axs[1].pcolormesh(lon[:], lat[:],sal[1,0,:,:])\n",
    "axs[1].set_xlim([-125.5,-123])\n",
    "axs[1].set_ylim([48,50])\n",
    "\n",
    "new_sal = np.ma.zeros((40,5))\n",
    "new_lat=np.zeros(5)\n",
    "count=0\n",
    "for i,j in zip(iss[0]-1,jss[0][::-1]+1):\n",
    "    new_sal[:,count] = sal[1,:,j,i]\n",
    "    new_lat[count] = lat[j]\n",
    "    count=count+1\n",
    "    axs[1].plot(lon[i],lat[j],'o')\n",
    "mesh=axs[0].pcolormesh(new_lat, dep[:],new_sal)\n",
    "axs[0].set_ylim([300,0])\n",
    "plt.colorbar(mesh,ax=axs[0])\n",
    "\n",
    "\n"
   ]
  },
  {
   "cell_type": "markdown",
   "metadata": {},
   "source": [
    "Is it possible to interpolate this product onto our bcs?"
   ]
  },
  {
   "cell_type": "code",
   "execution_count": 23,
   "metadata": {
    "collapsed": false
   },
   "outputs": [
    {
     "data": {
      "text/plain": [
       "[32, 34, 300, 0]"
      ]
     },
     "execution_count": 23,
     "metadata": {},
     "output_type": "execute_result"
    },
    {
     "data": {
      "image/png": "[encoded data removed]",
      "text/plain": [
       "<matplotlib.figure.Figure at 0x7f6299051c90>"
      ]
     },
     "metadata": {},
     "output_type": "display_data"
    }
   ],
   "source": [
    "for i in iss[0]:\n",
    "    for j in jss[0]:\n",
    "        plt.plot(sal[1,:,j,i],dep[:])\n",
    "plt.axis([32,34,300,0])"
   ]
  },
  {
   "cell_type": "markdown",
   "metadata": {},
   "source": [
    "I don't think this is getting as fresh as our model is in the surface. \n",
    "\n",
    "Does this model account for river discharge? Probably not. \n",
    "\n",
    "Maybe it could be useful for the deep water an upwelling? But it isn't very deep..."
   ]
  },
  {
   "cell_type": "code",
   "execution_count": 24,
   "metadata": {
    "collapsed": false
   },
   "outputs": [
    {
     "data": {
      "image/png": "[encoded data removed]",
      "text/plain": [
       "<matplotlib.figure.Figure at 0x7f6299051d50>"
      ]
     },
     "metadata": {},
     "output_type": "display_data"
    }
   ],
   "source": [
    "plt.pcolormesh(lon[:], lat[:],sal[1,0,:,:])\n",
    "plt.axis([-125,-123,48,50])\n",
    "plt.colorbar()\n",
    "\n",
    "for i in iss[0]:\n",
    "    for j in jss[0]:\n",
    "        plt.plot(lon[i],lat[j],'o')"
   ]
  },
  {
   "cell_type": "markdown",
   "metadata": {},
   "source": []
  }
 ],
 "metadata": {
  "kernelspec": {
   "display_name": "Python 2",
   "language": "python",
   "name": "python2"
  },
  "language_info": {
   "codemirror_mode": {
    "name": "ipython",
    "version": 2
   },
   "file_extension": ".py",
   "mimetype": "text/x-python",
   "name": "python",
   "nbconvert_exporter": "python",
   "pygments_lexer": "ipython2",
   "version": "2.7.10"
  }
 },
 "nbformat": 4,
 "nbformat_minor": 0
}
