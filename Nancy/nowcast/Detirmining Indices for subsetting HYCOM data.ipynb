{
 "cells": [
  {
   "cell_type": "markdown",
   "metadata": {},
   "source": [
    "This notebook will look up indices for subsetting the HYCOM netcdf files"
   ]
  },
  {
   "cell_type": "code",
   "execution_count": 1,
   "metadata": {
    "collapsed": true
   },
   "outputs": [],
   "source": [
    "import netCDF4 as nc\n",
    "import matplotlib.pyplot as plt \n",
    "import datetime\n",
    "import numpy as np\n",
    "\n",
    "from salishsea_tools.nowcast import figures, residuals\n",
    "from salishsea_tools import viz_tools\n",
    "%matplotlib inline"
   ]
  },
  {
   "cell_type": "markdown",
   "metadata": {},
   "source": [
    "# Global Grid for SSH"
   ]
  },
  {
   "cell_type": "markdown",
   "metadata": {},
   "source": [
    "Define subdomain"
   ]
  },
  {
   "cell_type": "code",
   "execution_count": 2,
   "metadata": {
    "collapsed": false
   },
   "outputs": [
    {
     "data": {
      "text/plain": [
       "(48, 49)"
      ]
     },
     "execution_count": 2,
     "metadata": {},
     "output_type": "execute_result"
    },
    {
     "data": {
      "image/png": "[encoded data removed]",
      "text/plain": [
       "<matplotlib.figure.Figure at 0x7f94a29f1590>"
      ]
     },
     "metadata": {},
     "output_type": "display_data"
    }
   ],
   "source": [
    "grid = nc.Dataset('/data/nsoontie/MEOPAR/NEMO-forcing/grid/bathy_meter_SalishSea2.nc')\n",
    "lon_min = -126\n",
    "lon_max = - 124\n",
    "lat_min = 48\n",
    "lat_max = 49\n",
    "\n",
    "fig,ax = plt.subplots(1,1)\n",
    "viz_tools.plot_coastline(ax,grid,coords = 'map')\n",
    "ax.set_xlim([lon_min, lon_max])\n",
    "ax.set_ylim([lat_min, lat_max])"
   ]
  },
  {
   "cell_type": "code",
   "execution_count": 3,
   "metadata": {
    "collapsed": false
   },
   "outputs": [
    {
     "name": "stdout",
     "output_type": "stream",
     "text": [
      "(array([1657, 1658, 1659, 1660, 1661, 1662, 1663, 1664, 1665, 1666, 1667,\n",
      "       1668]),)\n"
     ]
    }
   ],
   "source": [
    "date = datetime.date.today() - datetime.timedelta(days=1)\n",
    "datestr = date.strftime('%Y%m%d')\n",
    "url = ('http://nomads.ncep.noaa.gov:9090/dods/rtofs/rtofs_global{}/rtofs_glo_2ds_forecast_3hrly_diag'.format(datestr))\n",
    "\n",
    "f = nc.Dataset(url)\n",
    "\n",
    "lon = f.variables['lon'][:] - 360\n",
    "lat = f.variables['lat'][:]\n",
    "\n",
    "#isolate region\n",
    "jss = np.where(np.logical_and(lat>=lat_min, lat <= lat_max))\n",
    "iss = np.where(np.logical_and(lon>=lon_min, lon <= lon_max))\n",
    "print jss\n",
    "\n",
    "ssh_sub = f.variables['ssh'][:,:,jss[0], iss[0]]\n",
    "lat_sub = lat[jss]\n",
    "lon_sub = lon[iss]"
   ]
  },
  {
   "cell_type": "markdown",
   "metadata": {},
   "source": [
    "Plot"
   ]
  },
  {
   "cell_type": "code",
   "execution_count": 4,
   "metadata": {
    "collapsed": false
   },
   "outputs": [
    {
     "data": {
      "text/plain": [
       "<matplotlib.colorbar.Colorbar instance at 0x7f94a1f79fc8>"
      ]
     },
     "execution_count": 4,
     "metadata": {},
     "output_type": "execute_result"
    },
    {
     "data": {
      "image/png": "[encoded data removed]",
      "text/plain": [
       "<matplotlib.figure.Figure at 0x7f94a29dbd50>"
      ]
     },
     "metadata": {},
     "output_type": "display_data"
    }
   ],
   "source": [
    "\n",
    "fig,ax = plt.subplots(1,1)\n",
    "plt.pcolormesh(lon_sub, lat_sub, ssh_sub[1,0,:,:])\n",
    "viz_tools.plot_coastline(ax,grid,coords = 'map')\n",
    "ax.set_xlim([lon_min, lon_max])\n",
    "ax.set_ylim([lat_min, lat_max])\n",
    "plt.colorbar()"
   ]
  },
  {
   "cell_type": "markdown",
   "metadata": {},
   "source": [
    "# T+S"
   ]
  },
  {
   "cell_type": "code",
   "execution_count": 5,
   "metadata": {
    "collapsed": false
   },
   "outputs": [
    {
     "name": "stdout",
     "output_type": "stream",
     "text": [
      "(array([1000, 1001, 1002, 1003, 1004, 1005, 1006, 1007, 1008, 1009, 1010,\n",
      "       1011, 1012, 1013, 1014, 1015, 1016, 1017, 1018, 1019, 1020, 1021,\n",
      "       1022, 1023, 1024, 1025, 1026]),)\n"
     ]
    }
   ],
   "source": [
    "date = datetime.date.today() - datetime.timedelta(days=1)\n",
    "datestr = date.strftime('%Y%m%d')\n",
    "url = ('http://nomads.ncep.noaa.gov:9090/dods/rtofs/rtofs_global{}/rtofs_glo_3dz_nowcast_6hrly_reg2'.format(datestr))\n",
    "\n",
    "f = nc.Dataset(url)\n",
    "\n",
    "lon = f.variables['lon'][:]\n",
    "lat = f.variables['lat'][:]\n",
    "\n",
    "#isolate region\n",
    "jss = np.where(np.logical_and(lat>=lat_min, lat <= lat_max))\n",
    "iss = np.where(np.logical_and(lon>=lon_min, lon <= lon_max))\n",
    "print jss\n",
    "\n",
    "sal_sub = f.variables['salinity'][:,:,jss[0], iss[0]]\n",
    "lat_sub = lat[jss]\n",
    "lon_sub = lon[iss]"
   ]
  },
  {
   "cell_type": "code",
   "execution_count": 6,
   "metadata": {
    "collapsed": false
   },
   "outputs": [
    {
     "data": {
      "text/plain": [
       "<matplotlib.colorbar.Colorbar instance at 0x7f94a1b1f9e0>"
      ]
     },
     "execution_count": 6,
     "metadata": {},
     "output_type": "execute_result"
    },
    {
     "data": {
      "image/png": "[encoded data removed]",
      "text/plain": [
       "<matplotlib.figure.Figure at 0x7f94a294f850>"
      ]
     },
     "metadata": {},
     "output_type": "display_data"
    }
   ],
   "source": [
    "\n",
    "fig,ax = plt.subplots(1,1)\n",
    "plt.pcolormesh(lon_sub, lat_sub, sal_sub[1,0,:,:])\n",
    "viz_tools.plot_coastline(ax,grid,coords = 'map')\n",
    "ax.set_xlim([lon_min, lon_max])\n",
    "ax.set_ylim([lat_min, lat_max])\n",
    "plt.colorbar()"
   ]
  },
  {
   "cell_type": "code",
   "execution_count": null,
   "metadata": {
    "collapsed": true
   },
   "outputs": [],
   "source": []
  }
 ],
 "metadata": {
  "kernelspec": {
   "display_name": "Python 2",
   "language": "python",
   "name": "python2"
  },
  "language_info": {
   "codemirror_mode": {
    "name": "ipython",
    "version": 2
   },
   "file_extension": ".py",
   "mimetype": "text/x-python",
   "name": "python",
   "nbconvert_exporter": "python",
   "pygments_lexer": "ipython2",
   "version": "2.7.10"
  }
 },
 "nbformat": 4,
 "nbformat_minor": 0
}
