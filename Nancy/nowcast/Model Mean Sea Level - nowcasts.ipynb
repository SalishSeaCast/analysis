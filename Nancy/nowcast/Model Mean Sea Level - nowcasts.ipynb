{
 "cells": [
  {
   "cell_type": "markdown",
   "metadata": {},
   "source": [
    "Model mean sea level - nowcasts\n",
    "\n",
    "* What is the mean sea level of the model?\n",
    "* Is it close to 0? \n",
    "* Trying to determine if z=0 in the model corresponds to mean sea level. "
   ]
  },
  {
   "cell_type": "code",
   "execution_count": 1,
   "metadata": {
    "collapsed": true
   },
   "outputs": [],
   "source": [
    "import numpy as np\n",
    "import netCDF4 as nc\n",
    "\n",
    "from salishsea_tools import tidetools\n",
    "from salishsea_tools.nowcast import analyze, figures\n",
    "import datetime"
   ]
  },
  {
   "cell_type": "code",
   "execution_count": 2,
   "metadata": {
    "collapsed": false
   },
   "outputs": [],
   "source": [
    "b = '/data/nsoontie/MEOPAR/NEMO-forcing/grid/bathy_meter_SalishSea.nc'\n",
    "\n",
    "grid_B = nc.Dataset(b)\n",
    "X=grid_B.variables['nav_lon'][:]\n",
    "Y=grid_B.variables['nav_lat'][:]\n",
    "bathy =grid_B.variables['Bathymetry'][:]\n",
    "\n",
    "to=datetime.datetime(2014,11,1)\n",
    "tf=datetime.datetime(2015,10,1)\n",
    "files = analyze.get_filenames(to,tf,'1d','grid_T','/data/dlatorne/MEOPAR/SalishSea/nowcast/')"
   ]
  },
  {
   "cell_type": "markdown",
   "metadata": {},
   "source": [
    "Look up mean sea level at a few points in the model."
   ]
  },
  {
   "cell_type": "code",
   "execution_count": 3,
   "metadata": {
    "collapsed": false
   },
   "outputs": [
    {
     "name": "stdout",
     "output_type": "stream",
     "text": [
      "Date range: 01-Nov-2014 to 01-Oct-2015 \n",
      "Point Atkinson mean ssh: 0.1289057433605194\n",
      "Campbell River mean ssh: -0.00058242172235623\n",
      "Victoria mean ssh: 0.011352158151566982\n",
      "Neah Bay mean ssh: -0.0375010147690773\n",
      "Cherry Point mean ssh: 0.07324444502592087\n",
      "Friday Harbor mean ssh: 0.023417768999934196\n",
      "Sandheads mean ssh: 0.11173241585493088\n"
     ]
    }
   ],
   "source": [
    "names = ['Point Atkinson','Campbell River',  'Victoria', 'Neah Bay', 'Cherry Point', 'Friday Harbor',\n",
    "        'Sandheads']\n",
    "\n",
    "print('Date range: {} to {} '.format(to.strftime('%d-%b-%Y'), tf.strftime('%d-%b-%Y')))\n",
    "for name in names:\n",
    "    lat = figures.SITES[name]['lat']\n",
    "    lon = figures.SITES[name]['lon']\n",
    "\n",
    "    j, i = tidetools.find_closest_model_point(lon,lat,X,Y,bathy) \n",
    "\n",
    "    ssh, time =analyze.combine_files(files,'sossheig','None',j,i)\n",
    "    \n",
    "    print('{} mean ssh: {}'.format(name, np.mean(ssh)))"
   ]
  },
  {
   "cell_type": "markdown",
   "metadata": {},
   "source": [
    "Do these values reflect anamolies unqiue to this time period? Probably not, because I would expect them to be closer together. "
   ]
  },
  {
   "cell_type": "markdown",
   "metadata": {},
   "source": [
    "How do the actual water levels compare with a long term mean sea level?"
   ]
  },
  {
   "cell_type": "code",
   "execution_count": 4,
   "metadata": {
    "collapsed": false
   },
   "outputs": [
    {
     "name": "stdout",
     "output_type": "stream",
     "text": [
      "Date range: 01-Nov-2014  to 01-Oct-2015 \n",
      "Point Atkinson mean sea level - long term mean: 0.07400998128508052\n",
      "Campbell River mean sea level - long term mean: -0.04736726546906844\n",
      "Victoria mean sea level - long term mean: 0.0838099148418523\n",
      "Neah Bay mean sea level of observations -0.015930638722554895\n",
      "Cherry Point mean sea level of observations 0.03153443113772447\n",
      "Friday Harbor mean sea level of observations 0.06687375249500965\n"
     ]
    }
   ],
   "source": [
    "DFO = ['Point Atkinson', 'Campbell River', 'Victoria']\n",
    "\n",
    "print('Date range: {}  to {} '.format(to.strftime('%d-%b-%Y'), tf.strftime('%d-%b-%Y')))\n",
    "\n",
    "for name in DFO:\n",
    "    obs = figures.load_archived_observations(name,to.strftime('%d-%b-%Y'), tf.strftime('%d-%b-%Y'))\n",
    "    print('{} mean sea level - long term mean: {}'.format(name, np.mean(obs.wlev) - figures.SITES[name]['msl']))\n",
    "\n",
    "NOAA = ['Neah Bay', 'Cherry Point', 'Friday Harbor']    \n",
    "for name in NOAA:\n",
    "    obs = figures.get_NOAA_wlevels(figures.SITES[name]['stn_no'],to.strftime('%d-%b-%Y'), tf.strftime('%d-%b-%Y'),\n",
    "                                  product='hourly_height')\n",
    "    print('{} mean sea level of observations {}'.format(name, np.mean(obs.wlev) ))"
   ]
  },
  {
   "cell_type": "markdown",
   "metadata": {},
   "source": [
    "* I think I will have to keep an eye on this. The longer time series I have, the less I should have to compare with a long term msl in the observations.\n",
    "* spinups are useless because we used the atmospheric pressure incorrectly. \n"
   ]
  },
  {
   "cell_type": "code",
   "execution_count": null,
   "metadata": {
    "collapsed": true
   },
   "outputs": [],
   "source": []
  }
 ],
 "metadata": {
  "kernelspec": {
   "display_name": "Python 3",
   "language": "python",
   "name": "python3"
  },
  "language_info": {
   "codemirror_mode": {
    "name": "ipython",
    "version": 3
   },
   "file_extension": ".py",
   "mimetype": "text/x-python",
   "name": "python",
   "nbconvert_exporter": "python",
   "pygments_lexer": "ipython3",
   "version": "3.4.3"
  }
 },
 "nbformat": 4,
 "nbformat_minor": 0
}
