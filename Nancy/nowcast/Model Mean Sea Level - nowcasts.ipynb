{
 "cells": [
  {
   "cell_type": "markdown",
   "metadata": {},
   "source": [
    "Model mean sea level - nowcasts\n",
    "\n",
    "* What is the mean sea level of the model?\n",
    "* Is it close to 0? \n",
    "* Trying to determine if z=0 in the model corresponds to mean sea level. "
   ]
  },
  {
   "cell_type": "code",
   "execution_count": 1,
   "metadata": {
    "collapsed": true
   },
   "outputs": [],
   "source": [
    "import numpy as np\n",
    "import netCDF4 as nc\n",
    "\n",
    "from salishsea_tools import tidetools\n",
    "from salishsea_tools.nowcast import analyze, figures\n",
    "import datetime"
   ]
  },
  {
   "cell_type": "code",
   "execution_count": 2,
   "metadata": {
    "collapsed": false
   },
   "outputs": [],
   "source": [
    "b = '/data/nsoontie/MEOPAR/NEMO-forcing/grid/bathy_meter_SalishSea.nc'\n",
    "\n",
    "grid_B = nc.Dataset(b)\n",
    "X=grid_B.variables['nav_lon'][:]\n",
    "Y=grid_B.variables['nav_lat'][:]\n",
    "bathy =grid_B.variables['Bathymetry'][:]\n",
    "\n",
    "to=datetime.datetime(2014,11,1)\n",
    "tf=datetime.datetime(2015,7,9)\n",
    "files = analyze.get_filenames(to,tf,'1d','grid_T','/data/dlatorne/MEOPAR/SalishSea/nowcast/')"
   ]
  },
  {
   "cell_type": "markdown",
   "metadata": {},
   "source": [
    "Look up mean sea level at a few points in the model."
   ]
  },
  {
   "cell_type": "code",
   "execution_count": 3,
   "metadata": {
    "collapsed": false
   },
   "outputs": [
    {
     "name": "stdout",
     "output_type": "stream",
     "text": [
      "Date range: 01-Nov-2014 to 09-Jul-2015 \n",
      "Point Atkinson mean ssh: 0.103079669178\n",
      "Campbell River mean ssh: -0.0236760918051\n",
      "Victoria mean ssh: -0.0122896954417\n",
      "Neah Bay mean ssh: -0.0518307089806\n",
      "Cherry Point mean ssh: 0.0451105348766\n",
      "Friday Harbor mean ssh: -0.00255556916818\n",
      "Sandheads mean ssh: 0.086296774447\n"
     ]
    }
   ],
   "source": [
    "names = ['Point Atkinson','Campbell River',  'Victoria', 'Neah Bay', 'Cherry Point', 'Friday Harbor',\n",
    "        'Sandheads']\n",
    "\n",
    "print 'Date range: {} to {} '.format(to.strftime('%d-%b-%Y'), tf.strftime('%d-%b-%Y'))\n",
    "for name in names:\n",
    "    lat = figures.SITES[name]['lat']\n",
    "    lon = figures.SITES[name]['lon']\n",
    "\n",
    "    j, i = tidetools.find_closest_model_point(lon,lat,X,Y,bathy) \n",
    "\n",
    "    ssh, time =analyze.combine_files(files,'sossheig','None',j,i)\n",
    "    \n",
    "    print '{} mean ssh: {}'.format(name, np.mean(ssh))"
   ]
  },
  {
   "cell_type": "markdown",
   "metadata": {},
   "source": [
    "Do these values reflect anamolies unqiue to this time period? Probably not, because I would expect them to be closer together. "
   ]
  },
  {
   "cell_type": "markdown",
   "metadata": {},
   "source": [
    "How do the actual water levels compare with a long term mean sea level?"
   ]
  },
  {
   "cell_type": "code",
   "execution_count": 4,
   "metadata": {
    "collapsed": false
   },
   "outputs": [
    {
     "name": "stdout",
     "output_type": "stream",
     "text": [
      "Date range: 01-Nov-2014  to 09-Jul-2015 \n",
      "Point Atkinson mean sea level - long term mean: 0.082883254717\n",
      "Campbell River mean sea level - long term mean: -0.0295770440252\n",
      "Victoria mean sea level - long term mean: 0.105982600733\n",
      "Neah Bay mean sea level of observations 0.0177824292453\n",
      "Cherry Point mean sea level of observations 0.0334087465565\n",
      "Friday Harbor mean sea level of observations 0.0701299931129\n"
     ]
    }
   ],
   "source": [
    "DFO = ['Point Atkinson', 'Campbell River', 'Victoria']\n",
    "\n",
    "print 'Date range: {}  to {} '.format(to.strftime('%d-%b-%Y'), tf.strftime('%d-%b-%Y'))\n",
    "\n",
    "for name in DFO:\n",
    "    obs = figures.load_archived_observations(name,to.strftime('%d-%b-%Y'), tf.strftime('%d-%b-%Y'))\n",
    "    print '{} mean sea level - long term mean: {}'.format(name, np.mean(obs.wlev) - figures.SITES[name]['msl'])\n",
    "\n",
    "NOAA = ['Neah Bay', 'Cherry Point', 'Friday Harbor']    \n",
    "for name in NOAA:\n",
    "    obs = figures.get_NOAA_wlevels(figures.SITES[name]['stn_no'],to.strftime('%d-%b-%Y'), tf.strftime('%d-%b-%Y'),\n",
    "                                  product='hourly_height')\n",
    "    print '{} mean sea level of observations {}'.format(name, np.mean(obs.wlev) )"
   ]
  },
  {
   "cell_type": "markdown",
   "metadata": {},
   "source": [
    "* I think I will have to keep an eye on this. The longer time series I have, the less I should have to compare with a long term msl in the observations.\n",
    "* Nowcasts are useless because we used the atmospheric pressure incorrectly. \n",
    "* Not sure we should put much stock Victoria and Friday Harbour because we know we don't do very well with the water levels there. \n"
   ]
  },
  {
   "cell_type": "code",
   "execution_count": null,
   "metadata": {
    "collapsed": true
   },
   "outputs": [],
   "source": []
  }
 ],
 "metadata": {
  "kernelspec": {
   "display_name": "Python 2",
   "language": "python",
   "name": "python2"
  },
  "language_info": {
   "codemirror_mode": {
    "name": "ipython",
    "version": 2
   },
   "file_extension": ".py",
   "mimetype": "text/x-python",
   "name": "python",
   "nbconvert_exporter": "python",
   "pygments_lexer": "ipython2",
   "version": "2.7.10"
  }
 },
 "nbformat": 4,
 "nbformat_minor": 0
}
