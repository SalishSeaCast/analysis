{
 "cells": [
  {
   "cell_type": "markdown",
   "metadata": {},
   "source": [
    "Model mean sea level - nowcasts\n",
    "\n",
    "* What is the mean sea level of the model?\n",
    "* Is it close to 0? \n",
    "* Trying to determine if z=0 in the model corresponds to mean sea level. "
   ]
  },
  {
   "cell_type": "code",
   "execution_count": 1,
   "metadata": {
    "collapsed": false
   },
   "outputs": [],
   "source": [
    "import numpy as np\n",
    "import netCDF4 as nc\n",
    "\n",
    "from salishsea_tools import tidetools\n",
    "from nowcast import analyze, figures\n",
    "import datetime"
   ]
  },
  {
   "cell_type": "code",
   "execution_count": 4,
   "metadata": {
    "collapsed": false
   },
   "outputs": [],
   "source": [
    "b = '/data/nsoontie/MEOPAR/NEMO-forcing/grid/bathy_meter_SalishSea.nc'\n",
    "\n",
    "grid_B = nc.Dataset(b)\n",
    "X=grid_B.variables['nav_lon'][:]\n",
    "Y=grid_B.variables['nav_lat'][:]\n",
    "bathy =grid_B.variables['Bathymetry'][:]\n",
    "\n",
    "to=datetime.datetime(2014,11,1)\n",
    "tf=datetime.datetime(2015,11,1)\n",
    "files = analyze.get_filenames(to,tf,'1d','grid_T','/results/SalishSea/nowcast/')"
   ]
  },
  {
   "cell_type": "markdown",
   "metadata": {},
   "source": [
    "Look up mean sea level at a few points in the model."
   ]
  },
  {
   "cell_type": "code",
   "execution_count": 5,
   "metadata": {
    "collapsed": false
   },
   "outputs": [
    {
     "name": "stdout",
     "output_type": "stream",
     "text": [
      "Date range: 01-Nov-2014 to 01-Nov-2015 \n",
      "Point Atkinson mean ssh: 0.13173380494117737\n",
      "Campbell River mean ssh: 0.003260144731029868\n",
      "Victoria mean ssh: 0.015397900715470314\n",
      "Neah Bay mean ssh: -0.03320030868053436\n",
      "Cherry Point mean ssh: 0.07652103155851364\n",
      "Friday Harbor mean ssh: 0.027068471536040306\n",
      "Sandheads mean ssh: 0.11467214673757553\n"
     ]
    }
   ],
   "source": [
    "names = ['Point Atkinson','Campbell River',  'Victoria', 'Neah Bay', 'Cherry Point', 'Friday Harbor',\n",
    "        'Sandheads']\n",
    "\n",
    "print('Date range: {} to {} '.format(to.strftime('%d-%b-%Y'), tf.strftime('%d-%b-%Y')))\n",
    "for name in names:\n",
    "    lat = figures.SITES[name]['lat']\n",
    "    lon = figures.SITES[name]['lon']\n",
    "\n",
    "    j, i = tidetools.find_closest_model_point(lon,lat,X,Y,bathy) \n",
    "\n",
    "    ssh, time =analyze.combine_files(files,'sossheig','None',j,i)\n",
    "    \n",
    "    print('{} mean ssh: {}'.format(name, np.mean(ssh)))"
   ]
  },
  {
   "cell_type": "markdown",
   "metadata": {},
   "source": [
    "Do these values reflect anamolies unqiue to this time period? Probably not, because I would expect them to be closer together. "
   ]
  },
  {
   "cell_type": "markdown",
   "metadata": {},
   "source": [
    "How do the actual water levels compare with a long term mean sea level?"
   ]
  },
  {
   "cell_type": "code",
   "execution_count": 6,
   "metadata": {
    "collapsed": false
   },
   "outputs": [
    {
     "name": "stdout",
     "output_type": "stream",
     "text": [
      "Date range: 01-Nov-2014  to 01-Nov-2015 \n",
      "Point Atkinson mean sea level - long term mean: 0.07637214611871634\n",
      "Campbell River mean sea level - long term mean: -0.04384157059696836\n",
      "Victoria mean sea level - long term mean: 0.08821868597186078\n",
      "Neah Bay mean sea level of observations -0.01021948998178506\n",
      "Cherry Point mean sea level of observations 0.035831056466302275\n",
      "Friday Harbor mean sea level of observations 0.07147609289617474\n"
     ]
    }
   ],
   "source": [
    "DFO = ['Point Atkinson', 'Campbell River', 'Victoria']\n",
    "\n",
    "print('Date range: {}  to {} '.format(to.strftime('%d-%b-%Y'), tf.strftime('%d-%b-%Y')))\n",
    "\n",
    "for name in DFO:\n",
    "    obs = figures.load_archived_observations(name,to.strftime('%d-%b-%Y'), tf.strftime('%d-%b-%Y'))\n",
    "    print('{} mean sea level - long term mean: {}'.format(name, np.mean(obs.wlev) - figures.SITES[name]['msl']))\n",
    "\n",
    "NOAA = ['Neah Bay', 'Cherry Point', 'Friday Harbor']    \n",
    "for name in NOAA:\n",
    "    obs = figures.get_NOAA_wlevels(figures.SITES[name]['stn_no'],to.strftime('%d-%b-%Y'), tf.strftime('%d-%b-%Y'),\n",
    "                                  product='hourly_height')\n",
    "    print('{} mean sea level of observations {}'.format(name, np.mean(obs.wlev) ))"
   ]
  },
  {
   "cell_type": "markdown",
   "metadata": {},
   "source": [
    "* I think I will have to keep an eye on this. The longer time series I have, the less I should have to compare with a long term msl in the observations.\n",
    "* spinups are useless because we used the atmospheric pressure incorrectly. \n"
   ]
  },
  {
   "cell_type": "code",
   "execution_count": null,
   "metadata": {
    "collapsed": true
   },
   "outputs": [],
   "source": []
  }
 ],
 "metadata": {
  "kernelspec": {
   "display_name": "Python 3",
   "language": "python",
   "name": "python3"
  },
  "language_info": {
   "codemirror_mode": {
    "name": "ipython",
    "version": 3
   },
   "file_extension": ".py",
   "mimetype": "text/x-python",
   "name": "python",
   "nbconvert_exporter": "python",
   "pygments_lexer": "ipython3",
   "version": "3.4.3"
  }
 },
 "nbformat": 4,
 "nbformat_minor": 0
}
