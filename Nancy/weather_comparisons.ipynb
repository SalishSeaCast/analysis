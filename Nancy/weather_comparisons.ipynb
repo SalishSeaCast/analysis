{
 "metadata": {
  "name": "",
  "signature": "sha256:fd780ce0937853ff542634bbac62f4330397d4e8a47e018d37fe68d8924c9b82"
 },
 "nbformat": 3,
 "nbformat_minor": 0,
 "worksheets": [
  {
   "cells": [
    {
     "cell_type": "markdown",
     "metadata": {},
     "source": [
      "An example of how I would like to use MFDataset for reading in atmopsheric model. "
     ]
    },
    {
     "cell_type": "code",
     "collapsed": false,
     "input": [
      "from __future__ import division\n",
      "\n",
      "import matplotlib.pyplot as plt\n",
      "import netCDF4 as nc\n",
      "import numpy as np\n",
      "\n",
      "from salishsea_tools import (\n",
      "    nc_tools,\n",
      "    viz_tools,\n",
      "    stormtools,\n",
      "    tidetools,\n",
      ")\n",
      "import pytz, datetime\n",
      "import glob\n",
      "import os\n",
      "import urllib2\n",
      "import csv\n",
      "import cStringIO\n",
      "import requests\n",
      "from xml.etree import cElementTree as ElementTree\n",
      "import pandas as pd\n",
      "import arrow\n",
      "from matplotlib import dates\n",
      "\n",
      "\n",
      "%matplotlib inline\n",
      "\n",
      "\n"
     ],
     "language": "python",
     "metadata": {},
     "outputs": [],
     "prompt_number": 1
    },
    {
     "cell_type": "code",
     "collapsed": false,
     "input": [
      "grid = nc.Dataset('/data/nsoontie/MEOPAR/NEMO-forcing/grid/bathy_meter_SalishSea2.nc')\n",
      "NEMOlat=grid.variables['nav_lat'][:]\n",
      "NEMOlon=grid.variables['nav_lon'][:]\n",
      "bathy=grid.variables['Bathymetry'][:]"
     ],
     "language": "python",
     "metadata": {},
     "outputs": [],
     "prompt_number": 2
    },
    {
     "cell_type": "code",
     "collapsed": false,
     "input": [
      "GEM = nc.Dataset('/ocean/dlatorne/MEOPAR/GEM2.5/NEMO-atmos/res_y2014m09d10.nc')\n",
      "GEMlon = GEM.variables['nav_lon'][:]-360\n",
      "GEMlat = GEM.variables['nav_lat'][:]\n"
     ],
     "language": "python",
     "metadata": {},
     "outputs": [],
     "prompt_number": 3
    },
    {
     "cell_type": "code",
     "collapsed": false,
     "input": [
      "OP = nc.Dataset('/ocean/sallen/allen/research/Meopar/Operational/oper_allvar_y2014m09d12.nc')\n",
      "OPlon =OP.variables['nav_lon'][:]-360\n",
      "OPlat = OP.variables['nav_lat'][:]\n"
     ],
     "language": "python",
     "metadata": {},
     "outputs": [],
     "prompt_number": 4
    },
    {
     "cell_type": "heading",
     "level": 1,
     "metadata": {},
     "source": [
      "Environment Canada Data"
     ]
    },
    {
     "cell_type": "code",
     "collapsed": false,
     "input": [
      "wind_speed = {}; wind_dir = {}; time = {}; lat={}; lon={}; press={}; temp={}; therm={}; solar={}; precip={}; qair={}\n",
      "\n",
      "\n",
      "start = '01-Sep-2014'; end = '30-Sep-2014';\n",
      "start2 = '01-Oct-2014'; end2 = '31-Oct-2014';\n",
      "\n",
      "stations = ['Sandheads','EntranceIsland', 'PamRocks', 'YVR', 'SistersIsland', 'Esquimalt']\n",
      "\n",
      "for key in stations:\n",
      "    [wind_speed[key],wind_dir[key],temp[key],time[key], \n",
      "     lat[key], lon[key]] = stormtools.get_EC_observations(key,start,end)\n",
      "    [ws,wd,T,t, la, lo] = stormtools.get_EC_observations(key,start2,end2)\n",
      "    wind_speed[key]=np.append(wind_speed[key],ws)\n",
      "    wind_dir[key]=np.append(wind_dir[key],wd)\n",
      "    time[key]=np.append(time[key],t)\n",
      "    temp[key]=np.append(temp[key],T)"
     ],
     "language": "python",
     "metadata": {},
     "outputs": [],
     "prompt_number": 5
    },
    {
     "cell_type": "code",
     "collapsed": false,
     "input": [
      "def find_model_point(lon,lat,X,Y):\n",
      "        # Tolerance for searching for grid points\n",
      "    # (approx. distances between adjacent grid points)\n",
      "    tol1 = 0.015 # lon\n",
      "    tol2 = 0.015# lat\n",
      "\n",
      "    # Search for a grid point with lon/lat within tolerance of\n",
      "    # measured location\n",
      "    x1, y1 = np.where(\n",
      "        np.logical_and(\n",
      "            (np.logical_and(X > lon-tol1, X < lon+tol1)),\n",
      "            (np.logical_and(Y > lat-tol2, Y < lat+tol2))))\n",
      "    return x1[0], y1[0]"
     ],
     "language": "python",
     "metadata": {},
     "outputs": [],
     "prompt_number": 6
    },
    {
     "cell_type": "heading",
     "level": 1,
     "metadata": {},
     "source": [
      "Models"
     ]
    },
    {
     "cell_type": "markdown",
     "metadata": {},
     "source": [
      "Now, loop through GEM data and Operational model and calculate wind speed and direction\n",
      "  "
     ]
    },
    {
     "cell_type": "code",
     "collapsed": false,
     "input": [
      "filesGEM = glob.glob('/ocean/dlatorne/MEOPAR/GEM2.5/NEMO-atmos/res_y2014m*.nc')\n",
      "filesGEM.sort(key=os.path.basename)\n",
      "\n",
      "\n",
      "filesOP = glob.glob('/ocean/sallen/allen/research/Meopar/Operational/oper_allvar_y2014m*.nc')\n",
      "filesOP.sort(key=os.path.basename)"
     ],
     "language": "python",
     "metadata": {},
     "outputs": [],
     "prompt_number": 7
    },
    {
     "cell_type": "code",
     "collapsed": false,
     "input": [
      "def compile_GEM(j,i):\n",
      "    wind=[]; direc=[]; t=[]; pr=[]; sol=[]; the=[]; pre=[]; tem=[]; qr=[];\n",
      "    for f in filesGEM:\n",
      "        G = nc.Dataset(f)\n",
      "        u = G.variables['u_wind'][:,j,i]; v=G.variables['v_wind'][:,j,i];\n",
      "        pr.append(G.variables['atmpres'][:,j,i]); sol.append(G.variables['solar'][:,j,i]); \n",
      "        qr.append(G.variables['qair'][:,j,i]); the.append(G.variables['therm_rad'][:,j,i]); \n",
      "        pre.append(G.variables['precip'][:,j,i]);\n",
      "        tem.append(G.variables['tair'][:,j,i])\n",
      "        speed = np.sqrt(u**2 + v**2)\n",
      "        wind.append(speed)\n",
      "        \n",
      "        d = np.arctan2(v, u)\n",
      "        d = np.rad2deg(d + (d<0)*2*np.pi);\n",
      "        direc.append(d)\n",
      "        \n",
      "        ts=G.variables['time_counter']\n",
      "        torig = nc_tools.time_origin(G)\n",
      "        for ind in np.arange(ts.shape[0]):\n",
      "            t.append((torig + datetime.timedelta(seconds=ts[ind])).datetime)\n",
      "        \n",
      "    wind = np.array(wind).reshape(len(filesGEM)*24,)\n",
      "    direc = np.array(direc,'double').reshape(len(filesGEM)*24,)\n",
      "    t = np.array(t).reshape(len(filesGEM)*24,)\n",
      "    pr = np.array(pr).reshape(len(filesGEM)*24,)\n",
      "    tem = np.array(tem).reshape(len(filesGEM)*24,)\n",
      "    sol = np.array(sol).reshape(len(filesGEM)*24,)\n",
      "    the = np.array(the).reshape(len(filesGEM)*24,)\n",
      "    qr = np.array(qr).reshape(len(filesGEM)*24,)\n",
      "    pre = np.array(pre).reshape(len(filesGEM)*24,)\n",
      "    \n",
      "    return wind, direc, t, pr, tem, sol, the, qr, pre"
     ],
     "language": "python",
     "metadata": {},
     "outputs": [],
     "prompt_number": 8
    },
    {
     "cell_type": "code",
     "collapsed": false,
     "input": [
      "#note this is a more efficient way of reading the netcdf files, but only works with netcdf4_classic?.\n",
      "def compile_GEM_MF(j,i):\n",
      "    G = nc.MFDataset(filesGEM)\n",
      "    \n",
      "    u = G.variables['u_wind'][:,j,i]; v=G.variables['v_wind'][:,j,i];\n",
      "    pr = G.variables['atmpres'][:,j,i]; sol = G.variables['solar'][:,j,i];\n",
      "    qr = G.variables['qair'][:,j,i]; the = G.variables['therm_rad'][:,j,i]; \n",
      "    pre = G.variables['precip'][:,j,i]; tem = G.variables['tair'][:,j,i];\n",
      "    \n",
      "    wind = np.sqrt(u**2 + v**2)\n",
      "    direc = np.arctan2(v, u)\n",
      "    direc = np.rad2deg(direc + (direc<0)*2*np.pi);\n",
      "        \n",
      "    ts=G.variables['time_counter']\n",
      "    torig = nc_tools.time_origin(G)\n",
      "    for ind in np.arange(ts.shape[0]):\n",
      "        t.append((torig + datetime.timedelta(seconds=ts[ind])).datetime)\n",
      "    \n",
      "    return wind, direc, t, pr, tem, sol, the, qr, pre"
     ],
     "language": "python",
     "metadata": {},
     "outputs": [],
     "prompt_number": 9
    },
    {
     "cell_type": "code",
     "collapsed": false,
     "input": [
      "stationsGEM =['Sandheads_GEM', 'EntranceIsland_GEM','PamRocks_GEM','YVR_GEM',\n",
      "                     'SistersIsland_GEM','Esquimalt_GEM']\n",
      "\n",
      "stationsOP =['Sandheads_OP', 'EntranceIsland_OP','PamRocks_OP','YVR_OP',\n",
      "                     'SistersIsland_OP','Esquimalt_OP']\n",
      "\n",
      "for (obs, modGEM) in zip(stations,stationsGEM):\n",
      "    [j,i]=find_model_point(lon[obs],lat[obs],GEMlon,GEMlat)\n",
      "    lon[modGEM] = GEMlon[j,i]\n",
      "    lat[modGEM]=GEMlat[j,i]\n",
      "\n",
      "    [wind_speed[modGEM],wind_dir[modGEM],time[modGEM],\n",
      "     press[modGEM],temp[modGEM],solar[modGEM],\n",
      "     therm[modGEM],qair[modGEM],precip[modGEM]] = compile_GEM(j,i)\n",
      "    "
     ],
     "language": "python",
     "metadata": {},
     "outputs": [],
     "prompt_number": 12
    },
    {
     "cell_type": "markdown",
     "metadata": {},
     "source": [
      "I would like to plot a time series of the weather models, but this involves reading in multiple files. In the funtion compile_GEM(j,i), I loop through a list of files, reading each in one at a time, and adding the data to an array. I would like to replace compile_GEM with compile_GEM_MF, which takes care of reading in multiple files as if it were one data set using nc.MFDataset(). But, I get and error like this:"
     ]
    },
    {
     "cell_type": "code",
     "collapsed": false,
     "input": [
      "G=nc.MFDataset(filesGEM)"
     ],
     "language": "python",
     "metadata": {},
     "outputs": [
      {
       "ename": "ValueError",
       "evalue": "MFNetCDF4 only works with NETCDF3_CLASSIC, NETCDF3_64BIT and NETCDF4_CLASSIC formatted files, not NETCDF4",
       "output_type": "pyerr",
       "traceback": [
        "\u001b[1;31m---------------------------------------------------------------------------\u001b[0m\n\u001b[1;31mValueError\u001b[0m                                Traceback (most recent call last)",
        "\u001b[1;32m<ipython-input-13-4c0c4f168cf5>\u001b[0m in \u001b[0;36m<module>\u001b[1;34m()\u001b[0m\n\u001b[1;32m----> 1\u001b[1;33m \u001b[0mG\u001b[0m\u001b[1;33m=\u001b[0m\u001b[0mnc\u001b[0m\u001b[1;33m.\u001b[0m\u001b[0mMFDataset\u001b[0m\u001b[1;33m(\u001b[0m\u001b[0mfilesGEM\u001b[0m\u001b[1;33m)\u001b[0m\u001b[1;33m\u001b[0m\u001b[0m\n\u001b[0m",
        "\u001b[1;32m/home/nsoontie/anaconda/lib/python2.7/site-packages/netCDF4.so\u001b[0m in \u001b[0;36mnetCDF4.MFDataset.__init__ (netCDF4.c:8469)\u001b[1;34m()\u001b[0m\n",
        "\u001b[1;31mValueError\u001b[0m: MFNetCDF4 only works with NETCDF3_CLASSIC, NETCDF3_64BIT and NETCDF4_CLASSIC formatted files, not NETCDF4"
       ]
      }
     ],
     "prompt_number": 13
    },
    {
     "cell_type": "code",
     "collapsed": false,
     "input": [
      "G=nc.MFDataset(filesOP)"
     ],
     "language": "python",
     "metadata": {},
     "outputs": [
      {
       "ename": "ValueError",
       "evalue": "MFNetCDF4 only works with NETCDF3_CLASSIC, NETCDF3_64BIT and NETCDF4_CLASSIC formatted files, not NETCDF4",
       "output_type": "pyerr",
       "traceback": [
        "\u001b[1;31m---------------------------------------------------------------------------\u001b[0m\n\u001b[1;31mValueError\u001b[0m                                Traceback (most recent call last)",
        "\u001b[1;32m<ipython-input-14-e9fb84dbb0b6>\u001b[0m in \u001b[0;36m<module>\u001b[1;34m()\u001b[0m\n\u001b[1;32m----> 1\u001b[1;33m \u001b[0mG\u001b[0m\u001b[1;33m=\u001b[0m\u001b[0mnc\u001b[0m\u001b[1;33m.\u001b[0m\u001b[0mMFDataset\u001b[0m\u001b[1;33m(\u001b[0m\u001b[0mfilesOP\u001b[0m\u001b[1;33m)\u001b[0m\u001b[1;33m\u001b[0m\u001b[0m\n\u001b[0m",
        "\u001b[1;32m/home/nsoontie/anaconda/lib/python2.7/site-packages/netCDF4.so\u001b[0m in \u001b[0;36mnetCDF4.MFDataset.__init__ (netCDF4.c:8469)\u001b[1;34m()\u001b[0m\n",
        "\u001b[1;31mValueError\u001b[0m: MFNetCDF4 only works with NETCDF3_CLASSIC, NETCDF3_64BIT and NETCDF4_CLASSIC formatted files, not NETCDF4"
       ]
      }
     ],
     "prompt_number": 14
    },
    {
     "cell_type": "markdown",
     "metadata": {},
     "source": [
      "Idalia used this function successfully with NEMO output"
     ]
    },
    {
     "cell_type": "code",
     "collapsed": false,
     "input": [
      "path = '/ocean/dlatorne/MEOPAR/SalishSea/results/spin-up/'\n",
      "\n",
      "files = glob.glob(path+'*/SalishSea_1d_*grid_T.nc')\n",
      "files.sort(key=os.path.basename)\n",
      "\n",
      "tracers = nc.MFDataset(files)"
     ],
     "language": "python",
     "metadata": {},
     "outputs": [],
     "prompt_number": 16
    },
    {
     "cell_type": "code",
     "collapsed": false,
     "input": [
      "nc_tools.show_dimensions(tracers)"
     ],
     "language": "python",
     "metadata": {},
     "outputs": [
      {
       "output_type": "stream",
       "stream": "stdout",
       "text": [
        "<type 'netCDF4.Dimension'>: name = 'x', size = 398\n",
        "\n",
        "<type 'netCDF4.Dimension'>: name = 'y', size = 898\n",
        "\n",
        "<type 'netCDF4.Dimension'>: name = 'deptht', size = 40\n",
        "\n",
        "<class 'netCDF4._Dimension'> (unlimited): name = 'time_counter', size = 365\n",
        "\n",
        "<type 'netCDF4.Dimension'>: name = 'tbnds', size = 2\n",
        "\n"
       ]
      }
     ],
     "prompt_number": 18
    },
    {
     "cell_type": "code",
     "collapsed": false,
     "input": [],
     "language": "python",
     "metadata": {},
     "outputs": []
    }
   ],
   "metadata": {}
  }
 ]
}