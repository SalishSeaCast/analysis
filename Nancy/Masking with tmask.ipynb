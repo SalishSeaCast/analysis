{
 "cells": [
  {
   "cell_type": "markdown",
   "metadata": {},
   "source": [
    "This notebooks shows how to use the tmask from mesh_mask.nc file to mask variables.\n",
    "\n",
    "It also compared the timing of using tmask vs searching for zeros."
   ]
  },
  {
   "cell_type": "code",
   "execution_count": 1,
   "metadata": {
    "collapsed": true
   },
   "outputs": [],
   "source": [
    "import netCDF4 as nc\n",
    "import numpy as np"
   ]
  },
  {
   "cell_type": "code",
   "execution_count": 2,
   "metadata": {
    "collapsed": true
   },
   "outputs": [],
   "source": [
    "f = nc.Dataset('/results/SalishSea/nowcast/11jan15/SalishSea_1h_20150111_20150111_grid_T.nc')\n",
    "\n",
    "sal = f.variables['vosaline'][:]\n",
    "t = f.variables['votemper'][:]"
   ]
  },
  {
   "cell_type": "markdown",
   "metadata": {},
   "source": [
    "# Loading and manipulating mask"
   ]
  },
  {
   "cell_type": "code",
   "execution_count": 3,
   "metadata": {
    "collapsed": false
   },
   "outputs": [
    {
     "name": "stdout",
     "output_type": "stream",
     "text": [
      "1 loops, best of 1: 813 ms per loop\n"
     ]
    }
   ],
   "source": [
    "%%timeit -n1 -r1\n",
    "mesh = nc.Dataset('/data/nsoontie/MEOPAR/NEMO-forcing/grid/mesh_mask_SalishSea2.nc')\n",
    "tmask = mesh.variables['tmask'][:]\n",
    "\n",
    "tmask=tmask +np.zeros(sal.shape) #expanding time dimension of tmask so that it can be applied to full array."
   ]
  },
  {
   "cell_type": "code",
   "execution_count": 4,
   "metadata": {
    "collapsed": true
   },
   "outputs": [],
   "source": [
    "mesh = nc.Dataset('/data/nsoontie/MEOPAR/NEMO-forcing/grid/mesh_mask_SalishSea2.nc')\n",
    "tmask = mesh.variables['tmask'][:]\n",
    "tmask=tmask +np.zeros(sal.shape)\n"
   ]
  },
  {
   "cell_type": "markdown",
   "metadata": {},
   "source": [
    "# Masking one variable\n",
    "a. Searching for zeros"
   ]
  },
  {
   "cell_type": "code",
   "execution_count": 5,
   "metadata": {
    "collapsed": false
   },
   "outputs": [
    {
     "name": "stdout",
     "output_type": "stream",
     "text": [
      "1 loops, best of 5: 8.42 s per loop\n"
     ]
    }
   ],
   "source": [
    "%%timeit -n1 -r5\n",
    "\n",
    "sal_m = np.ma.masked_values(sal,0)"
   ]
  },
  {
   "cell_type": "markdown",
   "metadata": {},
   "source": [
    "b. Using tmask"
   ]
  },
  {
   "cell_type": "code",
   "execution_count": 6,
   "metadata": {
    "collapsed": false
   },
   "outputs": [
    {
     "name": "stdout",
     "output_type": "stream",
     "text": [
      "1 loops, best of 5: 301 ms per loop\n"
     ]
    }
   ],
   "source": [
    "%%timeit -n1 -r5\n",
    "\n",
    "sal_t = np.ma.masked_array(sal,mask=tmask)"
   ]
  },
  {
   "cell_type": "markdown",
   "metadata": {},
   "source": [
    "# Masking two variables\n",
    "a. Searching for zeros"
   ]
  },
  {
   "cell_type": "code",
   "execution_count": 7,
   "metadata": {
    "collapsed": false
   },
   "outputs": [
    {
     "name": "stdout",
     "output_type": "stream",
     "text": [
      "1 loops, best of 5: 18.6 s per loop\n"
     ]
    }
   ],
   "source": [
    "%%timeit -n1 -r5\n",
    "\n",
    "sal_m2 = np.ma.masked_values(sal,0)\n",
    "t_m2 = np.ma.masked_values(t,0)"
   ]
  },
  {
   "cell_type": "markdown",
   "metadata": {},
   "source": [
    "b. Using tmask"
   ]
  },
  {
   "cell_type": "code",
   "execution_count": 8,
   "metadata": {
    "collapsed": false
   },
   "outputs": [
    {
     "name": "stdout",
     "output_type": "stream",
     "text": [
      "1 loops, best of 5: 605 ms per loop\n"
     ]
    }
   ],
   "source": [
    "%%timeit -n1 -r5\n",
    "\n",
    "sal_t2 = np.ma.masked_array(sal,mask=tmask)\n",
    "t_t2 = np.ma.masked_array(t,mask=tmask)"
   ]
  },
  {
   "cell_type": "code",
   "execution_count": null,
   "metadata": {
    "collapsed": true
   },
   "outputs": [],
   "source": []
  }
 ],
 "metadata": {
  "kernelspec": {
   "display_name": "Python 3",
   "language": "python",
   "name": "python3"
  },
  "language_info": {
   "codemirror_mode": {
    "name": "ipython",
    "version": 3
   },
   "file_extension": ".py",
   "mimetype": "text/x-python",
   "name": "python",
   "nbconvert_exporter": "python",
   "pygments_lexer": "ipython3",
   "version": "3.4.3"
  }
 },
 "nbformat": 4,
 "nbformat_minor": 0
}
