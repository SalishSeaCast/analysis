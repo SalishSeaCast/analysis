{
 "cells": [
  {
   "cell_type": "markdown",
   "metadata": {},
   "source": [
    "I've noticed in some places that the model bathymetry in Boundary Pass doesn't seem to match with reality. \n",
    "\n",
    "See these two notebooks:\n",
    "* http://nbviewer.ipython.org/urls/bitbucket.org/salishsea/analysis/raw/tip/Nancy/strat/comparisons/ONC%20Moorings.ipynb\n",
    "* http://nbviewer.ipython.org/urls/bitbucket.org/salishsea/analysis/raw/tip/Nancy/strat/comparisons/Fall%202014%20IOS%20data.ipynb\n",
    "\n",
    "Is this a consistent error or is it just a discrepancy with the closest model grid point? I will investigate by looking at the bathymetry near the observations points as well."
   ]
  },
  {
   "cell_type": "code",
   "execution_count": 2,
   "metadata": {
    "collapsed": false
   },
   "outputs": [],
   "source": [
    "import sys\n",
    "import pandas as pd\n",
    "sys.path.insert(0, './strat/comparisons/')\n",
    "import ONC\n",
    "import ACTDR\n",
    "import comparisons\n",
    "from salishsea_tools import tidetools\n",
    "import netCDF4 as nc\n",
    "import matplotlib.pyplot as plt\n",
    "import datetime\n",
    "%matplotlib inline"
   ]
  },
  {
   "cell_type": "markdown",
   "metadata": {},
   "source": [
    "# Model files"
   ]
  },
  {
   "cell_type": "code",
   "execution_count": 3,
   "metadata": {
    "collapsed": false
   },
   "outputs": [],
   "source": [
    "grid = nc.Dataset('/data/nsoontie/MEOPAR/NEMO-forcing/grid/bathy_meter_SalishSea2.nc')\n",
    "\n",
    "bathy = grid.variables['Bathymetry'][:]\n",
    "lons = grid.variables['nav_lon'][:]\n",
    "lats = grid.variables['nav_lat'][:]"
   ]
  },
  {
   "cell_type": "markdown",
   "metadata": {},
   "source": [
    "## ONC Mooring Point"
   ]
  },
  {
   "cell_type": "code",
   "execution_count": 4,
   "metadata": {
    "collapsed": true
   },
   "outputs": [],
   "source": [
    "csvfilename = ('/ocean/nsoontie/MEOPAR/ONC/BoundaryPass//'\n",
    "               'BoundaryPass_BoundaryPassMooring_CTD_20140411T175025Z_20150408T235058Z-NaN_clean.csv')"
   ]
  },
  {
   "cell_type": "code",
   "execution_count": 5,
   "metadata": {
    "collapsed": false
   },
   "outputs": [
    {
     "name": "stdout",
     "output_type": "stream",
     "text": [
      "(48.766222, -123.039194, 234.0)\n"
     ]
    },
    {
     "name": "stderr",
     "output_type": "stream",
     "text": [
      "./strat/comparisons/ONC.py:37: FutureWarning: convert_objects is deprecated.  Use the data-type specific converters pd.to_datetime, pd.to_timedelta and pd.to_numeric.\n",
      "  data = data.convert_objects(convert_numeric=True)\n"
     ]
    }
   ],
   "source": [
    "data, lat, lon, depth =  ONC.load_mooring_csv(csvfilename)\n",
    "print(lat,lon, depth)"
   ]
  },
  {
   "cell_type": "code",
   "execution_count": 6,
   "metadata": {
    "collapsed": false
   },
   "outputs": [
    {
     "name": "stdout",
     "output_type": "stream",
     "text": [
      "(343, 289, 205.0)\n"
     ]
    }
   ],
   "source": [
    "j,i = tidetools.find_closest_model_point(lon,lat,lons, lats, bathy)\n",
    "print(j,i, bathy[j,i])"
   ]
  },
  {
   "cell_type": "markdown",
   "metadata": {},
   "source": [
    "At the closest grid point, the model bathymetry is 30m shallower. What about neighbouring points?"
   ]
  },
  {
   "cell_type": "code",
   "execution_count": 7,
   "metadata": {
    "collapsed": false
   },
   "outputs": [
    {
     "name": "stdout",
     "output_type": "stream",
     "text": [
      "[[184.0 192.0 188.0 186.0 101.625 62.375]\n",
      " [197.0 196.0 208.0 208.0 178.0 116.625]\n",
      " [207.0 203.0 208.0 204.0 189.0 159.0]\n",
      " [202.0 205.0 210.0 205.0 180.0 201.0]\n",
      " [195.0 196.0 192.0 192.0 200.0 197.0]\n",
      " [195.0 191.0 186.0 139.25 164.625 192.0]]\n"
     ]
    }
   ],
   "source": [
    "stp = 3\n",
    "print(bathy[j-stp:j+stp,i-stp:i+stp])"
   ]
  },
  {
   "cell_type": "code",
   "execution_count": 8,
   "metadata": {
    "collapsed": false
   },
   "outputs": [
    {
     "data": {
      "text/plain": [
       "[<matplotlib.lines.Line2D at 0x7f2bfc941410>]"
      ]
     },
     "execution_count": 8,
     "metadata": {},
     "output_type": "execute_result"
    },
    {
     "name": "stderr",
     "output_type": "stream",
     "text": [
      "/home/nsoontie/anaconda3/envs/py2/lib/python2.7/site-packages/matplotlib/collections.py:590: FutureWarning: elementwise comparison failed; returning scalar instead, but in the future will perform elementwise comparison\n",
      "  if self._edgecolors == str('face'):\n"
     ]
    },
    {
     "data": {
      "image/png": "[encoded data removed]",
      "text/plain": [
       "<matplotlib.figure.Figure at 0x7f2bf9fa0410>"
      ]
     },
     "metadata": {},
     "output_type": "display_data"
    }
   ],
   "source": [
    "plt.pcolormesh(lons, lats,bathy,vmin=205,vmax=234)\n",
    "cbar = plt.colorbar()\n",
    "cbar.set_label('Bahtymetry [m]')\n",
    "plt.plot([lons[j-stp,i-stp], lons[j-stp,i+stp]], [lats[j-stp,i-stp], lats[j-stp,i+stp] ] ,'k')\n",
    "plt.plot([lons[j-stp,i-stp], lons[j+stp,i-stp]], [lats[j-stp,i-stp], lats[j+stp,i-stp] ] ,'k')\n",
    "plt.plot([lons[j+stp,i+stp], lons[j-stp,i+stp]], [lats[j+stp,i+stp], lats[j-stp,i+stp] ],'k')\n",
    "plt.plot([lons[j+stp,i+stp], lons[j+stp,i-stp]], [lats[j+stp,i+stp], lats[j+stp,i-stp] ],'k')\n",
    "plt.axis([-123.2,-123, 48.7,48.8])\n",
    "plt.plot(lon, lat,'r*')"
   ]
  },
  {
   "cell_type": "markdown",
   "metadata": {},
   "source": [
    "No where in this neighourhood do we get close to 234m depth. Is the depth record in the ONC file accurate?"
   ]
  },
  {
   "cell_type": "markdown",
   "metadata": {},
   "source": [
    "# IOS Cast"
   ]
  },
  {
   "cell_type": "code",
   "execution_count": 9,
   "metadata": {
    "collapsed": false
   },
   "outputs": [
    {
     "name": "stdout",
     "output_type": "stream",
     "text": [
      "('> open ', 'strat/comparisons/SOG_2000.dat')\n",
      "> load CTD_DAT\n",
      "> load STANDARD_KEYS\n",
      "('> close ', 'strat/comparisons/SOG_2000.dat')\n",
      "> complete\n"
     ]
    }
   ],
   "source": [
    "ACTDR.load_dat('strat/comparisons/SOG_2000.dat')\n",
    "data = pd.DataFrame(ACTDR.CTD_DAT)"
   ]
  },
  {
   "cell_type": "code",
   "execution_count": 10,
   "metadata": {
    "collapsed": false
   },
   "outputs": [],
   "source": [
    "\n",
    "\n",
    "lon_min=-123.49\n",
    "lon_max=-122\n",
    "lat_min=48.75\n",
    "lat_max=48.8\n",
    "data_BP = comparisons.isolate_region(data,lon_min, lon_max, lat_min, lat_max)\n",
    "data_fall_BP  = data_BP[(data_BP.Year>=2014) & (data_BP.Month >=10)  ]\n",
    "\n"
   ]
  },
  {
   "cell_type": "code",
   "execution_count": 11,
   "metadata": {
    "collapsed": false
   },
   "outputs": [
    {
     "name": "stdout",
     "output_type": "stream",
     "text": [
      "(-123.027, 48.771999999999998, 211.08877605139131)\n"
     ]
    }
   ],
   "source": [
    "lon = data_fall_BP.Longitude\n",
    "lat = data_fall_BP.Latitude\n",
    "depths = data_fall_BP.Depth\n",
    "print(lon.values[0], lat.values[0], max(depths.values[0]))"
   ]
  },
  {
   "cell_type": "code",
   "execution_count": 12,
   "metadata": {
    "collapsed": false
   },
   "outputs": [
    {
     "name": "stdout",
     "output_type": "stream",
     "text": [
      "(343, 292, 131.0)\n"
     ]
    }
   ],
   "source": [
    "j,i = tidetools.find_closest_model_point(lon.values[0],lat.values[0],lons, lats, bathy)\n",
    "print(j,i, bathy[j,i])"
   ]
  },
  {
   "cell_type": "markdown",
   "metadata": {},
   "source": [
    "The model is 80m shallower! Neighbouring points"
   ]
  },
  {
   "cell_type": "code",
   "execution_count": 13,
   "metadata": {
    "collapsed": false
   },
   "outputs": [
    {
     "name": "stdout",
     "output_type": "stream",
     "text": [
      "[[186.0 101.625 62.375 63.3125 59.0 128.0]\n",
      " [208.0 178.0 116.625 55.375 45.4375 94.9375]\n",
      " [204.0 189.0 159.0 120.0 102.625 114.0]\n",
      " [205.0 180.0 201.0 131.0 129.0 149.0]\n",
      " [192.0 200.0 197.0 140.0 142.0 172.0]\n",
      " [139.25 164.625 192.0 188.0 174.0 184.0]]\n"
     ]
    }
   ],
   "source": [
    "stp = 3\n",
    "print(bathy[j-stp:j+stp,i-stp:i+stp])"
   ]
  },
  {
   "cell_type": "code",
   "execution_count": 14,
   "metadata": {
    "collapsed": false
   },
   "outputs": [
    {
     "data": {
      "text/plain": [
       "[<matplotlib.lines.Line2D at 0x7f2bfc152610>]"
      ]
     },
     "execution_count": 14,
     "metadata": {},
     "output_type": "execute_result"
    },
    {
     "data": {
      "image/png": "[encoded data removed]",
      "text/plain": [
       "<matplotlib.figure.Figure at 0x7f2bfbf8f990>"
      ]
     },
     "metadata": {},
     "output_type": "display_data"
    }
   ],
   "source": [
    "plt.pcolormesh(lons, lats,bathy,vmin=131,vmax=211)\n",
    "cbar = plt.colorbar()\n",
    "cbar.set_label('Bahtymetry [m]')\n",
    "plt.plot([lons[j-stp,i-stp], lons[j-stp,i+stp]], [lats[j-stp,i-stp], lats[j-stp,i+stp] ] ,'k')\n",
    "plt.plot([lons[j-stp,i-stp], lons[j+stp,i-stp]], [lats[j-stp,i-stp], lats[j+stp,i-stp] ] ,'k')\n",
    "plt.plot([lons[j+stp,i+stp], lons[j-stp,i+stp]], [lats[j+stp,i+stp], lats[j-stp,i+stp] ],'k')\n",
    "plt.plot([lons[j+stp,i+stp], lons[j+stp,i-stp]], [lats[j+stp,i+stp], lats[j+stp,i-stp] ],'k')\n",
    "plt.axis([-123.1,-123, 48.7,48.8])\n",
    "plt.plot(lon.values[0], lat.values[0],'r*')"
   ]
  },
  {
   "cell_type": "markdown",
   "metadata": {},
   "source": [
    "The point at find_closest_model_point is too shallow but there are neighouring points at an appropriate depth. "
   ]
  },
  {
   "cell_type": "code",
   "execution_count": null,
   "metadata": {
    "collapsed": true
   },
   "outputs": [],
   "source": []
  }
 ],
 "metadata": {
  "kernelspec": {
   "display_name": "Python 2",
   "language": "python",
   "name": "python2"
  },
  "language_info": {
   "codemirror_mode": {
    "name": "ipython",
    "version": 2
   },
   "file_extension": ".py",
   "mimetype": "text/x-python",
   "name": "python",
   "nbconvert_exporter": "python",
   "pygments_lexer": "ipython2",
   "version": "2.7.10"
  }
 },
 "nbformat": 4,
 "nbformat_minor": 0
}
