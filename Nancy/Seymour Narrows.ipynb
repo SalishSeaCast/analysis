{
 "cells": [
  {
   "cell_type": "code",
   "execution_count": 1,
   "metadata": {
    "collapsed": true
   },
   "outputs": [],
   "source": [
    "import netCDF4 as nc\n",
    "import matplotlib.pyplot as plt\n",
    "import numpy as np\n",
    "from salishsea_tools import viz_tools,tidetools\n",
    "\n",
    "%matplotlib inline"
   ]
  },
  {
   "cell_type": "code",
   "execution_count": 2,
   "metadata": {
    "collapsed": false
   },
   "outputs": [],
   "source": [
    "grid = '/data/nsoontie/MEOPAR/NEMO-forcing/grid/bathy_meter_SalishSea2.nc'\n",
    "fB = nc.Dataset(grid)\n",
    "bathy=fB.variables['Bathymetry'][:]\n",
    "X = fB.variables['nav_lon'][:]\n",
    "Y=fB.variables['nav_lat'][:]\n"
   ]
  },
  {
   "cell_type": "code",
   "execution_count": 3,
   "metadata": {
    "collapsed": false
   },
   "outputs": [
    {
     "name": "stdout",
     "output_type": "stream",
     "text": [
      "120 774\n"
     ]
    }
   ],
   "source": [
    "lat36 = 50.135820\n",
    "lon36 = -125.353403\n",
    "\n",
    "j36, i36 = tidetools.find_closest_model_point(lon36, lat36, X, Y, bathy)\n",
    "print i36, j36\n",
    "\n"
   ]
  },
  {
   "cell_type": "code",
   "execution_count": 4,
   "metadata": {
    "collapsed": false
   },
   "outputs": [
    {
     "data": {
      "text/plain": [
       "[110, 150, 750, 790]"
      ]
     },
     "execution_count": 4,
     "metadata": {},
     "output_type": "execute_result"
    },
    {
     "data": {
      "image/png": "[encoded data removed]",
      "text/plain": [
       "<matplotlib.figure.Figure at 0x7f8ed1b9d390>"
      ]
     },
     "metadata": {},
     "output_type": "display_data"
    }
   ],
   "source": [
    "plt.pcolormesh(bathy)\n",
    "plt.plot(i36,j36,'ro')\n",
    "plt.axis([110,150,750,790])"
   ]
  },
  {
   "cell_type": "markdown",
   "metadata": {},
   "source": [
    "Very close to the land. How does the U/V grid look?"
   ]
  },
  {
   "cell_type": "code",
   "execution_count": 5,
   "metadata": {
    "collapsed": false
   },
   "outputs": [
    {
     "name": "stdout",
     "output_type": "stream",
     "text": [
      "0.404824\n",
      "--\n"
     ]
    },
    {
     "data": {
      "image/png": "[encoded data removed]",
      "text/plain": [
       "<matplotlib.figure.Figure at 0x7f8ed1a8f390>"
      ]
     },
     "metadata": {},
     "output_type": "display_data"
    }
   ],
   "source": [
    "ufil='/data/dlatorne/MEOPAR/SalishSea/nowcast/24jan15/SalishSea_1d_20150124_20150124_grid_U.nc'\n",
    "fU = nc.Dataset(ufil)\n",
    "U = fU.variables['vozocrtx']\n",
    "U=np.ma.masked_values(U[0,0,:,:],0)\n",
    "\n",
    "plt.pcolormesh(U)\n",
    "plt.plot(i36,j36,'ro')\n",
    "plt.axis([110,125,765,780])\n",
    "\n",
    "print U[j36,i36]\n",
    "print U[j36,i36-1]"
   ]
  },
  {
   "cell_type": "markdown",
   "metadata": {},
   "source": [
    "U masked at the unstagger point. So this index is no good for tidal currents."
   ]
  },
  {
   "cell_type": "code",
   "execution_count": 6,
   "metadata": {
    "collapsed": false
   },
   "outputs": [
    {
     "name": "stdout",
     "output_type": "stream",
     "text": [
      "0.417577\n",
      "0.248107\n"
     ]
    },
    {
     "data": {
      "image/png": "[encoded data removed]",
      "text/plain": [
       "<matplotlib.figure.Figure at 0x7f8ed1b66b90>"
      ]
     },
     "metadata": {},
     "output_type": "display_data"
    }
   ],
   "source": [
    "vfil='/data/dlatorne/MEOPAR/SalishSea/nowcast/24jan15/SalishSea_1d_20150124_20150124_grid_V.nc'\n",
    "fV = nc.Dataset(vfil)\n",
    "V = fV.variables['vomecrty']\n",
    "V=np.ma.masked_values(V[0,0,:,:],0)\n",
    "\n",
    "plt.pcolormesh(V)\n",
    "plt.plot(i36,j36,'ro')\n",
    "plt.axis([110,125,765,780])\n",
    "\n",
    "print V[j36,i36]\n",
    "print V[j36-1,i36]"
   ]
  },
  {
   "cell_type": "markdown",
   "metadata": {},
   "source": [
    "Adjust i,j until we find a point that works..."
   ]
  },
  {
   "cell_type": "code",
   "execution_count": 7,
   "metadata": {
    "collapsed": false
   },
   "outputs": [
    {
     "name": "stdout",
     "output_type": "stream",
     "text": [
      "119 772\n"
     ]
    }
   ],
   "source": [
    "\n",
    "inew=i36-1\n",
    "jnew=j36-2\n",
    "print inew, jnew\n",
    "\n"
   ]
  },
  {
   "cell_type": "code",
   "execution_count": 8,
   "metadata": {
    "collapsed": false
   },
   "outputs": [
    {
     "name": "stdout",
     "output_type": "stream",
     "text": [
      "-0.336431\n",
      "0.467699\n"
     ]
    },
    {
     "data": {
      "image/png": "[encoded data removed]",
      "text/plain": [
       "<matplotlib.figure.Figure at 0x7f8ed198ef10>"
      ]
     },
     "metadata": {},
     "output_type": "display_data"
    }
   ],
   "source": [
    "ufil='/data/dlatorne/MEOPAR/SalishSea/nowcast/24jan15/SalishSea_1d_20150124_20150124_grid_U.nc'\n",
    "fU = nc.Dataset(ufil)\n",
    "U = fU.variables['vozocrtx']\n",
    "U=np.ma.masked_values(U[0,0,:,:],0)\n",
    "\n",
    "plt.pcolormesh(U)\n",
    "plt.plot(inew,jnew,'ro')\n",
    "plt.axis([110,125,765,780])\n",
    "\n",
    "print U[jnew,inew]\n",
    "print U[jnew,inew-1]"
   ]
  },
  {
   "cell_type": "code",
   "execution_count": 9,
   "metadata": {
    "collapsed": false
   },
   "outputs": [
    {
     "name": "stdout",
     "output_type": "stream",
     "text": [
      "0.0286868\n",
      "0.0204337\n"
     ]
    },
    {
     "data": {
      "image/png": "[encoded data removed]",
      "text/plain": [
       "<matplotlib.figure.Figure at 0x7f8ed132e890>"
      ]
     },
     "metadata": {},
     "output_type": "display_data"
    }
   ],
   "source": [
    "vfil='/data/dlatorne/MEOPAR/SalishSea/nowcast/24jan15/SalishSea_1d_20150124_20150124_grid_V.nc'\n",
    "fV = nc.Dataset(vfil)\n",
    "V = fV.variables['vomecrty']\n",
    "V=np.ma.masked_values(V[0,0,:,:],0)\n",
    "\n",
    "plt.pcolormesh(V)\n",
    "plt.plot(inew,jnew,'ro')\n",
    "plt.axis([110,125,765,780])\n",
    "\n",
    "print V[jnew,inew]\n",
    "print V[jnew-1,inew]"
   ]
  },
  {
   "cell_type": "code",
   "execution_count": 10,
   "metadata": {
    "collapsed": false
   },
   "outputs": [
    {
     "name": "stdout",
     "output_type": "stream",
     "text": [
      "-125.350700378 -125.352050781\n",
      "50.1259269714 50.1356124878\n",
      "84.0 54.25\n"
     ]
    }
   ],
   "source": [
    "print X[jnew,inew], X[j36,i36]\n",
    "print Y[jnew,inew], Y[j36,i36]\n",
    "print bathy[jnew,inew], bathy[j36,i36]"
   ]
  },
  {
   "cell_type": "code",
   "execution_count": 11,
   "metadata": {
    "collapsed": false
   },
   "outputs": [
    {
     "data": {
      "text/plain": [
       "[110, 125, 765, 780]"
      ]
     },
     "execution_count": 11,
     "metadata": {},
     "output_type": "execute_result"
    },
    {
     "data": {
      "image/png": "[encoded data removed]",
      "text/plain": [
       "<matplotlib.figure.Figure at 0x7f8ed19a1390>"
      ]
     },
     "metadata": {},
     "output_type": "display_data"
    }
   ],
   "source": [
    "plt.pcolormesh(bathy)\n",
    "plt.plot(i36,j36,'ro')\n",
    "plt.plot(inew,jnew,'yo')\n",
    "plt.axis([110,125,765,780])"
   ]
  },
  {
   "cell_type": "code",
   "execution_count": null,
   "metadata": {
    "collapsed": true
   },
   "outputs": [],
   "source": []
  },
  {
   "cell_type": "code",
   "execution_count": null,
   "metadata": {
    "collapsed": true
   },
   "outputs": [],
   "source": []
  }
 ],
 "metadata": {
  "kernelspec": {
   "display_name": "Python 2",
   "language": "python",
   "name": "python2"
  },
  "language_info": {
   "codemirror_mode": {
    "name": "ipython",
    "version": 2
   },
   "file_extension": ".py",
   "mimetype": "text/x-python",
   "name": "python",
   "nbconvert_exporter": "python",
   "pygments_lexer": "ipython2",
   "version": "2.7.9"
  }
 },
 "nbformat": 4,
 "nbformat_minor": 0
}
