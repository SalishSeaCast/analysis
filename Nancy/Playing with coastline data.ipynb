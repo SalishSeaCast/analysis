{
 "metadata": {
  "name": "",
  "signature": "sha256:2989827d7ecef3d846112586ecb9d36005952f70d152ce1a2dfb4b37b74301db"
 },
 "nbformat": 3,
 "nbformat_minor": 0,
 "worksheets": [
  {
   "cells": [
    {
     "cell_type": "markdown",
     "metadata": {},
     "source": [
      "Figuring out how to fill the land colour with Rich's coastline data."
     ]
    },
    {
     "cell_type": "code",
     "collapsed": false,
     "input": [
      "from __future__ import division\n",
      "import numpy as np\n",
      "import scipy.io as sio\n",
      "\n",
      "%matplotlib inline\n",
      "import matplotlib.pyplot as plt\n",
      "import matplotlib.patches as patches\n"
     ],
     "language": "python",
     "metadata": {},
     "outputs": [],
     "prompt_number": 1
    },
    {
     "cell_type": "code",
     "collapsed": false,
     "input": [
      "topo_datastruct = sio.loadmat('/ocean/rich/more/mmapbase/bcgeo/PNW.mat')\n",
      "coast={}\n",
      "coast['lat'] = topo_datastruct['ncst'][:,1]\n",
      "coast['lon'] = topo_datastruct['ncst'][:,0]\n",
      "k=topo_datastruct['k']\n",
      "Area=topo_datastruct['Area']"
     ],
     "language": "python",
     "metadata": {},
     "outputs": [],
     "prompt_number": 2
    },
    {
     "cell_type": "markdown",
     "metadata": {},
     "source": [
      "Metadata - where does this information come from?"
     ]
    },
    {
     "cell_type": "code",
     "collapsed": false,
     "input": [
      "print topo_datastruct['data_source']"
     ],
     "language": "python",
     "metadata": {},
     "outputs": [
      {
       "output_type": "stream",
       "stream": "stdout",
       "text": [
        "[u'The Pacific North-West coastline in PNW.mat was created from   '\n",
        " u'two sources:                                                   '\n",
        " u' a) BC Freshwater Atlas Coastline (FWCSTLNSSP) available as an '\n",
        " u'    Arcview shapefile from GeoBC, and                          '\n",
        " u' b) WA Marine Shorelines (shore_arc), available as a shapefile '\n",
        " u'    on a lambert conformal projection from WA State Dept. of   '\n",
        " u'    Ecology.                                                   '\n",
        " u'                                                               '\n",
        " u' The WA coastline was converted to lat/long using m_map and    '\n",
        " u' all island arcs were then joined into continous oriented      '\n",
        " u' polygons, and the coastline itself was converted into a       '\n",
        " u' polygon by the addition of inland corners.                    '\n",
        " u'                                                               '\n",
        " u' The result is (supposedly) on the NAD83 horizontal datum      '\n",
        " u'    - Rich Pawlowicz (rich@eos.ubc.ca)                         '\n",
        " u'      July/2013                                                ']\n"
       ]
      }
     ],
     "prompt_number": 3
    },
    {
     "cell_type": "markdown",
     "metadata": {},
     "source": [
      "Polygons in are separated by nans. Split the data into separate polygons"
     ]
    },
    {
     "cell_type": "code",
     "collapsed": false,
     "input": [
      "def separate_polygons(a):\n",
      "    return [a[s] for s in np.ma.clump_unmasked(np.ma.masked_invalid(a))]"
     ],
     "language": "python",
     "metadata": {},
     "outputs": [],
     "prompt_number": 4
    },
    {
     "cell_type": "code",
     "collapsed": false,
     "input": [
      "poly_lats = separate_polygons(coast['lat'])\n",
      "poly_lons = separate_polygons(coast['lon'])"
     ],
     "language": "python",
     "metadata": {},
     "outputs": [],
     "prompt_number": 5
    },
    {
     "cell_type": "markdown",
     "metadata": {},
     "source": [
      "Loop through each polgyon and plot shaded in. Use all polygons."
     ]
    },
    {
     "cell_type": "code",
     "collapsed": false,
     "input": [
      "fig,ax=plt.subplots(1,1)\n",
      "for x,y in zip(poly_lons,poly_lats):\n",
      "    poly=zip(x,y)\n",
      "    ax.add_patch(patches.Polygon(poly,closed=True,facecolor='burlywood'))\n",
      "ax.set_xlim([-126,-121])\n",
      "ax.set_ylim([48,51])"
     ],
     "language": "python",
     "metadata": {},
     "outputs": [
      {
       "metadata": {},
       "output_type": "pyout",
       "prompt_number": 6,
       "text": [
        "(48, 51)"
       ]
      },
      {
       "metadata": {},
       "output_type": "display_data",
       "png": "[encoded data removed]",
       "text": [
        "<matplotlib.figure.Figure at 0x7fbe8d90e150>"
       ]
      }
     ],
     "prompt_number": 6
    },
    {
     "cell_type": "code",
     "collapsed": false,
     "input": [
      "fig.savefig('test_all.svg')\n",
      "! ls -lh test_all.svg"
     ],
     "language": "python",
     "metadata": {},
     "outputs": [
      {
       "output_type": "stream",
       "stream": "stdout",
       "text": [
        "-rw-rw-r-- 1 nsoontie nsoontie 26M Feb 10 15:58 test_all.svg\r\n"
       ]
      }
     ],
     "prompt_number": 7
    },
    {
     "cell_type": "code",
     "collapsed": false,
     "input": [
      "fig.savefig('test_all.png')\n",
      "! ls -lh test_all.png"
     ],
     "language": "python",
     "metadata": {},
     "outputs": [
      {
       "output_type": "stream",
       "stream": "stdout",
       "text": [
        "-rw-rw-r-- 1 nsoontie nsoontie 42K Feb 10 15:58 test_all.png\r\n"
       ]
      }
     ],
     "prompt_number": 8
    },
    {
     "cell_type": "markdown",
     "metadata": {},
     "source": [
      "Next, use only a few polygons based on the area. If Area >1 add the polygon"
     ]
    },
    {
     "cell_type": "code",
     "collapsed": false,
     "input": [
      "\n",
      "fig,ax=plt.subplots(1,1)\n",
      "for ks,ke,A in zip(k[0:-1],k[1:],Area[0,:]):\n",
      "    if A > 1:\n",
      "        print ks,ke\n",
      "        poly=zip(coast['lon'][ks-1:ke],coast['lat'][ks-1:ke])\n",
      "        ax.add_patch(patches.Polygon(poly,closed=True,facecolor='burlywood'))\n",
      "ax.set_xlim([-126,-121])\n",
      "ax.set_ylim([48,51])"
     ],
     "language": "python",
     "metadata": {},
     "outputs": [
      {
       "output_type": "stream",
       "stream": "stdout",
       "text": [
        "[1] [396666]\n",
        "[396666]"
       ]
      },
      {
       "output_type": "stream",
       "stream": "stdout",
       "text": [
        " [639200]\n",
        "[639200]"
       ]
      },
      {
       "output_type": "stream",
       "stream": "stdout",
       "text": [
        " [654574]\n",
        "[923254] [925814]\n",
        "[1022646] [1023571]\n"
       ]
      },
      {
       "metadata": {},
       "output_type": "pyout",
       "prompt_number": 9,
       "text": [
        "(48, 51)"
       ]
      },
      {
       "metadata": {},
       "output_type": "display_data",
       "png": "[encoded data removed]",
       "text": [
        "<matplotlib.figure.Figure at 0x7fbe7d73d190>"
       ]
      }
     ],
     "prompt_number": 9
    },
    {
     "cell_type": "markdown",
     "metadata": {},
     "source": [
      "This is a bit slow but I think we can make it work"
     ]
    },
    {
     "cell_type": "code",
     "collapsed": false,
     "input": [
      "fig.savefig('test.svg')\n",
      "! ls -lh test.svg"
     ],
     "language": "python",
     "metadata": {},
     "outputs": [
      {
       "output_type": "stream",
       "stream": "stdout",
       "text": [
        "-rw-rw-r-- 1 nsoontie nsoontie 11M Feb 10 15:58 test.svg\r\n"
       ]
      }
     ],
     "prompt_number": 10
    },
    {
     "cell_type": "code",
     "collapsed": false,
     "input": [
      "import SVGCompress"
     ],
     "language": "python",
     "metadata": {},
     "outputs": [],
     "prompt_number": 11
    },
    {
     "cell_type": "code",
     "collapsed": false,
     "input": [
      "SVGCompress.compress_by_method('test_all.svg','merge',outputfile='test_all_compress.svg')"
     ],
     "language": "python",
     "metadata": {},
     "outputs": [
      {
       "output_type": "stream",
       "stream": "stderr",
       "text": [
        "WARNING:shapely.geos:Self-intersection at or near point 256.05099999999999 313.70499999999998\n"
       ]
      },
      {
       "output_type": "stream",
       "stream": "stderr",
       "text": [
        "/home/nsoontie/anaconda/lib/python2.7/site-packages/SVGCompress/vector_utils.py:43: UserWarning: Detected invalid polygon, setting to null\n",
        "  warnings.warn('Detected invalid polygon, setting to null')\n",
        "WARNING:shapely.geos:Self-intersection at or near point 133.55000000000001 160.01400000000001\n"
       ]
      },
      {
       "output_type": "stream",
       "stream": "stderr",
       "text": [
        "WARNING:shapely.geos:Self-intersection at or near point 252.95400000000001 217.72999999999999\n"
       ]
      },
      {
       "output_type": "stream",
       "stream": "stderr",
       "text": [
        "WARNING:shapely.geos:Self-intersection at or near point 253.511 206.637\n"
       ]
      },
      {
       "output_type": "stream",
       "stream": "stderr",
       "text": [
        "WARNING:shapely.geos:Self-intersection at or near point 7.6338147436943791 -47.005791726213445\n"
       ]
      },
      {
       "output_type": "stream",
       "stream": "stderr",
       "text": [
        "WARNING:shapely.geos:Self-intersection at or near point 193.41087234042553 164.93457446808509\n"
       ]
      },
      {
       "output_type": "stream",
       "stream": "stderr",
       "text": [
        "WARNING:shapely.geos:Self-intersection at or near point 297.33300000000003 229.59100000000001\n"
       ]
      },
      {
       "output_type": "stream",
       "stream": "stderr",
       "text": [
        "WARNING:shapely.geos:Self-intersection at or near point 270.97540776699032 200.17426213592233\n"
       ]
      },
      {
       "output_type": "stream",
       "stream": "stderr",
       "text": [
        "WARNING:shapely.geos:Self-intersection at or near point 96.640019120458888 179.86279541108988\n"
       ]
      },
      {
       "output_type": "stream",
       "stream": "stderr",
       "text": [
        "WARNING:shapely.geos:Self-intersection at or near point 140.60900000000001 92.365700000000004\n"
       ]
      },
      {
       "output_type": "stream",
       "stream": "stderr",
       "text": [
        "WARNING:shapely.geos:Self-intersection at or near point 269.73192307692318 213.8488461538461\n"
       ]
      },
      {
       "output_type": "stream",
       "stream": "stderr",
       "text": [
        "WARNING:shapely.geos:Self-intersection at or near point 204.05858651685392 169.27857078651687\n"
       ]
      },
      {
       "output_type": "stream",
       "stream": "stderr",
       "text": [
        "WARNING:shapely.geos:Self-intersection at or near point 261.20499999999998 219.125\n"
       ]
      },
      {
       "output_type": "stream",
       "stream": "stderr",
       "text": [
        "WARNING:shapely.geos:Self-intersection at or near point 227.11099999999999 385.33499999999998\n"
       ]
      },
      {
       "output_type": "stream",
       "stream": "stderr",
       "text": [
        "WARNING:shapely.geos:Self-intersection at or near point -92.904683242400623 -32.501782774746687\n"
       ]
      },
      {
       "output_type": "stream",
       "stream": "stderr",
       "text": [
        "WARNING:shapely.geos:Self-intersection at or near point -65.621668778342411 5.0199762165303188\n"
       ]
      },
      {
       "output_type": "stream",
       "stream": "stderr",
       "text": [
        "WARNING:shapely.geos:Self-intersection at or near point 88.494443571428576 186.51974285714283\n"
       ]
      },
      {
       "output_type": "stream",
       "stream": "stderr",
       "text": [
        "WARNING:shapely.geos:Self-intersection at or near point 288.59399999999999 224.14599999999999\n"
       ]
      },
      {
       "output_type": "stream",
       "stream": "stderr",
       "text": [
        "WARNING:shapely.geos:Self-intersection at or near point 261.58100000000002 394.36799999999999\n"
       ]
      },
      {
       "output_type": "stream",
       "stream": "stderr",
       "text": [
        "WARNING:shapely.geos:Self-intersection at or near point -62.738456787581832 26.441442895376124\n"
       ]
      },
      {
       "output_type": "stream",
       "stream": "stderr",
       "text": [
        "WARNING:shapely.geos:Self-intersection at or near point -46.236222967627974 95.25479763065934\n"
       ]
      },
      {
       "output_type": "stream",
       "stream": "stderr",
       "text": [
        "WARNING:shapely.geos:Self-intersection at or near point -103.82014379084967 53.653550046685339\n"
       ]
      },
      {
       "output_type": "stream",
       "stream": "stderr",
       "text": [
        "WARNING:shapely.geos:Self-intersection at or near point -35.933211428571425 101.59068571428571\n"
       ]
      },
      {
       "output_type": "stream",
       "stream": "stderr",
       "text": [
        "WARNING:shapely.geos:Self-intersection at or near point -16.423334782608695 116.48854347826087\n"
       ]
      },
      {
       "output_type": "stream",
       "stream": "stderr",
       "text": [
        "WARNING:shapely.geos:Self-intersection at or near point -38.613300000000002 22.275612087912091\n"
       ]
      },
      {
       "output_type": "stream",
       "stream": "stderr",
       "text": [
        "WARNING:shapely.geos:Self-intersection at or near point -43.515583004427924 32.114405160443887\n"
       ]
      },
      {
       "output_type": "stream",
       "stream": "stderr",
       "text": [
        "WARNING:shapely.geos:Self-intersection at or near point 295.911 235.31800000000001\n"
       ]
      },
      {
       "output_type": "stream",
       "stream": "stderr",
       "text": [
        "WARNING:shapely.geos:Self-intersection at or near point 288.20320571428573 201.71828857142856\n"
       ]
      },
      {
       "output_type": "stream",
       "stream": "stderr",
       "text": [
        "WARNING:shapely.geos:Self-intersection at or near point -72.636610165281354 -43.196796627495942\n"
       ]
      },
      {
       "output_type": "stream",
       "stream": "stderr",
       "text": [
        "WARNING:shapely.geos:Self-intersection at or near point -86.004784375 -25.577403125\n"
       ]
      },
      {
       "output_type": "stream",
       "stream": "stderr",
       "text": [
        "WARNING:shapely.geos:Self-intersection at or near point 139.12799999999999 224.81399999999999\n"
       ]
      },
      {
       "output_type": "stream",
       "stream": "stderr",
       "text": [
        "WARNING:shapely.geos:Self-intersection at or near point -43.51124593820181 30.767549663130179\n"
       ]
      },
      {
       "output_type": "stream",
       "stream": "stderr",
       "text": [
        "WARNING:shapely.geos:Self-intersection at or near point 104.56607167235495 97.015658634812283\n"
       ]
      },
      {
       "output_type": "stream",
       "stream": "stderr",
       "text": [
        "WARNING:shapely.geos:Self-intersection at or near point -46.1599 38.171199999999999\n"
       ]
      },
      {
       "output_type": "stream",
       "stream": "stderr",
       "text": [
        "WARNING:shapely.geos:Self-intersection at or near point 259.90999999999997 219.35900000000001\n"
       ]
      },
      {
       "output_type": "stream",
       "stream": "stderr",
       "text": [
        "WARNING:shapely.geos:Self-intersection at or near point -42.268303157894735 102.86482105263158\n"
       ]
      },
      {
       "output_type": "stream",
       "stream": "stderr",
       "text": [
        "WARNING:shapely.geos:Self-intersection at or near point 140.46899999999999 233.19999999999999\n"
       ]
      },
      {
       "output_type": "stream",
       "stream": "stderr",
       "text": [
        "WARNING:shapely.geos:Self-intersection at or near point -45.9377 72.256399999999999\n"
       ]
      },
      {
       "output_type": "stream",
       "stream": "stderr",
       "text": [
        "WARNING:shapely.geos:Self-intersection at or near point -20.917100000000001 0.0483402\n"
       ]
      },
      {
       "output_type": "stream",
       "stream": "stderr",
       "text": [
        "WARNING:shapely.geos:Self-intersection at or near point 270.91326174496641 215.78216778523489\n"
       ]
      },
      {
       "output_type": "stream",
       "stream": "stderr",
       "text": [
        "WARNING:shapely.geos:Self-intersection at or near point -59.699830893748924 6.7014482868951255\n"
       ]
      },
      {
       "output_type": "stream",
       "stream": "stderr",
       "text": [
        "WARNING:shapely.geos:Self-intersection at or near point -105.43591879131256 49.649709631728051\n"
       ]
      },
      {
       "output_type": "stream",
       "stream": "stderr",
       "text": [
        "WARNING:shapely.geos:Self-intersection at or near point 169.96255555555555 304.05955555555556\n"
       ]
      },
      {
       "output_type": "stream",
       "stream": "stderr",
       "text": [
        "WARNING:shapely.geos:Self-intersection at or near point 262.13600000000002 198.02500000000001\n"
       ]
      },
      {
       "output_type": "stream",
       "stream": "stderr",
       "text": [
        "WARNING:shapely.geos:Self-intersection at or near point 5.1743750794887848 54.653402431739657\n"
       ]
      },
      {
       "output_type": "stream",
       "stream": "stderr",
       "text": [
        "WARNING:shapely.geos:Self-intersection at or near point 226.3467 189.10475\n"
       ]
      },
      {
       "output_type": "stream",
       "stream": "stderr",
       "text": [
        "WARNING:shapely.geos:Self-intersection at or near point 30.74652506811989 148.15949318801088\n"
       ]
      },
      {
       "output_type": "stream",
       "stream": "stderr",
       "text": [
        "WARNING:shapely.geos:Self-intersection at or near point 260.01129411764708 219.32870588235292\n"
       ]
      },
      {
       "output_type": "stream",
       "stream": "stderr",
       "text": [
        "WARNING:shapely.geos:Self-intersection at or near point 288.16403333333335 201.00493333333333\n"
       ]
      },
      {
       "output_type": "stream",
       "stream": "stderr",
       "text": [
        "WARNING:shapely.geos:Self-intersection at or near point -56.304740191411042 93.222184613496935\n"
       ]
      },
      {
       "output_type": "stream",
       "stream": "stderr",
       "text": [
        "WARNING:shapely.geos:Self-intersection at or near point 104.49003244837758 97.065225958702058\n"
       ]
      },
      {
       "output_type": "stream",
       "stream": "stderr",
       "text": [
        "WARNING:shapely.geos:Self-intersection at or near point 150.21732142857141 263.11589285714285\n"
       ]
      },
      {
       "output_type": "stream",
       "stream": "stderr",
       "text": [
        "WARNING:shapely.geos:Self-intersection at or near point 150.16539361702127 261.95403191489362\n"
       ]
      },
      {
       "output_type": "stream",
       "stream": "stderr",
       "text": [
        "WARNING:shapely.geos:Self-intersection at or near point -52.942810337972169 18.901247117296222\n"
       ]
      },
      {
       "output_type": "stream",
       "stream": "stderr",
       "text": [
        "WARNING:shapely.geos:Self-intersection at or near point -46.622951274702963 29.904546349035765\n"
       ]
      },
      {
       "output_type": "stream",
       "stream": "stderr",
       "text": [
        "WARNING:shapely.geos:Self-intersection at or near point 7.89175 52.117100000000001\n"
       ]
      },
      {
       "output_type": "stream",
       "stream": "stderr",
       "text": [
        "WARNING:shapely.geos:Self-intersection at or near point -33.185975339805822 105.94546174757282\n"
       ]
      },
      {
       "output_type": "stream",
       "stream": "stderr",
       "text": [
        "WARNING:shapely.geos:Self-intersection at or near point -64.252987150949821 -11.236846654122544\n"
       ]
      },
      {
       "output_type": "stream",
       "stream": "stderr",
       "text": [
        "WARNING:shapely.geos:Self-intersection at or near point -45.505664714494877 37.479963909224011\n"
       ]
      },
      {
       "output_type": "stream",
       "stream": "stderr",
       "text": [
        "WARNING:shapely.geos:Self-intersection at or near point -38.895280335365854 103.7582174796748\n"
       ]
      },
      {
       "output_type": "stream",
       "stream": "stderr",
       "text": [
        "WARNING:shapely.geos:Self-intersection at or near point -48.12753832327855 29.113575670896608\n"
       ]
      },
      {
       "output_type": "stream",
       "stream": "stderr",
       "text": [
        "WARNING:shapely.geos:Self-intersection at or near point 172.32509090909096 139.54772727272729\n"
       ]
      },
      {
       "output_type": "stream",
       "stream": "stderr",
       "text": [
        "WARNING:shapely.geos:Self-intersection at or near point 50.793301839080463 160.83029885057471\n"
       ]
      },
      {
       "output_type": "stream",
       "stream": "stderr",
       "text": [
        "WARNING:shapely.geos:Self-intersection at or near point -94.09255650684932 -37.809253082191795\n"
       ]
      },
      {
       "output_type": "stream",
       "stream": "stderr",
       "text": [
        "WARNING:shapely.geos:Self-intersection at or near point -51.103893694829765 35.469868941198449\n"
       ]
      },
      {
       "output_type": "stream",
       "stream": "stderr",
       "text": [
        "WARNING:shapely.geos:Self-intersection at or near point 54.764200000000002 68.185900000000004\n"
       ]
      },
      {
       "output_type": "stream",
       "stream": "stderr",
       "text": [
        "WARNING:shapely.geos:Self-intersection at or near point -58.852427625257377 93.525223735987197\n"
       ]
      },
      {
       "output_type": "stream",
       "stream": "stderr",
       "text": [
        "WARNING:shapely.geos:Self-intersection at or near point 135.94357367387033 99.989922396856571\n"
       ]
      },
      {
       "output_type": "stream",
       "stream": "stderr",
       "text": [
        "WARNING:shapely.geos:Self-intersection at or near point -30.444724999999998 106.79225000000001\n"
       ]
      },
      {
       "output_type": "stream",
       "stream": "stderr",
       "text": [
        "WARNING:shapely.geos:Self-intersection at or near point 193.05606451612903 163.23759907834102\n"
       ]
      },
      {
       "output_type": "stream",
       "stream": "stderr",
       "text": [
        "WARNING:shapely.geos:Self-intersection at or near point 142.51900000000001 255.09700000000001\n"
       ]
      },
      {
       "output_type": "stream",
       "stream": "stderr",
       "text": [
        "WARNING:shapely.geos:Self-intersection at or near point -71.217299999999994 81.251099999999994\n"
       ]
      },
      {
       "output_type": "stream",
       "stream": "stderr",
       "text": [
        "WARNING:shapely.geos:Self-intersection at or near point 164.89845833333334 292.08272500000004\n"
       ]
      },
      {
       "output_type": "stream",
       "stream": "stderr",
       "text": [
        "WARNING:shapely.geos:Self-intersection at or near point 177.54117874396135 152.2320917874396\n"
       ]
      },
      {
       "output_type": "stream",
       "stream": "stderr",
       "text": [
        "WARNING:shapely.geos:Self-intersection at or near point 270.899 200.56700000000001\n"
       ]
      },
      {
       "output_type": "stream",
       "stream": "stderr",
       "text": [
        "WARNING:shapely.geos:Self-intersection at or near point 0.5803941494644026 45.95097370934684\n"
       ]
      },
      {
       "output_type": "stream",
       "stream": "stderr",
       "text": [
        "WARNING:shapely.geos:Self-intersection at or near point -50.206600781987326 98.02752502359445\n"
       ]
      },
      {
       "output_type": "stream",
       "stream": "stderr",
       "text": [
        "WARNING:shapely.geos:Self-intersection at or near point -38.744869230769233 103.794\n"
       ]
      },
      {
       "output_type": "stream",
       "stream": "stderr",
       "text": [
        "WARNING:shapely.geos:Self-intersection at or near point -8.9817414027151461 41.101678119795665\n"
       ]
      },
      {
       "output_type": "stream",
       "stream": "stderr",
       "text": [
        "WARNING:shapely.geos:Self-intersection at or near point -55.004980519480519 95.171356957328385\n"
       ]
      },
      {
       "output_type": "stream",
       "stream": "stderr",
       "text": [
        "WARNING:shapely.geos:Self-intersection at or near point -55.033705432595575 95.154825971211878\n"
       ]
      },
      {
       "output_type": "stream",
       "stream": "stderr",
       "text": [
        "WARNING:shapely.geos:Self-intersection at or near point -11.186113333333333 121.66596140350877\n"
       ]
      },
      {
       "output_type": "stream",
       "stream": "stderr",
       "text": [
        "WARNING:shapely.geos:Self-intersection at or near point 15.824837710736469 132.22290150842946\n"
       ]
      },
      {
       "output_type": "stream",
       "stream": "stderr",
       "text": [
        "WARNING:shapely.geos:Self-intersection at or near point 251.40018181818181 388.14245454545454\n"
       ]
      },
      {
       "output_type": "stream",
       "stream": "stderr",
       "text": [
        "WARNING:shapely.geos:Self-intersection at or near point 154.71225596529285 266.15808893709328\n"
       ]
      },
      {
       "output_type": "stream",
       "stream": "stderr",
       "text": [
        "WARNING:shapely.geos:Self-intersection at or near point -21.010308736258747 -0.57855186895611888\n"
       ]
      },
      {
       "output_type": "stream",
       "stream": "stderr",
       "text": [
        "WARNING:shapely.geos:Self-intersection at or near point -57.210999999999999 22.2469\n"
       ]
      },
      {
       "output_type": "stream",
       "stream": "stderr",
       "text": [
        "WARNING:shapely.geos:Self-intersection at or near point 38.730200000000004 154.447\n"
       ]
      },
      {
       "output_type": "stream",
       "stream": "stderr",
       "text": [
        "WARNING:shapely.geos:Self-intersection at or near point -50.969568462232921 40.341365591333137\n"
       ]
      },
      {
       "output_type": "stream",
       "stream": "stderr",
       "text": [
        "WARNING:shapely.geos:Self-intersection at or near point -49.990074318040172 25.3996164125797\n"
       ]
      },
      {
       "output_type": "stream",
       "stream": "stderr",
       "text": [
        "WARNING:shapely.geos:Self-intersection at or near point 266.49476106194692 221.05868141592919\n"
       ]
      },
      {
       "output_type": "stream",
       "stream": "stderr",
       "text": [
        "WARNING:shapely.geos:Self-intersection at or near point 286.74021951219515 217.90785365853657\n"
       ]
      },
      {
       "output_type": "stream",
       "stream": "stderr",
       "text": [
        "WARNING:shapely.geos:Self-intersection at or near point -61.152700000000003 26.798804918032786\n"
       ]
      },
      {
       "output_type": "stream",
       "stream": "stderr",
       "text": [
        "WARNING:shapely.geos:Self-intersection at or near point -48.402875711135366 25.576829155993138\n"
       ]
      },
      {
       "output_type": "stream",
       "stream": "stderr",
       "text": [
        "WARNING:shapely.geos:Self-intersection at or near point 144.64490476190477 258.60105714285714\n"
       ]
      },
      {
       "output_type": "stream",
       "stream": "stderr",
       "text": [
        "WARNING:shapely.geos:Self-intersection at or near point 259.24735031847132 218.12181528662421\n"
       ]
      },
      {
       "output_type": "stream",
       "stream": "stderr",
       "text": [
        "WARNING:shapely.geos:Self-intersection at or near point -98.292198308625998 -41.119382131131232\n"
       ]
      },
      {
       "output_type": "stream",
       "stream": "stderr",
       "text": [
        "WARNING:shapely.geos:Self-intersection at or near point 15.603070214902589 136.72730427796748\n"
       ]
      },
      {
       "output_type": "stream",
       "stream": "stderr",
       "text": [
        "WARNING:shapely.geos:Self-intersection at or near point -62.869520476190473 26.35654095238095\n"
       ]
      },
      {
       "output_type": "stream",
       "stream": "stderr",
       "text": [
        "WARNING:shapely.geos:Self-intersection at or near point 48.160327455357141 159.1287455357143\n"
       ]
      },
      {
       "output_type": "stream",
       "stream": "stderr",
       "text": [
        "WARNING:shapely.geos:Self-intersection at or near point 114.65900000000001 91.104812500000008\n"
       ]
      },
      {
       "output_type": "stream",
       "stream": "stderr",
       "text": [
        "WARNING:shapely.geos:Self-intersection at or near point -52.851500000000001 35.634999999999998\n"
       ]
      },
      {
       "output_type": "stream",
       "stream": "stderr",
       "text": [
        "WARNING:shapely.geos:Self-intersection at or near point 164.767 292.07488888888889\n"
       ]
      },
      {
       "output_type": "stream",
       "stream": "stderr",
       "text": [
        "WARNING:shapely.geos:Self-intersection at or near point 262.97766666666666 220.23066666666668\n"
       ]
      },
      {
       "output_type": "stream",
       "stream": "stderr",
       "text": [
        "WARNING:shapely.geos:Self-intersection at or near point 282.37589380530972 203.43577876106195\n"
       ]
      },
      {
       "output_type": "stream",
       "stream": "stderr",
       "text": [
        "WARNING:shapely.geos:Self-intersection at or near point 12.429350652741514 133.74264229765012\n"
       ]
      },
      {
       "output_type": "stream",
       "stream": "stderr",
       "text": [
        "WARNING:shapely.geos:Self-intersection at or near point -78.860543567456787 -5.4701647592659386\n"
       ]
      },
      {
       "output_type": "stream",
       "stream": "stderr",
       "text": [
        "WARNING:shapely.geos:Self-intersection at or near point 156.38108 130.15791999999999\n"
       ]
      },
      {
       "output_type": "stream",
       "stream": "stderr",
       "text": [
        "WARNING:shapely.geos:Self-intersection at or near point -52.667831653340947 95.495034618313341\n"
       ]
      },
      {
       "output_type": "stream",
       "stream": "stderr",
       "text": [
        "WARNING:shapely.geos:Self-intersection at or near point -29.945203592814362 106.09831137724549\n"
       ]
      },
      {
       "output_type": "stream",
       "stream": "stderr",
       "text": [
        "WARNING:shapely.geos:Self-intersection at or near point 16.805636379056047 58.991723502949853\n"
       ]
      },
      {
       "output_type": "stream",
       "stream": "stderr",
       "text": [
        "WARNING:shapely.geos:Self-intersection at or near point 5.480789930852815 49.534529634507734\n"
       ]
      },
      {
       "output_type": "stream",
       "stream": "stderr",
       "text": [
        "WARNING:shapely.geos:Self-intersection at or near point -10.996010810810811 116.27637837837838\n"
       ]
      },
      {
       "output_type": "stream",
       "stream": "stderr",
       "text": [
        "WARNING:shapely.geos:Self-intersection at or near point -93.53767253317946 -41.764696364685513\n"
       ]
      },
      {
       "output_type": "stream",
       "stream": "stderr",
       "text": [
        "WARNING:shapely.geos:Self-intersection at or near point 139.0051 242.72704999999999\n"
       ]
      },
      {
       "output_type": "stream",
       "stream": "stderr",
       "text": [
        "WARNING:shapely.geos:Self-intersection at or near point 256.35700000000003 213.494\n"
       ]
      },
      {
       "output_type": "stream",
       "stream": "stderr",
       "text": [
        "WARNING:shapely.geos:Self-intersection at or near point 21.100211600537996 61.300009717552115\n"
       ]
      },
      {
       "output_type": "stream",
       "stream": "stderr",
       "text": [
        "WARNING:shapely.geos:Self-intersection at or near point -49.196832386326783 28.03049558279821\n"
       ]
      },
      {
       "output_type": "stream",
       "stream": "stderr",
       "text": [
        "WARNING:shapely.geos:Self-intersection at or near point 44.729984757709254 159.52953392070484\n"
       ]
      },
      {
       "output_type": "stream",
       "stream": "stderr",
       "text": [
        "WARNING:shapely.geos:Self-intersection at or near point -80.150199999999998 -5.8109999999999999\n"
       ]
      },
      {
       "output_type": "stream",
       "stream": "stderr",
       "text": [
        "WARNING:shapely.geos:Self-intersection at or near point 13.094265571076413 132.29038044371404\n"
       ]
      },
      {
       "output_type": "stream",
       "stream": "stderr",
       "text": [
        "WARNING:shapely.geos:Self-intersection at or near point 145.66418947368422 259.73706315789474\n"
       ]
      },
      {
       "output_type": "stream",
       "stream": "stderr",
       "text": [
        "WARNING:shapely.geos:Self-intersection at or near point 138.90446938775511 223.97240816326533\n"
       ]
      },
      {
       "output_type": "stream",
       "stream": "stderr",
       "text": [
        "WARNING:shapely.geos:Self-intersection at or near point -65.815900109460514 14.560192978889763\n"
       ]
      },
      {
       "output_type": "stream",
       "stream": "stderr",
       "text": [
        "WARNING:shapely.geos:Self-intersection at or near point -105.00080939749905 49.995997101174687\n"
       ]
      },
      {
       "output_type": "stream",
       "stream": "stderr",
       "text": [
        "WARNING:shapely.geos:Self-intersection at or near point -110.268 -37.02896521739131\n"
       ]
      },
      {
       "output_type": "stream",
       "stream": "stderr",
       "text": [
        "WARNING:shapely.geos:Self-intersection at or near point 49.165627733168627 159.40523594811611\n"
       ]
      },
      {
       "output_type": "stream",
       "stream": "stderr",
       "text": [
        "WARNING:shapely.geos:Self-intersection at or near point 145.36000000000001 122.67700000000001\n"
       ]
      },
      {
       "output_type": "stream",
       "stream": "stderr",
       "text": [
        "WARNING:shapely.geos:Self-intersection at or near point -35.649806604078989 -23.671142570411135\n"
       ]
      },
      {
       "output_type": "stream",
       "stream": "stderr",
       "text": [
        "WARNING:shapely.geos:Self-intersection at or near point -88.718959838076543 -30.735327073110891\n"
       ]
      },
      {
       "output_type": "stream",
       "stream": "stderr",
       "text": [
        "WARNING:shapely.geos:Self-intersection at or near point -3.5291400346620487 118.82084847734588\n"
       ]
      },
      {
       "output_type": "stream",
       "stream": "stderr",
       "text": [
        "WARNING:shapely.geos:Self-intersection at or near point 215.12 227.26400000000001\n"
       ]
      },
      {
       "output_type": "stream",
       "stream": "stderr",
       "text": [
        "WARNING:shapely.geos:Self-intersection at or near point -85.294516560526418 -26.242480906671609\n"
       ]
      },
      {
       "output_type": "stream",
       "stream": "stderr",
       "text": [
        "WARNING:shapely.geos:Self-intersection at or near point 7.2371303631049821 54.458567427662082\n"
       ]
      },
      {
       "output_type": "stream",
       "stream": "stderr",
       "text": [
        "WARNING:shapely.geos:Self-intersection at or near point -82.618933809995752 -26.971504431544666\n"
       ]
      },
      {
       "output_type": "stream",
       "stream": "stderr",
       "text": [
        "WARNING:shapely.geos:Self-intersection at or near point 293.95075000000003 432.78949999999998\n"
       ]
      },
      {
       "output_type": "stream",
       "stream": "stderr",
       "text": [
        "WARNING:shapely.geos:Self-intersection at or near point 259.87487500000003 219.3324375\n"
       ]
      },
      {
       "output_type": "stream",
       "stream": "stderr",
       "text": [
        "WARNING:shapely.geos:Self-intersection at or near point -29.827179524107702 36.179889021081195\n"
       ]
      },
      {
       "output_type": "stream",
       "stream": "stderr",
       "text": [
        "WARNING:shapely.geos:Self-intersection at or near point -62.9086 26.4404\n"
       ]
      },
      {
       "output_type": "stream",
       "stream": "stderr",
       "text": [
        "WARNING:shapely.geos:Self-intersection at or near point -83.46620827431336 70.1413114124489\n"
       ]
      },
      {
       "output_type": "stream",
       "stream": "stderr",
       "text": [
        "WARNING:shapely.geos:Self-intersection at or near point -42.904640922190204 48.067393659942368\n"
       ]
      },
      {
       "output_type": "stream",
       "stream": "stderr",
       "text": [
        "WARNING:shapely.geos:Self-intersection at or near point -53.346508553409542 95.715490934174227\n"
       ]
      },
      {
       "output_type": "stream",
       "stream": "stderr",
       "text": [
        "WARNING:shapely.geos:Self-intersection at or near point 228.2503185483871 201.50104032258065\n"
       ]
      },
      {
       "output_type": "stream",
       "stream": "stderr",
       "text": [
        "WARNING:shapely.geos:Self-intersection at or near point -52.480129575892853 25.265440252976191\n"
       ]
      },
      {
       "output_type": "stream",
       "stream": "stderr",
       "text": [
        "WARNING:shapely.geos:Self-intersection at or near point -76.208008196721309 71.903704918032787\n"
       ]
      },
      {
       "output_type": "stream",
       "stream": "stderr",
       "text": [
        "WARNING:shapely.geos:Self-intersection at or near point 112.80092941176471 89.887085882352935\n"
       ]
      },
      {
       "output_type": "stream",
       "stream": "stderr",
       "text": [
        "WARNING:shapely.geos:Self-intersection at or near point 142.9103076923077 255.51453846153845\n"
       ]
      },
      {
       "output_type": "stream",
       "stream": "stderr",
       "text": [
        "WARNING:shapely.geos:Self-intersection at or near point 141.38251464435146 222.92598744769873\n"
       ]
      },
      {
       "output_type": "stream",
       "stream": "stderr",
       "text": [
        "WARNING:shapely.geos:Self-intersection at or near point -30.611000000000001 107.52\n"
       ]
      },
      {
       "output_type": "stream",
       "stream": "stderr",
       "text": [
        "WARNING:shapely.geos:Self-intersection at or near point -27.947502298850587 107.08008045977013\n"
       ]
      },
      {
       "output_type": "stream",
       "stream": "stderr",
       "text": [
        "WARNING:shapely.geos:Self-intersection at or near point -52.853711710323573 95.322804930662556\n"
       ]
      },
      {
       "output_type": "stream",
       "stream": "stderr",
       "text": [
        "WARNING:shapely.geos:Self-intersection at or near point -24.381863433667785 112.72172240802675\n"
       ]
      },
      {
       "output_type": "stream",
       "stream": "stderr",
       "text": [
        "WARNING:shapely.geos:Self-intersection at or near point 191.72196341463416 140.11167073170733\n"
       ]
      },
      {
       "output_type": "stream",
       "stream": "stderr",
       "text": [
        "WARNING:shapely.geos:Self-intersection at or near point -78.369330135795764 68.355568614883211\n"
       ]
      },
      {
       "output_type": "stream",
       "stream": "stderr",
       "text": [
        "WARNING:shapely.geos:Self-intersection at or near point 251.6694716981132 388.38081132075473\n"
       ]
      },
      {
       "output_type": "stream",
       "stream": "stderr",
       "text": [
        "WARNING:shapely.geos:Self-intersection at or near point 164.964 293.339\n"
       ]
      },
      {
       "output_type": "stream",
       "stream": "stderr",
       "text": [
        "WARNING:shapely.geos:Self-intersection at or near point 292.82792000000001 258.42003999999997\n"
       ]
      },
      {
       "output_type": "stream",
       "stream": "stderr",
       "text": [
        "WARNING:shapely.geos:Self-intersection at or near point 249.25999999999999 215.96700000000001\n"
       ]
      },
      {
       "output_type": "stream",
       "stream": "stderr",
       "text": [
        "WARNING:shapely.geos:Self-intersection at or near point -61.216717600687623 94.291851728880147\n"
       ]
      },
      {
       "output_type": "stream",
       "stream": "stderr",
       "text": [
        "WARNING:shapely.geos:Self-intersection at or near point -39.807652848311449 34.527994735094261\n"
       ]
      },
      {
       "output_type": "stream",
       "stream": "stderr",
       "text": [
        "WARNING:shapely.geos:Self-intersection at or near point -42.673925575850376 30.549870432024498\n"
       ]
      },
      {
       "output_type": "stream",
       "stream": "stderr",
       "text": [
        "WARNING:shapely.geos:Self-intersection at or near point -48.392943137099337 96.941412392891138\n"
       ]
      },
      {
       "output_type": "stream",
       "stream": "stderr",
       "text": [
        "WARNING:shapely.geos:Self-intersection at or near point -54.560055730745908 94.981510430563972\n"
       ]
      },
      {
       "output_type": "stream",
       "stream": "stderr",
       "text": [
        "WARNING:shapely.geos:Self-intersection at or near point 5.3137266207049239 55.606789083918763\n"
       ]
      },
      {
       "output_type": "stream",
       "stream": "stderr",
       "text": [
        "WARNING:shapely.geos:Self-intersection at or near point -68.314688255556476 80.382116443861236\n"
       ]
      },
      {
       "output_type": "stream",
       "stream": "stderr",
       "text": [
        "WARNING:shapely.geos:Self-intersection at or near point -57.80425013411643 -1.6821643388921259\n"
       ]
      },
      {
       "output_type": "stream",
       "stream": "stderr",
       "text": [
        "WARNING:shapely.geos:Self-intersection at or near point -8.815816777222345 122.08797565746576\n"
       ]
      },
      {
       "output_type": "stream",
       "stream": "stderr",
       "text": [
        "WARNING:shapely.geos:Self-intersection at or near point -48.477744148258282 25.848984563508921\n"
       ]
      },
      {
       "output_type": "stream",
       "stream": "stderr",
       "text": [
        "WARNING:shapely.geos:Self-intersection at or near point -40.411305876030099 34.183080329630954\n"
       ]
      },
      {
       "output_type": "stream",
       "stream": "stderr",
       "text": [
        "WARNING:shapely.geos:Self-intersection at or near point -39.745926287978861 34.538060942316157\n"
       ]
      },
      {
       "output_type": "stream",
       "stream": "stderr",
       "text": [
        "WARNING:shapely.geos:Self-intersection at or near point 294.49599999999998 432.71655102040813\n"
       ]
      },
      {
       "output_type": "stream",
       "stream": "stderr",
       "text": [
        "WARNING:shapely.geos:Self-intersection at or near point 150.25700000000001 263.14600000000002\n"
       ]
      },
      {
       "output_type": "stream",
       "stream": "stderr",
       "text": [
        "WARNING:shapely.geos:Self-intersection at or near point 254.3401497797357 214.46758590308372\n"
       ]
      },
      {
       "output_type": "stream",
       "stream": "stderr",
       "text": [
        "WARNING:shapely.geos:Self-intersection at or near point 270.03800000000001 199.685\n"
       ]
      },
      {
       "output_type": "stream",
       "stream": "stderr",
       "text": [
        "WARNING:shapely.geos:Self-intersection at or near point -48.156489617798059 29.840185339418142\n"
       ]
      },
      {
       "output_type": "stream",
       "stream": "stderr",
       "text": [
        "WARNING:shapely.geos:Self-intersection at or near point -95.081423017929311 -41.836189978236085\n"
       ]
      },
      {
       "output_type": "stream",
       "stream": "stderr",
       "text": [
        "WARNING:shapely.geos:Self-intersection at or near point 43.191600000000001 157.417\n"
       ]
      },
      {
       "output_type": "stream",
       "stream": "stderr",
       "text": [
        "WARNING:shapely.geos:Self-intersection at or near point -105.92299803613511 49.037842969363709\n"
       ]
      },
      {
       "output_type": "stream",
       "stream": "stderr",
       "text": [
        "WARNING:shapely.geos:Self-intersection at or near point -56.126355676270563 22.988524319214378\n"
       ]
      },
      {
       "output_type": "stream",
       "stream": "stderr",
       "text": [
        "WARNING:shapely.geos:Self-intersection at or near point 11.448983323838389 58.201677152883811\n"
       ]
      },
      {
       "output_type": "stream",
       "stream": "stderr",
       "text": [
        "WARNING:shapely.geos:Self-intersection at or near point -53.920645388731508 95.551932042807678\n"
       ]
      },
      {
       "output_type": "stream",
       "stream": "stderr",
       "text": [
        "WARNING:shapely.geos:Self-intersection at or near point -47.745849467253869 96.408860292655206\n"
       ]
      },
      {
       "output_type": "stream",
       "stream": "stderr",
       "text": [
        "WARNING:shapely.geos:Self-intersection at or near point -36.847051999999998 100.985\n"
       ]
      },
      {
       "output_type": "stream",
       "stream": "stderr",
       "text": [
        "WARNING:shapely.geos:Self-intersection at or near point 154.69800000000001 211.71700000000001\n"
       ]
      },
      {
       "output_type": "stream",
       "stream": "stderr",
       "text": [
        "WARNING:shapely.geos:Self-intersection at or near point -65.524138206343423 3.9500754210718223\n"
       ]
      },
      {
       "output_type": "stream",
       "stream": "stderr",
       "text": [
        "WARNING:shapely.geos:Self-intersection at or near point 169.27037142857145 303.95374285714286\n"
       ]
      },
      {
       "output_type": "stream",
       "stream": "stderr",
       "text": [
        "WARNING:shapely.geos:Self-intersection at or near point 150.6815081967213 263.55011475409833\n"
       ]
      },
      {
       "output_type": "stream",
       "stream": "stderr",
       "text": [
        "WARNING:shapely.geos:Self-intersection at or near point 145.58956310679611 259.81808737864077\n"
       ]
      },
      {
       "output_type": "stream",
       "stream": "stderr",
       "text": [
        "WARNING:shapely.geos:Self-intersection at or near point 296.28364383561643 231.22905479452055\n"
       ]
      },
      {
       "output_type": "stream",
       "stream": "stderr",
       "text": [
        "WARNING:shapely.geos:Self-intersection at or near point 262.05133333333333 198.75999999999999\n"
       ]
      },
      {
       "output_type": "stream",
       "stream": "stderr",
       "text": [
        "WARNING:shapely.geos:Self-intersection at or near point -111.01830629461388 -41.292966320571061\n"
       ]
      },
      {
       "output_type": "stream",
       "stream": "stderr",
       "text": [
        "WARNING:shapely.geos:Self-intersection at or near point -105.7427787481805 49.491425473071324\n"
       ]
      },
      {
       "output_type": "stream",
       "stream": "stderr",
       "text": [
        "WARNING:shapely.geos:Self-intersection at or near point -47.609933946642137 95.874458509659618\n"
       ]
      },
      {
       "output_type": "stream",
       "stream": "stderr",
       "text": [
        "WARNING:shapely.geos:Self-intersection at or near point 11.899747347799877 123.74645720313441\n"
       ]
      },
      {
       "output_type": "stream",
       "stream": "stderr",
       "text": [
        "WARNING:shapely.geos:Self-intersection at or near point -54.90392575096952 22.968720661247563\n"
       ]
      },
      {
       "output_type": "stream",
       "stream": "stderr",
       "text": [
        "WARNING:shapely.geos:Self-intersection at or near point 9.5833035032359337 134.43070401715619\n"
       ]
      },
      {
       "output_type": "stream",
       "stream": "stderr",
       "text": [
        "WARNING:shapely.geos:Self-intersection at or near point -55.513425879413504 95.990724579744452\n"
       ]
      },
      {
       "output_type": "stream",
       "stream": "stderr",
       "text": [
        "WARNING:shapely.geos:Self-intersection at or near point -37.298801225296444 34.845736758893274\n"
       ]
      },
      {
       "output_type": "stream",
       "stream": "stderr",
       "text": [
        "WARNING:shapely.geos:Self-intersection at or near point -51.551550639343482 9.1972005983109888\n"
       ]
      },
      {
       "output_type": "stream",
       "stream": "stderr",
       "text": [
        "WARNING:shapely.geos:Self-intersection at or near point -50.657348301007495 24.753539091076725\n"
       ]
      },
      {
       "output_type": "stream",
       "stream": "stderr",
       "text": [
        "WARNING:shapely.geos:Self-intersection at or near point 12.592164533176748 53.124211832061071\n"
       ]
      },
      {
       "output_type": "stream",
       "stream": "stderr",
       "text": [
        "WARNING:shapely.geos:Self-intersection at or near point -51.698 93.905600000000007\n"
       ]
      },
      {
       "output_type": "stream",
       "stream": "stderr",
       "text": [
        "WARNING:shapely.geos:Self-intersection at or near point -41.023684168336672 103.97050701402806\n"
       ]
      },
      {
       "output_type": "stream",
       "stream": "stderr",
       "text": [
        "WARNING:shapely.geos:Self-intersection at or near point -68.814599999999999 83.571299999999994\n"
       ]
      },
      {
       "output_type": "stream",
       "stream": "stderr",
       "text": [
        "WARNING:shapely.geos:Self-intersection at or near point -49.823347897159181 34.367501650531665\n"
       ]
      },
      {
       "output_type": "stream",
       "stream": "stderr",
       "text": [
        "WARNING:shapely.geos:Self-intersection at or near point -40.128712499999999 103.2874375\n"
       ]
      },
      {
       "output_type": "stream",
       "stream": "stderr",
       "text": [
        "WARNING:shapely.geos:Self-intersection at or near point 150.15299999999999 262.99705263157892\n"
       ]
      },
      {
       "output_type": "stream",
       "stream": "stderr",
       "text": [
        "WARNING:shapely.geos:Self-intersection at or near point 260.47800000000001 218.58150000000001\n"
       ]
      },
      {
       "output_type": "stream",
       "stream": "stderr",
       "text": [
        "WARNING:shapely.geos:Self-intersection at or near point 260.5321208791209 218.55047252747252\n"
       ]
      },
      {
       "output_type": "stream",
       "stream": "stderr",
       "text": [
        "WARNING:shapely.geos:Self-intersection at or near point 249.62674999999999 216.18825000000001\n"
       ]
      },
      {
       "output_type": "stream",
       "stream": "stderr",
       "text": [
        "WARNING:shapely.geos:Self-intersection at or near point 249.68700000000001 216.16619047619048\n"
       ]
      },
      {
       "output_type": "stream",
       "stream": "stderr",
       "text": [
        "WARNING:shapely.geos:Self-intersection at or near point 286.30552307692307 209.12343076923077\n"
       ]
      },
      {
       "output_type": "stream",
       "stream": "stderr",
       "text": [
        "WARNING:shapely.geos:Self-intersection at or near point 18.097020000000001 130.446\n"
       ]
      },
      {
       "output_type": "stream",
       "stream": "stderr",
       "text": [
        "WARNING:shapely.geos:Self-intersection at or near point -57.821604724474398 1.0654622812414947\n"
       ]
      },
      {
       "output_type": "stream",
       "stream": "stderr",
       "text": [
        "WARNING:shapely.geos:Self-intersection at or near point 215.09228400954655 227.48024821002386\n"
       ]
      },
      {
       "output_type": "stream",
       "stream": "stderr",
       "text": [
        "WARNING:shapely.geos:Self-intersection at or near point -47.611608186155522 96.491991529254207\n"
       ]
      },
      {
       "output_type": "stream",
       "stream": "stderr",
       "text": [
        "WARNING:shapely.geos:Self-intersection at or near point 237.03459090909092 220.5629090909091\n"
       ]
      },
      {
       "output_type": "stream",
       "stream": "stderr",
       "text": [
        "WARNING:shapely.geos:Self-intersection at or near point -45.924185229936874 38.437512858431013\n"
       ]
      },
      {
       "output_type": "stream",
       "stream": "stderr",
       "text": [
        "WARNING:shapely.geos:Self-intersection at or near point -42.637588948121824 36.268867856261416\n"
       ]
      },
      {
       "output_type": "stream",
       "stream": "stderr",
       "text": [
        "WARNING:shapely.geos:Self-intersection at or near point -55.304478816296111 38.80628768475966\n"
       ]
      },
      {
       "output_type": "stream",
       "stream": "stderr",
       "text": [
        "WARNING:shapely.geos:Self-intersection at or near point -77.624207951627909 70.570610031627908\n"
       ]
      },
      {
       "output_type": "stream",
       "stream": "stderr",
       "text": [
        "WARNING:shapely.geos:Self-intersection at or near point -38.717564736032806 103.71715786776012\n"
       ]
      },
      {
       "output_type": "stream",
       "stream": "stderr",
       "text": [
        "WARNING:shapely.geos:Self-intersection at or near point -47.417233628318584 93.61774053097345\n"
       ]
      },
      {
       "output_type": "stream",
       "stream": "stderr",
       "text": [
        "WARNING:shapely.geos:Self-intersection at or near point -41.208301191728005 31.164612267788289\n"
       ]
      },
      {
       "output_type": "stream",
       "stream": "stderr",
       "text": [
        "WARNING:shapely.geos:Self-intersection at or near point 2.0076200000000002 59.468600000000002\n"
       ]
      },
      {
       "output_type": "stream",
       "stream": "stderr",
       "text": [
        "WARNING:shapely.geos:Self-intersection at or near point -37.22434567192731 101.28166905786705\n"
       ]
      },
      {
       "output_type": "stream",
       "stream": "stderr",
       "text": [
        "WARNING:shapely.geos:Self-intersection at or near point 60.287599999999998 168.49000000000001\n"
       ]
      },
      {
       "output_type": "stream",
       "stream": "stderr",
       "text": [
        "WARNING:shapely.geos:Self-intersection at or near point 250.65200478468898 387.95295693779906\n"
       ]
      },
      {
       "output_type": "stream",
       "stream": "stderr",
       "text": [
        "WARNING:shapely.geos:Self-intersection at or near point 289.20699999999999 210.63399999999999\n"
       ]
      },
      {
       "output_type": "stream",
       "stream": "stderr",
       "text": [
        "WARNING:shapely.geos:Self-intersection at or near point 286.57073255813958 209.66593023255817\n"
       ]
      },
      {
       "output_type": "stream",
       "stream": "stderr",
       "text": [
        "WARNING:shapely.geos:Self-intersection at or near point -10.053337170944118 41.226655175826352\n"
       ]
      },
      {
       "output_type": "stream",
       "stream": "stderr",
       "text": [
        "WARNING:shapely.geos:Self-intersection at or near point -36.741999999999997 34.7714\n"
       ]
      },
      {
       "output_type": "stream",
       "stream": "stderr",
       "text": [
        "WARNING:shapely.geos:Self-intersection at or near point -76.902325091255364 55.355476575146803\n"
       ]
      },
      {
       "output_type": "stream",
       "stream": "stderr",
       "text": [
        "WARNING:shapely.geos:Self-intersection at or near point -47.278543331637842 23.617917029501527\n"
       ]
      },
      {
       "output_type": "stream",
       "stream": "stderr",
       "text": [
        "WARNING:shapely.geos:Self-intersection at or near point 154.8578 211.57559999999998\n"
       ]
      },
      {
       "output_type": "stream",
       "stream": "stderr",
       "text": [
        "WARNING:shapely.geos:Self-intersection at or near point 237.99799999999999 219.637\n"
       ]
      },
      {
       "output_type": "stream",
       "stream": "stderr",
       "text": [
        "WARNING:shapely.geos:Self-intersection at or near point -46.843326820645771 29.930213127504125\n"
       ]
      },
      {
       "output_type": "stream",
       "stream": "stderr",
       "text": [
        "WARNING:shapely.geos:Self-intersection at or near point -51.279000000000003 94.806700000000006\n"
       ]
      },
      {
       "output_type": "stream",
       "stream": "stderr",
       "text": [
        "WARNING:shapely.geos:Self-intersection at or near point -40.221235250338296 24.640389106901221\n"
       ]
      },
      {
       "output_type": "stream",
       "stream": "stderr",
       "text": [
        "WARNING:shapely.geos:Self-intersection at or near point 19.924507738237402 62.007664719369473\n"
       ]
      },
      {
       "output_type": "stream",
       "stream": "stderr",
       "text": [
        "WARNING:shapely.geos:Self-intersection at or near point -11.124937979420018 121.69327876520113\n"
       ]
      },
      {
       "output_type": "stream",
       "stream": "stderr",
       "text": [
        "WARNING:shapely.geos:Self-intersection at or near point -80.621600000000001 68.247\n"
       ]
      },
      {
       "output_type": "stream",
       "stream": "stderr",
       "text": [
        "WARNING:shapely.geos:Self-intersection at or near point 167.08799999999999 143.964\n"
       ]
      },
      {
       "output_type": "stream",
       "stream": "stderr",
       "text": [
        "WARNING:shapely.geos:Self-intersection at or near point -49.120359927474595 21.811576953037559\n"
       ]
      },
      {
       "output_type": "stream",
       "stream": "stderr",
       "text": [
        "WARNING:shapely.geos:Self-intersection at or near point -66.134049038461541 86.130341613247865\n"
       ]
      },
      {
       "output_type": "stream",
       "stream": "stderr",
       "text": [
        "WARNING:shapely.geos:Self-intersection at or near point -49.977800000000002 97.147999999999996\n"
       ]
      },
      {
       "output_type": "stream",
       "stream": "stderr",
       "text": [
        "WARNING:shapely.geos:Self-intersection at or near point 213.63499999999999 178.38200000000001\n"
       ]
      },
      {
       "output_type": "stream",
       "stream": "stderr",
       "text": [
        "WARNING:shapely.geos:Self-intersection at or near point 164.05770854271358 295.89438190954775\n"
       ]
      },
      {
       "output_type": "stream",
       "stream": "stderr",
       "text": [
        "WARNING:shapely.geos:Self-intersection at or near point -85.073412132673838 -6.5123992614968591\n"
       ]
      },
      {
       "output_type": "stream",
       "stream": "stderr",
       "text": [
        "WARNING:shapely.geos:Self-intersection at or near point 13.308299999999999 49.875\n"
       ]
      },
      {
       "output_type": "stream",
       "stream": "stderr",
       "text": [
        "WARNING:shapely.geos:Self-intersection at or near point -32.454636809815952 104.89002147239263\n"
       ]
      },
      {
       "output_type": "stream",
       "stream": "stderr",
       "text": [
        "WARNING:shapely.geos:Self-intersection at or near point 98.280108202732791 84.666684712096739\n"
       ]
      },
      {
       "output_type": "stream",
       "stream": "stderr",
       "text": [
        "WARNING:shapely.geos:Self-intersection at or near point 234.25669072164948 221.46441237113405\n"
       ]
      },
      {
       "output_type": "stream",
       "stream": "stderr",
       "text": [
        "WARNING:shapely.geos:Self-intersection at or near point -49.105235127231161 34.968878960637333\n"
       ]
      },
      {
       "output_type": "stream",
       "stream": "stderr",
       "text": [
        "WARNING:shapely.geos:Self-intersection at or near point 16.253623271500842 137.20367116357505\n"
       ]
      },
      {
       "output_type": "stream",
       "stream": "stderr",
       "text": [
        "WARNING:shapely.geos:Self-intersection at or near point -76.924800000000005 79.442599999999999\n"
       ]
      },
      {
       "output_type": "stream",
       "stream": "stderr",
       "text": [
        "WARNING:shapely.geos:Self-intersection at or near point -55.473860742868872 95.952422758054581\n"
       ]
      },
      {
       "output_type": "stream",
       "stream": "stderr",
       "text": [
        "WARNING:shapely.geos:Self-intersection at or near point -8.9190092213150294 42.241378348199923\n"
       ]
      },
      {
       "output_type": "stream",
       "stream": "stderr",
       "text": [
        "WARNING:shapely.geos:Self-intersection at or near point -73.72089832033447 -10.947376809857948\n"
       ]
      },
      {
       "output_type": "stream",
       "stream": "stderr",
       "text": [
        "WARNING:shapely.geos:Self-intersection at or near point 110.38828813559321 178.96494915254237\n"
       ]
      },
      {
       "output_type": "stream",
       "stream": "stderr",
       "text": [
        "WARNING:shapely.geos:Self-intersection at or near point 96.798299999999998 185.268\n"
       ]
      },
      {
       "output_type": "stream",
       "stream": "stderr",
       "text": [
        "WARNING:shapely.geos:Self-intersection at or near point -54.41060985250472 41.733442620739275\n"
       ]
      },
      {
       "output_type": "stream",
       "stream": "stderr",
       "text": [
        "WARNING:shapely.geos:Self-intersection at or near point -79.21273439262815 77.88714886303913\n"
       ]
      },
      {
       "output_type": "stream",
       "stream": "stderr",
       "text": [
        "WARNING:shapely.geos:Self-intersection at or near point -87.422355344592475 67.952008979334948\n"
       ]
      },
      {
       "output_type": "stream",
       "stream": "stderr",
       "text": [
        "WARNING:shapely.geos:Self-intersection at or near point -49.403180918574954 25.451401212068742\n"
       ]
      },
      {
       "output_type": "stream",
       "stream": "stderr",
       "text": [
        "WARNING:shapely.geos:Self-intersection at or near point 88.531099999999995 70.240499999999997\n"
       ]
      },
      {
       "output_type": "stream",
       "stream": "stderr",
       "text": [
        "WARNING:shapely.geos:Self-intersection at or near point 9.0761514380071748 134.50128326099264\n"
       ]
      },
      {
       "output_type": "stream",
       "stream": "stderr",
       "text": [
        "WARNING:shapely.geos:Self-intersection at or near point -46.013403499189721 37.89278215593302\n"
       ]
      },
      {
       "output_type": "stream",
       "stream": "stderr",
       "text": [
        "WARNING:shapely.geos:Self-intersection at or near point 55.486519396551728 154.99780603448275\n"
       ]
      },
      {
       "output_type": "stream",
       "stream": "stderr",
       "text": [
        "WARNING:shapely.geos:Self-intersection at or near point 111.96638310437797 86.156874476826289\n"
       ]
      },
      {
       "output_type": "stream",
       "stream": "stderr",
       "text": [
        "WARNING:shapely.geos:Self-intersection at or near point 190.38536797752809 159.98126123595506\n"
       ]
      },
      {
       "output_type": "stream",
       "stream": "stderr",
       "text": [
        "WARNING:shapely.geos:Self-intersection at or near point -45.323671805097966 96.381323721172194\n"
       ]
      },
      {
       "output_type": "stream",
       "stream": "stderr",
       "text": [
        "WARNING:shapely.geos:Ring Self-intersection at or near point 211.767 387.68700000000001\n"
       ]
      },
      {
       "output_type": "stream",
       "stream": "stderr",
       "text": [
        "WARNING:shapely.geos:Self-intersection at or near point 164.98900000000003 293.24333333333334\n"
       ]
      },
      {
       "output_type": "stream",
       "stream": "stderr",
       "text": [
        "WARNING:shapely.geos:Self-intersection at or near point 147.059 261.19173333333333\n"
       ]
      },
      {
       "output_type": "stream",
       "stream": "stderr",
       "text": [
        "WARNING:shapely.geos:Self-intersection at or near point 142.21600000000001 254.40799999999999\n"
       ]
      },
      {
       "output_type": "stream",
       "stream": "stderr",
       "text": [
        "WARNING:shapely.geos:Self-intersection at or near point 251.35633962264151 217.12975471698113\n"
       ]
      },
      {
       "output_type": "stream",
       "stream": "stderr",
       "text": [
        "WARNING:shapely.geos:Self-intersection at or near point 280.08827884615386 201.74424038461538\n"
       ]
      },
      {
       "output_type": "stream",
       "stream": "stderr",
       "text": [
        "WARNING:shapely.geos:Self-intersection at or near point -103.29101130582251 52.757792312040699\n"
       ]
      },
      {
       "output_type": "stream",
       "stream": "stderr",
       "text": [
        "WARNING:shapely.geos:Self-intersection at or near point -42.948857793686948 98.20890533680442\n"
       ]
      },
      {
       "output_type": "stream",
       "stream": "stderr",
       "text": [
        "WARNING:shapely.geos:Self-intersection at or near point -43.558070202665697 98.759809384699651\n"
       ]
      },
      {
       "output_type": "stream",
       "stream": "stderr",
       "text": [
        "WARNING:shapely.geos:Self-intersection at or near point 16.541857020057307 130.32161031518626\n"
       ]
      },
      {
       "output_type": "stream",
       "stream": "stderr",
       "text": [
        "WARNING:shapely.geos:Self-intersection at or near point -34.766440081383521 102.05404272634792\n"
       ]
      },
      {
       "output_type": "stream",
       "stream": "stderr",
       "text": [
        "WARNING:shapely.geos:Self-intersection at or near point -49.566109511400654 21.37903361563518\n"
       ]
      },
      {
       "output_type": "stream",
       "stream": "stderr",
       "text": [
        "WARNING:shapely.geos:Self-intersection at or near point 6.9613042052660301 48.147738252515133\n"
       ]
      },
      {
       "output_type": "stream",
       "stream": "stderr",
       "text": [
        "WARNING:shapely.geos:Self-intersection at or near point 6.64658643038889 50.380316220816283\n"
       ]
      },
      {
       "output_type": "stream",
       "stream": "stderr",
       "text": [
        "WARNING:shapely.geos:Self-intersection at or near point 1.2286465260231745 60.46416243635263\n"
       ]
      },
      {
       "output_type": "stream",
       "stream": "stderr",
       "text": [
        "WARNING:shapely.geos:Self-intersection at or near point -64.085477663488248 10.272526683684962\n"
       ]
      },
      {
       "output_type": "stream",
       "stream": "stderr",
       "text": [
        "WARNING:shapely.geos:Self-intersection at or near point -79.099299999999999 39.095999999999997\n"
       ]
      },
      {
       "output_type": "stream",
       "stream": "stderr",
       "text": [
        "WARNING:shapely.geos:Self-intersection at or near point -75.808999999999997 79.386200000000002\n"
       ]
      },
      {
       "output_type": "stream",
       "stream": "stderr",
       "text": [
        "WARNING:shapely.geos:Self-intersection at or near point 17.070259077809798 59.132597154178676\n"
       ]
      },
      {
       "output_type": "stream",
       "stream": "stderr",
       "text": [
        "WARNING:shapely.geos:Self-intersection at or near point -65.459096437608395 1.5202669962755508\n"
       ]
      },
      {
       "output_type": "stream",
       "stream": "stderr",
       "text": [
        "WARNING:shapely.geos:Self-intersection at or near point -56.735188910505833 5.5579384889753571\n"
       ]
      },
      {
       "output_type": "stream",
       "stream": "stderr",
       "text": [
        "WARNING:shapely.geos:Self-intersection at or near point 197.60331690140848 142.11878169014082\n"
       ]
      },
      {
       "output_type": "stream",
       "stream": "stderr",
       "text": [
        "WARNING:shapely.geos:Self-intersection at or near point -38.863116458132822 103.07915110683349\n"
       ]
      },
      {
       "output_type": "stream",
       "stream": "stderr",
       "text": [
        "WARNING:shapely.geos:Self-intersection at or near point -140.94999999999999 41.838900000000002\n"
       ]
      },
      {
       "output_type": "stream",
       "stream": "stderr",
       "text": [
        "WARNING:shapely.geos:Self-intersection at or near point -48.934720672601387 21.571211177052422\n"
       ]
      },
      {
       "output_type": "stream",
       "stream": "stderr",
       "text": [
        "WARNING:shapely.geos:Self-intersection at or near point 6.1096535947067618 55.480312120696695\n"
       ]
      },
      {
       "output_type": "stream",
       "stream": "stderr",
       "text": [
        "WARNING:shapely.geos:Self-intersection at or near point -48.250794013303768 102.32567849223946\n"
       ]
      },
      {
       "output_type": "stream",
       "stream": "stderr",
       "text": [
        "WARNING:shapely.geos:Self-intersection at or near point 13.0446754825462 132.00332361396303\n"
       ]
      },
      {
       "output_type": "stream",
       "stream": "stderr",
       "text": [
        "WARNING:shapely.geos:Self-intersection at or near point 93.994007660398225 69.593850857300879\n"
       ]
      },
      {
       "output_type": "stream",
       "stream": "stderr",
       "text": [
        "WARNING:shapely.geos:Self-intersection at or near point 207.12117391304346 226.49208695652175\n"
       ]
      },
      {
       "output_type": "stream",
       "stream": "stderr",
       "text": [
        "WARNING:shapely.geos:Self-intersection at or near point -41.148369710224166 47.418014488791691\n"
       ]
      },
      {
       "output_type": "stream",
       "stream": "stderr",
       "text": [
        "WARNING:shapely.geos:Self-intersection at or near point 227.56566666666666 201.86699999999999\n"
       ]
      },
      {
       "output_type": "stream",
       "stream": "stderr",
       "text": [
        "WARNING:shapely.geos:Self-intersection at or near point -78.486828559456967 73.87244242017934\n"
       ]
      },
      {
       "output_type": "stream",
       "stream": "stderr",
       "text": [
        "WARNING:shapely.geos:Self-intersection at or near point -78.083521693121682 74.760803628117898\n"
       ]
      },
      {
       "output_type": "stream",
       "stream": "stderr",
       "text": [
        "WARNING:shapely.geos:Self-intersection at or near point -70.892741524585631 81.865195260888484\n"
       ]
      },
      {
       "output_type": "stream",
       "stream": "stderr",
       "text": [
        "WARNING:shapely.geos:Self-intersection at or near point -50.749599451199828 -15.029045507371144\n"
       ]
      },
      {
       "output_type": "stream",
       "stream": "stderr",
       "text": [
        "WARNING:shapely.geos:Self-intersection at or near point 116.99187096774193 82.197664516129024\n"
       ]
      },
      {
       "output_type": "stream",
       "stream": "stderr",
       "text": [
        "WARNING:shapely.geos:Self-intersection at or near point -51.048967895453771 35.68845085135365\n"
       ]
      },
      {
       "output_type": "stream",
       "stream": "stderr",
       "text": [
        "WARNING:shapely.geos:Self-intersection at or near point -77.710899999999995 68.301699999999997\n"
       ]
      },
      {
       "output_type": "stream",
       "stream": "stderr",
       "text": [
        "WARNING:shapely.geos:Self-intersection at or near point -78.94334263170812 -5.4130164307061488\n"
       ]
      },
      {
       "output_type": "stream",
       "stream": "stderr",
       "text": [
        "WARNING:shapely.geos:Self-intersection at or near point 251.55057446808513 388.26521276595747\n"
       ]
      },
      {
       "output_type": "stream",
       "stream": "stderr",
       "text": [
        "WARNING:shapely.geos:Self-intersection at or near point 161.67487499999999 277.86287499999997\n"
       ]
      },
      {
       "output_type": "stream",
       "stream": "stderr",
       "text": [
        "WARNING:shapely.geos:Self-intersection at or near point 147.18609230769229 261.57627692307693\n"
       ]
      },
      {
       "output_type": "stream",
       "stream": "stderr",
       "text": [
        "WARNING:shapely.geos:Self-intersection at or near point 141.94659999999999 250.45359999999999\n"
       ]
      },
      {
       "output_type": "stream",
       "stream": "stderr",
       "text": [
        "WARNING:shapely.geos:Self-intersection at or near point 287.84452941176471 225.08929411764706\n"
       ]
      },
      {
       "output_type": "stream",
       "stream": "stderr",
       "text": [
        "WARNING:shapely.geos:Self-intersection at or near point 290.03886153846156 217.17678461538461\n"
       ]
      },
      {
       "output_type": "stream",
       "stream": "stderr",
       "text": [
        "WARNING:shapely.geos:Self-intersection at or near point 288.22389361702125 201.25821276595744\n"
       ]
      },
      {
       "output_type": "stream",
       "stream": "stderr",
       "text": [
        "WARNING:shapely.geos:Self-intersection at or near point 262.63999999999999 201.56911111111111\n"
       ]
      },
      {
       "output_type": "stream",
       "stream": "stderr",
       "text": [
        "WARNING:shapely.geos:Self-intersection at or near point -25.836500000000001 100.259\n"
       ]
      },
      {
       "output_type": "stream",
       "stream": "stderr",
       "text": [
        "WARNING:shapely.geos:Self-intersection at or near point -29.265346938775508 102.79236734693878\n"
       ]
      },
      {
       "output_type": "stream",
       "stream": "stderr",
       "text": [
        "WARNING:shapely.geos:Self-intersection at or near point -84.409200715832924 -6.2251130164587565\n"
       ]
      },
      {
       "output_type": "stream",
       "stream": "stderr",
       "text": [
        "WARNING:shapely.geos:Self-intersection at or near point -85.219148600341327 -6.4512074545569087\n"
       ]
      },
      {
       "output_type": "stream",
       "stream": "stderr",
       "text": [
        "WARNING:shapely.geos:Self-intersection at or near point -49.114453930877325 28.292482529434107\n"
       ]
      },
      {
       "output_type": "stream",
       "stream": "stderr",
       "text": [
        "WARNING:shapely.geos:Self-intersection at or near point 7.8941299999999996 49.536799999999999\n"
       ]
      },
      {
       "output_type": "stream",
       "stream": "stderr",
       "text": [
        "WARNING:shapely.geos:Self-intersection at or near point 22.221092388302768 60.32014480634426\n"
       ]
      },
      {
       "output_type": "stream",
       "stream": "stderr",
       "text": [
        "WARNING:shapely.geos:Self-intersection at or near point -66.367216379310349 14.17617672413793\n"
       ]
      },
      {
       "output_type": "stream",
       "stream": "stderr",
       "text": [
        "WARNING:shapely.geos:Self-intersection at or near point -98.122389449603006 -41.168084443547308\n"
       ]
      },
      {
       "output_type": "stream",
       "stream": "stderr",
       "text": [
        "WARNING:shapely.geos:Self-intersection at or near point -71.490690616113739 -36.17587127962085\n"
       ]
      },
      {
       "output_type": "stream",
       "stream": "stderr",
       "text": [
        "WARNING:shapely.geos:Self-intersection at or near point -93.303955134680137 -38.854562317620648\n"
       ]
      },
      {
       "output_type": "stream",
       "stream": "stderr",
       "text": [
        "WARNING:shapely.geos:Self-intersection at or near point -43.040636343612334 103.51045594713656\n"
       ]
      },
      {
       "output_type": "stream",
       "stream": "stderr",
       "text": [
        "WARNING:shapely.geos:Self-intersection at or near point 111.28400000000001 91.170199999999994\n"
       ]
      },
      {
       "output_type": "stream",
       "stream": "stderr",
       "text": [
        "WARNING:shapely.geos:Self-intersection at or near point 15.757899999999999 136.869\n"
       ]
      },
      {
       "output_type": "stream",
       "stream": "stderr",
       "text": [
        "WARNING:shapely.geos:Self-intersection at or near point -49.2575 95.205299999999994\n"
       ]
      },
      {
       "output_type": "stream",
       "stream": "stderr",
       "text": [
        "WARNING:shapely.geos:Self-intersection at or near point -55.577576592335426 96.010147070942139\n"
       ]
      },
      {
       "output_type": "stream",
       "stream": "stderr",
       "text": [
        "WARNING:shapely.geos:Self-intersection at or near point -64.822061041495473 16.961552259654876\n"
       ]
      },
      {
       "output_type": "stream",
       "stream": "stderr",
       "text": [
        "WARNING:shapely.geos:Self-intersection at or near point -41.954700000000003 32.896500000000003\n"
       ]
      },
      {
       "output_type": "stream",
       "stream": "stderr",
       "text": [
        "WARNING:shapely.geos:Self-intersection at or near point 29.94115413117547 58.591505792163545\n"
       ]
      },
      {
       "output_type": "stream",
       "stream": "stderr",
       "text": [
        "WARNING:shapely.geos:Self-intersection at or near point -20.758299999999998 98.594200000000001\n"
       ]
      },
      {
       "output_type": "stream",
       "stream": "stderr",
       "text": [
        "WARNING:shapely.geos:Self-intersection at or near point -74.933016271186432 33.54599525423729\n"
       ]
      },
      {
       "output_type": "stream",
       "stream": "stderr",
       "text": [
        "WARNING:shapely.geos:Self-intersection at or near point 16.072164175257726 135.84053092783506\n"
       ]
      },
      {
       "output_type": "stream",
       "stream": "stderr",
       "text": [
        "WARNING:shapely.geos:Self-intersection at or near point 74.949838888888891 164.16290277777776\n"
       ]
      },
      {
       "output_type": "stream",
       "stream": "stderr",
       "text": [
        "WARNING:shapely.geos:Self-intersection at or near point -56.169037645348837 38.542405632267439\n"
       ]
      },
      {
       "output_type": "stream",
       "stream": "stderr",
       "text": [
        "WARNING:shapely.geos:Self-intersection at or near point 191.06385542168675 160.61861445783134\n"
       ]
      },
      {
       "output_type": "stream",
       "stream": "stderr",
       "text": [
        "WARNING:shapely.geos:Self-intersection at or near point -52.734327043630898 95.311322417251759\n"
       ]
      },
      {
       "output_type": "stream",
       "stream": "stderr",
       "text": [
        "WARNING:shapely.geos:Self-intersection at or near point -50.051176128093161 97.877528481319743\n"
       ]
      },
      {
       "output_type": "stream",
       "stream": "stderr",
       "text": [
        "WARNING:shapely.geos:Self-intersection at or near point -44.795362116649258 89.899982816053097\n"
       ]
      },
      {
       "output_type": "stream",
       "stream": "stderr",
       "text": [
        "WARNING:shapely.geos:Self-intersection at or near point -41.123866142460685 15.755477428307122\n"
       ]
      },
      {
       "output_type": "stream",
       "stream": "stderr",
       "text": [
        "WARNING:shapely.geos:Self-intersection at or near point 186.30328571428572 130.82900000000001\n"
       ]
      },
      {
       "output_type": "stream",
       "stream": "stderr",
       "text": [
        "WARNING:shapely.geos:Self-intersection at or near point 111.58054249126891 86.153768800931317\n"
       ]
      },
      {
       "output_type": "stream",
       "stream": "stderr",
       "text": [
        "WARNING:shapely.geos:Self-intersection at or near point 15.666712212529731 135.32325535289453\n"
       ]
      },
      {
       "output_type": "stream",
       "stream": "stderr",
       "text": [
        "WARNING:shapely.geos:Self-intersection at or near point -81.89032967005457 69.125030431081967\n"
       ]
      },
      {
       "output_type": "stream",
       "stream": "stderr",
       "text": [
        "WARNING:shapely.geos:Self-intersection at or near point -89.300230513595167 -20.902333836858009\n"
       ]
      },
      {
       "output_type": "stream",
       "stream": "stderr",
       "text": [
        "WARNING:shapely.geos:Self-intersection at or near point -44.902715565729231 96.632874885546101\n"
       ]
      },
      {
       "output_type": "stream",
       "stream": "stderr",
       "text": [
        "WARNING:shapely.geos:Self-intersection at or near point -47.156274244904033 96.815568263651244\n"
       ]
      },
      {
       "output_type": "stream",
       "stream": "stderr",
       "text": [
        "WARNING:shapely.geos:Self-intersection at or near point 73.396500000000003 165.589\n"
       ]
      },
      {
       "output_type": "stream",
       "stream": "stderr",
       "text": [
        "WARNING:shapely.geos:Self-intersection at or near point -112.07346666666666 -41.730666666666671\n"
       ]
      },
      {
       "output_type": "stream",
       "stream": "stderr",
       "text": [
        "WARNING:shapely.geos:Self-intersection at or near point -48.871640719542107 24.989680089942762\n"
       ]
      },
      {
       "output_type": "stream",
       "stream": "stderr",
       "text": [
        "WARNING:shapely.geos:Self-intersection at or near point -48.149003381234152 29.259434551986473\n"
       ]
      },
      {
       "output_type": "stream",
       "stream": "stderr",
       "text": [
        "WARNING:shapely.geos:Self-intersection at or near point 6.8823472191680795 48.518293690971412\n"
       ]
      },
      {
       "output_type": "stream",
       "stream": "stderr",
       "text": [
        "WARNING:shapely.geos:Self-intersection at or near point 142.4293707957342 92.392238146021327\n"
       ]
      },
      {
       "output_type": "stream",
       "stream": "stderr",
       "text": [
        "WARNING:shapely.geos:Self-intersection at or near point -105.80255000000001 48.534570000000009\n"
       ]
      },
      {
       "output_type": "stream",
       "stream": "stderr",
       "text": [
        "WARNING:shapely.geos:Self-intersection at or near point -105.679 48.534199999999998\n"
       ]
      },
      {
       "output_type": "stream",
       "stream": "stderr",
       "text": [
        "WARNING:shapely.geos:Self-intersection at or near point -56.831730826838772 33.224244136629324\n"
       ]
      },
      {
       "output_type": "stream",
       "stream": "stderr",
       "text": [
        "WARNING:shapely.geos:Self-intersection at or near point -47.385143814432986 37.266613917525767\n"
       ]
      },
      {
       "output_type": "stream",
       "stream": "stderr",
       "text": [
        "WARNING:shapely.geos:Self-intersection at or near point -60.881428963739282 94.044840677016197\n"
       ]
      },
      {
       "output_type": "stream",
       "stream": "stderr",
       "text": [
        "WARNING:shapely.geos:Self-intersection at or near point -53.393455302265686 95.644085706330699\n"
       ]
      },
      {
       "output_type": "stream",
       "stream": "stderr",
       "text": [
        "WARNING:shapely.geos:Self-intersection at or near point -51.991100000000003 98.703599999999994\n"
       ]
      },
      {
       "output_type": "stream",
       "stream": "stderr",
       "text": [
        "WARNING:shapely.geos:Self-intersection at or near point -47.667663811380528 23.823211478006581\n"
       ]
      },
      {
       "output_type": "stream",
       "stream": "stderr",
       "text": [
        "WARNING:shapely.geos:Self-intersection at or near point 65.943388781555214 66.427498687089724\n"
       ]
      },
      {
       "output_type": "stream",
       "stream": "stderr",
       "text": [
        "WARNING:shapely.geos:Self-intersection at or near point 11.631069776119405 56.815973880597014\n"
       ]
      },
      {
       "output_type": "stream",
       "stream": "stderr",
       "text": [
        "WARNING:shapely.geos:Self-intersection at or near point -95.450224966315687 -38.154012859923142\n"
       ]
      },
      {
       "output_type": "stream",
       "stream": "stderr",
       "text": [
        "WARNING:shapely.geos:Self-intersection at or near point -97.435265986394555 -32.065325510204083\n"
       ]
      },
      {
       "output_type": "stream",
       "stream": "stderr",
       "text": [
        "WARNING:shapely.geos:Self-intersection at or near point -98.477407979626491 -42.535164492438909\n"
       ]
      },
      {
       "output_type": "stream",
       "stream": "stderr",
       "text": [
        "WARNING:shapely.geos:Self-intersection at or near point -23.72821434671221 113.15096157130658\n"
       ]
      },
      {
       "output_type": "stream",
       "stream": "stderr",
       "text": [
        "WARNING:shapely.geos:Self-intersection at or near point -33.291532887899031 105.95675278396436\n"
       ]
      },
      {
       "output_type": "stream",
       "stream": "stderr",
       "text": [
        "WARNING:shapely.geos:Self-intersection at or near point 157.18584496124032 212.01888372093023\n"
       ]
      },
      {
       "output_type": "stream",
       "stream": "stderr",
       "text": [
        "WARNING:shapely.geos:Self-intersection at or near point -43.56840064516129 49.348863225806454\n"
       ]
      },
      {
       "output_type": "stream",
       "stream": "stderr",
       "text": [
        "WARNING:shapely.geos:Self-intersection at or near point 234.40600000000001 221.79839393939395\n"
       ]
      },
      {
       "output_type": "stream",
       "stream": "stderr",
       "text": [
        "WARNING:shapely.geos:Self-intersection at or near point 118.94555383392928 96.79231803734605\n"
       ]
      },
      {
       "output_type": "stream",
       "stream": "stderr",
       "text": [
        "WARNING:shapely.geos:Self-intersection at or near point -42.946445006772564 38.505628432459055\n"
       ]
      },
      {
       "output_type": "stream",
       "stream": "stderr",
       "text": [
        "WARNING:shapely.geos:Self-intersection at or near point -47.752410765291046 96.498690524967998\n"
       ]
      },
      {
       "output_type": "stream",
       "stream": "stderr",
       "text": [
        "WARNING:shapely.geos:Self-intersection at or near point -31.7608 28.471900000000002\n"
       ]
      },
      {
       "output_type": "stream",
       "stream": "stderr",
       "text": [
        "WARNING:shapely.geos:Self-intersection at or near point -47.189004567464991 29.826116712472192\n"
       ]
      },
      {
       "output_type": "stream",
       "stream": "stderr",
       "text": [
        "WARNING:shapely.geos:Self-intersection at or near point -65.345445632042839 11.8998046078322\n"
       ]
      },
      {
       "output_type": "stream",
       "stream": "stderr",
       "text": [
        "WARNING:shapely.geos:Self-intersection at or near point 104.13211773700306 65.789772171253816\n"
       ]
      },
      {
       "output_type": "stream",
       "stream": "stderr",
       "text": [
        "WARNING:shapely.geos:Self-intersection at or near point -17.825964357574016 115.01296062086807\n"
       ]
      },
      {
       "output_type": "stream",
       "stream": "stderr",
       "text": [
        "WARNING:shapely.geos:Self-intersection at or near point -13.2431 112.404\n"
       ]
      },
      {
       "output_type": "stream",
       "stream": "stderr",
       "text": [
        "WARNING:shapely.geos:Self-intersection at or near point 239.47225210084034 189.45039915966387\n"
       ]
      },
      {
       "output_type": "stream",
       "stream": "stderr",
       "text": [
        "WARNING:shapely.geos:Self-intersection at or near point -58.693584722027722 92.863709634504971\n"
       ]
      },
      {
       "output_type": "stream",
       "stream": "stderr",
       "text": [
        "WARNING:shapely.geos:Self-intersection at or near point -61.065100000000001 4.8527300000000002\n"
       ]
      },
      {
       "output_type": "stream",
       "stream": "stderr",
       "text": [
        "WARNING:shapely.geos:Self-intersection at or near point 89.619702480916033 185.06803244274809\n"
       ]
      },
      {
       "output_type": "stream",
       "stream": "stderr",
       "text": [
        "WARNING:shapely.geos:Self-intersection at or near point 293.76600000000002 304.40600000000001\n"
       ]
      },
      {
       "output_type": "stream",
       "stream": "stderr",
       "text": [
        "WARNING:shapely.geos:Self-intersection at or near point 145.55099999999999 260.04399999999998\n"
       ]
      },
      {
       "output_type": "stream",
       "stream": "stderr",
       "text": [
        "WARNING:shapely.geos:Self-intersection at or near point -48.354544485962435 27.577530130276713\n"
       ]
      },
      {
       "output_type": "stream",
       "stream": "stderr",
       "text": [
        "WARNING:shapely.geos:Self-intersection at or near point -7.5588481268349978 41.57769700528479\n"
       ]
      },
      {
       "output_type": "stream",
       "stream": "stderr",
       "text": [
        "WARNING:shapely.geos:Self-intersection at or near point -43.626800000000003 30.6631\n"
       ]
      },
      {
       "output_type": "stream",
       "stream": "stderr",
       "text": [
        "WARNING:shapely.geos:Self-intersection at or near point 162.989 133.565\n"
       ]
      },
      {
       "output_type": "stream",
       "stream": "stderr",
       "text": [
        "WARNING:shapely.geos:Self-intersection at or near point -50.112999915346471 3.2932378727778473\n"
       ]
      },
      {
       "output_type": "stream",
       "stream": "stderr",
       "text": [
        "WARNING:shapely.geos:Self-intersection at or near point -54.935549774545159 7.7409027184585595\n"
       ]
      },
      {
       "output_type": "stream",
       "stream": "stderr",
       "text": [
        "WARNING:shapely.geos:Self-intersection at or near point -88.363280552346367 -21.269672674258675\n"
       ]
      },
      {
       "output_type": "stream",
       "stream": "stderr",
       "text": [
        "WARNING:shapely.geos:Self-intersection at or near point -110.88832142857142 -41.209889285714276\n"
       ]
      },
      {
       "output_type": "stream",
       "stream": "stderr",
       "text": [
        "WARNING:shapely.geos:Self-intersection at or near point -111.66430889982706 -40.229790621258481\n"
       ]
      },
      {
       "output_type": "stream",
       "stream": "stderr",
       "text": [
        "WARNING:shapely.geos:Self-intersection at or near point -45.338404048582994 95.15546396761134\n"
       ]
      },
      {
       "output_type": "stream",
       "stream": "stderr",
       "text": [
        "WARNING:shapely.geos:Self-intersection at or near point -42.809358494196111 98.316841871352537\n"
       ]
      },
      {
       "output_type": "stream",
       "stream": "stderr",
       "text": [
        "WARNING:shapely.geos:Self-intersection at or near point 72.691487437185927 173.77814572864321\n"
       ]
      },
      {
       "output_type": "stream",
       "stream": "stderr",
       "text": [
        "WARNING:shapely.geos:Self-intersection at or near point -105.54577419354841 49.43362096774193\n"
       ]
      },
      {
       "output_type": "stream",
       "stream": "stderr",
       "text": [
        "WARNING:shapely.geos:Self-intersection at or near point -69.41401301299237 37.318812703650238\n"
       ]
      },
      {
       "output_type": "stream",
       "stream": "stderr",
       "text": [
        "WARNING:shapely.geos:Self-intersection at or near point -51.529859752483873 35.699788896635866\n"
       ]
      },
      {
       "output_type": "stream",
       "stream": "stderr",
       "text": [
        "WARNING:shapely.geos:Self-intersection at or near point -96.261325635743262 60.811366831906263\n"
       ]
      },
      {
       "output_type": "stream",
       "stream": "stderr",
       "text": [
        "WARNING:shapely.geos:Self-intersection at or near point -33.136932597105869 35.747611424219343\n"
       ]
      },
      {
       "output_type": "stream",
       "stream": "stderr",
       "text": [
        "WARNING:shapely.geos:Self-intersection at or near point 10.329924612876937 47.095776935615319\n"
       ]
      },
      {
       "output_type": "stream",
       "stream": "stderr",
       "text": [
        "WARNING:shapely.geos:Self-intersection at or near point -20.832926751685275 -0.52722287487407538\n"
       ]
      },
      {
       "output_type": "stream",
       "stream": "stderr",
       "text": [
        "WARNING:shapely.geos:Self-intersection at or near point -62.908367528650011 0.64468083908211526\n"
       ]
      },
      {
       "output_type": "stream",
       "stream": "stderr",
       "text": [
        "WARNING:shapely.geos:Self-intersection at or near point 145.36600000000001 122.622\n"
       ]
      },
      {
       "output_type": "stream",
       "stream": "stderr",
       "text": [
        "WARNING:shapely.geos:Self-intersection at or near point 232.96700000000001 143.857\n"
       ]
      },
      {
       "output_type": "stream",
       "stream": "stderr",
       "text": [
        "WARNING:shapely.geos:Self-intersection at or near point 96.091156077554061 184.79710439970171\n"
       ]
      },
      {
       "output_type": "stream",
       "stream": "stderr",
       "text": [
        "WARNING:shapely.geos:Self-intersection at or near point -6.3723970588235384 114.45699999999999\n"
       ]
      },
      {
       "output_type": "stream",
       "stream": "stderr",
       "text": [
        "WARNING:shapely.geos:Self-intersection at or near point -12.268000000000001 117.414\n"
       ]
      },
      {
       "output_type": "stream",
       "stream": "stderr",
       "text": [
        "WARNING:shapely.geos:Self-intersection at or near point -141.66999999999999 42.302700000000002\n"
       ]
      },
      {
       "output_type": "stream",
       "stream": "stderr",
       "text": [
        "WARNING:shapely.geos:Self-intersection at or near point -49.319447552447556 34.89542377622378\n"
       ]
      },
      {
       "output_type": "stream",
       "stream": "stderr",
       "text": [
        "WARNING:shapely.geos:Self-intersection at or near point -65.416882360089119 85.874087618983324\n"
       ]
      },
      {
       "output_type": "stream",
       "stream": "stderr",
       "text": [
        "WARNING:shapely.geos:Self-intersection at or near point 20.416446771749015 126.51432767505305\n"
       ]
      },
      {
       "output_type": "stream",
       "stream": "stderr",
       "text": [
        "WARNING:shapely.geos:Self-intersection at or near point 227.03 220.792\n"
       ]
      },
      {
       "output_type": "stream",
       "stream": "stderr",
       "text": [
        "WARNING:shapely.geos:Self-intersection at or near point -54.86543673010582 22.444172723748981\n"
       ]
      },
      {
       "output_type": "stream",
       "stream": "stderr",
       "text": [
        "WARNING:shapely.geos:Self-intersection at or near point -44.904632816857763 96.580333343662844\n"
       ]
      },
      {
       "output_type": "stream",
       "stream": "stderr",
       "text": [
        "WARNING:shapely.geos:Self-intersection at or near point -41.319200000000002 59.020400000000002\n"
       ]
      },
      {
       "output_type": "stream",
       "stream": "stderr",
       "text": [
        "WARNING:shapely.geos:Self-intersection at or near point 181.28461463414635 157.10486341463414\n"
       ]
      },
      {
       "output_type": "stream",
       "stream": "stderr",
       "text": [
        "WARNING:shapely.geos:Self-intersection at or near point 296.29599999999999 432.22881967213112\n"
       ]
      },
      {
       "output_type": "stream",
       "stream": "stderr",
       "text": [
        "WARNING:shapely.geos:Self-intersection at or near point 156.0008224852071 269.44914201183434\n"
       ]
      },
      {
       "output_type": "stream",
       "stream": "stderr",
       "text": [
        "WARNING:shapely.geos:Self-intersection at or near point 151.50148648648647 264.56989189189193\n"
       ]
      },
      {
       "output_type": "stream",
       "stream": "stderr",
       "text": [
        "WARNING:shapely.geos:Self-intersection at or near point 282.52499999999998 224.94399999999999\n"
       ]
      },
      {
       "output_type": "stream",
       "stream": "stderr",
       "text": [
        "WARNING:shapely.geos:Self-intersection at or near point 262.09399999999999 218.768\n"
       ]
      },
      {
       "output_type": "stream",
       "stream": "stderr",
       "text": [
        "WARNING:shapely.geos:Self-intersection at or near point 259.56478947368424 217.88578947368421\n"
       ]
      },
      {
       "output_type": "stream",
       "stream": "stderr",
       "text": [
        "WARNING:shapely.geos:Self-intersection at or near point 284.41273825503356 208.48642953020135\n"
       ]
      },
      {
       "output_type": "stream",
       "stream": "stderr",
       "text": [
        "WARNING:shapely.geos:Self-intersection at or near point 283.11546153846155 203.69930769230771\n"
       ]
      },
      {
       "output_type": "stream",
       "stream": "stderr",
       "text": [
        "WARNING:shapely.geos:Self-intersection at or near point -47.801707260497551 96.434960828923295\n"
       ]
      },
      {
       "output_type": "stream",
       "stream": "stderr",
       "text": [
        "WARNING:shapely.geos:Self-intersection at or near point 1.49962 46.255699999999997\n"
       ]
      },
      {
       "output_type": "stream",
       "stream": "stderr",
       "text": [
        "WARNING:shapely.geos:Self-intersection at or near point -56.991095559792974 5.8054480005448106\n"
       ]
      },
      {
       "output_type": "stream",
       "stream": "stderr",
       "text": [
        "WARNING:shapely.geos:Self-intersection at or near point -98.928970842332618 -43.679993222256513\n"
       ]
      },
      {
       "output_type": "stream",
       "stream": "stderr",
       "text": [
        "WARNING:shapely.geos:Self-intersection at or near point -95.819439891094319 -33.098463850342526\n"
       ]
      },
      {
       "output_type": "stream",
       "stream": "stderr",
       "text": [
        "WARNING:shapely.geos:Self-intersection at or near point -77.306028492974818 -19.19964831324442\n"
       ]
      },
      {
       "output_type": "stream",
       "stream": "stderr",
       "text": [
        "WARNING:shapely.geos:Self-intersection at or near point -94.417500000000004 -40.3568\n"
       ]
      },
      {
       "output_type": "stream",
       "stream": "stderr",
       "text": [
        "WARNING:shapely.geos:Self-intersection at or near point 107.139 189.43916666666667\n"
       ]
      },
      {
       "output_type": "stream",
       "stream": "stderr",
       "text": [
        "WARNING:shapely.geos:Self-intersection at or near point -39.049333093525178 102.80263309352519\n"
       ]
      },
      {
       "output_type": "stream",
       "stream": "stderr",
       "text": [
        "WARNING:shapely.geos:Self-intersection at or near point 109.71299999999999 90.520369565217393\n"
       ]
      },
      {
       "output_type": "stream",
       "stream": "stderr",
       "text": [
        "WARNING:shapely.geos:Self-intersection at or near point -47.821329880478089 36.070739840637451\n"
       ]
      },
      {
       "output_type": "stream",
       "stream": "stderr",
       "text": [
        "WARNING:shapely.geos:Self-intersection at or near point -49.354089536031587 94.15517013820336\n"
       ]
      },
      {
       "output_type": "stream",
       "stream": "stderr",
       "text": [
        "WARNING:shapely.geos:Self-intersection at or near point -33.794400000000003 26.506499999999999\n"
       ]
      },
      {
       "output_type": "stream",
       "stream": "stderr",
       "text": [
        "WARNING:shapely.geos:Self-intersection at or near point -43.704599999999999 30.4907\n"
       ]
      },
      {
       "output_type": "stream",
       "stream": "stderr",
       "text": [
        "WARNING:shapely.geos:Self-intersection at or near point 94.088652558929709 68.509524569972385\n"
       ]
      },
      {
       "output_type": "stream",
       "stream": "stderr",
       "text": [
        "WARNING:shapely.geos:Self-intersection at or near point -59.707873143045155 -0.85483898848400086\n"
       ]
      },
      {
       "output_type": "stream",
       "stream": "stderr",
       "text": [
        "WARNING:shapely.geos:Self-intersection at or near point -63.921638744884035 10.037364611186902\n"
       ]
      },
      {
       "output_type": "stream",
       "stream": "stderr",
       "text": [
        "WARNING:shapely.geos:Self-intersection at or near point -88.18410427429275 -22.235293634686354\n"
       ]
      },
      {
       "output_type": "stream",
       "stream": "stderr",
       "text": [
        "WARNING:shapely.geos:Self-intersection at or near point -96.731624881003896 -42.464560190393769\n"
       ]
      },
      {
       "output_type": "stream",
       "stream": "stderr",
       "text": [
        "WARNING:shapely.geos:Self-intersection at or near point 134.614 83.1477\n"
       ]
      },
      {
       "output_type": "stream",
       "stream": "stderr",
       "text": [
        "WARNING:shapely.geos:Self-intersection at or near point -14.975381402643961 115.73566345507506\n"
       ]
      },
      {
       "output_type": "stream",
       "stream": "stderr",
       "text": [
        "WARNING:shapely.geos:Self-intersection at or near point 100.663 185.65700000000001\n"
       ]
      },
      {
       "output_type": "stream",
       "stream": "stderr",
       "text": [
        "WARNING:shapely.geos:Self-intersection at or near point -15.5722 116.598\n"
       ]
      },
      {
       "output_type": "stream",
       "stream": "stderr",
       "text": [
        "WARNING:shapely.geos:Self-intersection at or near point 15.401199999999999 128.733\n"
       ]
      },
      {
       "output_type": "stream",
       "stream": "stderr",
       "text": [
        "WARNING:shapely.geos:Self-intersection at or near point 15.785 130.50299999999999\n"
       ]
      },
      {
       "output_type": "stream",
       "stream": "stderr",
       "text": [
        "WARNING:shapely.geos:Self-intersection at or near point 117.91800000000001 83.228023076923094\n"
       ]
      },
      {
       "output_type": "stream",
       "stream": "stderr",
       "text": [
        "WARNING:shapely.geos:Self-intersection at or near point 115.40620290607161 90.451243539180069\n"
       ]
      },
      {
       "output_type": "stream",
       "stream": "stderr",
       "text": [
        "WARNING:shapely.geos:Self-intersection at or near point 75.487830477759474 167.11437397034595\n"
       ]
      },
      {
       "output_type": "stream",
       "stream": "stderr",
       "text": [
        "WARNING:shapely.geos:Self-intersection at or near point 49.820387500000002 147.08000000000001\n"
       ]
      },
      {
       "output_type": "stream",
       "stream": "stderr",
       "text": [
        "WARNING:shapely.geos:Self-intersection at or near point -61.116999999999997 94.081599999999995\n"
       ]
      },
      {
       "output_type": "stream",
       "stream": "stderr",
       "text": [
        "WARNING:shapely.geos:Self-intersection at or near point -49.279899999999998 95.240499999999997\n"
       ]
      },
      {
       "output_type": "stream",
       "stream": "stderr",
       "text": [
        "WARNING:shapely.geos:Self-intersection at or near point -74.335099999999997 79.842923645320198\n"
       ]
      },
      {
       "output_type": "stream",
       "stream": "stderr",
       "text": [
        "WARNING:shapely.geos:Self-intersection at or near point -51.874332134831455 98.827371460674158\n"
       ]
      },
      {
       "output_type": "stream",
       "stream": "stderr",
       "text": [
        "WARNING:shapely.geos:Self-intersection at or near point -110.100875 -35.830399999999997\n"
       ]
      },
      {
       "output_type": "stream",
       "stream": "stderr",
       "text": [
        "WARNING:shapely.geos:Self-intersection at or near point 102.93106832298137 80.046681987577614\n"
       ]
      },
      {
       "output_type": "stream",
       "stream": "stderr",
       "text": [
        "WARNING:shapely.geos:Self-intersection at or near point -86.006900000000002 -21.006599999999999\n"
       ]
      },
      {
       "output_type": "stream",
       "stream": "stderr",
       "text": [
        "WARNING:shapely.geos:Self-intersection at or near point -59.341999999999999 -4.79101\n"
       ]
      },
      {
       "output_type": "stream",
       "stream": "stderr",
       "text": [
        "WARNING:shapely.geos:Self-intersection at or near point 17.13038123725357 59.186078042148203\n"
       ]
      },
      {
       "output_type": "stream",
       "stream": "stderr",
       "text": [
        "WARNING:shapely.geos:Self-intersection at or near point 169.23615662650602 303.49956626506025\n"
       ]
      },
      {
       "output_type": "stream",
       "stream": "stderr",
       "text": [
        "WARNING:shapely.geos:Self-intersection at or near point 165.02933333333334 293.358\n"
       ]
      },
      {
       "output_type": "stream",
       "stream": "stderr",
       "text": [
        "WARNING:shapely.geos:Self-intersection at or near point 288.43666071428572 224.04492857142858\n"
       ]
      },
      {
       "output_type": "stream",
       "stream": "stderr",
       "text": [
        "WARNING:shapely.geos:Self-intersection at or near point 258.78890140845073 208.69625352112678\n"
       ]
      },
      {
       "output_type": "stream",
       "stream": "stderr",
       "text": [
        "WARNING:shapely.geos:Self-intersection at or near point 254.50488235294119 205.71299999999999\n"
       ]
      },
      {
       "output_type": "stream",
       "stream": "stderr",
       "text": [
        "WARNING:shapely.geos:Self-intersection at or near point -31.676611769927216 28.458726841824959\n"
       ]
      },
      {
       "output_type": "stream",
       "stream": "stderr",
       "text": [
        "WARNING:shapely.geos:Self-intersection at or near point -48.240224146147732 29.04699164019063\n"
       ]
      },
      {
       "output_type": "stream",
       "stream": "stderr",
       "text": [
        "WARNING:shapely.geos:Self-intersection at or near point -30.48959137211855 29.108155861690449\n"
       ]
      },
      {
       "output_type": "stream",
       "stream": "stderr",
       "text": [
        "WARNING:shapely.geos:Self-intersection at or near point -43.153977319587632 30.962376288659794\n"
       ]
      },
      {
       "output_type": "stream",
       "stream": "stderr",
       "text": [
        "WARNING:shapely.geos:Self-intersection at or near point 12.456869491525424 53.696351977401129\n"
       ]
      },
      {
       "output_type": "stream",
       "stream": "stderr",
       "text": [
        "WARNING:shapely.geos:Self-intersection at or near point 14.954085132785334 54.762376454315522\n"
       ]
      },
      {
       "output_type": "stream",
       "stream": "stderr",
       "text": [
        "WARNING:shapely.geos:Self-intersection at or near point 11.634600000000001 56.743699999999997\n"
       ]
      },
      {
       "output_type": "stream",
       "stream": "stderr",
       "text": [
        "WARNING:shapely.geos:Self-intersection at or near point -64.870729857960157 4.6046103284671531\n"
       ]
      },
      {
       "output_type": "stream",
       "stream": "stderr",
       "text": [
        "WARNING:shapely.geos:Self-intersection at or near point -77.264530995673013 -5.2800850559242329\n"
       ]
      },
      {
       "output_type": "stream",
       "stream": "stderr",
       "text": [
        "WARNING:shapely.geos:Self-intersection at or near point -109.96290604026845 -36.237170469798656\n"
       ]
      },
      {
       "output_type": "stream",
       "stream": "stderr",
       "text": [
        "WARNING:shapely.geos:Self-intersection at or near point -88.565200000000004 -20.715699999999998\n"
       ]
      },
      {
       "output_type": "stream",
       "stream": "stderr",
       "text": [
        "WARNING:shapely.geos:Self-intersection at or near point -88.759479455193485 -20.819298854378818\n"
       ]
      },
      {
       "output_type": "stream",
       "stream": "stderr",
       "text": [
        "WARNING:shapely.geos:Self-intersection at or near point -91.0809 -34.171599999999998\n"
       ]
      },
      {
       "output_type": "stream",
       "stream": "stderr",
       "text": [
        "WARNING:shapely.geos:Self-intersection at or near point -90.457116207951074 -19.519500000000001\n"
       ]
      },
      {
       "output_type": "stream",
       "stream": "stderr",
       "text": [
        "WARNING:shapely.geos:Self-intersection at or near point -111.48959536615639 -42.934534712453456\n"
       ]
      },
      {
       "output_type": "stream",
       "stream": "stderr",
       "text": [
        "WARNING:shapely.geos:Self-intersection at or near point -74.264654932502594 -43.382106334371748\n"
       ]
      },
      {
       "output_type": "stream",
       "stream": "stderr",
       "text": [
        "WARNING:shapely.geos:Self-intersection at or near point -96.934709090909095 -31.405418181818185\n"
       ]
      },
      {
       "output_type": "stream",
       "stream": "stderr",
       "text": [
        "WARNING:shapely.geos:Self-intersection at or near point -99.976214684452415 -41.918425983634123\n"
       ]
      },
      {
       "output_type": "stream",
       "stream": "stderr",
       "text": [
        "WARNING:shapely.geos:Self-intersection at or near point -93.391400681909346 -30.859214052680841\n"
       ]
      },
      {
       "output_type": "stream",
       "stream": "stderr",
       "text": [
        "WARNING:shapely.geos:Self-intersection at or near point -84.631500000000003 -28.962800000000001\n"
       ]
      },
      {
       "output_type": "stream",
       "stream": "stderr",
       "text": [
        "WARNING:shapely.geos:Self-intersection at or near point -108.89756122448979 -39.074740816326525\n"
       ]
      },
      {
       "output_type": "stream",
       "stream": "stderr",
       "text": [
        "WARNING:shapely.geos:Self-intersection at or near point 234.80786666666665 141.12073333333333\n"
       ]
      },
      {
       "output_type": "stream",
       "stream": "stderr",
       "text": [
        "WARNING:shapely.geos:Self-intersection at or near point -42.028143534190924 103.37152538930265\n"
       ]
      },
      {
       "output_type": "stream",
       "stream": "stderr",
       "text": [
        "WARNING:shapely.geos:Self-intersection at or near point -28.6904 107.04300000000001\n"
       ]
      },
      {
       "output_type": "stream",
       "stream": "stderr",
       "text": [
        "WARNING:shapely.geos:Self-intersection at or near point 105.12878378378377 80.556020270270267\n"
       ]
      },
      {
       "output_type": "stream",
       "stream": "stderr",
       "text": [
        "WARNING:shapely.geos:Self-intersection at or near point 96.598845831880013 82.069480345308676\n"
       ]
      },
      {
       "output_type": "stream",
       "stream": "stderr",
       "text": [
        "WARNING:shapely.geos:Self-intersection at or near point 10.116400000000001 134.04900000000001\n"
       ]
      },
      {
       "output_type": "stream",
       "stream": "stderr",
       "text": [
        "WARNING:shapely.geos:Self-intersection at or near point 91.337599999999995 79.522800000000004\n"
       ]
      },
      {
       "output_type": "stream",
       "stream": "stderr",
       "text": [
        "WARNING:shapely.geos:Self-intersection at or near point 12.707797839783977 132.36870747074707\n"
       ]
      },
      {
       "output_type": "stream",
       "stream": "stderr",
       "text": [
        "WARNING:shapely.geos:Self-intersection at or near point 117.3568644859813 83.894449221183805\n"
       ]
      },
      {
       "output_type": "stream",
       "stream": "stderr",
       "text": [
        "WARNING:shapely.geos:Self-intersection at or near point 108.797 93.2059\n"
       ]
      },
      {
       "output_type": "stream",
       "stream": "stderr",
       "text": [
        "WARNING:shapely.geos:Self-intersection at or near point -50.07275488907149 35.290915694330323\n"
       ]
      },
      {
       "output_type": "stream",
       "stream": "stderr",
       "text": [
        "WARNING:shapely.geos:Self-intersection at or near point 16.10819105691057 135.49453658536586\n"
       ]
      },
      {
       "output_type": "stream",
       "stream": "stderr",
       "text": [
        "WARNING:shapely.geos:Self-intersection at or near point -49.398829943502825 35.812843502824862\n"
       ]
      },
      {
       "output_type": "stream",
       "stream": "stderr",
       "text": [
        "WARNING:shapely.geos:Self-intersection at or near point 36.05526210573079 144.48473123056419\n"
       ]
      },
      {
       "output_type": "stream",
       "stream": "stderr",
       "text": [
        "WARNING:shapely.geos:Self-intersection at or near point 74.108151966626934 164.6704147794994\n"
       ]
      },
      {
       "output_type": "stream",
       "stream": "stderr",
       "text": [
        "WARNING:shapely.geos:Self-intersection at or near point -85.957899999999995 38.364899999999999\n"
       ]
      },
      {
       "output_type": "stream",
       "stream": "stderr",
       "text": [
        "WARNING:shapely.geos:Self-intersection at or near point -52.228929331514323 67.0975173260573\n"
       ]
      },
      {
       "output_type": "stream",
       "stream": "stderr",
       "text": [
        "WARNING:shapely.geos:Self-intersection at or near point 181.13099029126212 157.01966019417475\n"
       ]
      },
      {
       "output_type": "stream",
       "stream": "stderr",
       "text": [
        "WARNING:shapely.geos:Self-intersection at or near point -110.822 -34.249899999999997\n"
       ]
      },
      {
       "output_type": "stream",
       "stream": "stderr",
       "text": [
        "WARNING:shapely.geos:Self-intersection at or near point -95.119699999999995 -33.798200000000001\n"
       ]
      },
      {
       "output_type": "stream",
       "stream": "stderr",
       "text": [
        "WARNING:shapely.geos:Self-intersection at or near point -94.179959041124206 -43.858218753874766\n"
       ]
      },
      {
       "output_type": "stream",
       "stream": "stderr",
       "text": [
        "WARNING:shapely.geos:Self-intersection at or near point -108.83484 -39.938192000000001\n"
       ]
      },
      {
       "output_type": "stream",
       "stream": "stderr",
       "text": [
        "WARNING:shapely.geos:Self-intersection at or near point -52.343827138810198 34.751872067988664\n"
       ]
      },
      {
       "output_type": "stream",
       "stream": "stderr",
       "text": [
        "WARNING:shapely.geos:Self-intersection at or near point -105.158 49.789099999999998\n"
       ]
      },
      {
       "output_type": "stream",
       "stream": "stderr",
       "text": [
        "WARNING:shapely.geos:Self-intersection at or near point -49.855800000000002 96.823700000000002\n"
       ]
      },
      {
       "output_type": "stream",
       "stream": "stderr",
       "text": [
        "WARNING:shapely.geos:Self-intersection at or near point 180.75622641509435 157.05809433962264\n"
       ]
      },
      {
       "output_type": "stream",
       "stream": "stderr",
       "text": [
        "WARNING:shapely.geos:Self-intersection at or near point 15.960599999999999 130.19499999999999\n"
       ]
      },
      {
       "output_type": "stream",
       "stream": "stderr",
       "text": [
        "WARNING:shapely.geos:Self-intersection at or near point -57.629338152475192 -7.1706109514804544\n"
       ]
      },
      {
       "output_type": "stream",
       "stream": "stderr",
       "text": [
        "WARNING:shapely.geos:Self-intersection at or near point 294.15100000000001 432.95400000000001\n"
       ]
      },
      {
       "output_type": "stream",
       "stream": "stderr",
       "text": [
        "WARNING:shapely.geos:Self-intersection at or near point 155.09200000000001 265.74494444444446\n"
       ]
      },
      {
       "output_type": "stream",
       "stream": "stderr",
       "text": [
        "WARNING:shapely.geos:Self-intersection at or near point 150.1135675675676 262.39929729729727\n"
       ]
      },
      {
       "output_type": "stream",
       "stream": "stderr",
       "text": [
        "WARNING:shapely.geos:Self-intersection at or near point 261.51900000000001 219.10049999999998\n"
       ]
      },
      {
       "output_type": "stream",
       "stream": "stderr",
       "text": [
        "WARNING:shapely.geos:Self-intersection at or near point 286.65826666666669 209.17679999999999\n"
       ]
      },
      {
       "output_type": "stream",
       "stream": "stderr",
       "text": [
        "WARNING:shapely.geos:Self-intersection at or near point 260.28846153846155 195.191\n"
       ]
      },
      {
       "output_type": "stream",
       "stream": "stderr",
       "text": [
        "WARNING:shapely.geos:Self-intersection at or near point -45.338217089806747 98.545889238347854\n"
       ]
      },
      {
       "output_type": "stream",
       "stream": "stderr",
       "text": [
        "WARNING:shapely.geos:Self-intersection at or near point 62.579681445386662 67.575509657005441\n"
       ]
      },
      {
       "output_type": "stream",
       "stream": "stderr",
       "text": [
        "WARNING:shapely.geos:Self-intersection at or near point 1.2278824527437282 59.175938950624356\n"
       ]
      },
      {
       "output_type": "stream",
       "stream": "stderr",
       "text": [
        "WARNING:shapely.geos:Self-intersection at or near point 191.50181739130434 140.25007826086957\n"
       ]
      },
      {
       "output_type": "stream",
       "stream": "stderr",
       "text": [
        "WARNING:shapely.geos:Self-intersection at or near point -110.63800000000001 -35.921500000000002\n"
       ]
      },
      {
       "output_type": "stream",
       "stream": "stderr",
       "text": [
        "WARNING:shapely.geos:Self-intersection at or near point -89.601057443949955 -16.750007238223194\n"
       ]
      },
      {
       "output_type": "stream",
       "stream": "stderr",
       "text": [
        "WARNING:shapely.geos:Self-intersection at or near point -77.221062598943703 -4.7113153699102632\n"
       ]
      },
      {
       "output_type": "stream",
       "stream": "stderr",
       "text": [
        "WARNING:shapely.geos:Self-intersection at or near point -30.588584000000001 106.604\n"
       ]
      },
      {
       "output_type": "stream",
       "stream": "stderr",
       "text": [
        "WARNING:shapely.geos:Self-intersection at or near point 97.46103870967741 187.94967741935483\n"
       ]
      },
      {
       "output_type": "stream",
       "stream": "stderr",
       "text": [
        "WARNING:shapely.geos:Self-intersection at or near point -36.375275026014563 104.91757856399583\n"
       ]
      },
      {
       "output_type": "stream",
       "stream": "stderr",
       "text": [
        "WARNING:shapely.geos:Self-intersection at or near point 10.2033 134.03100000000001\n"
       ]
      },
      {
       "output_type": "stream",
       "stream": "stderr",
       "text": [
        "WARNING:shapely.geos:Self-intersection at or near point -106.37225480769231 48.451404807692306\n"
       ]
      },
      {
       "output_type": "stream",
       "stream": "stderr",
       "text": [
        "WARNING:shapely.geos:Self-intersection at or near point 225.48500000000001 219.12337500000001\n"
       ]
      },
      {
       "output_type": "stream",
       "stream": "stderr",
       "text": [
        "WARNING:shapely.geos:Self-intersection at or near point -72.190034910937101 33.369117210222868\n"
       ]
      },
      {
       "output_type": "stream",
       "stream": "stderr",
       "text": [
        "WARNING:shapely.geos:Self-intersection at or near point 72.750369083447325 166.89258413132694\n"
       ]
      },
      {
       "output_type": "stream",
       "stream": "stderr",
       "text": [
        "WARNING:shapely.geos:Self-intersection at or near point -53.902958180227472 39.40179081364829\n"
       ]
      },
      {
       "output_type": "stream",
       "stream": "stderr",
       "text": [
        "WARNING:shapely.geos:Self-intersection at or near point -46.019219761690643 42.059378821942445\n"
       ]
      },
      {
       "output_type": "stream",
       "stream": "stderr",
       "text": [
        "WARNING:shapely.geos:Self-intersection at or near point -46.7898 21.867100000000001\n"
       ]
      },
      {
       "output_type": "stream",
       "stream": "stderr",
       "text": [
        "WARNING:shapely.geos:Self-intersection at or near point 3.5876574423140881 59.247888293827359\n"
       ]
      },
      {
       "output_type": "stream",
       "stream": "stderr",
       "text": [
        "WARNING:shapely.geos:Self-intersection at or near point -65.259997553501819 4.9296665984360057\n"
       ]
      },
      {
       "output_type": "stream",
       "stream": "stderr",
       "text": [
        "WARNING:shapely.geos:Self-intersection at or near point -67.548688861292817 8.870841025612604\n"
       ]
      },
      {
       "output_type": "stream",
       "stream": "stderr",
       "text": [
        "WARNING:shapely.geos:Self-intersection at or near point -109.18931428571429 -45.493588571428575\n"
       ]
      },
      {
       "output_type": "stream",
       "stream": "stderr",
       "text": [
        "WARNING:shapely.geos:Self-intersection at or near point -88.621972603670969 -20.852532426920458\n"
       ]
      },
      {
       "output_type": "stream",
       "stream": "stderr",
       "text": [
        "WARNING:shapely.geos:Self-intersection at or near point -89.915879808492917 -18.226178413821817\n"
       ]
      },
      {
       "output_type": "stream",
       "stream": "stderr",
       "text": [
        "WARNING:shapely.geos:Self-intersection at or near point -99.785478451912596 -41.868521093046404\n"
       ]
      },
      {
       "output_type": "stream",
       "stream": "stderr",
       "text": [
        "WARNING:shapely.geos:Self-intersection at or near point -111.72908465608465 -40.43268465608466\n"
       ]
      },
      {
       "output_type": "stream",
       "stream": "stderr",
       "text": [
        "WARNING:shapely.geos:Self-intersection at or near point -65.230909133630561 -10.631099136442142\n"
       ]
      },
      {
       "output_type": "stream",
       "stream": "stderr",
       "text": [
        "WARNING:shapely.geos:Self-intersection at or near point -42.062165348101267 100.21391772151898\n"
       ]
      },
      {
       "output_type": "stream",
       "stream": "stderr",
       "text": [
        "WARNING:shapely.geos:Self-intersection at or near point -10.686154581410683 117.12132399472644\n"
       ]
      },
      {
       "output_type": "stream",
       "stream": "stderr",
       "text": [
        "WARNING:shapely.geos:Self-intersection at or near point 191.239 160.523\n"
       ]
      },
      {
       "output_type": "stream",
       "stream": "stderr",
       "text": [
        "WARNING:shapely.geos:Self-intersection at or near point -53.705729850746266 18.513611442786068\n"
       ]
      },
      {
       "output_type": "stream",
       "stream": "stderr",
       "text": [
        "WARNING:shapely.geos:Self-intersection at or near point -65.369200000000006 4.4036600000000004\n"
       ]
      },
      {
       "output_type": "stream",
       "stream": "stderr",
       "text": [
        "WARNING:shapely.geos:Self-intersection at or near point -32.726199999999999 103.83499999999999\n"
       ]
      },
      {
       "output_type": "stream",
       "stream": "stderr",
       "text": [
        "WARNING:shapely.geos:Self-intersection at or near point 234.46877777777777 195.12488888888888\n"
       ]
      },
      {
       "output_type": "stream",
       "stream": "stderr",
       "text": [
        "WARNING:shapely.geos:Self-intersection at or near point -58.153022361555664 65.86587746305959\n"
       ]
      },
      {
       "output_type": "stream",
       "stream": "stderr",
       "text": [
        "WARNING:shapely.geos:Self-intersection at or near point -34.115400000000001 100.125\n"
       ]
      },
      {
       "output_type": "stream",
       "stream": "stderr",
       "text": [
        "WARNING:shapely.geos:Self-intersection at or near point -50.011800000000001 96.8095\n"
       ]
      },
      {
       "output_type": "stream",
       "stream": "stderr",
       "text": [
        "WARNING:shapely.geos:Self-intersection at or near point -47.241799999999998 96.466300000000004\n"
       ]
      },
      {
       "output_type": "stream",
       "stream": "stderr",
       "text": [
        "WARNING:shapely.geos:Self-intersection at or near point 293.66932848232852 227.56880249480247\n"
       ]
      },
      {
       "output_type": "stream",
       "stream": "stderr",
       "text": [
        "WARNING:shapely.geos:Self-intersection at or near point 282.81758620689652 224.58427586206898\n"
       ]
      },
      {
       "output_type": "stream",
       "stream": "stderr",
       "text": [
        "WARNING:shapely.geos:Self-intersection at or near point 260.74700000000001 219.05500000000001\n"
       ]
      },
      {
       "output_type": "stream",
       "stream": "stderr",
       "text": [
        "WARNING:shapely.geos:Self-intersection at or near point 138.10400000000001 222.76900000000001\n"
       ]
      },
      {
       "output_type": "stream",
       "stream": "stderr",
       "text": [
        "WARNING:shapely.geos:Self-intersection at or near point 251.29757219251337 217.09700534759358\n"
       ]
      },
      {
       "output_type": "stream",
       "stream": "stderr",
       "text": [
        "WARNING:shapely.geos:Self-intersection at or near point 255.55000000000001 207.614\n"
       ]
      },
      {
       "output_type": "stream",
       "stream": "stderr",
       "text": [
        "WARNING:shapely.geos:Self-intersection at or near point 271.19599999999997 200.21299999999999\n"
       ]
      },
      {
       "output_type": "stream",
       "stream": "stderr",
       "text": [
        "WARNING:shapely.geos:Self-intersection at or near point -26.894692141578005 37.58204593911303\n"
       ]
      },
      {
       "output_type": "stream",
       "stream": "stderr",
       "text": [
        "WARNING:shapely.geos:Self-intersection at or near point -41.664092285489374 31.070250144319076\n"
       ]
      },
      {
       "output_type": "stream",
       "stream": "stderr",
       "text": [
        "WARNING:shapely.geos:Self-intersection at or near point 39.117307989288108 59.743980071412629\n"
       ]
      },
      {
       "output_type": "stream",
       "stream": "stderr",
       "text": [
        "WARNING:shapely.geos:Self-intersection at or near point -61.502000000000002 9.4604499999999998\n"
       ]
      },
      {
       "output_type": "stream",
       "stream": "stderr",
       "text": [
        "WARNING:shapely.geos:Self-intersection at or near point -93.946492566405496 -33.850756621440858\n"
       ]
      },
      {
       "output_type": "stream",
       "stream": "stderr",
       "text": [
        "WARNING:shapely.geos:Self-intersection at or near point -92.684381818181819 -32.974863636363636\n"
       ]
      },
      {
       "output_type": "stream",
       "stream": "stderr",
       "text": [
        "WARNING:shapely.geos:Self-intersection at or near point -90.413799999999995 -19.484300000000001\n"
       ]
      },
      {
       "output_type": "stream",
       "stream": "stderr",
       "text": [
        "WARNING:shapely.geos:Self-intersection at or near point -61.198718486747815 -19.500203685798017\n"
       ]
      },
      {
       "output_type": "stream",
       "stream": "stderr",
       "text": [
        "WARNING:shapely.geos:Self-intersection at or near point -61.279576740435942 -19.376735698398576\n"
       ]
      },
      {
       "output_type": "stream",
       "stream": "stderr",
       "text": [
        "WARNING:shapely.geos:Self-intersection at or near point -63.93480689655172 -16.207337931034481\n"
       ]
      },
      {
       "output_type": "stream",
       "stream": "stderr",
       "text": [
        "WARNING:shapely.geos:Self-intersection at or near point -98.251393630573247 -41.086664076433124\n"
       ]
      },
      {
       "output_type": "stream",
       "stream": "stderr",
       "text": [
        "WARNING:shapely.geos:Self-intersection at or near point -77.476645580533159 -4.760411364679574\n"
       ]
      },
      {
       "output_type": "stream",
       "stream": "stderr",
       "text": [
        "WARNING:shapely.geos:Self-intersection at or near point -45.499502224173249 98.726944220076092\n"
       ]
      },
      {
       "output_type": "stream",
       "stream": "stderr",
       "text": [
        "WARNING:shapely.geos:Self-intersection at or near point -39.378468885191346 101.04042262895175\n"
       ]
      },
      {
       "output_type": "stream",
       "stream": "stderr",
       "text": [
        "WARNING:shapely.geos:Self-intersection at or near point -49.022281250000006 101.02800000000001\n"
       ]
      },
      {
       "output_type": "stream",
       "stream": "stderr",
       "text": [
        "WARNING:shapely.geos:Self-intersection at or near point -40.009630875576029 102.90448233486943\n"
       ]
      },
      {
       "output_type": "stream",
       "stream": "stderr",
       "text": [
        "WARNING:shapely.geos:Self-intersection at or near point -30.115891111111114 103.99424444444445\n"
       ]
      },
      {
       "output_type": "stream",
       "stream": "stderr",
       "text": [
        "WARNING:shapely.geos:Self-intersection at or near point 16.093357627118642 132.01807344632769\n"
       ]
      },
      {
       "output_type": "stream",
       "stream": "stderr",
       "text": [
        "WARNING:shapely.geos:Self-intersection at or near point -87.373572953216382 39.151474512670568\n"
       ]
      },
      {
       "output_type": "stream",
       "stream": "stderr",
       "text": [
        "WARNING:shapely.geos:Self-intersection at or near point -48.868099999999998 36.740499999999997\n"
       ]
      },
      {
       "output_type": "stream",
       "stream": "stderr",
       "text": [
        "WARNING:shapely.geos:Self-intersection at or near point -73.849386582809217 78.349712368972746\n"
       ]
      },
      {
       "output_type": "stream",
       "stream": "stderr",
       "text": [
        "WARNING:shapely.geos:Self-intersection at or near point -49.410194704610944 96.293377377521622\n"
       ]
      },
      {
       "output_type": "stream",
       "stream": "stderr",
       "text": [
        "WARNING:shapely.geos:Self-intersection at or near point -52.09777349475592 21.890780460960766\n"
       ]
      },
      {
       "output_type": "stream",
       "stream": "stderr",
       "text": [
        "WARNING:shapely.geos:Self-intersection at or near point -54.404063069940165 23.968905652981228\n"
       ]
      },
      {
       "output_type": "stream",
       "stream": "stderr",
       "text": [
        "WARNING:shapely.geos:Self-intersection at or near point -65.569299999999998 3.7684299999999999\n"
       ]
      },
      {
       "output_type": "stream",
       "stream": "stderr",
       "text": [
        "WARNING:shapely.geos:Self-intersection at or near point -77.81271302211303 -5.3791051597051602\n"
       ]
      },
      {
       "output_type": "stream",
       "stream": "stderr",
       "text": [
        "WARNING:shapely.geos:Self-intersection at or near point -97.6126 58.609699999999997\n"
       ]
      },
      {
       "output_type": "stream",
       "stream": "stderr",
       "text": [
        "WARNING:shapely.geos:Self-intersection at or near point -78.196172353480506 -5.3455952352069964\n"
       ]
      },
      {
       "output_type": "stream",
       "stream": "stderr",
       "text": [
        "WARNING:shapely.geos:Self-intersection at or near point -49.744100000000003 96.985200000000006\n"
       ]
      },
      {
       "output_type": "stream",
       "stream": "stderr",
       "text": [
        "WARNING:shapely.geos:Self-intersection at or near point 146.965 261.24599999999998\n"
       ]
      },
      {
       "output_type": "stream",
       "stream": "stderr",
       "text": [
        "WARNING:shapely.geos:Self-intersection at or near point 144.90799999999999 260.47000000000003\n"
       ]
      },
      {
       "output_type": "stream",
       "stream": "stderr",
       "text": [
        "WARNING:shapely.geos:Self-intersection at or near point 276.43773640167359 255.85978242677825\n"
       ]
      },
      {
       "output_type": "stream",
       "stream": "stderr",
       "text": [
        "WARNING:shapely.geos:Self-intersection at or near point 143.001 255.495\n"
       ]
      },
      {
       "output_type": "stream",
       "stream": "stderr",
       "text": [
        "WARNING:shapely.geos:Self-intersection at or near point 138.875 223.673\n"
       ]
      },
      {
       "output_type": "stream",
       "stream": "stderr",
       "text": [
        "WARNING:shapely.geos:Self-intersection at or near point 140.22209090909092 223.09236363636364\n"
       ]
      },
      {
       "output_type": "stream",
       "stream": "stderr",
       "text": [
        "WARNING:shapely.geos:Self-intersection at or near point 142.709 222.767\n"
       ]
      },
      {
       "output_type": "stream",
       "stream": "stderr",
       "text": [
        "WARNING:shapely.geos:Self-intersection at or near point 253.27199999999999 217.9653076923077\n"
       ]
      },
      {
       "output_type": "stream",
       "stream": "stderr",
       "text": [
        "WARNING:shapely.geos:Self-intersection at or near point 248.821 216.06522222222222\n"
       ]
      },
      {
       "output_type": "stream",
       "stream": "stderr",
       "text": [
        "WARNING:shapely.geos:Self-intersection at or near point 266.48533333333336 214.56777777777779\n"
       ]
      },
      {
       "output_type": "stream",
       "stream": "stderr",
       "text": [
        "WARNING:shapely.geos:Self-intersection at or near point 254.96283870967741 212.80600000000001\n"
       ]
      },
      {
       "output_type": "stream",
       "stream": "stderr",
       "text": [
        "WARNING:shapely.geos:Self-intersection at or near point 282.52452173913042 202.83821739130434\n"
       ]
      },
      {
       "output_type": "stream",
       "stream": "stderr",
       "text": [
        "WARNING:shapely.geos:Self-intersection at or near point -8.5896699999999999 43.278199999999998\n"
       ]
      },
      {
       "output_type": "stream",
       "stream": "stderr",
       "text": [
        "WARNING:shapely.geos:Self-intersection at or near point -62.184699999999999 -16.414300000000001\n"
       ]
      },
      {
       "output_type": "stream",
       "stream": "stderr",
       "text": [
        "WARNING:shapely.geos:Self-intersection at or near point -65.332899999999995 -10.2811\n"
       ]
      },
      {
       "output_type": "stream",
       "stream": "stderr",
       "text": [
        "WARNING:shapely.geos:Self-intersection at or near point -108.93241741357234 -40.268170678617153\n"
       ]
      },
      {
       "output_type": "stream",
       "stream": "stderr",
       "text": [
        "WARNING:shapely.geos:Self-intersection at or near point -36.891675414012738 100.90714840764332\n"
       ]
      },
      {
       "output_type": "stream",
       "stream": "stderr",
       "text": [
        "WARNING:shapely.geos:Self-intersection at or near point 208.47900000000001 176.56200000000001\n"
       ]
      },
      {
       "output_type": "stream",
       "stream": "stderr",
       "text": [
        "WARNING:shapely.geos:Self-intersection at or near point 17.107850827292349 59.106865458469372\n"
       ]
      },
      {
       "output_type": "stream",
       "stream": "stderr",
       "text": [
        "WARNING:shapely.geos:Self-intersection at or near point -108.09900273972603 -43.572727945205479\n"
       ]
      },
      {
       "output_type": "stream",
       "stream": "stderr",
       "text": [
        "WARNING:shapely.geos:Self-intersection at or near point -108.622 -38.941000000000003\n"
       ]
      },
      {
       "output_type": "stream",
       "stream": "stderr",
       "text": [
        "WARNING:shapely.geos:Self-intersection at or near point -77.54214398208984 -4.745076323550883\n"
       ]
      },
      {
       "output_type": "stream",
       "stream": "stderr",
       "text": [
        "WARNING:shapely.geos:Self-intersection at or near point -44.141599999999997 97.3262\n"
       ]
      },
      {
       "output_type": "stream",
       "stream": "stderr",
       "text": [
        "WARNING:shapely.geos:Self-intersection at or near point 18.12475643402399 127.69643184296619\n"
       ]
      },
      {
       "output_type": "stream",
       "stream": "stderr",
       "text": [
        "WARNING:shapely.geos:Self-intersection at or near point -47.270268796325297 96.815470278734736\n"
       ]
      },
      {
       "output_type": "stream",
       "stream": "stderr",
       "text": [
        "WARNING:shapely.geos:Self-intersection at or near point -78.01035426460713 -5.2942748623237108\n"
       ]
      },
      {
       "output_type": "stream",
       "stream": "stderr",
       "text": [
        "WARNING:shapely.geos:Self-intersection at or near point -35.852257373134329 105.76134029850746\n"
       ]
      },
      {
       "output_type": "stream",
       "stream": "stderr",
       "text": [
        "WARNING:shapely.geos:Self-intersection at or near point 249.51763803680981 316.26579141104293\n"
       ]
      },
      {
       "output_type": "stream",
       "stream": "stderr",
       "text": [
        "WARNING:shapely.geos:Self-intersection at or near point 169.20400000000001 303.40300000000002\n"
       ]
      },
      {
       "output_type": "stream",
       "stream": "stderr",
       "text": [
        "WARNING:shapely.geos:Self-intersection at or near point 149.964 263.26299999999998\n"
       ]
      },
      {
       "output_type": "stream",
       "stream": "stderr",
       "text": [
        "WARNING:shapely.geos:Self-intersection at or near point 147.13062857142856 261.11422285714286\n"
       ]
      },
      {
       "output_type": "stream",
       "stream": "stderr",
       "text": [
        "WARNING:shapely.geos:Self-intersection at or near point 145.51861992619928 259.95373431734316\n"
       ]
      },
      {
       "output_type": "stream",
       "stream": "stderr",
       "text": [
        "WARNING:shapely.geos:Self-intersection at or near point 249.10599999999999 216.05242105263159\n"
       ]
      },
      {
       "output_type": "stream",
       "stream": "stderr",
       "text": [
        "WARNING:shapely.geos:Self-intersection at or near point 17.839130446080553 64.182625595495878\n"
       ]
      },
      {
       "output_type": "stream",
       "stream": "stderr",
       "text": [
        "WARNING:shapely.geos:Self-intersection at or near point -78.084156279557746 -5.3086037256072949\n"
       ]
      },
      {
       "output_type": "stream",
       "stream": "stderr",
       "text": [
        "WARNING:shapely.geos:Self-intersection at or near point -80.936657045143633 -5.9515000000000002\n"
       ]
      },
      {
       "output_type": "stream",
       "stream": "stderr",
       "text": [
        "WARNING:shapely.geos:Self-intersection at or near point -81.558000000000007 -5.5919699999999999\n"
       ]
      },
      {
       "output_type": "stream",
       "stream": "stderr",
       "text": [
        "WARNING:shapely.geos:Self-intersection at or near point -110.24232681564246 -38.561650977653635\n"
       ]
      },
      {
       "output_type": "stream",
       "stream": "stderr",
       "text": [
        "WARNING:shapely.geos:Self-intersection at or near point -35.581433333333337 105.08933333333333\n"
       ]
      },
      {
       "output_type": "stream",
       "stream": "stderr",
       "text": [
        "WARNING:shapely.geos:Self-intersection at or near point -81.639760325476985 64.482855892255898\n"
       ]
      },
      {
       "output_type": "stream",
       "stream": "stderr",
       "text": [
        "WARNING:shapely.geos:Self-intersection at or near point -99.035456040136779 -41.623895111833619\n"
       ]
      },
      {
       "output_type": "stream",
       "stream": "stderr",
       "text": [
        "WARNING:shapely.geos:Self-intersection at or near point -45.405000000000001 96.332099999999997\n"
       ]
      },
      {
       "output_type": "stream",
       "stream": "stderr",
       "text": [
        "WARNING:shapely.geos:Self-intersection at or near point 0.030318999999999999 118.318\n"
       ]
      },
      {
       "output_type": "stream",
       "stream": "stderr",
       "text": [
        "WARNING:shapely.geos:Self-intersection at or near point 110.45184210526314 86.263210526315788\n"
       ]
      },
      {
       "output_type": "stream",
       "stream": "stderr",
       "text": [
        "WARNING:shapely.geos:Self-intersection at or near point -48.352652200008642 97.04743487197203\n"
       ]
      },
      {
       "output_type": "stream",
       "stream": "stderr",
       "text": [
        "WARNING:shapely.geos:Self-intersection at or near point 251.43199999999999 388.18599999999998\n"
       ]
      },
      {
       "output_type": "stream",
       "stream": "stderr",
       "text": [
        "WARNING:shapely.geos:Self-intersection at or near point 227.3725 384.43049999999999\n"
       ]
      },
      {
       "output_type": "stream",
       "stream": "stderr",
       "text": [
        "WARNING:shapely.geos:Self-intersection at or near point 151.57300000000001 264.50200000000001\n"
       ]
      },
      {
       "output_type": "stream",
       "stream": "stderr",
       "text": [
        "WARNING:shapely.geos:Self-intersection at or near point 149.0854347826087 261.52999999999997\n"
       ]
      },
      {
       "output_type": "stream",
       "stream": "stderr",
       "text": [
        "WARNING:shapely.geos:Self-intersection at or near point 217.40600000000001 240.78100000000001\n"
       ]
      },
      {
       "output_type": "stream",
       "stream": "stderr",
       "text": [
        "WARNING:shapely.geos:Self-intersection at or near point 141.29314000000002 222.88927999999999\n"
       ]
      },
      {
       "output_type": "stream",
       "stream": "stderr",
       "text": [
        "WARNING:shapely.geos:Self-intersection at or near point 288.01100000000002 199.92699999999999\n"
       ]
      },
      {
       "output_type": "stream",
       "stream": "stderr",
       "text": [
        "WARNING:shapely.geos:Self-intersection at or near point -24.517826631149244 97.543229834636406\n"
       ]
      },
      {
       "output_type": "stream",
       "stream": "stderr",
       "text": [
        "WARNING:shapely.geos:Self-intersection at or near point -48.464094325153376 101.31675920245398\n"
       ]
      },
      {
       "output_type": "stream",
       "stream": "stderr",
       "text": [
        "WARNING:shapely.geos:Self-intersection at or near point -77.283376227678559 34.251877845982143\n"
       ]
      },
      {
       "output_type": "stream",
       "stream": "stderr",
       "text": [
        "WARNING:shapely.geos:Self-intersection at or near point -47.241274692508384 96.710094875139774\n"
       ]
      },
      {
       "output_type": "stream",
       "stream": "stderr",
       "text": [
        "WARNING:shapely.geos:Self-intersection at or near point -49.560188214904677 98.120880490220358\n"
       ]
      },
      {
       "output_type": "stream",
       "stream": "stderr",
       "text": [
        "WARNING:shapely.geos:Self-intersection at or near point 65.722099999999998 172.774\n"
       ]
      },
      {
       "output_type": "stream",
       "stream": "stderr",
       "text": [
        "WARNING:shapely.geos:Self-intersection at or near point 74.763239042509284 164.58757965332234\n"
       ]
      },
      {
       "output_type": "stream",
       "stream": "stderr",
       "text": [
        "WARNING:shapely.geos:Self-intersection at or near point 246.61931034482757 300.99433620689655\n"
       ]
      },
      {
       "output_type": "stream",
       "stream": "stderr",
       "text": [
        "WARNING:shapely.geos:Self-intersection at or near point 165.34284507042253 296.0534366197183\n"
       ]
      },
      {
       "output_type": "stream",
       "stream": "stderr",
       "text": [
        "WARNING:shapely.geos:Self-intersection at or near point 151.88800000000001 264.83199999999999\n"
       ]
      },
      {
       "output_type": "stream",
       "stream": "stderr",
       "text": [
        "WARNING:shapely.geos:Self-intersection at or near point 144.8137142857143 258.53557142857142\n"
       ]
      },
      {
       "output_type": "stream",
       "stream": "stderr",
       "text": [
        "WARNING:shapely.geos:Self-intersection at or near point 138.91541825095058 223.87224334600762\n"
       ]
      },
      {
       "output_type": "stream",
       "stream": "stderr",
       "text": [
        "WARNING:shapely.geos:Self-intersection at or near point -43.432565380720007 97.844305929472426\n"
       ]
      },
      {
       "output_type": "stream",
       "stream": "stderr",
       "text": [
        "WARNING:shapely.geos:Self-intersection at or near point 196.90100000000001 163.858\n"
       ]
      },
      {
       "output_type": "stream",
       "stream": "stderr",
       "text": [
        "WARNING:shapely.geos:Self-intersection at or near point -81.389334997155856 -5.6464451094994255\n"
       ]
      },
      {
       "output_type": "stream",
       "stream": "stderr",
       "text": [
        "WARNING:shapely.geos:Self-intersection at or near point 150.64099999999999 265.19999999999999\n"
       ]
      },
      {
       "output_type": "stream",
       "stream": "stderr",
       "text": [
        "WARNING:shapely.geos:Self-intersection at or near point 150.32226277372266 264.18394160583944\n"
       ]
      },
      {
       "output_type": "stream",
       "stream": "stderr",
       "text": [
        "WARNING:shapely.geos:Self-intersection at or near point 142.89699999999999 255.02699999999999\n"
       ]
      },
      {
       "output_type": "stream",
       "stream": "stderr",
       "text": [
        "WARNING:shapely.geos:Self-intersection at or near point -79.197900000000004 -5.85677\n"
       ]
      },
      {
       "output_type": "stream",
       "stream": "stderr",
       "text": [
        "WARNING:shapely.geos:Self-intersection at or near point 251.58600000000001 388.29300000000001\n"
       ]
      },
      {
       "output_type": "stream",
       "stream": "stderr",
       "text": [
        "WARNING:shapely.geos:Self-intersection at or near point 251.33447169811319 388.10133962264149\n"
       ]
      },
      {
       "output_type": "stream",
       "stream": "stderr",
       "text": [
        "WARNING:shapely.geos:Self-intersection at or near point 288.19999999999999 199.81\n"
       ]
      },
      {
       "output_type": "stream",
       "stream": "stderr",
       "text": [
        "WARNING:shapely.geos:Self-intersection at or near point -34.131994835007177 102.17131133428981\n"
       ]
      },
      {
       "output_type": "stream",
       "stream": "stderr",
       "text": [
        "WARNING:shapely.geos:Self-intersection at or near point -49.811862041498671 96.382630878159105\n"
       ]
      },
      {
       "output_type": "stream",
       "stream": "stderr",
       "text": [
        "WARNING:shapely.geos:Self-intersection at or near point 250.90899999999999 387.9651818181818\n"
       ]
      },
      {
       "ename": "AttributeError",
       "evalue": "nullpoly instance has no attribute 'intersects'",
       "output_type": "pyerr",
       "traceback": [
        "\u001b[1;31m---------------------------------------------------------------------------\u001b[0m\n\u001b[1;31mAttributeError\u001b[0m                            Traceback (most recent call last)",
        "\u001b[1;32m<ipython-input-12-4d511474cfe3>\u001b[0m in \u001b[0;36m<module>\u001b[1;34m()\u001b[0m\n\u001b[1;32m----> 1\u001b[1;33m \u001b[0mSVGCompress\u001b[0m\u001b[1;33m.\u001b[0m\u001b[0mcompress_by_method\u001b[0m\u001b[1;33m(\u001b[0m\u001b[1;34m'test_all.svg'\u001b[0m\u001b[1;33m,\u001b[0m\u001b[1;34m'merge'\u001b[0m\u001b[1;33m,\u001b[0m\u001b[0moutputfile\u001b[0m\u001b[1;33m=\u001b[0m\u001b[1;34m'test_all_compress.svg'\u001b[0m\u001b[1;33m)\u001b[0m\u001b[1;33m\u001b[0m\u001b[0m\n\u001b[0m",
        "\u001b[1;32m/home/nsoontie/anaconda/lib/python2.7/site-packages/SVGCompress/svg_compression.pyc\u001b[0m in \u001b[0;36mcompress_by_method\u001b[1;34m(filename, compression_type, curve_fidelity, outputfile, pre_select, selection_tuple, optimize, optimize_options, **kwargs)\u001b[0m\n\u001b[0;32m    377\u001b[0m                            'simplify': test_compression.compress_by_simplification}\n\u001b[0;32m    378\u001b[0m     \u001b[0mcompress_by_x\u001b[0m \u001b[1;33m=\u001b[0m \u001b[0mcompression_options\u001b[0m\u001b[1;33m[\u001b[0m\u001b[0mcompression_type\u001b[0m\u001b[1;33m]\u001b[0m\u001b[1;33m\u001b[0m\u001b[0m\n\u001b[1;32m--> 379\u001b[1;33m     \u001b[0mcompress_by_x\u001b[0m\u001b[1;33m(\u001b[0m\u001b[0msearch_within\u001b[0m \u001b[1;33m=\u001b[0m \u001b[0mpre_selection\u001b[0m\u001b[1;33m,\u001b[0m \u001b[1;33m**\u001b[0m\u001b[0mkwargs\u001b[0m\u001b[1;33m)\u001b[0m\u001b[1;33m\u001b[0m\u001b[0m\n\u001b[0m\u001b[0;32m    380\u001b[0m     \u001b[0minputfile\u001b[0m \u001b[1;33m=\u001b[0m \u001b[0mtest_compression\u001b[0m\u001b[1;33m.\u001b[0m\u001b[0mwrite\u001b[0m\u001b[1;33m(\u001b[0m\u001b[0moutputfile\u001b[0m\u001b[1;33m)\u001b[0m\u001b[1;33m\u001b[0m\u001b[0m\n\u001b[0;32m    381\u001b[0m     \u001b[1;32mif\u001b[0m \u001b[0moptimize\u001b[0m\u001b[1;33m:\u001b[0m\u001b[1;33m\u001b[0m\u001b[0m\n",
        "\u001b[1;32m/home/nsoontie/anaconda/lib/python2.7/site-packages/SVGCompress/svg_compression.pyc\u001b[0m in \u001b[0;36mcompress_by_merging\u001b[1;34m(self, search_within, epsilon, nterminate, group_by_color, bufferDistance, operation_key)\u001b[0m\n\u001b[0;32m    255\u001b[0m                                                                                                   \u001b[0mlist\u001b[0m\u001b[1;33m(\u001b[0m\u001b[1;33m[\u001b[0m\u001b[0mp_index\u001b[0m\u001b[1;33m]\u001b[0m\u001b[1;33m)\u001b[0m\u001b[1;33m,\u001b[0m \u001b[0msearch_index\u001b[0m\u001b[1;33m,\u001b[0m\u001b[1;33m\u001b[0m\u001b[0m\n\u001b[0;32m    256\u001b[0m                                                                                                   \u001b[0mnterminate\u001b[0m \u001b[1;33m=\u001b[0m \u001b[0mnterminate\u001b[0m\u001b[1;33m,\u001b[0m\u001b[1;33m\u001b[0m\u001b[0m\n\u001b[1;32m--> 257\u001b[1;33m                                                                                                   bufferDistance = bufferDistance)\n\u001b[0m\u001b[0;32m    258\u001b[0m                 \u001b[1;32mfor\u001b[0m \u001b[0md_index\u001b[0m \u001b[1;32min\u001b[0m \u001b[0mintersect_index\u001b[0m\u001b[1;33m[\u001b[0m\u001b[1;36m1\u001b[0m\u001b[1;33m:\u001b[0m\u001b[1;33m]\u001b[0m\u001b[1;33m:\u001b[0m\u001b[1;33m\u001b[0m\u001b[0m\n\u001b[0;32m    259\u001b[0m                     \u001b[0mself\u001b[0m\u001b[1;33m.\u001b[0m\u001b[0m_delete_paths\u001b[0m\u001b[1;33m(\u001b[0m\u001b[1;33m(\u001b[0m\u001b[0md_index\u001b[0m\u001b[1;33m,\u001b[0m\u001b[1;33m)\u001b[0m\u001b[1;33m)\u001b[0m\u001b[1;33m\u001b[0m\u001b[0m\n",
        "\u001b[1;32m/home/nsoontie/anaconda/lib/python2.7/site-packages/SVGCompress/svg_compression.pyc\u001b[0m in \u001b[0;36mrecursive_intersect\u001b[1;34m(self, poly, pArray, intersectList, intersectIndex, search_index, nterminate, bufferDistance)\u001b[0m\n\u001b[0;32m    185\u001b[0m         \u001b[1;32mif\u001b[0m \u001b[0mbufferDistance\u001b[0m \u001b[1;32mis\u001b[0m \u001b[1;32mnot\u001b[0m \u001b[0mNone\u001b[0m\u001b[1;33m:\u001b[0m\u001b[1;33m\u001b[0m\u001b[0m\n\u001b[0;32m    186\u001b[0m             \u001b[0mpoly\u001b[0m\u001b[1;33m.\u001b[0m\u001b[0mbuffer\u001b[0m\u001b[1;33m(\u001b[0m\u001b[0mbufferDistance\u001b[0m\u001b[1;33m)\u001b[0m\u001b[1;33m\u001b[0m\u001b[0m\n\u001b[1;32m--> 187\u001b[1;33m         \u001b[0mchilderen\u001b[0m\u001b[1;33m,\u001b[0m \u001b[0mchilderen_index\u001b[0m \u001b[1;33m=\u001b[0m \u001b[0mself\u001b[0m\u001b[1;33m.\u001b[0m\u001b[0moverlap_list\u001b[0m\u001b[1;33m(\u001b[0m\u001b[0mpoly\u001b[0m\u001b[1;33m,\u001b[0m \u001b[0mpArray\u001b[0m\u001b[1;33m,\u001b[0m \u001b[0msearch_index\u001b[0m\u001b[1;33m)\u001b[0m\u001b[1;33m\u001b[0m\u001b[0m\n\u001b[0m\u001b[0;32m    188\u001b[0m         \u001b[1;32mfor\u001b[0m \u001b[0mchild\u001b[0m\u001b[1;33m,\u001b[0m \u001b[0mindex\u001b[0m \u001b[1;32min\u001b[0m \u001b[0mzip\u001b[0m\u001b[1;33m(\u001b[0m\u001b[0mchilderen\u001b[0m\u001b[1;33m,\u001b[0m \u001b[0mchilderen_index\u001b[0m\u001b[1;33m)\u001b[0m\u001b[1;33m:\u001b[0m\u001b[1;33m\u001b[0m\u001b[0m\n\u001b[0;32m    189\u001b[0m             \u001b[1;32mtry\u001b[0m\u001b[1;33m:\u001b[0m \u001b[1;31m# Child may already have been removed from another node\u001b[0m\u001b[1;33m\u001b[0m\u001b[0m\n",
        "\u001b[1;32m/home/nsoontie/anaconda/lib/python2.7/site-packages/SVGCompress/svg_compression.pyc\u001b[0m in \u001b[0;36moverlap_list\u001b[1;34m(self, poly, polyarray, search_index)\u001b[0m\n\u001b[0;32m    171\u001b[0m         \u001b[0mindexList\u001b[0m \u001b[1;33m=\u001b[0m \u001b[0mlist\u001b[0m\u001b[1;33m(\u001b[0m\u001b[1;33m)\u001b[0m\u001b[1;33m\u001b[0m\u001b[0m\n\u001b[0;32m    172\u001b[0m         \u001b[1;32mfor\u001b[0m \u001b[0ma\u001b[0m\u001b[1;33m,\u001b[0m \u001b[0mi\u001b[0m \u001b[1;32min\u001b[0m \u001b[0mzip\u001b[0m\u001b[1;33m(\u001b[0m\u001b[0mpolyarray\u001b[0m\u001b[1;33m,\u001b[0m \u001b[0msearch_index\u001b[0m\u001b[1;33m)\u001b[0m\u001b[1;33m:\u001b[0m\u001b[1;33m\u001b[0m\u001b[0m\n\u001b[1;32m--> 173\u001b[1;33m             \u001b[1;32mif\u001b[0m \u001b[0ma\u001b[0m\u001b[1;33m.\u001b[0m\u001b[0moverlaps\u001b[0m\u001b[1;33m(\u001b[0m\u001b[0mpoly\u001b[0m\u001b[1;33m)\u001b[0m\u001b[1;33m:\u001b[0m\u001b[1;33m\u001b[0m\u001b[0m\n\u001b[0m\u001b[0;32m    174\u001b[0m                 \u001b[0moverlapList\u001b[0m\u001b[1;33m.\u001b[0m\u001b[0mappend\u001b[0m\u001b[1;33m(\u001b[0m\u001b[0ma\u001b[0m\u001b[1;33m)\u001b[0m\u001b[1;33m\u001b[0m\u001b[0m\n\u001b[0;32m    175\u001b[0m                 \u001b[0mindexList\u001b[0m\u001b[1;33m.\u001b[0m\u001b[0mappend\u001b[0m\u001b[1;33m(\u001b[0m\u001b[0mi\u001b[0m\u001b[1;33m)\u001b[0m\u001b[1;33m\u001b[0m\u001b[0m\n",
        "\u001b[1;32m/home/nsoontie/anaconda/lib/python2.7/site-packages/SVGCompress/vector_utils.pyc\u001b[0m in \u001b[0;36moverlaps\u001b[1;34m(self, other)\u001b[0m\n\u001b[0;32m     81\u001b[0m         \u001b[1;33m(\u001b[0m\u001b[0mhttp\u001b[0m\u001b[1;33m:\u001b[0m\u001b[1;33m//\u001b[0m\u001b[0mtoblerity\u001b[0m\u001b[1;33m.\u001b[0m\u001b[0morg\u001b[0m\u001b[1;33m/\u001b[0m\u001b[0mshapely\u001b[0m\u001b[1;33m/\u001b[0m\u001b[0mmanual\u001b[0m\u001b[1;33m.\u001b[0m\u001b[0mhtml\u001b[0m\u001b[1;33m)\u001b[0m \u001b[1;32mfor\u001b[0m \u001b[0mmore\u001b[0m \u001b[0mdetails\u001b[0m\u001b[1;33m.\u001b[0m\u001b[1;33m\u001b[0m\u001b[0m\n\u001b[0;32m     82\u001b[0m         '''\n\u001b[1;32m---> 83\u001b[1;33m         \u001b[1;32mreturn\u001b[0m \u001b[0mself\u001b[0m\u001b[1;33m.\u001b[0m\u001b[0mpoly\u001b[0m\u001b[1;33m.\u001b[0m\u001b[0mintersects\u001b[0m\u001b[1;33m(\u001b[0m\u001b[0mother\u001b[0m\u001b[1;33m.\u001b[0m\u001b[0mpoly\u001b[0m\u001b[1;33m)\u001b[0m \u001b[1;32mand\u001b[0m \u001b[1;32mnot\u001b[0m \u001b[0mself\u001b[0m\u001b[1;33m.\u001b[0m\u001b[0mpoly\u001b[0m\u001b[1;33m.\u001b[0m\u001b[0mtouches\u001b[0m\u001b[1;33m(\u001b[0m\u001b[0mother\u001b[0m\u001b[1;33m.\u001b[0m\u001b[0mpoly\u001b[0m\u001b[1;33m)\u001b[0m\u001b[1;33m\u001b[0m\u001b[0m\n\u001b[0m\u001b[0;32m     84\u001b[0m \u001b[1;31m#         return self.poly.overlaps(other.poly)\u001b[0m\u001b[1;33m\u001b[0m\u001b[1;33m\u001b[0m\u001b[0m\n\u001b[0;32m     85\u001b[0m \u001b[1;33m\u001b[0m\u001b[0m\n",
        "\u001b[1;31mAttributeError\u001b[0m: nullpoly instance has no attribute 'intersects'"
       ]
      }
     ],
     "prompt_number": 12
    },
    {
     "cell_type": "code",
     "collapsed": false,
     "input": [
      "ls -lh test_all.svg"
     ],
     "language": "python",
     "metadata": {},
     "outputs": []
    },
    {
     "cell_type": "code",
     "collapsed": false,
     "input": [],
     "language": "python",
     "metadata": {},
     "outputs": []
    }
   ],
   "metadata": {}
  }
 ]
}