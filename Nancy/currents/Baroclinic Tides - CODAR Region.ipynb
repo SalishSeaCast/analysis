{
 "cells": [
  {
   "cell_type": "markdown",
   "metadata": {},
   "source": [
    "This notebook will be used to calculate the baroclinic tide over the CODAR region."
   ]
  },
  {
   "cell_type": "code",
   "execution_count": 6,
   "metadata": {
    "collapsed": true
   },
   "outputs": [],
   "source": [
    "import datetime\n",
    "import matplotlib.pylab as plt\n",
    "import numpy as np\n",
    "import netCDF4 as nc\n",
    "\n",
    "from salishsea_tools import (viz_tools,tidetools, nc_tools, ellipse)\n",
    "from salishsea_tools.nowcast import (research_VENUS, analyze)\n",
    "\n",
    "import seaborn as sns\n",
    "\n",
    "%matplotlib inline"
   ]
  },
  {
   "cell_type": "code",
   "execution_count": 3,
   "metadata": {
    "collapsed": true
   },
   "outputs": [],
   "source": [
    "sns.set_style('darkgrid')"
   ]
  },
  {
   "cell_type": "code",
   "execution_count": 4,
   "metadata": {
    "collapsed": true
   },
   "outputs": [],
   "source": [
    "path='/data/dlatorne/MEOPAR/SalishSea/nowcast/'\n",
    "NodalCorr = tidetools.CorrTides"
   ]
  },
  {
   "cell_type": "markdown",
   "metadata": {},
   "source": [
    "###Load Data"
   ]
  },
  {
   "cell_type": "code",
   "execution_count": 7,
   "metadata": {
    "collapsed": false
   },
   "outputs": [],
   "source": [
    "to=datetime.datetime(2014,11,26)\n",
    "tf=datetime.datetime(2015,4,26)\n",
    "\n",
    "\n",
    "fname = '{}_currents_{}_{}.nc'.format('CODAR', to.strftime('%Y%m%d'), tf.strftime('%Y%m%d'))\n",
    "f = nc.Dataset(fname)\n",
    "    \n",
    "us = f.variables['vozocrtx'][:]\n",
    "vs = f.variables['vomecrty'][:]\n",
    "depths = f.variables['deptht'][:]\n",
    "times = f.variables['time_counter'][:]"
   ]
  },
  {
   "cell_type": "markdown",
   "metadata": {},
   "source": [
    "Unstagger, rotate and calculate baroclinic tide"
   ]
  },
  {
   "cell_type": "code",
   "execution_count": 10,
   "metadata": {
    "collapsed": true
   },
   "outputs": [],
   "source": [
    "def nodal_corrections(tide, tidecorr):\n",
    "    \"\"\"apply nodal corrections to tidal constituent amplude and phase\n",
    "    \n",
    "    tide is a nested dictionary with phase and ampliude for each constituent\n",
    "    tidecorr is also a nested dictionary with nodal factors and phase shift for each constituent\"\"\"\n",
    "    for const in tide:\n",
    "        tide[const]['phase'] = (tide[const]['phase'] + tidecorr[const]['uvt'])\n",
    "        tide[const]['amp'] = tide[const]['amp'] / tidecorr[const]['ft']\n",
    "        \n",
    "        shape = tide[const]['phase'].shape\n",
    "        corr_amp = tide[const]['amp'].flatten()\n",
    "        corr_phase = tide[const]['phase'].flatten()\n",
    "        ind = 0\n",
    "        for amp, phase in zip(corr_amp, corr_phase):\n",
    "            corr_amp[ind], corr_phase[ind] = tidetools.convention_pha_amp(amp, phase)\n",
    "            ind = ind +1\n",
    "        tide[const]['phase'] = np.reshape(corr_phase, shape)\n",
    "        tide[const]['amp'] = np.reshape(corr_amp, shape)\n",
    "    return tide"
   ]
  },
  {
   "cell_type": "code",
   "execution_count": 11,
   "metadata": {
    "collapsed": true
   },
   "outputs": [],
   "source": [
    "def baroclinic_tide(u, time, depth, nconsts):\n",
    "    \"\"\"Perform a harmonic analysis on the baroclinic tide\n",
    "    \n",
    "    u is the full depth profile of a current\n",
    "    If u is from NEMO output, it should be unstaggered before this funcion is applied. \n",
    "    u should have at least a time and depth dimension but could also have y, x shape\n",
    "    the depth dimensions must be in axis 1.\n",
    "    \n",
    "    time is the times associated with the current.\n",
    "    \n",
    "    depth is an array of depths associated with u\n",
    "    \n",
    "    nconsts is the number of constituents to analyze\n",
    "    \n",
    "    returns tide_bc - a nested dictionary with amp and phase for each constituent \n",
    "    eg. tide_bc['M2']['phase']\n",
    "    also returns the baroclinic currnt, u_bc\"\"\"\n",
    "    \n",
    "    #Calculate depth-averaged current\n",
    "    u_depav = analyze.depth_average(u, depth, depth_axis=1)\n",
    "    u_depav = np.expand_dims(u_depav, axis=1)\n",
    "    #Caclulate baroclinic current by removing depth averaged bit\n",
    "    u_bc = u - u_depav\n",
    "    \n",
    "    #tidal analysss of baroclinic current\n",
    "    tide_bc = tidetools.fittit(u_bc, time, nconst)\n",
    "    \n",
    "    return tide_bc, u_bc"
   ]
  },
  {
   "cell_type": "code",
   "execution_count": 12,
   "metadata": {
    "collapsed": false
   },
   "outputs": [
    {
     "ename": "MemoryError",
     "evalue": "",
     "output_type": "error",
     "traceback": [
      "\u001b[1;31m---------------------------------------------------------------------------\u001b[0m",
      "\u001b[1;31mMemoryError\u001b[0m                               Traceback (most recent call last)",
      "\u001b[1;32m<ipython-input-12-c9ab3e7cf2b0>\u001b[0m in \u001b[0;36m<module>\u001b[1;34m()\u001b[0m\n\u001b[0;32m      4\u001b[0m \u001b[1;31m#v_bc = {} # baroclinic current - v\u001b[0m\u001b[1;33m\u001b[0m\u001b[1;33m\u001b[0m\u001b[0m\n\u001b[0;32m      5\u001b[0m \u001b[1;31m#baroclinic_ellipse = {} # ellipse values for baroclinic tide\u001b[0m\u001b[1;33m\u001b[0m\u001b[1;33m\u001b[0m\u001b[0m\n\u001b[1;32m----> 6\u001b[1;33m \u001b[0mu_rot\u001b[0m\u001b[1;33m,\u001b[0m \u001b[0mv_rot\u001b[0m \u001b[1;33m=\u001b[0m \u001b[0mellipse\u001b[0m\u001b[1;33m.\u001b[0m\u001b[0mprepare_vel\u001b[0m\u001b[1;33m(\u001b[0m\u001b[0mus\u001b[0m\u001b[1;33m,\u001b[0m \u001b[0mvs\u001b[0m\u001b[1;33m)\u001b[0m\u001b[1;33m\u001b[0m\u001b[0m\n\u001b[0m\u001b[0;32m      7\u001b[0m \u001b[0mu_tide_bc\u001b[0m\u001b[1;33m,\u001b[0m \u001b[0mu_bc\u001b[0m \u001b[1;33m=\u001b[0m \u001b[0mbaroclinic_tide\u001b[0m\u001b[1;33m(\u001b[0m\u001b[0mu_rot\u001b[0m\u001b[1;33m,\u001b[0m \u001b[0mtimes\u001b[0m\u001b[1;33m,\u001b[0m \u001b[0mdepths\u001b[0m\u001b[1;33m,\u001b[0m \u001b[0mnconst\u001b[0m\u001b[1;33m)\u001b[0m\u001b[1;33m\u001b[0m\u001b[0m\n\u001b[0;32m      8\u001b[0m \u001b[0mv_tide_bc\u001b[0m\u001b[1;33m,\u001b[0m \u001b[0mv_bc\u001b[0m \u001b[1;33m=\u001b[0m \u001b[0mbaroclinic_tide\u001b[0m\u001b[1;33m(\u001b[0m\u001b[0mv_rot\u001b[0m\u001b[1;33m,\u001b[0m \u001b[0mtimes\u001b[0m\u001b[1;33m,\u001b[0m \u001b[0mdepths\u001b[0m\u001b[1;33m,\u001b[0m \u001b[0mnconst\u001b[0m\u001b[1;33m)\u001b[0m\u001b[1;33m\u001b[0m\u001b[0m\n",
      "\u001b[1;32m/data/nsoontie/MEOPAR/tools/SalishSeaTools/salishsea_tools/ellipse.pyc\u001b[0m in \u001b[0;36mprepare_vel\u001b[1;34m(u, v, depav, depth)\u001b[0m\n\u001b[0;32m    178\u001b[0m     \u001b[1;31m# Unstaggers velocities. Will loose one x and one y dimension due to\u001b[0m\u001b[1;33m\u001b[0m\u001b[1;33m\u001b[0m\u001b[0m\n\u001b[0;32m    179\u001b[0m     \u001b[1;31m# unstaggering.\u001b[0m\u001b[1;33m\u001b[0m\u001b[1;33m\u001b[0m\u001b[0m\n\u001b[1;32m--> 180\u001b[1;33m     \u001b[0mu_u\u001b[0m\u001b[1;33m,\u001b[0m \u001b[0mv_v\u001b[0m \u001b[1;33m=\u001b[0m \u001b[0mresearch_VENUS\u001b[0m\u001b[1;33m.\u001b[0m\u001b[0munstag_rot\u001b[0m\u001b[1;33m(\u001b[0m\u001b[0mu_0\u001b[0m\u001b[1;33m,\u001b[0m \u001b[0mv_0\u001b[0m\u001b[1;33m)\u001b[0m\u001b[1;33m\u001b[0m\u001b[0m\n\u001b[0m\u001b[0;32m    181\u001b[0m \u001b[1;33m\u001b[0m\u001b[0m\n\u001b[0;32m    182\u001b[0m     \u001b[1;31m# Depth averaging over all the depth values given if set to True.\u001b[0m\u001b[1;33m\u001b[0m\u001b[1;33m\u001b[0m\u001b[0m\n",
      "\u001b[1;32m/data/nsoontie/MEOPAR/tools/SalishSeaTools/salishsea_tools/nowcast/research_VENUS.pyc\u001b[0m in \u001b[0;36munstag_rot\u001b[1;34m(ugrid, vgrid)\u001b[0m\n\u001b[0;32m    258\u001b[0m \u001b[1;33m\u001b[0m\u001b[0m\n\u001b[0;32m    259\u001b[0m     \u001b[1;31m# We need to access the u velocity that is between i and i-1\u001b[0m\u001b[1;33m\u001b[0m\u001b[1;33m\u001b[0m\u001b[0m\n\u001b[1;32m--> 260\u001b[1;33m     \u001b[0mu_t\u001b[0m \u001b[1;33m=\u001b[0m \u001b[1;33m(\u001b[0m\u001b[0mugrid\u001b[0m\u001b[1;33m[\u001b[0m\u001b[1;33m.\u001b[0m\u001b[1;33m.\u001b[0m\u001b[1;33m.\u001b[0m\u001b[1;33m,\u001b[0m \u001b[1;36m1\u001b[0m\u001b[1;33m:\u001b[0m\u001b[1;33m,\u001b[0m \u001b[1;33m:\u001b[0m\u001b[1;33m-\u001b[0m\u001b[1;36m1\u001b[0m\u001b[1;33m]\u001b[0m \u001b[1;33m+\u001b[0m \u001b[0mugrid\u001b[0m\u001b[1;33m[\u001b[0m\u001b[1;33m.\u001b[0m\u001b[1;33m.\u001b[0m\u001b[1;33m.\u001b[0m\u001b[1;33m,\u001b[0m \u001b[1;36m1\u001b[0m\u001b[1;33m:\u001b[0m\u001b[1;33m,\u001b[0m \u001b[1;36m1\u001b[0m\u001b[1;33m:\u001b[0m\u001b[1;33m]\u001b[0m\u001b[1;33m)\u001b[0m \u001b[1;33m/\u001b[0m \u001b[1;36m2\u001b[0m\u001b[1;33m\u001b[0m\u001b[0m\n\u001b[0m\u001b[0;32m    261\u001b[0m     \u001b[0mv_t\u001b[0m \u001b[1;33m=\u001b[0m \u001b[1;33m(\u001b[0m\u001b[0mvgrid\u001b[0m\u001b[1;33m[\u001b[0m\u001b[1;33m.\u001b[0m\u001b[1;33m.\u001b[0m\u001b[1;33m.\u001b[0m\u001b[1;33m,\u001b[0m \u001b[1;36m1\u001b[0m\u001b[1;33m:\u001b[0m\u001b[1;33m,\u001b[0m \u001b[1;36m1\u001b[0m\u001b[1;33m:\u001b[0m\u001b[1;33m]\u001b[0m \u001b[1;33m+\u001b[0m \u001b[0mvgrid\u001b[0m\u001b[1;33m[\u001b[0m\u001b[1;33m.\u001b[0m\u001b[1;33m.\u001b[0m\u001b[1;33m.\u001b[0m\u001b[1;33m,\u001b[0m \u001b[1;33m:\u001b[0m\u001b[1;33m-\u001b[0m\u001b[1;36m1\u001b[0m\u001b[1;33m,\u001b[0m \u001b[1;36m1\u001b[0m\u001b[1;33m:\u001b[0m\u001b[1;33m]\u001b[0m\u001b[1;33m)\u001b[0m \u001b[1;33m/\u001b[0m \u001b[1;36m2\u001b[0m\u001b[1;33m\u001b[0m\u001b[0m\n\u001b[0;32m    262\u001b[0m \u001b[1;33m\u001b[0m\u001b[0m\n",
      "\u001b[1;32m/home/nsoontie/anaconda/lib/python2.7/site-packages/numpy/ma/core.pyc\u001b[0m in \u001b[0;36m__div__\u001b[1;34m(self, other)\u001b[0m\n\u001b[0;32m   3767\u001b[0m     \u001b[1;32mdef\u001b[0m \u001b[0m__div__\u001b[0m\u001b[1;33m(\u001b[0m\u001b[0mself\u001b[0m\u001b[1;33m,\u001b[0m \u001b[0mother\u001b[0m\u001b[1;33m)\u001b[0m\u001b[1;33m:\u001b[0m\u001b[1;33m\u001b[0m\u001b[0m\n\u001b[0;32m   3768\u001b[0m         \u001b[1;34m\"Divide other into self, and return a new masked array.\"\u001b[0m\u001b[1;33m\u001b[0m\u001b[0m\n\u001b[1;32m-> 3769\u001b[1;33m         \u001b[1;32mreturn\u001b[0m \u001b[0mdivide\u001b[0m\u001b[1;33m(\u001b[0m\u001b[0mself\u001b[0m\u001b[1;33m,\u001b[0m \u001b[0mother\u001b[0m\u001b[1;33m)\u001b[0m\u001b[1;33m\u001b[0m\u001b[0m\n\u001b[0m\u001b[0;32m   3770\u001b[0m     \u001b[1;31m#\u001b[0m\u001b[1;33m\u001b[0m\u001b[1;33m\u001b[0m\u001b[0m\n\u001b[0;32m   3771\u001b[0m     \u001b[1;32mdef\u001b[0m \u001b[0m__truediv__\u001b[0m\u001b[1;33m(\u001b[0m\u001b[0mself\u001b[0m\u001b[1;33m,\u001b[0m \u001b[0mother\u001b[0m\u001b[1;33m)\u001b[0m\u001b[1;33m:\u001b[0m\u001b[1;33m\u001b[0m\u001b[0m\n",
      "\u001b[1;32m/home/nsoontie/anaconda/lib/python2.7/site-packages/numpy/ma/core.pyc\u001b[0m in \u001b[0;36m__call__\u001b[1;34m(self, a, b, *args, **kwargs)\u001b[0m\n\u001b[0;32m   1082\u001b[0m             \u001b[1;32mreturn\u001b[0m \u001b[0mNotImplemented\u001b[0m\u001b[1;33m\u001b[0m\u001b[0m\n\u001b[0;32m   1083\u001b[0m         \u001b[1;31m# Get the mask as a combination of ma, mb and invalid\u001b[0m\u001b[1;33m\u001b[0m\u001b[1;33m\u001b[0m\u001b[0m\n\u001b[1;32m-> 1084\u001b[1;33m         \u001b[0mm\u001b[0m \u001b[1;33m=\u001b[0m \u001b[1;33m~\u001b[0m\u001b[0mumath\u001b[0m\u001b[1;33m.\u001b[0m\u001b[0misfinite\u001b[0m\u001b[1;33m(\u001b[0m\u001b[0mresult\u001b[0m\u001b[1;33m)\u001b[0m\u001b[1;33m\u001b[0m\u001b[0m\n\u001b[0m\u001b[0;32m   1085\u001b[0m         \u001b[0mm\u001b[0m \u001b[1;33m|=\u001b[0m \u001b[0mma\u001b[0m\u001b[1;33m\u001b[0m\u001b[0m\n\u001b[0;32m   1086\u001b[0m         \u001b[0mm\u001b[0m \u001b[1;33m|=\u001b[0m \u001b[0mmb\u001b[0m\u001b[1;33m\u001b[0m\u001b[0m\n",
      "\u001b[1;31mMemoryError\u001b[0m: "
     ]
    }
   ],
   "source": [
    "#u_tide_bc = {} #baroclinc tidal constituents - u\n",
    "#v_tide_bc = {} # baroclinic tidal constitnets - v\n",
    "#u_bc = {} # barocinic current - u\n",
    "#v_bc = {} # baroclinic current - v\n",
    "#baroclinic_ellipse = {} # ellipse values for baroclinic tide\n",
    "u_rot, v_rot = ellipse.prepare_vel(us, vs)\n",
    "u_tide_bc, u_bc = baroclinic_tide(u_rot, times, depths, nconst)\n",
    "v_tide_bc, v_bc = baroclinic_tide(v_rot, times, depths, nconst)\n",
    "#nodal corrections\n",
    "u_tide_bc = nodal_corrections(u_tide_bc, NodalCorr)\n",
    "v_tide_bc = nodal_corrections(v_tide_bc, NodalCorr)\n",
    "baroclinic_ellipse = ellipse.get_params(u_bc, v_bc, times, nconst, tidecorr=NodalCorr)"
   ]
  },
  {
   "cell_type": "code",
   "execution_count": null,
   "metadata": {
    "collapsed": true
   },
   "outputs": [],
   "source": []
  }
 ],
 "metadata": {
  "kernelspec": {
   "display_name": "Python 2",
   "language": "python",
   "name": "python2"
  },
  "language_info": {
   "codemirror_mode": {
    "name": "ipython",
    "version": 2
   },
   "file_extension": ".py",
   "mimetype": "text/x-python",
   "name": "python",
   "nbconvert_exporter": "python",
   "pygments_lexer": "ipython2",
   "version": "2.7.10"
  }
 },
 "nbformat": 4,
 "nbformat_minor": 0
}
