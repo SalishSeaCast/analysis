{
 "cells": [
  {
   "cell_type": "markdown",
   "metadata": {},
   "source": [
    "Notebook to solve idealized wave problem. Barotropic current interacting with a step."
   ]
  },
  {
   "cell_type": "code",
   "execution_count": 1,
   "metadata": {
    "collapsed": true
   },
   "outputs": [],
   "source": [
    "import numpy as np\n",
    "import matplotlib.pyplot as plt\n",
    "%matplotlib inline"
   ]
  },
  {
   "cell_type": "markdown",
   "metadata": {},
   "source": [
    "Solving this equation:\n",
    "\n",
    " $-\\sigma^2\\nabla^2\\psi + N^2\\frac{\\partial^2}{\\partial x^2}\\psi = 0 $ or \n",
    "\n",
    "$\\frac{\\partial^2}{\\partial z^2}\\psi - \\frac{N^2-\\sigma^2}{\\sigma^2}\\frac{\\partial^2}{\\partial x^2}\\psi = 0 $\n",
    "\n",
    "Boundary conditiions are no flow through sloid boundaries so $\\psi=0$.\n",
    "\n",
    "Assume $\\psi = \\psi_b + \\psi'$ barotopic and baroclinic parts.\n",
    "\n",
    "Set $\\psi_b = zc\\sin(kx)$\n",
    "\n",
    "where $c = \\sqrt{gh}$ and $k=\\sigma/c$. Then the differentatial equation simplifies to:\n",
    "\n",
    "$\\frac{\\partial^2}{\\partial z^2}\\psi' -\\frac{N^2 -\\sigma^2}{\\sigma^2}\\frac{\\partial^2}{\\partial x^2}\\psi' = \n",
    "\\frac{N^2 -\\sigma^2}{\\sigma^2}\\frac{\\partial^2}{\\partial x^2}\\psi_b$.\n",
    "\n",
    "We can subsitute these expressions for the derivaives of $\\psi_b$\n",
    "\n",
    "$\\frac{\\partial^2}{\\partial x^2}\\psi_b = - zck^2\\sin(kx)$ \n",
    "\n",
    "\n",
    "So, further simplication gives\n",
    "$\\frac{\\partial^2}{\\partial z^2}\\psi' -\\frac{N^2 -\\sigma^2}{\\sigma^2}\\frac{\\partial^2}{\\partial x^2}\\psi' = \n",
    "-k^2\\frac{N^2 -\\sigma^2}{\\sigma^2}\\psi_b$.\n",
    "\n",
    "Note that the domain depth $h$ is piecewise constant and so $\\psi_b, c, k$ are piecewise too.\n",
    "\n",
    "Setting up constants:"
   ]
  },
  {
   "cell_type": "code",
   "execution_count": 2,
   "metadata": {
    "collapsed": false
   },
   "outputs": [],
   "source": [
    "L = 20e3 #units m\n",
    "H = 50 # units m\n",
    "h0 = 25 #units m\n",
    "N2 = 0.001 #units 1/s^2\n",
    "g = 10 #units m/s^2\n",
    "\n",
    "Nx = 100\n",
    "Nz = 50\n",
    "dx = L/Nx\n",
    "dz = H/Nz\n",
    "\n",
    "sigma  = 2*np.pi/(12*3600) #units 1/s\n",
    "\n",
    "x = np.arange(0, L,dx)\n",
    "z =  np.arange(0, H,dz)\n",
    "\n",
    "#meshgrid\n",
    "xx ,zz = np.meshgrid(x,z)"
   ]
  },
  {
   "cell_type": "markdown",
   "metadata": {},
   "source": [
    "Set up topography and currents..."
   ]
  },
  {
   "cell_type": "code",
   "execution_count": 3,
   "metadata": {
    "collapsed": false
   },
   "outputs": [],
   "source": [
    "x0 = L/2\n",
    "h = h0*(xx<x0) + H*(xx>=x0)\n",
    "\n",
    "c= np.sqrt(g*h)\n",
    "k = sigma/c\n",
    "\n",
    "psi_b = zz*c*np.sin(k*xx)\n"
   ]
  },
  {
   "cell_type": "markdown",
   "metadata": {},
   "source": [
    "Initialize $\\psi'$ = - $\\psi_b$"
   ]
  },
  {
   "cell_type": "code",
   "execution_count": 4,
   "metadata": {
    "collapsed": false
   },
   "outputs": [
    {
     "data": {
      "text/plain": [
       "[0, 20000.0, 50, 0]"
      ]
     },
     "execution_count": 4,
     "metadata": {},
     "output_type": "execute_result"
    },
    {
     "data": {
      "image/png": "[encoded data removed]",
      "text/plain": [
       "<matplotlib.figure.Figure at 0x7f3d7353ff28>"
      ]
     },
     "metadata": {},
     "output_type": "display_data"
    }
   ],
   "source": [
    "psi_c = -psi_b\n",
    "plt.pcolormesh(xx,zz,psi_c)\n",
    "plt.colorbar()\n",
    "plt.axis([0,L, H,0])\n"
   ]
  },
  {
   "cell_type": "markdown",
   "metadata": {},
   "source": [
    "Numerical integration"
   ]
  },
  {
   "cell_type": "code",
   "execution_count": 5,
   "metadata": {
    "collapsed": false
   },
   "outputs": [],
   "source": [
    "def integrate(psi):\n",
    "    \n",
    "    for i in np.arange(2, Nx-1):\n",
    "        for j in np.arange(1,Nz-1):\n",
    "            if zz[j,i+1] > h[j,i+1]:\n",
    "                psi[j,i+1] = -psi_b[j,i+1]\n",
    "            else: \n",
    "                psi[j, i+1] = 2*psi[j,i] - psi[j,i-1] + \\\n",
    "                          dx**2/dz**2*sigma**2/(N2-sigma**2)*(psi[j-1,i] - 2*psi[j,i] + psi[j+1, i]) + \\\n",
    "                          k[j,i]**2*dx**2*psi_b[j,i]\n",
    "\n",
    "    \n",
    "    return psi"
   ]
  },
  {
   "cell_type": "code",
   "execution_count": 6,
   "metadata": {
    "collapsed": false
   },
   "outputs": [
    {
     "data": {
      "text/plain": [
       "[0, 20000.0, 50, 0]"
      ]
     },
     "execution_count": 6,
     "metadata": {},
     "output_type": "execute_result"
    },
    {
     "data": {
      "image/png": "[encoded data removed]",
      "text/plain": [
       "<matplotlib.figure.Figure at 0x7f3d713faf28>"
      ]
     },
     "metadata": {},
     "output_type": "display_data"
    }
   ],
   "source": [
    "psi_int = integrate(psi_c)\n",
    "plt.pcolormesh(xx,zz,psi_int)\n",
    "plt.colorbar()\n",
    "plt.axis([0,L, H,0])"
   ]
  },
  {
   "cell_type": "code",
   "execution_count": null,
   "metadata": {
    "collapsed": true
   },
   "outputs": [],
   "source": []
  }
 ],
 "metadata": {
  "kernelspec": {
   "display_name": "Python 3",
   "language": "python",
   "name": "python3"
  },
  "language_info": {
   "codemirror_mode": {
    "name": "ipython",
    "version": 3
   },
   "file_extension": ".py",
   "mimetype": "text/x-python",
   "name": "python",
   "nbconvert_exporter": "python",
   "pygments_lexer": "ipython3",
   "version": "3.4.3"
  }
 },
 "nbformat": 4,
 "nbformat_minor": 0
}
