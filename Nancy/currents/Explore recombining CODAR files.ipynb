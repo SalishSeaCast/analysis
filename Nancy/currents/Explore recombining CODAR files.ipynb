{
 "cells": [
  {
   "cell_type": "markdown",
   "metadata": {},
   "source": [
    "Attempt at concatenating netcdf subdomain files."
   ]
  },
  {
   "cell_type": "code",
   "execution_count": 1,
   "metadata": {
    "collapsed": true
   },
   "outputs": [],
   "source": [
    "import netCDF4 as nc\n",
    "import numpy as np\n",
    "\n",
    "import matplotlib.pyplot as plt\n",
    "\n",
    "%matplotlib inline"
   ]
  },
  {
   "cell_type": "markdown",
   "metadata": {},
   "source": [
    "Strategy: For each variable on the horizontal grid, insert the data from each subdomain into the correct position of a larger array. Also, copy all of the other  \n",
    "\n",
    "First, I need to determine how the subdomains are organized. The subdomains are divided into rows and columns. An example decomposition is:\n",
    "\n",
    "|  |  |  |  |\n",
    "|--|--|--|--|\n",
    "|08|09|10|11|\n",
    "|04|05|06|07|\n",
    "|00|01|02|03|\n",
    "\n",
    "\n",
    "For my case, I have figured this layout out \"by eye\" and stored in an array called filenames. Ideally, we would write code to determine the decomposition automatically. This is complicated by the fact that we do not always wish to recombine over the full domain.\n",
    "\n",
    "Next, I can determine the x/y start and end indces for each of my sudomains by knowing the dimensions of each subdomain. I will store these in a dictionary with a filename key.\n",
    "\n",
    "Next, I will initialize the dimensions and variables of my new file by copying the dimensions and variables of the file in filenames[0,0]. \n",
    "\n",
    "Finally, I will loop through each file and each variable and insert the data into the correct positition of my new array. I have written some functions to help with this. "
   ]
  },
  {
   "cell_type": "code",
   "execution_count": 4,
   "metadata": {
    "collapsed": true
   },
   "outputs": [],
   "source": [
    "def define_shapes(filenames):\n",
    "    \"\"\"Creates a dictionary object that stores the beginning and ending i, j coordinate for each \n",
    "    subdomain file stored in names.\n",
    "    Names should be orgnaized in a way that corresponds to the shape of the region you are compiling.\n",
    "    The first axis (rows) of names is along y, second axis (columns) is along x\n",
    "    names[0,0] is the bottom left subdomain\n",
    "    names[-1,0] is the top left subdomain\n",
    "    names[0,-1] is the bottom right subdomain\n",
    "    names[-1,-1] is the top right subdomain\n",
    "    \n",
    "    Beginning/ending i = iss/iee, beginning/ending j = jss/jee\n",
    "    \n",
    "    returns: a dictionary of dictionarys. First level keys are the filenames, second level are iss,iee,jss,jee\n",
    "    \"\"\"\n",
    "    \n",
    "    jss = 0\n",
    "    for j in np.arange(filenames.shape[0]):\n",
    "        iss = 0\n",
    "        for i in np.arange(filenames.shape[1]):\n",
    "            name = filenames[j,i]\n",
    "            f = nc.Dataset(name)\n",
    "            x = f.dimensions['x'].__len__()\n",
    "            y = f.dimensions['y'].__len__()\n",
    "            shapes[name] = {}\n",
    "            shapes[name]['iss'] = iss\n",
    "            shapes[name]['iee'] = iss+x\n",
    "            shapes[name]['jss'] = jss\n",
    "            shapes[name]['jee'] = jss+y\n",
    "            iss = iss+x\n",
    "        jss = jss +y\n",
    "    return shapes"
   ]
  },
  {
   "cell_type": "markdown",
   "metadata": {},
   "source": [
    "Check that it works for my case."
   ]
  },
  {
   "cell_type": "code",
   "execution_count": 5,
   "metadata": {
    "collapsed": false
   },
   "outputs": [],
   "source": [
    "shapes = {}\n",
    "filenames = np.array([['CODAR_0139.nc', 'CODAR_0140.nc', 'CODAR_0141.nc'],\n",
    "         ['CODAR_0151.nc', 'CODAR_0152.nc', 'CODAR_0153.nc'],\n",
    "         ['CODAR_0163.nc', 'CODAR_0164.nc', 'CODAR_0165.nc']])\n",
    "\n",
    "\n",
    "shapes = define_shapes(filenames)"
   ]
  },
  {
   "cell_type": "code",
   "execution_count": 6,
   "metadata": {
    "collapsed": false
   },
   "outputs": [
    {
     "data": {
      "text/plain": [
       "{'CODAR_0139.nc': {'iee': 25, 'iss': 0, 'jee': 22, 'jss': 0},\n",
       " 'CODAR_0140.nc': {'iee': 58, 'iss': 25, 'jee': 22, 'jss': 0},\n",
       " 'CODAR_0141.nc': {'iee': 80, 'iss': 58, 'jee': 22, 'jss': 0},\n",
       " 'CODAR_0151.nc': {'iee': 25, 'iss': 0, 'jee': 55, 'jss': 22},\n",
       " 'CODAR_0152.nc': {'iee': 58, 'iss': 25, 'jee': 55, 'jss': 22},\n",
       " 'CODAR_0153.nc': {'iee': 80, 'iss': 58, 'jee': 55, 'jss': 22},\n",
       " 'CODAR_0163.nc': {'iee': 25, 'iss': 0, 'jee': 80, 'jss': 55},\n",
       " 'CODAR_0164.nc': {'iee': 58, 'iss': 25, 'jee': 80, 'jss': 55},\n",
       " 'CODAR_0165.nc': {'iee': 80, 'iss': 58, 'jee': 80, 'jss': 55}}"
      ]
     },
     "execution_count": 6,
     "metadata": {},
     "output_type": "execute_result"
    }
   ],
   "source": [
    "shapes"
   ]
  },
  {
   "cell_type": "markdown",
   "metadata": {},
   "source": [
    "Create a new netcdf file. "
   ]
  },
  {
   "cell_type": "code",
   "execution_count": 7,
   "metadata": {
    "collapsed": false
   },
   "outputs": [],
   "source": [
    "new = nc.Dataset('CODAR_all.nc', 'w')"
   ]
  },
  {
   "cell_type": "markdown",
   "metadata": {},
   "source": [
    "Iniitilize dimensions"
   ]
  },
  {
   "cell_type": "code",
   "execution_count": 8,
   "metadata": {
    "collapsed": false
   },
   "outputs": [],
   "source": [
    "def initialize_dimensions(newfile, oldfile):\n",
    "    \"\"\"Initialize new file to have the same dimension names as oldfile\n",
    "    Dimensions that are not associated with the horizontal grid are also given\n",
    "    the same size as oldfile\"\n",
    "    \"\"\"\n",
    "    for dimname in oldfile.dimensions:\n",
    "        dim = oldfile.dimensions[dimname]\n",
    "        if dimname=='x' or dimname=='y':\n",
    "            newdim = newfile.createDimension(dimname) \n",
    "        else:   \n",
    "            newdim = newfile.createDimension(dimname, size=dim.__len__())"
   ]
  },
  {
   "cell_type": "code",
   "execution_count": 9,
   "metadata": {
    "collapsed": false
   },
   "outputs": [],
   "source": [
    "initialize_dimensions(new, nc.Dataset(filenames[0,0]))"
   ]
  },
  {
   "cell_type": "markdown",
   "metadata": {},
   "source": [
    "Check"
   ]
  },
  {
   "cell_type": "code",
   "execution_count": 10,
   "metadata": {
    "collapsed": false
   },
   "outputs": [
    {
     "name": "stdout",
     "output_type": "stream",
     "text": [
      "OrderedDict([('x', <class 'netCDF4._netCDF4.Dimension'> (unlimited): name = 'x', size = 0\n",
      "), ('y', <class 'netCDF4._netCDF4.Dimension'> (unlimited): name = 'y', size = 0\n",
      "), ('deptht', <class 'netCDF4._netCDF4.Dimension'>: name = 'deptht', size = 40\n",
      "), ('depthu', <class 'netCDF4._netCDF4.Dimension'>: name = 'depthu', size = 40\n",
      "), ('depthv', <class 'netCDF4._netCDF4.Dimension'>: name = 'depthv', size = 40\n",
      "), ('time_counter', <class 'netCDF4._netCDF4.Dimension'>: name = 'time_counter', size = 960\n",
      "), ('tbnds', <class 'netCDF4._netCDF4.Dimension'>: name = 'tbnds', size = 2\n",
      ")])\n"
     ]
    }
   ],
   "source": [
    "print(new.dimensions)"
   ]
  },
  {
   "cell_type": "markdown",
   "metadata": {},
   "source": [
    "Initialize variables"
   ]
  },
  {
   "cell_type": "code",
   "execution_count": 11,
   "metadata": {
    "collapsed": true
   },
   "outputs": [],
   "source": [
    "def initialize_variables(newfile, oldfile):\n",
    "    \"\"\"Initialize new file to have the same variables as oldfile\n",
    "    \"\"\"\n",
    "    newvars = {}\n",
    "    for varname in oldfile.variables:\n",
    "        var = oldfile.variables[varname]\n",
    "        dims = var.dimensions\n",
    "        newvar = newfile.createVariable(varname, 'float32', dims)\n",
    "        newvar[:]=var[:]\n",
    "        newvars[varname] = newvar\n",
    "    return newvars"
   ]
  },
  {
   "cell_type": "code",
   "execution_count": 13,
   "metadata": {
    "collapsed": false
   },
   "outputs": [],
   "source": [
    "newvars=initialize_variables(new, nc.Dataset(filenames[0,0]))"
   ]
  },
  {
   "cell_type": "code",
   "execution_count": 14,
   "metadata": {
    "collapsed": false
   },
   "outputs": [
    {
     "data": {
      "text/plain": [
       "OrderedDict([('x',\n",
       "              <class 'netCDF4._netCDF4.Dimension'> (unlimited): name = 'x', size = 25),\n",
       "             ('y',\n",
       "              <class 'netCDF4._netCDF4.Dimension'> (unlimited): name = 'y', size = 22),\n",
       "             ('deptht',\n",
       "              <class 'netCDF4._netCDF4.Dimension'>: name = 'deptht', size = 40),\n",
       "             ('depthu',\n",
       "              <class 'netCDF4._netCDF4.Dimension'>: name = 'depthu', size = 40),\n",
       "             ('depthv',\n",
       "              <class 'netCDF4._netCDF4.Dimension'>: name = 'depthv', size = 40),\n",
       "             ('time_counter',\n",
       "              <class 'netCDF4._netCDF4.Dimension'>: name = 'time_counter', size = 960),\n",
       "             ('tbnds',\n",
       "              <class 'netCDF4._netCDF4.Dimension'>: name = 'tbnds', size = 2)])"
      ]
     },
     "execution_count": 14,
     "metadata": {},
     "output_type": "execute_result"
    }
   ],
   "source": [
    "new.dimensions"
   ]
  },
  {
   "cell_type": "code",
   "execution_count": 15,
   "metadata": {
    "collapsed": false
   },
   "outputs": [
    {
     "data": {
      "text/plain": [
       "OrderedDict([('nav_lon', <class 'netCDF4._netCDF4.Variable'>\n",
       "              float32 nav_lon(y, x)\n",
       "              unlimited dimensions: y, x\n",
       "              current shape = (22, 25)\n",
       "              filling on, default _FillValue of 9.969209968386869e+36 used),\n",
       "             ('nav_lat', <class 'netCDF4._netCDF4.Variable'>\n",
       "              float32 nav_lat(y, x)\n",
       "              unlimited dimensions: y, x\n",
       "              current shape = (22, 25)\n",
       "              filling on, default _FillValue of 9.969209968386869e+36 used),\n",
       "             ('deptht', <class 'netCDF4._netCDF4.Variable'>\n",
       "              float32 deptht(deptht)\n",
       "              unlimited dimensions: \n",
       "              current shape = (40,)\n",
       "              filling on, default _FillValue of 9.969209968386869e+36 used),\n",
       "             ('depthu', <class 'netCDF4._netCDF4.Variable'>\n",
       "              float32 depthu(depthu)\n",
       "              unlimited dimensions: \n",
       "              current shape = (40,)\n",
       "              filling on, default _FillValue of 9.969209968386869e+36 used),\n",
       "             ('depthv', <class 'netCDF4._netCDF4.Variable'>\n",
       "              float32 depthv(depthv)\n",
       "              unlimited dimensions: \n",
       "              current shape = (40,)\n",
       "              filling on, default _FillValue of 9.969209968386869e+36 used),\n",
       "             ('time_counter', <class 'netCDF4._netCDF4.Variable'>\n",
       "              float32 time_counter(time_counter)\n",
       "              unlimited dimensions: \n",
       "              current shape = (960,)\n",
       "              filling on, default _FillValue of 9.969209968386869e+36 used),\n",
       "             ('time_counter_bnds', <class 'netCDF4._netCDF4.Variable'>\n",
       "              float32 time_counter_bnds(time_counter, tbnds)\n",
       "              unlimited dimensions: \n",
       "              current shape = (960, 2)\n",
       "              filling on, default _FillValue of 9.969209968386869e+36 used),\n",
       "             ('sossheig', <class 'netCDF4._netCDF4.Variable'>\n",
       "              float32 sossheig(time_counter, y, x)\n",
       "              unlimited dimensions: y, x\n",
       "              current shape = (960, 22, 25)\n",
       "              filling on, default _FillValue of 9.969209968386869e+36 used),\n",
       "             ('vosaline', <class 'netCDF4._netCDF4.Variable'>\n",
       "              float32 vosaline(time_counter, deptht, y, x)\n",
       "              unlimited dimensions: y, x\n",
       "              current shape = (960, 40, 22, 25)\n",
       "              filling on, default _FillValue of 9.969209968386869e+36 used),\n",
       "             ('vozocrtx', <class 'netCDF4._netCDF4.Variable'>\n",
       "              float32 vozocrtx(time_counter, depthu, y, x)\n",
       "              unlimited dimensions: y, x\n",
       "              current shape = (960, 40, 22, 25)\n",
       "              filling on, default _FillValue of 9.969209968386869e+36 used),\n",
       "             ('vomecrty', <class 'netCDF4._netCDF4.Variable'>\n",
       "              float32 vomecrty(time_counter, depthv, y, x)\n",
       "              unlimited dimensions: y, x\n",
       "              current shape = (960, 40, 22, 25)\n",
       "              filling on, default _FillValue of 9.969209968386869e+36 used)])"
      ]
     },
     "execution_count": 15,
     "metadata": {},
     "output_type": "execute_result"
    }
   ],
   "source": [
    "new.variables"
   ]
  },
  {
   "cell_type": "markdown",
   "metadata": {},
   "source": [
    "Add new data from all files"
   ]
  },
  {
   "cell_type": "code",
   "execution_count": 16,
   "metadata": {
    "collapsed": false
   },
   "outputs": [],
   "source": [
    "def concatentate_variables(filenames, shapes, variables):\n",
    "    \"\"\"Concatentate netcdf variables listed in dictionary variables for all of the\n",
    "    files stored in filenames. shapes is a dictionary object that stores the start and \n",
    "    end index for the subdomain in each file. \"\"\"\n",
    "    for name in filenames.flatten():\n",
    "        for varname in variables.keys():\n",
    "            newvar = newvars[varname]\n",
    "            f = nc.Dataset(name)\n",
    "            oldvar = f.variables[varname]\n",
    "            x1=shapes[name]['iss']\n",
    "            x2=shapes[name]['iee']\n",
    "            y1=shapes[name]['jss']\n",
    "            y2=shapes[name]['jee']\n",
    "            if 'x' in newvar.dimensions:\n",
    "                newvar[...,y1:y2,x1:x2] = oldvar[...,:, :]"
   ]
  },
  {
   "cell_type": "code",
   "execution_count": 17,
   "metadata": {
    "collapsed": false
   },
   "outputs": [],
   "source": [
    "concatentate_variables(filenames, shapes, newvars)"
   ]
  },
  {
   "cell_type": "markdown",
   "metadata": {},
   "source": [
    "Check that it makes sense"
   ]
  },
  {
   "cell_type": "code",
   "execution_count": 18,
   "metadata": {
    "collapsed": false
   },
   "outputs": [
    {
     "data": {
      "text/plain": [
       "(80, 80)"
      ]
     },
     "execution_count": 18,
     "metadata": {},
     "output_type": "execute_result"
    }
   ],
   "source": [
    "newvars['nav_lat'].shape"
   ]
  },
  {
   "cell_type": "code",
   "execution_count": 19,
   "metadata": {
    "collapsed": false
   },
   "outputs": [
    {
     "data": {
      "text/plain": [
       "(960, 40, 80, 80)"
      ]
     },
     "execution_count": 19,
     "metadata": {},
     "output_type": "execute_result"
    }
   ],
   "source": [
    "newvars['vosaline'].shape"
   ]
  },
  {
   "cell_type": "code",
   "execution_count": 20,
   "metadata": {
    "collapsed": false
   },
   "outputs": [
    {
     "data": {
      "text/plain": [
       "{'deptht': <class 'netCDF4._netCDF4.Variable'>\n",
       " float32 deptht(deptht)\n",
       " unlimited dimensions: \n",
       " current shape = (40,)\n",
       " filling on, default _FillValue of 9.969209968386869e+36 used,\n",
       " 'depthu': <class 'netCDF4._netCDF4.Variable'>\n",
       " float32 depthu(depthu)\n",
       " unlimited dimensions: \n",
       " current shape = (40,)\n",
       " filling on, default _FillValue of 9.969209968386869e+36 used,\n",
       " 'depthv': <class 'netCDF4._netCDF4.Variable'>\n",
       " float32 depthv(depthv)\n",
       " unlimited dimensions: \n",
       " current shape = (40,)\n",
       " filling on, default _FillValue of 9.969209968386869e+36 used,\n",
       " 'nav_lat': <class 'netCDF4._netCDF4.Variable'>\n",
       " float32 nav_lat(y, x)\n",
       " unlimited dimensions: y, x\n",
       " current shape = (80, 80)\n",
       " filling on, default _FillValue of 9.969209968386869e+36 used,\n",
       " 'nav_lon': <class 'netCDF4._netCDF4.Variable'>\n",
       " float32 nav_lon(y, x)\n",
       " unlimited dimensions: y, x\n",
       " current shape = (80, 80)\n",
       " filling on, default _FillValue of 9.969209968386869e+36 used,\n",
       " 'sossheig': <class 'netCDF4._netCDF4.Variable'>\n",
       " float32 sossheig(time_counter, y, x)\n",
       " unlimited dimensions: y, x\n",
       " current shape = (960, 80, 80)\n",
       " filling on, default _FillValue of 9.969209968386869e+36 used,\n",
       " 'time_counter': <class 'netCDF4._netCDF4.Variable'>\n",
       " float32 time_counter(time_counter)\n",
       " unlimited dimensions: \n",
       " current shape = (960,)\n",
       " filling on, default _FillValue of 9.969209968386869e+36 used,\n",
       " 'time_counter_bnds': <class 'netCDF4._netCDF4.Variable'>\n",
       " float32 time_counter_bnds(time_counter, tbnds)\n",
       " unlimited dimensions: \n",
       " current shape = (960, 2)\n",
       " filling on, default _FillValue of 9.969209968386869e+36 used,\n",
       " 'vomecrty': <class 'netCDF4._netCDF4.Variable'>\n",
       " float32 vomecrty(time_counter, depthv, y, x)\n",
       " unlimited dimensions: y, x\n",
       " current shape = (960, 40, 80, 80)\n",
       " filling on, default _FillValue of 9.969209968386869e+36 used,\n",
       " 'vosaline': <class 'netCDF4._netCDF4.Variable'>\n",
       " float32 vosaline(time_counter, deptht, y, x)\n",
       " unlimited dimensions: y, x\n",
       " current shape = (960, 40, 80, 80)\n",
       " filling on, default _FillValue of 9.969209968386869e+36 used,\n",
       " 'vozocrtx': <class 'netCDF4._netCDF4.Variable'>\n",
       " float32 vozocrtx(time_counter, depthu, y, x)\n",
       " unlimited dimensions: y, x\n",
       " current shape = (960, 40, 80, 80)\n",
       " filling on, default _FillValue of 9.969209968386869e+36 used}"
      ]
     },
     "execution_count": 20,
     "metadata": {},
     "output_type": "execute_result"
    }
   ],
   "source": [
    "newvars"
   ]
  },
  {
   "cell_type": "code",
   "execution_count": 21,
   "metadata": {
    "collapsed": false
   },
   "outputs": [
    {
     "data": {
      "text/plain": [
       "<matplotlib.collections.QuadMesh at 0x7f5b49157b38>"
      ]
     },
     "execution_count": 21,
     "metadata": {},
     "output_type": "execute_result"
    },
    {
     "data": {
      "image/png": "[encoded data removed]",
      "text/plain": [
       "<matplotlib.figure.Figure at 0x7f5b4b571710>"
      ]
     },
     "metadata": {},
     "output_type": "display_data"
    }
   ],
   "source": [
    "plt.pcolormesh(newvars['vosaline'][10,0,:,:])"
   ]
  },
  {
   "cell_type": "code",
   "execution_count": 22,
   "metadata": {
    "collapsed": false
   },
   "outputs": [
    {
     "data": {
      "text/plain": [
       "<matplotlib.collections.QuadMesh at 0x7f5b4907cda0>"
      ]
     },
     "execution_count": 22,
     "metadata": {},
     "output_type": "execute_result"
    },
    {
     "data": {
      "image/png": "[encoded data removed]",
      "text/plain": [
       "<matplotlib.figure.Figure at 0x7f5b4b571ac8>"
      ]
     },
     "metadata": {},
     "output_type": "display_data"
    }
   ],
   "source": [
    "\n",
    "plt.pcolormesh(newvars['nav_lat'][:])"
   ]
  },
  {
   "cell_type": "code",
   "execution_count": 23,
   "metadata": {
    "collapsed": false
   },
   "outputs": [
    {
     "data": {
      "text/plain": [
       "<matplotlib.collections.QuadMesh at 0x7f5b4906b7b8>"
      ]
     },
     "execution_count": 23,
     "metadata": {},
     "output_type": "execute_result"
    },
    {
     "data": {
      "image/png": "[encoded data removed]",
      "text/plain": [
       "<matplotlib.figure.Figure at 0x7f5b49086e80>"
      ]
     },
     "metadata": {},
     "output_type": "display_data"
    }
   ],
   "source": [
    "plt.pcolormesh(newvars['nav_lon'][:])"
   ]
  },
  {
   "cell_type": "code",
   "execution_count": 24,
   "metadata": {
    "collapsed": true
   },
   "outputs": [],
   "source": [
    "new.close()"
   ]
  },
  {
   "cell_type": "code",
   "execution_count": 25,
   "metadata": {
    "collapsed": false
   },
   "outputs": [
    {
     "data": {
      "image/png": "[encoded data removed]",
      "text/plain": [
       "<matplotlib.figure.Figure at 0x7f5b4908c780>"
      ]
     },
     "metadata": {},
     "output_type": "display_data"
    }
   ],
   "source": [
    "fig, axs = plt.subplots(3,3,figsize=(10,10))\n",
    "for ax, name in zip(axs.flatten(), filenames[::-1,:].flatten()):\n",
    "    f=nc.Dataset(name)\n",
    "    var = f.variables['vosaline'][10,0,:,:]\n",
    "    ax.pcolormesh(var,vmin=0,vmax=30)"
   ]
  },
  {
   "cell_type": "markdown",
   "metadata": {},
   "source": [
    "Improvements\n",
    "\n",
    "Could attempt to copy over some of the metadeta..."
   ]
  },
  {
   "cell_type": "code",
   "execution_count": null,
   "metadata": {
    "collapsed": true
   },
   "outputs": [],
   "source": []
  }
 ],
 "metadata": {
  "kernelspec": {
   "display_name": "Python 3",
   "language": "python",
   "name": "python3"
  },
  "language_info": {
   "codemirror_mode": {
    "name": "ipython",
    "version": 3
   },
   "file_extension": ".py",
   "mimetype": "text/x-python",
   "name": "python",
   "nbconvert_exporter": "python",
   "pygments_lexer": "ipython3",
   "version": "3.4.3"
  }
 },
 "nbformat": 4,
 "nbformat_minor": 0
}
