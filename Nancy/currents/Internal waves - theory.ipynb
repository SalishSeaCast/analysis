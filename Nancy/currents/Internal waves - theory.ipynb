{
 "cells": [
  {
   "cell_type": "markdown",
   "metadata": {},
   "source": [
    "This notebook will look at some internal wave speed theory. I will try to pick out things like the phase speed of the waves in the surface layer and slope of internal wave beams..."
   ]
  },
  {
   "cell_type": "code",
   "execution_count": 1,
   "metadata": {
    "collapsed": true
   },
   "outputs": [],
   "source": [
    "import netCDF4 as nc\n",
    "import numpy as np\n",
    "\n",
    "from salishsea_tools.nowcast import analyze\n",
    "\n",
    "import datetime"
   ]
  },
  {
   "cell_type": "markdown",
   "metadata": {},
   "source": [
    "# Some theory\n",
    "\n",
    "## Constant buoyancy frequency\n",
    "\n",
    "Dispersion relation of internal waves (Kundu, 2003).\n",
    "\n",
    "$m^2 = \\frac{k^2(N^2-\\omega^2)}{\\omega^2-f^2} $\n",
    "\n",
    "where $m$ is the vertical wave number, $k$ is the horizontal wave number, $\\omega$ is the wave frequency, $N$ is the buoyancy frequency, and $f$ is the interial frequency. This can be simplifed in certain regimes of $\\omega$ wrt to $N$ and $f$, but given that a I don't know $N$ yet I will just keep going with this.\n",
    "\n",
    "Assuming a modal decomposition, where $m = \\frac{n\\pi}{H}$ and $n=1,2,....$ for the mode and $H$ is the depth of the domain, I could figure out a vertical and horizontal wavelength for each mode at say the $M_2$ frequency. I just need $H$ and $N$. I will use the model results to estimate $N$ and $H$. \n",
    "\n",
    "But, I don't think the baroclinic currents we see in the surface layer are caused by this kind of wave. The surface is more like a two-layer stratification! Nonetheless, I still think it is a worthwhile exercise to calculate these values and also the slope of the internal wave beams:\n",
    "\n",
    "$slope = \\sqrt{\\frac{\\omega^2 - f^2}{N^2-\\omega^2}}$.\n",
    "\n",
    "Can we see internal wave beams at this slope in the model?\n",
    "\n",
    "\n",
    "## Two layer stratification\n",
    "\n",
    "Linear long wave speed in a two-layer stratification (Helfrich and Melville, 2006):\n",
    "\n",
    "$c_0 = \\sqrt{2g\\frac{\\rho_2 - \\rho_1}{\\rho_2 + \\rho_1}\\frac{h_1h_2}{h_1+h_2}}$\n",
    "\n",
    "where $\\rho_1$ and $h_1$ are the density and thickness of the upper layer, $\\rho_2$ and $h_2$ are the density and thickness of the lower layer, and $g$ is the acceleration due to gravity.\n",
    "\n",
    "Since $c = \\omega/k$, I can figure out a horizontal wave length for the waves at the $M_2$ frequency. I just need $\\rho_1$, $\\rho_2$, $h_1$ and $h_2$ which I can estimate from the model.\n",
    "\n",
    "Then, I could look at the changes in phase across the domain and see if the speed suggested by the changes in phase is in line with my predictions.  "
   ]
  },
  {
   "cell_type": "code",
   "execution_count": 2,
   "metadata": {
    "collapsed": true
   },
   "outputs": [],
   "source": [
    "def calculate_density(t, s):\n",
    "    \"\"\"Caluclates the density given temperature in deg C (t)\n",
    "    and salinity in psu (s).\n",
    "\n",
    "    returns the density as an array (rho)\n",
    "    \"\"\"\n",
    "\n",
    "    rho = (\n",
    "        999.842594 + 6.793952e-2 * t\n",
    "        - 9.095290e-3 * t*t + 1.001685e-4 * t*t*t\n",
    "        - 1.120083e-6 * t*t*t*t + 6.536332e-9 * t*t*t*t*t\n",
    "        + 8.24493e-1 * s - 4.0899e-3 * t*s\n",
    "        + 7.6438e-5 * t*t*s - 8.2467e-7 * t*t*t*s\n",
    "        + 5.3875e-9 * t*t*t*t*s - 5.72466e-3 * s**1.5\n",
    "        + 1.0227e-4 * t*s**1.5 - 1.6546e-6 * t*t*s**1.5\n",
    "        + 4.8314e-4 * s*s\n",
    "        )\n",
    "\n",
    "    return rho"
   ]
  },
  {
   "cell_type": "code",
   "execution_count": 3,
   "metadata": {
    "collapsed": true
   },
   "outputs": [],
   "source": [
    "def calculate_buoyancy_frequency(temp, sal, e3, depth_axis=1):\n",
    "    \"\"\" Calculate the squared buoyancy frequency (n2) given temperature and\n",
    "    salinity profiles. N2 is set to  g*drho/dz/rho. Note that NEMO uses a \n",
    "    defintion based on an equation of state:   \n",
    "    g* (alpha dk[T] + beta dk[S] ) / e3w\n",
    "\n",
    "    temp and sal are the temperature and salinity arrays\n",
    "    e3 is an array of the vertical scale factors (grid spacing). Use e3w for\n",
    "    constistency with NEMO.\n",
    "    depth_axis defines the axis which corresponds to depth in the temp/sal\n",
    "    arrays\n",
    "\n",
    "    returns n2, an array of square buoyancy frequency at each point in temp/sal.\n",
    "    \"\"\"\n",
    "\n",
    "    # acceleration due to gravity\n",
    "    g = 9.80665\n",
    "\n",
    "    # First calculate density.\n",
    "    rho = calculate_density(temp, sal)\n",
    "\n",
    "    # Density gradient\n",
    "    drho = np.zeros(rho.shape)\n",
    "    # roll depth axis in rho and drho to first axis\n",
    "    # assume e3 already has depth axis in first axis\n",
    "    drho_r = np.rollaxis(drho, depth_axis)\n",
    "    rho_r = np.rollaxis(rho, depth_axis)\n",
    "    for k in np.arange(1, drho.shape[depth_axis]-1):\n",
    "        drho_r[k, ...] = 1/e3[k, ...]*(rho_r[k+1, ...] - rho_r[k, ...])\n",
    "    # Unroll drho\n",
    "    drho = np.rollaxis(drho_r, 0, depth_axis+1)\n",
    "    rho = np.rollaxis(rho_r, 0, depth_axis+1)\n",
    "    # Define N2\n",
    "    n2 = g*drho/rho  # no negative because depth increases with increasking k\n",
    "\n",
    "    return n2"
   ]
  },
  {
   "cell_type": "markdown",
   "metadata": {},
   "source": [
    "Plan: look at some snapshots of density and N2 in the CODAR region over the time I calculated the tides. \n",
    "* Does it make sense to avergae over that whole time period?\n",
    "* Is there a representative grid point (VENUS central say)?\n",
    "\n",
    "I didn't save my T/S in the model time series. I don't think it will take too long to load the daily averages."
   ]
  },
  {
   "cell_type": "code",
   "execution_count": 4,
   "metadata": {
    "collapsed": false
   },
   "outputs": [],
   "source": [
    "to = datetime.datetime(2014, 11, 26)\n",
    "tf = datetime.datetime(2015, 4, 26)\n",
    "jmin = 379\n",
    "jmax = 461\n",
    "imin = 236\n",
    "imax = 321\n",
    "jss = np.arange(jmin, jmax)\n",
    "iss = np.arange(imin, imax)\n",
    "ks = np.arange(0,40)\n",
    "\n",
    "files = analyze.get_filenames(to, tf, '1d', 'grid_T', '/data/dlatorne/MEOPAR/SalishSea/nowcast/')\n",
    "\n",
    "sal, times =  analyze.combine_files(files, 'vosaline',ks, jss, iss)\n",
    "temp, times =  analyze.combine_files(files, 'votemper',ks, jss, iss)"
   ]
  },
  {
   "cell_type": "code",
   "execution_count": 5,
   "metadata": {
    "collapsed": false
   },
   "outputs": [],
   "source": [
    "rho = calculate_density(temp, sal)\n",
    "mesh = nc.Dataset('/data/nsoontie/MEOPAR/NEMO-forcing/grid/mesh_mask_SalishSea2.nc')\n",
    "e3w = mesh.variables['e3w'][0,:,jss,iss]\n",
    "n2 = calculate_buoyancy_frequency(temp, sal, e3w)"
   ]
  },
  {
   "cell_type": "code",
   "execution_count": 6,
   "metadata": {
    "collapsed": false
   },
   "outputs": [],
   "source": [
    "lons= mesh.variables['glamt'][0,jss,iss]\n",
    "lats = mesh.variables['gphit'][0,jss,iss]\n",
    "depths = mesh.variables['gdept'][0,:,jss,iss]"
   ]
  },
  {
   "cell_type": "code",
   "execution_count": 7,
   "metadata": {
    "collapsed": false
   },
   "outputs": [
    {
     "data": {
      "text/plain": [
       "<matplotlib.text.Text at 0x7f458a981a20>"
      ]
     },
     "execution_count": 7,
     "metadata": {},
     "output_type": "execute_result"
    },
    {
     "data": {
      "image/png": "[encoded data removed]",
      "text/plain": [
       "<matplotlib.figure.Figure at 0x7f458ac0ea20>"
      ]
     },
     "metadata": {},
     "output_type": "display_data"
    }
   ],
   "source": [
    "import matplotlib.pyplot as plt\n",
    "%matplotlib inline\n",
    "\n",
    "plt.pcolormesh(lons, lats, rho[0,0,:,:])\n",
    "plt.colorbar()\n",
    "plt.title('Surface density')"
   ]
  },
  {
   "cell_type": "code",
   "execution_count": 8,
   "metadata": {
    "collapsed": true
   },
   "outputs": [],
   "source": [
    "from salishsea_tools.nowcast import research_VENUS\n",
    "from salishsea_tools.nowcast import figures"
   ]
  },
  {
   "cell_type": "code",
   "execution_count": 9,
   "metadata": {
    "collapsed": false
   },
   "outputs": [],
   "source": [
    "SITES=research_VENUS.SITES['VENUS']\n",
    "\n",
    "[jc, ic] = figures.find_model_point(SITES['Central']['lon'], SITES['Central']['lat'], lons, lats, \n",
    "                                    tol_lon=0.005, tol_lat=0.002)\n",
    "[je, ie] = figures.find_model_point(SITES['East']['lon'], SITES['East']['lat'], lons, lats, \n",
    "                                    tol_lon=0.005, tol_lat=0.001)"
   ]
  },
  {
   "cell_type": "code",
   "execution_count": 10,
   "metadata": {
    "collapsed": false
   },
   "outputs": [
    {
     "data": {
      "text/plain": [
       "<matplotlib.text.Text at 0x7f4570c80320>"
      ]
     },
     "execution_count": 10,
     "metadata": {},
     "output_type": "execute_result"
    },
    {
     "data": {
      "image/png": "[encoded data removed]",
      "text/plain": [
       "<matplotlib.figure.Figure at 0x7f4570d35eb8>"
      ]
     },
     "metadata": {},
     "output_type": "display_data"
    }
   ],
   "source": [
    "fig,axs = plt.subplots(1,2,figsize=(10,3))\n",
    "for t in np.arange(rho.shape[0]):\n",
    "    axs[0].plot( rho[t,:,jc[0],ic[0]], -depths[:,jc[0],ic[0]],)\n",
    "    axs[1].plot(n2[t,:,jc[0],ic[0]], -depths[:,jc[0],ic[0]],)\n",
    "ax=axs[0]\n",
    "ax.set_title('Central density')\n",
    "ax.set_xlim([1000,1025])\n",
    "ax.set_ylim([-300, 0])\n",
    "ax.set_xlabel('Density (kg/m^3)')\n",
    "ax.set_ylabel('depth[m]')\n",
    "ax=axs[1]\n",
    "ax.set_title('Central N2')\n",
    "ax.set_xlim([-.01, 0.05])\n",
    "ax.set_ylim([ -300, 0])\n",
    "ax.set_xlabel('Squared Buoyancy freq (1/s)')\n",
    "ax.set_ylabel('depth[m]')"
   ]
  },
  {
   "cell_type": "code",
   "execution_count": 11,
   "metadata": {
    "collapsed": false
   },
   "outputs": [
    {
     "data": {
      "text/plain": [
       "<matplotlib.text.Text at 0x7f45708b5128>"
      ]
     },
     "execution_count": 11,
     "metadata": {},
     "output_type": "execute_result"
    },
    {
     "data": {
      "image/png": "[encoded data removed]",
      "text/plain": [
       "<matplotlib.figure.Figure at 0x7f45708efa20>"
      ]
     },
     "metadata": {},
     "output_type": "display_data"
    }
   ],
   "source": [
    "fig,axs = plt.subplots(1,2,figsize=(10,3))\n",
    "for t in np.arange(rho.shape[0]):\n",
    "    axs[0].plot( rho[t,:,je[0],ie[0]], -depths[:,je[0],ie[0]],)\n",
    "    axs[1].plot(n2[t,:,je[0],ie[0]], -depths[:,je[0],ie[0]],)\n",
    "ax=axs[0]\n",
    "ax.set_title('East density')\n",
    "ax.set_xlim([1000,1025])\n",
    "ax.set_ylim([-170, 0])\n",
    "ax.set_xlabel('Density (kg/m^3)')\n",
    "ax.set_ylabel('depth[m]')\n",
    "ax=axs[1]\n",
    "ax.set_title('East N2')\n",
    "ax.set_xlim([-.01, 0.05])\n",
    "ax.set_ylim([ -170, 0])\n",
    "ax.set_xlabel('Squared Buoyancy freq (1/s)')\n",
    "ax.set_ylabel('depth[m]')"
   ]
  },
  {
   "cell_type": "markdown",
   "metadata": {},
   "source": [
    "There are more sophisticated ways of doing this, but I'm just going to take the upper layer as 15m and above. \n",
    "\n",
    "Next - Average the buoyancy frequency and density above/below 15m\n",
    "\n",
    "### Central"
   ]
  },
  {
   "cell_type": "code",
   "execution_count": 16,
   "metadata": {
    "collapsed": true
   },
   "outputs": [],
   "source": [
    "dep_surf = 15\n",
    "central_H =280\n",
    "east_H = 150"
   ]
  },
  {
   "cell_type": "code",
   "execution_count": 17,
   "metadata": {
    "collapsed": false
   },
   "outputs": [
    {
     "name": "stdout",
     "output_type": "stream",
     "text": [
      "Mean deep N2 0.000289294404192\n",
      "Mean shallow N2 0.00195530367381\n",
      "Mean deep rho 1022.6\n",
      "Mean shallow rho 1020.17\n"
     ]
    }
   ],
   "source": [
    "depc = depths[:,jc[0],ic[0]]\n",
    "\n",
    "n2_central_deep = n2[:,np.where(np.logical_and(depc>dep_surf, depc<central_H)), jc[0], ic[0]]\n",
    "n2_central_shallow = n2[:,np.where(np.logical_and(depc<dep_surf, depc>1)), jc[0], ic[0]]\n",
    "\n",
    "rho_central_deep = rho[:,np.where(np.logical_and(depc>dep_surf, depc<central_H)), jc[0], ic[0]]\n",
    "rho_central_shallow = rho[:,np.where(depc<dep_surf), jc[0], ic[0]]\n",
    "\n",
    "print('Mean deep N2', np.mean(n2_central_deep))\n",
    "print('Mean shallow N2', np.mean(n2_central_shallow))\n",
    "print('Mean deep rho', np.mean(rho_central_deep))\n",
    "print('Mean shallow rho', np.mean(rho_central_shallow))"
   ]
  },
  {
   "cell_type": "markdown",
   "metadata": {},
   "source": [
    "Seems really small for N2...\n",
    "\n",
    "### East"
   ]
  },
  {
   "cell_type": "code",
   "execution_count": 18,
   "metadata": {
    "collapsed": false
   },
   "outputs": [
    {
     "name": "stdout",
     "output_type": "stream",
     "text": [
      "Mean deep N2 0.000296823508401\n",
      "Mean shallow N2 0.00337408283137\n",
      "Mean deep rho 1022.46\n",
      "Mean shallow rho 1020.0\n"
     ]
    }
   ],
   "source": [
    "depe = depths[:,je[0],ie[0]]\n",
    "\n",
    "n2_east_deep = n2[:,np.where(np.logical_and(depe>dep_surf, depe<east_H)), je[0], ie[0]]\n",
    "n2_east_shallow = n2[:,np.where(np.logical_and(depe<dep_surf, depe>1)), je[0], ie[0]]\n",
    "\n",
    "rho_east_deep = rho[:,np.where(np.logical_and(depe>dep_surf, depe<east_H)), je[0], ie[0]]\n",
    "rho_east_shallow = rho[:,np.where(depe<15), je[0], ie[0]]\n",
    "\n",
    "print('Mean deep N2', np.mean(n2_east_deep))\n",
    "print('Mean shallow N2', np.mean(n2_east_shallow))\n",
    "print('Mean deep rho', np.mean(rho_east_deep))\n",
    "print('Mean shallow rho', np.mean(rho_east_shallow))"
   ]
  },
  {
   "cell_type": "markdown",
   "metadata": {},
   "source": [
    "* Deep east N2 and density is similar to deep central. \n",
    "* East and Central have similar densities in my surface layer. Does that make sense? I would think that East is less dense.\n",
    "* East is more stratified. This makes sense because it is closer to the river.\n",
    "* I probably should look at standard deviation to see how variable this numbers are...\n",
    "\n",
    "## Parameters for wave calculations\n",
    "I will calculate wave parmeters at east and central separately."
   ]
  },
  {
   "cell_type": "code",
   "execution_count": 31,
   "metadata": {
    "collapsed": false
   },
   "outputs": [],
   "source": [
    "h1={}\n",
    "h2={}\n",
    "rho1={}\n",
    "rho2={}\n",
    "H ={}\n",
    "n2_names={}\n",
    "\n",
    "#East\n",
    "name = 'East'\n",
    "H[name] = 150\n",
    "h1[name] = 15\n",
    "h2[name] = H[name] - h1[name]\n",
    "rho1[name] = np.mean(rho_east_shallow)\n",
    "rho2[name] = np.mean(rho_east_deep)\n",
    "n2_names[name] = np.mean(n2_east_deep)\n",
    "\n",
    "#East\n",
    "name = 'Central'\n",
    "H[name] = 280\n",
    "h1[name] = 15\n",
    "h2[name] = H[name] - h1[name]\n",
    "rho1[name] = np.mean(rho_east_shallow)\n",
    "rho2[name] = np.mean(rho_east_deep)\n",
    "n2_names[name] = np.mean(n2_east_deep)\n",
    "\n",
    "M2_freq = 2*np.pi/(12.4206*3600)\n",
    "g = 9.80665\n",
    "f = 2*1/(24*3600)*np.sin(np.deg2rad(49))"
   ]
  },
  {
   "cell_type": "markdown",
   "metadata": {},
   "source": [
    "### Linear long wave speed\n",
    "$c_0 = \\sqrt{2g\\frac{\\rho_2 - \\rho_1}{\\rho_2 + \\rho_1}\\frac{h_1h_2}{h_1+h_2}}$"
   ]
  },
  {
   "cell_type": "code",
   "execution_count": 26,
   "metadata": {
    "collapsed": true
   },
   "outputs": [],
   "source": [
    "co={}\n",
    "k = {}\n",
    "lam = {}\n",
    "for name in ['East', 'Central']:\n",
    "    co[name] = np.sqrt( 2*g*(rho2[name]-rho1[name])/(rho2[name]+rho1[name])*h1[name]*h2[name]/(H[name]))\n",
    "    k[name] = M2_freq/co[name]\n",
    "    lam[name] = 2*np.pi/(k[name])/1000 #in km"
   ]
  },
  {
   "cell_type": "code",
   "execution_count": 29,
   "metadata": {
    "collapsed": false
   },
   "outputs": [
    {
     "data": {
      "text/plain": [
       "{'Central': 0.53928945548873375, 'East': 0.52589526697449462}"
      ]
     },
     "execution_count": 29,
     "metadata": {},
     "output_type": "execute_result"
    }
   ],
   "source": [
    "co #in m/s"
   ]
  },
  {
   "cell_type": "code",
   "execution_count": 30,
   "metadata": {
    "collapsed": false
   },
   "outputs": [
    {
     "data": {
      "text/plain": [
       "{'Central': 24.113874999036121, 'East': 23.514965110740267}"
      ]
     },
     "execution_count": 30,
     "metadata": {},
     "output_type": "execute_result"
    }
   ],
   "source": [
    "lam #in km"
   ]
  },
  {
   "cell_type": "markdown",
   "metadata": {},
   "source": [
    "How do these values comapre to what an observationalist would get? At least I've confirmed that the model can resolve these waves horizontally. \n",
    "\n",
    "Not much variation between Central and East.\n",
    "\n",
    "This is complicated because the actual waves would interact with the mean current. I need to figure out directions of propagation etc. \n",
    "\n",
    "This wave lengths are interesting because this is about the width of the Strait of Gerogia."
   ]
  },
  {
   "cell_type": "markdown",
   "metadata": {
    "collapsed": true
   },
   "source": [
    "### Constant N\n",
    "$slope = \\sqrt{\\frac{\\omega^2 - f^2}{N^2-\\omega^2}}$."
   ]
  },
  {
   "cell_type": "code",
   "execution_count": 35,
   "metadata": {
    "collapsed": false
   },
   "outputs": [],
   "source": [
    "slope = {}\n",
    "for name in ['East','Central']:\n",
    "    slope[name] = np.sqrt((M2_freq**2 - f**2)/(n2_names[names] - M2_freq**2))"
   ]
  },
  {
   "cell_type": "code",
   "execution_count": 36,
   "metadata": {
    "collapsed": false
   },
   "outputs": [
    {
     "data": {
      "text/plain": [
       "{'Central': 0.0080931474889411967, 'East': 0.0080931474889411967}"
      ]
     },
     "execution_count": 36,
     "metadata": {},
     "output_type": "execute_result"
    }
   ],
   "source": [
    "slope"
   ]
  },
  {
   "cell_type": "markdown",
   "metadata": {},
   "source": [
    "Check in model? My estimate is (based on eyeballs of beam rise and run):"
   ]
  },
  {
   "cell_type": "code",
   "execution_count": 23,
   "metadata": {
    "collapsed": false
   },
   "outputs": [
    {
     "data": {
      "text/plain": [
       "0.008666666666666666"
      ]
     },
     "execution_count": 23,
     "metadata": {},
     "output_type": "execute_result"
    }
   ],
   "source": [
    "dx =(100-70)*500\n",
    "dz = 130\n",
    "dz/dx"
   ]
  },
  {
   "cell_type": "markdown",
   "metadata": {},
   "source": []
  }
 ],
 "metadata": {
  "kernelspec": {
   "display_name": "Python 3",
   "language": "python",
   "name": "python3"
  },
  "language_info": {
   "codemirror_mode": {
    "name": "ipython",
    "version": 3
   },
   "file_extension": ".py",
   "mimetype": "text/x-python",
   "name": "python",
   "nbconvert_exporter": "python",
   "pygments_lexer": "ipython3",
   "version": "3.4.3"
  }
 },
 "nbformat": 4,
 "nbformat_minor": 0
}
