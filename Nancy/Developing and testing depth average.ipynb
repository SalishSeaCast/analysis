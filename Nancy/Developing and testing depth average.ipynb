{
 "cells": [
  {
   "cell_type": "markdown",
   "metadata": {},
   "source": [
    "This notebooks is used to develope and test a function that will calulate the depth average of a model variable."
   ]
  },
  {
   "cell_type": "markdown",
   "metadata": {},
   "source": [
    "# Planning"
   ]
  },
  {
   "cell_type": "markdown",
   "metadata": {},
   "source": [
    "* Use np.trapz to integrate\n",
    "* Average by dividing by the depth\n",
    "\n",
    "Finding the depth might be tricky. We could use the bathymetry but I think there are differences between the bathymetry file and the actual depth of the grid cell. I can think of two approaches\n",
    "\n",
    "1. Take advantage of masking. Look up index of masked point and evaluate the depth.\n",
    "2. Use the batyhmetry to look up the grid point depth.\n",
    "\n",
    "My plan is to use the first approach."
   ]
  },
  {
   "cell_type": "markdown",
   "metadata": {
    "collapsed": true
   },
   "source": [
    "# Loading"
   ]
  },
  {
   "cell_type": "code",
   "execution_count": 1,
   "metadata": {
    "collapsed": true
   },
   "outputs": [],
   "source": [
    "%matplotlib inline\n",
    "import matplotlib.pyplot as plt\n",
    "import netCDF4 as nc\n",
    "import numpy as np\n",
    "import os"
   ]
  },
  {
   "cell_type": "markdown",
   "metadata": {},
   "source": [
    "# Function"
   ]
  },
  {
   "cell_type": "code",
   "execution_count": 2,
   "metadata": {
    "collapsed": false
   },
   "outputs": [],
   "source": [
    "def depth_average(var,depths,depth_axis):\n",
    "    \"\"\"Average over depth using the trapezoid rule. The variable should be masked to apply this function. \n",
    "    The depth is calcluated based on masking. \n",
    "    If the variable is not masked then the maximum depth of the entire domain is used. \n",
    "    \n",
    "    :arg var: variable to average\n",
    "    :type var: masked numpy array\n",
    "    \n",
    "    :arg depths: the depths associated with var\n",
    "    :type depths: numpy array\n",
    "    \n",
    "    :arg depth_axis: The axis in var associated with depth\n",
    "    :type depth_axis: int\n",
    "    \n",
    "    :returns: avg, the depth averaged var.\n",
    "    \n",
    "    \"\"\"\n",
    "    # Make sure depths is an array and not an netcf variable.\n",
    "    de=np.array(depths)\n",
    "    # Integrate, the easy part\n",
    "    integral = np.trapz(var,x=de,axis=depth_axis)\n",
    "    # Find depth for averaging\n",
    "    # Need to expand the depths array to same shape as the variable. This is really awkward..\n",
    "    for n in np.arange(var.ndim-1):\n",
    "        de=de[:,np.newaxis]\n",
    "    roll=np.rollaxis(var,depth_axis)\n",
    "    expanded_depths=  de +np.zeros(roll.shape)\n",
    "    expanded_depths=np.rollaxis(expanded_depths,0,depth_axis+1)\n",
    "    # Apply variable mask to depth masks\n",
    "    mask = np.ma.getmask(var)\n",
    "    depth_masked = np.ma.array(expanded_depths,mask=mask )\n",
    "    # Look up maximum depth and surface depth to calculate total depth of water column\n",
    "    max_depths = np.ma.max(depth_masked, axis=depth_axis)\n",
    "    surface_depths = depth_masked.take(0,axis=depth_axis)\n",
    "    total_depth = max_depths-surface_depths\n",
    "    # Divide integral by total depth\n",
    "    average = integral/total_depth\n",
    "    \n",
    "    \n",
    "    return average"
   ]
  },
  {
   "cell_type": "markdown",
   "metadata": {},
   "source": [
    "# Testing"
   ]
  },
  {
   "cell_type": "markdown",
   "metadata": {},
   "source": [
    "## Depth increasing linearly"
   ]
  },
  {
   "cell_type": "code",
   "execution_count": 3,
   "metadata": {
    "collapsed": false
   },
   "outputs": [
    {
     "name": "stdout",
     "output_type": "stream",
     "text": [
      "(40,)\n"
     ]
    }
   ],
   "source": [
    "#depths (linear)\n",
    "depths = np.arange(0,40)\n",
    "print depths.shape"
   ]
  },
  {
   "cell_type": "markdown",
   "metadata": {},
   "source": [
    "Zero array\n"
   ]
  },
  {
   "cell_type": "code",
   "execution_count": 4,
   "metadata": {
    "collapsed": false
   },
   "outputs": [
    {
     "name": "stdout",
     "output_type": "stream",
     "text": [
      "[0.0]\n",
      "(40, 1)\n"
     ]
    }
   ],
   "source": [
    "#1D zeros array\n",
    "var = np.zeros((depths.shape[0],1))\n",
    "print depth_average(var,depths,depth_axis=0)\n",
    "print var.shape"
   ]
  },
  {
   "cell_type": "markdown",
   "metadata": {},
   "source": [
    "Testing size. What happens if the shape of the array is (N,) instead of (N,1)"
   ]
  },
  {
   "cell_type": "code",
   "execution_count": 5,
   "metadata": {
    "collapsed": false
   },
   "outputs": [
    {
     "name": "stdout",
     "output_type": "stream",
     "text": [
      "0.0\n",
      "(40,)\n"
     ]
    }
   ],
   "source": [
    "#1D zeros array\n",
    "var = np.zeros((depths.shape[0]))\n",
    "print depth_average(var,depths,depth_axis=0)\n",
    "print var.shape"
   ]
  },
  {
   "cell_type": "markdown",
   "metadata": {},
   "source": [
    "Constant array"
   ]
  },
  {
   "cell_type": "code",
   "execution_count": 6,
   "metadata": {
    "collapsed": false
   },
   "outputs": [
    {
     "name": "stdout",
     "output_type": "stream",
     "text": [
      "[1.0]\n",
      "(40, 1)\n"
     ]
    }
   ],
   "source": [
    "#1D ones array\n",
    "var = np.ones((depths.shape[0],1))\n",
    "print depth_average(var,depths,depth_axis=0)\n",
    "print var.shape"
   ]
  },
  {
   "cell_type": "markdown",
   "metadata": {},
   "source": [
    "First axis time, second axis depth"
   ]
  },
  {
   "cell_type": "code",
   "execution_count": 7,
   "metadata": {
    "collapsed": false
   },
   "outputs": [
    {
     "name": "stdout",
     "output_type": "stream",
     "text": [
      "[1.0 1.0 1.0 1.0 1.0 1.0 1.0 1.0 1.0 1.0]\n",
      "(10,)\n",
      "(10, 40)\n"
     ]
    }
   ],
   "source": [
    "#1D ones array\n",
    "#num output times\n",
    "ts = 10;\n",
    "var = np.ones((ts,depths.shape[0]))\n",
    "avg= depth_average(var,depths,depth_axis=1)\n",
    "print avg\n",
    "print avg.shape\n",
    "print var.shape\n"
   ]
  },
  {
   "cell_type": "markdown",
   "metadata": {},
   "source": [
    "First axis time, second axis depth, thrid axis x"
   ]
  },
  {
   "cell_type": "code",
   "execution_count": 8,
   "metadata": {
    "collapsed": false
   },
   "outputs": [
    {
     "name": "stdout",
     "output_type": "stream",
     "text": [
      "[[1.0 1.0 1.0 1.0 1.0 1.0 1.0 1.0 1.0 1.0 1.0]\n",
      " [1.0 1.0 1.0 1.0 1.0 1.0 1.0 1.0 1.0 1.0 1.0]\n",
      " [1.0 1.0 1.0 1.0 1.0 1.0 1.0 1.0 1.0 1.0 1.0]\n",
      " [1.0 1.0 1.0 1.0 1.0 1.0 1.0 1.0 1.0 1.0 1.0]\n",
      " [1.0 1.0 1.0 1.0 1.0 1.0 1.0 1.0 1.0 1.0 1.0]\n",
      " [1.0 1.0 1.0 1.0 1.0 1.0 1.0 1.0 1.0 1.0 1.0]\n",
      " [1.0 1.0 1.0 1.0 1.0 1.0 1.0 1.0 1.0 1.0 1.0]\n",
      " [1.0 1.0 1.0 1.0 1.0 1.0 1.0 1.0 1.0 1.0 1.0]\n",
      " [1.0 1.0 1.0 1.0 1.0 1.0 1.0 1.0 1.0 1.0 1.0]\n",
      " [1.0 1.0 1.0 1.0 1.0 1.0 1.0 1.0 1.0 1.0 1.0]]\n",
      "(10, 11)\n",
      "(10, 40, 11)\n"
     ]
    }
   ],
   "source": [
    "#1D ones array\n",
    "#num output times\n",
    "ts = 10; xs=11\n",
    "var = np.ones((ts,depths.shape[0],xs))\n",
    "avg= depth_average(var,depths,depth_axis=1)\n",
    "print avg\n",
    "print avg.shape\n",
    "print var.shape\n"
   ]
  },
  {
   "cell_type": "markdown",
   "metadata": {},
   "source": [
    "First axis time, second axis depth, third axis x, fourth axis y"
   ]
  },
  {
   "cell_type": "code",
   "execution_count": 9,
   "metadata": {
    "collapsed": false
   },
   "outputs": [
    {
     "name": "stdout",
     "output_type": "stream",
     "text": [
      "[[[1.0 1.0 1.0]\n",
      "  [1.0 1.0 1.0]]]\n",
      "(1, 2, 3)\n",
      "(1, 40, 2, 3)\n"
     ]
    }
   ],
   "source": [
    "#1D ones array\n",
    "#num output times\n",
    "ts = 1; xs=2; ys=3\n",
    "var = np.ones((ts,depths.shape[0],xs,ys))\n",
    "avg= depth_average(var,depths,depth_axis=1)\n",
    "print avg\n",
    "print avg.shape\n",
    "print var.shape\n"
   ]
  },
  {
   "cell_type": "markdown",
   "metadata": {
    "collapsed": true
   },
   "source": [
    "Move depth axis"
   ]
  },
  {
   "cell_type": "code",
   "execution_count": 10,
   "metadata": {
    "collapsed": false
   },
   "outputs": [
    {
     "name": "stdout",
     "output_type": "stream",
     "text": [
      "[[1.0 1.0]]\n",
      "(1, 2)\n",
      "(1, 2, 40)\n"
     ]
    }
   ],
   "source": [
    "#1D ones array\n",
    "#num output times\n",
    "ts = 1; xs=2;\n",
    "var = np.ones((ts,xs,depths.shape[0]))\n",
    "avg= depth_average(var,depths,depth_axis=2)\n",
    "print avg\n",
    "print avg.shape\n",
    "print var.shape"
   ]
  },
  {
   "cell_type": "markdown",
   "metadata": {},
   "source": [
    "Different values along time axis"
   ]
  },
  {
   "cell_type": "code",
   "execution_count": 11,
   "metadata": {
    "collapsed": false
   },
   "outputs": [
    {
     "name": "stdout",
     "output_type": "stream",
     "text": [
      "[[2.0 2.0 2.0]\n",
      " [1.0 1.0 1.0]]\n",
      "(2, 3)\n",
      "(2, 40, 3)\n",
      "First time\n",
      "[2.0 2.0 2.0]\n",
      "Second time\n",
      "[1.0 1.0 1.0]\n"
     ]
    }
   ],
   "source": [
    "ts = 2; xs=3;\n",
    "var = np.ones((ts,depths.shape[0],xs))\n",
    "var[0,...] = 2*var[0,...]\n",
    "avg= depth_average(var,depths,depth_axis=1)\n",
    "print avg\n",
    "print avg.shape\n",
    "print var.shape\n",
    "print 'First time'\n",
    "print avg[0,:]\n",
    "print 'Second time'\n",
    "print avg[1,:]"
   ]
  },
  {
   "cell_type": "markdown",
   "metadata": {},
   "source": [
    "Different values along x axis"
   ]
  },
  {
   "cell_type": "code",
   "execution_count": 12,
   "metadata": {
    "collapsed": false
   },
   "outputs": [
    {
     "name": "stdout",
     "output_type": "stream",
     "text": [
      "[[1.0 2.0]\n",
      " [1.0 2.0]\n",
      " [1.0 2.0]]\n",
      "(3, 2)\n",
      "(3, 40, 2)\n",
      "First x\n",
      "[1.0 1.0 1.0]\n",
      "Second x\n",
      "[2.0 2.0 2.0]\n"
     ]
    }
   ],
   "source": [
    "ts = 3; xs=2;\n",
    "var = np.ones((ts,depths.shape[0],xs))\n",
    "var[...,1] = 2*var[...,1]\n",
    "avg= depth_average(var,depths,depth_axis=1)\n",
    "print avg\n",
    "print avg.shape\n",
    "print var.shape\n",
    "print 'First x'\n",
    "print avg[...,0]\n",
    "print 'Second x'\n",
    "print avg[...,1]"
   ]
  },
  {
   "cell_type": "markdown",
   "metadata": {},
   "source": [
    "## Depth grid spacing varies"
   ]
  },
  {
   "cell_type": "code",
   "execution_count": 13,
   "metadata": {
    "collapsed": false
   },
   "outputs": [
    {
     "name": "stdout",
     "output_type": "stream",
     "text": [
      "(40,)\n"
     ]
    }
   ],
   "source": [
    "# Load depths from model data.\n",
    "run='dwr_notsmooth'\n",
    "base='/data/nsoontie/MEOPAR/SalishSea/results/stratification/'\n",
    "path = os.path.join(base,'{}/SalishSea_1d_20030819_20030927_grid_T.nc'.format(run))\n",
    "f = nc.Dataset(path,'r');\n",
    "depths = f.variables['deptht']\n",
    "print depths.shape"
   ]
  },
  {
   "cell_type": "markdown",
   "metadata": {},
   "source": [
    "Zeros"
   ]
  },
  {
   "cell_type": "code",
   "execution_count": 14,
   "metadata": {
    "collapsed": false
   },
   "outputs": [
    {
     "name": "stdout",
     "output_type": "stream",
     "text": [
      "0.0\n",
      "(40,)\n"
     ]
    }
   ],
   "source": [
    "var = np.zeros((depths.shape[0]))\n",
    "print depth_average(var,depths,depth_axis=0)\n",
    "print var.shape"
   ]
  },
  {
   "cell_type": "markdown",
   "metadata": {
    "collapsed": true
   },
   "source": [
    "Ones"
   ]
  },
  {
   "cell_type": "code",
   "execution_count": 15,
   "metadata": {
    "collapsed": false
   },
   "outputs": [
    {
     "name": "stdout",
     "output_type": "stream",
     "text": [
      "1.00000000014\n",
      "(40,)\n"
     ]
    }
   ],
   "source": [
    "var = np.ones((depths.shape[0]))\n",
    "print depth_average(var,depths,depth_axis=0)\n",
    "print var.shape"
   ]
  },
  {
   "cell_type": "markdown",
   "metadata": {},
   "source": [
    "Some small error here. But why...?"
   ]
  },
  {
   "cell_type": "code",
   "execution_count": 16,
   "metadata": {
    "collapsed": false
   },
   "outputs": [
    {
     "name": "stdout",
     "output_type": "stream",
     "text": [
      "440.966\n"
     ]
    }
   ],
   "source": [
    "print depths[-1] - depths[0]"
   ]
  },
  {
   "cell_type": "code",
   "execution_count": 17,
   "metadata": {
    "collapsed": false
   },
   "outputs": [
    {
     "name": "stdout",
     "output_type": "stream",
     "text": [
      "440.966\n"
     ]
    }
   ],
   "source": [
    "diffs = depths[1:]-depths[0:-1]\n",
    "s = np.sum(diffs)\n",
    "print s"
   ]
  },
  {
   "cell_type": "code",
   "execution_count": 18,
   "metadata": {
    "collapsed": false
   },
   "outputs": [
    {
     "name": "stdout",
     "output_type": "stream",
     "text": [
      "440.966094732\n",
      "3.02791595459e-05\n"
     ]
    }
   ],
   "source": [
    "inte =  np.trapz(var, x=depths[:],axis=0)\n",
    "print inte\n",
    "print inte-s"
   ]
  },
  {
   "cell_type": "markdown",
   "metadata": {},
   "source": [
    "In this case, the trapezoid rule should just give us the sum of the grid spacings. There may be some a mismatch in the floating point precision, causing the error. But the error is small and I won't worry about it."
   ]
  },
  {
   "cell_type": "markdown",
   "metadata": {},
   "source": [
    "## Masking"
   ]
  },
  {
   "cell_type": "markdown",
   "metadata": {},
   "source": [
    "Entire array masked, 1D"
   ]
  },
  {
   "cell_type": "code",
   "execution_count": 19,
   "metadata": {
    "collapsed": false
   },
   "outputs": [
    {
     "name": "stdout",
     "output_type": "stream",
     "text": [
      "--\n",
      "(40,)\n",
      "[-- -- -- -- -- -- -- -- -- -- -- -- -- -- -- -- -- -- -- -- -- -- -- -- --\n",
      " -- -- -- -- -- -- -- -- -- -- -- -- -- -- --]\n"
     ]
    }
   ],
   "source": [
    "var = np.zeros((depths.shape[0]))\n",
    "var=np.ma.masked_values(var,0)\n",
    "print depth_average(var,depths,depth_axis=0)\n",
    "print var.shape\n",
    "print var"
   ]
  },
  {
   "cell_type": "markdown",
   "metadata": {},
   "source": [
    "Entire array masked, multiple dimensions"
   ]
  },
  {
   "cell_type": "code",
   "execution_count": 20,
   "metadata": {
    "collapsed": false
   },
   "outputs": [
    {
     "name": "stdout",
     "output_type": "stream",
     "text": [
      "[-- -- --]\n",
      "(3, 40)\n",
      "[[-- -- -- -- -- -- -- -- -- -- -- -- -- -- -- -- -- -- -- -- -- -- -- --\n",
      "  -- -- -- -- -- -- -- -- -- -- -- -- -- -- -- --]\n",
      " [-- -- -- -- -- -- -- -- -- -- -- -- -- -- -- -- -- -- -- -- -- -- -- --\n",
      "  -- -- -- -- -- -- -- -- -- -- -- -- -- -- -- --]\n",
      " [-- -- -- -- -- -- -- -- -- -- -- -- -- -- -- -- -- -- -- -- -- -- -- --\n",
      "  -- -- -- -- -- -- -- -- -- -- -- -- -- -- -- --]]\n"
     ]
    }
   ],
   "source": [
    "var = np.zeros((3,depths.shape[0]))\n",
    "var=np.ma.masked_values(var,0)\n",
    "print depth_average(var,depths,depth_axis=1)\n",
    "print var.shape\n",
    "print var"
   ]
  },
  {
   "cell_type": "markdown",
   "metadata": {},
   "source": [
    "Part of array is masked over entire water column"
   ]
  },
  {
   "cell_type": "code",
   "execution_count": 21,
   "metadata": {
    "collapsed": false
   },
   "outputs": [
    {
     "name": "stdout",
     "output_type": "stream",
     "text": [
      "[-- 1.0000000001351683 1.0000000001351683 1.0000000001351683]\n",
      "(4, 40)\n",
      "[[-- -- -- -- -- -- -- -- -- -- -- -- -- -- -- -- -- -- -- -- -- -- -- --\n",
      "  -- -- -- -- -- -- -- -- -- -- -- -- -- -- -- --]\n",
      " [1.0 1.0 1.0 1.0 1.0 1.0 1.0 1.0 1.0 1.0 1.0 1.0 1.0 1.0 1.0 1.0 1.0 1.0\n",
      "  1.0 1.0 1.0 1.0 1.0 1.0 1.0 1.0 1.0 1.0 1.0 1.0 1.0 1.0 1.0 1.0 1.0 1.0\n",
      "  1.0 1.0 1.0 1.0]\n",
      " [1.0 1.0 1.0 1.0 1.0 1.0 1.0 1.0 1.0 1.0 1.0 1.0 1.0 1.0 1.0 1.0 1.0 1.0\n",
      "  1.0 1.0 1.0 1.0 1.0 1.0 1.0 1.0 1.0 1.0 1.0 1.0 1.0 1.0 1.0 1.0 1.0 1.0\n",
      "  1.0 1.0 1.0 1.0]\n",
      " [1.0 1.0 1.0 1.0 1.0 1.0 1.0 1.0 1.0 1.0 1.0 1.0 1.0 1.0 1.0 1.0 1.0 1.0\n",
      "  1.0 1.0 1.0 1.0 1.0 1.0 1.0 1.0 1.0 1.0 1.0 1.0 1.0 1.0 1.0 1.0 1.0 1.0\n",
      "  1.0 1.0 1.0 1.0]]\n"
     ]
    }
   ],
   "source": [
    "var = np.ones((4,depths.shape[0]))\n",
    "var[0,:]=0\n",
    "var=np.ma.masked_values(var,0)\n",
    "print depth_average(var,depths,depth_axis=1)\n",
    "print var.shape\n",
    "print var"
   ]
  },
  {
   "cell_type": "markdown",
   "metadata": {},
   "source": [
    "Mask a bunch of the values"
   ]
  },
  {
   "cell_type": "code",
   "execution_count": 23,
   "metadata": {
    "collapsed": false
   },
   "outputs": [
    {
     "name": "stdout",
     "output_type": "stream",
     "text": [
      "1.00000000662\n",
      "(40,)\n",
      "[1.0 1.0 1.0 1.0 1.0 1.0 1.0 1.0 1.0 1.0 -- -- -- -- -- -- -- -- -- -- --\n",
      " -- -- -- -- -- -- -- -- -- -- -- -- -- -- -- -- -- -- --]\n"
     ]
    }
   ],
   "source": [
    "var = np.ones((depths.shape[0]))\n",
    "var[10:] = 0\n",
    "var=np.ma.masked_values(var,0)\n",
    "print depth_average(var,depths,depth_axis=0)\n",
    "print var.shape\n",
    "print var"
   ]
  },
  {
   "cell_type": "markdown",
   "metadata": {},
   "source": [
    "Multidimensional masking"
   ]
  },
  {
   "cell_type": "code",
   "execution_count": 24,
   "metadata": {
    "collapsed": false
   },
   "outputs": [
    {
     "name": "stdout",
     "output_type": "stream",
     "text": [
      "[[1.000000006620949 1.0000000001351683 1.0000000001351683]\n",
      " [1.0000000001351683 1.0000000001351683 1.0000000001351683]]\n",
      "(2, 40, 3)\n",
      "[1.0 1.0 1.0 1.0 1.0 1.0 1.0 1.0 1.0 1.0 -- -- -- -- -- -- -- -- -- -- --\n",
      " -- -- -- -- -- -- -- -- -- -- -- -- -- -- -- -- -- -- --]\n"
     ]
    }
   ],
   "source": [
    "ts=2; xs=3\n",
    "var = np.ones((ts,depths.shape[0],xs))\n",
    "var[0,10:,0] = 0\n",
    "var=np.ma.masked_values(var,0)\n",
    "print depth_average(var,depths,depth_axis=1)\n",
    "print var.shape\n",
    "print var[0,:,0]"
   ]
  },
  {
   "cell_type": "markdown",
   "metadata": {},
   "source": [
    "#Summary"
   ]
  },
  {
   "cell_type": "markdown",
   "metadata": {},
   "source": [
    "I'm pretty satisified with how this is working. There are some small rouding errors. And it must be used with maskd data. \n",
    "\n",
    "Next I will add this function to analyze module."
   ]
  },
  {
   "cell_type": "code",
   "execution_count": null,
   "metadata": {
    "collapsed": true
   },
   "outputs": [],
   "source": []
  }
 ],
 "metadata": {
  "kernelspec": {
   "display_name": "Python 2",
   "language": "python",
   "name": "python2"
  },
  "language_info": {
   "codemirror_mode": {
    "name": "ipython",
    "version": 2
   },
   "file_extension": ".py",
   "mimetype": "text/x-python",
   "name": "python",
   "nbconvert_exporter": "python",
   "pygments_lexer": "ipython2",
   "version": "2.7.10"
  }
 },
 "nbformat": 4,
 "nbformat_minor": 0
}
