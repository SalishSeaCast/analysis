{
 "cells": [
  {
   "cell_type": "markdown",
   "metadata": {},
   "source": [
    "This is a notebook for developing energy flux calculations."
   ]
  },
  {
   "cell_type": "markdown",
   "metadata": {},
   "source": [
    "Energy Flux:\n",
    "\n",
    "$\\vec{F} = <\\vec{u}p> $ where $<>$ means average over wave period.\n",
    "\n",
    "Then we can get a baroclinic and barotropic energy flux by substituting baroclinc and barotropic expressions for $\\vec{u}$ and $p$.\n",
    "\n",
    "For example, (Cummins and Oey, 1996)\n",
    "\n",
    "$p_{bt} = \\rho_0g\\eta$ \n",
    "\n",
    "and\n",
    "\n",
    "$\\frac{\\partial p_{bc}}{\\partial t} = -\\rho_0 \\int_0^z wN^2 dz^*$.\n",
    "\n",
    "The baroclinic and barotropic velocities are set up in their usual ways. \n",
    "\n",
    "If we have a tidal analysis for the pressure and also tidal ellipses, so that\n",
    "\n",
    "$maj= \\sum_n maj_n\\cos(\\omega_n t -\\phi_{n})$\n",
    "\n",
    "$min= \\sum_n min_n\\sin(\\omega_n t -\\phi_{n})$\n",
    "\n",
    "$p= \\sum_n p_n\\cos(\\omega_n t -\\phi_{pn})$\n",
    "\n",
    "Then we can have an energy flux calculation for each tidal constituent $(n)$.\n",
    "\n",
    "So,\n",
    "$ F_{maj}^n =\\frac{1}{2} maj_n p_n \\cos(\\phi_n-\\phi_{pn})$\n",
    "\n",
    "$ F_{maj}^n =\\frac{1}{2} min_n p_n \\sin(\\phi_n-\\phi_{pn})$\n",
    "\n",
    "And then rotate to x/y with the ellipse inclination $\\theta_n$:\n",
    "\n",
    "$\n",
    "\\begin{pmatrix}\n",
    "F_x^n \\\\\n",
    "F_y^n \n",
    "\\end{pmatrix}\n",
    "= \n",
    "\\begin{pmatrix}\n",
    "\\cos(\\theta_n) & -\\sin(\\theta_n) \\\\\n",
    "\\sin(\\theta_n) & \\cos(\\theta_n) \n",
    "\\end{pmatrix}\n",
    "\\begin{pmatrix}\n",
    "F_{maj}^n \\\\\n",
    "F_{min}^n \n",
    "\\end{pmatrix}\n",
    "$\n",
    "\n",
    "At the moment, I have tidal analysis for baroclinic/barotropic $u$ and $v$, $p_{bc}'$ and $\\eta$. But I don't have tidal analysis for the full u/v or p. Perhaps this is something to work up to...\n",
    "\n",
    "Calculations needed still:\n",
    "\n",
    "1. Calculate $p_{bc}$ by integrating harmonic analysis of $p_{bc}'$. That is, amplitude --> amplitude/omega and pashe ---> phase +90 deg\n",
    "2. Calculate $p_{bt}$ from haromcinc analysis of $\\eta$.\n",
    "3. Calulate F_maj, F_min. Write a function to take p, maj, min as arguments so that I can do both baroclinic/barotropic with one function.\n",
    "4. Rotate to x/y. Function should take Fmin, Fmaj, theta as arguments."
   ]
  },
  {
   "cell_type": "code",
   "execution_count": 2,
   "metadata": {
    "collapsed": true
   },
   "outputs": [],
   "source": [
    "import matplotlib.pylab as plt\n",
    "import numpy as np\n",
    "import scipy.io as sio\n",
    "import netCDF4 as nc\n",
    "\n",
    "import os\n",
    "\n",
    "%matplotlib inline"
   ]
  },
  {
   "cell_type": "code",
   "execution_count": 3,
   "metadata": {
    "collapsed": true
   },
   "outputs": [],
   "source": [
    "rho0 = 1035 #reference density (kg/m^3)\n",
    "g = 9.81 #acceleration due to gravity (m/s^2)"
   ]
  },
  {
   "cell_type": "code",
   "execution_count": 5,
   "metadata": {
    "collapsed": false
   },
   "outputs": [],
   "source": [
    "path = '/ocean/nsoontie/MEOPAR/TidalEllipseData/CODAR/'\n",
    "\n",
    "data = sio.loadmat(os.path.join(path, 'CODAR_region_20141126_20150426_ssh'))\n",
    "sshstruc = data['sshstruc']\n",
    "\n",
    "data = sio.loadmat(os.path.join(path, 'CODAR_region_20141126_20150426_w'))\n",
    "wstruc = data['wstruc']\n",
    "\n",
    "data = sio.loadmat(os.path.join(path, 'CODAR_region_20141126_20150426_pbc_t'))\n",
    "pbc_t_struc = data['pbc_t_struc']"
   ]
  },
  {
   "cell_type": "code",
   "execution_count": 6,
   "metadata": {
    "collapsed": true
   },
   "outputs": [],
   "source": [
    "def barotropic_pressure(sshstruc, const):\n",
    "    \"\"\"Calculates the amplitude and phase of the barotropi pressure signal for a constituent\"\"\"\n",
    "    \n",
    "    var = ssstruc[const]\n",
    "\n",
    "    amp = var[0, 0]['ampl'][0, 0][:]\n",
    "    amp = np.ma.masked_invalid(amp)\n",
    "\n",
    "    phase = var[0, 0]['phas'][0, 0][:]\n",
    "    phase = np.ma.masked_invalid(phase)\n",
    "    \n",
    "    amp = amp*g*rho0\n",
    "\n",
    "    return amp, phase"
   ]
  },
  {
   "cell_type": "code",
   "execution_count": 7,
   "metadata": {
    "collapsed": true
   },
   "outputs": [],
   "source": [
    "def cph2rps(freq):\n",
    "    \"\"\"Convert frequency in cycles per hours to radians per second\"\"\"\n",
    "    return freq*2*pi/3600"
   ]
  },
  {
   "cell_type": "code",
   "execution_count": 9,
   "metadata": {
    "collapsed": true
   },
   "outputs": [],
   "source": [
    "def baroclinic_pressure(pbc_t_struc,const):\n",
    "    \n",
    "    var = ssstruc[const]\n",
    "    # t_tide records frequency in cylces/hour\n",
    "    # convert to \n",
    "    freq = cph2rps(var[0,0]['freq'][0,0])\n",
    "    \n",
    "    amp =  var[0, 0]['ampl'][0, 0][:]\n",
    "    amp = np.ma.masked_invalid(amp)\n",
    "\n",
    "    phase = var[0, 0]['phas'][0, 0][:]\n",
    "    phase = np.ma.masked_invalid(phase)\n",
    "    \n",
    "    p_amp = amp/freq\n",
    "    p_phase = phase+90\n",
    "    \n",
    "    return p_amp, p_phase"
   ]
  },
  {
   "cell_type": "code",
   "execution_count": null,
   "metadata": {
    "collapsed": true
   },
   "outputs": [],
   "source": []
  }
 ],
 "metadata": {
  "kernelspec": {
   "display_name": "Python 3",
   "language": "python",
   "name": "python3"
  },
  "language_info": {
   "codemirror_mode": {
    "name": "ipython",
    "version": 3
   },
   "file_extension": ".py",
   "mimetype": "text/x-python",
   "name": "python",
   "nbconvert_exporter": "python",
   "pygments_lexer": "ipython3",
   "version": "3.4.4"
  }
 },
 "nbformat": 4,
 "nbformat_minor": 0
}
