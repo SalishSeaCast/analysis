{
 "cells": [
  {
   "cell_type": "markdown",
   "metadata": {},
   "source": [
    "A notebook to look at the JDF boundary conditions with comparisons to WOD database and IOS data.\n",
    "\n",
    "Observed data in this region is from 1976 to 2014."
   ]
  },
  {
   "cell_type": "code",
   "execution_count": 1,
   "metadata": {
    "collapsed": false
   },
   "outputs": [],
   "source": [
    "\n",
    "import matplotlib.pyplot as plt\n",
    "import seaborn as sns\n",
    "import netCDF4 as nc\n",
    "from salishsea_tools import viz_tools, tidetools, nc_tools\n",
    "import numpy as np\n",
    "\n",
    "import datetime\n",
    "from salishsea_tools.nowcast import analyze\n",
    "import comparisons\n",
    "import ACTDR\n",
    "import pandas as pd\n",
    "\n",
    "%matplotlib inline"
   ]
  },
  {
   "cell_type": "code",
   "execution_count": 2,
   "metadata": {
    "collapsed": false
   },
   "outputs": [],
   "source": [
    "#make plots pretty\n",
    "sns.set_style('darkgrid')\n",
    "sns.set_color_codes()"
   ]
  },
  {
   "cell_type": "markdown",
   "metadata": {},
   "source": [
    "#Load Model Grid"
   ]
  },
  {
   "cell_type": "code",
   "execution_count": 3,
   "metadata": {
    "collapsed": true
   },
   "outputs": [],
   "source": [
    "f=nc.Dataset('/data/nsoontie/MEOPAR/NEMO-forcing/grid/bathy_meter_SalishSea2.nc')\n",
    "bathy=f.variables['Bathymetry'][:]\n",
    "X=f.variables['nav_lon'][:]\n",
    "Y=f.variables['nav_lat'][:]"
   ]
  },
  {
   "cell_type": "markdown",
   "metadata": {},
   "source": [
    "#Load WOD observations"
   ]
  },
  {
   "cell_type": "code",
   "execution_count": 4,
   "metadata": {
    "collapsed": false
   },
   "outputs": [],
   "source": [
    "data_WOD = comparisons.read_file_to_dataframe('/ocean/nsoontie/MEOPAR/WOD/CTDS7412')    "
   ]
  },
  {
   "cell_type": "markdown",
   "metadata": {},
   "source": [
    "#Load more IOS and WOD data\n",
    "\n",
    "In the region of interest, the above data set only covers up to 2009.\n",
    "\n",
    "So, use Robbie's functions to load IOS and WOD data beyond 2009."
   ]
  },
  {
   "cell_type": "code",
   "execution_count": 5,
   "metadata": {
    "collapsed": false
   },
   "outputs": [
    {
     "name": "stdout",
     "output_type": "stream",
     "text": [
      "> open  JuandeFucaMouth.dat\n",
      "> load CTD_DAT\n",
      "> load STANDARD_KEYS\n",
      "> close  JuandeFucaMouth.dat\n",
      "> complete\n"
     ]
    }
   ],
   "source": [
    "ACTDR.load_dat('JuandeFucaMouth.dat')"
   ]
  },
  {
   "cell_type": "code",
   "execution_count": 6,
   "metadata": {
    "collapsed": false
   },
   "outputs": [],
   "source": [
    "\n",
    "data_IOS = pd.DataFrame(ACTDR.CTD_DAT)\n",
    "\n",
    "data_IOS['Datetime'] = [datetime.datetime(y,m,d) for y,m,d in zip(data_IOS.Year,data_IOS.Month,data_IOS.Day)]\n",
    "                        \n",
    "data_IOS.drop('ID', axis=1, inplace=True)\n",
    "\n",
    "to=datetime.datetime(2010,1,1)\n",
    "tf=datetime.datetime(2015,12,31)\n",
    "\n",
    "data_IOS = comparisons.isolate_time_period(data_IOS,to,tf)"
   ]
  },
  {
   "cell_type": "markdown",
   "metadata": {},
   "source": [
    "## Combine both data sets"
   ]
  },
  {
   "cell_type": "code",
   "execution_count": 7,
   "metadata": {
    "collapsed": false
   },
   "outputs": [
    {
     "data": {
      "text/html": [
       "<div>\n",
       "<table border=\"1\" class=\"dataframe\">\n",
       "  <thead>\n",
       "    <tr style=\"text-align: right;\">\n",
       "      <th></th>\n",
       "      <th>Datetime</th>\n",
       "      <th>Day</th>\n",
       "      <th>Depth</th>\n",
       "      <th>Latitude</th>\n",
       "      <th>Longitude</th>\n",
       "      <th>Month</th>\n",
       "      <th>Salinity</th>\n",
       "      <th>Temperature</th>\n",
       "      <th>Year</th>\n",
       "    </tr>\n",
       "  </thead>\n",
       "  <tbody>\n",
       "    <tr>\n",
       "      <th>36634</th>\n",
       "      <td>2013-08-19</td>\n",
       "      <td>19</td>\n",
       "      <td>[5.94929931573, 6.94083236645, 7.93236060748, ...</td>\n",
       "      <td>48.486333</td>\n",
       "      <td>-124.685167</td>\n",
       "      <td>8</td>\n",
       "      <td>[31.4263, 31.4193, 31.444, 31.445, 31.4518, 31...</td>\n",
       "      <td>[10.814, 10.8557, 10.7226, 10.7152, 10.7035, 1...</td>\n",
       "      <td>2013</td>\n",
       "    </tr>\n",
       "    <tr>\n",
       "      <th>36635</th>\n",
       "      <td>2014-04-03</td>\n",
       "      <td>3</td>\n",
       "      <td>[1.98313019088, 2.97468807061, 3.96624114006, ...</td>\n",
       "      <td>48.424833</td>\n",
       "      <td>-124.754833</td>\n",
       "      <td>4</td>\n",
       "      <td>[26.3528, 26.3555, 26.3803, 26.5447, 26.7799, ...</td>\n",
       "      <td>[10.2492, 10.2493, 10.248, 10.2367, 10.205, 10...</td>\n",
       "      <td>2014</td>\n",
       "    </tr>\n",
       "    <tr>\n",
       "      <th>36636</th>\n",
       "      <td>2014-04-03</td>\n",
       "      <td>3</td>\n",
       "      <td>[1.98311668101, 2.97466780585, 3.96621412045, ...</td>\n",
       "      <td>48.499167</td>\n",
       "      <td>-124.735000</td>\n",
       "      <td>4</td>\n",
       "      <td>[25.8146, 25.8295, 26.0486, 26.168, 26.3534, 2...</td>\n",
       "      <td>[10.3173, 10.3164, 10.2964, 10.2828, 10.255, 1...</td>\n",
       "      <td>2014</td>\n",
       "    </tr>\n",
       "    <tr>\n",
       "      <th>36637</th>\n",
       "      <td>2014-04-03</td>\n",
       "      <td>3</td>\n",
       "      <td>[1.98310747496, 2.97465399682, 3.96619570845, ...</td>\n",
       "      <td>48.549833</td>\n",
       "      <td>-124.714500</td>\n",
       "      <td>4</td>\n",
       "      <td>[27.2955, 27.2954, 27.3064, 27.3136, 27.3227, ...</td>\n",
       "      <td>[10.1756, 10.1766, 10.1834, 10.1867, 10.1885, ...</td>\n",
       "      <td>2014</td>\n",
       "    </tr>\n",
       "    <tr>\n",
       "      <th>36638</th>\n",
       "      <td>2014-06-09</td>\n",
       "      <td>9</td>\n",
       "      <td>[1.98311138123, 2.9746598562, 4.95774237559, 5...</td>\n",
       "      <td>48.528333</td>\n",
       "      <td>-124.740167</td>\n",
       "      <td>6</td>\n",
       "      <td>[30.4489, 30.4505, 30.4562, 30.4561, 30.4544, ...</td>\n",
       "      <td>[10.8631, 10.8576, 10.8284, 10.8288, 10.8342, ...</td>\n",
       "      <td>2014</td>\n",
       "    </tr>\n",
       "  </tbody>\n",
       "</table>\n",
       "</div>"
      ],
      "text/plain": [
       "        Datetime  Day                                              Depth  \\\n",
       "36634 2013-08-19   19  [5.94929931573, 6.94083236645, 7.93236060748, ...   \n",
       "36635 2014-04-03    3  [1.98313019088, 2.97468807061, 3.96624114006, ...   \n",
       "36636 2014-04-03    3  [1.98311668101, 2.97466780585, 3.96621412045, ...   \n",
       "36637 2014-04-03    3  [1.98310747496, 2.97465399682, 3.96619570845, ...   \n",
       "36638 2014-06-09    9  [1.98311138123, 2.9746598562, 4.95774237559, 5...   \n",
       "\n",
       "        Latitude   Longitude  Month  \\\n",
       "36634  48.486333 -124.685167      8   \n",
       "36635  48.424833 -124.754833      4   \n",
       "36636  48.499167 -124.735000      4   \n",
       "36637  48.549833 -124.714500      4   \n",
       "36638  48.528333 -124.740167      6   \n",
       "\n",
       "                                                Salinity  \\\n",
       "36634  [31.4263, 31.4193, 31.444, 31.445, 31.4518, 31...   \n",
       "36635  [26.3528, 26.3555, 26.3803, 26.5447, 26.7799, ...   \n",
       "36636  [25.8146, 25.8295, 26.0486, 26.168, 26.3534, 2...   \n",
       "36637  [27.2955, 27.2954, 27.3064, 27.3136, 27.3227, ...   \n",
       "36638  [30.4489, 30.4505, 30.4562, 30.4561, 30.4544, ...   \n",
       "\n",
       "                                             Temperature  Year  \n",
       "36634  [10.814, 10.8557, 10.7226, 10.7152, 10.7035, 1...  2013  \n",
       "36635  [10.2492, 10.2493, 10.248, 10.2367, 10.205, 10...  2014  \n",
       "36636  [10.3173, 10.3164, 10.2964, 10.2828, 10.255, 1...  2014  \n",
       "36637  [10.1756, 10.1766, 10.1834, 10.1867, 10.1885, ...  2014  \n",
       "36638  [10.8631, 10.8576, 10.8284, 10.8288, 10.8342, ...  2014  "
      ]
     },
     "execution_count": 7,
     "metadata": {},
     "output_type": "execute_result"
    }
   ],
   "source": [
    "data=pd.concat([data_WOD,data_IOS],ignore_index=True)\n",
    "\n",
    "data.tail()"
   ]
  },
  {
   "cell_type": "markdown",
   "metadata": {},
   "source": [
    "##Isolate region "
   ]
  },
  {
   "cell_type": "code",
   "execution_count": 8,
   "metadata": {
    "collapsed": true
   },
   "outputs": [],
   "source": [
    "#define region and isolate\n",
    "min_lon = -124.8\n",
    "max_lon = -124.7\n",
    "min_lat = 48.4\n",
    "max_lat = 48.7\n",
    "\n",
    "data_JDF = comparisons.isolate_region(data, min_lon, max_lon, min_lat, max_lat)"
   ]
  },
  {
   "cell_type": "markdown",
   "metadata": {},
   "source": [
    "##Isolate dpeth range\n",
    "Use data with a max depth between 150m and 300m."
   ]
  },
  {
   "cell_type": "code",
   "execution_count": 9,
   "metadata": {
    "collapsed": true
   },
   "outputs": [],
   "source": [
    "dmin=150\n",
    "dmax=300\n",
    "data_JDF = data_JDF[(data_JDF['Depth'].apply(max)>=dmin) & (data_JDF['Depth'].apply(max)<=dmax)]"
   ]
  },
  {
   "cell_type": "code",
   "execution_count": 10,
   "metadata": {
    "collapsed": false
   },
   "outputs": [
    {
     "data": {
      "text/plain": [
       "(48.3, 48.800000000000004)"
      ]
     },
     "execution_count": 10,
     "metadata": {},
     "output_type": "execute_result"
    },
    {
     "data": {
      "image/png": "[encoded data removed]",
      "text/plain": [
       "<matplotlib.figure.Figure at 0x7f389a747ad0>"
      ]
     },
     "metadata": {},
     "output_type": "display_data"
    }
   ],
   "source": [
    "fig,axm = plt.subplots(1,figsize=(5,5))\n",
    "data_JDF.plot(x='Longitude',y='Latitude',kind='scatter', marker='o',ax=axm)\n",
    "viz_tools.plot_coastline(axm,f,coords='map')\n",
    "axm.set_xlim([min_lon-.1,max_lon+.1])\n",
    "axm.set_ylim([min_lat-.1,max_lat+.1])"
   ]
  },
  {
   "cell_type": "markdown",
   "metadata": {},
   "source": [
    "####Observations - distribution by year and month"
   ]
  },
  {
   "cell_type": "code",
   "execution_count": 11,
   "metadata": {
    "collapsed": false
   },
   "outputs": [
    {
     "data": {
      "text/plain": [
       "array([[<matplotlib.axes._subplots.AxesSubplot object at 0x7f3896c71390>]], dtype=object)"
      ]
     },
     "execution_count": 11,
     "metadata": {},
     "output_type": "execute_result"
    },
    {
     "data": {
      "image/png": "[encoded data removed]",
      "text/plain": [
       "<matplotlib.figure.Figure at 0x7f389a747f90>"
      ]
     },
     "metadata": {},
     "output_type": "display_data"
    }
   ],
   "source": [
    "data_JDF.hist('Month',bins=np.arange(0.5,13.5))"
   ]
  },
  {
   "cell_type": "code",
   "execution_count": 12,
   "metadata": {
    "collapsed": false
   },
   "outputs": [
    {
     "name": "stdout",
     "output_type": "stream",
     "text": [
      "Max year 2014\n",
      "Min year 1976\n"
     ]
    },
    {
     "data": {
      "image/png": "[encoded data removed]",
      "text/plain": [
       "<matplotlib.figure.Figure at 0x7f38930ef450>"
      ]
     },
     "metadata": {},
     "output_type": "display_data"
    }
   ],
   "source": [
    "data_JDF.hist('Year')\n",
    "ax=plt.gca()\n",
    "ax.get_xaxis().get_major_formatter().set_useOffset(False)\n",
    "print 'Max year',data_JDF['Year'].max()\n",
    "print 'Min year',data_JDF['Year'].min()"
   ]
  },
  {
   "cell_type": "markdown",
   "metadata": {},
   "source": [
    "#Load Model Boundary Conditions"
   ]
  },
  {
   "cell_type": "code",
   "execution_count": 13,
   "metadata": {
    "collapsed": false
   },
   "outputs": [
    {
     "name": "stdout",
     "output_type": "stream",
     "text": [
      "[u'deptht', u'nav_lat', u'nav_lon', u'nbidta', u'nbjdta', u'nbrdta', u'time_counter', u'vosaline', u'votemper']\n"
     ]
    }
   ],
   "source": [
    "bc = nc.Dataset('/data/nsoontie/MEOPAR/NEMO-forcing/open_boundaries/west/SalishSea2_Masson_DC.nc')\n",
    "lat = bc.variables['nav_lat'][:]\n",
    "lon = bc.variables['nav_lon'][:]\n",
    "sal = bc.variables['vosaline'][:]\n",
    "depth = bc.variables['deptht'][:]\n",
    "nc_tools.show_variables(bc)"
   ]
  },
  {
   "cell_type": "markdown",
   "metadata": {},
   "source": [
    "Isolate model BCs in same region and depths as observations \n"
   ]
  },
  {
   "cell_type": "code",
   "execution_count": 14,
   "metadata": {
    "collapsed": false
   },
   "outputs": [],
   "source": [
    "#Grab only data in the lat/lon area and with bathy in depth range.\n",
    "\n",
    "inds = np.where(np.logical_and(\n",
    "            np.logical_and(X > min_lon, X< max_lon),\n",
    "            np.logical_and(Y > min_lat, Y< max_lat)))\n",
    "bathy_region = bathy[inds]\n",
    "X_region = X[inds]\n",
    "Y_region = Y[inds]\n",
    "inds_depths = np.where(np.logical_and(bathy_region>=150, bathy_region <=300))\n",
    "X_depths=X_region[inds_depths]\n",
    "Y_depths=Y_region[inds_depths]\n",
    "\n",
    "inds =[]\n",
    "for x,y in zip(X_depths, Y_depths):\n",
    "    i = np.where(np.logical_and(lon==x, lat==y))\n",
    "    if i[1]:\n",
    "        inds.append(i[1][0])\n"
   ]
  },
  {
   "cell_type": "code",
   "execution_count": 15,
   "metadata": {
    "collapsed": false
   },
   "outputs": [
    {
     "data": {
      "text/plain": [
       "<matplotlib.text.Text at 0x7f389a70f190>"
      ]
     },
     "execution_count": 15,
     "metadata": {},
     "output_type": "execute_result"
    },
    {
     "data": {
      "image/png": "[encoded data removed]",
      "text/plain": [
       "<matplotlib.figure.Figure at 0x7f3892f9cc10>"
      ]
     },
     "metadata": {},
     "output_type": "display_data"
    }
   ],
   "source": [
    "fig,axms = plt.subplots(1,2,figsize=(10,5))\n",
    "axm=axms[0]\n",
    "axm.scatter(lon[0][inds],lat[0][inds])\n",
    "viz_tools.plot_coastline(axm,f,coords='map')\n",
    "axm.set_xlim([min_lon-.1,max_lon+.1])\n",
    "axm.set_ylim([min_lat-.1,max_lat+.1])\n",
    "axm.set_title('Model')\n",
    "axm=axms[1]\n",
    "data_JDF.plot(x='Longitude',y='Latitude',kind='scatter', marker='o',ax=axm)\n",
    "viz_tools.plot_coastline(axm,f,coords='map')\n",
    "axm.set_xlim([min_lon-.1,max_lon+.1])\n",
    "axm.set_ylim([min_lat-.1,max_lat+.1])\n",
    "axm.set_title('Observations')"
   ]
  },
  {
   "cell_type": "markdown",
   "metadata": {},
   "source": [
    "Will average in these regions over depths 150m-300m, month by month."
   ]
  },
  {
   "cell_type": "markdown",
   "metadata": {},
   "source": [
    "#Model comparisons"
   ]
  },
  {
   "cell_type": "markdown",
   "metadata": {},
   "source": [
    "Plan: \n",
    "\n",
    "* Plot monthy mean salinity between 150 m and 300 m for both observations and model BCs."
   ]
  },
  {
   "cell_type": "code",
   "execution_count": 16,
   "metadata": {
    "collapsed": false
   },
   "outputs": [],
   "source": [
    "def compare_average_salinity_depth(month, dmin, dmax, indices, data_obs, bcs):\n",
    "    \"\"\"Compares the average salinity in a depth range for observations and boundary conditions in a month\n",
    "    month is the month for comaprison\n",
    "    dmin, dmax define the depth range (metres)\n",
    "    indices is a list of model indicest\n",
    "    data_obs are the observations (DataFrame)\n",
    "    bcs are the model bcs (netcdf)\n",
    "    \n",
    "    returns data frame means with columns:\n",
    "            mean_obs array of mean salinity in each observation cast\n",
    "            mean_bcs mean model salinity in at each index \n",
    "    \n",
    "    \"\"\"\n",
    "    #initialize arrays\n",
    "    mean_bcs=[]\n",
    "    mean_obs =[]\n",
    "    \n",
    "    #Model averaging\n",
    "    #Model variables \n",
    "    time = bcs.variables['time_counter']\n",
    "    depth = bcs.variables['deptht']\n",
    "    var = bcs.variables['vosaline'][:]\n",
    "    #times convert to date time\n",
    "    start = datetime.datetime(2014,1,1) #arbitrary year.\n",
    "    dates = [ start + datetime.timedelta(days = 7*t) for t in time]\n",
    "    #Look up model dates in the desired month\n",
    "    t_inds = []; \n",
    "    for t,d in enumerate(dates):\n",
    "        if d.month == month:\n",
    "            t_inds.append(t)\n",
    "    #depth average the model\n",
    "    depth_inds = np.where(np.logical_and(depth[:]<=dmax,depth[:]>=dmin))\n",
    "    dep_range = depth[depth_inds]\n",
    "    for i in indices: #iterate through space index\n",
    "        #Check bathymetry depth and mask id depth greater than bathy\n",
    "        lat_loc=lat[0,i]; lon_loc=lon[0,i]\n",
    "        inds_loc = np.where(np.logical_and(X==lon_loc, Y==lat_loc))\n",
    "        masked_dep_range = np.ma.masked_greater(dep_range,bathy[inds_loc])\n",
    "        for t in t_inds: #iterate through time index\n",
    "            sal_in_drange = np.ma.array(var[t,depth_inds,0,i], mask=masked_dep_range.mask)\n",
    "            avg_sal =  analyze.depth_average(sal_in_drange,dep_range,depth_axis=1)\n",
    "            mean_bcs.append(avg_sal[0])\n",
    "      \n",
    "    #observation averaging\n",
    "    data_m = data_obs[data_obs['Month']==month]\n",
    "    for dep, var_obs in zip(data_m['Depth'],data_m['Salinity']):\n",
    "        dep=np.array(dep)\n",
    "        var_obs = np.array(var_obs)\n",
    "        depth_inds = np.where(np.logical_and(dep[:]<=dmax,dep[:]>=dmin))\n",
    "        dep_range = dep[depth_inds]\n",
    "        sal_in_drange = var_obs[depth_inds]\n",
    "        if (sal_in_drange !=0).any():\n",
    "            avg_sal =  analyze.depth_average(sal_in_drange,dep_range,depth_axis=0)\n",
    "            mean_obs.append(avg_sal)\n",
    "    \n",
    "    #add to dict frame\n",
    "    means={'mean_bcs': mean_bcs, 'mean_obs': mean_obs}\n",
    "    return means"
   ]
  },
  {
   "cell_type": "code",
   "execution_count": 17,
   "metadata": {
    "collapsed": false
   },
   "outputs": [
    {
     "name": "stdout",
     "output_type": "stream",
     "text": [
      "Summary of depth averaged salinities between 150 and 300 m\n"
     ]
    },
    {
     "name": "stderr",
     "output_type": "stream",
     "text": [
      "/home/nsoontie/anaconda/lib/python2.7/site-packages/numpy/ma/core.py:3900: UserWarning: Warning: converting a masked element to nan.\n",
      "  warnings.warn(\"Warning: converting a masked element to nan.\")\n"
     ]
    },
    {
     "data": {
      "text/plain": [
       "<matplotlib.text.Text at 0x7f389a657b90>"
      ]
     },
     "execution_count": 17,
     "metadata": {},
     "output_type": "execute_result"
    },
    {
     "data": {
      "image/png": "[encoded data removed]",
      "text/plain": [
       "<matplotlib.figure.Figure at 0x7f389305ee90>"
      ]
     },
     "metadata": {},
     "output_type": "display_data"
    }
   ],
   "source": [
    "\n",
    "monthly_means={'obs':[], 'bcs':[]}\n",
    "print 'Summary of depth averaged salinities between {} and {} m'.format(dmin,dmax)\n",
    "grouped=data_JDF.groupby('Month')\n",
    "for m in grouped.groups.keys():\n",
    "    means = compare_average_salinity_depth(m,dmin,dmax,inds,data_JDF,bc)\n",
    "    monthly_means['obs'].append(np.nanmean(means['mean_obs']))\n",
    "    monthly_means['bcs'].append(np.nanmean(means['mean_bcs']))\n",
    "\n",
    "#monthly means \n",
    "months = grouped.groups.keys()\n",
    "fig,ax=plt.subplots(1,1)\n",
    "ax.plot(months, monthly_means['bcs'],label='model')\n",
    "ax.plot(months, monthly_means['obs'],label='obs')\n",
    "ax.legend()\n",
    "ax.set_title('Monthly means')"
   ]
  },
  {
   "cell_type": "markdown",
   "metadata": {},
   "source": [
    "Notes:\n",
    "\n",
    "* The observations do not always span the full depth range of interest. I have also tried to exclude model depths that are greater than the actual bathymetry. \n",
    "* Typically, the observation depth bins are 150, 175, 200, 225, 250\n",
    "* The model depth bins are 173, 199, 226, 253, 279.\n",
    "* I do not average the model for depths lower than the bathymetry"
   ]
  },
  {
   "cell_type": "code",
   "execution_count": 18,
   "metadata": {
    "collapsed": false
   },
   "outputs": [
    {
     "name": "stdout",
     "output_type": "stream",
     "text": [
      "Summary of differences\n",
      "Mean difference 0.259417026728\n",
      "Max difference 0.520413842643\n",
      "Min difference -0.085158047417\n"
     ]
    },
    {
     "data": {
      "image/png": "[encoded data removed]",
      "text/plain": [
       "<matplotlib.figure.Figure at 0x7f3892ff81d0>"
      ]
     },
     "metadata": {},
     "output_type": "display_data"
    }
   ],
   "source": [
    "fig,ax=plt.subplots(1,1)\n",
    "diff = np.array(monthly_means['obs'])- np.array(monthly_means['bcs'])\n",
    "ax.plot(months, diff)\n",
    "ax.set_title('Difference between monthly mean obs and bcs')\n",
    "ax.set_ylabel('Salinity difference [psu]')\n",
    "ax.set_xlabel('Month')\n",
    "print 'Summary of differences'\n",
    "print 'Mean difference', diff.mean()\n",
    "print 'Max difference', diff.max()\n",
    "print 'Min difference', diff.min()"
   ]
  },
  {
   "cell_type": "markdown",
   "metadata": {},
   "source": [
    "#Summary\n",
    "\n",
    "* In this analysis, our deep (150m-300m) SJdF water is average 0.259 psu fresher than the observations.\n",
    "* The observations span 1976-2014.\n",
    "* There are fewer casts in the winter months (<=6 in Jan-March)\n",
    "* A seasonal trend of high salinity in the summer months and low salinity in the winter months is present in both the observations and boundary conditions. But, the deep salinity in the boundary condition is generally too low. \n",
    "* This analysis is more comprehensive than the previous analysis. I have tried to exclude averaging the model at depths that fall below the bathymetry.\n",
    "* Could use this to modify BCs month by month"
   ]
  },
  {
   "cell_type": "code",
   "execution_count": null,
   "metadata": {
    "collapsed": true
   },
   "outputs": [],
   "source": []
  }
 ],
 "metadata": {
  "kernelspec": {
   "display_name": "Python 2",
   "language": "python",
   "name": "python2"
  },
  "language_info": {
   "codemirror_mode": {
    "name": "ipython",
    "version": 2
   },
   "file_extension": ".py",
   "mimetype": "text/x-python",
   "name": "python",
   "nbconvert_exporter": "python",
   "pygments_lexer": "ipython2",
   "version": "2.7.10"
  }
 },
 "nbformat": 4,
 "nbformat_minor": 0
}
