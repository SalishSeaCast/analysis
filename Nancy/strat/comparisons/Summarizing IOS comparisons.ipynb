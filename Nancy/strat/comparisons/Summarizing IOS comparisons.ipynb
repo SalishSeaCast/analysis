{
 "cells": [
  {
   "cell_type": "markdown",
   "metadata": {},
   "source": [
    "Notebook to summarize IOS Fall 2014 comparisons. Profile comaprisons condensed to a scatter plot."
   ]
  },
  {
   "cell_type": "code",
   "execution_count": 1,
   "metadata": {
    "collapsed": false
   },
   "outputs": [],
   "source": [
    "import os\n",
    "import glob\n",
    "\n",
    "import netCDF4 as nc\n",
    "import numpy as np\n",
    "import matplotlib.pyplot as plt\n",
    "import datetime\n",
    "\n",
    "import comparisons\n",
    "\n",
    "from salishsea_tools import tidetools, viz_tools\n",
    "from salishsea_tools.nowcast import analyze\n",
    "\n",
    "from scipy import interpolate as interp\n",
    "import seaborn as sns\n",
    "\n",
    "import ACTDR\n",
    "import pandas as pd\n",
    "%matplotlib inline"
   ]
  },
  {
   "cell_type": "code",
   "execution_count": 2,
   "metadata": {
    "collapsed": true
   },
   "outputs": [],
   "source": [
    "sns.set_color_codes()"
   ]
  },
  {
   "cell_type": "code",
   "execution_count": 3,
   "metadata": {
    "collapsed": true
   },
   "outputs": [],
   "source": [
    "nowcast_dir = '/results/SalishSea/nowcast/'\n",
    "grid_B = nc.Dataset('/data/nsoontie/MEOPAR/NEMO-forcing/grid/bathy_meter_SalishSea2.nc')    \n",
    "mesh = nc.Dataset('/data/nsoontie/MEOPAR/NEMO-forcing/grid/mesh_mask_SalishSea2.nc')\n",
    "FIRST_NOWCAST = datetime.datetime(2014, 10,27)"
   ]
  },
  {
   "cell_type": "code",
   "execution_count": 4,
   "metadata": {
    "collapsed": true
   },
   "outputs": [],
   "source": [
    "def results_dataset(period, grid, results_dir):\n",
    "    \"\"\"Return the results dataset for period (e.g. 1h or 1d)\n",
    "    and grid (e.g. grid_T, grid_U) from results_dir.\n",
    "    \"\"\"\n",
    "    filename_pattern = 'SalishSea_{period}_*_{grid}.nc'\n",
    "    filepaths = glob.glob(\n",
    "        os.path.join(\n",
    "            results_dir, filename_pattern.format(period=period, grid=grid)))\n",
    "    return nc.Dataset(filepaths[0])"
   ]
  },
  {
   "cell_type": "code",
   "execution_count": 5,
   "metadata": {
    "collapsed": true
   },
   "outputs": [],
   "source": [
    "def get_model_cast(year, month, day, lon, lat, field):\n",
    "    \"\"\"Get the model daily mean, max and min corresponding to given year, month, day and lat/lon\"\"\"\n",
    "    \n",
    "    if field =='Salinity':\n",
    "        var = 'vosaline'\n",
    "    elif field == 'Temperature':\n",
    "        var = 'votemper'\n",
    "        \n",
    "    date = datetime.datetime(year, month, day)\n",
    "    early_days = False\n",
    "    if date < FIRST_NOWCAST:\n",
    "        early_days = True\n",
    "    #Look up grid point\n",
    "    bathy, X, Y= tidetools.get_bathy_data(grid_B)\n",
    "    j, i = tidetools.find_closest_model_point(lon, lat, X, Y, bathy)\n",
    "    # Grab data\n",
    "    depths = mesh.variables['gdept'][0,:,j,i]\n",
    "    if early_days:\n",
    "        var_model = early_model_data(date, j, i, '1h', 'grid_T', var)\n",
    "    else:\n",
    "        results_dir = os.path.join(nowcast_dir, date.strftime('%d%b%y').lower())\n",
    "        grid_T_h = results_dataset('1h', 'grid_T', results_dir)\n",
    "        var_model = grid_T_h.variables[var][:, :, j, i]\n",
    "    var_model, tmask = mask_model(j, i, var_model)\n",
    "    # Daily mean/min/max\n",
    "    mean_daily = np.mean(var_model, axis=0)\n",
    "    max_daily = np.max(var_model, axis=0)\n",
    "    min_daily = np.min(var_model, axis=0)\n",
    " \n",
    "    return mean_daily, max_daily, min_daily, depths, tmask"
   ]
  },
  {
   "cell_type": "code",
   "execution_count": 6,
   "metadata": {
    "collapsed": true
   },
   "outputs": [],
   "source": [
    "def mask_model(j, i, var_model):\n",
    "    \"\"\"Mask a model variable at a grid point\"\"\"\n",
    "    \n",
    "    tmask = np.abs(1-mesh.variables['tmask'][:, :, j, i])\n",
    "    tmask = tmask + np.zeros(var_model.shape)\n",
    "    var_masked = np.ma.array(var_model, mask=tmask)\n",
    "    return var_masked, tmask[0,:]"
   ]
  },
  {
   "cell_type": "code",
   "execution_count": 7,
   "metadata": {
    "collapsed": true
   },
   "outputs": [],
   "source": [
    "def interpolate_depth(variable, depth_array, depth_new):\n",
    "    \"\"\" interpolates a variable depth profile field to desire depth. \n",
    "    Ideally the variable is already masked but this method masked invalid data.\n",
    "    \"\"\"\n",
    "    # mask\n",
    "    var_mask = np.ma.masked_invalid(variable)\n",
    "    d_mask = np.ma.masked_invalid(depth_array)\n",
    "    f = interp.interp1d(d_mask, var_mask, bounds_error=False)\n",
    "    var_new = f(depth_new)\n",
    "\n",
    "    return var_new"
   ]
  },
  {
   "cell_type": "code",
   "execution_count": 8,
   "metadata": {
    "collapsed": true
   },
   "outputs": [],
   "source": [
    "def prepare_cast_comparison(dep_obs, var_obs, year, month, day, lon, lat, field):\n",
    "    \"\"\"Gather model and observed cast data for comparison\"\"\"\n",
    "    \n",
    "    # model data \n",
    "    mean_mod, max_mod, min_mod, dep_mod, tmask = get_model_cast(year, month, day, lon, lat, field)\n",
    "    \n",
    "    # interp observations\n",
    "    interp_obs = interpolate_depth(var_obs, dep_obs, dep_mod)\n",
    "    interp_obs = np.ma.array(interp_obs, mask=tmask)\n",
    "    \n",
    "    return interp_obs, mean_mod, max_mod, min_mod, dep_mod"
   ]
  },
  {
   "cell_type": "code",
   "execution_count": 9,
   "metadata": {
    "collapsed": false
   },
   "outputs": [],
   "source": [
    "def get_early_filename(t_orig, period, grid, results_dir):\n",
    "    \n",
    "\n",
    "    early_dir = os.path.join(results_dir,'early-days')\n",
    "    allfiles = glob.glob(os.path.join(early_dir, '*/SalishSea_{}*_{}.nc'.format(period, grid)))\n",
    "\n",
    "    files = []\n",
    "    for filename in allfiles:\n",
    "        base =os.path.basename(filename).split('_')\n",
    "        if base[2] <= t_orig.strftime('%Y%m%d'):\n",
    "            if base[3] >= t_orig.strftime('%Y%m%d'):\n",
    "                files.append(filename)\n",
    "\n",
    "    files.sort(key=os.path.basename)\n",
    "    \n",
    "    return files[0]"
   ]
  },
  {
   "cell_type": "code",
   "execution_count": 10,
   "metadata": {
    "collapsed": true
   },
   "outputs": [],
   "source": [
    "def early_model_data(date, j, i, period, grid, var):\n",
    "    \n",
    "    sdt=date\n",
    "    edt = date + datetime.timedelta(days=1)\n",
    "    \n",
    "    file = get_early_filename(date, period, grid, nowcast_dir)\n",
    "    grid = nc.Dataset(file)\n",
    "    \n",
    "    times = grid.variables['time_counter']\n",
    "    dates = nc.num2date(times[:],units=times.units,calendar=times.calendar)\n",
    "    \n",
    "    inds = np.where(np.logical_and(dates[:] >=sdt, dates[:]<=edt ))\n",
    "    var_model =grid.variables[var][inds[0], :, j, i]\n",
    "    \n",
    "    return var_model"
   ]
  },
  {
   "cell_type": "markdown",
   "metadata": {},
   "source": [
    "Testing my functions"
   ]
  },
  {
   "cell_type": "code",
   "execution_count": 11,
   "metadata": {
    "collapsed": false
   },
   "outputs": [
    {
     "name": "stdout",
     "output_type": "stream",
     "text": [
      "('> open ', 'SOG_2000.dat')\n",
      "> load CTD_DAT\n",
      "> load STANDARD_KEYS\n",
      "('> close ', 'SOG_2000.dat')\n",
      "> complete\n"
     ]
    }
   ],
   "source": [
    "ACTDR.load_dat('SOG_2000.dat')"
   ]
  },
  {
   "cell_type": "code",
   "execution_count": 12,
   "metadata": {
    "collapsed": false
   },
   "outputs": [],
   "source": [
    "data = pd.DataFrame(ACTDR.CTD_DAT)\n",
    "data_fall = data[(data.Year>=2014) & (data.Month >=10)  ]"
   ]
  },
  {
   "cell_type": "code",
   "execution_count": 13,
   "metadata": {
    "collapsed": true
   },
   "outputs": [],
   "source": [
    "lon_min=-124\n",
    "lon_max=-123\n",
    "lat_min=48.7\n",
    "lat_max=49.3\n",
    "data_SOG  = comparisons.isolate_region(data_fall,lon_min, lon_max, lat_min, lat_max)"
   ]
  },
  {
   "cell_type": "code",
   "execution_count": 14,
   "metadata": {
    "collapsed": false
   },
   "outputs": [
    {
     "name": "stderr",
     "output_type": "stream",
     "text": [
      "/home/nsoontie/anaconda3/envs/py2/lib/python2.7/site-packages/numpy/ma/core.py:4085: UserWarning: Warning: converting a masked element to nan.\n",
      "  warnings.warn(\"Warning: converting a masked element to nan.\")\n"
     ]
    },
    {
     "data": {
      "text/plain": [
       "<matplotlib.text.Text at 0x7f8a4d5432d0>"
      ]
     },
     "execution_count": 14,
     "metadata": {},
     "output_type": "execute_result"
    },
    {
     "name": "stderr",
     "output_type": "stream",
     "text": [
      "/home/nsoontie/anaconda3/envs/py2/lib/python2.7/site-packages/matplotlib/collections.py:590: FutureWarning: elementwise comparison failed; returning scalar instead, but in the future will perform elementwise comparison\n",
      "  if self._edgecolors == str('face'):\n"
     ]
    },
    {
     "data": {
      "image/png": "[encoded data removed]",
      "text/plain": [
       "<matplotlib.figure.Figure at 0x7f89ff597e10>"
      ]
     },
     "metadata": {},
     "output_type": "display_data"
    }
   ],
   "source": [
    "field = 'Salinity'\n",
    "smin=18\n",
    "smax=31.5\n",
    "for dep_obs, var_obs, lon, lat, year, month, day in zip(data_SOG['Depth'],\n",
    "                                                        data_SOG[field],\n",
    "                                                        data_SOG['Longitude'],\n",
    "                                                        data_SOG['Latitude'],\n",
    "                                                        data_SOG['Year'],\n",
    "                                                        data_SOG['Month'],\n",
    "                                                        data_SOG['Day']):\n",
    "\n",
    "    interp_obs, mean_mod, max_mod, min_mod, dep_mod = prepare_cast_comparison(dep_obs, var_obs,\n",
    "                                                                              year, month, day,\n",
    "                                                                              lon, lat, field)\n",
    "    plt.errorbar(mean_mod, interp_obs, xerr=[mean_mod-min_mod,max_mod-mean_mod ], fmt='o')\n",
    "    plt.axis([smin, smax, smin, smax])\n",
    "    plt.plot([smin, smax],[smin, smax], 'r-')\n",
    "plt.ylabel('Observed Salinity [psu]')\n",
    "plt.xlabel('Modelled Salinity [psu]')"
   ]
  },
  {
   "cell_type": "code",
   "execution_count": 15,
   "metadata": {
    "collapsed": false
   },
   "outputs": [
    {
     "data": {
      "text/plain": [
       "<matplotlib.text.Text at 0x7f89ff5970d0>"
      ]
     },
     "execution_count": 15,
     "metadata": {},
     "output_type": "execute_result"
    },
    {
     "data": {
      "image/png": "[encoded data removed]",
      "text/plain": [
       "<matplotlib.figure.Figure at 0x7f89ff83ded0>"
      ]
     },
     "metadata": {},
     "output_type": "display_data"
    }
   ],
   "source": [
    "field = 'Temperature'\n",
    "tmin=8; tmax=17\n",
    "for dep_obs, var_obs, lon, lat, year, month, day in zip(data_SOG['Depth'],\n",
    "                                                        data_SOG[field],\n",
    "                                                        data_SOG['Longitude'],\n",
    "                                                        data_SOG['Latitude'],\n",
    "                                                        data_SOG['Year'],\n",
    "                                                        data_SOG['Month'],\n",
    "                                                        data_SOG['Day']):\n",
    "\n",
    "    interp_obs, mean_mod, max_mod, min_mod, dep_mod = prepare_cast_comparison(dep_obs, var_obs,\n",
    "                                                                              year, month, day,\n",
    "                                                                              lon, lat, field)\n",
    "    plt.errorbar(mean_mod, interp_obs, xerr=[mean_mod-min_mod,max_mod-mean_mod ], fmt='o')\n",
    "    plt.axis([tmin, tmax, tmin, tmax])\n",
    "    plt.plot([tmin, tmax,],[tmin, tmax,], 'r-')\n",
    "plt.ylabel('Observed Temperature [deg C]')\n",
    "plt.xlabel('Modelled Temperature [deg C]')"
   ]
  },
  {
   "cell_type": "code",
   "execution_count": null,
   "metadata": {
    "collapsed": true
   },
   "outputs": [],
   "source": []
  }
 ],
 "metadata": {
  "kernelspec": {
   "display_name": "Python 2",
   "language": "python",
   "name": "python2"
  },
  "language_info": {
   "codemirror_mode": {
    "name": "ipython",
    "version": 2
   },
   "file_extension": ".py",
   "mimetype": "text/x-python",
   "name": "python",
   "nbconvert_exporter": "python",
   "pygments_lexer": "ipython2",
   "version": "2.7.10"
  }
 },
 "nbformat": 4,
 "nbformat_minor": 0
}
