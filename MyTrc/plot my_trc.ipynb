{
 "cells": [
  {
   "cell_type": "code",
   "execution_count": 1,
   "metadata": {
    "collapsed": false
   },
   "outputs": [],
   "source": [
    "from __future__ import division, print_function\n",
    "\n",
    "import matplotlib.pyplot as plt\n",
    "import netCDF4 as nc\n",
    "import numpy as np\n",
    "\n",
    "from salishsea_tools import (nc_tools,viz_tools,)\n",
    "\n",
    "%matplotlib inline"
   ]
  },
  {
   "cell_type": "code",
   "execution_count": 2,
   "metadata": {
    "collapsed": false,
    "scrolled": true
   },
   "outputs": [],
   "source": [
    "tracers = nc.Dataset('/ocean/sallen/allen/research/MEOPAR/NEMO-code/NEMOGCM/CONFIG/SalishSea_TRC/EXP00/SalishSea_1h_20121214_20121214_ptrc_T.nc')"
   ]
  },
  {
   "cell_type": "code",
   "execution_count": 3,
   "metadata": {
    "collapsed": false
   },
   "outputs": [
    {
     "name": "stdout",
     "output_type": "stream",
     "text": [
      "[u'nav_lon', u'nav_lat', u'deptht', u'time_counter', u'time_counter_bnds', u'TR_Clover', u'TR_Macaulay', u'TR_Iona', u'TR_Nanaimo', u'TR_Campbell']\n"
     ]
    }
   ],
   "source": [
    "nc_tools.show_variables(tracers)"
   ]
  },
  {
   "cell_type": "code",
   "execution_count": 4,
   "metadata": {
    "collapsed": false
   },
   "outputs": [
    {
     "name": "stdout",
     "output_type": "stream",
     "text": [
      "0.360024\n"
     ]
    },
    {
     "data": {
      "text/plain": [
       "(24, 40, 898, 398)"
      ]
     },
     "execution_count": 4,
     "metadata": {},
     "output_type": "execute_result"
    }
   ],
   "source": [
    "trc1=tracers.variables['TR_Clover'][:]\n",
    "trc2=tracers.variables['TR_Macaulay'][:]\n",
    "trc3=tracers.variables['TR_Iona'][:]\n",
    "trc4=tracers.variables['TR_Nanaimo'][:]\n",
    "trc5=tracers.variables['TR_Campbell'][:]\n",
    "\n",
    "print ('%s'%np.max(trc1[0,23,:,:]))\n",
    "trc1.shape"
   ]
  },
  {
   "cell_type": "code",
   "execution_count": 15,
   "metadata": {
    "collapsed": false
   },
   "outputs": [
    {
     "data": {
      "text/plain": [
       "<matplotlib.text.Text at 0x7f967d326e50>"
      ]
     },
     "execution_count": 15,
     "metadata": {},
     "output_type": "execute_result"
    },
    {
     "data": {
      "image/png": "[encoded data removed]",
      "text/plain": [
       "<matplotlib.figure.Figure at 0x7f967edfb910>"
      ]
     },
     "metadata": {},
     "output_type": "display_data"
    }
   ],
   "source": [
    "level = 20\n",
    "t = 23\n",
    "trctotal = (trc1[t,level] + trc2[t,level] + trc3[t,level] \n",
    "            + trc4[t,level] + trc5[t,level])\n",
    "fig, ax = plt.subplots(1, 1, figsize=(4, 8), sharey=True)\n",
    "cmap = plt.get_cmap('bwr')\n",
    "cmap.set_bad('burlywood')\n",
    "    \n",
    "\n",
    "ssh_t = np.ma.masked_equal(trctotal, 0)\n",
    "viz_tools.set_aspect(ax)\n",
    "mesh = ax.pcolormesh(ssh_t, cmap=cmap, vmin=-0.1, vmax=0.1)\n",
    "cbar = fig.colorbar(mesh, ax=ax)\n",
    "ax.set_xlabel('x Index')\n",
    "axs.set_ylabel('y Index')\n",
    "#cbar.set_label('{label} [{units}]'.format(label=ssh.long_name.title(), units=ssh.units))"
   ]
  },
  {
   "cell_type": "markdown",
   "metadata": {},
   "source": [
    "Above: sum of the five tracers, at 20 m, at 24hours."
   ]
  },
  {
   "cell_type": "markdown",
   "metadata": {},
   "source": [
    "##Early Testing Cells"
   ]
  },
  {
   "cell_type": "code",
   "execution_count": 10,
   "metadata": {
    "collapsed": false
   },
   "outputs": [
    {
     "data": {
      "text/plain": [
       "0.98278022"
      ]
     },
     "execution_count": 10,
     "metadata": {},
     "output_type": "execute_result"
    }
   ],
   "source": [
    "np.max(trc2[:,:,:,:])"
   ]
  },
  {
   "cell_type": "code",
   "execution_count": 11,
   "metadata": {
    "collapsed": false
   },
   "outputs": [
    {
     "data": {
      "text/plain": [
       "0.0"
      ]
     },
     "execution_count": 11,
     "metadata": {},
     "output_type": "execute_result"
    }
   ],
   "source": [
    "np.max(trc3[:,:,:,:])"
   ]
  },
  {
   "cell_type": "code",
   "execution_count": 12,
   "metadata": {
    "collapsed": false
   },
   "outputs": [
    {
     "data": {
      "text/plain": [
       "0.98868978"
      ]
     },
     "execution_count": 12,
     "metadata": {},
     "output_type": "execute_result"
    }
   ],
   "source": [
    "np.max(trc4[:,:,:,:])"
   ]
  },
  {
   "cell_type": "code",
   "execution_count": 13,
   "metadata": {
    "collapsed": false
   },
   "outputs": [
    {
     "data": {
      "text/plain": [
       "0.98280138"
      ]
     },
     "execution_count": 13,
     "metadata": {},
     "output_type": "execute_result"
    }
   ],
   "source": [
    "np.max(trc5[:,:,:,:])"
   ]
  },
  {
   "cell_type": "code",
   "execution_count": 3,
   "metadata": {
    "collapsed": false
   },
   "outputs": [],
   "source": [
    "rtracers = nc.Dataset('/ocean/sallen/allen/research/MEOPAR/NEMO-code/NEMOGCM/CONFIG/SalishSea_TRC/EXP00/SalishSea_00000090_restart_trc.nc')"
   ]
  },
  {
   "cell_type": "code",
   "execution_count": 4,
   "metadata": {
    "collapsed": false
   },
   "outputs": [
    {
     "name": "stdout",
     "output_type": "stream",
     "text": [
      "[u'nav_lon', u'nav_lat', u'nav_lev', u'time_counter', u'kt', u'ndastp', u'adatrj', u'rdttrc1', u'TRNTR_Clover', u'TRNTR_Macaulay', u'TRNTR_Iona', u'TRNTR_Nanaimo', u'TRNTR_Campbell', u'TRBTR_Clover', u'TRBTR_Macaulay', u'TRBTR_Iona', u'TRBTR_Nanaimo', u'TRBTR_Campbell']\n"
     ]
    }
   ],
   "source": [
    "nc_tools.show_variables(rtracers)"
   ]
  },
  {
   "cell_type": "code",
   "execution_count": 5,
   "metadata": {
    "collapsed": false
   },
   "outputs": [],
   "source": [
    "Clover = rtracers.variables['TRBTR_Clover'][:]\n",
    "Macaulay = rtracers.variables['TRBTR_Macaulay'][:]\n",
    "Iona = rtracers.variables['TRBTR_Iona'][:]\n",
    "Nanaimo = rtracers.variables['TRBTR_Nanaimo'][:]\n",
    "Campbell = rtracers.variables['TRBTR_Campbell'][:]"
   ]
  },
  {
   "cell_type": "code",
   "execution_count": 35,
   "metadata": {
    "collapsed": false
   },
   "outputs": [
    {
     "name": "stdout",
     "output_type": "stream",
     "text": [
      "(1, 40, 898, 398)\n"
     ]
    }
   ],
   "source": [
    "print(Nanaimo.shape)"
   ]
  },
  {
   "cell_type": "code",
   "execution_count": 9,
   "metadata": {
    "collapsed": false
   },
   "outputs": [
    {
     "name": "stdout",
     "output_type": "stream",
     "text": [
      "0 0.0190354670976\n",
      "1 0.0197193720514\n",
      "2 0.0211010109812\n",
      "3 0.0232081884658\n",
      "4 0.0260824792617\n",
      "5 0.0297790750861\n",
      "6 0.0343665972279\n",
      "7 0.039926922802\n",
      "8 0.0465551488156\n",
      "9 0.0543599900289\n",
      "10 0.0634652832838\n",
      "11 0.0740140832852\n",
      "12 0.0861786220601\n",
      "13 0.100183182988\n",
      "14 0.116355237145\n",
      "15 0.135238385164\n",
      "16 0.157841569954\n",
      "17 0.186193980722\n",
      "18 0.22461192902\n",
      "19 0.282704798132\n",
      "20 0.382515088494\n",
      "21 0.574858191304\n",
      "22 0.997756303952\n",
      "23 0.937816314015\n",
      "24 0.00231261799083\n",
      "25 0.000427292136828\n",
      "26 1.03278313193e-32\n",
      "27 4.09282477712e-68\n",
      "28 2.40078315123e-82\n",
      "29 3.9489447784e-91\n",
      "30 1.82088502296e-98\n",
      "31 3.32029978248e-106\n",
      "32 9.30518841797e-114\n",
      "33 1.04419675029e-131\n",
      "34 1.19454448297e-163\n",
      "35 1.24711847072e-249\n",
      "36 1.49138329217e-296\n",
      "37 1.85876445713e-298\n",
      "38 0.0\n",
      "39 0.0\n"
     ]
    }
   ],
   "source": [
    "for i in range(40):\n",
    "    print(i, np.max(Campbell[:,i]))"
   ]
  },
  {
   "cell_type": "code",
   "execution_count": 10,
   "metadata": {
    "collapsed": false
   },
   "outputs": [
    {
     "data": {
      "text/plain": [
       "<matplotlib.collections.QuadMesh at 0x7f6d1d523ed0>"
      ]
     },
     "execution_count": 10,
     "metadata": {},
     "output_type": "execute_result"
    },
    {
     "data": {
      "image/png": "[encoded data removed]",
      "text/plain": [
       "<matplotlib.figure.Figure at 0x7f6d1d5982d0>"
      ]
     },
     "metadata": {},
     "output_type": "display_data"
    }
   ],
   "source": [
    "level = 22\n",
    "cmap = plt.get_cmap('bwr')\n",
    "vmin = -1; vmax = 1\n",
    "plt.pcolormesh(Campbell[0,level], vmin=vmin, vmax=vmax, cmap=cmap)"
   ]
  },
  {
   "cell_type": "code",
   "execution_count": 11,
   "metadata": {
    "collapsed": false
   },
   "outputs": [
    {
     "name": "stdout",
     "output_type": "stream",
     "text": [
      "(1, 40, 898, 398)\n",
      "751 125 0.997756303952\n"
     ]
    }
   ],
   "source": [
    "print(Campbell.shape)\n",
    "for i in range(898):\n",
    "    for j in range(398):\n",
    "        if Campbell[0,level,i,j] > 0.1:\n",
    "            print(i,j,Campbell[0,level,i,j])"
   ]
  },
  {
   "cell_type": "code",
   "execution_count": 42,
   "metadata": {
    "collapsed": false
   },
   "outputs": [
    {
     "data": {
      "text/plain": [
       "<matplotlib.colorbar.Colorbar instance at 0x7f1756a631b8>"
      ]
     },
     "execution_count": 42,
     "metadata": {},
     "output_type": "execute_result"
    },
    {
     "data": {
      "image/png": "[encoded data removed]",
      "text/plain": [
       "<matplotlib.figure.Figure at 0x7f1756ca1910>"
      ]
     },
     "metadata": {},
     "output_type": "display_data"
    }
   ],
   "source": [
    "plt.pcolormesh(Nanaimo[0,level,490:510,200:220])\n",
    "plt.colorbar()"
   ]
  },
  {
   "cell_type": "code",
   "execution_count": null,
   "metadata": {
    "collapsed": true
   },
   "outputs": [],
   "source": []
  }
 ],
 "metadata": {
  "kernelspec": {
   "display_name": "Python 2",
   "language": "python",
   "name": "python2"
  },
  "language_info": {
   "codemirror_mode": {
    "name": "ipython",
    "version": 2
   },
   "file_extension": ".py",
   "mimetype": "text/x-python",
   "name": "python",
   "nbconvert_exporter": "python",
   "pygments_lexer": "ipython2",
   "version": "2.7.10"
  }
 },
 "nbformat": 4,
 "nbformat_minor": 0
}
