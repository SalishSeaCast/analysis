{
 "cells": [
  {
   "cell_type": "markdown",
   "metadata": {},
   "source": [
    "* Compare minimum salinity value, location, fresh water amount between ferry observation, nowcast and new model results."
   ]
  },
  {
   "cell_type": "code",
   "execution_count": 1,
   "metadata": {
    "collapsed": true
   },
   "outputs": [],
   "source": [
    "from __future__ import division, print_function\n",
    "from salishsea_tools import (nc_tools,viz_tools,stormtools,tidetools)\n",
    "from salishsea_tools.nowcast import figures\n",
    "from datetime import datetime, timedelta\n",
    "from pylab import *\n",
    "from sklearn import linear_model\n",
    "from glob import glob\n",
    "from IPython.core.display import HTML\n",
    "from salishsea_tools.nowcast import figures\n",
    "import matplotlib.pyplot as plt\n",
    "import scipy.io as sio\n",
    "import netCDF4 as nc\n",
    "import numpy as np\n",
    "import math\n",
    "import os\n",
    "import datetime\n",
    "%matplotlib inline"
   ]
  },
  {
   "cell_type": "code",
   "execution_count": 2,
   "metadata": {
    "collapsed": false
   },
   "outputs": [],
   "source": [
    "import sys\n",
    "sys.path.append('/ocean/jieliu/research/meopar/analysis/jie/salinity_comparison/')\n",
    "import salinity"
   ]
  },
  {
   "cell_type": "code",
   "execution_count": 3,
   "metadata": {
    "collapsed": false
   },
   "outputs": [],
   "source": [
    "paths = {'nowcast': '/data/dlatorne/MEOPAR/SalishSea/nowcast/',\n",
    "        'longerresult': '/ocean/jieliu/research/meopar/river-treatment/14days_norefraserxml/',\n",
    "        'widenresult': '/data/jieliu/MEOPAR/river-treatment/24nor_NW/' }"
   ]
  },
  {
   "cell_type": "code",
   "execution_count": 4,
   "metadata": {
    "collapsed": false
   },
   "outputs": [],
   "source": [
    "run_date = datetime.datetime(2015,6,16)\n",
    "# Results dataset location\n",
    "results_home = paths['longerresult']\n",
    "results_dir = os.path.join(results_home, run_date.strftime('%d%b%y').lower())"
   ]
  },
  {
   "cell_type": "code",
   "execution_count": 5,
   "metadata": {
    "collapsed": false
   },
   "outputs": [],
   "source": [
    "grid_T_hr = salinity.results_dataset('1h', 'grid_T', results_dir)\n",
    "bathy = nc.Dataset('/ocean/jieliu/research/meopar/river-treatment/bathy_meter_SalishSea5.nc')\n",
    "PNW_coastline = sio.loadmat('/ocean/rich/more/mmapbase/bcgeo/PNW.mat')\n",
    "#filepath_name = salinity.date(run_date.year,run_date.month, run_date.day,\\\n",
    "                              #run_date.day,run_date.day, paths['longerresult'],'1h','grid_T') "
   ]
  },
  {
   "cell_type": "code",
   "execution_count": 6,
   "metadata": {
    "collapsed": false
   },
   "outputs": [],
   "source": [
    "latitude=grid_T_hr.variables['nav_lat'] \n",
    "longitude=grid_T_hr.variables['nav_lon']\n",
    "sal_hr = grid_T_hr.variables['vosaline']\n",
    "t, z = 3, 1\n",
    "sal_hr_1 = np.ma.masked_values(sal_hr[t, z], 0)\n",
    "sal_hr_ave = np.ma.masked_values(np.mean(sal_hr[t, 0:3], axis = 0), 0)"
   ]
  },
  {
   "cell_type": "markdown",
   "metadata": {},
   "source": [
    "# salinity data on June 16"
   ]
  },
  {
   "cell_type": "code",
   "execution_count": 7,
   "metadata": {
    "collapsed": false
   },
   "outputs": [],
   "source": [
    "## for observation and nowcast\n",
    "run_date = datetime.datetime(2015,6,16)\n",
    "results_home = paths['nowcast']\n",
    "saline=sio.loadmat('/ocean/jieliu/research/meopar\\\n",
    "/autodataupdate/ferrydata/SBE1920150615.mat')\n",
    "salinity16_min_obs, lon16_min_obs, salinity16_min_15,\\\n",
    "lon16_min_15, salinity16_min_ave, lon16_min_ave = salinity.find_min_value_location(run_date,results_home, saline)"
   ]
  },
  {
   "cell_type": "code",
   "execution_count": 9,
   "metadata": {
    "collapsed": true
   },
   "outputs": [],
   "source": [
    "## for observation and new model result\n",
    "results_home = paths['longerresult']\n",
    "salinity16_min_obs, lon16_min_obs, salinity16_min_15,\\\n",
    "lon16_min_15_new, salinity16_min_ave_new, lon16_min_ave_new \\\n",
    "= salinity.find_min_value_location(run_date,results_home, saline)"
   ]
  },
  {
   "cell_type": "markdown",
   "metadata": {},
   "source": [
    "# salinity data on June 17"
   ]
  },
  {
   "cell_type": "code",
   "execution_count": 10,
   "metadata": {
    "collapsed": true
   },
   "outputs": [],
   "source": [
    "## for observation and nowcast\n",
    "run_date = datetime.datetime(2015,6,17)\n",
    "results_home = paths['nowcast']\n",
    "saline=sio.loadmat('/ocean/jieliu/research/meopar\\\n",
    "/autodataupdate/ferrydata/SBE1920150616.mat')\n",
    "salinity17_min_obs, lon17_min_obs, salinity17_min_15,\\\n",
    "lon17_min_15, salinity17_min_ave, lon17_min_ave = salinity.find_min_value_location(run_date,results_home, saline)"
   ]
  },
  {
   "cell_type": "code",
   "execution_count": 11,
   "metadata": {
    "collapsed": true
   },
   "outputs": [],
   "source": [
    "## for observation and new model result\n",
    "results_home = paths['longerresult']\n",
    "salinity17_min_obs, lon17_min_obs, salinity17_min_15,\\\n",
    "lon17_min_15_new, salinity17_min_ave_new, lon17_min_ave_new \\\n",
    "= salinity.find_min_value_location(run_date,results_home, saline)"
   ]
  },
  {
   "cell_type": "markdown",
   "metadata": {},
   "source": [
    "# salinity data on June 18"
   ]
  },
  {
   "cell_type": "code",
   "execution_count": 12,
   "metadata": {
    "collapsed": true
   },
   "outputs": [],
   "source": [
    "## for observation and nowcast\n",
    "run_date = datetime.datetime(2015,6,18)\n",
    "saline=sio.loadmat('/ocean/jieliu/research/meopar\\\n",
    "/autodataupdate/ferrydata/SBE1920150617.mat')\n",
    "salinity16_min_obs, lon18_min_obs, salinity18_min_15,\\\n",
    "lon18_min_15, salinity18_min_ave, lon18_min_ave = salinity.find_min_value_location(run_date,results_home, saline)"
   ]
  },
  {
   "cell_type": "code",
   "execution_count": 13,
   "metadata": {
    "collapsed": true
   },
   "outputs": [],
   "source": [
    "## for observation and new model result\n",
    "results_home = paths['longerresult']\n",
    "salinity18_min_obs, lon18_min_obs, salinity18_min_15,\\\n",
    "lon18_min_15_new, salinity18_min_ave_new, lon18_min_ave_new \\\n",
    "= salinity.find_min_value_location(run_date,results_home, saline)"
   ]
  },
  {
   "cell_type": "markdown",
   "metadata": {},
   "source": [
    "* ferry data from June 19 to 21 are not usable"
   ]
  },
  {
   "cell_type": "markdown",
   "metadata": {},
   "source": [
    "# salinity data on June 22"
   ]
  },
  {
   "cell_type": "code",
   "execution_count": 14,
   "metadata": {
    "collapsed": true
   },
   "outputs": [],
   "source": [
    "## for observation and nowcast\n",
    "run_date = datetime.datetime(2015,6,22)\n",
    "saline=sio.loadmat('/ocean/jieliu/research/meopar\\\n",
    "/autodataupdate/ferrydata/SBE1920150621.mat')\n",
    "salinity22_min_obs, lon22_min_obs, salinity22_min_15,\\\n",
    "lon22_min_15, salinity22_min_ave, lon22_min_ave = salinity.find_min_value_location(run_date,results_home, saline)"
   ]
  },
  {
   "cell_type": "code",
   "execution_count": 15,
   "metadata": {
    "collapsed": true
   },
   "outputs": [],
   "source": [
    "## for observation and new model result\n",
    "results_home = paths['longerresult']\n",
    "salinity22_min_obs, lon22_min_obs, salinity22_min_15,\\\n",
    "lon22_min_15_new, salinity22_min_ave_new, lon22_min_ave_new \\\n",
    "= salinity.find_min_value_location(run_date,results_home, saline)"
   ]
  },
  {
   "cell_type": "markdown",
   "metadata": {},
   "source": [
    "# salinity data on June 23"
   ]
  },
  {
   "cell_type": "code",
   "execution_count": 18,
   "metadata": {
    "collapsed": false
   },
   "outputs": [],
   "source": [
    "## for observation and nowcast\n",
    "run_date = datetime.datetime(2015,6,23)\n",
    "saline=sio.loadmat('/ocean/jieliu/research/meopar\\\n",
    "/autodataupdate/ferrydata/SBE1920150622.mat')\n",
    "salinity23_min_obs, lon23_min_obs, salinity23_min_15,\\\n",
    "lon23_min_15, salinity23_min_ave, lon23_min_ave = salinity.find_min_value_location(run_date,results_home, saline)"
   ]
  },
  {
   "cell_type": "code",
   "execution_count": 19,
   "metadata": {
    "collapsed": true
   },
   "outputs": [],
   "source": [
    "## for observation and new model result\n",
    "results_home = paths['longerresult']\n",
    "salinity23_min_obs, lon23_min_obs, salinity23_min_15,\\\n",
    "lon23_min_15_new, salinity23_min_ave_new, lon23_min_ave_new \\\n",
    "= salinity.find_min_value_location(run_date,results_home, saline)"
   ]
  },
  {
   "cell_type": "markdown",
   "metadata": {},
   "source": [
    "# salinity data on June 24"
   ]
  },
  {
   "cell_type": "code",
   "execution_count": 20,
   "metadata": {
    "collapsed": true
   },
   "outputs": [],
   "source": [
    "## for observation and nowcast\n",
    "run_date = datetime.datetime(2015,6,24)\n",
    "saline=sio.loadmat('/ocean/jieliu/research/meopar\\\n",
    "/autodataupdate/ferrydata/SBE1920150623.mat')\n",
    "salinity24_min_obs, lon24_min_obs, salinity24_min_15,\\\n",
    "lon24_min_15, salinity24_min_ave, lon24_min_ave = salinity.find_min_value_location(run_date,results_home, saline)"
   ]
  },
  {
   "cell_type": "code",
   "execution_count": 21,
   "metadata": {
    "collapsed": true
   },
   "outputs": [],
   "source": [
    "## for observation and new model result\n",
    "results_home = paths['longerresult']\n",
    "salinity24_min_obs, lon24_min_obs, salinity24_min_15,\\\n",
    "lon24_min_15_new, salinity24_min_ave_new, lon24_min_ave_new \\\n",
    "= salinity.find_min_value_location(run_date,results_home, saline)"
   ]
  },
  {
   "cell_type": "markdown",
   "metadata": {},
   "source": [
    "# salinity data on June 25"
   ]
  },
  {
   "cell_type": "code",
   "execution_count": 22,
   "metadata": {
    "collapsed": true
   },
   "outputs": [],
   "source": [
    "## for observation and nowcast\n",
    "run_date = datetime.datetime(2015,6,25)\n",
    "saline=sio.loadmat('/ocean/jieliu/research/meopar\\\n",
    "/autodataupdate/ferrydata/SBE1920150624.mat')\n",
    "salinity25_min_obs, lon25_min_obs, salinity25_min_15,\\\n",
    "lon25_min_15, salinity25_min_ave, lon25_min_ave = salinity.find_min_value_location(run_date,results_home, saline)"
   ]
  },
  {
   "cell_type": "code",
   "execution_count": 23,
   "metadata": {
    "collapsed": true
   },
   "outputs": [],
   "source": [
    "## for observation and new model result\n",
    "results_home = paths['longerresult']\n",
    "salinity25_min_obs, lon25_min_obs, salinity25_min_15,\\\n",
    "lon25_min_15_new, salinity25_min_ave_new, lon25_min_ave_new \\\n",
    "= salinity.find_min_value_location(run_date,results_home, saline)"
   ]
  },
  {
   "cell_type": "markdown",
   "metadata": {},
   "source": [
    "# salinity data on June 26"
   ]
  },
  {
   "cell_type": "code",
   "execution_count": 24,
   "metadata": {
    "collapsed": true
   },
   "outputs": [],
   "source": [
    "## for observation and nowcast\n",
    "run_date = datetime.datetime(2015,6,26)\n",
    "saline=sio.loadmat('/ocean/jieliu/research/meopar\\\n",
    "/autodataupdate/ferrydata/SBE1920150625.mat')\n",
    "salinity26_min_obs, lon26_min_obs, salinity26_min_15,\\\n",
    "lon26_min_15, salinity26_min_ave, lon26_min_ave = salinity.find_min_value_location(run_date,results_home, saline)"
   ]
  },
  {
   "cell_type": "code",
   "execution_count": 25,
   "metadata": {
    "collapsed": true
   },
   "outputs": [],
   "source": [
    "## for observation and new model result\n",
    "results_home = paths['longerresult']\n",
    "salinity26_min_obs, lon26_min_obs, salinity26_min_15,\\\n",
    "lon26_min_15_new, salinity26_min_ave_new, lon26_min_ave_new \\\n",
    "= salinity.find_min_value_location(run_date,results_home, saline)"
   ]
  },
  {
   "cell_type": "markdown",
   "metadata": {},
   "source": [
    "# salinity data on June 27"
   ]
  },
  {
   "cell_type": "code",
   "execution_count": 26,
   "metadata": {
    "collapsed": true
   },
   "outputs": [],
   "source": [
    "## for observation and nowcast\n",
    "run_date = datetime.datetime(2015,6,27)\n",
    "saline=sio.loadmat('/ocean/jieliu/research/meopar\\\n",
    "/autodataupdate/ferrydata/SBE1920150626.mat')\n",
    "salinity27_min_obs, lon27_min_obs, salinity27_min_15,\\\n",
    "lon27_min_15, salinity27_min_ave, lon27_min_ave = salinity.find_min_value_location(run_date,results_home, saline)"
   ]
  },
  {
   "cell_type": "code",
   "execution_count": 27,
   "metadata": {
    "collapsed": true
   },
   "outputs": [],
   "source": [
    "## for observation and new model result\n",
    "results_home = paths['longerresult']\n",
    "salinity27_min_obs, lon27_min_obs, salinity27_min_15,\\\n",
    "lon27_min_15_new, salinity27_min_ave_new, lon27_min_ave_new \\\n",
    "= salinity.find_min_value_location(run_date,results_home, saline)"
   ]
  },
  {
   "cell_type": "markdown",
   "metadata": {},
   "source": [
    "# salinity data on June 28"
   ]
  },
  {
   "cell_type": "code",
   "execution_count": 28,
   "metadata": {
    "collapsed": true
   },
   "outputs": [],
   "source": [
    "## for observation and nowcast\n",
    "run_date = datetime.datetime(2015,6,28)\n",
    "saline=sio.loadmat('/ocean/jieliu/research/meopar\\\n",
    "/autodataupdate/ferrydata/SBE1920150627.mat')\n",
    "salinity28_min_obs, lon28_min_obs, salinity28_min_15,\\\n",
    "lon28_min_15, salinity28_min_ave, lon28_min_ave = salinity.find_min_value_location(run_date,results_home, saline)"
   ]
  },
  {
   "cell_type": "code",
   "execution_count": 29,
   "metadata": {
    "collapsed": true
   },
   "outputs": [],
   "source": [
    "## for observation and new model result\n",
    "results_home = paths['longerresult']\n",
    "salinity28_min_obs, lon28_min_obs, salinity28_min_15,\\\n",
    "lon28_min_15_new, salinity28_min_ave_new, lon28_min_ave_new \\\n",
    "= salinity.find_min_value_location(run_date,results_home, saline)"
   ]
  },
  {
   "cell_type": "markdown",
   "metadata": {},
   "source": [
    "# salinity data on June 29"
   ]
  },
  {
   "cell_type": "code",
   "execution_count": 30,
   "metadata": {
    "collapsed": true
   },
   "outputs": [],
   "source": [
    "## for observation and nowcast\n",
    "run_date = datetime.datetime(2015,6,29)\n",
    "saline=sio.loadmat('/ocean/jieliu/research/meopar\\\n",
    "/autodataupdate/ferrydata/SBE1920150628.mat')\n",
    "salinity29_min_obs, lon29_min_obs, salinity29_min_15,\\\n",
    "lon29_min_15, salinity29_min_ave, lon29_min_ave = salinity.find_min_value_location(run_date,results_home, saline)"
   ]
  },
  {
   "cell_type": "code",
   "execution_count": 31,
   "metadata": {
    "collapsed": true
   },
   "outputs": [],
   "source": [
    "## for observation and new model result\n",
    "results_home = paths['longerresult']\n",
    "salinity29_min_obs, lon29_min_obs, salinity29_min_15,\\\n",
    "lon29_min_15_new, salinity29_min_ave_new, lon29_min_ave_new \\\n",
    "= salinity.find_min_value_location(run_date,results_home, saline)"
   ]
  },
  {
   "cell_type": "markdown",
   "metadata": {},
   "source": [
    "* combine daily minimum salinity value and location data"
   ]
  },
  {
   "cell_type": "code",
   "execution_count": 46,
   "metadata": {
    "collapsed": false
   },
   "outputs": [],
   "source": [
    "## for observation\n",
    "min_obs_value = [salinity16_min_obs, salinity17_min_obs, salinity18_min_obs,\\\n",
    "                salinity22_min_obs,salinity23_min_obs,salinity24_min_obs,\\\n",
    "                salinity25_min_obs,salinity26_min_obs,salinity27_min_obs,\\\n",
    "                salinity28_min_obs,salinity28_min_obs]\n",
    "\n",
    "min_obs_lon = [lon16_min_obs, lon17_min_obs, lon18_min_obs, lon22_min_obs,\\\n",
    "              lon23_min_obs, lon24_min_obs, lon25_min_obs, lon26_min_obs,\\\n",
    "              lon27_min_obs, lon28_min_obs, lon29_min_obs]"
   ]
  },
  {
   "cell_type": "code",
   "execution_count": null,
   "metadata": {
    "collapsed": true
   },
   "outputs": [],
   "source": [
    "## for nowcast 1.5m & average 3m result"
   ]
  },
  {
   "cell_type": "code",
   "execution_count": null,
   "metadata": {
    "collapsed": true
   },
   "outputs": [],
   "source": [
    "## for new result with 1.5m & average 3m result"
   ]
  },
  {
   "cell_type": "code",
   "execution_count": 49,
   "metadata": {
    "collapsed": true
   },
   "outputs": [],
   "source": [
    "time = [1,2,3,4,5,6,7,8,9,10, 11]"
   ]
  },
  {
   "cell_type": "code",
   "execution_count": 50,
   "metadata": {
    "collapsed": false
   },
   "outputs": [
    {
     "data": {
      "text/plain": [
       "[<matplotlib.lines.Line2D at 0x7f3eb86ec510>]"
      ]
     },
     "execution_count": 50,
     "metadata": {},
     "output_type": "execute_result"
    },
    {
     "data": {
      "image/png": "[encoded data removed]",
      "text/plain": [
       "<matplotlib.figure.Figure at 0x7f3eba308950>"
      ]
     },
     "metadata": {},
     "output_type": "display_data"
    }
   ],
   "source": [
    "plt.plot(time, min_obs_value)"
   ]
  },
  {
   "cell_type": "code",
   "execution_count": null,
   "metadata": {
    "collapsed": true
   },
   "outputs": [],
   "source": []
  }
 ],
 "metadata": {
  "kernelspec": {
   "display_name": "Python 2",
   "language": "python",
   "name": "python2"
  },
  "language_info": {
   "codemirror_mode": {
    "name": "ipython",
    "version": 2
   },
   "file_extension": ".py",
   "mimetype": "text/x-python",
   "name": "python",
   "nbconvert_exporter": "python",
   "pygments_lexer": "ipython2",
   "version": "2.7.10"
  }
 },
 "nbformat": 4,
 "nbformat_minor": 0
}
