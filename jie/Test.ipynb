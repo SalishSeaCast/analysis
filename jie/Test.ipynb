{
 "metadata": {
  "name": "",
  "signature": "sha256:35098c1bf941db11068828fa5185fab5cfabcdc8d65968dfd6716bdcda60b442"
 },
 "nbformat": 3,
 "nbformat_minor": 0,
 "worksheets": [
  {
   "cells": [
    {
     "cell_type": "markdown",
     "metadata": {},
     "source": [
      "This is a test."
     ]
    },
    {
     "cell_type": "code",
     "collapsed": false,
     "input": [],
     "language": "python",
     "metadata": {},
     "outputs": []
    }
   ],
   "metadata": {}
  }
 ]
}