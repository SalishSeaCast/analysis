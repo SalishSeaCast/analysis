{
 "metadata": {
  "name": "",
  "signature": "sha256:1d4dc864195d66f002ca7ff8773e168744a9b3ef838d98668aca30cdaeffa27a"
 },
 "nbformat": 3,
 "nbformat_minor": 0,
 "worksheets": [
  {
   "cells": [
    {
     "cell_type": "markdown",
     "metadata": {},
     "source": [
      "Ferry route & Salinity comparsion"
     ]
    },
    {
     "cell_type": "code",
     "collapsed": false,
     "input": [
      "from __future__ import division, print_function\n",
      "from scipy.io import loadmat\n",
      "import scipy.io as sio\n",
      "import matplotlib.pyplot as plt\n",
      "import netCDF4 as nc\n",
      "import numpy as np\n",
      "import math\n",
      "\n",
      "from salishsea_tools import (\n",
      "    nc_tools,\n",
      "    viz_tools,\n",
      ")"
     ],
     "language": "python",
     "metadata": {},
     "outputs": [],
     "prompt_number": 1
    },
    {
     "cell_type": "code",
     "collapsed": false,
     "input": [
      "%matplotlib inline"
     ],
     "language": "python",
     "metadata": {},
     "outputs": [],
     "prompt_number": 2
    },
    {
     "cell_type": "code",
     "collapsed": false,
     "input": [
      "x=sio.loadmat('SBE.mat')"
     ],
     "language": "python",
     "metadata": {},
     "outputs": [],
     "prompt_number": 3
    },
    {
     "cell_type": "code",
     "collapsed": false,
     "input": [
      "struct=x['ferryData']\n",
      "data_struct=struct['data']\n",
      "saline=sio.loadmat('saline.mat')\n",
      "Lon=sio.loadmat('long.mat')\n",
      "Lat=sio.loadmat('lat.mat')\n",
      "time=sio.loadmat('timeutc.mat')\n",
      "lonn=Lon['long']"
     ],
     "language": "python",
     "metadata": {},
     "outputs": [],
     "prompt_number": 4
    },
    {
     "cell_type": "code",
     "collapsed": false,
     "input": [
      "time.keys()\n",
      "timeutc=time['timevec']"
     ],
     "language": "python",
     "metadata": {},
     "outputs": [],
     "prompt_number": 5
    },
    {
     "cell_type": "code",
     "collapsed": false,
     "input": [
      "Lat.keys()\n",
      "latt=Lat['lat']"
     ],
     "language": "python",
     "metadata": {},
     "outputs": [],
     "prompt_number": 6
    },
    {
     "cell_type": "code",
     "collapsed": false,
     "input": [
      "saline.keys()\n",
      "salinity=saline['salinity']"
     ],
     "language": "python",
     "metadata": {},
     "outputs": [],
     "prompt_number": 7
    },
    {
     "cell_type": "code",
     "collapsed": false,
     "input": [
      "lon1=lonn[6688067:6688786:50] #try different ranges of longitude to find out the route\n",
      "salinity1=salinity[6688067:6688786:50]# from 2014 9 10 3 to 2014 9 10 5\n",
      "lat1=latt[6688067:6688786:50]\n",
      "timeutc1=timeutc[6688067:6688786:50]\n",
      "print(lon1.min())\n",
      "print(lon1.max())\n",
      "print(salinity1.shape)"
     ],
     "language": "python",
     "metadata": {},
     "outputs": [
      {
       "output_type": "stream",
       "stream": "stdout",
       "text": [
        "-123.792743838\n",
        "-123.132269268\n",
        "(15, 1)\n"
       ]
      }
     ],
     "prompt_number": 8
    },
    {
     "cell_type": "code",
     "collapsed": false,
     "input": [
      "plt.plot(lon1,salinity1,'r')\n",
      "plt.xlabel('longitude')\n",
      "plt.ylabel('salinity psu')"
     ],
     "language": "python",
     "metadata": {},
     "outputs": [
      {
       "metadata": {},
       "output_type": "pyout",
       "prompt_number": 9,
       "text": [
        "<matplotlib.text.Text at 0x7f432c88f690>"
       ]
      },
      {
       "metadata": {},
       "output_type": "display_data",
       "png": "[encoded data removed]",
       "text": [
        "<matplotlib.figure.Figure at 0x7f432c8cf810>"
       ]
      }
     ],
     "prompt_number": 9
    },
    {
     "cell_type": "code",
     "collapsed": false,
     "input": [
      "plt.plot(lon1,lat1,'k')\n",
      "plt.xlabel('longitude')\n",
      "plt.ylabel('latitude')"
     ],
     "language": "python",
     "metadata": {},
     "outputs": [
      {
       "metadata": {},
       "output_type": "pyout",
       "prompt_number": 10,
       "text": [
        "<matplotlib.text.Text at 0x7f4325eb8e10>"
       ]
      },
      {
       "metadata": {},
       "output_type": "display_data",
       "png": "[encoded data removed]",
       "text": [
        "<matplotlib.figure.Figure at 0x7f432c7ed990>"
       ]
      }
     ],
     "prompt_number": 10
    },
    {
     "cell_type": "code",
     "collapsed": false,
     "input": [
      "from sklearn import linear_model\n",
      "regr =linear_model.LinearRegression()"
     ],
     "language": "python",
     "metadata": {},
     "outputs": [],
     "prompt_number": 11
    },
    {
     "cell_type": "code",
     "collapsed": false,
     "input": [
      "regr.fit(lon1,lat1);"
     ],
     "language": "python",
     "metadata": {},
     "outputs": [],
     "prompt_number": 12
    },
    {
     "cell_type": "code",
     "collapsed": false,
     "input": [
      "print(regr.coef_) # the expression is lat=lon*(-0.3470827)+6.25936654\n",
      "print(regr.intercept_)"
     ],
     "language": "python",
     "metadata": {},
     "outputs": [
      {
       "output_type": "stream",
       "stream": "stdout",
       "text": [
        "[[-0.34544379]]\n",
        "[ 6.46171955]\n"
       ]
      }
     ],
     "prompt_number": 13
    },
    {
     "cell_type": "code",
     "collapsed": false,
     "input": [
      "#The mean square error\n",
      "print(\"fit error\", np.mean((regr.predict(lon1)-lat1)**2))"
     ],
     "language": "python",
     "metadata": {},
     "outputs": [
      {
       "output_type": "stream",
       "stream": "stdout",
       "text": [
        "fit error 5.29466332324e-05\n"
       ]
      }
     ],
     "prompt_number": 14
    },
    {
     "cell_type": "code",
     "collapsed": false,
     "input": [
      "#plot the linear model\n",
      "plt.plot(lon1,regr.predict(lon1),'b',linewidth=1)\n",
      "plt.plot(lon1,lat1,'k',linewidth=1)\n",
      "plt.xlabel('longitude')\n",
      "plt.ylabel('latitude')\n",
      "#print(regr.predict(lon1).shape)"
     ],
     "language": "python",
     "metadata": {},
     "outputs": [
      {
       "metadata": {},
       "output_type": "pyout",
       "prompt_number": 15,
       "text": [
        "<matplotlib.text.Text at 0x7f4306eeced0>"
       ]
      },
      {
       "metadata": {},
       "output_type": "display_data",
       "png": "[encoded data removed]",
       "text": [
        "<matplotlib.figure.Figure at 0x7f432140bb50>"
       ]
      }
     ],
     "prompt_number": 15
    },
    {
     "cell_type": "code",
     "collapsed": false,
     "input": [
      "tracers = nc.Dataset('/ocean/jieliu/research/meopar/SalishSea_1h_20140910_20140910_grid_T.nc')"
     ],
     "language": "python",
     "metadata": {},
     "outputs": [],
     "prompt_number": 16
    },
    {
     "cell_type": "code",
     "collapsed": false,
     "input": [
      "nc_tools.show_dimensions(tracers)"
     ],
     "language": "python",
     "metadata": {},
     "outputs": [
      {
       "output_type": "stream",
       "stream": "stdout",
       "text": [
        "<type 'netCDF4.Dimension'>: name = 'deptht', size = 40\n",
        "\n",
        "<type 'netCDF4.Dimension'>: name = 'y', size = 898\n",
        "\n",
        "<type 'netCDF4.Dimension'>: name = 'x', size = 398\n",
        "\n",
        "<type 'netCDF4.Dimension'> (unlimited): name = 'time_counter', size = 24\n",
        "\n",
        "<type 'netCDF4.Dimension'>: name = 'tbnds', size = 2\n",
        "\n"
       ]
      }
     ],
     "prompt_number": 17
    },
    {
     "cell_type": "code",
     "collapsed": false,
     "input": [
      "nc_tools.show_variables(tracers)"
     ],
     "language": "python",
     "metadata": {},
     "outputs": [
      {
       "output_type": "stream",
       "stream": "stdout",
       "text": [
        "[u'deptht', u'nav_lat', u'nav_lon', u'rain_rate', u'snow_rate', u'sossheig', u'time_counter', u'time_counter_bnds', u'vosaline', u'votemper']\n"
       ]
      }
     ],
     "prompt_number": 18
    },
    {
     "cell_type": "code",
     "collapsed": false,
     "input": [
      "dep=tracers.variables['deptht']\n",
      "print(dep[:])"
     ],
     "language": "python",
     "metadata": {},
     "outputs": [
      {
       "output_type": "stream",
       "stream": "stdout",
       "text": [
        "[   0.5000003     1.5000031     2.50001144    3.50003052    4.50007057\n",
        "    5.50015068    6.50031042    7.50062323    8.50123596    9.50243282\n",
        "   10.50476551   11.50931168   12.51816654   13.53541183   14.56898212\n",
        "   15.63428783   16.76117325   18.00713539   19.48178482   21.38997841\n",
        "   24.10025597   28.22991562   34.68575668   44.51772308   58.48433304\n",
        "   76.58558655   98.06295776  121.86651611  147.08946228  173.11448669\n",
        "  199.57304382  226.26029968  253.06663513  279.93453979  306.834198\n",
        "  333.75018311  360.67453003  387.60321045  414.53408813  441.46609497]\n"
       ]
      }
     ],
     "prompt_number": 19
    },
    {
     "cell_type": "code",
     "collapsed": false,
     "input": [
      "latitude=tracers.variables['nav_lat'][:] #latitude of SoG Boundary\n",
      "longitude=tracers.variables['nav_lon'][:] #longitude of SoG Boundary\n",
      "\n",
      "print('Latitude {} ~ {}'.format(np.min(latitude), np.max(latitude)),latitude.shape)\n",
      "print('Longitude {} ~ {}'.format(np.min(longitude), np.max(longitude)),longitude.shape)\n",
      "print(longitude[5,0]-longitude[4,0])"
     ],
     "language": "python",
     "metadata": {},
     "outputs": [
      {
       "output_type": "stream",
       "stream": "stdout",
       "text": [
        "Latitude 46.859664917 ~ 51.104801178 (898, 398)\n",
        "Longitude -126.400291443 ~ -121.318351746 (898, 398)\n",
        "-0.00281525\n"
       ]
      }
     ],
     "prompt_number": 20
    },
    {
     "cell_type": "code",
     "collapsed": false,
     "input": [
      "saline_nemo = tracers.variables['vosaline']"
     ],
     "language": "python",
     "metadata": {},
     "outputs": [],
     "prompt_number": 21
    },
    {
     "cell_type": "code",
     "collapsed": false,
     "input": [
      "saline_nemo_3rd = saline_nemo[3,0, 0:898, 0:398] #the 3rd hour, first depth\n",
      "saline_nemo_3rd_1=saline_nemo[3,0:2,0:898,0:398] \n",
      "saline_nemo_4rd = saline_nemo[4,0, 0:898, 0:398] \n",
      "saline_nemo_4rd_1=saline_nemo[4,0:2,0:898,0:398]\n",
      "saline_nemo_5rd = saline_nemo[5,0, 0:898, 0:398] \n",
      "saline_nemo_5rd_1=saline_nemo[5,0:2,0:898,0:398]\n",
      "saline_nemo_3rd_ave=np.mean(saline_nemo_3rd_1,axis=0)\n",
      "saline_nemo_4rd_ave=np.mean(saline_nemo_4rd_1,axis=0)\n",
      "saline_nemo_5rd_ave=np.mean(saline_nemo_5rd_1,axis=0)\n",
      "print(saline_nemo_3rd_ave.shape,saline_nemo_4rd_ave.shape,saline_nemo_5rd_ave.shape)\n"
     ],
     "language": "python",
     "metadata": {},
     "outputs": [
      {
       "output_type": "stream",
       "stream": "stdout",
       "text": [
        "(898, 398) (898, 398) (898, 398)\n"
       ]
      }
     ],
     "prompt_number": 41
    },
    {
     "cell_type": "code",
     "collapsed": false,
     "input": [
      "def get_SS2_bathy_data():\n",
      "    \"\"\"Get the Salish Sea 2 bathymetry and grid data\n",
      "    e.g.  e.g. bathy, X, Y = get_SS2_bathy_data()\n",
      "\n",
      "    .. note::\n",
      "\n",
      "        This function is deprecated due to hard-coding of\n",
      "        :file:`/ocean/klesouef/` path.\n",
      "        Use :py:func:`tidetools.get_bathy_data` instead.\n",
      "\n",
      "    :returns: bathy, X, Y\n",
      "    \"\"\"\n",
      "    grid = nc.Dataset(\n",
      "        '/ocean/klesouef/meopar/nemo-forcing/grid/bathy_meter_SalishSea2.nc',\n",
      "        'r')\n",
      "    bathy = grid.variables['Bathymetry'][:, :]\n",
      "    X = grid.variables['nav_lon'][:, :]\n",
      "    Y = grid.variables['nav_lat'][:, :]\n",
      "    return bathy, X, Y"
     ],
     "language": "python",
     "metadata": {},
     "outputs": [],
     "prompt_number": 23
    },
    {
     "cell_type": "code",
     "collapsed": false,
     "input": [
      "bathy, X, Y = get_SS2_bathy_data()"
     ],
     "language": "python",
     "metadata": {},
     "outputs": [],
     "prompt_number": 24
    },
    {
     "cell_type": "code",
     "collapsed": false,
     "input": [
      "def find_closest_model_point(lon, lat, X, Y, bathy, allow_land=False):\n",
      "    \"\"\"Returns the grid co-ordinates of the closest non-land model point\n",
      "    to a specified lon/lat.\n",
      "\n",
      "    e.g. x1, j1 = find_closest_model_point(-125.5,49.2,X,Y,bathy)\n",
      "    where bathy, X and Y are returned from get_SS_bathy_data().\n",
      "\n",
      "    :arg lon: specified longitude\n",
      "    :type lon: float\n",
      "\n",
      "    :arg lat: specified latitude\n",
      "    :type lat: float\n",
      "\n",
      "    :arg X: specified model longitude\n",
      "    :type X: numpy array\n",
      "\n",
      "    :arg Y: specified model latitude\n",
      "    :type Y: numpy array\n",
      "\n",
      "    :arg bathy: model bathymetry\n",
      "    :type bathy: numpy array\n",
      "\n",
      "    :arg allow_land: whether code should return a land point or closest\n",
      "                     water point\n",
      "    :type allow_land: boolean\n",
      "\n",
      "    :returns: x1, j1\n",
      "    \"\"\"\n",
      "    # Tolerance for searching for grid points\n",
      "    # (approx. distances between adjacent grid points)\n",
      "    tol1 = 0.0052   # lon\n",
      "    tol2 = 0.00189  # lat\n",
      "\n",
      "    # Search for a grid point with lon/lat within tolerance of\n",
      "    # measured location\n",
      "    x1, y1 = np.where(\n",
      "        np.logical_and(\n",
      "            (np.logical_and(X > lon-tol1, X < lon+tol1)),\n",
      "            (np.logical_and(Y > lat-tol2, Y < lat+tol2))))\n",
      "    if np.size(x1) != 0:\n",
      "        x1 = x1[0]\n",
      "        y1 = y1[0]\n",
      "        # What if more than one point is returned from this search?\n",
      "        # Just take the first one...\n",
      "        #\n",
      "        # If x1,y1 is masked, search 3x3 grid around.\n",
      "        # If all those points are masked, search 4x4 grid around, etc.\n",
      "        for ii in np.arange(1, 100):\n",
      "            if bathy.mask[x1, y1] and not allow_land:\n",
      "                for i in np.arange(x1-ii, x1+ii+1):\n",
      "                    for j in np.arange(y1-ii, y1+ii+1):\n",
      "                        if not bathy.mask[i, j]:\n",
      "                            break\n",
      "                    if not bathy.mask[i, j]:\n",
      "                        break\n",
      "                if not bathy.mask[i, j]:\n",
      "                    break\n",
      "            else:\n",
      "                i = x1\n",
      "                j = y1\n",
      "    else:\n",
      "            i = []\n",
      "            j = []\n",
      "    return i, j"
     ],
     "language": "python",
     "metadata": {},
     "outputs": [],
     "prompt_number": 25
    },
    {
     "cell_type": "code",
     "collapsed": false,
     "input": [
      "def haversine(lon1, lat1, lon2, lat2):\n",
      "    \"\"\"Calculate the distance between two points (from haversine on SO)\n",
      "    e.g. dist = haversine(-125.1, 49.1, -125.12, 49.5)\n",
      "\n",
      "    :arg lon1: longitude of point 1\n",
      "    :type lon1: float\n",
      "\n",
      "    :arg lat1: latitude of point 1\n",
      "    :type lat1: float\n",
      "\n",
      "    :arg lon2: longitude of point 2\n",
      "    :type lon2: float\n",
      "\n",
      "    :arg lat2: latitude of point 2\n",
      "    :type lat2: float\n",
      "\n",
      "    :returns: distance between two points in km\n",
      "    \"\"\"\n",
      "    # convert decimal degrees to radians\n",
      "    lon1, lat1, lon2, lat2 = map(math.radians, [lon1, lat1, lon2, lat2])\n",
      "    # haversine formula\n",
      "    dlon = lon2 - lon1\n",
      "    dlat = lat2 - lat1\n",
      "    a = math.sin(dlat/2)**2 + math.cos(lat1) * math.cos(lat2) * math.sin(dlon/2)**2\n",
      "    c = 2 * math.asin(math.sqrt(a))\n",
      "    km = 6367 * c\n",
      "    print('Observation site and model grid point are '\n",
      "        + str(round(km, 3))+'km apart')\n",
      "    return km"
     ],
     "language": "python",
     "metadata": {},
     "outputs": [],
     "prompt_number": 26
    },
    {
     "cell_type": "markdown",
     "metadata": {},
     "source": [
      "Make a function of find_dist to return the sum of salinity and their weights respectively."
     ]
    },
    {
     "cell_type": "code",
     "collapsed": false,
     "input": [
      "def find_dist (q):\n",
      "    k=0\n",
      "    values =0\n",
      "    dist = np.zeros(9)\n",
      "    weights = np.zeros(9)\n",
      "    value=np.zeros(9)\n",
      "    indeces = np.arange(0,15)\n",
      "\n",
      "    [x1, j1] = find_closest_model_point(lon1[q],regr.predict(lon1[q]),X,Y,bathy)\n",
      "    for i in np.arange(x1-1,x1+2):\n",
      "        for j in np.arange(j1-1,j1+2):\n",
      "            dist[k]=haversine(lon1[q],regr.predict(lon1[q]),longitude[i,j],latitude[i,j])\n",
      "            weights[k]=1.0/dist[k]\n",
      "            value[k]=saline_nemo_5rd_ave[i,j]*weights[k]\n",
      "            values=values+value[k]\n",
      "            \n",
      "          \n",
      "            k+=1\n",
      "\n",
      "    print(dist)\n",
      " \n",
      "    return values,weights"
     ],
     "language": "python",
     "metadata": {},
     "outputs": [],
     "prompt_number": 46
    },
    {
     "cell_type": "code",
     "collapsed": false,
     "input": [
      "matrix=np.zeros([15,9])\n",
      "values=np.zeros([15,1])\n",
      "value_mean_3rd_hour=np.zeros([15,1]) ###value_mean is the interpolation salinity of each observation                       \n",
      "for q in np.arange(0,15):\n",
      "   values[q],matrix[q,:]=find_dist(q)\n",
      "#print(values,matrix)\n",
      "for q in np.arange(0,15):\n",
      "    value_mean_3rd_hour[q]=values[q]/sum(matrix[q])\n",
      "print(value_mean_3rd_hour)"
     ],
     "language": "python",
     "metadata": {},
     "outputs": [
      {
       "output_type": "stream",
       "stream": "stdout",
       "text": [
        "Observation site and model grid point are 0.528km apart\n",
        "Observation site and model grid point are 0.292km apart\n",
        "Observation site and model grid point are 0.517km apart\n",
        "Observation site and model grid point are 0.489km apart\n",
        "Observation site and model grid point are 0.209km apart\n",
        "Observation site and model grid point are 0.473km apart\n",
        "Observation site and model grid point are 0.838km apart\n",
        "Observation site and model grid point are 0.71km apart\n",
        "Observation site and model grid point are 0.826km apart\n",
        "[ 0.52823104  0.29209725  0.51700659  0.48920634  0.20906197  0.47332537\n",
        "  0.83750283  0.70986698  0.82620872]\n",
        "Observation site and model grid point are 0.528km apart\n",
        "Observation site and model grid point are 0.28km apart\n",
        "Observation site and model grid point are 0.503km apart\n",
        "Observation site and model grid point are 0.502km apart\n",
        "Observation site and model grid point are 0.222km apart\n",
        "Observation site and model grid point are 0.472km apart\n",
        "Observation site and model grid point are 0.852km apart\n",
        "Observation site and model grid point are 0.723km apart\n",
        "Observation site and model grid point are 0.833km apart\n",
        "[ 0.52835815  0.27989792  0.50321114  0.50202256  0.22203326  0.47173369\n",
        "  0.85245729  0.72254545  0.83287806]\n",
        "Observation site and model grid point are 0.529km apart\n",
        "Observation site and model grid point are 0.268km apart\n",
        "Observation site and model grid point are 0.489km apart\n",
        "Observation site and model grid point are 0.515km apart\n",
        "Observation site and model grid point are 0.235km apart\n",
        "Observation site and model grid point are 0.471km apart\n",
        "Observation site and model grid point are 0.867km apart\n",
        "Observation site and model grid point are 0.735km apart\n",
        "Observation site and model grid point are 0.84km apart\n",
        "[ 0.52890845  0.26797828  0.48948393  0.51495432  0.23524049  0.47061221\n",
        "  0.86741187  0.73530958  0.83976085]\n",
        "Observation site and model grid point are 0.829km apart\n",
        "Observation site and model grid point are 0.634km apart\n",
        "Observation site and model grid point are 0.702km apart\n",
        "Observation site and model grid point are 0.561km apart\n",
        "Observation site and model grid point are 0.168km apart\n",
        "Observation site and model grid point are 0.342km apart\n",
        "Observation site and model grid point are 0.667km apart\n",
        "Observation site and model grid point are 0.395km apart\n",
        "Observation site and model grid point are 0.493km apart\n",
        "[ 0.82890552  0.63384975  0.70172285  0.56135049  0.16783474  0.34205213\n",
        "  0.66701292  0.39513372  0.49335149]\n",
        "Observation site and model grid point are 0.529km apart\n",
        "Observation site and model grid point are 0.366km apart\n",
        "Observation site and model grid point are 0.602km apart\n",
        "Observation site and model grid point are 0.411km apart\n",
        "Observation site and model grid point are 0.146km apart\n",
        "Observation site and model grid point are 0.499km apart\n",
        "Observation site and model grid point are 0.748km apart\n",
        "Observation site and model grid point are 0.64km apart\n",
        "Observation site and model grid point are 0.798km apart\n",
        "[ 0.52883474  0.36556041  0.60221297  0.41079453  0.1459663   0.49890823\n",
        "  0.74778229  0.64044093  0.79769106]\n",
        "Observation site and model grid point are 0.884km apart\n",
        "Observation site and model grid point are 0.534km apart\n",
        "Observation site and model grid point are 0.405km apart\n",
        "Observation site and model grid point are 0.798km apart\n",
        "Observation site and model grid point are 0.373km apart\n",
        "Observation site and model grid point are 0.127km apart\n",
        "Observation site and model grid point are 0.996km apart\n",
        "Observation site and model grid point are 0.702km apart\n",
        "Observation site and model grid point are 0.608km apart\n",
        "[ 0.88422969  0.53420243  0.40464568  0.79820335  0.37309933  0.12698383\n",
        "  0.99603913  0.70226646  0.60753691]\n",
        "Observation site and model grid point are 0.785km apart\n",
        "Observation site and model grid point are 0.495km apart\n",
        "Observation site and model grid point are 0.5km apart\n",
        "Observation site and model grid point are 0.648km apart\n",
        "Observation site and model grid point are 0.219km apart\n",
        "Observation site and model grid point are 0.226km apart\n",
        "Observation site and model grid point are 0.85km apart\n",
        "Observation site and model grid point are 0.592km apart\n",
        "Observation site and model grid point are 0.594km apart\n",
        "[ 0.78454713  0.49537359  0.49991635  0.64760995  0.2190229   0.22621987\n",
        "  0.85033951  0.59227208  0.59423781]\n",
        "Observation site and model grid point are 0.769km apart\n",
        "Observation site and model grid point are 0.663km apart\n",
        "Observation site and model grid point are 0.814km apart\n",
        "Observation site and model grid point are 0.425km apart\n",
        "Observation site and model grid point are 0.167km apart\n",
        "Observation site and model grid point are 0.499km apart\n",
        "Observation site and model grid point are 0.519km apart\n",
        "Observation site and model grid point are 0.34km apart\n",
        "Observation site and model grid point are 0.58km apart\n",
        "[ 0.76936727  0.66342945  0.81410195  0.42477169  0.16658984  0.49910636\n",
        "  0.5191607   0.34005305  0.57977405]\n",
        "Observation site and model grid point are 0.725km apart\n",
        "Observation site and model grid point are 0.572km apart\n",
        "Observation site and model grid point are 0.709km apart\n",
        "Observation site and model grid point are 0.453km apart\n",
        "Observation site and model grid point are 0.074km apart\n",
        "Observation site and model grid point are 0.424km apart\n",
        "Observation site and model grid point are 0.619km apart\n",
        "Observation site and model grid point are 0.428km apart\n",
        "Observation site and model grid point are 0.597km apart\n",
        "[ 0.72533845  0.57240831  0.70940171  0.45260732  0.07397775  0.42405931\n",
        "  0.61876733  0.42759514  0.59702571]\n",
        "Observation site and model grid point are 0.699km apart\n",
        "Observation site and model grid point are 0.504km apart\n",
        "Observation site and model grid point are 0.627km apart\n",
        "Observation site and model grid point are 0.488km apart\n",
        "Observation site and model grid point are 0.056km apart\n",
        "Observation site and model grid point are 0.376km apart\n",
        "Observation site and model grid point are 0.699km apart\n",
        "Observation site and model grid point are 0.502km apart\n",
        "Observation site and model grid point are 0.624km apart\n",
        "[ 0.69915358  0.50385587  0.62664641  0.48836805  0.05644882  0.37596639\n",
        "  0.69864668  0.50169676  0.62381343]\n",
        "Observation site and model grid point are 0.682km apart\n",
        "Observation site and model grid point are 0.439km apart\n",
        "Observation site and model grid point are 0.542km apart\n",
        "Observation site and model grid point are 0.536km apart\n",
        "Observation site and model grid point are 0.123km apart\n",
        "Observation site and model grid point are 0.34km apart\n",
        "Observation site and model grid point are 0.781km apart\n",
        "Observation site and model grid point are 0.58km apart\n",
        "Observation site and model grid point are 0.661km apart\n",
        "[ 0.6817425   0.43887016  0.54177635  0.53617329  0.12285902  0.33971894\n",
        "  0.78108062  0.58023994  0.66061911]\n",
        "Observation site and model grid point are 0.675km apart\n",
        "Observation site and model grid point are 0.376km apart\n",
        "Observation site and model grid point are 0.447km apart\n",
        "Observation site and model grid point are 0.601km apart\n",
        "Observation site and model grid point are 0.214km apart\n",
        "Observation site and model grid point are 0.322km apart\n",
        "Observation site and model grid point are 0.874km apart\n",
        "Observation site and model grid point are 0.67km apart\n",
        "Observation site and model grid point are 0.712km apart\n",
        "[ 0.67544267  0.37603515  0.44690134  0.60069331  0.21433825  0.32235022\n",
        "  0.87430712  0.67042877  0.71170076]\n",
        "Observation site and model grid point are 0.771km apart\n",
        "Observation site and model grid point are 0.773km apart\n",
        "Observation site and model grid point are 0.987km apart\n",
        "Observation site and model grid point are 0.322km apart\n",
        "Observation site and model grid point are 0.327km apart\n",
        "Observation site and model grid point are 0.695km apart\n",
        "Observation site and model grid point are 0.333km apart\n",
        "Observation site and model grid point are 0.339km apart\n",
        "Observation site and model grid point are 0.7km apart\n",
        "[ 0.77052586  0.77337712  0.98697301  0.32155135  0.32701389  0.69496745\n",
        "  0.33319812  0.33868776  0.70025293]\n",
        "Observation site and model grid point are 0.672km apart"
       ]
      },
      {
       "output_type": "stream",
       "stream": "stdout",
       "text": [
        "\n",
        "Observation site and model grid point are 0.438km apart\n",
        "Observation site and model grid point are 0.552km apart\n",
        "Observation site and model grid point are 0.522km apart\n",
        "Observation site and model grid point are 0.11km apart\n",
        "Observation site and model grid point are 0.353km apart\n",
        "Observation site and model grid point are 0.768km apart\n",
        "Observation site and model grid point are 0.575km apart\n",
        "Observation site and model grid point are 0.666km apart\n",
        "[ 0.67213589  0.43799548  0.5516328   0.52155655  0.11018022  0.35251313\n",
        "  0.76845923  0.57490016  0.6655008 ]\n",
        "Observation site and model grid point are 0.841km apart\n",
        "Observation site and model grid point are 0.809km apart\n",
        "Observation site and model grid point are 0.987km apart\n",
        "Observation site and model grid point are 0.404km apart\n",
        "Observation site and model grid point are 0.334km apart\n",
        "Observation site and model grid point are 0.656km apart\n",
        "Observation site and model grid point are 0.342km apart\n",
        "Observation site and model grid point are 0.256km apart\n",
        "Observation site and model grid point are 0.621km apart\n",
        "[ 0.84105363  0.80927948  0.98731384  0.40395638  0.33355619  0.65646395\n",
        "  0.34247916  0.2561782   0.62086417]\n",
        "[[ 20.32877217]\n",
        " [ 20.33692705]\n",
        " [ 20.34507113]\n",
        " [ 19.16704995]\n",
        " [ 17.4442824 ]\n",
        " [ 16.92170254]\n",
        " [ 17.82751082]\n",
        " [ 18.33682352]\n",
        " [ 21.19883182]\n",
        " [ 22.47467897]\n",
        " [ 22.61238322]\n",
        " [ 22.94042106]\n",
        " [ 23.43046974]\n",
        " [ 23.91856467]\n",
        " [ 24.42933719]]\n"
       ]
      }
     ],
     "prompt_number": 43
    },
    {
     "cell_type": "code",
     "collapsed": false,
     "input": [
      "matrix=np.zeros([15,9])\n",
      "values=np.zeros([15,1])\n",
      "value_mean_4rd_hour=np.zeros([15,1]) ###value_mean is the interpolation salinity of each observation\n",
      "                            ## points, and there are 15 points totally.\n",
      "for q in np.arange(0,15):\n",
      "   values[q],matrix[q,:]=find_dist(q)\n",
      "#print(values,matrix)\n",
      "for q in np.arange(0,15):\n",
      "    value_mean_4rd_hour[q]=values[q]/sum(matrix[q])\n",
      "print(value_mean_4rd_hour)"
     ],
     "language": "python",
     "metadata": {},
     "outputs": [
      {
       "output_type": "stream",
       "stream": "stdout",
       "text": [
        "Observation site and model grid point are 0.528km apart\n",
        "Observation site and model grid point are 0.292km apart\n",
        "Observation site and model grid point are 0.517km apart\n",
        "Observation site and model grid point are 0.489km apart\n",
        "Observation site and model grid point are 0.209km apart\n",
        "Observation site and model grid point are 0.473km apart\n",
        "Observation site and model grid point are 0.838km apart\n",
        "Observation site and model grid point are 0.71km apart\n",
        "Observation site and model grid point are 0.826km apart\n",
        "[ 0.52823104  0.29209725  0.51700659  0.48920634  0.20906197  0.47332537\n",
        "  0.83750283  0.70986698  0.82620872]\n",
        "Observation site and model grid point are 0.528km apart\n",
        "Observation site and model grid point are 0.28km apart\n",
        "Observation site and model grid point are 0.503km apart\n",
        "Observation site and model grid point are 0.502km apart\n",
        "Observation site and model grid point are 0.222km apart\n",
        "Observation site and model grid point are 0.472km apart\n",
        "Observation site and model grid point are 0.852km apart\n",
        "Observation site and model grid point are 0.723km apart\n",
        "Observation site and model grid point are 0.833km apart\n",
        "[ 0.52835815  0.27989792  0.50321114  0.50202256  0.22203326  0.47173369\n",
        "  0.85245729  0.72254545  0.83287806]\n",
        "Observation site and model grid point are 0.529km apart\n",
        "Observation site and model grid point are 0.268km apart\n",
        "Observation site and model grid point are 0.489km apart\n",
        "Observation site and model grid point are 0.515km apart\n",
        "Observation site and model grid point are 0.235km apart\n",
        "Observation site and model grid point are 0.471km apart\n",
        "Observation site and model grid point are 0.867km apart\n",
        "Observation site and model grid point are 0.735km apart\n",
        "Observation site and model grid point are 0.84km apart\n",
        "[ 0.52890845  0.26797828  0.48948393  0.51495432  0.23524049  0.47061221\n",
        "  0.86741187  0.73530958  0.83976085]\n",
        "Observation site and model grid point are 0.829km apart\n",
        "Observation site and model grid point are 0.634km apart\n",
        "Observation site and model grid point are 0.702km apart\n",
        "Observation site and model grid point are 0.561km apart\n",
        "Observation site and model grid point are 0.168km apart\n",
        "Observation site and model grid point are 0.342km apart\n",
        "Observation site and model grid point are 0.667km apart\n",
        "Observation site and model grid point are 0.395km apart\n",
        "Observation site and model grid point are 0.493km apart\n",
        "[ 0.82890552  0.63384975  0.70172285  0.56135049  0.16783474  0.34205213\n",
        "  0.66701292  0.39513372  0.49335149]\n",
        "Observation site and model grid point are 0.529km apart\n",
        "Observation site and model grid point are 0.366km apart\n",
        "Observation site and model grid point are 0.602km apart\n",
        "Observation site and model grid point are 0.411km apart\n",
        "Observation site and model grid point are 0.146km apart\n",
        "Observation site and model grid point are 0.499km apart\n",
        "Observation site and model grid point are 0.748km apart\n",
        "Observation site and model grid point are 0.64km apart\n",
        "Observation site and model grid point are 0.798km apart\n",
        "[ 0.52883474  0.36556041  0.60221297  0.41079453  0.1459663   0.49890823\n",
        "  0.74778229  0.64044093  0.79769106]\n",
        "Observation site and model grid point are 0.884km apart\n",
        "Observation site and model grid point are 0.534km apart\n",
        "Observation site and model grid point are 0.405km apart\n",
        "Observation site and model grid point are 0.798km apart\n",
        "Observation site and model grid point are 0.373km apart\n",
        "Observation site and model grid point are 0.127km apart\n",
        "Observation site and model grid point are 0.996km apart\n",
        "Observation site and model grid point are 0.702km apart\n",
        "Observation site and model grid point are 0.608km apart\n",
        "[ 0.88422969  0.53420243  0.40464568  0.79820335  0.37309933  0.12698383\n",
        "  0.99603913  0.70226646  0.60753691]\n",
        "Observation site and model grid point are 0.785km apart\n",
        "Observation site and model grid point are 0.495km apart\n",
        "Observation site and model grid point are 0.5km apart\n",
        "Observation site and model grid point are 0.648km apart\n",
        "Observation site and model grid point are 0.219km apart\n",
        "Observation site and model grid point are 0.226km apart\n",
        "Observation site and model grid point are 0.85km apart\n",
        "Observation site and model grid point are 0.592km apart\n",
        "Observation site and model grid point are 0.594km apart\n",
        "[ 0.78454713  0.49537359  0.49991635  0.64760995  0.2190229   0.22621987\n",
        "  0.85033951  0.59227208  0.59423781]\n",
        "Observation site and model grid point are 0.769km apart\n",
        "Observation site and model grid point are 0.663km apart\n",
        "Observation site and model grid point are 0.814km apart\n",
        "Observation site and model grid point are 0.425km apart\n",
        "Observation site and model grid point are 0.167km apart\n",
        "Observation site and model grid point are 0.499km apart\n",
        "Observation site and model grid point are 0.519km apart\n",
        "Observation site and model grid point are 0.34km apart\n",
        "Observation site and model grid point are 0.58km apart\n",
        "[ 0.76936727  0.66342945  0.81410195  0.42477169  0.16658984  0.49910636\n",
        "  0.5191607   0.34005305  0.57977405]\n",
        "Observation site and model grid point are 0.725km apart\n",
        "Observation site and model grid point are 0.572km apart\n",
        "Observation site and model grid point are 0.709km apart\n",
        "Observation site and model grid point are 0.453km apart\n",
        "Observation site and model grid point are 0.074km apart\n",
        "Observation site and model grid point are 0.424km apart\n",
        "Observation site and model grid point are 0.619km apart\n",
        "Observation site and model grid point are 0.428km apart\n",
        "Observation site and model grid point are 0.597km apart\n",
        "[ 0.72533845  0.57240831  0.70940171  0.45260732  0.07397775  0.42405931\n",
        "  0.61876733  0.42759514  0.59702571]\n",
        "Observation site and model grid point are 0.699km apart\n",
        "Observation site and model grid point are 0.504km apart\n",
        "Observation site and model grid point are 0.627km apart\n",
        "Observation site and model grid point are 0.488km apart\n",
        "Observation site and model grid point are 0.056km apart\n",
        "Observation site and model grid point are 0.376km apart\n",
        "Observation site and model grid point are 0.699km apart\n",
        "Observation site and model grid point are 0.502km apart\n",
        "Observation site and model grid point are 0.624km apart\n",
        "[ 0.69915358  0.50385587  0.62664641  0.48836805  0.05644882  0.37596639\n",
        "  0.69864668  0.50169676  0.62381343]\n",
        "Observation site and model grid point are 0.682km apart\n",
        "Observation site and model grid point are 0.439km apart\n",
        "Observation site and model grid point are 0.542km apart\n",
        "Observation site and model grid point are 0.536km apart\n",
        "Observation site and model grid point are 0.123km apart\n",
        "Observation site and model grid point are 0.34km apart\n",
        "Observation site and model grid point are 0.781km apart\n",
        "Observation site and model grid point are 0.58km apart\n",
        "Observation site and model grid point are 0.661km apart\n",
        "[ 0.6817425   0.43887016  0.54177635  0.53617329  0.12285902  0.33971894\n",
        "  0.78108062  0.58023994  0.66061911]\n",
        "Observation site and model grid point are 0.675km apart\n",
        "Observation site and model grid point are 0.376km apart\n",
        "Observation site and model grid point are 0.447km apart\n",
        "Observation site and model grid point are 0.601km apart\n",
        "Observation site and model grid point are 0.214km apart\n",
        "Observation site and model grid point are 0.322km apart\n",
        "Observation site and model grid point are 0.874km apart\n",
        "Observation site and model grid point are 0.67km apart\n",
        "Observation site and model grid point are 0.712km apart\n",
        "[ 0.67544267  0.37603515  0.44690134  0.60069331  0.21433825  0.32235022\n",
        "  0.87430712  0.67042877  0.71170076]\n",
        "Observation site and model grid point are 0.771km apart\n",
        "Observation site and model grid point are 0.773km apart\n",
        "Observation site and model grid point are 0.987km apart\n",
        "Observation site and model grid point are 0.322km apart\n",
        "Observation site and model grid point are 0.327km apart\n",
        "Observation site and model grid point are 0.695km apart\n",
        "Observation site and model grid point are 0.333km apart\n",
        "Observation site and model grid point are 0.339km apart"
       ]
      },
      {
       "output_type": "stream",
       "stream": "stdout",
       "text": [
        "\n",
        "Observation site and model grid point are 0.7km apart\n",
        "[ 0.77052586  0.77337712  0.98697301  0.32155135  0.32701389  0.69496745\n",
        "  0.33319812  0.33868776  0.70025293]\n",
        "Observation site and model grid point are 0.672km apart\n",
        "Observation site and model grid point are 0.438km apart\n",
        "Observation site and model grid point are 0.552km apart\n",
        "Observation site and model grid point are 0.522km apart\n",
        "Observation site and model grid point are 0.11km apart\n",
        "Observation site and model grid point are 0.353km apart\n",
        "Observation site and model grid point are 0.768km apart\n",
        "Observation site and model grid point are 0.575km apart\n",
        "Observation site and model grid point are 0.666km apart\n",
        "[ 0.67213589  0.43799548  0.5516328   0.52155655  0.11018022  0.35251313\n",
        "  0.76845923  0.57490016  0.6655008 ]\n",
        "Observation site and model grid point are 0.841km apart\n",
        "Observation site and model grid point are 0.809km apart\n",
        "Observation site and model grid point are 0.987km apart\n",
        "Observation site and model grid point are 0.404km apart\n",
        "Observation site and model grid point are 0.334km apart\n",
        "Observation site and model grid point are 0.656km apart\n",
        "Observation site and model grid point are 0.342km apart\n",
        "Observation site and model grid point are 0.256km apart\n",
        "Observation site and model grid point are 0.621km apart\n",
        "[ 0.84105363  0.80927948  0.98731384  0.40395638  0.33355619  0.65646395\n",
        "  0.34247916  0.2561782   0.62086417]\n",
        "[[ 20.33006552]\n",
        " [ 20.33592114]\n",
        " [ 20.34171263]\n",
        " [ 18.26309788]\n",
        " [ 14.98638153]\n",
        " [ 16.38723626]\n",
        " [ 17.3181067 ]\n",
        " [ 18.55455249]\n",
        " [ 21.49655873]\n",
        " [ 22.50410206]\n",
        " [ 22.65734192]\n",
        " [ 22.94085421]\n",
        " [ 23.48828014]\n",
        " [ 23.9978837 ]\n",
        " [ 24.46077702]]\n"
       ]
      }
     ],
     "prompt_number": 45
    },
    {
     "cell_type": "code",
     "collapsed": false,
     "input": [
      "matrix=np.zeros([15,9])\n",
      "values=np.zeros([15,1])\n",
      "value_mean_5rd_hour=np.zeros([15,1]) ###value_mean is the interpolation salinity of each observation\n",
      "                            ## points, and there are 15 points totally.\n",
      "for q in np.arange(0,15):\n",
      "   values[q],matrix[q,:]=find_dist(q)\n",
      "#print(values,matrix)\n",
      "for q in np.arange(0,15):\n",
      "    value_mean_5rd_hour[q]=values[q]/sum(matrix[q])\n",
      "print(value_mean_5rd_hour)"
     ],
     "language": "python",
     "metadata": {},
     "outputs": [
      {
       "output_type": "stream",
       "stream": "stdout",
       "text": [
        "Observation site and model grid point are 0.528km apart\n",
        "Observation site and model grid point are 0.292km apart\n",
        "Observation site and model grid point are 0.517km apart\n",
        "Observation site and model grid point are 0.489km apart\n",
        "Observation site and model grid point are 0.209km apart\n",
        "Observation site and model grid point are 0.473km apart\n",
        "Observation site and model grid point are 0.838km apart\n",
        "Observation site and model grid point are 0.71km apart\n",
        "Observation site and model grid point are 0.826km apart\n",
        "[ 0.52823104  0.29209725  0.51700659  0.48920634  0.20906197  0.47332537\n",
        "  0.83750283  0.70986698  0.82620872]\n",
        "Observation site and model grid point are 0.528km apart\n",
        "Observation site and model grid point are 0.28km apart\n",
        "Observation site and model grid point are 0.503km apart\n",
        "Observation site and model grid point are 0.502km apart\n",
        "Observation site and model grid point are 0.222km apart\n",
        "Observation site and model grid point are 0.472km apart\n",
        "Observation site and model grid point are 0.852km apart\n",
        "Observation site and model grid point are 0.723km apart\n",
        "Observation site and model grid point are 0.833km apart\n",
        "[ 0.52835815  0.27989792  0.50321114  0.50202256  0.22203326  0.47173369\n",
        "  0.85245729  0.72254545  0.83287806]\n",
        "Observation site and model grid point are 0.529km apart\n",
        "Observation site and model grid point are 0.268km apart\n",
        "Observation site and model grid point are 0.489km apart\n",
        "Observation site and model grid point are 0.515km apart\n",
        "Observation site and model grid point are 0.235km apart\n",
        "Observation site and model grid point are 0.471km apart\n",
        "Observation site and model grid point are 0.867km apart\n",
        "Observation site and model grid point are 0.735km apart\n",
        "Observation site and model grid point are 0.84km apart\n",
        "[ 0.52890845  0.26797828  0.48948393  0.51495432  0.23524049  0.47061221\n",
        "  0.86741187  0.73530958  0.83976085]\n",
        "Observation site and model grid point are 0.829km apart\n",
        "Observation site and model grid point are 0.634km apart\n",
        "Observation site and model grid point are 0.702km apart\n",
        "Observation site and model grid point are 0.561km apart\n",
        "Observation site and model grid point are 0.168km apart\n",
        "Observation site and model grid point are 0.342km apart\n",
        "Observation site and model grid point are 0.667km apart\n",
        "Observation site and model grid point are 0.395km apart\n",
        "Observation site and model grid point are 0.493km apart\n",
        "[ 0.82890552  0.63384975  0.70172285  0.56135049  0.16783474  0.34205213\n",
        "  0.66701292  0.39513372  0.49335149]\n",
        "Observation site and model grid point are 0.529km apart\n",
        "Observation site and model grid point are 0.366km apart\n",
        "Observation site and model grid point are 0.602km apart\n",
        "Observation site and model grid point are 0.411km apart\n",
        "Observation site and model grid point are 0.146km apart\n",
        "Observation site and model grid point are 0.499km apart\n",
        "Observation site and model grid point are 0.748km apart\n",
        "Observation site and model grid point are 0.64km apart\n",
        "Observation site and model grid point are 0.798km apart\n",
        "[ 0.52883474  0.36556041  0.60221297  0.41079453  0.1459663   0.49890823\n",
        "  0.74778229  0.64044093  0.79769106]\n",
        "Observation site and model grid point are 0.884km apart\n",
        "Observation site and model grid point are 0.534km apart\n",
        "Observation site and model grid point are 0.405km apart\n",
        "Observation site and model grid point are 0.798km apart\n",
        "Observation site and model grid point are 0.373km apart\n",
        "Observation site and model grid point are 0.127km apart\n",
        "Observation site and model grid point are 0.996km apart\n",
        "Observation site and model grid point are 0.702km apart\n",
        "Observation site and model grid point are 0.608km apart\n",
        "[ 0.88422969  0.53420243  0.40464568  0.79820335  0.37309933  0.12698383\n",
        "  0.99603913  0.70226646  0.60753691]\n",
        "Observation site and model grid point are 0.785km apart\n",
        "Observation site and model grid point are 0.495km apart\n",
        "Observation site and model grid point are 0.5km apart\n",
        "Observation site and model grid point are 0.648km apart\n",
        "Observation site and model grid point are 0.219km apart\n",
        "Observation site and model grid point are 0.226km apart\n",
        "Observation site and model grid point are 0.85km apart\n",
        "Observation site and model grid point are 0.592km apart\n",
        "Observation site and model grid point are 0.594km apart\n",
        "[ 0.78454713  0.49537359  0.49991635  0.64760995  0.2190229   0.22621987\n",
        "  0.85033951  0.59227208  0.59423781]\n",
        "Observation site and model grid point are 0.769km apart\n",
        "Observation site and model grid point are 0.663km apart\n",
        "Observation site and model grid point are 0.814km apart\n",
        "Observation site and model grid point are 0.425km apart\n",
        "Observation site and model grid point are 0.167km apart\n",
        "Observation site and model grid point are 0.499km apart\n",
        "Observation site and model grid point are 0.519km apart\n",
        "Observation site and model grid point are 0.34km apart\n",
        "Observation site and model grid point are 0.58km apart\n",
        "[ 0.76936727  0.66342945  0.81410195  0.42477169  0.16658984  0.49910636\n",
        "  0.5191607   0.34005305  0.57977405]\n",
        "Observation site and model grid point are 0.725km apart\n",
        "Observation site and model grid point are 0.572km apart\n",
        "Observation site and model grid point are 0.709km apart\n",
        "Observation site and model grid point are 0.453km apart\n",
        "Observation site and model grid point are 0.074km apart\n",
        "Observation site and model grid point are 0.424km apart\n",
        "Observation site and model grid point are 0.619km apart\n",
        "Observation site and model grid point are 0.428km apart\n",
        "Observation site and model grid point are 0.597km apart\n",
        "[ 0.72533845  0.57240831  0.70940171  0.45260732  0.07397775  0.42405931\n",
        "  0.61876733  0.42759514  0.59702571]\n",
        "Observation site and model grid point are 0.699km apart\n",
        "Observation site and model grid point are 0.504km apart\n",
        "Observation site and model grid point are 0.627km apart\n",
        "Observation site and model grid point are 0.488km apart\n",
        "Observation site and model grid point are 0.056km apart\n",
        "Observation site and model grid point are 0.376km apart\n",
        "Observation site and model grid point are 0.699km apart\n",
        "Observation site and model grid point are 0.502km apart\n",
        "Observation site and model grid point are 0.624km apart\n",
        "[ 0.69915358  0.50385587  0.62664641  0.48836805  0.05644882  0.37596639\n",
        "  0.69864668  0.50169676  0.62381343]\n",
        "Observation site and model grid point are 0.682km apart\n",
        "Observation site and model grid point are 0.439km apart\n",
        "Observation site and model grid point are 0.542km apart\n",
        "Observation site and model grid point are 0.536km apart\n",
        "Observation site and model grid point are 0.123km apart\n",
        "Observation site and model grid point are 0.34km apart\n",
        "Observation site and model grid point are 0.781km apart\n",
        "Observation site and model grid point are 0.58km apart\n",
        "Observation site and model grid point are 0.661km apart\n",
        "[ 0.6817425   0.43887016  0.54177635  0.53617329  0.12285902  0.33971894\n",
        "  0.78108062  0.58023994  0.66061911]\n",
        "Observation site and model grid point are 0.675km apart\n",
        "Observation site and model grid point are 0.376km apart\n",
        "Observation site and model grid point are 0.447km apart\n",
        "Observation site and model grid point are 0.601km apart\n",
        "Observation site and model grid point are 0.214km apart\n",
        "Observation site and model grid point are 0.322km apart\n",
        "Observation site and model grid point are 0.874km apart\n",
        "Observation site and model grid point are 0.67km apart\n",
        "Observation site and model grid point are 0.712km apart\n",
        "[ 0.67544267  0.37603515  0.44690134  0.60069331  0.21433825  0.32235022\n",
        "  0.87430712  0.67042877  0.71170076]\n",
        "Observation site and model grid point are 0.771km apart\n",
        "Observation site and model grid point are 0.773km apart\n",
        "Observation site and model grid point are 0.987km apart\n",
        "Observation site and model grid point are 0.322km apart\n",
        "Observation site and model grid point are 0.327km apart\n",
        "Observation site and model grid point are 0.695km apart\n",
        "Observation site and model grid point are 0.333km apart\n",
        "Observation site and model grid point are 0.339km apart\n",
        "Observation site and model grid point are 0.7km apart\n",
        "[ 0.77052586  0.77337712  0.98697301  0.32155135  0.32701389  0.69496745\n",
        "  0.33319812  0.33868776  0.70025293]\n",
        "Observation site and model grid point are 0.672km apart"
       ]
      },
      {
       "output_type": "stream",
       "stream": "stdout",
       "text": [
        "\n",
        "Observation site and model grid point are 0.438km apart\n",
        "Observation site and model grid point are 0.552km apart\n",
        "Observation site and model grid point are 0.522km apart\n",
        "Observation site and model grid point are 0.11km apart\n",
        "Observation site and model grid point are 0.353km apart\n",
        "Observation site and model grid point are 0.768km apart\n",
        "Observation site and model grid point are 0.575km apart\n",
        "Observation site and model grid point are 0.666km apart\n",
        "[ 0.67213589  0.43799548  0.5516328   0.52155655  0.11018022  0.35251313\n",
        "  0.76845923  0.57490016  0.6655008 ]\n",
        "Observation site and model grid point are 0.841km apart\n",
        "Observation site and model grid point are 0.809km apart\n",
        "Observation site and model grid point are 0.987km apart\n",
        "Observation site and model grid point are 0.404km apart\n",
        "Observation site and model grid point are 0.334km apart\n",
        "Observation site and model grid point are 0.656km apart\n",
        "Observation site and model grid point are 0.342km apart\n",
        "Observation site and model grid point are 0.256km apart\n",
        "Observation site and model grid point are 0.621km apart\n",
        "[ 0.84105363  0.80927948  0.98731384  0.40395638  0.33355619  0.65646395\n",
        "  0.34247916  0.2561782   0.62086417]\n",
        "[[ 21.30342862]\n",
        " [ 21.30995575]\n",
        " [ 21.31641467]\n",
        " [ 17.82820589]\n",
        " [ 11.61283696]\n",
        " [ 16.29132496]\n",
        " [ 17.48242774]\n",
        " [ 18.96535838]\n",
        " [ 21.74607829]\n",
        " [ 22.52084607]\n",
        " [ 22.69576798]\n",
        " [ 22.93568874]\n",
        " [ 23.51447176]\n",
        " [ 24.12226662]\n",
        " [ 24.49853079]]\n"
       ]
      }
     ],
     "prompt_number": 47
    },
    {
     "cell_type": "markdown",
     "metadata": {},
     "source": [
      "The next three cells are what I tried to get interpolation salinity manually and also the test programs for the \"find_dist\" function"
     ]
    },
    {
     "cell_type": "code",
     "collapsed": false,
     "input": [
      "[x1, j1] = find_closest_model_point(lon1[0],regr.predict(lon1[0]),X,Y,bathy)\n",
      "print(x1,j1)\n",
      "\n",
      "print(longitude[395,304],latitude[395,304])\n",
      "print(longitude[394,304],latitude[394,304])\n",
      "#find out total 9 points around the first observation points, they are \n",
      "#[394,303],[394,304],[394,305],[393,304],[395,304],[395,303],[395,305],[392,303],[393,305]"
     ],
     "language": "python",
     "metadata": {},
     "outputs": [
      {
       "output_type": "stream",
       "stream": "stdout",
       "text": [
        "395 304\n",
        "-123.134 48.9987\n",
        "-123.131 48.9948\n"
       ]
      }
     ],
     "prompt_number": 37
    },
    {
     "cell_type": "code",
     "collapsed": false,
     "input": [
      "k=0\n",
      "dist=np.arange(9).astype(float)\n",
      "for i in np.arange(394,397):\n",
      "    for j in np.arange(303,306):\n",
      "       dist[k]=haversine(lon1[0],regr.predict(lon1[0]),longitude[i,j],latitude[i,j])\n",
      "       k+=1\n",
      "print(dist)"
     ],
     "language": "python",
     "metadata": {},
     "outputs": [
      {
       "output_type": "stream",
       "stream": "stdout",
       "text": [
        "Observation site and model grid point are 0.528km apart\n",
        "Observation site and model grid point are 0.292km apart\n",
        "Observation site and model grid point are 0.517km apart\n",
        "Observation site and model grid point are 0.489km apart\n",
        "Observation site and model grid point are 0.209km apart\n",
        "Observation site and model grid point are 0.473km apart\n",
        "Observation site and model grid point are 0.838km apart\n",
        "Observation site and model grid point are 0.71km apart\n",
        "Observation site and model grid point are 0.826km apart\n",
        "[ 0.52823104  0.29209725  0.51700659  0.48920634  0.20906197  0.47332537\n",
        "  0.83750283  0.70986698  0.82620872]\n"
       ]
      }
     ],
     "prompt_number": 38
    },
    {
     "cell_type": "code",
     "collapsed": false,
     "input": [
      "weights=1.0/dist\n",
      "print(weights)\n",
      "values=0\n",
      "k=0\n",
      "for i in np.arange(394,397):\n",
      "    for j in np.arange(303,306):\n",
      "          value=saline_nemo_3rd[i,j]*weights[k]\n",
      "          values=values+value\n",
      "          k+=1\n",
      "values=values/weights.sum(axis=0)\n",
      "print(values)"
     ],
     "language": "python",
     "metadata": {},
     "outputs": [
      {
       "output_type": "stream",
       "stream": "stdout",
       "text": [
        "[ 1.89311101  3.42351737  1.93421132  2.04412722  4.78327071  2.11271159\n",
        "  1.19402581  1.40871463  1.21034792]\n",
        "18.150046049\n"
       ]
      }
     ],
     "prompt_number": 39
    },
    {
     "cell_type": "markdown",
     "metadata": {},
     "source": [
      "Make the plot of comparisons between observation salinity and 3rd hour,4th hour and 5th hour model results "
     ]
    },
    {
     "cell_type": "code",
     "collapsed": false,
     "input": [
      "fig, ax = plt.subplots(1, 1, figsize=(8, 8))\n",
      "model_salinity_3rd_hour=plt.plot(lon1,value_mean_3rd_hour,'r',label='$model salinity 3rd hour$' )\n",
      "model_salinity_4rd_hour=plt.plot(lon1,value_mean_4rd_hour,'k',label='$model salinity 4th hour$' )\n",
      "model_salinity_5rd_hour=plt.plot(lon1,value_mean_5rd_hour,'g',label='$model salinity 5th hour$' )\n",
      "observation_salinity=plt.plot(lon1,salinity1,'b',label='$observation salinity$')\n",
      "\n",
      "ax.set_xlabel('Longitude[degrees east]')\n",
      "ax.set_ylabel('Salinity[psu]')\n",
      "ax.legend()"
     ],
     "language": "python",
     "metadata": {},
     "outputs": [
      {
       "metadata": {},
       "output_type": "pyout",
       "prompt_number": 40,
       "text": [
        "<matplotlib.legend.Legend at 0x7f42efce0190>"
       ]
      },
      {
       "metadata": {},
       "output_type": "display_data",
       "png": "[encoded data removed]",
       "text": [
        "<matplotlib.figure.Figure at 0x7f432140b850>"
       ]
      }
     ],
     "prompt_number": 40
    },
    {
     "cell_type": "code",
     "collapsed": false,
     "input": [
      "fig.savefig('surface_salinity_comparison.png')"
     ],
     "language": "python",
     "metadata": {},
     "outputs": []
    },
    {
     "cell_type": "code",
     "collapsed": false,
     "input": [
      "fig, ax = plt.subplots(1, 1, figsize=(8, 8))\n",
      "model_salinity_3rd_hour=plt.plot(lon1,value_mean_3rd_hour,'r',label='$avedepthmodel salinity 3rd hour$' )\n",
      "model_salinity_4rd_hour=plt.plot(lon1,value_mean_4rd_hour,'k',label='$avedepthmodel salinity 4th hour$' )\n",
      "model_salinity_5rd_hour=plt.plot(lon1,value_mean_5rd_hour,'g',label='$avedepthmodel salinity 5th hour$' )\n",
      "observation_salinity=plt.plot(lon1,salinity1,'b',label='$observation salinity$')\n",
      "ax.set_xlabel('Longitude[degrees east]')\n",
      "ax.set_ylabel('Salinity[psu]')\n",
      "ax.legend()"
     ],
     "language": "python",
     "metadata": {},
     "outputs": [
      {
       "metadata": {},
       "output_type": "pyout",
       "prompt_number": 48,
       "text": [
        "<matplotlib.legend.Legend at 0x7f42efb69810>"
       ]
      },
      {
       "metadata": {},
       "output_type": "display_data",
       "png": "[encoded data removed]",
       "text": [
        "<matplotlib.figure.Figure at 0x7f42efd8dfd0>"
       ]
      }
     ],
     "prompt_number": 48
    },
    {
     "cell_type": "code",
     "collapsed": false,
     "input": [
      "fig.savefig('avedepth_salinity_comparison.png')"
     ],
     "language": "python",
     "metadata": {},
     "outputs": []
    }
   ],
   "metadata": {}
  }
 ]
}