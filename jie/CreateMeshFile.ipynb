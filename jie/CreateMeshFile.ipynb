{
 "cells": [
  {
   "cell_type": "code",
   "execution_count": 1,
   "metadata": {
    "collapsed": true
   },
   "outputs": [],
   "source": [
    "from matplotlib import pylab\n",
    "import matplotlib.pyplot as plt\n",
    "import netCDF4 as nc\n",
    "import numpy as np\n",
    "from mpl_toolkits.mplot3d import Axes3D\n",
    "from salishsea_tools import tidetools\n",
    "from salishsea_tools import (nc_tools,viz_tools)\n",
    "import matplotlib.cm as cm\n",
    "from matplotlib import animation\n",
    "from numpy import *\n",
    "from pylab import *\n",
    "%matplotlib inline"
   ]
  },
  {
   "cell_type": "code",
   "execution_count": 2,
   "metadata": {
    "collapsed": false
   },
   "outputs": [
    {
     "name": "stdout",
     "output_type": "stream",
     "text": [
      "[u'e1f', u'e1t', u'e1u', u'e1v', u'e2f', u'e2t', u'e2u', u'e2v', u'e3t', u'e3t_0', u'e3u', u'e3v', u'e3w', u'e3w_0', u'ff', u'fmask', u'fmaskutil', u'gdept', u'gdept_0', u'gdepu', u'gdepv', u'gdepw', u'gdepw_0', u'glamf', u'glamt', u'glamu', u'glamv', u'gphif', u'gphit', u'gphiu', u'gphiv', u'mbathy', u'nav_lat', u'nav_lev', u'nav_lon', u'time_counter', u'tmask', u'tmaskutil', u'umask', u'umaskutil', u'vmask', u'vmaskutil']\n"
     ]
    }
   ],
   "source": [
    "mesh =nc.Dataset('/data/jieliu/MEOPAR/SalishSea/results/2hr_mesh_deepen/mesh_mask.nc')\n",
    "nc_tools.show_variables(mesh)"
   ]
  },
  {
   "cell_type": "code",
   "execution_count": 3,
   "metadata": {
    "collapsed": false
   },
   "outputs": [],
   "source": [
    "## extract the variables that Ariane wants\n",
    "gglamt = mesh.variables['glamt'][0]\n",
    "gglamu = mesh.variables['glamu'][0]\n",
    "ggphit = mesh.variables['gphit'][0]\n",
    "ggphiv = mesh.variables['gphiv'][0]\n",
    "ggdepw = mesh.variables['gdepw'][0]\n",
    "\n",
    "ee2u = mesh.variables['e2u'][0]\n",
    "ee1v = mesh.variables['e1v'][0]\n",
    "ee1t = mesh.variables['e1t'][0]\n",
    "ee2t = mesh.variables['e2t'][0]\n",
    "ee3t = mesh.variables['e3t'][0]\n",
    "ttmask = mesh.variables['tmask'][0]"
   ]
  },
  {
   "cell_type": "code",
   "execution_count": 4,
   "metadata": {
    "collapsed": true
   },
   "outputs": [],
   "source": [
    "## create new shape of these variables or use np.empty_like()\n",
    "glamt_new = np.zeros([ 170, 138])\n",
    "glamu_new = np.zeros([ 170, 138])\n",
    "gphit_new = np.zeros([ 170, 138])\n",
    "gphiv_new = np.zeros([ 170, 138])\n",
    "gdepw_new = np.zeros([40, 170, 138])\n",
    "\n",
    "e2u_new = np.zeros([ 170, 138])\n",
    "e1v_new = np.zeros([ 170, 138])\n",
    "e1t_new = np.zeros([ 170, 138])\n",
    "e2t_new = np.zeros([ 170, 138])\n",
    "e3t_new = np.zeros([ 40, 170, 138])\n",
    "tmask_new = np.zeros([ 40, 170, 138])"
   ]
  },
  {
   "cell_type": "code",
   "execution_count": 5,
   "metadata": {
    "collapsed": false
   },
   "outputs": [],
   "source": [
    "## assign values of corresponding indices\n",
    "for j in np.arange(170) :\n",
    "    for i in np.arange(138) :\n",
    "        glamt_new[ j, i] = gglamt[  349 + j, 259 + i]\n",
    "        glamu_new[ j, i] = gglamu[ 349 + j, 259 + i]\n",
    "        gphit_new[ j, i] = ggphit[ 349 + j, 259 + i]\n",
    "        gphiv_new[ j, i] = ggphiv[ 349 + j, 259 + i]\n",
    "        gdepw_new[ :, j, i] = ggdepw[:, 349 + j, 259 + i]\n",
    "        e2u_new[ j, i] = ee2u[ 349 + j, 259 + i]\n",
    "        e1v_new[ j, i] = ee1v[ 349 + j, 259 + i]\n",
    "        e1t_new[ j, i] = ee1t[ 349 + j, 259 + i]\n",
    "        e2t_new[ j, i] = ee2t[ 349 + j, 259 + i]\n",
    "        e3t_new[ :, j, i] = ee3t[ :, 349 + j, 259 + i]\n",
    "        tmask_new[:, j, i] = ttmask[:,349 + j, 259 + i] ##ttmask shape four dimensions"
   ]
  },
  {
   "cell_type": "code",
   "execution_count": 6,
   "metadata": {
    "collapsed": false
   },
   "outputs": [
    {
     "data": {
      "text/plain": [
       "(40, 170, 138)"
      ]
     },
     "execution_count": 6,
     "metadata": {},
     "output_type": "execute_result"
    }
   ],
   "source": [
    "tmask_new.shape"
   ]
  },
  {
   "cell_type": "code",
   "execution_count": 12,
   "metadata": {
    "collapsed": false
   },
   "outputs": [
    {
     "name": "stdout",
     "output_type": "stream",
     "text": [
      "<type 'netCDF4.Dimension'>: name = 'y', size = 170\n",
      "\n",
      "<type 'netCDF4.Dimension'>: name = 'x', size = 138\n",
      "\n",
      "<type 'netCDF4.Dimension'>: name = 'depth', size = 40\n",
      "\n",
      "<type 'netCDF4.Dimension'> (unlimited): name = 'time_counter', size = 0\n",
      "\n"
     ]
    }
   ],
   "source": [
    "# build mesh_new nc file\n",
    "mesh_new = nc.Dataset('mesh_mask_new.nc', 'w')\n",
    "#nc_tools.init_dataset_attrs(\n",
    "    #grid_V, \n",
    "    #title='Salinity Temperature Initial Conditions based on Nowcast June 14, 2015 for extended Fraser river channel', \n",
    "    #notebook_name='Explore1h_plumeFileStructure', \n",
    "    #nc_filepath='/data/jieliu/MEOPAR/river-treatment/14nor_NW/1h_plume_06160629_grid_T.nc')\n",
    "    #comment='Combined grid_T file with extended Fraser bathymetry from June 16, to 29')\n",
    "mesh_new.createDimension('y', 170)\n",
    "mesh_new.createDimension('x', 138)\n",
    "mesh_new.createDimension('depth',size = 40)\n",
    "mesh_new.createDimension('time_counter', None)\n",
    "#grid_V.createDimension('tbnds', size = 2)\n",
    "nc_tools.show_dimensions(mesh_new)\n",
    "# show variables\n",
    "#nav_lat = grid_V.createVariable('nav_lat', 'float32', ('y','x'))\n",
    "#nav_lat.long_name = 'Latitude'\n",
    "#nav_lat.units = 'degrees_north'\n",
    "#nav_lat[:] = latv\n",
    "#nav_lon = grid_V.createVariable('nav_lon', 'float32', ('y','x'))\n",
    "#nav_lon.long_name = 'Longitude'\n",
    "#nav_lon.units = 'degrees_east'\n",
    "#nav_lon[:] = lonv\n",
    "#depths = mesh_new.createVariable('depthv', 'float32', ('depthv'), zlib=True)\n",
    "#depths = foo.createVariable('Bathymetry', float, ('y', 'x'), zlib=True, least_significant_digit=1, fill_value=0)\n",
    "\n",
    "#depthv.long_name = 'Depth'\n",
    "#depthv.coordinates = 'depthV'\n",
    "#depthv.units = 'm'\n",
    "#depthv.positive = 'down'\n",
    "#depthv.valid_range = np.array((4., 428.))##minimum depth 4m\n",
    "#depthv[:] = depths\n",
    "\n",
    "glamt = mesh_new.createVariable('glamt', 'float32', \n",
    "                               ('time_counter','y','x'))  \n",
    "glamt.coordinates = 'time_counter nav_lon nav_lat'\n",
    "glamt.grid = 'SalishSea6, extended and deepen Fraser'\n",
    "glamt[0] = glamt_new\n",
    "\n",
    "\n",
    "glamu = mesh_new.createVariable('glamu', 'float32', \n",
    "                               ('time_counter','y','x'))  \n",
    "glamt.coordinates = 'time_counter nav_lon nav_lat'\n",
    "glamt.grid = 'SalishSea6, extended and deepen Fraser'\n",
    "glamu[0] = glamu_new\n",
    "\n",
    "gphit = mesh_new.createVariable('gphit', 'float32', \n",
    "                               ('time_counter','y','x'))  \n",
    "gphit.coordinates = 'time_counter nav_lon nav_lat'\n",
    "gphit.grid = 'SalishSea6, extended and deepen Fraser'\n",
    "gphit[0] = gphit_new\n",
    "\n",
    "gphiv = mesh_new.createVariable('gphiv', 'float32', \n",
    "                               ('time_counter','y','x'))  \n",
    "gphiv.coordinates = 'time_counter nav_lon nav_lat'\n",
    "gphiv.grid = 'SalishSea6, extended and deepen Fraser'\n",
    "gphiv[0] = gphiv_new\n",
    "\n",
    "gdepw = mesh_new.createVariable('gdepw', 'float32', \n",
    "                               ('time_counter','depth','y','x'))  \n",
    "gdepw.coordinates = 'time_counter depth nav_lon nav_lat'\n",
    "gdepw.grid = 'SalishSea6, extended and deepen Fraser'\n",
    "gdepw[0] = gdepw_new\n",
    "\n",
    "e2u = mesh_new.createVariable('e2u', 'float32', \n",
    "                               ('time_counter','y','x'))  \n",
    "e2u.coordinates = 'time_counter nav_lon nav_lat'\n",
    "e2u.grid = 'SalishSea6, extended and deepen Fraser'\n",
    "e2u[0] = e2u_new\n",
    "\n",
    "\n",
    "e1v = mesh_new.createVariable('e1v', 'float32', \n",
    "                               ('time_counter','y','x'))  \n",
    "e1v.coordinates = 'time_counter nav_lon nav_lat'\n",
    "e1v.grid = 'SalishSea6, extended and deepen Fraser'\n",
    "e1v[0] = e1v_new\n",
    "\n",
    "\n",
    "e1t = mesh_new.createVariable('e1t', 'float32', \n",
    "                               ('time_counter','y','x'))  \n",
    "e1t.coordinates = 'time_counter nav_lon nav_lat'\n",
    "e1t.grid = 'SalishSea6, extended and deepen Fraser'\n",
    "e1t[0] = e1t_new\n",
    "\n",
    "e2t = mesh_new.createVariable('e2t', 'float32', \n",
    "                               ('time_counter','y','x'))  \n",
    "e2t.coordinates = 'time_counter nav_lon nav_lat'\n",
    "e2t.grid = 'SalishSea6, extended and deepen Fraser'\n",
    "e2t[0] = e2t_new\n",
    "\n",
    "\n",
    "e3t = mesh_new.createVariable('e3t', 'float32', \n",
    "                               ('time_counter','depth','y','x'))  \n",
    "e3t.coordinates = 'time_counter depth nav_lon nav_lat'\n",
    "e3t.grid = 'SalishSea6, extended and deepen Fraser'\n",
    "e3t[0] = e3t_new\n",
    "\n",
    "\n",
    "tmask = mesh_new.createVariable('tmask', 'float32', \n",
    "                               ('time_counter','depth','y','x'))  \n",
    "tmask.coordinates = 'time_counter depth nav_lon nav_lat'\n",
    "tmask.grid = 'SalishSea6, extended and deepen Fraser'\n",
    "tmask[0] = tmask_new\n",
    "\n",
    "\n",
    "mesh_new.history = \"\"\"[2015-06-16] Created\"\"\""
   ]
  },
  {
   "cell_type": "code",
   "execution_count": 13,
   "metadata": {
    "collapsed": false
   },
   "outputs": [],
   "source": [
    "mesh_new.close()"
   ]
  },
  {
   "cell_type": "code",
   "execution_count": 14,
   "metadata": {
    "collapsed": true
   },
   "outputs": [],
   "source": [
    "ab = nc.Dataset('mesh_mask_new.nc')"
   ]
  },
  {
   "cell_type": "code",
   "execution_count": 15,
   "metadata": {
    "collapsed": false
   },
   "outputs": [
    {
     "name": "stdout",
     "output_type": "stream",
     "text": [
      "[u'glamt', u'glamu', u'gphit', u'gphiv', u'gdepw', u'e2u', u'e1v', u'e1t', u'e2t', u'e3t', u'tmask']\n"
     ]
    }
   ],
   "source": [
    "nc_tools.show_variables(ab)"
   ]
  },
  {
   "cell_type": "code",
   "execution_count": 16,
   "metadata": {
    "collapsed": false
   },
   "outputs": [
    {
     "data": {
      "text/plain": [
       "(1, 170, 138)"
      ]
     },
     "execution_count": 16,
     "metadata": {},
     "output_type": "execute_result"
    }
   ],
   "source": [
    "abb = ab.variables['e2t']\n",
    "abb.shape"
   ]
  },
  {
   "cell_type": "code",
   "execution_count": null,
   "metadata": {
    "collapsed": true
   },
   "outputs": [],
   "source": []
  }
 ],
 "metadata": {
  "kernelspec": {
   "display_name": "Python 2",
   "language": "python",
   "name": "python2"
  },
  "language_info": {
   "codemirror_mode": {
    "name": "ipython",
    "version": 2
   },
   "file_extension": ".py",
   "mimetype": "text/x-python",
   "name": "python",
   "nbconvert_exporter": "python",
   "pygments_lexer": "ipython2",
   "version": "2.7.10"
  }
 },
 "nbformat": 4,
 "nbformat_minor": 0
}
