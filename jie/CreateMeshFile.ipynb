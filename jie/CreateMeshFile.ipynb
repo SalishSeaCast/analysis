{
 "cells": [
  {
   "cell_type": "code",
   "execution_count": 1,
   "metadata": {
    "collapsed": true
   },
   "outputs": [],
   "source": [
    "from matplotlib import pylab\n",
    "import matplotlib.pyplot as plt\n",
    "import netCDF4 as nc\n",
    "import numpy as np\n",
    "from mpl_toolkits.mplot3d import Axes3D\n",
    "from salishsea_tools import tidetools\n",
    "from salishsea_tools import (nc_tools,viz_tools)\n",
    "import matplotlib.cm as cm\n",
    "from matplotlib import animation\n",
    "from numpy import *\n",
    "from pylab import *\n",
    "%matplotlib inline"
   ]
  },
  {
   "cell_type": "code",
   "execution_count": 2,
   "metadata": {
    "collapsed": false
   },
   "outputs": [
    {
     "name": "stdout",
     "output_type": "stream",
     "text": [
      "[u'e1f', u'e1t', u'e1u', u'e1v', u'e2f', u'e2t', u'e2u', u'e2v', u'e3t', u'e3t_0', u'e3u', u'e3v', u'e3w', u'e3w_0', u'ff', u'fmask', u'fmaskutil', u'gdept', u'gdept_0', u'gdepu', u'gdepv', u'gdepw', u'gdepw_0', u'glamf', u'glamt', u'glamu', u'glamv', u'gphif', u'gphit', u'gphiu', u'gphiv', u'mbathy', u'nav_lat', u'nav_lev', u'nav_lon', u'time_counter', u'tmask', u'tmaskutil', u'umask', u'umaskutil', u'vmask', u'vmaskutil']\n"
     ]
    }
   ],
   "source": [
    "mesh =nc.Dataset('/data/jieliu/MEOPAR/SalishSea/results/2hr_mesh_deepen/mesh_mask.nc')\n",
    "nc_tools.show_variables(mesh)"
   ]
  },
  {
   "cell_type": "code",
   "execution_count": 3,
   "metadata": {
    "collapsed": false
   },
   "outputs": [],
   "source": [
    "## extract the variables that Ariane wants\n",
    "gglamt = mesh.variables['glamt']\n",
    "gglamu = mesh.variables['glamu']\n",
    "ggphit = mesh.variables['gphit']\n",
    "ggphiv = mesh.variables['gphiv']\n",
    "ggdepw = mesh.variables['gdepw']\n",
    "\n",
    "ee2u = mesh.variables['e2u']\n",
    "ee1v = mesh.variables['e1v']\n",
    "ee1t = mesh.variables['e1t']\n",
    "ee2t = mesh.variables['e2t']\n",
    "ee3t = mesh.variables['e3t']\n",
    "ttmask = mesh.variables['tmask']"
   ]
  },
  {
   "cell_type": "code",
   "execution_count": 12,
   "metadata": {
    "collapsed": true
   },
   "outputs": [],
   "source": [
    "## create new shape of these variables \n",
    "glamt = np.zeros([1, 170, 138])\n",
    "glamu = np.zeros([1, 170, 138])\n",
    "gphit = np.zeros([1, 170, 138])\n",
    "gphiv = np.zeros([1, 170, 138])\n",
    "gdepw = np.zeros([1, 40, 170, 138])\n",
    "\n",
    "e2u = np.zeros([1, 170, 138])\n",
    "e1v = np.zeros([1, 170, 138])\n",
    "e1t = np.zeros([1, 170, 138])\n",
    "e2t = np.zeros([1, 170, 138])\n",
    "e3t = np.zeros([1, 40, 170, 138])\n",
    "tmask = np.zeros([1, 40, 170, 138])"
   ]
  },
  {
   "cell_type": "code",
   "execution_count": 8,
   "metadata": {
    "collapsed": false
   },
   "outputs": [],
   "source": [
    "## assign values of corresponding indices\n",
    "for j in np.arange(170) :\n",
    "    for i in np.arange(138) :\n",
    "        glamt[:, j, i] = gglamt[:,  349 + j, 259 + i]\n",
    "        glamu[:, j, i] = gglamu[:, 349 + j, 259 + i]\n",
    "        gphit[:, j, i] = ggphit[:, 349 + j, 259 + i]\n",
    "        gphiv[:, j, i] = ggphiv[:, 349 + j, 259 + i]\n",
    "        gdepw[:, :, j, i] = ggdepw[:, :, 349 + j, 259 + i]\n",
    "        e2u[:, j, i] = ee2u[:, 349 + j, 259 + i]\n",
    "        e1v[:, j, i] = ee1v[:, 349 + j, 259 + i]\n",
    "        e1t[:, j, i] = ee1t[:, 349 + j, 259 + i]\n",
    "        e2t[:, j, i] = ee2t[:, 349 + j, 259 + i]\n",
    "        e3t[:, :, j, i] = ee3t[:, :, 349 + j, 259 + i]\n",
    "        #tmask[:, j, i] = ttmask[:,349 + j, 259 + i] ##ttmask shape four dimensions"
   ]
  },
  {
   "cell_type": "code",
   "execution_count": 13,
   "metadata": {
    "collapsed": false
   },
   "outputs": [],
   "source": [
    "for j in np.arange(170) :\n",
    "    for i in np.arange(138) :\n",
    "        tmask[0,:, j, i] = ttmask[0, :,349 + j, 259 + i]"
   ]
  },
  {
   "cell_type": "code",
   "execution_count": null,
   "metadata": {
    "collapsed": true
   },
   "outputs": [],
   "source": []
  }
 ],
 "metadata": {
  "kernelspec": {
   "display_name": "Python 2",
   "language": "python",
   "name": "python2"
  }
 },
 "nbformat": 4,
 "nbformat_minor": 0
}
