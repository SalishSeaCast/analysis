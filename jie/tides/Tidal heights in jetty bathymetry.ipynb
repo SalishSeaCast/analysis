{
 "cells": [
  {
   "cell_type": "markdown",
   "metadata": {},
   "source": [
    "* This notebook was made to look at tidal heights at Steveston, Deas Island channel, New Westminster and Mission in the jetty bathymetry case."
   ]
  },
  {
   "cell_type": "code",
   "execution_count": 1,
   "metadata": {
    "collapsed": true
   },
   "outputs": [],
   "source": [
    "from __future__ import division\n",
    "from salishsea_tools import (\n",
    "    nc_tools,\n",
    "    viz_tools,\n",
    "    stormtools,\n",
    "    tidetools,\n",
    ")\n",
    "from salishsea_tools.nowcast import figures\n",
    "import glob\n",
    "import os\n",
    "import matplotlib.pyplot as plt\n",
    "import netCDF4 as nc\n",
    "import numpy as np\n",
    "import datetime\n",
    "%matplotlib inline"
   ]
  },
  {
   "cell_type": "code",
   "execution_count": 2,
   "metadata": {
    "collapsed": false
   },
   "outputs": [],
   "source": [
    "sites = {\n",
    "    'Sandheads': {\n",
    "        'lat': 49.10,\n",
    "        'lon': -123.30,\n",
    "        'i' : 77, #426 start from 349 fortran start from 350\n",
    "        'j' : 34, #293 start from 259 fortran start from 260\n",
    "   \n",
    "    },\n",
    "    'Steveston Jetty':{\n",
    "        'lat': 49.1057,\n",
    "        'lon': -123.3032,\n",
    "        'i' :  79,#428\n",
    "        'j' :  33,#292\n",
    "    },\n",
    "    'Deas Island':{\n",
    "        'lat' : 48.12,\n",
    "        'lon' : -123.07,\n",
    "        'i' : 65,#414,\n",
    "        'j' : 69,#328\n",
    "    },    \n",
    "    'New Westminster': {\n",
    "        'lat': 49.21,\n",
    "        'lon': -122.89,\n",
    "        'i': 69,#418,\n",
    "        'j': 106,#365\n",
    "        },\n",
    "\n",
    "    'Mission': {\n",
    "        'lat': 48.59,\n",
    "        'lon': -123.2,\n",
    "        'i':  151,#500,\n",
    "        'j':108,#367\n",
    "    },\n",
    "    'Edge of domain':{\n",
    "        'lat': 49.580574,\n",
    "        'lon': -123.01498,\n",
    "        'i': 151, ##500\n",
    "        'j': 136, ##395\n",
    "    },\n",
    "    'nowcasts edge of domain':{\n",
    "        'lat': 49.130043,\n",
    "        'lon': -123.04199,\n",
    "        'i': 65, ## 414\n",
    "        'j': 75, ## 334\n",
    "    },\n",
    "\n",
    "        }\n",
    "## location of Steveston from EC is:\n",
    "#-123.185, 49.1242, so 13km away from\n",
    "#our location for that in the model "
   ]
  },
  {
   "cell_type": "code",
   "execution_count": 3,
   "metadata": {
    "collapsed": true
   },
   "outputs": [],
   "source": [
    "SITES = {\n",
    "    'Point Atkinson': {\n",
    "        'lat': 49.33,\n",
    "        'lon': -123.25,\n",
    "        'msl': 3.09,\n",
    "        'stn_no': 7795,\n",
    "        'extreme_ssh': 5.61},\n",
    "    'Victoria': {\n",
    "        'lat': 48.41,\n",
    "        'lon': -123.36,\n",
    "        'msl': 1.8810,\n",
    "        'stn_no': 7120,\n",
    "        'extreme_ssh': 3.76},\n",
    "    'Campbell River': {\n",
    "        'lat': 50.04,\n",
    "        'lon': -125.24,\n",
    "        'msl': 2.916,\n",
    "        'stn_no': 8074,\n",
    "        'extreme_ssh': 5.35},\n",
    "    'Neah Bay': {\n",
    "        'lat': 48.4,\n",
    "        'lon': -124.6,\n",
    "        'stn_no':  9443090},\n",
    "    'Friday Harbor': {\n",
    "        'lat': 48.55,\n",
    "        'lon': -123.016667,\n",
    "        'stn_no': 9449880},\n",
    "    'Cherry Point': {\n",
    "        'lat': 48.866667,\n",
    "        'lon': -122.766667,\n",
    "        'stn_no': 9449424},\n",
    "    'Sandheads': {\n",
    "        'lat': 49.10,\n",
    "        'lon': -123.30},\n",
    "    'Tofino': {\n",
    "        'stn_no': 8615},\n",
    "    }"
   ]
  },
  {
   "cell_type": "code",
   "execution_count": 4,
   "metadata": {
    "collapsed": false
   },
   "outputs": [],
   "source": [
    "grid_TT = nc.Dataset('/data/jieliu/MEOPAR/river-treatment/15days_jetty/1hplumejetty06150629gridT.nc')"
   ]
  },
  {
   "cell_type": "code",
   "execution_count": 5,
   "metadata": {
    "collapsed": true
   },
   "outputs": [],
   "source": [
    "t_orig, t_end, t_nemo = figures.get_model_time_variables(grid_TT)"
   ]
  },
  {
   "cell_type": "code",
   "execution_count": 6,
   "metadata": {
    "collapsed": true
   },
   "outputs": [],
   "source": [
    "def zoomin_period_tide(grid_T, stn_name, PST , MSL = 0):\n",
    "    \"Find out tide heights and time in PST or UTC \\\n",
    "     given a time series at stations we got our tidal predictions\"\n",
    "    time_shift = datetime.timedelta(hours=-7)# 7hrs in summer, 8hrs \n",
    "    #in winter\n",
    "    t_orig, t_end, t_nemo = figures.get_model_time_variables(grid_T)\n",
    "    ttide = figures.get_tides(stn_name)\n",
    "    time = ttide.time + PST * time_shift\n",
    "    ssh = ttide.pred_all + SITES[stn_name]['msl'] * MSL\n",
    "    ssh_zoom = []\n",
    "    time_zoom = []\n",
    "    for i in np.arange(len(ttide)):\n",
    "        if (time[i].year == t_orig.year) & (time[i].month == t_orig.month)\\\n",
    "        & (time[i].day >= t_orig.day) & (time[i].day <= t_end.day):\n",
    "            ssh_zoom.append(ssh[i])\n",
    "            time_zoom.append(time[i])\n",
    "    return ssh_zoom, time_zoom, t_orig, t_end"
   ]
  },
  {
   "cell_type": "code",
   "execution_count": 7,
   "metadata": {
    "collapsed": true
   },
   "outputs": [],
   "source": [
    "def find_highlow_tide(grid_T, ssh_zoom, time_zoom, t_end, t_orig, PST ):\n",
    "    \"Determine high and low tide heights in PST or UTC at\\\n",
    "    a given day at stations we got our tidal predictions, unit of \\\n",
    "    return ssh_max, ssh_min is feet rather than meter\"\n",
    "    ssh_max = []\n",
    "    ssh_min = []\n",
    "    time_max = []\n",
    "    time_min = []\n",
    "    j = 0\n",
    "    for i in np.arange(t_end.day - t_orig.day +1):\n",
    "        ssh_max.append(max(ssh_zoom[j:j+24])/0.3048)\n",
    "        ssh_min.append(min(ssh_zoom[j:j+24])/0.3048)\n",
    "        time_max.append(time_zoom[ssh_zoom.index(max(ssh_zoom[j:j+24]))])  \n",
    "        time_min.append(time_zoom[ssh_zoom.index(min(ssh_zoom[j:j+24]))]) \n",
    "        j = j +24\n",
    "    return ssh_max, ssh_min, time_max, time_min"
   ]
  },
  {
   "cell_type": "code",
   "execution_count": 8,
   "metadata": {
    "collapsed": true
   },
   "outputs": [],
   "source": [
    "def print_out_diff_PA(ssh_max, ssh_min, meter):\n",
    "    \"\"\"This function was made to print out\n",
    "        tidal range in meters/feet\n",
    "        at Point Atkinson to determine\n",
    "        which is spring/neap tide in the strait\"\"\"\n",
    "    diff = []\n",
    "    if meter ==0:\n",
    "        for i, j in zip(ssh_max,ssh_min):\n",
    "            dd =i-j\n",
    "            diff.append(dd)\n",
    "    elif meter ==1:\n",
    "        for i, j in zip(ssh_max,ssh_min):\n",
    "            dd =(i-j)* 0.3048\n",
    "            diff.append(dd)\n",
    "    return diff"
   ]
  },
  {
   "cell_type": "code",
   "execution_count": 9,
   "metadata": {
    "collapsed": false
   },
   "outputs": [],
   "source": [
    "ssh_zoom, time_zoom, t_orig, t_end = zoomin_period_tide(grid_TT,'Point Atkinson', 0, MSL = 0)"
   ]
  },
  {
   "cell_type": "code",
   "execution_count": 10,
   "metadata": {
    "collapsed": true
   },
   "outputs": [],
   "source": [
    "ssh_max,ssh_min,time_max,time_min=find_highlow_tide(grid_TT, ssh_zoom,time_zoom, t_end, t_orig, 0)"
   ]
  },
  {
   "cell_type": "code",
   "execution_count": 11,
   "metadata": {
    "collapsed": false
   },
   "outputs": [
    {
     "data": {
      "text/plain": [
       "[3.7198760000000002,\n",
       " 3.8687930000000001,\n",
       " 3.918593,\n",
       " 3.8374999999999999,\n",
       " 3.7140400000000002,\n",
       " 3.42435,\n",
       " 3.1029149999999999,\n",
       " 2.7207910000000002,\n",
       " 2.530821,\n",
       " 2.2094269999999998,\n",
       " 2.2002399999999995,\n",
       " 2.4000440000000003,\n",
       " 2.6093839999999999,\n",
       " 2.867623,\n",
       " 3.1096960000000005]"
      ]
     },
     "execution_count": 11,
     "metadata": {},
     "output_type": "execute_result"
    }
   ],
   "source": [
    "diff = print_out_diff_PA(ssh_max,ssh_min, meter =1)\n",
    "diff ## tidal range at PA in  meters!!! June 24 has the smallest tidal range that I regard it as neap tide"
   ]
  },
  {
   "cell_type": "code",
   "execution_count": 12,
   "metadata": {
    "collapsed": false
   },
   "outputs": [],
   "source": [
    "##combine both max and min tidal anomaly for Point Atkinson\n",
    "ssh_obs = []\n",
    "ssh_obs.append(ssh_max)\n",
    "ssh_obs.append(ssh_min)"
   ]
  },
  {
   "cell_type": "markdown",
   "metadata": {},
   "source": [
    "# For new river channel model results(jetty bathymetry10)"
   ]
  },
  {
   "cell_type": "code",
   "execution_count": 13,
   "metadata": {
    "collapsed": true
   },
   "outputs": [],
   "source": [
    "ssh_mod = grid_TT.variables['sossheig']\n",
    "time_mod = grid_TT.variables['time_counter'][:]"
   ]
  },
  {
   "cell_type": "code",
   "execution_count": 14,
   "metadata": {
    "collapsed": false
   },
   "outputs": [
    {
     "data": {
      "text/plain": [
       "(360, 170, 138)"
      ]
     },
     "execution_count": 14,
     "metadata": {},
     "output_type": "execute_result"
    }
   ],
   "source": [
    "ssh_mod.shape"
   ]
  },
  {
   "cell_type": "code",
   "execution_count": 15,
   "metadata": {
    "collapsed": true
   },
   "outputs": [],
   "source": [
    "t = nc_tools.timestamp(grid_TT, np.arange(time_mod.shape[0]))\n",
    "for ind in range(len(t)):\n",
    "    t[ind] = t[ind].datetime\n",
    "tt = np.array(t) ## convert time_counter into datetime"
   ]
  },
  {
   "cell_type": "code",
   "execution_count": 16,
   "metadata": {
    "collapsed": true
   },
   "outputs": [],
   "source": [
    "def readoff_stn_highlow_waterlevel(t_end, t_orig, jnd, ind, ssh_mod, time_mod):\n",
    "    \"\"\"This function was used to read through high and low water\\\n",
    "        levels at various stns during a time period, the water levels\\\n",
    "        returned are in feet unit instead of meters\"\"\"\n",
    "    ssh_mod_max = []\n",
    "    ssh_mod_min = []\n",
    "    time_mod_max = []\n",
    "    time_mod_min = []\n",
    "    j = 0\n",
    "    for i in np.arange(t_end.day - t_orig.day +1):\n",
    "        ssh_mod_max.append(max(ssh_mod[j:j+23, jnd, ind])/0.3048)\n",
    "        ssh_mod_min.append(min(ssh_mod[j:j+23, jnd, ind])/0.3048)\n",
    "        time_mod_max.append(time_mod[j:j+23][np.argmax(ssh_mod[j:j+23, jnd, ind])])  \n",
    "        time_mod_min.append(time_mod[j:j+23][np.argmin(ssh_mod[j:j+23, jnd, ind])]) \n",
    "        ## need to convert time_mod_min in hour to date!!\n",
    "        j = j +24\n",
    "    return ssh_mod_max, ssh_mod_min, time_mod_max, time_mod_min  "
   ]
  },
  {
   "cell_type": "code",
   "execution_count": 17,
   "metadata": {
    "collapsed": true
   },
   "outputs": [],
   "source": [
    "def readoff_stn_highlow_waterlevel_new(t_end, t_orig, jnd, ind, ssh_mod, tt):\n",
    "    \"\"\"This function was used to read through high and low water\\\n",
    "        levels at various stns during a time period, the water levels\\\n",
    "        returned are in feet unit instead of meters\"\"\"\n",
    "    ssh_mod_max = []\n",
    "    ssh_mod_min = []\n",
    "    time_mod_max = []\n",
    "    time_mod_min = []\n",
    "    j = 0\n",
    "    for i in np.arange(t_end.day - t_orig.day +1):\n",
    "        ssh_mod_max.append(max(ssh_mod[j:j+23, jnd, ind])/0.3048)\n",
    "        ssh_mod_min.append(min(ssh_mod[j:j+23, jnd, ind])/0.3048)\n",
    "        time_mod_max.append(tt[j:j+23][np.argmax(ssh_mod[j:j+23, jnd, ind])])  \n",
    "        time_mod_min.append(tt[j:j+23][np.argmin(ssh_mod[j:j+23, jnd, ind])]) \n",
    "        ## need to convert time_mod_min in hour to date!!\n",
    "        j = j +24\n",
    "    return ssh_mod_max, ssh_mod_min, time_mod_max, time_mod_min "
   ]
  },
  {
   "cell_type": "code",
   "execution_count": 18,
   "metadata": {
    "collapsed": true
   },
   "outputs": [],
   "source": [
    "def get_time_lag( ttmin, time_min, ttma, time_max ):\n",
    "    \"\"\"This function was made to calculate time lag\n",
    "        of high and low water level between stns and \n",
    "        PA\"\"\"\n",
    "    delta_min = []\n",
    "    delta_max = []\n",
    "    for t1, t2, t3, t4 in zip( ttmin, time_min,ttma, time_max):\n",
    "        diff_min = (t1.hour- t2.hour) * 60 + (t1.minute - t2.minute)\n",
    "        diff_max = (t3.hour- t4.hour) * 60 + (t3.minute - t4.minute)\n",
    "        if diff_min <= -720:\n",
    "            diff_min = 24*60 + diff_min\n",
    "        if diff_max >= 720:\n",
    "            diff_max = 24*60 - diff_max\n",
    "        delta_min.append(diff_min)\n",
    "        delta_max.append(diff_max)\n",
    "    return delta_max, delta_min"
   ]
  },
  {
   "cell_type": "code",
   "execution_count": 19,
   "metadata": {
    "collapsed": true
   },
   "outputs": [],
   "source": [
    "def print_out_diff_wl(mima, mimi):\n",
    "    \"\"\"To print out difference of high and low\n",
    "        water levels at each Fraser gauge for\n",
    "        both models and obs from EC\n",
    "        Input: mima & mimi are high & low water\n",
    "        levels for stn.\n",
    "        Output: array of their difference[unit feet]\"\"\"\n",
    "    df = []\n",
    "    for i, j in zip(mima, mimi):\n",
    "        d = i -j\n",
    "        df.append(d)\n",
    "    return df"
   ]
  },
  {
   "cell_type": "code",
   "execution_count": 20,
   "metadata": {
    "collapsed": true
   },
   "outputs": [],
   "source": [
    "def plot_height_time_stn(ssh_model, ssh_obs, time_lag_mod, stn):\n",
    "    \"\"\"This function was made to plot water level height\n",
    "    and time lag for Fraser gauges with PA tidal height \"\"\"\n",
    "    fig, axs = plt.subplots(1,2, figsize = (20,10))\n",
    "    axs[0].scatter(ssh_model,ssh_obs,color='blue',s=15,edgecolor='none')\n",
    "    axs[0].text(-2, 4, r'$Q_Hope = 200,000cfs$', fontsize=15)\n",
    "    axs[0].grid()\n",
    "    axs[0].set_xlim([-8, 14])\n",
    "    axs[0].set_ylim([-10, 6])\n",
    "    axs[0].set_xlabel('Water level at ' + stn + ' [feet]')\n",
    "    axs[0].set_ylabel('Point Atkinson Height[feet]')\n",
    "    axs[1].scatter(time_lag_mod,ssh_obs,color='blue',s=15,edgecolor='none')\n",
    "    axs[1].grid()\n",
    "    #ax.set_xlim([4.5, 9.5])\n",
    "    #ax.set_ylim([-10, 6])\n",
    "    axs[1].set_xlabel('Time lag at ' + stn + ' [Minute]')\n",
    "    axs[1].set_ylabel('Point Atkinson Height[feet]')\n",
    "    return fig"
   ]
  },
  {
   "cell_type": "markdown",
   "metadata": {},
   "source": [
    "* New Westminster"
   ]
  },
  {
   "cell_type": "code",
   "execution_count": 21,
   "metadata": {
    "collapsed": true
   },
   "outputs": [],
   "source": [
    "## use another time counts[69,106]\n",
    "tma, tmi, ttma, ttmin = readoff_stn_highlow_waterlevel_new(t_end, t_orig, 69, 106,ssh_mod, tt)"
   ]
  },
  {
   "cell_type": "code",
   "execution_count": 22,
   "metadata": {
    "collapsed": true
   },
   "outputs": [],
   "source": [
    "##combine both max and min water level for NEW WESTMINSTER\n",
    "ssh_model = []\n",
    "ssh_model.append(tma)\n",
    "ssh_model.append(tmi)"
   ]
  },
  {
   "cell_type": "code",
   "execution_count": 23,
   "metadata": {
    "collapsed": false
   },
   "outputs": [
    {
     "data": {
      "text/plain": [
       "[9.1086371051357791,\n",
       " 9.9868556176583603,\n",
       " 10.65074224171676,\n",
       " 10.856093149485551,\n",
       " 10.781026301108632,\n",
       " 9.9393336244142585,\n",
       " 9.456720604045497,\n",
       " 8.9636918284448726,\n",
       " 7.8632736339030922,\n",
       " 6.6342099699291968,\n",
       " 6.5615214896327236,\n",
       " 7.1107903177656837,\n",
       " 7.659281137108489,\n",
       " 8.0236145282980651,\n",
       " 8.4619341403480597]"
      ]
     },
     "execution_count": 23,
     "metadata": {},
     "output_type": "execute_result"
    }
   ],
   "source": [
    "df = print_out_diff_wl(tma, tmi)\n",
    "df"
   ]
  },
  {
   "cell_type": "code",
   "execution_count": 24,
   "metadata": {
    "collapsed": false
   },
   "outputs": [
    {
     "name": "stdout",
     "output_type": "stream",
     "text": [
      "Max amplitude of model: 3.309\n",
      "Min amplitude of model: 2.0\n",
      "Mean amplitude of model: 2.683\n"
     ]
    }
   ],
   "source": [
    "## average, max and min of the tidal amplitude at NW\n",
    "ddf = np.array(df)\n",
    "mean_ddf_NW = np.mean(ddf)* 0.3048\n",
    "max_ddf_NW = np.max(ddf)* 0.3048\n",
    "min_ddf_NW = np.min(ddf)* 0.3048\n",
    "print ('Max amplitude of model: {0:.4}'.format(max_ddf_NW))\n",
    "print ('Min amplitude of model: {0:.4}'.format(min_ddf_NW))\n",
    "print ('Mean amplitude of model: {0:.4}'.format(mean_ddf_NW))"
   ]
  },
  {
   "cell_type": "code",
   "execution_count": 25,
   "metadata": {
    "collapsed": false
   },
   "outputs": [],
   "source": [
    "delta_max, delta_min = get_time_lag(ttmin, time_min, ttma, time_max)"
   ]
  },
  {
   "cell_type": "markdown",
   "metadata": {},
   "source": [
    "* For spring tidal range in the strait about 4.0m, 50min delay at New Westminster."
   ]
  },
  {
   "cell_type": "code",
   "execution_count": 26,
   "metadata": {
    "collapsed": false
   },
   "outputs": [
    {
     "data": {
      "text/plain": [
       "[90, 30, 30, 30, 30, 30, 30, 30, 30, 30, 90, 30, 30, 90, 30]"
      ]
     },
     "execution_count": 26,
     "metadata": {},
     "output_type": "execute_result"
    }
   ],
   "source": [
    "delta_max"
   ]
  },
  {
   "cell_type": "markdown",
   "metadata": {},
   "source": [
    "* For neap tidal range in the strait about 2m, 100min delay at New Westminster."
   ]
  },
  {
   "cell_type": "code",
   "execution_count": 27,
   "metadata": {
    "collapsed": false
   },
   "outputs": [
    {
     "data": {
      "text/plain": [
       "[150, 150, 90, 90, 90, 30, 150, 90, 30, 30, 90, 90, 150, 90, 90]"
      ]
     },
     "execution_count": 27,
     "metadata": {},
     "output_type": "execute_result"
    }
   ],
   "source": [
    "delta_min"
   ]
  },
  {
   "cell_type": "code",
   "execution_count": 28,
   "metadata": {
    "collapsed": true
   },
   "outputs": [],
   "source": [
    "##combine both time lag for high and low water level at NEW WESTMINSTER\n",
    "time_lag_mod = []\n",
    "time_lag_mod.append(delta_max)\n",
    "time_lag_mod.append(delta_min)"
   ]
  },
  {
   "cell_type": "code",
   "execution_count": 29,
   "metadata": {
    "collapsed": false
   },
   "outputs": [
    {
     "name": "stderr",
     "output_type": "stream",
     "text": [
      "/home/jieliu/anaconda3/lib/python3.4/site-packages/matplotlib/collections.py:590: FutureWarning: elementwise comparison failed; returning scalar instead, but in the future will perform elementwise comparison\n",
      "  if self._edgecolors == str('face'):\n"
     ]
    },
    {
     "data": {
      "image/png": "[encoded data removed]",
      "text/plain": [
       "<matplotlib.figure.Figure at 0x7f63de20d048>"
      ]
     },
     "metadata": {},
     "output_type": "display_data"
    }
   ],
   "source": [
    "fig = plot_height_time_stn(ssh_model, ssh_obs, time_lag_mod, 'New Westminster')"
   ]
  },
  {
   "cell_type": "markdown",
   "metadata": {},
   "source": [
    "* Mission"
   ]
  },
  {
   "cell_type": "code",
   "execution_count": 30,
   "metadata": {
    "collapsed": false
   },
   "outputs": [],
   "source": [
    "## grid cell for Mission is [151, 108]\n",
    "mima, mimi, tmima, tmimi = readoff_stn_highlow_waterlevel_new(t_end, t_orig, 151, 108,ssh_mod, tt)"
   ]
  },
  {
   "cell_type": "code",
   "execution_count": 31,
   "metadata": {
    "collapsed": true
   },
   "outputs": [],
   "source": [
    "##combine both max and min water level for MISIION\n",
    "ssh_model = []\n",
    "ssh_model.append(mima)\n",
    "ssh_model.append(mimi)"
   ]
  },
  {
   "cell_type": "code",
   "execution_count": 32,
   "metadata": {
    "collapsed": false
   },
   "outputs": [
    {
     "data": {
      "text/plain": [
       "[8.8816874335444194,\n",
       " 10.150521993637085,\n",
       " 10.998868762351709,\n",
       " 11.022861587406767,\n",
       " 10.838468321977951,\n",
       " 11.017575977355476,\n",
       " 10.292593223529225,\n",
       " 9.4465251396021497,\n",
       " 8.1443001230166647,\n",
       " 6.7180935342324366,\n",
       " 6.7715970901304878,\n",
       " 7.3245322219343008,\n",
       " 7.7126588760398498,\n",
       " 8.1821742254918011,\n",
       " 8.6258195360188719]"
      ]
     },
     "execution_count": 32,
     "metadata": {},
     "output_type": "execute_result"
    }
   ],
   "source": [
    "df = print_out_diff_wl(mima, mimi)\n",
    "df"
   ]
  },
  {
   "cell_type": "code",
   "execution_count": 33,
   "metadata": {
    "collapsed": false
   },
   "outputs": [
    {
     "name": "stdout",
     "output_type": "stream",
     "text": [
      "Max amplitude of model: 3.36\n",
      "Min amplitude of model: 2.048\n",
      "Mean amplitude of model: 2.766\n"
     ]
    }
   ],
   "source": [
    "## average, max and min of the tidal amplitude at Mission\n",
    "ddf = np.array(df)\n",
    "mean_ddf_MI = np.mean(ddf)* 0.3048\n",
    "max_ddf_MI = np.max(ddf)* 0.3048\n",
    "min_ddf_MI = np.min(ddf)* 0.3048\n",
    "print ('Max amplitude of model: {0:.4}'.format(max_ddf_MI))\n",
    "print ('Min amplitude of model: {0:.4}'.format(min_ddf_MI))\n",
    "print ('Mean amplitude of model: {0:.4}'.format(mean_ddf_MI))"
   ]
  },
  {
   "cell_type": "code",
   "execution_count": 34,
   "metadata": {
    "collapsed": true
   },
   "outputs": [],
   "source": [
    "delta_max, delta_min = get_time_lag(tmimi, time_min, tmima, time_max)"
   ]
  },
  {
   "cell_type": "markdown",
   "metadata": {},
   "source": [
    "* 190min delay for high water in the Ages model at Mission"
   ]
  },
  {
   "cell_type": "code",
   "execution_count": 35,
   "metadata": {
    "collapsed": false
   },
   "outputs": [
    {
     "data": {
      "text/plain": [
       "[90, 30, 30, 90, 30, 30, 90, 30, 90, 30, 90, 90, 90, 90, 90]"
      ]
     },
     "execution_count": 35,
     "metadata": {},
     "output_type": "execute_result"
    }
   ],
   "source": [
    "delta_max"
   ]
  },
  {
   "cell_type": "markdown",
   "metadata": {},
   "source": [
    "* 370min delay for low water in the Ages model at Mission"
   ]
  },
  {
   "cell_type": "code",
   "execution_count": 36,
   "metadata": {
    "collapsed": false
   },
   "outputs": [
    {
     "data": {
      "text/plain": [
       "[210, 210, 150, 90, 210, 150, 150, 90, 90, 90, 150, 150, 210, 150, 150]"
      ]
     },
     "execution_count": 36,
     "metadata": {},
     "output_type": "execute_result"
    }
   ],
   "source": [
    "delta_min"
   ]
  },
  {
   "cell_type": "code",
   "execution_count": 37,
   "metadata": {
    "collapsed": true
   },
   "outputs": [],
   "source": [
    "##combine both time lag for high and low water level at Mission\n",
    "time_lag_mod = []\n",
    "time_lag_mod.append(delta_max)\n",
    "time_lag_mod.append(delta_min)"
   ]
  },
  {
   "cell_type": "code",
   "execution_count": 38,
   "metadata": {
    "collapsed": false
   },
   "outputs": [
    {
     "name": "stderr",
     "output_type": "stream",
     "text": [
      "/home/jieliu/anaconda3/lib/python3.4/site-packages/matplotlib/collections.py:590: FutureWarning: elementwise comparison failed; returning scalar instead, but in the future will perform elementwise comparison\n",
      "  if self._edgecolors == str('face'):\n"
     ]
    },
    {
     "data": {
      "image/png": "[encoded data removed]",
      "text/plain": [
       "<matplotlib.figure.Figure at 0x7f63dd4d2400>"
      ]
     },
     "metadata": {},
     "output_type": "display_data"
    }
   ],
   "source": [
    "fig = plot_height_time_stn(ssh_model, ssh_obs, time_lag_mod, 'Mission')"
   ]
  },
  {
   "cell_type": "markdown",
   "metadata": {},
   "source": [
    "* Tide nearly no dissipation"
   ]
  },
  {
   "cell_type": "markdown",
   "metadata": {},
   "source": [
    "* Deas Island channel"
   ]
  },
  {
   "cell_type": "code",
   "execution_count": 39,
   "metadata": {
    "collapsed": true
   },
   "outputs": [],
   "source": [
    "## grid cell for Deas Island is [65,69]\n",
    "mima, mimi, tmima, tmimi = readoff_stn_highlow_waterlevel_new(t_end, t_orig, 65, 69,ssh_mod, tt)"
   ]
  },
  {
   "cell_type": "code",
   "execution_count": 40,
   "metadata": {
    "collapsed": true
   },
   "outputs": [],
   "source": [
    "##combine both max and min water level for DEAS ISLAND\n",
    "ssh_model = []\n",
    "ssh_model.append(mima)\n",
    "ssh_model.append(mimi)"
   ]
  },
  {
   "cell_type": "code",
   "execution_count": 41,
   "metadata": {
    "collapsed": false
   },
   "outputs": [
    {
     "data": {
      "text/plain": [
       "[10.751236689685211,\n",
       " 11.266865755316466,\n",
       " 11.703036432191142,\n",
       " 11.681206035488859,\n",
       " 11.382257062306241,\n",
       " 10.612441173062862,\n",
       " 9.7882372187817186,\n",
       " 8.2511183001550794,\n",
       " 7.6818170901045715,\n",
       " 6.7673216811002392,\n",
       " 6.977505297485612,\n",
       " 7.6366317632004339,\n",
       " 8.3866629387762917,\n",
       " 9.08770390695787,\n",
       " 9.5318007500465765]"
      ]
     },
     "execution_count": 41,
     "metadata": {},
     "output_type": "execute_result"
    }
   ],
   "source": [
    "df = print_out_diff_wl(mima, mimi)\n",
    "df"
   ]
  },
  {
   "cell_type": "code",
   "execution_count": 42,
   "metadata": {
    "collapsed": false
   },
   "outputs": [
    {
     "name": "stdout",
     "output_type": "stream",
     "text": [
      "Max amplitude of model: 3.567\n",
      "Min amplitude of model: 2.063\n",
      "Mean amplitude of model: 2.875\n"
     ]
    }
   ],
   "source": [
    "## average, max and min of the tidal amplitude at Deas Island channel for model\n",
    "ddf = np.array(df)\n",
    "mean_ddf_DI = np.mean(ddf)* 0.3048\n",
    "max_ddf_DI = np.max(ddf)* 0.3048\n",
    "min_ddf_DI = np.min(ddf)* 0.3048\n",
    "print ('Max amplitude of model: {0:.4}'.format(max_ddf_DI))\n",
    "print ('Min amplitude of model: {0:.4}'.format(min_ddf_DI))\n",
    "print ('Mean amplitude of model: {0:.4}'.format(mean_ddf_DI))"
   ]
  },
  {
   "cell_type": "code",
   "execution_count": 43,
   "metadata": {
    "collapsed": true
   },
   "outputs": [],
   "source": [
    "delta_max, delta_min = get_time_lag(tmimi, time_min, tmima, time_max)"
   ]
  },
  {
   "cell_type": "markdown",
   "metadata": {},
   "source": [
    "* 10min delay at Deas Island for spring tide with tidal range of 5m at PA."
   ]
  },
  {
   "cell_type": "code",
   "execution_count": 44,
   "metadata": {
    "collapsed": false
   },
   "outputs": [
    {
     "data": {
      "text/plain": [
       "[30, 30, -30, 30, 30, -30, 30, 30, 30, 30, 30, 30, -30, 30, 30]"
      ]
     },
     "execution_count": 44,
     "metadata": {},
     "output_type": "execute_result"
    }
   ],
   "source": [
    "delta_max"
   ]
  },
  {
   "cell_type": "markdown",
   "metadata": {},
   "source": [
    "* 70min delay at Deas Island for neap tides with tidal range of 0.5m at PA."
   ]
  },
  {
   "cell_type": "code",
   "execution_count": 45,
   "metadata": {
    "collapsed": false
   },
   "outputs": [
    {
     "data": {
      "text/plain": [
       "[90, 30, 30, -30, 30, 30, 30, -30, 30, 30, 30, 30, 30, 30, 30]"
      ]
     },
     "execution_count": 45,
     "metadata": {},
     "output_type": "execute_result"
    }
   ],
   "source": [
    "delta_min"
   ]
  },
  {
   "cell_type": "code",
   "execution_count": 46,
   "metadata": {
    "collapsed": true
   },
   "outputs": [],
   "source": [
    "##combine both time lag for high and low water level at Deas Island\n",
    "time_lag_mod = []\n",
    "time_lag_mod.append(delta_max)\n",
    "time_lag_mod.append(delta_min)"
   ]
  },
  {
   "cell_type": "code",
   "execution_count": 47,
   "metadata": {
    "collapsed": false
   },
   "outputs": [
    {
     "name": "stderr",
     "output_type": "stream",
     "text": [
      "/home/jieliu/anaconda3/lib/python3.4/site-packages/matplotlib/collections.py:590: FutureWarning: elementwise comparison failed; returning scalar instead, but in the future will perform elementwise comparison\n",
      "  if self._edgecolors == str('face'):\n"
     ]
    },
    {
     "data": {
      "image/png": "[encoded data removed]",
      "text/plain": [
       "<matplotlib.figure.Figure at 0x7f63dd0ec630>"
      ]
     },
     "metadata": {},
     "output_type": "display_data"
    }
   ],
   "source": [
    "fig = plot_height_time_stn(ssh_model, ssh_obs, time_lag_mod, 'Deas Island')"
   ]
  },
  {
   "cell_type": "markdown",
   "metadata": {},
   "source": [
    "* Steveston Jetty"
   ]
  },
  {
   "cell_type": "code",
   "execution_count": 48,
   "metadata": {
    "collapsed": true
   },
   "outputs": [],
   "source": [
    "## grid cell for Steveston Jetty is [79, 33] in theory, but I select [79,32] \n",
    "##original grid cell I set as jetty.\n",
    "mima, mimi, tmima, tmimi = readoff_stn_highlow_waterlevel_new(t_end, t_orig, 79, 32,ssh_mod, tt)"
   ]
  },
  {
   "cell_type": "code",
   "execution_count": 49,
   "metadata": {
    "collapsed": true
   },
   "outputs": [],
   "source": [
    "##combine both max and min water level for Steveston Jetty\n",
    "ssh_model = []\n",
    "ssh_model.append(mima)\n",
    "ssh_model.append(mimi)"
   ]
  },
  {
   "cell_type": "code",
   "execution_count": 50,
   "metadata": {
    "collapsed": false
   },
   "outputs": [
    {
     "data": {
      "text/plain": [
       "[11.595275614831078,\n",
       " 11.793891667068159,\n",
       " 12.146546615390326,\n",
       " 12.064425181841912,\n",
       " 11.471669113855036,\n",
       " 10.798080308543728,\n",
       " 9.583138574765421,\n",
       " 8.3661181094452459,\n",
       " 7.3872117467439704,\n",
       " 6.5590951621063116,\n",
       " 6.9970584760500687,\n",
       " 7.6476224451240267,\n",
       " 8.5701916630812516,\n",
       " 9.1999495436200327,\n",
       " 9.8634986426886613]"
      ]
     },
     "execution_count": 50,
     "metadata": {},
     "output_type": "execute_result"
    }
   ],
   "source": [
    "df = print_out_diff_wl(mima, mimi)\n",
    "df"
   ]
  },
  {
   "cell_type": "code",
   "execution_count": 51,
   "metadata": {
    "collapsed": false
   },
   "outputs": [
    {
     "name": "stdout",
     "output_type": "stream",
     "text": [
      "Max amplitude of model: 3.702\n",
      "Min amplitude of model: 1.999\n",
      "Mean amplitude of model: 2.927\n"
     ]
    }
   ],
   "source": [
    "## average, max and min of the tidal amplitude at Steveston for model\n",
    "ddf = np.array(df)\n",
    "mean_ddf_ST = np.mean(ddf)* 0.3048\n",
    "max_ddf_ST = np.max(ddf)* 0.3048\n",
    "min_ddf_ST = np.min(ddf)* 0.3048\n",
    "print ('Max amplitude of model: {0:.4}'.format(max_ddf_ST))\n",
    "print ('Min amplitude of model: {0:.4}'.format(min_ddf_ST))\n",
    "print ('Mean amplitude of model: {0:.4}'.format(mean_ddf_ST))"
   ]
  },
  {
   "cell_type": "code",
   "execution_count": 52,
   "metadata": {
    "collapsed": true
   },
   "outputs": [],
   "source": [
    "delta_max, delta_min = get_time_lag(tmimi, time_min, tmima, time_max)"
   ]
  },
  {
   "cell_type": "markdown",
   "metadata": {},
   "source": [
    "* 5min delay at Steveston for spring tide with tidal range of 5m at PA."
   ]
  },
  {
   "cell_type": "code",
   "execution_count": 53,
   "metadata": {
    "collapsed": false
   },
   "outputs": [
    {
     "data": {
      "text/plain": [
       "[30, -30, -30, 30, -30, -30, 30, -30, 30, -30, 30, -30, -30, 30, 30]"
      ]
     },
     "execution_count": 53,
     "metadata": {},
     "output_type": "execute_result"
    }
   ],
   "source": [
    "delta_max"
   ]
  },
  {
   "cell_type": "markdown",
   "metadata": {},
   "source": [
    "* 25min delay at Steveston for spring tide with tidal range of 5m at PA."
   ]
  },
  {
   "cell_type": "code",
   "execution_count": 54,
   "metadata": {
    "collapsed": false
   },
   "outputs": [
    {
     "data": {
      "text/plain": [
       "[30, 30, -30, -30, 30, -30, 30, -30, 30, 30, 30, -30, 30, -30, -30]"
      ]
     },
     "execution_count": 54,
     "metadata": {},
     "output_type": "execute_result"
    }
   ],
   "source": [
    "delta_min"
   ]
  },
  {
   "cell_type": "code",
   "execution_count": 55,
   "metadata": {
    "collapsed": true
   },
   "outputs": [],
   "source": [
    "##combine both time lag for high and low water level at Steveston Jetty\n",
    "time_lag_mod = []\n",
    "time_lag_mod.append(delta_max)\n",
    "time_lag_mod.append(delta_min)"
   ]
  },
  {
   "cell_type": "code",
   "execution_count": 56,
   "metadata": {
    "collapsed": false
   },
   "outputs": [
    {
     "name": "stderr",
     "output_type": "stream",
     "text": [
      "/home/jieliu/anaconda3/lib/python3.4/site-packages/matplotlib/collections.py:590: FutureWarning: elementwise comparison failed; returning scalar instead, but in the future will perform elementwise comparison\n",
      "  if self._edgecolors == str('face'):\n"
     ]
    },
    {
     "data": {
      "image/png": "[encoded data removed]",
      "text/plain": [
       "<matplotlib.figure.Figure at 0x7f63dcff3f28>"
      ]
     },
     "metadata": {},
     "output_type": "display_data"
    }
   ],
   "source": [
    "fig = plot_height_time_stn(ssh_model, ssh_obs, time_lag_mod, 'Steveston')"
   ]
  },
  {
   "cell_type": "markdown",
   "metadata": {},
   "source": [
    "* I set the grid point at Steveston as jetty, so I select (428, 291) grid point roughly as Steveston."
   ]
  },
  {
   "cell_type": "markdown",
   "metadata": {},
   "source": [
    "* Edge of new river channel model domain"
   ]
  },
  {
   "cell_type": "code",
   "execution_count": 57,
   "metadata": {
    "collapsed": true
   },
   "outputs": [],
   "source": [
    "## grid cell for edge of new river treatment is [151, 136]\n",
    "mima, mimi, tmima, tmimi = readoff_stn_highlow_waterlevel_new(t_end, t_orig, 151, 136,ssh_mod, tt)"
   ]
  },
  {
   "cell_type": "code",
   "execution_count": 58,
   "metadata": {
    "collapsed": true
   },
   "outputs": [],
   "source": [
    "##combine both max and min water level for edge of model domain\n",
    "ssh_model = []\n",
    "ssh_model.append(mima)\n",
    "ssh_model.append(mimi)"
   ]
  },
  {
   "cell_type": "code",
   "execution_count": 59,
   "metadata": {
    "collapsed": false
   },
   "outputs": [
    {
     "data": {
      "text/plain": [
       "[8.4773459645315743,\n",
       " 9.8329605510228575,\n",
       " 10.626187005380945,\n",
       " 10.718049437511624,\n",
       " 10.732964874096115,\n",
       " 10.866761266246556,\n",
       " 10.119644910331786,\n",
       " 9.1674218927155646,\n",
       " 7.9624599036503962,\n",
       " 6.4990429936118641,\n",
       " 6.5926595388122111,\n",
       " 7.1634185009115319,\n",
       " 7.5841969822648316,\n",
       " 7.9503558634773013,\n",
       " 8.4087745411189516]"
      ]
     },
     "execution_count": 59,
     "metadata": {},
     "output_type": "execute_result"
    }
   ],
   "source": [
    "df = print_out_diff_wl(mima, mimi)\n",
    "df"
   ]
  },
  {
   "cell_type": "code",
   "execution_count": 60,
   "metadata": {
    "collapsed": false
   },
   "outputs": [
    {
     "name": "stdout",
     "output_type": "stream",
     "text": [
      "Max amplitude of model: 3.312\n",
      "Min amplitude of model: 1.981\n",
      "Mean amplitude of model: 2.697\n"
     ]
    }
   ],
   "source": [
    "## average, max and min of the tidal amplitude at edge of model domain \n",
    "ddf = np.array(df)\n",
    "mean_ddf_ST = np.mean(ddf)* 0.3048\n",
    "max_ddf_ST = np.max(ddf)* 0.3048\n",
    "min_ddf_ST = np.min(ddf)* 0.3048\n",
    "print ('Max amplitude of model: {0:.4}'.format(max_ddf_ST))\n",
    "print ('Min amplitude of model: {0:.4}'.format(min_ddf_ST))\n",
    "print ('Mean amplitude of model: {0:.4}'.format(mean_ddf_ST))"
   ]
  },
  {
   "cell_type": "code",
   "execution_count": 61,
   "metadata": {
    "collapsed": true
   },
   "outputs": [],
   "source": [
    "delta_max, delta_min = get_time_lag(tmimi, time_min, tmima, time_max)"
   ]
  },
  {
   "cell_type": "code",
   "execution_count": 62,
   "metadata": {
    "collapsed": false
   },
   "outputs": [
    {
     "data": {
      "text/plain": [
       "[90, 30, 30, 90, 30, 30, 90, 30, 90, 30, 90, 90, 90, 90, 90]"
      ]
     },
     "execution_count": 62,
     "metadata": {},
     "output_type": "execute_result"
    }
   ],
   "source": [
    "delta_max"
   ]
  },
  {
   "cell_type": "code",
   "execution_count": 63,
   "metadata": {
    "collapsed": false
   },
   "outputs": [
    {
     "data": {
      "text/plain": [
       "[210, 210, 150, 90, 210, 150, 150, 150, 90, 90, 150, 150, 210, 150, 150]"
      ]
     },
     "execution_count": 63,
     "metadata": {},
     "output_type": "execute_result"
    }
   ],
   "source": [
    "delta_min"
   ]
  },
  {
   "cell_type": "code",
   "execution_count": 64,
   "metadata": {
    "collapsed": true
   },
   "outputs": [],
   "source": [
    "##combine both time lag for high and low water level at edge of model domain\n",
    "time_lag_mod = []\n",
    "time_lag_mod.append(delta_max)\n",
    "time_lag_mod.append(delta_min)"
   ]
  },
  {
   "cell_type": "code",
   "execution_count": 65,
   "metadata": {
    "collapsed": false
   },
   "outputs": [
    {
     "name": "stderr",
     "output_type": "stream",
     "text": [
      "/home/jieliu/anaconda3/lib/python3.4/site-packages/matplotlib/collections.py:590: FutureWarning: elementwise comparison failed; returning scalar instead, but in the future will perform elementwise comparison\n",
      "  if self._edgecolors == str('face'):\n"
     ]
    },
    {
     "data": {
      "image/png": "[encoded data removed]",
      "text/plain": [
       "<matplotlib.figure.Figure at 0x7f63dd0f83c8>"
      ]
     },
     "metadata": {},
     "output_type": "display_data"
    }
   ],
   "source": [
    "fig = plot_height_time_stn(ssh_model, ssh_obs, time_lag_mod, 'Edge of domain')"
   ]
  },
  {
   "cell_type": "markdown",
   "metadata": {
    "collapsed": true
   },
   "source": [
    "* Overall, with jetty in the model, the tidal heights along Fraser station are even higher."
   ]
  },
  {
   "cell_type": "code",
   "execution_count": null,
   "metadata": {
    "collapsed": true
   },
   "outputs": [],
   "source": []
  }
 ],
 "metadata": {
  "kernelspec": {
   "display_name": "Python 3",
   "language": "python",
   "name": "python3"
  },
  "language_info": {
   "codemirror_mode": {
    "name": "ipython",
    "version": 3
   },
   "file_extension": ".py",
   "mimetype": "text/x-python",
   "name": "python",
   "nbconvert_exporter": "python",
   "pygments_lexer": "ipython3",
   "version": "3.4.3"
  }
 },
 "nbformat": 4,
 "nbformat_minor": 0
}
