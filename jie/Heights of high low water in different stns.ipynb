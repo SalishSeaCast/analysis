{
 "cells": [
  {
   "cell_type": "markdown",
   "metadata": {},
   "source": [
    "This notebook was made to predict the heights and time for high and low waters in New West, Mission, Sandheads, Deas Island by relating them to the corresponding higher high and lower low water at Point Atkinson and discharge at Hope."
   ]
  },
  {
   "cell_type": "code",
   "execution_count": 1,
   "metadata": {
    "collapsed": false
   },
   "outputs": [],
   "source": [
    "from __future__ import division\n",
    "from cStringIO import StringIO\n",
    "from salishsea_tools import (\n",
    "    nc_tools,\n",
    "    viz_tools,\n",
    "    stormtools,\n",
    "    tidetools,\n",
    ")\n",
    "from salishsea_tools.nowcast import figures\n",
    "from matplotlib import pylab\n",
    "from dateutil import tz\n",
    "from matplotlib.backends import backend_agg as backend\n",
    "from scipy import interpolate as interp\n",
    "from matplotlib import animation\n",
    "import scipy.io as sio\n",
    "import datetime\n",
    "import glob\n",
    "import os\n",
    "import arrow\n",
    "import matplotlib.cm as cm\n",
    "import matplotlib.dates as mdates\n",
    "import matplotlib.gridspec as gridspec\n",
    "import matplotlib.pyplot as plt\n",
    "import matplotlib.patches as patches\n",
    "import netCDF4 as nc\n",
    "import numpy as np\n",
    "import pandas as pd\n",
    "import requests\n",
    "import matplotlib.pyplot as plt\n",
    "import datetime\n",
    "import arrow\n",
    "%matplotlib inline"
   ]
  },
  {
   "cell_type": "code",
   "execution_count": 2,
   "metadata": {
    "collapsed": true
   },
   "outputs": [],
   "source": [
    "sites = {\n",
    "    'Sandheads': {\n",
    "        'lat': 49.10,\n",
    "        'lon': -123.30,\n",
    "        'i' : 426,\n",
    "        'j' : 293\n",
    "   \n",
    "    },\n",
    "    'Deas Island':{\n",
    "        'lat' : 48.12,\n",
    "        'lon' : -123.07,\n",
    "        'i' : 414,\n",
    "        'j' : 328\n",
    "    },    \n",
    "    'New Westminster': {\n",
    "        'lat': 49.21,\n",
    "        'lon': -122.89,\n",
    "        'i': 418,\n",
    "        'j': 365\n",
    "        },\n",
    "\n",
    "    'Mission': {\n",
    "        'lat': 48.59,\n",
    "        'lon': -123.2,\n",
    "        'i':  500,\n",
    "        'j':367\n",
    "    },\n",
    "\n",
    "\n",
    "        }"
   ]
  },
  {
   "cell_type": "code",
   "execution_count": 3,
   "metadata": {
    "collapsed": true
   },
   "outputs": [],
   "source": [
    "SITES = {\n",
    "    'Point Atkinson': {\n",
    "        'lat': 49.33,\n",
    "        'lon': -123.25,\n",
    "        'msl': 3.09,\n",
    "        'stn_no': 7795,\n",
    "        'extreme_ssh': 5.61},\n",
    "    'Victoria': {\n",
    "        'lat': 48.41,\n",
    "        'lon': -123.36,\n",
    "        'msl': 1.8810,\n",
    "        'stn_no': 7120,\n",
    "        'extreme_ssh': 3.76},\n",
    "    'Campbell River': {\n",
    "        'lat': 50.04,\n",
    "        'lon': -125.24,\n",
    "        'msl': 2.916,\n",
    "        'stn_no': 8074,\n",
    "        'extreme_ssh': 5.35},\n",
    "    'Neah Bay': {\n",
    "        'lat': 48.4,\n",
    "        'lon': -124.6,\n",
    "        'stn_no':  9443090},\n",
    "    'Friday Harbor': {\n",
    "        'lat': 48.55,\n",
    "        'lon': -123.016667,\n",
    "        'stn_no': 9449880},\n",
    "    'Cherry Point': {\n",
    "        'lat': 48.866667,\n",
    "        'lon': -122.766667,\n",
    "        'stn_no': 9449424},\n",
    "    'Sandheads': {\n",
    "        'lat': 49.10,\n",
    "        'lon': -123.30},\n",
    "    'Tofino': {\n",
    "        'stn_no': 8615},\n",
    "    }"
   ]
  },
  {
   "cell_type": "code",
   "execution_count": 4,
   "metadata": {
    "collapsed": false
   },
   "outputs": [],
   "source": [
    "grid_TT = nc.Dataset('/ocean/jieliu/research/meopar/river-treatment\\\n",
    "/14days_norefraserxml/16jun15/SalishSea_1h_20150616_20150629_grid_T.nc')"
   ]
  },
  {
   "cell_type": "code",
   "execution_count": 5,
   "metadata": {
    "collapsed": true
   },
   "outputs": [],
   "source": [
    "t_orig, t_end, t_nemo = figures.get_model_time_variables(grid_TT)"
   ]
  },
  {
   "cell_type": "code",
   "execution_count": 6,
   "metadata": {
    "collapsed": true
   },
   "outputs": [],
   "source": [
    "def zoomin_period_tide(grid_T, stn_name, PST , MSL = 0):\n",
    "    \"Find out tide heights and time in PST or UTC \\\n",
    "     given a time series at stations we got our tidal predictions\"\n",
    "    time_shift = datetime.timedelta(hours=-7)# 7hrs in summer, 8hrs \n",
    "    #in winter\n",
    "    t_orig, t_end, t_nemo = figures.get_model_time_variables(grid_T)\n",
    "    ttide = figures.get_tides(stn_name)\n",
    "    time = ttide.time + PST * time_shift\n",
    "    ssh = ttide.pred_all + SITES[stn_name]['msl'] * MSL\n",
    "    ssh_zoom = []\n",
    "    time_zoom = []\n",
    "    for i in np.arange(len(ttide)):\n",
    "        if (time[i].year == t_orig.year) & (time[i].month == t_orig.month)\\\n",
    "        & (time[i].day >= t_orig.day) & (time[i].day <= t_end.day):\n",
    "            ssh_zoom.append(ssh[i])\n",
    "            time_zoom.append(time[i])\n",
    "    return ssh_zoom, time_zoom, t_orig, t_end"
   ]
  },
  {
   "cell_type": "code",
   "execution_count": 7,
   "metadata": {
    "collapsed": false
   },
   "outputs": [],
   "source": [
    "def find_highlow_tide(grid_T, ssh_zoom, time_zoom, t_end, t_orig, PST ):\n",
    "    \"Determine high and low tide heights in PST or UTC at\\\n",
    "    a given day at stations we got our tidal predictions, unit of \\\n",
    "    return ssh_max, ssh_min is feet rather than meter\"\n",
    "    ssh_max = []\n",
    "    ssh_min = []\n",
    "    time_max = []\n",
    "    time_min = []\n",
    "    j = 0\n",
    "    for i in np.arange(t_end.day - t_orig.day +1):\n",
    "        ssh_max.append(max(ssh_zoom[j:j+24])/0.3048)\n",
    "        ssh_min.append(min(ssh_zoom[j:j+24])/0.3048)\n",
    "        time_max.append(time_zoom[ssh_zoom.index(max(ssh_zoom[j:j+24]))])  \n",
    "        time_min.append(time_zoom[ssh_zoom.index(min(ssh_zoom[j:j+24]))]) \n",
    "        j = j +24\n",
    "    return ssh_max, ssh_min, time_max, time_min"
   ]
  },
  {
   "cell_type": "code",
   "execution_count": 8,
   "metadata": {
    "collapsed": false
   },
   "outputs": [],
   "source": [
    "ssh_zoom, time_zoom, t_orig, t_end = zoomin_period_tide(grid_TT,'Point Atkinson', 0, MSL = 0)\n",
    "## I am not sure if MSL should be 0 or 1, does it really matter the relationship between PA and various\n",
    "#stns water level...???"
   ]
  },
  {
   "cell_type": "code",
   "execution_count": 9,
   "metadata": {
    "collapsed": false
   },
   "outputs": [],
   "source": [
    "ssh_max,ssh_min,time_max,time_min=find_highlow_tide(grid_TT, ssh_zoom,time_zoom, t_end, t_orig, 0)"
   ]
  },
  {
   "cell_type": "code",
   "execution_count": 10,
   "metadata": {
    "collapsed": false
   },
   "outputs": [],
   "source": [
    "##combine both max and min tidal anomaly for Point Atkinson\n",
    "ssh_obs = []\n",
    "ssh_obs.append(ssh_max)\n",
    "ssh_obs.append(ssh_min)"
   ]
  },
  {
   "cell_type": "markdown",
   "metadata": {},
   "source": [
    "# SSH for various stns in model results"
   ]
  },
  {
   "cell_type": "code",
   "execution_count": 11,
   "metadata": {
    "collapsed": false
   },
   "outputs": [],
   "source": [
    "ssh_mod = grid_TT.variables['sossheig']\n",
    "time_mod = grid_TT.variables['time_counter'][:]"
   ]
  },
  {
   "cell_type": "code",
   "execution_count": 12,
   "metadata": {
    "collapsed": false
   },
   "outputs": [],
   "source": [
    "t = nc_tools.timestamp(grid_TT, np.arange(time_mod.shape[0]))\n",
    "for ind in range(len(t)):\n",
    "    t[ind] = t[ind].datetime\n",
    "tt = np.array(t) ## convert time_counter into datetime"
   ]
  },
  {
   "cell_type": "code",
   "execution_count": 13,
   "metadata": {
    "collapsed": true
   },
   "outputs": [],
   "source": [
    "def readoff_stn_highlow_waterlevel(t_end, t_orig, jnd, ind, ssh_mod, time_mod):\n",
    "    \"\"\"This function was used to read through high and low water\\\n",
    "        levels at various stns during a time period, the water levels\\\n",
    "        returned are in feet unit instead of meters\"\"\"\n",
    "    ssh_mod_max = []\n",
    "    ssh_mod_min = []\n",
    "    time_mod_max = []\n",
    "    time_mod_min = []\n",
    "    j = 0\n",
    "    for i in np.arange(t_end.day - t_orig.day +1):\n",
    "        ssh_mod_max.append(max(ssh_mod[j:j+23, jnd, ind])/0.3048)\n",
    "        ssh_mod_min.append(min(ssh_mod[j:j+23, jnd, ind])/0.3048)\n",
    "        time_mod_max.append(time_mod[j:j+23][np.argmax(ssh_mod[j:j+23, jnd, ind])])  \n",
    "        time_mod_min.append(time_mod[j:j+23][np.argmin(ssh_mod[j:j+23, jnd, ind])]) \n",
    "        ## need to convert time_mod_min in hour to date!!\n",
    "        j = j +24\n",
    "    return ssh_mod_max, ssh_mod_min, time_mod_max, time_mod_min   "
   ]
  },
  {
   "cell_type": "code",
   "execution_count": 14,
   "metadata": {
    "collapsed": true
   },
   "outputs": [],
   "source": [
    "def readoff_stn_highlow_waterlevel_new(t_end, t_orig, jnd, ind, ssh_mod, tt):\n",
    "    \"\"\"This function was used to read through high and low water\\\n",
    "        levels at various stns during a time period, the water levels\\\n",
    "        returned are in feet unit instead of meters\"\"\"\n",
    "    ssh_mod_max = []\n",
    "    ssh_mod_min = []\n",
    "    time_mod_max = []\n",
    "    time_mod_min = []\n",
    "    j = 0\n",
    "    for i in np.arange(t_end.day - t_orig.day +1):\n",
    "        ssh_mod_max.append(max(ssh_mod[j:j+23, jnd, ind])/0.3048)\n",
    "        ssh_mod_min.append(min(ssh_mod[j:j+23, jnd, ind])/0.3048)\n",
    "        time_mod_max.append(tt[j:j+23][np.argmax(ssh_mod[j:j+23, jnd, ind])])  \n",
    "        time_mod_min.append(tt[j:j+23][np.argmin(ssh_mod[j:j+23, jnd, ind])]) \n",
    "        ## need to convert time_mod_min in hour to date!!\n",
    "        j = j +24\n",
    "    return ssh_mod_max, ssh_mod_min, time_mod_max, time_mod_min   "
   ]
  },
  {
   "cell_type": "code",
   "execution_count": 15,
   "metadata": {
    "collapsed": false
   },
   "outputs": [],
   "source": [
    "def get_time_lag( ttmin, time_min, ttma, time_max ):\n",
    "    \"\"\"This function was made to calculate time lag\n",
    "        of high and low water level between stns and \n",
    "        PA\"\"\"\n",
    "    delta_min = []\n",
    "    delta_max = []\n",
    "    for t1, t2, t3, t4 in zip( ttmin, time_min,ttma, time_max):\n",
    "        diff_min = (t1.hour- t2.hour) * 60 + (t1.minute - t2.minute)\n",
    "        diff_max = (t3.hour- t4.hour) * 60 + (t3.minute - t4.minute)\n",
    "        delta_min.append(diff_min)\n",
    "        delta_max.append(diff_max)\n",
    "    return delta_max, delta_min"
   ]
  },
  {
   "cell_type": "code",
   "execution_count": 16,
   "metadata": {
    "collapsed": true
   },
   "outputs": [],
   "source": [
    "def zoomin_tide_EC(obs):\n",
    "    \"\"\"To select the time period of observation \n",
    "        water levels from Environment Canada\n",
    "        need to fix to include all stns!!!\"\"\"\n",
    "    time_shift = datetime.timedelta(hours=7)\n",
    "    #time = obs['08MH024'][:] + time_shift\n",
    "    wl_zoom = [] ## water level list for stn\n",
    "    time_zoom = []\n",
    "    tt = [] ## final selected time series\n",
    "    for i in obs['08MH024']:\n",
    "        if type(i) <> unicode:\n",
    "            c = i +  time_shift\n",
    "            time_zoom.append(c) ## translate to UTC time\n",
    "    for t, j in zip(time_zoom, obs['Unnamed: 1']):\n",
    "        if (t.day >=16) & (t.day <= 29):\n",
    "            tt.append(t)\n",
    "            wl_zoom.append(j)\n",
    "    return tt, wl_zoom"
   ]
  },
  {
   "cell_type": "code",
   "execution_count": 17,
   "metadata": {
    "collapsed": true
   },
   "outputs": [],
   "source": [
    "def find_highlow_tide_EC(tt, wl_zoom):\n",
    "    \"\"\"This function was made to determine\n",
    "        extrema high and low water level\n",
    "        at Fraser gauges\"\"\"\n",
    "    ssh_max = []\n",
    "    ssh_min = []\n",
    "    time_max = []\n",
    "    time_min = []\n",
    "    j=0\n",
    "    for i in np.arange(tt[-1].day - tt[0].day + 1):\n",
    "        ssh_max.append(max(wl_zoom[j: j+24])/0.3048)\n",
    "        ssh_min.append(min(wl_zoom[j: j+24])/0.3048)\n",
    "        time_max.append(tt[wl_zoom.index(max(wl_zoom[j:j+24]))])\n",
    "        time_min.append(tt[wl_zoom.index(min(wl_zoom[j:j+24]))])\n",
    "        j = j + 24\n",
    "    return ssh_max, ssh_min, time_max, time_min"
   ]
  },
  {
   "cell_type": "code",
   "execution_count": 18,
   "metadata": {
    "collapsed": true
   },
   "outputs": [],
   "source": [
    "def plot_height_time_stn(ssh_model, ssh_obs, time_lag_mod, stn):\n",
    "    \"\"\"This function was made to plot water level height\n",
    "    and time lag for Fraser gauges with PA tidal height \"\"\"\n",
    "    fig, axs = plt.subplots(1,2, figsize = (20,10))\n",
    "    axs[0].scatter(ssh_model,ssh_obs,color='blue',s=15,edgecolor='none')\n",
    "    axs[0].text(-2, 4, r'$Q_Hope = 200,000cfs$', fontsize=15)\n",
    "    axs[0].grid()\n",
    "    axs[0].set_xlim([-8, 14])\n",
    "    axs[0].set_ylim([-10, 6])\n",
    "    axs[0].set_xlabel('Water level at ' + stn + ' [feet]')\n",
    "    axs[0].set_ylabel('Point Atkinson Height[feet]')\n",
    "    axs[1].scatter(time_lag_mod,ssh_obs,color='blue',s=15,edgecolor='none')\n",
    "    axs[1].grid()\n",
    "    #ax.set_xlim([4.5, 9.5])\n",
    "    #ax.set_ylim([-10, 6])\n",
    "    axs[1].set_xlabel('Time lag at ' + stn + ' [Minute]')\n",
    "    axs[1].set_ylabel('Point Atkinson Height[feet]')\n",
    "    return fig"
   ]
  },
  {
   "cell_type": "markdown",
   "metadata": {},
   "source": [
    "New Westminster"
   ]
  },
  {
   "cell_type": "code",
   "execution_count": 19,
   "metadata": {
    "collapsed": true
   },
   "outputs": [],
   "source": [
    "## use another time counts\n",
    "tma, tmi, ttma, ttmin = readoff_stn_highlow_waterlevel_new(t_end, t_orig, 418, 365,ssh_mod, tt)"
   ]
  },
  {
   "cell_type": "code",
   "execution_count": 20,
   "metadata": {
    "collapsed": false
   },
   "outputs": [],
   "source": [
    "##combine both max and min water level for NEW WESTMINSTER\n",
    "ssh_model = []\n",
    "ssh_model.append(tma)\n",
    "ssh_model.append(tmi)"
   ]
  },
  {
   "cell_type": "code",
   "execution_count": 21,
   "metadata": {
    "collapsed": true
   },
   "outputs": [],
   "source": [
    "delta_max, delta_min = get_time_lag(ttmin, time_min, ttma, time_max)"
   ]
  },
  {
   "cell_type": "code",
   "execution_count": 22,
   "metadata": {
    "collapsed": true
   },
   "outputs": [],
   "source": [
    "##combine both time lag for high and low water level at NEW WESTMINSTER\n",
    "time_lag_mod = []\n",
    "time_lag_mod.append(delta_max)\n",
    "time_lag_mod.append(delta_min)"
   ]
  },
  {
   "cell_type": "code",
   "execution_count": 23,
   "metadata": {
    "collapsed": false
   },
   "outputs": [
    {
     "data": {
      "image/png": "[encoded data removed]",
      "text/plain": [
       "<matplotlib.figure.Figure at 0x7f7a241cd210>"
      ]
     },
     "metadata": {},
     "output_type": "display_data"
    }
   ],
   "source": [
    "fig = plot_height_time_stn(ssh_model, ssh_obs, time_lag_mod, 'New Westminster')"
   ]
  },
  {
   "cell_type": "markdown",
   "metadata": {},
   "source": [
    "* The difference of high and low water level(tide amplitude) for New West is 2.8 feet(0.85m). Compared with paper's, which is 4.5 feet(1.3716m). Difference is 0.5m. Ours is too weak, maybe I need to widen the river to make tide propagate?                                                                                           "
   ]
  },
  {
   "cell_type": "markdown",
   "metadata": {},
   "source": [
    "Mission"
   ]
  },
  {
   "cell_type": "code",
   "execution_count": 24,
   "metadata": {
    "collapsed": true
   },
   "outputs": [],
   "source": [
    "## grid cell for Mission is [500, 367]\n",
    "mima, mimi, tmima, tmimi = readoff_stn_highlow_waterlevel_new(t_end, t_orig, 500, 367,ssh_mod, tt)"
   ]
  },
  {
   "cell_type": "code",
   "execution_count": 25,
   "metadata": {
    "collapsed": true
   },
   "outputs": [],
   "source": [
    "##combine both max and min water level for MISIION\n",
    "ssh_model = []\n",
    "ssh_model.append(mima)\n",
    "ssh_model.append(mimi)"
   ]
  },
  {
   "cell_type": "code",
   "execution_count": 26,
   "metadata": {
    "collapsed": true
   },
   "outputs": [],
   "source": [
    "delta_max, delta_min = get_time_lag(tmimi, time_min, tmima, time_max)"
   ]
  },
  {
   "cell_type": "code",
   "execution_count": 27,
   "metadata": {
    "collapsed": true
   },
   "outputs": [],
   "source": [
    "##combine both time lag for high and low water level at Mission\n",
    "time_lag_mod = []\n",
    "time_lag_mod.append(delta_max)\n",
    "time_lag_mod.append(delta_min)"
   ]
  },
  {
   "cell_type": "code",
   "execution_count": 28,
   "metadata": {
    "collapsed": false
   },
   "outputs": [
    {
     "data": {
      "image/png": "[encoded data removed]",
      "text/plain": [
       "<matplotlib.figure.Figure at 0x7f79f77766d0>"
      ]
     },
     "metadata": {},
     "output_type": "display_data"
    }
   ],
   "source": [
    "fig = plot_height_time_stn(ssh_model, ssh_obs, time_lag_mod, 'Mission')"
   ]
  },
  {
   "cell_type": "markdown",
   "metadata": {},
   "source": [
    "* Mission in Ages model show vertical line that are not affected by tide. I will compare it with obs from EC to check."
   ]
  },
  {
   "cell_type": "markdown",
   "metadata": {},
   "source": [
    "# Compare with EC data"
   ]
  },
  {
   "cell_type": "code",
   "execution_count": 29,
   "metadata": {
    "collapsed": false
   },
   "outputs": [],
   "source": [
    "obs = pd.read_excel('08MH024_HRLY_2015.xls', skiprows = 0)"
   ]
  },
  {
   "cell_type": "code",
   "execution_count": 30,
   "metadata": {
    "collapsed": false
   },
   "outputs": [],
   "source": [
    "tt, wl_zoom = zoomin_tide_EC(obs)"
   ]
  },
  {
   "cell_type": "code",
   "execution_count": 31,
   "metadata": {
    "collapsed": false
   },
   "outputs": [],
   "source": [
    "obs_max, obs_min, t_max, t_min = find_highlow_tide_EC(tt, wl_zoom)"
   ]
  },
  {
   "cell_type": "code",
   "execution_count": 32,
   "metadata": {
    "collapsed": true
   },
   "outputs": [],
   "source": [
    "##combine both max and min water level for MISIION with EC obs\n",
    "ssh_obs_EC = []\n",
    "ssh_obs_EC.append(obs_max)\n",
    "ssh_obs_EC.append(obs_min)"
   ]
  },
  {
   "cell_type": "code",
   "execution_count": 33,
   "metadata": {
    "collapsed": true
   },
   "outputs": [],
   "source": [
    "delta_max_obs, delta_min_obs = get_time_lag(t_min, time_min, t_max, time_max)"
   ]
  },
  {
   "cell_type": "code",
   "execution_count": 34,
   "metadata": {
    "collapsed": true
   },
   "outputs": [],
   "source": [
    "##combine both time lag for high and low water level at Mission with EC obs\n",
    "time_lag_obs = []\n",
    "time_lag_obs.append(delta_max_obs)\n",
    "time_lag_obs.append(delta_min_obs)"
   ]
  },
  {
   "cell_type": "code",
   "execution_count": 35,
   "metadata": {
    "collapsed": false
   },
   "outputs": [
    {
     "data": {
      "image/png": "[encoded data removed]",
      "text/plain": [
       "<matplotlib.figure.Figure at 0x7f7a241cd0d0>"
      ]
     },
     "metadata": {},
     "output_type": "display_data"
    }
   ],
   "source": [
    "fig = plot_height_time_stn(ssh_obs_EC, ssh_obs, time_lag_obs, 'Mission')"
   ]
  },
  {
   "cell_type": "markdown",
   "metadata": {},
   "source": [
    "* Amplitude of tidal height at Mission in the model is higher than obs from EC."
   ]
  },
  {
   "cell_type": "markdown",
   "metadata": {},
   "source": [
    "Deas Island"
   ]
  },
  {
   "cell_type": "code",
   "execution_count": 36,
   "metadata": {
    "collapsed": true
   },
   "outputs": [],
   "source": [
    "## grid cell for Deas Island is [414, 328]\n",
    "mima, mimi, tmima, tmimi = readoff_stn_highlow_waterlevel_new(t_end, t_orig, 414, 328,ssh_mod, tt)"
   ]
  },
  {
   "cell_type": "code",
   "execution_count": 37,
   "metadata": {
    "collapsed": true
   },
   "outputs": [],
   "source": [
    "##combine both max and min water level for DEAS ISLAND\n",
    "ssh_model = []\n",
    "ssh_model.append(mima)\n",
    "ssh_model.append(mimi)"
   ]
  },
  {
   "cell_type": "code",
   "execution_count": 38,
   "metadata": {
    "collapsed": true
   },
   "outputs": [],
   "source": [
    "delta_max, delta_min = get_time_lag(tmimi, time_min, tmima, time_max)"
   ]
  },
  {
   "cell_type": "code",
   "execution_count": 39,
   "metadata": {
    "collapsed": true
   },
   "outputs": [],
   "source": [
    "##combine both time lag for high and low water level at Deas Island\n",
    "time_lag_mod = []\n",
    "time_lag_mod.append(delta_max)\n",
    "time_lag_mod.append(delta_min)"
   ]
  },
  {
   "cell_type": "code",
   "execution_count": 40,
   "metadata": {
    "collapsed": false
   },
   "outputs": [
    {
     "data": {
      "image/png": "[encoded data removed]",
      "text/plain": [
       "<matplotlib.figure.Figure at 0x7f79f7910950>"
      ]
     },
     "metadata": {},
     "output_type": "display_data"
    }
   ],
   "source": [
    "fig = plot_height_time_stn(ssh_model, ssh_obs, time_lag_mod, 'Deas Island')"
   ]
  },
  {
   "cell_type": "markdown",
   "metadata": {},
   "source": [
    "*  Our Deas Island too far from mouth? Will compare with obs from EC."
   ]
  },
  {
   "cell_type": "markdown",
   "metadata": {},
   "source": [
    "Sandheads"
   ]
  },
  {
   "cell_type": "code",
   "execution_count": 41,
   "metadata": {
    "collapsed": true
   },
   "outputs": [],
   "source": [
    "## grid cell for Sandheads is [426, 293]\n",
    "mima, mimi, tmima, tmimi = readoff_stn_highlow_waterlevel_new(t_end, t_orig, 426, 293,ssh_mod, tt)"
   ]
  },
  {
   "cell_type": "code",
   "execution_count": 42,
   "metadata": {
    "collapsed": true
   },
   "outputs": [],
   "source": [
    "##combine both max and min water level for SANDHEADS\n",
    "ssh_model = []\n",
    "ssh_model.append(mima)\n",
    "ssh_model.append(mimi)"
   ]
  },
  {
   "cell_type": "code",
   "execution_count": 43,
   "metadata": {
    "collapsed": true
   },
   "outputs": [],
   "source": [
    "delta_max, delta_min = get_time_lag(tmimi, time_min, tmima, time_max)"
   ]
  },
  {
   "cell_type": "code",
   "execution_count": 44,
   "metadata": {
    "collapsed": true
   },
   "outputs": [],
   "source": [
    "##combine both time lag for high and low water level at Sandheads\n",
    "time_lag_mod = []\n",
    "time_lag_mod.append(delta_max)\n",
    "time_lag_mod.append(delta_min)"
   ]
  },
  {
   "cell_type": "code",
   "execution_count": 45,
   "metadata": {
    "collapsed": false
   },
   "outputs": [
    {
     "data": {
      "image/png": "[encoded data removed]",
      "text/plain": [
       "<matplotlib.figure.Figure at 0x7f79f76c1990>"
      ]
     },
     "metadata": {},
     "output_type": "display_data"
    }
   ],
   "source": [
    "fig = plot_height_time_stn(ssh_model, ssh_obs, time_lag_mod, 'Sandheads')"
   ]
  },
  {
   "cell_type": "markdown",
   "metadata": {},
   "source": [
    "* Compared with Ages model at Steveston, too high water level for both ebb tide and flood tide."
   ]
  },
  {
   "cell_type": "markdown",
   "metadata": {},
   "source": [
    "* Only at New West we got historical data from 1970-1973, with about 0.45m height difference in ebb tide(lower low tidal height). Does this 0.45m difference really matter much for tidal propagation? "
   ]
  },
  {
   "cell_type": "code",
   "execution_count": null,
   "metadata": {
    "collapsed": true
   },
   "outputs": [],
   "source": []
  }
 ],
 "metadata": {
  "kernelspec": {
   "display_name": "Python 2",
   "language": "python",
   "name": "python2"
  },
  "language_info": {
   "codemirror_mode": {
    "name": "ipython",
    "version": 2
   },
   "file_extension": ".py",
   "mimetype": "text/x-python",
   "name": "python",
   "nbconvert_exporter": "python",
   "pygments_lexer": "ipython2",
   "version": "2.7.10"
  }
 },
 "nbformat": 4,
 "nbformat_minor": 0
}
