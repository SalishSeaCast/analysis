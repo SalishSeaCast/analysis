{
 "cells": [
  {
   "cell_type": "markdown",
   "metadata": {
    "collapsed": true
   },
   "source": [
    "# Smooth bathymetry  -grab from Susan's notebook"
   ]
  },
  {
   "cell_type": "code",
   "execution_count": 1,
   "metadata": {
    "collapsed": true
   },
   "outputs": [],
   "source": [
    "%matplotlib inline\n",
    "import matplotlib.pyplot as plt\n",
    "import netCDF4 as nc\n",
    "import numpy as np"
   ]
  },
  {
   "cell_type": "code",
   "execution_count": 2,
   "metadata": {
    "collapsed": false
   },
   "outputs": [
    {
     "name": "stdout",
     "output_type": "stream",
     "text": [
      "(898, 398)\n"
     ]
    }
   ],
   "source": [
    "Fraser = nc.Dataset('bathy_meter_SalishSea3.nc','r')\n",
    "bathy = Fraser.variables['Bathymetry'][:]\n",
    "print bathy.shape"
   ]
  },
  {
   "cell_type": "code",
   "execution_count": 3,
   "metadata": {
    "collapsed": true
   },
   "outputs": [],
   "source": [
    "def find_max(bathy):\n",
    "    i,j = np.unravel_index(bathy.argmax(), bathy.shape)\n",
    "    return i,j"
   ]
  },
  {
   "cell_type": "code",
   "execution_count": 4,
   "metadata": {
    "collapsed": true
   },
   "outputs": [],
   "source": [
    "def find_slope(bathy,di,dj):\n",
    "    imax, jmax = bathy.shape\n",
    "    Da = 0.5*(bathy[di:,dj:]+bathy[0:imax-di,0:jmax-dj])\n",
    "    Dd = bathy[di:,dj:]-bathy[0:imax-di,0:jmax-dj]\n",
    "    return Dd/Da"
   ]
  },
  {
   "cell_type": "code",
   "execution_count": 5,
   "metadata": {
    "collapsed": true
   },
   "outputs": [],
   "source": [
    "def smooth(gamma,bathy,i,j,di,dj):\n",
    "    a = 0.5*(bathy[i,j]+bathy[i+di,j+dj])\n",
    "    if bathy[i,j] < bathy[i+di,j+dj]:\n",
    "        change = gamma\n",
    "    else:\n",
    "        change = -gamma\n",
    "    bathy[i,j] = bathy[i,j] + gamma*a\n",
    "    bathy[i+di,j+dj] = bathy[i+di,j+dj] - gamma*a"
   ]
  },
  {
   "cell_type": "code",
   "execution_count": 6,
   "metadata": {
    "collapsed": false
   },
   "outputs": [
    {
     "name": "stdout",
     "output_type": "stream",
     "text": [
      "0.8\n",
      "--\n"
     ]
    }
   ],
   "source": [
    "gamma = 0.2\n",
    "maxslope = 0.8\n",
    "\n",
    "slopei = find_slope(bathy,1,0)\n",
    "i,j = find_max(slopei)\n",
    "slopej = find_slope(bathy,0,1)\n",
    "k,l = find_max(slopej)\n",
    "while np.maximum(slopei[i,j],slopej[k,l]) > maxslope:\n",
    "    if slopei[i,j] > slopej[k,l]:\n",
    "        smooth(gamma,bathy,i,j,1,0)\n",
    "    else:\n",
    "        smooth(gamma,bathy,k,l,0,1)\n",
    "    slopei = find_slope(bathy,1,0)\n",
    "    i,j = find_max(slopei)\n",
    "    slopej = find_slope(bathy,0,1)\n",
    "    k,l = find_max(slopej)\n",
    "\n",
    "print slopei[i,j]\n",
    "print slopej[i,j]"
   ]
  },
  {
   "cell_type": "markdown",
   "metadata": {},
   "source": [
    "# Create new t,s file for new bathymetry"
   ]
  },
  {
   "cell_type": "code",
   "execution_count": 1,
   "metadata": {
    "collapsed": true
   },
   "outputs": [],
   "source": [
    "from __future__ import division\n",
    "from salishsea_tools import nc_tools\n",
    "from salishsea_tools import tidetools\n",
    "import matplotlib.pyplot as plt\n",
    "import netCDF4 as nc\n",
    "import numpy as np\n",
    "%matplotlib inline"
   ]
  },
  {
   "cell_type": "code",
   "execution_count": 11,
   "metadata": {
    "collapsed": false
   },
   "outputs": [
    {
     "name": "stdout",
     "output_type": "stream",
     "text": [
      "(898, 398)\n"
     ]
    }
   ],
   "source": [
    "#old bathymetry inforamtion\n",
    "old_path = '../nemo-forcing/grid/bathy_meter_SalishSea2.nc'\n",
    "old_bathy = nc.Dataset(old_path, 'r')\n",
    "old_depth = old_bathy.variables['Bathymetry']\n",
    "print old_depth.shape"
   ]
  },
  {
   "cell_type": "code",
   "execution_count": 3,
   "metadata": {
    "collapsed": true
   },
   "outputs": [],
   "source": [
    "#old initial file\n",
    "initial_path = '/ocean/dlatorne/MEOPAR/SalishSea/results/spin-up/18oct27oct/SalishSea_03170880_restart.nc'\n",
    "T_S = nc.Dataset(initial_path, 'r')"
   ]
  },
  {
   "cell_type": "code",
   "execution_count": 10,
   "metadata": {
    "collapsed": false
   },
   "outputs": [
    {
     "name": "stdout",
     "output_type": "stream",
     "text": [
      "[u'nav_lon', u'nav_lat', u'nav_lev', u'time_counter', u'kt', u'ndastp', u'adatrj', u'ssh_ibb', u'rnf_b', u'rnf_hc_b', u'rnf_sc_b', u'utau_b', u'vtau_b', u'qns_b', u'emp_b', u'emps_b', u'en', u'avt', u'avm', u'avmu', u'avmv', u'mxln', u'sbc_hc_b', u'sbc_sc_b', u'qsr_hc_b', u'un_b', u'vn_b', u'sshn_b', u'rdt', u'rdttra1', u'ub', u'vb', u'tb', u'sb', u'rotb', u'hdivb', u'sshb', u'fse3t_b', u'un', u'vn', u'tn', u'sn', u'rotn', u'hdivn', u'sshn', u'rhop']\n",
      "(40,)\n"
     ]
    }
   ],
   "source": [
    "nc_tools.show_variables(T_S)\n",
    "old_T = T_S.variables['tb'][0] # ommit the first dimension\n",
    "old_S = T_S.variables['sb'][0]\n",
    "depths = T_S.variables['nav_lev']\n",
    "lon = T_S.variables['nav_lon']\n",
    "lat = T_S.variables['nav_lat']\n",
    "print depths.shape"
   ]
  },
  {
   "cell_type": "code",
   "execution_count": 5,
   "metadata": {
    "collapsed": false
   },
   "outputs": [
    {
     "name": "stdout",
     "output_type": "stream",
     "text": [
      "[u'nav_lon', u'nav_lat', u'Bathymetry']\n"
     ]
    },
    {
     "data": {
      "text/plain": [
       "<matplotlib.colorbar.Colorbar instance at 0x7f8f1ee549e0>"
      ]
     },
     "execution_count": 5,
     "metadata": {},
     "output_type": "execute_result"
    },
    {
     "data": {
      "image/png": "[encoded data removed]",
      "text/plain": [
       "<matplotlib.figure.Figure at 0x7f8f0df66490>"
      ]
     },
     "metadata": {},
     "output_type": "display_data"
    }
   ],
   "source": [
    "#read in new bathymetry\n",
    "bathy_path = 'bathy_meter_SalishSea3.nc'\n",
    "bathy = nc.Dataset(bathy_path, 'r')\n",
    "new_depth = bathy.variables['Bathymetry']\n",
    "nc_tools.show_variables(bathy)\n",
    "plt.pcolormesh(old_depth[350: 440, 280 : 350] -new_depth[350: 440, 280 : 350])\n",
    "#plt.pcolormesh(old_depth[300: 420, 300 : 350])\n",
    "plt.colorbar()"
   ]
  },
  {
   "cell_type": "markdown",
   "metadata": {},
   "source": []
  }
 ],
 "metadata": {
  "kernelspec": {
   "display_name": "Python 2",
   "language": "python",
   "name": "python2"
  },
  "language_info": {
   "codemirror_mode": {
    "name": "ipython",
    "version": 2
   },
   "file_extension": ".py",
   "mimetype": "text/x-python",
   "name": "python",
   "nbconvert_exporter": "python",
   "pygments_lexer": "ipython2",
   "version": "2.7.9"
  }
 },
 "nbformat": 4,
 "nbformat_minor": 0
}
