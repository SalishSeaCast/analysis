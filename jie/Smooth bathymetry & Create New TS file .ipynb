{
 "cells": [
  {
   "cell_type": "markdown",
   "metadata": {
    "collapsed": true
   },
   "source": [
    "# Smooth bathymetry  -grab from Susan's notebook"
   ]
  },
  {
   "cell_type": "code",
   "execution_count": 1,
   "metadata": {
    "collapsed": true
   },
   "outputs": [],
   "source": [
    "from __future__ import division, print_function\n",
    "from salishsea_tools import (nc_tools,viz_tools,tidetools)\n",
    "from salishsea_tools.nowcast import figures\n",
    "import scipy.io as sio\n",
    "import matplotlib.pyplot as plt\n",
    "import netCDF4 as nc\n",
    "import numpy as np\n",
    "%matplotlib inline"
   ]
  },
  {
   "cell_type": "code",
   "execution_count": 2,
   "metadata": {
    "collapsed": false
   },
   "outputs": [
    {
     "data": {
      "text/plain": [
       "13.125"
      ]
     },
     "execution_count": 2,
     "metadata": {},
     "output_type": "execute_result"
    }
   ],
   "source": [
    "bathy_3 = nc.Dataset('bathy_meter_SalishSea3.nc','r+' )\n",
    "bathyy_3 = bathy_3.variables['Bathymetry'][:]\n",
    "bathyy_3[418,395]"
   ]
  },
  {
   "cell_type": "code",
   "execution_count": 3,
   "metadata": {
    "collapsed": true
   },
   "outputs": [],
   "source": [
    "def find_max(bathy):\n",
    "    i,j = np.unravel_index(bathy.argmax(), bathy.shape)\n",
    "    return i,j"
   ]
  },
  {
   "cell_type": "code",
   "execution_count": 4,
   "metadata": {
    "collapsed": true
   },
   "outputs": [],
   "source": [
    "def find_slope(bathy,di,dj):\n",
    "    imax, jmax = bathy.shape\n",
    "    Da = 0.5*(bathy[di:,dj:]+bathy[0:imax-di,0:jmax-dj])\n",
    "    Dd = bathy[di:,dj:]-bathy[0:imax-di,0:jmax-dj]\n",
    "    return Dd/Da"
   ]
  },
  {
   "cell_type": "code",
   "execution_count": 5,
   "metadata": {
    "collapsed": true
   },
   "outputs": [],
   "source": [
    "def smooth(gamma,bathy,i,j,di,dj):\n",
    "    a = 0.5*(bathy[i,j]+bathy[i+di,j+dj])\n",
    "    if bathy[i,j] < bathy[i+di,j+dj]:\n",
    "        change = gamma\n",
    "    else:\n",
    "        change = -gamma\n",
    "    bathy[i,j] = bathy[i,j] + gamma*a\n",
    "    bathy[i+di,j+dj] = bathy[i+di,j+dj] - gamma*a"
   ]
  },
  {
   "cell_type": "code",
   "execution_count": 6,
   "metadata": {
    "collapsed": false
   },
   "outputs": [
    {
     "name": "stdout",
     "output_type": "stream",
     "text": [
      "0.8\n",
      "--\n"
     ]
    }
   ],
   "source": [
    "gamma = 0.2\n",
    "maxslope = 0.8\n",
    "\n",
    "slopei = find_slope(bathyy_3,1,0)\n",
    "i,j = find_max(slopei)\n",
    "slopej = find_slope(bathyy_3,0,1)\n",
    "k,l = find_max(slopej)\n",
    "while np.maximum(slopei[i,j],slopej[k,l]) > maxslope:\n",
    "    if slopei[i,j] > slopej[k,l]:\n",
    "        smooth(gamma,bathyy_3,i,j,1,0)\n",
    "    else:\n",
    "        smooth(gamma,bathyy_3,k,l,0,1)\n",
    "    slopei = find_slope(bathyy_3,1,0)\n",
    "    i,j = find_max(slopei)\n",
    "    slopej = find_slope(bathyy_3,0,1)\n",
    "    k,l = find_max(slopej)\n",
    "\n",
    "print (slopei[i,j])\n",
    "print (slopej[i,j])"
   ]
  },
  {
   "cell_type": "code",
   "execution_count": 7,
   "metadata": {
    "collapsed": false
   },
   "outputs": [],
   "source": [
    "bathy_3.close()"
   ]
  },
  {
   "cell_type": "markdown",
   "metadata": {},
   "source": [
    "# Create new t,s file for new bathymetry"
   ]
  },
  {
   "cell_type": "code",
   "execution_count": 8,
   "metadata": {
    "collapsed": true
   },
   "outputs": [],
   "source": [
    "from __future__ import division\n",
    "from salishsea_tools import nc_tools\n",
    "from salishsea_tools import tidetools\n",
    "import matplotlib.pyplot as plt\n",
    "import netCDF4 as nc\n",
    "import numpy as np\n",
    "%matplotlib inline"
   ]
  },
  {
   "cell_type": "code",
   "execution_count": 9,
   "metadata": {
    "collapsed": false
   },
   "outputs": [],
   "source": [
    "#old bathymetry inforamtion\n",
    "old_path = '../nemo-forcing/grid/bathy_meter_SalishSea2.nc'\n",
    "old_bathy = nc.Dataset(old_path, 'r')\n",
    "old_depth = old_bathy.variables['Bathymetry']"
   ]
  },
  {
   "cell_type": "code",
   "execution_count": 10,
   "metadata": {
    "collapsed": false
   },
   "outputs": [],
   "source": [
    "#old initial file\n",
    "initial_path = '/data/dlatorne/MEOPAR/SalishSea/nowcast/14jun15/SalishSea_02401920_restart.nc'\n",
    "T_S = nc.Dataset(initial_path, 'r')"
   ]
  },
  {
   "cell_type": "code",
   "execution_count": 11,
   "metadata": {
    "collapsed": false
   },
   "outputs": [
    {
     "name": "stdout",
     "output_type": "stream",
     "text": [
      "[ 14.77021985  14.34337293  14.20415199  13.84946759  13.67585241\n",
      "  13.59131301  13.64740562  13.5873905   13.43705051  13.34423781\n",
      "  13.15459748  13.03363     12.96472808  12.91797194  12.89496075\n",
      "  12.87349044  12.84061662  12.78115335  12.70208798  12.59582154\n",
      "  12.51719442  12.35120913  12.09723483   0.           0.           0.           0.\n",
      "   0.           0.           0.           0.           0.           0.           0.\n",
      "   0.           0.           0.           0.           0.           0.        ]\n",
      "[   0.5000003     1.5000031     2.50001144    3.50003052    4.50007057\n",
      "    5.50015068    6.50031042    7.50062323    8.50123596    9.50243282\n",
      "   10.50476551   11.50931168   12.51816654   13.53541183   14.56898212\n",
      "   15.63428783   16.76117325   18.00713539   19.48178482   21.38997841\n",
      "   24.10025597   28.22991562   34.68575668   44.51772308   58.48433304\n",
      "   76.58558655   98.06295776  121.86651611  147.08946228  173.11448669\n",
      "  199.57304382  226.26029968  253.06663513  279.93453979  306.834198\n",
      "  333.75018311  360.67453003  387.60321045  414.53408813  441.46609497]\n"
     ]
    }
   ],
   "source": [
    "#nc_tools.show_variables(T_S)\n",
    "old_T = T_S.variables['tb'][0] # omit the first dimension\n",
    "old_S = T_S.variables['sb'][0]\n",
    "depths = T_S.variables['nav_lev']\n",
    "lon = T_S.variables['nav_lon']\n",
    "lat = T_S.variables['nav_lat']\n",
    "print (old_T[:, 427, 292])\n",
    "print(depths[0:40])"
   ]
  },
  {
   "cell_type": "code",
   "execution_count": 16,
   "metadata": {
    "collapsed": false
   },
   "outputs": [
    {
     "name": "stdout",
     "output_type": "stream",
     "text": [
      "-0.426846914034\n"
     ]
    }
   ],
   "source": [
    "print (old_T[1, 427, 292] - old_T[0, 427, 292])"
   ]
  },
  {
   "cell_type": "code",
   "execution_count": 12,
   "metadata": {
    "collapsed": false
   },
   "outputs": [
    {
     "name": "stdout",
     "output_type": "stream",
     "text": [
      "(898, 398)\n"
     ]
    },
    {
     "data": {
      "text/plain": [
       "<matplotlib.colorbar.Colorbar instance at 0x7fa3ab154cb0>"
      ]
     },
     "execution_count": 12,
     "metadata": {},
     "output_type": "execute_result"
    },
    {
     "data": {
      "image/png": "[encoded data removed]",
      "text/plain": [
       "<matplotlib.figure.Figure at 0x7fa3ab277710>"
      ]
     },
     "metadata": {},
     "output_type": "display_data"
    }
   ],
   "source": [
    "#read in new bathymetry\n",
    "new_path = '/ocean/jieliu/research/meopar/river-treatment/bathy_meter_SalishSea3.nc'\n",
    "Fraser = nc.Dataset(new_path, 'r')\n",
    "bathy = Fraser.variables['Bathymetry'][:]\n",
    "print(bathy.shape)\n",
    "plt.pcolormesh(bathy[350: 440, 280 : 398])\n",
    "plt.colorbar()"
   ]
  },
  {
   "cell_type": "code",
   "execution_count": 13,
   "metadata": {
    "collapsed": false
   },
   "outputs": [],
   "source": [
    "floor = np.empty_like(depths)\n",
    "ceil = np.empty_like(depths)\n",
    "ceil[0] = 0.\n",
    "floor[0] = 2*depths[0]\n",
    "for k in range(1,40):\n",
    "    ceil[k] = floor[k-1]\n",
    "    floor[k] = 2*depths[k] -floor[k-1]"
   ]
  },
  {
   "cell_type": "code",
   "execution_count": 15,
   "metadata": {
    "collapsed": false
   },
   "outputs": [],
   "source": [
    "S = np.empty_like(old_S)\n",
    "T = np.empty_like(old_T)\n",
    "#for every cell with top of cell depth < bathymetry, use old TS, if old TS=0, find closest point and use that.\n",
    "for k in range(40):\n",
    "    for j in range(398):\n",
    "        for i in range(898):\n",
    "            if ceil[k] < bathy[i,j]:\n",
    "                if old_S[k,i,j] <> 0:\n",
    "                    S[k,i,j] = old_S[k, i, j]\n",
    "                    T[k,i,j] = old_T[k, i, j]\n",
    "                else:\n",
    "                    # closest neighbour thing\n",
    "                    masked_array = np.ma.array(old_S[k], mask = old_S[k] == 0)\n",
    "                    X, Y = tidetools.find_closest_model_point(lon[i,j], lat[i,j], lon, lat, masked_array)\n",
    "                    S[k, i, j] = old_S[k, X, Y]\n",
    "                    T[k, i, j] = old_T[k, X, Y]"
   ]
  },
  {
   "cell_type": "code",
   "execution_count": 37,
   "metadata": {
    "collapsed": false
   },
   "outputs": [
    {
     "name": "stdout",
     "output_type": "stream",
     "text": [
      "file format: NETCDF4\n",
      "Conventions: CF-1.6\n",
      "title: Salinity Temperature Initial Conditions based on Nowcast June 14, 2015 for extended Fraser river channel\n",
      "institution: Dept of Earth, Ocean & Atmospheric Sciences, University of British Columbia\n",
      "source: REQUIRED\n",
      "references: REQUIRED\n",
      "history: [2015-06-26 11:22:22] Created netCDF4 zlib=True dataset.\n",
      "comment: Salinity and Temperature conditions from nowcast June 14, 2015 onto extended Fraser bathymetry\n",
      "<type 'netCDF4.Dimension'>: name = 'y', size = 898\n",
      "\n",
      "<type 'netCDF4.Dimension'>: name = 'x', size = 398\n",
      "\n",
      "<type 'netCDF4.Dimension'>: name = 'deptht', size = 40\n",
      "\n",
      "<type 'netCDF4.Dimension'> (unlimited): name = 'time_counter', size = 0\n",
      "\n"
     ]
    }
   ],
   "source": [
    "# build nc file\n",
    "new_TS = nc.Dataset('TSforextendedFraserRiver.nc', 'w')\n",
    "nc_tools.init_dataset_attrs(\n",
    "    new_TS, \n",
    "    title='Salinity Temperature Initial Conditions based on Nowcast June 14, 2015 for extended Fraser river channel', \n",
    "    notebook_name='Smooth bathymetry & Create New TS file', \n",
    "    nc_filepath='/ocean/jieliu/research/meopar/nemo-forcing/initial_strat/TSforextendedFraserRiver.nc',\n",
    "    comment='Salinity and Temperature conditions from nowcast June 14, 2015 onto extended Fraser bathymetry')\n",
    "new_TS.createDimension('y', 898)\n",
    "new_TS.createDimension('x', 398)\n",
    "new_TS.createDimension('deptht',size = len(depths))\n",
    "new_TS.createDimension('time_counter', None)\n",
    "nc_tools.show_dimensions(new_TS)\n",
    "# show variables\n",
    "nav_lat = new_TS.createVariable('nav_lat', 'float32', ('y','x'))\n",
    "nav_lat.long_name = 'Latitude'\n",
    "nav_lat.units = 'degrees_north'\n",
    "nav_lat = lat\n",
    "nav_lon = new_TS.createVariable('nav_lon', 'float32', ('y','x'))\n",
    "nav_lon.long_name = 'Longitude'\n",
    "nav_lon.units = 'degrees_east'\n",
    "nav_lon = lon\n",
    "deptht = new_TS.createVariable('deptht', 'float32', ('deptht'))\n",
    "deptht.long_name = 'Depth'\n",
    "deptht.units = 'm'\n",
    "deptht.positive = 'down'\n",
    "deptht.valid_range = np.array((4., 428.))##minimum depth 4m\n",
    "deptht = depths\n",
    "time_counter = new_TS.createVariable('time_counter', 'float32', ('time_counter'))\n",
    "time_counter.units = 'seconds since 2015-06-14 0:00:00'\n",
    "time_counter.long_name = 'Time axis'\n",
    "vosaline = new_TS.createVariable('vosaline', 'float32', \n",
    "                               ('time_counter','deptht','y','x'))\n",
    "vosaline.units = 'none'\n",
    "vosaline.long_name = 'Practical Salinity'  \n",
    "vosaline.coordinates = 'nav_lon nav_lat deptht time_counter'\n",
    "vosaline.grid = 'SalishSea3, extended Fraser'\n",
    "vosaline[0] = S\n",
    "votemper = new_TS.createVariable('votemper', 'float32', \n",
    "                               ('time_counter','deptht','y','x'))\n",
    "votemper.units = 'degC'\n",
    "votemper.long_name = 'Temperature' \n",
    "votemper.coordinates = 'nav_lon nav_lat deptht time_counter'\n",
    "votemper[0] = T\n",
    "new_TS.history = \"\"\"[2015-06-14] Created\"\"\""
   ]
  },
  {
   "cell_type": "code",
   "execution_count": null,
   "metadata": {
    "collapsed": true
   },
   "outputs": [],
   "source": []
  }
 ],
 "metadata": {
  "kernelspec": {
   "display_name": "Python 2",
   "language": "python",
   "name": "python2"
  },
  "language_info": {
   "codemirror_mode": {
    "name": "ipython",
    "version": 2
   },
   "file_extension": ".py",
   "mimetype": "text/x-python",
   "name": "python",
   "nbconvert_exporter": "python",
   "pygments_lexer": "ipython2",
   "version": "2.7.9"
  }
 },
 "nbformat": 4,
 "nbformat_minor": 0
}
