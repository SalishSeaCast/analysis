{
 "cells": [
  {
   "cell_type": "markdown",
   "metadata": {},
   "source": [
    "* Try to combine files from different processors"
   ]
  },
  {
   "cell_type": "code",
   "execution_count": 1,
   "metadata": {
    "collapsed": true
   },
   "outputs": [],
   "source": [
    "from matplotlib import pylab\n",
    "import matplotlib.pyplot as plt\n",
    "import netCDF4 as nc\n",
    "import numpy as np\n",
    "from mpl_toolkits.mplot3d import Axes3D\n",
    "from salishsea_tools import tidetools\n",
    "from salishsea_tools import (nc_tools,viz_tools)\n",
    "import matplotlib.cm as cm\n",
    "from matplotlib import animation\n",
    "from numpy import *\n",
    "from pylab import *\n",
    "%matplotlib inline"
   ]
  },
  {
   "cell_type": "code",
   "execution_count": 2,
   "metadata": {
    "collapsed": false
   },
   "outputs": [],
   "source": [
    "plume_33 = nc.Dataset('/data/jieliu/MEOPAR/river-treatment/1h_plume/1h_Plume_T_0033.nc')\n",
    "plume_34 = nc.Dataset('/data/jieliu/MEOPAR/river-treatment/1h_plume/1h_Plume_T_0034.nc')\n",
    "plume_35 = nc.Dataset('/data/jieliu/MEOPAR/river-treatment/1h_plume/1h_Plume_T_0035.nc')\n",
    "plume_39 = nc.Dataset('/data/jieliu/MEOPAR/river-treatment/1h_plume/1h_Plume_T_0039.nc')\n",
    "plume_40 = nc.Dataset('/data/jieliu/MEOPAR/river-treatment/1h_plume/1h_Plume_T_0040.nc')\n",
    "plume_41 = nc.Dataset('/data/jieliu/MEOPAR/river-treatment/1h_plume/1h_Plume_T_0041.nc')\n",
    "plume_33u = nc.Dataset('/data/jieliu/MEOPAR/river-treatment/1h_plume/1h_Plume_U_0033.nc')\n",
    "plume_34u = nc.Dataset('/data/jieliu/MEOPAR/river-treatment/1h_plume/1h_Plume_U_0034.nc')\n",
    "plume_33v = nc.Dataset('/data/jieliu/MEOPAR/river-treatment/1h_plume/1h_Plume_V_0033.nc')\n",
    "plume_34u = nc.Dataset('/data/jieliu/MEOPAR/river-treatment/1h_plume/1h_Plume_V_0034.nc')\n",
    "#aa =nc.Dataset('/ocean/jieliu/research/meopar/river-treatment/14days_norefraserxml/16jun15/SalishSea_1h_20150616_20150629_grid_T.nc')"
   ]
  },
  {
   "cell_type": "markdown",
   "metadata": {},
   "source": [
    "* Does the number 0033, 0034 etc represent each processor??? Then 33,34,35 are the neighbor processors that would be easy to get connects with longitude, latitude and salinity??"
   ]
  },
  {
   "cell_type": "code",
   "execution_count": 3,
   "metadata": {
    "collapsed": false
   },
   "outputs": [
    {
     "name": "stdout",
     "output_type": "stream",
     "text": [
      "[u'nav_lon', u'nav_lat', u'deptht', u'time_counter', u'time_counter_bnds', u'sossheig', u'votemper', u'vosaline', u'rain_rate', u'snow_rate']\n"
     ]
    }
   ],
   "source": [
    "nc_tools.show_variables(plume_33)"
   ]
  },
  {
   "cell_type": "code",
   "execution_count": 4,
   "metadata": {
    "collapsed": false
   },
   "outputs": [
    {
     "data": {
      "text/plain": [
       "(140, 40, 36, 6)"
      ]
     },
     "execution_count": 4,
     "metadata": {},
     "output_type": "execute_result"
    }
   ],
   "source": [
    "saline33 = plume_33.variables['vosaline']\n",
    "saline33.shape"
   ]
  },
  {
   "cell_type": "code",
   "execution_count": 5,
   "metadata": {
    "collapsed": false
   },
   "outputs": [
    {
     "data": {
      "text/plain": [
       "(140, 40, 36, 66)"
      ]
     },
     "execution_count": 5,
     "metadata": {},
     "output_type": "execute_result"
    }
   ],
   "source": [
    "saline34 = plume_34.variables['vosaline']\n",
    "saline34.shape"
   ]
  },
  {
   "cell_type": "code",
   "execution_count": 6,
   "metadata": {
    "collapsed": false
   },
   "outputs": [
    {
     "data": {
      "text/plain": [
       "(140, 40, 36, 66)"
      ]
     },
     "execution_count": 6,
     "metadata": {},
     "output_type": "execute_result"
    }
   ],
   "source": [
    "saline35 = plume_35.variables['vosaline']\n",
    "saline35.shape"
   ]
  },
  {
   "cell_type": "code",
   "execution_count": 7,
   "metadata": {
    "collapsed": false
   },
   "outputs": [
    {
     "data": {
      "text/plain": [
       "(140, 40, 54, 66)"
      ]
     },
     "execution_count": 7,
     "metadata": {},
     "output_type": "execute_result"
    }
   ],
   "source": [
    "saline40 = plume_40.variables['vosaline']\n",
    "saline40.shape"
   ]
  },
  {
   "cell_type": "code",
   "execution_count": 8,
   "metadata": {
    "collapsed": false
   },
   "outputs": [
    {
     "data": {
      "text/plain": [
       "(140, 40, 54, 66)"
      ]
     },
     "execution_count": 8,
     "metadata": {},
     "output_type": "execute_result"
    }
   ],
   "source": [
    "saline41 = plume_41.variables['vosaline']\n",
    "saline41.shape"
   ]
  },
  {
   "cell_type": "code",
   "execution_count": 9,
   "metadata": {
    "collapsed": false
   },
   "outputs": [
    {
     "data": {
      "text/plain": [
       "array([[-123.21407318, -123.20886993, -123.20366669, -123.19845581,\n",
       "        -123.19325256, -123.18804932],\n",
       "       [-123.21742249, -123.21221924, -123.20700836, -123.20180511,\n",
       "        -123.19660187, -123.19139862],\n",
       "       [-123.22077179, -123.21556091, -123.21035767, -123.20515442,\n",
       "        -123.19995117, -123.1947403 ],\n",
       "       [-123.22411346, -123.21891022, -123.21370697, -123.20850372,\n",
       "        -123.20329285, -123.1980896 ],\n",
       "       [-123.22746277, -123.22225952, -123.21705627, -123.2118454 ,\n",
       "        -123.20664215, -123.2014389 ],\n",
       "       [-123.23081207, -123.22560883, -123.22039795, -123.2151947 ,\n",
       "        -123.20999146, -123.20478821],\n",
       "       [-123.23416138, -123.2289505 , -123.22374725, -123.21854401,\n",
       "        -123.21334076, -123.20813751],\n",
       "       [-123.23750305, -123.2322998 , -123.22709656, -123.22189331,\n",
       "        -123.21669006, -123.21147919],\n",
       "       [-123.24085236, -123.23564911, -123.23044586, -123.22524261,\n",
       "        -123.22003937, -123.21482849],\n",
       "       [-123.24420166, -123.23899841, -123.23379517, -123.22858429,\n",
       "        -123.22338104, -123.2181778 ],\n",
       "       [-123.24755096, -123.24234772, -123.23713684, -123.23193359,\n",
       "        -123.22673035, -123.2215271 ],\n",
       "       [-123.25089264, -123.24568939, -123.24048615, -123.2352829 ,\n",
       "        -123.23007965, -123.2248764 ],\n",
       "       [-123.25424194, -123.2490387 , -123.24383545, -123.2386322 ,\n",
       "        -123.23342896, -123.22822571],\n",
       "       [-123.25759125, -123.252388  , -123.24718475, -123.24198151,\n",
       "        -123.23677826, -123.23157501],\n",
       "       [-123.26094055, -123.2557373 , -123.25053406, -123.24533081,\n",
       "        -123.24012756, -123.23492432],\n",
       "       [-123.26428986, -123.25908661, -123.25388336, -123.24868011,\n",
       "        -123.24347687, -123.23827362],\n",
       "       [-123.26763153, -123.26242828, -123.25722504, -123.25202179,\n",
       "        -123.24681854, -123.2416153 ],\n",
       "       [-123.27098083, -123.26577759, -123.26057434, -123.25537109,\n",
       "        -123.25016785, -123.2449646 ],\n",
       "       [-123.27433014, -123.26912689, -123.26392365, -123.2587204 ,\n",
       "        -123.25351715, -123.2483139 ],\n",
       "       [-123.27767944, -123.2724762 , -123.26727295, -123.2620697 ,\n",
       "        -123.25686646, -123.25166321],\n",
       "       [-123.28102875, -123.2758255 , -123.27062225, -123.26541901,\n",
       "        -123.26021576, -123.25501251],\n",
       "       [-123.28437805, -123.2791748 , -123.27397156, -123.26876831,\n",
       "        -123.26356506, -123.25836182],\n",
       "       [-123.28771973, -123.28252411, -123.27732086, -123.27211761,\n",
       "        -123.26691437, -123.26171112],\n",
       "       [-123.29106903, -123.28586578, -123.28067017, -123.27546692,\n",
       "        -123.27026367, -123.26506042],\n",
       "       [-123.29441833, -123.28921509, -123.28401184, -123.27881622,\n",
       "        -123.27361298, -123.26840973],\n",
       "       [-123.29776764, -123.29256439, -123.28736115, -123.28216553,\n",
       "        -123.27696228, -123.27175903],\n",
       "       [-123.30111694, -123.2959137 , -123.29071045, -123.28551483,\n",
       "        -123.28031158, -123.27510834],\n",
       "       [-123.30446625, -123.299263  , -123.29405975, -123.28885651,\n",
       "        -123.28366089, -123.27845764],\n",
       "       [-123.30781555, -123.3026123 , -123.29740906, -123.29220581,\n",
       "        -123.28701019, -123.28180695],\n",
       "       [-123.31116486, -123.30596161, -123.30075836, -123.29555511,\n",
       "        -123.2903595 , -123.28515625],\n",
       "       [-123.31450653, -123.30931091, -123.30410767, -123.29890442,\n",
       "        -123.2937088 , -123.28850555],\n",
       "       [-123.31785583, -123.31266022, -123.30745697, -123.30225372,\n",
       "        -123.29705811, -123.29185486],\n",
       "       [-123.32120514, -123.31600952, -123.31080627, -123.30560303,\n",
       "        -123.30040741, -123.29520416],\n",
       "       [-123.32455444, -123.31935883, -123.31415558, -123.30895233,\n",
       "        -123.30375671, -123.29855347],\n",
       "       [-123.32790375, -123.3227005 , -123.31750488, -123.31230164,\n",
       "        -123.30710602, -123.30190277],\n",
       "       [-123.33125305, -123.3260498 , -123.32085419, -123.31565094,\n",
       "        -123.31045532, -123.30525208]], dtype=float32)"
      ]
     },
     "execution_count": 9,
     "metadata": {},
     "output_type": "execute_result"
    }
   ],
   "source": [
    "lon33 = plume_33.variables['nav_lon'][:]\n",
    "lon33"
   ]
  },
  {
   "cell_type": "code",
   "execution_count": null,
   "metadata": {
    "collapsed": true
   },
   "outputs": [],
   "source": []
  },
  {
   "cell_type": "code",
   "execution_count": null,
   "metadata": {
    "collapsed": true
   },
   "outputs": [],
   "source": []
  }
 ],
 "metadata": {
  "kernelspec": {
   "display_name": "Python 2",
   "language": "python",
   "name": "python2"
  },
  "language_info": {
   "codemirror_mode": {
    "name": "ipython",
    "version": 2
   },
   "file_extension": ".py",
   "mimetype": "text/x-python",
   "name": "python",
   "nbconvert_exporter": "python",
   "pygments_lexer": "ipython2",
   "version": "2.7.10"
  }
 },
 "nbformat": 4,
 "nbformat_minor": 0
}
