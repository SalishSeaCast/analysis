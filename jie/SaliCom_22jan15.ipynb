{
 "metadata": {
  "name": "",
  "signature": "sha256:06202fe325e64d5113af4ea6f7a8a4b51272960d7166d90c6a54bad256ae4089"
 },
 "nbformat": 3,
 "nbformat_minor": 0,
 "worksheets": [
  {
   "cells": [
    {
     "cell_type": "heading",
     "level": 1,
     "metadata": {},
     "source": [
      "Daily salinity comparsion between NEMO model results and ferry data"
     ]
    },
    {
     "cell_type": "code",
     "collapsed": false,
     "input": [
      "from __future__ import division, print_function\n",
      "from salishsea_tools import (nc_tools,viz_tools,stormtools,tidetools)\n",
      "from datetime import datetime, timedelta\n",
      "from pylab import *\n",
      "from sklearn import linear_model\n",
      "import scipy.io as sio\n",
      "import matplotlib.pyplot as plt\n",
      "import netCDF4 as nc\n",
      "import numpy as np\n",
      "import math\n",
      "import glob\n",
      "import os\n",
      "import datetime"
     ],
     "language": "python",
     "metadata": {},
     "outputs": [],
     "prompt_number": 1
    },
    {
     "cell_type": "code",
     "collapsed": false,
     "input": [
      "%matplotlib inline"
     ],
     "language": "python",
     "metadata": {},
     "outputs": [],
     "prompt_number": 2
    },
    {
     "cell_type": "heading",
     "level": 1,
     "metadata": {},
     "source": [
      "Load ferry salinity and utc time"
     ]
    },
    {
     "cell_type": "code",
     "collapsed": false,
     "input": [
      "saline=sio.loadmat('/ocean/jieliu/research/meopar/autodataupdate/ferrydata/SBE1920150121.mat') ##need to change each time \n",
      "a=saline['ferryData']\n",
      "b=a['data']\n",
      "dataa = b[0,0]\n",
      "time=dataa['matlabtime'][0,0]\n",
      "lonn=dataa['Longitude'][0,0]\n",
      "latt=dataa['Latitude'][0,0]\n",
      "salinity=dataa['Practical_Salinity'][0,0]"
     ],
     "language": "python",
     "metadata": {},
     "outputs": [],
     "prompt_number": 3
    },
    {
     "cell_type": "code",
     "collapsed": false,
     "input": [
      "a=len(time)\n",
      "lon1=np.zeros([a,1])\n",
      "lat1=np.zeros([a,1])\n",
      "salinity1=np.zeros([a,1])\n",
      "for i in np.arange(0,a):\n",
      "    matlab_datenum = np.float(time[i])\n",
      "    python_datetime = datetime.datetime.fromordinal(int(matlab_datenum)) + timedelta(days=matlab_datenum%1) - timedelta(days = 366)\n",
      "    if((python_datetime.year == 2015) & (python_datetime.month == 1) & (python_datetime.day == 22) & (python_datetime.hour >= 2))&(python_datetime.hour <= 3):#need to change\n",
      "        lon1[i]=lonn[i]\n",
      "        lat1[i]=latt[i]\n",
      "        salinity1[i]=salinity[i]"
     ],
     "language": "python",
     "metadata": {},
     "outputs": [],
     "prompt_number": 4
    },
    {
     "cell_type": "code",
     "collapsed": false,
     "input": [
      "mask=lon1[:,0]!=0\n",
      "lon1_2_4=lon1[mask]\n",
      "lat1_2_4=lat1[mask]\n",
      "salinity1_2_4=salinity1[mask]\n",
      "lon11=lon1_2_4[0:-1:50]\n",
      "lat11=lat1_2_4[0:-1:50]\n",
      "salinity11=salinity1_2_4[0:-1:50]"
     ],
     "language": "python",
     "metadata": {},
     "outputs": [],
     "prompt_number": 5
    },
    {
     "cell_type": "code",
     "collapsed": false,
     "input": [
      "def date(year, month, day_start, day_end, period, grid):\n",
      "    \n",
      "    day_range = np.arange(day_start, day_end+1)\n",
      "    day_len = len(day_range)\n",
      "    files_all = [None] * day_len\n",
      "    inds = np.arange(day_len)\n",
      "    \n",
      "    for i, day in zip(inds, day_range):\n",
      "        run_date = datetime.datetime(year,month, day)\n",
      "        results_home = '/data/dlatorne/MEOPAR/SalishSea/nowcast/'\n",
      "        results_dir = os.path.join(results_home, run_date.strftime('%d%b%y').lower())\n",
      "        filename = 'SalishSea_' + period + '_' + run_date.strftime('%Y%m%d').lower() + '_' + run_date.strftime('%Y%m%d').lower() + '_' + grid + '.nc'\n",
      "        file_single = os.path.join(results_dir, filename)\n",
      "        files_all[i] = file_single\n",
      "        \n",
      "    print(files_all)\n",
      "\n",
      "    return(files_all)"
     ],
     "language": "python",
     "metadata": {},
     "outputs": [],
     "prompt_number": 6
    },
    {
     "cell_type": "code",
     "collapsed": false,
     "input": [
      "bathy, X, Y = tidetools.get_SS2_bathy_data()"
     ],
     "language": "python",
     "metadata": {},
     "outputs": [],
     "prompt_number": 7
    },
    {
     "cell_type": "code",
     "collapsed": false,
     "input": [
      "def find_dist_3rd (q):\n",
      "    k=0\n",
      "    values =0\n",
      "    dist = np.zeros(9)\n",
      "    weights = np.zeros(9)\n",
      "    value=np.zeros(9)\n",
      "    regr =linear_model.LinearRegression()\n",
      "    regr.fit(lon11,lat11);\n",
      "    regr.coef_\n",
      "    \n",
      "    [x1, j1] = tidetools.find_closest_model_point(lon11[q],regr.predict(lon11[q]),X,Y,bathy,lon_tol=0.0052,lat_tol=0.00210,allow_land=False)\n",
      "    for i in np.arange(x1-1,x1+2):\n",
      "        for j in np.arange(j1-1,j1+2):\n",
      "            dist[k]=tidetools.haversine(lon11[q],lat11[q],longitude[i,j],latitude[i,j])\n",
      "            weights[k]=1.0/dist[k]\n",
      "            value[k]=saline_nemo_3rd[i,j]*weights[k]\n",
      "            values=values+value[k]\n",
      "            k+=1\n",
      "    return values,weights\n"
     ],
     "language": "python",
     "metadata": {},
     "outputs": [],
     "prompt_number": 8
    },
    {
     "cell_type": "code",
     "collapsed": false,
     "input": [
      "def find_dist_4rd (q):\n",
      "    k=0\n",
      "    valuess=0\n",
      "    dist = np.zeros(9)\n",
      "    weights = np.zeros(9)\n",
      "    value=np.zeros(9)\n",
      "    regr =linear_model.LinearRegression()\n",
      "    regr.fit(lon11,lat11);\n",
      "    regr.coef_\n",
      "\n",
      "    [x1, j1] = tidetools.find_closest_model_point(lon11[q],regr.predict(lon11[q]),X,Y,bathy,lon_tol=0.0052,lat_tol=0.00210,allow_land=False)\n",
      "    for i in np.arange(x1-1,x1+2):\n",
      "        for j in np.arange(j1-1,j1+2):\n",
      "            dist[k]=tidetools.haversine(lon11[q],lat11[q],longitude[i,j],latitude[i,j])\n",
      "            weights[k]=1.0/dist[k]\n",
      "            value[k]=saline_nemo_4rd[i,j]*weights[k]\n",
      "            valuess=valuess+value[k]\n",
      "            k+=1\n",
      "    return valuess,weights"
     ],
     "language": "python",
     "metadata": {},
     "outputs": [],
     "prompt_number": 9
    },
    {
     "cell_type": "code",
     "collapsed": false,
     "input": [
      "def find_dist_5rd (q):\n",
      "    k=0\n",
      "    valuesss=0\n",
      "    dist = np.zeros(9)\n",
      "    weights = np.zeros(9)\n",
      "    value=np.zeros(9)\n",
      "    regr =linear_model.LinearRegression()\n",
      "    regr.fit(lon11,lat11);\n",
      "    regr.coef_\n",
      "\n",
      "    [x1, j1] = tidetools.find_closest_model_point(lon11[q],regr.predict(lon11[q]),X,Y,bathy,lon_tol=0.0052,lat_tol=0.00210,allow_land=False)\n",
      "    for i in np.arange(x1-1,x1+2):\n",
      "        for j in np.arange(j1-1,j1+2):\n",
      "            dist[k]=tidetools.haversine(lon11[q],lat11[q],longitude[i,j],latitude[i,j])\n",
      "            weights[k]=1.0/dist[k]\n",
      "            value[k]=saline_nemo_5rd[i,j]*weights[k]\n",
      "            valuesss=valuesss+value[k]\n",
      "            k+=1\n",
      "    return valuesss,weights"
     ],
     "language": "python",
     "metadata": {},
     "outputs": [],
     "prompt_number": 10
    },
    {
     "cell_type": "heading",
     "level": 1,
     "metadata": {},
     "source": [
      "Select NEMO model daily result"
     ]
    },
    {
     "cell_type": "code",
     "collapsed": false,
     "input": [
      "aa=date(2015,1,22,22,'1h','grid_T') ####need to change for different daily model results\n",
      "tracers=nc.Dataset(aa[0])\n",
      "j=int(aa[0][65:67])\n",
      "jj=int(aa[0][67:69])\n",
      "latitude=tracers.variables['nav_lat'][:] \n",
      "longitude=tracers.variables['nav_lon'][:] \n",
      "saline_nemo = tracers.variables['vosaline']\n",
      "saline_nemo_3rd = saline_nemo[2,0, 0:898, 0:398] #if change cell(4), then this should also change\n",
      "saline_nemo_4rd = saline_nemo[3,0, 0:898, 0:398] \n",
      "saline_nemo_5rd = saline_nemo[4,0, 0:898, 0:398] "
     ],
     "language": "python",
     "metadata": {},
     "outputs": [
      {
       "output_type": "stream",
       "stream": "stdout",
       "text": [
        "['/data/dlatorne/MEOPAR/SalishSea/nowcast/22jan15/SalishSea_1h_20150122_20150122_grid_T.nc']\n"
       ]
      }
     ],
     "prompt_number": 11
    },
    {
     "cell_type": "code",
     "collapsed": false,
     "input": [
      "matrix=np.zeros([15,9])\n",
      "values=np.zeros([15,1])\n",
      "value_mean_3rd_hour=np.zeros([15,1])                      \n",
      "for q in np.arange(0,15):\n",
      "   values[q],matrix[q,:]=find_dist_3rd(q)\n",
      "   value_mean_3rd_hour[q]=values[q]/sum(matrix[q])"
     ],
     "language": "python",
     "metadata": {},
     "outputs": [],
     "prompt_number": 12
    },
    {
     "cell_type": "code",
     "collapsed": false,
     "input": [
      "matrixx=np.zeros([15,9])\n",
      "valuess=np.zeros([15,1])\n",
      "value_mean_4rd_hour=np.zeros([15,1]) \n",
      "                            \n",
      "for q in np.arange(0,15):\n",
      "   valuess[q],matrixx[q,:]=find_dist_4rd(q)\n",
      "   value_mean_4rd_hour[q]=valuess[q]/sum(matrixx[q])"
     ],
     "language": "python",
     "metadata": {},
     "outputs": [],
     "prompt_number": 13
    },
    {
     "cell_type": "code",
     "collapsed": false,
     "input": [
      "matrixxx=np.zeros([15,9])\n",
      "valuesss=np.zeros([15,1])\n",
      "value_mean_5rd_hour=np.zeros([15,1]) \n",
      "                            \n",
      "for q in np.arange(0,15):\n",
      "   valuesss[q],matrixxx[q,:]=find_dist_5rd(q)\n",
      "   value_mean_5rd_hour[q]=valuesss[q]/sum(matrixxx[q])"
     ],
     "language": "python",
     "metadata": {},
     "outputs": [],
     "prompt_number": 14
    },
    {
     "cell_type": "heading",
     "level": 1,
     "metadata": {},
     "source": [
      "Make the plot of comparisons between observation salinity and 2nd hour,3rd hour and 4th hour model results "
     ]
    },
    {
     "cell_type": "code",
     "collapsed": false,
     "input": [
      "fig, ax = plt.subplots(1, 1, figsize=(8, 8))\n",
      "model_salinity_3rd_hour=plt.plot(lon11,value_mean_3rd_hour,'r',label=\"model salinity 2nd hour\" )###sometimes need to change\n",
      "model_salinity_4rd_hour=plt.plot(lon11,value_mean_4rd_hour,'k',label=\"model salinity 3rd hour\" )\n",
      "model_salinity_5rd_hour=plt.plot(lon11,value_mean_5rd_hour,'g',label=\"model salinity 4th hour\" )\n",
      "observation_salinity=plt.plot(lon11,salinity11,'b',label=\"observation salinity\")\n",
      "\n",
      "ax.set_title(str(j)+'_'+str(jj)+'_2-4_surface_salinity_comparison')\n",
      "ax.set_xlabel('Longitude[degrees east]')\n",
      "ax.set_ylabel('Salinity[psu]')\n",
      "ax.legend()\n",
      "locs,labels = xticks()\n",
      "xticks(locs, map(lambda x: \"%g\" % x, locs))\n",
      "plt.annotate('Observations from Ocean Networks Canada', (0.3,-0.1), (0, 10), xycoords='axes fraction', textcoords='offset points', va='top')\n",
      "fig.savefig(str(j)+'_'+str(jj)+'_2-4_surface_salinity_comparison.png')"
     ],
     "language": "python",
     "metadata": {},
     "outputs": [
      {
       "metadata": {},
       "output_type": "pyout",
       "prompt_number": 15,
       "text": [
        "<matplotlib.text.Annotation at 0x7f28cacb9050>"
       ]
      },
      {
       "metadata": {},
       "output_type": "display_data",
       "png": "[encoded data removed]",
       "text": [
        "<matplotlib.figure.Figure at 0x7f28cad77250>"
       ]
      }
     ],
     "prompt_number": 15
    },
    {
     "cell_type": "code",
     "collapsed": false,
     "input": [],
     "language": "python",
     "metadata": {},
     "outputs": []
    }
   ],
   "metadata": {}
  }
 ]
}