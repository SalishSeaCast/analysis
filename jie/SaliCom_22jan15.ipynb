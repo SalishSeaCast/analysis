{
 "metadata": {
  "name": "",
  "signature": "sha256:0f2ffab9be5a951efcb302217bcd441e5f09290203f3127cf8cc57fa96fe8eec"
 },
 "nbformat": 3,
 "nbformat_minor": 0,
 "worksheets": [
  {
   "cells": [
    {
     "cell_type": "code",
     "collapsed": false,
     "input": [
      "from __future__ import division, print_function\n",
      "from scipy.io import loadmat\n",
      "from salishsea_tools import (nc_tools,viz_tools,stormtools,tidetools)\n",
      "from sklearn import linear_model\n",
      "import scipy.io as sio\n",
      "import matplotlib.pyplot as plt\n",
      "import netCDF4 as nc\n",
      "import numpy as np\n",
      "import math\n",
      "import glob\n",
      "import os\n",
      "import datetime"
     ],
     "language": "python",
     "metadata": {},
     "outputs": [],
     "prompt_number": 1
    },
    {
     "cell_type": "code",
     "collapsed": false,
     "input": [
      "%matplotlib inline"
     ],
     "language": "python",
     "metadata": {},
     "outputs": [],
     "prompt_number": 2
    },
    {
     "cell_type": "heading",
     "level": 1,
     "metadata": {},
     "source": [
      "Load ferry salinity and utc time"
     ]
    },
    {
     "cell_type": "code",
     "collapsed": false,
     "input": [
      "saline=sio.loadmat('/ocean/jieliu/research/meopar/autodataupdate/ferrydata/SBE1920150121.mat') #####need to change each time \n",
      "a=saline['ferryData']\n",
      "b=a['data']\n",
      "dataa = b[0,0]\n",
      "lonn=dataa['Longitude'][0,0]\n",
      "latt=dataa['Latitude'][0,0]\n",
      "salinity=dataa['Practical_Salinity'][0,0]\n",
      "time=sio.loadmat('/ocean/jieliu/research/meopar/autodataupdate/ferrydata/timeutc050122.mat') ####need to change each time\n",
      "time.keys()\n",
      "timeutc=time['timevec']"
     ],
     "language": "python",
     "metadata": {},
     "outputs": [],
     "prompt_number": 3
    },
    {
     "cell_type": "code",
     "collapsed": false,
     "input": [
      "def date(year, month, day_start, day_end, period, grid):\n",
      "    \n",
      "    day_range = np.arange(day_start, day_end+1)\n",
      "    day_len = len(day_range)\n",
      "    files_all = [None] * day_len\n",
      "    inds = np.arange(day_len)\n",
      "    \n",
      "    for i, day in zip(inds, day_range):\n",
      "        run_date = datetime.datetime(year,month, day)\n",
      "        results_home = '/data/dlatorne/MEOPAR/SalishSea/nowcast/'\n",
      "        results_dir = os.path.join(results_home, run_date.strftime('%d%b%y').lower())\n",
      "        filename = 'SalishSea_' + period + '_' + run_date.strftime('%Y%m%d').lower() + '_' + run_date.strftime('%Y%m%d').lower() + '_' + grid + '.nc'\n",
      "        file_single = os.path.join(results_dir, filename)\n",
      "        files_all[i] = file_single\n",
      "        \n",
      "    print(files_all)\n",
      "\n",
      "    return(files_all)"
     ],
     "language": "python",
     "metadata": {},
     "outputs": [],
     "prompt_number": 4
    },
    {
     "cell_type": "code",
     "collapsed": false,
     "input": [
      "def get_SS2_bathy_data():\n",
      "    \"\"\"Get the Salish Sea 2 bathymetry and grid data\n",
      "    e.g.  e.g. bathy, X, Y = get_SS2_bathy_data()\n",
      "\n",
      "    .. note::\n",
      "\n",
      "        This function is deprecated due to hard-coding of\n",
      "        :file:`/ocean/klesouef/` path.\n",
      "        Use :py:func:`tidetools.get_bathy_data` instead.\n",
      "\n",
      "    :returns: bathy, X, Y\n",
      "    \"\"\"\n",
      "    grid = nc.Dataset(\n",
      "        '/ocean/klesouef/meopar/nemo-forcing/grid/bathy_meter_SalishSea2.nc',\n",
      "        'r')\n",
      "    bathy = grid.variables['Bathymetry'][:, :]\n",
      "    X = grid.variables['nav_lon'][:, :]\n",
      "    Y = grid.variables['nav_lat'][:, :]\n",
      "    return bathy, X, Y"
     ],
     "language": "python",
     "metadata": {},
     "outputs": [],
     "prompt_number": 5
    },
    {
     "cell_type": "code",
     "collapsed": false,
     "input": [
      "bathy, X, Y = get_SS2_bathy_data()"
     ],
     "language": "python",
     "metadata": {},
     "outputs": [],
     "prompt_number": 6
    },
    {
     "cell_type": "code",
     "collapsed": false,
     "input": [
      "def find_closest_model_point(lon, lat, X, Y, bathy, allow_land=False):\n",
      "    \"\"\"Returns the grid co-ordinates of the closest non-land model point\n",
      "    to a specified lon/lat.\n",
      "\n",
      "    e.g. x1, j1 = find_closest_model_point(-125.5,49.2,X,Y,bathy)\n",
      "    where bathy, X and Y are returned from get_SS_bathy_data().\n",
      "\n",
      "    :arg lon: specified longitude\n",
      "    :type lon: float\n",
      "\n",
      "    :arg lat: specified latitude\n",
      "    :type lat: float\n",
      "\n",
      "    :arg X: specified model longitude\n",
      "    :type X: numpy array\n",
      "\n",
      "    :arg Y: specified model latitude\n",
      "    :type Y: numpy array\n",
      "\n",
      "    :arg bathy: model bathymetry\n",
      "    :type bathy: numpy array\n",
      "\n",
      "    :arg allow_land: whether code should return a land point or closest\n",
      "                     water point\n",
      "    :type allow_land: boolean\n",
      "\n",
      "    :returns: x1, j1\n",
      "    \"\"\"\n",
      "    # Tolerance for searching for grid points\n",
      "    # (approx. distances between adjacent grid points)\n",
      "    tol1 = 0.0052   # lon\n",
      "    tol2 = 0.00210  # lat(previously is 0.00180, which is too narrow for one of the ferry point to find out the nearest model point)\n",
      "    #tol1=0.0104\n",
      "    #tol2=0.00378\n",
      "    \n",
      "\n",
      "    # Search for a grid point with lon/lat within tolerance of\n",
      "    # measured location\n",
      "    x1, y1 = np.where(\n",
      "        np.logical_and(\n",
      "            (np.logical_and(X > lon-tol1, X < lon+tol1)),\n",
      "            (np.logical_and(Y > lat-tol2, Y < lat+tol2))))\n",
      "    if np.size(x1) != 0:\n",
      "        x1 = x1[0]\n",
      "        y1 = y1[0]\n",
      "        # What if more than one point is returned from this search?\n",
      "        # Just take the first one...\n",
      "        #\n",
      "        # If x1,y1 is masked, search 3x3 grid around.\n",
      "        # If all those points are masked, search 4x4 grid around, etc.\n",
      "        for ii in np.arange(1, 100):\n",
      "            if bathy.mask[x1, y1] and not allow_land:\n",
      "                for i in np.arange(x1-ii, x1+ii+1):\n",
      "                    for j in np.arange(y1-ii, y1+ii+1):\n",
      "                        if not bathy.mask[i, j]:\n",
      "                            break\n",
      "                    if not bathy.mask[i, j]:\n",
      "                        break\n",
      "                if not bathy.mask[i, j]:\n",
      "                    break\n",
      "            else:\n",
      "                i = x1\n",
      "                j = y1\n",
      "    else:\n",
      "            i = []\n",
      "            j = []\n",
      "    return i, j"
     ],
     "language": "python",
     "metadata": {},
     "outputs": [],
     "prompt_number": 7
    },
    {
     "cell_type": "code",
     "collapsed": false,
     "input": [
      "def haversine(lon1, lat1, lon2, lat2):\n",
      "    \"\"\"Calculate the distance between two points (from haversine on SO)\n",
      "    e.g. dist = haversine(-125.1, 49.1, -125.12, 49.5)\n",
      "\n",
      "    :arg lon1: longitude of point 1\n",
      "    :type lon1: float\n",
      "\n",
      "    :arg lat1: latitude of point 1\n",
      "    :type lat1: float\n",
      "\n",
      "    :arg lon2: longitude of point 2\n",
      "    :type lon2: float\n",
      "\n",
      "    :arg lat2: latitude of point 2\n",
      "    :type lat2: float\n",
      "\n",
      "    :returns: distance between two points in km\n",
      "    \"\"\"\n",
      "    # convert decimal degrees to radians\n",
      "    lon1, lat1, lon2, lat2 = map(math.radians, [lon1, lat1, lon2, lat2])\n",
      "    # haversine formula\n",
      "    dlon = lon2 - lon1\n",
      "    dlat = lat2 - lat1\n",
      "    a = math.sin(dlat/2)**2 + math.cos(lat1) * math.cos(lat2) * math.sin(dlon/2)**2\n",
      "    c = 2 * math.asin(math.sqrt(a))\n",
      "    km = 6367 * c\n",
      "    return km"
     ],
     "language": "python",
     "metadata": {},
     "outputs": [],
     "prompt_number": 8
    },
    {
     "cell_type": "code",
     "collapsed": false,
     "input": [
      "def find_dist_3rd (q):\n",
      "    k=0\n",
      "    values =0\n",
      "    dist = np.zeros(9)\n",
      "    weights = np.zeros(9)\n",
      "    value=np.zeros(9)\n",
      "    regr =linear_model.LinearRegression()\n",
      "    regr.fit(lon11,lat11);\n",
      "    regr.coef_\n",
      "    \n",
      "    [x1, j1] = find_closest_model_point(lon11[q],regr.predict(lon11[q]),X,Y,bathy)\n",
      "    for i in np.arange(x1-1,x1+2):\n",
      "        for j in np.arange(j1-1,j1+2):\n",
      "            dist[k]=haversine(lon11[q],lat11[q],longitude[i,j],latitude[i,j])\n",
      "            weights[k]=1.0/dist[k]\n",
      "            value[k]=saline_nemo_3rd[i,j]*weights[k]\n",
      "            values=values+value[k]\n",
      "            k+=1\n",
      "    return values,weights\n"
     ],
     "language": "python",
     "metadata": {},
     "outputs": [],
     "prompt_number": 9
    },
    {
     "cell_type": "code",
     "collapsed": false,
     "input": [
      "def find_dist_4rd (q):\n",
      "    k=0\n",
      "    valuess=0\n",
      "    dist = np.zeros(9)\n",
      "    weights = np.zeros(9)\n",
      "    value=np.zeros(9)\n",
      "    regr =linear_model.LinearRegression()\n",
      "    regr.fit(lon11,lat11);\n",
      "    regr.coef_\n",
      "\n",
      "    [x1, j1] = find_closest_model_point(lon11[q],regr.predict(lon11[q]),X,Y,bathy)\n",
      "    for i in np.arange(x1-1,x1+2):\n",
      "        for j in np.arange(j1-1,j1+2):\n",
      "            dist[k]=haversine(lon11[q],lat11[q],longitude[i,j],latitude[i,j])\n",
      "            weights[k]=1.0/dist[k]\n",
      "            value[k]=saline_nemo_4rd[i,j]*weights[k]\n",
      "            valuess=valuess+value[k]\n",
      "            k+=1\n",
      "    return valuess,weights"
     ],
     "language": "python",
     "metadata": {},
     "outputs": [],
     "prompt_number": 10
    },
    {
     "cell_type": "code",
     "collapsed": false,
     "input": [
      "def find_dist_5rd (q):\n",
      "    k=0\n",
      "    valuesss=0\n",
      "    dist = np.zeros(9)\n",
      "    weights = np.zeros(9)\n",
      "    value=np.zeros(9)\n",
      "    regr =linear_model.LinearRegression()\n",
      "    regr.fit(lon11,lat11);\n",
      "    regr.coef_\n",
      "\n",
      "    [x1, j1] = find_closest_model_point(lon11[q],regr.predict(lon11[q]),X,Y,bathy)\n",
      "    for i in np.arange(x1-1,x1+2):\n",
      "        for j in np.arange(j1-1,j1+2):\n",
      "            dist[k]=haversine(lon11[q],lat11[q],longitude[i,j],latitude[i,j])\n",
      "            weights[k]=1.0/dist[k]\n",
      "            value[k]=saline_nemo_5rd[i,j]*weights[k]\n",
      "            valuesss=valuesss+value[k]\n",
      "            k+=1\n",
      "    return valuesss,weights"
     ],
     "language": "python",
     "metadata": {},
     "outputs": [],
     "prompt_number": 11
    },
    {
     "cell_type": "code",
     "collapsed": false,
     "input": [
      "msk=(timeutc[:,0]==2015)&(timeutc[:,1]==1)&(timeutc[:,2]==22)&(timeutc[:,3]>=2)&(timeutc[:,3]<=3)###need to change date &\n",
      "#sometimes need to change time range\n",
      "lon1=lonn[msk] \n",
      "lon11=lon1[0:-1:50]\n",
      "lat1=latt[msk]\n",
      "lat11=lat1[0:-1:50]\n",
      "salinity1=salinity[msk]\n",
      "salinity11=salinity1[0:-1:50]"
     ],
     "language": "python",
     "metadata": {},
     "outputs": [],
     "prompt_number": 12
    },
    {
     "cell_type": "heading",
     "level": 1,
     "metadata": {},
     "source": [
      "Select NEMO model daily result"
     ]
    },
    {
     "cell_type": "code",
     "collapsed": false,
     "input": [
      "aa=date(2015,1,22,22,'1h','grid_T') ####need to change for different daily model results\n",
      "tracers=nc.Dataset(aa[0])\n",
      "j=int(aa[0][65:67])\n",
      "jj=int(aa[0][67:69])\n",
      "latitude=tracers.variables['nav_lat'][:] \n",
      "longitude=tracers.variables['nav_lon'][:] \n",
      "saline_nemo = tracers.variables['vosaline']\n",
      "saline_nemo_3rd = saline_nemo[2,0, 0:898, 0:398] ####if change cell(12), then this should also change\n",
      "saline_nemo_4rd = saline_nemo[3,0, 0:898, 0:398] \n",
      "saline_nemo_5rd = saline_nemo[4,0, 0:898, 0:398] "
     ],
     "language": "python",
     "metadata": {},
     "outputs": [
      {
       "output_type": "stream",
       "stream": "stdout",
       "text": [
        "['/data/dlatorne/MEOPAR/SalishSea/nowcast/22jan15/SalishSea_1h_20150122_20150122_grid_T.nc']\n"
       ]
      }
     ],
     "prompt_number": 13
    },
    {
     "cell_type": "code",
     "collapsed": false,
     "input": [
      "matrix=np.zeros([15,9])\n",
      "values=np.zeros([15,1])\n",
      "value_mean_3rd_hour=np.zeros([15,1])                      \n",
      "for q in np.arange(0,15):\n",
      "   values[q],matrix[q,:]=find_dist_3rd(q)\n",
      "   value_mean_3rd_hour[q]=values[q]/sum(matrix[q])"
     ],
     "language": "python",
     "metadata": {},
     "outputs": [],
     "prompt_number": 14
    },
    {
     "cell_type": "code",
     "collapsed": false,
     "input": [
      "matrixx=np.zeros([15,9])\n",
      "valuess=np.zeros([15,1])\n",
      "value_mean_4rd_hour=np.zeros([15,1]) \n",
      "                            \n",
      "for q in np.arange(0,15):\n",
      "   valuess[q],matrixx[q,:]=find_dist_4rd(q)\n",
      "   value_mean_4rd_hour[q]=valuess[q]/sum(matrixx[q])"
     ],
     "language": "python",
     "metadata": {},
     "outputs": [],
     "prompt_number": 15
    },
    {
     "cell_type": "code",
     "collapsed": false,
     "input": [
      "matrixxx=np.zeros([15,9])\n",
      "valuesss=np.zeros([15,1])\n",
      "value_mean_5rd_hour=np.zeros([15,1]) \n",
      "                            \n",
      "for q in np.arange(0,15):\n",
      "   valuesss[q],matrixxx[q,:]=find_dist_5rd(q)\n",
      "   value_mean_5rd_hour[q]=valuesss[q]/sum(matrixxx[q])"
     ],
     "language": "python",
     "metadata": {},
     "outputs": [],
     "prompt_number": 16
    },
    {
     "cell_type": "heading",
     "level": 1,
     "metadata": {},
     "source": [
      "Make the plot of comparisons between observation salinity and 2nd hour,3rd hour and 4th hour model results "
     ]
    },
    {
     "cell_type": "code",
     "collapsed": false,
     "input": [
      "fig, ax = plt.subplots(1, 1, figsize=(8, 8))\n",
      "model_salinity_3rd_hour=plt.plot(lon11,value_mean_3rd_hour,'r',label=\"model salinity 2nd hour\" )###sometimes need to change\n",
      "model_salinity_4rd_hour=plt.plot(lon11,value_mean_4rd_hour,'k',label=\"model salinity 3rd hour\" )\n",
      "model_salinity_5rd_hour=plt.plot(lon11,value_mean_5rd_hour,'g',label=\"model salinity 4th hour\" )\n",
      "observation_salinity=plt.plot(lon11,salinity11,'b',label=\"observation salinity\")\n",
      "\n",
      "ax.set_title(str(j)+'_'+str(jj)+'_2-4_surface_salinity_comparison')\n",
      "ax.set_xlabel('Longitude[degrees east]')\n",
      "ax.set_ylabel('Salinity[psu]')\n",
      "ax.legend()\n",
      "fig.savefig(str(j)+'_'+str(jj)+'_2-4_surface_salinity_comparison.png')"
     ],
     "language": "python",
     "metadata": {},
     "outputs": [
      {
       "metadata": {},
       "output_type": "pyout",
       "prompt_number": 17,
       "text": [
        "<matplotlib.legend.Legend at 0x7f7b18c68910>"
       ]
      },
      {
       "metadata": {},
       "output_type": "display_data",
       "png": "[encoded data removed]",
       "text": [
        "<matplotlib.figure.Figure at 0x7f7b18d2aa10>"
       ]
      }
     ],
     "prompt_number": 17
    },
    {
     "cell_type": "code",
     "collapsed": false,
     "input": [],
     "language": "python",
     "metadata": {},
     "outputs": []
    }
   ],
   "metadata": {}
  }
 ]
}