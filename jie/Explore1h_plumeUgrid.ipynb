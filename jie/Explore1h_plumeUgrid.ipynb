{
 "cells": [
  {
   "cell_type": "markdown",
   "metadata": {},
   "source": [
    "# Create grid_U file"
   ]
  },
  {
   "cell_type": "code",
   "execution_count": 1,
   "metadata": {
    "collapsed": true
   },
   "outputs": [],
   "source": [
    "from matplotlib import pylab\n",
    "import matplotlib.pyplot as plt\n",
    "import netCDF4 as nc\n",
    "import numpy as np\n",
    "from mpl_toolkits.mplot3d import Axes3D\n",
    "from salishsea_tools import tidetools\n",
    "from salishsea_tools import (nc_tools,viz_tools)\n",
    "import matplotlib.cm as cm\n",
    "from matplotlib import animation\n",
    "from numpy import *\n",
    "from pylab import *\n",
    "%matplotlib inline"
   ]
  },
  {
   "cell_type": "code",
   "execution_count": 2,
   "metadata": {
    "collapsed": true
   },
   "outputs": [],
   "source": [
    "## for grid_U\n",
    "plume_33u = nc.Dataset('/data/jieliu/MEOPAR/river-treatment/14nor_NW/1h_Plume_U_0033.nc')\n",
    "plume_34u = nc.Dataset('/data/jieliu/MEOPAR/river-treatment/14nor_NW/1h_Plume_U_0034.nc')\n",
    "plume_35u = nc.Dataset('/data/jieliu/MEOPAR/river-treatment/14nor_NW/1h_Plume_U_0035.nc')\n",
    "plume_39u = nc.Dataset('/data/jieliu/MEOPAR/river-treatment/14nor_NW/1h_Plume_U_0039.nc')\n",
    "plume_40u = nc.Dataset('/data/jieliu/MEOPAR/river-treatment/14nor_NW/1h_Plume_U_0040.nc')\n",
    "plume_41u = nc.Dataset('/data/jieliu/MEOPAR/river-treatment/14nor_NW/1h_Plume_U_0041.nc')\n",
    "plume_45u = nc.Dataset('/data/jieliu/MEOPAR/river-treatment/14nor_NW/1h_Plume_U_0045.nc')\n",
    "plume_46u = nc.Dataset('/data/jieliu/MEOPAR/river-treatment/14nor_NW/1h_Plume_U_0046.nc')\n",
    "plume_47u = nc.Dataset('/data/jieliu/MEOPAR/river-treatment/14nor_NW/1h_Plume_U_0047.nc')\n",
    "plume_51u = nc.Dataset('/data/jieliu/MEOPAR/river-treatment/14nor_NW/1h_Plume_U_0051.nc')\n",
    "plume_52u = nc.Dataset('/data/jieliu/MEOPAR/river-treatment/14nor_NW/1h_Plume_U_0052.nc')\n",
    "plume_53u = nc.Dataset('/data/jieliu/MEOPAR/river-treatment/14nor_NW/1h_Plume_U_0053.nc')"
   ]
  },
  {
   "cell_type": "code",
   "execution_count": 3,
   "metadata": {
    "collapsed": false
   },
   "outputs": [
    {
     "name": "stdout",
     "output_type": "stream",
     "text": [
      "[u'nav_lon', u'nav_lat', u'depthu', u'time_counter', u'time_counter_bnds', u'vozocrtx', u'u_wind_stress']\n"
     ]
    }
   ],
   "source": [
    "nc_tools.show_variables(plume_33u)"
   ]
  },
  {
   "cell_type": "code",
   "execution_count": 4,
   "metadata": {
    "collapsed": false
   },
   "outputs": [],
   "source": [
    "depthsu = plume_33u.variables['depthu']\n",
    "timeu = plume_33u.variables['time_counter']"
   ]
  },
  {
   "cell_type": "code",
   "execution_count": 5,
   "metadata": {
    "collapsed": true
   },
   "outputs": [],
   "source": [
    "## for longitude \n",
    "lon33u= plume_33u.variables['nav_lon']\n",
    "lon34u= plume_34u.variables['nav_lon']\n",
    "lon35u= plume_35u.variables['nav_lon']\n",
    "lon39u= plume_39u.variables['nav_lon']\n",
    "lon40u= plume_40u.variables['nav_lon']\n",
    "lon41u= plume_41u.variables['nav_lon']\n",
    "lon45u= plume_45u.variables['nav_lon']\n",
    "lon46u= plume_46u.variables['nav_lon']\n",
    "lon47u= plume_47u.variables['nav_lon']\n",
    "lon51u= plume_51u.variables['nav_lon']\n",
    "lon52u= plume_52u.variables['nav_lon']\n",
    "lon53u= plume_53u.variables['nav_lon']"
   ]
  },
  {
   "cell_type": "code",
   "execution_count": 6,
   "metadata": {
    "collapsed": true
   },
   "outputs": [],
   "source": [
    "## for latitude\n",
    "lat33u= plume_33u.variables['nav_lat']\n",
    "lat34u= plume_34u.variables['nav_lat']\n",
    "lat35u= plume_35u.variables['nav_lat']\n",
    "lat39u= plume_39u.variables['nav_lat']\n",
    "lat40u= plume_40u.variables['nav_lat']\n",
    "lat41u= plume_41u.variables['nav_lat']\n",
    "lat45u= plume_45u.variables['nav_lat']\n",
    "lat46u= plume_46u.variables['nav_lat']\n",
    "lat47u= plume_47u.variables['nav_lat']\n",
    "lat51u= plume_51u.variables['nav_lat']\n",
    "lat52u= plume_52u.variables['nav_lat']\n",
    "lat53u= plume_53u.variables['nav_lat']"
   ]
  },
  {
   "cell_type": "code",
   "execution_count": 7,
   "metadata": {
    "collapsed": true
   },
   "outputs": [],
   "source": [
    "## for u velocity\n",
    "u33 = plume_33u.variables['vozocrtx']\n",
    "u34 = plume_34u.variables['vozocrtx']\n",
    "u35 = plume_35u.variables['vozocrtx']\n",
    "u39 = plume_39u.variables['vozocrtx']\n",
    "u40 = plume_40u.variables['vozocrtx']\n",
    "u41 = plume_41u.variables['vozocrtx']\n",
    "u45 = plume_45u.variables['vozocrtx']\n",
    "u46 = plume_46u.variables['vozocrtx']\n",
    "u47 = plume_47u.variables['vozocrtx']\n",
    "u51 = plume_51u.variables['vozocrtx']\n",
    "u52 = plume_52u.variables['vozocrtx']\n",
    "u53 = plume_53u.variables['vozocrtx']"
   ]
  },
  {
   "cell_type": "code",
   "execution_count": 8,
   "metadata": {
    "collapsed": true
   },
   "outputs": [],
   "source": [
    "## try to combine longitude and latitude in grid_U\n",
    "lonu = np.zeros([170, 138])\n",
    "latu = np.zeros([170, 138])\n",
    "## This is the edge for lon:\n",
    "lonu[0:36, 0:6] = lon33u[:,:]\n",
    "lonu[36:100, 0:6] = lon39u[:,:]\n",
    "lonu[100:164, 0:6] = lon45u[:,:]\n",
    "lonu[164:170, 0:6] = lon51u[:,:]\n",
    "## This is the edge for lat:\n",
    "latu[0:36, 0:6] = lat33u[:,:]\n",
    "latu[36:100, 0:6] = lat39u[:,:]\n",
    "latu[100:164, 0:6] = lat45u[:,:]\n",
    "latu[164:170, 0:6] = lat51u[:,:]"
   ]
  },
  {
   "cell_type": "code",
   "execution_count": 9,
   "metadata": {
    "collapsed": true
   },
   "outputs": [],
   "source": [
    "## try to combine U velocity in grid_U\n",
    "u = np.zeros([336, 40, 170, 138])\n",
    "## This is the edge for u:\n",
    "u[:,:, 0:36, 0:6] =u33[:,:,:,:]\n",
    "u[:,:, 36:100, 0:6] = u39[:,:,:,:]\n",
    "u[:,:, 100:164, 0:6 ] =u45[:,:,:,:]\n",
    "u[:,:, 164:170, 0:6] = u51[:,:,:,:]"
   ]
  },
  {
   "cell_type": "code",
   "execution_count": 10,
   "metadata": {
    "collapsed": false
   },
   "outputs": [
    {
     "name": "stdout",
     "output_type": "stream",
     "text": [
      "0\n",
      "1\n",
      "2\n",
      "3\n",
      "4\n",
      "5\n",
      "6\n",
      "7\n",
      "8\n",
      "9\n",
      "10\n",
      "11\n",
      "12\n",
      "13\n",
      "14\n",
      "15\n",
      "16\n",
      "17\n",
      "18\n",
      "19\n",
      "20\n",
      "21\n",
      "22\n",
      "23\n",
      "24\n",
      "25\n",
      "26\n",
      "27\n",
      "28\n",
      "29\n",
      "30\n",
      "31\n",
      "32\n",
      "33\n",
      "34\n",
      "35\n",
      "0\n",
      "1\n",
      "2\n",
      "3\n",
      "4\n",
      "5\n",
      "6\n",
      "7\n",
      "8\n",
      "9\n",
      "10\n",
      "11\n",
      "12\n",
      "13\n",
      "14\n",
      "15\n",
      "16\n",
      "17\n",
      "18\n",
      "19\n",
      "20\n",
      "21\n",
      "22\n",
      "23\n",
      "24\n",
      "25\n",
      "26\n",
      "27\n",
      "28\n",
      "29\n",
      "30\n",
      "31\n",
      "32\n",
      "33\n",
      "34\n",
      "35\n",
      "0\n",
      "1\n",
      "2\n",
      "3\n",
      "4\n",
      "5\n",
      "6\n",
      "7\n",
      "8\n",
      "9\n",
      "10\n",
      "11\n",
      "12\n",
      "13\n",
      "14\n",
      "15\n",
      "16\n",
      "17\n",
      "18\n",
      "19\n",
      "20\n",
      "21\n",
      "22\n",
      "23\n",
      "24\n",
      "25\n",
      "26\n",
      "27\n",
      "28\n",
      "29\n",
      "30\n",
      "31\n",
      "32\n",
      "33\n",
      "34\n",
      "35\n",
      "36\n",
      "37\n",
      "38\n",
      "39\n",
      "40\n",
      "41\n",
      "42\n",
      "43\n",
      "44\n",
      "45\n",
      "46\n",
      "47\n",
      "48\n",
      "49\n",
      "50\n",
      "51\n",
      "52\n",
      "53\n",
      "54\n",
      "55\n",
      "56\n",
      "57\n",
      "58\n",
      "59\n",
      "60\n",
      "61\n",
      "62\n",
      "63\n",
      "0\n",
      "1\n",
      "2\n",
      "3\n",
      "4\n",
      "5\n",
      "6\n",
      "7\n",
      "8\n",
      "9\n",
      "10\n",
      "11\n",
      "12\n",
      "13\n",
      "14\n",
      "15\n",
      "16\n",
      "17\n",
      "18\n",
      "19\n",
      "20\n",
      "21\n",
      "22\n",
      "23\n",
      "24\n",
      "25\n",
      "26\n",
      "27\n",
      "28\n",
      "29\n",
      "30\n",
      "31\n",
      "32\n",
      "33\n",
      "34\n",
      "35\n",
      "36\n",
      "37\n",
      "38\n",
      "39\n",
      "40\n",
      "41\n",
      "42\n",
      "43\n",
      "44\n",
      "45\n",
      "46\n",
      "47\n",
      "48\n",
      "49\n",
      "50\n",
      "51\n",
      "52\n",
      "53\n",
      "54\n",
      "55\n",
      "56\n",
      "57\n",
      "58\n",
      "59\n",
      "60\n",
      "61\n",
      "62\n",
      "63\n",
      "0\n",
      "1\n",
      "2\n",
      "3\n",
      "4\n",
      "5\n",
      "6\n",
      "7\n",
      "8\n",
      "9\n",
      "10\n",
      "11\n",
      "12\n",
      "13\n",
      "14\n",
      "15\n",
      "16\n",
      "17\n",
      "18\n",
      "19\n",
      "20\n",
      "21\n",
      "22\n",
      "23\n",
      "24\n",
      "25\n",
      "26\n",
      "27\n",
      "28\n",
      "29\n",
      "30\n",
      "31\n",
      "32\n",
      "33\n",
      "34\n",
      "35\n",
      "36\n",
      "37\n",
      "38\n",
      "39\n",
      "40\n",
      "41\n",
      "42\n",
      "43\n",
      "44\n",
      "45\n",
      "46\n",
      "47\n",
      "48\n",
      "49\n",
      "50\n",
      "51\n",
      "52\n",
      "53\n",
      "54\n",
      "55\n",
      "56\n",
      "57\n",
      "58\n",
      "59\n",
      "60\n",
      "61\n",
      "62\n",
      "63\n",
      "0\n",
      "1\n",
      "2\n",
      "3\n",
      "4\n",
      "5\n",
      "6\n",
      "7\n",
      "8\n",
      "9\n",
      "10\n",
      "11\n",
      "12\n",
      "13\n",
      "14\n",
      "15\n",
      "16\n",
      "17\n",
      "18\n",
      "19\n",
      "20\n",
      "21\n",
      "22\n",
      "23\n",
      "24\n",
      "25\n",
      "26\n",
      "27\n",
      "28\n",
      "29\n",
      "30\n",
      "31\n",
      "32\n",
      "33\n",
      "34\n",
      "35\n",
      "36\n",
      "37\n",
      "38\n",
      "39\n",
      "40\n",
      "41\n",
      "42\n",
      "43\n",
      "44\n",
      "45\n",
      "46\n",
      "47\n",
      "48\n",
      "49\n",
      "50\n",
      "51\n",
      "52\n",
      "53\n",
      "54\n",
      "55\n",
      "56\n",
      "57\n",
      "58\n",
      "59\n",
      "60\n",
      "61\n",
      "62\n",
      "63\n",
      "0\n",
      "1\n",
      "2\n",
      "3\n",
      "4\n",
      "5\n",
      "0\n",
      "1\n",
      "2\n",
      "3\n",
      "4\n",
      "5\n"
     ]
    }
   ],
   "source": [
    "## u & lon & lat combination\n",
    "for j in np.arange(36):\n",
    "    for i in np.arange(66):\n",
    "        u[:,:,j, 6+i] = u34[:,:,j,i]\n",
    "        lonu[j, 6+i] = lon34u[j,i]\n",
    "        latu[j, 6+i] = lat34u[j,i]\n",
    "    print (j)\n",
    "        \n",
    "for j in np.arange(36):\n",
    "    for i in np.arange(66):\n",
    "        u[:,:,j,72+i] = u35[:,:,j,i]\n",
    "        lonu[j, 72+i] = lon35u[j,i]\n",
    "        latu[j, 72+i] = lat35u[j,i]\n",
    "    print (j)\n",
    "    \n",
    "for j in np.arange(64):\n",
    "    for i in np.arange(66):\n",
    "        u[:,:, 36+j, 6+i] = u40[:,:,j,i]\n",
    "        lonu[36+j, 6+i] = lon40u[j,i]\n",
    "        latu[36+j, 6+i] = lat40u[j,i]\n",
    "    print (j) \n",
    "    \n",
    "for j in np.arange(64):\n",
    "    for i in np.arange(66):\n",
    "        u[:,:, 36+j, 72+i] = u41[:,:,j,i]\n",
    "        lonu[36+j, 72+i] = lon41u[j,i]\n",
    "        latu[36+j, 72+i] = lat41u[j,i]\n",
    "    print (j) \n",
    "    \n",
    "for j in np.arange(64):\n",
    "    for i in np.arange(66):\n",
    "        u[:,:,100 +j, 6+i] = u46[:,:,j,i]\n",
    "        lonu[100+j, 6+i] = lon46u[j,i]\n",
    "        latu[100+j, 6+i] = lat46u[j,i]\n",
    "    print (j) \n",
    "    \n",
    "for j in np.arange(64):\n",
    "    for i in np.arange(66):\n",
    "        u[:,:,100 +j, 72+i] = u47[:,:,j,i]\n",
    "        lonu[100+j, 72+i] = lon47u[j,i]\n",
    "        latu[100+j, 72+i] = lat47u[j,i]\n",
    "    print (j)\n",
    "    \n",
    "for j in np.arange(6):\n",
    "    for i in np.arange(66):\n",
    "        u[:,:,164 +j, 6+i] = u52[:,:,j,i]\n",
    "        lonu[164+j, 6+i] = lon52u[j,i]\n",
    "        latu[164+j, 6+i] = lat52u[j,i]\n",
    "    print (j) \n",
    "    \n",
    "for j in np.arange(6):\n",
    "    for i in np.arange(66):\n",
    "        u[:,:,164 +j, 72+i] = u53[:,:,j,i]\n",
    "        lonu[164+j, 72+i] = lon53u[j,i]\n",
    "        latu[164+j, 72+i] = lat53u[j,i]\n",
    "    print (j)    "
   ]
  },
  {
   "cell_type": "code",
   "execution_count": 12,
   "metadata": {
    "collapsed": false
   },
   "outputs": [
    {
     "data": {
      "text/plain": [
       "<matplotlib.colorbar.Colorbar instance at 0x7f624a3185f0>"
      ]
     },
     "execution_count": 12,
     "metadata": {},
     "output_type": "execute_result"
    },
    {
     "data": {
      "image/png": "[encoded data removed]",
      "text/plain": [
       "<matplotlib.figure.Figure at 0x7f624a4a1b90>"
      ]
     },
     "metadata": {},
     "output_type": "display_data"
    }
   ],
   "source": [
    "## u plot\n",
    "plt.pcolormesh(u[0,0, :,:])\n",
    "plt.colorbar()"
   ]
  },
  {
   "cell_type": "code",
   "execution_count": 14,
   "metadata": {
    "collapsed": false
   },
   "outputs": [],
   "source": [
    "## other parameters\n",
    "depths = plume_33u.variables['depthu']\n",
    "time = plume_33u.variables['time_counter']\n",
    "time_counterbnds = plume_33u.variables['time_counter_bnds']"
   ]
  },
  {
   "cell_type": "code",
   "execution_count": 20,
   "metadata": {
    "collapsed": false
   },
   "outputs": [
    {
     "name": "stdout",
     "output_type": "stream",
     "text": [
      "<type 'netCDF4.Dimension'>: name = 'y', size = 170\n",
      "\n",
      "<type 'netCDF4.Dimension'>: name = 'x', size = 138\n",
      "\n",
      "<type 'netCDF4.Dimension'>: name = 'depthu', size = 40\n",
      "\n",
      "<type 'netCDF4.Dimension'>: name = 'time_counter', size = 336\n",
      "\n",
      "<type 'netCDF4.Dimension'>: name = 'tbnds', size = 2\n",
      "\n"
     ]
    }
   ],
   "source": [
    "# build grid_U nc file\n",
    "grid_U = nc.Dataset('1hplume06160629gridU.nc', 'w')\n",
    "#nc_tools.init_dataset_attrs(\n",
    "    #grid_U, \n",
    "    #title='Salinity Temperature Initial Conditions based on Nowcast June 14, 2015 for extended Fraser river channel', \n",
    "    #notebook_name='Explore1h_plumeFileStructure', \n",
    "    #nc_filepath='/data/jieliu/MEOPAR/river-treatment/14nor_NW/1h_plume_06160629_grid_T.nc')\n",
    "    #comment='Combined grid_T file with extended Fraser bathymetry from June 16, to 29')\n",
    "grid_U.createDimension('y', 170)\n",
    "grid_U.createDimension('x', 138)\n",
    "grid_U.createDimension('depthu',size = len(depths))\n",
    "grid_U.createDimension('time_counter', size = len(time))\n",
    "grid_U.createDimension('tbnds', size = 2)\n",
    "nc_tools.show_dimensions(grid_U)\n",
    "# show variables\n",
    "nav_lat = grid_U.createVariable('nav_lat', 'float32', ('y','x'))\n",
    "nav_lat.long_name = 'Latitude'\n",
    "nav_lat.units = 'degrees_north'\n",
    "nav_lat[:] = latu\n",
    "nav_lon = grid_U.createVariable('nav_lon', 'float32', ('y','x'))\n",
    "nav_lon.long_name = 'Longitude'\n",
    "nav_lon.units = 'degrees_east'\n",
    "nav_lon[:] = lonu\n",
    "depthu = grid_U.createVariable('depthu', 'float32', ('depthu'), zlib=True)\n",
    "#depths = foo.createVariable('Bathymetry', float, ('y', 'x'), zlib=True, least_significant_digit=1, fill_value=0)\n",
    "\n",
    "depthu.long_name = 'Depth'\n",
    "depthu.coordinates = 'depthU'\n",
    "depthu.units = 'm'\n",
    "depthu.positive = 'down'\n",
    "depthu.valid_range = np.array((4., 428.))##minimum depth 4m\n",
    "depthu[:] = depths\n",
    "\n",
    "time_counter = grid_U.createVariable('time_counter', 'float64', ('time_counter'))\n",
    "time_counter.units = 'seconds since 2015-06-15 0:00:00'\n",
    "time_counter.long_name = 'Time axis'\n",
    "time_counter.time_origin = ' 2015-JUN-15 00:00:00'\n",
    "#time.coordinates = 'time_counter'\n",
    "time_counter[:] = time\n",
    "\n",
    "time_counter_bnds = grid_U.createVariable('time_counter_bnds', 'float64', \n",
    "                                          ('time_counter', 'tbnds'))\n",
    "#time_counter.units = 'seconds since 2015-06-16 0:00:00'\n",
    "#time_counter.long_name = 'Time axis'\n",
    "#time.coordinates = 'time_counter'\n",
    "time_counter_bnds[:] = time_counterbnds\n",
    "\n",
    "vozocrtx = grid_U.createVariable('vozocrtx', 'float32', \n",
    "                               ('time_counter','depthu','y','x'))\n",
    "vozocrtx.units = 'm/s'\n",
    "vozocrtx.long_name = 'ocean current along i-axis'  \n",
    "vozocrtx.coordinates = 'nav_lon nav_lat depthu time_counter'\n",
    "vozocrtx.grid = 'SalishSea6, extended and deepen Fraser'\n",
    "vozocrtx[:] = u\n",
    "\n",
    "grid_U.history = \"\"\"[2015-06-16] Created\"\"\""
   ]
  },
  {
   "cell_type": "code",
   "execution_count": 21,
   "metadata": {
    "collapsed": true
   },
   "outputs": [],
   "source": [
    "grid_U.close()"
   ]
  },
  {
   "cell_type": "code",
   "execution_count": 22,
   "metadata": {
    "collapsed": false
   },
   "outputs": [
    {
     "name": "stdout",
     "output_type": "stream",
     "text": [
      "[u'nav_lat', u'nav_lon', u'depthu', u'time_counter', u'time_counter_bnds', u'vozocrtx']\n"
     ]
    }
   ],
   "source": [
    "a= nc.Dataset('1hplume06160629gridU.nc')\n",
    "nc_tools.show_variables(a)"
   ]
  },
  {
   "cell_type": "code",
   "execution_count": 24,
   "metadata": {
    "collapsed": false
   },
   "outputs": [
    {
     "data": {
      "text/plain": [
       "48.895023"
      ]
     },
     "execution_count": 24,
     "metadata": {},
     "output_type": "execute_result"
    }
   ],
   "source": [
    "llat = a.variables['nav_lat']\n",
    "llat[30,23]"
   ]
  },
  {
   "cell_type": "code",
   "execution_count": 25,
   "metadata": {
    "collapsed": false
   },
   "outputs": [
    {
     "data": {
      "text/plain": [
       "4.5000706"
      ]
     },
     "execution_count": 25,
     "metadata": {},
     "output_type": "execute_result"
    }
   ],
   "source": [
    "ddept = a.variables['depthu']\n",
    "ddept[4]"
   ]
  },
  {
   "cell_type": "code",
   "execution_count": 26,
   "metadata": {
    "collapsed": false
   },
   "outputs": [
    {
     "data": {
      "text/plain": [
       "99000.0"
      ]
     },
     "execution_count": 26,
     "metadata": {},
     "output_type": "execute_result"
    }
   ],
   "source": [
    "tc = a.variables['time_counter']\n",
    "tc[3]"
   ]
  },
  {
   "cell_type": "code",
   "execution_count": 27,
   "metadata": {
    "collapsed": false
   },
   "outputs": [
    {
     "data": {
      "text/plain": [
       "0.12026661"
      ]
     },
     "execution_count": 27,
     "metadata": {},
     "output_type": "execute_result"
    }
   ],
   "source": [
    "uuu = a.variables['vozocrtx']\n",
    "uuu[3,4,5,6]"
   ]
  },
  {
   "cell_type": "code",
   "execution_count": null,
   "metadata": {
    "collapsed": true
   },
   "outputs": [],
   "source": []
  }
 ],
 "metadata": {
  "kernelspec": {
   "display_name": "Python 2",
   "language": "python",
   "name": "python2"
  },
  "language_info": {
   "codemirror_mode": {
    "name": "ipython",
    "version": 2
   },
   "file_extension": ".py",
   "mimetype": "text/x-python",
   "name": "python",
   "nbconvert_exporter": "python",
   "pygments_lexer": "ipython2",
   "version": "2.7.10"
  }
 },
 "nbformat": 4,
 "nbformat_minor": 0
}
