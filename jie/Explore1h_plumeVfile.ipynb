{
 "cells": [
  {
   "cell_type": "markdown",
   "metadata": {},
   "source": [
    "# Create grid_V file"
   ]
  },
  {
   "cell_type": "code",
   "execution_count": 1,
   "metadata": {
    "collapsed": true
   },
   "outputs": [],
   "source": [
    "from matplotlib import pylab\n",
    "import matplotlib.pyplot as plt\n",
    "import netCDF4 as nc\n",
    "import numpy as np\n",
    "from mpl_toolkits.mplot3d import Axes3D\n",
    "from salishsea_tools import tidetools\n",
    "from salishsea_tools import (nc_tools,viz_tools)\n",
    "import matplotlib.cm as cm\n",
    "from matplotlib import animation\n",
    "from numpy import *\n",
    "from pylab import *\n",
    "%matplotlib inline"
   ]
  },
  {
   "cell_type": "code",
   "execution_count": 2,
   "metadata": {
    "collapsed": true
   },
   "outputs": [],
   "source": [
    "## for grid_V\n",
    "plume_33v = nc.Dataset('/data/jieliu/MEOPAR/river-treatment/14nor_NW/1h_Plume_V_0033.nc')\n",
    "plume_34v = nc.Dataset('/data/jieliu/MEOPAR/river-treatment/14nor_NW/1h_Plume_V_0034.nc')\n",
    "plume_35v = nc.Dataset('/data/jieliu/MEOPAR/river-treatment/14nor_NW/1h_Plume_V_0035.nc')\n",
    "plume_39v = nc.Dataset('/data/jieliu/MEOPAR/river-treatment/14nor_NW/1h_Plume_V_0039.nc')\n",
    "plume_40v = nc.Dataset('/data/jieliu/MEOPAR/river-treatment/14nor_NW/1h_Plume_V_0040.nc')\n",
    "plume_41v = nc.Dataset('/data/jieliu/MEOPAR/river-treatment/14nor_NW/1h_Plume_V_0041.nc')\n",
    "plume_45v = nc.Dataset('/data/jieliu/MEOPAR/river-treatment/14nor_NW/1h_Plume_V_0045.nc')\n",
    "plume_46v = nc.Dataset('/data/jieliu/MEOPAR/river-treatment/14nor_NW/1h_Plume_V_0046.nc')\n",
    "plume_47v = nc.Dataset('/data/jieliu/MEOPAR/river-treatment/14nor_NW/1h_Plume_V_0047.nc')\n",
    "plume_51v = nc.Dataset('/data/jieliu/MEOPAR/river-treatment/14nor_NW/1h_Plume_V_0051.nc')\n",
    "plume_52v = nc.Dataset('/data/jieliu/MEOPAR/river-treatment/14nor_NW/1h_Plume_V_0052.nc')\n",
    "plume_53v = nc.Dataset('/data/jieliu/MEOPAR/river-treatment/14nor_NW/1h_Plume_V_0053.nc')"
   ]
  },
  {
   "cell_type": "code",
   "execution_count": 3,
   "metadata": {
    "collapsed": false
   },
   "outputs": [
    {
     "name": "stdout",
     "output_type": "stream",
     "text": [
      "[u'nav_lon', u'nav_lat', u'depthv', u'time_counter', u'time_counter_bnds', u'vomecrty', u'v_wind_stress']\n"
     ]
    }
   ],
   "source": [
    "nc_tools.show_variables(plume_33v)"
   ]
  },
  {
   "cell_type": "code",
   "execution_count": 5,
   "metadata": {
    "collapsed": true
   },
   "outputs": [],
   "source": [
    "depths = plume_33v.variables['depthv']\n",
    "time = plume_33v.variables['time_counter']\n",
    "time_counterbnds = plume_33v.variables['time_counter_bnds']"
   ]
  },
  {
   "cell_type": "code",
   "execution_count": 6,
   "metadata": {
    "collapsed": true
   },
   "outputs": [],
   "source": [
    "## for longitude \n",
    "lon33v= plume_33v.variables['nav_lon']\n",
    "lon34v= plume_34v.variables['nav_lon']\n",
    "lon35v= plume_35v.variables['nav_lon']\n",
    "lon39v= plume_39v.variables['nav_lon']\n",
    "lon40v= plume_40v.variables['nav_lon']\n",
    "lon41v= plume_41v.variables['nav_lon']\n",
    "lon45v= plume_45v.variables['nav_lon']\n",
    "lon46v= plume_46v.variables['nav_lon']\n",
    "lon47v= plume_47v.variables['nav_lon']\n",
    "lon51v= plume_51v.variables['nav_lon']\n",
    "lon52v= plume_52v.variables['nav_lon']\n",
    "lon53v= plume_53v.variables['nav_lon']"
   ]
  },
  {
   "cell_type": "code",
   "execution_count": 7,
   "metadata": {
    "collapsed": true
   },
   "outputs": [],
   "source": [
    "## for latitude\n",
    "lat33v= plume_33v.variables['nav_lat']\n",
    "lat34v= plume_34v.variables['nav_lat']\n",
    "lat35v= plume_35v.variables['nav_lat']\n",
    "lat39v= plume_39v.variables['nav_lat']\n",
    "lat40v= plume_40v.variables['nav_lat']\n",
    "lat41v= plume_41v.variables['nav_lat']\n",
    "lat45v= plume_45v.variables['nav_lat']\n",
    "lat46v= plume_46v.variables['nav_lat']\n",
    "lat47v= plume_47v.variables['nav_lat']\n",
    "lat51v= plume_51v.variables['nav_lat']\n",
    "lat52v= plume_52v.variables['nav_lat']\n",
    "lat53v= plume_53v.variables['nav_lat']"
   ]
  },
  {
   "cell_type": "code",
   "execution_count": 8,
   "metadata": {
    "collapsed": true
   },
   "outputs": [],
   "source": [
    "## for v velocity\n",
    "v33 = plume_33v.variables['vomecrty']\n",
    "v34 = plume_34v.variables['vomecrty']\n",
    "v35 = plume_35v.variables['vomecrty']\n",
    "v39 = plume_39v.variables['vomecrty']\n",
    "v40 = plume_40v.variables['vomecrty']\n",
    "v41 = plume_41v.variables['vomecrty']\n",
    "v45 = plume_45v.variables['vomecrty']\n",
    "v46 = plume_46v.variables['vomecrty']\n",
    "v47 = plume_47v.variables['vomecrty']\n",
    "v51 = plume_51v.variables['vomecrty']\n",
    "v52 = plume_52v.variables['vomecrty']\n",
    "v53 = plume_53v.variables['vomecrty']"
   ]
  },
  {
   "cell_type": "code",
   "execution_count": 9,
   "metadata": {
    "collapsed": true
   },
   "outputs": [],
   "source": [
    "## try to combine longitude and latitude in grid_V\n",
    "lonv = np.zeros([170, 138])\n",
    "latv = np.zeros([170, 138])\n",
    "## This is the edge for lon:\n",
    "lonv[0:36, 0:6] = lon33v[:,:]\n",
    "lonv[36:100, 0:6] = lon39v[:,:]\n",
    "lonv[100:164, 0:6] = lon45v[:,:]\n",
    "lonv[164:170, 0:6] = lon51v[:,:]\n",
    "## This is the edge for lat:\n",
    "latv[0:36, 0:6] = lat33v[:,:]\n",
    "latv[36:100, 0:6] = lat39v[:,:]\n",
    "latv[100:164, 0:6] = lat45v[:,:]\n",
    "latv[164:170, 0:6] = lat51v[:,:]"
   ]
  },
  {
   "cell_type": "code",
   "execution_count": 10,
   "metadata": {
    "collapsed": true
   },
   "outputs": [],
   "source": [
    "## try to combine V velocity in grid_V\n",
    "v = np.zeros([336, 40, 170, 138])\n",
    "## This is the edge for v:\n",
    "v[:,:, 0:36, 0:6] =v33[:,:,:,:]\n",
    "v[:,:, 36:100, 0:6] = v39[:,:,:,:]\n",
    "v[:,:, 100:164, 0:6 ] =v45[:,:,:,:]\n",
    "v[:,:, 164:170, 0:6] = v51[:,:,:,:]"
   ]
  },
  {
   "cell_type": "code",
   "execution_count": 13,
   "metadata": {
    "collapsed": false
   },
   "outputs": [
    {
     "name": "stdout",
     "output_type": "stream",
     "text": [
      "0\n",
      "1\n",
      "2\n",
      "3\n",
      "4\n",
      "5\n",
      "6\n",
      "7\n",
      "8\n",
      "9\n",
      "10\n",
      "11\n",
      "12\n",
      "13\n",
      "14\n",
      "15\n",
      "16\n",
      "17\n",
      "18\n",
      "19\n",
      "20\n",
      "21\n",
      "22\n",
      "23\n",
      "24\n",
      "25\n",
      "26\n",
      "27\n",
      "28\n",
      "29\n",
      "30\n",
      "31\n",
      "32\n",
      "33\n",
      "34\n",
      "35\n",
      "0\n",
      "1\n",
      "2\n",
      "3\n",
      "4\n",
      "5\n",
      "6\n",
      "7\n",
      "8\n",
      "9\n",
      "10\n",
      "11\n",
      "12\n",
      "13\n",
      "14\n",
      "15\n",
      "16\n",
      "17\n",
      "18\n",
      "19\n",
      "20\n",
      "21\n",
      "22\n",
      "23\n",
      "24\n",
      "25\n",
      "26\n",
      "27\n",
      "28\n",
      "29\n",
      "30\n",
      "31\n",
      "32\n",
      "33\n",
      "34\n",
      "35\n",
      "0\n",
      "1\n",
      "2\n",
      "3\n",
      "4\n",
      "5\n",
      "6\n",
      "7\n",
      "8\n",
      "9\n",
      "10\n",
      "11\n",
      "12\n",
      "13\n",
      "14\n",
      "15\n",
      "16\n",
      "17\n",
      "18\n",
      "19\n",
      "20\n",
      "21\n",
      "22\n",
      "23\n",
      "24\n",
      "25\n",
      "26\n",
      "27\n",
      "28\n",
      "29\n",
      "30\n",
      "31\n",
      "32\n",
      "33\n",
      "34\n",
      "35\n",
      "36\n",
      "37\n",
      "38\n",
      "39\n",
      "40\n",
      "41\n",
      "42\n",
      "43\n",
      "44\n",
      "45\n",
      "46\n",
      "47\n",
      "48\n",
      "49\n",
      "50\n",
      "51\n",
      "52\n",
      "53\n",
      "54\n",
      "55\n",
      "56\n",
      "57\n",
      "58\n",
      "59\n",
      "60\n",
      "61\n",
      "62\n",
      "63\n",
      "0\n",
      "1\n",
      "2\n",
      "3\n",
      "4\n",
      "5\n",
      "6\n",
      "7\n",
      "8\n",
      "9\n",
      "10\n",
      "11\n",
      "12\n",
      "13\n",
      "14\n",
      "15\n",
      "16\n",
      "17\n",
      "18\n",
      "19\n",
      "20\n",
      "21\n",
      "22\n",
      "23\n",
      "24\n",
      "25\n",
      "26\n",
      "27\n",
      "28\n",
      "29\n",
      "30\n",
      "31\n",
      "32\n",
      "33\n",
      "34\n",
      "35\n",
      "36\n",
      "37\n",
      "38\n",
      "39\n",
      "40\n",
      "41\n",
      "42\n",
      "43\n",
      "44\n",
      "45\n",
      "46\n",
      "47\n",
      "48\n",
      "49\n",
      "50\n",
      "51\n",
      "52\n",
      "53\n",
      "54\n",
      "55\n",
      "56\n",
      "57\n",
      "58\n",
      "59\n",
      "60\n",
      "61\n",
      "62\n",
      "63\n",
      "0\n",
      "1\n",
      "2\n",
      "3\n",
      "4\n",
      "5\n",
      "6\n",
      "7\n",
      "8\n",
      "9\n",
      "10\n",
      "11\n",
      "12\n",
      "13\n",
      "14\n",
      "15\n",
      "16\n",
      "17\n",
      "18\n",
      "19\n",
      "20\n",
      "21\n",
      "22\n",
      "23\n",
      "24\n",
      "25\n",
      "26\n",
      "27\n",
      "28\n",
      "29\n",
      "30\n",
      "31\n",
      "32\n",
      "33\n",
      "34\n",
      "35\n",
      "36\n",
      "37\n",
      "38\n",
      "39\n",
      "40\n",
      "41\n",
      "42\n",
      "43\n",
      "44\n",
      "45\n",
      "46\n",
      "47\n",
      "48\n",
      "49\n",
      "50\n",
      "51\n",
      "52\n",
      "53\n",
      "54\n",
      "55\n",
      "56\n",
      "57\n",
      "58\n",
      "59\n",
      "60\n",
      "61\n",
      "62\n",
      "63\n",
      "0\n",
      "1\n",
      "2\n",
      "3\n",
      "4\n",
      "5\n",
      "6\n",
      "7\n",
      "8\n",
      "9\n",
      "10\n",
      "11\n",
      "12\n",
      "13\n",
      "14\n",
      "15\n",
      "16\n",
      "17\n",
      "18\n",
      "19\n",
      "20\n",
      "21\n",
      "22\n",
      "23\n",
      "24\n",
      "25\n",
      "26\n",
      "27\n",
      "28\n",
      "29\n",
      "30\n",
      "31\n",
      "32\n",
      "33\n",
      "34\n",
      "35\n",
      "36\n",
      "37\n",
      "38\n",
      "39\n",
      "40\n",
      "41\n",
      "42\n",
      "43\n",
      "44\n",
      "45\n",
      "46\n",
      "47\n",
      "48\n",
      "49\n",
      "50\n",
      "51\n",
      "52\n",
      "53\n",
      "54\n",
      "55\n",
      "56\n",
      "57\n",
      "58\n",
      "59\n",
      "60\n",
      "61\n",
      "62\n",
      "63\n",
      "0\n",
      "1\n",
      "2\n",
      "3\n",
      "4\n",
      "5\n",
      "0\n",
      "1\n",
      "2\n",
      "3\n",
      "4\n",
      "5\n"
     ]
    }
   ],
   "source": [
    "## v & lon & lat combination\n",
    "for j in np.arange(36):\n",
    "    for i in np.arange(66):\n",
    "        v[:,:,j, 6+i] = v34[:,:,j,i]\n",
    "        lonv[j, 6+i] = lon34v[j,i]\n",
    "        latv[j, 6+i] = lat34v[j,i]\n",
    "    print (j)\n",
    "        \n",
    "for j in np.arange(36):\n",
    "    for i in np.arange(66):\n",
    "        v[:,:,j,72+i] = v35[:,:,j,i]\n",
    "        lonv[j, 72+i] = lon35v[j,i]\n",
    "        latv[j, 72+i] = lat35v[j,i]\n",
    "    print (j)\n",
    "    \n",
    "for j in np.arange(64):\n",
    "    for i in np.arange(66):\n",
    "        v[:,:, 36+j, 6+i] = v40[:,:,j,i]\n",
    "        lonv[36+j, 6+i] = lon40v[j,i]\n",
    "        latv[36+j, 6+i] = lat40v[j,i]\n",
    "    print (j) \n",
    "    \n",
    "for j in np.arange(64):\n",
    "    for i in np.arange(66):\n",
    "        v[:,:, 36+j, 72+i] = v41[:,:,j,i]\n",
    "        lonv[36+j, 72+i] = lon41v[j,i]\n",
    "        latv[36+j, 72+i] = lat41v[j,i]\n",
    "    print (j) \n",
    "    \n",
    "for j in np.arange(64):\n",
    "    for i in np.arange(66):\n",
    "        v[:,:,100 +j, 6+i] = v46[:,:,j,i]\n",
    "        lonv[100+j, 6+i] = lon46v[j,i]\n",
    "        latv[100+j, 6+i] = lat46v[j,i]\n",
    "    print (j) \n",
    "    \n",
    "for j in np.arange(64):\n",
    "    for i in np.arange(66):\n",
    "        v[:,:,100 +j, 72+i] = v47[:,:,j,i]\n",
    "        lonv[100+j, 72+i] = lon47v[j,i]\n",
    "        latv[100+j, 72+i] = lat47v[j,i]\n",
    "    print (j)\n",
    "    \n",
    "for j in np.arange(6):\n",
    "    for i in np.arange(66):\n",
    "        v[:,:,164 +j, 6+i] = v52[:,:,j,i]\n",
    "        lonv[164+j, 6+i] = lon52v[j,i]\n",
    "        latv[164+j, 6+i] = lat52v[j,i]\n",
    "    print (j) \n",
    "    \n",
    "for j in np.arange(6):\n",
    "    for i in np.arange(66):\n",
    "        v[:,:,164 +j, 72+i] = v53[:,:,j,i]\n",
    "        lonv[164+j, 72+i] = lon53v[j,i]\n",
    "        latv[164+j, 72+i] = lat53v[j,i]\n",
    "    print (j)    "
   ]
  },
  {
   "cell_type": "code",
   "execution_count": 14,
   "metadata": {
    "collapsed": false
   },
   "outputs": [
    {
     "data": {
      "text/plain": [
       "<matplotlib.colorbar.Colorbar instance at 0x7f505c861758>"
      ]
     },
     "execution_count": 14,
     "metadata": {},
     "output_type": "execute_result"
    },
    {
     "data": {
      "image/png": "[encoded data removed]",
      "text/plain": [
       "<matplotlib.figure.Figure at 0x7f511ded74d0>"
      ]
     },
     "metadata": {},
     "output_type": "display_data"
    }
   ],
   "source": [
    "## v plot\n",
    "plt.pcolormesh(v[0,0, :,:])\n",
    "plt.colorbar()"
   ]
  },
  {
   "cell_type": "code",
   "execution_count": 15,
   "metadata": {
    "collapsed": false
   },
   "outputs": [
    {
     "name": "stdout",
     "output_type": "stream",
     "text": [
      "<type 'netCDF4.Dimension'>: name = 'y', size = 170\n",
      "\n",
      "<type 'netCDF4.Dimension'>: name = 'x', size = 138\n",
      "\n",
      "<type 'netCDF4.Dimension'>: name = 'depthv', size = 40\n",
      "\n",
      "<type 'netCDF4.Dimension'>: name = 'time_counter', size = 336\n",
      "\n",
      "<type 'netCDF4.Dimension'>: name = 'tbnds', size = 2\n",
      "\n"
     ]
    }
   ],
   "source": [
    "# build grid_V nc file\n",
    "grid_V = nc.Dataset('1hplume06160629gridV.nc', 'w')\n",
    "#nc_tools.init_dataset_attrs(\n",
    "    #grid_V, \n",
    "    #title='Salinity Temperature Initial Conditions based on Nowcast June 14, 2015 for extended Fraser river channel', \n",
    "    #notebook_name='Explore1h_plumeFileStructure', \n",
    "    #nc_filepath='/data/jieliu/MEOPAR/river-treatment/14nor_NW/1h_plume_06160629_grid_T.nc')\n",
    "    #comment='Combined grid_T file with extended Fraser bathymetry from June 16, to 29')\n",
    "grid_V.createDimension('y', 170)\n",
    "grid_V.createDimension('x', 138)\n",
    "grid_V.createDimension('depthv',size = len(depths))\n",
    "grid_V.createDimension('time_counter', size = len(time))\n",
    "grid_V.createDimension('tbnds', size = 2)\n",
    "nc_tools.show_dimensions(grid_V)\n",
    "# show variables\n",
    "nav_lat = grid_V.createVariable('nav_lat', 'float32', ('y','x'))\n",
    "nav_lat.long_name = 'Latitude'\n",
    "nav_lat.units = 'degrees_north'\n",
    "nav_lat[:] = latv\n",
    "nav_lon = grid_V.createVariable('nav_lon', 'float32', ('y','x'))\n",
    "nav_lon.long_name = 'Longitude'\n",
    "nav_lon.units = 'degrees_east'\n",
    "nav_lon[:] = lonv\n",
    "depthv = grid_V.createVariable('depthv', 'float32', ('depthv'), zlib=True)\n",
    "#depths = foo.createVariable('Bathymetry', float, ('y', 'x'), zlib=True, least_significant_digit=1, fill_value=0)\n",
    "\n",
    "depthv.long_name = 'Depth'\n",
    "depthv.coordinates = 'depthV'\n",
    "depthv.units = 'm'\n",
    "depthv.positive = 'down'\n",
    "depthv.valid_range = np.array((4., 428.))##minimum depth 4m\n",
    "depthv[:] = depths\n",
    "\n",
    "time_counter = grid_V.createVariable('time_counter', 'float64', ('time_counter'))\n",
    "time_counter.units = 'seconds since 2015-06-15 0:00:00'\n",
    "time_counter.long_name = 'Time axis'\n",
    "time_counter.time_origin = ' 2015-JUN-15 00:00:00'\n",
    "#time.coordinates = 'time_counter'\n",
    "time_counter[:] = time\n",
    "\n",
    "time_counter_bnds = grid_V.createVariable('time_counter_bnds', 'float64', \n",
    "                                          ('time_counter', 'tbnds'))\n",
    "#time_counter.units = 'seconds since 2015-06-16 0:00:00'\n",
    "#time_counter.long_name = 'Time axis'\n",
    "#time.coordinates = 'time_counter'\n",
    "time_counter_bnds[:] = time_counterbnds\n",
    "\n",
    "vomecrty = grid_V.createVariable('vomecrty', 'float32', \n",
    "                               ('time_counter','depthv','y','x'))\n",
    "vomecrty.units = 'm/s'\n",
    "vomecrty.long_name = 'ocean current along j-axis'  \n",
    "vomecrty.coordinates = 'nav_lon nav_lat depthv time_counter'\n",
    "vomecrty.grid = 'SalishSea6, extended and deepen Fraser'\n",
    "vomecrty[:] = v\n",
    "\n",
    "grid_V.history = \"\"\"[2015-06-16] Created\"\"\""
   ]
  },
  {
   "cell_type": "code",
   "execution_count": 16,
   "metadata": {
    "collapsed": true
   },
   "outputs": [],
   "source": [
    "grid_V.close()"
   ]
  },
  {
   "cell_type": "code",
   "execution_count": 17,
   "metadata": {
    "collapsed": false
   },
   "outputs": [
    {
     "name": "stdout",
     "output_type": "stream",
     "text": [
      "[u'nav_lat', u'nav_lon', u'depthv', u'time_counter', u'time_counter_bnds', u'vomecrty']\n"
     ]
    }
   ],
   "source": [
    "a= nc.Dataset('1hplume06160629gridV.nc')\n",
    "nc_tools.show_variables(a)"
   ]
  },
  {
   "cell_type": "code",
   "execution_count": 18,
   "metadata": {
    "collapsed": false
   },
   "outputs": [
    {
     "data": {
      "text/plain": [
       "48.896042"
      ]
     },
     "execution_count": 18,
     "metadata": {},
     "output_type": "execute_result"
    }
   ],
   "source": [
    "llat = a.variables['nav_lat']\n",
    "llat[30,23]"
   ]
  },
  {
   "cell_type": "code",
   "execution_count": 20,
   "metadata": {
    "collapsed": false
   },
   "outputs": [
    {
     "data": {
      "text/plain": [
       "4.5000706"
      ]
     },
     "execution_count": 20,
     "metadata": {},
     "output_type": "execute_result"
    }
   ],
   "source": [
    "ddept = a.variables['depthv']\n",
    "ddept[4]"
   ]
  },
  {
   "cell_type": "code",
   "execution_count": 21,
   "metadata": {
    "collapsed": false
   },
   "outputs": [
    {
     "data": {
      "text/plain": [
       "99000.0"
      ]
     },
     "execution_count": 21,
     "metadata": {},
     "output_type": "execute_result"
    }
   ],
   "source": [
    "tc = a.variables['time_counter']\n",
    "tc[3]"
   ]
  },
  {
   "cell_type": "code",
   "execution_count": 22,
   "metadata": {
    "collapsed": false
   },
   "outputs": [
    {
     "data": {
      "text/plain": [
       "-0.23674546"
      ]
     },
     "execution_count": 22,
     "metadata": {},
     "output_type": "execute_result"
    }
   ],
   "source": [
    "vvv = a.variables['vomecrty']\n",
    "vvv[3,4,5,6]"
   ]
  },
  {
   "cell_type": "code",
   "execution_count": null,
   "metadata": {
    "collapsed": true
   },
   "outputs": [],
   "source": []
  }
 ],
 "metadata": {
  "kernelspec": {
   "display_name": "Python 2",
   "language": "python",
   "name": "python2"
  },
  "language_info": {
   "codemirror_mode": {
    "name": "ipython",
    "version": 2
   },
   "file_extension": ".py",
   "mimetype": "text/x-python",
   "name": "python",
   "nbconvert_exporter": "python",
   "pygments_lexer": "ipython2",
   "version": "2.7.10"
  }
 },
 "nbformat": 4,
 "nbformat_minor": 0
}
