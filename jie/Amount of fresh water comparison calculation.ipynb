{
 "metadata": {
  "name": "",
  "signature": "sha256:e942511bb56746b584e759929376420bddeaf6700906493194d327ce3e94a4a2"
 },
 "nbformat": 3,
 "nbformat_minor": 0,
 "worksheets": [
  {
   "cells": [
    {
     "cell_type": "heading",
     "level": 1,
     "metadata": {},
     "source": [
      "Calculate the difference of fresh water run off in surface layer, specify max and min salinity for both obs and mod"
     ]
    },
    {
     "cell_type": "code",
     "collapsed": false,
     "input": [
      "from __future__ import division, print_function\n",
      "from salishsea_tools import (nc_tools,viz_tools,stormtools,tidetools)\n",
      "from datetime import datetime, timedelta\n",
      "from pylab import *\n",
      "from sklearn import linear_model\n",
      "import matplotlib.pyplot as plt\n",
      "import scipy.io as sio\n",
      "import netCDF4 as nc\n",
      "import numpy as np\n",
      "import math\n",
      "import glob\n",
      "import os\n",
      "import datetime"
     ],
     "language": "python",
     "metadata": {},
     "outputs": [],
     "prompt_number": 1
    },
    {
     "cell_type": "code",
     "collapsed": false,
     "input": [
      "%matplotlib inline"
     ],
     "language": "python",
     "metadata": {},
     "outputs": [],
     "prompt_number": 2
    },
    {
     "cell_type": "code",
     "collapsed": false,
     "input": [
      "saline=sio.loadmat('/ocean/jieliu/research/meopar/autodataupdate/ferrydata/SBE1920150202.mat') \n",
      "a=saline['ferryData']\n",
      "b=a['data']\n",
      "dataa = b[0,0]\n",
      "time=dataa['matlabtime'][0,0]\n",
      "lonn=dataa['Longitude'][0,0]\n",
      "latt=dataa['Latitude'][0,0]\n",
      "salinity=dataa['Practical_Salinity'][0,0]"
     ],
     "language": "python",
     "metadata": {},
     "outputs": [],
     "prompt_number": 3
    },
    {
     "cell_type": "code",
     "collapsed": false,
     "input": [
      "a=len(time)\n",
      "lon1=np.zeros([a,1])\n",
      "lat1=np.zeros([a,1])\n",
      "salinity1=np.zeros([a,1])\n",
      "for i in np.arange(0,a):\n",
      "    matlab_datenum = np.float(time[i])\n",
      "    python_datetime = datetime.datetime.fromordinal(int(matlab_datenum)) + timedelta(days=matlab_datenum%1) - timedelta(days = 366)\n",
      "    if((python_datetime.year == 2015) & (python_datetime.month == 2) & (python_datetime.day == 3) & (python_datetime.hour >= 2))&(python_datetime.hour <= 3):\n",
      "        lon1[i]=lonn[i]\n",
      "        lat1[i]=latt[i]\n",
      "        salinity1[i]=salinity[i]"
     ],
     "language": "python",
     "metadata": {},
     "outputs": [],
     "prompt_number": 4
    },
    {
     "cell_type": "code",
     "collapsed": false,
     "input": [
      "mask=lon1[:,0]!=0\n",
      "lon1_2_4=lon1[mask]\n",
      "lat1_2_4=lat1[mask]\n",
      "salinity1_2_4=salinity1[mask]\n",
      "lon11=lon1_2_4[0:-1:50]\n",
      "lat11=lat1_2_4[0:-1:50]\n",
      "salinity11=salinity1_2_4[0:-1:50]"
     ],
     "language": "python",
     "metadata": {},
     "outputs": [],
     "prompt_number": 5
    },
    {
     "cell_type": "code",
     "collapsed": false,
     "input": [
      "max_index=np.nanargmax(salinity1_2_4)\n",
      "min_index=np.nanargmin(salinity1_2_4)\n",
      "max_salinity_obs=salinity1_2_4[max_index]\n",
      "min_salinity_obs=salinity1_2_4[min_index]\n",
      "max_long_obs=lon1_2_4[max_index]\n",
      "min_long_obs=lon1_2_4[min_index]"
     ],
     "language": "python",
     "metadata": {},
     "outputs": [],
     "prompt_number": 6
    },
    {
     "cell_type": "heading",
     "level": 1,
     "metadata": {},
     "source": [
      "For NEMO model results"
     ]
    },
    {
     "cell_type": "code",
     "collapsed": false,
     "input": [
      "def date(year, month, day_start, day_end, period, grid):\n",
      "    \n",
      "    day_range = np.arange(day_start, day_end+1)\n",
      "    day_len = len(day_range)\n",
      "    files_all = [None] * day_len\n",
      "    inds = np.arange(day_len)\n",
      "    \n",
      "    for i, day in zip(inds, day_range):\n",
      "        run_date = datetime.datetime(year,month, day)\n",
      "        results_home = '/data/dlatorne/MEOPAR/SalishSea/nowcast/'\n",
      "        results_dir = os.path.join(results_home, run_date.strftime('%d%b%y').lower())\n",
      "        filename = 'SalishSea_' + period + '_' + run_date.strftime('%Y%m%d').lower() + '_' + run_date.strftime('%Y%m%d').lower() + '_' + grid + '.nc'\n",
      "        file_single = os.path.join(results_dir, filename)\n",
      "        files_all[i] = file_single\n",
      "        \n",
      "    print(files_all)\n",
      "\n",
      "    return(files_all)"
     ],
     "language": "python",
     "metadata": {},
     "outputs": [],
     "prompt_number": 7
    },
    {
     "cell_type": "code",
     "collapsed": false,
     "input": [
      "bathy, X, Y = tidetools.get_SS2_bathy_data()"
     ],
     "language": "python",
     "metadata": {},
     "outputs": [],
     "prompt_number": 8
    },
    {
     "cell_type": "code",
     "collapsed": false,
     "input": [
      "def find_dist_3rd (q):\n",
      "    k=0\n",
      "    values =0\n",
      "    dist = np.zeros(9)\n",
      "    weights = np.zeros(9)\n",
      "    value=np.zeros(9)\n",
      "    regr =linear_model.LinearRegression()\n",
      "    regr.fit(lon11,lat11);\n",
      "    regr.coef_\n",
      "\n",
      "    [x1, j1] = tidetools.find_closest_model_point(lon1_2_4[q],regr.predict(lon1_2_4[q]),X,Y,bathy,lon_tol=0.0052,lat_tol=0.00210,allow_land=False)\n",
      "    for i in np.arange(x1-1,x1+2):\n",
      "        for j in np.arange(j1-1,j1+2):\n",
      "            dist[k]=tidetools.haversine(lon1_2_4[q],lat1_2_4[q],longitude[i,j],latitude[i,j])\n",
      "            weights[k]=1.0/dist[k]\n",
      "            value[k]=saline_nemo_3rd[i,j]*weights[k]\n",
      "            values=values+value[k]\n",
      "            k+=1\n",
      "    return values,weights"
     ],
     "language": "python",
     "metadata": {},
     "outputs": [],
     "prompt_number": 9
    },
    {
     "cell_type": "code",
     "collapsed": false,
     "input": [
      "def find_dist_4rd (q):\n",
      "    k=0\n",
      "    valuess=0\n",
      "    dist = np.zeros(9)\n",
      "    weights = np.zeros(9)\n",
      "    value=np.zeros(9)\n",
      "    regr =linear_model.LinearRegression()\n",
      "    regr.fit(lon11,lat11);\n",
      "    regr.coef_\n",
      "\n",
      "    [x1, j1] = tidetools.find_closest_model_point(lon1_2_4[q],regr.predict(lon1_2_4[q]),X,Y,bathy,lon_tol=0.0052,lat_tol=0.00210,allow_land=False)\n",
      "    for i in np.arange(x1-1,x1+2):\n",
      "        for j in np.arange(j1-1,j1+2):\n",
      "            dist[k]=tidetools.haversine(lon1_2_4[q],lat1_2_4[q],longitude[i,j],latitude[i,j])\n",
      "            weights[k]=1.0/dist[k]\n",
      "            value[k]=saline_nemo_4rd[i,j]*weights[k]\n",
      "            valuess=valuess+value[k]\n",
      "            k+=1\n",
      "    return valuess,weights"
     ],
     "language": "python",
     "metadata": {},
     "outputs": [],
     "prompt_number": 10
    },
    {
     "cell_type": "code",
     "collapsed": false,
     "input": [
      "def find_dist_5rd (q):\n",
      "    k=0\n",
      "    valuesss=0\n",
      "    dist = np.zeros(9)\n",
      "    weights = np.zeros(9)\n",
      "    value=np.zeros(9)\n",
      "    regr =linear_model.LinearRegression()\n",
      "    regr.fit(lon11,lat11);\n",
      "    regr.coef_\n",
      "\n",
      "    [x1, j1] =tidetools.find_closest_model_point(lon1_2_4[q],regr.predict(lon1_2_4[q]),X,Y,bathy,lon_tol=0.0052,lat_tol=0.00210,allow_land=False)\n",
      "    for i in np.arange(x1-1,x1+2):\n",
      "        for j in np.arange(j1-1,j1+2):\n",
      "            dist[k]=tidetools.haversine(lon1_2_4[q],lat1_2_4[q],longitude[i,j],latitude[i,j])\n",
      "            weights[k]=1.0/dist[k]\n",
      "            value[k]=saline_nemo_5rd[i,j]*weights[k]\n",
      "            valuesss=valuesss+value[k]\n",
      "            k+=1\n",
      "    return valuesss,weights"
     ],
     "language": "python",
     "metadata": {},
     "outputs": [],
     "prompt_number": 11
    },
    {
     "cell_type": "code",
     "collapsed": false,
     "input": [
      "aa=date(2015,2,3,3,'1h','grid_T') ####need to change for different daily model results\n",
      "print(len(aa))\n",
      "tracers=nc.Dataset(aa[0])\n",
      "j=int(aa[0][65:67])\n",
      "jj=int(aa[0][67:69])\n",
      "latitude=tracers.variables['nav_lat'][:] \n",
      "longitude=tracers.variables['nav_lon'][:] \n",
      "saline_nemo = tracers.variables['vosaline']\n",
      "saline_nemo_3rd = saline_nemo[2,0, 0:898, 0:398] ####if change cell(12), then this should also change\n",
      "saline_nemo_4rd = saline_nemo[3,0, 0:898, 0:398] \n",
      "saline_nemo_5rd = saline_nemo[4,0, 0:898, 0:398] "
     ],
     "language": "python",
     "metadata": {},
     "outputs": [
      {
       "output_type": "stream",
       "stream": "stdout",
       "text": [
        "['/data/dlatorne/MEOPAR/SalishSea/nowcast/03feb15/SalishSea_1h_20150203_20150203_grid_T.nc']\n",
        "1\n"
       ]
      }
     ],
     "prompt_number": 12
    },
    {
     "cell_type": "code",
     "collapsed": false,
     "input": [
      "matrix=np.zeros([720,9])\n",
      "values=np.zeros([720,1])\n",
      "value_mean_3rd_hour=np.zeros([720,1])                      \n",
      "for q in np.arange(0,720):\n",
      "   values[q],matrix[q,:]=find_dist_3rd(q)\n",
      "   value_mean_3rd_hour[q]=values[q]/sum(matrix[q])"
     ],
     "language": "python",
     "metadata": {},
     "outputs": [],
     "prompt_number": 13
    },
    {
     "cell_type": "code",
     "collapsed": false,
     "input": [
      "max_index=np.nanargmax(value_mean_3rd_hour)\n",
      "min_index=np.nanargmin(value_mean_3rd_hour)\n",
      "max_salinity_mod=salinity1_2_4[max_index]\n",
      "min_salinity_mod=salinity1_2_4[min_index]\n",
      "max_long_mod=lon1_2_4[max_index]\n",
      "min_long_mod=lon1_2_4[min_index]"
     ],
     "language": "python",
     "metadata": {},
     "outputs": [],
     "prompt_number": 14
    },
    {
     "cell_type": "code",
     "collapsed": false,
     "input": [
      "fig, ax = plt.subplots(1,2, figsize=(16, 8),sharey=True)\n",
      "#axes= figure().add_subplot(111)\n",
      "#a=ax.get_xticks().tolist()\n",
      "#ax.set_xticklabels(a)\n",
      "observation_salinity=ax[0].plot(lon1_2_4,salinity1_2_4,'b',label=\"observation salinity\")\n",
      "ax[0].text(max_long_obs,max_salinity_obs,max_salinity_obs[0])\n",
      "ax[0].text(min_long_obs,min_salinity_obs,min_salinity_obs[0])\n",
      "\n",
      "model_salinity_3rd_hour=ax[1].plot(lon1_2_4,value_mean_3rd_hour,'r',label=\"model salinity 2nd hour\")###sometimes need to change\n",
      "ax[1].text(max_long_mod,max_salinity_mod,max_salinity_mod[0])\n",
      "ax[1].text(min_long_mod,min_salinity_mod,min_salinity_mod[0])\n",
      "\n",
      "locs,labels = xticks()\n",
      "xticks(locs, map(lambda x: \"%g\" % x, locs))\n",
      "\n",
      "#ax.set_title(str(j)+'_'+str(jj)+'_2-4_surface_salinity_comparison')\n",
      "ax[0].set_xlabel('Longitude[degrees east]')\n",
      "ax[0].set_ylabel('Practical Salinity')\n",
      "ax[0].legend()\n",
      "ax[1].set_xlabel('Longitude[degrees east]')\n",
      "ax[1].set_ylabel('Practical Salinity')\n",
      "ax[1].legend()"
     ],
     "language": "python",
     "metadata": {},
     "outputs": [
      {
       "metadata": {},
       "output_type": "pyout",
       "prompt_number": 15,
       "text": [
        "<matplotlib.legend.Legend at 0x7f96ed93ae10>"
       ]
      },
      {
       "metadata": {},
       "output_type": "display_data",
       "png": "[encoded data removed]",
       "text": [
        "<matplotlib.figure.Figure at 0x7f96edab9410>"
       ]
      }
     ],
     "prompt_number": 15
    },
    {
     "cell_type": "code",
     "collapsed": false,
     "input": [],
     "language": "python",
     "metadata": {},
     "outputs": []
    }
   ],
   "metadata": {}
  }
 ]
}